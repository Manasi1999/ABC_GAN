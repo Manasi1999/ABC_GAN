{
 "cells": [
  {
   "cell_type": "markdown",
   "id": "d32f4dab",
   "metadata": {
    "papermill": {
     "duration": 0.013087,
     "end_time": "2022-03-02T04:30:30.040182",
     "exception": false,
     "start_time": "2022-03-02T04:30:30.027095",
     "status": "completed"
    },
    "tags": []
   },
   "source": [
    "## Import Libraries "
   ]
  },
  {
   "cell_type": "code",
   "execution_count": 1,
   "id": "1b0bd2f0",
   "metadata": {
    "execution": {
     "iopub.execute_input": "2022-03-02T04:30:30.066599Z",
     "iopub.status.busy": "2022-03-02T04:30:30.065968Z",
     "iopub.status.idle": "2022-03-02T04:30:30.068970Z",
     "shell.execute_reply": "2022-03-02T04:30:30.069421Z"
    },
    "papermill": {
     "duration": 0.020201,
     "end_time": "2022-03-02T04:30:30.069678",
     "exception": false,
     "start_time": "2022-03-02T04:30:30.049477",
     "status": "completed"
    },
    "tags": []
   },
   "outputs": [],
   "source": [
    "import warnings\n",
    "import sys\n",
    "sys.path.insert(0, '../../src')\n",
    "warnings.filterwarnings('ignore')"
   ]
  },
  {
   "cell_type": "code",
   "execution_count": 2,
   "id": "bfc15196",
   "metadata": {
    "execution": {
     "iopub.execute_input": "2022-03-02T04:30:30.083231Z",
     "iopub.status.busy": "2022-03-02T04:30:30.082715Z",
     "iopub.status.idle": "2022-03-02T04:30:31.730581Z",
     "shell.execute_reply": "2022-03-02T04:30:31.730910Z"
    },
    "papermill": {
     "duration": 1.655946,
     "end_time": "2022-03-02T04:30:31.731038",
     "exception": false,
     "start_time": "2022-03-02T04:30:30.075092",
     "status": "completed"
    },
    "tags": []
   },
   "outputs": [],
   "source": [
    "import statsModel\n",
    "import scrapbook as sb \n",
    "import torch \n",
    "import statsModel\n",
    "import baselineModels\n",
    "import californiaDataset\n",
    "import dataset \n",
    "from torch.utils.data import random_split \n",
    "from sklearn.model_selection import train_test_split"
   ]
  },
  {
   "cell_type": "markdown",
   "id": "d8acc1aa",
   "metadata": {
    "papermill": {
     "duration": 0.002889,
     "end_time": "2022-03-02T04:30:31.736993",
     "exception": false,
     "start_time": "2022-03-02T04:30:31.734104",
     "status": "completed"
    },
    "tags": []
   },
   "source": [
    "## Import Dataset \n"
   ]
  },
  {
   "cell_type": "code",
   "execution_count": 3,
   "id": "e9564952",
   "metadata": {
    "execution": {
     "iopub.execute_input": "2022-03-02T04:30:31.746573Z",
     "iopub.status.busy": "2022-03-02T04:30:31.746139Z",
     "iopub.status.idle": "2022-03-02T04:30:31.760036Z",
     "shell.execute_reply": "2022-03-02T04:30:31.760349Z"
    },
    "papermill": {
     "duration": 0.019465,
     "end_time": "2022-03-02T04:30:31.760516",
     "exception": false,
     "start_time": "2022-03-02T04:30:31.741051",
     "status": "completed"
    },
    "tags": []
   },
   "outputs": [
    {
     "name": "stdout",
     "output_type": "stream",
     "text": [
      "       X1    X2        X3        X4      X5        X6     X7      X8      Y\n",
      "0  8.3252  41.0  6.984127  1.023810   322.0  2.555556  37.88 -122.23  4.526\n",
      "1  8.3014  21.0  6.238137  0.971880  2401.0  2.109842  37.86 -122.22  3.585\n",
      "2  7.2574  52.0  8.288136  1.073446   496.0  2.802260  37.85 -122.24  3.521\n",
      "3  5.6431  52.0  5.817352  1.073059   558.0  2.547945  37.85 -122.25  3.413\n",
      "4  3.8462  52.0  6.281853  1.081081   565.0  2.181467  37.85 -122.25  3.422\n"
     ]
    }
   ],
   "source": [
    "n_features = 8\n",
    "n_samples= 20640\n",
    "n_target = 1 \n",
    "X,Y = californiaDataset.california_data()"
   ]
  },
  {
   "cell_type": "code",
   "execution_count": 4,
   "id": "287e0c65",
   "metadata": {
    "execution": {
     "iopub.execute_input": "2022-03-02T04:30:31.769399Z",
     "iopub.status.busy": "2022-03-02T04:30:31.769015Z",
     "iopub.status.idle": "2022-03-02T04:30:31.771057Z",
     "shell.execute_reply": "2022-03-02T04:30:31.771295Z"
    },
    "papermill": {
     "duration": 0.007637,
     "end_time": "2022-03-02T04:30:31.771403",
     "exception": false,
     "start_time": "2022-03-02T04:30:31.763766",
     "status": "completed"
    },
    "tags": []
   },
   "outputs": [],
   "source": [
    "# Train test split for dataset \n",
    "real_dataset = dataset.CustomDataset(X,Y)\n",
    "X_train, X_test, y_train, y_test = train_test_split(X, Y, test_size=0.2)"
   ]
  },
  {
   "cell_type": "markdown",
   "id": "479c5c14",
   "metadata": {
    "papermill": {
     "duration": 0.00295,
     "end_time": "2022-03-02T04:30:31.777438",
     "exception": false,
     "start_time": "2022-03-02T04:30:31.774488",
     "status": "completed"
    },
    "tags": []
   },
   "source": [
    "## Stats Model \n",
    "\n"
   ]
  },
  {
   "cell_type": "code",
   "execution_count": 5,
   "id": "6aff018b",
   "metadata": {
    "execution": {
     "iopub.execute_input": "2022-03-02T04:30:31.785400Z",
     "iopub.status.busy": "2022-03-02T04:30:31.785024Z",
     "iopub.status.idle": "2022-03-02T04:30:31.888979Z",
     "shell.execute_reply": "2022-03-02T04:30:31.889275Z"
    },
    "papermill": {
     "duration": 0.109067,
     "end_time": "2022-03-02T04:30:31.889399",
     "exception": false,
     "start_time": "2022-03-02T04:30:31.780332",
     "status": "completed"
    },
    "tags": []
   },
   "outputs": [
    {
     "name": "stderr",
     "output_type": "stream",
     "text": [
      "No handles with labels found to put in legend.\n"
     ]
    },
    {
     "name": "stdout",
     "output_type": "stream",
     "text": [
      "                                 OLS Regression Results                                \n",
      "=======================================================================================\n",
      "Dep. Variable:                      y   R-squared (uncentered):                   0.612\n",
      "Model:                            OLS   Adj. R-squared (uncentered):              0.612\n",
      "Method:                 Least Squares   F-statistic:                              3250.\n",
      "Date:                Wed, 02 Mar 2022   Prob (F-statistic):                        0.00\n",
      "Time:                        10:00:31   Log-Likelihood:                         -15603.\n",
      "No. Observations:               16512   AIC:                                  3.122e+04\n",
      "Df Residuals:                   16504   BIC:                                  3.128e+04\n",
      "Df Model:                           8                                                  \n",
      "Covariance Type:            nonrobust                                                  \n",
      "==============================================================================\n",
      "                 coef    std err          t      P>|t|      [0.025      0.975]\n",
      "------------------------------------------------------------------------------\n",
      "x1             0.7241      0.008     95.008      0.000       0.709       0.739\n",
      "x2             0.1074      0.005     19.919      0.000       0.097       0.118\n",
      "x3            -0.2288      0.014    -16.480      0.000      -0.256      -0.202\n",
      "x4             0.2615      0.013     20.688      0.000       0.237       0.286\n",
      "x5            -0.0001      0.005     -0.024      0.981      -0.010       0.010\n",
      "x6            -0.0318      0.004     -7.278      0.000      -0.040      -0.023\n",
      "x7            -0.7776      0.015    -52.662      0.000      -0.807      -0.749\n",
      "x8            -0.7545      0.015    -52.027      0.000      -0.783      -0.726\n",
      "==============================================================================\n",
      "Omnibus:                     3546.945   Durbin-Watson:                   1.999\n",
      "Prob(Omnibus):                  0.000   Jarque-Bera (JB):            10998.868\n",
      "Skew:                           1.102   Prob(JB):                         0.00\n",
      "Kurtosis:                       6.336   Cond. No.                         6.79\n",
      "==============================================================================\n",
      "\n",
      "Notes:\n",
      "[1] R² is computed without centering (uncentered) since the model does not contain a constant.\n",
      "[2] Standard Errors assume that the covariance matrix of the errors is correctly specified.\n"
     ]
    },
    {
     "data": {
      "image/png": "[encoded data removed]",
      "text/plain": [
       "<Figure size 432x288 with 1 Axes>"
      ]
     },
     "metadata": {
      "needs_background": "light"
     },
     "output_type": "display_data"
    },
    {
     "name": "stdout",
     "output_type": "stream",
     "text": [
      "Performance Metrics\n",
      "Mean Squared Error: 0.4190684609883137\n",
      "Mean Absolute Error: 0.4736367035075131\n",
      "Manhattan distance: 1955.1723120790095\n",
      "Euclidean distance: 41.59224214874402\n"
     ]
    },
    {
     "data": {
      "application/scrapbook.scrap.json+json": {
       "data": 0.4190684609883137,
       "encoder": "json",
       "name": "Stats Model MSE",
       "version": 1
      }
     },
     "metadata": {
      "scrapbook": {
       "data": true,
       "display": false,
       "name": "Stats Model MSE"
      }
     },
     "output_type": "display_data"
    },
    {
     "data": {
      "application/scrapbook.scrap.json+json": {
       "data": 0.4736367035075131,
       "encoder": "json",
       "name": "Stats Model MAE",
       "version": 1
      }
     },
     "metadata": {
      "scrapbook": {
       "data": true,
       "display": false,
       "name": "Stats Model MAE"
      }
     },
     "output_type": "display_data"
    },
    {
     "data": {
      "application/scrapbook.scrap.json+json": {
       "data": 1955.1723120790095,
       "encoder": "json",
       "name": "Stats Model Manhattan Distance",
       "version": 1
      }
     },
     "metadata": {
      "scrapbook": {
       "data": true,
       "display": false,
       "name": "Stats Model Manhattan Distance"
      }
     },
     "output_type": "display_data"
    },
    {
     "data": {
      "application/scrapbook.scrap.json+json": {
       "data": 41.59224214874402,
       "encoder": "json",
       "name": "Stats Model Euclidean distance",
       "version": 1
      }
     },
     "metadata": {
      "scrapbook": {
       "data": true,
       "display": false,
       "name": "Stats Model Euclidean distance"
      }
     },
     "output_type": "display_data"
    },
    {
     "data": {
      "application/scrapbook.scrap.json+json": {
       "data": [
        0.7241421622382817,
        0.1074428823955354,
        -0.22881914967542713,
        0.26154947624484826,
        -0.0001248309229282289,
        -0.031757014711129725,
        -0.7776430230945247,
        -0.754480633185381
       ],
       "encoder": "json",
       "name": "Coefficients",
       "version": 1
      }
     },
     "metadata": {
      "scrapbook": {
       "data": true,
       "display": false,
       "name": "Coefficients"
      }
     },
     "output_type": "display_data"
    }
   ],
   "source": [
    "coefficients , y_pred =statsModel.statsModel(X_train,y_train,X_test,y_test)\n",
    "#Store MSE Value \n",
    "sb.glue(\"Coefficients\",coefficients)"
   ]
  },
  {
   "cell_type": "markdown",
   "id": "673041ea",
   "metadata": {
    "papermill": {
     "duration": 0.00527,
     "end_time": "2022-03-02T04:30:31.899994",
     "exception": false,
     "start_time": "2022-03-02T04:30:31.894724",
     "status": "completed"
    },
    "tags": []
   },
   "source": [
    "# Catboost Model "
   ]
  },
  {
   "cell_type": "code",
   "execution_count": 6,
   "id": "e180573f",
   "metadata": {
    "execution": {
     "iopub.execute_input": "2022-03-02T04:30:31.946741Z",
     "iopub.status.busy": "2022-03-02T04:30:31.946247Z",
     "iopub.status.idle": "2022-03-02T04:30:34.607006Z",
     "shell.execute_reply": "2022-03-02T04:30:34.607299Z"
    },
    "papermill": {
     "duration": 2.702537,
     "end_time": "2022-03-02T04:30:34.607419",
     "exception": false,
     "start_time": "2022-03-02T04:30:31.904882",
     "status": "completed"
    },
    "tags": []
   },
   "outputs": [
    {
     "name": "stdout",
     "output_type": "stream",
     "text": [
      "Learning rate set to 0.064294\n"
     ]
    },
    {
     "name": "stdout",
     "output_type": "stream",
     "text": [
      "0:\tlearn: 0.9629982\ttotal: 59.2ms\tremaining: 59.1s\n",
      "1:\tlearn: 0.9312035\ttotal: 61.8ms\tremaining: 30.8s\n",
      "2:\tlearn: 0.9008830\ttotal: 65.5ms\tremaining: 21.8s\n",
      "3:\tlearn: 0.8731032\ttotal: 68.6ms\tremaining: 17.1s\n",
      "4:\tlearn: 0.8473586\ttotal: 70.9ms\tremaining: 14.1s\n",
      "5:\tlearn: 0.8236261\ttotal: 73.1ms\tremaining: 12.1s\n",
      "6:\tlearn: 0.8007353\ttotal: 75.9ms\tremaining: 10.8s\n",
      "7:\tlearn: 0.7801401\ttotal: 78.6ms\tremaining: 9.75s\n",
      "8:\tlearn: 0.7626947\ttotal: 81.3ms\tremaining: 8.95s\n",
      "9:\tlearn: 0.7435209\ttotal: 84.2ms\tremaining: 8.34s\n",
      "10:\tlearn: 0.7271151\ttotal: 87.1ms\tremaining: 7.83s\n",
      "11:\tlearn: 0.7116237\ttotal: 90.1ms\tremaining: 7.42s\n",
      "12:\tlearn: 0.6978406\ttotal: 92.3ms\tremaining: 7.01s\n",
      "13:\tlearn: 0.6832830\ttotal: 95.4ms\tremaining: 6.72s\n",
      "14:\tlearn: 0.6723811\ttotal: 97.7ms\tremaining: 6.42s\n",
      "15:\tlearn: 0.6605023\ttotal: 100ms\tremaining: 6.15s\n",
      "16:\tlearn: 0.6509336\ttotal: 102ms\tremaining: 5.92s\n",
      "17:\tlearn: 0.6411203\ttotal: 105ms\tremaining: 5.72s\n",
      "18:\tlearn: 0.6326480\ttotal: 107ms\tremaining: 5.54s\n",
      "19:\tlearn: 0.6226098\ttotal: 110ms\tremaining: 5.38s\n",
      "20:\tlearn: 0.6129686\ttotal: 112ms\tremaining: 5.23s\n",
      "21:\tlearn: 0.6050801\ttotal: 115ms\tremaining: 5.09s\n",
      "22:\tlearn: 0.5973544\ttotal: 117ms\tremaining: 4.99s\n",
      "23:\tlearn: 0.5901386\ttotal: 120ms\tremaining: 4.87s\n",
      "24:\tlearn: 0.5842951\ttotal: 122ms\tremaining: 4.78s\n",
      "25:\tlearn: 0.5785907\ttotal: 125ms\tremaining: 4.69s\n"
     ]
    },
    {
     "name": "stdout",
     "output_type": "stream",
     "text": [
      "26:\tlearn: 0.5720787\ttotal: 128ms\tremaining: 4.61s\n",
      "27:\tlearn: 0.5672693\ttotal: 130ms\tremaining: 4.52s\n",
      "28:\tlearn: 0.5614214\ttotal: 132ms\tremaining: 4.43s\n",
      "29:\tlearn: 0.5563099\ttotal: 135ms\tremaining: 4.37s\n",
      "30:\tlearn: 0.5524106\ttotal: 137ms\tremaining: 4.29s\n",
      "31:\tlearn: 0.5487039\ttotal: 140ms\tremaining: 4.23s\n",
      "32:\tlearn: 0.5451961\ttotal: 143ms\tremaining: 4.18s\n",
      "33:\tlearn: 0.5423285\ttotal: 145ms\tremaining: 4.12s\n",
      "34:\tlearn: 0.5376379\ttotal: 147ms\tremaining: 4.06s\n",
      "35:\tlearn: 0.5349116\ttotal: 150ms\tremaining: 4.01s\n",
      "36:\tlearn: 0.5316025\ttotal: 152ms\tremaining: 3.97s\n",
      "37:\tlearn: 0.5287931\ttotal: 155ms\tremaining: 3.92s\n",
      "38:\tlearn: 0.5243632\ttotal: 158ms\tremaining: 3.88s\n",
      "39:\tlearn: 0.5224683\ttotal: 160ms\tremaining: 3.84s\n",
      "40:\tlearn: 0.5203464\ttotal: 162ms\tremaining: 3.8s\n",
      "41:\tlearn: 0.5181042\ttotal: 165ms\tremaining: 3.76s\n",
      "42:\tlearn: 0.5150167\ttotal: 167ms\tremaining: 3.72s\n",
      "43:\tlearn: 0.5125407\ttotal: 170ms\tremaining: 3.69s\n",
      "44:\tlearn: 0.5108872\ttotal: 172ms\tremaining: 3.65s\n",
      "45:\tlearn: 0.5093374\ttotal: 175ms\tremaining: 3.63s\n",
      "46:\tlearn: 0.5060549\ttotal: 177ms\tremaining: 3.6s\n",
      "47:\tlearn: 0.5045134\ttotal: 180ms\tremaining: 3.57s\n",
      "48:\tlearn: 0.5027425\ttotal: 182ms\tremaining: 3.54s\n",
      "49:\tlearn: 0.5007222\ttotal: 185ms\tremaining: 3.51s\n",
      "50:\tlearn: 0.4992531\ttotal: 187ms\tremaining: 3.48s\n",
      "51:\tlearn: 0.4966002\ttotal: 190ms\tremaining: 3.46s\n",
      "52:\tlearn: 0.4938941\ttotal: 192ms\tremaining: 3.44s\n"
     ]
    },
    {
     "name": "stdout",
     "output_type": "stream",
     "text": [
      "53:\tlearn: 0.4927205\ttotal: 195ms\tremaining: 3.41s\n",
      "54:\tlearn: 0.4899546\ttotal: 197ms\tremaining: 3.39s\n",
      "55:\tlearn: 0.4878899\ttotal: 200ms\tremaining: 3.37s\n",
      "56:\tlearn: 0.4865642\ttotal: 202ms\tremaining: 3.35s\n",
      "57:\tlearn: 0.4856956\ttotal: 205ms\tremaining: 3.33s\n",
      "58:\tlearn: 0.4846982\ttotal: 208ms\tremaining: 3.31s\n",
      "59:\tlearn: 0.4836845\ttotal: 211ms\tremaining: 3.3s\n",
      "60:\tlearn: 0.4818723\ttotal: 213ms\tremaining: 3.28s\n",
      "61:\tlearn: 0.4806608\ttotal: 216ms\tremaining: 3.27s\n",
      "62:\tlearn: 0.4796415\ttotal: 218ms\tremaining: 3.24s\n",
      "63:\tlearn: 0.4787681\ttotal: 221ms\tremaining: 3.23s\n",
      "64:\tlearn: 0.4776615\ttotal: 223ms\tremaining: 3.21s\n",
      "65:\tlearn: 0.4760372\ttotal: 226ms\tremaining: 3.19s\n",
      "66:\tlearn: 0.4748998\ttotal: 228ms\tremaining: 3.17s\n",
      "67:\tlearn: 0.4738239\ttotal: 231ms\tremaining: 3.16s\n",
      "68:\tlearn: 0.4723469\ttotal: 233ms\tremaining: 3.15s\n",
      "69:\tlearn: 0.4714386\ttotal: 236ms\tremaining: 3.13s\n",
      "70:\tlearn: 0.4708743\ttotal: 238ms\tremaining: 3.12s\n",
      "71:\tlearn: 0.4698934\ttotal: 241ms\tremaining: 3.1s\n",
      "72:\tlearn: 0.4690077\ttotal: 243ms\tremaining: 3.08s\n",
      "73:\tlearn: 0.4681118\ttotal: 245ms\tremaining: 3.07s\n",
      "74:\tlearn: 0.4674203\ttotal: 248ms\tremaining: 3.05s\n",
      "75:\tlearn: 0.4664961\ttotal: 250ms\tremaining: 3.04s\n",
      "76:\tlearn: 0.4656192\ttotal: 253ms\tremaining: 3.03s\n"
     ]
    },
    {
     "name": "stdout",
     "output_type": "stream",
     "text": [
      "77:\tlearn: 0.4645963\ttotal: 255ms\tremaining: 3.02s\n",
      "78:\tlearn: 0.4634087\ttotal: 258ms\tremaining: 3.01s\n",
      "79:\tlearn: 0.4626988\ttotal: 261ms\tremaining: 3s\n",
      "80:\tlearn: 0.4616655\ttotal: 263ms\tremaining: 2.99s\n",
      "81:\tlearn: 0.4608507\ttotal: 266ms\tremaining: 2.98s\n",
      "82:\tlearn: 0.4601481\ttotal: 268ms\tremaining: 2.96s\n",
      "83:\tlearn: 0.4591178\ttotal: 271ms\tremaining: 2.95s\n",
      "84:\tlearn: 0.4582432\ttotal: 273ms\tremaining: 2.94s\n",
      "85:\tlearn: 0.4573564\ttotal: 276ms\tremaining: 2.93s\n",
      "86:\tlearn: 0.4565039\ttotal: 278ms\tremaining: 2.92s\n",
      "87:\tlearn: 0.4559030\ttotal: 281ms\tremaining: 2.91s\n",
      "88:\tlearn: 0.4555531\ttotal: 283ms\tremaining: 2.9s\n",
      "89:\tlearn: 0.4552464\ttotal: 286ms\tremaining: 2.89s\n",
      "90:\tlearn: 0.4543855\ttotal: 289ms\tremaining: 2.88s\n",
      "91:\tlearn: 0.4537617\ttotal: 291ms\tremaining: 2.87s\n",
      "92:\tlearn: 0.4531746\ttotal: 294ms\tremaining: 2.86s\n",
      "93:\tlearn: 0.4526512\ttotal: 296ms\tremaining: 2.85s\n",
      "94:\tlearn: 0.4519892\ttotal: 298ms\tremaining: 2.84s\n",
      "95:\tlearn: 0.4510563\ttotal: 301ms\tremaining: 2.83s\n",
      "96:\tlearn: 0.4505024\ttotal: 303ms\tremaining: 2.82s\n",
      "97:\tlearn: 0.4500577\ttotal: 306ms\tremaining: 2.81s\n",
      "98:\tlearn: 0.4495308\ttotal: 308ms\tremaining: 2.81s\n",
      "99:\tlearn: 0.4487901\ttotal: 311ms\tremaining: 2.8s\n",
      "100:\tlearn: 0.4481087\ttotal: 313ms\tremaining: 2.79s\n",
      "101:\tlearn: 0.4477382\ttotal: 316ms\tremaining: 2.78s\n",
      "102:\tlearn: 0.4473929\ttotal: 318ms\tremaining: 2.77s\n",
      "103:\tlearn: 0.4467126\ttotal: 321ms\tremaining: 2.76s\n"
     ]
    },
    {
     "name": "stdout",
     "output_type": "stream",
     "text": [
      "104:\tlearn: 0.4461214\ttotal: 323ms\tremaining: 2.75s\n",
      "105:\tlearn: 0.4457968\ttotal: 326ms\tremaining: 2.75s\n",
      "106:\tlearn: 0.4451443\ttotal: 328ms\tremaining: 2.74s\n",
      "107:\tlearn: 0.4445275\ttotal: 330ms\tremaining: 2.73s\n",
      "108:\tlearn: 0.4437498\ttotal: 333ms\tremaining: 2.72s\n",
      "109:\tlearn: 0.4433547\ttotal: 335ms\tremaining: 2.71s\n",
      "110:\tlearn: 0.4428665\ttotal: 338ms\tremaining: 2.71s\n",
      "111:\tlearn: 0.4423934\ttotal: 340ms\tremaining: 2.7s\n",
      "112:\tlearn: 0.4419515\ttotal: 343ms\tremaining: 2.69s\n",
      "113:\tlearn: 0.4410320\ttotal: 345ms\tremaining: 2.68s\n",
      "114:\tlearn: 0.4405647\ttotal: 347ms\tremaining: 2.67s\n",
      "115:\tlearn: 0.4401012\ttotal: 350ms\tremaining: 2.67s\n",
      "116:\tlearn: 0.4399471\ttotal: 352ms\tremaining: 2.66s\n",
      "117:\tlearn: 0.4396029\ttotal: 355ms\tremaining: 2.65s\n",
      "118:\tlearn: 0.4391092\ttotal: 357ms\tremaining: 2.64s\n",
      "119:\tlearn: 0.4386781\ttotal: 359ms\tremaining: 2.63s\n",
      "120:\tlearn: 0.4381742\ttotal: 362ms\tremaining: 2.63s\n",
      "121:\tlearn: 0.4379088\ttotal: 365ms\tremaining: 2.62s\n",
      "122:\tlearn: 0.4376201\ttotal: 367ms\tremaining: 2.62s\n",
      "123:\tlearn: 0.4366509\ttotal: 370ms\tremaining: 2.61s\n",
      "124:\tlearn: 0.4363507\ttotal: 372ms\tremaining: 2.6s\n",
      "125:\tlearn: 0.4360628\ttotal: 374ms\tremaining: 2.6s\n",
      "126:\tlearn: 0.4354552\ttotal: 377ms\tremaining: 2.59s\n",
      "127:\tlearn: 0.4349852\ttotal: 379ms\tremaining: 2.58s\n",
      "128:\tlearn: 0.4341810\ttotal: 382ms\tremaining: 2.58s\n",
      "129:\tlearn: 0.4338547\ttotal: 384ms\tremaining: 2.57s\n",
      "130:\tlearn: 0.4333971\ttotal: 386ms\tremaining: 2.56s\n",
      "131:\tlearn: 0.4330106\ttotal: 389ms\tremaining: 2.56s\n"
     ]
    },
    {
     "name": "stdout",
     "output_type": "stream",
     "text": [
      "132:\tlearn: 0.4326582\ttotal: 392ms\tremaining: 2.55s\n",
      "133:\tlearn: 0.4319690\ttotal: 394ms\tremaining: 2.54s\n",
      "134:\tlearn: 0.4312771\ttotal: 396ms\tremaining: 2.54s\n",
      "135:\tlearn: 0.4308498\ttotal: 399ms\tremaining: 2.53s\n",
      "136:\tlearn: 0.4302599\ttotal: 401ms\tremaining: 2.53s\n",
      "137:\tlearn: 0.4299016\ttotal: 404ms\tremaining: 2.52s\n",
      "138:\tlearn: 0.4291149\ttotal: 406ms\tremaining: 2.52s\n",
      "139:\tlearn: 0.4288627\ttotal: 409ms\tremaining: 2.51s\n",
      "140:\tlearn: 0.4285800\ttotal: 412ms\tremaining: 2.51s\n",
      "141:\tlearn: 0.4281068\ttotal: 414ms\tremaining: 2.5s\n",
      "142:\tlearn: 0.4275583\ttotal: 416ms\tremaining: 2.5s\n",
      "143:\tlearn: 0.4271131\ttotal: 418ms\tremaining: 2.49s\n",
      "144:\tlearn: 0.4268727\ttotal: 421ms\tremaining: 2.48s\n",
      "145:\tlearn: 0.4258380\ttotal: 423ms\tremaining: 2.48s\n",
      "146:\tlearn: 0.4255479\ttotal: 426ms\tremaining: 2.47s\n",
      "147:\tlearn: 0.4252163\ttotal: 429ms\tremaining: 2.47s\n",
      "148:\tlearn: 0.4248997\ttotal: 431ms\tremaining: 2.46s\n",
      "149:\tlearn: 0.4244901\ttotal: 433ms\tremaining: 2.45s\n",
      "150:\tlearn: 0.4242279\ttotal: 436ms\tremaining: 2.45s\n",
      "151:\tlearn: 0.4238599\ttotal: 438ms\tremaining: 2.44s\n",
      "152:\tlearn: 0.4233161\ttotal: 441ms\tremaining: 2.44s\n",
      "153:\tlearn: 0.4228771\ttotal: 444ms\tremaining: 2.44s\n",
      "154:\tlearn: 0.4225085\ttotal: 446ms\tremaining: 2.43s\n",
      "155:\tlearn: 0.4222459\ttotal: 449ms\tremaining: 2.43s\n"
     ]
    },
    {
     "name": "stdout",
     "output_type": "stream",
     "text": [
      "156:\tlearn: 0.4215113\ttotal: 452ms\tremaining: 2.42s\n",
      "157:\tlearn: 0.4211393\ttotal: 454ms\tremaining: 2.42s\n",
      "158:\tlearn: 0.4205745\ttotal: 456ms\tremaining: 2.41s\n",
      "159:\tlearn: 0.4200401\ttotal: 459ms\tremaining: 2.41s\n",
      "160:\tlearn: 0.4196990\ttotal: 461ms\tremaining: 2.4s\n",
      "161:\tlearn: 0.4192538\ttotal: 464ms\tremaining: 2.4s\n",
      "162:\tlearn: 0.4188228\ttotal: 466ms\tremaining: 2.39s\n",
      "163:\tlearn: 0.4186024\ttotal: 468ms\tremaining: 2.39s\n",
      "164:\tlearn: 0.4181970\ttotal: 470ms\tremaining: 2.38s\n",
      "165:\tlearn: 0.4178765\ttotal: 473ms\tremaining: 2.38s\n",
      "166:\tlearn: 0.4170407\ttotal: 475ms\tremaining: 2.37s\n",
      "167:\tlearn: 0.4164716\ttotal: 478ms\tremaining: 2.37s\n",
      "168:\tlearn: 0.4161481\ttotal: 480ms\tremaining: 2.36s\n",
      "169:\tlearn: 0.4156721\ttotal: 483ms\tremaining: 2.36s\n",
      "170:\tlearn: 0.4151228\ttotal: 485ms\tremaining: 2.35s\n",
      "171:\tlearn: 0.4147152\ttotal: 487ms\tremaining: 2.35s\n",
      "172:\tlearn: 0.4144898\ttotal: 490ms\tremaining: 2.34s\n",
      "173:\tlearn: 0.4141120\ttotal: 492ms\tremaining: 2.33s\n",
      "174:\tlearn: 0.4137482\ttotal: 495ms\tremaining: 2.33s\n",
      "175:\tlearn: 0.4133106\ttotal: 497ms\tremaining: 2.33s\n",
      "176:\tlearn: 0.4128906\ttotal: 500ms\tremaining: 2.32s\n",
      "177:\tlearn: 0.4124709\ttotal: 502ms\tremaining: 2.32s\n",
      "178:\tlearn: 0.4121632\ttotal: 504ms\tremaining: 2.31s\n",
      "179:\tlearn: 0.4117879\ttotal: 507ms\tremaining: 2.31s\n",
      "180:\tlearn: 0.4112582\ttotal: 510ms\tremaining: 2.31s\n",
      "181:\tlearn: 0.4109159\ttotal: 512ms\tremaining: 2.3s\n",
      "182:\tlearn: 0.4104464\ttotal: 514ms\tremaining: 2.3s\n",
      "183:\tlearn: 0.4101050\ttotal: 517ms\tremaining: 2.29s\n"
     ]
    },
    {
     "name": "stdout",
     "output_type": "stream",
     "text": [
      "184:\tlearn: 0.4097193\ttotal: 520ms\tremaining: 2.29s\n",
      "185:\tlearn: 0.4094334\ttotal: 522ms\tremaining: 2.29s\n",
      "186:\tlearn: 0.4090929\ttotal: 525ms\tremaining: 2.28s\n",
      "187:\tlearn: 0.4087602\ttotal: 527ms\tremaining: 2.28s\n",
      "188:\tlearn: 0.4084518\ttotal: 530ms\tremaining: 2.27s\n",
      "189:\tlearn: 0.4081233\ttotal: 532ms\tremaining: 2.27s\n",
      "190:\tlearn: 0.4073251\ttotal: 535ms\tremaining: 2.27s\n",
      "191:\tlearn: 0.4070336\ttotal: 537ms\tremaining: 2.26s\n",
      "192:\tlearn: 0.4066409\ttotal: 540ms\tremaining: 2.26s\n",
      "193:\tlearn: 0.4062730\ttotal: 542ms\tremaining: 2.25s\n",
      "194:\tlearn: 0.4060141\ttotal: 545ms\tremaining: 2.25s\n",
      "195:\tlearn: 0.4058090\ttotal: 547ms\tremaining: 2.25s\n",
      "196:\tlearn: 0.4055973\ttotal: 549ms\tremaining: 2.24s\n",
      "197:\tlearn: 0.4052562\ttotal: 552ms\tremaining: 2.23s\n",
      "198:\tlearn: 0.4049310\ttotal: 554ms\tremaining: 2.23s\n",
      "199:\tlearn: 0.4046466\ttotal: 556ms\tremaining: 2.23s\n",
      "200:\tlearn: 0.4038362\ttotal: 559ms\tremaining: 2.22s\n",
      "201:\tlearn: 0.4033848\ttotal: 561ms\tremaining: 2.22s\n",
      "202:\tlearn: 0.4029893\ttotal: 564ms\tremaining: 2.21s\n",
      "203:\tlearn: 0.4027619\ttotal: 566ms\tremaining: 2.21s\n",
      "204:\tlearn: 0.4024856\ttotal: 568ms\tremaining: 2.2s\n",
      "205:\tlearn: 0.4021691\ttotal: 571ms\tremaining: 2.2s\n",
      "206:\tlearn: 0.4019052\ttotal: 573ms\tremaining: 2.19s\n",
      "207:\tlearn: 0.4015639\ttotal: 575ms\tremaining: 2.19s\n",
      "208:\tlearn: 0.4012446\ttotal: 578ms\tremaining: 2.19s\n",
      "209:\tlearn: 0.4008802\ttotal: 580ms\tremaining: 2.18s\n",
      "210:\tlearn: 0.4007279\ttotal: 582ms\tremaining: 2.18s\n",
      "211:\tlearn: 0.4002969\ttotal: 585ms\tremaining: 2.17s\n"
     ]
    },
    {
     "name": "stdout",
     "output_type": "stream",
     "text": [
      "212:\tlearn: 0.3998638\ttotal: 587ms\tremaining: 2.17s\n",
      "213:\tlearn: 0.3996296\ttotal: 590ms\tremaining: 2.17s\n",
      "214:\tlearn: 0.3993001\ttotal: 593ms\tremaining: 2.16s\n",
      "215:\tlearn: 0.3988855\ttotal: 595ms\tremaining: 2.16s\n",
      "216:\tlearn: 0.3982005\ttotal: 598ms\tremaining: 2.16s\n",
      "217:\tlearn: 0.3979465\ttotal: 600ms\tremaining: 2.15s\n",
      "218:\tlearn: 0.3976579\ttotal: 602ms\tremaining: 2.15s\n",
      "219:\tlearn: 0.3973410\ttotal: 605ms\tremaining: 2.14s\n",
      "220:\tlearn: 0.3971034\ttotal: 607ms\tremaining: 2.14s\n",
      "221:\tlearn: 0.3968842\ttotal: 610ms\tremaining: 2.14s\n",
      "222:\tlearn: 0.3964702\ttotal: 612ms\tremaining: 2.13s\n",
      "223:\tlearn: 0.3961869\ttotal: 615ms\tremaining: 2.13s\n",
      "224:\tlearn: 0.3958807\ttotal: 617ms\tremaining: 2.13s\n",
      "225:\tlearn: 0.3956039\ttotal: 620ms\tremaining: 2.12s\n",
      "226:\tlearn: 0.3953586\ttotal: 622ms\tremaining: 2.12s\n",
      "227:\tlearn: 0.3950311\ttotal: 625ms\tremaining: 2.12s\n",
      "228:\tlearn: 0.3947858\ttotal: 627ms\tremaining: 2.11s\n",
      "229:\tlearn: 0.3944057\ttotal: 630ms\tremaining: 2.11s\n",
      "230:\tlearn: 0.3940747\ttotal: 632ms\tremaining: 2.1s\n",
      "231:\tlearn: 0.3938410\ttotal: 635ms\tremaining: 2.1s\n",
      "232:\tlearn: 0.3936433\ttotal: 637ms\tremaining: 2.1s\n",
      "233:\tlearn: 0.3933214\ttotal: 639ms\tremaining: 2.09s\n",
      "234:\tlearn: 0.3929509\ttotal: 642ms\tremaining: 2.09s\n",
      "235:\tlearn: 0.3926459\ttotal: 644ms\tremaining: 2.08s\n"
     ]
    },
    {
     "name": "stdout",
     "output_type": "stream",
     "text": [
      "236:\tlearn: 0.3921781\ttotal: 647ms\tremaining: 2.08s\n",
      "237:\tlearn: 0.3918926\ttotal: 649ms\tremaining: 2.08s\n",
      "238:\tlearn: 0.3915722\ttotal: 652ms\tremaining: 2.08s\n",
      "239:\tlearn: 0.3913180\ttotal: 654ms\tremaining: 2.07s\n",
      "240:\tlearn: 0.3908147\ttotal: 657ms\tremaining: 2.07s\n",
      "241:\tlearn: 0.3905939\ttotal: 659ms\tremaining: 2.06s\n",
      "242:\tlearn: 0.3904061\ttotal: 662ms\tremaining: 2.06s\n",
      "243:\tlearn: 0.3900963\ttotal: 665ms\tremaining: 2.06s\n",
      "244:\tlearn: 0.3899071\ttotal: 667ms\tremaining: 2.06s\n",
      "245:\tlearn: 0.3896138\ttotal: 670ms\tremaining: 2.05s\n",
      "246:\tlearn: 0.3893024\ttotal: 672ms\tremaining: 2.05s\n",
      "247:\tlearn: 0.3891779\ttotal: 675ms\tremaining: 2.05s\n",
      "248:\tlearn: 0.3888760\ttotal: 678ms\tremaining: 2.04s\n",
      "249:\tlearn: 0.3885532\ttotal: 680ms\tremaining: 2.04s\n",
      "250:\tlearn: 0.3883578\ttotal: 682ms\tremaining: 2.04s\n",
      "251:\tlearn: 0.3881194\ttotal: 685ms\tremaining: 2.03s\n",
      "252:\tlearn: 0.3878953\ttotal: 687ms\tremaining: 2.03s\n",
      "253:\tlearn: 0.3876508\ttotal: 689ms\tremaining: 2.02s\n",
      "254:\tlearn: 0.3874775\ttotal: 691ms\tremaining: 2.02s\n",
      "255:\tlearn: 0.3872759\ttotal: 694ms\tremaining: 2.02s\n",
      "256:\tlearn: 0.3870244\ttotal: 696ms\tremaining: 2.01s\n",
      "257:\tlearn: 0.3867842\ttotal: 699ms\tremaining: 2.01s\n",
      "258:\tlearn: 0.3862950\ttotal: 702ms\tremaining: 2.01s\n",
      "259:\tlearn: 0.3860038\ttotal: 704ms\tremaining: 2s\n",
      "260:\tlearn: 0.3857891\ttotal: 707ms\tremaining: 2s\n",
      "261:\tlearn: 0.3853894\ttotal: 709ms\tremaining: 2s\n",
      "262:\tlearn: 0.3852309\ttotal: 712ms\tremaining: 1.99s\n",
      "263:\tlearn: 0.3849992\ttotal: 714ms\tremaining: 1.99s\n"
     ]
    },
    {
     "name": "stdout",
     "output_type": "stream",
     "text": [
      "264:\tlearn: 0.3846319\ttotal: 716ms\tremaining: 1.99s\n",
      "265:\tlearn: 0.3844059\ttotal: 719ms\tremaining: 1.98s\n",
      "266:\tlearn: 0.3841713\ttotal: 721ms\tremaining: 1.98s\n",
      "267:\tlearn: 0.3838873\ttotal: 723ms\tremaining: 1.98s\n",
      "268:\tlearn: 0.3835682\ttotal: 725ms\tremaining: 1.97s\n",
      "269:\tlearn: 0.3833841\ttotal: 728ms\tremaining: 1.97s\n",
      "270:\tlearn: 0.3830533\ttotal: 731ms\tremaining: 1.97s\n",
      "271:\tlearn: 0.3827228\ttotal: 734ms\tremaining: 1.96s\n",
      "272:\tlearn: 0.3825427\ttotal: 736ms\tremaining: 1.96s\n",
      "273:\tlearn: 0.3822833\ttotal: 739ms\tremaining: 1.96s\n",
      "274:\tlearn: 0.3820675\ttotal: 741ms\tremaining: 1.95s\n",
      "275:\tlearn: 0.3818456\ttotal: 744ms\tremaining: 1.95s\n",
      "276:\tlearn: 0.3816341\ttotal: 746ms\tremaining: 1.95s\n",
      "277:\tlearn: 0.3814914\ttotal: 750ms\tremaining: 1.95s\n",
      "278:\tlearn: 0.3812166\ttotal: 752ms\tremaining: 1.94s\n",
      "279:\tlearn: 0.3809460\ttotal: 755ms\tremaining: 1.94s\n",
      "280:\tlearn: 0.3807785\ttotal: 757ms\tremaining: 1.94s\n",
      "281:\tlearn: 0.3805570\ttotal: 760ms\tremaining: 1.93s\n",
      "282:\tlearn: 0.3803942\ttotal: 762ms\tremaining: 1.93s\n",
      "283:\tlearn: 0.3801628\ttotal: 765ms\tremaining: 1.93s\n",
      "284:\tlearn: 0.3800013\ttotal: 768ms\tremaining: 1.93s\n",
      "285:\tlearn: 0.3797971\ttotal: 770ms\tremaining: 1.92s\n",
      "286:\tlearn: 0.3794820\ttotal: 773ms\tremaining: 1.92s\n",
      "287:\tlearn: 0.3792326\ttotal: 775ms\tremaining: 1.92s\n",
      "288:\tlearn: 0.3789763\ttotal: 777ms\tremaining: 1.91s\n",
      "289:\tlearn: 0.3787735\ttotal: 780ms\tremaining: 1.91s\n"
     ]
    },
    {
     "name": "stdout",
     "output_type": "stream",
     "text": [
      "290:\tlearn: 0.3785295\ttotal: 783ms\tremaining: 1.91s\n",
      "291:\tlearn: 0.3783245\ttotal: 785ms\tremaining: 1.9s\n",
      "292:\tlearn: 0.3781098\ttotal: 788ms\tremaining: 1.9s\n",
      "293:\tlearn: 0.3779111\ttotal: 790ms\tremaining: 1.9s\n",
      "294:\tlearn: 0.3777711\ttotal: 793ms\tremaining: 1.9s\n",
      "295:\tlearn: 0.3773754\ttotal: 795ms\tremaining: 1.89s\n",
      "296:\tlearn: 0.3771481\ttotal: 798ms\tremaining: 1.89s\n",
      "297:\tlearn: 0.3769566\ttotal: 801ms\tremaining: 1.89s\n",
      "298:\tlearn: 0.3766910\ttotal: 803ms\tremaining: 1.88s\n",
      "299:\tlearn: 0.3765465\ttotal: 805ms\tremaining: 1.88s\n",
      "300:\tlearn: 0.3763318\ttotal: 807ms\tremaining: 1.88s\n",
      "301:\tlearn: 0.3761584\ttotal: 810ms\tremaining: 1.87s\n",
      "302:\tlearn: 0.3759603\ttotal: 813ms\tremaining: 1.87s\n",
      "303:\tlearn: 0.3757995\ttotal: 815ms\tremaining: 1.87s\n",
      "304:\tlearn: 0.3756598\ttotal: 818ms\tremaining: 1.86s\n",
      "305:\tlearn: 0.3755245\ttotal: 820ms\tremaining: 1.86s\n",
      "306:\tlearn: 0.3751787\ttotal: 822ms\tremaining: 1.86s\n",
      "307:\tlearn: 0.3748168\ttotal: 825ms\tremaining: 1.85s\n",
      "308:\tlearn: 0.3747070\ttotal: 827ms\tremaining: 1.85s\n",
      "309:\tlearn: 0.3745237\ttotal: 830ms\tremaining: 1.85s\n",
      "310:\tlearn: 0.3743179\ttotal: 832ms\tremaining: 1.84s\n",
      "311:\tlearn: 0.3741040\ttotal: 835ms\tremaining: 1.84s\n",
      "312:\tlearn: 0.3738680\ttotal: 837ms\tremaining: 1.84s\n",
      "313:\tlearn: 0.3736541\ttotal: 840ms\tremaining: 1.83s\n"
     ]
    },
    {
     "name": "stdout",
     "output_type": "stream",
     "text": [
      "314:\tlearn: 0.3734079\ttotal: 843ms\tremaining: 1.83s\n",
      "315:\tlearn: 0.3731603\ttotal: 845ms\tremaining: 1.83s\n",
      "316:\tlearn: 0.3728914\ttotal: 848ms\tremaining: 1.83s\n",
      "317:\tlearn: 0.3727294\ttotal: 851ms\tremaining: 1.82s\n",
      "318:\tlearn: 0.3724857\ttotal: 854ms\tremaining: 1.82s\n",
      "319:\tlearn: 0.3722869\ttotal: 856ms\tremaining: 1.82s\n",
      "320:\tlearn: 0.3720711\ttotal: 859ms\tremaining: 1.82s\n",
      "321:\tlearn: 0.3718906\ttotal: 862ms\tremaining: 1.81s\n",
      "322:\tlearn: 0.3717153\ttotal: 864ms\tremaining: 1.81s\n",
      "323:\tlearn: 0.3716005\ttotal: 867ms\tremaining: 1.81s\n",
      "324:\tlearn: 0.3713999\ttotal: 869ms\tremaining: 1.8s\n",
      "325:\tlearn: 0.3711634\ttotal: 871ms\tremaining: 1.8s\n",
      "326:\tlearn: 0.3708800\ttotal: 874ms\tremaining: 1.8s\n",
      "327:\tlearn: 0.3706464\ttotal: 876ms\tremaining: 1.79s\n",
      "328:\tlearn: 0.3704445\ttotal: 879ms\tremaining: 1.79s\n",
      "329:\tlearn: 0.3702600\ttotal: 882ms\tremaining: 1.79s\n",
      "330:\tlearn: 0.3701032\ttotal: 884ms\tremaining: 1.79s\n",
      "331:\tlearn: 0.3698699\ttotal: 886ms\tremaining: 1.78s\n",
      "332:\tlearn: 0.3697070\ttotal: 889ms\tremaining: 1.78s\n",
      "333:\tlearn: 0.3693429\ttotal: 891ms\tremaining: 1.78s\n",
      "334:\tlearn: 0.3691628\ttotal: 894ms\tremaining: 1.77s\n",
      "335:\tlearn: 0.3689030\ttotal: 897ms\tremaining: 1.77s\n",
      "336:\tlearn: 0.3686557\ttotal: 899ms\tremaining: 1.77s\n",
      "337:\tlearn: 0.3684428\ttotal: 902ms\tremaining: 1.77s\n",
      "338:\tlearn: 0.3682593\ttotal: 904ms\tremaining: 1.76s\n",
      "339:\tlearn: 0.3681186\ttotal: 907ms\tremaining: 1.76s\n",
      "340:\tlearn: 0.3680226\ttotal: 909ms\tremaining: 1.76s\n"
     ]
    },
    {
     "name": "stdout",
     "output_type": "stream",
     "text": [
      "341:\tlearn: 0.3678017\ttotal: 912ms\tremaining: 1.75s\n",
      "342:\tlearn: 0.3676629\ttotal: 916ms\tremaining: 1.75s\n",
      "343:\tlearn: 0.3674864\ttotal: 918ms\tremaining: 1.75s\n",
      "344:\tlearn: 0.3673175\ttotal: 920ms\tremaining: 1.75s\n",
      "345:\tlearn: 0.3671960\ttotal: 922ms\tremaining: 1.74s\n",
      "346:\tlearn: 0.3670161\ttotal: 925ms\tremaining: 1.74s\n",
      "347:\tlearn: 0.3668597\ttotal: 927ms\tremaining: 1.74s\n",
      "348:\tlearn: 0.3667004\ttotal: 930ms\tremaining: 1.73s\n",
      "349:\tlearn: 0.3665307\ttotal: 933ms\tremaining: 1.73s\n",
      "350:\tlearn: 0.3663824\ttotal: 935ms\tremaining: 1.73s\n",
      "351:\tlearn: 0.3662485\ttotal: 938ms\tremaining: 1.73s\n",
      "352:\tlearn: 0.3660706\ttotal: 941ms\tremaining: 1.72s\n",
      "353:\tlearn: 0.3658864\ttotal: 944ms\tremaining: 1.72s\n",
      "354:\tlearn: 0.3657574\ttotal: 948ms\tremaining: 1.72s\n",
      "355:\tlearn: 0.3656283\ttotal: 950ms\tremaining: 1.72s\n",
      "356:\tlearn: 0.3653982\ttotal: 953ms\tremaining: 1.72s\n",
      "357:\tlearn: 0.3652822\ttotal: 955ms\tremaining: 1.71s\n",
      "358:\tlearn: 0.3651061\ttotal: 958ms\tremaining: 1.71s\n",
      "359:\tlearn: 0.3648141\ttotal: 961ms\tremaining: 1.71s\n",
      "360:\tlearn: 0.3646477\ttotal: 963ms\tremaining: 1.71s\n",
      "361:\tlearn: 0.3644221\ttotal: 966ms\tremaining: 1.7s\n",
      "362:\tlearn: 0.3642262\ttotal: 969ms\tremaining: 1.7s\n",
      "363:\tlearn: 0.3640293\ttotal: 971ms\tremaining: 1.7s\n",
      "364:\tlearn: 0.3638634\ttotal: 974ms\tremaining: 1.69s\n"
     ]
    },
    {
     "name": "stdout",
     "output_type": "stream",
     "text": [
      "365:\tlearn: 0.3636558\ttotal: 976ms\tremaining: 1.69s\n",
      "366:\tlearn: 0.3634257\ttotal: 979ms\tremaining: 1.69s\n",
      "367:\tlearn: 0.3632124\ttotal: 982ms\tremaining: 1.69s\n",
      "368:\tlearn: 0.3631322\ttotal: 984ms\tremaining: 1.68s\n",
      "369:\tlearn: 0.3630589\ttotal: 986ms\tremaining: 1.68s\n",
      "370:\tlearn: 0.3629026\ttotal: 989ms\tremaining: 1.68s\n",
      "371:\tlearn: 0.3626891\ttotal: 991ms\tremaining: 1.67s\n",
      "372:\tlearn: 0.3625101\ttotal: 993ms\tremaining: 1.67s\n",
      "373:\tlearn: 0.3623108\ttotal: 996ms\tremaining: 1.67s\n",
      "374:\tlearn: 0.3621787\ttotal: 999ms\tremaining: 1.66s\n",
      "375:\tlearn: 0.3620431\ttotal: 1s\tremaining: 1.66s\n",
      "376:\tlearn: 0.3618562\ttotal: 1s\tremaining: 1.66s\n",
      "377:\tlearn: 0.3617621\ttotal: 1s\tremaining: 1.66s\n",
      "378:\tlearn: 0.3614537\ttotal: 1.01s\tremaining: 1.65s\n",
      "379:\tlearn: 0.3612644\ttotal: 1.01s\tremaining: 1.65s\n",
      "380:\tlearn: 0.3611678\ttotal: 1.01s\tremaining: 1.65s\n",
      "381:\tlearn: 0.3608912\ttotal: 1.02s\tremaining: 1.64s\n",
      "382:\tlearn: 0.3607103\ttotal: 1.02s\tremaining: 1.64s\n",
      "383:\tlearn: 0.3605853\ttotal: 1.02s\tremaining: 1.64s\n",
      "384:\tlearn: 0.3604025\ttotal: 1.02s\tremaining: 1.64s\n",
      "385:\tlearn: 0.3602508\ttotal: 1.03s\tremaining: 1.63s\n",
      "386:\tlearn: 0.3600720\ttotal: 1.03s\tremaining: 1.63s\n",
      "387:\tlearn: 0.3599443\ttotal: 1.03s\tremaining: 1.63s\n",
      "388:\tlearn: 0.3597084\ttotal: 1.03s\tremaining: 1.62s\n",
      "389:\tlearn: 0.3595696\ttotal: 1.04s\tremaining: 1.62s\n"
     ]
    },
    {
     "name": "stdout",
     "output_type": "stream",
     "text": [
      "390:\tlearn: 0.3593420\ttotal: 1.04s\tremaining: 1.62s\n",
      "391:\tlearn: 0.3591148\ttotal: 1.04s\tremaining: 1.61s\n",
      "392:\tlearn: 0.3588469\ttotal: 1.04s\tremaining: 1.61s\n",
      "393:\tlearn: 0.3587092\ttotal: 1.05s\tremaining: 1.61s\n",
      "394:\tlearn: 0.3584503\ttotal: 1.05s\tremaining: 1.61s\n",
      "395:\tlearn: 0.3582144\ttotal: 1.05s\tremaining: 1.6s\n",
      "396:\tlearn: 0.3580605\ttotal: 1.05s\tremaining: 1.6s\n",
      "397:\tlearn: 0.3578869\ttotal: 1.06s\tremaining: 1.6s\n",
      "398:\tlearn: 0.3577080\ttotal: 1.06s\tremaining: 1.6s\n",
      "399:\tlearn: 0.3575227\ttotal: 1.06s\tremaining: 1.59s\n",
      "400:\tlearn: 0.3573354\ttotal: 1.06s\tremaining: 1.59s\n",
      "401:\tlearn: 0.3571810\ttotal: 1.07s\tremaining: 1.59s\n",
      "402:\tlearn: 0.3569733\ttotal: 1.07s\tremaining: 1.58s\n",
      "403:\tlearn: 0.3566715\ttotal: 1.07s\tremaining: 1.58s\n",
      "404:\tlearn: 0.3565159\ttotal: 1.07s\tremaining: 1.58s\n",
      "405:\tlearn: 0.3563966\ttotal: 1.08s\tremaining: 1.58s\n",
      "406:\tlearn: 0.3561638\ttotal: 1.08s\tremaining: 1.57s\n",
      "407:\tlearn: 0.3560063\ttotal: 1.08s\tremaining: 1.57s\n",
      "408:\tlearn: 0.3558627\ttotal: 1.08s\tremaining: 1.57s\n",
      "409:\tlearn: 0.3557048\ttotal: 1.09s\tremaining: 1.56s\n",
      "410:\tlearn: 0.3555636\ttotal: 1.09s\tremaining: 1.56s\n",
      "411:\tlearn: 0.3553940\ttotal: 1.09s\tremaining: 1.56s\n",
      "412:\tlearn: 0.3551732\ttotal: 1.09s\tremaining: 1.55s\n",
      "413:\tlearn: 0.3550443\ttotal: 1.1s\tremaining: 1.55s\n",
      "414:\tlearn: 0.3549176\ttotal: 1.1s\tremaining: 1.55s\n",
      "415:\tlearn: 0.3546127\ttotal: 1.1s\tremaining: 1.55s\n",
      "416:\tlearn: 0.3544271\ttotal: 1.1s\tremaining: 1.54s\n"
     ]
    },
    {
     "name": "stdout",
     "output_type": "stream",
     "text": [
      "417:\tlearn: 0.3541791\ttotal: 1.11s\tremaining: 1.54s\n",
      "418:\tlearn: 0.3540830\ttotal: 1.11s\tremaining: 1.54s\n",
      "419:\tlearn: 0.3539638\ttotal: 1.11s\tremaining: 1.53s\n",
      "420:\tlearn: 0.3538309\ttotal: 1.11s\tremaining: 1.53s\n",
      "421:\tlearn: 0.3536118\ttotal: 1.12s\tremaining: 1.53s\n",
      "422:\tlearn: 0.3534357\ttotal: 1.12s\tremaining: 1.53s\n",
      "423:\tlearn: 0.3533510\ttotal: 1.12s\tremaining: 1.52s\n",
      "424:\tlearn: 0.3532954\ttotal: 1.12s\tremaining: 1.52s\n",
      "425:\tlearn: 0.3531311\ttotal: 1.13s\tremaining: 1.52s\n",
      "426:\tlearn: 0.3529485\ttotal: 1.13s\tremaining: 1.51s\n",
      "427:\tlearn: 0.3527948\ttotal: 1.13s\tremaining: 1.51s\n",
      "428:\tlearn: 0.3526408\ttotal: 1.13s\tremaining: 1.51s\n",
      "429:\tlearn: 0.3524967\ttotal: 1.14s\tremaining: 1.51s\n",
      "430:\tlearn: 0.3523731\ttotal: 1.14s\tremaining: 1.5s\n",
      "431:\tlearn: 0.3521726\ttotal: 1.14s\tremaining: 1.5s\n",
      "432:\tlearn: 0.3520343\ttotal: 1.14s\tremaining: 1.5s\n",
      "433:\tlearn: 0.3519224\ttotal: 1.15s\tremaining: 1.5s\n",
      "434:\tlearn: 0.3517567\ttotal: 1.15s\tremaining: 1.49s\n",
      "435:\tlearn: 0.3516693\ttotal: 1.15s\tremaining: 1.49s\n",
      "436:\tlearn: 0.3515077\ttotal: 1.15s\tremaining: 1.49s\n",
      "437:\tlearn: 0.3514326\ttotal: 1.16s\tremaining: 1.48s\n",
      "438:\tlearn: 0.3513458\ttotal: 1.16s\tremaining: 1.48s\n",
      "439:\tlearn: 0.3511901\ttotal: 1.16s\tremaining: 1.48s\n",
      "440:\tlearn: 0.3509011\ttotal: 1.16s\tremaining: 1.48s\n",
      "441:\tlearn: 0.3507828\ttotal: 1.17s\tremaining: 1.47s\n",
      "442:\tlearn: 0.3506629\ttotal: 1.17s\tremaining: 1.47s\n"
     ]
    },
    {
     "name": "stdout",
     "output_type": "stream",
     "text": [
      "443:\tlearn: 0.3505433\ttotal: 1.17s\tremaining: 1.47s\n",
      "444:\tlearn: 0.3503428\ttotal: 1.17s\tremaining: 1.46s\n",
      "445:\tlearn: 0.3502392\ttotal: 1.18s\tremaining: 1.46s\n",
      "446:\tlearn: 0.3500107\ttotal: 1.18s\tremaining: 1.46s\n",
      "447:\tlearn: 0.3498833\ttotal: 1.18s\tremaining: 1.46s\n",
      "448:\tlearn: 0.3497535\ttotal: 1.18s\tremaining: 1.45s\n",
      "449:\tlearn: 0.3496591\ttotal: 1.19s\tremaining: 1.45s\n",
      "450:\tlearn: 0.3495457\ttotal: 1.19s\tremaining: 1.45s\n",
      "451:\tlearn: 0.3494426\ttotal: 1.19s\tremaining: 1.44s\n",
      "452:\tlearn: 0.3492636\ttotal: 1.19s\tremaining: 1.44s\n",
      "453:\tlearn: 0.3491495\ttotal: 1.2s\tremaining: 1.44s\n",
      "454:\tlearn: 0.3490381\ttotal: 1.2s\tremaining: 1.44s\n",
      "455:\tlearn: 0.3489368\ttotal: 1.2s\tremaining: 1.43s\n",
      "456:\tlearn: 0.3488043\ttotal: 1.2s\tremaining: 1.43s\n",
      "457:\tlearn: 0.3486733\ttotal: 1.21s\tremaining: 1.43s\n",
      "458:\tlearn: 0.3485132\ttotal: 1.21s\tremaining: 1.42s\n",
      "459:\tlearn: 0.3483234\ttotal: 1.21s\tremaining: 1.42s\n",
      "460:\tlearn: 0.3481652\ttotal: 1.21s\tremaining: 1.42s\n",
      "461:\tlearn: 0.3480193\ttotal: 1.22s\tremaining: 1.42s\n",
      "462:\tlearn: 0.3479645\ttotal: 1.22s\tremaining: 1.41s\n",
      "463:\tlearn: 0.3478291\ttotal: 1.22s\tremaining: 1.41s\n",
      "464:\tlearn: 0.3477094\ttotal: 1.22s\tremaining: 1.41s\n",
      "465:\tlearn: 0.3476079\ttotal: 1.23s\tremaining: 1.4s\n",
      "466:\tlearn: 0.3474584\ttotal: 1.23s\tremaining: 1.4s\n",
      "467:\tlearn: 0.3473827\ttotal: 1.23s\tremaining: 1.4s\n"
     ]
    },
    {
     "name": "stdout",
     "output_type": "stream",
     "text": [
      "468:\tlearn: 0.3472938\ttotal: 1.23s\tremaining: 1.4s\n",
      "469:\tlearn: 0.3471495\ttotal: 1.24s\tremaining: 1.39s\n",
      "470:\tlearn: 0.3470329\ttotal: 1.24s\tremaining: 1.39s\n",
      "471:\tlearn: 0.3468974\ttotal: 1.24s\tremaining: 1.39s\n",
      "472:\tlearn: 0.3467230\ttotal: 1.24s\tremaining: 1.38s\n",
      "473:\tlearn: 0.3465430\ttotal: 1.24s\tremaining: 1.38s\n",
      "474:\tlearn: 0.3463975\ttotal: 1.25s\tremaining: 1.38s\n",
      "475:\tlearn: 0.3462202\ttotal: 1.25s\tremaining: 1.38s\n",
      "476:\tlearn: 0.3460781\ttotal: 1.25s\tremaining: 1.37s\n",
      "477:\tlearn: 0.3460044\ttotal: 1.25s\tremaining: 1.37s\n",
      "478:\tlearn: 0.3458631\ttotal: 1.26s\tremaining: 1.37s\n",
      "479:\tlearn: 0.3457453\ttotal: 1.26s\tremaining: 1.36s\n",
      "480:\tlearn: 0.3456101\ttotal: 1.26s\tremaining: 1.36s\n",
      "481:\tlearn: 0.3455148\ttotal: 1.26s\tremaining: 1.36s\n",
      "482:\tlearn: 0.3454206\ttotal: 1.27s\tremaining: 1.36s\n",
      "483:\tlearn: 0.3453388\ttotal: 1.27s\tremaining: 1.35s\n",
      "484:\tlearn: 0.3452601\ttotal: 1.27s\tremaining: 1.35s\n",
      "485:\tlearn: 0.3451219\ttotal: 1.27s\tremaining: 1.35s\n",
      "486:\tlearn: 0.3450147\ttotal: 1.28s\tremaining: 1.34s\n",
      "487:\tlearn: 0.3449132\ttotal: 1.28s\tremaining: 1.34s\n",
      "488:\tlearn: 0.3447835\ttotal: 1.28s\tremaining: 1.34s\n",
      "489:\tlearn: 0.3446742\ttotal: 1.28s\tremaining: 1.34s\n",
      "490:\tlearn: 0.3445246\ttotal: 1.29s\tremaining: 1.33s\n",
      "491:\tlearn: 0.3443342\ttotal: 1.29s\tremaining: 1.33s\n",
      "492:\tlearn: 0.3441785\ttotal: 1.29s\tremaining: 1.33s\n",
      "493:\tlearn: 0.3440469\ttotal: 1.29s\tremaining: 1.32s\n",
      "494:\tlearn: 0.3438886\ttotal: 1.3s\tremaining: 1.32s\n",
      "495:\tlearn: 0.3437757\ttotal: 1.3s\tremaining: 1.32s\n"
     ]
    },
    {
     "name": "stdout",
     "output_type": "stream",
     "text": [
      "496:\tlearn: 0.3436725\ttotal: 1.3s\tremaining: 1.32s\n",
      "497:\tlearn: 0.3435804\ttotal: 1.3s\tremaining: 1.31s\n",
      "498:\tlearn: 0.3433966\ttotal: 1.31s\tremaining: 1.31s\n",
      "499:\tlearn: 0.3432606\ttotal: 1.31s\tremaining: 1.31s\n",
      "500:\tlearn: 0.3431196\ttotal: 1.31s\tremaining: 1.31s\n",
      "501:\tlearn: 0.3430361\ttotal: 1.31s\tremaining: 1.3s\n",
      "502:\tlearn: 0.3428464\ttotal: 1.32s\tremaining: 1.3s\n",
      "503:\tlearn: 0.3427159\ttotal: 1.32s\tremaining: 1.3s\n",
      "504:\tlearn: 0.3425544\ttotal: 1.32s\tremaining: 1.29s\n",
      "505:\tlearn: 0.3424258\ttotal: 1.32s\tremaining: 1.29s\n",
      "506:\tlearn: 0.3422447\ttotal: 1.33s\tremaining: 1.29s\n",
      "507:\tlearn: 0.3421487\ttotal: 1.33s\tremaining: 1.29s\n",
      "508:\tlearn: 0.3420395\ttotal: 1.33s\tremaining: 1.28s\n",
      "509:\tlearn: 0.3418778\ttotal: 1.33s\tremaining: 1.28s\n",
      "510:\tlearn: 0.3416442\ttotal: 1.34s\tremaining: 1.28s\n",
      "511:\tlearn: 0.3415434\ttotal: 1.34s\tremaining: 1.28s\n",
      "512:\tlearn: 0.3414649\ttotal: 1.34s\tremaining: 1.27s\n",
      "513:\tlearn: 0.3413571\ttotal: 1.34s\tremaining: 1.27s\n",
      "514:\tlearn: 0.3412425\ttotal: 1.35s\tremaining: 1.27s\n",
      "515:\tlearn: 0.3411261\ttotal: 1.35s\tremaining: 1.27s\n",
      "516:\tlearn: 0.3410171\ttotal: 1.35s\tremaining: 1.26s\n",
      "517:\tlearn: 0.3408874\ttotal: 1.35s\tremaining: 1.26s\n",
      "518:\tlearn: 0.3407729\ttotal: 1.36s\tremaining: 1.26s\n",
      "519:\tlearn: 0.3405946\ttotal: 1.36s\tremaining: 1.25s\n",
      "520:\tlearn: 0.3404928\ttotal: 1.36s\tremaining: 1.25s\n",
      "521:\tlearn: 0.3403675\ttotal: 1.36s\tremaining: 1.25s\n"
     ]
    },
    {
     "name": "stdout",
     "output_type": "stream",
     "text": [
      "522:\tlearn: 0.3403151\ttotal: 1.37s\tremaining: 1.25s\n",
      "523:\tlearn: 0.3401572\ttotal: 1.37s\tremaining: 1.24s\n",
      "524:\tlearn: 0.3400139\ttotal: 1.37s\tremaining: 1.24s\n",
      "525:\tlearn: 0.3398838\ttotal: 1.38s\tremaining: 1.24s\n",
      "526:\tlearn: 0.3397181\ttotal: 1.38s\tremaining: 1.24s\n",
      "527:\tlearn: 0.3396094\ttotal: 1.38s\tremaining: 1.23s\n",
      "528:\tlearn: 0.3394956\ttotal: 1.38s\tremaining: 1.23s\n",
      "529:\tlearn: 0.3393934\ttotal: 1.38s\tremaining: 1.23s\n",
      "530:\tlearn: 0.3392982\ttotal: 1.39s\tremaining: 1.23s\n",
      "531:\tlearn: 0.3391902\ttotal: 1.39s\tremaining: 1.22s\n",
      "532:\tlearn: 0.3390996\ttotal: 1.39s\tremaining: 1.22s\n",
      "533:\tlearn: 0.3390203\ttotal: 1.39s\tremaining: 1.22s\n",
      "534:\tlearn: 0.3388634\ttotal: 1.4s\tremaining: 1.21s\n",
      "535:\tlearn: 0.3387766\ttotal: 1.4s\tremaining: 1.21s\n",
      "536:\tlearn: 0.3386539\ttotal: 1.4s\tremaining: 1.21s\n",
      "537:\tlearn: 0.3384234\ttotal: 1.4s\tremaining: 1.21s\n",
      "538:\tlearn: 0.3383314\ttotal: 1.41s\tremaining: 1.2s\n",
      "539:\tlearn: 0.3382278\ttotal: 1.41s\tremaining: 1.2s\n",
      "540:\tlearn: 0.3381259\ttotal: 1.41s\tremaining: 1.2s\n",
      "541:\tlearn: 0.3379899\ttotal: 1.41s\tremaining: 1.2s\n",
      "542:\tlearn: 0.3379016\ttotal: 1.42s\tremaining: 1.19s\n",
      "543:\tlearn: 0.3376481\ttotal: 1.42s\tremaining: 1.19s\n",
      "544:\tlearn: 0.3375537\ttotal: 1.42s\tremaining: 1.19s\n",
      "545:\tlearn: 0.3374717\ttotal: 1.42s\tremaining: 1.18s\n",
      "546:\tlearn: 0.3373340\ttotal: 1.43s\tremaining: 1.18s\n"
     ]
    },
    {
     "name": "stdout",
     "output_type": "stream",
     "text": [
      "547:\tlearn: 0.3372740\ttotal: 1.43s\tremaining: 1.18s\n",
      "548:\tlearn: 0.3371665\ttotal: 1.43s\tremaining: 1.18s\n",
      "549:\tlearn: 0.3370537\ttotal: 1.44s\tremaining: 1.17s\n",
      "550:\tlearn: 0.3369242\ttotal: 1.44s\tremaining: 1.17s\n",
      "551:\tlearn: 0.3367744\ttotal: 1.44s\tremaining: 1.17s\n",
      "552:\tlearn: 0.3366553\ttotal: 1.44s\tremaining: 1.17s\n",
      "553:\tlearn: 0.3365632\ttotal: 1.44s\tremaining: 1.16s\n",
      "554:\tlearn: 0.3363648\ttotal: 1.45s\tremaining: 1.16s\n",
      "555:\tlearn: 0.3362467\ttotal: 1.45s\tremaining: 1.16s\n",
      "556:\tlearn: 0.3361305\ttotal: 1.45s\tremaining: 1.15s\n",
      "557:\tlearn: 0.3359931\ttotal: 1.45s\tremaining: 1.15s\n",
      "558:\tlearn: 0.3358503\ttotal: 1.46s\tremaining: 1.15s\n",
      "559:\tlearn: 0.3357680\ttotal: 1.46s\tremaining: 1.15s\n",
      "560:\tlearn: 0.3356296\ttotal: 1.46s\tremaining: 1.14s\n",
      "561:\tlearn: 0.3354993\ttotal: 1.46s\tremaining: 1.14s\n",
      "562:\tlearn: 0.3353636\ttotal: 1.47s\tremaining: 1.14s\n",
      "563:\tlearn: 0.3352600\ttotal: 1.47s\tremaining: 1.14s\n",
      "564:\tlearn: 0.3351655\ttotal: 1.47s\tremaining: 1.13s\n",
      "565:\tlearn: 0.3348872\ttotal: 1.47s\tremaining: 1.13s\n",
      "566:\tlearn: 0.3347451\ttotal: 1.48s\tremaining: 1.13s\n",
      "567:\tlearn: 0.3346408\ttotal: 1.48s\tremaining: 1.13s\n",
      "568:\tlearn: 0.3345223\ttotal: 1.48s\tremaining: 1.12s\n",
      "569:\tlearn: 0.3344587\ttotal: 1.48s\tremaining: 1.12s\n",
      "570:\tlearn: 0.3342439\ttotal: 1.49s\tremaining: 1.12s\n",
      "571:\tlearn: 0.3340703\ttotal: 1.49s\tremaining: 1.11s\n",
      "572:\tlearn: 0.3339799\ttotal: 1.49s\tremaining: 1.11s\n",
      "573:\tlearn: 0.3339071\ttotal: 1.49s\tremaining: 1.11s\n"
     ]
    },
    {
     "name": "stdout",
     "output_type": "stream",
     "text": [
      "574:\tlearn: 0.3337825\ttotal: 1.5s\tremaining: 1.11s\n",
      "575:\tlearn: 0.3336387\ttotal: 1.5s\tremaining: 1.1s\n",
      "576:\tlearn: 0.3335514\ttotal: 1.5s\tremaining: 1.1s\n",
      "577:\tlearn: 0.3334646\ttotal: 1.5s\tremaining: 1.1s\n",
      "578:\tlearn: 0.3333619\ttotal: 1.51s\tremaining: 1.09s\n",
      "579:\tlearn: 0.3331152\ttotal: 1.51s\tremaining: 1.09s\n",
      "580:\tlearn: 0.3329337\ttotal: 1.51s\tremaining: 1.09s\n",
      "581:\tlearn: 0.3328415\ttotal: 1.51s\tremaining: 1.09s\n",
      "582:\tlearn: 0.3327639\ttotal: 1.52s\tremaining: 1.08s\n",
      "583:\tlearn: 0.3326524\ttotal: 1.52s\tremaining: 1.08s\n",
      "584:\tlearn: 0.3325521\ttotal: 1.52s\tremaining: 1.08s\n",
      "585:\tlearn: 0.3324768\ttotal: 1.52s\tremaining: 1.08s\n",
      "586:\tlearn: 0.3322750\ttotal: 1.53s\tremaining: 1.07s\n",
      "587:\tlearn: 0.3320999\ttotal: 1.53s\tremaining: 1.07s\n",
      "588:\tlearn: 0.3319575\ttotal: 1.53s\tremaining: 1.07s\n",
      "589:\tlearn: 0.3318738\ttotal: 1.53s\tremaining: 1.07s\n",
      "590:\tlearn: 0.3317409\ttotal: 1.54s\tremaining: 1.06s\n",
      "591:\tlearn: 0.3316139\ttotal: 1.54s\tremaining: 1.06s\n",
      "592:\tlearn: 0.3314874\ttotal: 1.54s\tremaining: 1.06s\n",
      "593:\tlearn: 0.3314047\ttotal: 1.54s\tremaining: 1.05s\n",
      "594:\tlearn: 0.3312425\ttotal: 1.55s\tremaining: 1.05s\n",
      "595:\tlearn: 0.3311709\ttotal: 1.55s\tremaining: 1.05s\n",
      "596:\tlearn: 0.3310074\ttotal: 1.55s\tremaining: 1.05s\n",
      "597:\tlearn: 0.3308743\ttotal: 1.55s\tremaining: 1.04s\n",
      "598:\tlearn: 0.3307136\ttotal: 1.56s\tremaining: 1.04s\n",
      "599:\tlearn: 0.3305943\ttotal: 1.56s\tremaining: 1.04s\n",
      "600:\tlearn: 0.3304696\ttotal: 1.56s\tremaining: 1.04s\n"
     ]
    },
    {
     "name": "stdout",
     "output_type": "stream",
     "text": [
      "601:\tlearn: 0.3303989\ttotal: 1.56s\tremaining: 1.03s\n",
      "602:\tlearn: 0.3302459\ttotal: 1.56s\tremaining: 1.03s\n",
      "603:\tlearn: 0.3301621\ttotal: 1.57s\tremaining: 1.03s\n",
      "604:\tlearn: 0.3300384\ttotal: 1.57s\tremaining: 1.02s\n",
      "605:\tlearn: 0.3299702\ttotal: 1.57s\tremaining: 1.02s\n",
      "606:\tlearn: 0.3298659\ttotal: 1.57s\tremaining: 1.02s\n",
      "607:\tlearn: 0.3297183\ttotal: 1.58s\tremaining: 1.02s\n",
      "608:\tlearn: 0.3296051\ttotal: 1.58s\tremaining: 1.01s\n",
      "609:\tlearn: 0.3295174\ttotal: 1.58s\tremaining: 1.01s\n",
      "610:\tlearn: 0.3294398\ttotal: 1.58s\tremaining: 1.01s\n",
      "611:\tlearn: 0.3293325\ttotal: 1.59s\tremaining: 1.01s\n",
      "612:\tlearn: 0.3292632\ttotal: 1.59s\tremaining: 1s\n",
      "613:\tlearn: 0.3292082\ttotal: 1.59s\tremaining: 1s\n",
      "614:\tlearn: 0.3291153\ttotal: 1.59s\tremaining: 999ms\n",
      "615:\tlearn: 0.3290288\ttotal: 1.6s\tremaining: 996ms\n",
      "616:\tlearn: 0.3289062\ttotal: 1.6s\tremaining: 994ms\n",
      "617:\tlearn: 0.3288215\ttotal: 1.6s\tremaining: 991ms\n",
      "618:\tlearn: 0.3287011\ttotal: 1.6s\tremaining: 988ms\n",
      "619:\tlearn: 0.3285758\ttotal: 1.61s\tremaining: 985ms\n",
      "620:\tlearn: 0.3284256\ttotal: 1.61s\tremaining: 983ms\n",
      "621:\tlearn: 0.3283441\ttotal: 1.61s\tremaining: 980ms\n",
      "622:\tlearn: 0.3282395\ttotal: 1.61s\tremaining: 978ms\n",
      "623:\tlearn: 0.3280889\ttotal: 1.62s\tremaining: 975ms\n",
      "624:\tlearn: 0.3279682\ttotal: 1.62s\tremaining: 972ms\n",
      "625:\tlearn: 0.3279130\ttotal: 1.62s\tremaining: 970ms\n"
     ]
    },
    {
     "name": "stdout",
     "output_type": "stream",
     "text": [
      "626:\tlearn: 0.3278009\ttotal: 1.63s\tremaining: 967ms\n",
      "627:\tlearn: 0.3276633\ttotal: 1.63s\tremaining: 965ms\n",
      "628:\tlearn: 0.3275290\ttotal: 1.63s\tremaining: 962ms\n",
      "629:\tlearn: 0.3274069\ttotal: 1.63s\tremaining: 959ms\n",
      "630:\tlearn: 0.3273165\ttotal: 1.64s\tremaining: 957ms\n",
      "631:\tlearn: 0.3271959\ttotal: 1.64s\tremaining: 954ms\n",
      "632:\tlearn: 0.3271248\ttotal: 1.64s\tremaining: 951ms\n",
      "633:\tlearn: 0.3270106\ttotal: 1.64s\tremaining: 949ms\n",
      "634:\tlearn: 0.3268326\ttotal: 1.65s\tremaining: 946ms\n",
      "635:\tlearn: 0.3267561\ttotal: 1.65s\tremaining: 943ms\n",
      "636:\tlearn: 0.3266543\ttotal: 1.65s\tremaining: 941ms\n",
      "637:\tlearn: 0.3265879\ttotal: 1.65s\tremaining: 938ms\n",
      "638:\tlearn: 0.3264852\ttotal: 1.66s\tremaining: 935ms\n",
      "639:\tlearn: 0.3263740\ttotal: 1.66s\tremaining: 933ms\n",
      "640:\tlearn: 0.3263060\ttotal: 1.66s\tremaining: 930ms\n",
      "641:\tlearn: 0.3262028\ttotal: 1.66s\tremaining: 927ms\n",
      "642:\tlearn: 0.3261090\ttotal: 1.67s\tremaining: 925ms\n",
      "643:\tlearn: 0.3259935\ttotal: 1.67s\tremaining: 922ms\n",
      "644:\tlearn: 0.3258510\ttotal: 1.67s\tremaining: 919ms\n",
      "645:\tlearn: 0.3257543\ttotal: 1.67s\tremaining: 917ms\n",
      "646:\tlearn: 0.3256858\ttotal: 1.68s\tremaining: 914ms\n",
      "647:\tlearn: 0.3256082\ttotal: 1.68s\tremaining: 911ms\n",
      "648:\tlearn: 0.3255062\ttotal: 1.68s\tremaining: 909ms\n",
      "649:\tlearn: 0.3253541\ttotal: 1.68s\tremaining: 906ms\n",
      "650:\tlearn: 0.3252849\ttotal: 1.68s\tremaining: 903ms\n",
      "651:\tlearn: 0.3251632\ttotal: 1.69s\tremaining: 901ms\n",
      "652:\tlearn: 0.3250078\ttotal: 1.69s\tremaining: 898ms\n"
     ]
    },
    {
     "name": "stdout",
     "output_type": "stream",
     "text": [
      "653:\tlearn: 0.3249096\ttotal: 1.69s\tremaining: 895ms\n",
      "654:\tlearn: 0.3248311\ttotal: 1.7s\tremaining: 893ms\n",
      "655:\tlearn: 0.3247890\ttotal: 1.7s\tremaining: 890ms\n",
      "656:\tlearn: 0.3246390\ttotal: 1.7s\tremaining: 888ms\n",
      "657:\tlearn: 0.3245443\ttotal: 1.7s\tremaining: 885ms\n",
      "658:\tlearn: 0.3244383\ttotal: 1.7s\tremaining: 882ms\n",
      "659:\tlearn: 0.3243167\ttotal: 1.71s\tremaining: 880ms\n",
      "660:\tlearn: 0.3242145\ttotal: 1.71s\tremaining: 877ms\n",
      "661:\tlearn: 0.3240904\ttotal: 1.71s\tremaining: 874ms\n",
      "662:\tlearn: 0.3240176\ttotal: 1.72s\tremaining: 872ms\n",
      "663:\tlearn: 0.3238865\ttotal: 1.72s\tremaining: 869ms\n",
      "664:\tlearn: 0.3237018\ttotal: 1.72s\tremaining: 866ms\n",
      "665:\tlearn: 0.3235990\ttotal: 1.72s\tremaining: 864ms\n",
      "666:\tlearn: 0.3234878\ttotal: 1.72s\tremaining: 861ms\n",
      "667:\tlearn: 0.3234352\ttotal: 1.73s\tremaining: 859ms\n",
      "668:\tlearn: 0.3233018\ttotal: 1.73s\tremaining: 856ms\n",
      "669:\tlearn: 0.3232238\ttotal: 1.73s\tremaining: 853ms\n",
      "670:\tlearn: 0.3231352\ttotal: 1.73s\tremaining: 851ms\n",
      "671:\tlearn: 0.3230142\ttotal: 1.74s\tremaining: 848ms\n",
      "672:\tlearn: 0.3229349\ttotal: 1.74s\tremaining: 845ms\n",
      "673:\tlearn: 0.3227772\ttotal: 1.74s\tremaining: 843ms\n",
      "674:\tlearn: 0.3226913\ttotal: 1.74s\tremaining: 840ms\n",
      "675:\tlearn: 0.3225801\ttotal: 1.75s\tremaining: 837ms\n",
      "676:\tlearn: 0.3224480\ttotal: 1.75s\tremaining: 835ms\n",
      "677:\tlearn: 0.3223405\ttotal: 1.75s\tremaining: 832ms\n",
      "678:\tlearn: 0.3222469\ttotal: 1.75s\tremaining: 830ms\n",
      "679:\tlearn: 0.3220965\ttotal: 1.76s\tremaining: 827ms\n"
     ]
    },
    {
     "name": "stdout",
     "output_type": "stream",
     "text": [
      "680:\tlearn: 0.3220323\ttotal: 1.76s\tremaining: 824ms\n",
      "681:\tlearn: 0.3219131\ttotal: 1.76s\tremaining: 822ms\n",
      "682:\tlearn: 0.3218583\ttotal: 1.76s\tremaining: 819ms\n",
      "683:\tlearn: 0.3217641\ttotal: 1.77s\tremaining: 816ms\n",
      "684:\tlearn: 0.3216192\ttotal: 1.77s\tremaining: 814ms\n",
      "685:\tlearn: 0.3215346\ttotal: 1.77s\tremaining: 811ms\n",
      "686:\tlearn: 0.3214721\ttotal: 1.77s\tremaining: 808ms\n",
      "687:\tlearn: 0.3212856\ttotal: 1.78s\tremaining: 806ms\n",
      "688:\tlearn: 0.3211585\ttotal: 1.78s\tremaining: 803ms\n",
      "689:\tlearn: 0.3210595\ttotal: 1.78s\tremaining: 800ms\n",
      "690:\tlearn: 0.3208678\ttotal: 1.78s\tremaining: 798ms\n",
      "691:\tlearn: 0.3207484\ttotal: 1.79s\tremaining: 795ms\n",
      "692:\tlearn: 0.3206644\ttotal: 1.79s\tremaining: 793ms\n",
      "693:\tlearn: 0.3205713\ttotal: 1.79s\tremaining: 790ms\n",
      "694:\tlearn: 0.3204947\ttotal: 1.79s\tremaining: 787ms\n",
      "695:\tlearn: 0.3203569\ttotal: 1.8s\tremaining: 785ms\n",
      "696:\tlearn: 0.3203046\ttotal: 1.8s\tremaining: 782ms\n",
      "697:\tlearn: 0.3202378\ttotal: 1.8s\tremaining: 779ms\n",
      "698:\tlearn: 0.3201635\ttotal: 1.8s\tremaining: 777ms\n",
      "699:\tlearn: 0.3200864\ttotal: 1.8s\tremaining: 774ms\n",
      "700:\tlearn: 0.3200019\ttotal: 1.81s\tremaining: 771ms\n",
      "701:\tlearn: 0.3199006\ttotal: 1.81s\tremaining: 769ms\n",
      "702:\tlearn: 0.3198668\ttotal: 1.81s\tremaining: 766ms\n",
      "703:\tlearn: 0.3197874\ttotal: 1.81s\tremaining: 763ms\n",
      "704:\tlearn: 0.3196736\ttotal: 1.82s\tremaining: 761ms\n"
     ]
    },
    {
     "name": "stdout",
     "output_type": "stream",
     "text": [
      "705:\tlearn: 0.3195719\ttotal: 1.82s\tremaining: 758ms\n",
      "706:\tlearn: 0.3194364\ttotal: 1.82s\tremaining: 756ms\n",
      "707:\tlearn: 0.3193329\ttotal: 1.83s\tremaining: 753ms\n",
      "708:\tlearn: 0.3192363\ttotal: 1.83s\tremaining: 751ms\n",
      "709:\tlearn: 0.3191107\ttotal: 1.83s\tremaining: 748ms\n",
      "710:\tlearn: 0.3190264\ttotal: 1.83s\tremaining: 745ms\n",
      "711:\tlearn: 0.3189417\ttotal: 1.84s\tremaining: 743ms\n",
      "712:\tlearn: 0.3188646\ttotal: 1.84s\tremaining: 740ms\n",
      "713:\tlearn: 0.3187960\ttotal: 1.84s\tremaining: 737ms\n",
      "714:\tlearn: 0.3187029\ttotal: 1.84s\tremaining: 735ms\n",
      "715:\tlearn: 0.3186382\ttotal: 1.84s\tremaining: 732ms\n",
      "716:\tlearn: 0.3185687\ttotal: 1.85s\tremaining: 729ms\n",
      "717:\tlearn: 0.3184395\ttotal: 1.85s\tremaining: 727ms\n",
      "718:\tlearn: 0.3183933\ttotal: 1.85s\tremaining: 724ms\n",
      "719:\tlearn: 0.3182966\ttotal: 1.85s\tremaining: 722ms\n",
      "720:\tlearn: 0.3181905\ttotal: 1.86s\tremaining: 719ms\n",
      "721:\tlearn: 0.3181221\ttotal: 1.86s\tremaining: 716ms\n",
      "722:\tlearn: 0.3179993\ttotal: 1.86s\tremaining: 714ms\n",
      "723:\tlearn: 0.3178888\ttotal: 1.86s\tremaining: 711ms\n",
      "724:\tlearn: 0.3178047\ttotal: 1.87s\tremaining: 709ms\n",
      "725:\tlearn: 0.3177115\ttotal: 1.87s\tremaining: 706ms\n",
      "726:\tlearn: 0.3176128\ttotal: 1.87s\tremaining: 703ms\n",
      "727:\tlearn: 0.3175424\ttotal: 1.88s\tremaining: 701ms\n",
      "728:\tlearn: 0.3174222\ttotal: 1.88s\tremaining: 698ms\n",
      "729:\tlearn: 0.3173112\ttotal: 1.88s\tremaining: 695ms\n",
      "730:\tlearn: 0.3172392\ttotal: 1.88s\tremaining: 693ms\n",
      "731:\tlearn: 0.3171738\ttotal: 1.89s\tremaining: 690ms\n"
     ]
    },
    {
     "name": "stdout",
     "output_type": "stream",
     "text": [
      "732:\tlearn: 0.3170751\ttotal: 1.89s\tremaining: 688ms\n",
      "733:\tlearn: 0.3169942\ttotal: 1.89s\tremaining: 685ms\n",
      "734:\tlearn: 0.3168418\ttotal: 1.89s\tremaining: 682ms\n",
      "735:\tlearn: 0.3167055\ttotal: 1.9s\tremaining: 680ms\n",
      "736:\tlearn: 0.3166489\ttotal: 1.9s\tremaining: 677ms\n",
      "737:\tlearn: 0.3165797\ttotal: 1.9s\tremaining: 675ms\n",
      "738:\tlearn: 0.3164804\ttotal: 1.9s\tremaining: 672ms\n",
      "739:\tlearn: 0.3163754\ttotal: 1.91s\tremaining: 669ms\n",
      "740:\tlearn: 0.3162196\ttotal: 1.91s\tremaining: 667ms\n",
      "741:\tlearn: 0.3161106\ttotal: 1.91s\tremaining: 665ms\n",
      "742:\tlearn: 0.3160255\ttotal: 1.91s\tremaining: 662ms\n",
      "743:\tlearn: 0.3159391\ttotal: 1.92s\tremaining: 660ms\n",
      "744:\tlearn: 0.3158697\ttotal: 1.92s\tremaining: 657ms\n",
      "745:\tlearn: 0.3157759\ttotal: 1.92s\tremaining: 654ms\n",
      "746:\tlearn: 0.3156791\ttotal: 1.92s\tremaining: 652ms\n",
      "747:\tlearn: 0.3156045\ttotal: 1.93s\tremaining: 649ms\n",
      "748:\tlearn: 0.3155072\ttotal: 1.93s\tremaining: 646ms\n",
      "749:\tlearn: 0.3154433\ttotal: 1.93s\tremaining: 644ms\n",
      "750:\tlearn: 0.3153650\ttotal: 1.93s\tremaining: 641ms\n",
      "751:\tlearn: 0.3152607\ttotal: 1.94s\tremaining: 639ms\n",
      "752:\tlearn: 0.3151658\ttotal: 1.94s\tremaining: 636ms\n",
      "753:\tlearn: 0.3150944\ttotal: 1.94s\tremaining: 633ms\n",
      "754:\tlearn: 0.3149311\ttotal: 1.94s\tremaining: 631ms\n",
      "755:\tlearn: 0.3148308\ttotal: 1.95s\tremaining: 628ms\n",
      "756:\tlearn: 0.3146968\ttotal: 1.95s\tremaining: 626ms\n",
      "757:\tlearn: 0.3146288\ttotal: 1.95s\tremaining: 623ms\n",
      "758:\tlearn: 0.3145416\ttotal: 1.95s\tremaining: 620ms\n"
     ]
    },
    {
     "name": "stdout",
     "output_type": "stream",
     "text": [
      "759:\tlearn: 0.3144743\ttotal: 1.96s\tremaining: 618ms\n",
      "760:\tlearn: 0.3144269\ttotal: 1.96s\tremaining: 615ms\n",
      "761:\tlearn: 0.3143500\ttotal: 1.96s\tremaining: 613ms\n",
      "762:\tlearn: 0.3142617\ttotal: 1.96s\tremaining: 610ms\n",
      "763:\tlearn: 0.3141719\ttotal: 1.97s\tremaining: 607ms\n",
      "764:\tlearn: 0.3141203\ttotal: 1.97s\tremaining: 605ms\n",
      "765:\tlearn: 0.3140595\ttotal: 1.97s\tremaining: 602ms\n",
      "766:\tlearn: 0.3140111\ttotal: 1.97s\tremaining: 600ms\n",
      "767:\tlearn: 0.3138711\ttotal: 1.98s\tremaining: 597ms\n",
      "768:\tlearn: 0.3137732\ttotal: 1.98s\tremaining: 594ms\n",
      "769:\tlearn: 0.3136685\ttotal: 1.98s\tremaining: 592ms\n",
      "770:\tlearn: 0.3135955\ttotal: 1.98s\tremaining: 589ms\n",
      "771:\tlearn: 0.3135389\ttotal: 1.99s\tremaining: 586ms\n",
      "772:\tlearn: 0.3134688\ttotal: 1.99s\tremaining: 584ms\n",
      "773:\tlearn: 0.3133519\ttotal: 1.99s\tremaining: 581ms\n",
      "774:\tlearn: 0.3132924\ttotal: 1.99s\tremaining: 579ms\n",
      "775:\tlearn: 0.3132081\ttotal: 2s\tremaining: 576ms\n",
      "776:\tlearn: 0.3131273\ttotal: 2s\tremaining: 574ms\n",
      "777:\tlearn: 0.3130676\ttotal: 2s\tremaining: 571ms\n",
      "778:\tlearn: 0.3129608\ttotal: 2s\tremaining: 569ms\n",
      "779:\tlearn: 0.3128550\ttotal: 2.01s\tremaining: 566ms\n",
      "780:\tlearn: 0.3127472\ttotal: 2.01s\tremaining: 563ms\n",
      "781:\tlearn: 0.3126177\ttotal: 2.01s\tremaining: 561ms\n",
      "782:\tlearn: 0.3125501\ttotal: 2.01s\tremaining: 558ms\n"
     ]
    },
    {
     "name": "stdout",
     "output_type": "stream",
     "text": [
      "783:\tlearn: 0.3124640\ttotal: 2.02s\tremaining: 556ms\n",
      "784:\tlearn: 0.3123885\ttotal: 2.02s\tremaining: 553ms\n",
      "785:\tlearn: 0.3122859\ttotal: 2.02s\tremaining: 550ms\n",
      "786:\tlearn: 0.3121992\ttotal: 2.02s\tremaining: 548ms\n",
      "787:\tlearn: 0.3121491\ttotal: 2.03s\tremaining: 545ms\n",
      "788:\tlearn: 0.3120292\ttotal: 2.03s\tremaining: 543ms\n",
      "789:\tlearn: 0.3119264\ttotal: 2.03s\tremaining: 540ms\n",
      "790:\tlearn: 0.3118228\ttotal: 2.03s\tremaining: 537ms\n",
      "791:\tlearn: 0.3117323\ttotal: 2.04s\tremaining: 535ms\n",
      "792:\tlearn: 0.3116827\ttotal: 2.04s\tremaining: 532ms\n",
      "793:\tlearn: 0.3116051\ttotal: 2.04s\tremaining: 530ms\n",
      "794:\tlearn: 0.3115079\ttotal: 2.04s\tremaining: 527ms\n",
      "795:\tlearn: 0.3114052\ttotal: 2.05s\tremaining: 524ms\n",
      "796:\tlearn: 0.3113010\ttotal: 2.05s\tremaining: 522ms\n",
      "797:\tlearn: 0.3111662\ttotal: 2.05s\tremaining: 519ms\n",
      "798:\tlearn: 0.3111193\ttotal: 2.05s\tremaining: 517ms\n",
      "799:\tlearn: 0.3110505\ttotal: 2.06s\tremaining: 514ms\n",
      "800:\tlearn: 0.3109608\ttotal: 2.06s\tremaining: 511ms\n",
      "801:\tlearn: 0.3108981\ttotal: 2.06s\tremaining: 509ms\n",
      "802:\tlearn: 0.3108036\ttotal: 2.06s\tremaining: 506ms\n",
      "803:\tlearn: 0.3107132\ttotal: 2.06s\tremaining: 504ms\n",
      "804:\tlearn: 0.3106568\ttotal: 2.07s\tremaining: 501ms\n",
      "805:\tlearn: 0.3105908\ttotal: 2.07s\tremaining: 498ms\n",
      "806:\tlearn: 0.3105342\ttotal: 2.07s\tremaining: 496ms\n",
      "807:\tlearn: 0.3104677\ttotal: 2.08s\tremaining: 493ms\n",
      "808:\tlearn: 0.3103725\ttotal: 2.08s\tremaining: 491ms\n",
      "809:\tlearn: 0.3102810\ttotal: 2.08s\tremaining: 488ms\n",
      "810:\tlearn: 0.3101783\ttotal: 2.08s\tremaining: 485ms\n"
     ]
    },
    {
     "name": "stdout",
     "output_type": "stream",
     "text": [
      "811:\tlearn: 0.3100775\ttotal: 2.08s\tremaining: 483ms\n",
      "812:\tlearn: 0.3099448\ttotal: 2.09s\tremaining: 480ms\n",
      "813:\tlearn: 0.3098783\ttotal: 2.09s\tremaining: 478ms\n",
      "814:\tlearn: 0.3097927\ttotal: 2.09s\tremaining: 475ms\n",
      "815:\tlearn: 0.3097308\ttotal: 2.1s\tremaining: 473ms\n",
      "816:\tlearn: 0.3096468\ttotal: 2.1s\tremaining: 470ms\n",
      "817:\tlearn: 0.3095381\ttotal: 2.1s\tremaining: 467ms\n",
      "818:\tlearn: 0.3094716\ttotal: 2.1s\tremaining: 465ms\n",
      "819:\tlearn: 0.3094094\ttotal: 2.1s\tremaining: 462ms\n",
      "820:\tlearn: 0.3092518\ttotal: 2.11s\tremaining: 460ms\n",
      "821:\tlearn: 0.3091745\ttotal: 2.11s\tremaining: 457ms\n",
      "822:\tlearn: 0.3090363\ttotal: 2.11s\tremaining: 454ms\n",
      "823:\tlearn: 0.3089257\ttotal: 2.11s\tremaining: 452ms\n",
      "824:\tlearn: 0.3088269\ttotal: 2.12s\tremaining: 449ms\n",
      "825:\tlearn: 0.3087418\ttotal: 2.12s\tremaining: 447ms\n",
      "826:\tlearn: 0.3086638\ttotal: 2.12s\tremaining: 444ms\n",
      "827:\tlearn: 0.3085705\ttotal: 2.12s\tremaining: 441ms\n",
      "828:\tlearn: 0.3085064\ttotal: 2.13s\tremaining: 439ms\n",
      "829:\tlearn: 0.3084499\ttotal: 2.13s\tremaining: 436ms\n",
      "830:\tlearn: 0.3083770\ttotal: 2.13s\tremaining: 433ms\n",
      "831:\tlearn: 0.3082623\ttotal: 2.13s\tremaining: 431ms\n",
      "832:\tlearn: 0.3082023\ttotal: 2.14s\tremaining: 428ms\n",
      "833:\tlearn: 0.3081231\ttotal: 2.14s\tremaining: 426ms\n",
      "834:\tlearn: 0.3080315\ttotal: 2.14s\tremaining: 423ms\n",
      "835:\tlearn: 0.3079094\ttotal: 2.14s\tremaining: 421ms\n",
      "836:\tlearn: 0.3078636\ttotal: 2.15s\tremaining: 418ms\n",
      "837:\tlearn: 0.3077665\ttotal: 2.15s\tremaining: 416ms\n"
     ]
    },
    {
     "name": "stdout",
     "output_type": "stream",
     "text": [
      "838:\tlearn: 0.3076840\ttotal: 2.15s\tremaining: 413ms\n",
      "839:\tlearn: 0.3075438\ttotal: 2.15s\tremaining: 410ms\n",
      "840:\tlearn: 0.3074782\ttotal: 2.16s\tremaining: 408ms\n",
      "841:\tlearn: 0.3074062\ttotal: 2.16s\tremaining: 405ms\n",
      "842:\tlearn: 0.3073513\ttotal: 2.16s\tremaining: 403ms\n",
      "843:\tlearn: 0.3072985\ttotal: 2.16s\tremaining: 400ms\n",
      "844:\tlearn: 0.3071920\ttotal: 2.17s\tremaining: 397ms\n",
      "845:\tlearn: 0.3071163\ttotal: 2.17s\tremaining: 395ms\n",
      "846:\tlearn: 0.3070605\ttotal: 2.17s\tremaining: 392ms\n",
      "847:\tlearn: 0.3070059\ttotal: 2.17s\tremaining: 390ms\n",
      "848:\tlearn: 0.3069201\ttotal: 2.18s\tremaining: 387ms\n",
      "849:\tlearn: 0.3068250\ttotal: 2.18s\tremaining: 384ms\n",
      "850:\tlearn: 0.3067518\ttotal: 2.18s\tremaining: 382ms\n",
      "851:\tlearn: 0.3066841\ttotal: 2.18s\tremaining: 379ms\n",
      "852:\tlearn: 0.3065878\ttotal: 2.19s\tremaining: 377ms\n",
      "853:\tlearn: 0.3065281\ttotal: 2.19s\tremaining: 374ms\n",
      "854:\tlearn: 0.3064861\ttotal: 2.19s\tremaining: 372ms\n",
      "855:\tlearn: 0.3063991\ttotal: 2.19s\tremaining: 369ms\n",
      "856:\tlearn: 0.3062971\ttotal: 2.19s\tremaining: 366ms\n",
      "857:\tlearn: 0.3062411\ttotal: 2.2s\tremaining: 364ms\n",
      "858:\tlearn: 0.3061599\ttotal: 2.2s\tremaining: 361ms\n",
      "859:\tlearn: 0.3060709\ttotal: 2.2s\tremaining: 359ms\n",
      "860:\tlearn: 0.3060133\ttotal: 2.21s\tremaining: 356ms\n",
      "861:\tlearn: 0.3059687\ttotal: 2.21s\tremaining: 353ms\n",
      "862:\tlearn: 0.3058896\ttotal: 2.21s\tremaining: 351ms\n"
     ]
    },
    {
     "name": "stdout",
     "output_type": "stream",
     "text": [
      "863:\tlearn: 0.3058471\ttotal: 2.21s\tremaining: 348ms\n",
      "864:\tlearn: 0.3057794\ttotal: 2.22s\tremaining: 346ms\n",
      "865:\tlearn: 0.3057182\ttotal: 2.22s\tremaining: 343ms\n",
      "866:\tlearn: 0.3056183\ttotal: 2.22s\tremaining: 341ms\n",
      "867:\tlearn: 0.3055589\ttotal: 2.22s\tremaining: 338ms\n",
      "868:\tlearn: 0.3054370\ttotal: 2.23s\tremaining: 336ms\n",
      "869:\tlearn: 0.3053714\ttotal: 2.23s\tremaining: 333ms\n",
      "870:\tlearn: 0.3053147\ttotal: 2.23s\tremaining: 330ms\n",
      "871:\tlearn: 0.3052392\ttotal: 2.23s\tremaining: 328ms\n",
      "872:\tlearn: 0.3051059\ttotal: 2.23s\tremaining: 325ms\n",
      "873:\tlearn: 0.3050569\ttotal: 2.24s\tremaining: 323ms\n",
      "874:\tlearn: 0.3049788\ttotal: 2.24s\tremaining: 320ms\n",
      "875:\tlearn: 0.3048922\ttotal: 2.24s\tremaining: 318ms\n",
      "876:\tlearn: 0.3048242\ttotal: 2.25s\tremaining: 315ms\n",
      "877:\tlearn: 0.3047336\ttotal: 2.25s\tremaining: 312ms\n",
      "878:\tlearn: 0.3046383\ttotal: 2.25s\tremaining: 310ms\n",
      "879:\tlearn: 0.3045689\ttotal: 2.25s\tremaining: 307ms\n",
      "880:\tlearn: 0.3044853\ttotal: 2.25s\tremaining: 305ms\n",
      "881:\tlearn: 0.3044061\ttotal: 2.26s\tremaining: 302ms\n",
      "882:\tlearn: 0.3042827\ttotal: 2.26s\tremaining: 300ms\n",
      "883:\tlearn: 0.3042432\ttotal: 2.26s\tremaining: 297ms\n",
      "884:\tlearn: 0.3041980\ttotal: 2.27s\tremaining: 294ms\n",
      "885:\tlearn: 0.3040905\ttotal: 2.27s\tremaining: 292ms\n",
      "886:\tlearn: 0.3040415\ttotal: 2.27s\tremaining: 289ms\n",
      "887:\tlearn: 0.3039504\ttotal: 2.27s\tremaining: 287ms\n",
      "888:\tlearn: 0.3039092\ttotal: 2.27s\tremaining: 284ms\n",
      "889:\tlearn: 0.3038588\ttotal: 2.28s\tremaining: 281ms\n",
      "890:\tlearn: 0.3037904\ttotal: 2.28s\tremaining: 279ms\n"
     ]
    },
    {
     "name": "stdout",
     "output_type": "stream",
     "text": [
      "891:\tlearn: 0.3036656\ttotal: 2.28s\tremaining: 276ms\n",
      "892:\tlearn: 0.3036170\ttotal: 2.28s\tremaining: 274ms\n",
      "893:\tlearn: 0.3035395\ttotal: 2.29s\tremaining: 271ms\n",
      "894:\tlearn: 0.3034817\ttotal: 2.29s\tremaining: 269ms\n",
      "895:\tlearn: 0.3033927\ttotal: 2.29s\tremaining: 266ms\n",
      "896:\tlearn: 0.3032984\ttotal: 2.29s\tremaining: 263ms\n",
      "897:\tlearn: 0.3032223\ttotal: 2.3s\tremaining: 261ms\n",
      "898:\tlearn: 0.3031696\ttotal: 2.3s\tremaining: 258ms\n",
      "899:\tlearn: 0.3031008\ttotal: 2.3s\tremaining: 256ms\n",
      "900:\tlearn: 0.3030068\ttotal: 2.3s\tremaining: 253ms\n",
      "901:\tlearn: 0.3029401\ttotal: 2.31s\tremaining: 251ms\n",
      "902:\tlearn: 0.3028447\ttotal: 2.31s\tremaining: 248ms\n",
      "903:\tlearn: 0.3027641\ttotal: 2.31s\tremaining: 245ms\n",
      "904:\tlearn: 0.3027095\ttotal: 2.31s\tremaining: 243ms\n",
      "905:\tlearn: 0.3026344\ttotal: 2.32s\tremaining: 240ms\n",
      "906:\tlearn: 0.3025463\ttotal: 2.32s\tremaining: 238ms\n",
      "907:\tlearn: 0.3024552\ttotal: 2.32s\tremaining: 235ms\n",
      "908:\tlearn: 0.3023857\ttotal: 2.33s\tremaining: 233ms\n",
      "909:\tlearn: 0.3023094\ttotal: 2.33s\tremaining: 230ms\n",
      "910:\tlearn: 0.3022709\ttotal: 2.33s\tremaining: 228ms\n",
      "911:\tlearn: 0.3022004\ttotal: 2.33s\tremaining: 225ms\n",
      "912:\tlearn: 0.3021317\ttotal: 2.33s\tremaining: 222ms\n",
      "913:\tlearn: 0.3020670\ttotal: 2.34s\tremaining: 220ms\n",
      "914:\tlearn: 0.3019960\ttotal: 2.34s\tremaining: 217ms\n",
      "915:\tlearn: 0.3019149\ttotal: 2.34s\tremaining: 215ms\n",
      "916:\tlearn: 0.3018408\ttotal: 2.34s\tremaining: 212ms\n"
     ]
    },
    {
     "name": "stdout",
     "output_type": "stream",
     "text": [
      "917:\tlearn: 0.3017839\ttotal: 2.35s\tremaining: 210ms\n",
      "918:\tlearn: 0.3017165\ttotal: 2.35s\tremaining: 207ms\n",
      "919:\tlearn: 0.3016775\ttotal: 2.35s\tremaining: 205ms\n",
      "920:\tlearn: 0.3015815\ttotal: 2.35s\tremaining: 202ms\n",
      "921:\tlearn: 0.3014605\ttotal: 2.36s\tremaining: 199ms\n",
      "922:\tlearn: 0.3013978\ttotal: 2.36s\tremaining: 197ms\n",
      "923:\tlearn: 0.3013672\ttotal: 2.36s\tremaining: 194ms\n",
      "924:\tlearn: 0.3012864\ttotal: 2.37s\tremaining: 192ms\n",
      "925:\tlearn: 0.3012283\ttotal: 2.37s\tremaining: 189ms\n",
      "926:\tlearn: 0.3011810\ttotal: 2.37s\tremaining: 187ms\n",
      "927:\tlearn: 0.3010584\ttotal: 2.37s\tremaining: 184ms\n",
      "928:\tlearn: 0.3009288\ttotal: 2.38s\tremaining: 182ms\n",
      "929:\tlearn: 0.3008263\ttotal: 2.38s\tremaining: 179ms\n",
      "930:\tlearn: 0.3007621\ttotal: 2.38s\tremaining: 176ms\n",
      "931:\tlearn: 0.3006505\ttotal: 2.38s\tremaining: 174ms\n",
      "932:\tlearn: 0.3005830\ttotal: 2.38s\tremaining: 171ms\n",
      "933:\tlearn: 0.3005169\ttotal: 2.39s\tremaining: 169ms\n",
      "934:\tlearn: 0.3004506\ttotal: 2.39s\tremaining: 166ms\n",
      "935:\tlearn: 0.3003803\ttotal: 2.39s\tremaining: 164ms\n",
      "936:\tlearn: 0.3003397\ttotal: 2.4s\tremaining: 161ms\n",
      "937:\tlearn: 0.3002557\ttotal: 2.4s\tremaining: 159ms\n",
      "938:\tlearn: 0.3001533\ttotal: 2.4s\tremaining: 156ms\n",
      "939:\tlearn: 0.3001001\ttotal: 2.4s\tremaining: 153ms\n",
      "940:\tlearn: 0.3000242\ttotal: 2.4s\tremaining: 151ms\n"
     ]
    },
    {
     "name": "stdout",
     "output_type": "stream",
     "text": [
      "941:\tlearn: 0.2999510\ttotal: 2.41s\tremaining: 148ms\n",
      "942:\tlearn: 0.2998913\ttotal: 2.41s\tremaining: 146ms\n",
      "943:\tlearn: 0.2998034\ttotal: 2.41s\tremaining: 143ms\n",
      "944:\tlearn: 0.2997117\ttotal: 2.42s\tremaining: 141ms\n",
      "945:\tlearn: 0.2996372\ttotal: 2.42s\tremaining: 138ms\n",
      "946:\tlearn: 0.2995794\ttotal: 2.42s\tremaining: 135ms\n",
      "947:\tlearn: 0.2995103\ttotal: 2.42s\tremaining: 133ms\n",
      "948:\tlearn: 0.2994354\ttotal: 2.42s\tremaining: 130ms\n",
      "949:\tlearn: 0.2993806\ttotal: 2.43s\tremaining: 128ms\n",
      "950:\tlearn: 0.2993111\ttotal: 2.43s\tremaining: 125ms\n",
      "951:\tlearn: 0.2992260\ttotal: 2.43s\tremaining: 123ms\n",
      "952:\tlearn: 0.2991939\ttotal: 2.43s\tremaining: 120ms\n",
      "953:\tlearn: 0.2990937\ttotal: 2.44s\tremaining: 118ms\n",
      "954:\tlearn: 0.2990266\ttotal: 2.44s\tremaining: 115ms\n",
      "955:\tlearn: 0.2989188\ttotal: 2.44s\tremaining: 112ms\n",
      "956:\tlearn: 0.2988602\ttotal: 2.44s\tremaining: 110ms\n",
      "957:\tlearn: 0.2987919\ttotal: 2.45s\tremaining: 107ms\n",
      "958:\tlearn: 0.2987146\ttotal: 2.45s\tremaining: 105ms\n",
      "959:\tlearn: 0.2986335\ttotal: 2.45s\tremaining: 102ms\n",
      "960:\tlearn: 0.2985655\ttotal: 2.46s\tremaining: 99.7ms\n",
      "961:\tlearn: 0.2985240\ttotal: 2.46s\tremaining: 97.1ms\n",
      "962:\tlearn: 0.2984793\ttotal: 2.46s\tremaining: 94.6ms\n",
      "963:\tlearn: 0.2983741\ttotal: 2.46s\tremaining: 92ms\n",
      "964:\tlearn: 0.2982464\ttotal: 2.47s\tremaining: 89.4ms\n",
      "965:\tlearn: 0.2981353\ttotal: 2.47s\tremaining: 86.9ms\n",
      "966:\tlearn: 0.2980751\ttotal: 2.47s\tremaining: 84.4ms\n",
      "967:\tlearn: 0.2980199\ttotal: 2.47s\tremaining: 81.8ms\n"
     ]
    },
    {
     "name": "stdout",
     "output_type": "stream",
     "text": [
      "968:\tlearn: 0.2979263\ttotal: 2.48s\tremaining: 79.2ms\n",
      "969:\tlearn: 0.2978602\ttotal: 2.48s\tremaining: 76.7ms\n",
      "970:\tlearn: 0.2978058\ttotal: 2.48s\tremaining: 74.1ms\n",
      "971:\tlearn: 0.2977613\ttotal: 2.48s\tremaining: 71.5ms\n",
      "972:\tlearn: 0.2977104\ttotal: 2.49s\tremaining: 69ms\n",
      "973:\tlearn: 0.2975840\ttotal: 2.49s\tremaining: 66.4ms\n",
      "974:\tlearn: 0.2975507\ttotal: 2.49s\tremaining: 63.9ms\n",
      "975:\tlearn: 0.2974838\ttotal: 2.49s\tremaining: 61.3ms\n",
      "976:\tlearn: 0.2974251\ttotal: 2.5s\tremaining: 58.8ms\n",
      "977:\tlearn: 0.2973229\ttotal: 2.5s\tremaining: 56.2ms\n",
      "978:\tlearn: 0.2972575\ttotal: 2.5s\tremaining: 53.7ms\n",
      "979:\tlearn: 0.2972060\ttotal: 2.5s\tremaining: 51.1ms\n",
      "980:\tlearn: 0.2971456\ttotal: 2.51s\tremaining: 48.5ms\n",
      "981:\tlearn: 0.2970631\ttotal: 2.51s\tremaining: 46ms\n",
      "982:\tlearn: 0.2969973\ttotal: 2.51s\tremaining: 43.4ms\n",
      "983:\tlearn: 0.2969358\ttotal: 2.51s\tremaining: 40.9ms\n",
      "984:\tlearn: 0.2968924\ttotal: 2.52s\tremaining: 38.3ms\n",
      "985:\tlearn: 0.2968300\ttotal: 2.52s\tremaining: 35.8ms\n",
      "986:\tlearn: 0.2967574\ttotal: 2.52s\tremaining: 33.2ms\n",
      "987:\tlearn: 0.2967197\ttotal: 2.52s\tremaining: 30.6ms\n",
      "988:\tlearn: 0.2966853\ttotal: 2.52s\tremaining: 28.1ms\n",
      "989:\tlearn: 0.2966449\ttotal: 2.53s\tremaining: 25.5ms\n",
      "990:\tlearn: 0.2965544\ttotal: 2.53s\tremaining: 23ms\n",
      "991:\tlearn: 0.2964699\ttotal: 2.53s\tremaining: 20.4ms\n",
      "992:\tlearn: 0.2964191\ttotal: 2.54s\tremaining: 17.9ms\n",
      "993:\tlearn: 0.2963253\ttotal: 2.54s\tremaining: 15.3ms\n",
      "994:\tlearn: 0.2962097\ttotal: 2.54s\tremaining: 12.8ms\n"
     ]
    },
    {
     "name": "stdout",
     "output_type": "stream",
     "text": [
      "995:\tlearn: 0.2961530\ttotal: 2.54s\tremaining: 10.2ms\n",
      "996:\tlearn: 0.2960775\ttotal: 2.54s\tremaining: 7.66ms\n",
      "997:\tlearn: 0.2960003\ttotal: 2.55s\tremaining: 5.11ms\n",
      "998:\tlearn: 0.2959318\ttotal: 2.55s\tremaining: 2.55ms\n",
      "999:\tlearn: 0.2958701\ttotal: 2.55s\tremaining: 0us\n",
      "Mean Squared error 0.1516002136791828\n"
     ]
    },
    {
     "data": {
      "application/scrapbook.scrap.json+json": {
       "data": 0.1516002136791828,
       "encoder": "json",
       "name": "Catboost MAE",
       "version": 1
      }
     },
     "metadata": {
      "scrapbook": {
       "data": true,
       "display": false,
       "name": "Catboost MAE"
      }
     },
     "output_type": "display_data"
    }
   ],
   "source": [
    "mae_cb = baselineModels.catboost(X_train,y_train,X_test,y_test)\n",
    "#Store MSE Value\n",
    "sb.glue(\"Catboost MAE\",mae_cb)"
   ]
  }
 ],
 "metadata": {
  "interpreter": {
   "hash": "10498c76ddd8160350534c6544a2b2fb65f2138dbc70420f7c81a3268f830f23"
  },
  "kernelspec": {
   "display_name": "Python 3 (ipykernel)",
   "language": "python",
   "name": "python3"
  },
  "language_info": {
   "codemirror_mode": {
    "name": "ipython",
    "version": 3
   },
   "file_extension": ".py",
   "mimetype": "text/x-python",
   "name": "python",
   "nbconvert_exporter": "python",
   "pygments_lexer": "ipython3",
   "version": "3.8.11"
  },
  "papermill": {
   "default_parameters": {},
   "duration": 5.772698,
   "end_time": "2022-03-02T04:30:34.925417",
   "environment_variables": {},
   "exception": null,
   "input_path": "BaselineModels.ipynb",
   "output_path": "./BaseLine_Model_Output/BaselineModels_output_4.ipynb",
   "parameters": {},
   "start_time": "2022-03-02T04:30:29.152719",
   "version": "2.3.3"
  }
 },
 "nbformat": 4,
 "nbformat_minor": 5
}