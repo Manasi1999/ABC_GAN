{
 "cells": [
  {
   "cell_type": "markdown",
   "id": "287a3d9f",
   "metadata": {
    "papermill": {
     "duration": 0.012251,
     "end_time": "2022-03-02T04:30:43.258350",
     "exception": false,
     "start_time": "2022-03-02T04:30:43.246099",
     "status": "completed"
    },
    "tags": []
   },
   "source": [
    "## Import Libraries "
   ]
  },
  {
   "cell_type": "code",
   "execution_count": 1,
   "id": "f4e99ca1",
   "metadata": {
    "execution": {
     "iopub.execute_input": "2022-03-02T04:30:43.283636Z",
     "iopub.status.busy": "2022-03-02T04:30:43.283004Z",
     "iopub.status.idle": "2022-03-02T04:30:43.285849Z",
     "shell.execute_reply": "2022-03-02T04:30:43.286283Z"
    },
    "papermill": {
     "duration": 0.019864,
     "end_time": "2022-03-02T04:30:43.286556",
     "exception": false,
     "start_time": "2022-03-02T04:30:43.266692",
     "status": "completed"
    },
    "tags": []
   },
   "outputs": [],
   "source": [
    "import warnings\n",
    "import sys\n",
    "sys.path.insert(0, '../../src')\n",
    "warnings.filterwarnings('ignore')"
   ]
  },
  {
   "cell_type": "code",
   "execution_count": 2,
   "id": "b5446129",
   "metadata": {
    "execution": {
     "iopub.execute_input": "2022-03-02T04:30:43.300662Z",
     "iopub.status.busy": "2022-03-02T04:30:43.300133Z",
     "iopub.status.idle": "2022-03-02T04:30:44.951891Z",
     "shell.execute_reply": "2022-03-02T04:30:44.952125Z"
    },
    "papermill": {
     "duration": 1.660117,
     "end_time": "2022-03-02T04:30:44.952251",
     "exception": false,
     "start_time": "2022-03-02T04:30:43.292134",
     "status": "completed"
    },
    "tags": []
   },
   "outputs": [],
   "source": [
    "import statsModel\n",
    "import scrapbook as sb \n",
    "import torch \n",
    "import statsModel\n",
    "import baselineModels\n",
    "import californiaDataset\n",
    "import dataset \n",
    "from torch.utils.data import random_split \n",
    "from sklearn.model_selection import train_test_split"
   ]
  },
  {
   "cell_type": "markdown",
   "id": "8d51b384",
   "metadata": {
    "papermill": {
     "duration": 0.002994,
     "end_time": "2022-03-02T04:30:44.958356",
     "exception": false,
     "start_time": "2022-03-02T04:30:44.955362",
     "status": "completed"
    },
    "tags": []
   },
   "source": [
    "## Import Dataset \n"
   ]
  },
  {
   "cell_type": "code",
   "execution_count": 3,
   "id": "e65c5258",
   "metadata": {
    "execution": {
     "iopub.execute_input": "2022-03-02T04:30:44.967945Z",
     "iopub.status.busy": "2022-03-02T04:30:44.967553Z",
     "iopub.status.idle": "2022-03-02T04:30:44.981562Z",
     "shell.execute_reply": "2022-03-02T04:30:44.981808Z"
    },
    "papermill": {
     "duration": 0.019363,
     "end_time": "2022-03-02T04:30:44.981927",
     "exception": false,
     "start_time": "2022-03-02T04:30:44.962564",
     "status": "completed"
    },
    "tags": []
   },
   "outputs": [
    {
     "name": "stdout",
     "output_type": "stream",
     "text": [
      "       X1    X2        X3        X4      X5        X6     X7      X8      Y\n",
      "0  8.3252  41.0  6.984127  1.023810   322.0  2.555556  37.88 -122.23  4.526\n",
      "1  8.3014  21.0  6.238137  0.971880  2401.0  2.109842  37.86 -122.22  3.585\n",
      "2  7.2574  52.0  8.288136  1.073446   496.0  2.802260  37.85 -122.24  3.521\n",
      "3  5.6431  52.0  5.817352  1.073059   558.0  2.547945  37.85 -122.25  3.413\n",
      "4  3.8462  52.0  6.281853  1.081081   565.0  2.181467  37.85 -122.25  3.422\n"
     ]
    }
   ],
   "source": [
    "n_features = 8\n",
    "n_samples= 20640\n",
    "n_target = 1 \n",
    "X,Y = californiaDataset.california_data()"
   ]
  },
  {
   "cell_type": "code",
   "execution_count": 4,
   "id": "931bd426",
   "metadata": {
    "execution": {
     "iopub.execute_input": "2022-03-02T04:30:44.990554Z",
     "iopub.status.busy": "2022-03-02T04:30:44.989924Z",
     "iopub.status.idle": "2022-03-02T04:30:44.992488Z",
     "shell.execute_reply": "2022-03-02T04:30:44.992720Z"
    },
    "papermill": {
     "duration": 0.007744,
     "end_time": "2022-03-02T04:30:44.992829",
     "exception": false,
     "start_time": "2022-03-02T04:30:44.985085",
     "status": "completed"
    },
    "tags": []
   },
   "outputs": [],
   "source": [
    "# Train test split for dataset \n",
    "real_dataset = dataset.CustomDataset(X,Y)\n",
    "X_train, X_test, y_train, y_test = train_test_split(X, Y, test_size=0.2)"
   ]
  },
  {
   "cell_type": "markdown",
   "id": "9c265f86",
   "metadata": {
    "papermill": {
     "duration": 0.002958,
     "end_time": "2022-03-02T04:30:44.998895",
     "exception": false,
     "start_time": "2022-03-02T04:30:44.995937",
     "status": "completed"
    },
    "tags": []
   },
   "source": [
    "## Stats Model \n",
    "\n"
   ]
  },
  {
   "cell_type": "code",
   "execution_count": 5,
   "id": "e43dd7a2",
   "metadata": {
    "execution": {
     "iopub.execute_input": "2022-03-02T04:30:45.007005Z",
     "iopub.status.busy": "2022-03-02T04:30:45.006556Z",
     "iopub.status.idle": "2022-03-02T04:30:45.108055Z",
     "shell.execute_reply": "2022-03-02T04:30:45.108414Z"
    },
    "papermill": {
     "duration": 0.106732,
     "end_time": "2022-03-02T04:30:45.108543",
     "exception": false,
     "start_time": "2022-03-02T04:30:45.001811",
     "status": "completed"
    },
    "tags": []
   },
   "outputs": [
    {
     "name": "stderr",
     "output_type": "stream",
     "text": [
      "No handles with labels found to put in legend.\n"
     ]
    },
    {
     "name": "stdout",
     "output_type": "stream",
     "text": [
      "                                 OLS Regression Results                                \n",
      "=======================================================================================\n",
      "Dep. Variable:                      y   R-squared (uncentered):                   0.611\n",
      "Model:                            OLS   Adj. R-squared (uncentered):              0.610\n",
      "Method:                 Least Squares   F-statistic:                              3234.\n",
      "Date:                Wed, 02 Mar 2022   Prob (F-statistic):                        0.00\n",
      "Time:                        10:00:45   Log-Likelihood:                         -15679.\n",
      "No. Observations:               16512   AIC:                                  3.137e+04\n",
      "Df Residuals:                   16504   BIC:                                  3.144e+04\n",
      "Df Model:                           8                                                  \n",
      "Covariance Type:            nonrobust                                                  \n",
      "==============================================================================\n",
      "                 coef    std err          t      P>|t|      [0.025      0.975]\n",
      "------------------------------------------------------------------------------\n",
      "x1             0.7364      0.008     94.898      0.000       0.721       0.752\n",
      "x2             0.1061      0.005     19.571      0.000       0.096       0.117\n",
      "x3            -0.2641      0.014    -18.523      0.000      -0.292      -0.236\n",
      "x4             0.3286      0.014     23.565      0.000       0.301       0.356\n",
      "x5            -0.0011      0.005     -0.203      0.839      -0.011       0.009\n",
      "x6            -0.0371      0.005     -7.982      0.000      -0.046      -0.028\n",
      "x7            -0.7753      0.015    -52.371      0.000      -0.804      -0.746\n",
      "x8            -0.7515      0.015    -51.685      0.000      -0.780      -0.723\n",
      "==============================================================================\n",
      "Omnibus:                     3354.478   Durbin-Watson:                   2.027\n",
      "Prob(Omnibus):                  0.000   Jarque-Bera (JB):             9534.232\n",
      "Skew:                           1.073   Prob(JB):                         0.00\n",
      "Kurtosis:                       6.041   Cond. No.                         6.69\n",
      "==============================================================================\n",
      "\n",
      "Notes:\n",
      "[1] R² is computed without centering (uncentered) since the model does not contain a constant.\n",
      "[2] Standard Errors assume that the covariance matrix of the errors is correctly specified.\n"
     ]
    },
    {
     "data": {
      "image/png": "[encoded data removed]",
      "text/plain": [
       "<Figure size 432x288 with 1 Axes>"
      ]
     },
     "metadata": {
      "needs_background": "light"
     },
     "output_type": "display_data"
    },
    {
     "name": "stdout",
     "output_type": "stream",
     "text": [
      "Performance Metrics\n",
      "Mean Squared Error: 0.41098854985085453\n",
      "Mean Absolute Error: 0.45589343674555766\n",
      "Manhattan distance: 1881.9281068856637\n",
      "Euclidean distance: 41.18932791129673\n"
     ]
    },
    {
     "data": {
      "application/scrapbook.scrap.json+json": {
       "data": 0.41098854985085453,
       "encoder": "json",
       "name": "Stats Model MSE",
       "version": 1
      }
     },
     "metadata": {
      "scrapbook": {
       "data": true,
       "display": false,
       "name": "Stats Model MSE"
      }
     },
     "output_type": "display_data"
    },
    {
     "data": {
      "application/scrapbook.scrap.json+json": {
       "data": 0.45589343674555766,
       "encoder": "json",
       "name": "Stats Model MAE",
       "version": 1
      }
     },
     "metadata": {
      "scrapbook": {
       "data": true,
       "display": false,
       "name": "Stats Model MAE"
      }
     },
     "output_type": "display_data"
    },
    {
     "data": {
      "application/scrapbook.scrap.json+json": {
       "data": 1881.9281068856637,
       "encoder": "json",
       "name": "Stats Model Manhattan Distance",
       "version": 1
      }
     },
     "metadata": {
      "scrapbook": {
       "data": true,
       "display": false,
       "name": "Stats Model Manhattan Distance"
      }
     },
     "output_type": "display_data"
    },
    {
     "data": {
      "application/scrapbook.scrap.json+json": {
       "data": 41.18932791129673,
       "encoder": "json",
       "name": "Stats Model Euclidean distance",
       "version": 1
      }
     },
     "metadata": {
      "scrapbook": {
       "data": true,
       "display": false,
       "name": "Stats Model Euclidean distance"
      }
     },
     "output_type": "display_data"
    },
    {
     "data": {
      "application/scrapbook.scrap.json+json": {
       "data": [
        0.7364433989796865,
        0.10614841673065246,
        -0.26414357763914836,
        0.3286059722945741,
        -0.001078675418890768,
        -0.037092444896085736,
        -0.7752783016849124,
        -0.7514762023396494
       ],
       "encoder": "json",
       "name": "Coefficients",
       "version": 1
      }
     },
     "metadata": {
      "scrapbook": {
       "data": true,
       "display": false,
       "name": "Coefficients"
      }
     },
     "output_type": "display_data"
    }
   ],
   "source": [
    "coefficients , y_pred =statsModel.statsModel(X_train,y_train,X_test,y_test)\n",
    "#Store MSE Value \n",
    "sb.glue(\"Coefficients\",coefficients)"
   ]
  },
  {
   "cell_type": "markdown",
   "id": "87492da3",
   "metadata": {
    "papermill": {
     "duration": 0.00531,
     "end_time": "2022-03-02T04:30:45.119304",
     "exception": false,
     "start_time": "2022-03-02T04:30:45.113994",
     "status": "completed"
    },
    "tags": []
   },
   "source": [
    "# Catboost Model "
   ]
  },
  {
   "cell_type": "code",
   "execution_count": 6,
   "id": "fe860d86",
   "metadata": {
    "execution": {
     "iopub.execute_input": "2022-03-02T04:30:45.164945Z",
     "iopub.status.busy": "2022-03-02T04:30:45.164542Z",
     "iopub.status.idle": "2022-03-02T04:30:47.851519Z",
     "shell.execute_reply": "2022-03-02T04:30:47.851901Z"
    },
    "papermill": {
     "duration": 2.727784,
     "end_time": "2022-03-02T04:30:47.852023",
     "exception": false,
     "start_time": "2022-03-02T04:30:45.124239",
     "status": "completed"
    },
    "tags": []
   },
   "outputs": [
    {
     "name": "stdout",
     "output_type": "stream",
     "text": [
      "Learning rate set to 0.064294\n"
     ]
    },
    {
     "name": "stdout",
     "output_type": "stream",
     "text": [
      "0:\tlearn: 0.9661356\ttotal: 59.6ms\tremaining: 59.5s\n",
      "1:\tlearn: 0.9339838\ttotal: 62.6ms\tremaining: 31.2s\n",
      "2:\tlearn: 0.9038795\ttotal: 65.6ms\tremaining: 21.8s\n",
      "3:\tlearn: 0.8766208\ttotal: 68ms\tremaining: 16.9s\n",
      "4:\tlearn: 0.8505196\ttotal: 70.5ms\tremaining: 14s\n",
      "5:\tlearn: 0.8266372\ttotal: 73.7ms\tremaining: 12.2s\n",
      "6:\tlearn: 0.8037320\ttotal: 76.4ms\tremaining: 10.8s\n",
      "7:\tlearn: 0.7837676\ttotal: 78.6ms\tremaining: 9.75s\n",
      "8:\tlearn: 0.7654698\ttotal: 80.9ms\tremaining: 8.91s\n",
      "9:\tlearn: 0.7478895\ttotal: 83.8ms\tremaining: 8.29s\n",
      "10:\tlearn: 0.7312686\ttotal: 86.3ms\tremaining: 7.76s\n",
      "11:\tlearn: 0.7154520\ttotal: 89.3ms\tremaining: 7.36s\n",
      "12:\tlearn: 0.7019938\ttotal: 91.9ms\tremaining: 6.98s\n",
      "13:\tlearn: 0.6885485\ttotal: 94.1ms\tremaining: 6.63s\n",
      "14:\tlearn: 0.6748600\ttotal: 96.6ms\tremaining: 6.34s\n",
      "15:\tlearn: 0.6632615\ttotal: 98.9ms\tremaining: 6.08s\n",
      "16:\tlearn: 0.6533944\ttotal: 101ms\tremaining: 5.86s\n",
      "17:\tlearn: 0.6440178\ttotal: 104ms\tremaining: 5.68s\n",
      "18:\tlearn: 0.6355542\ttotal: 107ms\tremaining: 5.52s\n",
      "19:\tlearn: 0.6280815\ttotal: 109ms\tremaining: 5.35s\n",
      "20:\tlearn: 0.6210099\ttotal: 112ms\tremaining: 5.21s\n",
      "21:\tlearn: 0.6139292\ttotal: 114ms\tremaining: 5.08s\n",
      "22:\tlearn: 0.6059619\ttotal: 117ms\tremaining: 4.97s\n",
      "23:\tlearn: 0.5977933\ttotal: 119ms\tremaining: 4.86s\n",
      "24:\tlearn: 0.5909797\ttotal: 122ms\tremaining: 4.75s\n",
      "25:\tlearn: 0.5840549\ttotal: 124ms\tremaining: 4.65s\n",
      "26:\tlearn: 0.5785972\ttotal: 127ms\tremaining: 4.57s\n"
     ]
    },
    {
     "name": "stdout",
     "output_type": "stream",
     "text": [
      "27:\tlearn: 0.5725471\ttotal: 129ms\tremaining: 4.48s\n",
      "28:\tlearn: 0.5675015\ttotal: 131ms\tremaining: 4.4s\n",
      "29:\tlearn: 0.5615691\ttotal: 134ms\tremaining: 4.34s\n",
      "30:\tlearn: 0.5580143\ttotal: 137ms\tremaining: 4.27s\n",
      "31:\tlearn: 0.5545675\ttotal: 139ms\tremaining: 4.2s\n",
      "32:\tlearn: 0.5511072\ttotal: 141ms\tremaining: 4.13s\n",
      "33:\tlearn: 0.5482101\ttotal: 144ms\tremaining: 4.08s\n",
      "34:\tlearn: 0.5432957\ttotal: 146ms\tremaining: 4.03s\n",
      "35:\tlearn: 0.5406481\ttotal: 149ms\tremaining: 3.99s\n",
      "36:\tlearn: 0.5374977\ttotal: 152ms\tremaining: 3.95s\n",
      "37:\tlearn: 0.5349273\ttotal: 155ms\tremaining: 3.92s\n",
      "38:\tlearn: 0.5307015\ttotal: 157ms\tremaining: 3.87s\n",
      "39:\tlearn: 0.5286984\ttotal: 160ms\tremaining: 3.83s\n",
      "40:\tlearn: 0.5266343\ttotal: 162ms\tremaining: 3.8s\n",
      "41:\tlearn: 0.5245690\ttotal: 165ms\tremaining: 3.75s\n",
      "42:\tlearn: 0.5215990\ttotal: 168ms\tremaining: 3.73s\n",
      "43:\tlearn: 0.5177837\ttotal: 170ms\tremaining: 3.7s\n",
      "44:\tlearn: 0.5144762\ttotal: 173ms\tremaining: 3.67s\n",
      "45:\tlearn: 0.5117408\ttotal: 175ms\tremaining: 3.63s\n",
      "46:\tlearn: 0.5089857\ttotal: 177ms\tremaining: 3.6s\n",
      "47:\tlearn: 0.5072264\ttotal: 180ms\tremaining: 3.57s\n",
      "48:\tlearn: 0.5052109\ttotal: 182ms\tremaining: 3.54s\n",
      "49:\tlearn: 0.5039137\ttotal: 185ms\tremaining: 3.51s\n",
      "50:\tlearn: 0.5020015\ttotal: 188ms\tremaining: 3.49s\n",
      "51:\tlearn: 0.4999814\ttotal: 190ms\tremaining: 3.46s\n",
      "52:\tlearn: 0.4975368\ttotal: 193ms\tremaining: 3.44s\n"
     ]
    },
    {
     "name": "stdout",
     "output_type": "stream",
     "text": [
      "53:\tlearn: 0.4962411\ttotal: 195ms\tremaining: 3.42s\n",
      "54:\tlearn: 0.4942864\ttotal: 198ms\tremaining: 3.4s\n",
      "55:\tlearn: 0.4919621\ttotal: 200ms\tremaining: 3.38s\n",
      "56:\tlearn: 0.4906577\ttotal: 203ms\tremaining: 3.35s\n",
      "57:\tlearn: 0.4897420\ttotal: 205ms\tremaining: 3.34s\n",
      "58:\tlearn: 0.4887744\ttotal: 208ms\tremaining: 3.32s\n",
      "59:\tlearn: 0.4877921\ttotal: 211ms\tremaining: 3.3s\n",
      "60:\tlearn: 0.4866747\ttotal: 213ms\tremaining: 3.28s\n",
      "61:\tlearn: 0.4858063\ttotal: 215ms\tremaining: 3.26s\n",
      "62:\tlearn: 0.4850334\ttotal: 218ms\tremaining: 3.24s\n",
      "63:\tlearn: 0.4834512\ttotal: 220ms\tremaining: 3.22s\n",
      "64:\tlearn: 0.4821998\ttotal: 223ms\tremaining: 3.2s\n",
      "65:\tlearn: 0.4807922\ttotal: 226ms\tremaining: 3.2s\n",
      "66:\tlearn: 0.4799034\ttotal: 229ms\tremaining: 3.18s\n",
      "67:\tlearn: 0.4787294\ttotal: 231ms\tremaining: 3.17s\n",
      "68:\tlearn: 0.4774388\ttotal: 234ms\tremaining: 3.15s\n",
      "69:\tlearn: 0.4763692\ttotal: 236ms\tremaining: 3.14s\n",
      "70:\tlearn: 0.4754841\ttotal: 239ms\tremaining: 3.12s\n",
      "71:\tlearn: 0.4735945\ttotal: 241ms\tremaining: 3.11s\n",
      "72:\tlearn: 0.4728893\ttotal: 244ms\tremaining: 3.1s\n",
      "73:\tlearn: 0.4723771\ttotal: 246ms\tremaining: 3.08s\n",
      "74:\tlearn: 0.4715520\ttotal: 249ms\tremaining: 3.06s\n",
      "75:\tlearn: 0.4709806\ttotal: 251ms\tremaining: 3.05s\n",
      "76:\tlearn: 0.4694370\ttotal: 254ms\tremaining: 3.04s\n"
     ]
    },
    {
     "name": "stdout",
     "output_type": "stream",
     "text": [
      "77:\tlearn: 0.4683995\ttotal: 257ms\tremaining: 3.03s\n",
      "78:\tlearn: 0.4676476\ttotal: 259ms\tremaining: 3.02s\n",
      "79:\tlearn: 0.4669273\ttotal: 262ms\tremaining: 3.01s\n",
      "80:\tlearn: 0.4659313\ttotal: 264ms\tremaining: 3s\n",
      "81:\tlearn: 0.4651870\ttotal: 267ms\tremaining: 2.99s\n",
      "82:\tlearn: 0.4644941\ttotal: 269ms\tremaining: 2.98s\n",
      "83:\tlearn: 0.4639490\ttotal: 272ms\tremaining: 2.96s\n",
      "84:\tlearn: 0.4632024\ttotal: 274ms\tremaining: 2.95s\n",
      "85:\tlearn: 0.4627782\ttotal: 277ms\tremaining: 2.94s\n",
      "86:\tlearn: 0.4620702\ttotal: 279ms\tremaining: 2.93s\n",
      "87:\tlearn: 0.4616613\ttotal: 282ms\tremaining: 2.92s\n",
      "88:\tlearn: 0.4601368\ttotal: 284ms\tremaining: 2.91s\n",
      "89:\tlearn: 0.4592165\ttotal: 287ms\tremaining: 2.9s\n",
      "90:\tlearn: 0.4584968\ttotal: 289ms\tremaining: 2.89s\n",
      "91:\tlearn: 0.4577250\ttotal: 292ms\tremaining: 2.88s\n",
      "92:\tlearn: 0.4572164\ttotal: 294ms\tremaining: 2.87s\n",
      "93:\tlearn: 0.4564970\ttotal: 297ms\tremaining: 2.86s\n",
      "94:\tlearn: 0.4558306\ttotal: 300ms\tremaining: 2.85s\n",
      "95:\tlearn: 0.4550738\ttotal: 302ms\tremaining: 2.85s\n",
      "96:\tlearn: 0.4547359\ttotal: 305ms\tremaining: 2.83s\n",
      "97:\tlearn: 0.4540123\ttotal: 307ms\tremaining: 2.83s\n",
      "98:\tlearn: 0.4530318\ttotal: 309ms\tremaining: 2.81s\n",
      "99:\tlearn: 0.4524034\ttotal: 312ms\tremaining: 2.81s\n",
      "100:\tlearn: 0.4516577\ttotal: 314ms\tremaining: 2.8s\n",
      "101:\tlearn: 0.4510014\ttotal: 317ms\tremaining: 2.79s\n",
      "102:\tlearn: 0.4506505\ttotal: 319ms\tremaining: 2.78s\n",
      "103:\tlearn: 0.4499653\ttotal: 322ms\tremaining: 2.77s\n"
     ]
    },
    {
     "name": "stdout",
     "output_type": "stream",
     "text": [
      "104:\tlearn: 0.4492375\ttotal: 325ms\tremaining: 2.77s\n",
      "105:\tlearn: 0.4487083\ttotal: 327ms\tremaining: 2.76s\n",
      "106:\tlearn: 0.4483052\ttotal: 330ms\tremaining: 2.75s\n",
      "107:\tlearn: 0.4477173\ttotal: 332ms\tremaining: 2.75s\n",
      "108:\tlearn: 0.4470230\ttotal: 335ms\tremaining: 2.74s\n",
      "109:\tlearn: 0.4461857\ttotal: 337ms\tremaining: 2.73s\n",
      "110:\tlearn: 0.4458116\ttotal: 339ms\tremaining: 2.72s\n",
      "111:\tlearn: 0.4455527\ttotal: 342ms\tremaining: 2.71s\n",
      "112:\tlearn: 0.4449844\ttotal: 345ms\tremaining: 2.71s\n",
      "113:\tlearn: 0.4443785\ttotal: 347ms\tremaining: 2.7s\n",
      "114:\tlearn: 0.4439072\ttotal: 349ms\tremaining: 2.69s\n",
      "115:\tlearn: 0.4436307\ttotal: 352ms\tremaining: 2.68s\n",
      "116:\tlearn: 0.4431488\ttotal: 354ms\tremaining: 2.67s\n",
      "117:\tlearn: 0.4427499\ttotal: 356ms\tremaining: 2.66s\n",
      "118:\tlearn: 0.4421572\ttotal: 358ms\tremaining: 2.65s\n",
      "119:\tlearn: 0.4417884\ttotal: 361ms\tremaining: 2.65s\n",
      "120:\tlearn: 0.4413641\ttotal: 363ms\tremaining: 2.64s\n",
      "121:\tlearn: 0.4410372\ttotal: 366ms\tremaining: 2.63s\n",
      "122:\tlearn: 0.4402844\ttotal: 368ms\tremaining: 2.63s\n",
      "123:\tlearn: 0.4397217\ttotal: 371ms\tremaining: 2.62s\n",
      "124:\tlearn: 0.4393900\ttotal: 373ms\tremaining: 2.61s\n",
      "125:\tlearn: 0.4390628\ttotal: 376ms\tremaining: 2.61s\n",
      "126:\tlearn: 0.4383211\ttotal: 379ms\tremaining: 2.6s\n",
      "127:\tlearn: 0.4379024\ttotal: 381ms\tremaining: 2.6s\n",
      "128:\tlearn: 0.4373009\ttotal: 383ms\tremaining: 2.59s\n",
      "129:\tlearn: 0.4369060\ttotal: 386ms\tremaining: 2.58s\n",
      "130:\tlearn: 0.4363395\ttotal: 388ms\tremaining: 2.58s\n"
     ]
    },
    {
     "name": "stdout",
     "output_type": "stream",
     "text": [
      "131:\tlearn: 0.4358729\ttotal: 391ms\tremaining: 2.57s\n",
      "132:\tlearn: 0.4352769\ttotal: 394ms\tremaining: 2.57s\n",
      "133:\tlearn: 0.4347082\ttotal: 396ms\tremaining: 2.56s\n",
      "134:\tlearn: 0.4344529\ttotal: 399ms\tremaining: 2.55s\n",
      "135:\tlearn: 0.4337167\ttotal: 401ms\tremaining: 2.55s\n",
      "136:\tlearn: 0.4335038\ttotal: 404ms\tremaining: 2.54s\n",
      "137:\tlearn: 0.4330350\ttotal: 406ms\tremaining: 2.54s\n",
      "138:\tlearn: 0.4323866\ttotal: 409ms\tremaining: 2.53s\n",
      "139:\tlearn: 0.4321050\ttotal: 411ms\tremaining: 2.53s\n",
      "140:\tlearn: 0.4316000\ttotal: 414ms\tremaining: 2.52s\n",
      "141:\tlearn: 0.4310924\ttotal: 416ms\tremaining: 2.52s\n",
      "142:\tlearn: 0.4306917\ttotal: 419ms\tremaining: 2.51s\n",
      "143:\tlearn: 0.4301366\ttotal: 422ms\tremaining: 2.5s\n",
      "144:\tlearn: 0.4296676\ttotal: 424ms\tremaining: 2.5s\n",
      "145:\tlearn: 0.4294407\ttotal: 426ms\tremaining: 2.49s\n",
      "146:\tlearn: 0.4285951\ttotal: 429ms\tremaining: 2.49s\n",
      "147:\tlearn: 0.4282415\ttotal: 431ms\tremaining: 2.48s\n",
      "148:\tlearn: 0.4279317\ttotal: 434ms\tremaining: 2.48s\n",
      "149:\tlearn: 0.4273496\ttotal: 436ms\tremaining: 2.47s\n",
      "150:\tlearn: 0.4268197\ttotal: 439ms\tremaining: 2.47s\n",
      "151:\tlearn: 0.4263290\ttotal: 442ms\tremaining: 2.47s\n",
      "152:\tlearn: 0.4256583\ttotal: 444ms\tremaining: 2.46s\n",
      "153:\tlearn: 0.4252329\ttotal: 447ms\tremaining: 2.46s\n",
      "154:\tlearn: 0.4248081\ttotal: 450ms\tremaining: 2.45s\n"
     ]
    },
    {
     "name": "stdout",
     "output_type": "stream",
     "text": [
      "155:\tlearn: 0.4244626\ttotal: 452ms\tremaining: 2.45s\n",
      "156:\tlearn: 0.4240224\ttotal: 455ms\tremaining: 2.44s\n",
      "157:\tlearn: 0.4236501\ttotal: 457ms\tremaining: 2.44s\n",
      "158:\tlearn: 0.4232583\ttotal: 460ms\tremaining: 2.43s\n",
      "159:\tlearn: 0.4229409\ttotal: 463ms\tremaining: 2.43s\n",
      "160:\tlearn: 0.4226078\ttotal: 465ms\tremaining: 2.42s\n",
      "161:\tlearn: 0.4222316\ttotal: 468ms\tremaining: 2.42s\n",
      "162:\tlearn: 0.4218506\ttotal: 470ms\tremaining: 2.42s\n",
      "163:\tlearn: 0.4215024\ttotal: 473ms\tremaining: 2.41s\n",
      "164:\tlearn: 0.4211397\ttotal: 475ms\tremaining: 2.4s\n",
      "165:\tlearn: 0.4207059\ttotal: 477ms\tremaining: 2.4s\n",
      "166:\tlearn: 0.4199236\ttotal: 480ms\tremaining: 2.39s\n",
      "167:\tlearn: 0.4194996\ttotal: 483ms\tremaining: 2.39s\n",
      "168:\tlearn: 0.4191522\ttotal: 485ms\tremaining: 2.39s\n",
      "169:\tlearn: 0.4188540\ttotal: 488ms\tremaining: 2.38s\n",
      "170:\tlearn: 0.4183325\ttotal: 490ms\tremaining: 2.38s\n",
      "171:\tlearn: 0.4180931\ttotal: 493ms\tremaining: 2.37s\n",
      "172:\tlearn: 0.4177756\ttotal: 495ms\tremaining: 2.37s\n",
      "173:\tlearn: 0.4171715\ttotal: 498ms\tremaining: 2.36s\n",
      "174:\tlearn: 0.4167579\ttotal: 501ms\tremaining: 2.36s\n",
      "175:\tlearn: 0.4162166\ttotal: 503ms\tremaining: 2.35s\n",
      "176:\tlearn: 0.4158425\ttotal: 506ms\tremaining: 2.35s\n",
      "177:\tlearn: 0.4154340\ttotal: 508ms\tremaining: 2.35s\n",
      "178:\tlearn: 0.4151189\ttotal: 510ms\tremaining: 2.34s\n",
      "179:\tlearn: 0.4147474\ttotal: 513ms\tremaining: 2.33s\n",
      "180:\tlearn: 0.4144248\ttotal: 515ms\tremaining: 2.33s\n",
      "181:\tlearn: 0.4140686\ttotal: 517ms\tremaining: 2.33s\n"
     ]
    },
    {
     "name": "stdout",
     "output_type": "stream",
     "text": [
      "182:\tlearn: 0.4137724\ttotal: 520ms\tremaining: 2.32s\n",
      "183:\tlearn: 0.4133486\ttotal: 522ms\tremaining: 2.32s\n",
      "184:\tlearn: 0.4129135\ttotal: 525ms\tremaining: 2.31s\n",
      "185:\tlearn: 0.4125840\ttotal: 528ms\tremaining: 2.31s\n",
      "186:\tlearn: 0.4122077\ttotal: 530ms\tremaining: 2.31s\n",
      "187:\tlearn: 0.4118546\ttotal: 534ms\tremaining: 2.3s\n",
      "188:\tlearn: 0.4114914\ttotal: 536ms\tremaining: 2.3s\n",
      "189:\tlearn: 0.4110976\ttotal: 539ms\tremaining: 2.3s\n",
      "190:\tlearn: 0.4103657\ttotal: 541ms\tremaining: 2.29s\n",
      "191:\tlearn: 0.4100025\ttotal: 544ms\tremaining: 2.29s\n",
      "192:\tlearn: 0.4097497\ttotal: 546ms\tremaining: 2.28s\n",
      "193:\tlearn: 0.4095341\ttotal: 549ms\tremaining: 2.28s\n",
      "194:\tlearn: 0.4090794\ttotal: 551ms\tremaining: 2.27s\n",
      "195:\tlearn: 0.4085260\ttotal: 553ms\tremaining: 2.27s\n",
      "196:\tlearn: 0.4082724\ttotal: 556ms\tremaining: 2.26s\n",
      "197:\tlearn: 0.4078454\ttotal: 558ms\tremaining: 2.26s\n",
      "198:\tlearn: 0.4074621\ttotal: 561ms\tremaining: 2.26s\n",
      "199:\tlearn: 0.4071952\ttotal: 563ms\tremaining: 2.25s\n",
      "200:\tlearn: 0.4068274\ttotal: 565ms\tremaining: 2.25s\n",
      "201:\tlearn: 0.4063790\ttotal: 568ms\tremaining: 2.24s\n",
      "202:\tlearn: 0.4060617\ttotal: 571ms\tremaining: 2.24s\n",
      "203:\tlearn: 0.4057986\ttotal: 573ms\tremaining: 2.24s\n",
      "204:\tlearn: 0.4055797\ttotal: 576ms\tremaining: 2.23s\n",
      "205:\tlearn: 0.4052344\ttotal: 579ms\tremaining: 2.23s\n",
      "206:\tlearn: 0.4048069\ttotal: 581ms\tremaining: 2.23s\n",
      "207:\tlearn: 0.4045963\ttotal: 584ms\tremaining: 2.22s\n"
     ]
    },
    {
     "name": "stdout",
     "output_type": "stream",
     "text": [
      "208:\tlearn: 0.4042934\ttotal: 586ms\tremaining: 2.22s\n",
      "209:\tlearn: 0.4040738\ttotal: 589ms\tremaining: 2.21s\n",
      "210:\tlearn: 0.4034978\ttotal: 591ms\tremaining: 2.21s\n",
      "211:\tlearn: 0.4032052\ttotal: 594ms\tremaining: 2.21s\n",
      "212:\tlearn: 0.4029239\ttotal: 596ms\tremaining: 2.2s\n",
      "213:\tlearn: 0.4026665\ttotal: 598ms\tremaining: 2.2s\n",
      "214:\tlearn: 0.4023502\ttotal: 601ms\tremaining: 2.19s\n",
      "215:\tlearn: 0.4020745\ttotal: 604ms\tremaining: 2.19s\n",
      "216:\tlearn: 0.4017776\ttotal: 607ms\tremaining: 2.19s\n",
      "217:\tlearn: 0.4014921\ttotal: 609ms\tremaining: 2.19s\n",
      "218:\tlearn: 0.4011351\ttotal: 612ms\tremaining: 2.18s\n",
      "219:\tlearn: 0.4009136\ttotal: 614ms\tremaining: 2.18s\n",
      "220:\tlearn: 0.4006358\ttotal: 617ms\tremaining: 2.17s\n",
      "221:\tlearn: 0.4003944\ttotal: 619ms\tremaining: 2.17s\n",
      "222:\tlearn: 0.4000932\ttotal: 622ms\tremaining: 2.17s\n",
      "223:\tlearn: 0.3998933\ttotal: 624ms\tremaining: 2.16s\n",
      "224:\tlearn: 0.3992860\ttotal: 627ms\tremaining: 2.16s\n",
      "225:\tlearn: 0.3987979\ttotal: 629ms\tremaining: 2.15s\n",
      "226:\tlearn: 0.3983820\ttotal: 631ms\tremaining: 2.15s\n",
      "227:\tlearn: 0.3980743\ttotal: 634ms\tremaining: 2.15s\n",
      "228:\tlearn: 0.3977941\ttotal: 637ms\tremaining: 2.14s\n",
      "229:\tlearn: 0.3975990\ttotal: 639ms\tremaining: 2.14s\n",
      "230:\tlearn: 0.3972393\ttotal: 641ms\tremaining: 2.13s\n",
      "231:\tlearn: 0.3969907\ttotal: 643ms\tremaining: 2.13s\n",
      "232:\tlearn: 0.3966252\ttotal: 646ms\tremaining: 2.13s\n"
     ]
    },
    {
     "name": "stdout",
     "output_type": "stream",
     "text": [
      "233:\tlearn: 0.3964055\ttotal: 649ms\tremaining: 2.12s\n",
      "234:\tlearn: 0.3961664\ttotal: 651ms\tremaining: 2.12s\n",
      "235:\tlearn: 0.3958703\ttotal: 654ms\tremaining: 2.12s\n",
      "236:\tlearn: 0.3956975\ttotal: 657ms\tremaining: 2.11s\n",
      "237:\tlearn: 0.3954752\ttotal: 659ms\tremaining: 2.11s\n",
      "238:\tlearn: 0.3951753\ttotal: 662ms\tremaining: 2.11s\n",
      "239:\tlearn: 0.3949524\ttotal: 664ms\tremaining: 2.1s\n",
      "240:\tlearn: 0.3944378\ttotal: 667ms\tremaining: 2.1s\n",
      "241:\tlearn: 0.3940173\ttotal: 669ms\tremaining: 2.1s\n",
      "242:\tlearn: 0.3938197\ttotal: 671ms\tremaining: 2.09s\n",
      "243:\tlearn: 0.3936079\ttotal: 674ms\tremaining: 2.09s\n",
      "244:\tlearn: 0.3933913\ttotal: 676ms\tremaining: 2.08s\n",
      "245:\tlearn: 0.3931936\ttotal: 679ms\tremaining: 2.08s\n",
      "246:\tlearn: 0.3929630\ttotal: 681ms\tremaining: 2.08s\n",
      "247:\tlearn: 0.3926404\ttotal: 683ms\tremaining: 2.07s\n",
      "248:\tlearn: 0.3924350\ttotal: 686ms\tremaining: 2.07s\n",
      "249:\tlearn: 0.3920142\ttotal: 689ms\tremaining: 2.07s\n",
      "250:\tlearn: 0.3918165\ttotal: 691ms\tremaining: 2.06s\n",
      "251:\tlearn: 0.3914493\ttotal: 694ms\tremaining: 2.06s\n",
      "252:\tlearn: 0.3911717\ttotal: 696ms\tremaining: 2.06s\n",
      "253:\tlearn: 0.3908661\ttotal: 699ms\tremaining: 2.05s\n",
      "254:\tlearn: 0.3905589\ttotal: 701ms\tremaining: 2.05s\n",
      "255:\tlearn: 0.3903347\ttotal: 704ms\tremaining: 2.04s\n",
      "256:\tlearn: 0.3902211\ttotal: 706ms\tremaining: 2.04s\n",
      "257:\tlearn: 0.3900288\ttotal: 708ms\tremaining: 2.04s\n",
      "258:\tlearn: 0.3897419\ttotal: 711ms\tremaining: 2.03s\n",
      "259:\tlearn: 0.3894674\ttotal: 713ms\tremaining: 2.03s\n"
     ]
    },
    {
     "name": "stdout",
     "output_type": "stream",
     "text": [
      "260:\tlearn: 0.3892329\ttotal: 715ms\tremaining: 2.02s\n",
      "261:\tlearn: 0.3889948\ttotal: 718ms\tremaining: 2.02s\n",
      "262:\tlearn: 0.3887656\ttotal: 720ms\tremaining: 2.02s\n",
      "263:\tlearn: 0.3885050\ttotal: 723ms\tremaining: 2.02s\n",
      "264:\tlearn: 0.3883642\ttotal: 725ms\tremaining: 2.01s\n",
      "265:\tlearn: 0.3881193\ttotal: 728ms\tremaining: 2.01s\n",
      "266:\tlearn: 0.3878759\ttotal: 730ms\tremaining: 2s\n",
      "267:\tlearn: 0.3875877\ttotal: 733ms\tremaining: 2s\n",
      "268:\tlearn: 0.3873078\ttotal: 735ms\tremaining: 2s\n",
      "269:\tlearn: 0.3870122\ttotal: 737ms\tremaining: 1.99s\n",
      "270:\tlearn: 0.3867902\ttotal: 740ms\tremaining: 1.99s\n",
      "271:\tlearn: 0.3865320\ttotal: 742ms\tremaining: 1.99s\n",
      "272:\tlearn: 0.3863079\ttotal: 745ms\tremaining: 1.98s\n",
      "273:\tlearn: 0.3861386\ttotal: 748ms\tremaining: 1.98s\n",
      "274:\tlearn: 0.3858483\ttotal: 750ms\tremaining: 1.98s\n",
      "275:\tlearn: 0.3856699\ttotal: 753ms\tremaining: 1.97s\n",
      "276:\tlearn: 0.3854593\ttotal: 755ms\tremaining: 1.97s\n",
      "277:\tlearn: 0.3852707\ttotal: 758ms\tremaining: 1.97s\n",
      "278:\tlearn: 0.3850477\ttotal: 761ms\tremaining: 1.97s\n",
      "279:\tlearn: 0.3847399\ttotal: 763ms\tremaining: 1.96s\n",
      "280:\tlearn: 0.3845009\ttotal: 766ms\tremaining: 1.96s\n",
      "281:\tlearn: 0.3842684\ttotal: 769ms\tremaining: 1.96s\n",
      "282:\tlearn: 0.3841506\ttotal: 772ms\tremaining: 1.95s\n",
      "283:\tlearn: 0.3840371\ttotal: 774ms\tremaining: 1.95s\n",
      "284:\tlearn: 0.3837987\ttotal: 776ms\tremaining: 1.95s\n",
      "285:\tlearn: 0.3833700\ttotal: 779ms\tremaining: 1.94s\n"
     ]
    },
    {
     "name": "stdout",
     "output_type": "stream",
     "text": [
      "286:\tlearn: 0.3831636\ttotal: 781ms\tremaining: 1.94s\n",
      "287:\tlearn: 0.3829148\ttotal: 784ms\tremaining: 1.94s\n",
      "288:\tlearn: 0.3826741\ttotal: 787ms\tremaining: 1.93s\n",
      "289:\tlearn: 0.3824284\ttotal: 789ms\tremaining: 1.93s\n",
      "290:\tlearn: 0.3821459\ttotal: 792ms\tremaining: 1.93s\n",
      "291:\tlearn: 0.3818465\ttotal: 794ms\tremaining: 1.93s\n",
      "292:\tlearn: 0.3816160\ttotal: 797ms\tremaining: 1.92s\n",
      "293:\tlearn: 0.3814436\ttotal: 799ms\tremaining: 1.92s\n",
      "294:\tlearn: 0.3812222\ttotal: 801ms\tremaining: 1.92s\n",
      "295:\tlearn: 0.3809954\ttotal: 804ms\tremaining: 1.91s\n",
      "296:\tlearn: 0.3808395\ttotal: 806ms\tremaining: 1.91s\n",
      "297:\tlearn: 0.3806928\ttotal: 809ms\tremaining: 1.91s\n",
      "298:\tlearn: 0.3804819\ttotal: 811ms\tremaining: 1.9s\n",
      "299:\tlearn: 0.3802513\ttotal: 814ms\tremaining: 1.9s\n",
      "300:\tlearn: 0.3800725\ttotal: 817ms\tremaining: 1.9s\n",
      "301:\tlearn: 0.3797691\ttotal: 819ms\tremaining: 1.89s\n",
      "302:\tlearn: 0.3796616\ttotal: 822ms\tremaining: 1.89s\n",
      "303:\tlearn: 0.3794202\ttotal: 824ms\tremaining: 1.89s\n",
      "304:\tlearn: 0.3792246\ttotal: 827ms\tremaining: 1.88s\n",
      "305:\tlearn: 0.3789842\ttotal: 829ms\tremaining: 1.88s\n",
      "306:\tlearn: 0.3788048\ttotal: 832ms\tremaining: 1.88s\n",
      "307:\tlearn: 0.3785467\ttotal: 834ms\tremaining: 1.87s\n",
      "308:\tlearn: 0.3783325\ttotal: 836ms\tremaining: 1.87s\n",
      "309:\tlearn: 0.3781607\ttotal: 839ms\tremaining: 1.87s\n",
      "310:\tlearn: 0.3779745\ttotal: 841ms\tremaining: 1.86s\n"
     ]
    },
    {
     "name": "stdout",
     "output_type": "stream",
     "text": [
      "311:\tlearn: 0.3778496\ttotal: 844ms\tremaining: 1.86s\n",
      "312:\tlearn: 0.3776911\ttotal: 846ms\tremaining: 1.86s\n",
      "313:\tlearn: 0.3774743\ttotal: 849ms\tremaining: 1.85s\n",
      "314:\tlearn: 0.3772295\ttotal: 851ms\tremaining: 1.85s\n",
      "315:\tlearn: 0.3770227\ttotal: 854ms\tremaining: 1.85s\n",
      "316:\tlearn: 0.3768470\ttotal: 856ms\tremaining: 1.84s\n",
      "317:\tlearn: 0.3767266\ttotal: 859ms\tremaining: 1.84s\n",
      "318:\tlearn: 0.3765028\ttotal: 861ms\tremaining: 1.84s\n",
      "319:\tlearn: 0.3763743\ttotal: 864ms\tremaining: 1.83s\n",
      "320:\tlearn: 0.3761920\ttotal: 866ms\tremaining: 1.83s\n",
      "321:\tlearn: 0.3759935\ttotal: 869ms\tremaining: 1.83s\n",
      "322:\tlearn: 0.3758453\ttotal: 871ms\tremaining: 1.82s\n",
      "323:\tlearn: 0.3757113\ttotal: 873ms\tremaining: 1.82s\n",
      "324:\tlearn: 0.3755999\ttotal: 876ms\tremaining: 1.82s\n",
      "325:\tlearn: 0.3754737\ttotal: 878ms\tremaining: 1.82s\n",
      "326:\tlearn: 0.3752819\ttotal: 881ms\tremaining: 1.81s\n",
      "327:\tlearn: 0.3751037\ttotal: 883ms\tremaining: 1.81s\n",
      "328:\tlearn: 0.3748906\ttotal: 886ms\tremaining: 1.81s\n",
      "329:\tlearn: 0.3746629\ttotal: 888ms\tremaining: 1.8s\n",
      "330:\tlearn: 0.3745050\ttotal: 891ms\tremaining: 1.8s\n",
      "331:\tlearn: 0.3743091\ttotal: 893ms\tremaining: 1.8s\n",
      "332:\tlearn: 0.3741340\ttotal: 896ms\tremaining: 1.79s\n",
      "333:\tlearn: 0.3739447\ttotal: 898ms\tremaining: 1.79s\n",
      "334:\tlearn: 0.3737224\ttotal: 901ms\tremaining: 1.79s\n",
      "335:\tlearn: 0.3734863\ttotal: 904ms\tremaining: 1.79s\n",
      "336:\tlearn: 0.3733100\ttotal: 906ms\tremaining: 1.78s\n",
      "337:\tlearn: 0.3728940\ttotal: 909ms\tremaining: 1.78s\n"
     ]
    },
    {
     "name": "stdout",
     "output_type": "stream",
     "text": [
      "338:\tlearn: 0.3727343\ttotal: 911ms\tremaining: 1.78s\n",
      "339:\tlearn: 0.3724783\ttotal: 914ms\tremaining: 1.77s\n",
      "340:\tlearn: 0.3721310\ttotal: 916ms\tremaining: 1.77s\n",
      "341:\tlearn: 0.3718724\ttotal: 918ms\tremaining: 1.77s\n",
      "342:\tlearn: 0.3716964\ttotal: 921ms\tremaining: 1.76s\n",
      "343:\tlearn: 0.3715359\ttotal: 923ms\tremaining: 1.76s\n",
      "344:\tlearn: 0.3713378\ttotal: 926ms\tremaining: 1.76s\n",
      "345:\tlearn: 0.3711288\ttotal: 928ms\tremaining: 1.75s\n",
      "346:\tlearn: 0.3709850\ttotal: 931ms\tremaining: 1.75s\n",
      "347:\tlearn: 0.3706501\ttotal: 934ms\tremaining: 1.75s\n",
      "348:\tlearn: 0.3704712\ttotal: 936ms\tremaining: 1.75s\n",
      "349:\tlearn: 0.3702915\ttotal: 938ms\tremaining: 1.74s\n",
      "350:\tlearn: 0.3701133\ttotal: 941ms\tremaining: 1.74s\n",
      "351:\tlearn: 0.3698754\ttotal: 944ms\tremaining: 1.74s\n",
      "352:\tlearn: 0.3697238\ttotal: 946ms\tremaining: 1.73s\n",
      "353:\tlearn: 0.3695833\ttotal: 949ms\tremaining: 1.73s\n",
      "354:\tlearn: 0.3694608\ttotal: 951ms\tremaining: 1.73s\n",
      "355:\tlearn: 0.3692482\ttotal: 954ms\tremaining: 1.73s\n",
      "356:\tlearn: 0.3690612\ttotal: 956ms\tremaining: 1.72s\n",
      "357:\tlearn: 0.3689228\ttotal: 959ms\tremaining: 1.72s\n",
      "358:\tlearn: 0.3688000\ttotal: 961ms\tremaining: 1.72s\n",
      "359:\tlearn: 0.3686636\ttotal: 963ms\tremaining: 1.71s\n",
      "360:\tlearn: 0.3683959\ttotal: 966ms\tremaining: 1.71s\n",
      "361:\tlearn: 0.3682331\ttotal: 968ms\tremaining: 1.71s\n",
      "362:\tlearn: 0.3680526\ttotal: 971ms\tremaining: 1.7s\n",
      "363:\tlearn: 0.3679155\ttotal: 974ms\tremaining: 1.7s\n",
      "364:\tlearn: 0.3675559\ttotal: 976ms\tremaining: 1.7s\n"
     ]
    },
    {
     "name": "stdout",
     "output_type": "stream",
     "text": [
      "365:\tlearn: 0.3674059\ttotal: 979ms\tremaining: 1.7s\n",
      "366:\tlearn: 0.3672513\ttotal: 981ms\tremaining: 1.69s\n",
      "367:\tlearn: 0.3670409\ttotal: 983ms\tremaining: 1.69s\n",
      "368:\tlearn: 0.3668483\ttotal: 986ms\tremaining: 1.69s\n",
      "369:\tlearn: 0.3666744\ttotal: 988ms\tremaining: 1.68s\n",
      "370:\tlearn: 0.3664581\ttotal: 991ms\tremaining: 1.68s\n",
      "371:\tlearn: 0.3663214\ttotal: 994ms\tremaining: 1.68s\n",
      "372:\tlearn: 0.3661975\ttotal: 996ms\tremaining: 1.67s\n",
      "373:\tlearn: 0.3660158\ttotal: 998ms\tremaining: 1.67s\n",
      "374:\tlearn: 0.3658951\ttotal: 1s\tremaining: 1.67s\n",
      "375:\tlearn: 0.3657187\ttotal: 1s\tremaining: 1.67s\n",
      "376:\tlearn: 0.3656004\ttotal: 1.01s\tremaining: 1.66s\n",
      "377:\tlearn: 0.3653898\ttotal: 1.01s\tremaining: 1.66s\n",
      "378:\tlearn: 0.3652340\ttotal: 1.01s\tremaining: 1.66s\n",
      "379:\tlearn: 0.3651589\ttotal: 1.01s\tremaining: 1.65s\n",
      "380:\tlearn: 0.3650842\ttotal: 1.01s\tremaining: 1.65s\n",
      "381:\tlearn: 0.3649888\ttotal: 1.02s\tremaining: 1.65s\n",
      "382:\tlearn: 0.3648033\ttotal: 1.02s\tremaining: 1.64s\n",
      "383:\tlearn: 0.3647049\ttotal: 1.02s\tremaining: 1.64s\n",
      "384:\tlearn: 0.3645511\ttotal: 1.02s\tremaining: 1.64s\n",
      "385:\tlearn: 0.3643999\ttotal: 1.03s\tremaining: 1.63s\n",
      "386:\tlearn: 0.3640844\ttotal: 1.03s\tremaining: 1.63s\n",
      "387:\tlearn: 0.3639662\ttotal: 1.03s\tremaining: 1.63s\n",
      "388:\tlearn: 0.3637072\ttotal: 1.03s\tremaining: 1.63s\n",
      "389:\tlearn: 0.3636176\ttotal: 1.04s\tremaining: 1.62s\n"
     ]
    },
    {
     "name": "stdout",
     "output_type": "stream",
     "text": [
      "390:\tlearn: 0.3634227\ttotal: 1.04s\tremaining: 1.62s\n",
      "391:\tlearn: 0.3632625\ttotal: 1.04s\tremaining: 1.62s\n",
      "392:\tlearn: 0.3631129\ttotal: 1.04s\tremaining: 1.61s\n",
      "393:\tlearn: 0.3629359\ttotal: 1.05s\tremaining: 1.61s\n",
      "394:\tlearn: 0.3627473\ttotal: 1.05s\tremaining: 1.61s\n",
      "395:\tlearn: 0.3626252\ttotal: 1.05s\tremaining: 1.6s\n",
      "396:\tlearn: 0.3624230\ttotal: 1.05s\tremaining: 1.6s\n",
      "397:\tlearn: 0.3622463\ttotal: 1.06s\tremaining: 1.6s\n",
      "398:\tlearn: 0.3620406\ttotal: 1.06s\tremaining: 1.6s\n",
      "399:\tlearn: 0.3618849\ttotal: 1.06s\tremaining: 1.59s\n",
      "400:\tlearn: 0.3617675\ttotal: 1.06s\tremaining: 1.59s\n",
      "401:\tlearn: 0.3616571\ttotal: 1.07s\tremaining: 1.59s\n",
      "402:\tlearn: 0.3615012\ttotal: 1.07s\tremaining: 1.58s\n",
      "403:\tlearn: 0.3613348\ttotal: 1.07s\tremaining: 1.58s\n",
      "404:\tlearn: 0.3611800\ttotal: 1.07s\tremaining: 1.58s\n",
      "405:\tlearn: 0.3609962\ttotal: 1.08s\tremaining: 1.58s\n",
      "406:\tlearn: 0.3608189\ttotal: 1.08s\tremaining: 1.57s\n",
      "407:\tlearn: 0.3606717\ttotal: 1.08s\tremaining: 1.57s\n",
      "408:\tlearn: 0.3605159\ttotal: 1.08s\tremaining: 1.57s\n",
      "409:\tlearn: 0.3603174\ttotal: 1.09s\tremaining: 1.56s\n",
      "410:\tlearn: 0.3600308\ttotal: 1.09s\tremaining: 1.56s\n",
      "411:\tlearn: 0.3598526\ttotal: 1.09s\tremaining: 1.56s\n",
      "412:\tlearn: 0.3596042\ttotal: 1.09s\tremaining: 1.56s\n",
      "413:\tlearn: 0.3594869\ttotal: 1.1s\tremaining: 1.55s\n",
      "414:\tlearn: 0.3593480\ttotal: 1.1s\tremaining: 1.55s\n",
      "415:\tlearn: 0.3591818\ttotal: 1.1s\tremaining: 1.55s\n",
      "416:\tlearn: 0.3590142\ttotal: 1.11s\tremaining: 1.55s\n"
     ]
    },
    {
     "name": "stdout",
     "output_type": "stream",
     "text": [
      "417:\tlearn: 0.3587082\ttotal: 1.11s\tremaining: 1.54s\n",
      "418:\tlearn: 0.3584083\ttotal: 1.11s\tremaining: 1.54s\n",
      "419:\tlearn: 0.3582720\ttotal: 1.11s\tremaining: 1.54s\n",
      "420:\tlearn: 0.3580216\ttotal: 1.12s\tremaining: 1.53s\n",
      "421:\tlearn: 0.3578941\ttotal: 1.12s\tremaining: 1.53s\n",
      "422:\tlearn: 0.3576978\ttotal: 1.12s\tremaining: 1.53s\n",
      "423:\tlearn: 0.3575366\ttotal: 1.12s\tremaining: 1.53s\n",
      "424:\tlearn: 0.3573487\ttotal: 1.13s\tremaining: 1.52s\n",
      "425:\tlearn: 0.3571122\ttotal: 1.13s\tremaining: 1.52s\n",
      "426:\tlearn: 0.3569996\ttotal: 1.13s\tremaining: 1.52s\n",
      "427:\tlearn: 0.3568734\ttotal: 1.13s\tremaining: 1.51s\n",
      "428:\tlearn: 0.3567204\ttotal: 1.14s\tremaining: 1.51s\n",
      "429:\tlearn: 0.3565854\ttotal: 1.14s\tremaining: 1.51s\n",
      "430:\tlearn: 0.3564110\ttotal: 1.14s\tremaining: 1.51s\n",
      "431:\tlearn: 0.3562573\ttotal: 1.14s\tremaining: 1.5s\n",
      "432:\tlearn: 0.3560716\ttotal: 1.15s\tremaining: 1.5s\n",
      "433:\tlearn: 0.3558458\ttotal: 1.15s\tremaining: 1.5s\n",
      "434:\tlearn: 0.3557178\ttotal: 1.15s\tremaining: 1.5s\n",
      "435:\tlearn: 0.3554186\ttotal: 1.15s\tremaining: 1.49s\n",
      "436:\tlearn: 0.3553161\ttotal: 1.16s\tremaining: 1.49s\n",
      "437:\tlearn: 0.3551549\ttotal: 1.16s\tremaining: 1.49s\n",
      "438:\tlearn: 0.3547968\ttotal: 1.16s\tremaining: 1.48s\n",
      "439:\tlearn: 0.3546360\ttotal: 1.16s\tremaining: 1.48s\n",
      "440:\tlearn: 0.3544402\ttotal: 1.17s\tremaining: 1.48s\n",
      "441:\tlearn: 0.3542490\ttotal: 1.17s\tremaining: 1.48s\n",
      "442:\tlearn: 0.3541085\ttotal: 1.17s\tremaining: 1.47s\n"
     ]
    },
    {
     "name": "stdout",
     "output_type": "stream",
     "text": [
      "443:\tlearn: 0.3539145\ttotal: 1.17s\tremaining: 1.47s\n",
      "444:\tlearn: 0.3537613\ttotal: 1.18s\tremaining: 1.47s\n",
      "445:\tlearn: 0.3535462\ttotal: 1.18s\tremaining: 1.47s\n",
      "446:\tlearn: 0.3533157\ttotal: 1.18s\tremaining: 1.46s\n",
      "447:\tlearn: 0.3531662\ttotal: 1.18s\tremaining: 1.46s\n",
      "448:\tlearn: 0.3530090\ttotal: 1.19s\tremaining: 1.46s\n",
      "449:\tlearn: 0.3528600\ttotal: 1.19s\tremaining: 1.45s\n",
      "450:\tlearn: 0.3526873\ttotal: 1.19s\tremaining: 1.45s\n",
      "451:\tlearn: 0.3524684\ttotal: 1.19s\tremaining: 1.45s\n",
      "452:\tlearn: 0.3523347\ttotal: 1.2s\tremaining: 1.45s\n",
      "453:\tlearn: 0.3522380\ttotal: 1.2s\tremaining: 1.44s\n",
      "454:\tlearn: 0.3520896\ttotal: 1.2s\tremaining: 1.44s\n",
      "455:\tlearn: 0.3519091\ttotal: 1.2s\tremaining: 1.44s\n",
      "456:\tlearn: 0.3518119\ttotal: 1.21s\tremaining: 1.43s\n",
      "457:\tlearn: 0.3516659\ttotal: 1.21s\tremaining: 1.43s\n",
      "458:\tlearn: 0.3515703\ttotal: 1.21s\tremaining: 1.43s\n",
      "459:\tlearn: 0.3514533\ttotal: 1.21s\tremaining: 1.43s\n",
      "460:\tlearn: 0.3513524\ttotal: 1.22s\tremaining: 1.42s\n",
      "461:\tlearn: 0.3511999\ttotal: 1.22s\tremaining: 1.42s\n",
      "462:\tlearn: 0.3510456\ttotal: 1.22s\tremaining: 1.42s\n",
      "463:\tlearn: 0.3508853\ttotal: 1.22s\tremaining: 1.41s\n",
      "464:\tlearn: 0.3506770\ttotal: 1.23s\tremaining: 1.41s\n",
      "465:\tlearn: 0.3504853\ttotal: 1.23s\tremaining: 1.41s\n",
      "466:\tlearn: 0.3503323\ttotal: 1.23s\tremaining: 1.41s\n",
      "467:\tlearn: 0.3501314\ttotal: 1.23s\tremaining: 1.4s\n"
     ]
    },
    {
     "name": "stdout",
     "output_type": "stream",
     "text": [
      "468:\tlearn: 0.3500057\ttotal: 1.24s\tremaining: 1.4s\n",
      "469:\tlearn: 0.3499326\ttotal: 1.24s\tremaining: 1.4s\n",
      "470:\tlearn: 0.3498411\ttotal: 1.24s\tremaining: 1.39s\n",
      "471:\tlearn: 0.3496577\ttotal: 1.24s\tremaining: 1.39s\n",
      "472:\tlearn: 0.3495378\ttotal: 1.25s\tremaining: 1.39s\n",
      "473:\tlearn: 0.3494188\ttotal: 1.25s\tremaining: 1.39s\n",
      "474:\tlearn: 0.3493098\ttotal: 1.25s\tremaining: 1.38s\n",
      "475:\tlearn: 0.3491617\ttotal: 1.25s\tremaining: 1.38s\n",
      "476:\tlearn: 0.3490783\ttotal: 1.26s\tremaining: 1.38s\n",
      "477:\tlearn: 0.3489525\ttotal: 1.26s\tremaining: 1.38s\n",
      "478:\tlearn: 0.3487909\ttotal: 1.26s\tremaining: 1.37s\n",
      "479:\tlearn: 0.3486216\ttotal: 1.26s\tremaining: 1.37s\n",
      "480:\tlearn: 0.3484013\ttotal: 1.27s\tremaining: 1.37s\n",
      "481:\tlearn: 0.3482865\ttotal: 1.27s\tremaining: 1.36s\n",
      "482:\tlearn: 0.3481696\ttotal: 1.27s\tremaining: 1.36s\n",
      "483:\tlearn: 0.3480371\ttotal: 1.27s\tremaining: 1.36s\n",
      "484:\tlearn: 0.3479052\ttotal: 1.28s\tremaining: 1.36s\n",
      "485:\tlearn: 0.3478089\ttotal: 1.28s\tremaining: 1.35s\n",
      "486:\tlearn: 0.3477187\ttotal: 1.28s\tremaining: 1.35s\n",
      "487:\tlearn: 0.3475666\ttotal: 1.28s\tremaining: 1.35s\n",
      "488:\tlearn: 0.3474435\ttotal: 1.29s\tremaining: 1.34s\n",
      "489:\tlearn: 0.3472842\ttotal: 1.29s\tremaining: 1.34s\n",
      "490:\tlearn: 0.3470997\ttotal: 1.29s\tremaining: 1.34s\n",
      "491:\tlearn: 0.3469825\ttotal: 1.29s\tremaining: 1.34s\n",
      "492:\tlearn: 0.3468776\ttotal: 1.3s\tremaining: 1.33s\n",
      "493:\tlearn: 0.3467315\ttotal: 1.3s\tremaining: 1.33s\n",
      "494:\tlearn: 0.3466126\ttotal: 1.3s\tremaining: 1.33s\n"
     ]
    },
    {
     "name": "stdout",
     "output_type": "stream",
     "text": [
      "495:\tlearn: 0.3465250\ttotal: 1.3s\tremaining: 1.32s\n",
      "496:\tlearn: 0.3464534\ttotal: 1.31s\tremaining: 1.32s\n",
      "497:\tlearn: 0.3463398\ttotal: 1.31s\tremaining: 1.32s\n",
      "498:\tlearn: 0.3462077\ttotal: 1.31s\tremaining: 1.32s\n",
      "499:\tlearn: 0.3461146\ttotal: 1.31s\tremaining: 1.31s\n",
      "500:\tlearn: 0.3459801\ttotal: 1.32s\tremaining: 1.31s\n",
      "501:\tlearn: 0.3457408\ttotal: 1.32s\tremaining: 1.31s\n",
      "502:\tlearn: 0.3456282\ttotal: 1.32s\tremaining: 1.31s\n",
      "503:\tlearn: 0.3454869\ttotal: 1.32s\tremaining: 1.3s\n",
      "504:\tlearn: 0.3453067\ttotal: 1.33s\tremaining: 1.3s\n",
      "505:\tlearn: 0.3451561\ttotal: 1.33s\tremaining: 1.3s\n",
      "506:\tlearn: 0.3450252\ttotal: 1.33s\tremaining: 1.3s\n",
      "507:\tlearn: 0.3448899\ttotal: 1.33s\tremaining: 1.29s\n",
      "508:\tlearn: 0.3447857\ttotal: 1.34s\tremaining: 1.29s\n",
      "509:\tlearn: 0.3446588\ttotal: 1.34s\tremaining: 1.29s\n",
      "510:\tlearn: 0.3445641\ttotal: 1.34s\tremaining: 1.28s\n",
      "511:\tlearn: 0.3444198\ttotal: 1.34s\tremaining: 1.28s\n",
      "512:\tlearn: 0.3443426\ttotal: 1.35s\tremaining: 1.28s\n",
      "513:\tlearn: 0.3441581\ttotal: 1.35s\tremaining: 1.28s\n",
      "514:\tlearn: 0.3440740\ttotal: 1.35s\tremaining: 1.27s\n",
      "515:\tlearn: 0.3439306\ttotal: 1.35s\tremaining: 1.27s\n",
      "516:\tlearn: 0.3438117\ttotal: 1.36s\tremaining: 1.27s\n",
      "517:\tlearn: 0.3436835\ttotal: 1.36s\tremaining: 1.27s\n",
      "518:\tlearn: 0.3435634\ttotal: 1.36s\tremaining: 1.26s\n",
      "519:\tlearn: 0.3434629\ttotal: 1.36s\tremaining: 1.26s\n",
      "520:\tlearn: 0.3433468\ttotal: 1.37s\tremaining: 1.26s\n"
     ]
    },
    {
     "name": "stdout",
     "output_type": "stream",
     "text": [
      "521:\tlearn: 0.3432026\ttotal: 1.37s\tremaining: 1.25s\n",
      "522:\tlearn: 0.3430780\ttotal: 1.37s\tremaining: 1.25s\n",
      "523:\tlearn: 0.3428955\ttotal: 1.38s\tremaining: 1.25s\n",
      "524:\tlearn: 0.3427774\ttotal: 1.38s\tremaining: 1.25s\n",
      "525:\tlearn: 0.3426387\ttotal: 1.38s\tremaining: 1.24s\n",
      "526:\tlearn: 0.3425225\ttotal: 1.38s\tremaining: 1.24s\n",
      "527:\tlearn: 0.3423592\ttotal: 1.39s\tremaining: 1.24s\n",
      "528:\tlearn: 0.3421544\ttotal: 1.39s\tremaining: 1.24s\n",
      "529:\tlearn: 0.3420847\ttotal: 1.39s\tremaining: 1.23s\n",
      "530:\tlearn: 0.3420134\ttotal: 1.39s\tremaining: 1.23s\n",
      "531:\tlearn: 0.3419254\ttotal: 1.4s\tremaining: 1.23s\n",
      "532:\tlearn: 0.3418157\ttotal: 1.4s\tremaining: 1.22s\n",
      "533:\tlearn: 0.3417520\ttotal: 1.4s\tremaining: 1.22s\n",
      "534:\tlearn: 0.3415829\ttotal: 1.4s\tremaining: 1.22s\n",
      "535:\tlearn: 0.3414687\ttotal: 1.41s\tremaining: 1.22s\n",
      "536:\tlearn: 0.3414006\ttotal: 1.41s\tremaining: 1.21s\n",
      "537:\tlearn: 0.3412898\ttotal: 1.41s\tremaining: 1.21s\n",
      "538:\tlearn: 0.3412173\ttotal: 1.41s\tremaining: 1.21s\n",
      "539:\tlearn: 0.3411134\ttotal: 1.42s\tremaining: 1.21s\n",
      "540:\tlearn: 0.3410198\ttotal: 1.42s\tremaining: 1.2s\n",
      "541:\tlearn: 0.3409476\ttotal: 1.42s\tremaining: 1.2s\n",
      "542:\tlearn: 0.3408532\ttotal: 1.42s\tremaining: 1.2s\n",
      "543:\tlearn: 0.3407151\ttotal: 1.43s\tremaining: 1.2s\n",
      "544:\tlearn: 0.3406098\ttotal: 1.43s\tremaining: 1.19s\n"
     ]
    },
    {
     "name": "stdout",
     "output_type": "stream",
     "text": [
      "545:\tlearn: 0.3404921\ttotal: 1.43s\tremaining: 1.19s\n",
      "546:\tlearn: 0.3404225\ttotal: 1.43s\tremaining: 1.19s\n",
      "547:\tlearn: 0.3402967\ttotal: 1.44s\tremaining: 1.18s\n",
      "548:\tlearn: 0.3402100\ttotal: 1.44s\tremaining: 1.18s\n",
      "549:\tlearn: 0.3400261\ttotal: 1.44s\tremaining: 1.18s\n",
      "550:\tlearn: 0.3397950\ttotal: 1.44s\tremaining: 1.18s\n",
      "551:\tlearn: 0.3396534\ttotal: 1.45s\tremaining: 1.17s\n",
      "552:\tlearn: 0.3395609\ttotal: 1.45s\tremaining: 1.17s\n",
      "553:\tlearn: 0.3394488\ttotal: 1.45s\tremaining: 1.17s\n",
      "554:\tlearn: 0.3391862\ttotal: 1.45s\tremaining: 1.17s\n",
      "555:\tlearn: 0.3390711\ttotal: 1.46s\tremaining: 1.16s\n",
      "556:\tlearn: 0.3389682\ttotal: 1.46s\tremaining: 1.16s\n",
      "557:\tlearn: 0.3388037\ttotal: 1.46s\tremaining: 1.16s\n",
      "558:\tlearn: 0.3386209\ttotal: 1.46s\tremaining: 1.16s\n",
      "559:\tlearn: 0.3384883\ttotal: 1.47s\tremaining: 1.15s\n",
      "560:\tlearn: 0.3383475\ttotal: 1.47s\tremaining: 1.15s\n",
      "561:\tlearn: 0.3382248\ttotal: 1.47s\tremaining: 1.15s\n",
      "562:\tlearn: 0.3381093\ttotal: 1.47s\tremaining: 1.14s\n",
      "563:\tlearn: 0.3380343\ttotal: 1.48s\tremaining: 1.14s\n",
      "564:\tlearn: 0.3378867\ttotal: 1.48s\tremaining: 1.14s\n",
      "565:\tlearn: 0.3377497\ttotal: 1.48s\tremaining: 1.14s\n",
      "566:\tlearn: 0.3376563\ttotal: 1.49s\tremaining: 1.13s\n",
      "567:\tlearn: 0.3375045\ttotal: 1.49s\tremaining: 1.13s\n",
      "568:\tlearn: 0.3374017\ttotal: 1.49s\tremaining: 1.13s\n",
      "569:\tlearn: 0.3372717\ttotal: 1.49s\tremaining: 1.13s\n",
      "570:\tlearn: 0.3371619\ttotal: 1.5s\tremaining: 1.12s\n",
      "571:\tlearn: 0.3370521\ttotal: 1.5s\tremaining: 1.12s\n"
     ]
    },
    {
     "name": "stdout",
     "output_type": "stream",
     "text": [
      "572:\tlearn: 0.3369482\ttotal: 1.5s\tremaining: 1.12s\n",
      "573:\tlearn: 0.3368529\ttotal: 1.5s\tremaining: 1.11s\n",
      "574:\tlearn: 0.3366567\ttotal: 1.5s\tremaining: 1.11s\n",
      "575:\tlearn: 0.3365580\ttotal: 1.51s\tremaining: 1.11s\n",
      "576:\tlearn: 0.3364213\ttotal: 1.51s\tremaining: 1.11s\n",
      "577:\tlearn: 0.3363504\ttotal: 1.51s\tremaining: 1.1s\n",
      "578:\tlearn: 0.3362621\ttotal: 1.51s\tremaining: 1.1s\n",
      "579:\tlearn: 0.3361777\ttotal: 1.52s\tremaining: 1.1s\n",
      "580:\tlearn: 0.3361159\ttotal: 1.52s\tremaining: 1.1s\n",
      "581:\tlearn: 0.3358822\ttotal: 1.52s\tremaining: 1.09s\n",
      "582:\tlearn: 0.3357077\ttotal: 1.52s\tremaining: 1.09s\n",
      "583:\tlearn: 0.3356221\ttotal: 1.53s\tremaining: 1.09s\n",
      "584:\tlearn: 0.3355442\ttotal: 1.53s\tremaining: 1.08s\n",
      "585:\tlearn: 0.3353687\ttotal: 1.53s\tremaining: 1.08s\n",
      "586:\tlearn: 0.3352801\ttotal: 1.53s\tremaining: 1.08s\n",
      "587:\tlearn: 0.3351746\ttotal: 1.54s\tremaining: 1.08s\n",
      "588:\tlearn: 0.3348996\ttotal: 1.54s\tremaining: 1.07s\n",
      "589:\tlearn: 0.3347941\ttotal: 1.54s\tremaining: 1.07s\n",
      "590:\tlearn: 0.3347093\ttotal: 1.54s\tremaining: 1.07s\n",
      "591:\tlearn: 0.3345908\ttotal: 1.55s\tremaining: 1.07s\n",
      "592:\tlearn: 0.3344155\ttotal: 1.55s\tremaining: 1.06s\n",
      "593:\tlearn: 0.3343366\ttotal: 1.55s\tremaining: 1.06s\n",
      "594:\tlearn: 0.3342300\ttotal: 1.55s\tremaining: 1.06s\n",
      "595:\tlearn: 0.3341099\ttotal: 1.56s\tremaining: 1.06s\n",
      "596:\tlearn: 0.3340253\ttotal: 1.56s\tremaining: 1.05s\n",
      "597:\tlearn: 0.3339195\ttotal: 1.56s\tremaining: 1.05s\n"
     ]
    },
    {
     "name": "stdout",
     "output_type": "stream",
     "text": [
      "598:\tlearn: 0.3337510\ttotal: 1.56s\tremaining: 1.05s\n",
      "599:\tlearn: 0.3336435\ttotal: 1.57s\tremaining: 1.04s\n",
      "600:\tlearn: 0.3335547\ttotal: 1.57s\tremaining: 1.04s\n",
      "601:\tlearn: 0.3334159\ttotal: 1.57s\tremaining: 1.04s\n",
      "602:\tlearn: 0.3333541\ttotal: 1.57s\tremaining: 1.04s\n",
      "603:\tlearn: 0.3332520\ttotal: 1.58s\tremaining: 1.03s\n",
      "604:\tlearn: 0.3331568\ttotal: 1.58s\tremaining: 1.03s\n",
      "605:\tlearn: 0.3330479\ttotal: 1.58s\tremaining: 1.03s\n",
      "606:\tlearn: 0.3329710\ttotal: 1.58s\tremaining: 1.02s\n",
      "607:\tlearn: 0.3328548\ttotal: 1.59s\tremaining: 1.02s\n",
      "608:\tlearn: 0.3326169\ttotal: 1.59s\tremaining: 1.02s\n",
      "609:\tlearn: 0.3325322\ttotal: 1.59s\tremaining: 1.02s\n",
      "610:\tlearn: 0.3324155\ttotal: 1.59s\tremaining: 1.01s\n",
      "611:\tlearn: 0.3323095\ttotal: 1.6s\tremaining: 1.01s\n",
      "612:\tlearn: 0.3322469\ttotal: 1.6s\tremaining: 1.01s\n",
      "613:\tlearn: 0.3321115\ttotal: 1.6s\tremaining: 1.01s\n",
      "614:\tlearn: 0.3319827\ttotal: 1.6s\tremaining: 1s\n",
      "615:\tlearn: 0.3318748\ttotal: 1.61s\tremaining: 1s\n",
      "616:\tlearn: 0.3318265\ttotal: 1.61s\tremaining: 1000ms\n",
      "617:\tlearn: 0.3316229\ttotal: 1.61s\tremaining: 997ms\n",
      "618:\tlearn: 0.3315232\ttotal: 1.61s\tremaining: 994ms\n",
      "619:\tlearn: 0.3314343\ttotal: 1.62s\tremaining: 991ms\n",
      "620:\tlearn: 0.3313273\ttotal: 1.62s\tremaining: 989ms\n",
      "621:\tlearn: 0.3312398\ttotal: 1.62s\tremaining: 986ms\n"
     ]
    },
    {
     "name": "stdout",
     "output_type": "stream",
     "text": [
      "622:\tlearn: 0.3311064\ttotal: 1.63s\tremaining: 984ms\n",
      "623:\tlearn: 0.3310177\ttotal: 1.63s\tremaining: 981ms\n",
      "624:\tlearn: 0.3309383\ttotal: 1.63s\tremaining: 979ms\n",
      "625:\tlearn: 0.3308319\ttotal: 1.63s\tremaining: 976ms\n",
      "626:\tlearn: 0.3306784\ttotal: 1.64s\tremaining: 973ms\n",
      "627:\tlearn: 0.3305684\ttotal: 1.64s\tremaining: 970ms\n",
      "628:\tlearn: 0.3304292\ttotal: 1.64s\tremaining: 968ms\n",
      "629:\tlearn: 0.3302828\ttotal: 1.64s\tremaining: 965ms\n",
      "630:\tlearn: 0.3301825\ttotal: 1.65s\tremaining: 962ms\n",
      "631:\tlearn: 0.3300542\ttotal: 1.65s\tremaining: 959ms\n",
      "632:\tlearn: 0.3298016\ttotal: 1.65s\tremaining: 957ms\n",
      "633:\tlearn: 0.3296990\ttotal: 1.65s\tremaining: 954ms\n",
      "634:\tlearn: 0.3295866\ttotal: 1.66s\tremaining: 952ms\n",
      "635:\tlearn: 0.3294533\ttotal: 1.66s\tremaining: 949ms\n",
      "636:\tlearn: 0.3293663\ttotal: 1.66s\tremaining: 946ms\n",
      "637:\tlearn: 0.3293094\ttotal: 1.66s\tremaining: 944ms\n",
      "638:\tlearn: 0.3291568\ttotal: 1.67s\tremaining: 941ms\n",
      "639:\tlearn: 0.3289173\ttotal: 1.67s\tremaining: 938ms\n",
      "640:\tlearn: 0.3288234\ttotal: 1.67s\tremaining: 936ms\n",
      "641:\tlearn: 0.3287129\ttotal: 1.67s\tremaining: 933ms\n",
      "642:\tlearn: 0.3286057\ttotal: 1.68s\tremaining: 930ms\n",
      "643:\tlearn: 0.3284855\ttotal: 1.68s\tremaining: 928ms\n",
      "644:\tlearn: 0.3283914\ttotal: 1.68s\tremaining: 925ms\n",
      "645:\tlearn: 0.3282907\ttotal: 1.68s\tremaining: 922ms\n",
      "646:\tlearn: 0.3281898\ttotal: 1.69s\tremaining: 919ms\n",
      "647:\tlearn: 0.3280855\ttotal: 1.69s\tremaining: 917ms\n",
      "648:\tlearn: 0.3280151\ttotal: 1.69s\tremaining: 914ms\n",
      "649:\tlearn: 0.3278855\ttotal: 1.69s\tremaining: 911ms\n",
      "650:\tlearn: 0.3277276\ttotal: 1.69s\tremaining: 909ms\n"
     ]
    },
    {
     "name": "stdout",
     "output_type": "stream",
     "text": [
      "651:\tlearn: 0.3276397\ttotal: 1.7s\tremaining: 906ms\n",
      "652:\tlearn: 0.3274467\ttotal: 1.7s\tremaining: 903ms\n",
      "653:\tlearn: 0.3273678\ttotal: 1.7s\tremaining: 901ms\n",
      "654:\tlearn: 0.3271930\ttotal: 1.7s\tremaining: 898ms\n",
      "655:\tlearn: 0.3271193\ttotal: 1.71s\tremaining: 895ms\n",
      "656:\tlearn: 0.3270019\ttotal: 1.71s\tremaining: 892ms\n",
      "657:\tlearn: 0.3269462\ttotal: 1.71s\tremaining: 890ms\n",
      "658:\tlearn: 0.3268670\ttotal: 1.71s\tremaining: 887ms\n",
      "659:\tlearn: 0.3267871\ttotal: 1.72s\tremaining: 885ms\n",
      "660:\tlearn: 0.3266504\ttotal: 1.72s\tremaining: 882ms\n",
      "661:\tlearn: 0.3265697\ttotal: 1.72s\tremaining: 879ms\n",
      "662:\tlearn: 0.3264793\ttotal: 1.73s\tremaining: 877ms\n",
      "663:\tlearn: 0.3264016\ttotal: 1.73s\tremaining: 874ms\n",
      "664:\tlearn: 0.3261666\ttotal: 1.73s\tremaining: 871ms\n",
      "665:\tlearn: 0.3260635\ttotal: 1.73s\tremaining: 869ms\n",
      "666:\tlearn: 0.3259802\ttotal: 1.74s\tremaining: 866ms\n",
      "667:\tlearn: 0.3258763\ttotal: 1.74s\tremaining: 864ms\n",
      "668:\tlearn: 0.3257870\ttotal: 1.74s\tremaining: 861ms\n",
      "669:\tlearn: 0.3256898\ttotal: 1.74s\tremaining: 859ms\n",
      "670:\tlearn: 0.3256170\ttotal: 1.75s\tremaining: 856ms\n",
      "671:\tlearn: 0.3254669\ttotal: 1.75s\tremaining: 853ms\n",
      "672:\tlearn: 0.3253957\ttotal: 1.75s\tremaining: 851ms\n",
      "673:\tlearn: 0.3252940\ttotal: 1.75s\tremaining: 848ms\n",
      "674:\tlearn: 0.3252203\ttotal: 1.76s\tremaining: 846ms\n",
      "675:\tlearn: 0.3251620\ttotal: 1.76s\tremaining: 843ms\n"
     ]
    },
    {
     "name": "stdout",
     "output_type": "stream",
     "text": [
      "676:\tlearn: 0.3251008\ttotal: 1.76s\tremaining: 841ms\n",
      "677:\tlearn: 0.3250315\ttotal: 1.76s\tremaining: 838ms\n",
      "678:\tlearn: 0.3249096\ttotal: 1.77s\tremaining: 835ms\n",
      "679:\tlearn: 0.3247898\ttotal: 1.77s\tremaining: 832ms\n",
      "680:\tlearn: 0.3246944\ttotal: 1.77s\tremaining: 830ms\n",
      "681:\tlearn: 0.3244561\ttotal: 1.77s\tremaining: 827ms\n",
      "682:\tlearn: 0.3243457\ttotal: 1.78s\tremaining: 825ms\n",
      "683:\tlearn: 0.3242217\ttotal: 1.78s\tremaining: 822ms\n",
      "684:\tlearn: 0.3241345\ttotal: 1.78s\tremaining: 820ms\n",
      "685:\tlearn: 0.3240144\ttotal: 1.78s\tremaining: 817ms\n",
      "686:\tlearn: 0.3239010\ttotal: 1.79s\tremaining: 814ms\n",
      "687:\tlearn: 0.3237926\ttotal: 1.79s\tremaining: 812ms\n",
      "688:\tlearn: 0.3235782\ttotal: 1.79s\tremaining: 809ms\n",
      "689:\tlearn: 0.3234851\ttotal: 1.79s\tremaining: 806ms\n",
      "690:\tlearn: 0.3234088\ttotal: 1.8s\tremaining: 804ms\n",
      "691:\tlearn: 0.3232491\ttotal: 1.8s\tremaining: 801ms\n",
      "692:\tlearn: 0.3231394\ttotal: 1.8s\tremaining: 798ms\n",
      "693:\tlearn: 0.3230672\ttotal: 1.8s\tremaining: 796ms\n",
      "694:\tlearn: 0.3229852\ttotal: 1.81s\tremaining: 793ms\n",
      "695:\tlearn: 0.3228773\ttotal: 1.81s\tremaining: 791ms\n",
      "696:\tlearn: 0.3228229\ttotal: 1.81s\tremaining: 788ms\n",
      "697:\tlearn: 0.3227177\ttotal: 1.82s\tremaining: 786ms\n",
      "698:\tlearn: 0.3226085\ttotal: 1.82s\tremaining: 783ms\n"
     ]
    },
    {
     "name": "stdout",
     "output_type": "stream",
     "text": [
      "699:\tlearn: 0.3224412\ttotal: 1.82s\tremaining: 781ms\n",
      "700:\tlearn: 0.3223311\ttotal: 1.82s\tremaining: 778ms\n",
      "701:\tlearn: 0.3221349\ttotal: 1.83s\tremaining: 775ms\n",
      "702:\tlearn: 0.3220973\ttotal: 1.83s\tremaining: 773ms\n",
      "703:\tlearn: 0.3220003\ttotal: 1.83s\tremaining: 770ms\n",
      "704:\tlearn: 0.3219404\ttotal: 1.83s\tremaining: 767ms\n",
      "705:\tlearn: 0.3218354\ttotal: 1.84s\tremaining: 765ms\n",
      "706:\tlearn: 0.3217469\ttotal: 1.84s\tremaining: 762ms\n",
      "707:\tlearn: 0.3216423\ttotal: 1.84s\tremaining: 759ms\n",
      "708:\tlearn: 0.3215375\ttotal: 1.84s\tremaining: 757ms\n",
      "709:\tlearn: 0.3214251\ttotal: 1.85s\tremaining: 754ms\n",
      "710:\tlearn: 0.3213220\ttotal: 1.85s\tremaining: 752ms\n",
      "711:\tlearn: 0.3212207\ttotal: 1.85s\tremaining: 749ms\n",
      "712:\tlearn: 0.3211063\ttotal: 1.85s\tremaining: 747ms\n",
      "713:\tlearn: 0.3209665\ttotal: 1.86s\tremaining: 744ms\n",
      "714:\tlearn: 0.3208624\ttotal: 1.86s\tremaining: 741ms\n",
      "715:\tlearn: 0.3207353\ttotal: 1.86s\tremaining: 739ms\n",
      "716:\tlearn: 0.3206227\ttotal: 1.86s\tremaining: 736ms\n",
      "717:\tlearn: 0.3205716\ttotal: 1.87s\tremaining: 733ms\n",
      "718:\tlearn: 0.3204078\ttotal: 1.87s\tremaining: 731ms\n",
      "719:\tlearn: 0.3203092\ttotal: 1.87s\tremaining: 728ms\n",
      "720:\tlearn: 0.3202216\ttotal: 1.87s\tremaining: 725ms\n",
      "721:\tlearn: 0.3200896\ttotal: 1.88s\tremaining: 723ms\n",
      "722:\tlearn: 0.3199877\ttotal: 1.88s\tremaining: 720ms\n",
      "723:\tlearn: 0.3198667\ttotal: 1.88s\tremaining: 718ms\n",
      "724:\tlearn: 0.3197479\ttotal: 1.89s\tremaining: 715ms\n",
      "725:\tlearn: 0.3196102\ttotal: 1.89s\tremaining: 712ms\n",
      "726:\tlearn: 0.3195453\ttotal: 1.89s\tremaining: 710ms\n"
     ]
    },
    {
     "name": "stdout",
     "output_type": "stream",
     "text": [
      "727:\tlearn: 0.3194486\ttotal: 1.89s\tremaining: 707ms\n",
      "728:\tlearn: 0.3193702\ttotal: 1.9s\tremaining: 705ms\n",
      "729:\tlearn: 0.3192832\ttotal: 1.9s\tremaining: 702ms\n",
      "730:\tlearn: 0.3192004\ttotal: 1.9s\tremaining: 700ms\n",
      "731:\tlearn: 0.3190281\ttotal: 1.9s\tremaining: 697ms\n",
      "732:\tlearn: 0.3189480\ttotal: 1.91s\tremaining: 694ms\n",
      "733:\tlearn: 0.3188889\ttotal: 1.91s\tremaining: 692ms\n",
      "734:\tlearn: 0.3187487\ttotal: 1.91s\tremaining: 689ms\n",
      "735:\tlearn: 0.3186705\ttotal: 1.91s\tremaining: 686ms\n",
      "736:\tlearn: 0.3185745\ttotal: 1.92s\tremaining: 684ms\n",
      "737:\tlearn: 0.3184766\ttotal: 1.92s\tremaining: 681ms\n",
      "738:\tlearn: 0.3183545\ttotal: 1.92s\tremaining: 679ms\n",
      "739:\tlearn: 0.3182472\ttotal: 1.92s\tremaining: 676ms\n",
      "740:\tlearn: 0.3181621\ttotal: 1.93s\tremaining: 673ms\n",
      "741:\tlearn: 0.3180813\ttotal: 1.93s\tremaining: 671ms\n",
      "742:\tlearn: 0.3180074\ttotal: 1.93s\tremaining: 668ms\n",
      "743:\tlearn: 0.3179379\ttotal: 1.93s\tremaining: 665ms\n",
      "744:\tlearn: 0.3178592\ttotal: 1.94s\tremaining: 663ms\n",
      "745:\tlearn: 0.3177817\ttotal: 1.94s\tremaining: 660ms\n",
      "746:\tlearn: 0.3177285\ttotal: 1.94s\tremaining: 657ms\n",
      "747:\tlearn: 0.3176358\ttotal: 1.94s\tremaining: 655ms\n",
      "748:\tlearn: 0.3175502\ttotal: 1.95s\tremaining: 652ms\n",
      "749:\tlearn: 0.3174668\ttotal: 1.95s\tremaining: 650ms\n",
      "750:\tlearn: 0.3173594\ttotal: 1.95s\tremaining: 647ms\n",
      "751:\tlearn: 0.3173132\ttotal: 1.95s\tremaining: 644ms\n",
      "752:\tlearn: 0.3172018\ttotal: 1.96s\tremaining: 642ms\n"
     ]
    },
    {
     "name": "stdout",
     "output_type": "stream",
     "text": [
      "753:\tlearn: 0.3171122\ttotal: 1.96s\tremaining: 639ms\n",
      "754:\tlearn: 0.3169922\ttotal: 1.96s\tremaining: 636ms\n",
      "755:\tlearn: 0.3169321\ttotal: 1.96s\tremaining: 634ms\n",
      "756:\tlearn: 0.3168766\ttotal: 1.97s\tremaining: 631ms\n",
      "757:\tlearn: 0.3168170\ttotal: 1.97s\tremaining: 629ms\n",
      "758:\tlearn: 0.3167065\ttotal: 1.97s\tremaining: 626ms\n",
      "759:\tlearn: 0.3165022\ttotal: 1.97s\tremaining: 623ms\n",
      "760:\tlearn: 0.3164417\ttotal: 1.98s\tremaining: 621ms\n",
      "761:\tlearn: 0.3163242\ttotal: 1.98s\tremaining: 618ms\n",
      "762:\tlearn: 0.3162318\ttotal: 1.98s\tremaining: 616ms\n",
      "763:\tlearn: 0.3161068\ttotal: 1.98s\tremaining: 613ms\n",
      "764:\tlearn: 0.3160355\ttotal: 1.99s\tremaining: 610ms\n",
      "765:\tlearn: 0.3159664\ttotal: 1.99s\tremaining: 608ms\n",
      "766:\tlearn: 0.3159225\ttotal: 1.99s\tremaining: 605ms\n",
      "767:\tlearn: 0.3158746\ttotal: 1.99s\tremaining: 603ms\n",
      "768:\tlearn: 0.3157331\ttotal: 2s\tremaining: 600ms\n",
      "769:\tlearn: 0.3156632\ttotal: 2s\tremaining: 597ms\n",
      "770:\tlearn: 0.3155516\ttotal: 2s\tremaining: 595ms\n",
      "771:\tlearn: 0.3154642\ttotal: 2s\tremaining: 592ms\n",
      "772:\tlearn: 0.3153837\ttotal: 2.01s\tremaining: 589ms\n",
      "773:\tlearn: 0.3153179\ttotal: 2.01s\tremaining: 587ms\n",
      "774:\tlearn: 0.3152366\ttotal: 2.01s\tremaining: 584ms\n",
      "775:\tlearn: 0.3151261\ttotal: 2.01s\tremaining: 582ms\n"
     ]
    },
    {
     "name": "stdout",
     "output_type": "stream",
     "text": [
      "776:\tlearn: 0.3150602\ttotal: 2.02s\tremaining: 579ms\n",
      "777:\tlearn: 0.3149968\ttotal: 2.02s\tremaining: 576ms\n",
      "778:\tlearn: 0.3149206\ttotal: 2.02s\tremaining: 574ms\n",
      "779:\tlearn: 0.3148749\ttotal: 2.02s\tremaining: 571ms\n",
      "780:\tlearn: 0.3146895\ttotal: 2.03s\tremaining: 569ms\n",
      "781:\tlearn: 0.3145938\ttotal: 2.03s\tremaining: 566ms\n",
      "782:\tlearn: 0.3145132\ttotal: 2.03s\tremaining: 563ms\n",
      "783:\tlearn: 0.3144139\ttotal: 2.03s\tremaining: 561ms\n",
      "784:\tlearn: 0.3143228\ttotal: 2.04s\tremaining: 558ms\n",
      "785:\tlearn: 0.3141972\ttotal: 2.04s\tremaining: 555ms\n",
      "786:\tlearn: 0.3141156\ttotal: 2.04s\tremaining: 553ms\n",
      "787:\tlearn: 0.3140354\ttotal: 2.04s\tremaining: 550ms\n",
      "788:\tlearn: 0.3138875\ttotal: 2.05s\tremaining: 548ms\n",
      "789:\tlearn: 0.3138196\ttotal: 2.05s\tremaining: 545ms\n",
      "790:\tlearn: 0.3137814\ttotal: 2.05s\tremaining: 542ms\n",
      "791:\tlearn: 0.3137072\ttotal: 2.06s\tremaining: 540ms\n",
      "792:\tlearn: 0.3136273\ttotal: 2.06s\tremaining: 537ms\n",
      "793:\tlearn: 0.3135689\ttotal: 2.06s\tremaining: 535ms\n",
      "794:\tlearn: 0.3134848\ttotal: 2.06s\tremaining: 532ms\n",
      "795:\tlearn: 0.3134326\ttotal: 2.06s\tremaining: 529ms\n",
      "796:\tlearn: 0.3133635\ttotal: 2.07s\tremaining: 527ms\n",
      "797:\tlearn: 0.3132941\ttotal: 2.07s\tremaining: 524ms\n",
      "798:\tlearn: 0.3131863\ttotal: 2.07s\tremaining: 521ms\n",
      "799:\tlearn: 0.3131031\ttotal: 2.08s\tremaining: 519ms\n",
      "800:\tlearn: 0.3130227\ttotal: 2.08s\tremaining: 516ms\n",
      "801:\tlearn: 0.3129421\ttotal: 2.08s\tremaining: 514ms\n",
      "802:\tlearn: 0.3129060\ttotal: 2.08s\tremaining: 511ms\n",
      "803:\tlearn: 0.3128564\ttotal: 2.08s\tremaining: 508ms\n",
      "804:\tlearn: 0.3127405\ttotal: 2.09s\tremaining: 506ms\n"
     ]
    },
    {
     "name": "stdout",
     "output_type": "stream",
     "text": [
      "805:\tlearn: 0.3126765\ttotal: 2.09s\tremaining: 503ms\n",
      "806:\tlearn: 0.3125840\ttotal: 2.09s\tremaining: 500ms\n",
      "807:\tlearn: 0.3125235\ttotal: 2.09s\tremaining: 498ms\n",
      "808:\tlearn: 0.3124773\ttotal: 2.1s\tremaining: 495ms\n",
      "809:\tlearn: 0.3123780\ttotal: 2.1s\tremaining: 493ms\n",
      "810:\tlearn: 0.3122968\ttotal: 2.1s\tremaining: 490ms\n",
      "811:\tlearn: 0.3122278\ttotal: 2.1s\tremaining: 487ms\n",
      "812:\tlearn: 0.3121789\ttotal: 2.11s\tremaining: 485ms\n",
      "813:\tlearn: 0.3121335\ttotal: 2.11s\tremaining: 482ms\n",
      "814:\tlearn: 0.3120876\ttotal: 2.11s\tremaining: 480ms\n",
      "815:\tlearn: 0.3119622\ttotal: 2.11s\tremaining: 477ms\n",
      "816:\tlearn: 0.3118906\ttotal: 2.12s\tremaining: 474ms\n",
      "817:\tlearn: 0.3118056\ttotal: 2.12s\tremaining: 472ms\n",
      "818:\tlearn: 0.3116936\ttotal: 2.12s\tremaining: 469ms\n",
      "819:\tlearn: 0.3115938\ttotal: 2.12s\tremaining: 466ms\n",
      "820:\tlearn: 0.3115153\ttotal: 2.13s\tremaining: 464ms\n",
      "821:\tlearn: 0.3113974\ttotal: 2.13s\tremaining: 461ms\n",
      "822:\tlearn: 0.3113332\ttotal: 2.13s\tremaining: 459ms\n",
      "823:\tlearn: 0.3111843\ttotal: 2.13s\tremaining: 456ms\n",
      "824:\tlearn: 0.3111160\ttotal: 2.14s\tremaining: 453ms\n",
      "825:\tlearn: 0.3110493\ttotal: 2.14s\tremaining: 451ms\n",
      "826:\tlearn: 0.3109257\ttotal: 2.14s\tremaining: 448ms\n",
      "827:\tlearn: 0.3108332\ttotal: 2.14s\tremaining: 446ms\n",
      "828:\tlearn: 0.3107577\ttotal: 2.15s\tremaining: 443ms\n",
      "829:\tlearn: 0.3107262\ttotal: 2.15s\tremaining: 440ms\n",
      "830:\tlearn: 0.3106583\ttotal: 2.15s\tremaining: 438ms\n"
     ]
    },
    {
     "name": "stdout",
     "output_type": "stream",
     "text": [
      "831:\tlearn: 0.3105701\ttotal: 2.15s\tremaining: 435ms\n",
      "832:\tlearn: 0.3104889\ttotal: 2.16s\tremaining: 433ms\n",
      "833:\tlearn: 0.3104006\ttotal: 2.16s\tremaining: 430ms\n",
      "834:\tlearn: 0.3103450\ttotal: 2.16s\tremaining: 427ms\n",
      "835:\tlearn: 0.3102263\ttotal: 2.16s\tremaining: 425ms\n",
      "836:\tlearn: 0.3101268\ttotal: 2.17s\tremaining: 422ms\n",
      "837:\tlearn: 0.3100345\ttotal: 2.17s\tremaining: 419ms\n",
      "838:\tlearn: 0.3099556\ttotal: 2.17s\tremaining: 417ms\n",
      "839:\tlearn: 0.3098485\ttotal: 2.17s\tremaining: 414ms\n",
      "840:\tlearn: 0.3097841\ttotal: 2.18s\tremaining: 412ms\n",
      "841:\tlearn: 0.3097243\ttotal: 2.18s\tremaining: 409ms\n",
      "842:\tlearn: 0.3096509\ttotal: 2.18s\tremaining: 406ms\n",
      "843:\tlearn: 0.3094793\ttotal: 2.18s\tremaining: 404ms\n",
      "844:\tlearn: 0.3093918\ttotal: 2.19s\tremaining: 401ms\n",
      "845:\tlearn: 0.3092585\ttotal: 2.19s\tremaining: 399ms\n",
      "846:\tlearn: 0.3092019\ttotal: 2.19s\tremaining: 396ms\n",
      "847:\tlearn: 0.3091200\ttotal: 2.19s\tremaining: 393ms\n",
      "848:\tlearn: 0.3090305\ttotal: 2.2s\tremaining: 391ms\n",
      "849:\tlearn: 0.3089286\ttotal: 2.2s\tremaining: 388ms\n",
      "850:\tlearn: 0.3088405\ttotal: 2.2s\tremaining: 386ms\n",
      "851:\tlearn: 0.3087695\ttotal: 2.2s\tremaining: 383ms\n",
      "852:\tlearn: 0.3086958\ttotal: 2.21s\tremaining: 380ms\n",
      "853:\tlearn: 0.3086263\ttotal: 2.21s\tremaining: 378ms\n"
     ]
    },
    {
     "name": "stdout",
     "output_type": "stream",
     "text": [
      "854:\tlearn: 0.3085984\ttotal: 2.21s\tremaining: 375ms\n",
      "855:\tlearn: 0.3084754\ttotal: 2.21s\tremaining: 373ms\n",
      "856:\tlearn: 0.3083913\ttotal: 2.22s\tremaining: 370ms\n",
      "857:\tlearn: 0.3083458\ttotal: 2.22s\tremaining: 367ms\n",
      "858:\tlearn: 0.3082368\ttotal: 2.22s\tremaining: 365ms\n",
      "859:\tlearn: 0.3081477\ttotal: 2.23s\tremaining: 362ms\n",
      "860:\tlearn: 0.3080597\ttotal: 2.23s\tremaining: 360ms\n",
      "861:\tlearn: 0.3079843\ttotal: 2.23s\tremaining: 357ms\n",
      "862:\tlearn: 0.3078885\ttotal: 2.23s\tremaining: 354ms\n",
      "863:\tlearn: 0.3078153\ttotal: 2.23s\tremaining: 352ms\n",
      "864:\tlearn: 0.3077516\ttotal: 2.24s\tremaining: 349ms\n",
      "865:\tlearn: 0.3077197\ttotal: 2.24s\tremaining: 347ms\n",
      "866:\tlearn: 0.3076750\ttotal: 2.24s\tremaining: 344ms\n",
      "867:\tlearn: 0.3076261\ttotal: 2.24s\tremaining: 341ms\n",
      "868:\tlearn: 0.3075633\ttotal: 2.25s\tremaining: 339ms\n",
      "869:\tlearn: 0.3074934\ttotal: 2.25s\tremaining: 336ms\n",
      "870:\tlearn: 0.3073954\ttotal: 2.25s\tremaining: 334ms\n",
      "871:\tlearn: 0.3073169\ttotal: 2.25s\tremaining: 331ms\n",
      "872:\tlearn: 0.3072473\ttotal: 2.26s\tremaining: 328ms\n",
      "873:\tlearn: 0.3071780\ttotal: 2.26s\tremaining: 326ms\n",
      "874:\tlearn: 0.3071279\ttotal: 2.26s\tremaining: 323ms\n",
      "875:\tlearn: 0.3069668\ttotal: 2.26s\tremaining: 321ms\n",
      "876:\tlearn: 0.3068885\ttotal: 2.27s\tremaining: 318ms\n",
      "877:\tlearn: 0.3068181\ttotal: 2.27s\tremaining: 315ms\n",
      "878:\tlearn: 0.3067276\ttotal: 2.27s\tremaining: 313ms\n",
      "879:\tlearn: 0.3066801\ttotal: 2.27s\tremaining: 310ms\n",
      "880:\tlearn: 0.3065606\ttotal: 2.28s\tremaining: 308ms\n",
      "881:\tlearn: 0.3064827\ttotal: 2.28s\tremaining: 305ms\n",
      "882:\tlearn: 0.3063904\ttotal: 2.28s\tremaining: 302ms\n"
     ]
    },
    {
     "name": "stdout",
     "output_type": "stream",
     "text": [
      "883:\tlearn: 0.3063128\ttotal: 2.28s\tremaining: 300ms\n",
      "884:\tlearn: 0.3062479\ttotal: 2.29s\tremaining: 297ms\n",
      "885:\tlearn: 0.3061651\ttotal: 2.29s\tremaining: 295ms\n",
      "886:\tlearn: 0.3060942\ttotal: 2.29s\tremaining: 292ms\n",
      "887:\tlearn: 0.3060089\ttotal: 2.29s\tremaining: 289ms\n",
      "888:\tlearn: 0.3059583\ttotal: 2.3s\tremaining: 287ms\n",
      "889:\tlearn: 0.3059022\ttotal: 2.3s\tremaining: 284ms\n",
      "890:\tlearn: 0.3058295\ttotal: 2.3s\tremaining: 282ms\n",
      "891:\tlearn: 0.3057429\ttotal: 2.3s\tremaining: 279ms\n",
      "892:\tlearn: 0.3056709\ttotal: 2.31s\tremaining: 276ms\n",
      "893:\tlearn: 0.3056177\ttotal: 2.31s\tremaining: 274ms\n",
      "894:\tlearn: 0.3055547\ttotal: 2.31s\tremaining: 271ms\n",
      "895:\tlearn: 0.3054870\ttotal: 2.31s\tremaining: 269ms\n",
      "896:\tlearn: 0.3054359\ttotal: 2.32s\tremaining: 266ms\n",
      "897:\tlearn: 0.3053946\ttotal: 2.32s\tremaining: 263ms\n",
      "898:\tlearn: 0.3053069\ttotal: 2.32s\tremaining: 261ms\n",
      "899:\tlearn: 0.3052556\ttotal: 2.32s\tremaining: 258ms\n",
      "900:\tlearn: 0.3052046\ttotal: 2.33s\tremaining: 256ms\n",
      "901:\tlearn: 0.3051165\ttotal: 2.33s\tremaining: 253ms\n",
      "902:\tlearn: 0.3050346\ttotal: 2.33s\tremaining: 250ms\n",
      "903:\tlearn: 0.3049575\ttotal: 2.33s\tremaining: 248ms\n",
      "904:\tlearn: 0.3049091\ttotal: 2.33s\tremaining: 245ms\n",
      "905:\tlearn: 0.3047944\ttotal: 2.34s\tremaining: 243ms\n",
      "906:\tlearn: 0.3047551\ttotal: 2.34s\tremaining: 240ms\n",
      "907:\tlearn: 0.3047007\ttotal: 2.34s\tremaining: 237ms\n",
      "908:\tlearn: 0.3046450\ttotal: 2.35s\tremaining: 235ms\n",
      "909:\tlearn: 0.3045915\ttotal: 2.35s\tremaining: 232ms\n"
     ]
    },
    {
     "name": "stdout",
     "output_type": "stream",
     "text": [
      "910:\tlearn: 0.3045080\ttotal: 2.35s\tremaining: 230ms\n",
      "911:\tlearn: 0.3044637\ttotal: 2.35s\tremaining: 227ms\n",
      "912:\tlearn: 0.3043945\ttotal: 2.36s\tremaining: 225ms\n",
      "913:\tlearn: 0.3043248\ttotal: 2.36s\tremaining: 222ms\n",
      "914:\tlearn: 0.3042058\ttotal: 2.36s\tremaining: 219ms\n",
      "915:\tlearn: 0.3041366\ttotal: 2.36s\tremaining: 217ms\n",
      "916:\tlearn: 0.3040694\ttotal: 2.37s\tremaining: 214ms\n",
      "917:\tlearn: 0.3039684\ttotal: 2.37s\tremaining: 212ms\n",
      "918:\tlearn: 0.3038924\ttotal: 2.37s\tremaining: 209ms\n",
      "919:\tlearn: 0.3038308\ttotal: 2.38s\tremaining: 207ms\n",
      "920:\tlearn: 0.3037593\ttotal: 2.38s\tremaining: 204ms\n",
      "921:\tlearn: 0.3036874\ttotal: 2.38s\tremaining: 201ms\n",
      "922:\tlearn: 0.3036109\ttotal: 2.38s\tremaining: 199ms\n",
      "923:\tlearn: 0.3035366\ttotal: 2.38s\tremaining: 196ms\n",
      "924:\tlearn: 0.3034069\ttotal: 2.39s\tremaining: 194ms\n",
      "925:\tlearn: 0.3033549\ttotal: 2.39s\tremaining: 191ms\n",
      "926:\tlearn: 0.3032722\ttotal: 2.39s\tremaining: 189ms\n",
      "927:\tlearn: 0.3030547\ttotal: 2.4s\tremaining: 186ms\n",
      "928:\tlearn: 0.3029513\ttotal: 2.4s\tremaining: 183ms\n",
      "929:\tlearn: 0.3028472\ttotal: 2.4s\tremaining: 181ms\n",
      "930:\tlearn: 0.3027755\ttotal: 2.4s\tremaining: 178ms\n",
      "931:\tlearn: 0.3026823\ttotal: 2.41s\tremaining: 176ms\n"
     ]
    },
    {
     "name": "stdout",
     "output_type": "stream",
     "text": [
      "932:\tlearn: 0.3026124\ttotal: 2.41s\tremaining: 173ms\n",
      "933:\tlearn: 0.3025680\ttotal: 2.41s\tremaining: 170ms\n",
      "934:\tlearn: 0.3024933\ttotal: 2.41s\tremaining: 168ms\n",
      "935:\tlearn: 0.3024191\ttotal: 2.42s\tremaining: 165ms\n",
      "936:\tlearn: 0.3023529\ttotal: 2.42s\tremaining: 163ms\n",
      "937:\tlearn: 0.3022659\ttotal: 2.42s\tremaining: 160ms\n",
      "938:\tlearn: 0.3021932\ttotal: 2.42s\tremaining: 157ms\n",
      "939:\tlearn: 0.3021103\ttotal: 2.42s\tremaining: 155ms\n",
      "940:\tlearn: 0.3020226\ttotal: 2.43s\tremaining: 152ms\n",
      "941:\tlearn: 0.3019329\ttotal: 2.43s\tremaining: 150ms\n",
      "942:\tlearn: 0.3017042\ttotal: 2.43s\tremaining: 147ms\n",
      "943:\tlearn: 0.3016765\ttotal: 2.44s\tremaining: 144ms\n",
      "944:\tlearn: 0.3016317\ttotal: 2.44s\tremaining: 142ms\n",
      "945:\tlearn: 0.3015098\ttotal: 2.44s\tremaining: 139ms\n",
      "946:\tlearn: 0.3014531\ttotal: 2.44s\tremaining: 137ms\n",
      "947:\tlearn: 0.3013833\ttotal: 2.44s\tremaining: 134ms\n",
      "948:\tlearn: 0.3013137\ttotal: 2.45s\tremaining: 132ms\n",
      "949:\tlearn: 0.3012354\ttotal: 2.45s\tremaining: 129ms\n",
      "950:\tlearn: 0.3011904\ttotal: 2.45s\tremaining: 126ms\n",
      "951:\tlearn: 0.3010912\ttotal: 2.45s\tremaining: 124ms\n",
      "952:\tlearn: 0.3010095\ttotal: 2.46s\tremaining: 121ms\n",
      "953:\tlearn: 0.3009244\ttotal: 2.46s\tremaining: 119ms\n",
      "954:\tlearn: 0.3008526\ttotal: 2.46s\tremaining: 116ms\n",
      "955:\tlearn: 0.3007470\ttotal: 2.46s\tremaining: 113ms\n",
      "956:\tlearn: 0.3006776\ttotal: 2.47s\tremaining: 111ms\n",
      "957:\tlearn: 0.3006095\ttotal: 2.47s\tremaining: 108ms\n",
      "958:\tlearn: 0.3005222\ttotal: 2.47s\tremaining: 106ms\n",
      "959:\tlearn: 0.3004358\ttotal: 2.48s\tremaining: 103ms\n",
      "960:\tlearn: 0.3003818\ttotal: 2.48s\tremaining: 101ms\n"
     ]
    },
    {
     "name": "stdout",
     "output_type": "stream",
     "text": [
      "961:\tlearn: 0.3003428\ttotal: 2.48s\tremaining: 98ms\n",
      "962:\tlearn: 0.3002754\ttotal: 2.48s\tremaining: 95.4ms\n",
      "963:\tlearn: 0.3002160\ttotal: 2.48s\tremaining: 92.8ms\n",
      "964:\tlearn: 0.3001536\ttotal: 2.49s\tremaining: 90.2ms\n",
      "965:\tlearn: 0.3000751\ttotal: 2.49s\tremaining: 87.7ms\n",
      "966:\tlearn: 0.2999806\ttotal: 2.49s\tremaining: 85.1ms\n",
      "967:\tlearn: 0.2998949\ttotal: 2.5s\tremaining: 82.5ms\n",
      "968:\tlearn: 0.2998443\ttotal: 2.5s\tremaining: 79.9ms\n",
      "969:\tlearn: 0.2997694\ttotal: 2.5s\tremaining: 77.4ms\n",
      "970:\tlearn: 0.2996625\ttotal: 2.5s\tremaining: 74.8ms\n",
      "971:\tlearn: 0.2995918\ttotal: 2.51s\tremaining: 72.2ms\n",
      "972:\tlearn: 0.2995346\ttotal: 2.51s\tremaining: 69.6ms\n",
      "973:\tlearn: 0.2994870\ttotal: 2.51s\tremaining: 67.1ms\n",
      "974:\tlearn: 0.2994041\ttotal: 2.52s\tremaining: 64.5ms\n",
      "975:\tlearn: 0.2993332\ttotal: 2.52s\tremaining: 61.9ms\n",
      "976:\tlearn: 0.2991925\ttotal: 2.52s\tremaining: 59.3ms\n",
      "977:\tlearn: 0.2991255\ttotal: 2.52s\tremaining: 56.7ms\n",
      "978:\tlearn: 0.2990520\ttotal: 2.52s\tremaining: 54.2ms\n",
      "979:\tlearn: 0.2989805\ttotal: 2.53s\tremaining: 51.6ms\n",
      "980:\tlearn: 0.2988869\ttotal: 2.53s\tremaining: 49ms\n",
      "981:\tlearn: 0.2988358\ttotal: 2.53s\tremaining: 46.4ms\n",
      "982:\tlearn: 0.2987728\ttotal: 2.53s\tremaining: 43.8ms\n",
      "983:\tlearn: 0.2986014\ttotal: 2.54s\tremaining: 41.3ms\n",
      "984:\tlearn: 0.2985453\ttotal: 2.54s\tremaining: 38.7ms\n",
      "985:\tlearn: 0.2984895\ttotal: 2.54s\tremaining: 36.1ms\n",
      "986:\tlearn: 0.2983973\ttotal: 2.54s\tremaining: 33.5ms\n"
     ]
    },
    {
     "name": "stdout",
     "output_type": "stream",
     "text": [
      "987:\tlearn: 0.2983223\ttotal: 2.55s\tremaining: 30.9ms\n",
      "988:\tlearn: 0.2982536\ttotal: 2.55s\tremaining: 28.4ms\n",
      "989:\tlearn: 0.2981535\ttotal: 2.55s\tremaining: 25.8ms\n",
      "990:\tlearn: 0.2980261\ttotal: 2.55s\tremaining: 23.2ms\n",
      "991:\tlearn: 0.2979735\ttotal: 2.56s\tremaining: 20.6ms\n",
      "992:\tlearn: 0.2978700\ttotal: 2.56s\tremaining: 18ms\n",
      "993:\tlearn: 0.2977968\ttotal: 2.56s\tremaining: 15.5ms\n",
      "994:\tlearn: 0.2977358\ttotal: 2.56s\tremaining: 12.9ms\n",
      "995:\tlearn: 0.2976359\ttotal: 2.57s\tremaining: 10.3ms\n",
      "996:\tlearn: 0.2975750\ttotal: 2.57s\tremaining: 7.73ms\n",
      "997:\tlearn: 0.2975017\ttotal: 2.57s\tremaining: 5.15ms\n",
      "998:\tlearn: 0.2974447\ttotal: 2.57s\tremaining: 2.58ms\n",
      "999:\tlearn: 0.2974004\ttotal: 2.58s\tremaining: 0us\n",
      "Mean Squared error 0.14710835183068854\n"
     ]
    },
    {
     "data": {
      "application/scrapbook.scrap.json+json": {
       "data": 0.14710835183068854,
       "encoder": "json",
       "name": "Catboost MAE",
       "version": 1
      }
     },
     "metadata": {
      "scrapbook": {
       "data": true,
       "display": false,
       "name": "Catboost MAE"
      }
     },
     "output_type": "display_data"
    }
   ],
   "source": [
    "mae_cb = baselineModels.catboost(X_train,y_train,X_test,y_test)\n",
    "#Store MSE Value\n",
    "sb.glue(\"Catboost MAE\",mae_cb)"
   ]
  }
 ],
 "metadata": {
  "interpreter": {
   "hash": "10498c76ddd8160350534c6544a2b2fb65f2138dbc70420f7c81a3268f830f23"
  },
  "kernelspec": {
   "display_name": "Python 3 (ipykernel)",
   "language": "python",
   "name": "python3"
  },
  "language_info": {
   "codemirror_mode": {
    "name": "ipython",
    "version": 3
   },
   "file_extension": ".py",
   "mimetype": "text/x-python",
   "name": "python",
   "nbconvert_exporter": "python",
   "pygments_lexer": "ipython3",
   "version": "3.8.11"
  },
  "papermill": {
   "default_parameters": {},
   "duration": 5.792921,
   "end_time": "2022-03-02T04:30:48.169485",
   "environment_variables": {},
   "exception": null,
   "input_path": "BaselineModels.ipynb",
   "output_path": "./BaseLine_Model_Output/BaselineModels_output_6.ipynb",
   "parameters": {},
   "start_time": "2022-03-02T04:30:42.376564",
   "version": "2.3.3"
  }
 },
 "nbformat": 4,
 "nbformat_minor": 5
}