{
 "cells": [
  {
   "cell_type": "markdown",
   "id": "81ecac90",
   "metadata": {
    "papermill": {
     "duration": 0.012973,
     "end_time": "2022-03-02T04:31:03.770729",
     "exception": false,
     "start_time": "2022-03-02T04:31:03.757756",
     "status": "completed"
    },
    "tags": []
   },
   "source": [
    "## Import Libraries "
   ]
  },
  {
   "cell_type": "code",
   "execution_count": 1,
   "id": "963e0aaf",
   "metadata": {
    "execution": {
     "iopub.execute_input": "2022-03-02T04:31:03.796768Z",
     "iopub.status.busy": "2022-03-02T04:31:03.796137Z",
     "iopub.status.idle": "2022-03-02T04:31:03.798947Z",
     "shell.execute_reply": "2022-03-02T04:31:03.799385Z"
    },
    "papermill": {
     "duration": 0.020205,
     "end_time": "2022-03-02T04:31:03.799649",
     "exception": false,
     "start_time": "2022-03-02T04:31:03.779444",
     "status": "completed"
    },
    "tags": []
   },
   "outputs": [],
   "source": [
    "import warnings\n",
    "import sys\n",
    "sys.path.insert(0, '../../src')\n",
    "warnings.filterwarnings('ignore')"
   ]
  },
  {
   "cell_type": "code",
   "execution_count": 2,
   "id": "7b1a5a56",
   "metadata": {
    "execution": {
     "iopub.execute_input": "2022-03-02T04:31:03.813822Z",
     "iopub.status.busy": "2022-03-02T04:31:03.813288Z",
     "iopub.status.idle": "2022-03-02T04:31:05.448092Z",
     "shell.execute_reply": "2022-03-02T04:31:05.448325Z"
    },
    "papermill": {
     "duration": 1.643404,
     "end_time": "2022-03-02T04:31:05.448454",
     "exception": false,
     "start_time": "2022-03-02T04:31:03.805050",
     "status": "completed"
    },
    "tags": []
   },
   "outputs": [],
   "source": [
    "import statsModel\n",
    "import scrapbook as sb \n",
    "import torch \n",
    "import statsModel\n",
    "import baselineModels\n",
    "import californiaDataset\n",
    "import dataset \n",
    "from torch.utils.data import random_split \n",
    "from sklearn.model_selection import train_test_split"
   ]
  },
  {
   "cell_type": "markdown",
   "id": "783bf081",
   "metadata": {
    "papermill": {
     "duration": 0.002779,
     "end_time": "2022-03-02T04:31:05.454246",
     "exception": false,
     "start_time": "2022-03-02T04:31:05.451467",
     "status": "completed"
    },
    "tags": []
   },
   "source": [
    "## Import Dataset \n"
   ]
  },
  {
   "cell_type": "code",
   "execution_count": 3,
   "id": "2301c552",
   "metadata": {
    "execution": {
     "iopub.execute_input": "2022-03-02T04:31:05.463531Z",
     "iopub.status.busy": "2022-03-02T04:31:05.463145Z",
     "iopub.status.idle": "2022-03-02T04:31:05.476763Z",
     "shell.execute_reply": "2022-03-02T04:31:05.476998Z"
    },
    "papermill": {
     "duration": 0.018869,
     "end_time": "2022-03-02T04:31:05.477127",
     "exception": false,
     "start_time": "2022-03-02T04:31:05.458258",
     "status": "completed"
    },
    "tags": []
   },
   "outputs": [
    {
     "name": "stdout",
     "output_type": "stream",
     "text": [
      "       X1    X2        X3        X4      X5        X6     X7      X8      Y\n",
      "0  8.3252  41.0  6.984127  1.023810   322.0  2.555556  37.88 -122.23  4.526\n",
      "1  8.3014  21.0  6.238137  0.971880  2401.0  2.109842  37.86 -122.22  3.585\n",
      "2  7.2574  52.0  8.288136  1.073446   496.0  2.802260  37.85 -122.24  3.521\n",
      "3  5.6431  52.0  5.817352  1.073059   558.0  2.547945  37.85 -122.25  3.413\n",
      "4  3.8462  52.0  6.281853  1.081081   565.0  2.181467  37.85 -122.25  3.422\n"
     ]
    }
   ],
   "source": [
    "n_features = 8\n",
    "n_samples= 20640\n",
    "n_target = 1 \n",
    "X,Y = californiaDataset.california_data()"
   ]
  },
  {
   "cell_type": "code",
   "execution_count": 4,
   "id": "3a9b94c1",
   "metadata": {
    "execution": {
     "iopub.execute_input": "2022-03-02T04:31:05.485824Z",
     "iopub.status.busy": "2022-03-02T04:31:05.485447Z",
     "iopub.status.idle": "2022-03-02T04:31:05.487565Z",
     "shell.execute_reply": "2022-03-02T04:31:05.487814Z"
    },
    "papermill": {
     "duration": 0.00766,
     "end_time": "2022-03-02T04:31:05.487921",
     "exception": false,
     "start_time": "2022-03-02T04:31:05.480261",
     "status": "completed"
    },
    "tags": []
   },
   "outputs": [],
   "source": [
    "# Train test split for dataset \n",
    "real_dataset = dataset.CustomDataset(X,Y)\n",
    "X_train, X_test, y_train, y_test = train_test_split(X, Y, test_size=0.2)"
   ]
  },
  {
   "cell_type": "markdown",
   "id": "97a2dc4c",
   "metadata": {
    "papermill": {
     "duration": 0.002857,
     "end_time": "2022-03-02T04:31:05.493804",
     "exception": false,
     "start_time": "2022-03-02T04:31:05.490947",
     "status": "completed"
    },
    "tags": []
   },
   "source": [
    "## Stats Model \n",
    "\n"
   ]
  },
  {
   "cell_type": "code",
   "execution_count": 5,
   "id": "7998252a",
   "metadata": {
    "execution": {
     "iopub.execute_input": "2022-03-02T04:31:05.501676Z",
     "iopub.status.busy": "2022-03-02T04:31:05.501294Z",
     "iopub.status.idle": "2022-03-02T04:31:05.604487Z",
     "shell.execute_reply": "2022-03-02T04:31:05.604787Z"
    },
    "papermill": {
     "duration": 0.108289,
     "end_time": "2022-03-02T04:31:05.604925",
     "exception": false,
     "start_time": "2022-03-02T04:31:05.496636",
     "status": "completed"
    },
    "tags": []
   },
   "outputs": [
    {
     "name": "stderr",
     "output_type": "stream",
     "text": [
      "No handles with labels found to put in legend.\n"
     ]
    },
    {
     "name": "stdout",
     "output_type": "stream",
     "text": [
      "                                 OLS Regression Results                                \n",
      "=======================================================================================\n",
      "Dep. Variable:                      y   R-squared (uncentered):                   0.601\n",
      "Model:                            OLS   Adj. R-squared (uncentered):              0.600\n",
      "Method:                 Least Squares   F-statistic:                              3102.\n",
      "Date:                Wed, 02 Mar 2022   Prob (F-statistic):                        0.00\n",
      "Time:                        10:01:05   Log-Likelihood:                         -15807.\n",
      "No. Observations:               16512   AIC:                                  3.163e+04\n",
      "Df Residuals:                   16504   BIC:                                  3.169e+04\n",
      "Df Model:                           8                                                  \n",
      "Covariance Type:            nonrobust                                                  \n",
      "==============================================================================\n",
      "                 coef    std err          t      P>|t|      [0.025      0.975]\n",
      "------------------------------------------------------------------------------\n",
      "x1             0.7113      0.008     92.269      0.000       0.696       0.726\n",
      "x2             0.1050      0.005     19.185      0.000       0.094       0.116\n",
      "x3            -0.2279      0.014    -16.237      0.000      -0.255      -0.200\n",
      "x4             0.2611      0.013     20.319      0.000       0.236       0.286\n",
      "x5            -0.0042      0.005     -0.818      0.413      -0.014       0.006\n",
      "x6            -0.0429      0.008     -5.391      0.000      -0.058      -0.027\n",
      "x7            -0.7837      0.015    -52.106      0.000      -0.813      -0.754\n",
      "x8            -0.7561      0.015    -51.256      0.000      -0.785      -0.727\n",
      "==============================================================================\n",
      "Omnibus:                     3530.375   Durbin-Watson:                   1.999\n",
      "Prob(Omnibus):                  0.000   Jarque-Bera (JB):            11552.774\n",
      "Skew:                           1.079   Prob(JB):                         0.00\n",
      "Kurtosis:                       6.483   Cond. No.                         6.88\n",
      "==============================================================================\n",
      "\n",
      "Notes:\n",
      "[1] R² is computed without centering (uncentered) since the model does not contain a constant.\n",
      "[2] Standard Errors assume that the covariance matrix of the errors is correctly specified.\n"
     ]
    },
    {
     "data": {
      "image/png": "[encoded data removed]",
      "text/plain": [
       "<Figure size 432x288 with 1 Axes>"
      ]
     },
     "metadata": {
      "needs_background": "light"
     },
     "output_type": "display_data"
    },
    {
     "name": "stdout",
     "output_type": "stream",
     "text": [
      "Performance Metrics\n",
      "Mean Squared Error: 0.38064686988061475\n",
      "Mean Absolute Error: 0.45671763897511736\n",
      "Manhattan distance: 1885.3304136892832\n",
      "Euclidean distance: 39.639756291722804\n"
     ]
    },
    {
     "data": {
      "application/scrapbook.scrap.json+json": {
       "data": 0.38064686988061475,
       "encoder": "json",
       "name": "Stats Model MSE",
       "version": 1
      }
     },
     "metadata": {
      "scrapbook": {
       "data": true,
       "display": false,
       "name": "Stats Model MSE"
      }
     },
     "output_type": "display_data"
    },
    {
     "data": {
      "application/scrapbook.scrap.json+json": {
       "data": 0.45671763897511736,
       "encoder": "json",
       "name": "Stats Model MAE",
       "version": 1
      }
     },
     "metadata": {
      "scrapbook": {
       "data": true,
       "display": false,
       "name": "Stats Model MAE"
      }
     },
     "output_type": "display_data"
    },
    {
     "data": {
      "application/scrapbook.scrap.json+json": {
       "data": 1885.3304136892832,
       "encoder": "json",
       "name": "Stats Model Manhattan Distance",
       "version": 1
      }
     },
     "metadata": {
      "scrapbook": {
       "data": true,
       "display": false,
       "name": "Stats Model Manhattan Distance"
      }
     },
     "output_type": "display_data"
    },
    {
     "data": {
      "application/scrapbook.scrap.json+json": {
       "data": 39.639756291722804,
       "encoder": "json",
       "name": "Stats Model Euclidean distance",
       "version": 1
      }
     },
     "metadata": {
      "scrapbook": {
       "data": true,
       "display": false,
       "name": "Stats Model Euclidean distance"
      }
     },
     "output_type": "display_data"
    },
    {
     "data": {
      "application/scrapbook.scrap.json+json": {
       "data": [
        0.7113227408826942,
        0.10498346684519627,
        -0.2278610753444962,
        0.2610760611879992,
        -0.004193278749190089,
        -0.042893844642702225,
        -0.7836770608541359,
        -0.7561266871356853
       ],
       "encoder": "json",
       "name": "Coefficients",
       "version": 1
      }
     },
     "metadata": {
      "scrapbook": {
       "data": true,
       "display": false,
       "name": "Coefficients"
      }
     },
     "output_type": "display_data"
    }
   ],
   "source": [
    "coefficients , y_pred =statsModel.statsModel(X_train,y_train,X_test,y_test)\n",
    "#Store MSE Value \n",
    "sb.glue(\"Coefficients\",coefficients)"
   ]
  },
  {
   "cell_type": "markdown",
   "id": "150de946",
   "metadata": {
    "papermill": {
     "duration": 0.005357,
     "end_time": "2022-03-02T04:31:05.615602",
     "exception": false,
     "start_time": "2022-03-02T04:31:05.610245",
     "status": "completed"
    },
    "tags": []
   },
   "source": [
    "# Catboost Model "
   ]
  },
  {
   "cell_type": "code",
   "execution_count": 6,
   "id": "6ed22bc1",
   "metadata": {
    "execution": {
     "iopub.execute_input": "2022-03-02T04:31:05.660307Z",
     "iopub.status.busy": "2022-03-02T04:31:05.659911Z",
     "iopub.status.idle": "2022-03-02T04:31:08.278951Z",
     "shell.execute_reply": "2022-03-02T04:31:08.279362Z"
    },
    "papermill": {
     "duration": 2.658998,
     "end_time": "2022-03-02T04:31:08.279486",
     "exception": false,
     "start_time": "2022-03-02T04:31:05.620488",
     "status": "completed"
    },
    "tags": []
   },
   "outputs": [
    {
     "name": "stdout",
     "output_type": "stream",
     "text": [
      "Learning rate set to 0.064294\n"
     ]
    },
    {
     "name": "stdout",
     "output_type": "stream",
     "text": [
      "0:\tlearn: 0.9616875\ttotal: 60ms\tremaining: 59.9s\n",
      "1:\tlearn: 0.9301147\ttotal: 62.7ms\tremaining: 31.3s\n",
      "2:\tlearn: 0.9001962\ttotal: 65.4ms\tremaining: 21.7s\n",
      "3:\tlearn: 0.8723827\ttotal: 67.9ms\tremaining: 16.9s\n",
      "4:\tlearn: 0.8460752\ttotal: 70.3ms\tremaining: 14s\n",
      "5:\tlearn: 0.8227524\ttotal: 72.7ms\tremaining: 12s\n",
      "6:\tlearn: 0.8007925\ttotal: 75.3ms\tremaining: 10.7s\n",
      "7:\tlearn: 0.7802268\ttotal: 77.7ms\tremaining: 9.63s\n",
      "8:\tlearn: 0.7617911\ttotal: 79.9ms\tremaining: 8.8s\n",
      "9:\tlearn: 0.7432555\ttotal: 82.6ms\tremaining: 8.18s\n",
      "10:\tlearn: 0.7268661\ttotal: 85.3ms\tremaining: 7.67s\n",
      "11:\tlearn: 0.7119679\ttotal: 87.9ms\tremaining: 7.24s\n",
      "12:\tlearn: 0.6985056\ttotal: 90.4ms\tremaining: 6.86s\n",
      "13:\tlearn: 0.6852912\ttotal: 92.9ms\tremaining: 6.54s\n",
      "14:\tlearn: 0.6735051\ttotal: 95.1ms\tremaining: 6.25s\n",
      "15:\tlearn: 0.6622417\ttotal: 97.6ms\tremaining: 6s\n",
      "16:\tlearn: 0.6524643\ttotal: 100ms\tremaining: 5.79s\n",
      "17:\tlearn: 0.6422071\ttotal: 103ms\tremaining: 5.6s\n",
      "18:\tlearn: 0.6337777\ttotal: 106ms\tremaining: 5.45s\n",
      "19:\tlearn: 0.6244554\ttotal: 108ms\tremaining: 5.29s\n",
      "20:\tlearn: 0.6171663\ttotal: 110ms\tremaining: 5.14s\n",
      "21:\tlearn: 0.6088484\ttotal: 113ms\tremaining: 5.03s\n",
      "22:\tlearn: 0.6008886\ttotal: 116ms\tremaining: 4.92s\n",
      "23:\tlearn: 0.5950113\ttotal: 118ms\tremaining: 4.82s\n",
      "24:\tlearn: 0.5889855\ttotal: 121ms\tremaining: 4.71s\n",
      "25:\tlearn: 0.5819634\ttotal: 123ms\tremaining: 4.61s\n"
     ]
    },
    {
     "name": "stdout",
     "output_type": "stream",
     "text": [
      "26:\tlearn: 0.5762995\ttotal: 125ms\tremaining: 4.52s\n",
      "27:\tlearn: 0.5716242\ttotal: 128ms\tremaining: 4.44s\n",
      "28:\tlearn: 0.5656856\ttotal: 131ms\tremaining: 4.37s\n",
      "29:\tlearn: 0.5612790\ttotal: 133ms\tremaining: 4.3s\n",
      "30:\tlearn: 0.5576047\ttotal: 135ms\tremaining: 4.23s\n",
      "31:\tlearn: 0.5533979\ttotal: 138ms\tremaining: 4.17s\n",
      "32:\tlearn: 0.5497156\ttotal: 140ms\tremaining: 4.11s\n",
      "33:\tlearn: 0.5467902\ttotal: 143ms\tremaining: 4.05s\n",
      "34:\tlearn: 0.5417532\ttotal: 145ms\tremaining: 4s\n",
      "35:\tlearn: 0.5391507\ttotal: 147ms\tremaining: 3.94s\n",
      "36:\tlearn: 0.5360332\ttotal: 149ms\tremaining: 3.89s\n",
      "37:\tlearn: 0.5318585\ttotal: 152ms\tremaining: 3.84s\n",
      "38:\tlearn: 0.5280466\ttotal: 154ms\tremaining: 3.8s\n",
      "39:\tlearn: 0.5242349\ttotal: 157ms\tremaining: 3.78s\n",
      "40:\tlearn: 0.5220872\ttotal: 160ms\tremaining: 3.73s\n",
      "41:\tlearn: 0.5201478\ttotal: 162ms\tremaining: 3.7s\n",
      "42:\tlearn: 0.5172670\ttotal: 165ms\tremaining: 3.67s\n",
      "43:\tlearn: 0.5150221\ttotal: 167ms\tremaining: 3.63s\n",
      "44:\tlearn: 0.5127895\ttotal: 170ms\tremaining: 3.6s\n",
      "45:\tlearn: 0.5092865\ttotal: 172ms\tremaining: 3.56s\n",
      "46:\tlearn: 0.5074837\ttotal: 174ms\tremaining: 3.53s\n",
      "47:\tlearn: 0.5061059\ttotal: 177ms\tremaining: 3.5s\n",
      "48:\tlearn: 0.5030022\ttotal: 179ms\tremaining: 3.47s\n",
      "49:\tlearn: 0.5002691\ttotal: 181ms\tremaining: 3.44s\n",
      "50:\tlearn: 0.4982839\ttotal: 184ms\tremaining: 3.42s\n",
      "51:\tlearn: 0.4968355\ttotal: 186ms\tremaining: 3.39s\n",
      "52:\tlearn: 0.4944588\ttotal: 189ms\tremaining: 3.37s\n",
      "53:\tlearn: 0.4931100\ttotal: 191ms\tremaining: 3.35s\n",
      "54:\tlearn: 0.4907228\ttotal: 194ms\tremaining: 3.33s\n"
     ]
    },
    {
     "name": "stdout",
     "output_type": "stream",
     "text": [
      "55:\tlearn: 0.4893964\ttotal: 196ms\tremaining: 3.31s\n",
      "56:\tlearn: 0.4876147\ttotal: 199ms\tremaining: 3.29s\n",
      "57:\tlearn: 0.4868140\ttotal: 201ms\tremaining: 3.27s\n",
      "58:\tlearn: 0.4858686\ttotal: 204ms\tremaining: 3.25s\n",
      "59:\tlearn: 0.4848858\ttotal: 206ms\tremaining: 3.23s\n",
      "60:\tlearn: 0.4833865\ttotal: 209ms\tremaining: 3.22s\n",
      "61:\tlearn: 0.4821138\ttotal: 212ms\tremaining: 3.2s\n",
      "62:\tlearn: 0.4811380\ttotal: 214ms\tremaining: 3.18s\n",
      "63:\tlearn: 0.4792680\ttotal: 217ms\tremaining: 3.17s\n",
      "64:\tlearn: 0.4784941\ttotal: 219ms\tremaining: 3.15s\n",
      "65:\tlearn: 0.4771334\ttotal: 221ms\tremaining: 3.13s\n",
      "66:\tlearn: 0.4762291\ttotal: 224ms\tremaining: 3.11s\n",
      "67:\tlearn: 0.4754189\ttotal: 226ms\tremaining: 3.09s\n",
      "68:\tlearn: 0.4744899\ttotal: 228ms\tremaining: 3.08s\n",
      "69:\tlearn: 0.4739588\ttotal: 230ms\tremaining: 3.06s\n",
      "70:\tlearn: 0.4726276\ttotal: 233ms\tremaining: 3.05s\n",
      "71:\tlearn: 0.4716934\ttotal: 235ms\tremaining: 3.03s\n",
      "72:\tlearn: 0.4710451\ttotal: 238ms\tremaining: 3.02s\n",
      "73:\tlearn: 0.4704611\ttotal: 240ms\tremaining: 3.01s\n",
      "74:\tlearn: 0.4697608\ttotal: 243ms\tremaining: 3s\n",
      "75:\tlearn: 0.4688904\ttotal: 245ms\tremaining: 2.98s\n",
      "76:\tlearn: 0.4682834\ttotal: 248ms\tremaining: 2.97s\n",
      "77:\tlearn: 0.4672618\ttotal: 250ms\tremaining: 2.96s\n",
      "78:\tlearn: 0.4664419\ttotal: 252ms\tremaining: 2.94s\n"
     ]
    },
    {
     "name": "stdout",
     "output_type": "stream",
     "text": [
      "79:\tlearn: 0.4656548\ttotal: 255ms\tremaining: 2.93s\n",
      "80:\tlearn: 0.4642530\ttotal: 257ms\tremaining: 2.91s\n",
      "81:\tlearn: 0.4633439\ttotal: 259ms\tremaining: 2.9s\n",
      "82:\tlearn: 0.4620667\ttotal: 262ms\tremaining: 2.89s\n",
      "83:\tlearn: 0.4610073\ttotal: 264ms\tremaining: 2.88s\n",
      "84:\tlearn: 0.4602193\ttotal: 267ms\tremaining: 2.87s\n",
      "85:\tlearn: 0.4595804\ttotal: 269ms\tremaining: 2.86s\n",
      "86:\tlearn: 0.4591535\ttotal: 272ms\tremaining: 2.85s\n",
      "87:\tlearn: 0.4587309\ttotal: 274ms\tremaining: 2.84s\n",
      "88:\tlearn: 0.4580007\ttotal: 277ms\tremaining: 2.83s\n",
      "89:\tlearn: 0.4576807\ttotal: 279ms\tremaining: 2.82s\n",
      "90:\tlearn: 0.4566631\ttotal: 281ms\tremaining: 2.81s\n",
      "91:\tlearn: 0.4560761\ttotal: 284ms\tremaining: 2.8s\n",
      "92:\tlearn: 0.4554023\ttotal: 286ms\tremaining: 2.79s\n",
      "93:\tlearn: 0.4543740\ttotal: 289ms\tremaining: 2.78s\n",
      "94:\tlearn: 0.4537470\ttotal: 291ms\tremaining: 2.77s\n",
      "95:\tlearn: 0.4533011\ttotal: 294ms\tremaining: 2.77s\n",
      "96:\tlearn: 0.4525812\ttotal: 296ms\tremaining: 2.76s\n",
      "97:\tlearn: 0.4519814\ttotal: 299ms\tremaining: 2.75s\n",
      "98:\tlearn: 0.4509423\ttotal: 301ms\tremaining: 2.74s\n",
      "99:\tlearn: 0.4502615\ttotal: 303ms\tremaining: 2.73s\n",
      "100:\tlearn: 0.4491164\ttotal: 306ms\tremaining: 2.72s\n",
      "101:\tlearn: 0.4482982\ttotal: 308ms\tremaining: 2.71s\n",
      "102:\tlearn: 0.4477635\ttotal: 311ms\tremaining: 2.71s\n",
      "103:\tlearn: 0.4472114\ttotal: 313ms\tremaining: 2.7s\n",
      "104:\tlearn: 0.4465060\ttotal: 315ms\tremaining: 2.69s\n",
      "105:\tlearn: 0.4458959\ttotal: 318ms\tremaining: 2.68s\n"
     ]
    },
    {
     "name": "stdout",
     "output_type": "stream",
     "text": [
      "106:\tlearn: 0.4455140\ttotal: 321ms\tremaining: 2.68s\n",
      "107:\tlearn: 0.4450407\ttotal: 324ms\tremaining: 2.67s\n",
      "108:\tlearn: 0.4444428\ttotal: 326ms\tremaining: 2.67s\n",
      "109:\tlearn: 0.4437549\ttotal: 328ms\tremaining: 2.66s\n",
      "110:\tlearn: 0.4431455\ttotal: 331ms\tremaining: 2.65s\n",
      "111:\tlearn: 0.4427179\ttotal: 333ms\tremaining: 2.64s\n",
      "112:\tlearn: 0.4420002\ttotal: 336ms\tremaining: 2.63s\n",
      "113:\tlearn: 0.4416086\ttotal: 338ms\tremaining: 2.63s\n",
      "114:\tlearn: 0.4411280\ttotal: 341ms\tremaining: 2.62s\n",
      "115:\tlearn: 0.4406552\ttotal: 343ms\tremaining: 2.62s\n",
      "116:\tlearn: 0.4404536\ttotal: 346ms\tremaining: 2.61s\n",
      "117:\tlearn: 0.4399948\ttotal: 348ms\tremaining: 2.6s\n",
      "118:\tlearn: 0.4396139\ttotal: 350ms\tremaining: 2.59s\n",
      "119:\tlearn: 0.4390231\ttotal: 352ms\tremaining: 2.58s\n",
      "120:\tlearn: 0.4385152\ttotal: 355ms\tremaining: 2.58s\n",
      "121:\tlearn: 0.4382142\ttotal: 357ms\tremaining: 2.57s\n",
      "122:\tlearn: 0.4377032\ttotal: 359ms\tremaining: 2.56s\n",
      "123:\tlearn: 0.4368713\ttotal: 362ms\tremaining: 2.56s\n",
      "124:\tlearn: 0.4364020\ttotal: 365ms\tremaining: 2.55s\n",
      "125:\tlearn: 0.4360335\ttotal: 367ms\tremaining: 2.55s\n",
      "126:\tlearn: 0.4353656\ttotal: 370ms\tremaining: 2.54s\n",
      "127:\tlearn: 0.4348368\ttotal: 372ms\tremaining: 2.54s\n",
      "128:\tlearn: 0.4344602\ttotal: 375ms\tremaining: 2.53s\n",
      "129:\tlearn: 0.4339255\ttotal: 377ms\tremaining: 2.52s\n",
      "130:\tlearn: 0.4333310\ttotal: 380ms\tremaining: 2.52s\n",
      "131:\tlearn: 0.4329324\ttotal: 382ms\tremaining: 2.51s\n",
      "132:\tlearn: 0.4323240\ttotal: 385ms\tremaining: 2.51s\n",
      "133:\tlearn: 0.4319236\ttotal: 387ms\tremaining: 2.5s\n",
      "134:\tlearn: 0.4311905\ttotal: 390ms\tremaining: 2.5s\n"
     ]
    },
    {
     "name": "stdout",
     "output_type": "stream",
     "text": [
      "135:\tlearn: 0.4303948\ttotal: 392ms\tremaining: 2.49s\n",
      "136:\tlearn: 0.4301030\ttotal: 395ms\tremaining: 2.49s\n",
      "137:\tlearn: 0.4294974\ttotal: 397ms\tremaining: 2.48s\n",
      "138:\tlearn: 0.4291242\ttotal: 400ms\tremaining: 2.48s\n",
      "139:\tlearn: 0.4287698\ttotal: 402ms\tremaining: 2.47s\n",
      "140:\tlearn: 0.4282678\ttotal: 405ms\tremaining: 2.47s\n",
      "141:\tlearn: 0.4277241\ttotal: 407ms\tremaining: 2.46s\n",
      "142:\tlearn: 0.4272307\ttotal: 410ms\tremaining: 2.46s\n",
      "143:\tlearn: 0.4268117\ttotal: 412ms\tremaining: 2.45s\n",
      "144:\tlearn: 0.4264187\ttotal: 414ms\tremaining: 2.44s\n",
      "145:\tlearn: 0.4260640\ttotal: 417ms\tremaining: 2.44s\n",
      "146:\tlearn: 0.4257156\ttotal: 419ms\tremaining: 2.43s\n",
      "147:\tlearn: 0.4252789\ttotal: 421ms\tremaining: 2.43s\n",
      "148:\tlearn: 0.4250290\ttotal: 424ms\tremaining: 2.42s\n",
      "149:\tlearn: 0.4245077\ttotal: 426ms\tremaining: 2.42s\n",
      "150:\tlearn: 0.4241175\ttotal: 428ms\tremaining: 2.41s\n",
      "151:\tlearn: 0.4237574\ttotal: 431ms\tremaining: 2.4s\n",
      "152:\tlearn: 0.4231161\ttotal: 433ms\tremaining: 2.4s\n",
      "153:\tlearn: 0.4226637\ttotal: 435ms\tremaining: 2.39s\n",
      "154:\tlearn: 0.4222376\ttotal: 438ms\tremaining: 2.38s\n",
      "155:\tlearn: 0.4217524\ttotal: 440ms\tremaining: 2.38s\n",
      "156:\tlearn: 0.4212927\ttotal: 443ms\tremaining: 2.38s\n",
      "157:\tlearn: 0.4209014\ttotal: 445ms\tremaining: 2.37s\n",
      "158:\tlearn: 0.4199893\ttotal: 447ms\tremaining: 2.37s\n"
     ]
    },
    {
     "name": "stdout",
     "output_type": "stream",
     "text": [
      "159:\tlearn: 0.4196534\ttotal: 450ms\tremaining: 2.36s\n",
      "160:\tlearn: 0.4192461\ttotal: 452ms\tremaining: 2.36s\n",
      "161:\tlearn: 0.4188366\ttotal: 454ms\tremaining: 2.35s\n",
      "162:\tlearn: 0.4183942\ttotal: 457ms\tremaining: 2.35s\n",
      "163:\tlearn: 0.4180682\ttotal: 460ms\tremaining: 2.34s\n",
      "164:\tlearn: 0.4175945\ttotal: 462ms\tremaining: 2.34s\n",
      "165:\tlearn: 0.4172108\ttotal: 464ms\tremaining: 2.33s\n",
      "166:\tlearn: 0.4167980\ttotal: 466ms\tremaining: 2.33s\n",
      "167:\tlearn: 0.4163067\ttotal: 469ms\tremaining: 2.32s\n",
      "168:\tlearn: 0.4159378\ttotal: 471ms\tremaining: 2.32s\n",
      "169:\tlearn: 0.4154791\ttotal: 474ms\tremaining: 2.31s\n",
      "170:\tlearn: 0.4151140\ttotal: 477ms\tremaining: 2.31s\n",
      "171:\tlearn: 0.4146721\ttotal: 479ms\tremaining: 2.31s\n",
      "172:\tlearn: 0.4142899\ttotal: 481ms\tremaining: 2.3s\n",
      "173:\tlearn: 0.4137226\ttotal: 484ms\tremaining: 2.29s\n",
      "174:\tlearn: 0.4133691\ttotal: 486ms\tremaining: 2.29s\n",
      "175:\tlearn: 0.4130243\ttotal: 488ms\tremaining: 2.29s\n",
      "176:\tlearn: 0.4124457\ttotal: 491ms\tremaining: 2.28s\n",
      "177:\tlearn: 0.4119111\ttotal: 493ms\tremaining: 2.28s\n",
      "178:\tlearn: 0.4115502\ttotal: 496ms\tremaining: 2.27s\n",
      "179:\tlearn: 0.4107863\ttotal: 498ms\tremaining: 2.27s\n",
      "180:\tlearn: 0.4104623\ttotal: 501ms\tremaining: 2.27s\n",
      "181:\tlearn: 0.4100857\ttotal: 503ms\tremaining: 2.26s\n",
      "182:\tlearn: 0.4096733\ttotal: 506ms\tremaining: 2.26s\n",
      "183:\tlearn: 0.4090323\ttotal: 509ms\tremaining: 2.25s\n",
      "184:\tlearn: 0.4086828\ttotal: 511ms\tremaining: 2.25s\n",
      "185:\tlearn: 0.4083158\ttotal: 514ms\tremaining: 2.25s\n"
     ]
    },
    {
     "name": "stdout",
     "output_type": "stream",
     "text": [
      "186:\tlearn: 0.4079692\ttotal: 516ms\tremaining: 2.24s\n",
      "187:\tlearn: 0.4075854\ttotal: 519ms\tremaining: 2.24s\n",
      "188:\tlearn: 0.4072437\ttotal: 521ms\tremaining: 2.24s\n",
      "189:\tlearn: 0.4068718\ttotal: 524ms\tremaining: 2.23s\n",
      "190:\tlearn: 0.4066292\ttotal: 526ms\tremaining: 2.23s\n",
      "191:\tlearn: 0.4062849\ttotal: 529ms\tremaining: 2.22s\n",
      "192:\tlearn: 0.4058477\ttotal: 531ms\tremaining: 2.22s\n",
      "193:\tlearn: 0.4053269\ttotal: 533ms\tremaining: 2.21s\n",
      "194:\tlearn: 0.4047826\ttotal: 536ms\tremaining: 2.21s\n",
      "195:\tlearn: 0.4044169\ttotal: 539ms\tremaining: 2.21s\n",
      "196:\tlearn: 0.4040778\ttotal: 541ms\tremaining: 2.21s\n",
      "197:\tlearn: 0.4037671\ttotal: 543ms\tremaining: 2.2s\n",
      "198:\tlearn: 0.4033668\ttotal: 546ms\tremaining: 2.19s\n",
      "199:\tlearn: 0.4031071\ttotal: 548ms\tremaining: 2.19s\n",
      "200:\tlearn: 0.4027149\ttotal: 550ms\tremaining: 2.19s\n",
      "201:\tlearn: 0.4022081\ttotal: 552ms\tremaining: 2.18s\n",
      "202:\tlearn: 0.4018694\ttotal: 555ms\tremaining: 2.18s\n",
      "203:\tlearn: 0.4015588\ttotal: 557ms\tremaining: 2.17s\n",
      "204:\tlearn: 0.4012488\ttotal: 559ms\tremaining: 2.17s\n",
      "205:\tlearn: 0.4008685\ttotal: 562ms\tremaining: 2.17s\n",
      "206:\tlearn: 0.4004931\ttotal: 564ms\tremaining: 2.16s\n",
      "207:\tlearn: 0.4001280\ttotal: 567ms\tremaining: 2.16s\n",
      "208:\tlearn: 0.3997318\ttotal: 570ms\tremaining: 2.16s\n",
      "209:\tlearn: 0.3994878\ttotal: 572ms\tremaining: 2.15s\n",
      "210:\tlearn: 0.3991814\ttotal: 575ms\tremaining: 2.15s\n",
      "211:\tlearn: 0.3989461\ttotal: 577ms\tremaining: 2.14s\n",
      "212:\tlearn: 0.3986516\ttotal: 579ms\tremaining: 2.14s\n",
      "213:\tlearn: 0.3983801\ttotal: 582ms\tremaining: 2.14s\n",
      "214:\tlearn: 0.3980902\ttotal: 584ms\tremaining: 2.13s\n",
      "215:\tlearn: 0.3978155\ttotal: 587ms\tremaining: 2.13s\n"
     ]
    },
    {
     "name": "stdout",
     "output_type": "stream",
     "text": [
      "216:\tlearn: 0.3975386\ttotal: 589ms\tremaining: 2.13s\n",
      "217:\tlearn: 0.3972338\ttotal: 592ms\tremaining: 2.12s\n",
      "218:\tlearn: 0.3967891\ttotal: 594ms\tremaining: 2.12s\n",
      "219:\tlearn: 0.3964297\ttotal: 596ms\tremaining: 2.11s\n",
      "220:\tlearn: 0.3960874\ttotal: 599ms\tremaining: 2.11s\n",
      "221:\tlearn: 0.3957218\ttotal: 601ms\tremaining: 2.11s\n",
      "222:\tlearn: 0.3954200\ttotal: 604ms\tremaining: 2.1s\n",
      "223:\tlearn: 0.3951074\ttotal: 606ms\tremaining: 2.1s\n",
      "224:\tlearn: 0.3948770\ttotal: 609ms\tremaining: 2.1s\n",
      "225:\tlearn: 0.3946518\ttotal: 611ms\tremaining: 2.09s\n",
      "226:\tlearn: 0.3943454\ttotal: 613ms\tremaining: 2.09s\n",
      "227:\tlearn: 0.3940794\ttotal: 616ms\tremaining: 2.08s\n",
      "228:\tlearn: 0.3938597\ttotal: 618ms\tremaining: 2.08s\n",
      "229:\tlearn: 0.3931713\ttotal: 621ms\tremaining: 2.08s\n",
      "230:\tlearn: 0.3927923\ttotal: 623ms\tremaining: 2.07s\n",
      "231:\tlearn: 0.3925045\ttotal: 626ms\tremaining: 2.07s\n",
      "232:\tlearn: 0.3923228\ttotal: 628ms\tremaining: 2.07s\n",
      "233:\tlearn: 0.3920434\ttotal: 631ms\tremaining: 2.06s\n",
      "234:\tlearn: 0.3914112\ttotal: 633ms\tremaining: 2.06s\n",
      "235:\tlearn: 0.3911399\ttotal: 636ms\tremaining: 2.06s\n",
      "236:\tlearn: 0.3909719\ttotal: 638ms\tremaining: 2.05s\n",
      "237:\tlearn: 0.3906363\ttotal: 641ms\tremaining: 2.05s\n",
      "238:\tlearn: 0.3904082\ttotal: 643ms\tremaining: 2.05s\n"
     ]
    },
    {
     "name": "stdout",
     "output_type": "stream",
     "text": [
      "239:\tlearn: 0.3901009\ttotal: 646ms\tremaining: 2.04s\n",
      "240:\tlearn: 0.3898570\ttotal: 649ms\tremaining: 2.04s\n",
      "241:\tlearn: 0.3895616\ttotal: 651ms\tremaining: 2.04s\n",
      "242:\tlearn: 0.3892276\ttotal: 654ms\tremaining: 2.04s\n",
      "243:\tlearn: 0.3886886\ttotal: 656ms\tremaining: 2.03s\n",
      "244:\tlearn: 0.3885298\ttotal: 658ms\tremaining: 2.03s\n",
      "245:\tlearn: 0.3882719\ttotal: 661ms\tremaining: 2.02s\n",
      "246:\tlearn: 0.3879890\ttotal: 663ms\tremaining: 2.02s\n",
      "247:\tlearn: 0.3875644\ttotal: 666ms\tremaining: 2.02s\n",
      "248:\tlearn: 0.3872866\ttotal: 668ms\tremaining: 2.02s\n",
      "249:\tlearn: 0.3870548\ttotal: 671ms\tremaining: 2.01s\n",
      "250:\tlearn: 0.3868002\ttotal: 673ms\tremaining: 2.01s\n",
      "251:\tlearn: 0.3865260\ttotal: 676ms\tremaining: 2.01s\n",
      "252:\tlearn: 0.3862439\ttotal: 679ms\tremaining: 2s\n",
      "253:\tlearn: 0.3859866\ttotal: 681ms\tremaining: 2s\n",
      "254:\tlearn: 0.3858304\ttotal: 683ms\tremaining: 2s\n",
      "255:\tlearn: 0.3856402\ttotal: 686ms\tremaining: 1.99s\n",
      "256:\tlearn: 0.3854416\ttotal: 688ms\tremaining: 1.99s\n",
      "257:\tlearn: 0.3851224\ttotal: 691ms\tremaining: 1.99s\n",
      "258:\tlearn: 0.3849286\ttotal: 693ms\tremaining: 1.98s\n",
      "259:\tlearn: 0.3847432\ttotal: 695ms\tremaining: 1.98s\n",
      "260:\tlearn: 0.3844270\ttotal: 698ms\tremaining: 1.98s\n",
      "261:\tlearn: 0.3842031\ttotal: 700ms\tremaining: 1.97s\n",
      "262:\tlearn: 0.3838199\ttotal: 703ms\tremaining: 1.97s\n",
      "263:\tlearn: 0.3835534\ttotal: 706ms\tremaining: 1.97s\n",
      "264:\tlearn: 0.3833149\ttotal: 708ms\tremaining: 1.96s\n",
      "265:\tlearn: 0.3830957\ttotal: 710ms\tremaining: 1.96s\n"
     ]
    },
    {
     "name": "stdout",
     "output_type": "stream",
     "text": [
      "266:\tlearn: 0.3828420\ttotal: 713ms\tremaining: 1.96s\n",
      "267:\tlearn: 0.3825830\ttotal: 716ms\tremaining: 1.95s\n",
      "268:\tlearn: 0.3823833\ttotal: 718ms\tremaining: 1.95s\n",
      "269:\tlearn: 0.3821713\ttotal: 720ms\tremaining: 1.95s\n",
      "270:\tlearn: 0.3820267\ttotal: 722ms\tremaining: 1.94s\n",
      "271:\tlearn: 0.3815530\ttotal: 725ms\tremaining: 1.94s\n",
      "272:\tlearn: 0.3813549\ttotal: 728ms\tremaining: 1.94s\n",
      "273:\tlearn: 0.3810822\ttotal: 730ms\tremaining: 1.94s\n",
      "274:\tlearn: 0.3808526\ttotal: 732ms\tremaining: 1.93s\n",
      "275:\tlearn: 0.3805967\ttotal: 735ms\tremaining: 1.93s\n",
      "276:\tlearn: 0.3803399\ttotal: 737ms\tremaining: 1.92s\n",
      "277:\tlearn: 0.3801997\ttotal: 739ms\tremaining: 1.92s\n",
      "278:\tlearn: 0.3799497\ttotal: 741ms\tremaining: 1.92s\n",
      "279:\tlearn: 0.3797245\ttotal: 744ms\tremaining: 1.91s\n",
      "280:\tlearn: 0.3795221\ttotal: 746ms\tremaining: 1.91s\n",
      "281:\tlearn: 0.3792876\ttotal: 749ms\tremaining: 1.91s\n",
      "282:\tlearn: 0.3790100\ttotal: 751ms\tremaining: 1.9s\n",
      "283:\tlearn: 0.3787339\ttotal: 754ms\tremaining: 1.9s\n",
      "284:\tlearn: 0.3785170\ttotal: 756ms\tremaining: 1.9s\n",
      "285:\tlearn: 0.3782483\ttotal: 759ms\tremaining: 1.89s\n",
      "286:\tlearn: 0.3780894\ttotal: 761ms\tremaining: 1.89s\n",
      "287:\tlearn: 0.3778128\ttotal: 764ms\tremaining: 1.89s\n",
      "288:\tlearn: 0.3775812\ttotal: 766ms\tremaining: 1.88s\n",
      "289:\tlearn: 0.3773496\ttotal: 769ms\tremaining: 1.88s\n",
      "290:\tlearn: 0.3770656\ttotal: 771ms\tremaining: 1.88s\n",
      "291:\tlearn: 0.3768295\ttotal: 774ms\tremaining: 1.88s\n",
      "292:\tlearn: 0.3765896\ttotal: 777ms\tremaining: 1.87s\n",
      "293:\tlearn: 0.3764262\ttotal: 779ms\tremaining: 1.87s\n",
      "294:\tlearn: 0.3761841\ttotal: 781ms\tremaining: 1.87s\n",
      "295:\tlearn: 0.3760347\ttotal: 784ms\tremaining: 1.86s\n"
     ]
    },
    {
     "name": "stdout",
     "output_type": "stream",
     "text": [
      "296:\tlearn: 0.3758537\ttotal: 786ms\tremaining: 1.86s\n",
      "297:\tlearn: 0.3757151\ttotal: 789ms\tremaining: 1.86s\n",
      "298:\tlearn: 0.3754894\ttotal: 791ms\tremaining: 1.85s\n",
      "299:\tlearn: 0.3753099\ttotal: 794ms\tremaining: 1.85s\n",
      "300:\tlearn: 0.3751096\ttotal: 797ms\tremaining: 1.85s\n",
      "301:\tlearn: 0.3749174\ttotal: 799ms\tremaining: 1.85s\n",
      "302:\tlearn: 0.3746137\ttotal: 802ms\tremaining: 1.84s\n",
      "303:\tlearn: 0.3744073\ttotal: 804ms\tremaining: 1.84s\n",
      "304:\tlearn: 0.3742199\ttotal: 806ms\tremaining: 1.84s\n",
      "305:\tlearn: 0.3740509\ttotal: 809ms\tremaining: 1.83s\n",
      "306:\tlearn: 0.3738368\ttotal: 811ms\tremaining: 1.83s\n",
      "307:\tlearn: 0.3736615\ttotal: 813ms\tremaining: 1.83s\n",
      "308:\tlearn: 0.3734724\ttotal: 816ms\tremaining: 1.82s\n",
      "309:\tlearn: 0.3733175\ttotal: 818ms\tremaining: 1.82s\n",
      "310:\tlearn: 0.3730733\ttotal: 820ms\tremaining: 1.82s\n",
      "311:\tlearn: 0.3728450\ttotal: 823ms\tremaining: 1.81s\n",
      "312:\tlearn: 0.3726841\ttotal: 825ms\tremaining: 1.81s\n",
      "313:\tlearn: 0.3725266\ttotal: 827ms\tremaining: 1.81s\n",
      "314:\tlearn: 0.3723885\ttotal: 829ms\tremaining: 1.8s\n",
      "315:\tlearn: 0.3722880\ttotal: 832ms\tremaining: 1.8s\n",
      "316:\tlearn: 0.3720824\ttotal: 834ms\tremaining: 1.8s\n",
      "317:\tlearn: 0.3719210\ttotal: 837ms\tremaining: 1.79s\n",
      "318:\tlearn: 0.3717667\ttotal: 840ms\tremaining: 1.79s\n"
     ]
    },
    {
     "name": "stdout",
     "output_type": "stream",
     "text": [
      "319:\tlearn: 0.3716070\ttotal: 842ms\tremaining: 1.79s\n",
      "320:\tlearn: 0.3713875\ttotal: 845ms\tremaining: 1.79s\n",
      "321:\tlearn: 0.3711901\ttotal: 847ms\tremaining: 1.78s\n",
      "322:\tlearn: 0.3709967\ttotal: 850ms\tremaining: 1.78s\n",
      "323:\tlearn: 0.3707811\ttotal: 852ms\tremaining: 1.78s\n",
      "324:\tlearn: 0.3705286\ttotal: 855ms\tremaining: 1.77s\n",
      "325:\tlearn: 0.3703869\ttotal: 857ms\tremaining: 1.77s\n",
      "326:\tlearn: 0.3700812\ttotal: 860ms\tremaining: 1.77s\n",
      "327:\tlearn: 0.3696180\ttotal: 862ms\tremaining: 1.77s\n",
      "328:\tlearn: 0.3693784\ttotal: 864ms\tremaining: 1.76s\n",
      "329:\tlearn: 0.3692011\ttotal: 867ms\tremaining: 1.76s\n",
      "330:\tlearn: 0.3690653\ttotal: 869ms\tremaining: 1.76s\n",
      "331:\tlearn: 0.3689691\ttotal: 871ms\tremaining: 1.75s\n",
      "332:\tlearn: 0.3687218\ttotal: 874ms\tremaining: 1.75s\n",
      "333:\tlearn: 0.3683770\ttotal: 877ms\tremaining: 1.75s\n",
      "334:\tlearn: 0.3681911\ttotal: 879ms\tremaining: 1.74s\n",
      "335:\tlearn: 0.3680081\ttotal: 881ms\tremaining: 1.74s\n",
      "336:\tlearn: 0.3677873\ttotal: 884ms\tremaining: 1.74s\n",
      "337:\tlearn: 0.3676443\ttotal: 887ms\tremaining: 1.74s\n",
      "338:\tlearn: 0.3673144\ttotal: 889ms\tremaining: 1.73s\n",
      "339:\tlearn: 0.3669721\ttotal: 892ms\tremaining: 1.73s\n",
      "340:\tlearn: 0.3668561\ttotal: 894ms\tremaining: 1.73s\n",
      "341:\tlearn: 0.3666252\ttotal: 897ms\tremaining: 1.73s\n",
      "342:\tlearn: 0.3663887\ttotal: 900ms\tremaining: 1.72s\n",
      "343:\tlearn: 0.3662000\ttotal: 902ms\tremaining: 1.72s\n",
      "344:\tlearn: 0.3660045\ttotal: 904ms\tremaining: 1.72s\n",
      "345:\tlearn: 0.3659012\ttotal: 906ms\tremaining: 1.71s\n"
     ]
    },
    {
     "name": "stdout",
     "output_type": "stream",
     "text": [
      "346:\tlearn: 0.3656327\ttotal: 909ms\tremaining: 1.71s\n",
      "347:\tlearn: 0.3654764\ttotal: 912ms\tremaining: 1.71s\n",
      "348:\tlearn: 0.3653157\ttotal: 914ms\tremaining: 1.71s\n",
      "349:\tlearn: 0.3652045\ttotal: 917ms\tremaining: 1.7s\n",
      "350:\tlearn: 0.3650842\ttotal: 919ms\tremaining: 1.7s\n",
      "351:\tlearn: 0.3649737\ttotal: 922ms\tremaining: 1.7s\n",
      "352:\tlearn: 0.3648210\ttotal: 924ms\tremaining: 1.69s\n",
      "353:\tlearn: 0.3645937\ttotal: 927ms\tremaining: 1.69s\n",
      "354:\tlearn: 0.3644421\ttotal: 929ms\tremaining: 1.69s\n",
      "355:\tlearn: 0.3642333\ttotal: 932ms\tremaining: 1.69s\n",
      "356:\tlearn: 0.3640628\ttotal: 935ms\tremaining: 1.68s\n",
      "357:\tlearn: 0.3638109\ttotal: 937ms\tremaining: 1.68s\n",
      "358:\tlearn: 0.3635207\ttotal: 939ms\tremaining: 1.68s\n",
      "359:\tlearn: 0.3632976\ttotal: 942ms\tremaining: 1.67s\n",
      "360:\tlearn: 0.3630644\ttotal: 944ms\tremaining: 1.67s\n",
      "361:\tlearn: 0.3629235\ttotal: 947ms\tremaining: 1.67s\n",
      "362:\tlearn: 0.3625240\ttotal: 949ms\tremaining: 1.67s\n",
      "363:\tlearn: 0.3623169\ttotal: 951ms\tremaining: 1.66s\n",
      "364:\tlearn: 0.3621930\ttotal: 954ms\tremaining: 1.66s\n",
      "365:\tlearn: 0.3619826\ttotal: 956ms\tremaining: 1.66s\n",
      "366:\tlearn: 0.3618431\ttotal: 959ms\tremaining: 1.65s\n",
      "367:\tlearn: 0.3616422\ttotal: 961ms\tremaining: 1.65s\n",
      "368:\tlearn: 0.3614435\ttotal: 964ms\tremaining: 1.65s\n",
      "369:\tlearn: 0.3613016\ttotal: 966ms\tremaining: 1.65s\n",
      "370:\tlearn: 0.3610480\ttotal: 969ms\tremaining: 1.64s\n",
      "371:\tlearn: 0.3608952\ttotal: 971ms\tremaining: 1.64s\n",
      "372:\tlearn: 0.3606912\ttotal: 974ms\tremaining: 1.64s\n",
      "373:\tlearn: 0.3605457\ttotal: 976ms\tremaining: 1.63s\n",
      "374:\tlearn: 0.3603801\ttotal: 979ms\tremaining: 1.63s\n"
     ]
    },
    {
     "name": "stdout",
     "output_type": "stream",
     "text": [
      "375:\tlearn: 0.3601819\ttotal: 981ms\tremaining: 1.63s\n",
      "376:\tlearn: 0.3600447\ttotal: 984ms\tremaining: 1.63s\n",
      "377:\tlearn: 0.3599157\ttotal: 986ms\tremaining: 1.62s\n",
      "378:\tlearn: 0.3596701\ttotal: 989ms\tremaining: 1.62s\n",
      "379:\tlearn: 0.3595524\ttotal: 991ms\tremaining: 1.62s\n",
      "380:\tlearn: 0.3593982\ttotal: 994ms\tremaining: 1.61s\n",
      "381:\tlearn: 0.3591639\ttotal: 996ms\tremaining: 1.61s\n",
      "382:\tlearn: 0.3590011\ttotal: 998ms\tremaining: 1.61s\n",
      "383:\tlearn: 0.3588693\ttotal: 1s\tremaining: 1.6s\n",
      "384:\tlearn: 0.3586185\ttotal: 1s\tremaining: 1.6s\n",
      "385:\tlearn: 0.3584955\ttotal: 1.01s\tremaining: 1.6s\n",
      "386:\tlearn: 0.3582860\ttotal: 1.01s\tremaining: 1.6s\n",
      "387:\tlearn: 0.3581092\ttotal: 1.01s\tremaining: 1.59s\n",
      "388:\tlearn: 0.3579335\ttotal: 1.01s\tremaining: 1.59s\n",
      "389:\tlearn: 0.3578057\ttotal: 1.02s\tremaining: 1.59s\n",
      "390:\tlearn: 0.3576883\ttotal: 1.02s\tremaining: 1.59s\n",
      "391:\tlearn: 0.3575801\ttotal: 1.02s\tremaining: 1.58s\n",
      "392:\tlearn: 0.3573767\ttotal: 1.02s\tremaining: 1.58s\n",
      "393:\tlearn: 0.3571641\ttotal: 1.02s\tremaining: 1.58s\n",
      "394:\tlearn: 0.3570106\ttotal: 1.03s\tremaining: 1.57s\n",
      "395:\tlearn: 0.3568285\ttotal: 1.03s\tremaining: 1.57s\n",
      "396:\tlearn: 0.3564652\ttotal: 1.03s\tremaining: 1.57s\n",
      "397:\tlearn: 0.3563329\ttotal: 1.03s\tremaining: 1.57s\n"
     ]
    },
    {
     "name": "stdout",
     "output_type": "stream",
     "text": [
      "398:\tlearn: 0.3560181\ttotal: 1.04s\tremaining: 1.56s\n",
      "399:\tlearn: 0.3559233\ttotal: 1.04s\tremaining: 1.56s\n",
      "400:\tlearn: 0.3556356\ttotal: 1.04s\tremaining: 1.56s\n",
      "401:\tlearn: 0.3554707\ttotal: 1.04s\tremaining: 1.55s\n",
      "402:\tlearn: 0.3552841\ttotal: 1.05s\tremaining: 1.55s\n",
      "403:\tlearn: 0.3550638\ttotal: 1.05s\tremaining: 1.55s\n",
      "404:\tlearn: 0.3548791\ttotal: 1.05s\tremaining: 1.55s\n",
      "405:\tlearn: 0.3547008\ttotal: 1.05s\tremaining: 1.54s\n",
      "406:\tlearn: 0.3545715\ttotal: 1.06s\tremaining: 1.54s\n",
      "407:\tlearn: 0.3543412\ttotal: 1.06s\tremaining: 1.54s\n",
      "408:\tlearn: 0.3542005\ttotal: 1.06s\tremaining: 1.53s\n",
      "409:\tlearn: 0.3540980\ttotal: 1.06s\tremaining: 1.53s\n",
      "410:\tlearn: 0.3538553\ttotal: 1.07s\tremaining: 1.53s\n",
      "411:\tlearn: 0.3536620\ttotal: 1.07s\tremaining: 1.53s\n",
      "412:\tlearn: 0.3535176\ttotal: 1.07s\tremaining: 1.52s\n",
      "413:\tlearn: 0.3534025\ttotal: 1.07s\tremaining: 1.52s\n",
      "414:\tlearn: 0.3531123\ttotal: 1.08s\tremaining: 1.52s\n",
      "415:\tlearn: 0.3530227\ttotal: 1.08s\tremaining: 1.52s\n",
      "416:\tlearn: 0.3529342\ttotal: 1.08s\tremaining: 1.51s\n",
      "417:\tlearn: 0.3527507\ttotal: 1.08s\tremaining: 1.51s\n",
      "418:\tlearn: 0.3525194\ttotal: 1.09s\tremaining: 1.51s\n",
      "419:\tlearn: 0.3523025\ttotal: 1.09s\tremaining: 1.5s\n",
      "420:\tlearn: 0.3521106\ttotal: 1.09s\tremaining: 1.5s\n",
      "421:\tlearn: 0.3519193\ttotal: 1.09s\tremaining: 1.5s\n",
      "422:\tlearn: 0.3517884\ttotal: 1.1s\tremaining: 1.5s\n",
      "423:\tlearn: 0.3516334\ttotal: 1.1s\tremaining: 1.49s\n",
      "424:\tlearn: 0.3514646\ttotal: 1.1s\tremaining: 1.49s\n",
      "425:\tlearn: 0.3513334\ttotal: 1.1s\tremaining: 1.49s\n"
     ]
    },
    {
     "name": "stdout",
     "output_type": "stream",
     "text": [
      "426:\tlearn: 0.3512094\ttotal: 1.1s\tremaining: 1.48s\n",
      "427:\tlearn: 0.3510697\ttotal: 1.11s\tremaining: 1.48s\n",
      "428:\tlearn: 0.3509461\ttotal: 1.11s\tremaining: 1.48s\n",
      "429:\tlearn: 0.3508128\ttotal: 1.11s\tremaining: 1.48s\n",
      "430:\tlearn: 0.3507043\ttotal: 1.11s\tremaining: 1.47s\n",
      "431:\tlearn: 0.3505514\ttotal: 1.12s\tremaining: 1.47s\n",
      "432:\tlearn: 0.3504558\ttotal: 1.12s\tremaining: 1.47s\n",
      "433:\tlearn: 0.3501828\ttotal: 1.12s\tremaining: 1.46s\n",
      "434:\tlearn: 0.3500363\ttotal: 1.12s\tremaining: 1.46s\n",
      "435:\tlearn: 0.3497566\ttotal: 1.13s\tremaining: 1.46s\n",
      "436:\tlearn: 0.3495177\ttotal: 1.13s\tremaining: 1.46s\n",
      "437:\tlearn: 0.3493837\ttotal: 1.13s\tremaining: 1.45s\n",
      "438:\tlearn: 0.3492274\ttotal: 1.13s\tremaining: 1.45s\n",
      "439:\tlearn: 0.3490450\ttotal: 1.14s\tremaining: 1.45s\n",
      "440:\tlearn: 0.3488396\ttotal: 1.14s\tremaining: 1.44s\n",
      "441:\tlearn: 0.3486756\ttotal: 1.14s\tremaining: 1.44s\n",
      "442:\tlearn: 0.3485283\ttotal: 1.14s\tremaining: 1.44s\n",
      "443:\tlearn: 0.3482594\ttotal: 1.15s\tremaining: 1.43s\n",
      "444:\tlearn: 0.3480689\ttotal: 1.15s\tremaining: 1.43s\n",
      "445:\tlearn: 0.3479400\ttotal: 1.15s\tremaining: 1.43s\n",
      "446:\tlearn: 0.3478298\ttotal: 1.15s\tremaining: 1.43s\n",
      "447:\tlearn: 0.3476850\ttotal: 1.16s\tremaining: 1.42s\n",
      "448:\tlearn: 0.3475117\ttotal: 1.16s\tremaining: 1.42s\n",
      "449:\tlearn: 0.3473743\ttotal: 1.16s\tremaining: 1.42s\n",
      "450:\tlearn: 0.3472202\ttotal: 1.16s\tremaining: 1.42s\n",
      "451:\tlearn: 0.3470832\ttotal: 1.16s\tremaining: 1.41s\n",
      "452:\tlearn: 0.3469487\ttotal: 1.17s\tremaining: 1.41s\n",
      "453:\tlearn: 0.3468304\ttotal: 1.17s\tremaining: 1.41s\n",
      "454:\tlearn: 0.3466638\ttotal: 1.17s\tremaining: 1.4s\n",
      "455:\tlearn: 0.3463818\ttotal: 1.17s\tremaining: 1.4s\n"
     ]
    },
    {
     "name": "stdout",
     "output_type": "stream",
     "text": [
      "456:\tlearn: 0.3462201\ttotal: 1.18s\tremaining: 1.4s\n",
      "457:\tlearn: 0.3460332\ttotal: 1.18s\tremaining: 1.4s\n",
      "458:\tlearn: 0.3458431\ttotal: 1.18s\tremaining: 1.39s\n",
      "459:\tlearn: 0.3457165\ttotal: 1.18s\tremaining: 1.39s\n",
      "460:\tlearn: 0.3456359\ttotal: 1.19s\tremaining: 1.39s\n",
      "461:\tlearn: 0.3454221\ttotal: 1.19s\tremaining: 1.39s\n",
      "462:\tlearn: 0.3453387\ttotal: 1.19s\tremaining: 1.38s\n",
      "463:\tlearn: 0.3452226\ttotal: 1.19s\tremaining: 1.38s\n",
      "464:\tlearn: 0.3450156\ttotal: 1.2s\tremaining: 1.38s\n",
      "465:\tlearn: 0.3448457\ttotal: 1.2s\tremaining: 1.37s\n",
      "466:\tlearn: 0.3447501\ttotal: 1.2s\tremaining: 1.37s\n",
      "467:\tlearn: 0.3445514\ttotal: 1.2s\tremaining: 1.37s\n",
      "468:\tlearn: 0.3444557\ttotal: 1.21s\tremaining: 1.36s\n",
      "469:\tlearn: 0.3443171\ttotal: 1.21s\tremaining: 1.36s\n",
      "470:\tlearn: 0.3441920\ttotal: 1.21s\tremaining: 1.36s\n",
      "471:\tlearn: 0.3440032\ttotal: 1.21s\tremaining: 1.36s\n",
      "472:\tlearn: 0.3439209\ttotal: 1.22s\tremaining: 1.35s\n",
      "473:\tlearn: 0.3438099\ttotal: 1.22s\tremaining: 1.35s\n",
      "474:\tlearn: 0.3436460\ttotal: 1.22s\tremaining: 1.35s\n",
      "475:\tlearn: 0.3435258\ttotal: 1.22s\tremaining: 1.35s\n",
      "476:\tlearn: 0.3433047\ttotal: 1.23s\tremaining: 1.34s\n",
      "477:\tlearn: 0.3431375\ttotal: 1.23s\tremaining: 1.34s\n",
      "478:\tlearn: 0.3429967\ttotal: 1.23s\tremaining: 1.34s\n",
      "479:\tlearn: 0.3428953\ttotal: 1.23s\tremaining: 1.33s\n"
     ]
    },
    {
     "name": "stdout",
     "output_type": "stream",
     "text": [
      "480:\tlearn: 0.3427480\ttotal: 1.23s\tremaining: 1.33s\n",
      "481:\tlearn: 0.3426705\ttotal: 1.24s\tremaining: 1.33s\n",
      "482:\tlearn: 0.3424517\ttotal: 1.24s\tremaining: 1.33s\n",
      "483:\tlearn: 0.3423063\ttotal: 1.24s\tremaining: 1.32s\n",
      "484:\tlearn: 0.3420812\ttotal: 1.24s\tremaining: 1.32s\n",
      "485:\tlearn: 0.3419378\ttotal: 1.25s\tremaining: 1.32s\n",
      "486:\tlearn: 0.3418628\ttotal: 1.25s\tremaining: 1.32s\n",
      "487:\tlearn: 0.3417939\ttotal: 1.25s\tremaining: 1.31s\n",
      "488:\tlearn: 0.3416657\ttotal: 1.25s\tremaining: 1.31s\n",
      "489:\tlearn: 0.3415056\ttotal: 1.26s\tremaining: 1.31s\n",
      "490:\tlearn: 0.3413528\ttotal: 1.26s\tremaining: 1.3s\n",
      "491:\tlearn: 0.3412286\ttotal: 1.26s\tremaining: 1.3s\n",
      "492:\tlearn: 0.3410431\ttotal: 1.26s\tremaining: 1.3s\n",
      "493:\tlearn: 0.3409485\ttotal: 1.27s\tremaining: 1.3s\n",
      "494:\tlearn: 0.3408330\ttotal: 1.27s\tremaining: 1.29s\n",
      "495:\tlearn: 0.3406378\ttotal: 1.27s\tremaining: 1.29s\n",
      "496:\tlearn: 0.3405486\ttotal: 1.27s\tremaining: 1.29s\n",
      "497:\tlearn: 0.3403709\ttotal: 1.27s\tremaining: 1.29s\n",
      "498:\tlearn: 0.3402467\ttotal: 1.28s\tremaining: 1.28s\n",
      "499:\tlearn: 0.3401396\ttotal: 1.28s\tremaining: 1.28s\n",
      "500:\tlearn: 0.3399760\ttotal: 1.28s\tremaining: 1.28s\n",
      "501:\tlearn: 0.3398139\ttotal: 1.28s\tremaining: 1.27s\n",
      "502:\tlearn: 0.3396521\ttotal: 1.29s\tremaining: 1.27s\n",
      "503:\tlearn: 0.3395303\ttotal: 1.29s\tremaining: 1.27s\n",
      "504:\tlearn: 0.3393935\ttotal: 1.29s\tremaining: 1.27s\n",
      "505:\tlearn: 0.3392498\ttotal: 1.29s\tremaining: 1.26s\n",
      "506:\tlearn: 0.3391067\ttotal: 1.3s\tremaining: 1.26s\n",
      "507:\tlearn: 0.3390062\ttotal: 1.3s\tremaining: 1.26s\n"
     ]
    },
    {
     "name": "stdout",
     "output_type": "stream",
     "text": [
      "508:\tlearn: 0.3388752\ttotal: 1.3s\tremaining: 1.26s\n",
      "509:\tlearn: 0.3386840\ttotal: 1.3s\tremaining: 1.25s\n",
      "510:\tlearn: 0.3384849\ttotal: 1.31s\tremaining: 1.25s\n",
      "511:\tlearn: 0.3383982\ttotal: 1.31s\tremaining: 1.25s\n",
      "512:\tlearn: 0.3382213\ttotal: 1.31s\tremaining: 1.25s\n",
      "513:\tlearn: 0.3381202\ttotal: 1.31s\tremaining: 1.24s\n",
      "514:\tlearn: 0.3380001\ttotal: 1.32s\tremaining: 1.24s\n",
      "515:\tlearn: 0.3378500\ttotal: 1.32s\tremaining: 1.24s\n",
      "516:\tlearn: 0.3377615\ttotal: 1.32s\tremaining: 1.24s\n",
      "517:\tlearn: 0.3375861\ttotal: 1.32s\tremaining: 1.23s\n",
      "518:\tlearn: 0.3374929\ttotal: 1.33s\tremaining: 1.23s\n",
      "519:\tlearn: 0.3373871\ttotal: 1.33s\tremaining: 1.23s\n",
      "520:\tlearn: 0.3372338\ttotal: 1.33s\tremaining: 1.22s\n",
      "521:\tlearn: 0.3371202\ttotal: 1.33s\tremaining: 1.22s\n",
      "522:\tlearn: 0.3369864\ttotal: 1.34s\tremaining: 1.22s\n",
      "523:\tlearn: 0.3368483\ttotal: 1.34s\tremaining: 1.22s\n",
      "524:\tlearn: 0.3367816\ttotal: 1.34s\tremaining: 1.21s\n",
      "525:\tlearn: 0.3366442\ttotal: 1.34s\tremaining: 1.21s\n",
      "526:\tlearn: 0.3365368\ttotal: 1.35s\tremaining: 1.21s\n",
      "527:\tlearn: 0.3363753\ttotal: 1.35s\tremaining: 1.21s\n",
      "528:\tlearn: 0.3362504\ttotal: 1.35s\tremaining: 1.2s\n",
      "529:\tlearn: 0.3361084\ttotal: 1.35s\tremaining: 1.2s\n",
      "530:\tlearn: 0.3359927\ttotal: 1.36s\tremaining: 1.2s\n",
      "531:\tlearn: 0.3358994\ttotal: 1.36s\tremaining: 1.2s\n",
      "532:\tlearn: 0.3357994\ttotal: 1.36s\tremaining: 1.19s\n",
      "533:\tlearn: 0.3357109\ttotal: 1.36s\tremaining: 1.19s\n",
      "534:\tlearn: 0.3356282\ttotal: 1.37s\tremaining: 1.19s\n",
      "535:\tlearn: 0.3354892\ttotal: 1.37s\tremaining: 1.18s\n",
      "536:\tlearn: 0.3353443\ttotal: 1.37s\tremaining: 1.18s\n"
     ]
    },
    {
     "name": "stdout",
     "output_type": "stream",
     "text": [
      "537:\tlearn: 0.3351906\ttotal: 1.37s\tremaining: 1.18s\n",
      "538:\tlearn: 0.3350626\ttotal: 1.38s\tremaining: 1.18s\n",
      "539:\tlearn: 0.3349748\ttotal: 1.38s\tremaining: 1.17s\n",
      "540:\tlearn: 0.3349072\ttotal: 1.38s\tremaining: 1.17s\n",
      "541:\tlearn: 0.3347841\ttotal: 1.38s\tremaining: 1.17s\n",
      "542:\tlearn: 0.3347135\ttotal: 1.39s\tremaining: 1.17s\n",
      "543:\tlearn: 0.3346227\ttotal: 1.39s\tremaining: 1.16s\n",
      "544:\tlearn: 0.3344215\ttotal: 1.39s\tremaining: 1.16s\n",
      "545:\tlearn: 0.3342980\ttotal: 1.39s\tremaining: 1.16s\n",
      "546:\tlearn: 0.3342086\ttotal: 1.39s\tremaining: 1.16s\n",
      "547:\tlearn: 0.3340844\ttotal: 1.4s\tremaining: 1.15s\n",
      "548:\tlearn: 0.3339843\ttotal: 1.4s\tremaining: 1.15s\n",
      "549:\tlearn: 0.3338516\ttotal: 1.4s\tremaining: 1.15s\n",
      "550:\tlearn: 0.3336077\ttotal: 1.4s\tremaining: 1.14s\n",
      "551:\tlearn: 0.3335328\ttotal: 1.41s\tremaining: 1.14s\n",
      "552:\tlearn: 0.3333902\ttotal: 1.41s\tremaining: 1.14s\n",
      "553:\tlearn: 0.3333030\ttotal: 1.41s\tremaining: 1.14s\n",
      "554:\tlearn: 0.3331338\ttotal: 1.41s\tremaining: 1.13s\n",
      "555:\tlearn: 0.3330624\ttotal: 1.42s\tremaining: 1.13s\n",
      "556:\tlearn: 0.3329209\ttotal: 1.42s\tremaining: 1.13s\n",
      "557:\tlearn: 0.3327858\ttotal: 1.42s\tremaining: 1.13s\n",
      "558:\tlearn: 0.3326022\ttotal: 1.42s\tremaining: 1.12s\n",
      "559:\tlearn: 0.3325396\ttotal: 1.43s\tremaining: 1.12s\n",
      "560:\tlearn: 0.3323825\ttotal: 1.43s\tremaining: 1.12s\n"
     ]
    },
    {
     "name": "stdout",
     "output_type": "stream",
     "text": [
      "561:\tlearn: 0.3322493\ttotal: 1.43s\tremaining: 1.11s\n",
      "562:\tlearn: 0.3320177\ttotal: 1.43s\tremaining: 1.11s\n",
      "563:\tlearn: 0.3318162\ttotal: 1.44s\tremaining: 1.11s\n",
      "564:\tlearn: 0.3317293\ttotal: 1.44s\tremaining: 1.11s\n",
      "565:\tlearn: 0.3316030\ttotal: 1.44s\tremaining: 1.1s\n",
      "566:\tlearn: 0.3315021\ttotal: 1.44s\tremaining: 1.1s\n",
      "567:\tlearn: 0.3314069\ttotal: 1.45s\tremaining: 1.1s\n",
      "568:\tlearn: 0.3312477\ttotal: 1.45s\tremaining: 1.1s\n",
      "569:\tlearn: 0.3310928\ttotal: 1.45s\tremaining: 1.09s\n",
      "570:\tlearn: 0.3310251\ttotal: 1.45s\tremaining: 1.09s\n",
      "571:\tlearn: 0.3309250\ttotal: 1.46s\tremaining: 1.09s\n",
      "572:\tlearn: 0.3307642\ttotal: 1.46s\tremaining: 1.09s\n",
      "573:\tlearn: 0.3305803\ttotal: 1.46s\tremaining: 1.08s\n",
      "574:\tlearn: 0.3304625\ttotal: 1.46s\tremaining: 1.08s\n",
      "575:\tlearn: 0.3303266\ttotal: 1.46s\tremaining: 1.08s\n",
      "576:\tlearn: 0.3301981\ttotal: 1.47s\tremaining: 1.07s\n",
      "577:\tlearn: 0.3300737\ttotal: 1.47s\tremaining: 1.07s\n",
      "578:\tlearn: 0.3299854\ttotal: 1.47s\tremaining: 1.07s\n",
      "579:\tlearn: 0.3298033\ttotal: 1.47s\tremaining: 1.07s\n",
      "580:\tlearn: 0.3296322\ttotal: 1.48s\tremaining: 1.06s\n",
      "581:\tlearn: 0.3294968\ttotal: 1.48s\tremaining: 1.06s\n",
      "582:\tlearn: 0.3293598\ttotal: 1.48s\tremaining: 1.06s\n",
      "583:\tlearn: 0.3292269\ttotal: 1.48s\tremaining: 1.06s\n",
      "584:\tlearn: 0.3290773\ttotal: 1.49s\tremaining: 1.05s\n",
      "585:\tlearn: 0.3289853\ttotal: 1.49s\tremaining: 1.05s\n",
      "586:\tlearn: 0.3288317\ttotal: 1.49s\tremaining: 1.05s\n",
      "587:\tlearn: 0.3286704\ttotal: 1.49s\tremaining: 1.05s\n"
     ]
    },
    {
     "name": "stdout",
     "output_type": "stream",
     "text": [
      "588:\tlearn: 0.3286136\ttotal: 1.5s\tremaining: 1.04s\n",
      "589:\tlearn: 0.3284963\ttotal: 1.5s\tremaining: 1.04s\n",
      "590:\tlearn: 0.3282993\ttotal: 1.5s\tremaining: 1.04s\n",
      "591:\tlearn: 0.3281709\ttotal: 1.5s\tremaining: 1.04s\n",
      "592:\tlearn: 0.3280954\ttotal: 1.51s\tremaining: 1.03s\n",
      "593:\tlearn: 0.3279724\ttotal: 1.51s\tremaining: 1.03s\n",
      "594:\tlearn: 0.3278382\ttotal: 1.51s\tremaining: 1.03s\n",
      "595:\tlearn: 0.3276484\ttotal: 1.51s\tremaining: 1.02s\n",
      "596:\tlearn: 0.3275591\ttotal: 1.51s\tremaining: 1.02s\n",
      "597:\tlearn: 0.3274117\ttotal: 1.52s\tremaining: 1.02s\n",
      "598:\tlearn: 0.3273469\ttotal: 1.52s\tremaining: 1.02s\n",
      "599:\tlearn: 0.3271389\ttotal: 1.52s\tremaining: 1.01s\n",
      "600:\tlearn: 0.3270949\ttotal: 1.52s\tremaining: 1.01s\n",
      "601:\tlearn: 0.3269951\ttotal: 1.53s\tremaining: 1.01s\n",
      "602:\tlearn: 0.3269049\ttotal: 1.53s\tremaining: 1.01s\n",
      "603:\tlearn: 0.3267534\ttotal: 1.53s\tremaining: 1s\n",
      "604:\tlearn: 0.3265815\ttotal: 1.54s\tremaining: 1s\n",
      "605:\tlearn: 0.3264235\ttotal: 1.54s\tremaining: 1s\n",
      "606:\tlearn: 0.3263022\ttotal: 1.54s\tremaining: 998ms\n",
      "607:\tlearn: 0.3261896\ttotal: 1.54s\tremaining: 995ms\n",
      "608:\tlearn: 0.3260699\ttotal: 1.54s\tremaining: 992ms\n",
      "609:\tlearn: 0.3259949\ttotal: 1.55s\tremaining: 990ms\n",
      "610:\tlearn: 0.3258509\ttotal: 1.55s\tremaining: 987ms\n",
      "611:\tlearn: 0.3257246\ttotal: 1.55s\tremaining: 985ms\n",
      "612:\tlearn: 0.3255608\ttotal: 1.55s\tremaining: 982ms\n",
      "613:\tlearn: 0.3254481\ttotal: 1.56s\tremaining: 979ms\n",
      "614:\tlearn: 0.3252629\ttotal: 1.56s\tremaining: 977ms\n",
      "615:\tlearn: 0.3251908\ttotal: 1.56s\tremaining: 974ms\n",
      "616:\tlearn: 0.3251156\ttotal: 1.56s\tremaining: 971ms\n"
     ]
    },
    {
     "name": "stdout",
     "output_type": "stream",
     "text": [
      "617:\tlearn: 0.3249734\ttotal: 1.57s\tremaining: 969ms\n",
      "618:\tlearn: 0.3248840\ttotal: 1.57s\tremaining: 967ms\n",
      "619:\tlearn: 0.3247328\ttotal: 1.57s\tremaining: 964ms\n",
      "620:\tlearn: 0.3246678\ttotal: 1.57s\tremaining: 961ms\n",
      "621:\tlearn: 0.3245160\ttotal: 1.58s\tremaining: 959ms\n",
      "622:\tlearn: 0.3244039\ttotal: 1.58s\tremaining: 956ms\n",
      "623:\tlearn: 0.3242681\ttotal: 1.58s\tremaining: 954ms\n",
      "624:\tlearn: 0.3241725\ttotal: 1.58s\tremaining: 951ms\n",
      "625:\tlearn: 0.3240878\ttotal: 1.59s\tremaining: 948ms\n",
      "626:\tlearn: 0.3239261\ttotal: 1.59s\tremaining: 946ms\n",
      "627:\tlearn: 0.3238237\ttotal: 1.59s\tremaining: 943ms\n",
      "628:\tlearn: 0.3236898\ttotal: 1.59s\tremaining: 940ms\n",
      "629:\tlearn: 0.3236316\ttotal: 1.6s\tremaining: 938ms\n",
      "630:\tlearn: 0.3234796\ttotal: 1.6s\tremaining: 935ms\n",
      "631:\tlearn: 0.3233488\ttotal: 1.6s\tremaining: 933ms\n",
      "632:\tlearn: 0.3232918\ttotal: 1.6s\tremaining: 930ms\n",
      "633:\tlearn: 0.3231660\ttotal: 1.61s\tremaining: 927ms\n",
      "634:\tlearn: 0.3229924\ttotal: 1.61s\tremaining: 925ms\n",
      "635:\tlearn: 0.3228739\ttotal: 1.61s\tremaining: 922ms\n",
      "636:\tlearn: 0.3227908\ttotal: 1.61s\tremaining: 920ms\n",
      "637:\tlearn: 0.3226764\ttotal: 1.62s\tremaining: 917ms\n",
      "638:\tlearn: 0.3225792\ttotal: 1.62s\tremaining: 914ms\n",
      "639:\tlearn: 0.3224483\ttotal: 1.62s\tremaining: 912ms\n",
      "640:\tlearn: 0.3223548\ttotal: 1.62s\tremaining: 909ms\n"
     ]
    },
    {
     "name": "stdout",
     "output_type": "stream",
     "text": [
      "641:\tlearn: 0.3221983\ttotal: 1.63s\tremaining: 907ms\n",
      "642:\tlearn: 0.3220887\ttotal: 1.63s\tremaining: 904ms\n",
      "643:\tlearn: 0.3220183\ttotal: 1.63s\tremaining: 902ms\n",
      "644:\tlearn: 0.3218744\ttotal: 1.63s\tremaining: 899ms\n",
      "645:\tlearn: 0.3217661\ttotal: 1.64s\tremaining: 896ms\n",
      "646:\tlearn: 0.3216730\ttotal: 1.64s\tremaining: 894ms\n",
      "647:\tlearn: 0.3215300\ttotal: 1.64s\tremaining: 891ms\n",
      "648:\tlearn: 0.3214572\ttotal: 1.64s\tremaining: 889ms\n",
      "649:\tlearn: 0.3213284\ttotal: 1.65s\tremaining: 886ms\n",
      "650:\tlearn: 0.3212371\ttotal: 1.65s\tremaining: 883ms\n",
      "651:\tlearn: 0.3210825\ttotal: 1.65s\tremaining: 881ms\n",
      "652:\tlearn: 0.3209782\ttotal: 1.65s\tremaining: 878ms\n",
      "653:\tlearn: 0.3208388\ttotal: 1.65s\tremaining: 875ms\n",
      "654:\tlearn: 0.3207416\ttotal: 1.66s\tremaining: 873ms\n",
      "655:\tlearn: 0.3206328\ttotal: 1.66s\tremaining: 870ms\n",
      "656:\tlearn: 0.3204916\ttotal: 1.66s\tremaining: 868ms\n",
      "657:\tlearn: 0.3204050\ttotal: 1.66s\tremaining: 865ms\n",
      "658:\tlearn: 0.3202411\ttotal: 1.67s\tremaining: 862ms\n",
      "659:\tlearn: 0.3201204\ttotal: 1.67s\tremaining: 860ms\n",
      "660:\tlearn: 0.3199982\ttotal: 1.67s\tremaining: 857ms\n",
      "661:\tlearn: 0.3198830\ttotal: 1.67s\tremaining: 855ms\n",
      "662:\tlearn: 0.3198056\ttotal: 1.68s\tremaining: 852ms\n",
      "663:\tlearn: 0.3196974\ttotal: 1.68s\tremaining: 849ms\n",
      "664:\tlearn: 0.3195329\ttotal: 1.68s\tremaining: 847ms\n",
      "665:\tlearn: 0.3194752\ttotal: 1.68s\tremaining: 844ms\n",
      "666:\tlearn: 0.3193908\ttotal: 1.69s\tremaining: 842ms\n",
      "667:\tlearn: 0.3192726\ttotal: 1.69s\tremaining: 840ms\n"
     ]
    },
    {
     "name": "stdout",
     "output_type": "stream",
     "text": [
      "668:\tlearn: 0.3191597\ttotal: 1.69s\tremaining: 837ms\n",
      "669:\tlearn: 0.3190425\ttotal: 1.69s\tremaining: 835ms\n",
      "670:\tlearn: 0.3189127\ttotal: 1.7s\tremaining: 832ms\n",
      "671:\tlearn: 0.3187967\ttotal: 1.7s\tremaining: 829ms\n",
      "672:\tlearn: 0.3186638\ttotal: 1.7s\tremaining: 827ms\n",
      "673:\tlearn: 0.3186172\ttotal: 1.7s\tremaining: 824ms\n",
      "674:\tlearn: 0.3185241\ttotal: 1.71s\tremaining: 822ms\n",
      "675:\tlearn: 0.3184562\ttotal: 1.71s\tremaining: 819ms\n",
      "676:\tlearn: 0.3184000\ttotal: 1.71s\tremaining: 817ms\n",
      "677:\tlearn: 0.3183090\ttotal: 1.71s\tremaining: 814ms\n",
      "678:\tlearn: 0.3182672\ttotal: 1.72s\tremaining: 811ms\n",
      "679:\tlearn: 0.3181871\ttotal: 1.72s\tremaining: 809ms\n",
      "680:\tlearn: 0.3180509\ttotal: 1.72s\tremaining: 806ms\n",
      "681:\tlearn: 0.3179717\ttotal: 1.72s\tremaining: 804ms\n",
      "682:\tlearn: 0.3178647\ttotal: 1.73s\tremaining: 801ms\n",
      "683:\tlearn: 0.3177933\ttotal: 1.73s\tremaining: 798ms\n",
      "684:\tlearn: 0.3177119\ttotal: 1.73s\tremaining: 796ms\n",
      "685:\tlearn: 0.3175751\ttotal: 1.73s\tremaining: 793ms\n",
      "686:\tlearn: 0.3174279\ttotal: 1.74s\tremaining: 791ms\n",
      "687:\tlearn: 0.3173287\ttotal: 1.74s\tremaining: 788ms\n",
      "688:\tlearn: 0.3172510\ttotal: 1.74s\tremaining: 786ms\n",
      "689:\tlearn: 0.3171575\ttotal: 1.74s\tremaining: 783ms\n",
      "690:\tlearn: 0.3170402\ttotal: 1.75s\tremaining: 781ms\n",
      "691:\tlearn: 0.3169302\ttotal: 1.75s\tremaining: 778ms\n",
      "692:\tlearn: 0.3168695\ttotal: 1.75s\tremaining: 775ms\n",
      "693:\tlearn: 0.3168095\ttotal: 1.75s\tremaining: 773ms\n",
      "694:\tlearn: 0.3167316\ttotal: 1.75s\tremaining: 770ms\n",
      "695:\tlearn: 0.3165759\ttotal: 1.76s\tremaining: 767ms\n",
      "696:\tlearn: 0.3164828\ttotal: 1.76s\tremaining: 765ms\n"
     ]
    },
    {
     "name": "stdout",
     "output_type": "stream",
     "text": [
      "697:\tlearn: 0.3163602\ttotal: 1.76s\tremaining: 762ms\n",
      "698:\tlearn: 0.3162735\ttotal: 1.76s\tremaining: 760ms\n",
      "699:\tlearn: 0.3161905\ttotal: 1.77s\tremaining: 757ms\n",
      "700:\tlearn: 0.3161094\ttotal: 1.77s\tremaining: 755ms\n",
      "701:\tlearn: 0.3160201\ttotal: 1.77s\tremaining: 752ms\n",
      "702:\tlearn: 0.3159317\ttotal: 1.77s\tremaining: 750ms\n",
      "703:\tlearn: 0.3158343\ttotal: 1.78s\tremaining: 747ms\n",
      "704:\tlearn: 0.3157217\ttotal: 1.78s\tremaining: 745ms\n",
      "705:\tlearn: 0.3156322\ttotal: 1.78s\tremaining: 742ms\n",
      "706:\tlearn: 0.3155056\ttotal: 1.78s\tremaining: 740ms\n",
      "707:\tlearn: 0.3154314\ttotal: 1.79s\tremaining: 737ms\n",
      "708:\tlearn: 0.3152919\ttotal: 1.79s\tremaining: 734ms\n",
      "709:\tlearn: 0.3152390\ttotal: 1.79s\tremaining: 732ms\n",
      "710:\tlearn: 0.3151357\ttotal: 1.79s\tremaining: 729ms\n",
      "711:\tlearn: 0.3149888\ttotal: 1.8s\tremaining: 727ms\n",
      "712:\tlearn: 0.3149042\ttotal: 1.8s\tremaining: 724ms\n",
      "713:\tlearn: 0.3148245\ttotal: 1.8s\tremaining: 721ms\n",
      "714:\tlearn: 0.3147170\ttotal: 1.8s\tremaining: 719ms\n",
      "715:\tlearn: 0.3146170\ttotal: 1.8s\tremaining: 716ms\n",
      "716:\tlearn: 0.3145496\ttotal: 1.81s\tremaining: 714ms\n",
      "717:\tlearn: 0.3144398\ttotal: 1.81s\tremaining: 711ms\n",
      "718:\tlearn: 0.3142814\ttotal: 1.81s\tremaining: 709ms\n",
      "719:\tlearn: 0.3141798\ttotal: 1.81s\tremaining: 706ms\n",
      "720:\tlearn: 0.3141062\ttotal: 1.82s\tremaining: 703ms\n",
      "721:\tlearn: 0.3139707\ttotal: 1.82s\tremaining: 701ms\n"
     ]
    },
    {
     "name": "stdout",
     "output_type": "stream",
     "text": [
      "722:\tlearn: 0.3138372\ttotal: 1.82s\tremaining: 698ms\n",
      "723:\tlearn: 0.3137541\ttotal: 1.82s\tremaining: 696ms\n",
      "724:\tlearn: 0.3136455\ttotal: 1.83s\tremaining: 693ms\n",
      "725:\tlearn: 0.3135198\ttotal: 1.83s\tremaining: 691ms\n",
      "726:\tlearn: 0.3134302\ttotal: 1.83s\tremaining: 688ms\n",
      "727:\tlearn: 0.3133122\ttotal: 1.83s\tremaining: 686ms\n",
      "728:\tlearn: 0.3132064\ttotal: 1.84s\tremaining: 683ms\n",
      "729:\tlearn: 0.3131184\ttotal: 1.84s\tremaining: 681ms\n",
      "730:\tlearn: 0.3130231\ttotal: 1.84s\tremaining: 678ms\n",
      "731:\tlearn: 0.3129129\ttotal: 1.84s\tremaining: 676ms\n",
      "732:\tlearn: 0.3128206\ttotal: 1.85s\tremaining: 673ms\n",
      "733:\tlearn: 0.3127388\ttotal: 1.85s\tremaining: 670ms\n",
      "734:\tlearn: 0.3126494\ttotal: 1.85s\tremaining: 668ms\n",
      "735:\tlearn: 0.3125342\ttotal: 1.85s\tremaining: 666ms\n",
      "736:\tlearn: 0.3124582\ttotal: 1.86s\tremaining: 663ms\n",
      "737:\tlearn: 0.3123891\ttotal: 1.86s\tremaining: 661ms\n",
      "738:\tlearn: 0.3122838\ttotal: 1.86s\tremaining: 658ms\n",
      "739:\tlearn: 0.3121119\ttotal: 1.86s\tremaining: 655ms\n",
      "740:\tlearn: 0.3119806\ttotal: 1.87s\tremaining: 653ms\n",
      "741:\tlearn: 0.3118899\ttotal: 1.87s\tremaining: 650ms\n",
      "742:\tlearn: 0.3118171\ttotal: 1.87s\tremaining: 648ms\n",
      "743:\tlearn: 0.3116929\ttotal: 1.88s\tremaining: 645ms\n",
      "744:\tlearn: 0.3116023\ttotal: 1.88s\tremaining: 643ms\n",
      "745:\tlearn: 0.3114849\ttotal: 1.88s\tremaining: 640ms\n",
      "746:\tlearn: 0.3113714\ttotal: 1.88s\tremaining: 638ms\n",
      "747:\tlearn: 0.3113170\ttotal: 1.89s\tremaining: 635ms\n"
     ]
    },
    {
     "name": "stdout",
     "output_type": "stream",
     "text": [
      "748:\tlearn: 0.3112737\ttotal: 1.89s\tremaining: 633ms\n",
      "749:\tlearn: 0.3112095\ttotal: 1.89s\tremaining: 630ms\n",
      "750:\tlearn: 0.3111021\ttotal: 1.89s\tremaining: 628ms\n",
      "751:\tlearn: 0.3110221\ttotal: 1.9s\tremaining: 625ms\n",
      "752:\tlearn: 0.3109461\ttotal: 1.9s\tremaining: 623ms\n",
      "753:\tlearn: 0.3108286\ttotal: 1.9s\tremaining: 620ms\n",
      "754:\tlearn: 0.3107640\ttotal: 1.9s\tremaining: 618ms\n",
      "755:\tlearn: 0.3106464\ttotal: 1.91s\tremaining: 615ms\n",
      "756:\tlearn: 0.3105486\ttotal: 1.91s\tremaining: 613ms\n",
      "757:\tlearn: 0.3104289\ttotal: 1.91s\tremaining: 610ms\n",
      "758:\tlearn: 0.3103444\ttotal: 1.91s\tremaining: 607ms\n",
      "759:\tlearn: 0.3102319\ttotal: 1.92s\tremaining: 605ms\n",
      "760:\tlearn: 0.3100586\ttotal: 1.92s\tremaining: 602ms\n",
      "761:\tlearn: 0.3099617\ttotal: 1.92s\tremaining: 600ms\n",
      "762:\tlearn: 0.3098983\ttotal: 1.92s\tremaining: 597ms\n",
      "763:\tlearn: 0.3098370\ttotal: 1.92s\tremaining: 594ms\n",
      "764:\tlearn: 0.3097579\ttotal: 1.93s\tremaining: 592ms\n",
      "765:\tlearn: 0.3096997\ttotal: 1.93s\tremaining: 589ms\n",
      "766:\tlearn: 0.3095699\ttotal: 1.93s\tremaining: 587ms\n",
      "767:\tlearn: 0.3094755\ttotal: 1.93s\tremaining: 584ms\n",
      "768:\tlearn: 0.3094111\ttotal: 1.94s\tremaining: 582ms\n",
      "769:\tlearn: 0.3093717\ttotal: 1.94s\tremaining: 579ms\n",
      "770:\tlearn: 0.3093239\ttotal: 1.94s\tremaining: 577ms\n",
      "771:\tlearn: 0.3092767\ttotal: 1.94s\tremaining: 574ms\n",
      "772:\tlearn: 0.3092265\ttotal: 1.95s\tremaining: 572ms\n",
      "773:\tlearn: 0.3091100\ttotal: 1.95s\tremaining: 569ms\n",
      "774:\tlearn: 0.3090273\ttotal: 1.95s\tremaining: 566ms\n",
      "775:\tlearn: 0.3089344\ttotal: 1.95s\tremaining: 564ms\n",
      "776:\tlearn: 0.3088525\ttotal: 1.96s\tremaining: 561ms\n",
      "777:\tlearn: 0.3087506\ttotal: 1.96s\tremaining: 559ms\n"
     ]
    },
    {
     "name": "stdout",
     "output_type": "stream",
     "text": [
      "778:\tlearn: 0.3086575\ttotal: 1.96s\tremaining: 556ms\n",
      "779:\tlearn: 0.3085398\ttotal: 1.96s\tremaining: 554ms\n",
      "780:\tlearn: 0.3084240\ttotal: 1.97s\tremaining: 551ms\n",
      "781:\tlearn: 0.3083320\ttotal: 1.97s\tremaining: 549ms\n",
      "782:\tlearn: 0.3082505\ttotal: 1.97s\tremaining: 546ms\n",
      "783:\tlearn: 0.3081406\ttotal: 1.97s\tremaining: 544ms\n",
      "784:\tlearn: 0.3080403\ttotal: 1.98s\tremaining: 541ms\n",
      "785:\tlearn: 0.3079642\ttotal: 1.98s\tremaining: 539ms\n",
      "786:\tlearn: 0.3079235\ttotal: 1.98s\tremaining: 536ms\n",
      "787:\tlearn: 0.3078460\ttotal: 1.98s\tremaining: 533ms\n",
      "788:\tlearn: 0.3077730\ttotal: 1.99s\tremaining: 531ms\n",
      "789:\tlearn: 0.3077278\ttotal: 1.99s\tremaining: 528ms\n",
      "790:\tlearn: 0.3076552\ttotal: 1.99s\tremaining: 526ms\n",
      "791:\tlearn: 0.3075315\ttotal: 1.99s\tremaining: 523ms\n",
      "792:\tlearn: 0.3074586\ttotal: 2s\tremaining: 521ms\n",
      "793:\tlearn: 0.3074170\ttotal: 2s\tremaining: 518ms\n",
      "794:\tlearn: 0.3073472\ttotal: 2s\tremaining: 516ms\n",
      "795:\tlearn: 0.3072821\ttotal: 2s\tremaining: 513ms\n",
      "796:\tlearn: 0.3072192\ttotal: 2s\tremaining: 511ms\n",
      "797:\tlearn: 0.3071338\ttotal: 2.01s\tremaining: 508ms\n",
      "798:\tlearn: 0.3070312\ttotal: 2.01s\tremaining: 506ms\n",
      "799:\tlearn: 0.3069693\ttotal: 2.01s\tremaining: 503ms\n",
      "800:\tlearn: 0.3068880\ttotal: 2.01s\tremaining: 500ms\n",
      "801:\tlearn: 0.3068223\ttotal: 2.02s\tremaining: 498ms\n"
     ]
    },
    {
     "name": "stdout",
     "output_type": "stream",
     "text": [
      "802:\tlearn: 0.3067592\ttotal: 2.02s\tremaining: 495ms\n",
      "803:\tlearn: 0.3067109\ttotal: 2.02s\tremaining: 493ms\n",
      "804:\tlearn: 0.3066307\ttotal: 2.02s\tremaining: 490ms\n",
      "805:\tlearn: 0.3065071\ttotal: 2.03s\tremaining: 488ms\n",
      "806:\tlearn: 0.3064332\ttotal: 2.03s\tremaining: 485ms\n",
      "807:\tlearn: 0.3063551\ttotal: 2.03s\tremaining: 483ms\n",
      "808:\tlearn: 0.3062648\ttotal: 2.03s\tremaining: 480ms\n",
      "809:\tlearn: 0.3061558\ttotal: 2.04s\tremaining: 478ms\n",
      "810:\tlearn: 0.3060671\ttotal: 2.04s\tremaining: 475ms\n",
      "811:\tlearn: 0.3059793\ttotal: 2.04s\tremaining: 473ms\n",
      "812:\tlearn: 0.3059065\ttotal: 2.04s\tremaining: 470ms\n",
      "813:\tlearn: 0.3057838\ttotal: 2.04s\tremaining: 467ms\n",
      "814:\tlearn: 0.3056732\ttotal: 2.05s\tremaining: 465ms\n",
      "815:\tlearn: 0.3056260\ttotal: 2.05s\tremaining: 462ms\n",
      "816:\tlearn: 0.3055506\ttotal: 2.05s\tremaining: 460ms\n",
      "817:\tlearn: 0.3054479\ttotal: 2.05s\tremaining: 457ms\n",
      "818:\tlearn: 0.3053360\ttotal: 2.06s\tremaining: 455ms\n",
      "819:\tlearn: 0.3052390\ttotal: 2.06s\tremaining: 452ms\n",
      "820:\tlearn: 0.3051699\ttotal: 2.06s\tremaining: 450ms\n",
      "821:\tlearn: 0.3051082\ttotal: 2.06s\tremaining: 447ms\n",
      "822:\tlearn: 0.3050092\ttotal: 2.07s\tremaining: 445ms\n",
      "823:\tlearn: 0.3049081\ttotal: 2.07s\tremaining: 442ms\n",
      "824:\tlearn: 0.3047850\ttotal: 2.07s\tremaining: 439ms\n",
      "825:\tlearn: 0.3047124\ttotal: 2.07s\tremaining: 437ms\n",
      "826:\tlearn: 0.3045978\ttotal: 2.08s\tremaining: 434ms\n",
      "827:\tlearn: 0.3045318\ttotal: 2.08s\tremaining: 432ms\n",
      "828:\tlearn: 0.3044567\ttotal: 2.08s\tremaining: 429ms\n"
     ]
    },
    {
     "name": "stdout",
     "output_type": "stream",
     "text": [
      "829:\tlearn: 0.3043908\ttotal: 2.08s\tremaining: 427ms\n",
      "830:\tlearn: 0.3043176\ttotal: 2.09s\tremaining: 425ms\n",
      "831:\tlearn: 0.3042625\ttotal: 2.09s\tremaining: 422ms\n",
      "832:\tlearn: 0.3041832\ttotal: 2.09s\tremaining: 420ms\n",
      "833:\tlearn: 0.3041045\ttotal: 2.1s\tremaining: 417ms\n",
      "834:\tlearn: 0.3040359\ttotal: 2.1s\tremaining: 415ms\n",
      "835:\tlearn: 0.3039285\ttotal: 2.1s\tremaining: 412ms\n",
      "836:\tlearn: 0.3038002\ttotal: 2.1s\tremaining: 410ms\n",
      "837:\tlearn: 0.3037275\ttotal: 2.11s\tremaining: 407ms\n",
      "838:\tlearn: 0.3036644\ttotal: 2.11s\tremaining: 405ms\n",
      "839:\tlearn: 0.3035867\ttotal: 2.11s\tremaining: 402ms\n",
      "840:\tlearn: 0.3035011\ttotal: 2.11s\tremaining: 400ms\n",
      "841:\tlearn: 0.3034243\ttotal: 2.12s\tremaining: 397ms\n",
      "842:\tlearn: 0.3032983\ttotal: 2.12s\tremaining: 395ms\n",
      "843:\tlearn: 0.3032311\ttotal: 2.12s\tremaining: 392ms\n",
      "844:\tlearn: 0.3031306\ttotal: 2.12s\tremaining: 390ms\n",
      "845:\tlearn: 0.3030635\ttotal: 2.13s\tremaining: 387ms\n",
      "846:\tlearn: 0.3029749\ttotal: 2.13s\tremaining: 384ms\n",
      "847:\tlearn: 0.3029320\ttotal: 2.13s\tremaining: 382ms\n",
      "848:\tlearn: 0.3028419\ttotal: 2.13s\tremaining: 379ms\n",
      "849:\tlearn: 0.3027262\ttotal: 2.13s\tremaining: 377ms\n",
      "850:\tlearn: 0.3026295\ttotal: 2.14s\tremaining: 374ms\n",
      "851:\tlearn: 0.3025531\ttotal: 2.14s\tremaining: 372ms\n",
      "852:\tlearn: 0.3024155\ttotal: 2.14s\tremaining: 369ms\n",
      "853:\tlearn: 0.3023365\ttotal: 2.15s\tremaining: 367ms\n",
      "854:\tlearn: 0.3022594\ttotal: 2.15s\tremaining: 364ms\n",
      "855:\tlearn: 0.3021572\ttotal: 2.15s\tremaining: 362ms\n",
      "856:\tlearn: 0.3020828\ttotal: 2.15s\tremaining: 359ms\n"
     ]
    },
    {
     "name": "stdout",
     "output_type": "stream",
     "text": [
      "857:\tlearn: 0.3019864\ttotal: 2.15s\tremaining: 357ms\n",
      "858:\tlearn: 0.3019398\ttotal: 2.16s\tremaining: 354ms\n",
      "859:\tlearn: 0.3018780\ttotal: 2.16s\tremaining: 352ms\n",
      "860:\tlearn: 0.3017637\ttotal: 2.16s\tremaining: 349ms\n",
      "861:\tlearn: 0.3016925\ttotal: 2.16s\tremaining: 347ms\n",
      "862:\tlearn: 0.3015779\ttotal: 2.17s\tremaining: 344ms\n",
      "863:\tlearn: 0.3015278\ttotal: 2.17s\tremaining: 342ms\n",
      "864:\tlearn: 0.3014577\ttotal: 2.17s\tremaining: 339ms\n",
      "865:\tlearn: 0.3013822\ttotal: 2.17s\tremaining: 337ms\n",
      "866:\tlearn: 0.3013038\ttotal: 2.18s\tremaining: 334ms\n",
      "867:\tlearn: 0.3012748\ttotal: 2.18s\tremaining: 332ms\n",
      "868:\tlearn: 0.3011857\ttotal: 2.18s\tremaining: 329ms\n",
      "869:\tlearn: 0.3011517\ttotal: 2.19s\tremaining: 327ms\n",
      "870:\tlearn: 0.3011036\ttotal: 2.19s\tremaining: 324ms\n",
      "871:\tlearn: 0.3010343\ttotal: 2.19s\tremaining: 322ms\n",
      "872:\tlearn: 0.3009178\ttotal: 2.19s\tremaining: 319ms\n",
      "873:\tlearn: 0.3008439\ttotal: 2.19s\tremaining: 316ms\n",
      "874:\tlearn: 0.3007477\ttotal: 2.2s\tremaining: 314ms\n",
      "875:\tlearn: 0.3006966\ttotal: 2.2s\tremaining: 312ms\n",
      "876:\tlearn: 0.3006154\ttotal: 2.2s\tremaining: 309ms\n",
      "877:\tlearn: 0.3005702\ttotal: 2.21s\tremaining: 306ms\n",
      "878:\tlearn: 0.3004965\ttotal: 2.21s\tremaining: 304ms\n",
      "879:\tlearn: 0.3004263\ttotal: 2.21s\tremaining: 301ms\n",
      "880:\tlearn: 0.3003410\ttotal: 2.21s\tremaining: 299ms\n"
     ]
    },
    {
     "name": "stdout",
     "output_type": "stream",
     "text": [
      "881:\tlearn: 0.3002374\ttotal: 2.21s\tremaining: 296ms\n",
      "882:\tlearn: 0.3001753\ttotal: 2.22s\tremaining: 294ms\n",
      "883:\tlearn: 0.3001150\ttotal: 2.22s\tremaining: 291ms\n",
      "884:\tlearn: 0.3000494\ttotal: 2.22s\tremaining: 289ms\n",
      "885:\tlearn: 0.2999216\ttotal: 2.23s\tremaining: 286ms\n",
      "886:\tlearn: 0.2998760\ttotal: 2.23s\tremaining: 284ms\n",
      "887:\tlearn: 0.2997713\ttotal: 2.23s\tremaining: 281ms\n",
      "888:\tlearn: 0.2996765\ttotal: 2.23s\tremaining: 279ms\n",
      "889:\tlearn: 0.2996219\ttotal: 2.23s\tremaining: 276ms\n",
      "890:\tlearn: 0.2995359\ttotal: 2.24s\tremaining: 274ms\n",
      "891:\tlearn: 0.2994453\ttotal: 2.24s\tremaining: 271ms\n",
      "892:\tlearn: 0.2993378\ttotal: 2.24s\tremaining: 269ms\n",
      "893:\tlearn: 0.2992844\ttotal: 2.25s\tremaining: 266ms\n",
      "894:\tlearn: 0.2991846\ttotal: 2.25s\tremaining: 264ms\n",
      "895:\tlearn: 0.2991111\ttotal: 2.25s\tremaining: 261ms\n",
      "896:\tlearn: 0.2990482\ttotal: 2.25s\tremaining: 259ms\n",
      "897:\tlearn: 0.2989542\ttotal: 2.25s\tremaining: 256ms\n",
      "898:\tlearn: 0.2988550\ttotal: 2.26s\tremaining: 254ms\n",
      "899:\tlearn: 0.2987740\ttotal: 2.26s\tremaining: 251ms\n",
      "900:\tlearn: 0.2986635\ttotal: 2.26s\tremaining: 249ms\n",
      "901:\tlearn: 0.2985771\ttotal: 2.26s\tremaining: 246ms\n",
      "902:\tlearn: 0.2984434\ttotal: 2.27s\tremaining: 244ms\n",
      "903:\tlearn: 0.2983502\ttotal: 2.27s\tremaining: 241ms\n",
      "904:\tlearn: 0.2982785\ttotal: 2.27s\tremaining: 239ms\n",
      "905:\tlearn: 0.2982107\ttotal: 2.27s\tremaining: 236ms\n",
      "906:\tlearn: 0.2981154\ttotal: 2.28s\tremaining: 233ms\n"
     ]
    },
    {
     "name": "stdout",
     "output_type": "stream",
     "text": [
      "907:\tlearn: 0.2980429\ttotal: 2.28s\tremaining: 231ms\n",
      "908:\tlearn: 0.2979596\ttotal: 2.28s\tremaining: 228ms\n",
      "909:\tlearn: 0.2978747\ttotal: 2.28s\tremaining: 226ms\n",
      "910:\tlearn: 0.2977918\ttotal: 2.29s\tremaining: 223ms\n",
      "911:\tlearn: 0.2976961\ttotal: 2.29s\tremaining: 221ms\n",
      "912:\tlearn: 0.2975884\ttotal: 2.29s\tremaining: 218ms\n",
      "913:\tlearn: 0.2975165\ttotal: 2.29s\tremaining: 216ms\n",
      "914:\tlearn: 0.2974336\ttotal: 2.3s\tremaining: 213ms\n",
      "915:\tlearn: 0.2973846\ttotal: 2.3s\tremaining: 211ms\n",
      "916:\tlearn: 0.2972964\ttotal: 2.3s\tremaining: 208ms\n",
      "917:\tlearn: 0.2972089\ttotal: 2.3s\tremaining: 206ms\n",
      "918:\tlearn: 0.2971056\ttotal: 2.31s\tremaining: 203ms\n",
      "919:\tlearn: 0.2970158\ttotal: 2.31s\tremaining: 201ms\n",
      "920:\tlearn: 0.2969315\ttotal: 2.31s\tremaining: 198ms\n",
      "921:\tlearn: 0.2968571\ttotal: 2.31s\tremaining: 196ms\n",
      "922:\tlearn: 0.2967727\ttotal: 2.31s\tremaining: 193ms\n",
      "923:\tlearn: 0.2967179\ttotal: 2.32s\tremaining: 191ms\n",
      "924:\tlearn: 0.2966253\ttotal: 2.32s\tremaining: 188ms\n",
      "925:\tlearn: 0.2965595\ttotal: 2.32s\tremaining: 186ms\n",
      "926:\tlearn: 0.2964099\ttotal: 2.33s\tremaining: 183ms\n",
      "927:\tlearn: 0.2963404\ttotal: 2.33s\tremaining: 181ms\n",
      "928:\tlearn: 0.2962697\ttotal: 2.33s\tremaining: 178ms\n",
      "929:\tlearn: 0.2962211\ttotal: 2.33s\tremaining: 176ms\n",
      "930:\tlearn: 0.2960429\ttotal: 2.33s\tremaining: 173ms\n",
      "931:\tlearn: 0.2959932\ttotal: 2.34s\tremaining: 171ms\n",
      "932:\tlearn: 0.2959048\ttotal: 2.34s\tremaining: 168ms\n",
      "933:\tlearn: 0.2958170\ttotal: 2.34s\tremaining: 166ms\n",
      "934:\tlearn: 0.2957608\ttotal: 2.34s\tremaining: 163ms\n",
      "935:\tlearn: 0.2956854\ttotal: 2.35s\tremaining: 160ms\n",
      "936:\tlearn: 0.2956111\ttotal: 2.35s\tremaining: 158ms\n"
     ]
    },
    {
     "name": "stdout",
     "output_type": "stream",
     "text": [
      "937:\tlearn: 0.2955487\ttotal: 2.35s\tremaining: 155ms\n",
      "938:\tlearn: 0.2954985\ttotal: 2.35s\tremaining: 153ms\n",
      "939:\tlearn: 0.2954127\ttotal: 2.36s\tremaining: 150ms\n",
      "940:\tlearn: 0.2953364\ttotal: 2.36s\tremaining: 148ms\n",
      "941:\tlearn: 0.2952344\ttotal: 2.36s\tremaining: 145ms\n",
      "942:\tlearn: 0.2951520\ttotal: 2.36s\tremaining: 143ms\n",
      "943:\tlearn: 0.2950966\ttotal: 2.37s\tremaining: 140ms\n",
      "944:\tlearn: 0.2949817\ttotal: 2.37s\tremaining: 138ms\n",
      "945:\tlearn: 0.2949048\ttotal: 2.37s\tremaining: 135ms\n",
      "946:\tlearn: 0.2947716\ttotal: 2.37s\tremaining: 133ms\n",
      "947:\tlearn: 0.2946541\ttotal: 2.38s\tremaining: 130ms\n",
      "948:\tlearn: 0.2945670\ttotal: 2.38s\tremaining: 128ms\n",
      "949:\tlearn: 0.2945030\ttotal: 2.38s\tremaining: 125ms\n",
      "950:\tlearn: 0.2943791\ttotal: 2.38s\tremaining: 123ms\n",
      "951:\tlearn: 0.2943057\ttotal: 2.39s\tremaining: 120ms\n",
      "952:\tlearn: 0.2942247\ttotal: 2.39s\tremaining: 118ms\n",
      "953:\tlearn: 0.2941645\ttotal: 2.39s\tremaining: 115ms\n",
      "954:\tlearn: 0.2941063\ttotal: 2.39s\tremaining: 113ms\n",
      "955:\tlearn: 0.2939980\ttotal: 2.4s\tremaining: 110ms\n",
      "956:\tlearn: 0.2939265\ttotal: 2.4s\tremaining: 108ms\n",
      "957:\tlearn: 0.2938619\ttotal: 2.4s\tremaining: 105ms\n",
      "958:\tlearn: 0.2938118\ttotal: 2.4s\tremaining: 103ms\n",
      "959:\tlearn: 0.2936959\ttotal: 2.4s\tremaining: 100ms\n",
      "960:\tlearn: 0.2936448\ttotal: 2.41s\tremaining: 97.7ms\n"
     ]
    },
    {
     "name": "stdout",
     "output_type": "stream",
     "text": [
      "961:\tlearn: 0.2935562\ttotal: 2.41s\tremaining: 95.2ms\n",
      "962:\tlearn: 0.2934738\ttotal: 2.41s\tremaining: 92.7ms\n",
      "963:\tlearn: 0.2934035\ttotal: 2.41s\tremaining: 90.2ms\n",
      "964:\tlearn: 0.2933470\ttotal: 2.42s\tremaining: 87.7ms\n",
      "965:\tlearn: 0.2932738\ttotal: 2.42s\tremaining: 85.2ms\n",
      "966:\tlearn: 0.2932261\ttotal: 2.42s\tremaining: 82.7ms\n",
      "967:\tlearn: 0.2931576\ttotal: 2.42s\tremaining: 80.2ms\n",
      "968:\tlearn: 0.2930862\ttotal: 2.43s\tremaining: 77.6ms\n",
      "969:\tlearn: 0.2930276\ttotal: 2.43s\tremaining: 75.1ms\n",
      "970:\tlearn: 0.2929879\ttotal: 2.43s\tremaining: 72.6ms\n",
      "971:\tlearn: 0.2929316\ttotal: 2.43s\tremaining: 70.1ms\n",
      "972:\tlearn: 0.2928679\ttotal: 2.44s\tremaining: 67.6ms\n",
      "973:\tlearn: 0.2927733\ttotal: 2.44s\tremaining: 65.1ms\n",
      "974:\tlearn: 0.2926951\ttotal: 2.44s\tremaining: 62.6ms\n",
      "975:\tlearn: 0.2926343\ttotal: 2.44s\tremaining: 60.1ms\n",
      "976:\tlearn: 0.2925883\ttotal: 2.45s\tremaining: 57.6ms\n",
      "977:\tlearn: 0.2924951\ttotal: 2.45s\tremaining: 55.1ms\n",
      "978:\tlearn: 0.2924305\ttotal: 2.45s\tremaining: 52.6ms\n",
      "979:\tlearn: 0.2923894\ttotal: 2.45s\tremaining: 50.1ms\n",
      "980:\tlearn: 0.2923006\ttotal: 2.46s\tremaining: 47.6ms\n",
      "981:\tlearn: 0.2922248\ttotal: 2.46s\tremaining: 45.1ms\n",
      "982:\tlearn: 0.2921910\ttotal: 2.46s\tremaining: 42.6ms\n",
      "983:\tlearn: 0.2920424\ttotal: 2.46s\tremaining: 40.1ms\n",
      "984:\tlearn: 0.2919794\ttotal: 2.47s\tremaining: 37.6ms\n",
      "985:\tlearn: 0.2918253\ttotal: 2.47s\tremaining: 35.1ms\n",
      "986:\tlearn: 0.2917464\ttotal: 2.47s\tremaining: 32.5ms\n",
      "987:\tlearn: 0.2916911\ttotal: 2.47s\tremaining: 30ms\n"
     ]
    },
    {
     "name": "stdout",
     "output_type": "stream",
     "text": [
      "988:\tlearn: 0.2916145\ttotal: 2.48s\tremaining: 27.5ms\n",
      "989:\tlearn: 0.2915693\ttotal: 2.48s\tremaining: 25ms\n",
      "990:\tlearn: 0.2914592\ttotal: 2.48s\tremaining: 22.5ms\n",
      "991:\tlearn: 0.2913970\ttotal: 2.48s\tremaining: 20ms\n",
      "992:\tlearn: 0.2913222\ttotal: 2.49s\tremaining: 17.5ms\n",
      "993:\tlearn: 0.2912429\ttotal: 2.49s\tremaining: 15ms\n",
      "994:\tlearn: 0.2911934\ttotal: 2.49s\tremaining: 12.5ms\n",
      "995:\tlearn: 0.2911434\ttotal: 2.49s\tremaining: 10ms\n",
      "996:\tlearn: 0.2910599\ttotal: 2.5s\tremaining: 7.51ms\n",
      "997:\tlearn: 0.2909980\ttotal: 2.5s\tremaining: 5.01ms\n",
      "998:\tlearn: 0.2909379\ttotal: 2.5s\tremaining: 2.5ms\n",
      "999:\tlearn: 0.2908662\ttotal: 2.51s\tremaining: 0us\n",
      "Mean Squared error 0.157808957113399\n"
     ]
    },
    {
     "data": {
      "application/scrapbook.scrap.json+json": {
       "data": 0.157808957113399,
       "encoder": "json",
       "name": "Catboost MAE",
       "version": 1
      }
     },
     "metadata": {
      "scrapbook": {
       "data": true,
       "display": false,
       "name": "Catboost MAE"
      }
     },
     "output_type": "display_data"
    }
   ],
   "source": [
    "mae_cb = baselineModels.catboost(X_train,y_train,X_test,y_test)\n",
    "#Store MSE Value\n",
    "sb.glue(\"Catboost MAE\",mae_cb)"
   ]
  }
 ],
 "metadata": {
  "interpreter": {
   "hash": "10498c76ddd8160350534c6544a2b2fb65f2138dbc70420f7c81a3268f830f23"
  },
  "kernelspec": {
   "display_name": "Python 3 (ipykernel)",
   "language": "python",
   "name": "python3"
  },
  "language_info": {
   "codemirror_mode": {
    "name": "ipython",
    "version": 3
   },
   "file_extension": ".py",
   "mimetype": "text/x-python",
   "name": "python",
   "nbconvert_exporter": "python",
   "pygments_lexer": "ipython3",
   "version": "3.8.11"
  },
  "papermill": {
   "default_parameters": {},
   "duration": 5.681126,
   "end_time": "2022-03-02T04:31:08.597794",
   "environment_variables": {},
   "exception": null,
   "input_path": "BaselineModels.ipynb",
   "output_path": "./BaseLine_Model_Output/BaselineModels_output_9.ipynb",
   "parameters": {},
   "start_time": "2022-03-02T04:31:02.916668",
   "version": "2.3.3"
  }
 },
 "nbformat": 4,
 "nbformat_minor": 5
}