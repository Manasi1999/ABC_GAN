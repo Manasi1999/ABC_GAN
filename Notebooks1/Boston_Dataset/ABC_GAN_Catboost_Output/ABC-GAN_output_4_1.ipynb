{
 "cells": [
  {
   "cell_type": "markdown",
   "id": "622780e6",
   "metadata": {
    "papermill": {
     "duration": 0.026825,
     "end_time": "2022-01-14T13:16:59.386513",
     "exception": false,
     "start_time": "2022-01-14T13:16:59.359688",
     "status": "completed"
    },
    "tags": []
   },
   "source": [
    "## Import Libraries "
   ]
  },
  {
   "cell_type": "code",
   "execution_count": 1,
   "id": "a62397e3",
   "metadata": {
    "execution": {
     "iopub.execute_input": "2022-01-14T13:16:59.461496Z",
     "iopub.status.busy": "2022-01-14T13:16:59.460518Z",
     "iopub.status.idle": "2022-01-14T13:16:59.463420Z",
     "shell.execute_reply": "2022-01-14T13:16:59.462799Z"
    },
    "papermill": {
     "duration": 0.034511,
     "end_time": "2022-01-14T13:16:59.463579",
     "exception": false,
     "start_time": "2022-01-14T13:16:59.429068",
     "status": "completed"
    },
    "tags": []
   },
   "outputs": [],
   "source": [
    "import warnings\n",
    "import sys\n",
    "sys.path.insert(0, '../../src')\n",
    "warnings.filterwarnings('ignore')"
   ]
  },
  {
   "cell_type": "code",
   "execution_count": 2,
   "id": "d6a4e155",
   "metadata": {
    "execution": {
     "iopub.execute_input": "2022-01-14T13:16:59.515541Z",
     "iopub.status.busy": "2022-01-14T13:16:59.514876Z",
     "iopub.status.idle": "2022-01-14T13:17:01.148082Z",
     "shell.execute_reply": "2022-01-14T13:17:01.147553Z"
    },
    "papermill": {
     "duration": 1.661521,
     "end_time": "2022-01-14T13:17:01.148225",
     "exception": false,
     "start_time": "2022-01-14T13:16:59.486704",
     "status": "completed"
    },
    "tags": []
   },
   "outputs": [],
   "source": [
    "import ABC_train_test2\n",
    "import bostonDataset\n",
    "import network\n",
    "import dataset\n",
    "import sanityChecks\n",
    "import performanceMetrics\n",
    "import torch \n",
    "from torch.utils.data import random_split \n",
    "import scrapbook as sb\n",
    "from statistics import mean \n",
    "import catboost as ctb \n",
    "from sklearn.model_selection import train_test_split\n",
    "from sklearn.metrics import mean_squared_error\n",
    "import numpy as np"
   ]
  },
  {
   "cell_type": "markdown",
   "id": "2fa5b0f7",
   "metadata": {
    "papermill": {
     "duration": 0.024288,
     "end_time": "2022-01-14T13:17:01.196141",
     "exception": false,
     "start_time": "2022-01-14T13:17:01.171853",
     "status": "completed"
    },
    "tags": []
   },
   "source": [
    "## Parameters "
   ]
  },
  {
   "cell_type": "code",
   "execution_count": 3,
   "id": "783186fb",
   "metadata": {
    "execution": {
     "iopub.execute_input": "2022-01-14T13:17:01.249534Z",
     "iopub.status.busy": "2022-01-14T13:17:01.248663Z",
     "iopub.status.idle": "2022-01-14T13:17:01.251207Z",
     "shell.execute_reply": "2022-01-14T13:17:01.250741Z"
    },
    "papermill": {
     "duration": 0.031037,
     "end_time": "2022-01-14T13:17:01.251344",
     "exception": false,
     "start_time": "2022-01-14T13:17:01.220307",
     "status": "completed"
    },
    "tags": [
     "parameters"
    ]
   },
   "outputs": [],
   "source": [
    "variance = 1"
   ]
  },
  {
   "cell_type": "code",
   "execution_count": 4,
   "id": "49c318c3",
   "metadata": {
    "execution": {
     "iopub.execute_input": "2022-01-14T13:17:01.303947Z",
     "iopub.status.busy": "2022-01-14T13:17:01.303028Z",
     "iopub.status.idle": "2022-01-14T13:17:01.305201Z",
     "shell.execute_reply": "2022-01-14T13:17:01.305879Z"
    },
    "papermill": {
     "duration": 0.030332,
     "end_time": "2022-01-14T13:17:01.306014",
     "exception": false,
     "start_time": "2022-01-14T13:17:01.275682",
     "status": "completed"
    },
    "tags": [
     "injected-parameters"
    ]
   },
   "outputs": [],
   "source": [
    "# Parameters\n",
    "variance = 0.1\n"
   ]
  },
  {
   "cell_type": "markdown",
   "id": "391cdbfd",
   "metadata": {
    "papermill": {
     "duration": 0.024146,
     "end_time": "2022-01-14T13:17:01.353860",
     "exception": false,
     "start_time": "2022-01-14T13:17:01.329714",
     "status": "completed"
    },
    "tags": []
   },
   "source": [
    "## Dataset - Boston Housing "
   ]
  },
  {
   "cell_type": "code",
   "execution_count": 5,
   "id": "5b51f161",
   "metadata": {
    "execution": {
     "iopub.execute_input": "2022-01-14T13:17:01.409189Z",
     "iopub.status.busy": "2022-01-14T13:17:01.408494Z",
     "iopub.status.idle": "2022-01-14T13:17:01.411712Z",
     "shell.execute_reply": "2022-01-14T13:17:01.411021Z"
    },
    "papermill": {
     "duration": 0.032772,
     "end_time": "2022-01-14T13:17:01.411832",
     "exception": false,
     "start_time": "2022-01-14T13:17:01.379060",
     "status": "completed"
    },
    "tags": []
   },
   "outputs": [],
   "source": [
    "#Parameters \n",
    "n_features = 13\n",
    "n_samples= 506\n",
    "n_target = 1 "
   ]
  },
  {
   "cell_type": "code",
   "execution_count": 6,
   "id": "5d6eced4",
   "metadata": {
    "execution": {
     "iopub.execute_input": "2022-01-14T13:17:01.465050Z",
     "iopub.status.busy": "2022-01-14T13:17:01.464484Z",
     "iopub.status.idle": "2022-01-14T13:17:01.497050Z",
     "shell.execute_reply": "2022-01-14T13:17:01.496592Z"
    },
    "papermill": {
     "duration": 0.060658,
     "end_time": "2022-01-14T13:17:01.497172",
     "exception": false,
     "start_time": "2022-01-14T13:17:01.436514",
     "status": "completed"
    },
    "tags": []
   },
   "outputs": [
    {
     "name": "stdout",
     "output_type": "stream",
     "text": [
      "         X1        X2        X3        X4        X5        X6        X7        X8        X9       X10       X11       X12       X13         Y\n",
      "0 -0.419782  0.284830 -1.287909 -0.272599 -0.144217  0.413672 -0.120013  0.140214 -0.982843 -0.666608 -1.459000  0.441052 -1.075562  0.159686\n",
      "1 -0.417339 -0.487722 -0.593381 -0.272599 -0.740262  0.194274  0.367166  0.557160 -0.867883 -0.987329 -0.303094  0.441052 -0.492439 -0.101524\n",
      "2 -0.417342 -0.487722 -0.593381 -0.272599 -0.740262  1.282714 -0.265812  0.557160 -0.867883 -0.987329 -0.303094  0.396427 -1.208727  1.324247\n",
      "3 -0.416750 -0.487722 -1.306878 -0.272599 -0.835284  1.016303 -0.809889  1.077737 -0.752922 -1.106115  0.113032  0.416163 -1.361517  1.182758\n",
      "4 -0.412482 -0.487722 -1.306878 -0.272599 -0.835284  1.228577 -0.511180  1.077737 -0.752922 -1.106115  0.113032  0.441052 -1.026501  1.487503\n"
     ]
    }
   ],
   "source": [
    "X,Y = bostonDataset.boston_data()"
   ]
  },
  {
   "cell_type": "code",
   "execution_count": 7,
   "id": "fe007438",
   "metadata": {
    "execution": {
     "iopub.execute_input": "2022-01-14T13:17:01.552501Z",
     "iopub.status.busy": "2022-01-14T13:17:01.551621Z",
     "iopub.status.idle": "2022-01-14T13:17:01.554979Z",
     "shell.execute_reply": "2022-01-14T13:17:01.554377Z"
    },
    "papermill": {
     "duration": 0.033474,
     "end_time": "2022-01-14T13:17:01.555143",
     "exception": false,
     "start_time": "2022-01-14T13:17:01.521669",
     "status": "completed"
    },
    "tags": []
   },
   "outputs": [],
   "source": [
    "#Train test split for dataset \n",
    "X_train,X_test,Y_train,Y_test = train_test_split(X,Y,test_size = 0.2)\n",
    "train_data = dataset.CustomDataset(X_train,Y_train)\n",
    "test_data = dataset.CustomDataset(X_test,Y_test)\n"
   ]
  },
  {
   "cell_type": "markdown",
   "id": "a9a1af34",
   "metadata": {
    "papermill": {
     "duration": 0.024773,
     "end_time": "2022-01-14T13:17:01.606914",
     "exception": false,
     "start_time": "2022-01-14T13:17:01.582141",
     "status": "completed"
    },
    "tags": []
   },
   "source": [
    "## Training Parameters \n",
    "\n"
   ]
  },
  {
   "cell_type": "code",
   "execution_count": 8,
   "id": "952b7fc8",
   "metadata": {
    "execution": {
     "iopub.execute_input": "2022-01-14T13:17:01.678227Z",
     "iopub.status.busy": "2022-01-14T13:17:01.677640Z",
     "iopub.status.idle": "2022-01-14T13:17:01.680566Z",
     "shell.execute_reply": "2022-01-14T13:17:01.679988Z"
    },
    "papermill": {
     "duration": 0.049904,
     "end_time": "2022-01-14T13:17:01.680700",
     "exception": false,
     "start_time": "2022-01-14T13:17:01.630796",
     "status": "completed"
    },
    "tags": []
   },
   "outputs": [],
   "source": [
    "batch_size = 64\n",
    "n_epochs = 5000\n",
    "#Select the device \n",
    "device = torch.device('cuda' if torch.cuda.is_available() else 'cpu')"
   ]
  },
  {
   "cell_type": "markdown",
   "id": "a95e1600",
   "metadata": {
    "papermill": {
     "duration": 0.024764,
     "end_time": "2022-01-14T13:17:01.730514",
     "exception": false,
     "start_time": "2022-01-14T13:17:01.705750",
     "status": "completed"
    },
    "tags": []
   },
   "source": [
    "# ABC Pre-generator Model \n",
    "\n",
    "1. The catboost model is used as a pre-generator model for the ABC-GAN. \n",
    "2. The model is first trained on the train dataset \n",
    "3. It generats X,Y pairs and we add some Gaussian noise with mean 0 and variance V (1,0.01,0.1) to it which is then feed as input to the generator.\n"
   ]
  },
  {
   "cell_type": "code",
   "execution_count": 9,
   "id": "ff8ce7bd",
   "metadata": {
    "execution": {
     "iopub.execute_input": "2022-01-14T13:17:01.798552Z",
     "iopub.status.busy": "2022-01-14T13:17:01.797627Z",
     "iopub.status.idle": "2022-01-14T13:17:03.547946Z",
     "shell.execute_reply": "2022-01-14T13:17:03.547349Z"
    },
    "papermill": {
     "duration": 1.792751,
     "end_time": "2022-01-14T13:17:03.548086",
     "exception": false,
     "start_time": "2022-01-14T13:17:01.755335",
     "status": "completed"
    },
    "tags": []
   },
   "outputs": [
    {
     "name": "stdout",
     "output_type": "stream",
     "text": [
      "Learning rate set to 0.03548\n",
      "0:\tlearn: 0.9607745\ttotal: 47.8ms\tremaining: 47.7s\n",
      "1:\tlearn: 0.9414144\ttotal: 48.7ms\tremaining: 24.3s\n",
      "2:\tlearn: 0.9217499\ttotal: 49.9ms\tremaining: 16.6s\n",
      "3:\tlearn: 0.9053225\ttotal: 50.8ms\tremaining: 12.7s\n",
      "4:\tlearn: 0.8898352\ttotal: 51.9ms\tremaining: 10.3s\n",
      "5:\tlearn: 0.8736595\ttotal: 53.1ms\tremaining: 8.8s\n",
      "6:\tlearn: 0.8568761\ttotal: 54.2ms\tremaining: 7.69s\n",
      "7:\tlearn: 0.8402108\ttotal: 55.2ms\tremaining: 6.84s\n",
      "8:\tlearn: 0.8250716\ttotal: 56.3ms\tremaining: 6.2s\n",
      "9:\tlearn: 0.8076115\ttotal: 57.3ms\tremaining: 5.67s\n",
      "10:\tlearn: 0.7926698\ttotal: 58.5ms\tremaining: 5.25s\n",
      "11:\tlearn: 0.7795753\ttotal: 59.3ms\tremaining: 4.88s\n",
      "12:\tlearn: 0.7641696\ttotal: 60.2ms\tremaining: 4.57s\n",
      "13:\tlearn: 0.7489574\ttotal: 61.2ms\tremaining: 4.31s\n",
      "14:\tlearn: 0.7358379\ttotal: 62.2ms\tremaining: 4.09s\n",
      "15:\tlearn: 0.7223824\ttotal: 63.2ms\tremaining: 3.89s\n",
      "16:\tlearn: 0.7097082\ttotal: 64.4ms\tremaining: 3.72s\n",
      "17:\tlearn: 0.6972135\ttotal: 65.3ms\tremaining: 3.56s\n",
      "18:\tlearn: 0.6852872\ttotal: 66.2ms\tremaining: 3.42s\n",
      "19:\tlearn: 0.6737298\ttotal: 67.1ms\tremaining: 3.29s\n",
      "20:\tlearn: 0.6606310\ttotal: 68.2ms\tremaining: 3.18s\n",
      "21:\tlearn: 0.6495525\ttotal: 69.3ms\tremaining: 3.08s\n",
      "22:\tlearn: 0.6393669\ttotal: 70.4ms\tremaining: 2.99s\n",
      "23:\tlearn: 0.6301828\ttotal: 71.3ms\tremaining: 2.9s\n",
      "24:\tlearn: 0.6206996\ttotal: 72.2ms\tremaining: 2.82s\n",
      "25:\tlearn: 0.6102041\ttotal: 73.3ms\tremaining: 2.74s\n",
      "26:\tlearn: 0.6016162\ttotal: 74.2ms\tremaining: 2.67s\n",
      "27:\tlearn: 0.5923507\ttotal: 74.9ms\tremaining: 2.6s\n",
      "28:\tlearn: 0.5855123\ttotal: 75.9ms\tremaining: 2.54s\n",
      "29:\tlearn: 0.5760445\ttotal: 76.8ms\tremaining: 2.48s\n",
      "30:\tlearn: 0.5675043\ttotal: 77.8ms\tremaining: 2.43s\n",
      "31:\tlearn: 0.5581770\ttotal: 78.9ms\tremaining: 2.39s\n",
      "32:\tlearn: 0.5509129\ttotal: 80ms\tremaining: 2.34s\n",
      "33:\tlearn: 0.5448803\ttotal: 81ms\tremaining: 2.3s\n",
      "34:\tlearn: 0.5373264\ttotal: 81.9ms\tremaining: 2.26s\n",
      "35:\tlearn: 0.5305538\ttotal: 83ms\tremaining: 2.22s\n",
      "36:\tlearn: 0.5241565\ttotal: 83.6ms\tremaining: 2.18s\n",
      "37:\tlearn: 0.5177696\ttotal: 84.6ms\tremaining: 2.14s\n",
      "38:\tlearn: 0.5121653\ttotal: 85.7ms\tremaining: 2.11s\n",
      "39:\tlearn: 0.5055298\ttotal: 86.8ms\tremaining: 2.08s\n",
      "40:\tlearn: 0.4993025\ttotal: 87.9ms\tremaining: 2.06s\n",
      "41:\tlearn: 0.4935824\ttotal: 88.9ms\tremaining: 2.03s\n",
      "42:\tlearn: 0.4880114\ttotal: 89.9ms\tremaining: 2s\n",
      "43:\tlearn: 0.4818648\ttotal: 90.8ms\tremaining: 1.97s\n",
      "44:\tlearn: 0.4767600\ttotal: 91.7ms\tremaining: 1.95s\n",
      "45:\tlearn: 0.4714138\ttotal: 92.8ms\tremaining: 1.92s\n",
      "46:\tlearn: 0.4668246\ttotal: 93.8ms\tremaining: 1.9s\n",
      "47:\tlearn: 0.4617116\ttotal: 94.8ms\tremaining: 1.88s\n",
      "48:\tlearn: 0.4559048\ttotal: 95.7ms\tremaining: 1.86s\n",
      "49:\tlearn: 0.4504903\ttotal: 96.8ms\tremaining: 1.84s\n",
      "50:\tlearn: 0.4454530\ttotal: 97.8ms\tremaining: 1.82s\n",
      "51:\tlearn: 0.4410624\ttotal: 98.7ms\tremaining: 1.8s\n",
      "52:\tlearn: 0.4361120\ttotal: 99.7ms\tremaining: 1.78s\n",
      "53:\tlearn: 0.4313639\ttotal: 101ms\tremaining: 1.76s\n",
      "54:\tlearn: 0.4269251\ttotal: 102ms\tremaining: 1.74s\n",
      "55:\tlearn: 0.4233651\ttotal: 103ms\tremaining: 1.73s\n",
      "56:\tlearn: 0.4183037\ttotal: 104ms\tremaining: 1.72s\n",
      "57:\tlearn: 0.4132418\ttotal: 105ms\tremaining: 1.7s\n",
      "58:\tlearn: 0.4099080\ttotal: 106ms\tremaining: 1.68s\n",
      "59:\tlearn: 0.4050670\ttotal: 107ms\tremaining: 1.67s\n",
      "60:\tlearn: 0.4011737\ttotal: 108ms\tremaining: 1.66s\n",
      "61:\tlearn: 0.3975378\ttotal: 109ms\tremaining: 1.65s\n",
      "62:\tlearn: 0.3942452\ttotal: 110ms\tremaining: 1.63s\n",
      "63:\tlearn: 0.3901262\ttotal: 111ms\tremaining: 1.62s\n",
      "64:\tlearn: 0.3859245\ttotal: 112ms\tremaining: 1.61s\n",
      "65:\tlearn: 0.3830035\ttotal: 113ms\tremaining: 1.6s\n",
      "66:\tlearn: 0.3799487\ttotal: 114ms\tremaining: 1.58s\n",
      "67:\tlearn: 0.3769276\ttotal: 115ms\tremaining: 1.57s\n",
      "68:\tlearn: 0.3738006\ttotal: 116ms\tremaining: 1.56s\n",
      "69:\tlearn: 0.3707924\ttotal: 117ms\tremaining: 1.55s\n",
      "70:\tlearn: 0.3687513\ttotal: 118ms\tremaining: 1.54s\n",
      "71:\tlearn: 0.3665791\ttotal: 119ms\tremaining: 1.53s\n",
      "72:\tlearn: 0.3636576\ttotal: 120ms\tremaining: 1.52s\n",
      "73:\tlearn: 0.3609136\ttotal: 121ms\tremaining: 1.51s\n",
      "74:\tlearn: 0.3582454\ttotal: 122ms\tremaining: 1.5s\n",
      "75:\tlearn: 0.3551549\ttotal: 123ms\tremaining: 1.49s\n",
      "76:\tlearn: 0.3533193\ttotal: 124ms\tremaining: 1.48s\n",
      "77:\tlearn: 0.3510757\ttotal: 125ms\tremaining: 1.48s\n",
      "78:\tlearn: 0.3485711\ttotal: 126ms\tremaining: 1.47s\n",
      "79:\tlearn: 0.3459813\ttotal: 127ms\tremaining: 1.46s\n",
      "80:\tlearn: 0.3436705\ttotal: 128ms\tremaining: 1.45s\n",
      "81:\tlearn: 0.3406809\ttotal: 129ms\tremaining: 1.44s\n",
      "82:\tlearn: 0.3384960\ttotal: 130ms\tremaining: 1.44s\n",
      "83:\tlearn: 0.3365311\ttotal: 131ms\tremaining: 1.43s\n",
      "84:\tlearn: 0.3340484\ttotal: 132ms\tremaining: 1.42s\n",
      "85:\tlearn: 0.3318628\ttotal: 133ms\tremaining: 1.41s\n",
      "86:\tlearn: 0.3300365\ttotal: 134ms\tremaining: 1.4s\n",
      "87:\tlearn: 0.3277410\ttotal: 135ms\tremaining: 1.4s\n",
      "88:\tlearn: 0.3248875\ttotal: 136ms\tremaining: 1.39s\n",
      "89:\tlearn: 0.3233282\ttotal: 137ms\tremaining: 1.38s\n",
      "90:\tlearn: 0.3209621\ttotal: 138ms\tremaining: 1.38s\n",
      "91:\tlearn: 0.3191113\ttotal: 139ms\tremaining: 1.37s\n",
      "92:\tlearn: 0.3176896\ttotal: 140ms\tremaining: 1.37s\n"
     ]
    },
    {
     "name": "stdout",
     "output_type": "stream",
     "text": [
      "93:\tlearn: 0.3150279\ttotal: 143ms\tremaining: 1.38s\n",
      "94:\tlearn: 0.3137234\ttotal: 144ms\tremaining: 1.37s\n",
      "95:\tlearn: 0.3121281\ttotal: 145ms\tremaining: 1.37s\n",
      "96:\tlearn: 0.3107376\ttotal: 146ms\tremaining: 1.36s\n",
      "97:\tlearn: 0.3090939\ttotal: 147ms\tremaining: 1.35s\n",
      "98:\tlearn: 0.3081504\ttotal: 148ms\tremaining: 1.35s\n",
      "99:\tlearn: 0.3062990\ttotal: 149ms\tremaining: 1.34s\n",
      "100:\tlearn: 0.3047538\ttotal: 150ms\tremaining: 1.34s\n",
      "101:\tlearn: 0.3032268\ttotal: 153ms\tremaining: 1.34s\n",
      "102:\tlearn: 0.3018021\ttotal: 154ms\tremaining: 1.34s\n",
      "103:\tlearn: 0.3003986\ttotal: 155ms\tremaining: 1.33s\n",
      "104:\tlearn: 0.2989656\ttotal: 156ms\tremaining: 1.33s\n",
      "105:\tlearn: 0.2972583\ttotal: 157ms\tremaining: 1.32s\n",
      "106:\tlearn: 0.2956733\ttotal: 158ms\tremaining: 1.32s\n",
      "107:\tlearn: 0.2939514\ttotal: 159ms\tremaining: 1.31s\n",
      "108:\tlearn: 0.2928416\ttotal: 160ms\tremaining: 1.31s\n",
      "109:\tlearn: 0.2918572\ttotal: 161ms\tremaining: 1.3s\n",
      "110:\tlearn: 0.2904551\ttotal: 162ms\tremaining: 1.3s\n",
      "111:\tlearn: 0.2894593\ttotal: 163ms\tremaining: 1.29s\n",
      "112:\tlearn: 0.2882837\ttotal: 164ms\tremaining: 1.29s\n",
      "113:\tlearn: 0.2872022\ttotal: 165ms\tremaining: 1.28s\n",
      "114:\tlearn: 0.2861966\ttotal: 166ms\tremaining: 1.28s\n",
      "115:\tlearn: 0.2849593\ttotal: 167ms\tremaining: 1.27s\n",
      "116:\tlearn: 0.2838178\ttotal: 168ms\tremaining: 1.27s\n",
      "117:\tlearn: 0.2829636\ttotal: 169ms\tremaining: 1.26s\n",
      "118:\tlearn: 0.2820902\ttotal: 170ms\tremaining: 1.26s\n",
      "119:\tlearn: 0.2809110\ttotal: 171ms\tremaining: 1.25s\n",
      "120:\tlearn: 0.2798083\ttotal: 172ms\tremaining: 1.25s\n",
      "121:\tlearn: 0.2789218\ttotal: 173ms\tremaining: 1.24s\n",
      "122:\tlearn: 0.2778076\ttotal: 174ms\tremaining: 1.24s\n",
      "123:\tlearn: 0.2766628\ttotal: 175ms\tremaining: 1.24s\n",
      "124:\tlearn: 0.2756705\ttotal: 176ms\tremaining: 1.23s\n",
      "125:\tlearn: 0.2747172\ttotal: 177ms\tremaining: 1.23s\n",
      "126:\tlearn: 0.2735784\ttotal: 178ms\tremaining: 1.23s\n",
      "127:\tlearn: 0.2726988\ttotal: 179ms\tremaining: 1.22s\n",
      "128:\tlearn: 0.2716020\ttotal: 180ms\tremaining: 1.22s\n",
      "129:\tlearn: 0.2706759\ttotal: 181ms\tremaining: 1.21s\n",
      "130:\tlearn: 0.2697517\ttotal: 182ms\tremaining: 1.21s\n",
      "131:\tlearn: 0.2690116\ttotal: 183ms\tremaining: 1.21s\n",
      "132:\tlearn: 0.2681052\ttotal: 185ms\tremaining: 1.2s\n",
      "133:\tlearn: 0.2677386\ttotal: 186ms\tremaining: 1.2s\n",
      "134:\tlearn: 0.2671214\ttotal: 187ms\tremaining: 1.2s\n",
      "135:\tlearn: 0.2663923\ttotal: 188ms\tremaining: 1.19s\n",
      "136:\tlearn: 0.2657135\ttotal: 189ms\tremaining: 1.19s\n",
      "137:\tlearn: 0.2646324\ttotal: 190ms\tremaining: 1.19s\n",
      "138:\tlearn: 0.2635345\ttotal: 191ms\tremaining: 1.18s\n",
      "139:\tlearn: 0.2627104\ttotal: 192ms\tremaining: 1.18s\n",
      "140:\tlearn: 0.2615109\ttotal: 193ms\tremaining: 1.17s\n",
      "141:\tlearn: 0.2610127\ttotal: 194ms\tremaining: 1.17s\n",
      "142:\tlearn: 0.2603572\ttotal: 195ms\tremaining: 1.17s\n",
      "143:\tlearn: 0.2597279\ttotal: 196ms\tremaining: 1.16s\n",
      "144:\tlearn: 0.2585394\ttotal: 197ms\tremaining: 1.16s\n",
      "145:\tlearn: 0.2580238\ttotal: 198ms\tremaining: 1.16s\n",
      "146:\tlearn: 0.2569223\ttotal: 199ms\tremaining: 1.15s\n",
      "147:\tlearn: 0.2562360\ttotal: 200ms\tremaining: 1.15s\n",
      "148:\tlearn: 0.2554430\ttotal: 201ms\tremaining: 1.15s\n",
      "149:\tlearn: 0.2543301\ttotal: 202ms\tremaining: 1.14s\n",
      "150:\tlearn: 0.2531912\ttotal: 203ms\tremaining: 1.14s\n",
      "151:\tlearn: 0.2523496\ttotal: 204ms\tremaining: 1.14s\n",
      "152:\tlearn: 0.2516862\ttotal: 205ms\tremaining: 1.13s\n",
      "153:\tlearn: 0.2506797\ttotal: 206ms\tremaining: 1.13s\n",
      "154:\tlearn: 0.2497065\ttotal: 207ms\tremaining: 1.13s\n",
      "155:\tlearn: 0.2488294\ttotal: 208ms\tremaining: 1.13s\n",
      "156:\tlearn: 0.2480677\ttotal: 209ms\tremaining: 1.12s\n",
      "157:\tlearn: 0.2473361\ttotal: 210ms\tremaining: 1.12s\n",
      "158:\tlearn: 0.2470063\ttotal: 211ms\tremaining: 1.11s\n",
      "159:\tlearn: 0.2466803\ttotal: 212ms\tremaining: 1.11s\n",
      "160:\tlearn: 0.2459688\ttotal: 213ms\tremaining: 1.11s\n",
      "161:\tlearn: 0.2450088\ttotal: 214ms\tremaining: 1.11s\n",
      "162:\tlearn: 0.2443333\ttotal: 215ms\tremaining: 1.1s\n",
      "163:\tlearn: 0.2430766\ttotal: 216ms\tremaining: 1.1s\n",
      "164:\tlearn: 0.2424321\ttotal: 217ms\tremaining: 1.1s\n",
      "165:\tlearn: 0.2418951\ttotal: 218ms\tremaining: 1.1s\n",
      "166:\tlearn: 0.2412354\ttotal: 219ms\tremaining: 1.09s\n",
      "167:\tlearn: 0.2405496\ttotal: 220ms\tremaining: 1.09s\n",
      "168:\tlearn: 0.2395261\ttotal: 221ms\tremaining: 1.09s\n",
      "169:\tlearn: 0.2388543\ttotal: 222ms\tremaining: 1.08s\n",
      "170:\tlearn: 0.2383870\ttotal: 223ms\tremaining: 1.08s\n",
      "171:\tlearn: 0.2375157\ttotal: 225ms\tremaining: 1.08s\n",
      "172:\tlearn: 0.2370432\ttotal: 226ms\tremaining: 1.08s\n",
      "173:\tlearn: 0.2367333\ttotal: 227ms\tremaining: 1.08s\n",
      "174:\tlearn: 0.2361304\ttotal: 228ms\tremaining: 1.07s\n",
      "175:\tlearn: 0.2360254\ttotal: 229ms\tremaining: 1.07s\n",
      "176:\tlearn: 0.2353095\ttotal: 230ms\tremaining: 1.07s\n",
      "177:\tlearn: 0.2346559\ttotal: 231ms\tremaining: 1.06s\n",
      "178:\tlearn: 0.2339773\ttotal: 232ms\tremaining: 1.06s\n",
      "179:\tlearn: 0.2331822\ttotal: 233ms\tremaining: 1.06s\n",
      "180:\tlearn: 0.2325047\ttotal: 234ms\tremaining: 1.06s\n",
      "181:\tlearn: 0.2320322\ttotal: 235ms\tremaining: 1.05s\n",
      "182:\tlearn: 0.2313409\ttotal: 236ms\tremaining: 1.05s\n",
      "183:\tlearn: 0.2309723\ttotal: 237ms\tremaining: 1.05s\n",
      "184:\tlearn: 0.2306361\ttotal: 238ms\tremaining: 1.05s\n",
      "185:\tlearn: 0.2301099\ttotal: 239ms\tremaining: 1.05s\n",
      "186:\tlearn: 0.2299003\ttotal: 240ms\tremaining: 1.04s\n",
      "187:\tlearn: 0.2291751\ttotal: 242ms\tremaining: 1.04s\n",
      "188:\tlearn: 0.2288604\ttotal: 243ms\tremaining: 1.04s\n",
      "189:\tlearn: 0.2281666\ttotal: 244ms\tremaining: 1.04s\n",
      "190:\tlearn: 0.2274341\ttotal: 245ms\tremaining: 1.04s\n",
      "191:\tlearn: 0.2268718\ttotal: 246ms\tremaining: 1.03s\n",
      "192:\tlearn: 0.2263701\ttotal: 247ms\tremaining: 1.03s\n",
      "193:\tlearn: 0.2257258\ttotal: 248ms\tremaining: 1.03s\n",
      "194:\tlearn: 0.2248883\ttotal: 249ms\tremaining: 1.03s\n",
      "195:\tlearn: 0.2241923\ttotal: 250ms\tremaining: 1.03s\n",
      "196:\tlearn: 0.2239979\ttotal: 251ms\tremaining: 1.02s\n",
      "197:\tlearn: 0.2236053\ttotal: 252ms\tremaining: 1.02s\n",
      "198:\tlearn: 0.2234627\ttotal: 253ms\tremaining: 1.02s\n",
      "199:\tlearn: 0.2229565\ttotal: 254ms\tremaining: 1.02s\n",
      "200:\tlearn: 0.2225385\ttotal: 255ms\tremaining: 1.01s\n",
      "201:\tlearn: 0.2221003\ttotal: 257ms\tremaining: 1.01s\n",
      "202:\tlearn: 0.2214082\ttotal: 258ms\tremaining: 1.01s\n",
      "203:\tlearn: 0.2211516\ttotal: 259ms\tremaining: 1.01s\n",
      "204:\tlearn: 0.2207413\ttotal: 260ms\tremaining: 1.01s\n",
      "205:\tlearn: 0.2202635\ttotal: 261ms\tremaining: 1s\n",
      "206:\tlearn: 0.2195812\ttotal: 262ms\tremaining: 1s\n",
      "207:\tlearn: 0.2190111\ttotal: 263ms\tremaining: 1000ms\n",
      "208:\tlearn: 0.2183280\ttotal: 264ms\tremaining: 997ms\n",
      "209:\tlearn: 0.2178477\ttotal: 265ms\tremaining: 995ms\n",
      "210:\tlearn: 0.2173042\ttotal: 266ms\tremaining: 994ms\n",
      "211:\tlearn: 0.2169605\ttotal: 267ms\tremaining: 991ms\n",
      "212:\tlearn: 0.2162943\ttotal: 268ms\tremaining: 989ms\n",
      "213:\tlearn: 0.2157596\ttotal: 269ms\tremaining: 987ms\n",
      "214:\tlearn: 0.2151820\ttotal: 270ms\tremaining: 985ms\n",
      "215:\tlearn: 0.2147870\ttotal: 271ms\tremaining: 983ms\n",
      "216:\tlearn: 0.2141763\ttotal: 272ms\tremaining: 981ms\n",
      "217:\tlearn: 0.2136168\ttotal: 274ms\tremaining: 983ms\n"
     ]
    },
    {
     "name": "stdout",
     "output_type": "stream",
     "text": [
      "218:\tlearn: 0.2129778\ttotal: 277ms\tremaining: 987ms\n",
      "219:\tlearn: 0.2127584\ttotal: 278ms\tremaining: 987ms\n",
      "220:\tlearn: 0.2122415\ttotal: 279ms\tremaining: 984ms\n",
      "221:\tlearn: 0.2119795\ttotal: 280ms\tremaining: 982ms\n",
      "222:\tlearn: 0.2115006\ttotal: 281ms\tremaining: 980ms\n",
      "223:\tlearn: 0.2113146\ttotal: 282ms\tremaining: 978ms\n",
      "224:\tlearn: 0.2107247\ttotal: 284ms\tremaining: 977ms\n",
      "225:\tlearn: 0.2103682\ttotal: 285ms\tremaining: 975ms\n",
      "226:\tlearn: 0.2098728\ttotal: 286ms\tremaining: 973ms\n",
      "227:\tlearn: 0.2093945\ttotal: 287ms\tremaining: 971ms\n",
      "228:\tlearn: 0.2089061\ttotal: 288ms\tremaining: 969ms\n",
      "229:\tlearn: 0.2085834\ttotal: 289ms\tremaining: 967ms\n",
      "230:\tlearn: 0.2081579\ttotal: 290ms\tremaining: 965ms\n",
      "231:\tlearn: 0.2078947\ttotal: 291ms\tremaining: 963ms\n",
      "232:\tlearn: 0.2075867\ttotal: 292ms\tremaining: 961ms\n",
      "233:\tlearn: 0.2072601\ttotal: 293ms\tremaining: 959ms\n",
      "234:\tlearn: 0.2067196\ttotal: 294ms\tremaining: 957ms\n",
      "235:\tlearn: 0.2063559\ttotal: 295ms\tremaining: 954ms\n",
      "236:\tlearn: 0.2062099\ttotal: 296ms\tremaining: 952ms\n",
      "237:\tlearn: 0.2057615\ttotal: 297ms\tremaining: 950ms\n",
      "238:\tlearn: 0.2053478\ttotal: 298ms\tremaining: 948ms\n",
      "239:\tlearn: 0.2051516\ttotal: 299ms\tremaining: 946ms\n",
      "240:\tlearn: 0.2046869\ttotal: 300ms\tremaining: 944ms\n",
      "241:\tlearn: 0.2044556\ttotal: 301ms\tremaining: 942ms\n",
      "242:\tlearn: 0.2040183\ttotal: 302ms\tremaining: 940ms\n",
      "243:\tlearn: 0.2035206\ttotal: 303ms\tremaining: 938ms\n",
      "244:\tlearn: 0.2031464\ttotal: 304ms\tremaining: 936ms\n",
      "245:\tlearn: 0.2027241\ttotal: 305ms\tremaining: 934ms\n",
      "246:\tlearn: 0.2022212\ttotal: 306ms\tremaining: 932ms\n",
      "247:\tlearn: 0.2016389\ttotal: 307ms\tremaining: 930ms\n",
      "248:\tlearn: 0.2013361\ttotal: 308ms\tremaining: 929ms\n",
      "249:\tlearn: 0.2007308\ttotal: 309ms\tremaining: 927ms\n",
      "250:\tlearn: 0.1999466\ttotal: 310ms\tremaining: 926ms\n",
      "251:\tlearn: 0.1996321\ttotal: 311ms\tremaining: 924ms\n",
      "252:\tlearn: 0.1993641\ttotal: 312ms\tremaining: 922ms\n",
      "253:\tlearn: 0.1986514\ttotal: 313ms\tremaining: 920ms\n",
      "254:\tlearn: 0.1983599\ttotal: 314ms\tremaining: 918ms\n",
      "255:\tlearn: 0.1977130\ttotal: 315ms\tremaining: 917ms\n",
      "256:\tlearn: 0.1972193\ttotal: 316ms\tremaining: 915ms\n",
      "257:\tlearn: 0.1968201\ttotal: 317ms\tremaining: 913ms\n",
      "258:\tlearn: 0.1961857\ttotal: 319ms\tremaining: 911ms\n",
      "259:\tlearn: 0.1958265\ttotal: 320ms\tremaining: 910ms\n",
      "260:\tlearn: 0.1954671\ttotal: 321ms\tremaining: 908ms\n",
      "261:\tlearn: 0.1950269\ttotal: 322ms\tremaining: 906ms\n",
      "262:\tlearn: 0.1943983\ttotal: 323ms\tremaining: 904ms\n",
      "263:\tlearn: 0.1937957\ttotal: 324ms\tremaining: 902ms\n",
      "264:\tlearn: 0.1935835\ttotal: 325ms\tremaining: 900ms\n",
      "265:\tlearn: 0.1932376\ttotal: 326ms\tremaining: 898ms\n",
      "266:\tlearn: 0.1928408\ttotal: 327ms\tremaining: 897ms\n",
      "267:\tlearn: 0.1922717\ttotal: 328ms\tremaining: 895ms\n",
      "268:\tlearn: 0.1915665\ttotal: 329ms\tremaining: 893ms\n",
      "269:\tlearn: 0.1909652\ttotal: 330ms\tremaining: 892ms\n",
      "270:\tlearn: 0.1902501\ttotal: 331ms\tremaining: 890ms\n",
      "271:\tlearn: 0.1898654\ttotal: 332ms\tremaining: 888ms\n",
      "272:\tlearn: 0.1894254\ttotal: 333ms\tremaining: 887ms\n",
      "273:\tlearn: 0.1889399\ttotal: 334ms\tremaining: 886ms\n",
      "274:\tlearn: 0.1882452\ttotal: 335ms\tremaining: 884ms\n",
      "275:\tlearn: 0.1877287\ttotal: 336ms\tremaining: 882ms\n",
      "276:\tlearn: 0.1875568\ttotal: 337ms\tremaining: 881ms\n",
      "277:\tlearn: 0.1868974\ttotal: 339ms\tremaining: 879ms\n",
      "278:\tlearn: 0.1866743\ttotal: 340ms\tremaining: 878ms\n",
      "279:\tlearn: 0.1859285\ttotal: 341ms\tremaining: 876ms\n",
      "280:\tlearn: 0.1856212\ttotal: 342ms\tremaining: 875ms\n",
      "281:\tlearn: 0.1849451\ttotal: 343ms\tremaining: 873ms\n",
      "282:\tlearn: 0.1844553\ttotal: 344ms\tremaining: 872ms\n",
      "283:\tlearn: 0.1842518\ttotal: 345ms\tremaining: 870ms\n",
      "284:\tlearn: 0.1838370\ttotal: 346ms\tremaining: 869ms\n",
      "285:\tlearn: 0.1834906\ttotal: 347ms\tremaining: 867ms\n",
      "286:\tlearn: 0.1830316\ttotal: 349ms\tremaining: 866ms\n",
      "287:\tlearn: 0.1825307\ttotal: 350ms\tremaining: 865ms\n",
      "288:\tlearn: 0.1819355\ttotal: 351ms\tremaining: 864ms\n",
      "289:\tlearn: 0.1814174\ttotal: 352ms\tremaining: 862ms\n",
      "290:\tlearn: 0.1810203\ttotal: 353ms\tremaining: 861ms\n",
      "291:\tlearn: 0.1805063\ttotal: 354ms\tremaining: 859ms\n",
      "292:\tlearn: 0.1799844\ttotal: 356ms\tremaining: 858ms\n",
      "293:\tlearn: 0.1797918\ttotal: 357ms\tremaining: 856ms\n",
      "294:\tlearn: 0.1791627\ttotal: 358ms\tremaining: 855ms\n",
      "295:\tlearn: 0.1785662\ttotal: 359ms\tremaining: 853ms\n",
      "296:\tlearn: 0.1779797\ttotal: 360ms\tremaining: 852ms\n",
      "297:\tlearn: 0.1775776\ttotal: 361ms\tremaining: 850ms\n",
      "298:\tlearn: 0.1772350\ttotal: 362ms\tremaining: 848ms\n",
      "299:\tlearn: 0.1767590\ttotal: 363ms\tremaining: 846ms\n",
      "300:\tlearn: 0.1762110\ttotal: 364ms\tremaining: 845ms\n",
      "301:\tlearn: 0.1760319\ttotal: 365ms\tremaining: 843ms\n",
      "302:\tlearn: 0.1756444\ttotal: 366ms\tremaining: 842ms\n",
      "303:\tlearn: 0.1752742\ttotal: 367ms\tremaining: 840ms\n",
      "304:\tlearn: 0.1748755\ttotal: 368ms\tremaining: 838ms\n",
      "305:\tlearn: 0.1743961\ttotal: 369ms\tremaining: 837ms\n",
      "306:\tlearn: 0.1738985\ttotal: 370ms\tremaining: 835ms\n",
      "307:\tlearn: 0.1733867\ttotal: 371ms\tremaining: 834ms\n",
      "308:\tlearn: 0.1730573\ttotal: 372ms\tremaining: 832ms\n",
      "309:\tlearn: 0.1725603\ttotal: 373ms\tremaining: 830ms\n",
      "310:\tlearn: 0.1722276\ttotal: 374ms\tremaining: 829ms\n",
      "311:\tlearn: 0.1718935\ttotal: 375ms\tremaining: 827ms\n",
      "312:\tlearn: 0.1714395\ttotal: 376ms\tremaining: 825ms\n",
      "313:\tlearn: 0.1709733\ttotal: 377ms\tremaining: 824ms\n",
      "314:\tlearn: 0.1704936\ttotal: 378ms\tremaining: 822ms\n",
      "315:\tlearn: 0.1698516\ttotal: 379ms\tremaining: 821ms\n",
      "316:\tlearn: 0.1695460\ttotal: 380ms\tremaining: 819ms\n",
      "317:\tlearn: 0.1692262\ttotal: 381ms\tremaining: 818ms\n",
      "318:\tlearn: 0.1690660\ttotal: 382ms\tremaining: 816ms\n",
      "319:\tlearn: 0.1687717\ttotal: 384ms\tremaining: 815ms\n",
      "320:\tlearn: 0.1685192\ttotal: 385ms\tremaining: 814ms\n",
      "321:\tlearn: 0.1680678\ttotal: 386ms\tremaining: 812ms\n",
      "322:\tlearn: 0.1675892\ttotal: 388ms\tremaining: 812ms\n",
      "323:\tlearn: 0.1672920\ttotal: 390ms\tremaining: 814ms\n",
      "324:\tlearn: 0.1668639\ttotal: 392ms\tremaining: 814ms\n",
      "325:\tlearn: 0.1667092\ttotal: 393ms\tremaining: 812ms\n",
      "326:\tlearn: 0.1663389\ttotal: 394ms\tremaining: 812ms\n",
      "327:\tlearn: 0.1659841\ttotal: 395ms\tremaining: 810ms\n",
      "328:\tlearn: 0.1655752\ttotal: 396ms\tremaining: 809ms\n",
      "329:\tlearn: 0.1652011\ttotal: 398ms\tremaining: 807ms\n",
      "330:\tlearn: 0.1646472\ttotal: 399ms\tremaining: 806ms\n",
      "331:\tlearn: 0.1639586\ttotal: 400ms\tremaining: 804ms\n",
      "332:\tlearn: 0.1633182\ttotal: 401ms\tremaining: 803ms\n",
      "333:\tlearn: 0.1628897\ttotal: 402ms\tremaining: 802ms\n",
      "334:\tlearn: 0.1623916\ttotal: 403ms\tremaining: 800ms\n",
      "335:\tlearn: 0.1621410\ttotal: 404ms\tremaining: 799ms\n",
      "336:\tlearn: 0.1616454\ttotal: 405ms\tremaining: 797ms\n"
     ]
    },
    {
     "name": "stdout",
     "output_type": "stream",
     "text": [
      "337:\tlearn: 0.1615418\ttotal: 407ms\tremaining: 797ms\n",
      "338:\tlearn: 0.1611558\ttotal: 409ms\tremaining: 797ms\n",
      "339:\tlearn: 0.1606783\ttotal: 410ms\tremaining: 795ms\n",
      "340:\tlearn: 0.1602971\ttotal: 411ms\tremaining: 794ms\n",
      "341:\tlearn: 0.1602077\ttotal: 412ms\tremaining: 792ms\n",
      "342:\tlearn: 0.1597150\ttotal: 413ms\tremaining: 791ms\n",
      "343:\tlearn: 0.1596188\ttotal: 414ms\tremaining: 790ms\n",
      "344:\tlearn: 0.1592236\ttotal: 415ms\tremaining: 788ms\n",
      "345:\tlearn: 0.1587803\ttotal: 416ms\tremaining: 787ms\n",
      "346:\tlearn: 0.1584771\ttotal: 417ms\tremaining: 785ms\n",
      "347:\tlearn: 0.1581378\ttotal: 418ms\tremaining: 784ms\n",
      "348:\tlearn: 0.1576981\ttotal: 419ms\tremaining: 782ms\n",
      "349:\tlearn: 0.1572719\ttotal: 420ms\tremaining: 781ms\n",
      "350:\tlearn: 0.1571121\ttotal: 421ms\tremaining: 779ms\n",
      "351:\tlearn: 0.1568137\ttotal: 422ms\tremaining: 778ms\n",
      "352:\tlearn: 0.1564628\ttotal: 423ms\tremaining: 776ms\n",
      "353:\tlearn: 0.1560293\ttotal: 425ms\tremaining: 775ms\n",
      "354:\tlearn: 0.1555640\ttotal: 426ms\tremaining: 773ms\n",
      "355:\tlearn: 0.1550241\ttotal: 427ms\tremaining: 772ms\n",
      "356:\tlearn: 0.1546624\ttotal: 428ms\tremaining: 771ms\n",
      "357:\tlearn: 0.1542469\ttotal: 429ms\tremaining: 769ms\n",
      "358:\tlearn: 0.1537504\ttotal: 430ms\tremaining: 768ms\n",
      "359:\tlearn: 0.1534137\ttotal: 431ms\tremaining: 767ms\n",
      "360:\tlearn: 0.1530497\ttotal: 432ms\tremaining: 765ms\n",
      "361:\tlearn: 0.1529743\ttotal: 434ms\tremaining: 764ms\n",
      "362:\tlearn: 0.1526560\ttotal: 435ms\tremaining: 763ms\n",
      "363:\tlearn: 0.1523306\ttotal: 436ms\tremaining: 761ms\n",
      "364:\tlearn: 0.1522621\ttotal: 437ms\tremaining: 760ms\n",
      "365:\tlearn: 0.1518362\ttotal: 438ms\tremaining: 759ms\n",
      "366:\tlearn: 0.1514634\ttotal: 439ms\tremaining: 758ms\n",
      "367:\tlearn: 0.1510805\ttotal: 441ms\tremaining: 757ms\n",
      "368:\tlearn: 0.1510429\ttotal: 442ms\tremaining: 756ms\n",
      "369:\tlearn: 0.1507247\ttotal: 443ms\tremaining: 754ms\n",
      "370:\tlearn: 0.1504405\ttotal: 444ms\tremaining: 753ms\n",
      "371:\tlearn: 0.1499279\ttotal: 445ms\tremaining: 751ms\n",
      "372:\tlearn: 0.1496383\ttotal: 446ms\tremaining: 750ms\n",
      "373:\tlearn: 0.1492104\ttotal: 447ms\tremaining: 748ms\n",
      "374:\tlearn: 0.1488825\ttotal: 448ms\tremaining: 747ms\n",
      "375:\tlearn: 0.1487660\ttotal: 449ms\tremaining: 745ms\n",
      "376:\tlearn: 0.1483644\ttotal: 450ms\tremaining: 744ms\n",
      "377:\tlearn: 0.1483127\ttotal: 451ms\tremaining: 742ms\n",
      "378:\tlearn: 0.1479928\ttotal: 452ms\tremaining: 741ms\n",
      "379:\tlearn: 0.1476476\ttotal: 453ms\tremaining: 739ms\n",
      "380:\tlearn: 0.1472652\ttotal: 454ms\tremaining: 738ms\n",
      "381:\tlearn: 0.1470367\ttotal: 455ms\tremaining: 737ms\n",
      "382:\tlearn: 0.1468765\ttotal: 456ms\tremaining: 735ms\n",
      "383:\tlearn: 0.1468012\ttotal: 457ms\tremaining: 734ms\n",
      "384:\tlearn: 0.1463738\ttotal: 458ms\tremaining: 732ms\n",
      "385:\tlearn: 0.1460737\ttotal: 459ms\tremaining: 731ms\n",
      "386:\tlearn: 0.1455850\ttotal: 460ms\tremaining: 729ms\n",
      "387:\tlearn: 0.1455206\ttotal: 462ms\tremaining: 728ms\n",
      "388:\tlearn: 0.1453180\ttotal: 463ms\tremaining: 727ms\n",
      "389:\tlearn: 0.1452044\ttotal: 464ms\tremaining: 725ms\n",
      "390:\tlearn: 0.1448746\ttotal: 465ms\tremaining: 724ms\n",
      "391:\tlearn: 0.1444282\ttotal: 466ms\tremaining: 722ms\n",
      "392:\tlearn: 0.1442124\ttotal: 467ms\tremaining: 721ms\n",
      "393:\tlearn: 0.1440446\ttotal: 468ms\tremaining: 719ms\n",
      "394:\tlearn: 0.1436414\ttotal: 468ms\tremaining: 717ms\n",
      "395:\tlearn: 0.1435383\ttotal: 469ms\tremaining: 716ms\n",
      "396:\tlearn: 0.1430805\ttotal: 470ms\tremaining: 715ms\n",
      "397:\tlearn: 0.1427367\ttotal: 472ms\tremaining: 713ms\n",
      "398:\tlearn: 0.1423181\ttotal: 472ms\tremaining: 712ms\n",
      "399:\tlearn: 0.1421364\ttotal: 473ms\tremaining: 710ms\n",
      "400:\tlearn: 0.1417893\ttotal: 474ms\tremaining: 709ms\n",
      "401:\tlearn: 0.1415423\ttotal: 476ms\tremaining: 707ms\n",
      "402:\tlearn: 0.1412336\ttotal: 477ms\tremaining: 706ms\n",
      "403:\tlearn: 0.1409208\ttotal: 478ms\tremaining: 705ms\n",
      "404:\tlearn: 0.1408641\ttotal: 479ms\tremaining: 703ms\n",
      "405:\tlearn: 0.1404221\ttotal: 480ms\tremaining: 702ms\n",
      "406:\tlearn: 0.1402525\ttotal: 481ms\tremaining: 701ms\n",
      "407:\tlearn: 0.1400793\ttotal: 482ms\tremaining: 699ms\n",
      "408:\tlearn: 0.1397223\ttotal: 483ms\tremaining: 698ms\n",
      "409:\tlearn: 0.1393082\ttotal: 484ms\tremaining: 696ms\n",
      "410:\tlearn: 0.1390503\ttotal: 485ms\tremaining: 695ms\n",
      "411:\tlearn: 0.1388981\ttotal: 486ms\tremaining: 693ms\n",
      "412:\tlearn: 0.1388403\ttotal: 487ms\tremaining: 692ms\n",
      "413:\tlearn: 0.1384200\ttotal: 488ms\tremaining: 690ms\n",
      "414:\tlearn: 0.1380103\ttotal: 489ms\tremaining: 689ms\n",
      "415:\tlearn: 0.1376714\ttotal: 490ms\tremaining: 688ms\n",
      "416:\tlearn: 0.1372801\ttotal: 491ms\tremaining: 687ms\n",
      "417:\tlearn: 0.1370212\ttotal: 492ms\tremaining: 685ms\n",
      "418:\tlearn: 0.1367557\ttotal: 493ms\tremaining: 684ms\n",
      "419:\tlearn: 0.1362997\ttotal: 494ms\tremaining: 682ms\n",
      "420:\tlearn: 0.1359378\ttotal: 495ms\tremaining: 681ms\n",
      "421:\tlearn: 0.1356424\ttotal: 496ms\tremaining: 680ms\n",
      "422:\tlearn: 0.1354610\ttotal: 497ms\tremaining: 678ms\n",
      "423:\tlearn: 0.1350454\ttotal: 498ms\tremaining: 677ms\n",
      "424:\tlearn: 0.1350068\ttotal: 499ms\tremaining: 676ms\n",
      "425:\tlearn: 0.1345744\ttotal: 500ms\tremaining: 674ms\n",
      "426:\tlearn: 0.1343872\ttotal: 501ms\tremaining: 673ms\n",
      "427:\tlearn: 0.1340747\ttotal: 502ms\tremaining: 671ms\n",
      "428:\tlearn: 0.1338527\ttotal: 503ms\tremaining: 670ms\n",
      "429:\tlearn: 0.1338017\ttotal: 504ms\tremaining: 669ms\n",
      "430:\tlearn: 0.1336447\ttotal: 505ms\tremaining: 667ms\n",
      "431:\tlearn: 0.1332069\ttotal: 506ms\tremaining: 666ms\n",
      "432:\tlearn: 0.1330471\ttotal: 507ms\tremaining: 664ms\n",
      "433:\tlearn: 0.1327826\ttotal: 509ms\tremaining: 664ms\n",
      "434:\tlearn: 0.1324198\ttotal: 510ms\tremaining: 663ms\n",
      "435:\tlearn: 0.1322315\ttotal: 511ms\tremaining: 661ms\n",
      "436:\tlearn: 0.1319763\ttotal: 512ms\tremaining: 660ms\n",
      "437:\tlearn: 0.1317319\ttotal: 513ms\tremaining: 659ms\n",
      "438:\tlearn: 0.1314420\ttotal: 514ms\tremaining: 657ms\n",
      "439:\tlearn: 0.1311076\ttotal: 515ms\tremaining: 656ms\n",
      "440:\tlearn: 0.1310662\ttotal: 517ms\tremaining: 655ms\n",
      "441:\tlearn: 0.1308947\ttotal: 518ms\tremaining: 653ms\n",
      "442:\tlearn: 0.1306703\ttotal: 519ms\tremaining: 652ms\n",
      "443:\tlearn: 0.1302091\ttotal: 520ms\tremaining: 651ms\n",
      "444:\tlearn: 0.1300437\ttotal: 521ms\tremaining: 650ms\n",
      "445:\tlearn: 0.1298203\ttotal: 522ms\tremaining: 648ms\n",
      "446:\tlearn: 0.1295441\ttotal: 523ms\tremaining: 647ms\n",
      "447:\tlearn: 0.1293374\ttotal: 524ms\tremaining: 646ms\n",
      "448:\tlearn: 0.1291859\ttotal: 525ms\tremaining: 644ms\n",
      "449:\tlearn: 0.1290378\ttotal: 526ms\tremaining: 643ms\n",
      "450:\tlearn: 0.1288870\ttotal: 527ms\tremaining: 642ms\n",
      "451:\tlearn: 0.1287203\ttotal: 528ms\tremaining: 640ms\n",
      "452:\tlearn: 0.1284075\ttotal: 529ms\tremaining: 639ms\n",
      "453:\tlearn: 0.1281362\ttotal: 530ms\tremaining: 638ms\n",
      "454:\tlearn: 0.1278900\ttotal: 531ms\tremaining: 636ms\n",
      "455:\tlearn: 0.1278439\ttotal: 532ms\tremaining: 635ms\n",
      "456:\tlearn: 0.1276823\ttotal: 534ms\tremaining: 634ms\n",
      "457:\tlearn: 0.1273867\ttotal: 535ms\tremaining: 633ms\n",
      "458:\tlearn: 0.1269706\ttotal: 536ms\tremaining: 631ms\n",
      "459:\tlearn: 0.1268289\ttotal: 537ms\tremaining: 630ms\n",
      "460:\tlearn: 0.1265483\ttotal: 538ms\tremaining: 629ms\n",
      "461:\tlearn: 0.1262768\ttotal: 539ms\tremaining: 628ms\n"
     ]
    },
    {
     "name": "stdout",
     "output_type": "stream",
     "text": [
      "462:\tlearn: 0.1259025\ttotal: 540ms\tremaining: 626ms\n",
      "463:\tlearn: 0.1255962\ttotal: 541ms\tremaining: 625ms\n",
      "464:\tlearn: 0.1254491\ttotal: 542ms\tremaining: 624ms\n",
      "465:\tlearn: 0.1250695\ttotal: 543ms\tremaining: 623ms\n",
      "466:\tlearn: 0.1249412\ttotal: 544ms\tremaining: 621ms\n",
      "467:\tlearn: 0.1247870\ttotal: 545ms\tremaining: 620ms\n",
      "468:\tlearn: 0.1244371\ttotal: 546ms\tremaining: 619ms\n",
      "469:\tlearn: 0.1241455\ttotal: 547ms\tremaining: 617ms\n",
      "470:\tlearn: 0.1240088\ttotal: 548ms\tremaining: 616ms\n",
      "471:\tlearn: 0.1236692\ttotal: 550ms\tremaining: 615ms\n",
      "472:\tlearn: 0.1236219\ttotal: 550ms\tremaining: 613ms\n",
      "473:\tlearn: 0.1234282\ttotal: 551ms\tremaining: 612ms\n",
      "474:\tlearn: 0.1231154\ttotal: 552ms\tremaining: 611ms\n",
      "475:\tlearn: 0.1228171\ttotal: 553ms\tremaining: 609ms\n",
      "476:\tlearn: 0.1227609\ttotal: 554ms\tremaining: 608ms\n",
      "477:\tlearn: 0.1224749\ttotal: 555ms\tremaining: 607ms\n",
      "478:\tlearn: 0.1224557\ttotal: 557ms\tremaining: 605ms\n",
      "479:\tlearn: 0.1222133\ttotal: 558ms\tremaining: 604ms\n",
      "480:\tlearn: 0.1218843\ttotal: 559ms\tremaining: 603ms\n",
      "481:\tlearn: 0.1215821\ttotal: 560ms\tremaining: 601ms\n",
      "482:\tlearn: 0.1214384\ttotal: 561ms\tremaining: 600ms\n",
      "483:\tlearn: 0.1212772\ttotal: 562ms\tremaining: 599ms\n",
      "484:\tlearn: 0.1210130\ttotal: 563ms\tremaining: 598ms\n",
      "485:\tlearn: 0.1208315\ttotal: 564ms\tremaining: 596ms\n",
      "486:\tlearn: 0.1206377\ttotal: 565ms\tremaining: 595ms\n",
      "487:\tlearn: 0.1203493\ttotal: 566ms\tremaining: 594ms\n",
      "488:\tlearn: 0.1200710\ttotal: 567ms\tremaining: 592ms\n",
      "489:\tlearn: 0.1199318\ttotal: 568ms\tremaining: 591ms\n",
      "490:\tlearn: 0.1197263\ttotal: 569ms\tremaining: 590ms\n",
      "491:\tlearn: 0.1196170\ttotal: 570ms\tremaining: 589ms\n",
      "492:\tlearn: 0.1192807\ttotal: 571ms\tremaining: 587ms\n",
      "493:\tlearn: 0.1189505\ttotal: 572ms\tremaining: 586ms\n",
      "494:\tlearn: 0.1188087\ttotal: 573ms\tremaining: 585ms\n",
      "495:\tlearn: 0.1184189\ttotal: 574ms\tremaining: 584ms\n",
      "496:\tlearn: 0.1182050\ttotal: 575ms\tremaining: 582ms\n",
      "497:\tlearn: 0.1180837\ttotal: 576ms\tremaining: 581ms\n",
      "498:\tlearn: 0.1179613\ttotal: 577ms\tremaining: 580ms\n",
      "499:\tlearn: 0.1177351\ttotal: 578ms\tremaining: 578ms\n",
      "500:\tlearn: 0.1176144\ttotal: 580ms\tremaining: 577ms\n",
      "501:\tlearn: 0.1173936\ttotal: 581ms\tremaining: 576ms\n",
      "502:\tlearn: 0.1171543\ttotal: 582ms\tremaining: 575ms\n",
      "503:\tlearn: 0.1171141\ttotal: 583ms\tremaining: 573ms\n",
      "504:\tlearn: 0.1168853\ttotal: 584ms\tremaining: 572ms\n",
      "505:\tlearn: 0.1166503\ttotal: 585ms\tremaining: 571ms\n",
      "506:\tlearn: 0.1163607\ttotal: 586ms\tremaining: 570ms\n",
      "507:\tlearn: 0.1162471\ttotal: 587ms\tremaining: 568ms\n",
      "508:\tlearn: 0.1160132\ttotal: 588ms\tremaining: 567ms\n",
      "509:\tlearn: 0.1158148\ttotal: 589ms\tremaining: 566ms\n",
      "510:\tlearn: 0.1157671\ttotal: 590ms\tremaining: 565ms\n",
      "511:\tlearn: 0.1154639\ttotal: 591ms\tremaining: 563ms\n",
      "512:\tlearn: 0.1152675\ttotal: 592ms\tremaining: 562ms\n",
      "513:\tlearn: 0.1151503\ttotal: 593ms\tremaining: 561ms\n",
      "514:\tlearn: 0.1149763\ttotal: 594ms\tremaining: 560ms\n",
      "515:\tlearn: 0.1146498\ttotal: 596ms\tremaining: 559ms\n",
      "516:\tlearn: 0.1143056\ttotal: 597ms\tremaining: 557ms\n",
      "517:\tlearn: 0.1140999\ttotal: 598ms\tremaining: 556ms\n",
      "518:\tlearn: 0.1140494\ttotal: 599ms\tremaining: 555ms\n",
      "519:\tlearn: 0.1138982\ttotal: 600ms\tremaining: 554ms\n",
      "520:\tlearn: 0.1136347\ttotal: 601ms\tremaining: 553ms\n",
      "521:\tlearn: 0.1133687\ttotal: 602ms\tremaining: 551ms\n",
      "522:\tlearn: 0.1130388\ttotal: 603ms\tremaining: 550ms\n",
      "523:\tlearn: 0.1129333\ttotal: 604ms\tremaining: 549ms\n",
      "524:\tlearn: 0.1126290\ttotal: 605ms\tremaining: 547ms\n",
      "525:\tlearn: 0.1123403\ttotal: 606ms\tremaining: 546ms\n",
      "526:\tlearn: 0.1120705\ttotal: 607ms\tremaining: 545ms\n",
      "527:\tlearn: 0.1119644\ttotal: 608ms\tremaining: 544ms\n",
      "528:\tlearn: 0.1118197\ttotal: 609ms\tremaining: 543ms\n",
      "529:\tlearn: 0.1115647\ttotal: 610ms\tremaining: 541ms\n",
      "530:\tlearn: 0.1113795\ttotal: 612ms\tremaining: 540ms\n",
      "531:\tlearn: 0.1111973\ttotal: 613ms\tremaining: 539ms\n",
      "532:\tlearn: 0.1109168\ttotal: 614ms\tremaining: 538ms\n",
      "533:\tlearn: 0.1105776\ttotal: 615ms\tremaining: 537ms\n",
      "534:\tlearn: 0.1102425\ttotal: 616ms\tremaining: 535ms\n",
      "535:\tlearn: 0.1100952\ttotal: 617ms\tremaining: 534ms\n",
      "536:\tlearn: 0.1097418\ttotal: 618ms\tremaining: 533ms\n",
      "537:\tlearn: 0.1094953\ttotal: 619ms\tremaining: 532ms\n",
      "538:\tlearn: 0.1093706\ttotal: 620ms\tremaining: 530ms\n",
      "539:\tlearn: 0.1091640\ttotal: 621ms\tremaining: 529ms\n",
      "540:\tlearn: 0.1088546\ttotal: 622ms\tremaining: 528ms\n",
      "541:\tlearn: 0.1086648\ttotal: 623ms\tremaining: 527ms\n",
      "542:\tlearn: 0.1084696\ttotal: 625ms\tremaining: 526ms\n",
      "543:\tlearn: 0.1081309\ttotal: 626ms\tremaining: 524ms\n",
      "544:\tlearn: 0.1078898\ttotal: 627ms\tremaining: 523ms\n",
      "545:\tlearn: 0.1076186\ttotal: 628ms\tremaining: 522ms\n",
      "546:\tlearn: 0.1073130\ttotal: 629ms\tremaining: 521ms\n",
      "547:\tlearn: 0.1072174\ttotal: 630ms\tremaining: 519ms\n",
      "548:\tlearn: 0.1071757\ttotal: 631ms\tremaining: 518ms\n",
      "549:\tlearn: 0.1069597\ttotal: 632ms\tremaining: 517ms\n",
      "550:\tlearn: 0.1069288\ttotal: 633ms\tremaining: 516ms\n",
      "551:\tlearn: 0.1067514\ttotal: 635ms\tremaining: 515ms\n",
      "552:\tlearn: 0.1066524\ttotal: 636ms\tremaining: 514ms\n",
      "553:\tlearn: 0.1063289\ttotal: 637ms\tremaining: 513ms\n",
      "554:\tlearn: 0.1062161\ttotal: 638ms\tremaining: 512ms\n",
      "555:\tlearn: 0.1059573\ttotal: 639ms\tremaining: 511ms\n",
      "556:\tlearn: 0.1057186\ttotal: 640ms\tremaining: 509ms\n",
      "557:\tlearn: 0.1056881\ttotal: 642ms\tremaining: 508ms\n",
      "558:\tlearn: 0.1056444\ttotal: 643ms\tremaining: 507ms\n",
      "559:\tlearn: 0.1055687\ttotal: 644ms\tremaining: 506ms\n",
      "560:\tlearn: 0.1053191\ttotal: 645ms\tremaining: 505ms\n",
      "561:\tlearn: 0.1050021\ttotal: 646ms\tremaining: 504ms\n",
      "562:\tlearn: 0.1048666\ttotal: 647ms\tremaining: 502ms\n",
      "563:\tlearn: 0.1047642\ttotal: 649ms\tremaining: 502ms\n",
      "564:\tlearn: 0.1046235\ttotal: 650ms\tremaining: 500ms\n",
      "565:\tlearn: 0.1044727\ttotal: 651ms\tremaining: 499ms\n",
      "566:\tlearn: 0.1042478\ttotal: 652ms\tremaining: 498ms\n",
      "567:\tlearn: 0.1041331\ttotal: 653ms\tremaining: 497ms\n",
      "568:\tlearn: 0.1038418\ttotal: 654ms\tremaining: 496ms\n",
      "569:\tlearn: 0.1038042\ttotal: 655ms\tremaining: 494ms\n",
      "570:\tlearn: 0.1037075\ttotal: 656ms\tremaining: 493ms\n",
      "571:\tlearn: 0.1036693\ttotal: 657ms\tremaining: 492ms\n",
      "572:\tlearn: 0.1033929\ttotal: 659ms\tremaining: 491ms\n",
      "573:\tlearn: 0.1031628\ttotal: 660ms\tremaining: 489ms\n",
      "574:\tlearn: 0.1030082\ttotal: 661ms\tremaining: 488ms\n",
      "575:\tlearn: 0.1028748\ttotal: 662ms\tremaining: 487ms\n",
      "576:\tlearn: 0.1026634\ttotal: 663ms\tremaining: 486ms\n",
      "577:\tlearn: 0.1024005\ttotal: 664ms\tremaining: 485ms\n",
      "578:\tlearn: 0.1023708\ttotal: 665ms\tremaining: 484ms\n",
      "579:\tlearn: 0.1023526\ttotal: 666ms\tremaining: 483ms\n",
      "580:\tlearn: 0.1021357\ttotal: 667ms\tremaining: 481ms\n",
      "581:\tlearn: 0.1020491\ttotal: 668ms\tremaining: 480ms\n",
      "582:\tlearn: 0.1018152\ttotal: 670ms\tremaining: 479ms\n"
     ]
    },
    {
     "name": "stdout",
     "output_type": "stream",
     "text": [
      "583:\tlearn: 0.1015259\ttotal: 672ms\tremaining: 478ms\n",
      "584:\tlearn: 0.1011720\ttotal: 673ms\tremaining: 477ms\n",
      "585:\tlearn: 0.1011270\ttotal: 674ms\tremaining: 476ms\n",
      "586:\tlearn: 0.1008777\ttotal: 675ms\tremaining: 475ms\n",
      "587:\tlearn: 0.1007024\ttotal: 676ms\tremaining: 474ms\n",
      "588:\tlearn: 0.1005865\ttotal: 677ms\tremaining: 473ms\n",
      "589:\tlearn: 0.1003648\ttotal: 678ms\tremaining: 471ms\n",
      "590:\tlearn: 0.1002083\ttotal: 679ms\tremaining: 470ms\n",
      "591:\tlearn: 0.0999259\ttotal: 680ms\tremaining: 469ms\n",
      "592:\tlearn: 0.0997584\ttotal: 681ms\tremaining: 468ms\n",
      "593:\tlearn: 0.0995247\ttotal: 683ms\tremaining: 467ms\n",
      "594:\tlearn: 0.0994045\ttotal: 684ms\tremaining: 466ms\n",
      "595:\tlearn: 0.0991710\ttotal: 685ms\tremaining: 465ms\n",
      "596:\tlearn: 0.0990438\ttotal: 686ms\tremaining: 463ms\n",
      "597:\tlearn: 0.0988991\ttotal: 688ms\tremaining: 462ms\n",
      "598:\tlearn: 0.0987359\ttotal: 689ms\tremaining: 461ms\n",
      "599:\tlearn: 0.0984729\ttotal: 690ms\tremaining: 460ms\n",
      "600:\tlearn: 0.0983756\ttotal: 691ms\tremaining: 459ms\n",
      "601:\tlearn: 0.0982813\ttotal: 692ms\tremaining: 458ms\n",
      "602:\tlearn: 0.0981214\ttotal: 693ms\tremaining: 457ms\n",
      "603:\tlearn: 0.0979951\ttotal: 695ms\tremaining: 455ms\n",
      "604:\tlearn: 0.0978511\ttotal: 696ms\tremaining: 454ms\n",
      "605:\tlearn: 0.0976405\ttotal: 697ms\tremaining: 453ms\n",
      "606:\tlearn: 0.0975561\ttotal: 698ms\tremaining: 452ms\n",
      "607:\tlearn: 0.0975263\ttotal: 699ms\tremaining: 451ms\n",
      "608:\tlearn: 0.0973928\ttotal: 700ms\tremaining: 450ms\n",
      "609:\tlearn: 0.0972363\ttotal: 701ms\tremaining: 448ms\n",
      "610:\tlearn: 0.0970360\ttotal: 703ms\tremaining: 447ms\n",
      "611:\tlearn: 0.0967687\ttotal: 704ms\tremaining: 446ms\n",
      "612:\tlearn: 0.0966906\ttotal: 705ms\tremaining: 445ms\n",
      "613:\tlearn: 0.0964060\ttotal: 706ms\tremaining: 444ms\n",
      "614:\tlearn: 0.0961575\ttotal: 707ms\tremaining: 443ms\n",
      "615:\tlearn: 0.0960333\ttotal: 708ms\tremaining: 442ms\n",
      "616:\tlearn: 0.0957911\ttotal: 709ms\tremaining: 440ms\n",
      "617:\tlearn: 0.0956611\ttotal: 711ms\tremaining: 439ms\n",
      "618:\tlearn: 0.0954350\ttotal: 712ms\tremaining: 438ms\n",
      "619:\tlearn: 0.0952280\ttotal: 713ms\tremaining: 437ms\n",
      "620:\tlearn: 0.0950754\ttotal: 714ms\tremaining: 436ms\n",
      "621:\tlearn: 0.0949794\ttotal: 715ms\tremaining: 435ms\n",
      "622:\tlearn: 0.0948116\ttotal: 716ms\tremaining: 433ms\n",
      "623:\tlearn: 0.0947989\ttotal: 717ms\tremaining: 432ms\n",
      "624:\tlearn: 0.0946080\ttotal: 719ms\tremaining: 431ms\n",
      "625:\tlearn: 0.0944953\ttotal: 720ms\tremaining: 430ms\n",
      "626:\tlearn: 0.0943267\ttotal: 721ms\tremaining: 429ms\n",
      "627:\tlearn: 0.0941359\ttotal: 722ms\tremaining: 428ms\n",
      "628:\tlearn: 0.0940220\ttotal: 723ms\tremaining: 427ms\n",
      "629:\tlearn: 0.0938785\ttotal: 724ms\tremaining: 425ms\n",
      "630:\tlearn: 0.0936895\ttotal: 725ms\tremaining: 424ms\n",
      "631:\tlearn: 0.0934365\ttotal: 726ms\tremaining: 423ms\n",
      "632:\tlearn: 0.0932162\ttotal: 727ms\tremaining: 422ms\n",
      "633:\tlearn: 0.0930209\ttotal: 728ms\tremaining: 421ms\n",
      "634:\tlearn: 0.0928775\ttotal: 729ms\tremaining: 419ms\n",
      "635:\tlearn: 0.0926955\ttotal: 731ms\tremaining: 418ms\n",
      "636:\tlearn: 0.0925728\ttotal: 732ms\tremaining: 417ms\n",
      "637:\tlearn: 0.0924346\ttotal: 733ms\tremaining: 416ms\n",
      "638:\tlearn: 0.0922572\ttotal: 734ms\tremaining: 415ms\n",
      "639:\tlearn: 0.0920813\ttotal: 735ms\tremaining: 413ms\n",
      "640:\tlearn: 0.0919144\ttotal: 736ms\tremaining: 412ms\n",
      "641:\tlearn: 0.0916616\ttotal: 737ms\tremaining: 411ms\n",
      "642:\tlearn: 0.0914614\ttotal: 738ms\tremaining: 410ms\n",
      "643:\tlearn: 0.0912356\ttotal: 739ms\tremaining: 409ms\n",
      "644:\tlearn: 0.0911194\ttotal: 740ms\tremaining: 407ms\n",
      "645:\tlearn: 0.0908828\ttotal: 741ms\tremaining: 406ms\n",
      "646:\tlearn: 0.0906650\ttotal: 743ms\tremaining: 405ms\n",
      "647:\tlearn: 0.0905517\ttotal: 744ms\tremaining: 404ms\n",
      "648:\tlearn: 0.0903689\ttotal: 745ms\tremaining: 403ms\n",
      "649:\tlearn: 0.0901810\ttotal: 746ms\tremaining: 402ms\n",
      "650:\tlearn: 0.0899616\ttotal: 747ms\tremaining: 400ms\n",
      "651:\tlearn: 0.0897694\ttotal: 748ms\tremaining: 399ms\n",
      "652:\tlearn: 0.0896659\ttotal: 749ms\tremaining: 398ms\n",
      "653:\tlearn: 0.0894632\ttotal: 750ms\tremaining: 397ms\n",
      "654:\tlearn: 0.0893048\ttotal: 751ms\tremaining: 396ms\n",
      "655:\tlearn: 0.0890284\ttotal: 752ms\tremaining: 394ms\n",
      "656:\tlearn: 0.0890071\ttotal: 753ms\tremaining: 393ms\n",
      "657:\tlearn: 0.0888823\ttotal: 754ms\tremaining: 392ms\n",
      "658:\tlearn: 0.0886942\ttotal: 756ms\tremaining: 391ms\n",
      "659:\tlearn: 0.0885940\ttotal: 757ms\tremaining: 390ms\n",
      "660:\tlearn: 0.0883698\ttotal: 758ms\tremaining: 389ms\n",
      "661:\tlearn: 0.0881995\ttotal: 759ms\tremaining: 387ms\n",
      "662:\tlearn: 0.0880410\ttotal: 760ms\tremaining: 386ms\n",
      "663:\tlearn: 0.0878065\ttotal: 761ms\tremaining: 385ms\n",
      "664:\tlearn: 0.0876855\ttotal: 762ms\tremaining: 384ms\n",
      "665:\tlearn: 0.0875468\ttotal: 763ms\tremaining: 383ms\n",
      "666:\tlearn: 0.0874312\ttotal: 764ms\tremaining: 382ms\n",
      "667:\tlearn: 0.0872158\ttotal: 765ms\tremaining: 380ms\n",
      "668:\tlearn: 0.0870201\ttotal: 766ms\tremaining: 379ms\n",
      "669:\tlearn: 0.0868498\ttotal: 767ms\tremaining: 378ms\n",
      "670:\tlearn: 0.0866433\ttotal: 768ms\tremaining: 377ms\n",
      "671:\tlearn: 0.0865610\ttotal: 770ms\tremaining: 376ms\n",
      "672:\tlearn: 0.0864301\ttotal: 771ms\tremaining: 374ms\n",
      "673:\tlearn: 0.0861859\ttotal: 772ms\tremaining: 373ms\n",
      "674:\tlearn: 0.0860973\ttotal: 773ms\tremaining: 372ms\n",
      "675:\tlearn: 0.0860708\ttotal: 774ms\tremaining: 371ms\n",
      "676:\tlearn: 0.0859819\ttotal: 775ms\tremaining: 370ms\n",
      "677:\tlearn: 0.0857498\ttotal: 776ms\tremaining: 369ms\n",
      "678:\tlearn: 0.0855732\ttotal: 777ms\tremaining: 367ms\n",
      "679:\tlearn: 0.0854579\ttotal: 778ms\tremaining: 366ms\n",
      "680:\tlearn: 0.0852013\ttotal: 780ms\tremaining: 365ms\n",
      "681:\tlearn: 0.0850483\ttotal: 781ms\tremaining: 364ms\n",
      "682:\tlearn: 0.0848989\ttotal: 782ms\tremaining: 363ms\n",
      "683:\tlearn: 0.0847595\ttotal: 783ms\tremaining: 362ms\n",
      "684:\tlearn: 0.0846010\ttotal: 784ms\tremaining: 360ms\n",
      "685:\tlearn: 0.0843489\ttotal: 785ms\tremaining: 359ms\n",
      "686:\tlearn: 0.0842262\ttotal: 786ms\tremaining: 358ms\n",
      "687:\tlearn: 0.0840458\ttotal: 787ms\tremaining: 357ms\n",
      "688:\tlearn: 0.0840190\ttotal: 788ms\tremaining: 356ms\n",
      "689:\tlearn: 0.0837965\ttotal: 789ms\tremaining: 355ms\n",
      "690:\tlearn: 0.0836429\ttotal: 790ms\tremaining: 353ms\n",
      "691:\tlearn: 0.0834743\ttotal: 792ms\tremaining: 352ms\n",
      "692:\tlearn: 0.0833805\ttotal: 793ms\tremaining: 351ms\n",
      "693:\tlearn: 0.0832333\ttotal: 794ms\tremaining: 350ms\n",
      "694:\tlearn: 0.0830689\ttotal: 795ms\tremaining: 349ms\n",
      "695:\tlearn: 0.0828967\ttotal: 796ms\tremaining: 348ms\n",
      "696:\tlearn: 0.0828143\ttotal: 797ms\tremaining: 347ms\n",
      "697:\tlearn: 0.0826247\ttotal: 798ms\tremaining: 345ms\n",
      "698:\tlearn: 0.0823372\ttotal: 799ms\tremaining: 344ms\n",
      "699:\tlearn: 0.0821629\ttotal: 801ms\tremaining: 343ms\n",
      "700:\tlearn: 0.0819146\ttotal: 802ms\tremaining: 342ms\n",
      "701:\tlearn: 0.0818315\ttotal: 803ms\tremaining: 341ms\n"
     ]
    },
    {
     "name": "stdout",
     "output_type": "stream",
     "text": [
      "702:\tlearn: 0.0817000\ttotal: 804ms\tremaining: 340ms\n",
      "703:\tlearn: 0.0814384\ttotal: 805ms\tremaining: 339ms\n",
      "704:\tlearn: 0.0812719\ttotal: 806ms\tremaining: 337ms\n",
      "705:\tlearn: 0.0811803\ttotal: 807ms\tremaining: 336ms\n",
      "706:\tlearn: 0.0810555\ttotal: 808ms\tremaining: 335ms\n",
      "707:\tlearn: 0.0808917\ttotal: 810ms\tremaining: 334ms\n",
      "708:\tlearn: 0.0806920\ttotal: 811ms\tremaining: 333ms\n",
      "709:\tlearn: 0.0804919\ttotal: 812ms\tremaining: 332ms\n",
      "710:\tlearn: 0.0803253\ttotal: 813ms\tremaining: 330ms\n",
      "711:\tlearn: 0.0801404\ttotal: 814ms\tremaining: 329ms\n",
      "712:\tlearn: 0.0800205\ttotal: 815ms\tremaining: 328ms\n",
      "713:\tlearn: 0.0798368\ttotal: 817ms\tremaining: 327ms\n",
      "714:\tlearn: 0.0796747\ttotal: 818ms\tremaining: 326ms\n",
      "715:\tlearn: 0.0795328\ttotal: 819ms\tremaining: 325ms\n",
      "716:\tlearn: 0.0793764\ttotal: 820ms\tremaining: 324ms\n",
      "717:\tlearn: 0.0792387\ttotal: 821ms\tremaining: 322ms\n",
      "718:\tlearn: 0.0791988\ttotal: 822ms\tremaining: 321ms\n",
      "719:\tlearn: 0.0790569\ttotal: 823ms\tremaining: 320ms\n",
      "720:\tlearn: 0.0788801\ttotal: 824ms\tremaining: 319ms\n",
      "721:\tlearn: 0.0786727\ttotal: 826ms\tremaining: 318ms\n",
      "722:\tlearn: 0.0784962\ttotal: 827ms\tremaining: 317ms\n",
      "723:\tlearn: 0.0783380\ttotal: 828ms\tremaining: 316ms\n",
      "724:\tlearn: 0.0781807\ttotal: 829ms\tremaining: 315ms\n",
      "725:\tlearn: 0.0780765\ttotal: 830ms\tremaining: 313ms\n",
      "726:\tlearn: 0.0779304\ttotal: 831ms\tremaining: 312ms\n",
      "727:\tlearn: 0.0778548\ttotal: 833ms\tremaining: 311ms\n",
      "728:\tlearn: 0.0776355\ttotal: 834ms\tremaining: 310ms\n",
      "729:\tlearn: 0.0774918\ttotal: 835ms\tremaining: 309ms\n",
      "730:\tlearn: 0.0773301\ttotal: 836ms\tremaining: 308ms\n",
      "731:\tlearn: 0.0772145\ttotal: 837ms\tremaining: 306ms\n",
      "732:\tlearn: 0.0770866\ttotal: 838ms\tremaining: 305ms\n",
      "733:\tlearn: 0.0769497\ttotal: 839ms\tremaining: 304ms\n",
      "734:\tlearn: 0.0768179\ttotal: 840ms\tremaining: 303ms\n",
      "735:\tlearn: 0.0767913\ttotal: 841ms\tremaining: 302ms\n",
      "736:\tlearn: 0.0766598\ttotal: 842ms\tremaining: 301ms\n",
      "737:\tlearn: 0.0764584\ttotal: 844ms\tremaining: 299ms\n",
      "738:\tlearn: 0.0763211\ttotal: 845ms\tremaining: 298ms\n",
      "739:\tlearn: 0.0761917\ttotal: 846ms\tremaining: 297ms\n",
      "740:\tlearn: 0.0760181\ttotal: 847ms\tremaining: 296ms\n",
      "741:\tlearn: 0.0759319\ttotal: 848ms\tremaining: 295ms\n",
      "742:\tlearn: 0.0757522\ttotal: 849ms\tremaining: 294ms\n",
      "743:\tlearn: 0.0755817\ttotal: 850ms\tremaining: 293ms\n",
      "744:\tlearn: 0.0754922\ttotal: 851ms\tremaining: 291ms\n",
      "745:\tlearn: 0.0753517\ttotal: 852ms\tremaining: 290ms\n",
      "746:\tlearn: 0.0752882\ttotal: 854ms\tremaining: 289ms\n",
      "747:\tlearn: 0.0751638\ttotal: 855ms\tremaining: 288ms\n",
      "748:\tlearn: 0.0750502\ttotal: 856ms\tremaining: 287ms\n",
      "749:\tlearn: 0.0749411\ttotal: 857ms\tremaining: 286ms\n",
      "750:\tlearn: 0.0747690\ttotal: 858ms\tremaining: 285ms\n",
      "751:\tlearn: 0.0746968\ttotal: 859ms\tremaining: 283ms\n",
      "752:\tlearn: 0.0745034\ttotal: 861ms\tremaining: 282ms\n",
      "753:\tlearn: 0.0743527\ttotal: 862ms\tremaining: 281ms\n",
      "754:\tlearn: 0.0742499\ttotal: 863ms\tremaining: 280ms\n",
      "755:\tlearn: 0.0741781\ttotal: 864ms\tremaining: 279ms\n",
      "756:\tlearn: 0.0740773\ttotal: 865ms\tremaining: 278ms\n",
      "757:\tlearn: 0.0739179\ttotal: 867ms\tremaining: 277ms\n",
      "758:\tlearn: 0.0737915\ttotal: 868ms\tremaining: 275ms\n",
      "759:\tlearn: 0.0736680\ttotal: 869ms\tremaining: 274ms\n",
      "760:\tlearn: 0.0736021\ttotal: 870ms\tremaining: 273ms\n",
      "761:\tlearn: 0.0735816\ttotal: 871ms\tremaining: 272ms\n",
      "762:\tlearn: 0.0735125\ttotal: 872ms\tremaining: 271ms\n",
      "763:\tlearn: 0.0733418\ttotal: 873ms\tremaining: 270ms\n",
      "764:\tlearn: 0.0731289\ttotal: 874ms\tremaining: 269ms\n",
      "765:\tlearn: 0.0729706\ttotal: 875ms\tremaining: 267ms\n",
      "766:\tlearn: 0.0728070\ttotal: 877ms\tremaining: 266ms\n",
      "767:\tlearn: 0.0726464\ttotal: 878ms\tremaining: 265ms\n",
      "768:\tlearn: 0.0725378\ttotal: 879ms\tremaining: 264ms\n",
      "769:\tlearn: 0.0724431\ttotal: 880ms\tremaining: 263ms\n",
      "770:\tlearn: 0.0723087\ttotal: 881ms\tremaining: 262ms\n",
      "771:\tlearn: 0.0722040\ttotal: 883ms\tremaining: 261ms\n",
      "772:\tlearn: 0.0720866\ttotal: 884ms\tremaining: 259ms\n",
      "773:\tlearn: 0.0719457\ttotal: 885ms\tremaining: 258ms\n",
      "774:\tlearn: 0.0718808\ttotal: 886ms\tremaining: 257ms\n",
      "775:\tlearn: 0.0718203\ttotal: 887ms\tremaining: 256ms\n",
      "776:\tlearn: 0.0717540\ttotal: 888ms\tremaining: 255ms\n",
      "777:\tlearn: 0.0715801\ttotal: 889ms\tremaining: 254ms\n",
      "778:\tlearn: 0.0714525\ttotal: 890ms\tremaining: 253ms\n",
      "779:\tlearn: 0.0713846\ttotal: 891ms\tremaining: 251ms\n",
      "780:\tlearn: 0.0712564\ttotal: 893ms\tremaining: 250ms\n",
      "781:\tlearn: 0.0711409\ttotal: 894ms\tremaining: 249ms\n",
      "782:\tlearn: 0.0710442\ttotal: 895ms\tremaining: 248ms\n",
      "783:\tlearn: 0.0709699\ttotal: 896ms\tremaining: 247ms\n",
      "784:\tlearn: 0.0709071\ttotal: 897ms\tremaining: 246ms\n",
      "785:\tlearn: 0.0707997\ttotal: 898ms\tremaining: 244ms\n",
      "786:\tlearn: 0.0707419\ttotal: 899ms\tremaining: 243ms\n",
      "787:\tlearn: 0.0706115\ttotal: 900ms\tremaining: 242ms\n",
      "788:\tlearn: 0.0705185\ttotal: 901ms\tremaining: 241ms\n",
      "789:\tlearn: 0.0703562\ttotal: 902ms\tremaining: 240ms\n",
      "790:\tlearn: 0.0702053\ttotal: 903ms\tremaining: 239ms\n",
      "791:\tlearn: 0.0700647\ttotal: 904ms\tremaining: 237ms\n",
      "792:\tlearn: 0.0699776\ttotal: 905ms\tremaining: 236ms\n",
      "793:\tlearn: 0.0698590\ttotal: 906ms\tremaining: 235ms\n",
      "794:\tlearn: 0.0697638\ttotal: 907ms\tremaining: 234ms\n",
      "795:\tlearn: 0.0695042\ttotal: 908ms\tremaining: 233ms\n",
      "796:\tlearn: 0.0693709\ttotal: 909ms\tremaining: 232ms\n",
      "797:\tlearn: 0.0692288\ttotal: 910ms\tremaining: 230ms\n",
      "798:\tlearn: 0.0690845\ttotal: 911ms\tremaining: 229ms\n",
      "799:\tlearn: 0.0689846\ttotal: 912ms\tremaining: 228ms\n",
      "800:\tlearn: 0.0688909\ttotal: 913ms\tremaining: 227ms\n",
      "801:\tlearn: 0.0687664\ttotal: 915ms\tremaining: 226ms\n",
      "802:\tlearn: 0.0686710\ttotal: 916ms\tremaining: 225ms\n",
      "803:\tlearn: 0.0686208\ttotal: 917ms\tremaining: 224ms\n",
      "804:\tlearn: 0.0685206\ttotal: 918ms\tremaining: 222ms\n",
      "805:\tlearn: 0.0684528\ttotal: 919ms\tremaining: 221ms\n",
      "806:\tlearn: 0.0683350\ttotal: 920ms\tremaining: 220ms\n",
      "807:\tlearn: 0.0681710\ttotal: 921ms\tremaining: 219ms\n",
      "808:\tlearn: 0.0681576\ttotal: 922ms\tremaining: 218ms\n",
      "809:\tlearn: 0.0680266\ttotal: 923ms\tremaining: 217ms\n",
      "810:\tlearn: 0.0678643\ttotal: 924ms\tremaining: 215ms\n",
      "811:\tlearn: 0.0677624\ttotal: 926ms\tremaining: 214ms\n",
      "812:\tlearn: 0.0676745\ttotal: 927ms\tremaining: 213ms\n",
      "813:\tlearn: 0.0675687\ttotal: 928ms\tremaining: 212ms\n",
      "814:\tlearn: 0.0674956\ttotal: 929ms\tremaining: 211ms\n",
      "815:\tlearn: 0.0674197\ttotal: 930ms\tremaining: 210ms\n",
      "816:\tlearn: 0.0673948\ttotal: 931ms\tremaining: 208ms\n",
      "817:\tlearn: 0.0673509\ttotal: 932ms\tremaining: 207ms\n"
     ]
    },
    {
     "name": "stdout",
     "output_type": "stream",
     "text": [
      "818:\tlearn: 0.0672166\ttotal: 933ms\tremaining: 206ms\n",
      "819:\tlearn: 0.0670869\ttotal: 934ms\tremaining: 205ms\n",
      "820:\tlearn: 0.0669294\ttotal: 935ms\tremaining: 204ms\n",
      "821:\tlearn: 0.0668671\ttotal: 936ms\tremaining: 203ms\n",
      "822:\tlearn: 0.0667990\ttotal: 937ms\tremaining: 202ms\n",
      "823:\tlearn: 0.0666851\ttotal: 939ms\tremaining: 200ms\n",
      "824:\tlearn: 0.0665781\ttotal: 940ms\tremaining: 199ms\n",
      "825:\tlearn: 0.0665193\ttotal: 942ms\tremaining: 198ms\n",
      "826:\tlearn: 0.0664032\ttotal: 943ms\tremaining: 197ms\n",
      "827:\tlearn: 0.0663212\ttotal: 944ms\tremaining: 196ms\n",
      "828:\tlearn: 0.0662019\ttotal: 945ms\tremaining: 195ms\n",
      "829:\tlearn: 0.0661332\ttotal: 947ms\tremaining: 194ms\n",
      "830:\tlearn: 0.0659831\ttotal: 948ms\tremaining: 193ms\n",
      "831:\tlearn: 0.0658636\ttotal: 949ms\tremaining: 192ms\n",
      "832:\tlearn: 0.0657648\ttotal: 950ms\tremaining: 190ms\n",
      "833:\tlearn: 0.0656841\ttotal: 951ms\tremaining: 189ms\n",
      "834:\tlearn: 0.0656160\ttotal: 952ms\tremaining: 188ms\n",
      "835:\tlearn: 0.0654785\ttotal: 953ms\tremaining: 187ms\n",
      "836:\tlearn: 0.0654527\ttotal: 954ms\tremaining: 186ms\n",
      "837:\tlearn: 0.0653112\ttotal: 955ms\tremaining: 185ms\n",
      "838:\tlearn: 0.0651853\ttotal: 956ms\tremaining: 184ms\n",
      "839:\tlearn: 0.0650967\ttotal: 957ms\tremaining: 182ms\n",
      "840:\tlearn: 0.0650492\ttotal: 959ms\tremaining: 181ms\n",
      "841:\tlearn: 0.0648875\ttotal: 960ms\tremaining: 180ms\n",
      "842:\tlearn: 0.0648192\ttotal: 961ms\tremaining: 179ms\n",
      "843:\tlearn: 0.0647526\ttotal: 962ms\tremaining: 178ms\n",
      "844:\tlearn: 0.0646704\ttotal: 963ms\tremaining: 177ms\n",
      "845:\tlearn: 0.0646251\ttotal: 964ms\tremaining: 175ms\n",
      "846:\tlearn: 0.0645257\ttotal: 965ms\tremaining: 174ms\n",
      "847:\tlearn: 0.0644574\ttotal: 966ms\tremaining: 173ms\n",
      "848:\tlearn: 0.0643449\ttotal: 967ms\tremaining: 172ms\n",
      "849:\tlearn: 0.0642513\ttotal: 968ms\tremaining: 171ms\n",
      "850:\tlearn: 0.0641514\ttotal: 969ms\tremaining: 170ms\n",
      "851:\tlearn: 0.0640519\ttotal: 970ms\tremaining: 169ms\n",
      "852:\tlearn: 0.0639624\ttotal: 971ms\tremaining: 167ms\n",
      "853:\tlearn: 0.0639375\ttotal: 972ms\tremaining: 166ms\n",
      "854:\tlearn: 0.0638786\ttotal: 974ms\tremaining: 165ms\n",
      "855:\tlearn: 0.0637508\ttotal: 975ms\tremaining: 164ms\n",
      "856:\tlearn: 0.0637016\ttotal: 976ms\tremaining: 163ms\n",
      "857:\tlearn: 0.0635983\ttotal: 977ms\tremaining: 162ms\n",
      "858:\tlearn: 0.0635751\ttotal: 978ms\tremaining: 161ms\n",
      "859:\tlearn: 0.0634825\ttotal: 979ms\tremaining: 159ms\n",
      "860:\tlearn: 0.0634436\ttotal: 980ms\tremaining: 158ms\n",
      "861:\tlearn: 0.0632903\ttotal: 981ms\tremaining: 157ms\n",
      "862:\tlearn: 0.0631368\ttotal: 982ms\tremaining: 156ms\n",
      "863:\tlearn: 0.0630118\ttotal: 983ms\tremaining: 155ms\n",
      "864:\tlearn: 0.0628791\ttotal: 984ms\tremaining: 154ms\n",
      "865:\tlearn: 0.0627387\ttotal: 985ms\tremaining: 152ms\n",
      "866:\tlearn: 0.0626068\ttotal: 986ms\tremaining: 151ms\n",
      "867:\tlearn: 0.0625506\ttotal: 987ms\tremaining: 150ms\n",
      "868:\tlearn: 0.0624267\ttotal: 988ms\tremaining: 149ms\n",
      "869:\tlearn: 0.0623693\ttotal: 989ms\tremaining: 148ms\n",
      "870:\tlearn: 0.0623499\ttotal: 990ms\tremaining: 147ms\n",
      "871:\tlearn: 0.0622235\ttotal: 991ms\tremaining: 146ms\n",
      "872:\tlearn: 0.0621040\ttotal: 992ms\tremaining: 144ms\n",
      "873:\tlearn: 0.0620232\ttotal: 993ms\tremaining: 143ms\n",
      "874:\tlearn: 0.0619208\ttotal: 994ms\tremaining: 142ms\n",
      "875:\tlearn: 0.0618217\ttotal: 995ms\tremaining: 141ms\n",
      "876:\tlearn: 0.0617364\ttotal: 996ms\tremaining: 140ms\n",
      "877:\tlearn: 0.0616128\ttotal: 997ms\tremaining: 139ms\n",
      "878:\tlearn: 0.0615300\ttotal: 998ms\tremaining: 137ms\n",
      "879:\tlearn: 0.0614778\ttotal: 999ms\tremaining: 136ms\n",
      "880:\tlearn: 0.0614170\ttotal: 1s\tremaining: 135ms\n",
      "881:\tlearn: 0.0613463\ttotal: 1s\tremaining: 134ms\n",
      "882:\tlearn: 0.0612971\ttotal: 1s\tremaining: 133ms\n",
      "883:\tlearn: 0.0611438\ttotal: 1s\tremaining: 132ms\n",
      "884:\tlearn: 0.0610246\ttotal: 1s\tremaining: 131ms\n",
      "885:\tlearn: 0.0608865\ttotal: 1s\tremaining: 129ms\n",
      "886:\tlearn: 0.0608170\ttotal: 1.01s\tremaining: 128ms\n",
      "887:\tlearn: 0.0606460\ttotal: 1.01s\tremaining: 127ms\n",
      "888:\tlearn: 0.0605558\ttotal: 1.01s\tremaining: 126ms\n",
      "889:\tlearn: 0.0604631\ttotal: 1.01s\tremaining: 125ms\n",
      "890:\tlearn: 0.0604106\ttotal: 1.01s\tremaining: 124ms\n",
      "891:\tlearn: 0.0603065\ttotal: 1.01s\tremaining: 123ms\n",
      "892:\tlearn: 0.0601557\ttotal: 1.01s\tremaining: 121ms\n",
      "893:\tlearn: 0.0600943\ttotal: 1.01s\tremaining: 120ms\n",
      "894:\tlearn: 0.0600240\ttotal: 1.01s\tremaining: 119ms\n",
      "895:\tlearn: 0.0598732\ttotal: 1.02s\tremaining: 118ms\n",
      "896:\tlearn: 0.0598303\ttotal: 1.02s\tremaining: 117ms\n",
      "897:\tlearn: 0.0597600\ttotal: 1.02s\tremaining: 116ms\n",
      "898:\tlearn: 0.0596823\ttotal: 1.02s\tremaining: 115ms\n",
      "899:\tlearn: 0.0596671\ttotal: 1.02s\tremaining: 113ms\n",
      "900:\tlearn: 0.0595307\ttotal: 1.02s\tremaining: 112ms\n",
      "901:\tlearn: 0.0594475\ttotal: 1.02s\tremaining: 111ms\n",
      "902:\tlearn: 0.0594007\ttotal: 1.02s\tremaining: 110ms\n",
      "903:\tlearn: 0.0593269\ttotal: 1.02s\tremaining: 109ms\n",
      "904:\tlearn: 0.0593071\ttotal: 1.02s\tremaining: 108ms\n",
      "905:\tlearn: 0.0591490\ttotal: 1.03s\tremaining: 107ms\n",
      "906:\tlearn: 0.0590449\ttotal: 1.03s\tremaining: 105ms\n",
      "907:\tlearn: 0.0589709\ttotal: 1.03s\tremaining: 104ms\n",
      "908:\tlearn: 0.0588894\ttotal: 1.03s\tremaining: 103ms\n",
      "909:\tlearn: 0.0587413\ttotal: 1.03s\tremaining: 102ms\n",
      "910:\tlearn: 0.0586726\ttotal: 1.03s\tremaining: 101ms\n",
      "911:\tlearn: 0.0586228\ttotal: 1.03s\tremaining: 99.7ms\n",
      "912:\tlearn: 0.0585188\ttotal: 1.03s\tremaining: 98.5ms\n",
      "913:\tlearn: 0.0584124\ttotal: 1.03s\tremaining: 97.4ms\n",
      "914:\tlearn: 0.0583800\ttotal: 1.04s\tremaining: 96.3ms\n",
      "915:\tlearn: 0.0583055\ttotal: 1.04s\tremaining: 95.1ms\n",
      "916:\tlearn: 0.0582171\ttotal: 1.04s\tremaining: 94ms\n",
      "917:\tlearn: 0.0580785\ttotal: 1.04s\tremaining: 92.9ms\n",
      "918:\tlearn: 0.0579883\ttotal: 1.04s\tremaining: 91.7ms\n",
      "919:\tlearn: 0.0578656\ttotal: 1.04s\tremaining: 90.6ms\n",
      "920:\tlearn: 0.0577755\ttotal: 1.04s\tremaining: 89.5ms\n",
      "921:\tlearn: 0.0577553\ttotal: 1.04s\tremaining: 88.3ms\n",
      "922:\tlearn: 0.0576884\ttotal: 1.04s\tremaining: 87.2ms\n",
      "923:\tlearn: 0.0576688\ttotal: 1.05s\tremaining: 86.1ms\n",
      "924:\tlearn: 0.0575984\ttotal: 1.05s\tremaining: 84.9ms\n",
      "925:\tlearn: 0.0575845\ttotal: 1.05s\tremaining: 83.8ms\n",
      "926:\tlearn: 0.0575488\ttotal: 1.05s\tremaining: 82.6ms\n",
      "927:\tlearn: 0.0574573\ttotal: 1.05s\tremaining: 81.5ms\n",
      "928:\tlearn: 0.0573401\ttotal: 1.05s\tremaining: 80.4ms\n",
      "929:\tlearn: 0.0573015\ttotal: 1.05s\tremaining: 79.2ms\n",
      "930:\tlearn: 0.0572788\ttotal: 1.05s\tremaining: 78.1ms\n",
      "931:\tlearn: 0.0570887\ttotal: 1.05s\tremaining: 77ms\n",
      "932:\tlearn: 0.0569529\ttotal: 1.05s\tremaining: 75.8ms\n",
      "933:\tlearn: 0.0568561\ttotal: 1.06s\tremaining: 74.7ms\n",
      "934:\tlearn: 0.0567893\ttotal: 1.06s\tremaining: 73.6ms\n",
      "935:\tlearn: 0.0567013\ttotal: 1.06s\tremaining: 72.4ms\n",
      "936:\tlearn: 0.0566274\ttotal: 1.06s\tremaining: 71.3ms\n",
      "937:\tlearn: 0.0565956\ttotal: 1.06s\tremaining: 70.2ms\n",
      "938:\tlearn: 0.0565156\ttotal: 1.06s\tremaining: 69ms\n",
      "939:\tlearn: 0.0564297\ttotal: 1.06s\tremaining: 67.9ms\n",
      "940:\tlearn: 0.0563749\ttotal: 1.06s\tremaining: 66.8ms\n"
     ]
    },
    {
     "name": "stdout",
     "output_type": "stream",
     "text": [
      "941:\tlearn: 0.0562869\ttotal: 1.06s\tremaining: 65.6ms\n",
      "942:\tlearn: 0.0561973\ttotal: 1.07s\tremaining: 64.5ms\n",
      "943:\tlearn: 0.0561290\ttotal: 1.07s\tremaining: 63.4ms\n",
      "944:\tlearn: 0.0560335\ttotal: 1.07s\tremaining: 62.2ms\n",
      "945:\tlearn: 0.0559110\ttotal: 1.07s\tremaining: 61.1ms\n",
      "946:\tlearn: 0.0558043\ttotal: 1.07s\tremaining: 60ms\n",
      "947:\tlearn: 0.0557350\ttotal: 1.07s\tremaining: 58.8ms\n",
      "948:\tlearn: 0.0556282\ttotal: 1.07s\tremaining: 57.7ms\n",
      "949:\tlearn: 0.0555909\ttotal: 1.07s\tremaining: 56.6ms\n",
      "950:\tlearn: 0.0555558\ttotal: 1.08s\tremaining: 55.4ms\n",
      "951:\tlearn: 0.0555271\ttotal: 1.08s\tremaining: 54.3ms\n",
      "952:\tlearn: 0.0554096\ttotal: 1.08s\tremaining: 53.2ms\n",
      "953:\tlearn: 0.0552918\ttotal: 1.08s\tremaining: 52.1ms\n",
      "954:\tlearn: 0.0552268\ttotal: 1.08s\tremaining: 50.9ms\n",
      "955:\tlearn: 0.0551703\ttotal: 1.08s\tremaining: 49.8ms\n",
      "956:\tlearn: 0.0551248\ttotal: 1.08s\tremaining: 48.6ms\n",
      "957:\tlearn: 0.0550713\ttotal: 1.08s\tremaining: 47.5ms\n",
      "958:\tlearn: 0.0549935\ttotal: 1.08s\tremaining: 46.4ms\n",
      "959:\tlearn: 0.0548810\ttotal: 1.08s\tremaining: 45.2ms\n",
      "960:\tlearn: 0.0547739\ttotal: 1.09s\tremaining: 44.1ms\n",
      "961:\tlearn: 0.0547152\ttotal: 1.09s\tremaining: 43ms\n",
      "962:\tlearn: 0.0545579\ttotal: 1.09s\tremaining: 41.8ms\n",
      "963:\tlearn: 0.0544831\ttotal: 1.09s\tremaining: 40.7ms\n",
      "964:\tlearn: 0.0543940\ttotal: 1.09s\tremaining: 39.6ms\n",
      "965:\tlearn: 0.0542998\ttotal: 1.09s\tremaining: 38.5ms\n",
      "966:\tlearn: 0.0542306\ttotal: 1.09s\tremaining: 37.3ms\n",
      "967:\tlearn: 0.0541914\ttotal: 1.09s\tremaining: 36.2ms\n",
      "968:\tlearn: 0.0541740\ttotal: 1.09s\tremaining: 35.1ms\n",
      "969:\tlearn: 0.0540817\ttotal: 1.1s\tremaining: 33.9ms\n",
      "970:\tlearn: 0.0540300\ttotal: 1.1s\tremaining: 32.8ms\n",
      "971:\tlearn: 0.0540125\ttotal: 1.1s\tremaining: 31.7ms\n",
      "972:\tlearn: 0.0539459\ttotal: 1.1s\tremaining: 30.5ms\n",
      "973:\tlearn: 0.0538817\ttotal: 1.1s\tremaining: 29.4ms\n",
      "974:\tlearn: 0.0538507\ttotal: 1.1s\tremaining: 28.3ms\n",
      "975:\tlearn: 0.0538332\ttotal: 1.1s\tremaining: 27.1ms\n",
      "976:\tlearn: 0.0537279\ttotal: 1.1s\tremaining: 26ms\n",
      "977:\tlearn: 0.0536416\ttotal: 1.1s\tremaining: 24.9ms\n",
      "978:\tlearn: 0.0535227\ttotal: 1.11s\tremaining: 23.7ms\n",
      "979:\tlearn: 0.0534651\ttotal: 1.11s\tremaining: 22.6ms\n",
      "980:\tlearn: 0.0533762\ttotal: 1.11s\tremaining: 21.5ms\n",
      "981:\tlearn: 0.0532597\ttotal: 1.11s\tremaining: 20.4ms\n",
      "982:\tlearn: 0.0532499\ttotal: 1.11s\tremaining: 19.2ms\n",
      "983:\tlearn: 0.0531923\ttotal: 1.11s\tremaining: 18.1ms\n",
      "984:\tlearn: 0.0530892\ttotal: 1.11s\tremaining: 17ms\n",
      "985:\tlearn: 0.0530048\ttotal: 1.11s\tremaining: 15.8ms\n",
      "986:\tlearn: 0.0528546\ttotal: 1.12s\tremaining: 14.7ms\n",
      "987:\tlearn: 0.0528212\ttotal: 1.12s\tremaining: 13.6ms\n",
      "988:\tlearn: 0.0527655\ttotal: 1.12s\tremaining: 12.4ms\n",
      "989:\tlearn: 0.0526355\ttotal: 1.12s\tremaining: 11.3ms\n",
      "990:\tlearn: 0.0525930\ttotal: 1.12s\tremaining: 10.2ms\n",
      "991:\tlearn: 0.0525383\ttotal: 1.12s\tremaining: 9.04ms\n",
      "992:\tlearn: 0.0524963\ttotal: 1.12s\tremaining: 7.91ms\n",
      "993:\tlearn: 0.0524055\ttotal: 1.12s\tremaining: 6.78ms\n",
      "994:\tlearn: 0.0523445\ttotal: 1.12s\tremaining: 5.65ms\n",
      "995:\tlearn: 0.0522279\ttotal: 1.13s\tremaining: 4.52ms\n",
      "996:\tlearn: 0.0521711\ttotal: 1.13s\tremaining: 3.39ms\n",
      "997:\tlearn: 0.0521550\ttotal: 1.13s\tremaining: 2.26ms\n",
      "998:\tlearn: 0.0521243\ttotal: 1.13s\tremaining: 1.13ms\n",
      "999:\tlearn: 0.0520919\ttotal: 1.13s\tremaining: 0us\n"
     ]
    },
    {
     "data": {
      "text/plain": [
       "<catboost.core.CatBoostRegressor at 0x7f7e3b8d5710>"
      ]
     },
     "execution_count": 9,
     "metadata": {},
     "output_type": "execute_result"
    }
   ],
   "source": [
    "#Train the Model \n",
    "prior_model = ctb.CatBoostRegressor()\n",
    "prior_model.fit(X_train,Y_train)"
   ]
  },
  {
   "cell_type": "code",
   "execution_count": 10,
   "id": "c775fd81",
   "metadata": {
    "execution": {
     "iopub.execute_input": "2022-01-14T13:17:03.635318Z",
     "iopub.status.busy": "2022-01-14T13:17:03.634535Z",
     "iopub.status.idle": "2022-01-14T13:17:03.648294Z",
     "shell.execute_reply": "2022-01-14T13:17:03.647847Z"
    },
    "papermill": {
     "duration": 0.071078,
     "end_time": "2022-01-14T13:17:03.648440",
     "exception": false,
     "start_time": "2022-01-14T13:17:03.577362",
     "status": "completed"
    },
    "tags": []
   },
   "outputs": [
    {
     "data": {
      "application/scrapbook.scrap.json+json": {
       "data": 0.09539108474740322,
       "encoder": "json",
       "name": "Prior Model MSE",
       "version": 1
      }
     },
     "metadata": {
      "scrapbook": {
       "data": true,
       "display": false,
       "name": "Prior Model MSE"
      }
     },
     "output_type": "display_data"
    },
    {
     "data": {
      "application/scrapbook.scrap.json+json": {
       "data": 0.10172218834947193,
       "encoder": "json",
       "name": "ABC Pre-generator MSE",
       "version": 1
      }
     },
     "metadata": {
      "scrapbook": {
       "data": true,
       "display": false,
       "name": "ABC Pre-generator MSE"
      }
     },
     "output_type": "display_data"
    }
   ],
   "source": [
    "y_pred = prior_model.predict(X_test)\n",
    "y_abc = y_pred + np.random.normal(0,variance, y_pred.shape)\n",
    "mse = mean_squared_error(y_pred,Y_test)\n",
    "sb.glue(\"Prior Model MSE\",mse)\n",
    "mse = mean_squared_error(y_abc,Y_test)\n",
    "sb.glue(\"ABC Pre-generator MSE\",mse)"
   ]
  },
  {
   "cell_type": "markdown",
   "id": "0cd0def6",
   "metadata": {
    "papermill": {
     "duration": 0.030295,
     "end_time": "2022-01-14T13:17:03.709459",
     "exception": false,
     "start_time": "2022-01-14T13:17:03.679164",
     "status": "completed"
    },
    "tags": []
   },
   "source": [
    "# ABC GAN Model"
   ]
  },
  {
   "cell_type": "markdown",
   "id": "70beaf4c",
   "metadata": {
    "papermill": {
     "duration": 0.029826,
     "end_time": "2022-01-14T13:17:03.769062",
     "exception": false,
     "start_time": "2022-01-14T13:17:03.739236",
     "status": "completed"
    },
    "tags": []
   },
   "source": [
    "### Training the network\n",
    "**Training ABC-GAN for n_epochs number of epochs** "
   ]
  },
  {
   "cell_type": "code",
   "execution_count": 11,
   "id": "dbaaafa1",
   "metadata": {
    "execution": {
     "iopub.execute_input": "2022-01-14T13:17:03.836851Z",
     "iopub.status.busy": "2022-01-14T13:17:03.836215Z",
     "iopub.status.idle": "2022-01-14T13:17:06.882623Z",
     "shell.execute_reply": "2022-01-14T13:17:06.882059Z"
    },
    "papermill": {
     "duration": 3.082606,
     "end_time": "2022-01-14T13:17:06.882764",
     "exception": false,
     "start_time": "2022-01-14T13:17:03.800158",
     "status": "completed"
    },
    "tags": []
   },
   "outputs": [],
   "source": [
    "gen = network.Generator(n_features+1).to(device)\n",
    "disc = network.Discriminator(n_features+1).to(device)\n",
    "\n",
    "criterion = torch.nn.BCELoss()\n",
    "gen_opt = torch.optim.Adam(gen.parameters(), lr=0.001, betas=(0.5, 0.999))\n",
    "disc_opt = torch.optim.Adam(disc.parameters(), lr=0.01, betas=(0.5, 0.999))"
   ]
  },
  {
   "cell_type": "code",
   "execution_count": 12,
   "id": "6e9eeab8",
   "metadata": {
    "execution": {
     "iopub.execute_input": "2022-01-14T13:17:06.948890Z",
     "iopub.status.busy": "2022-01-14T13:17:06.948289Z",
     "iopub.status.idle": "2022-01-14T13:22:35.183069Z",
     "shell.execute_reply": "2022-01-14T13:22:35.183679Z"
    },
    "papermill": {
     "duration": 328.268799,
     "end_time": "2022-01-14T13:22:35.183916",
     "exception": false,
     "start_time": "2022-01-14T13:17:06.915117",
     "status": "completed"
    },
    "tags": []
   },
   "outputs": [
    {
     "data": {
      "image/png": "[encoded data removed]",
      "text/plain": [
       "<Figure size 432x288 with 1 Axes>"
      ]
     },
     "metadata": {
      "needs_background": "light"
     },
     "output_type": "display_data"
    },
    {
     "data": {
      "image/png": "[encoded data removed]",
      "text/plain": [
       "<Figure size 432x288 with 1 Axes>"
      ]
     },
     "metadata": {
      "needs_background": "light"
     },
     "output_type": "display_data"
    }
   ],
   "source": [
    "#Training the ABC_GAN \n",
    "ABC_train_test2.training_GAN(disc,gen,disc_opt,gen_opt,train_data,batch_size,n_epochs,criterion,prior_model,variance,device)"
   ]
  },
  {
   "cell_type": "code",
   "execution_count": 13,
   "id": "11c3082e",
   "metadata": {
    "execution": {
     "iopub.execute_input": "2022-01-14T13:22:35.260497Z",
     "iopub.status.busy": "2022-01-14T13:22:35.259782Z",
     "iopub.status.idle": "2022-01-14T13:22:35.695039Z",
     "shell.execute_reply": "2022-01-14T13:22:35.694437Z"
    },
    "papermill": {
     "duration": 0.475845,
     "end_time": "2022-01-14T13:22:35.695176",
     "exception": false,
     "start_time": "2022-01-14T13:22:35.219331",
     "status": "completed"
    },
    "tags": []
   },
   "outputs": [
    {
     "data": {
      "application/scrapbook.scrap.json+json": {
       "data": 1794.206268824209,
       "encoder": "json",
       "name": "ABC-GAN Model 1 MSE",
       "version": 1
      }
     },
     "metadata": {
      "scrapbook": {
       "data": true,
       "display": false,
       "name": "ABC-GAN Model 1 MSE"
      }
     },
     "output_type": "display_data"
    },
    {
     "data": {
      "application/scrapbook.scrap.json+json": {
       "data": 40.630933040923566,
       "encoder": "json",
       "name": "ABC-GAN Model 1 MAE",
       "version": 1
      }
     },
     "metadata": {
      "scrapbook": {
       "data": true,
       "display": false,
       "name": "ABC-GAN Model 1 MAE"
      }
     },
     "output_type": "display_data"
    },
    {
     "data": {
      "application/scrapbook.scrap.json+json": {
       "data": 4144.3551701742035,
       "encoder": "json",
       "name": "ABC-GAN Model 1 Manhattan Distance",
       "version": 1
      }
     },
     "metadata": {
      "scrapbook": {
       "data": true,
       "display": false,
       "name": "ABC-GAN Model 1 Manhattan Distance"
      }
     },
     "output_type": "display_data"
    },
    {
     "data": {
      "application/scrapbook.scrap.json+json": {
       "data": 427.7939730534375,
       "encoder": "json",
       "name": "ABC-GAN Model 1 Euclidean distance",
       "version": 1
      }
     },
     "metadata": {
      "scrapbook": {
       "data": true,
       "display": false,
       "name": "ABC-GAN Model 1 Euclidean distance"
      }
     },
     "output_type": "display_data"
    },
    {
     "data": {
      "application/scrapbook.scrap.json+json": {
       "data": [
        [
         1788.6669283513336,
         1789.9167125553265,
         1796.4776326185306,
         1793.3200941435955,
         1796.990958664748,
         1794.6318929869994,
         1805.8959213945404,
         1768.8860130219991,
         1795.655099959903,
         1776.5677407488322,
         1793.1427916494647,
         1806.2880306715326,
         1783.7578074528174,
         1783.618992306486,
         1801.279222965835,
         1804.023186986451,
         1795.9730301613913,
         1780.441417883297,
         1791.1111013590382,
         1773.0789579851664,
         1806.252584581545,
         1800.6735987525626,
         1780.418712423558,
         1786.4488250220343,
         1779.5676917822655,
         1799.3558375140956,
         1789.9841702282545,
         1774.476454072944,
         1799.849921425136,
         1803.0920943952613,
         1816.6335945867886,
         1801.4311657029184,
         1787.7629584510319,
         1793.0376014389658,
         1781.1723089154132,
         1793.0129036634194,
         1796.359495798342,
         1810.8467521242017,
         1790.9739957421045,
         1795.1226694753968,
         1788.838147431352,
         1796.4239214519262,
         1788.404650630465,
         1795.201271647333,
         1797.9825837540234,
         1788.3608112470956,
         1800.503488698156,
         1800.989344574659,
         1791.3947328966933,
         1782.773095798009,
         1793.639719729327,
         1790.65188122498,
         1798.9458409149997,
         1783.8646179973503,
         1805.7993892250365,
         1803.9970626011864,
         1806.2161694441509,
         1783.0660934856737,
         1807.563461014544,
         1781.6219284075576,
         1788.6576602528323,
         1803.9621522728762,
         1789.3103665948336,
         1792.1222183918803,
         1802.4911319556013,
         1796.7356127814012,
         1803.429555536149,
         1803.990667067404,
         1796.6957668380346,
         1808.491090938424,
         1792.743222939421,
         1803.4452356037386,
         1797.299718691407,
         1795.1386881016574,
         1794.2004899043234,
         1800.2073487622044,
         1798.16181173532,
         1800.3017046497935,
         1796.951248534001,
         1790.7706084797865,
         1799.1232053978304,
         1787.1159132563678,
         1809.0270314359298,
         1810.9216442251181,
         1789.2202496573584,
         1801.4658652384687,
         1789.001148965483,
         1797.648500964453,
         1798.5512557482252,
         1780.257923594574,
         1815.1562297706214,
         1794.0988768724412,
         1782.0826945515798,
         1788.1427674402426,
         1772.898245048849,
         1783.8634764672759,
         1812.0609065272602,
         1800.5044470571675,
         1777.8683117080768,
         1784.0768063244445
        ],
        [
         40.637842730920326,
         40.57685798851262,
         40.64570341952255,
         40.58810554860233,
         40.63157789473988,
         40.61720798623876,
         40.73565573879865,
         40.366796391623495,
         40.626266788974334,
         40.44817919918683,
         40.58295667966755,
         40.73803407164729,
         40.521585998353636,
         40.541580453578966,
         40.69337765469818,
         40.75647401903738,
         40.67769421877193,
         40.49857322001537,
         40.6454288922159,
         40.40862516422445,
         40.800691988894386,
         40.6867130232847,
         40.48806707625843,
         40.54875393568849,
         40.50460794019312,
         40.65954239322238,
         40.60334085109735,
         40.42476668171402,
         40.677514722305986,
         40.69842739760255,
         40.82469739260006,
         40.71683263872732,
         40.55330874032213,
         40.681448367068214,
         40.49281983376097,
         40.6919491066707,
         40.64257164656495,
         40.81565519501729,
         40.634797854522496,
         40.60122808849658,
         40.60743181472279,
         40.62177965781816,
         40.602180079858314,
         40.7015178259736,
         40.69526458348093,
         40.56732158193949,
         40.718075538154544,
         40.6647144308332,
         40.56341716449014,
         40.47143759541031,
         40.638609784262655,
         40.54006708463581,
         40.6660577091571,
         40.50027070420009,
         40.6861826681678,
         40.71461788907318,
         40.75216421520557,
         40.52814970858505,
         40.82771315388199,
         40.51055370686649,
         40.584716358377285,
         40.716614191210375,
         40.57822183628256,
         40.61849112698224,
         40.72793922331367,
         40.6811045581274,
         40.6959436556927,
         40.74834153325498,
         40.67621325605604,
         40.77320025107988,
         40.62915335543563,
         40.70893518691517,
         40.66867404919592,
         40.634353348793574,
         40.60372454606399,
         40.69092846945768,
         40.664579644863146,
         40.705716984885214,
         40.625413886244026,
         40.6028663513762,
         40.72930963460685,
         40.52470075476951,
         40.770184508497444,
         40.808959952528205,
         40.55592775438894,
         40.70722642693413,
         40.667249054072755,
         40.63982809385212,
         40.66992315685596,
         40.503074394493346,
         40.83186683561836,
         40.688261098493186,
         40.50451835090587,
         40.565787531353315,
         40.43614124878328,
         40.49651577052496,
         40.767661909034075,
         40.678423050343625,
         40.4122813271596,
         40.53654559547374
        ],
        [
         4145.059958553873,
         4138.839514828287,
         4145.8617487913,
         4139.9867659574375,
         4144.420945263468,
         4142.9552145963535,
         4155.036885357462,
         4117.413231945597,
         4143.879212475382,
         4125.714278317057,
         4139.46158132609,
         4155.279475308023,
         4133.201771832071,
         4135.241206265055,
         4150.724520779215,
         4157.1603499418125,
         4149.124810314737,
         4130.854468441568,
         4145.833747006021,
         4121.6797667508945,
         4161.6705828672275,
         4150.04472837504,
         4129.78284177836,
         4135.9729014402255,
         4131.470009899698,
         4147.273324108683,
         4141.54076681193,
         4123.32620153483,
         4149.106501675211,
         4151.23959455546,
         4164.119134045206,
         4153.1169291501865,
         4136.437491512857,
         4149.507733440958,
         4130.267623043619,
         4150.578808880411,
         4145.542307949625,
         4163.196829891764,
         4144.749381161295,
         4141.325265026651,
         4141.958045101725,
         4143.421525097452,
         4141.422368145548,
         4151.554818249308,
         4150.916987515055,
         4137.866801357828,
         4153.243704891764,
         4147.800871944986,
         4137.468550777994,
         4128.0866347318515,
         4145.138197994791,
         4135.0868426328525,
         4147.937886334024,
         4131.027611828409,
         4149.990632153116,
         4152.891024685465,
         4156.720749950968,
         4133.871270275675,
         4164.426741695963,
         4132.076478100382,
         4139.641068554483,
         4153.094647503458,
         4138.978627300821,
         4143.086094952188,
         4154.249800777994,
         4149.472664928995,
         4150.986252880655,
         4156.330836392008,
         4148.973752117716,
         4158.866425610147,
         4144.1736422544345,
         4152.311389065348,
         4148.204753017984,
         4144.704041576944,
         4141.579903698526,
         4150.474703884684,
         4147.787123776041,
         4151.983132458292,
         4143.792216396891,
         4141.492367840372,
         4154.389582729898,
         4133.51947698649,
         4158.558819866739,
         4162.513915157877,
         4136.704630947672,
         4152.137095547281,
         4148.059403515421,
         4145.262465572916,
         4148.332161999308,
         4131.313588238321,
         4164.850417233072,
         4150.202632046305,
         4131.460871792398,
         4137.710328198038,
         4124.4864073758945,
         4130.644608593546,
         4158.3015147214755,
         4149.19915113505,
         4122.052695370279,
         4134.727650738321
        ],
        [
         427.13467043993984,
         427.28386896844506,
         428.0662548333962,
         427.6898988784359,
         428.12740835387353,
         427.84629609787896,
         429.1868870110585,
         424.7662572853968,
         427.96824671453146,
         425.6875727060645,
         427.66875587099577,
         429.23347857372033,
         426.54811728594854,
         426.5315196034892,
         428.6379366581021,
         428.9642934704682,
         428.0061320547428,
         426.1514104448045,
         427.4264057573209,
         425.2693895808715,
         429.22926697432644,
         428.5658725012543,
         426.14869314266696,
         426.86974611964183,
         426.04683376571535,
         428.4090281803568,
         427.29192054528954,
         425.43694987088315,
         428.4678424168655,
         428.85358064066173,
         430.46094671625264,
         428.65601465708795,
         427.0267225385377,
         427.6562116312289,
         426.2388714199729,
         427.65326629603663,
         428.0521797297976,
         429.77478836789464,
         427.4100461684244,
         427.90479348388993,
         427.1551135571221,
         428.0598556137873,
         427.1033532580931,
         427.91416161191466,
         428.2455178316645,
         427.0981184074729,
         428.54562866422043,
         428.6034450941981,
         427.46024698849226,
         426.4303645044487,
         427.72801102148,
         427.371608655685,
         428.3602173093692,
         426.5608878410322,
         429.1754160025404,
         428.96118750455844,
         429.2249401925562,
         426.46540485195123,
         429.384993943062,
         426.29266554512867,
         427.1335638249339,
         428.95703693007925,
         427.2114902395218,
         427.5470339927197,
         428.7821072053629,
         428.0969895989725,
         428.8937102181463,
         428.9604271268799,
         428.0922426504357,
         429.49515861732283,
         427.62110417964755,
         428.89557474003084,
         428.1641873236521,
         427.9067026658604,
         427.79486903215775,
         428.5103844409664,
         428.2668616610473,
         428.52161424399463,
         428.1226779212566,
         427.3857766291927,
         428.3813335692613,
         426.94943863664884,
         429.5587936551466,
         429.7836754821688,
         427.20073205116415,
         428.66014306712003,
         427.17457461145705,
         428.2057298756921,
         428.3132359457491,
         426.12945005789805,
         430.285876408468,
         427.7827549597915,
         426.3477862546739,
         427.0720808937347,
         425.2477172131352,
         426.56075135865717,
         429.91884404592054,
         428.5457427157936,
         425.8433606318453,
         426.58625651220103
        ]
       ],
       "encoder": "json",
       "name": "ABC_GAN_1 Metrics",
       "version": 1
      }
     },
     "metadata": {
      "scrapbook": {
       "data": true,
       "display": false,
       "name": "ABC_GAN_1 Metrics"
      }
     },
     "output_type": "display_data"
    }
   ],
   "source": [
    "ABC_GAN1_metrics=ABC_train_test2.test_generator(gen,test_data,prior_model,variance,\"1\",device)\n",
    "sb.glue(\"ABC_GAN_1 Metrics\",ABC_GAN1_metrics)"
   ]
  },
  {
   "cell_type": "markdown",
   "id": "394a2b9d",
   "metadata": {
    "papermill": {
     "duration": 0.034591,
     "end_time": "2022-01-14T13:22:35.765814",
     "exception": false,
     "start_time": "2022-01-14T13:22:35.731223",
     "status": "completed"
    },
    "tags": []
   },
   "source": [
    "#### Sanity Checks "
   ]
  },
  {
   "cell_type": "code",
   "execution_count": 14,
   "id": "a36b3b22",
   "metadata": {
    "execution": {
     "iopub.execute_input": "2022-01-14T13:22:35.853523Z",
     "iopub.status.busy": "2022-01-14T13:22:35.852894Z",
     "iopub.status.idle": "2022-01-14T13:22:36.596194Z",
     "shell.execute_reply": "2022-01-14T13:22:36.595641Z"
    },
    "papermill": {
     "duration": 0.796748,
     "end_time": "2022-01-14T13:22:36.596339",
     "exception": false,
     "start_time": "2022-01-14T13:22:35.799591",
     "status": "completed"
    },
    "tags": []
   },
   "outputs": [
    {
     "data": {
      "image/png": "[encoded data removed]",
      "text/plain": [
       "<Figure size 432x288 with 1 Axes>"
      ]
     },
     "metadata": {
      "needs_background": "light"
     },
     "output_type": "display_data"
    },
    {
     "data": {
      "image/png": "[encoded data removed]",
      "text/plain": [
       "<Figure size 432x288 with 1 Axes>"
      ]
     },
     "metadata": {
      "needs_background": "light"
     },
     "output_type": "display_data"
    },
    {
     "data": {
      "image/png": "[encoded data removed]",
      "text/plain": [
       "<Figure size 432x288 with 1 Axes>"
      ]
     },
     "metadata": {
      "needs_background": "light"
     },
     "output_type": "display_data"
    },
    {
     "data": {
      "image/png": "[encoded data removed]",
      "text/plain": [
       "<Figure size 432x288 with 1 Axes>"
      ]
     },
     "metadata": {
      "needs_background": "light"
     },
     "output_type": "display_data"
    }
   ],
   "source": [
    "sanityChecks.discProbVsError(train_data,disc,device)\n",
    "sanityChecks.discProbVsError(test_data,disc,device)"
   ]
  },
  {
   "cell_type": "markdown",
   "id": "130f3a4d",
   "metadata": {
    "papermill": {
     "duration": 0.041694,
     "end_time": "2022-01-14T13:22:36.678549",
     "exception": false,
     "start_time": "2022-01-14T13:22:36.636855",
     "status": "completed"
    },
    "tags": []
   },
   "source": [
    "# ABC - GAN Model with skip connection"
   ]
  },
  {
   "cell_type": "code",
   "execution_count": 15,
   "id": "4e43dad1",
   "metadata": {
    "execution": {
     "iopub.execute_input": "2022-01-14T13:22:36.767942Z",
     "iopub.status.busy": "2022-01-14T13:22:36.767127Z",
     "iopub.status.idle": "2022-01-14T13:22:36.772906Z",
     "shell.execute_reply": "2022-01-14T13:22:36.772306Z"
    },
    "papermill": {
     "duration": 0.053925,
     "end_time": "2022-01-14T13:22:36.773037",
     "exception": false,
     "start_time": "2022-01-14T13:22:36.719112",
     "status": "completed"
    },
    "tags": []
   },
   "outputs": [],
   "source": [
    "#Generator\n",
    "gen3 = network.GeneratorWithSkipConnection(n_features+1).to(device)\n",
    "constraints=network.weightConstraint()\n",
    "#Discriminator \n",
    "disc3 = network.Discriminator(n_features+1).to(device)\n",
    "\n",
    "criterion = torch.nn.BCELoss()\n",
    "gen_opt = torch.optim.Adam(gen3.parameters(), lr=0.01, betas=(0.5, 0.999))\n",
    "disc_opt = torch.optim.Adam(disc3.parameters(), lr=0.01, betas=(0.5, 0.999))\n"
   ]
  },
  {
   "cell_type": "code",
   "execution_count": 16,
   "id": "26acbc37",
   "metadata": {
    "execution": {
     "iopub.execute_input": "2022-01-14T13:22:36.857453Z",
     "iopub.status.busy": "2022-01-14T13:22:36.856819Z",
     "iopub.status.idle": "2022-01-14T13:58:08.217443Z",
     "shell.execute_reply": "2022-01-14T13:58:08.216865Z"
    },
    "papermill": {
     "duration": 2131.403923,
     "end_time": "2022-01-14T13:58:08.217582",
     "exception": false,
     "start_time": "2022-01-14T13:22:36.813659",
     "status": "completed"
    },
    "tags": []
   },
   "outputs": [
    {
     "data": {
      "image/png": "[encoded data removed]",
      "text/plain": [
       "<Figure size 432x288 with 1 Axes>"
      ]
     },
     "metadata": {
      "needs_background": "light"
     },
     "output_type": "display_data"
    },
    {
     "data": {
      "image/png": "[encoded data removed]",
      "text/plain": [
       "<Figure size 432x288 with 1 Axes>"
      ]
     },
     "metadata": {
      "needs_background": "light"
     },
     "output_type": "display_data"
    }
   ],
   "source": [
    "ABC_train_test2.training_GAN_skip_connection(disc3,gen3,disc_opt,gen_opt,train_data,batch_size,n_epochs,criterion,prior_model,variance,device)\n"
   ]
  },
  {
   "cell_type": "code",
   "execution_count": 17,
   "id": "c5e0717b",
   "metadata": {
    "execution": {
     "iopub.execute_input": "2022-01-14T13:58:08.309344Z",
     "iopub.status.busy": "2022-01-14T13:58:08.308711Z",
     "iopub.status.idle": "2022-01-14T13:58:10.067746Z",
     "shell.execute_reply": "2022-01-14T13:58:10.067218Z"
    },
    "papermill": {
     "duration": 1.805808,
     "end_time": "2022-01-14T13:58:10.067892",
     "exception": false,
     "start_time": "2022-01-14T13:58:08.262084",
     "status": "completed"
    },
    "tags": []
   },
   "outputs": [
    {
     "data": {
      "application/scrapbook.scrap.json+json": {
       "data": 0.10680843067898094,
       "encoder": "json",
       "name": "ABC-GAN Model 3 MSE",
       "version": 1
      }
     },
     "metadata": {
      "scrapbook": {
       "data": true,
       "display": false,
       "name": "ABC-GAN Model 3 MSE"
      }
     },
     "output_type": "display_data"
    },
    {
     "data": {
      "application/scrapbook.scrap.json+json": {
       "data": 0.22268024776783754,
       "encoder": "json",
       "name": "ABC-GAN Model 3 MAE",
       "version": 1
      }
     },
     "metadata": {
      "scrapbook": {
       "data": true,
       "display": false,
       "name": "ABC-GAN Model 3 MAE"
      }
     },
     "output_type": "display_data"
    },
    {
     "data": {
      "application/scrapbook.scrap.json+json": {
       "data": 22.713385272319428,
       "encoder": "json",
       "name": "ABC-GAN Model 3 Manhattan Distance",
       "version": 1
      }
     },
     "metadata": {
      "scrapbook": {
       "data": true,
       "display": false,
       "name": "ABC-GAN Model 3 Manhattan Distance"
      }
     },
     "output_type": "display_data"
    },
    {
     "data": {
      "application/scrapbook.scrap.json+json": {
       "data": 3.2991210982930887,
       "encoder": "json",
       "name": "ABC-GAN Model 3 Euclidean distance",
       "version": 1
      }
     },
     "metadata": {
      "scrapbook": {
       "data": true,
       "display": false,
       "name": "ABC-GAN Model 3 Euclidean distance"
      }
     },
     "output_type": "display_data"
    },
    {
     "data": {
      "application/scrapbook.scrap.json+json": {
       "data": [
        [
         0.10075810288227956,
         0.1041302483318989,
         0.11388537312410844,
         0.11011354093426562,
         0.09633452134225748,
         0.10831660479272816,
         0.11961152308365228,
         0.11136876131336106,
         0.10590233392113607,
         0.10444673780479195,
         0.11278306638911108,
         0.11999016464143131,
         0.08954660069840911,
         0.10408035765289074,
         0.10369011519547859,
         0.10241092357255084,
         0.11911328212609508,
         0.10063927649597475,
         0.10970682800549739,
         0.10522193301362918,
         0.11055668249893616,
         0.10025715898418683,
         0.1036500985478817,
         0.1017543550596407,
         0.11448987284707528,
         0.11880703427608577,
         0.10962875668537538,
         0.10206659325483049,
         0.09633034489152947,
         0.10286371954553186,
         0.11784214083123526,
         0.1140421136179532,
         0.11337791747709546,
         0.09789409176853532,
         0.1036150264617169,
         0.11522189980226863,
         0.11159064630053185,
         0.10098169381460897,
         0.10270101997364486,
         0.11435999191781893,
         0.10504284760283414,
         0.09969672222306555,
         0.10924713285667835,
         0.10336304629784503,
         0.10344717293981558,
         0.10795507936373394,
         0.10833986453574701,
         0.10436274076675425,
         0.10729909170674728,
         0.11049748210420933,
         0.10532216896515526,
         0.10783721327655707,
         0.1053286724674853,
         0.10199032592651096,
         0.11741406196308948,
         0.11267506565511105,
         0.1094688992876808,
         0.09906891621371364,
         0.1068007211355553,
         0.09950913200191992,
         0.10665599603906402,
         0.12149803714865745,
         0.11232589914657466,
         0.1030714681914591,
         0.10975631548121398,
         0.10363826435930959,
         0.10832905771020146,
         0.10599652620478003,
         0.10078185412435446,
         0.09561065936647684,
         0.0966959054013947,
         0.1153629629060005,
         0.10773417607216462,
         0.11750921579287343,
         0.10792976535759519,
         0.10094702808113704,
         0.11071883413122066,
         0.10134616348024071,
         0.1065952479620848,
         0.10359342228206002,
         0.10849730056001568,
         0.1075202927177685,
         0.10586269200185079,
         0.0965211508233003,
         0.11690400071928085,
         0.1022929209461862,
         0.11247824031790056,
         0.12323101774184189,
         0.11216824228654115,
         0.09891875562383486,
         0.09855891464581193,
         0.10129997826913473,
         0.10271071422081855,
         0.10266110404909017,
         0.10388541672020604,
         0.10999345316080184,
         0.11137704959715153,
         0.10361373188957304,
         0.11243037890410915,
         0.09507310229577332
        ],
        [
         0.21302383911668085,
         0.2226911755552625,
         0.2347672117289667,
         0.22200625532251947,
         0.2173370440746201,
         0.2200148085351376,
         0.22794316421427271,
         0.2226978492028281,
         0.2189000220695401,
         0.214419414517561,
         0.22563740886820882,
         0.2348758314151828,
         0.20430083558255552,
         0.22467160808360753,
         0.22424024716932692,
         0.2337715536739458,
         0.23146529842679406,
         0.2093377229027158,
         0.23436903702460377,
         0.22358446872300086,
         0.21803652901458098,
         0.2098830347816807,
         0.2154302846768177,
         0.21930595701925604,
         0.236053440929847,
         0.22121171377526194,
         0.21006544473964503,
         0.22535684773260178,
         0.21343881026933006,
         0.2075830236141223,
         0.23667350474416332,
         0.23796903357530633,
         0.23747942154752275,
         0.2161827312654578,
         0.21356927167039877,
         0.2261829948527556,
         0.22291130036590437,
         0.21945493080306286,
         0.2262442056363558,
         0.23428461570110098,
         0.21396001578107768,
         0.2243084279984674,
         0.2235428770620595,
         0.22344796977225034,
         0.2225895176879039,
         0.22956644815812802,
         0.2372371674990099,
         0.2182962536519649,
         0.21854580449415187,
         0.2343479661344021,
         0.21913979462731412,
         0.22545688889701576,
         0.23090274731500768,
         0.21555183104732456,
         0.23878968654054344,
         0.21612028524681343,
         0.22870080010490676,
         0.21556263468136974,
         0.2177827223021464,
         0.2087735080835866,
         0.22646130890786356,
         0.23400006668788254,
         0.2260475892153587,
         0.2199062310688782,
         0.2226047569557148,
         0.2218061651778864,
         0.22292931389757523,
         0.2259184185452029,
         0.21571573530159452,
         0.20449736037784638,
         0.2101649274300857,
         0.22817004057030907,
         0.21784724176441336,
         0.228951226079873,
         0.21859128511163825,
         0.2209692346662575,
         0.21660716394327728,
         0.22076865463681958,
         0.2271629094474894,
         0.22343015930998852,
         0.2249706264439167,
         0.21883229092311332,
         0.22879318184420175,
         0.21182520836409108,
         0.22819890427932726,
         0.22048369207985552,
         0.22112247944060787,
         0.24859887407179557,
         0.22652848883915475,
         0.2168633470804814,
         0.22118128040878504,
         0.22356961896716088,
         0.2187118572000341,
         0.21927685399229327,
         0.22087461138874584,
         0.22969431267576476,
         0.22462345915389995,
         0.2200161124871788,
         0.2304050812187294,
         0.21090946682071424
        ],
        [
         21.728431589901447,
         22.714499906636775,
         23.946255596354604,
         22.644638042896986,
         22.16837849561125,
         22.441510470584035,
         23.250202749855816,
         22.715180618688464,
         22.32780225109309,
         21.870780280791223,
         23.0150157045573,
         23.957334804348648,
         20.838685229420662,
         22.916504024527967,
         22.872505211271346,
         23.844698474742472,
         23.609460439532995,
         21.35244773607701,
         23.905641776509583,
         22.805615809746087,
         22.23972595948726,
         21.40806954773143,
         21.973889037035406,
         22.369207615964115,
         24.077450974844396,
         22.56359480507672,
         21.426675363443792,
         22.986398468725383,
         21.770758647471666,
         21.173468408640474,
         24.14069748390466,
         24.272841424681246,
         24.22290099784732,
         22.050638589076698,
         21.784065710380673,
         23.07066547498107,
         22.736952637322247,
         22.384402941912413,
         23.076908974908292,
         23.8970308015123,
         21.823921609669924,
         22.879459655843675,
         22.80137346033007,
         22.791692916769534,
         22.704130804166198,
         23.415777712129056,
         24.19819108489901,
         22.26621787250042,
         22.291672058403492,
         23.903492545709014,
         22.35225905198604,
         22.99660266749561,
         23.552080226130784,
         21.986286766827106,
         24.35654802713543,
         22.04426909517497,
         23.327481610700488,
         21.987388737499714,
         22.213837674818933,
         21.294897824525833,
         23.099053508602083,
         23.868006802164018,
         23.056854099966586,
         22.430435569025576,
         22.70568520948291,
         22.624228848144412,
         22.738790017552674,
         23.043678691610694,
         22.00300500076264,
         20.858730758540332,
         21.43682259786874,
         23.273344138171524,
         22.220418659970164,
         23.353025060147047,
         22.296311081387103,
         22.538861935958266,
         22.09393072221428,
         22.518402772955596,
         23.17061676364392,
         22.78987624961883,
         22.9470038972795,
         22.32089367415756,
         23.336904548108578,
         21.60617125313729,
         23.276288236491382,
         22.489336592145264,
         22.554492902942002,
         25.357085155323148,
         23.105905861593783,
         22.120061402209103,
         22.560490601696074,
         22.80410113465041,
         22.30860943440348,
         22.366239107213914,
         22.529210361652076,
         23.428819892928004,
         22.911592833697796,
         22.44164347369224,
         23.5013182843104,
         21.51276561571285
        ],
        [
         3.2058269594587463,
         3.2590313483999642,
         3.408270537774116,
         3.3513551252135443,
         3.134664444068976,
         3.3238973643688627,
         3.4929035707463396,
         3.3704025952344074,
         3.2866454113511967,
         3.2639802781402922,
         3.391735952530699,
         3.4984277602125773,
         3.022209997872042,
         3.2582505245292075,
         3.252136490053702,
         3.2320139548585156,
         3.4856211464904936,
         3.203936048454997,
         3.3451601540973686,
         3.2760703849871993,
         3.3580919604578265,
         3.197847747530682,
         3.2515088884829964,
         3.2216368845795373,
         3.4173040588162,
         3.481137385418844,
         3.3439696741908835,
         3.2265759733799406,
         3.1345964937988438,
         3.2391510297675614,
         3.466972507070974,
         3.4106151335252157,
         3.4006686963983617,
         3.159936290558814,
         3.2509587353725546,
         3.42821145494723,
         3.373758426837086,
         3.2093819917688378,
         3.2365883330000083,
         3.4153651599232444,
         3.273281297946921,
         3.1888972493250205,
         3.33814432752408,
         3.247003344990606,
         3.248324435745479,
         3.3183456864981475,
         3.3242542295447555,
         3.2626675525111244,
         3.3082483815590726,
         3.3571927520816187,
         3.277630429814477,
         3.3165336956239146,
         3.277731622888534,
         3.225370249212347,
         3.460669634656727,
         3.3901116053636535,
         3.3415307461316943,
         3.178840897842921,
         3.3005565524357614,
         3.185895708304939,
         3.2983195109001384,
         3.520340862638597,
         3.3848547550745236,
         3.242420354539002,
         3.345914550475524,
         3.251323263634297,
         3.324088429395425,
         3.2881067003501516,
         3.2062047845831922,
         3.122865231703193,
         3.1405385447311827,
         3.4303093470432153,
         3.3149488622542562,
         3.4620716357223302,
         3.317956610095241,
         3.2088310744375397,
         3.360553686728499,
         3.215168529795063,
         3.297380064859471,
         3.2506197982492697,
         3.3266687026395636,
         3.311656663546568,
         3.286030216566607,
         3.137699377565771,
         3.4531446644133865,
         3.2301513798134893,
         3.3871493194758706,
         3.5453580650856513,
         3.3824784867353106,
         3.1764308702742383,
         3.1706480873589262,
         3.2144358421738235,
         3.2367410848758804,
         3.235959303360782,
         3.2551977674883306,
         3.349527164004165,
         3.3705280089192926,
         3.2509384264757224,
         3.3864285978326976,
         3.1140739288219987
        ]
       ],
       "encoder": "json",
       "name": "ABC_GAN_3 Metrics",
       "version": 1
      }
     },
     "metadata": {
      "scrapbook": {
       "data": true,
       "display": false,
       "name": "ABC_GAN_3 Metrics"
      }
     },
     "output_type": "display_data"
    }
   ],
   "source": [
    "ABC_GAN3_metrics=ABC_train_test2.test_generator(gen3,test_data,prior_model,variance,\"3\",device)\n",
    "sb.glue(\"ABC_GAN_3 Metrics\",ABC_GAN3_metrics)"
   ]
  },
  {
   "cell_type": "code",
   "execution_count": 18,
   "id": "c8e46b48",
   "metadata": {
    "execution": {
     "iopub.execute_input": "2022-01-14T13:58:10.165751Z",
     "iopub.status.busy": "2022-01-14T13:58:10.165095Z",
     "iopub.status.idle": "2022-01-14T13:58:11.017118Z",
     "shell.execute_reply": "2022-01-14T13:58:11.016637Z"
    },
    "papermill": {
     "duration": 0.902488,
     "end_time": "2022-01-14T13:58:11.017289",
     "exception": false,
     "start_time": "2022-01-14T13:58:10.114801",
     "status": "completed"
    },
    "tags": []
   },
   "outputs": [
    {
     "data": {
      "image/png": "[encoded data removed]",
      "text/plain": [
       "<Figure size 432x288 with 1 Axes>"
      ]
     },
     "metadata": {
      "needs_background": "light"
     },
     "output_type": "display_data"
    },
    {
     "data": {
      "image/png": "[encoded data removed]",
      "text/plain": [
       "<Figure size 432x288 with 1 Axes>"
      ]
     },
     "metadata": {
      "needs_background": "light"
     },
     "output_type": "display_data"
    },
    {
     "data": {
      "image/png": "[encoded data removed]",
      "text/plain": [
       "<Figure size 432x288 with 1 Axes>"
      ]
     },
     "metadata": {
      "needs_background": "light"
     },
     "output_type": "display_data"
    },
    {
     "data": {
      "image/png": "[encoded data removed]",
      "text/plain": [
       "<Figure size 432x288 with 1 Axes>"
      ]
     },
     "metadata": {
      "needs_background": "light"
     },
     "output_type": "display_data"
    }
   ],
   "source": [
    "sanityChecks.discProbVsError(train_data,disc,device)\n",
    "sanityChecks.discProbVsError(test_data,disc3,device)"
   ]
  },
  {
   "cell_type": "markdown",
   "id": "a5bd74c3",
   "metadata": {
    "papermill": {
     "duration": 0.053859,
     "end_time": "2022-01-14T13:58:11.123986",
     "exception": false,
     "start_time": "2022-01-14T13:58:11.070127",
     "status": "completed"
    },
    "tags": []
   },
   "source": [
    "## Skip Connection Model Analysis - ABC-GAN "
   ]
  },
  {
   "cell_type": "markdown",
   "id": "5744a8bf",
   "metadata": {
    "papermill": {
     "duration": 0.050377,
     "end_time": "2022-01-14T13:58:11.225266",
     "exception": false,
     "start_time": "2022-01-14T13:58:11.174889",
     "status": "completed"
    },
    "tags": []
   },
   "source": [
    "### Weight Analysis \n",
    "\n",
    "Study the weights of the skip connection layer\n",
    "\n",
    "Equation of the skip connection is \n",
    "\n",
    "$output = y_{gan} * w + y_{abc} * (1-w)$"
   ]
  },
  {
   "cell_type": "code",
   "execution_count": 19,
   "id": "52c31dea",
   "metadata": {
    "execution": {
     "iopub.execute_input": "2022-01-14T13:58:11.332917Z",
     "iopub.status.busy": "2022-01-14T13:58:11.332238Z",
     "iopub.status.idle": "2022-01-14T13:58:11.341476Z",
     "shell.execute_reply": "2022-01-14T13:58:11.340928Z"
    },
    "papermill": {
     "duration": 0.065081,
     "end_time": "2022-01-14T13:58:11.341607",
     "exception": false,
     "start_time": "2022-01-14T13:58:11.276526",
     "status": "completed"
    },
    "tags": []
   },
   "outputs": [
    {
     "name": "stdout",
     "output_type": "stream",
     "text": [
      "Weight of the node at skip connection\n",
      "Parameter containing:\n",
      "tensor([[0.0142]], device='cuda:0', requires_grad=True)\n"
     ]
    },
    {
     "data": {
      "application/scrapbook.scrap.json+json": {
       "data": 0.014217834919691086,
       "encoder": "json",
       "name": "Skip Connection Weight",
       "version": 1
      }
     },
     "metadata": {
      "scrapbook": {
       "data": true,
       "display": false,
       "name": "Skip Connection Weight"
      }
     },
     "output_type": "display_data"
    }
   ],
   "source": [
    "print(\"Weight of the node at skip connection\")\n",
    "for name,param in gen3.named_parameters():\n",
    "    if(name == \"skipNode.weight\"):\n",
    "        print(param)\n",
    "        sb.glue(\"Skip Connection Weight\",param.item())"
   ]
  }
 ],
 "metadata": {
  "interpreter": {
   "hash": "10498c76ddd8160350534c6544a2b2fb65f2138dbc70420f7c81a3268f830f23"
  },
  "kernelspec": {
   "display_name": "papermill-tutorial",
   "language": "python",
   "name": "python3"
  },
  "language_info": {
   "codemirror_mode": {
    "name": "ipython",
    "version": 3
   },
   "file_extension": ".py",
   "mimetype": "text/x-python",
   "name": "python",
   "nbconvert_exporter": "python",
   "pygments_lexer": "ipython3",
   "version": "3.7.12"
  },
  "papermill": {
   "default_parameters": {},
   "duration": 2474.750475,
   "end_time": "2022-01-14T13:58:12.109975",
   "environment_variables": {},
   "exception": null,
   "input_path": "ABC_GAN_Model-Catboost_Pre-gen.ipynb",
   "output_path": "./ABC_GAN_Output/ABC-GAN_output_4_1.ipynb",
   "parameters": {
    "variance": 0.1
   },
   "start_time": "2022-01-14T13:16:57.359500",
   "version": "2.3.3"
  }
 },
 "nbformat": 4,
 "nbformat_minor": 5
}