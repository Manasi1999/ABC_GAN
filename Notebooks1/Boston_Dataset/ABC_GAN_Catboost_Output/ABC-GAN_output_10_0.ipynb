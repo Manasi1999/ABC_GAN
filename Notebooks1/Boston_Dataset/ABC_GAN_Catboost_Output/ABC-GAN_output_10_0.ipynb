{
 "cells": [
  {
   "cell_type": "markdown",
   "id": "622780e6",
   "metadata": {
    "papermill": {
     "duration": 0.026911,
     "end_time": "2022-01-15T11:54:49.958610",
     "exception": false,
     "start_time": "2022-01-15T11:54:49.931699",
     "status": "completed"
    },
    "tags": []
   },
   "source": [
    "## Import Libraries "
   ]
  },
  {
   "cell_type": "code",
   "execution_count": 1,
   "id": "a62397e3",
   "metadata": {
    "execution": {
     "iopub.execute_input": "2022-01-15T11:54:50.016332Z",
     "iopub.status.busy": "2022-01-15T11:54:50.015594Z",
     "iopub.status.idle": "2022-01-15T11:54:50.018570Z",
     "shell.execute_reply": "2022-01-15T11:54:50.017887Z"
    },
    "papermill": {
     "duration": 0.034265,
     "end_time": "2022-01-15T11:54:50.018720",
     "exception": false,
     "start_time": "2022-01-15T11:54:49.984455",
     "status": "completed"
    },
    "tags": []
   },
   "outputs": [],
   "source": [
    "import warnings\n",
    "import sys\n",
    "sys.path.insert(0, '../../src')\n",
    "warnings.filterwarnings('ignore')"
   ]
  },
  {
   "cell_type": "code",
   "execution_count": 2,
   "id": "d6a4e155",
   "metadata": {
    "execution": {
     "iopub.execute_input": "2022-01-15T11:54:50.099742Z",
     "iopub.status.busy": "2022-01-15T11:54:50.098834Z",
     "iopub.status.idle": "2022-01-15T11:54:51.765267Z",
     "shell.execute_reply": "2022-01-15T11:54:51.764675Z"
    },
    "papermill": {
     "duration": 1.722273,
     "end_time": "2022-01-15T11:54:51.765506",
     "exception": false,
     "start_time": "2022-01-15T11:54:50.043233",
     "status": "completed"
    },
    "tags": []
   },
   "outputs": [],
   "source": [
    "import ABC_train_test2\n",
    "import bostonDataset\n",
    "import network\n",
    "import dataset\n",
    "import sanityChecks\n",
    "import performanceMetrics\n",
    "import torch \n",
    "from torch.utils.data import random_split \n",
    "import scrapbook as sb\n",
    "from statistics import mean \n",
    "import catboost as ctb \n",
    "from sklearn.model_selection import train_test_split\n",
    "from sklearn.metrics import mean_squared_error\n",
    "import numpy as np"
   ]
  },
  {
   "cell_type": "markdown",
   "id": "2fa5b0f7",
   "metadata": {
    "papermill": {
     "duration": 0.024649,
     "end_time": "2022-01-15T11:54:51.815100",
     "exception": false,
     "start_time": "2022-01-15T11:54:51.790451",
     "status": "completed"
    },
    "tags": []
   },
   "source": [
    "## Parameters "
   ]
  },
  {
   "cell_type": "code",
   "execution_count": 3,
   "id": "783186fb",
   "metadata": {
    "execution": {
     "iopub.execute_input": "2022-01-15T11:54:51.869216Z",
     "iopub.status.busy": "2022-01-15T11:54:51.868541Z",
     "iopub.status.idle": "2022-01-15T11:54:51.871308Z",
     "shell.execute_reply": "2022-01-15T11:54:51.870776Z"
    },
    "papermill": {
     "duration": 0.032094,
     "end_time": "2022-01-15T11:54:51.871473",
     "exception": false,
     "start_time": "2022-01-15T11:54:51.839379",
     "status": "completed"
    },
    "tags": [
     "parameters"
    ]
   },
   "outputs": [],
   "source": [
    "variance = 1"
   ]
  },
  {
   "cell_type": "code",
   "execution_count": 4,
   "id": "31e391a8",
   "metadata": {
    "execution": {
     "iopub.execute_input": "2022-01-15T11:54:51.923267Z",
     "iopub.status.busy": "2022-01-15T11:54:51.922600Z",
     "iopub.status.idle": "2022-01-15T11:54:51.925451Z",
     "shell.execute_reply": "2022-01-15T11:54:51.924890Z"
    },
    "papermill": {
     "duration": 0.029819,
     "end_time": "2022-01-15T11:54:51.925579",
     "exception": false,
     "start_time": "2022-01-15T11:54:51.895760",
     "status": "completed"
    },
    "tags": [
     "injected-parameters"
    ]
   },
   "outputs": [],
   "source": [
    "# Parameters\n",
    "variance = 1\n"
   ]
  },
  {
   "cell_type": "markdown",
   "id": "391cdbfd",
   "metadata": {
    "papermill": {
     "duration": 0.025267,
     "end_time": "2022-01-15T11:54:51.975258",
     "exception": false,
     "start_time": "2022-01-15T11:54:51.949991",
     "status": "completed"
    },
    "tags": []
   },
   "source": [
    "## Dataset - Boston Housing "
   ]
  },
  {
   "cell_type": "code",
   "execution_count": 5,
   "id": "5b51f161",
   "metadata": {
    "execution": {
     "iopub.execute_input": "2022-01-15T11:54:52.031956Z",
     "iopub.status.busy": "2022-01-15T11:54:52.031347Z",
     "iopub.status.idle": "2022-01-15T11:54:52.033827Z",
     "shell.execute_reply": "2022-01-15T11:54:52.034405Z"
    },
    "papermill": {
     "duration": 0.03337,
     "end_time": "2022-01-15T11:54:52.034563",
     "exception": false,
     "start_time": "2022-01-15T11:54:52.001193",
     "status": "completed"
    },
    "tags": []
   },
   "outputs": [],
   "source": [
    "#Parameters \n",
    "n_features = 13\n",
    "n_samples= 506\n",
    "n_target = 1 "
   ]
  },
  {
   "cell_type": "code",
   "execution_count": 6,
   "id": "5d6eced4",
   "metadata": {
    "execution": {
     "iopub.execute_input": "2022-01-15T11:54:52.089708Z",
     "iopub.status.busy": "2022-01-15T11:54:52.089082Z",
     "iopub.status.idle": "2022-01-15T11:54:52.123351Z",
     "shell.execute_reply": "2022-01-15T11:54:52.122785Z"
    },
    "papermill": {
     "duration": 0.063131,
     "end_time": "2022-01-15T11:54:52.123501",
     "exception": false,
     "start_time": "2022-01-15T11:54:52.060370",
     "status": "completed"
    },
    "tags": []
   },
   "outputs": [
    {
     "name": "stdout",
     "output_type": "stream",
     "text": [
      "         X1        X2        X3        X4        X5        X6        X7        X8        X9       X10       X11       X12       X13         Y\n",
      "0 -0.419782  0.284830 -1.287909 -0.272599 -0.144217  0.413672 -0.120013  0.140214 -0.982843 -0.666608 -1.459000  0.441052 -1.075562  0.159686\n",
      "1 -0.417339 -0.487722 -0.593381 -0.272599 -0.740262  0.194274  0.367166  0.557160 -0.867883 -0.987329 -0.303094  0.441052 -0.492439 -0.101524\n",
      "2 -0.417342 -0.487722 -0.593381 -0.272599 -0.740262  1.282714 -0.265812  0.557160 -0.867883 -0.987329 -0.303094  0.396427 -1.208727  1.324247\n",
      "3 -0.416750 -0.487722 -1.306878 -0.272599 -0.835284  1.016303 -0.809889  1.077737 -0.752922 -1.106115  0.113032  0.416163 -1.361517  1.182758\n",
      "4 -0.412482 -0.487722 -1.306878 -0.272599 -0.835284  1.228577 -0.511180  1.077737 -0.752922 -1.106115  0.113032  0.441052 -1.026501  1.487503\n"
     ]
    }
   ],
   "source": [
    "X,Y = bostonDataset.boston_data()"
   ]
  },
  {
   "cell_type": "code",
   "execution_count": 7,
   "id": "fe007438",
   "metadata": {
    "execution": {
     "iopub.execute_input": "2022-01-15T11:54:52.179602Z",
     "iopub.status.busy": "2022-01-15T11:54:52.178910Z",
     "iopub.status.idle": "2022-01-15T11:54:52.181803Z",
     "shell.execute_reply": "2022-01-15T11:54:52.181298Z"
    },
    "papermill": {
     "duration": 0.032978,
     "end_time": "2022-01-15T11:54:52.181945",
     "exception": false,
     "start_time": "2022-01-15T11:54:52.148967",
     "status": "completed"
    },
    "tags": []
   },
   "outputs": [],
   "source": [
    "#Train test split for dataset \n",
    "X_train,X_test,Y_train,Y_test = train_test_split(X,Y,test_size = 0.2)\n",
    "train_data = dataset.CustomDataset(X_train,Y_train)\n",
    "test_data = dataset.CustomDataset(X_test,Y_test)\n"
   ]
  },
  {
   "cell_type": "markdown",
   "id": "a9a1af34",
   "metadata": {
    "papermill": {
     "duration": 0.025914,
     "end_time": "2022-01-15T11:54:52.233390",
     "exception": false,
     "start_time": "2022-01-15T11:54:52.207476",
     "status": "completed"
    },
    "tags": []
   },
   "source": [
    "## Training Parameters \n",
    "\n"
   ]
  },
  {
   "cell_type": "code",
   "execution_count": 8,
   "id": "952b7fc8",
   "metadata": {
    "execution": {
     "iopub.execute_input": "2022-01-15T11:54:52.314408Z",
     "iopub.status.busy": "2022-01-15T11:54:52.313728Z",
     "iopub.status.idle": "2022-01-15T11:54:52.316166Z",
     "shell.execute_reply": "2022-01-15T11:54:52.315612Z"
    },
    "papermill": {
     "duration": 0.053055,
     "end_time": "2022-01-15T11:54:52.316351",
     "exception": false,
     "start_time": "2022-01-15T11:54:52.263296",
     "status": "completed"
    },
    "tags": []
   },
   "outputs": [],
   "source": [
    "batch_size = 64\n",
    "n_epochs = 5000\n",
    "#Select the device \n",
    "device = torch.device('cuda' if torch.cuda.is_available() else 'cpu')"
   ]
  },
  {
   "cell_type": "markdown",
   "id": "a95e1600",
   "metadata": {
    "papermill": {
     "duration": 0.025444,
     "end_time": "2022-01-15T11:54:52.368151",
     "exception": false,
     "start_time": "2022-01-15T11:54:52.342707",
     "status": "completed"
    },
    "tags": []
   },
   "source": [
    "# ABC Pre-generator Model \n",
    "\n",
    "1. The catboost model is used as a pre-generator model for the ABC-GAN. \n",
    "2. The model is first trained on the train dataset \n",
    "3. It generats X,Y pairs and we add some Gaussian noise with mean 0 and variance V (1,0.01,0.1) to it which is then feed as input to the generator.\n"
   ]
  },
  {
   "cell_type": "code",
   "execution_count": 9,
   "id": "ff8ce7bd",
   "metadata": {
    "execution": {
     "iopub.execute_input": "2022-01-15T11:54:52.439150Z",
     "iopub.status.busy": "2022-01-15T11:54:52.438253Z",
     "iopub.status.idle": "2022-01-15T11:54:54.104692Z",
     "shell.execute_reply": "2022-01-15T11:54:54.105194Z"
    },
    "papermill": {
     "duration": 1.711328,
     "end_time": "2022-01-15T11:54:54.105371",
     "exception": false,
     "start_time": "2022-01-15T11:54:52.394043",
     "status": "completed"
    },
    "tags": []
   },
   "outputs": [
    {
     "name": "stdout",
     "output_type": "stream",
     "text": [
      "Learning rate set to 0.03548\n",
      "0:\tlearn: 0.9893023\ttotal: 48.6ms\tremaining: 48.5s\n",
      "1:\tlearn: 0.9710178\ttotal: 49.7ms\tremaining: 24.8s\n",
      "2:\tlearn: 0.9516855\ttotal: 50.8ms\tremaining: 16.9s\n",
      "3:\tlearn: 0.9340198\ttotal: 51.8ms\tremaining: 12.9s\n",
      "4:\tlearn: 0.9156167\ttotal: 52.9ms\tremaining: 10.5s\n",
      "5:\tlearn: 0.8980401\ttotal: 53.9ms\tremaining: 8.92s\n",
      "6:\tlearn: 0.8812986\ttotal: 54.9ms\tremaining: 7.78s\n",
      "7:\tlearn: 0.8648053\ttotal: 55.8ms\tremaining: 6.92s\n",
      "8:\tlearn: 0.8493101\ttotal: 56.9ms\tremaining: 6.26s\n",
      "9:\tlearn: 0.8326108\ttotal: 57.8ms\tremaining: 5.72s\n",
      "10:\tlearn: 0.8157449\ttotal: 58.8ms\tremaining: 5.29s\n",
      "11:\tlearn: 0.8013969\ttotal: 59.8ms\tremaining: 4.93s\n",
      "12:\tlearn: 0.7860443\ttotal: 60.8ms\tremaining: 4.61s\n",
      "13:\tlearn: 0.7703640\ttotal: 61.8ms\tremaining: 4.35s\n",
      "14:\tlearn: 0.7577769\ttotal: 62.8ms\tremaining: 4.12s\n",
      "15:\tlearn: 0.7447580\ttotal: 63.7ms\tremaining: 3.92s\n",
      "16:\tlearn: 0.7331329\ttotal: 64.7ms\tremaining: 3.74s\n",
      "17:\tlearn: 0.7204847\ttotal: 65.7ms\tremaining: 3.58s\n",
      "18:\tlearn: 0.7080060\ttotal: 66.7ms\tremaining: 3.44s\n",
      "19:\tlearn: 0.6946691\ttotal: 67.8ms\tremaining: 3.32s\n",
      "20:\tlearn: 0.6809405\ttotal: 68.8ms\tremaining: 3.21s\n",
      "21:\tlearn: 0.6697635\ttotal: 69.9ms\tremaining: 3.11s\n",
      "22:\tlearn: 0.6599298\ttotal: 71ms\tremaining: 3.02s\n",
      "23:\tlearn: 0.6499845\ttotal: 72.1ms\tremaining: 2.93s\n",
      "24:\tlearn: 0.6397238\ttotal: 73.3ms\tremaining: 2.86s\n",
      "25:\tlearn: 0.6301352\ttotal: 74.3ms\tremaining: 2.78s\n",
      "26:\tlearn: 0.6210477\ttotal: 75.3ms\tremaining: 2.71s\n",
      "27:\tlearn: 0.6115480\ttotal: 76.1ms\tremaining: 2.64s\n",
      "28:\tlearn: 0.6040169\ttotal: 77.3ms\tremaining: 2.59s\n",
      "29:\tlearn: 0.5942796\ttotal: 78.4ms\tremaining: 2.53s\n",
      "30:\tlearn: 0.5843847\ttotal: 79.4ms\tremaining: 2.48s\n",
      "31:\tlearn: 0.5739907\ttotal: 80.5ms\tremaining: 2.43s\n",
      "32:\tlearn: 0.5664732\ttotal: 81.5ms\tremaining: 2.39s\n",
      "33:\tlearn: 0.5595207\ttotal: 82.6ms\tremaining: 2.35s\n",
      "34:\tlearn: 0.5508738\ttotal: 83.6ms\tremaining: 2.31s\n",
      "35:\tlearn: 0.5434799\ttotal: 84.7ms\tremaining: 2.27s\n",
      "36:\tlearn: 0.5358850\ttotal: 85.8ms\tremaining: 2.23s\n",
      "37:\tlearn: 0.5282011\ttotal: 86.8ms\tremaining: 2.2s\n",
      "38:\tlearn: 0.5196097\ttotal: 87.9ms\tremaining: 2.17s\n",
      "39:\tlearn: 0.5121676\ttotal: 88.9ms\tremaining: 2.13s\n",
      "40:\tlearn: 0.5050513\ttotal: 90ms\tremaining: 2.1s\n",
      "41:\tlearn: 0.4996394\ttotal: 91ms\tremaining: 2.08s\n",
      "42:\tlearn: 0.4932608\ttotal: 92ms\tremaining: 2.05s\n",
      "43:\tlearn: 0.4863208\ttotal: 93ms\tremaining: 2.02s\n",
      "44:\tlearn: 0.4798893\ttotal: 94.1ms\tremaining: 2s\n",
      "45:\tlearn: 0.4738621\ttotal: 95.1ms\tremaining: 1.97s\n",
      "46:\tlearn: 0.4686205\ttotal: 96.1ms\tremaining: 1.95s\n",
      "47:\tlearn: 0.4642754\ttotal: 97.2ms\tremaining: 1.93s\n",
      "48:\tlearn: 0.4599613\ttotal: 98.3ms\tremaining: 1.91s\n",
      "49:\tlearn: 0.4541641\ttotal: 99.3ms\tremaining: 1.89s\n",
      "50:\tlearn: 0.4499105\ttotal: 100ms\tremaining: 1.86s\n",
      "51:\tlearn: 0.4457428\ttotal: 101ms\tremaining: 1.84s\n",
      "52:\tlearn: 0.4408360\ttotal: 102ms\tremaining: 1.83s\n",
      "53:\tlearn: 0.4369896\ttotal: 103ms\tremaining: 1.81s\n",
      "54:\tlearn: 0.4321374\ttotal: 104ms\tremaining: 1.79s\n",
      "55:\tlearn: 0.4288928\ttotal: 105ms\tremaining: 1.77s\n",
      "56:\tlearn: 0.4253324\ttotal: 106ms\tremaining: 1.76s\n",
      "57:\tlearn: 0.4211556\ttotal: 107ms\tremaining: 1.74s\n",
      "58:\tlearn: 0.4176892\ttotal: 108ms\tremaining: 1.73s\n",
      "59:\tlearn: 0.4141534\ttotal: 109ms\tremaining: 1.71s\n",
      "60:\tlearn: 0.4101539\ttotal: 110ms\tremaining: 1.7s\n",
      "61:\tlearn: 0.4064879\ttotal: 111ms\tremaining: 1.68s\n",
      "62:\tlearn: 0.4019966\ttotal: 112ms\tremaining: 1.67s\n",
      "63:\tlearn: 0.3975827\ttotal: 113ms\tremaining: 1.66s\n",
      "64:\tlearn: 0.3938075\ttotal: 114ms\tremaining: 1.64s\n",
      "65:\tlearn: 0.3905106\ttotal: 115ms\tremaining: 1.63s\n",
      "66:\tlearn: 0.3873876\ttotal: 116ms\tremaining: 1.62s\n",
      "67:\tlearn: 0.3837302\ttotal: 118ms\tremaining: 1.61s\n",
      "68:\tlearn: 0.3811754\ttotal: 119ms\tremaining: 1.6s\n",
      "69:\tlearn: 0.3784945\ttotal: 120ms\tremaining: 1.59s\n",
      "70:\tlearn: 0.3752318\ttotal: 121ms\tremaining: 1.58s\n",
      "71:\tlearn: 0.3729716\ttotal: 122ms\tremaining: 1.57s\n",
      "72:\tlearn: 0.3700296\ttotal: 123ms\tremaining: 1.56s\n",
      "73:\tlearn: 0.3667927\ttotal: 124ms\tremaining: 1.55s\n",
      "74:\tlearn: 0.3637317\ttotal: 125ms\tremaining: 1.54s\n",
      "75:\tlearn: 0.3611635\ttotal: 126ms\tremaining: 1.53s\n",
      "76:\tlearn: 0.3589457\ttotal: 127ms\tremaining: 1.52s\n",
      "77:\tlearn: 0.3559138\ttotal: 128ms\tremaining: 1.51s\n",
      "78:\tlearn: 0.3534738\ttotal: 129ms\tremaining: 1.5s\n",
      "79:\tlearn: 0.3513145\ttotal: 130ms\tremaining: 1.49s\n",
      "80:\tlearn: 0.3492699\ttotal: 131ms\tremaining: 1.48s\n",
      "81:\tlearn: 0.3469650\ttotal: 132ms\tremaining: 1.47s\n",
      "82:\tlearn: 0.3452159\ttotal: 133ms\tremaining: 1.47s\n",
      "83:\tlearn: 0.3429611\ttotal: 134ms\tremaining: 1.46s\n",
      "84:\tlearn: 0.3404610\ttotal: 135ms\tremaining: 1.45s\n",
      "85:\tlearn: 0.3378696\ttotal: 136ms\tremaining: 1.44s\n",
      "86:\tlearn: 0.3355308\ttotal: 137ms\tremaining: 1.43s\n",
      "87:\tlearn: 0.3336327\ttotal: 138ms\tremaining: 1.43s\n",
      "88:\tlearn: 0.3309242\ttotal: 139ms\tremaining: 1.42s\n",
      "89:\tlearn: 0.3289165\ttotal: 140ms\tremaining: 1.41s\n"
     ]
    },
    {
     "name": "stdout",
     "output_type": "stream",
     "text": [
      "90:\tlearn: 0.3268413\ttotal: 141ms\tremaining: 1.41s\n",
      "91:\tlearn: 0.3252821\ttotal: 142ms\tremaining: 1.4s\n",
      "92:\tlearn: 0.3235797\ttotal: 143ms\tremaining: 1.4s\n",
      "93:\tlearn: 0.3216141\ttotal: 147ms\tremaining: 1.41s\n",
      "94:\tlearn: 0.3192881\ttotal: 148ms\tremaining: 1.41s\n",
      "95:\tlearn: 0.3179551\ttotal: 149ms\tremaining: 1.4s\n",
      "96:\tlearn: 0.3167188\ttotal: 150ms\tremaining: 1.4s\n",
      "97:\tlearn: 0.3148721\ttotal: 151ms\tremaining: 1.39s\n",
      "98:\tlearn: 0.3134143\ttotal: 152ms\tremaining: 1.38s\n",
      "99:\tlearn: 0.3118003\ttotal: 153ms\tremaining: 1.38s\n",
      "100:\tlearn: 0.3098963\ttotal: 154ms\tremaining: 1.37s\n",
      "101:\tlearn: 0.3080794\ttotal: 155ms\tremaining: 1.36s\n",
      "102:\tlearn: 0.3067345\ttotal: 156ms\tremaining: 1.36s\n",
      "103:\tlearn: 0.3051758\ttotal: 157ms\tremaining: 1.35s\n",
      "104:\tlearn: 0.3037924\ttotal: 158ms\tremaining: 1.35s\n",
      "105:\tlearn: 0.3022648\ttotal: 159ms\tremaining: 1.34s\n",
      "106:\tlearn: 0.3008432\ttotal: 160ms\tremaining: 1.34s\n",
      "107:\tlearn: 0.2994795\ttotal: 161ms\tremaining: 1.33s\n",
      "108:\tlearn: 0.2982824\ttotal: 162ms\tremaining: 1.32s\n",
      "109:\tlearn: 0.2971930\ttotal: 163ms\tremaining: 1.32s\n",
      "110:\tlearn: 0.2957458\ttotal: 164ms\tremaining: 1.31s\n",
      "111:\tlearn: 0.2945515\ttotal: 165ms\tremaining: 1.31s\n",
      "112:\tlearn: 0.2922815\ttotal: 166ms\tremaining: 1.3s\n",
      "113:\tlearn: 0.2913870\ttotal: 167ms\tremaining: 1.3s\n",
      "114:\tlearn: 0.2902748\ttotal: 168ms\tremaining: 1.29s\n",
      "115:\tlearn: 0.2885622\ttotal: 169ms\tremaining: 1.29s\n",
      "116:\tlearn: 0.2871100\ttotal: 170ms\tremaining: 1.28s\n",
      "117:\tlearn: 0.2858242\ttotal: 171ms\tremaining: 1.28s\n",
      "118:\tlearn: 0.2846898\ttotal: 172ms\tremaining: 1.27s\n",
      "119:\tlearn: 0.2833244\ttotal: 173ms\tremaining: 1.27s\n",
      "120:\tlearn: 0.2821870\ttotal: 175ms\tremaining: 1.27s\n",
      "121:\tlearn: 0.2807798\ttotal: 176ms\tremaining: 1.26s\n",
      "122:\tlearn: 0.2796473\ttotal: 177ms\tremaining: 1.26s\n",
      "123:\tlearn: 0.2786972\ttotal: 178ms\tremaining: 1.25s\n",
      "124:\tlearn: 0.2775695\ttotal: 179ms\tremaining: 1.25s\n",
      "125:\tlearn: 0.2764829\ttotal: 180ms\tremaining: 1.25s\n",
      "126:\tlearn: 0.2751412\ttotal: 181ms\tremaining: 1.24s\n",
      "127:\tlearn: 0.2740571\ttotal: 182ms\tremaining: 1.24s\n",
      "128:\tlearn: 0.2728522\ttotal: 183ms\tremaining: 1.24s\n",
      "129:\tlearn: 0.2717954\ttotal: 184ms\tremaining: 1.23s\n",
      "130:\tlearn: 0.2707416\ttotal: 185ms\tremaining: 1.23s\n",
      "131:\tlearn: 0.2697382\ttotal: 186ms\tremaining: 1.22s\n",
      "132:\tlearn: 0.2689802\ttotal: 187ms\tremaining: 1.22s\n",
      "133:\tlearn: 0.2680424\ttotal: 188ms\tremaining: 1.22s\n",
      "134:\tlearn: 0.2671318\ttotal: 189ms\tremaining: 1.21s\n",
      "135:\tlearn: 0.2660422\ttotal: 190ms\tremaining: 1.21s\n",
      "136:\tlearn: 0.2653101\ttotal: 191ms\tremaining: 1.2s\n",
      "137:\tlearn: 0.2645466\ttotal: 192ms\tremaining: 1.2s\n",
      "138:\tlearn: 0.2635794\ttotal: 193ms\tremaining: 1.2s\n",
      "139:\tlearn: 0.2626751\ttotal: 194ms\tremaining: 1.19s\n",
      "140:\tlearn: 0.2620533\ttotal: 195ms\tremaining: 1.19s\n",
      "141:\tlearn: 0.2609691\ttotal: 196ms\tremaining: 1.19s\n",
      "142:\tlearn: 0.2601832\ttotal: 197ms\tremaining: 1.18s\n",
      "143:\tlearn: 0.2594061\ttotal: 199ms\tremaining: 1.18s\n",
      "144:\tlearn: 0.2587654\ttotal: 200ms\tremaining: 1.18s\n",
      "145:\tlearn: 0.2578611\ttotal: 201ms\tremaining: 1.17s\n",
      "146:\tlearn: 0.2570001\ttotal: 202ms\tremaining: 1.17s\n",
      "147:\tlearn: 0.2563398\ttotal: 203ms\tremaining: 1.17s\n",
      "148:\tlearn: 0.2555622\ttotal: 204ms\tremaining: 1.16s\n",
      "149:\tlearn: 0.2550596\ttotal: 205ms\tremaining: 1.16s\n",
      "150:\tlearn: 0.2539710\ttotal: 206ms\tremaining: 1.16s\n",
      "151:\tlearn: 0.2531154\ttotal: 207ms\tremaining: 1.15s\n",
      "152:\tlearn: 0.2522876\ttotal: 208ms\tremaining: 1.15s\n",
      "153:\tlearn: 0.2515795\ttotal: 209ms\tremaining: 1.15s\n",
      "154:\tlearn: 0.2510610\ttotal: 210ms\tremaining: 1.15s\n",
      "155:\tlearn: 0.2502416\ttotal: 211ms\tremaining: 1.14s\n",
      "156:\tlearn: 0.2494477\ttotal: 212ms\tremaining: 1.14s\n",
      "157:\tlearn: 0.2485836\ttotal: 213ms\tremaining: 1.14s\n",
      "158:\tlearn: 0.2477275\ttotal: 214ms\tremaining: 1.13s\n",
      "159:\tlearn: 0.2468632\ttotal: 215ms\tremaining: 1.13s\n",
      "160:\tlearn: 0.2459550\ttotal: 217ms\tremaining: 1.13s\n",
      "161:\tlearn: 0.2450775\ttotal: 218ms\tremaining: 1.13s\n",
      "162:\tlearn: 0.2444322\ttotal: 219ms\tremaining: 1.12s\n",
      "163:\tlearn: 0.2436410\ttotal: 220ms\tremaining: 1.12s\n",
      "164:\tlearn: 0.2430786\ttotal: 221ms\tremaining: 1.12s\n",
      "165:\tlearn: 0.2425966\ttotal: 222ms\tremaining: 1.12s\n",
      "166:\tlearn: 0.2419525\ttotal: 223ms\tremaining: 1.11s\n",
      "167:\tlearn: 0.2410661\ttotal: 224ms\tremaining: 1.11s\n",
      "168:\tlearn: 0.2404452\ttotal: 226ms\tremaining: 1.11s\n",
      "169:\tlearn: 0.2397392\ttotal: 227ms\tremaining: 1.11s\n",
      "170:\tlearn: 0.2390048\ttotal: 228ms\tremaining: 1.1s\n",
      "171:\tlearn: 0.2380048\ttotal: 230ms\tremaining: 1.11s\n",
      "172:\tlearn: 0.2371134\ttotal: 232ms\tremaining: 1.11s\n",
      "173:\tlearn: 0.2363130\ttotal: 234ms\tremaining: 1.11s\n",
      "174:\tlearn: 0.2354537\ttotal: 235ms\tremaining: 1.11s\n",
      "175:\tlearn: 0.2349538\ttotal: 236ms\tremaining: 1.11s\n",
      "176:\tlearn: 0.2339600\ttotal: 237ms\tremaining: 1.1s\n",
      "177:\tlearn: 0.2333607\ttotal: 239ms\tremaining: 1.1s\n",
      "178:\tlearn: 0.2327468\ttotal: 240ms\tremaining: 1.1s\n",
      "179:\tlearn: 0.2320638\ttotal: 241ms\tremaining: 1.1s\n",
      "180:\tlearn: 0.2310018\ttotal: 242ms\tremaining: 1.09s\n",
      "181:\tlearn: 0.2305362\ttotal: 243ms\tremaining: 1.09s\n",
      "182:\tlearn: 0.2298127\ttotal: 244ms\tremaining: 1.09s\n",
      "183:\tlearn: 0.2292212\ttotal: 245ms\tremaining: 1.09s\n",
      "184:\tlearn: 0.2283664\ttotal: 246ms\tremaining: 1.08s\n",
      "185:\tlearn: 0.2277943\ttotal: 247ms\tremaining: 1.08s\n",
      "186:\tlearn: 0.2271753\ttotal: 249ms\tremaining: 1.08s\n",
      "187:\tlearn: 0.2265385\ttotal: 250ms\tremaining: 1.08s\n",
      "188:\tlearn: 0.2258858\ttotal: 251ms\tremaining: 1.08s\n",
      "189:\tlearn: 0.2252980\ttotal: 252ms\tremaining: 1.07s\n",
      "190:\tlearn: 0.2246060\ttotal: 253ms\tremaining: 1.07s\n",
      "191:\tlearn: 0.2236099\ttotal: 254ms\tremaining: 1.07s\n",
      "192:\tlearn: 0.2227722\ttotal: 255ms\tremaining: 1.07s\n",
      "193:\tlearn: 0.2222476\ttotal: 257ms\tremaining: 1.06s\n",
      "194:\tlearn: 0.2216090\ttotal: 258ms\tremaining: 1.06s\n",
      "195:\tlearn: 0.2209256\ttotal: 259ms\tremaining: 1.06s\n",
      "196:\tlearn: 0.2202251\ttotal: 260ms\tremaining: 1.06s\n",
      "197:\tlearn: 0.2196303\ttotal: 261ms\tremaining: 1.06s\n",
      "198:\tlearn: 0.2193139\ttotal: 262ms\tremaining: 1.05s\n",
      "199:\tlearn: 0.2187570\ttotal: 263ms\tremaining: 1.05s\n",
      "200:\tlearn: 0.2183963\ttotal: 264ms\tremaining: 1.05s\n",
      "201:\tlearn: 0.2179064\ttotal: 265ms\tremaining: 1.05s\n",
      "202:\tlearn: 0.2172405\ttotal: 266ms\tremaining: 1.04s\n",
      "203:\tlearn: 0.2165588\ttotal: 267ms\tremaining: 1.04s\n",
      "204:\tlearn: 0.2160000\ttotal: 268ms\tremaining: 1.04s\n",
      "205:\tlearn: 0.2154958\ttotal: 269ms\tremaining: 1.04s\n",
      "206:\tlearn: 0.2150930\ttotal: 271ms\tremaining: 1.04s\n",
      "207:\tlearn: 0.2145505\ttotal: 272ms\tremaining: 1.03s\n",
      "208:\tlearn: 0.2137816\ttotal: 273ms\tremaining: 1.03s\n",
      "209:\tlearn: 0.2129584\ttotal: 274ms\tremaining: 1.03s\n"
     ]
    },
    {
     "name": "stdout",
     "output_type": "stream",
     "text": [
      "210:\tlearn: 0.2126202\ttotal: 275ms\tremaining: 1.03s\n",
      "211:\tlearn: 0.2122207\ttotal: 276ms\tremaining: 1.03s\n",
      "212:\tlearn: 0.2114923\ttotal: 277ms\tremaining: 1.02s\n",
      "213:\tlearn: 0.2109301\ttotal: 278ms\tremaining: 1.02s\n",
      "214:\tlearn: 0.2103067\ttotal: 279ms\tremaining: 1.02s\n",
      "215:\tlearn: 0.2097253\ttotal: 281ms\tremaining: 1.02s\n",
      "216:\tlearn: 0.2092615\ttotal: 282ms\tremaining: 1.01s\n",
      "217:\tlearn: 0.2086071\ttotal: 282ms\tremaining: 1.01s\n",
      "218:\tlearn: 0.2080226\ttotal: 283ms\tremaining: 1.01s\n",
      "219:\tlearn: 0.2076275\ttotal: 284ms\tremaining: 1.01s\n",
      "220:\tlearn: 0.2072194\ttotal: 286ms\tremaining: 1.01s\n",
      "221:\tlearn: 0.2066437\ttotal: 287ms\tremaining: 1s\n",
      "222:\tlearn: 0.2059688\ttotal: 288ms\tremaining: 1s\n",
      "223:\tlearn: 0.2055024\ttotal: 289ms\tremaining: 1s\n",
      "224:\tlearn: 0.2049774\ttotal: 290ms\tremaining: 998ms\n",
      "225:\tlearn: 0.2044118\ttotal: 291ms\tremaining: 996ms\n",
      "226:\tlearn: 0.2040000\ttotal: 292ms\tremaining: 994ms\n",
      "227:\tlearn: 0.2037548\ttotal: 293ms\tremaining: 992ms\n",
      "228:\tlearn: 0.2031879\ttotal: 294ms\tremaining: 990ms\n",
      "229:\tlearn: 0.2025196\ttotal: 295ms\tremaining: 988ms\n",
      "230:\tlearn: 0.2022874\ttotal: 296ms\tremaining: 985ms\n",
      "231:\tlearn: 0.2017245\ttotal: 297ms\tremaining: 983ms\n",
      "232:\tlearn: 0.2010834\ttotal: 298ms\tremaining: 981ms\n",
      "233:\tlearn: 0.2006377\ttotal: 299ms\tremaining: 979ms\n",
      "234:\tlearn: 0.2000363\ttotal: 300ms\tremaining: 977ms\n",
      "235:\tlearn: 0.1995673\ttotal: 301ms\tremaining: 975ms\n",
      "236:\tlearn: 0.1989700\ttotal: 302ms\tremaining: 973ms\n",
      "237:\tlearn: 0.1982447\ttotal: 303ms\tremaining: 971ms\n",
      "238:\tlearn: 0.1975011\ttotal: 304ms\tremaining: 969ms\n",
      "239:\tlearn: 0.1969639\ttotal: 305ms\tremaining: 967ms\n",
      "240:\tlearn: 0.1967405\ttotal: 306ms\tremaining: 964ms\n",
      "241:\tlearn: 0.1962469\ttotal: 307ms\tremaining: 963ms\n",
      "242:\tlearn: 0.1959132\ttotal: 308ms\tremaining: 959ms\n",
      "243:\tlearn: 0.1956960\ttotal: 309ms\tremaining: 957ms\n",
      "244:\tlearn: 0.1953661\ttotal: 310ms\tremaining: 955ms\n",
      "245:\tlearn: 0.1948947\ttotal: 311ms\tremaining: 953ms\n",
      "246:\tlearn: 0.1941734\ttotal: 312ms\tremaining: 951ms\n",
      "247:\tlearn: 0.1935437\ttotal: 313ms\tremaining: 949ms\n",
      "248:\tlearn: 0.1933592\ttotal: 314ms\tremaining: 947ms\n",
      "249:\tlearn: 0.1927833\ttotal: 315ms\tremaining: 945ms\n",
      "250:\tlearn: 0.1924948\ttotal: 316ms\tremaining: 943ms\n",
      "251:\tlearn: 0.1920598\ttotal: 317ms\tremaining: 941ms\n",
      "252:\tlearn: 0.1918558\ttotal: 318ms\tremaining: 939ms\n",
      "253:\tlearn: 0.1916977\ttotal: 319ms\tremaining: 938ms\n",
      "254:\tlearn: 0.1911999\ttotal: 320ms\tremaining: 936ms\n",
      "255:\tlearn: 0.1909704\ttotal: 321ms\tremaining: 934ms\n",
      "256:\tlearn: 0.1906697\ttotal: 322ms\tremaining: 932ms\n",
      "257:\tlearn: 0.1903477\ttotal: 323ms\tremaining: 930ms\n",
      "258:\tlearn: 0.1902040\ttotal: 325ms\tremaining: 928ms\n",
      "259:\tlearn: 0.1897992\ttotal: 326ms\tremaining: 926ms\n",
      "260:\tlearn: 0.1892250\ttotal: 327ms\tremaining: 924ms\n",
      "261:\tlearn: 0.1890115\ttotal: 328ms\tremaining: 923ms\n",
      "262:\tlearn: 0.1885965\ttotal: 329ms\tremaining: 921ms\n",
      "263:\tlearn: 0.1881238\ttotal: 330ms\tremaining: 919ms\n",
      "264:\tlearn: 0.1876905\ttotal: 331ms\tremaining: 918ms\n",
      "265:\tlearn: 0.1872040\ttotal: 332ms\tremaining: 916ms\n",
      "266:\tlearn: 0.1867352\ttotal: 333ms\tremaining: 914ms\n",
      "267:\tlearn: 0.1863347\ttotal: 334ms\tremaining: 913ms\n",
      "268:\tlearn: 0.1858698\ttotal: 335ms\tremaining: 911ms\n",
      "269:\tlearn: 0.1851907\ttotal: 336ms\tremaining: 910ms\n",
      "270:\tlearn: 0.1850070\ttotal: 337ms\tremaining: 908ms\n",
      "271:\tlearn: 0.1844866\ttotal: 338ms\tremaining: 906ms\n",
      "272:\tlearn: 0.1843033\ttotal: 339ms\tremaining: 904ms\n",
      "273:\tlearn: 0.1837423\ttotal: 340ms\tremaining: 902ms\n",
      "274:\tlearn: 0.1834213\ttotal: 341ms\tremaining: 900ms\n",
      "275:\tlearn: 0.1830381\ttotal: 343ms\tremaining: 899ms\n",
      "276:\tlearn: 0.1827855\ttotal: 344ms\tremaining: 897ms\n",
      "277:\tlearn: 0.1826008\ttotal: 345ms\tremaining: 895ms\n",
      "278:\tlearn: 0.1820450\ttotal: 346ms\tremaining: 894ms\n",
      "279:\tlearn: 0.1817798\ttotal: 347ms\tremaining: 892ms\n",
      "280:\tlearn: 0.1816418\ttotal: 348ms\tremaining: 890ms\n",
      "281:\tlearn: 0.1814926\ttotal: 349ms\tremaining: 888ms\n",
      "282:\tlearn: 0.1813451\ttotal: 350ms\tremaining: 887ms\n",
      "283:\tlearn: 0.1807578\ttotal: 351ms\tremaining: 885ms\n",
      "284:\tlearn: 0.1806180\ttotal: 352ms\tremaining: 883ms\n",
      "285:\tlearn: 0.1802998\ttotal: 353ms\tremaining: 882ms\n",
      "286:\tlearn: 0.1801956\ttotal: 354ms\tremaining: 879ms\n",
      "287:\tlearn: 0.1796236\ttotal: 355ms\tremaining: 877ms\n",
      "288:\tlearn: 0.1790852\ttotal: 356ms\tremaining: 875ms\n",
      "289:\tlearn: 0.1787331\ttotal: 357ms\tremaining: 873ms\n",
      "290:\tlearn: 0.1783248\ttotal: 358ms\tremaining: 872ms\n",
      "291:\tlearn: 0.1781323\ttotal: 359ms\tremaining: 870ms\n",
      "292:\tlearn: 0.1776891\ttotal: 360ms\tremaining: 868ms\n",
      "293:\tlearn: 0.1775302\ttotal: 361ms\tremaining: 866ms\n",
      "294:\tlearn: 0.1771582\ttotal: 362ms\tremaining: 865ms\n",
      "295:\tlearn: 0.1767268\ttotal: 363ms\tremaining: 863ms\n",
      "296:\tlearn: 0.1762512\ttotal: 364ms\tremaining: 861ms\n",
      "297:\tlearn: 0.1757301\ttotal: 365ms\tremaining: 860ms\n",
      "298:\tlearn: 0.1751897\ttotal: 366ms\tremaining: 858ms\n",
      "299:\tlearn: 0.1750507\ttotal: 367ms\tremaining: 856ms\n",
      "300:\tlearn: 0.1748953\ttotal: 368ms\tremaining: 854ms\n",
      "301:\tlearn: 0.1745859\ttotal: 369ms\tremaining: 853ms\n",
      "302:\tlearn: 0.1744830\ttotal: 370ms\tremaining: 851ms\n",
      "303:\tlearn: 0.1743433\ttotal: 371ms\tremaining: 849ms\n",
      "304:\tlearn: 0.1739720\ttotal: 372ms\tremaining: 847ms\n",
      "305:\tlearn: 0.1734972\ttotal: 373ms\tremaining: 846ms\n",
      "306:\tlearn: 0.1731387\ttotal: 374ms\tremaining: 844ms\n",
      "307:\tlearn: 0.1728486\ttotal: 375ms\tremaining: 842ms\n",
      "308:\tlearn: 0.1724874\ttotal: 376ms\tremaining: 841ms\n",
      "309:\tlearn: 0.1719275\ttotal: 377ms\tremaining: 839ms\n",
      "310:\tlearn: 0.1716605\ttotal: 378ms\tremaining: 837ms\n",
      "311:\tlearn: 0.1711540\ttotal: 379ms\tremaining: 836ms\n",
      "312:\tlearn: 0.1707815\ttotal: 380ms\tremaining: 835ms\n",
      "313:\tlearn: 0.1705197\ttotal: 381ms\tremaining: 833ms\n",
      "314:\tlearn: 0.1704013\ttotal: 382ms\tremaining: 832ms\n",
      "315:\tlearn: 0.1701015\ttotal: 383ms\tremaining: 830ms\n",
      "316:\tlearn: 0.1696782\ttotal: 385ms\tremaining: 828ms\n",
      "317:\tlearn: 0.1693826\ttotal: 386ms\tremaining: 827ms\n",
      "318:\tlearn: 0.1688994\ttotal: 387ms\tremaining: 825ms\n",
      "319:\tlearn: 0.1684712\ttotal: 388ms\tremaining: 824ms\n",
      "320:\tlearn: 0.1681608\ttotal: 389ms\tremaining: 822ms\n",
      "321:\tlearn: 0.1677283\ttotal: 390ms\tremaining: 821ms\n",
      "322:\tlearn: 0.1675757\ttotal: 391ms\tremaining: 819ms\n",
      "323:\tlearn: 0.1671953\ttotal: 392ms\tremaining: 817ms\n",
      "324:\tlearn: 0.1667622\ttotal: 393ms\tremaining: 816ms\n",
      "325:\tlearn: 0.1666604\ttotal: 394ms\tremaining: 814ms\n",
      "326:\tlearn: 0.1663249\ttotal: 395ms\tremaining: 813ms\n",
      "327:\tlearn: 0.1660110\ttotal: 396ms\tremaining: 811ms\n",
      "328:\tlearn: 0.1656824\ttotal: 397ms\tremaining: 810ms\n",
      "329:\tlearn: 0.1655106\ttotal: 398ms\tremaining: 808ms\n",
      "330:\tlearn: 0.1651080\ttotal: 399ms\tremaining: 807ms\n",
      "331:\tlearn: 0.1649683\ttotal: 400ms\tremaining: 805ms\n",
      "332:\tlearn: 0.1646722\ttotal: 401ms\tremaining: 803ms\n",
      "333:\tlearn: 0.1645728\ttotal: 402ms\tremaining: 802ms\n",
      "334:\tlearn: 0.1643229\ttotal: 403ms\tremaining: 800ms\n",
      "335:\tlearn: 0.1642264\ttotal: 404ms\tremaining: 799ms\n",
      "336:\tlearn: 0.1641402\ttotal: 405ms\tremaining: 797ms\n",
      "337:\tlearn: 0.1636767\ttotal: 406ms\tremaining: 795ms\n",
      "338:\tlearn: 0.1632671\ttotal: 407ms\tremaining: 794ms\n",
      "339:\tlearn: 0.1630636\ttotal: 408ms\tremaining: 792ms\n",
      "340:\tlearn: 0.1626454\ttotal: 409ms\tremaining: 791ms\n",
      "341:\tlearn: 0.1624423\ttotal: 410ms\tremaining: 789ms\n"
     ]
    },
    {
     "name": "stdout",
     "output_type": "stream",
     "text": [
      "342:\tlearn: 0.1619290\ttotal: 411ms\tremaining: 788ms\n",
      "343:\tlearn: 0.1615216\ttotal: 413ms\tremaining: 787ms\n",
      "344:\tlearn: 0.1613003\ttotal: 414ms\tremaining: 785ms\n",
      "345:\tlearn: 0.1611967\ttotal: 415ms\tremaining: 784ms\n",
      "346:\tlearn: 0.1610595\ttotal: 416ms\tremaining: 782ms\n",
      "347:\tlearn: 0.1606251\ttotal: 417ms\tremaining: 781ms\n",
      "348:\tlearn: 0.1602530\ttotal: 418ms\tremaining: 780ms\n",
      "349:\tlearn: 0.1598138\ttotal: 419ms\tremaining: 778ms\n",
      "350:\tlearn: 0.1594968\ttotal: 420ms\tremaining: 777ms\n",
      "351:\tlearn: 0.1590173\ttotal: 421ms\tremaining: 775ms\n",
      "352:\tlearn: 0.1588949\ttotal: 422ms\tremaining: 774ms\n",
      "353:\tlearn: 0.1585631\ttotal: 423ms\tremaining: 772ms\n",
      "354:\tlearn: 0.1582124\ttotal: 424ms\tremaining: 771ms\n",
      "355:\tlearn: 0.1579243\ttotal: 425ms\tremaining: 769ms\n",
      "356:\tlearn: 0.1574165\ttotal: 426ms\tremaining: 768ms\n",
      "357:\tlearn: 0.1573306\ttotal: 428ms\tremaining: 767ms\n",
      "358:\tlearn: 0.1569775\ttotal: 429ms\tremaining: 765ms\n",
      "359:\tlearn: 0.1565274\ttotal: 430ms\tremaining: 764ms\n",
      "360:\tlearn: 0.1563790\ttotal: 431ms\tremaining: 762ms\n",
      "361:\tlearn: 0.1558881\ttotal: 432ms\tremaining: 761ms\n",
      "362:\tlearn: 0.1555216\ttotal: 433ms\tremaining: 760ms\n",
      "363:\tlearn: 0.1551341\ttotal: 434ms\tremaining: 758ms\n",
      "364:\tlearn: 0.1550503\ttotal: 435ms\tremaining: 756ms\n",
      "365:\tlearn: 0.1547130\ttotal: 436ms\tremaining: 755ms\n",
      "366:\tlearn: 0.1542782\ttotal: 437ms\tremaining: 754ms\n",
      "367:\tlearn: 0.1541899\ttotal: 438ms\tremaining: 752ms\n",
      "368:\tlearn: 0.1539496\ttotal: 439ms\tremaining: 751ms\n",
      "369:\tlearn: 0.1535873\ttotal: 440ms\tremaining: 749ms\n",
      "370:\tlearn: 0.1532189\ttotal: 441ms\tremaining: 748ms\n",
      "371:\tlearn: 0.1531504\ttotal: 443ms\tremaining: 747ms\n",
      "372:\tlearn: 0.1527819\ttotal: 444ms\tremaining: 746ms\n",
      "373:\tlearn: 0.1523310\ttotal: 445ms\tremaining: 745ms\n",
      "374:\tlearn: 0.1519603\ttotal: 446ms\tremaining: 743ms\n",
      "375:\tlearn: 0.1517809\ttotal: 447ms\tremaining: 742ms\n",
      "376:\tlearn: 0.1514466\ttotal: 448ms\tremaining: 741ms\n",
      "377:\tlearn: 0.1509932\ttotal: 449ms\tremaining: 739ms\n",
      "378:\tlearn: 0.1509224\ttotal: 450ms\tremaining: 738ms\n",
      "379:\tlearn: 0.1504598\ttotal: 451ms\tremaining: 737ms\n",
      "380:\tlearn: 0.1503100\ttotal: 453ms\tremaining: 735ms\n",
      "381:\tlearn: 0.1498686\ttotal: 454ms\tremaining: 734ms\n",
      "382:\tlearn: 0.1496755\ttotal: 455ms\tremaining: 732ms\n",
      "383:\tlearn: 0.1494602\ttotal: 456ms\tremaining: 731ms\n",
      "384:\tlearn: 0.1491077\ttotal: 457ms\tremaining: 730ms\n",
      "385:\tlearn: 0.1490155\ttotal: 458ms\tremaining: 728ms\n",
      "386:\tlearn: 0.1485513\ttotal: 459ms\tremaining: 727ms\n",
      "387:\tlearn: 0.1482294\ttotal: 460ms\tremaining: 725ms\n",
      "388:\tlearn: 0.1481629\ttotal: 461ms\tremaining: 724ms\n",
      "389:\tlearn: 0.1477200\ttotal: 462ms\tremaining: 722ms\n",
      "390:\tlearn: 0.1473745\ttotal: 463ms\tremaining: 721ms\n",
      "391:\tlearn: 0.1469969\ttotal: 464ms\tremaining: 719ms\n",
      "392:\tlearn: 0.1469255\ttotal: 465ms\tremaining: 718ms\n",
      "393:\tlearn: 0.1466032\ttotal: 466ms\tremaining: 716ms\n",
      "394:\tlearn: 0.1463743\ttotal: 467ms\tremaining: 715ms\n",
      "395:\tlearn: 0.1461904\ttotal: 468ms\tremaining: 713ms\n",
      "396:\tlearn: 0.1459780\ttotal: 468ms\tremaining: 711ms\n",
      "397:\tlearn: 0.1455608\ttotal: 469ms\tremaining: 710ms\n",
      "398:\tlearn: 0.1453247\ttotal: 471ms\tremaining: 709ms\n",
      "399:\tlearn: 0.1452665\ttotal: 472ms\tremaining: 707ms\n",
      "400:\tlearn: 0.1449280\ttotal: 473ms\tremaining: 706ms\n",
      "401:\tlearn: 0.1447949\ttotal: 474ms\tremaining: 705ms\n",
      "402:\tlearn: 0.1444635\ttotal: 475ms\tremaining: 703ms\n",
      "403:\tlearn: 0.1442095\ttotal: 476ms\tremaining: 702ms\n",
      "404:\tlearn: 0.1440946\ttotal: 477ms\tremaining: 701ms\n",
      "405:\tlearn: 0.1437317\ttotal: 478ms\tremaining: 699ms\n",
      "406:\tlearn: 0.1435795\ttotal: 479ms\tremaining: 698ms\n",
      "407:\tlearn: 0.1433202\ttotal: 480ms\tremaining: 696ms\n",
      "408:\tlearn: 0.1430016\ttotal: 481ms\tremaining: 695ms\n",
      "409:\tlearn: 0.1426109\ttotal: 482ms\tremaining: 694ms\n",
      "410:\tlearn: 0.1422853\ttotal: 483ms\tremaining: 692ms\n",
      "411:\tlearn: 0.1420047\ttotal: 484ms\tremaining: 691ms\n",
      "412:\tlearn: 0.1416779\ttotal: 485ms\tremaining: 689ms\n",
      "413:\tlearn: 0.1413851\ttotal: 486ms\tremaining: 688ms\n",
      "414:\tlearn: 0.1413239\ttotal: 487ms\tremaining: 687ms\n",
      "415:\tlearn: 0.1408319\ttotal: 488ms\tremaining: 685ms\n",
      "416:\tlearn: 0.1406052\ttotal: 489ms\tremaining: 684ms\n",
      "417:\tlearn: 0.1403389\ttotal: 490ms\tremaining: 683ms\n",
      "418:\tlearn: 0.1400318\ttotal: 491ms\tremaining: 681ms\n",
      "419:\tlearn: 0.1397546\ttotal: 492ms\tremaining: 680ms\n",
      "420:\tlearn: 0.1392498\ttotal: 493ms\tremaining: 679ms\n",
      "421:\tlearn: 0.1389200\ttotal: 495ms\tremaining: 677ms\n",
      "422:\tlearn: 0.1385406\ttotal: 496ms\tremaining: 676ms\n",
      "423:\tlearn: 0.1381723\ttotal: 497ms\tremaining: 675ms\n",
      "424:\tlearn: 0.1379287\ttotal: 498ms\tremaining: 673ms\n",
      "425:\tlearn: 0.1376390\ttotal: 499ms\tremaining: 672ms\n",
      "426:\tlearn: 0.1373432\ttotal: 500ms\tremaining: 671ms\n",
      "427:\tlearn: 0.1370942\ttotal: 501ms\tremaining: 669ms\n",
      "428:\tlearn: 0.1367912\ttotal: 502ms\tremaining: 668ms\n",
      "429:\tlearn: 0.1367377\ttotal: 503ms\tremaining: 667ms\n",
      "430:\tlearn: 0.1364554\ttotal: 504ms\tremaining: 665ms\n",
      "431:\tlearn: 0.1362076\ttotal: 505ms\tremaining: 664ms\n",
      "432:\tlearn: 0.1361538\ttotal: 506ms\tremaining: 663ms\n",
      "433:\tlearn: 0.1357946\ttotal: 507ms\tremaining: 662ms\n",
      "434:\tlearn: 0.1355640\ttotal: 508ms\tremaining: 660ms\n",
      "435:\tlearn: 0.1352317\ttotal: 509ms\tremaining: 659ms\n",
      "436:\tlearn: 0.1349865\ttotal: 510ms\tremaining: 658ms\n",
      "437:\tlearn: 0.1346803\ttotal: 512ms\tremaining: 657ms\n",
      "438:\tlearn: 0.1343644\ttotal: 513ms\tremaining: 655ms\n",
      "439:\tlearn: 0.1341954\ttotal: 514ms\tremaining: 654ms\n",
      "440:\tlearn: 0.1337810\ttotal: 515ms\tremaining: 653ms\n",
      "441:\tlearn: 0.1336026\ttotal: 516ms\tremaining: 651ms\n",
      "442:\tlearn: 0.1333162\ttotal: 517ms\tremaining: 650ms\n",
      "443:\tlearn: 0.1331084\ttotal: 518ms\tremaining: 649ms\n",
      "444:\tlearn: 0.1330692\ttotal: 519ms\tremaining: 647ms\n",
      "445:\tlearn: 0.1326953\ttotal: 520ms\tremaining: 646ms\n",
      "446:\tlearn: 0.1324898\ttotal: 521ms\tremaining: 644ms\n",
      "447:\tlearn: 0.1321931\ttotal: 522ms\tremaining: 643ms\n",
      "448:\tlearn: 0.1318052\ttotal: 523ms\tremaining: 642ms\n",
      "449:\tlearn: 0.1316267\ttotal: 524ms\tremaining: 640ms\n",
      "450:\tlearn: 0.1312884\ttotal: 525ms\tremaining: 639ms\n",
      "451:\tlearn: 0.1309181\ttotal: 526ms\tremaining: 638ms\n",
      "452:\tlearn: 0.1306715\ttotal: 527ms\tremaining: 636ms\n",
      "453:\tlearn: 0.1306178\ttotal: 528ms\tremaining: 635ms\n",
      "454:\tlearn: 0.1303132\ttotal: 529ms\tremaining: 633ms\n",
      "455:\tlearn: 0.1299787\ttotal: 530ms\tremaining: 632ms\n",
      "456:\tlearn: 0.1297422\ttotal: 531ms\tremaining: 631ms\n",
      "457:\tlearn: 0.1294349\ttotal: 532ms\tremaining: 629ms\n",
      "458:\tlearn: 0.1292585\ttotal: 533ms\tremaining: 628ms\n",
      "459:\tlearn: 0.1290382\ttotal: 534ms\tremaining: 627ms\n",
      "460:\tlearn: 0.1287715\ttotal: 535ms\tremaining: 625ms\n",
      "461:\tlearn: 0.1284750\ttotal: 536ms\tremaining: 624ms\n",
      "462:\tlearn: 0.1282909\ttotal: 537ms\tremaining: 623ms\n",
      "463:\tlearn: 0.1280035\ttotal: 538ms\tremaining: 621ms\n",
      "464:\tlearn: 0.1277955\ttotal: 539ms\tremaining: 620ms\n",
      "465:\tlearn: 0.1274356\ttotal: 540ms\tremaining: 619ms\n",
      "466:\tlearn: 0.1271329\ttotal: 541ms\tremaining: 617ms\n",
      "467:\tlearn: 0.1270413\ttotal: 542ms\tremaining: 616ms\n",
      "468:\tlearn: 0.1267581\ttotal: 543ms\tremaining: 615ms\n",
      "469:\tlearn: 0.1265472\ttotal: 544ms\tremaining: 613ms\n",
      "470:\tlearn: 0.1262384\ttotal: 545ms\tremaining: 612ms\n",
      "471:\tlearn: 0.1259519\ttotal: 546ms\tremaining: 611ms\n"
     ]
    },
    {
     "name": "stdout",
     "output_type": "stream",
     "text": [
      "472:\tlearn: 0.1256937\ttotal: 547ms\tremaining: 609ms\n",
      "473:\tlearn: 0.1253335\ttotal: 548ms\tremaining: 608ms\n",
      "474:\tlearn: 0.1251222\ttotal: 549ms\tremaining: 607ms\n",
      "475:\tlearn: 0.1249288\ttotal: 550ms\tremaining: 606ms\n",
      "476:\tlearn: 0.1246303\ttotal: 551ms\tremaining: 605ms\n",
      "477:\tlearn: 0.1244161\ttotal: 552ms\tremaining: 603ms\n",
      "478:\tlearn: 0.1241512\ttotal: 553ms\tremaining: 602ms\n",
      "479:\tlearn: 0.1238614\ttotal: 554ms\tremaining: 601ms\n",
      "480:\tlearn: 0.1237662\ttotal: 555ms\tremaining: 599ms\n",
      "481:\tlearn: 0.1236817\ttotal: 556ms\tremaining: 598ms\n",
      "482:\tlearn: 0.1234041\ttotal: 557ms\tremaining: 597ms\n",
      "483:\tlearn: 0.1231329\ttotal: 558ms\tremaining: 595ms\n",
      "484:\tlearn: 0.1228761\ttotal: 559ms\tremaining: 594ms\n",
      "485:\tlearn: 0.1224875\ttotal: 560ms\tremaining: 593ms\n",
      "486:\tlearn: 0.1222925\ttotal: 561ms\tremaining: 591ms\n",
      "487:\tlearn: 0.1219919\ttotal: 563ms\tremaining: 590ms\n",
      "488:\tlearn: 0.1216781\ttotal: 564ms\tremaining: 589ms\n",
      "489:\tlearn: 0.1214385\ttotal: 565ms\tremaining: 588ms\n",
      "490:\tlearn: 0.1211728\ttotal: 566ms\tremaining: 587ms\n",
      "491:\tlearn: 0.1210109\ttotal: 567ms\tremaining: 585ms\n",
      "492:\tlearn: 0.1207432\ttotal: 569ms\tremaining: 585ms\n",
      "493:\tlearn: 0.1204891\ttotal: 570ms\tremaining: 584ms\n",
      "494:\tlearn: 0.1202105\ttotal: 571ms\tremaining: 583ms\n",
      "495:\tlearn: 0.1199711\ttotal: 572ms\tremaining: 582ms\n",
      "496:\tlearn: 0.1197704\ttotal: 573ms\tremaining: 580ms\n",
      "497:\tlearn: 0.1195876\ttotal: 574ms\tremaining: 579ms\n",
      "498:\tlearn: 0.1193377\ttotal: 575ms\tremaining: 578ms\n",
      "499:\tlearn: 0.1191734\ttotal: 577ms\tremaining: 577ms\n",
      "500:\tlearn: 0.1189738\ttotal: 578ms\tremaining: 575ms\n",
      "501:\tlearn: 0.1188087\ttotal: 579ms\tremaining: 574ms\n",
      "502:\tlearn: 0.1185602\ttotal: 580ms\tremaining: 573ms\n",
      "503:\tlearn: 0.1182605\ttotal: 581ms\tremaining: 572ms\n",
      "504:\tlearn: 0.1181267\ttotal: 582ms\tremaining: 570ms\n",
      "505:\tlearn: 0.1179177\ttotal: 583ms\tremaining: 569ms\n",
      "506:\tlearn: 0.1175906\ttotal: 584ms\tremaining: 568ms\n",
      "507:\tlearn: 0.1173029\ttotal: 585ms\tremaining: 566ms\n",
      "508:\tlearn: 0.1170006\ttotal: 586ms\tremaining: 565ms\n",
      "509:\tlearn: 0.1167785\ttotal: 587ms\tremaining: 564ms\n",
      "510:\tlearn: 0.1165092\ttotal: 588ms\tremaining: 563ms\n",
      "511:\tlearn: 0.1164414\ttotal: 589ms\tremaining: 562ms\n",
      "512:\tlearn: 0.1161103\ttotal: 590ms\tremaining: 560ms\n",
      "513:\tlearn: 0.1159263\ttotal: 591ms\tremaining: 559ms\n",
      "514:\tlearn: 0.1156957\ttotal: 592ms\tremaining: 558ms\n",
      "515:\tlearn: 0.1154652\ttotal: 593ms\tremaining: 557ms\n",
      "516:\tlearn: 0.1152826\ttotal: 594ms\tremaining: 555ms\n",
      "517:\tlearn: 0.1151181\ttotal: 596ms\tremaining: 554ms\n",
      "518:\tlearn: 0.1148668\ttotal: 597ms\tremaining: 553ms\n",
      "519:\tlearn: 0.1146886\ttotal: 598ms\tremaining: 552ms\n",
      "520:\tlearn: 0.1144270\ttotal: 599ms\tremaining: 550ms\n",
      "521:\tlearn: 0.1143069\ttotal: 600ms\tremaining: 549ms\n",
      "522:\tlearn: 0.1140428\ttotal: 601ms\tremaining: 548ms\n",
      "523:\tlearn: 0.1137276\ttotal: 602ms\tremaining: 547ms\n",
      "524:\tlearn: 0.1135111\ttotal: 603ms\tremaining: 545ms\n",
      "525:\tlearn: 0.1133166\ttotal: 604ms\tremaining: 544ms\n",
      "526:\tlearn: 0.1131202\ttotal: 605ms\tremaining: 543ms\n",
      "527:\tlearn: 0.1129030\ttotal: 606ms\tremaining: 542ms\n",
      "528:\tlearn: 0.1127674\ttotal: 607ms\tremaining: 540ms\n",
      "529:\tlearn: 0.1125135\ttotal: 608ms\tremaining: 539ms\n",
      "530:\tlearn: 0.1123362\ttotal: 609ms\tremaining: 538ms\n",
      "531:\tlearn: 0.1121259\ttotal: 610ms\tremaining: 537ms\n",
      "532:\tlearn: 0.1118472\ttotal: 611ms\tremaining: 535ms\n",
      "533:\tlearn: 0.1116246\ttotal: 612ms\tremaining: 534ms\n",
      "534:\tlearn: 0.1115400\ttotal: 613ms\tremaining: 533ms\n",
      "535:\tlearn: 0.1112910\ttotal: 614ms\tremaining: 532ms\n",
      "536:\tlearn: 0.1111809\ttotal: 615ms\tremaining: 530ms\n",
      "537:\tlearn: 0.1109388\ttotal: 616ms\tremaining: 529ms\n",
      "538:\tlearn: 0.1106437\ttotal: 618ms\tremaining: 528ms\n",
      "539:\tlearn: 0.1103563\ttotal: 619ms\tremaining: 527ms\n",
      "540:\tlearn: 0.1101632\ttotal: 620ms\tremaining: 526ms\n",
      "541:\tlearn: 0.1099665\ttotal: 621ms\tremaining: 524ms\n",
      "542:\tlearn: 0.1096766\ttotal: 622ms\tremaining: 523ms\n",
      "543:\tlearn: 0.1094624\ttotal: 623ms\tremaining: 522ms\n",
      "544:\tlearn: 0.1091562\ttotal: 624ms\tremaining: 521ms\n",
      "545:\tlearn: 0.1089056\ttotal: 625ms\tremaining: 519ms\n",
      "546:\tlearn: 0.1088166\ttotal: 626ms\tremaining: 518ms\n",
      "547:\tlearn: 0.1087147\ttotal: 627ms\tremaining: 517ms\n",
      "548:\tlearn: 0.1085009\ttotal: 628ms\tremaining: 516ms\n",
      "549:\tlearn: 0.1083271\ttotal: 629ms\tremaining: 514ms\n",
      "550:\tlearn: 0.1081178\ttotal: 630ms\tremaining: 513ms\n",
      "551:\tlearn: 0.1078709\ttotal: 631ms\tremaining: 512ms\n",
      "552:\tlearn: 0.1076745\ttotal: 632ms\tremaining: 511ms\n",
      "553:\tlearn: 0.1073934\ttotal: 633ms\tremaining: 509ms\n",
      "554:\tlearn: 0.1071000\ttotal: 634ms\tremaining: 508ms\n",
      "555:\tlearn: 0.1069429\ttotal: 635ms\tremaining: 507ms\n",
      "556:\tlearn: 0.1067211\ttotal: 636ms\tremaining: 506ms\n",
      "557:\tlearn: 0.1065126\ttotal: 637ms\tremaining: 504ms\n",
      "558:\tlearn: 0.1062392\ttotal: 638ms\tremaining: 503ms\n",
      "559:\tlearn: 0.1060143\ttotal: 639ms\tremaining: 502ms\n",
      "560:\tlearn: 0.1058408\ttotal: 640ms\tremaining: 501ms\n",
      "561:\tlearn: 0.1057831\ttotal: 641ms\tremaining: 500ms\n",
      "562:\tlearn: 0.1056620\ttotal: 642ms\tremaining: 498ms\n",
      "563:\tlearn: 0.1054546\ttotal: 643ms\tremaining: 497ms\n",
      "564:\tlearn: 0.1051546\ttotal: 644ms\tremaining: 496ms\n",
      "565:\tlearn: 0.1048752\ttotal: 645ms\tremaining: 495ms\n",
      "566:\tlearn: 0.1047114\ttotal: 646ms\tremaining: 493ms\n",
      "567:\tlearn: 0.1044976\ttotal: 647ms\tremaining: 492ms\n",
      "568:\tlearn: 0.1043085\ttotal: 648ms\tremaining: 491ms\n",
      "569:\tlearn: 0.1041065\ttotal: 649ms\tremaining: 490ms\n",
      "570:\tlearn: 0.1040406\ttotal: 650ms\tremaining: 488ms\n",
      "571:\tlearn: 0.1038927\ttotal: 651ms\tremaining: 487ms\n",
      "572:\tlearn: 0.1037924\ttotal: 652ms\tremaining: 486ms\n",
      "573:\tlearn: 0.1035565\ttotal: 653ms\tremaining: 485ms\n",
      "574:\tlearn: 0.1032579\ttotal: 654ms\tremaining: 483ms\n",
      "575:\tlearn: 0.1030684\ttotal: 655ms\tremaining: 482ms\n",
      "576:\tlearn: 0.1028586\ttotal: 656ms\tremaining: 481ms\n",
      "577:\tlearn: 0.1026166\ttotal: 657ms\tremaining: 480ms\n",
      "578:\tlearn: 0.1023965\ttotal: 658ms\tremaining: 478ms\n",
      "579:\tlearn: 0.1022493\ttotal: 659ms\tremaining: 477ms\n",
      "580:\tlearn: 0.1021623\ttotal: 660ms\tremaining: 476ms\n",
      "581:\tlearn: 0.1020906\ttotal: 661ms\tremaining: 475ms\n",
      "582:\tlearn: 0.1018790\ttotal: 662ms\tremaining: 473ms\n",
      "583:\tlearn: 0.1017881\ttotal: 663ms\tremaining: 472ms\n",
      "584:\tlearn: 0.1015777\ttotal: 664ms\tremaining: 471ms\n",
      "585:\tlearn: 0.1013198\ttotal: 665ms\tremaining: 470ms\n",
      "586:\tlearn: 0.1010637\ttotal: 666ms\tremaining: 469ms\n",
      "587:\tlearn: 0.1008789\ttotal: 667ms\tremaining: 467ms\n",
      "588:\tlearn: 0.1006449\ttotal: 668ms\tremaining: 466ms\n",
      "589:\tlearn: 0.1004129\ttotal: 669ms\tremaining: 465ms\n",
      "590:\tlearn: 0.1002253\ttotal: 670ms\tremaining: 464ms\n",
      "591:\tlearn: 0.1000568\ttotal: 671ms\tremaining: 463ms\n",
      "592:\tlearn: 0.0999263\ttotal: 673ms\tremaining: 462ms\n",
      "593:\tlearn: 0.0998341\ttotal: 674ms\tremaining: 460ms\n",
      "594:\tlearn: 0.0997493\ttotal: 675ms\tremaining: 459ms\n",
      "595:\tlearn: 0.0996642\ttotal: 676ms\tremaining: 458ms\n",
      "596:\tlearn: 0.0994721\ttotal: 677ms\tremaining: 457ms\n",
      "597:\tlearn: 0.0993078\ttotal: 678ms\tremaining: 456ms\n",
      "598:\tlearn: 0.0992020\ttotal: 679ms\tremaining: 454ms\n",
      "599:\tlearn: 0.0989991\ttotal: 680ms\tremaining: 453ms\n",
      "600:\tlearn: 0.0988687\ttotal: 681ms\tremaining: 452ms\n",
      "601:\tlearn: 0.0987862\ttotal: 682ms\tremaining: 451ms\n"
     ]
    },
    {
     "name": "stdout",
     "output_type": "stream",
     "text": [
      "602:\tlearn: 0.0985688\ttotal: 683ms\tremaining: 450ms\n",
      "603:\tlearn: 0.0983776\ttotal: 685ms\tremaining: 449ms\n",
      "604:\tlearn: 0.0982084\ttotal: 686ms\tremaining: 448ms\n",
      "605:\tlearn: 0.0980283\ttotal: 687ms\tremaining: 446ms\n",
      "606:\tlearn: 0.0978626\ttotal: 688ms\tremaining: 445ms\n",
      "607:\tlearn: 0.0976427\ttotal: 689ms\tremaining: 444ms\n",
      "608:\tlearn: 0.0974335\ttotal: 690ms\tremaining: 443ms\n",
      "609:\tlearn: 0.0972638\ttotal: 691ms\tremaining: 442ms\n",
      "610:\tlearn: 0.0970857\ttotal: 692ms\tremaining: 440ms\n",
      "611:\tlearn: 0.0969147\ttotal: 693ms\tremaining: 439ms\n",
      "612:\tlearn: 0.0967354\ttotal: 694ms\tremaining: 438ms\n",
      "613:\tlearn: 0.0966192\ttotal: 695ms\tremaining: 437ms\n",
      "614:\tlearn: 0.0964310\ttotal: 696ms\tremaining: 436ms\n",
      "615:\tlearn: 0.0962710\ttotal: 697ms\tremaining: 435ms\n",
      "616:\tlearn: 0.0960407\ttotal: 698ms\tremaining: 433ms\n",
      "617:\tlearn: 0.0957772\ttotal: 699ms\tremaining: 432ms\n",
      "618:\tlearn: 0.0956334\ttotal: 700ms\tremaining: 431ms\n",
      "619:\tlearn: 0.0954710\ttotal: 701ms\tremaining: 430ms\n",
      "620:\tlearn: 0.0953283\ttotal: 702ms\tremaining: 429ms\n",
      "621:\tlearn: 0.0951482\ttotal: 703ms\tremaining: 428ms\n",
      "622:\tlearn: 0.0949463\ttotal: 705ms\tremaining: 426ms\n",
      "623:\tlearn: 0.0947676\ttotal: 706ms\tremaining: 425ms\n",
      "624:\tlearn: 0.0944908\ttotal: 707ms\tremaining: 424ms\n",
      "625:\tlearn: 0.0942686\ttotal: 708ms\tremaining: 423ms\n",
      "626:\tlearn: 0.0941648\ttotal: 709ms\tremaining: 422ms\n",
      "627:\tlearn: 0.0940684\ttotal: 710ms\tremaining: 420ms\n",
      "628:\tlearn: 0.0938788\ttotal: 711ms\tremaining: 419ms\n",
      "629:\tlearn: 0.0937779\ttotal: 712ms\tremaining: 418ms\n",
      "630:\tlearn: 0.0936269\ttotal: 713ms\tremaining: 417ms\n",
      "631:\tlearn: 0.0934736\ttotal: 714ms\tremaining: 416ms\n",
      "632:\tlearn: 0.0933342\ttotal: 715ms\tremaining: 414ms\n",
      "633:\tlearn: 0.0931050\ttotal: 716ms\tremaining: 413ms\n",
      "634:\tlearn: 0.0929736\ttotal: 717ms\tremaining: 412ms\n",
      "635:\tlearn: 0.0927832\ttotal: 718ms\tremaining: 411ms\n",
      "636:\tlearn: 0.0925778\ttotal: 719ms\tremaining: 410ms\n",
      "637:\tlearn: 0.0923754\ttotal: 720ms\tremaining: 408ms\n",
      "638:\tlearn: 0.0922449\ttotal: 721ms\tremaining: 407ms\n",
      "639:\tlearn: 0.0920736\ttotal: 722ms\tremaining: 406ms\n",
      "640:\tlearn: 0.0919298\ttotal: 723ms\tremaining: 405ms\n",
      "641:\tlearn: 0.0917924\ttotal: 724ms\tremaining: 404ms\n",
      "642:\tlearn: 0.0916802\ttotal: 725ms\tremaining: 403ms\n",
      "643:\tlearn: 0.0915979\ttotal: 726ms\tremaining: 401ms\n",
      "644:\tlearn: 0.0913753\ttotal: 727ms\tremaining: 400ms\n",
      "645:\tlearn: 0.0912524\ttotal: 728ms\tremaining: 399ms\n",
      "646:\tlearn: 0.0911478\ttotal: 729ms\tremaining: 398ms\n",
      "647:\tlearn: 0.0910077\ttotal: 730ms\tremaining: 397ms\n",
      "648:\tlearn: 0.0908386\ttotal: 731ms\tremaining: 396ms\n",
      "649:\tlearn: 0.0907439\ttotal: 732ms\tremaining: 394ms\n",
      "650:\tlearn: 0.0907004\ttotal: 733ms\tremaining: 393ms\n",
      "651:\tlearn: 0.0905678\ttotal: 735ms\tremaining: 392ms\n",
      "652:\tlearn: 0.0904127\ttotal: 736ms\tremaining: 391ms\n",
      "653:\tlearn: 0.0902323\ttotal: 737ms\tremaining: 390ms\n",
      "654:\tlearn: 0.0899875\ttotal: 738ms\tremaining: 389ms\n",
      "655:\tlearn: 0.0897921\ttotal: 739ms\tremaining: 387ms\n",
      "656:\tlearn: 0.0897519\ttotal: 740ms\tremaining: 386ms\n",
      "657:\tlearn: 0.0896313\ttotal: 741ms\tremaining: 385ms\n",
      "658:\tlearn: 0.0894692\ttotal: 742ms\tremaining: 384ms\n",
      "659:\tlearn: 0.0893134\ttotal: 743ms\tremaining: 383ms\n",
      "660:\tlearn: 0.0891967\ttotal: 744ms\tremaining: 381ms\n",
      "661:\tlearn: 0.0890354\ttotal: 745ms\tremaining: 380ms\n",
      "662:\tlearn: 0.0888716\ttotal: 746ms\tremaining: 379ms\n",
      "663:\tlearn: 0.0887324\ttotal: 747ms\tremaining: 378ms\n",
      "664:\tlearn: 0.0885935\ttotal: 748ms\tremaining: 377ms\n",
      "665:\tlearn: 0.0884499\ttotal: 749ms\tremaining: 376ms\n",
      "666:\tlearn: 0.0883275\ttotal: 750ms\tremaining: 375ms\n",
      "667:\tlearn: 0.0881650\ttotal: 751ms\tremaining: 373ms\n",
      "668:\tlearn: 0.0879768\ttotal: 752ms\tremaining: 372ms\n",
      "669:\tlearn: 0.0879378\ttotal: 753ms\tremaining: 371ms\n",
      "670:\tlearn: 0.0877276\ttotal: 754ms\tremaining: 370ms\n",
      "671:\tlearn: 0.0875392\ttotal: 756ms\tremaining: 369ms\n",
      "672:\tlearn: 0.0874280\ttotal: 757ms\tremaining: 368ms\n",
      "673:\tlearn: 0.0873069\ttotal: 758ms\tremaining: 366ms\n",
      "674:\tlearn: 0.0870954\ttotal: 759ms\tremaining: 365ms\n",
      "675:\tlearn: 0.0869557\ttotal: 760ms\tremaining: 364ms\n",
      "676:\tlearn: 0.0868091\ttotal: 761ms\tremaining: 363ms\n",
      "677:\tlearn: 0.0866213\ttotal: 762ms\tremaining: 362ms\n",
      "678:\tlearn: 0.0865300\ttotal: 763ms\tremaining: 361ms\n",
      "679:\tlearn: 0.0863923\ttotal: 764ms\tremaining: 359ms\n",
      "680:\tlearn: 0.0862423\ttotal: 765ms\tremaining: 358ms\n",
      "681:\tlearn: 0.0860320\ttotal: 766ms\tremaining: 357ms\n",
      "682:\tlearn: 0.0858695\ttotal: 767ms\tremaining: 356ms\n",
      "683:\tlearn: 0.0858146\ttotal: 768ms\tremaining: 355ms\n",
      "684:\tlearn: 0.0857326\ttotal: 769ms\tremaining: 354ms\n",
      "685:\tlearn: 0.0855455\ttotal: 770ms\tremaining: 353ms\n",
      "686:\tlearn: 0.0855102\ttotal: 771ms\tremaining: 351ms\n",
      "687:\tlearn: 0.0854671\ttotal: 772ms\tremaining: 350ms\n",
      "688:\tlearn: 0.0853387\ttotal: 773ms\tremaining: 349ms\n",
      "689:\tlearn: 0.0852528\ttotal: 774ms\tremaining: 348ms\n",
      "690:\tlearn: 0.0851638\ttotal: 775ms\tremaining: 347ms\n",
      "691:\tlearn: 0.0850543\ttotal: 776ms\tremaining: 345ms\n",
      "692:\tlearn: 0.0848886\ttotal: 777ms\tremaining: 344ms\n",
      "693:\tlearn: 0.0846804\ttotal: 778ms\tremaining: 343ms\n",
      "694:\tlearn: 0.0846026\ttotal: 779ms\tremaining: 342ms\n",
      "695:\tlearn: 0.0844594\ttotal: 780ms\tremaining: 341ms\n",
      "696:\tlearn: 0.0843157\ttotal: 781ms\tremaining: 340ms\n",
      "697:\tlearn: 0.0842140\ttotal: 782ms\tremaining: 339ms\n",
      "698:\tlearn: 0.0840967\ttotal: 783ms\tremaining: 337ms\n",
      "699:\tlearn: 0.0839472\ttotal: 784ms\tremaining: 336ms\n",
      "700:\tlearn: 0.0838221\ttotal: 785ms\tremaining: 335ms\n",
      "701:\tlearn: 0.0837237\ttotal: 786ms\tremaining: 334ms\n",
      "702:\tlearn: 0.0835968\ttotal: 787ms\tremaining: 333ms\n",
      "703:\tlearn: 0.0834518\ttotal: 788ms\tremaining: 332ms\n",
      "704:\tlearn: 0.0833420\ttotal: 790ms\tremaining: 330ms\n",
      "705:\tlearn: 0.0832952\ttotal: 791ms\tremaining: 329ms\n",
      "706:\tlearn: 0.0831492\ttotal: 792ms\tremaining: 328ms\n",
      "707:\tlearn: 0.0830526\ttotal: 793ms\tremaining: 327ms\n",
      "708:\tlearn: 0.0829289\ttotal: 794ms\tremaining: 326ms\n",
      "709:\tlearn: 0.0828129\ttotal: 795ms\tremaining: 325ms\n",
      "710:\tlearn: 0.0826444\ttotal: 796ms\tremaining: 324ms\n",
      "711:\tlearn: 0.0824966\ttotal: 797ms\tremaining: 322ms\n",
      "712:\tlearn: 0.0823659\ttotal: 798ms\tremaining: 321ms\n",
      "713:\tlearn: 0.0822615\ttotal: 799ms\tremaining: 320ms\n",
      "714:\tlearn: 0.0820618\ttotal: 800ms\tremaining: 319ms\n",
      "715:\tlearn: 0.0819459\ttotal: 801ms\tremaining: 318ms\n",
      "716:\tlearn: 0.0818284\ttotal: 802ms\tremaining: 316ms\n",
      "717:\tlearn: 0.0817366\ttotal: 803ms\tremaining: 315ms\n",
      "718:\tlearn: 0.0815711\ttotal: 804ms\tremaining: 314ms\n",
      "719:\tlearn: 0.0814592\ttotal: 805ms\tremaining: 313ms\n",
      "720:\tlearn: 0.0813840\ttotal: 806ms\tremaining: 312ms\n",
      "721:\tlearn: 0.0812346\ttotal: 807ms\tremaining: 311ms\n",
      "722:\tlearn: 0.0811682\ttotal: 808ms\tremaining: 309ms\n",
      "723:\tlearn: 0.0810933\ttotal: 809ms\tremaining: 308ms\n",
      "724:\tlearn: 0.0809697\ttotal: 810ms\tremaining: 307ms\n",
      "725:\tlearn: 0.0808858\ttotal: 811ms\tremaining: 306ms\n",
      "726:\tlearn: 0.0807330\ttotal: 812ms\tremaining: 305ms\n",
      "727:\tlearn: 0.0806079\ttotal: 813ms\tremaining: 304ms\n",
      "728:\tlearn: 0.0804680\ttotal: 814ms\tremaining: 303ms\n",
      "729:\tlearn: 0.0803124\ttotal: 815ms\tremaining: 301ms\n",
      "730:\tlearn: 0.0802585\ttotal: 816ms\tremaining: 300ms\n",
      "731:\tlearn: 0.0801523\ttotal: 817ms\tremaining: 299ms\n"
     ]
    },
    {
     "name": "stdout",
     "output_type": "stream",
     "text": [
      "732:\tlearn: 0.0800469\ttotal: 818ms\tremaining: 298ms\n",
      "733:\tlearn: 0.0798286\ttotal: 819ms\tremaining: 297ms\n",
      "734:\tlearn: 0.0796695\ttotal: 820ms\tremaining: 296ms\n",
      "735:\tlearn: 0.0795770\ttotal: 821ms\tremaining: 295ms\n",
      "736:\tlearn: 0.0795051\ttotal: 822ms\tremaining: 293ms\n",
      "737:\tlearn: 0.0794318\ttotal: 823ms\tremaining: 292ms\n",
      "738:\tlearn: 0.0793119\ttotal: 824ms\tremaining: 291ms\n",
      "739:\tlearn: 0.0792592\ttotal: 826ms\tremaining: 290ms\n",
      "740:\tlearn: 0.0791797\ttotal: 827ms\tremaining: 289ms\n",
      "741:\tlearn: 0.0791198\ttotal: 828ms\tremaining: 288ms\n",
      "742:\tlearn: 0.0790223\ttotal: 829ms\tremaining: 287ms\n",
      "743:\tlearn: 0.0788772\ttotal: 830ms\tremaining: 286ms\n",
      "744:\tlearn: 0.0787792\ttotal: 831ms\tremaining: 285ms\n",
      "745:\tlearn: 0.0786299\ttotal: 832ms\tremaining: 283ms\n",
      "746:\tlearn: 0.0784980\ttotal: 833ms\tremaining: 282ms\n",
      "747:\tlearn: 0.0784009\ttotal: 834ms\tremaining: 281ms\n",
      "748:\tlearn: 0.0782202\ttotal: 835ms\tremaining: 280ms\n",
      "749:\tlearn: 0.0780897\ttotal: 836ms\tremaining: 279ms\n",
      "750:\tlearn: 0.0780254\ttotal: 837ms\tremaining: 278ms\n",
      "751:\tlearn: 0.0779960\ttotal: 838ms\tremaining: 276ms\n",
      "752:\tlearn: 0.0778670\ttotal: 839ms\tremaining: 275ms\n",
      "753:\tlearn: 0.0778369\ttotal: 840ms\tremaining: 274ms\n",
      "754:\tlearn: 0.0777396\ttotal: 841ms\tremaining: 273ms\n",
      "755:\tlearn: 0.0775868\ttotal: 842ms\tremaining: 272ms\n",
      "756:\tlearn: 0.0775091\ttotal: 843ms\tremaining: 271ms\n",
      "757:\tlearn: 0.0774004\ttotal: 844ms\tremaining: 270ms\n",
      "758:\tlearn: 0.0772853\ttotal: 845ms\tremaining: 268ms\n",
      "759:\tlearn: 0.0771489\ttotal: 846ms\tremaining: 267ms\n",
      "760:\tlearn: 0.0770325\ttotal: 847ms\tremaining: 266ms\n",
      "761:\tlearn: 0.0769237\ttotal: 848ms\tremaining: 265ms\n",
      "762:\tlearn: 0.0768133\ttotal: 849ms\tremaining: 264ms\n",
      "763:\tlearn: 0.0767339\ttotal: 850ms\tremaining: 263ms\n",
      "764:\tlearn: 0.0766800\ttotal: 851ms\tremaining: 262ms\n",
      "765:\tlearn: 0.0766173\ttotal: 852ms\tremaining: 260ms\n",
      "766:\tlearn: 0.0764988\ttotal: 853ms\tremaining: 259ms\n",
      "767:\tlearn: 0.0764438\ttotal: 854ms\tremaining: 258ms\n",
      "768:\tlearn: 0.0763114\ttotal: 856ms\tremaining: 257ms\n",
      "769:\tlearn: 0.0761247\ttotal: 857ms\tremaining: 256ms\n",
      "770:\tlearn: 0.0760403\ttotal: 858ms\tremaining: 255ms\n",
      "771:\tlearn: 0.0759993\ttotal: 859ms\tremaining: 254ms\n",
      "772:\tlearn: 0.0759390\ttotal: 860ms\tremaining: 253ms\n",
      "773:\tlearn: 0.0758445\ttotal: 861ms\tremaining: 251ms\n",
      "774:\tlearn: 0.0756734\ttotal: 862ms\tremaining: 250ms\n",
      "775:\tlearn: 0.0756253\ttotal: 863ms\tremaining: 249ms\n",
      "776:\tlearn: 0.0754616\ttotal: 864ms\tremaining: 248ms\n",
      "777:\tlearn: 0.0753701\ttotal: 865ms\tremaining: 247ms\n",
      "778:\tlearn: 0.0753137\ttotal: 866ms\tremaining: 246ms\n",
      "779:\tlearn: 0.0751804\ttotal: 867ms\tremaining: 245ms\n",
      "780:\tlearn: 0.0750774\ttotal: 868ms\tremaining: 244ms\n",
      "781:\tlearn: 0.0748793\ttotal: 870ms\tremaining: 242ms\n",
      "782:\tlearn: 0.0747917\ttotal: 871ms\tremaining: 241ms\n",
      "783:\tlearn: 0.0747635\ttotal: 872ms\tremaining: 240ms\n",
      "784:\tlearn: 0.0746598\ttotal: 873ms\tremaining: 239ms\n",
      "785:\tlearn: 0.0745353\ttotal: 874ms\tremaining: 238ms\n",
      "786:\tlearn: 0.0744516\ttotal: 875ms\tremaining: 237ms\n",
      "787:\tlearn: 0.0743671\ttotal: 876ms\tremaining: 236ms\n",
      "788:\tlearn: 0.0742447\ttotal: 877ms\tremaining: 235ms\n",
      "789:\tlearn: 0.0740911\ttotal: 878ms\tremaining: 233ms\n",
      "790:\tlearn: 0.0739016\ttotal: 879ms\tremaining: 232ms\n",
      "791:\tlearn: 0.0737637\ttotal: 881ms\tremaining: 231ms\n",
      "792:\tlearn: 0.0736375\ttotal: 882ms\tremaining: 230ms\n",
      "793:\tlearn: 0.0736097\ttotal: 883ms\tremaining: 229ms\n",
      "794:\tlearn: 0.0735127\ttotal: 884ms\tremaining: 228ms\n",
      "795:\tlearn: 0.0733902\ttotal: 885ms\tremaining: 227ms\n",
      "796:\tlearn: 0.0732572\ttotal: 886ms\tremaining: 226ms\n",
      "797:\tlearn: 0.0731576\ttotal: 887ms\tremaining: 225ms\n",
      "798:\tlearn: 0.0730608\ttotal: 888ms\tremaining: 223ms\n",
      "799:\tlearn: 0.0730095\ttotal: 889ms\tremaining: 222ms\n",
      "800:\tlearn: 0.0729218\ttotal: 890ms\tremaining: 221ms\n",
      "801:\tlearn: 0.0728077\ttotal: 891ms\tremaining: 220ms\n",
      "802:\tlearn: 0.0727003\ttotal: 892ms\tremaining: 219ms\n",
      "803:\tlearn: 0.0725470\ttotal: 893ms\tremaining: 218ms\n",
      "804:\tlearn: 0.0725229\ttotal: 894ms\tremaining: 217ms\n",
      "805:\tlearn: 0.0723752\ttotal: 896ms\tremaining: 216ms\n",
      "806:\tlearn: 0.0722231\ttotal: 897ms\tremaining: 214ms\n",
      "807:\tlearn: 0.0720972\ttotal: 898ms\tremaining: 213ms\n",
      "808:\tlearn: 0.0720469\ttotal: 899ms\tremaining: 212ms\n",
      "809:\tlearn: 0.0719586\ttotal: 900ms\tremaining: 211ms\n",
      "810:\tlearn: 0.0718351\ttotal: 901ms\tremaining: 210ms\n",
      "811:\tlearn: 0.0716904\ttotal: 902ms\tremaining: 209ms\n",
      "812:\tlearn: 0.0715987\ttotal: 903ms\tremaining: 208ms\n",
      "813:\tlearn: 0.0715598\ttotal: 904ms\tremaining: 207ms\n",
      "814:\tlearn: 0.0714205\ttotal: 905ms\tremaining: 205ms\n",
      "815:\tlearn: 0.0713234\ttotal: 906ms\tremaining: 204ms\n",
      "816:\tlearn: 0.0713030\ttotal: 907ms\tremaining: 203ms\n",
      "817:\tlearn: 0.0711721\ttotal: 908ms\tremaining: 202ms\n",
      "818:\tlearn: 0.0711431\ttotal: 909ms\tremaining: 201ms\n",
      "819:\tlearn: 0.0710468\ttotal: 910ms\tremaining: 200ms\n",
      "820:\tlearn: 0.0710102\ttotal: 911ms\tremaining: 199ms\n",
      "821:\tlearn: 0.0708691\ttotal: 912ms\tremaining: 198ms\n",
      "822:\tlearn: 0.0707468\ttotal: 913ms\tremaining: 196ms\n",
      "823:\tlearn: 0.0706348\ttotal: 914ms\tremaining: 195ms\n",
      "824:\tlearn: 0.0705164\ttotal: 916ms\tremaining: 194ms\n",
      "825:\tlearn: 0.0704228\ttotal: 917ms\tremaining: 193ms\n",
      "826:\tlearn: 0.0702719\ttotal: 918ms\tremaining: 192ms\n",
      "827:\tlearn: 0.0702101\ttotal: 919ms\tremaining: 191ms\n",
      "828:\tlearn: 0.0700677\ttotal: 920ms\tremaining: 190ms\n",
      "829:\tlearn: 0.0699924\ttotal: 921ms\tremaining: 189ms\n",
      "830:\tlearn: 0.0699281\ttotal: 922ms\tremaining: 187ms\n",
      "831:\tlearn: 0.0698912\ttotal: 923ms\tremaining: 186ms\n",
      "832:\tlearn: 0.0698362\ttotal: 924ms\tremaining: 185ms\n",
      "833:\tlearn: 0.0697388\ttotal: 925ms\tremaining: 184ms\n",
      "834:\tlearn: 0.0696545\ttotal: 926ms\tremaining: 183ms\n",
      "835:\tlearn: 0.0695648\ttotal: 927ms\tremaining: 182ms\n",
      "836:\tlearn: 0.0694969\ttotal: 928ms\tremaining: 181ms\n",
      "837:\tlearn: 0.0694343\ttotal: 929ms\tremaining: 180ms\n",
      "838:\tlearn: 0.0692963\ttotal: 931ms\tremaining: 179ms\n",
      "839:\tlearn: 0.0691711\ttotal: 931ms\tremaining: 177ms\n",
      "840:\tlearn: 0.0690192\ttotal: 932ms\tremaining: 176ms\n",
      "841:\tlearn: 0.0689465\ttotal: 933ms\tremaining: 175ms\n",
      "842:\tlearn: 0.0688623\ttotal: 934ms\tremaining: 174ms\n",
      "843:\tlearn: 0.0687692\ttotal: 935ms\tremaining: 173ms\n",
      "844:\tlearn: 0.0686448\ttotal: 937ms\tremaining: 172ms\n",
      "845:\tlearn: 0.0684750\ttotal: 938ms\tremaining: 171ms\n",
      "846:\tlearn: 0.0683415\ttotal: 939ms\tremaining: 170ms\n",
      "847:\tlearn: 0.0682503\ttotal: 940ms\tremaining: 168ms\n",
      "848:\tlearn: 0.0681680\ttotal: 941ms\tremaining: 167ms\n",
      "849:\tlearn: 0.0680640\ttotal: 942ms\tremaining: 166ms\n",
      "850:\tlearn: 0.0679969\ttotal: 943ms\tremaining: 165ms\n",
      "851:\tlearn: 0.0678786\ttotal: 944ms\tremaining: 164ms\n",
      "852:\tlearn: 0.0677939\ttotal: 945ms\tremaining: 163ms\n",
      "853:\tlearn: 0.0677236\ttotal: 946ms\tremaining: 162ms\n",
      "854:\tlearn: 0.0676063\ttotal: 947ms\tremaining: 161ms\n",
      "855:\tlearn: 0.0674739\ttotal: 948ms\tremaining: 159ms\n",
      "856:\tlearn: 0.0673856\ttotal: 949ms\tremaining: 158ms\n"
     ]
    },
    {
     "name": "stdout",
     "output_type": "stream",
     "text": [
      "857:\tlearn: 0.0672486\ttotal: 950ms\tremaining: 157ms\n",
      "858:\tlearn: 0.0671328\ttotal: 951ms\tremaining: 156ms\n",
      "859:\tlearn: 0.0671101\ttotal: 953ms\tremaining: 155ms\n",
      "860:\tlearn: 0.0670878\ttotal: 954ms\tremaining: 154ms\n",
      "861:\tlearn: 0.0670640\ttotal: 955ms\tremaining: 153ms\n",
      "862:\tlearn: 0.0669048\ttotal: 956ms\tremaining: 152ms\n",
      "863:\tlearn: 0.0667877\ttotal: 957ms\tremaining: 151ms\n",
      "864:\tlearn: 0.0667434\ttotal: 958ms\tremaining: 149ms\n",
      "865:\tlearn: 0.0666581\ttotal: 959ms\tremaining: 148ms\n",
      "866:\tlearn: 0.0665432\ttotal: 960ms\tremaining: 147ms\n",
      "867:\tlearn: 0.0664408\ttotal: 961ms\tremaining: 146ms\n",
      "868:\tlearn: 0.0663304\ttotal: 962ms\tremaining: 145ms\n",
      "869:\tlearn: 0.0662524\ttotal: 963ms\tremaining: 144ms\n",
      "870:\tlearn: 0.0662134\ttotal: 964ms\tremaining: 143ms\n",
      "871:\tlearn: 0.0661186\ttotal: 965ms\tremaining: 142ms\n",
      "872:\tlearn: 0.0660507\ttotal: 966ms\tremaining: 141ms\n",
      "873:\tlearn: 0.0659932\ttotal: 967ms\tremaining: 139ms\n",
      "874:\tlearn: 0.0658605\ttotal: 968ms\tremaining: 138ms\n",
      "875:\tlearn: 0.0658420\ttotal: 969ms\tremaining: 137ms\n",
      "876:\tlearn: 0.0657143\ttotal: 970ms\tremaining: 136ms\n",
      "877:\tlearn: 0.0656906\ttotal: 971ms\tremaining: 135ms\n",
      "878:\tlearn: 0.0656710\ttotal: 972ms\tremaining: 134ms\n",
      "879:\tlearn: 0.0655562\ttotal: 973ms\tremaining: 133ms\n",
      "880:\tlearn: 0.0654988\ttotal: 974ms\tremaining: 132ms\n",
      "881:\tlearn: 0.0654145\ttotal: 975ms\tremaining: 130ms\n",
      "882:\tlearn: 0.0653506\ttotal: 976ms\tremaining: 129ms\n",
      "883:\tlearn: 0.0653150\ttotal: 977ms\tremaining: 128ms\n",
      "884:\tlearn: 0.0652373\ttotal: 978ms\tremaining: 127ms\n",
      "885:\tlearn: 0.0651885\ttotal: 979ms\tremaining: 126ms\n",
      "886:\tlearn: 0.0651718\ttotal: 980ms\tremaining: 125ms\n",
      "887:\tlearn: 0.0651547\ttotal: 981ms\tremaining: 124ms\n",
      "888:\tlearn: 0.0650522\ttotal: 982ms\tremaining: 123ms\n",
      "889:\tlearn: 0.0649755\ttotal: 983ms\tremaining: 121ms\n",
      "890:\tlearn: 0.0649585\ttotal: 984ms\tremaining: 120ms\n",
      "891:\tlearn: 0.0649004\ttotal: 985ms\tremaining: 119ms\n",
      "892:\tlearn: 0.0648849\ttotal: 986ms\tremaining: 118ms\n",
      "893:\tlearn: 0.0647987\ttotal: 987ms\tremaining: 117ms\n",
      "894:\tlearn: 0.0646656\ttotal: 988ms\tremaining: 116ms\n",
      "895:\tlearn: 0.0646171\ttotal: 989ms\tremaining: 115ms\n",
      "896:\tlearn: 0.0645361\ttotal: 990ms\tremaining: 114ms\n",
      "897:\tlearn: 0.0644155\ttotal: 991ms\tremaining: 113ms\n",
      "898:\tlearn: 0.0643873\ttotal: 992ms\tremaining: 111ms\n",
      "899:\tlearn: 0.0642670\ttotal: 993ms\tremaining: 110ms\n",
      "900:\tlearn: 0.0642315\ttotal: 994ms\tremaining: 109ms\n",
      "901:\tlearn: 0.0641987\ttotal: 995ms\tremaining: 108ms\n",
      "902:\tlearn: 0.0641111\ttotal: 996ms\tremaining: 107ms\n",
      "903:\tlearn: 0.0639862\ttotal: 997ms\tremaining: 106ms\n",
      "904:\tlearn: 0.0639724\ttotal: 998ms\tremaining: 105ms\n",
      "905:\tlearn: 0.0638694\ttotal: 999ms\tremaining: 104ms\n",
      "906:\tlearn: 0.0638594\ttotal: 1000ms\tremaining: 103ms\n",
      "907:\tlearn: 0.0638162\ttotal: 1s\tremaining: 101ms\n",
      "908:\tlearn: 0.0637007\ttotal: 1s\tremaining: 100ms\n",
      "909:\tlearn: 0.0636583\ttotal: 1s\tremaining: 99.2ms\n",
      "910:\tlearn: 0.0636106\ttotal: 1s\tremaining: 98.1ms\n",
      "911:\tlearn: 0.0635320\ttotal: 1s\tremaining: 97ms\n",
      "912:\tlearn: 0.0634906\ttotal: 1s\tremaining: 95.8ms\n",
      "913:\tlearn: 0.0634511\ttotal: 1.01s\tremaining: 94.7ms\n",
      "914:\tlearn: 0.0634050\ttotal: 1.01s\tremaining: 93.6ms\n",
      "915:\tlearn: 0.0633564\ttotal: 1.01s\tremaining: 92.5ms\n",
      "916:\tlearn: 0.0632526\ttotal: 1.01s\tremaining: 91.4ms\n",
      "917:\tlearn: 0.0632011\ttotal: 1.01s\tremaining: 90.3ms\n",
      "918:\tlearn: 0.0631464\ttotal: 1.01s\tremaining: 89.2ms\n",
      "919:\tlearn: 0.0631099\ttotal: 1.01s\tremaining: 88.1ms\n",
      "920:\tlearn: 0.0629684\ttotal: 1.01s\tremaining: 87ms\n",
      "921:\tlearn: 0.0627982\ttotal: 1.01s\tremaining: 85.8ms\n",
      "922:\tlearn: 0.0626995\ttotal: 1.01s\tremaining: 84.7ms\n",
      "923:\tlearn: 0.0626735\ttotal: 1.02s\tremaining: 83.6ms\n",
      "924:\tlearn: 0.0625788\ttotal: 1.02s\tremaining: 82.5ms\n",
      "925:\tlearn: 0.0625192\ttotal: 1.02s\tremaining: 81.4ms\n",
      "926:\tlearn: 0.0624512\ttotal: 1.02s\tremaining: 80.3ms\n",
      "927:\tlearn: 0.0623656\ttotal: 1.02s\tremaining: 79.2ms\n",
      "928:\tlearn: 0.0623473\ttotal: 1.02s\tremaining: 78.1ms\n",
      "929:\tlearn: 0.0622707\ttotal: 1.02s\tremaining: 77ms\n",
      "930:\tlearn: 0.0621630\ttotal: 1.02s\tremaining: 75.9ms\n",
      "931:\tlearn: 0.0621175\ttotal: 1.02s\tremaining: 74.8ms\n",
      "932:\tlearn: 0.0620005\ttotal: 1.02s\tremaining: 73.7ms\n",
      "933:\tlearn: 0.0619300\ttotal: 1.03s\tremaining: 72.6ms\n",
      "934:\tlearn: 0.0618739\ttotal: 1.03s\tremaining: 71.4ms\n",
      "935:\tlearn: 0.0617823\ttotal: 1.03s\tremaining: 70.3ms\n",
      "936:\tlearn: 0.0616336\ttotal: 1.03s\tremaining: 69.2ms\n",
      "937:\tlearn: 0.0615156\ttotal: 1.03s\tremaining: 68.1ms\n",
      "938:\tlearn: 0.0614111\ttotal: 1.03s\tremaining: 67ms\n",
      "939:\tlearn: 0.0612879\ttotal: 1.03s\tremaining: 65.9ms\n",
      "940:\tlearn: 0.0612287\ttotal: 1.03s\tremaining: 64.8ms\n",
      "941:\tlearn: 0.0611382\ttotal: 1.03s\tremaining: 63.7ms\n",
      "942:\tlearn: 0.0610857\ttotal: 1.03s\tremaining: 62.6ms\n",
      "943:\tlearn: 0.0609780\ttotal: 1.04s\tremaining: 61.5ms\n",
      "944:\tlearn: 0.0608619\ttotal: 1.04s\tremaining: 60.4ms\n",
      "945:\tlearn: 0.0608016\ttotal: 1.04s\tremaining: 59.3ms\n",
      "946:\tlearn: 0.0607836\ttotal: 1.04s\tremaining: 58.2ms\n",
      "947:\tlearn: 0.0607273\ttotal: 1.04s\tremaining: 57.1ms\n",
      "948:\tlearn: 0.0606860\ttotal: 1.04s\tremaining: 56ms\n",
      "949:\tlearn: 0.0606344\ttotal: 1.04s\tremaining: 54.9ms\n",
      "950:\tlearn: 0.0605410\ttotal: 1.04s\tremaining: 53.8ms\n",
      "951:\tlearn: 0.0604075\ttotal: 1.04s\tremaining: 52.7ms\n",
      "952:\tlearn: 0.0603278\ttotal: 1.04s\tremaining: 51.6ms\n",
      "953:\tlearn: 0.0602533\ttotal: 1.05s\tremaining: 50.5ms\n",
      "954:\tlearn: 0.0601331\ttotal: 1.05s\tremaining: 49.4ms\n",
      "955:\tlearn: 0.0600771\ttotal: 1.05s\tremaining: 48.3ms\n",
      "956:\tlearn: 0.0599897\ttotal: 1.05s\tremaining: 47.2ms\n",
      "957:\tlearn: 0.0599013\ttotal: 1.05s\tremaining: 46.1ms\n",
      "958:\tlearn: 0.0598512\ttotal: 1.05s\tremaining: 45ms\n",
      "959:\tlearn: 0.0597389\ttotal: 1.05s\tremaining: 43.9ms\n",
      "960:\tlearn: 0.0596940\ttotal: 1.05s\tremaining: 42.8ms\n",
      "961:\tlearn: 0.0596341\ttotal: 1.05s\tremaining: 41.7ms\n",
      "962:\tlearn: 0.0595488\ttotal: 1.05s\tremaining: 40.6ms\n",
      "963:\tlearn: 0.0594680\ttotal: 1.06s\tremaining: 39.5ms\n",
      "964:\tlearn: 0.0593622\ttotal: 1.06s\tremaining: 38.4ms\n",
      "965:\tlearn: 0.0593238\ttotal: 1.06s\tremaining: 37.3ms\n",
      "966:\tlearn: 0.0593095\ttotal: 1.06s\tremaining: 36.2ms\n",
      "967:\tlearn: 0.0592742\ttotal: 1.06s\tremaining: 35.1ms\n",
      "968:\tlearn: 0.0591598\ttotal: 1.06s\tremaining: 34ms\n",
      "969:\tlearn: 0.0591008\ttotal: 1.06s\tremaining: 32.9ms\n",
      "970:\tlearn: 0.0589913\ttotal: 1.06s\tremaining: 31.8ms\n",
      "971:\tlearn: 0.0589795\ttotal: 1.06s\tremaining: 30.7ms\n",
      "972:\tlearn: 0.0588608\ttotal: 1.07s\tremaining: 29.6ms\n",
      "973:\tlearn: 0.0588471\ttotal: 1.07s\tremaining: 28.5ms\n",
      "974:\tlearn: 0.0588327\ttotal: 1.07s\tremaining: 27.4ms\n",
      "975:\tlearn: 0.0587928\ttotal: 1.07s\tremaining: 26.3ms\n",
      "976:\tlearn: 0.0587761\ttotal: 1.07s\tremaining: 25.2ms\n",
      "977:\tlearn: 0.0587067\ttotal: 1.07s\tremaining: 24.1ms\n",
      "978:\tlearn: 0.0586912\ttotal: 1.07s\tremaining: 23ms\n",
      "979:\tlearn: 0.0586149\ttotal: 1.07s\tremaining: 21.9ms\n",
      "980:\tlearn: 0.0585551\ttotal: 1.07s\tremaining: 20.8ms\n",
      "981:\tlearn: 0.0585042\ttotal: 1.07s\tremaining: 19.7ms\n",
      "982:\tlearn: 0.0584404\ttotal: 1.08s\tremaining: 18.6ms\n",
      "983:\tlearn: 0.0583925\ttotal: 1.08s\tremaining: 17.5ms\n",
      "984:\tlearn: 0.0583706\ttotal: 1.08s\tremaining: 16.4ms\n",
      "985:\tlearn: 0.0582832\ttotal: 1.08s\tremaining: 15.3ms\n",
      "986:\tlearn: 0.0581947\ttotal: 1.08s\tremaining: 14.2ms\n",
      "987:\tlearn: 0.0580693\ttotal: 1.08s\tremaining: 13.1ms\n",
      "988:\tlearn: 0.0580277\ttotal: 1.08s\tremaining: 12ms\n"
     ]
    },
    {
     "name": "stdout",
     "output_type": "stream",
     "text": [
      "989:\tlearn: 0.0580153\ttotal: 1.08s\tremaining: 10.9ms\n",
      "990:\tlearn: 0.0579870\ttotal: 1.08s\tremaining: 9.85ms\n",
      "991:\tlearn: 0.0578329\ttotal: 1.09s\tremaining: 8.76ms\n",
      "992:\tlearn: 0.0578208\ttotal: 1.09s\tremaining: 7.66ms\n",
      "993:\tlearn: 0.0578104\ttotal: 1.09s\tremaining: 6.57ms\n",
      "994:\tlearn: 0.0577506\ttotal: 1.09s\tremaining: 5.47ms\n",
      "995:\tlearn: 0.0577050\ttotal: 1.09s\tremaining: 4.38ms\n",
      "996:\tlearn: 0.0575828\ttotal: 1.09s\tremaining: 3.28ms\n",
      "997:\tlearn: 0.0575405\ttotal: 1.09s\tremaining: 2.19ms\n",
      "998:\tlearn: 0.0574833\ttotal: 1.09s\tremaining: 1.09ms\n",
      "999:\tlearn: 0.0574422\ttotal: 1.09s\tremaining: 0us\n"
     ]
    },
    {
     "data": {
      "text/plain": [
       "<catboost.core.CatBoostRegressor at 0x7f1af3fdee50>"
      ]
     },
     "execution_count": 9,
     "metadata": {},
     "output_type": "execute_result"
    }
   ],
   "source": [
    "#Train the Model \n",
    "prior_model = ctb.CatBoostRegressor()\n",
    "prior_model.fit(X_train,Y_train)"
   ]
  },
  {
   "cell_type": "code",
   "execution_count": 10,
   "id": "c775fd81",
   "metadata": {
    "execution": {
     "iopub.execute_input": "2022-01-15T11:54:54.175225Z",
     "iopub.status.busy": "2022-01-15T11:54:54.174568Z",
     "iopub.status.idle": "2022-01-15T11:54:54.189595Z",
     "shell.execute_reply": "2022-01-15T11:54:54.189010Z"
    },
    "papermill": {
     "duration": 0.0528,
     "end_time": "2022-01-15T11:54:54.189777",
     "exception": false,
     "start_time": "2022-01-15T11:54:54.136977",
     "status": "completed"
    },
    "tags": []
   },
   "outputs": [
    {
     "data": {
      "application/scrapbook.scrap.json+json": {
       "data": 0.07663954896192164,
       "encoder": "json",
       "name": "Prior Model MSE",
       "version": 1
      }
     },
     "metadata": {
      "scrapbook": {
       "data": true,
       "display": false,
       "name": "Prior Model MSE"
      }
     },
     "output_type": "display_data"
    },
    {
     "data": {
      "application/scrapbook.scrap.json+json": {
       "data": 1.4176310001658232,
       "encoder": "json",
       "name": "ABC Pre-generator MSE",
       "version": 1
      }
     },
     "metadata": {
      "scrapbook": {
       "data": true,
       "display": false,
       "name": "ABC Pre-generator MSE"
      }
     },
     "output_type": "display_data"
    }
   ],
   "source": [
    "y_pred = prior_model.predict(X_test)\n",
    "y_abc = y_pred + np.random.normal(0,variance, y_pred.shape)\n",
    "mse = mean_squared_error(y_pred,Y_test)\n",
    "sb.glue(\"Prior Model MSE\",mse)\n",
    "mse = mean_squared_error(y_abc,Y_test)\n",
    "sb.glue(\"ABC Pre-generator MSE\",mse)"
   ]
  },
  {
   "cell_type": "markdown",
   "id": "0cd0def6",
   "metadata": {
    "papermill": {
     "duration": 0.032236,
     "end_time": "2022-01-15T11:54:54.256723",
     "exception": false,
     "start_time": "2022-01-15T11:54:54.224487",
     "status": "completed"
    },
    "tags": []
   },
   "source": [
    "# ABC GAN Model"
   ]
  },
  {
   "cell_type": "markdown",
   "id": "70beaf4c",
   "metadata": {
    "papermill": {
     "duration": 0.032449,
     "end_time": "2022-01-15T11:54:54.347335",
     "exception": false,
     "start_time": "2022-01-15T11:54:54.314886",
     "status": "completed"
    },
    "tags": []
   },
   "source": [
    "### Training the network\n",
    "**Training ABC-GAN for n_epochs number of epochs** "
   ]
  },
  {
   "cell_type": "code",
   "execution_count": 11,
   "id": "dbaaafa1",
   "metadata": {
    "execution": {
     "iopub.execute_input": "2022-01-15T11:54:54.420715Z",
     "iopub.status.busy": "2022-01-15T11:54:54.420036Z",
     "iopub.status.idle": "2022-01-15T11:54:57.545768Z",
     "shell.execute_reply": "2022-01-15T11:54:57.545131Z"
    },
    "papermill": {
     "duration": 3.165003,
     "end_time": "2022-01-15T11:54:57.545922",
     "exception": false,
     "start_time": "2022-01-15T11:54:54.380919",
     "status": "completed"
    },
    "tags": []
   },
   "outputs": [],
   "source": [
    "gen = network.Generator(n_features+1).to(device)\n",
    "disc = network.Discriminator(n_features+1).to(device)\n",
    "\n",
    "criterion = torch.nn.BCELoss()\n",
    "gen_opt = torch.optim.Adam(gen.parameters(), lr=0.001, betas=(0.5, 0.999))\n",
    "disc_opt = torch.optim.Adam(disc.parameters(), lr=0.01, betas=(0.5, 0.999))"
   ]
  },
  {
   "cell_type": "code",
   "execution_count": 12,
   "id": "6e9eeab8",
   "metadata": {
    "execution": {
     "iopub.execute_input": "2022-01-15T11:54:57.615242Z",
     "iopub.status.busy": "2022-01-15T11:54:57.614567Z",
     "iopub.status.idle": "2022-01-15T12:00:35.282005Z",
     "shell.execute_reply": "2022-01-15T12:00:35.281431Z"
    },
    "papermill": {
     "duration": 337.703875,
     "end_time": "2022-01-15T12:00:35.282155",
     "exception": false,
     "start_time": "2022-01-15T11:54:57.578280",
     "status": "completed"
    },
    "tags": []
   },
   "outputs": [
    {
     "data": {
      "image/png": "[encoded data removed]",
      "text/plain": [
       "<Figure size 432x288 with 1 Axes>"
      ]
     },
     "metadata": {
      "needs_background": "light"
     },
     "output_type": "display_data"
    },
    {
     "data": {
      "image/png": "[encoded data removed]",
      "text/plain": [
       "<Figure size 432x288 with 1 Axes>"
      ]
     },
     "metadata": {
      "needs_background": "light"
     },
     "output_type": "display_data"
    }
   ],
   "source": [
    "#Training the ABC_GAN \n",
    "ABC_train_test2.training_GAN(disc,gen,disc_opt,gen_opt,train_data,batch_size,n_epochs,criterion,prior_model,variance,device)"
   ]
  },
  {
   "cell_type": "code",
   "execution_count": 13,
   "id": "11c3082e",
   "metadata": {
    "execution": {
     "iopub.execute_input": "2022-01-15T12:00:35.355732Z",
     "iopub.status.busy": "2022-01-15T12:00:35.355027Z",
     "iopub.status.idle": "2022-01-15T12:00:35.759849Z",
     "shell.execute_reply": "2022-01-15T12:00:35.759310Z"
    },
    "papermill": {
     "duration": 0.443096,
     "end_time": "2022-01-15T12:00:35.759998",
     "exception": false,
     "start_time": "2022-01-15T12:00:35.316902",
     "status": "completed"
    },
    "tags": []
   },
   "outputs": [
    {
     "data": {
      "application/scrapbook.scrap.json+json": {
       "data": 1.873897883161746,
       "encoder": "json",
       "name": "ABC-GAN Model 1 MSE",
       "version": 1
      }
     },
     "metadata": {
      "scrapbook": {
       "data": true,
       "display": false,
       "name": "ABC-GAN Model 1 MSE"
      }
     },
     "output_type": "display_data"
    },
    {
     "data": {
      "application/scrapbook.scrap.json+json": {
       "data": 0.5376317013010347,
       "encoder": "json",
       "name": "ABC-GAN Model 1 MAE",
       "version": 1
      }
     },
     "metadata": {
      "scrapbook": {
       "data": true,
       "display": false,
       "name": "ABC-GAN Model 1 MAE"
      }
     },
     "output_type": "display_data"
    },
    {
     "data": {
      "application/scrapbook.scrap.json+json": {
       "data": 54.83843353270553,
       "encoder": "json",
       "name": "ABC-GAN Model 1 Manhattan Distance",
       "version": 1
      }
     },
     "metadata": {
      "scrapbook": {
       "data": true,
       "display": false,
       "name": "ABC-GAN Model 1 Manhattan Distance"
      }
     },
     "output_type": "display_data"
    },
    {
     "data": {
      "application/scrapbook.scrap.json+json": {
       "data": 13.825022163132903,
       "encoder": "json",
       "name": "ABC-GAN Model 1 Euclidean distance",
       "version": 1
      }
     },
     "metadata": {
      "scrapbook": {
       "data": true,
       "display": false,
       "name": "ABC-GAN Model 1 Euclidean distance"
      }
     },
     "output_type": "display_data"
    },
    {
     "data": {
      "application/scrapbook.scrap.json+json": {
       "data": [
        [
         1.8716858459777432,
         1.8637651418536847,
         1.8899367879951938,
         1.8827257208715942,
         1.8911131945872843,
         1.8485237442207194,
         1.88041926277995,
         1.8897705337579112,
         1.8393022997424018,
         1.8971630235849422,
         1.879764940581296,
         1.8907674314345975,
         1.8672108603232782,
         1.891215942891315,
         1.8715762746530873,
         1.8673020409899943,
         1.8454399094151601,
         1.8694098937223014,
         1.863061274354418,
         1.8802968213162963,
         1.799230733930356,
         1.8437863194501167,
         1.8705812996479874,
         1.831874584889511,
         1.89003553548837,
         1.8826173713369148,
         1.8505111240456569,
         1.8444044849390009,
         1.9124922555853465,
         1.8533421738008269,
         1.8906921808514163,
         1.8651289416299663,
         1.8859336791161563,
         1.8915189961095575,
         1.8739790061716999,
         1.8664469565551105,
         1.8854288328021316,
         1.8177936934469792,
         1.8872298316304077,
         1.8724303435165202,
         1.910872400546434,
         1.8884827401244917,
         1.8739539647937882,
         1.8423736898424163,
         1.9104265128480147,
         1.8701360451224973,
         1.8387144355743394,
         1.8875484521952475,
         1.860688246478698,
         1.8606529546511676,
         1.872729614482215,
         1.8844142944925943,
         1.8360528767338344,
         1.8456216122773292,
         1.8887220506287927,
         1.882129208553285,
         1.8761747042860868,
         1.9038312563584243,
         1.8932769063218085,
         1.8931646016595487,
         1.8707107522255246,
         1.8865129221459882,
         1.8915860881182582,
         1.9196506519219239,
         1.8976953750087744,
         1.8762013902855357,
         1.8958738804186448,
         1.867968973869909,
         1.8603047905152406,
         1.8832320538566143,
         1.8731117296562634,
         1.8773040899837228,
         1.8520132085738104,
         1.8810156213619327,
         1.8178534275129028,
         1.87718567123449,
         1.8853927681157066,
         1.859884731954668,
         1.882134963150012,
         1.8514611008860313,
         1.8799729130914271,
         1.902247704303255,
         1.847724323693605,
         1.9067805219889975,
         1.8624972073868566,
         1.8970415621414827,
         1.8777644053010742,
         1.8796370321220328,
         1.8750901175240964,
         1.9081640404369522,
         1.8796272333595019,
         1.8632673542364244,
         1.848715945017767,
         1.8688056078635604,
         1.8766876315574796,
         1.8972039334475579,
         1.8885593128921776,
         1.8522781062330287,
         1.8759649466117783,
         1.878788368201393
        ],
        [
         0.5357430492546044,
         0.5364533781220078,
         0.5447705968593558,
         0.5383491400337103,
         0.5366739355593774,
         0.530261609995482,
         0.5364353345597491,
         0.5347983133431304,
         0.5394559993280792,
         0.5439103123019723,
         0.5409303017636287,
         0.5415601458984847,
         0.5364728385546044,
         0.5410610990708365,
         0.5361721487076697,
         0.5332962894246128,
         0.5298682949323134,
         0.5439664890405302,
         0.5387518798804605,
         0.5417269495699335,
         0.5354855337691512,
         0.5329767097353789,
         0.5363014190476022,
         0.5321560737256911,
         0.5385719582840216,
         0.5351303121823744,
         0.535610145359647,
         0.5372092269781027,
         0.5394353053496018,
         0.5404355167502574,
         0.5384374931637271,
         0.5289504244814024,
         0.5446657710252147,
         0.5359646069689417,
         0.5445598896921557,
         0.5319641719243544,
         0.5372583068925522,
         0.529976037057007,
         0.5303452726106579,
         0.540476998843837,
         0.5452473312159818,
         0.5466270197146371,
         0.5403935071080923,
         0.53719875870236,
         0.540173465623429,
         0.5353484147356129,
         0.5378039698573012,
         0.5370317422693559,
         0.5389878917668088,
         0.5339174862111024,
         0.5400305889072079,
         0.541374568927887,
         0.5368714710040128,
         0.532128625549376,
         0.5296197526302993,
         0.537416264469571,
         0.5353773031566366,
         0.5449585524734621,
         0.5398673688371977,
         0.5410059817299685,
         0.5388691055259722,
         0.5407290214435289,
         0.5472604062353426,
         0.5383482028127593,
         0.5401507013696519,
         0.5398904006179496,
         0.5365423309963708,
         0.5402010808260563,
         0.5318648378437787,
         0.5375084793925577,
         0.538414148129888,
         0.5396064476603094,
         0.53254177251502,
         0.5392051831654766,
         0.5395272849492875,
         0.5302047041591769,
         0.5409838831709588,
         0.5385845084400738,
         0.5349601312156986,
         0.5292255245240441,
         0.5368831840015071,
         0.5407958806163686,
         0.5268534379280811,
         0.5428556438133705,
         0.5332509191231984,
         0.5384845197219036,
         0.5369258557318473,
         0.5367299081465485,
         0.5391139803436019,
         0.5374749500724468,
         0.5408623716611342,
         0.5362785940569844,
         0.5366771213947704,
         0.5325038259319377,
         0.5402374957213361,
         0.5407121364648143,
         0.5412601288773266,
         0.5341238891979789,
         0.5378073221072555,
         0.5407714652646259
        ],
        [
         54.64579102396965,
         54.71824456844479,
         55.56660087965429,
         54.911612283438444,
         54.74074142705649,
         54.086684219539165,
         54.716404125094414,
         54.54942796099931,
         55.024511931464076,
         55.47885185480118,
         55.17489077989012,
         55.23913488164544,
         54.72022953256965,
         55.188232105225325,
         54.68955916818231,
         54.39622152131051,
         54.04656608309597,
         55.48458188213408,
         54.952691747806966,
         55.25614885613322,
         54.61952444445342,
         54.36362439300865,
         54.70274474285543,
         54.279919520020485,
         54.9343397449702,
         54.58329184260219,
         54.632234826684,
         54.79534115176648,
         55.02240114565939,
         55.124422708526254,
         54.92062430270016,
         53.95294329710305,
         55.5559086445719,
         54.66838991083205,
         55.54510874859989,
         54.26034553628415,
         54.800347303040326,
         54.05755577981472,
         54.09521780628711,
         55.128653882071376,
         55.61522778403014,
         55.75595601089299,
         55.120137725025415,
         54.794273387640715,
         55.09769349358976,
         54.60553830303252,
         54.85600492544472,
         54.7772377114743,
         54.976764960214496,
         54.45958359353244,
         55.08312006853521,
         55.220206030644476,
         54.7608900424093,
         54.27711980603635,
         54.02121476829052,
         54.81645897589624,
         54.608484921976924,
         55.585772352293134,
         55.06647162139416,
         55.18261013645679,
         54.964648763649166,
         55.154360187239945,
         55.82056143600494,
         54.91151668690145,
         55.0953715397045,
         55.06882086303085,
         54.72731776162982,
         55.10051024425775,
         54.250213460065424,
         54.82586489804089,
         54.91824310924858,
         55.03985766135156,
         54.319260796532035,
         54.99892868287861,
         55.03178306482732,
         54.080879824236035,
         55.1803560834378,
         54.93561986088753,
         54.565933384001255,
         53.981003501452506,
         54.76208476815373,
         55.1611798228696,
         53.73905066866428,
         55.37127566896379,
         54.391593750566244,
         54.92542101163417,
         54.76643728464842,
         54.74645063094795,
         54.98962599504739,
         54.82244490738958,
         55.16796190943569,
         54.700416593812406,
         54.74106638226658,
         54.31539024505764,
         55.10422456357628,
         55.15263791941106,
         55.20853314548731,
         54.48063669819385,
         54.85634685494006,
         55.15868945699185
        ],
        [
         13.817089284278714,
         13.787822325119942,
         13.884291569090218,
         13.857778448542993,
         13.888612092210762,
         13.731329939613035,
         13.849287519708547,
         13.883680867958141,
         13.697037437844905,
         13.910809768150237,
         13.846877768626836,
         13.887342366569957,
         13.800561863669701,
         13.888989386377759,
         13.816684841691036,
         13.80089881786615,
         13.719871382791684,
         13.80868600409448,
         13.785218532332033,
         13.848836621690001,
         13.547012027044792,
         13.713723221062617,
         13.81301171229847,
         13.669352861738918,
         13.884654285210477,
         13.857379690127763,
         13.738709351778896,
         13.716021925608683,
         13.966896937749103,
         13.749214585847598,
         13.887066012907276,
         13.792865983770618,
         13.869579491457117,
         13.890102145167068,
         13.825550934032005,
         13.797738567193583,
         13.867722990664953,
         13.616716077365785,
         13.87434477106222,
         13.819837012015919,
         13.960980798487483,
         13.878949509696259,
         13.825458560531235,
         13.70846878261487,
         13.959351858539042,
         13.81136765865331,
         13.69484839012768,
         13.875515922801402,
         13.776436445642506,
         13.776305795619486,
         13.820941381728883,
         13.863991417995198,
         13.684933080832046,
         13.720546798589606,
         13.879828859324485,
         13.855582964005341,
         13.833648102983569,
         13.935235489526514,
         13.896555128693747,
         13.896142967358747,
         13.81348966507028,
         13.871709269548965,
         13.890348483319714,
         13.99301134481196,
         13.912761345286384,
         13.833746484923186,
         13.906082690776067,
         13.803363189264081,
         13.775016828757579,
         13.859641751985318,
         13.822351334882892,
         13.837811141157392,
         13.744284167410415,
         13.851483436040962,
         13.616939803286051,
         13.837374695581452,
         13.867590358378848,
         13.77346153511804,
         13.85560414566255,
         13.74223534547328,
         13.847643739471549,
         13.92943881995725,
         13.728360463534887,
         13.946024997929614,
         13.783131543791466,
         13.910364457426379,
         13.839507554125959,
         13.846406655751784,
         13.829649018954091,
         13.95108354661275,
         13.846370564255064,
         13.785980927453632,
         13.732043780581684,
         13.806453998115636,
         13.83553896380127,
         13.910959751636506,
         13.879230883410008,
         13.745267070368952,
         13.8328747754905,
         13.843280447803622
        ]
       ],
       "encoder": "json",
       "name": "ABC_GAN_1 Metrics",
       "version": 1
      }
     },
     "metadata": {
      "scrapbook": {
       "data": true,
       "display": false,
       "name": "ABC_GAN_1 Metrics"
      }
     },
     "output_type": "display_data"
    }
   ],
   "source": [
    "ABC_GAN1_metrics=ABC_train_test2.test_generator(gen,test_data,prior_model,variance,\"1\",device)\n",
    "sb.glue(\"ABC_GAN_1 Metrics\",ABC_GAN1_metrics)"
   ]
  },
  {
   "cell_type": "markdown",
   "id": "394a2b9d",
   "metadata": {
    "papermill": {
     "duration": 0.038245,
     "end_time": "2022-01-15T12:00:35.836914",
     "exception": false,
     "start_time": "2022-01-15T12:00:35.798669",
     "status": "completed"
    },
    "tags": []
   },
   "source": [
    "#### Sanity Checks "
   ]
  },
  {
   "cell_type": "code",
   "execution_count": 14,
   "id": "a36b3b22",
   "metadata": {
    "execution": {
     "iopub.execute_input": "2022-01-15T12:00:35.918391Z",
     "iopub.status.busy": "2022-01-15T12:00:35.917674Z",
     "iopub.status.idle": "2022-01-15T12:00:36.689379Z",
     "shell.execute_reply": "2022-01-15T12:00:36.688678Z"
    },
    "papermill": {
     "duration": 0.81469,
     "end_time": "2022-01-15T12:00:36.689539",
     "exception": false,
     "start_time": "2022-01-15T12:00:35.874849",
     "status": "completed"
    },
    "tags": []
   },
   "outputs": [
    {
     "data": {
      "image/png": "[encoded data removed]",
      "text/plain": [
       "<Figure size 432x288 with 1 Axes>"
      ]
     },
     "metadata": {
      "needs_background": "light"
     },
     "output_type": "display_data"
    },
    {
     "data": {
      "image/png": "[encoded data removed]",
      "text/plain": [
       "<Figure size 432x288 with 1 Axes>"
      ]
     },
     "metadata": {
      "needs_background": "light"
     },
     "output_type": "display_data"
    },
    {
     "data": {
      "image/png": "[encoded data removed]",
      "text/plain": [
       "<Figure size 432x288 with 1 Axes>"
      ]
     },
     "metadata": {
      "needs_background": "light"
     },
     "output_type": "display_data"
    },
    {
     "data": {
      "image/png": "[encoded data removed]",
      "text/plain": [
       "<Figure size 432x288 with 1 Axes>"
      ]
     },
     "metadata": {
      "needs_background": "light"
     },
     "output_type": "display_data"
    }
   ],
   "source": [
    "sanityChecks.discProbVsError(train_data,disc,device)\n",
    "sanityChecks.discProbVsError(test_data,disc,device)"
   ]
  },
  {
   "cell_type": "markdown",
   "id": "130f3a4d",
   "metadata": {
    "papermill": {
     "duration": 0.042578,
     "end_time": "2022-01-15T12:00:36.776331",
     "exception": false,
     "start_time": "2022-01-15T12:00:36.733753",
     "status": "completed"
    },
    "tags": []
   },
   "source": [
    "# ABC - GAN Model with skip connection"
   ]
  },
  {
   "cell_type": "code",
   "execution_count": 15,
   "id": "4e43dad1",
   "metadata": {
    "execution": {
     "iopub.execute_input": "2022-01-15T12:00:36.868667Z",
     "iopub.status.busy": "2022-01-15T12:00:36.867947Z",
     "iopub.status.idle": "2022-01-15T12:00:36.872974Z",
     "shell.execute_reply": "2022-01-15T12:00:36.872453Z"
    },
    "papermill": {
     "duration": 0.055127,
     "end_time": "2022-01-15T12:00:36.873107",
     "exception": false,
     "start_time": "2022-01-15T12:00:36.817980",
     "status": "completed"
    },
    "tags": []
   },
   "outputs": [],
   "source": [
    "#Generator\n",
    "gen3 = network.GeneratorWithSkipConnection(n_features+1).to(device)\n",
    "constraints=network.weightConstraint()\n",
    "#Discriminator \n",
    "disc3 = network.Discriminator(n_features+1).to(device)\n",
    "\n",
    "criterion = torch.nn.BCELoss()\n",
    "gen_opt = torch.optim.Adam(gen3.parameters(), lr=0.01, betas=(0.5, 0.999))\n",
    "disc_opt = torch.optim.Adam(disc3.parameters(), lr=0.01, betas=(0.5, 0.999))\n"
   ]
  },
  {
   "cell_type": "code",
   "execution_count": 16,
   "id": "26acbc37",
   "metadata": {
    "execution": {
     "iopub.execute_input": "2022-01-15T12:00:36.968999Z",
     "iopub.status.busy": "2022-01-15T12:00:36.968376Z",
     "iopub.status.idle": "2022-01-15T12:37:54.123765Z",
     "shell.execute_reply": "2022-01-15T12:37:54.123125Z"
    },
    "papermill": {
     "duration": 2237.202958,
     "end_time": "2022-01-15T12:37:54.123914",
     "exception": false,
     "start_time": "2022-01-15T12:00:36.920956",
     "status": "completed"
    },
    "tags": []
   },
   "outputs": [
    {
     "data": {
      "image/png": "[encoded data removed]",
      "text/plain": [
       "<Figure size 432x288 with 1 Axes>"
      ]
     },
     "metadata": {
      "needs_background": "light"
     },
     "output_type": "display_data"
    },
    {
     "data": {
      "image/png": "[encoded data removed]",
      "text/plain": [
       "<Figure size 432x288 with 1 Axes>"
      ]
     },
     "metadata": {
      "needs_background": "light"
     },
     "output_type": "display_data"
    }
   ],
   "source": [
    "ABC_train_test2.training_GAN_skip_connection(disc3,gen3,disc_opt,gen_opt,train_data,batch_size,n_epochs,criterion,prior_model,variance,device)\n"
   ]
  },
  {
   "cell_type": "code",
   "execution_count": 17,
   "id": "c5e0717b",
   "metadata": {
    "execution": {
     "iopub.execute_input": "2022-01-15T12:37:54.220581Z",
     "iopub.status.busy": "2022-01-15T12:37:54.219897Z",
     "iopub.status.idle": "2022-01-15T12:37:56.239499Z",
     "shell.execute_reply": "2022-01-15T12:37:56.238808Z"
    },
    "papermill": {
     "duration": 2.070536,
     "end_time": "2022-01-15T12:37:56.239641",
     "exception": false,
     "start_time": "2022-01-15T12:37:54.169105",
     "status": "completed"
    },
    "tags": []
   },
   "outputs": [
    {
     "data": {
      "application/scrapbook.scrap.json+json": {
       "data": 0.17363293892362003,
       "encoder": "json",
       "name": "ABC-GAN Model 3 MSE",
       "version": 1
      }
     },
     "metadata": {
      "scrapbook": {
       "data": true,
       "display": false,
       "name": "ABC-GAN Model 3 MSE"
      }
     },
     "output_type": "display_data"
    },
    {
     "data": {
      "application/scrapbook.scrap.json+json": {
       "data": 0.2477923450315846,
       "encoder": "json",
       "name": "ABC-GAN Model 3 MAE",
       "version": 1
      }
     },
     "metadata": {
      "scrapbook": {
       "data": true,
       "display": false,
       "name": "ABC-GAN Model 3 MAE"
      }
     },
     "output_type": "display_data"
    },
    {
     "data": {
      "application/scrapbook.scrap.json+json": {
       "data": 25.274819193221628,
       "encoder": "json",
       "name": "ABC-GAN Model 3 Manhattan Distance",
       "version": 1
      }
     },
     "metadata": {
      "scrapbook": {
       "data": true,
       "display": false,
       "name": "ABC-GAN Model 3 Manhattan Distance"
      }
     },
     "output_type": "display_data"
    },
    {
     "data": {
      "application/scrapbook.scrap.json+json": {
       "data": 4.208298817754959,
       "encoder": "json",
       "name": "ABC-GAN Model 3 Euclidean distance",
       "version": 1
      }
     },
     "metadata": {
      "scrapbook": {
       "data": true,
       "display": false,
       "name": "ABC-GAN Model 3 Euclidean distance"
      }
     },
     "output_type": "display_data"
    },
    {
     "data": {
      "application/scrapbook.scrap.json+json": {
       "data": [
        [
         0.1755299370775718,
         0.1755024190399416,
         0.1726537763622828,
         0.1693457322867563,
         0.1720445884603386,
         0.1754480879768043,
         0.17448578122256753,
         0.1732267976082664,
         0.17329984368540302,
         0.17303431957949042,
         0.17129470855629036,
         0.17059151662409988,
         0.17271583458246254,
         0.17208329590257868,
         0.17356602564883802,
         0.17494930316739923,
         0.17532395313598584,
         0.17309315235894215,
         0.17478487488218394,
         0.17397290878217164,
         0.17577993059376915,
         0.1738677479390445,
         0.17777826444195996,
         0.17686192961388816,
         0.17110550396433183,
         0.17390702805972352,
         0.17174455112658357,
         0.17317805256970248,
         0.17364076928194896,
         0.17522497269748435,
         0.17600227215733363,
         0.17417277809115353,
         0.1728317644922297,
         0.17431131981253975,
         0.1713864755360459,
         0.1714139609493635,
         0.17849267070524824,
         0.17047134439177014,
         0.17436610741471076,
         0.172288233145917,
         0.1728895193263528,
         0.1715977869410865,
         0.176360138591382,
         0.17584314905608642,
         0.17377804661459506,
         0.17114394807077626,
         0.1735422546756574,
         0.17484711432828726,
         0.17832689420774628,
         0.17069037478872573,
         0.17036280893322753,
         0.17283996668106894,
         0.17257574095790307,
         0.1708721229257233,
         0.17602160309189208,
         0.16999100928145294,
         0.17353329829946537,
         0.17210137227993938,
         0.17770578926920172,
         0.16936952568468255,
         0.17751606707343318,
         0.17051953517247972,
         0.17024030780753957,
         0.173525069338228,
         0.17118883415979688,
         0.17595170387085038,
         0.17440961176342393,
         0.17720082503602347,
         0.17370704869594525,
         0.18034850524307405,
         0.17326271838938267,
         0.1719218247023756,
         0.17216511045581037,
         0.17239408772604717,
         0.17455311169819826,
         0.17140512577520192,
         0.17582502351824905,
         0.17752700332003388,
         0.16766522840555736,
         0.17618187363577809,
         0.1714469367603953,
         0.17413141340006372,
         0.17639570447499484,
         0.17264571376273471,
         0.17081836461024566,
         0.17375019473401287,
         0.1726810777392255,
         0.17878495912040404,
         0.17495907450163492,
         0.17190515545711435,
         0.17551517965004312,
         0.17501276473319907,
         0.17425610065951413,
         0.17280794221559528,
         0.17440714402521051,
         0.17326298289356992,
         0.17273865247397482,
         0.1727485123867701,
         0.17270713854890285,
         0.17464526649659062
        ],
        [
         0.24942607661782235,
         0.2511723460355664,
         0.24905317951468567,
         0.2387886593282661,
         0.2433763397948853,
         0.24786798315414904,
         0.24988287186030955,
         0.24593912885871297,
         0.24761647814154333,
         0.24601773058484291,
         0.24367635553775757,
         0.24471535178485745,
         0.24963240846808926,
         0.24779800467156604,
         0.25004388811066747,
         0.2469649197551988,
         0.24809293868020177,
         0.24832259742177876,
         0.2483854344498147,
         0.24599814381194757,
         0.25044844243858083,
         0.24984794112798922,
         0.2516998170473266,
         0.2525680253154361,
         0.24589217332757862,
         0.24577327360234716,
         0.24385168997790008,
         0.24898091735610484,
         0.24506264460254826,
         0.24650303291741246,
         0.25257330164130704,
         0.24725026851885168,
         0.24745436446449043,
         0.24760975180120737,
         0.24603192342956567,
         0.24330891430487528,
         0.25582408367236165,
         0.24630608602299117,
         0.24841347872736116,
         0.2451654167425837,
         0.2499734547043986,
         0.2400507531311436,
         0.2485609989083719,
         0.24715184949009733,
         0.2529917022889005,
         0.24330819349772498,
         0.24849224838373415,
         0.25002527940908775,
         0.25171869367762817,
         0.24597882445645974,
         0.24226774197692671,
         0.24555845276507385,
         0.2508958793135689,
         0.24248070725440687,
         0.25219951813821406,
         0.23767615667562567,
         0.2452257161174773,
         0.24483928182071038,
         0.2528346125675621,
         0.25058326894855676,
         0.25572528729361355,
         0.24307500025914872,
         0.24221469508484006,
         0.2525651956287523,
         0.2492251999073607,
         0.25282727301522506,
         0.2484971142702681,
         0.2508540197604281,
         0.2481181537823788,
         0.252957537943753,
         0.24830496591497578,
         0.24289426728900448,
         0.24432492558387855,
         0.24573472371397942,
         0.24593336210933095,
         0.24160587980284118,
         0.24877132748381472,
         0.24950484086887217,
         0.2422858266543378,
         0.24978500643891155,
         0.24065024298889673,
         0.25153227474576995,
         0.2502811837704012,
         0.24802714289512998,
         0.24545434470671942,
         0.2522134301252663,
         0.24689320017419317,
         0.2539842188924405,
         0.25177104971097675,
         0.24853772928426957,
         0.2501581372127083,
         0.25137753480607095,
         0.25107860122350795,
         0.24571186336049555,
         0.2498261498597761,
         0.24911360584162906,
         0.24914822284607033,
         0.2453921341848578,
         0.24555994339250758,
         0.25116917318390575
        ],
        [
         25.44145981501788,
         25.619579295627773,
         25.40342431049794,
         24.356443251483142,
         24.8243866590783,
         25.2825342817232,
         25.488052929751575,
         25.08579114358872,
         25.25688077043742,
         25.093808519653976,
         24.854988264851272,
         24.96096588205546,
         25.462505663745105,
         25.275396476499736,
         25.50447658728808,
         25.190421815030277,
         25.30547974538058,
         25.328904937021434,
         25.3353143138811,
         25.091810668818653,
         25.545741128735244,
         25.4844899950549,
         25.673381338827312,
         25.76193858217448,
         25.08100167941302,
         25.06887390743941,
         24.872872377745807,
         25.396053570322692,
         24.996389749459922,
         25.143309357576072,
         25.762476767413318,
         25.21952738892287,
         25.240345175378025,
         25.25619468372315,
         25.0952561898157,
         24.817509259097278,
         26.094056534580886,
         25.1232207743451,
         25.338174830190837,
         25.006872507743537,
         25.49729237984866,
         24.485176819376647,
         25.353221888653934,
         25.20948864798993,
         25.805153633467853,
         24.817435736767948,
         25.346209335140884,
         25.50257849972695,
         25.675306755118072,
         25.089840094558895,
         24.711309681646526,
         25.046962182037532,
         25.591379689984024,
         24.7330321399495,
         25.724350850097835,
         24.242967980913818,
         25.013023043982685,
         24.97360674571246,
         25.789130481891334,
         25.559493432752788,
         26.08397930394858,
         24.79365002643317,
         24.705898898653686,
         25.761649954132736,
         25.420970390550792,
         25.788381847552955,
         25.346705655567348,
         25.587110015563667,
         25.30805168580264,
         25.8016688702628,
         25.32710652332753,
         24.775215263478458,
         24.921142409555614,
         25.0649418188259,
         25.085202935151756,
         24.6437997398898,
         25.3746754033491,
         25.44949376862496,
         24.713154318742454,
         25.478070656768978,
         24.546324784867465,
         25.656292024068534,
         25.528680744580925,
         25.298768575303257,
         25.03634316008538,
         25.725769872777164,
         25.183106417767704,
         25.90639032702893,
         25.680647070519626,
         25.350848386995494,
         25.516129995696247,
         25.640508550219238,
         25.61001732479781,
         25.062610062770545,
         25.482267285697162,
         25.409587795846164,
         25.413118730299175,
         25.029997686855495,
         25.047114226035774,
         25.619255664758384
        ],
        [
         4.231318184905541,
         4.230986497505521,
         4.196508690441716,
         4.156111727714877,
         4.189098712486319,
         4.230331544174055,
         4.21871422173888,
         4.203466825852581,
         4.204352988975961,
         4.2011308712188455,
         4.1799593625706,
         4.171370841301237,
         4.197262813716955,
         4.189569928055029,
         4.207580613153059,
         4.224314018047748,
         4.228834735464433,
         4.201845016253229,
         4.222328414273664,
         4.212509548449892,
         4.234330280051906,
         4.21123619496491,
         4.258331007927861,
         4.247342324397292,
         4.177650225229709,
         4.211711868360869,
         4.185444327059138,
         4.2028753683769455,
         4.208486481712731,
         4.227640856925219,
         4.237007406182814,
         4.214928631103693,
         4.198671215778562,
         4.216604631795475,
         4.181078868507107,
         4.18141411687901,
         4.266878532596788,
         4.169901333120551,
         4.217267237951668,
         4.19206390467554,
         4.199372687829455,
         4.183655610586371,
         4.241312784542183,
         4.235091640533982,
         4.2101497306733275,
         4.178119517584338,
         4.2072924757992585,
         4.223080115447171,
         4.264896623505676,
         4.172579325603052,
         4.168573678272846,
         4.198770844124389,
         4.195560222152235,
         4.174800179460543,
         4.237240082338147,
         4.164022447911178,
         4.207183906907976,
         4.1897899675942964,
         4.257462918858904,
         4.156403688266771,
         4.255189636372294,
         4.170490689066806,
         4.167074680920541,
         4.2070841532466705,
         4.17866738139078,
         4.236398682233146,
         4.217793309287361,
         4.251409666648744,
         4.20928960360135,
         4.289003093353227,
         4.203902624433282,
         4.187603863743836,
         4.190565745396754,
         4.193351517349434,
         4.219528100773381,
         4.181306354367088,
         4.234873362789187,
         4.255320709258404,
         4.135438706759761,
         4.239168681575358,
         4.181816297921312,
         4.214428094867261,
         4.2417404277548,
         4.196410704852295,
         4.1741434079634905,
         4.209812331074784,
         4.196840469853601,
         4.270370690031628,
         4.224431985387711,
         4.187400847378438,
         4.231140310165144,
         4.225080117913303,
         4.215936701051195,
         4.198381843757273,
         4.217763470202125,
         4.203905833286959,
         4.197540059647487,
         4.197659855616049,
         4.197157148831586,
         4.220641797482018
        ]
       ],
       "encoder": "json",
       "name": "ABC_GAN_3 Metrics",
       "version": 1
      }
     },
     "metadata": {
      "scrapbook": {
       "data": true,
       "display": false,
       "name": "ABC_GAN_3 Metrics"
      }
     },
     "output_type": "display_data"
    }
   ],
   "source": [
    "ABC_GAN3_metrics=ABC_train_test2.test_generator(gen3,test_data,prior_model,variance,\"3\",device)\n",
    "sb.glue(\"ABC_GAN_3 Metrics\",ABC_GAN3_metrics)"
   ]
  },
  {
   "cell_type": "code",
   "execution_count": 18,
   "id": "c8e46b48",
   "metadata": {
    "execution": {
     "iopub.execute_input": "2022-01-15T12:37:56.341891Z",
     "iopub.status.busy": "2022-01-15T12:37:56.341218Z",
     "iopub.status.idle": "2022-01-15T12:37:57.231237Z",
     "shell.execute_reply": "2022-01-15T12:37:57.230693Z"
    },
    "papermill": {
     "duration": 0.943016,
     "end_time": "2022-01-15T12:37:57.231409",
     "exception": false,
     "start_time": "2022-01-15T12:37:56.288393",
     "status": "completed"
    },
    "tags": []
   },
   "outputs": [
    {
     "data": {
      "image/png": "[encoded data removed]",
      "text/plain": [
       "<Figure size 432x288 with 1 Axes>"
      ]
     },
     "metadata": {
      "needs_background": "light"
     },
     "output_type": "display_data"
    },
    {
     "data": {
      "image/png": "[encoded data removed]",
      "text/plain": [
       "<Figure size 432x288 with 1 Axes>"
      ]
     },
     "metadata": {
      "needs_background": "light"
     },
     "output_type": "display_data"
    },
    {
     "data": {
      "image/png": "[encoded data removed]",
      "text/plain": [
       "<Figure size 432x288 with 1 Axes>"
      ]
     },
     "metadata": {
      "needs_background": "light"
     },
     "output_type": "display_data"
    },
    {
     "data": {
      "image/png": "[encoded data removed]",
      "text/plain": [
       "<Figure size 432x288 with 1 Axes>"
      ]
     },
     "metadata": {
      "needs_background": "light"
     },
     "output_type": "display_data"
    }
   ],
   "source": [
    "sanityChecks.discProbVsError(train_data,disc,device)\n",
    "sanityChecks.discProbVsError(test_data,disc3,device)"
   ]
  },
  {
   "cell_type": "markdown",
   "id": "a5bd74c3",
   "metadata": {
    "papermill": {
     "duration": 0.056442,
     "end_time": "2022-01-15T12:37:57.343017",
     "exception": false,
     "start_time": "2022-01-15T12:37:57.286575",
     "status": "completed"
    },
    "tags": []
   },
   "source": [
    "## Skip Connection Model Analysis - ABC-GAN "
   ]
  },
  {
   "cell_type": "markdown",
   "id": "5744a8bf",
   "metadata": {
    "papermill": {
     "duration": 0.052747,
     "end_time": "2022-01-15T12:37:57.451515",
     "exception": false,
     "start_time": "2022-01-15T12:37:57.398768",
     "status": "completed"
    },
    "tags": []
   },
   "source": [
    "### Weight Analysis \n",
    "\n",
    "Study the weights of the skip connection layer\n",
    "\n",
    "Equation of the skip connection is \n",
    "\n",
    "$output = y_{gan} * w + y_{abc} * (1-w)$"
   ]
  },
  {
   "cell_type": "code",
   "execution_count": 19,
   "id": "52c31dea",
   "metadata": {
    "execution": {
     "iopub.execute_input": "2022-01-15T12:37:57.563085Z",
     "iopub.status.busy": "2022-01-15T12:37:57.562450Z",
     "iopub.status.idle": "2022-01-15T12:37:57.572485Z",
     "shell.execute_reply": "2022-01-15T12:37:57.571944Z"
    },
    "papermill": {
     "duration": 0.068058,
     "end_time": "2022-01-15T12:37:57.572629",
     "exception": false,
     "start_time": "2022-01-15T12:37:57.504571",
     "status": "completed"
    },
    "tags": []
   },
   "outputs": [
    {
     "name": "stdout",
     "output_type": "stream",
     "text": [
      "Weight of the node at skip connection\n",
      "Parameter containing:\n",
      "tensor([[1.]], device='cuda:0', requires_grad=True)\n"
     ]
    },
    {
     "data": {
      "application/scrapbook.scrap.json+json": {
       "data": 1.0,
       "encoder": "json",
       "name": "Skip Connection Weight",
       "version": 1
      }
     },
     "metadata": {
      "scrapbook": {
       "data": true,
       "display": false,
       "name": "Skip Connection Weight"
      }
     },
     "output_type": "display_data"
    }
   ],
   "source": [
    "print(\"Weight of the node at skip connection\")\n",
    "for name,param in gen3.named_parameters():\n",
    "    if(name == \"skipNode.weight\"):\n",
    "        print(param)\n",
    "        sb.glue(\"Skip Connection Weight\",param.item())"
   ]
  }
 ],
 "metadata": {
  "interpreter": {
   "hash": "10498c76ddd8160350534c6544a2b2fb65f2138dbc70420f7c81a3268f830f23"
  },
  "kernelspec": {
   "display_name": "papermill-tutorial",
   "language": "python",
   "name": "python3"
  },
  "language_info": {
   "codemirror_mode": {
    "name": "ipython",
    "version": 3
   },
   "file_extension": ".py",
   "mimetype": "text/x-python",
   "name": "python",
   "nbconvert_exporter": "python",
   "pygments_lexer": "ipython3",
   "version": "3.7.12"
  },
  "papermill": {
   "default_parameters": {},
   "duration": 2590.563886,
   "end_time": "2022-01-15T12:37:58.452156",
   "environment_variables": {},
   "exception": null,
   "input_path": "ABC_GAN_Model-Catboost_Pre-gen.ipynb",
   "output_path": "./ABC_GAN_Output/ABC-GAN_output_10_0.ipynb",
   "parameters": {
    "variance": 1
   },
   "start_time": "2022-01-15T11:54:47.888270",
   "version": "2.3.3"
  }
 },
 "nbformat": 4,
 "nbformat_minor": 5
}