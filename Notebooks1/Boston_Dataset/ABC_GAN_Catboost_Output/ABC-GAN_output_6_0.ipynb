{
 "cells": [
  {
   "cell_type": "markdown",
   "id": "622780e6",
   "metadata": {
    "papermill": {
     "duration": 0.02611,
     "end_time": "2022-01-14T16:52:15.562268",
     "exception": false,
     "start_time": "2022-01-14T16:52:15.536158",
     "status": "completed"
    },
    "tags": []
   },
   "source": [
    "## Import Libraries "
   ]
  },
  {
   "cell_type": "code",
   "execution_count": 1,
   "id": "a62397e3",
   "metadata": {
    "execution": {
     "iopub.execute_input": "2022-01-14T16:52:15.613798Z",
     "iopub.status.busy": "2022-01-14T16:52:15.613167Z",
     "iopub.status.idle": "2022-01-14T16:52:15.616596Z",
     "shell.execute_reply": "2022-01-14T16:52:15.615864Z"
    },
    "papermill": {
     "duration": 0.031902,
     "end_time": "2022-01-14T16:52:15.616729",
     "exception": false,
     "start_time": "2022-01-14T16:52:15.584827",
     "status": "completed"
    },
    "tags": []
   },
   "outputs": [],
   "source": [
    "import warnings\n",
    "import sys\n",
    "sys.path.insert(0, '../../src')\n",
    "warnings.filterwarnings('ignore')"
   ]
  },
  {
   "cell_type": "code",
   "execution_count": 2,
   "id": "d6a4e155",
   "metadata": {
    "execution": {
     "iopub.execute_input": "2022-01-14T16:52:15.668164Z",
     "iopub.status.busy": "2022-01-14T16:52:15.667557Z",
     "iopub.status.idle": "2022-01-14T16:52:17.282477Z",
     "shell.execute_reply": "2022-01-14T16:52:17.281893Z"
    },
    "papermill": {
     "duration": 1.643201,
     "end_time": "2022-01-14T16:52:17.282619",
     "exception": false,
     "start_time": "2022-01-14T16:52:15.639418",
     "status": "completed"
    },
    "tags": []
   },
   "outputs": [],
   "source": [
    "import ABC_train_test2\n",
    "import bostonDataset\n",
    "import network\n",
    "import dataset\n",
    "import sanityChecks\n",
    "import performanceMetrics\n",
    "import torch \n",
    "from torch.utils.data import random_split \n",
    "import scrapbook as sb\n",
    "from statistics import mean \n",
    "import catboost as ctb \n",
    "from sklearn.model_selection import train_test_split\n",
    "from sklearn.metrics import mean_squared_error\n",
    "import numpy as np"
   ]
  },
  {
   "cell_type": "markdown",
   "id": "2fa5b0f7",
   "metadata": {
    "papermill": {
     "duration": 0.022734,
     "end_time": "2022-01-14T16:52:17.329034",
     "exception": false,
     "start_time": "2022-01-14T16:52:17.306300",
     "status": "completed"
    },
    "tags": []
   },
   "source": [
    "## Parameters "
   ]
  },
  {
   "cell_type": "code",
   "execution_count": 3,
   "id": "783186fb",
   "metadata": {
    "execution": {
     "iopub.execute_input": "2022-01-14T16:52:17.379009Z",
     "iopub.status.busy": "2022-01-14T16:52:17.378414Z",
     "iopub.status.idle": "2022-01-14T16:52:17.381303Z",
     "shell.execute_reply": "2022-01-14T16:52:17.380690Z"
    },
    "papermill": {
     "duration": 0.030036,
     "end_time": "2022-01-14T16:52:17.381489",
     "exception": false,
     "start_time": "2022-01-14T16:52:17.351453",
     "status": "completed"
    },
    "tags": [
     "parameters"
    ]
   },
   "outputs": [],
   "source": [
    "variance = 1"
   ]
  },
  {
   "cell_type": "code",
   "execution_count": 4,
   "id": "f16864c6",
   "metadata": {
    "execution": {
     "iopub.execute_input": "2022-01-14T16:52:17.430626Z",
     "iopub.status.busy": "2022-01-14T16:52:17.429762Z",
     "iopub.status.idle": "2022-01-14T16:52:17.433281Z",
     "shell.execute_reply": "2022-01-14T16:52:17.432817Z"
    },
    "papermill": {
     "duration": 0.029374,
     "end_time": "2022-01-14T16:52:17.433470",
     "exception": false,
     "start_time": "2022-01-14T16:52:17.404096",
     "status": "completed"
    },
    "tags": [
     "injected-parameters"
    ]
   },
   "outputs": [],
   "source": [
    "# Parameters\n",
    "variance = 1\n"
   ]
  },
  {
   "cell_type": "markdown",
   "id": "391cdbfd",
   "metadata": {
    "papermill": {
     "duration": 0.023411,
     "end_time": "2022-01-14T16:52:17.479852",
     "exception": false,
     "start_time": "2022-01-14T16:52:17.456441",
     "status": "completed"
    },
    "tags": []
   },
   "source": [
    "## Dataset - Boston Housing "
   ]
  },
  {
   "cell_type": "code",
   "execution_count": 5,
   "id": "5b51f161",
   "metadata": {
    "execution": {
     "iopub.execute_input": "2022-01-14T16:52:17.531468Z",
     "iopub.status.busy": "2022-01-14T16:52:17.530826Z",
     "iopub.status.idle": "2022-01-14T16:52:17.534136Z",
     "shell.execute_reply": "2022-01-14T16:52:17.533618Z"
    },
    "papermill": {
     "duration": 0.030568,
     "end_time": "2022-01-14T16:52:17.534278",
     "exception": false,
     "start_time": "2022-01-14T16:52:17.503710",
     "status": "completed"
    },
    "tags": []
   },
   "outputs": [],
   "source": [
    "#Parameters \n",
    "n_features = 13\n",
    "n_samples= 506\n",
    "n_target = 1 "
   ]
  },
  {
   "cell_type": "code",
   "execution_count": 6,
   "id": "5d6eced4",
   "metadata": {
    "execution": {
     "iopub.execute_input": "2022-01-14T16:52:17.604842Z",
     "iopub.status.busy": "2022-01-14T16:52:17.604206Z",
     "iopub.status.idle": "2022-01-14T16:52:17.638591Z",
     "shell.execute_reply": "2022-01-14T16:52:17.638004Z"
    },
    "papermill": {
     "duration": 0.062124,
     "end_time": "2022-01-14T16:52:17.638716",
     "exception": false,
     "start_time": "2022-01-14T16:52:17.576592",
     "status": "completed"
    },
    "tags": []
   },
   "outputs": [
    {
     "name": "stdout",
     "output_type": "stream",
     "text": [
      "         X1        X2        X3        X4        X5        X6        X7        X8        X9       X10       X11       X12       X13         Y\n",
      "0 -0.419782  0.284830 -1.287909 -0.272599 -0.144217  0.413672 -0.120013  0.140214 -0.982843 -0.666608 -1.459000  0.441052 -1.075562  0.159686\n",
      "1 -0.417339 -0.487722 -0.593381 -0.272599 -0.740262  0.194274  0.367166  0.557160 -0.867883 -0.987329 -0.303094  0.441052 -0.492439 -0.101524\n",
      "2 -0.417342 -0.487722 -0.593381 -0.272599 -0.740262  1.282714 -0.265812  0.557160 -0.867883 -0.987329 -0.303094  0.396427 -1.208727  1.324247\n",
      "3 -0.416750 -0.487722 -1.306878 -0.272599 -0.835284  1.016303 -0.809889  1.077737 -0.752922 -1.106115  0.113032  0.416163 -1.361517  1.182758\n",
      "4 -0.412482 -0.487722 -1.306878 -0.272599 -0.835284  1.228577 -0.511180  1.077737 -0.752922 -1.106115  0.113032  0.441052 -1.026501  1.487503\n"
     ]
    }
   ],
   "source": [
    "X,Y = bostonDataset.boston_data()"
   ]
  },
  {
   "cell_type": "code",
   "execution_count": 7,
   "id": "fe007438",
   "metadata": {
    "execution": {
     "iopub.execute_input": "2022-01-14T16:52:17.690629Z",
     "iopub.status.busy": "2022-01-14T16:52:17.689971Z",
     "iopub.status.idle": "2022-01-14T16:52:17.692912Z",
     "shell.execute_reply": "2022-01-14T16:52:17.693422Z"
    },
    "papermill": {
     "duration": 0.031539,
     "end_time": "2022-01-14T16:52:17.693598",
     "exception": false,
     "start_time": "2022-01-14T16:52:17.662059",
     "status": "completed"
    },
    "tags": []
   },
   "outputs": [],
   "source": [
    "#Train test split for dataset \n",
    "X_train,X_test,Y_train,Y_test = train_test_split(X,Y,test_size = 0.2)\n",
    "train_data = dataset.CustomDataset(X_train,Y_train)\n",
    "test_data = dataset.CustomDataset(X_test,Y_test)\n"
   ]
  },
  {
   "cell_type": "markdown",
   "id": "a9a1af34",
   "metadata": {
    "papermill": {
     "duration": 0.023582,
     "end_time": "2022-01-14T16:52:17.741153",
     "exception": false,
     "start_time": "2022-01-14T16:52:17.717571",
     "status": "completed"
    },
    "tags": []
   },
   "source": [
    "## Training Parameters \n",
    "\n"
   ]
  },
  {
   "cell_type": "code",
   "execution_count": 8,
   "id": "952b7fc8",
   "metadata": {
    "execution": {
     "iopub.execute_input": "2022-01-14T16:52:17.811518Z",
     "iopub.status.busy": "2022-01-14T16:52:17.810822Z",
     "iopub.status.idle": "2022-01-14T16:52:17.813746Z",
     "shell.execute_reply": "2022-01-14T16:52:17.813110Z"
    },
    "papermill": {
     "duration": 0.048651,
     "end_time": "2022-01-14T16:52:17.813937",
     "exception": false,
     "start_time": "2022-01-14T16:52:17.765286",
     "status": "completed"
    },
    "tags": []
   },
   "outputs": [],
   "source": [
    "batch_size = 64\n",
    "n_epochs = 5000\n",
    "#Select the device \n",
    "device = torch.device('cuda' if torch.cuda.is_available() else 'cpu')"
   ]
  },
  {
   "cell_type": "markdown",
   "id": "a95e1600",
   "metadata": {
    "papermill": {
     "duration": 0.024404,
     "end_time": "2022-01-14T16:52:17.862951",
     "exception": false,
     "start_time": "2022-01-14T16:52:17.838547",
     "status": "completed"
    },
    "tags": []
   },
   "source": [
    "# ABC Pre-generator Model \n",
    "\n",
    "1. The catboost model is used as a pre-generator model for the ABC-GAN. \n",
    "2. The model is first trained on the train dataset \n",
    "3. It generats X,Y pairs and we add some Gaussian noise with mean 0 and variance V (1,0.01,0.1) to it which is then feed as input to the generator.\n"
   ]
  },
  {
   "cell_type": "code",
   "execution_count": 9,
   "id": "ff8ce7bd",
   "metadata": {
    "execution": {
     "iopub.execute_input": "2022-01-14T16:52:17.929241Z",
     "iopub.status.busy": "2022-01-14T16:52:17.928251Z",
     "iopub.status.idle": "2022-01-14T16:52:19.623344Z",
     "shell.execute_reply": "2022-01-14T16:52:19.623900Z"
    },
    "papermill": {
     "duration": 1.737227,
     "end_time": "2022-01-14T16:52:19.624077",
     "exception": false,
     "start_time": "2022-01-14T16:52:17.886850",
     "status": "completed"
    },
    "tags": []
   },
   "outputs": [
    {
     "name": "stdout",
     "output_type": "stream",
     "text": [
      "Learning rate set to 0.03548\n",
      "0:\tlearn: 0.9720484\ttotal: 48.4ms\tremaining: 48.4s\n",
      "1:\tlearn: 0.9507566\ttotal: 49.7ms\tremaining: 24.8s\n",
      "2:\tlearn: 0.9298440\ttotal: 50.7ms\tremaining: 16.8s\n",
      "3:\tlearn: 0.9124777\ttotal: 51.7ms\tremaining: 12.9s\n",
      "4:\tlearn: 0.8951378\ttotal: 52.8ms\tremaining: 10.5s\n",
      "5:\tlearn: 0.8780495\ttotal: 54ms\tremaining: 8.95s\n",
      "6:\tlearn: 0.8624608\ttotal: 55ms\tremaining: 7.8s\n",
      "7:\tlearn: 0.8466015\ttotal: 56ms\tremaining: 6.94s\n",
      "8:\tlearn: 0.8305759\ttotal: 57ms\tremaining: 6.27s\n",
      "9:\tlearn: 0.8142970\ttotal: 58ms\tremaining: 5.74s\n",
      "10:\tlearn: 0.7999130\ttotal: 58.9ms\tremaining: 5.3s\n",
      "11:\tlearn: 0.7858663\ttotal: 60ms\tremaining: 4.94s\n",
      "12:\tlearn: 0.7706632\ttotal: 61ms\tremaining: 4.63s\n",
      "13:\tlearn: 0.7560032\ttotal: 62ms\tremaining: 4.37s\n",
      "14:\tlearn: 0.7435917\ttotal: 63.1ms\tremaining: 4.14s\n",
      "15:\tlearn: 0.7293001\ttotal: 64ms\tremaining: 3.94s\n",
      "16:\tlearn: 0.7150322\ttotal: 65.1ms\tremaining: 3.77s\n",
      "17:\tlearn: 0.7034448\ttotal: 66.1ms\tremaining: 3.6s\n",
      "18:\tlearn: 0.6912066\ttotal: 67ms\tremaining: 3.46s\n",
      "19:\tlearn: 0.6781334\ttotal: 68ms\tremaining: 3.33s\n",
      "20:\tlearn: 0.6645314\ttotal: 69ms\tremaining: 3.22s\n",
      "21:\tlearn: 0.6545368\ttotal: 70ms\tremaining: 3.11s\n",
      "22:\tlearn: 0.6438512\ttotal: 71ms\tremaining: 3.02s\n",
      "23:\tlearn: 0.6342651\ttotal: 72ms\tremaining: 2.93s\n",
      "24:\tlearn: 0.6241976\ttotal: 73.1ms\tremaining: 2.85s\n",
      "25:\tlearn: 0.6161680\ttotal: 74.1ms\tremaining: 2.77s\n",
      "26:\tlearn: 0.6069657\ttotal: 75.3ms\tremaining: 2.71s\n",
      "27:\tlearn: 0.5985081\ttotal: 76.5ms\tremaining: 2.65s\n",
      "28:\tlearn: 0.5894525\ttotal: 77.5ms\tremaining: 2.59s\n",
      "29:\tlearn: 0.5797334\ttotal: 78.4ms\tremaining: 2.54s\n",
      "30:\tlearn: 0.5690030\ttotal: 79.4ms\tremaining: 2.48s\n",
      "31:\tlearn: 0.5612248\ttotal: 80.4ms\tremaining: 2.43s\n",
      "32:\tlearn: 0.5540614\ttotal: 81.4ms\tremaining: 2.38s\n",
      "33:\tlearn: 0.5460940\ttotal: 82.4ms\tremaining: 2.34s\n",
      "34:\tlearn: 0.5389462\ttotal: 83.6ms\tremaining: 2.3s\n",
      "35:\tlearn: 0.5320003\ttotal: 84.9ms\tremaining: 2.27s\n",
      "36:\tlearn: 0.5258808\ttotal: 86.1ms\tremaining: 2.24s\n",
      "37:\tlearn: 0.5194349\ttotal: 87.6ms\tremaining: 2.22s\n",
      "38:\tlearn: 0.5124248\ttotal: 88.7ms\tremaining: 2.19s\n",
      "39:\tlearn: 0.5050087\ttotal: 89.8ms\tremaining: 2.15s\n",
      "40:\tlearn: 0.4990837\ttotal: 91ms\tremaining: 2.13s\n",
      "41:\tlearn: 0.4919259\ttotal: 92.2ms\tremaining: 2.1s\n",
      "42:\tlearn: 0.4867954\ttotal: 93.3ms\tremaining: 2.08s\n",
      "43:\tlearn: 0.4811131\ttotal: 94.4ms\tremaining: 2.05s\n",
      "44:\tlearn: 0.4756964\ttotal: 95.6ms\tremaining: 2.03s\n",
      "45:\tlearn: 0.4707575\ttotal: 96.7ms\tremaining: 2s\n",
      "46:\tlearn: 0.4654818\ttotal: 97.9ms\tremaining: 1.99s\n",
      "47:\tlearn: 0.4603352\ttotal: 99.2ms\tremaining: 1.97s\n",
      "48:\tlearn: 0.4549730\ttotal: 100ms\tremaining: 1.95s\n",
      "49:\tlearn: 0.4493523\ttotal: 102ms\tremaining: 1.93s\n",
      "50:\tlearn: 0.4443970\ttotal: 103ms\tremaining: 1.91s\n",
      "51:\tlearn: 0.4398514\ttotal: 104ms\tremaining: 1.89s\n",
      "52:\tlearn: 0.4355721\ttotal: 105ms\tremaining: 1.87s\n",
      "53:\tlearn: 0.4321597\ttotal: 106ms\tremaining: 1.85s\n",
      "54:\tlearn: 0.4274323\ttotal: 107ms\tremaining: 1.83s\n",
      "55:\tlearn: 0.4242847\ttotal: 108ms\tremaining: 1.82s\n",
      "56:\tlearn: 0.4206952\ttotal: 109ms\tremaining: 1.8s\n",
      "57:\tlearn: 0.4161288\ttotal: 110ms\tremaining: 1.78s\n",
      "58:\tlearn: 0.4113767\ttotal: 111ms\tremaining: 1.77s\n",
      "59:\tlearn: 0.4073713\ttotal: 112ms\tremaining: 1.75s\n",
      "60:\tlearn: 0.4034130\ttotal: 113ms\tremaining: 1.74s\n",
      "61:\tlearn: 0.3994369\ttotal: 114ms\tremaining: 1.73s\n",
      "62:\tlearn: 0.3966809\ttotal: 115ms\tremaining: 1.71s\n",
      "63:\tlearn: 0.3939008\ttotal: 116ms\tremaining: 1.7s\n",
      "64:\tlearn: 0.3896267\ttotal: 118ms\tremaining: 1.69s\n",
      "65:\tlearn: 0.3865685\ttotal: 119ms\tremaining: 1.68s\n",
      "66:\tlearn: 0.3833471\ttotal: 120ms\tremaining: 1.67s\n",
      "67:\tlearn: 0.3806433\ttotal: 121ms\tremaining: 1.66s\n",
      "68:\tlearn: 0.3778849\ttotal: 122ms\tremaining: 1.65s\n",
      "69:\tlearn: 0.3753521\ttotal: 123ms\tremaining: 1.63s\n",
      "70:\tlearn: 0.3712391\ttotal: 124ms\tremaining: 1.62s\n",
      "71:\tlearn: 0.3691016\ttotal: 125ms\tremaining: 1.61s\n",
      "72:\tlearn: 0.3663186\ttotal: 126ms\tremaining: 1.6s\n",
      "73:\tlearn: 0.3634555\ttotal: 127ms\tremaining: 1.59s\n",
      "74:\tlearn: 0.3611332\ttotal: 128ms\tremaining: 1.58s\n",
      "75:\tlearn: 0.3584267\ttotal: 129ms\tremaining: 1.57s\n",
      "76:\tlearn: 0.3549574\ttotal: 130ms\tremaining: 1.56s\n",
      "77:\tlearn: 0.3515866\ttotal: 131ms\tremaining: 1.55s\n",
      "78:\tlearn: 0.3491652\ttotal: 132ms\tremaining: 1.54s\n",
      "79:\tlearn: 0.3470084\ttotal: 134ms\tremaining: 1.53s\n",
      "80:\tlearn: 0.3448053\ttotal: 135ms\tremaining: 1.53s\n",
      "81:\tlearn: 0.3422184\ttotal: 136ms\tremaining: 1.52s\n",
      "82:\tlearn: 0.3396379\ttotal: 137ms\tremaining: 1.51s\n",
      "83:\tlearn: 0.3374665\ttotal: 139ms\tremaining: 1.51s\n",
      "84:\tlearn: 0.3358687\ttotal: 140ms\tremaining: 1.51s\n",
      "85:\tlearn: 0.3335646\ttotal: 141ms\tremaining: 1.5s\n"
     ]
    },
    {
     "name": "stdout",
     "output_type": "stream",
     "text": [
      "86:\tlearn: 0.3315473\ttotal: 142ms\tremaining: 1.49s\n",
      "87:\tlearn: 0.3293458\ttotal: 144ms\tremaining: 1.49s\n",
      "88:\tlearn: 0.3271385\ttotal: 145ms\tremaining: 1.48s\n",
      "89:\tlearn: 0.3248454\ttotal: 146ms\tremaining: 1.47s\n",
      "90:\tlearn: 0.3230217\ttotal: 147ms\tremaining: 1.47s\n",
      "91:\tlearn: 0.3211719\ttotal: 148ms\tremaining: 1.46s\n",
      "92:\tlearn: 0.3195729\ttotal: 149ms\tremaining: 1.45s\n",
      "93:\tlearn: 0.3176098\ttotal: 150ms\tremaining: 1.45s\n",
      "94:\tlearn: 0.3156375\ttotal: 151ms\tremaining: 1.44s\n",
      "95:\tlearn: 0.3141315\ttotal: 152ms\tremaining: 1.43s\n",
      "96:\tlearn: 0.3124892\ttotal: 153ms\tremaining: 1.43s\n",
      "97:\tlearn: 0.3108835\ttotal: 154ms\tremaining: 1.42s\n",
      "98:\tlearn: 0.3090897\ttotal: 155ms\tremaining: 1.41s\n",
      "99:\tlearn: 0.3067966\ttotal: 156ms\tremaining: 1.41s\n",
      "100:\tlearn: 0.3050373\ttotal: 157ms\tremaining: 1.4s\n",
      "101:\tlearn: 0.3032276\ttotal: 158ms\tremaining: 1.39s\n",
      "102:\tlearn: 0.3015721\ttotal: 159ms\tremaining: 1.38s\n",
      "103:\tlearn: 0.2998551\ttotal: 160ms\tremaining: 1.38s\n",
      "104:\tlearn: 0.2984562\ttotal: 161ms\tremaining: 1.37s\n",
      "105:\tlearn: 0.2968550\ttotal: 162ms\tremaining: 1.37s\n",
      "106:\tlearn: 0.2954255\ttotal: 163ms\tremaining: 1.36s\n",
      "107:\tlearn: 0.2940929\ttotal: 164ms\tremaining: 1.36s\n",
      "108:\tlearn: 0.2925610\ttotal: 165ms\tremaining: 1.35s\n",
      "109:\tlearn: 0.2915820\ttotal: 166ms\tremaining: 1.34s\n",
      "110:\tlearn: 0.2899923\ttotal: 168ms\tremaining: 1.34s\n",
      "111:\tlearn: 0.2888226\ttotal: 169ms\tremaining: 1.34s\n",
      "112:\tlearn: 0.2873814\ttotal: 170ms\tremaining: 1.33s\n",
      "113:\tlearn: 0.2860390\ttotal: 171ms\tremaining: 1.33s\n",
      "114:\tlearn: 0.2846970\ttotal: 172ms\tremaining: 1.32s\n",
      "115:\tlearn: 0.2830193\ttotal: 173ms\tremaining: 1.32s\n",
      "116:\tlearn: 0.2815504\ttotal: 174ms\tremaining: 1.31s\n",
      "117:\tlearn: 0.2801371\ttotal: 175ms\tremaining: 1.31s\n",
      "118:\tlearn: 0.2790893\ttotal: 176ms\tremaining: 1.3s\n",
      "119:\tlearn: 0.2778576\ttotal: 177ms\tremaining: 1.3s\n",
      "120:\tlearn: 0.2763058\ttotal: 178ms\tremaining: 1.29s\n",
      "121:\tlearn: 0.2754041\ttotal: 179ms\tremaining: 1.29s\n",
      "122:\tlearn: 0.2743090\ttotal: 180ms\tremaining: 1.28s\n",
      "123:\tlearn: 0.2730279\ttotal: 181ms\tremaining: 1.28s\n",
      "124:\tlearn: 0.2716317\ttotal: 182ms\tremaining: 1.28s\n",
      "125:\tlearn: 0.2704351\ttotal: 184ms\tremaining: 1.27s\n",
      "126:\tlearn: 0.2692151\ttotal: 185ms\tremaining: 1.27s\n",
      "127:\tlearn: 0.2682306\ttotal: 186ms\tremaining: 1.26s\n",
      "128:\tlearn: 0.2670455\ttotal: 187ms\tremaining: 1.26s\n",
      "129:\tlearn: 0.2659496\ttotal: 188ms\tremaining: 1.25s\n",
      "130:\tlearn: 0.2649852\ttotal: 189ms\tremaining: 1.25s\n",
      "131:\tlearn: 0.2636659\ttotal: 190ms\tremaining: 1.25s\n",
      "132:\tlearn: 0.2627160\ttotal: 191ms\tremaining: 1.24s\n",
      "133:\tlearn: 0.2615978\ttotal: 192ms\tremaining: 1.24s\n",
      "134:\tlearn: 0.2607974\ttotal: 193ms\tremaining: 1.23s\n",
      "135:\tlearn: 0.2596183\ttotal: 194ms\tremaining: 1.23s\n",
      "136:\tlearn: 0.2586886\ttotal: 195ms\tremaining: 1.23s\n",
      "137:\tlearn: 0.2574841\ttotal: 196ms\tremaining: 1.22s\n",
      "138:\tlearn: 0.2564255\ttotal: 197ms\tremaining: 1.22s\n",
      "139:\tlearn: 0.2557300\ttotal: 198ms\tremaining: 1.22s\n",
      "140:\tlearn: 0.2547996\ttotal: 199ms\tremaining: 1.21s\n",
      "141:\tlearn: 0.2537511\ttotal: 200ms\tremaining: 1.21s\n",
      "142:\tlearn: 0.2530332\ttotal: 201ms\tremaining: 1.2s\n",
      "143:\tlearn: 0.2520170\ttotal: 202ms\tremaining: 1.2s\n",
      "144:\tlearn: 0.2511196\ttotal: 203ms\tremaining: 1.2s\n",
      "145:\tlearn: 0.2504256\ttotal: 204ms\tremaining: 1.19s\n",
      "146:\tlearn: 0.2496728\ttotal: 205ms\tremaining: 1.19s\n",
      "147:\tlearn: 0.2490893\ttotal: 206ms\tremaining: 1.19s\n",
      "148:\tlearn: 0.2482524\ttotal: 207ms\tremaining: 1.18s\n",
      "149:\tlearn: 0.2476601\ttotal: 208ms\tremaining: 1.18s\n",
      "150:\tlearn: 0.2466098\ttotal: 209ms\tremaining: 1.18s\n",
      "151:\tlearn: 0.2459406\ttotal: 210ms\tremaining: 1.17s\n",
      "152:\tlearn: 0.2451678\ttotal: 211ms\tremaining: 1.17s\n",
      "153:\tlearn: 0.2447258\ttotal: 212ms\tremaining: 1.17s\n",
      "154:\tlearn: 0.2439100\ttotal: 213ms\tremaining: 1.16s\n",
      "155:\tlearn: 0.2428889\ttotal: 214ms\tremaining: 1.16s\n",
      "156:\tlearn: 0.2419994\ttotal: 215ms\tremaining: 1.16s\n",
      "157:\tlearn: 0.2410997\ttotal: 216ms\tremaining: 1.15s\n",
      "158:\tlearn: 0.2400834\ttotal: 217ms\tremaining: 1.15s\n",
      "159:\tlearn: 0.2393554\ttotal: 218ms\tremaining: 1.15s\n",
      "160:\tlearn: 0.2386043\ttotal: 219ms\tremaining: 1.14s\n",
      "161:\tlearn: 0.2378176\ttotal: 220ms\tremaining: 1.14s\n",
      "162:\tlearn: 0.2373556\ttotal: 221ms\tremaining: 1.14s\n",
      "163:\tlearn: 0.2367603\ttotal: 222ms\tremaining: 1.13s\n",
      "164:\tlearn: 0.2360150\ttotal: 223ms\tremaining: 1.13s\n",
      "165:\tlearn: 0.2350043\ttotal: 224ms\tremaining: 1.13s\n",
      "166:\tlearn: 0.2344215\ttotal: 226ms\tremaining: 1.13s\n",
      "167:\tlearn: 0.2334581\ttotal: 226ms\tremaining: 1.12s\n",
      "168:\tlearn: 0.2329217\ttotal: 228ms\tremaining: 1.12s\n",
      "169:\tlearn: 0.2323051\ttotal: 229ms\tremaining: 1.11s\n",
      "170:\tlearn: 0.2316675\ttotal: 230ms\tremaining: 1.11s\n",
      "171:\tlearn: 0.2309696\ttotal: 231ms\tremaining: 1.11s\n",
      "172:\tlearn: 0.2302403\ttotal: 232ms\tremaining: 1.11s\n",
      "173:\tlearn: 0.2297096\ttotal: 233ms\tremaining: 1.1s\n",
      "174:\tlearn: 0.2289494\ttotal: 233ms\tremaining: 1.1s\n",
      "175:\tlearn: 0.2284182\ttotal: 235ms\tremaining: 1.1s\n",
      "176:\tlearn: 0.2279245\ttotal: 236ms\tremaining: 1.09s\n",
      "177:\tlearn: 0.2271642\ttotal: 236ms\tremaining: 1.09s\n",
      "178:\tlearn: 0.2266116\ttotal: 237ms\tremaining: 1.09s\n",
      "179:\tlearn: 0.2259768\ttotal: 238ms\tremaining: 1.09s\n",
      "180:\tlearn: 0.2251862\ttotal: 240ms\tremaining: 1.08s\n",
      "181:\tlearn: 0.2246474\ttotal: 241ms\tremaining: 1.08s\n",
      "182:\tlearn: 0.2241857\ttotal: 242ms\tremaining: 1.08s\n",
      "183:\tlearn: 0.2236105\ttotal: 243ms\tremaining: 1.08s\n",
      "184:\tlearn: 0.2229957\ttotal: 244ms\tremaining: 1.07s\n",
      "185:\tlearn: 0.2222133\ttotal: 245ms\tremaining: 1.07s\n",
      "186:\tlearn: 0.2217330\ttotal: 246ms\tremaining: 1.07s\n",
      "187:\tlearn: 0.2212722\ttotal: 247ms\tremaining: 1.06s\n",
      "188:\tlearn: 0.2204334\ttotal: 248ms\tremaining: 1.06s\n",
      "189:\tlearn: 0.2195572\ttotal: 249ms\tremaining: 1.06s\n",
      "190:\tlearn: 0.2189367\ttotal: 250ms\tremaining: 1.06s\n",
      "191:\tlearn: 0.2184365\ttotal: 251ms\tremaining: 1.05s\n",
      "192:\tlearn: 0.2178433\ttotal: 252ms\tremaining: 1.05s\n",
      "193:\tlearn: 0.2169090\ttotal: 253ms\tremaining: 1.05s\n",
      "194:\tlearn: 0.2164598\ttotal: 254ms\tremaining: 1.05s\n",
      "195:\tlearn: 0.2155271\ttotal: 255ms\tremaining: 1.04s\n",
      "196:\tlearn: 0.2150167\ttotal: 256ms\tremaining: 1.04s\n",
      "197:\tlearn: 0.2143903\ttotal: 257ms\tremaining: 1.04s\n",
      "198:\tlearn: 0.2139495\ttotal: 258ms\tremaining: 1.04s\n",
      "199:\tlearn: 0.2132459\ttotal: 259ms\tremaining: 1.04s\n",
      "200:\tlearn: 0.2127838\ttotal: 260ms\tremaining: 1.03s\n",
      "201:\tlearn: 0.2120470\ttotal: 261ms\tremaining: 1.03s\n",
      "202:\tlearn: 0.2116187\ttotal: 262ms\tremaining: 1.03s\n",
      "203:\tlearn: 0.2112971\ttotal: 263ms\tremaining: 1.03s\n",
      "204:\tlearn: 0.2106097\ttotal: 264ms\tremaining: 1.02s\n",
      "205:\tlearn: 0.2101155\ttotal: 265ms\tremaining: 1.02s\n",
      "206:\tlearn: 0.2096472\ttotal: 266ms\tremaining: 1.02s\n",
      "207:\tlearn: 0.2088835\ttotal: 267ms\tremaining: 1.02s\n",
      "208:\tlearn: 0.2082539\ttotal: 269ms\tremaining: 1.02s\n",
      "209:\tlearn: 0.2074372\ttotal: 270ms\tremaining: 1.01s\n",
      "210:\tlearn: 0.2069052\ttotal: 270ms\tremaining: 1.01s\n",
      "211:\tlearn: 0.2062557\ttotal: 272ms\tremaining: 1.01s\n",
      "212:\tlearn: 0.2057746\ttotal: 273ms\tremaining: 1.01s\n",
      "213:\tlearn: 0.2051802\ttotal: 274ms\tremaining: 1s\n",
      "214:\tlearn: 0.2045236\ttotal: 275ms\tremaining: 1s\n",
      "215:\tlearn: 0.2038252\ttotal: 276ms\tremaining: 1s\n"
     ]
    },
    {
     "name": "stdout",
     "output_type": "stream",
     "text": [
      "216:\tlearn: 0.2031717\ttotal: 278ms\tremaining: 1s\n",
      "217:\tlearn: 0.2027753\ttotal: 279ms\tremaining: 1s\n",
      "218:\tlearn: 0.2021139\ttotal: 280ms\tremaining: 1s\n",
      "219:\tlearn: 0.2016611\ttotal: 282ms\tremaining: 1000ms\n",
      "220:\tlearn: 0.2014115\ttotal: 283ms\tremaining: 998ms\n",
      "221:\tlearn: 0.2008376\ttotal: 284ms\tremaining: 995ms\n",
      "222:\tlearn: 0.2004785\ttotal: 285ms\tremaining: 993ms\n",
      "223:\tlearn: 0.2001541\ttotal: 286ms\tremaining: 990ms\n",
      "224:\tlearn: 0.1996752\ttotal: 287ms\tremaining: 988ms\n",
      "225:\tlearn: 0.1993162\ttotal: 288ms\tremaining: 986ms\n",
      "226:\tlearn: 0.1987125\ttotal: 289ms\tremaining: 984ms\n",
      "227:\tlearn: 0.1981483\ttotal: 290ms\tremaining: 982ms\n",
      "228:\tlearn: 0.1976738\ttotal: 291ms\tremaining: 980ms\n",
      "229:\tlearn: 0.1973678\ttotal: 292ms\tremaining: 978ms\n",
      "230:\tlearn: 0.1964983\ttotal: 293ms\tremaining: 975ms\n",
      "231:\tlearn: 0.1960587\ttotal: 294ms\tremaining: 973ms\n",
      "232:\tlearn: 0.1954263\ttotal: 295ms\tremaining: 971ms\n",
      "233:\tlearn: 0.1948077\ttotal: 296ms\tremaining: 969ms\n",
      "234:\tlearn: 0.1944596\ttotal: 297ms\tremaining: 967ms\n",
      "235:\tlearn: 0.1942025\ttotal: 298ms\tremaining: 965ms\n",
      "236:\tlearn: 0.1939174\ttotal: 299ms\tremaining: 963ms\n",
      "237:\tlearn: 0.1932264\ttotal: 300ms\tremaining: 960ms\n",
      "238:\tlearn: 0.1927212\ttotal: 301ms\tremaining: 959ms\n",
      "239:\tlearn: 0.1920401\ttotal: 302ms\tremaining: 957ms\n",
      "240:\tlearn: 0.1913760\ttotal: 303ms\tremaining: 955ms\n",
      "241:\tlearn: 0.1910318\ttotal: 304ms\tremaining: 953ms\n",
      "242:\tlearn: 0.1907665\ttotal: 305ms\tremaining: 951ms\n",
      "243:\tlearn: 0.1900330\ttotal: 306ms\tremaining: 949ms\n",
      "244:\tlearn: 0.1896809\ttotal: 307ms\tremaining: 947ms\n",
      "245:\tlearn: 0.1890952\ttotal: 308ms\tremaining: 945ms\n",
      "246:\tlearn: 0.1888195\ttotal: 309ms\tremaining: 943ms\n",
      "247:\tlearn: 0.1884985\ttotal: 310ms\tremaining: 940ms\n",
      "248:\tlearn: 0.1878374\ttotal: 311ms\tremaining: 939ms\n",
      "249:\tlearn: 0.1873973\ttotal: 312ms\tremaining: 937ms\n",
      "250:\tlearn: 0.1869539\ttotal: 313ms\tremaining: 935ms\n",
      "251:\tlearn: 0.1865240\ttotal: 314ms\tremaining: 933ms\n",
      "252:\tlearn: 0.1860869\ttotal: 315ms\tremaining: 931ms\n",
      "253:\tlearn: 0.1858470\ttotal: 316ms\tremaining: 929ms\n",
      "254:\tlearn: 0.1854295\ttotal: 317ms\tremaining: 927ms\n",
      "255:\tlearn: 0.1849986\ttotal: 318ms\tremaining: 925ms\n",
      "256:\tlearn: 0.1845196\ttotal: 319ms\tremaining: 923ms\n",
      "257:\tlearn: 0.1841221\ttotal: 320ms\tremaining: 921ms\n",
      "258:\tlearn: 0.1834735\ttotal: 321ms\tremaining: 919ms\n",
      "259:\tlearn: 0.1830777\ttotal: 322ms\tremaining: 917ms\n",
      "260:\tlearn: 0.1826428\ttotal: 323ms\tremaining: 915ms\n",
      "261:\tlearn: 0.1821191\ttotal: 324ms\tremaining: 913ms\n",
      "262:\tlearn: 0.1815477\ttotal: 325ms\tremaining: 911ms\n",
      "263:\tlearn: 0.1813411\ttotal: 326ms\tremaining: 909ms\n",
      "264:\tlearn: 0.1809500\ttotal: 327ms\tremaining: 907ms\n",
      "265:\tlearn: 0.1803521\ttotal: 328ms\tremaining: 906ms\n",
      "266:\tlearn: 0.1798994\ttotal: 329ms\tremaining: 904ms\n",
      "267:\tlearn: 0.1792494\ttotal: 330ms\tremaining: 902ms\n",
      "268:\tlearn: 0.1786962\ttotal: 331ms\tremaining: 901ms\n",
      "269:\tlearn: 0.1784698\ttotal: 332ms\tremaining: 898ms\n",
      "270:\tlearn: 0.1778502\ttotal: 333ms\tremaining: 896ms\n",
      "271:\tlearn: 0.1772934\ttotal: 334ms\tremaining: 894ms\n",
      "272:\tlearn: 0.1768069\ttotal: 335ms\tremaining: 892ms\n",
      "273:\tlearn: 0.1763598\ttotal: 336ms\tremaining: 891ms\n",
      "274:\tlearn: 0.1758628\ttotal: 337ms\tremaining: 889ms\n",
      "275:\tlearn: 0.1756640\ttotal: 338ms\tremaining: 887ms\n",
      "276:\tlearn: 0.1752861\ttotal: 339ms\tremaining: 886ms\n",
      "277:\tlearn: 0.1747067\ttotal: 340ms\tremaining: 884ms\n",
      "278:\tlearn: 0.1743359\ttotal: 341ms\tremaining: 882ms\n",
      "279:\tlearn: 0.1738794\ttotal: 342ms\tremaining: 880ms\n",
      "280:\tlearn: 0.1736259\ttotal: 343ms\tremaining: 878ms\n",
      "281:\tlearn: 0.1734452\ttotal: 344ms\tremaining: 876ms\n",
      "282:\tlearn: 0.1729529\ttotal: 345ms\tremaining: 875ms\n",
      "283:\tlearn: 0.1724465\ttotal: 346ms\tremaining: 873ms\n",
      "284:\tlearn: 0.1720881\ttotal: 347ms\tremaining: 872ms\n",
      "285:\tlearn: 0.1717729\ttotal: 349ms\tremaining: 870ms\n",
      "286:\tlearn: 0.1712940\ttotal: 349ms\tremaining: 868ms\n",
      "287:\tlearn: 0.1709596\ttotal: 350ms\tremaining: 866ms\n",
      "288:\tlearn: 0.1706453\ttotal: 351ms\tremaining: 864ms\n",
      "289:\tlearn: 0.1700305\ttotal: 352ms\tremaining: 863ms\n",
      "290:\tlearn: 0.1696621\ttotal: 353ms\tremaining: 861ms\n",
      "291:\tlearn: 0.1690493\ttotal: 354ms\tremaining: 860ms\n",
      "292:\tlearn: 0.1687205\ttotal: 355ms\tremaining: 858ms\n",
      "293:\tlearn: 0.1683181\ttotal: 356ms\tremaining: 856ms\n",
      "294:\tlearn: 0.1680190\ttotal: 357ms\tremaining: 854ms\n",
      "295:\tlearn: 0.1675564\ttotal: 358ms\tremaining: 853ms\n",
      "296:\tlearn: 0.1672384\ttotal: 359ms\tremaining: 851ms\n",
      "297:\tlearn: 0.1669771\ttotal: 360ms\tremaining: 849ms\n",
      "298:\tlearn: 0.1665787\ttotal: 362ms\tremaining: 848ms\n",
      "299:\tlearn: 0.1661748\ttotal: 363ms\tremaining: 846ms\n",
      "300:\tlearn: 0.1656270\ttotal: 364ms\tremaining: 845ms\n",
      "301:\tlearn: 0.1651360\ttotal: 365ms\tremaining: 843ms\n",
      "302:\tlearn: 0.1647728\ttotal: 366ms\tremaining: 842ms\n",
      "303:\tlearn: 0.1644022\ttotal: 367ms\tremaining: 840ms\n",
      "304:\tlearn: 0.1638946\ttotal: 368ms\tremaining: 839ms\n",
      "305:\tlearn: 0.1634632\ttotal: 369ms\tremaining: 837ms\n",
      "306:\tlearn: 0.1632883\ttotal: 370ms\tremaining: 835ms\n",
      "307:\tlearn: 0.1629034\ttotal: 371ms\tremaining: 834ms\n",
      "308:\tlearn: 0.1627347\ttotal: 372ms\tremaining: 832ms\n",
      "309:\tlearn: 0.1621641\ttotal: 373ms\tremaining: 831ms\n",
      "310:\tlearn: 0.1618895\ttotal: 375ms\tremaining: 830ms\n",
      "311:\tlearn: 0.1616463\ttotal: 376ms\tremaining: 828ms\n",
      "312:\tlearn: 0.1611352\ttotal: 377ms\tremaining: 827ms\n",
      "313:\tlearn: 0.1609483\ttotal: 378ms\tremaining: 825ms\n",
      "314:\tlearn: 0.1607110\ttotal: 379ms\tremaining: 824ms\n",
      "315:\tlearn: 0.1604885\ttotal: 380ms\tremaining: 822ms\n",
      "316:\tlearn: 0.1602184\ttotal: 381ms\tremaining: 820ms\n",
      "317:\tlearn: 0.1600547\ttotal: 382ms\tremaining: 818ms\n",
      "318:\tlearn: 0.1596295\ttotal: 383ms\tremaining: 817ms\n",
      "319:\tlearn: 0.1593660\ttotal: 384ms\tremaining: 816ms\n",
      "320:\tlearn: 0.1588638\ttotal: 385ms\tremaining: 814ms\n",
      "321:\tlearn: 0.1585916\ttotal: 386ms\tremaining: 813ms\n",
      "322:\tlearn: 0.1580781\ttotal: 387ms\tremaining: 811ms\n",
      "323:\tlearn: 0.1576319\ttotal: 388ms\tremaining: 809ms\n",
      "324:\tlearn: 0.1573755\ttotal: 389ms\tremaining: 808ms\n",
      "325:\tlearn: 0.1568153\ttotal: 390ms\tremaining: 806ms\n",
      "326:\tlearn: 0.1563290\ttotal: 391ms\tremaining: 804ms\n",
      "327:\tlearn: 0.1560516\ttotal: 392ms\tremaining: 802ms\n",
      "328:\tlearn: 0.1556467\ttotal: 393ms\tremaining: 801ms\n",
      "329:\tlearn: 0.1552142\ttotal: 394ms\tremaining: 800ms\n",
      "330:\tlearn: 0.1550462\ttotal: 395ms\tremaining: 798ms\n",
      "331:\tlearn: 0.1543865\ttotal: 396ms\tremaining: 797ms\n",
      "332:\tlearn: 0.1540412\ttotal: 397ms\tremaining: 795ms\n",
      "333:\tlearn: 0.1537055\ttotal: 398ms\tremaining: 793ms\n",
      "334:\tlearn: 0.1532973\ttotal: 399ms\tremaining: 792ms\n",
      "335:\tlearn: 0.1529920\ttotal: 400ms\tremaining: 790ms\n",
      "336:\tlearn: 0.1526459\ttotal: 401ms\tremaining: 788ms\n",
      "337:\tlearn: 0.1523276\ttotal: 402ms\tremaining: 787ms\n",
      "338:\tlearn: 0.1521961\ttotal: 403ms\tremaining: 785ms\n",
      "339:\tlearn: 0.1516455\ttotal: 404ms\tremaining: 784ms\n",
      "340:\tlearn: 0.1514820\ttotal: 405ms\tremaining: 782ms\n",
      "341:\tlearn: 0.1510602\ttotal: 406ms\tremaining: 781ms\n",
      "342:\tlearn: 0.1505926\ttotal: 407ms\tremaining: 779ms\n",
      "343:\tlearn: 0.1503297\ttotal: 408ms\tremaining: 778ms\n",
      "344:\tlearn: 0.1501243\ttotal: 409ms\tremaining: 776ms\n",
      "345:\tlearn: 0.1498292\ttotal: 410ms\tremaining: 775ms\n"
     ]
    },
    {
     "name": "stdout",
     "output_type": "stream",
     "text": [
      "346:\tlearn: 0.1493577\ttotal: 412ms\tremaining: 776ms\n",
      "347:\tlearn: 0.1491365\ttotal: 413ms\tremaining: 774ms\n",
      "348:\tlearn: 0.1488978\ttotal: 414ms\tremaining: 773ms\n",
      "349:\tlearn: 0.1486809\ttotal: 415ms\tremaining: 771ms\n",
      "350:\tlearn: 0.1484170\ttotal: 416ms\tremaining: 770ms\n",
      "351:\tlearn: 0.1481959\ttotal: 417ms\tremaining: 768ms\n",
      "352:\tlearn: 0.1477787\ttotal: 418ms\tremaining: 767ms\n",
      "353:\tlearn: 0.1474791\ttotal: 419ms\tremaining: 765ms\n",
      "354:\tlearn: 0.1470367\ttotal: 421ms\tremaining: 764ms\n",
      "355:\tlearn: 0.1466779\ttotal: 422ms\tremaining: 763ms\n",
      "356:\tlearn: 0.1465020\ttotal: 423ms\tremaining: 761ms\n",
      "357:\tlearn: 0.1463100\ttotal: 424ms\tremaining: 760ms\n",
      "358:\tlearn: 0.1461340\ttotal: 425ms\tremaining: 758ms\n",
      "359:\tlearn: 0.1457736\ttotal: 426ms\tremaining: 757ms\n",
      "360:\tlearn: 0.1456182\ttotal: 427ms\tremaining: 756ms\n",
      "361:\tlearn: 0.1452400\ttotal: 428ms\tremaining: 754ms\n",
      "362:\tlearn: 0.1448724\ttotal: 429ms\tremaining: 753ms\n",
      "363:\tlearn: 0.1446074\ttotal: 430ms\tremaining: 751ms\n",
      "364:\tlearn: 0.1443701\ttotal: 431ms\tremaining: 750ms\n",
      "365:\tlearn: 0.1438968\ttotal: 432ms\tremaining: 748ms\n",
      "366:\tlearn: 0.1436201\ttotal: 433ms\tremaining: 747ms\n",
      "367:\tlearn: 0.1431220\ttotal: 434ms\tremaining: 745ms\n",
      "368:\tlearn: 0.1426718\ttotal: 435ms\tremaining: 744ms\n",
      "369:\tlearn: 0.1424078\ttotal: 436ms\tremaining: 742ms\n",
      "370:\tlearn: 0.1422192\ttotal: 437ms\tremaining: 741ms\n",
      "371:\tlearn: 0.1420833\ttotal: 438ms\tremaining: 739ms\n",
      "372:\tlearn: 0.1416815\ttotal: 439ms\tremaining: 738ms\n",
      "373:\tlearn: 0.1413457\ttotal: 440ms\tremaining: 736ms\n",
      "374:\tlearn: 0.1409031\ttotal: 441ms\tremaining: 735ms\n",
      "375:\tlearn: 0.1406453\ttotal: 442ms\tremaining: 733ms\n",
      "376:\tlearn: 0.1403560\ttotal: 443ms\tremaining: 732ms\n",
      "377:\tlearn: 0.1400000\ttotal: 444ms\tremaining: 730ms\n",
      "378:\tlearn: 0.1396957\ttotal: 445ms\tremaining: 729ms\n",
      "379:\tlearn: 0.1395760\ttotal: 446ms\tremaining: 727ms\n",
      "380:\tlearn: 0.1393171\ttotal: 447ms\tremaining: 726ms\n",
      "381:\tlearn: 0.1389422\ttotal: 448ms\tremaining: 725ms\n",
      "382:\tlearn: 0.1385677\ttotal: 449ms\tremaining: 723ms\n",
      "383:\tlearn: 0.1381393\ttotal: 450ms\tremaining: 722ms\n",
      "384:\tlearn: 0.1378020\ttotal: 451ms\tremaining: 720ms\n",
      "385:\tlearn: 0.1374362\ttotal: 452ms\tremaining: 719ms\n",
      "386:\tlearn: 0.1372469\ttotal: 453ms\tremaining: 717ms\n",
      "387:\tlearn: 0.1368976\ttotal: 454ms\tremaining: 716ms\n",
      "388:\tlearn: 0.1365922\ttotal: 455ms\tremaining: 714ms\n",
      "389:\tlearn: 0.1363053\ttotal: 456ms\tremaining: 713ms\n",
      "390:\tlearn: 0.1358842\ttotal: 456ms\tremaining: 711ms\n",
      "391:\tlearn: 0.1356038\ttotal: 458ms\tremaining: 710ms\n",
      "392:\tlearn: 0.1351188\ttotal: 459ms\tremaining: 709ms\n",
      "393:\tlearn: 0.1349482\ttotal: 460ms\tremaining: 707ms\n",
      "394:\tlearn: 0.1348228\ttotal: 461ms\tremaining: 706ms\n",
      "395:\tlearn: 0.1345555\ttotal: 462ms\tremaining: 704ms\n",
      "396:\tlearn: 0.1342584\ttotal: 463ms\tremaining: 703ms\n",
      "397:\tlearn: 0.1340394\ttotal: 464ms\tremaining: 702ms\n",
      "398:\tlearn: 0.1336032\ttotal: 465ms\tremaining: 700ms\n",
      "399:\tlearn: 0.1331797\ttotal: 466ms\tremaining: 699ms\n",
      "400:\tlearn: 0.1330066\ttotal: 467ms\tremaining: 698ms\n",
      "401:\tlearn: 0.1326558\ttotal: 468ms\tremaining: 696ms\n",
      "402:\tlearn: 0.1322339\ttotal: 469ms\tremaining: 695ms\n",
      "403:\tlearn: 0.1318972\ttotal: 470ms\tremaining: 694ms\n",
      "404:\tlearn: 0.1315854\ttotal: 471ms\tremaining: 692ms\n",
      "405:\tlearn: 0.1313990\ttotal: 472ms\tremaining: 691ms\n",
      "406:\tlearn: 0.1312420\ttotal: 473ms\tremaining: 690ms\n",
      "407:\tlearn: 0.1309968\ttotal: 474ms\tremaining: 688ms\n",
      "408:\tlearn: 0.1306693\ttotal: 475ms\tremaining: 687ms\n",
      "409:\tlearn: 0.1303623\ttotal: 476ms\tremaining: 685ms\n",
      "410:\tlearn: 0.1301078\ttotal: 477ms\tremaining: 684ms\n",
      "411:\tlearn: 0.1299363\ttotal: 478ms\tremaining: 683ms\n",
      "412:\tlearn: 0.1297994\ttotal: 479ms\tremaining: 681ms\n",
      "413:\tlearn: 0.1294793\ttotal: 480ms\tremaining: 680ms\n",
      "414:\tlearn: 0.1293070\ttotal: 481ms\tremaining: 678ms\n",
      "415:\tlearn: 0.1291869\ttotal: 482ms\tremaining: 677ms\n",
      "416:\tlearn: 0.1288824\ttotal: 483ms\tremaining: 676ms\n",
      "417:\tlearn: 0.1287263\ttotal: 484ms\tremaining: 674ms\n",
      "418:\tlearn: 0.1286131\ttotal: 485ms\tremaining: 673ms\n",
      "419:\tlearn: 0.1283815\ttotal: 486ms\tremaining: 671ms\n",
      "420:\tlearn: 0.1282384\ttotal: 487ms\tremaining: 670ms\n",
      "421:\tlearn: 0.1281000\ttotal: 488ms\tremaining: 669ms\n",
      "422:\tlearn: 0.1280154\ttotal: 489ms\tremaining: 667ms\n",
      "423:\tlearn: 0.1277986\ttotal: 490ms\tremaining: 666ms\n",
      "424:\tlearn: 0.1274283\ttotal: 491ms\tremaining: 664ms\n",
      "425:\tlearn: 0.1270995\ttotal: 492ms\tremaining: 663ms\n",
      "426:\tlearn: 0.1269284\ttotal: 493ms\tremaining: 662ms\n",
      "427:\tlearn: 0.1266286\ttotal: 494ms\tremaining: 660ms\n",
      "428:\tlearn: 0.1262805\ttotal: 495ms\tremaining: 659ms\n",
      "429:\tlearn: 0.1259609\ttotal: 496ms\tremaining: 657ms\n",
      "430:\tlearn: 0.1257742\ttotal: 497ms\tremaining: 656ms\n",
      "431:\tlearn: 0.1256388\ttotal: 498ms\tremaining: 655ms\n",
      "432:\tlearn: 0.1254163\ttotal: 499ms\tremaining: 653ms\n",
      "433:\tlearn: 0.1250431\ttotal: 500ms\tremaining: 652ms\n",
      "434:\tlearn: 0.1246888\ttotal: 501ms\tremaining: 651ms\n",
      "435:\tlearn: 0.1244815\ttotal: 502ms\tremaining: 649ms\n",
      "436:\tlearn: 0.1241928\ttotal: 503ms\tremaining: 648ms\n",
      "437:\tlearn: 0.1240604\ttotal: 504ms\tremaining: 646ms\n",
      "438:\tlearn: 0.1238880\ttotal: 505ms\tremaining: 645ms\n",
      "439:\tlearn: 0.1237721\ttotal: 506ms\tremaining: 644ms\n",
      "440:\tlearn: 0.1236355\ttotal: 507ms\tremaining: 642ms\n",
      "441:\tlearn: 0.1234606\ttotal: 508ms\tremaining: 641ms\n",
      "442:\tlearn: 0.1232707\ttotal: 509ms\tremaining: 640ms\n",
      "443:\tlearn: 0.1230449\ttotal: 510ms\tremaining: 639ms\n",
      "444:\tlearn: 0.1226876\ttotal: 511ms\tremaining: 638ms\n",
      "445:\tlearn: 0.1225216\ttotal: 512ms\tremaining: 636ms\n",
      "446:\tlearn: 0.1224813\ttotal: 513ms\tremaining: 635ms\n",
      "447:\tlearn: 0.1222740\ttotal: 514ms\tremaining: 633ms\n",
      "448:\tlearn: 0.1219841\ttotal: 515ms\tremaining: 632ms\n",
      "449:\tlearn: 0.1215941\ttotal: 516ms\tremaining: 631ms\n",
      "450:\tlearn: 0.1214283\ttotal: 517ms\tremaining: 629ms\n",
      "451:\tlearn: 0.1211218\ttotal: 518ms\tremaining: 628ms\n",
      "452:\tlearn: 0.1209451\ttotal: 519ms\tremaining: 627ms\n",
      "453:\tlearn: 0.1206378\ttotal: 520ms\tremaining: 625ms\n",
      "454:\tlearn: 0.1204743\ttotal: 521ms\tremaining: 624ms\n",
      "455:\tlearn: 0.1202209\ttotal: 522ms\tremaining: 623ms\n",
      "456:\tlearn: 0.1199858\ttotal: 523ms\tremaining: 622ms\n",
      "457:\tlearn: 0.1196759\ttotal: 524ms\tremaining: 620ms\n",
      "458:\tlearn: 0.1193512\ttotal: 525ms\tremaining: 619ms\n",
      "459:\tlearn: 0.1191574\ttotal: 526ms\tremaining: 618ms\n",
      "460:\tlearn: 0.1188383\ttotal: 527ms\tremaining: 616ms\n",
      "461:\tlearn: 0.1186392\ttotal: 528ms\tremaining: 615ms\n",
      "462:\tlearn: 0.1184631\ttotal: 529ms\tremaining: 614ms\n",
      "463:\tlearn: 0.1181162\ttotal: 531ms\tremaining: 613ms\n",
      "464:\tlearn: 0.1178730\ttotal: 532ms\tremaining: 612ms\n",
      "465:\tlearn: 0.1175480\ttotal: 533ms\tremaining: 610ms\n",
      "466:\tlearn: 0.1172923\ttotal: 534ms\tremaining: 609ms\n",
      "467:\tlearn: 0.1170467\ttotal: 535ms\tremaining: 608ms\n",
      "468:\tlearn: 0.1168979\ttotal: 536ms\tremaining: 607ms\n",
      "469:\tlearn: 0.1166096\ttotal: 537ms\tremaining: 605ms\n",
      "470:\tlearn: 0.1164654\ttotal: 538ms\tremaining: 604ms\n",
      "471:\tlearn: 0.1162671\ttotal: 539ms\tremaining: 603ms\n",
      "472:\tlearn: 0.1159259\ttotal: 540ms\tremaining: 602ms\n",
      "473:\tlearn: 0.1156931\ttotal: 541ms\tremaining: 600ms\n"
     ]
    },
    {
     "name": "stdout",
     "output_type": "stream",
     "text": [
      "474:\tlearn: 0.1154001\ttotal: 542ms\tremaining: 599ms\n",
      "475:\tlearn: 0.1152329\ttotal: 543ms\tremaining: 598ms\n",
      "476:\tlearn: 0.1149642\ttotal: 544ms\tremaining: 597ms\n",
      "477:\tlearn: 0.1148336\ttotal: 545ms\tremaining: 596ms\n",
      "478:\tlearn: 0.1147105\ttotal: 546ms\tremaining: 594ms\n",
      "479:\tlearn: 0.1146213\ttotal: 547ms\tremaining: 593ms\n",
      "480:\tlearn: 0.1143445\ttotal: 548ms\tremaining: 592ms\n",
      "481:\tlearn: 0.1142233\ttotal: 549ms\tremaining: 590ms\n",
      "482:\tlearn: 0.1138924\ttotal: 550ms\tremaining: 589ms\n",
      "483:\tlearn: 0.1136799\ttotal: 551ms\tremaining: 588ms\n",
      "484:\tlearn: 0.1134768\ttotal: 552ms\tremaining: 587ms\n",
      "485:\tlearn: 0.1133238\ttotal: 553ms\tremaining: 585ms\n",
      "486:\tlearn: 0.1130554\ttotal: 555ms\tremaining: 584ms\n",
      "487:\tlearn: 0.1128461\ttotal: 556ms\tremaining: 583ms\n",
      "488:\tlearn: 0.1125548\ttotal: 556ms\tremaining: 582ms\n",
      "489:\tlearn: 0.1124589\ttotal: 557ms\tremaining: 580ms\n",
      "490:\tlearn: 0.1122926\ttotal: 559ms\tremaining: 579ms\n",
      "491:\tlearn: 0.1121489\ttotal: 560ms\tremaining: 578ms\n",
      "492:\tlearn: 0.1118975\ttotal: 561ms\tremaining: 577ms\n",
      "493:\tlearn: 0.1117616\ttotal: 562ms\tremaining: 575ms\n",
      "494:\tlearn: 0.1114709\ttotal: 563ms\tremaining: 574ms\n",
      "495:\tlearn: 0.1111317\ttotal: 564ms\tremaining: 573ms\n",
      "496:\tlearn: 0.1108985\ttotal: 565ms\tremaining: 572ms\n",
      "497:\tlearn: 0.1107202\ttotal: 566ms\tremaining: 570ms\n",
      "498:\tlearn: 0.1104111\ttotal: 567ms\tremaining: 569ms\n",
      "499:\tlearn: 0.1101846\ttotal: 568ms\tremaining: 568ms\n",
      "500:\tlearn: 0.1099708\ttotal: 569ms\tremaining: 566ms\n",
      "501:\tlearn: 0.1096776\ttotal: 570ms\tremaining: 565ms\n",
      "502:\tlearn: 0.1094103\ttotal: 571ms\tremaining: 564ms\n",
      "503:\tlearn: 0.1092757\ttotal: 572ms\tremaining: 563ms\n",
      "504:\tlearn: 0.1090885\ttotal: 573ms\tremaining: 562ms\n",
      "505:\tlearn: 0.1088678\ttotal: 574ms\tremaining: 560ms\n",
      "506:\tlearn: 0.1085984\ttotal: 575ms\tremaining: 559ms\n",
      "507:\tlearn: 0.1084870\ttotal: 576ms\tremaining: 558ms\n",
      "508:\tlearn: 0.1082600\ttotal: 577ms\tremaining: 557ms\n",
      "509:\tlearn: 0.1082132\ttotal: 578ms\tremaining: 555ms\n",
      "510:\tlearn: 0.1081437\ttotal: 579ms\tremaining: 554ms\n",
      "511:\tlearn: 0.1079438\ttotal: 580ms\tremaining: 553ms\n",
      "512:\tlearn: 0.1077131\ttotal: 581ms\tremaining: 551ms\n",
      "513:\tlearn: 0.1076210\ttotal: 582ms\tremaining: 550ms\n",
      "514:\tlearn: 0.1074558\ttotal: 583ms\tremaining: 549ms\n",
      "515:\tlearn: 0.1070594\ttotal: 584ms\tremaining: 548ms\n",
      "516:\tlearn: 0.1069363\ttotal: 585ms\tremaining: 547ms\n",
      "517:\tlearn: 0.1067928\ttotal: 586ms\tremaining: 546ms\n",
      "518:\tlearn: 0.1066001\ttotal: 587ms\tremaining: 544ms\n",
      "519:\tlearn: 0.1063582\ttotal: 588ms\tremaining: 543ms\n",
      "520:\tlearn: 0.1061281\ttotal: 589ms\tremaining: 542ms\n",
      "521:\tlearn: 0.1059684\ttotal: 590ms\tremaining: 540ms\n",
      "522:\tlearn: 0.1057113\ttotal: 591ms\tremaining: 539ms\n",
      "523:\tlearn: 0.1054761\ttotal: 592ms\tremaining: 538ms\n",
      "524:\tlearn: 0.1051539\ttotal: 593ms\tremaining: 537ms\n",
      "525:\tlearn: 0.1049795\ttotal: 594ms\tremaining: 536ms\n",
      "526:\tlearn: 0.1046764\ttotal: 595ms\tremaining: 534ms\n",
      "527:\tlearn: 0.1044833\ttotal: 596ms\tremaining: 533ms\n",
      "528:\tlearn: 0.1042912\ttotal: 597ms\tremaining: 532ms\n",
      "529:\tlearn: 0.1040957\ttotal: 598ms\tremaining: 531ms\n",
      "530:\tlearn: 0.1039714\ttotal: 599ms\tremaining: 529ms\n",
      "531:\tlearn: 0.1037293\ttotal: 600ms\tremaining: 528ms\n",
      "532:\tlearn: 0.1036331\ttotal: 601ms\tremaining: 527ms\n",
      "533:\tlearn: 0.1033735\ttotal: 602ms\tremaining: 526ms\n",
      "534:\tlearn: 0.1031586\ttotal: 603ms\tremaining: 524ms\n",
      "535:\tlearn: 0.1029106\ttotal: 604ms\tremaining: 523ms\n",
      "536:\tlearn: 0.1027446\ttotal: 605ms\tremaining: 522ms\n",
      "537:\tlearn: 0.1025162\ttotal: 606ms\tremaining: 521ms\n",
      "538:\tlearn: 0.1022367\ttotal: 607ms\tremaining: 520ms\n",
      "539:\tlearn: 0.1020502\ttotal: 609ms\tremaining: 518ms\n",
      "540:\tlearn: 0.1018397\ttotal: 610ms\tremaining: 517ms\n",
      "541:\tlearn: 0.1016827\ttotal: 611ms\tremaining: 516ms\n",
      "542:\tlearn: 0.1015616\ttotal: 612ms\tremaining: 515ms\n",
      "543:\tlearn: 0.1013642\ttotal: 613ms\tremaining: 514ms\n",
      "544:\tlearn: 0.1011189\ttotal: 614ms\tremaining: 513ms\n",
      "545:\tlearn: 0.1008657\ttotal: 615ms\tremaining: 511ms\n",
      "546:\tlearn: 0.1006865\ttotal: 616ms\tremaining: 510ms\n",
      "547:\tlearn: 0.1005378\ttotal: 617ms\tremaining: 509ms\n",
      "548:\tlearn: 0.1004030\ttotal: 618ms\tremaining: 508ms\n",
      "549:\tlearn: 0.1002388\ttotal: 619ms\tremaining: 507ms\n",
      "550:\tlearn: 0.1000990\ttotal: 620ms\tremaining: 505ms\n",
      "551:\tlearn: 0.0999561\ttotal: 621ms\tremaining: 504ms\n",
      "552:\tlearn: 0.0998415\ttotal: 622ms\tremaining: 503ms\n",
      "553:\tlearn: 0.0996378\ttotal: 623ms\tremaining: 502ms\n",
      "554:\tlearn: 0.0994596\ttotal: 624ms\tremaining: 500ms\n",
      "555:\tlearn: 0.0992542\ttotal: 625ms\tremaining: 499ms\n",
      "556:\tlearn: 0.0990981\ttotal: 626ms\tremaining: 498ms\n",
      "557:\tlearn: 0.0989173\ttotal: 627ms\tremaining: 497ms\n",
      "558:\tlearn: 0.0986805\ttotal: 628ms\tremaining: 496ms\n",
      "559:\tlearn: 0.0985000\ttotal: 629ms\tremaining: 494ms\n",
      "560:\tlearn: 0.0982563\ttotal: 630ms\tremaining: 493ms\n",
      "561:\tlearn: 0.0980984\ttotal: 631ms\tremaining: 492ms\n",
      "562:\tlearn: 0.0978791\ttotal: 632ms\tremaining: 491ms\n",
      "563:\tlearn: 0.0977811\ttotal: 633ms\tremaining: 490ms\n",
      "564:\tlearn: 0.0976493\ttotal: 634ms\tremaining: 488ms\n",
      "565:\tlearn: 0.0974688\ttotal: 635ms\tremaining: 487ms\n",
      "566:\tlearn: 0.0973153\ttotal: 637ms\tremaining: 486ms\n",
      "567:\tlearn: 0.0971534\ttotal: 638ms\tremaining: 485ms\n",
      "568:\tlearn: 0.0969981\ttotal: 639ms\tremaining: 484ms\n",
      "569:\tlearn: 0.0968965\ttotal: 640ms\tremaining: 483ms\n",
      "570:\tlearn: 0.0967560\ttotal: 641ms\tremaining: 481ms\n",
      "571:\tlearn: 0.0966858\ttotal: 642ms\tremaining: 480ms\n",
      "572:\tlearn: 0.0965853\ttotal: 643ms\tremaining: 479ms\n",
      "573:\tlearn: 0.0964307\ttotal: 644ms\tremaining: 478ms\n",
      "574:\tlearn: 0.0962310\ttotal: 645ms\tremaining: 476ms\n",
      "575:\tlearn: 0.0960161\ttotal: 645ms\tremaining: 475ms\n",
      "576:\tlearn: 0.0958989\ttotal: 646ms\tremaining: 474ms\n",
      "577:\tlearn: 0.0958276\ttotal: 647ms\tremaining: 473ms\n",
      "578:\tlearn: 0.0957127\ttotal: 648ms\tremaining: 471ms\n",
      "579:\tlearn: 0.0955547\ttotal: 649ms\tremaining: 470ms\n",
      "580:\tlearn: 0.0954879\ttotal: 650ms\tremaining: 469ms\n",
      "581:\tlearn: 0.0952966\ttotal: 651ms\tremaining: 468ms\n",
      "582:\tlearn: 0.0952099\ttotal: 652ms\tremaining: 467ms\n",
      "583:\tlearn: 0.0950220\ttotal: 653ms\tremaining: 465ms\n",
      "584:\tlearn: 0.0948294\ttotal: 654ms\tremaining: 464ms\n",
      "585:\tlearn: 0.0946146\ttotal: 655ms\tremaining: 463ms\n",
      "586:\tlearn: 0.0944077\ttotal: 657ms\tremaining: 462ms\n",
      "587:\tlearn: 0.0942952\ttotal: 657ms\tremaining: 461ms\n",
      "588:\tlearn: 0.0942246\ttotal: 658ms\tremaining: 459ms\n",
      "589:\tlearn: 0.0940209\ttotal: 660ms\tremaining: 458ms\n",
      "590:\tlearn: 0.0939392\ttotal: 660ms\tremaining: 457ms\n",
      "591:\tlearn: 0.0938127\ttotal: 661ms\tremaining: 456ms\n",
      "592:\tlearn: 0.0935942\ttotal: 662ms\tremaining: 455ms\n",
      "593:\tlearn: 0.0934757\ttotal: 663ms\tremaining: 453ms\n",
      "594:\tlearn: 0.0933245\ttotal: 665ms\tremaining: 452ms\n",
      "595:\tlearn: 0.0931799\ttotal: 666ms\tremaining: 451ms\n",
      "596:\tlearn: 0.0928654\ttotal: 667ms\tremaining: 450ms\n",
      "597:\tlearn: 0.0927258\ttotal: 668ms\tremaining: 449ms\n",
      "598:\tlearn: 0.0924557\ttotal: 669ms\tremaining: 448ms\n",
      "599:\tlearn: 0.0922648\ttotal: 670ms\tremaining: 446ms\n",
      "600:\tlearn: 0.0921111\ttotal: 671ms\tremaining: 445ms\n",
      "601:\tlearn: 0.0920250\ttotal: 672ms\tremaining: 444ms\n",
      "602:\tlearn: 0.0919814\ttotal: 673ms\tremaining: 443ms\n",
      "603:\tlearn: 0.0917444\ttotal: 674ms\tremaining: 442ms\n",
      "604:\tlearn: 0.0915311\ttotal: 675ms\tremaining: 441ms\n",
      "605:\tlearn: 0.0913423\ttotal: 676ms\tremaining: 439ms\n"
     ]
    },
    {
     "name": "stdout",
     "output_type": "stream",
     "text": [
      "606:\tlearn: 0.0911435\ttotal: 677ms\tremaining: 438ms\n",
      "607:\tlearn: 0.0909786\ttotal: 678ms\tremaining: 437ms\n",
      "608:\tlearn: 0.0908457\ttotal: 680ms\tremaining: 436ms\n",
      "609:\tlearn: 0.0905803\ttotal: 681ms\tremaining: 435ms\n",
      "610:\tlearn: 0.0904077\ttotal: 682ms\tremaining: 434ms\n",
      "611:\tlearn: 0.0902392\ttotal: 683ms\tremaining: 433ms\n",
      "612:\tlearn: 0.0900087\ttotal: 684ms\tremaining: 432ms\n",
      "613:\tlearn: 0.0898960\ttotal: 685ms\tremaining: 430ms\n",
      "614:\tlearn: 0.0897079\ttotal: 686ms\tremaining: 429ms\n",
      "615:\tlearn: 0.0895035\ttotal: 687ms\tremaining: 428ms\n",
      "616:\tlearn: 0.0893539\ttotal: 688ms\tremaining: 427ms\n",
      "617:\tlearn: 0.0892896\ttotal: 689ms\tremaining: 426ms\n",
      "618:\tlearn: 0.0890862\ttotal: 690ms\tremaining: 425ms\n",
      "619:\tlearn: 0.0890286\ttotal: 691ms\tremaining: 424ms\n",
      "620:\tlearn: 0.0888577\ttotal: 692ms\tremaining: 423ms\n",
      "621:\tlearn: 0.0887940\ttotal: 693ms\tremaining: 421ms\n",
      "622:\tlearn: 0.0887172\ttotal: 694ms\tremaining: 420ms\n",
      "623:\tlearn: 0.0886002\ttotal: 695ms\tremaining: 419ms\n",
      "624:\tlearn: 0.0884525\ttotal: 696ms\tremaining: 418ms\n",
      "625:\tlearn: 0.0882841\ttotal: 698ms\tremaining: 417ms\n",
      "626:\tlearn: 0.0882017\ttotal: 698ms\tremaining: 416ms\n",
      "627:\tlearn: 0.0880891\ttotal: 699ms\tremaining: 414ms\n",
      "628:\tlearn: 0.0879692\ttotal: 700ms\tremaining: 413ms\n",
      "629:\tlearn: 0.0878200\ttotal: 702ms\tremaining: 412ms\n",
      "630:\tlearn: 0.0877261\ttotal: 703ms\tremaining: 411ms\n",
      "631:\tlearn: 0.0875621\ttotal: 704ms\tremaining: 410ms\n",
      "632:\tlearn: 0.0875277\ttotal: 705ms\tremaining: 408ms\n",
      "633:\tlearn: 0.0873930\ttotal: 706ms\tremaining: 407ms\n",
      "634:\tlearn: 0.0873629\ttotal: 707ms\tremaining: 406ms\n",
      "635:\tlearn: 0.0872556\ttotal: 708ms\tremaining: 405ms\n",
      "636:\tlearn: 0.0872020\ttotal: 709ms\tremaining: 404ms\n",
      "637:\tlearn: 0.0870817\ttotal: 710ms\tremaining: 403ms\n",
      "638:\tlearn: 0.0868984\ttotal: 711ms\tremaining: 402ms\n",
      "639:\tlearn: 0.0866994\ttotal: 712ms\tremaining: 400ms\n",
      "640:\tlearn: 0.0866213\ttotal: 713ms\tremaining: 399ms\n",
      "641:\tlearn: 0.0864646\ttotal: 714ms\tremaining: 398ms\n",
      "642:\tlearn: 0.0864266\ttotal: 715ms\tremaining: 397ms\n",
      "643:\tlearn: 0.0862650\ttotal: 716ms\tremaining: 396ms\n",
      "644:\tlearn: 0.0861463\ttotal: 717ms\tremaining: 395ms\n",
      "645:\tlearn: 0.0860013\ttotal: 718ms\tremaining: 394ms\n",
      "646:\tlearn: 0.0858529\ttotal: 719ms\tremaining: 392ms\n",
      "647:\tlearn: 0.0857342\ttotal: 720ms\tremaining: 391ms\n",
      "648:\tlearn: 0.0855632\ttotal: 721ms\tremaining: 390ms\n",
      "649:\tlearn: 0.0855278\ttotal: 722ms\tremaining: 389ms\n",
      "650:\tlearn: 0.0854040\ttotal: 723ms\tremaining: 388ms\n",
      "651:\tlearn: 0.0851667\ttotal: 724ms\tremaining: 387ms\n",
      "652:\tlearn: 0.0849863\ttotal: 725ms\tremaining: 385ms\n",
      "653:\tlearn: 0.0847727\ttotal: 726ms\tremaining: 384ms\n",
      "654:\tlearn: 0.0847235\ttotal: 727ms\tremaining: 383ms\n",
      "655:\tlearn: 0.0845684\ttotal: 728ms\tremaining: 382ms\n",
      "656:\tlearn: 0.0844817\ttotal: 729ms\tremaining: 381ms\n",
      "657:\tlearn: 0.0843232\ttotal: 730ms\tremaining: 380ms\n",
      "658:\tlearn: 0.0841948\ttotal: 731ms\tremaining: 378ms\n",
      "659:\tlearn: 0.0840275\ttotal: 732ms\tremaining: 377ms\n",
      "660:\tlearn: 0.0838956\ttotal: 733ms\tremaining: 376ms\n",
      "661:\tlearn: 0.0837607\ttotal: 734ms\tremaining: 375ms\n",
      "662:\tlearn: 0.0835784\ttotal: 735ms\tremaining: 374ms\n",
      "663:\tlearn: 0.0834874\ttotal: 736ms\tremaining: 373ms\n",
      "664:\tlearn: 0.0832962\ttotal: 737ms\tremaining: 371ms\n",
      "665:\tlearn: 0.0832236\ttotal: 738ms\tremaining: 370ms\n",
      "666:\tlearn: 0.0830799\ttotal: 739ms\tremaining: 369ms\n",
      "667:\tlearn: 0.0829049\ttotal: 740ms\tremaining: 368ms\n",
      "668:\tlearn: 0.0826617\ttotal: 741ms\tremaining: 367ms\n",
      "669:\tlearn: 0.0824931\ttotal: 742ms\tremaining: 365ms\n",
      "670:\tlearn: 0.0822985\ttotal: 743ms\tremaining: 364ms\n",
      "671:\tlearn: 0.0820674\ttotal: 744ms\tremaining: 363ms\n",
      "672:\tlearn: 0.0819076\ttotal: 745ms\tremaining: 362ms\n",
      "673:\tlearn: 0.0818907\ttotal: 746ms\tremaining: 361ms\n",
      "674:\tlearn: 0.0817706\ttotal: 747ms\tremaining: 360ms\n",
      "675:\tlearn: 0.0816379\ttotal: 748ms\tremaining: 359ms\n",
      "676:\tlearn: 0.0814589\ttotal: 749ms\tremaining: 357ms\n",
      "677:\tlearn: 0.0814112\ttotal: 750ms\tremaining: 356ms\n",
      "678:\tlearn: 0.0812782\ttotal: 751ms\tremaining: 355ms\n",
      "679:\tlearn: 0.0810654\ttotal: 752ms\tremaining: 354ms\n",
      "680:\tlearn: 0.0809510\ttotal: 753ms\tremaining: 353ms\n",
      "681:\tlearn: 0.0807980\ttotal: 754ms\tremaining: 351ms\n",
      "682:\tlearn: 0.0806115\ttotal: 755ms\tremaining: 350ms\n",
      "683:\tlearn: 0.0804562\ttotal: 756ms\tremaining: 349ms\n",
      "684:\tlearn: 0.0802647\ttotal: 760ms\tremaining: 349ms\n",
      "685:\tlearn: 0.0801056\ttotal: 761ms\tremaining: 348ms\n",
      "686:\tlearn: 0.0799723\ttotal: 762ms\tremaining: 347ms\n",
      "687:\tlearn: 0.0799565\ttotal: 763ms\tremaining: 346ms\n",
      "688:\tlearn: 0.0798263\ttotal: 765ms\tremaining: 345ms\n",
      "689:\tlearn: 0.0797360\ttotal: 766ms\tremaining: 344ms\n",
      "690:\tlearn: 0.0796989\ttotal: 767ms\tremaining: 343ms\n",
      "691:\tlearn: 0.0795958\ttotal: 768ms\tremaining: 342ms\n",
      "692:\tlearn: 0.0795807\ttotal: 770ms\tremaining: 341ms\n",
      "693:\tlearn: 0.0794821\ttotal: 771ms\tremaining: 340ms\n",
      "694:\tlearn: 0.0793159\ttotal: 772ms\tremaining: 339ms\n",
      "695:\tlearn: 0.0791820\ttotal: 774ms\tremaining: 338ms\n",
      "696:\tlearn: 0.0790660\ttotal: 775ms\tremaining: 337ms\n",
      "697:\tlearn: 0.0789475\ttotal: 776ms\tremaining: 336ms\n",
      "698:\tlearn: 0.0789271\ttotal: 777ms\tremaining: 334ms\n",
      "699:\tlearn: 0.0787577\ttotal: 778ms\tremaining: 333ms\n",
      "700:\tlearn: 0.0787434\ttotal: 779ms\tremaining: 332ms\n",
      "701:\tlearn: 0.0785398\ttotal: 780ms\tremaining: 331ms\n",
      "702:\tlearn: 0.0783752\ttotal: 781ms\tremaining: 330ms\n",
      "703:\tlearn: 0.0782565\ttotal: 782ms\tremaining: 329ms\n",
      "704:\tlearn: 0.0781577\ttotal: 783ms\tremaining: 328ms\n",
      "705:\tlearn: 0.0780740\ttotal: 784ms\tremaining: 327ms\n",
      "706:\tlearn: 0.0780165\ttotal: 785ms\tremaining: 326ms\n",
      "707:\tlearn: 0.0778855\ttotal: 787ms\tremaining: 324ms\n",
      "708:\tlearn: 0.0776273\ttotal: 788ms\tremaining: 323ms\n",
      "709:\tlearn: 0.0776147\ttotal: 789ms\tremaining: 322ms\n",
      "710:\tlearn: 0.0775318\ttotal: 790ms\tremaining: 321ms\n",
      "711:\tlearn: 0.0774314\ttotal: 791ms\tremaining: 320ms\n",
      "712:\tlearn: 0.0774124\ttotal: 792ms\tremaining: 319ms\n",
      "713:\tlearn: 0.0772023\ttotal: 793ms\tremaining: 318ms\n",
      "714:\tlearn: 0.0771251\ttotal: 794ms\tremaining: 317ms\n",
      "715:\tlearn: 0.0769844\ttotal: 795ms\tremaining: 315ms\n",
      "716:\tlearn: 0.0768193\ttotal: 797ms\tremaining: 314ms\n",
      "717:\tlearn: 0.0767258\ttotal: 798ms\tremaining: 313ms\n",
      "718:\tlearn: 0.0765471\ttotal: 799ms\tremaining: 312ms\n",
      "719:\tlearn: 0.0764017\ttotal: 800ms\tremaining: 311ms\n",
      "720:\tlearn: 0.0763537\ttotal: 801ms\tremaining: 310ms\n",
      "721:\tlearn: 0.0762746\ttotal: 802ms\tremaining: 309ms\n",
      "722:\tlearn: 0.0761806\ttotal: 803ms\tremaining: 308ms\n",
      "723:\tlearn: 0.0760791\ttotal: 804ms\tremaining: 307ms\n",
      "724:\tlearn: 0.0759601\ttotal: 805ms\tremaining: 305ms\n",
      "725:\tlearn: 0.0758157\ttotal: 806ms\tremaining: 304ms\n",
      "726:\tlearn: 0.0757187\ttotal: 807ms\tremaining: 303ms\n",
      "727:\tlearn: 0.0755749\ttotal: 808ms\tremaining: 302ms\n",
      "728:\tlearn: 0.0754062\ttotal: 809ms\tremaining: 301ms\n"
     ]
    },
    {
     "name": "stdout",
     "output_type": "stream",
     "text": [
      "729:\tlearn: 0.0752936\ttotal: 810ms\tremaining: 300ms\n",
      "730:\tlearn: 0.0751217\ttotal: 812ms\tremaining: 299ms\n",
      "731:\tlearn: 0.0749318\ttotal: 813ms\tremaining: 298ms\n",
      "732:\tlearn: 0.0748098\ttotal: 814ms\tremaining: 297ms\n",
      "733:\tlearn: 0.0747912\ttotal: 815ms\tremaining: 295ms\n",
      "734:\tlearn: 0.0747644\ttotal: 816ms\tremaining: 294ms\n",
      "735:\tlearn: 0.0747072\ttotal: 817ms\tremaining: 293ms\n",
      "736:\tlearn: 0.0745794\ttotal: 818ms\tremaining: 292ms\n",
      "737:\tlearn: 0.0744675\ttotal: 819ms\tremaining: 291ms\n",
      "738:\tlearn: 0.0744084\ttotal: 820ms\tremaining: 290ms\n",
      "739:\tlearn: 0.0742340\ttotal: 821ms\tremaining: 289ms\n",
      "740:\tlearn: 0.0741017\ttotal: 822ms\tremaining: 287ms\n",
      "741:\tlearn: 0.0739522\ttotal: 823ms\tremaining: 286ms\n",
      "742:\tlearn: 0.0738350\ttotal: 824ms\tremaining: 285ms\n",
      "743:\tlearn: 0.0736401\ttotal: 825ms\tremaining: 284ms\n",
      "744:\tlearn: 0.0735192\ttotal: 826ms\tremaining: 283ms\n",
      "745:\tlearn: 0.0733148\ttotal: 827ms\tremaining: 282ms\n",
      "746:\tlearn: 0.0731843\ttotal: 828ms\tremaining: 281ms\n",
      "747:\tlearn: 0.0730621\ttotal: 829ms\tremaining: 279ms\n",
      "748:\tlearn: 0.0729573\ttotal: 831ms\tremaining: 278ms\n",
      "749:\tlearn: 0.0728275\ttotal: 832ms\tremaining: 277ms\n",
      "750:\tlearn: 0.0726895\ttotal: 833ms\tremaining: 276ms\n",
      "751:\tlearn: 0.0726213\ttotal: 834ms\tremaining: 275ms\n",
      "752:\tlearn: 0.0725387\ttotal: 835ms\tremaining: 274ms\n",
      "753:\tlearn: 0.0723738\ttotal: 836ms\tremaining: 273ms\n",
      "754:\tlearn: 0.0722628\ttotal: 837ms\tremaining: 272ms\n",
      "755:\tlearn: 0.0722337\ttotal: 838ms\tremaining: 270ms\n",
      "756:\tlearn: 0.0721416\ttotal: 839ms\tremaining: 269ms\n",
      "757:\tlearn: 0.0720036\ttotal: 840ms\tremaining: 268ms\n",
      "758:\tlearn: 0.0719529\ttotal: 841ms\tremaining: 267ms\n",
      "759:\tlearn: 0.0718653\ttotal: 842ms\tremaining: 266ms\n",
      "760:\tlearn: 0.0718078\ttotal: 843ms\tremaining: 265ms\n",
      "761:\tlearn: 0.0717402\ttotal: 844ms\tremaining: 264ms\n",
      "762:\tlearn: 0.0716681\ttotal: 845ms\tremaining: 262ms\n",
      "763:\tlearn: 0.0715010\ttotal: 846ms\tremaining: 261ms\n",
      "764:\tlearn: 0.0713325\ttotal: 847ms\tremaining: 260ms\n",
      "765:\tlearn: 0.0712687\ttotal: 848ms\tremaining: 259ms\n",
      "766:\tlearn: 0.0711654\ttotal: 849ms\tremaining: 258ms\n",
      "767:\tlearn: 0.0710853\ttotal: 850ms\tremaining: 257ms\n",
      "768:\tlearn: 0.0709129\ttotal: 851ms\tremaining: 256ms\n",
      "769:\tlearn: 0.0707595\ttotal: 852ms\tremaining: 254ms\n",
      "770:\tlearn: 0.0707343\ttotal: 853ms\tremaining: 253ms\n",
      "771:\tlearn: 0.0705626\ttotal: 854ms\tremaining: 252ms\n",
      "772:\tlearn: 0.0704703\ttotal: 855ms\tremaining: 251ms\n",
      "773:\tlearn: 0.0704579\ttotal: 856ms\tremaining: 250ms\n",
      "774:\tlearn: 0.0702305\ttotal: 857ms\tremaining: 249ms\n",
      "775:\tlearn: 0.0701604\ttotal: 858ms\tremaining: 248ms\n",
      "776:\tlearn: 0.0700314\ttotal: 859ms\tremaining: 247ms\n",
      "777:\tlearn: 0.0699257\ttotal: 860ms\tremaining: 245ms\n",
      "778:\tlearn: 0.0698770\ttotal: 861ms\tremaining: 244ms\n",
      "779:\tlearn: 0.0697310\ttotal: 862ms\tremaining: 243ms\n",
      "780:\tlearn: 0.0696007\ttotal: 863ms\tremaining: 242ms\n",
      "781:\tlearn: 0.0695608\ttotal: 864ms\tremaining: 241ms\n",
      "782:\tlearn: 0.0695043\ttotal: 865ms\tremaining: 240ms\n",
      "783:\tlearn: 0.0694922\ttotal: 866ms\tremaining: 239ms\n",
      "784:\tlearn: 0.0694109\ttotal: 867ms\tremaining: 238ms\n",
      "785:\tlearn: 0.0693035\ttotal: 868ms\tremaining: 236ms\n",
      "786:\tlearn: 0.0691902\ttotal: 869ms\tremaining: 235ms\n",
      "787:\tlearn: 0.0691185\ttotal: 870ms\tremaining: 234ms\n",
      "788:\tlearn: 0.0690279\ttotal: 871ms\tremaining: 233ms\n",
      "789:\tlearn: 0.0688830\ttotal: 872ms\tremaining: 232ms\n",
      "790:\tlearn: 0.0686922\ttotal: 874ms\tremaining: 231ms\n",
      "791:\tlearn: 0.0685465\ttotal: 875ms\tremaining: 230ms\n",
      "792:\tlearn: 0.0684961\ttotal: 876ms\tremaining: 229ms\n",
      "793:\tlearn: 0.0684419\ttotal: 877ms\tremaining: 227ms\n",
      "794:\tlearn: 0.0684247\ttotal: 878ms\tremaining: 226ms\n",
      "795:\tlearn: 0.0683209\ttotal: 879ms\tremaining: 225ms\n",
      "796:\tlearn: 0.0681802\ttotal: 880ms\tremaining: 224ms\n",
      "797:\tlearn: 0.0680570\ttotal: 881ms\tremaining: 223ms\n",
      "798:\tlearn: 0.0679171\ttotal: 882ms\tremaining: 222ms\n",
      "799:\tlearn: 0.0678730\ttotal: 883ms\tremaining: 221ms\n",
      "800:\tlearn: 0.0678010\ttotal: 884ms\tremaining: 220ms\n",
      "801:\tlearn: 0.0677572\ttotal: 885ms\tremaining: 219ms\n",
      "802:\tlearn: 0.0676444\ttotal: 886ms\tremaining: 217ms\n",
      "803:\tlearn: 0.0674877\ttotal: 887ms\tremaining: 216ms\n",
      "804:\tlearn: 0.0673273\ttotal: 888ms\tremaining: 215ms\n",
      "805:\tlearn: 0.0672256\ttotal: 889ms\tremaining: 214ms\n",
      "806:\tlearn: 0.0671381\ttotal: 890ms\tremaining: 213ms\n",
      "807:\tlearn: 0.0670704\ttotal: 891ms\tremaining: 212ms\n",
      "808:\tlearn: 0.0670119\ttotal: 893ms\tremaining: 211ms\n",
      "809:\tlearn: 0.0668933\ttotal: 894ms\tremaining: 210ms\n",
      "810:\tlearn: 0.0667479\ttotal: 894ms\tremaining: 208ms\n",
      "811:\tlearn: 0.0667339\ttotal: 896ms\tremaining: 207ms\n",
      "812:\tlearn: 0.0666343\ttotal: 897ms\tremaining: 206ms\n",
      "813:\tlearn: 0.0665722\ttotal: 898ms\tremaining: 205ms\n",
      "814:\tlearn: 0.0664062\ttotal: 899ms\tremaining: 204ms\n",
      "815:\tlearn: 0.0662582\ttotal: 900ms\tremaining: 203ms\n",
      "816:\tlearn: 0.0661388\ttotal: 900ms\tremaining: 202ms\n",
      "817:\tlearn: 0.0661240\ttotal: 901ms\tremaining: 201ms\n",
      "818:\tlearn: 0.0660478\ttotal: 903ms\tremaining: 199ms\n",
      "819:\tlearn: 0.0659836\ttotal: 904ms\tremaining: 198ms\n",
      "820:\tlearn: 0.0658880\ttotal: 905ms\tremaining: 197ms\n",
      "821:\tlearn: 0.0658736\ttotal: 906ms\tremaining: 196ms\n",
      "822:\tlearn: 0.0658635\ttotal: 907ms\tremaining: 195ms\n",
      "823:\tlearn: 0.0658278\ttotal: 908ms\tremaining: 194ms\n",
      "824:\tlearn: 0.0657633\ttotal: 909ms\tremaining: 193ms\n",
      "825:\tlearn: 0.0656340\ttotal: 910ms\tremaining: 192ms\n",
      "826:\tlearn: 0.0654869\ttotal: 911ms\tremaining: 191ms\n",
      "827:\tlearn: 0.0654771\ttotal: 912ms\tremaining: 189ms\n",
      "828:\tlearn: 0.0653095\ttotal: 913ms\tremaining: 188ms\n",
      "829:\tlearn: 0.0652958\ttotal: 914ms\tremaining: 187ms\n",
      "830:\tlearn: 0.0652368\ttotal: 915ms\tremaining: 186ms\n",
      "831:\tlearn: 0.0651863\ttotal: 916ms\tremaining: 185ms\n",
      "832:\tlearn: 0.0651024\ttotal: 917ms\tremaining: 184ms\n",
      "833:\tlearn: 0.0650176\ttotal: 918ms\tremaining: 183ms\n",
      "834:\tlearn: 0.0647908\ttotal: 919ms\tremaining: 182ms\n",
      "835:\tlearn: 0.0647804\ttotal: 920ms\tremaining: 181ms\n",
      "836:\tlearn: 0.0647335\ttotal: 921ms\tremaining: 179ms\n",
      "837:\tlearn: 0.0646536\ttotal: 922ms\tremaining: 178ms\n",
      "838:\tlearn: 0.0645395\ttotal: 923ms\tremaining: 177ms\n",
      "839:\tlearn: 0.0644149\ttotal: 924ms\tremaining: 176ms\n",
      "840:\tlearn: 0.0643660\ttotal: 925ms\tremaining: 175ms\n",
      "841:\tlearn: 0.0642486\ttotal: 926ms\tremaining: 174ms\n",
      "842:\tlearn: 0.0642159\ttotal: 927ms\tremaining: 173ms\n",
      "843:\tlearn: 0.0641288\ttotal: 928ms\tremaining: 172ms\n",
      "844:\tlearn: 0.0641053\ttotal: 929ms\tremaining: 170ms\n",
      "845:\tlearn: 0.0639987\ttotal: 930ms\tremaining: 169ms\n",
      "846:\tlearn: 0.0638899\ttotal: 931ms\tremaining: 168ms\n",
      "847:\tlearn: 0.0637671\ttotal: 933ms\tremaining: 167ms\n",
      "848:\tlearn: 0.0636939\ttotal: 934ms\tremaining: 166ms\n",
      "849:\tlearn: 0.0634985\ttotal: 935ms\tremaining: 165ms\n",
      "850:\tlearn: 0.0634046\ttotal: 936ms\tremaining: 164ms\n",
      "851:\tlearn: 0.0633196\ttotal: 937ms\tremaining: 163ms\n",
      "852:\tlearn: 0.0632090\ttotal: 938ms\tremaining: 162ms\n",
      "853:\tlearn: 0.0631408\ttotal: 939ms\tremaining: 160ms\n",
      "854:\tlearn: 0.0630737\ttotal: 940ms\tremaining: 159ms\n"
     ]
    },
    {
     "name": "stdout",
     "output_type": "stream",
     "text": [
      "855:\tlearn: 0.0629613\ttotal: 941ms\tremaining: 158ms\n",
      "856:\tlearn: 0.0628579\ttotal: 942ms\tremaining: 157ms\n",
      "857:\tlearn: 0.0627306\ttotal: 943ms\tremaining: 156ms\n",
      "858:\tlearn: 0.0626510\ttotal: 944ms\tremaining: 155ms\n",
      "859:\tlearn: 0.0625262\ttotal: 945ms\tremaining: 154ms\n",
      "860:\tlearn: 0.0624401\ttotal: 946ms\tremaining: 153ms\n",
      "861:\tlearn: 0.0623679\ttotal: 947ms\tremaining: 152ms\n",
      "862:\tlearn: 0.0622661\ttotal: 948ms\tremaining: 151ms\n",
      "863:\tlearn: 0.0621527\ttotal: 949ms\tremaining: 149ms\n",
      "864:\tlearn: 0.0620038\ttotal: 950ms\tremaining: 148ms\n",
      "865:\tlearn: 0.0618782\ttotal: 951ms\tremaining: 147ms\n",
      "866:\tlearn: 0.0618012\ttotal: 952ms\tremaining: 146ms\n",
      "867:\tlearn: 0.0617153\ttotal: 953ms\tremaining: 145ms\n",
      "868:\tlearn: 0.0616164\ttotal: 954ms\tremaining: 144ms\n",
      "869:\tlearn: 0.0615294\ttotal: 955ms\tremaining: 143ms\n",
      "870:\tlearn: 0.0614529\ttotal: 957ms\tremaining: 142ms\n",
      "871:\tlearn: 0.0613482\ttotal: 958ms\tremaining: 141ms\n",
      "872:\tlearn: 0.0612341\ttotal: 959ms\tremaining: 139ms\n",
      "873:\tlearn: 0.0611482\ttotal: 960ms\tremaining: 138ms\n",
      "874:\tlearn: 0.0610418\ttotal: 961ms\tremaining: 137ms\n",
      "875:\tlearn: 0.0610085\ttotal: 962ms\tremaining: 136ms\n",
      "876:\tlearn: 0.0609230\ttotal: 963ms\tremaining: 135ms\n",
      "877:\tlearn: 0.0608062\ttotal: 964ms\tremaining: 134ms\n",
      "878:\tlearn: 0.0606933\ttotal: 965ms\tremaining: 133ms\n",
      "879:\tlearn: 0.0606206\ttotal: 966ms\tremaining: 132ms\n",
      "880:\tlearn: 0.0605402\ttotal: 967ms\tremaining: 131ms\n",
      "881:\tlearn: 0.0604164\ttotal: 968ms\tremaining: 129ms\n",
      "882:\tlearn: 0.0602971\ttotal: 969ms\tremaining: 128ms\n",
      "883:\tlearn: 0.0602042\ttotal: 970ms\tremaining: 127ms\n",
      "884:\tlearn: 0.0600665\ttotal: 971ms\tremaining: 126ms\n",
      "885:\tlearn: 0.0599489\ttotal: 972ms\tremaining: 125ms\n",
      "886:\tlearn: 0.0599134\ttotal: 973ms\tremaining: 124ms\n",
      "887:\tlearn: 0.0598213\ttotal: 974ms\tremaining: 123ms\n",
      "888:\tlearn: 0.0597469\ttotal: 975ms\tremaining: 122ms\n",
      "889:\tlearn: 0.0596008\ttotal: 976ms\tremaining: 121ms\n",
      "890:\tlearn: 0.0594607\ttotal: 977ms\tremaining: 119ms\n",
      "891:\tlearn: 0.0593735\ttotal: 978ms\tremaining: 118ms\n",
      "892:\tlearn: 0.0593375\ttotal: 979ms\tremaining: 117ms\n",
      "893:\tlearn: 0.0593283\ttotal: 980ms\tremaining: 116ms\n",
      "894:\tlearn: 0.0592332\ttotal: 981ms\tremaining: 115ms\n",
      "895:\tlearn: 0.0591626\ttotal: 982ms\tremaining: 114ms\n",
      "896:\tlearn: 0.0590817\ttotal: 983ms\tremaining: 113ms\n",
      "897:\tlearn: 0.0590383\ttotal: 984ms\tremaining: 112ms\n",
      "898:\tlearn: 0.0590111\ttotal: 985ms\tremaining: 111ms\n",
      "899:\tlearn: 0.0589252\ttotal: 985ms\tremaining: 109ms\n",
      "900:\tlearn: 0.0589162\ttotal: 986ms\tremaining: 108ms\n",
      "901:\tlearn: 0.0589003\ttotal: 987ms\tremaining: 107ms\n",
      "902:\tlearn: 0.0588111\ttotal: 988ms\tremaining: 106ms\n",
      "903:\tlearn: 0.0587161\ttotal: 989ms\tremaining: 105ms\n",
      "904:\tlearn: 0.0586105\ttotal: 990ms\tremaining: 104ms\n",
      "905:\tlearn: 0.0585374\ttotal: 991ms\tremaining: 103ms\n",
      "906:\tlearn: 0.0585290\ttotal: 992ms\tremaining: 102ms\n",
      "907:\tlearn: 0.0583974\ttotal: 993ms\tremaining: 101ms\n",
      "908:\tlearn: 0.0583195\ttotal: 994ms\tremaining: 99.5ms\n",
      "909:\tlearn: 0.0581699\ttotal: 995ms\tremaining: 98.4ms\n",
      "910:\tlearn: 0.0580892\ttotal: 996ms\tremaining: 97.3ms\n",
      "911:\tlearn: 0.0580268\ttotal: 997ms\tremaining: 96.2ms\n",
      "912:\tlearn: 0.0579054\ttotal: 998ms\tremaining: 95.1ms\n",
      "913:\tlearn: 0.0577286\ttotal: 999ms\tremaining: 94ms\n",
      "914:\tlearn: 0.0576926\ttotal: 1000ms\tremaining: 92.9ms\n",
      "915:\tlearn: 0.0576180\ttotal: 1s\tremaining: 91.8ms\n",
      "916:\tlearn: 0.0575196\ttotal: 1s\tremaining: 90.7ms\n",
      "917:\tlearn: 0.0574681\ttotal: 1s\tremaining: 89.6ms\n",
      "918:\tlearn: 0.0574000\ttotal: 1s\tremaining: 88.5ms\n",
      "919:\tlearn: 0.0573289\ttotal: 1s\tremaining: 87.4ms\n",
      "920:\tlearn: 0.0572280\ttotal: 1s\tremaining: 86.3ms\n",
      "921:\tlearn: 0.0570753\ttotal: 1.01s\tremaining: 85.2ms\n",
      "922:\tlearn: 0.0570189\ttotal: 1.01s\tremaining: 84.1ms\n",
      "923:\tlearn: 0.0568992\ttotal: 1.01s\tremaining: 83ms\n",
      "924:\tlearn: 0.0568518\ttotal: 1.01s\tremaining: 81.9ms\n",
      "925:\tlearn: 0.0567751\ttotal: 1.01s\tremaining: 80.8ms\n",
      "926:\tlearn: 0.0565689\ttotal: 1.01s\tremaining: 79.7ms\n",
      "927:\tlearn: 0.0564421\ttotal: 1.01s\tremaining: 78.6ms\n",
      "928:\tlearn: 0.0563717\ttotal: 1.01s\tremaining: 77.5ms\n",
      "929:\tlearn: 0.0562856\ttotal: 1.01s\tremaining: 76.4ms\n",
      "930:\tlearn: 0.0562300\ttotal: 1.01s\tremaining: 75.3ms\n",
      "931:\tlearn: 0.0562005\ttotal: 1.02s\tremaining: 74.2ms\n",
      "932:\tlearn: 0.0560954\ttotal: 1.02s\tremaining: 73.1ms\n",
      "933:\tlearn: 0.0559824\ttotal: 1.02s\tremaining: 72ms\n",
      "934:\tlearn: 0.0559762\ttotal: 1.02s\tremaining: 70.9ms\n",
      "935:\tlearn: 0.0558343\ttotal: 1.02s\tremaining: 69.8ms\n",
      "936:\tlearn: 0.0557518\ttotal: 1.02s\tremaining: 68.7ms\n",
      "937:\tlearn: 0.0556260\ttotal: 1.02s\tremaining: 67.6ms\n",
      "938:\tlearn: 0.0555423\ttotal: 1.02s\tremaining: 66.5ms\n",
      "939:\tlearn: 0.0554367\ttotal: 1.02s\tremaining: 65.4ms\n",
      "940:\tlearn: 0.0553193\ttotal: 1.02s\tremaining: 64.3ms\n",
      "941:\tlearn: 0.0552401\ttotal: 1.03s\tremaining: 63.2ms\n",
      "942:\tlearn: 0.0551885\ttotal: 1.03s\tremaining: 62.1ms\n",
      "943:\tlearn: 0.0551213\ttotal: 1.03s\tremaining: 61ms\n",
      "944:\tlearn: 0.0550622\ttotal: 1.03s\tremaining: 59.9ms\n",
      "945:\tlearn: 0.0550033\ttotal: 1.03s\tremaining: 58.8ms\n",
      "946:\tlearn: 0.0548685\ttotal: 1.03s\tremaining: 57.7ms\n",
      "947:\tlearn: 0.0547571\ttotal: 1.03s\tremaining: 56.6ms\n",
      "948:\tlearn: 0.0546965\ttotal: 1.03s\tremaining: 55.5ms\n",
      "949:\tlearn: 0.0545954\ttotal: 1.03s\tremaining: 54.5ms\n",
      "950:\tlearn: 0.0545428\ttotal: 1.03s\tremaining: 53.4ms\n",
      "951:\tlearn: 0.0544889\ttotal: 1.04s\tremaining: 52.3ms\n",
      "952:\tlearn: 0.0544226\ttotal: 1.04s\tremaining: 51.2ms\n",
      "953:\tlearn: 0.0543520\ttotal: 1.04s\tremaining: 50.1ms\n",
      "954:\tlearn: 0.0542897\ttotal: 1.04s\tremaining: 49ms\n",
      "955:\tlearn: 0.0542457\ttotal: 1.04s\tremaining: 47.9ms\n",
      "956:\tlearn: 0.0541585\ttotal: 1.04s\tremaining: 46.8ms\n",
      "957:\tlearn: 0.0540892\ttotal: 1.04s\tremaining: 45.7ms\n",
      "958:\tlearn: 0.0539954\ttotal: 1.04s\tremaining: 44.6ms\n",
      "959:\tlearn: 0.0538882\ttotal: 1.04s\tremaining: 43.5ms\n",
      "960:\tlearn: 0.0538087\ttotal: 1.04s\tremaining: 42.4ms\n",
      "961:\tlearn: 0.0537342\ttotal: 1.05s\tremaining: 41.3ms\n",
      "962:\tlearn: 0.0536795\ttotal: 1.05s\tremaining: 40.3ms\n",
      "963:\tlearn: 0.0535388\ttotal: 1.05s\tremaining: 39.2ms\n",
      "964:\tlearn: 0.0534927\ttotal: 1.05s\tremaining: 38.1ms\n",
      "965:\tlearn: 0.0533722\ttotal: 1.05s\tremaining: 37ms\n",
      "966:\tlearn: 0.0533121\ttotal: 1.05s\tremaining: 35.9ms\n",
      "967:\tlearn: 0.0532685\ttotal: 1.05s\tremaining: 34.8ms\n",
      "968:\tlearn: 0.0531398\ttotal: 1.05s\tremaining: 33.7ms\n",
      "969:\tlearn: 0.0530868\ttotal: 1.05s\tremaining: 32.6ms\n",
      "970:\tlearn: 0.0530388\ttotal: 1.05s\tremaining: 31.5ms\n",
      "971:\tlearn: 0.0529572\ttotal: 1.06s\tremaining: 30.4ms\n",
      "972:\tlearn: 0.0528378\ttotal: 1.06s\tremaining: 29.4ms\n",
      "973:\tlearn: 0.0527078\ttotal: 1.06s\tremaining: 28.3ms\n",
      "974:\tlearn: 0.0526525\ttotal: 1.06s\tremaining: 27.2ms\n",
      "975:\tlearn: 0.0526437\ttotal: 1.06s\tremaining: 26.1ms\n",
      "976:\tlearn: 0.0525413\ttotal: 1.06s\tremaining: 25ms\n",
      "977:\tlearn: 0.0524587\ttotal: 1.06s\tremaining: 23.9ms\n",
      "978:\tlearn: 0.0523559\ttotal: 1.06s\tremaining: 22.8ms\n",
      "979:\tlearn: 0.0522333\ttotal: 1.06s\tremaining: 21.7ms\n",
      "980:\tlearn: 0.0521365\ttotal: 1.07s\tremaining: 20.7ms\n",
      "981:\tlearn: 0.0520545\ttotal: 1.07s\tremaining: 19.6ms\n",
      "982:\tlearn: 0.0520334\ttotal: 1.07s\tremaining: 18.5ms\n",
      "983:\tlearn: 0.0519767\ttotal: 1.07s\tremaining: 17.4ms\n",
      "984:\tlearn: 0.0519148\ttotal: 1.07s\tremaining: 16.3ms\n",
      "985:\tlearn: 0.0518663\ttotal: 1.07s\tremaining: 15.2ms\n",
      "986:\tlearn: 0.0518382\ttotal: 1.07s\tremaining: 14.1ms\n",
      "987:\tlearn: 0.0518126\ttotal: 1.07s\tremaining: 13ms\n",
      "988:\tlearn: 0.0516720\ttotal: 1.07s\tremaining: 12ms\n",
      "989:\tlearn: 0.0515403\ttotal: 1.08s\tremaining: 10.9ms\n"
     ]
    },
    {
     "name": "stdout",
     "output_type": "stream",
     "text": [
      "990:\tlearn: 0.0514262\ttotal: 1.08s\tremaining: 9.79ms\n",
      "991:\tlearn: 0.0513779\ttotal: 1.08s\tremaining: 8.7ms\n",
      "992:\tlearn: 0.0512603\ttotal: 1.08s\tremaining: 7.61ms\n",
      "993:\tlearn: 0.0511494\ttotal: 1.08s\tremaining: 6.53ms\n",
      "994:\tlearn: 0.0510441\ttotal: 1.08s\tremaining: 5.44ms\n",
      "995:\tlearn: 0.0509366\ttotal: 1.08s\tremaining: 4.35ms\n",
      "996:\tlearn: 0.0508087\ttotal: 1.08s\tremaining: 3.26ms\n",
      "997:\tlearn: 0.0507157\ttotal: 1.08s\tremaining: 2.17ms\n",
      "998:\tlearn: 0.0506626\ttotal: 1.09s\tremaining: 1.09ms\n",
      "999:\tlearn: 0.0505889\ttotal: 1.09s\tremaining: 0us\n"
     ]
    },
    {
     "data": {
      "text/plain": [
       "<catboost.core.CatBoostRegressor at 0x7fcd60567fd0>"
      ]
     },
     "execution_count": 9,
     "metadata": {},
     "output_type": "execute_result"
    }
   ],
   "source": [
    "#Train the Model \n",
    "prior_model = ctb.CatBoostRegressor()\n",
    "prior_model.fit(X_train,Y_train)"
   ]
  },
  {
   "cell_type": "code",
   "execution_count": 10,
   "id": "c775fd81",
   "metadata": {
    "execution": {
     "iopub.execute_input": "2022-01-14T16:52:19.687529Z",
     "iopub.status.busy": "2022-01-14T16:52:19.686932Z",
     "iopub.status.idle": "2022-01-14T16:52:19.698802Z",
     "shell.execute_reply": "2022-01-14T16:52:19.698214Z"
    },
    "papermill": {
     "duration": 0.046226,
     "end_time": "2022-01-14T16:52:19.698916",
     "exception": false,
     "start_time": "2022-01-14T16:52:19.652690",
     "status": "completed"
    },
    "tags": []
   },
   "outputs": [
    {
     "data": {
      "application/scrapbook.scrap.json+json": {
       "data": 0.08597809120784877,
       "encoder": "json",
       "name": "Prior Model MSE",
       "version": 1
      }
     },
     "metadata": {
      "scrapbook": {
       "data": true,
       "display": false,
       "name": "Prior Model MSE"
      }
     },
     "output_type": "display_data"
    },
    {
     "data": {
      "application/scrapbook.scrap.json+json": {
       "data": 1.0305283930394469,
       "encoder": "json",
       "name": "ABC Pre-generator MSE",
       "version": 1
      }
     },
     "metadata": {
      "scrapbook": {
       "data": true,
       "display": false,
       "name": "ABC Pre-generator MSE"
      }
     },
     "output_type": "display_data"
    }
   ],
   "source": [
    "y_pred = prior_model.predict(X_test)\n",
    "y_abc = y_pred + np.random.normal(0,variance, y_pred.shape)\n",
    "mse = mean_squared_error(y_pred,Y_test)\n",
    "sb.glue(\"Prior Model MSE\",mse)\n",
    "mse = mean_squared_error(y_abc,Y_test)\n",
    "sb.glue(\"ABC Pre-generator MSE\",mse)"
   ]
  },
  {
   "cell_type": "markdown",
   "id": "0cd0def6",
   "metadata": {
    "papermill": {
     "duration": 0.028547,
     "end_time": "2022-01-14T16:52:19.755910",
     "exception": false,
     "start_time": "2022-01-14T16:52:19.727363",
     "status": "completed"
    },
    "tags": []
   },
   "source": [
    "# ABC GAN Model"
   ]
  },
  {
   "cell_type": "markdown",
   "id": "70beaf4c",
   "metadata": {
    "papermill": {
     "duration": 0.028131,
     "end_time": "2022-01-14T16:52:19.812618",
     "exception": false,
     "start_time": "2022-01-14T16:52:19.784487",
     "status": "completed"
    },
    "tags": []
   },
   "source": [
    "### Training the network\n",
    "**Training ABC-GAN for n_epochs number of epochs** "
   ]
  },
  {
   "cell_type": "code",
   "execution_count": 11,
   "id": "dbaaafa1",
   "metadata": {
    "execution": {
     "iopub.execute_input": "2022-01-14T16:52:19.876211Z",
     "iopub.status.busy": "2022-01-14T16:52:19.875572Z",
     "iopub.status.idle": "2022-01-14T16:52:22.843755Z",
     "shell.execute_reply": "2022-01-14T16:52:22.843045Z"
    },
    "papermill": {
     "duration": 3.002637,
     "end_time": "2022-01-14T16:52:22.843914",
     "exception": false,
     "start_time": "2022-01-14T16:52:19.841277",
     "status": "completed"
    },
    "tags": []
   },
   "outputs": [],
   "source": [
    "gen = network.Generator(n_features+1).to(device)\n",
    "disc = network.Discriminator(n_features+1).to(device)\n",
    "\n",
    "criterion = torch.nn.BCELoss()\n",
    "gen_opt = torch.optim.Adam(gen.parameters(), lr=0.001, betas=(0.5, 0.999))\n",
    "disc_opt = torch.optim.Adam(disc.parameters(), lr=0.01, betas=(0.5, 0.999))"
   ]
  },
  {
   "cell_type": "code",
   "execution_count": 12,
   "id": "6e9eeab8",
   "metadata": {
    "execution": {
     "iopub.execute_input": "2022-01-14T16:52:22.908076Z",
     "iopub.status.busy": "2022-01-14T16:52:22.907486Z",
     "iopub.status.idle": "2022-01-14T16:57:54.100557Z",
     "shell.execute_reply": "2022-01-14T16:57:54.100024Z"
    },
    "papermill": {
     "duration": 331.226676,
     "end_time": "2022-01-14T16:57:54.100712",
     "exception": false,
     "start_time": "2022-01-14T16:52:22.874036",
     "status": "completed"
    },
    "tags": []
   },
   "outputs": [
    {
     "data": {
      "image/png": "[encoded data removed]",
      "text/plain": [
       "<Figure size 432x288 with 1 Axes>"
      ]
     },
     "metadata": {
      "needs_background": "light"
     },
     "output_type": "display_data"
    },
    {
     "data": {
      "image/png": "[encoded data removed]",
      "text/plain": [
       "<Figure size 432x288 with 1 Axes>"
      ]
     },
     "metadata": {
      "needs_background": "light"
     },
     "output_type": "display_data"
    }
   ],
   "source": [
    "#Training the ABC_GAN \n",
    "ABC_train_test2.training_GAN(disc,gen,disc_opt,gen_opt,train_data,batch_size,n_epochs,criterion,prior_model,variance,device)"
   ]
  },
  {
   "cell_type": "code",
   "execution_count": 13,
   "id": "11c3082e",
   "metadata": {
    "execution": {
     "iopub.execute_input": "2022-01-14T16:57:54.172480Z",
     "iopub.status.busy": "2022-01-14T16:57:54.171846Z",
     "iopub.status.idle": "2022-01-14T16:57:54.590687Z",
     "shell.execute_reply": "2022-01-14T16:57:54.590084Z"
    },
    "papermill": {
     "duration": 0.456845,
     "end_time": "2022-01-14T16:57:54.590848",
     "exception": false,
     "start_time": "2022-01-14T16:57:54.134003",
     "status": "completed"
    },
    "tags": []
   },
   "outputs": [
    {
     "data": {
      "application/scrapbook.scrap.json+json": {
       "data": 0.20929175257236116,
       "encoder": "json",
       "name": "ABC-GAN Model 1 MSE",
       "version": 1
      }
     },
     "metadata": {
      "scrapbook": {
       "data": true,
       "display": false,
       "name": "ABC-GAN Model 1 MSE"
      }
     },
     "output_type": "display_data"
    },
    {
     "data": {
      "application/scrapbook.scrap.json+json": {
       "data": 0.3378459772076823,
       "encoder": "json",
       "name": "ABC-GAN Model 1 MAE",
       "version": 1
      }
     },
     "metadata": {
      "scrapbook": {
       "data": true,
       "display": false,
       "name": "ABC-GAN Model 1 MAE"
      }
     },
     "output_type": "display_data"
    },
    {
     "data": {
      "application/scrapbook.scrap.json+json": {
       "data": 34.460289675183596,
       "encoder": "json",
       "name": "ABC-GAN Model 1 Manhattan Distance",
       "version": 1
      }
     },
     "metadata": {
      "scrapbook": {
       "data": true,
       "display": false,
       "name": "ABC-GAN Model 1 Manhattan Distance"
      }
     },
     "output_type": "display_data"
    },
    {
     "data": {
      "application/scrapbook.scrap.json+json": {
       "data": 4.62033582044036,
       "encoder": "json",
       "name": "ABC-GAN Model 1 Euclidean distance",
       "version": 1
      }
     },
     "metadata": {
      "scrapbook": {
       "data": true,
       "display": false,
       "name": "ABC-GAN Model 1 Euclidean distance"
      }
     },
     "output_type": "display_data"
    },
    {
     "data": {
      "application/scrapbook.scrap.json+json": {
       "data": [
        [
         0.2098516251669777,
         0.2084556126725686,
         0.20745454924673393,
         0.20852670726848027,
         0.207061314445072,
         0.20937467353544142,
         0.2081025104906097,
         0.21012320864773723,
         0.208333766751333,
         0.20840404878113045,
         0.20896198263373805,
         0.2095372311225472,
         0.21059488864444603,
         0.21117322636299302,
         0.2098780602847258,
         0.20998879589051464,
         0.20658532604722493,
         0.2077500796455835,
         0.21045218783733524,
         0.20874747388127227,
         0.2080418412593506,
         0.2107491008237876,
         0.20951233375362066,
         0.20935203634959096,
         0.21125308477647023,
         0.2102892697282062,
         0.20930192948730758,
         0.20755964180603992,
         0.20692414872974207,
         0.21059695017372074,
         0.20912214720298647,
         0.21040473319486705,
         0.20753408313575536,
         0.20732763561920997,
         0.2097592474341924,
         0.2099642098404612,
         0.21055318373360477,
         0.21015120610954127,
         0.20900096562615753,
         0.2095723320411689,
         0.21037907649242082,
         0.20941961260929176,
         0.20904633312899673,
         0.20655102547393148,
         0.2095944722870751,
         0.2089701886191282,
         0.21106939961276858,
         0.20842898337982896,
         0.2112233430094301,
         0.21096892199917897,
         0.20952265849950397,
         0.21157059436961492,
         0.2090085603248774,
         0.2086959151807677,
         0.20922834480240496,
         0.20861173426387636,
         0.2089390201757557,
         0.2062475642804477,
         0.21044799147632418,
         0.2074377527382393,
         0.2118466085905961,
         0.20720515431167258,
         0.21148229195119717,
         0.21025128196259568,
         0.20933865834869864,
         0.21286984807918438,
         0.20853678620457358,
         0.21065628133857714,
         0.21003982285579578,
         0.20863691439449739,
         0.21038920172646372,
         0.2085442889333269,
         0.2085226839130213,
         0.2093208580094979,
         0.20812984797856265,
         0.21170152410368864,
         0.20714136795007526,
         0.20799423275092732,
         0.2108517210781582,
         0.2052004323745117,
         0.2088813072136786,
         0.20835628006944487,
         0.20987647316382269,
         0.21177613089794303,
         0.20854141713416274,
         0.20968810921754677,
         0.2106951866449738,
         0.21005504200524266,
         0.20973227221452537,
         0.20859503334061155,
         0.20992722685745144,
         0.21027385202446125,
         0.20802612568313847,
         0.20549908738586692,
         0.20822275714763835,
         0.20846875269624485,
         0.21034182141681612,
         0.21001075602895575,
         0.20974678145752465,
         0.2121121948743337
        ],
        [
         0.33715471985074236,
         0.33630856767515926,
         0.33487430118097394,
         0.3371040659463581,
         0.33328262922883617,
         0.33731455288316103,
         0.3371998557236557,
         0.33857083873932853,
         0.3388940425151411,
         0.3370997989550233,
         0.33827574790327575,
         0.3394879318006775,
         0.3384927683783805,
         0.3381407211041626,
         0.3373540443934354,
         0.3373589869771226,
         0.33508974695395605,
         0.33582596358496186,
         0.33952153344437774,
         0.3387377402179089,
         0.3363856960124537,
         0.3396761094347811,
         0.3377886167818717,
         0.3380086266563511,
         0.34096119364760086,
         0.34236793031952545,
         0.3390437510850675,
         0.33738736178287687,
         0.3341208742931485,
         0.3404296709078492,
         0.3377924768765475,
         0.3374509871115579,
         0.33494441629405697,
         0.33624098163244187,
         0.3369419740732102,
         0.3393511976864116,
         0.3370992404901806,
         0.33925388908634585,
         0.33816433316279276,
         0.34132010082476866,
         0.3398343157571028,
         0.3369177212646487,
         0.33835109431004406,
         0.3361722269807668,
         0.33846016376114946,
         0.3390463722650619,
         0.337220864023502,
         0.33792577349745173,
         0.338321146883947,
         0.33674370769557416,
         0.3395581577594082,
         0.34042842742786106,
         0.33778793213195074,
         0.33744329007744206,
         0.3365641182434617,
         0.336351750108103,
         0.33775750845305474,
         0.3344098181810741,
         0.3375584905894071,
         0.333313711882368,
         0.34038943386472326,
         0.3346041550713719,
         0.33827519725423816,
         0.3382912772141543,
         0.33823696967652617,
         0.3416302214906204,
         0.33725767737875384,
         0.34086567753305036,
         0.33751575946442636,
         0.3372769119291037,
         0.3395758205294317,
         0.33976942079835665,
         0.3373627006898032,
         0.33672690608849126,
         0.3374026284973119,
         0.3413129081657412,
         0.33552358608108523,
         0.3347996694090612,
         0.3398851434353228,
         0.3347895065249473,
         0.3355440971277216,
         0.33836404520872176,
         0.3374491815510042,
         0.34082727391711054,
         0.3387712133390939,
         0.3369721054263851,
         0.3375226985115339,
         0.33893329571640374,
         0.3380586056257872,
         0.3391265596500507,
         0.3399202264662759,
         0.3394710370248147,
         0.3339089496134251,
         0.3331484446009877,
         0.3383245058540328,
         0.33780493716910187,
         0.3390730930419237,
         0.338946739814299,
         0.33861343005635575,
         0.34134113304682223
        ],
        [
         34.38978142477572,
         34.303473902866244,
         34.15717872045934,
         34.384614726528525,
         33.99482818134129,
         34.40608439408243,
         34.39438528381288,
         34.53422555141151,
         34.567192336544394,
         34.384179493412375,
         34.504126286134124,
         34.627769043669105,
         34.52626237459481,
         34.49035355262458,
         34.41011252813041,
         34.4106166716665,
         34.17915418930352,
         34.25424828566611,
         34.63119641132653,
         34.55124950222671,
         34.31134099327028,
         34.646963162347674,
         34.45443891175091,
         34.476879918947816,
         34.77804175205529,
         34.921528892591596,
         34.582462610676885,
         34.41351090185344,
         34.08032917790115,
         34.72382643260062,
         34.45483264140785,
         34.42000068537891,
         34.16433046199381,
         34.29658012650907,
         34.36808135546744,
         34.61382216401398,
         34.38412252999842,
         34.603896686807275,
         34.49276198260486,
         34.8146502841264,
         34.66310020722449,
         34.365607568994164,
         34.511811619624496,
         34.28956715203822,
         34.52293670363724,
         34.582729971036315,
         34.3965281303972,
         34.46842889674008,
         34.508756982162595,
         34.347858184948564,
         34.63493209145963,
         34.723699597641826,
         34.45436907745898,
         34.41921558789909,
         34.3295400608331,
         34.3078785110265,
         34.451265862211585,
         34.10980145446956,
         34.43096604011953,
         33.99799861200154,
         34.71972225420177,
         34.129623817279935,
         34.504070119932294,
         34.50571027584374,
         34.50017090700567,
         34.84628259204328,
         34.40028309263289,
         34.76829910837114,
         34.42660746537149,
         34.402245016768575,
         34.63673369400203,
         34.656480921432376,
         34.41099547035992,
         34.34614442102611,
         34.41506810672581,
         34.8139166329056,
         34.223405780270696,
         34.14956627972424,
         34.66828463040292,
         34.14852966554463,
         34.2254979070276,
         34.51313261128962,
         34.419816518202424,
         34.764381939545274,
         34.55466376058757,
         34.37115475349128,
         34.427315248176455,
         34.57119616307318,
         34.481977773830295,
         34.59090908430517,
         34.67186309956014,
         34.6260457765311,
         34.05871286056936,
         33.98114134930074,
         34.509099597111344,
         34.45610359124839,
         34.58545549027622,
         34.5725674610585,
         34.538569865748286,
         34.81679557077587
        ],
        [
         4.62653928623023,
         4.611124861961773,
         4.6000395675653545,
         4.611911115945859,
         4.595677759960694,
         4.621278686750563,
         4.607217823159893,
         4.629532080250572,
         4.609777023743768,
         4.610554519325771,
         4.616722022023989,
         4.623072309027819,
         4.634725303805339,
         4.641084904311198,
         4.626830680826998,
         4.62805112124234,
         4.590392494854545,
         4.603314906005184,
         4.6331547739535095,
         4.614351778515565,
         4.606546190852075,
         4.636421926877053,
         4.622797642431399,
         4.621028858128703,
         4.64196237029125,
         4.6313610863629515,
         4.620475820487038,
         4.601204566656003,
         4.594155327199298,
         4.634747988587892,
         4.618490988916684,
         4.632632381905178,
         4.600921264252089,
         4.5986322785323255,
         4.625520861296338,
         4.627780181007632,
         4.634266364898298,
         4.6298404965153175,
         4.617152639221283,
         4.623459512983672,
         4.632349922256188,
         4.621774603563846,
         4.617653730971787,
         4.590011394140651,
         4.623703728968979,
         4.6168126710048645,
         4.639943831610721,
         4.610830327038997,
         4.641635593943354,
         4.638839299212277,
         4.622911546520157,
         4.645449453572897,
         4.617236527744435,
         4.613781892161603,
         4.619663534267977,
         4.612851276045585,
         4.616468353398198,
         4.586638372120223,
         4.633108581782328,
         4.599853343238282,
         4.64847868406867,
         4.597273729047531,
         4.644479925569935,
         4.63094275069178,
         4.620881209419612,
         4.659691460180255,
         4.6120225707238784,
         4.635400812932455,
         4.628613391858425,
         4.61312966089603,
         4.632461394992871,
         4.612105535566086,
         4.611866624169455,
         4.6206847454645485,
         4.607520427932293,
         4.646886641459659,
         4.596566058581958,
         4.606019077315527,
         4.637550598103716,
         4.574980229705937,
         4.615830730843063,
         4.610026091800714,
         4.626813186493476,
         4.647705385627426,
         4.612073779514438,
         4.624736440078479,
         4.635828840432672,
         4.6287810797805875,
         4.625223428752559,
         4.612666625797096,
         4.627372595702668,
         4.631191305322535,
         4.606372197258936,
         4.578308302567491,
         4.608548711802785,
         4.611270191066336,
         4.631939743186998,
         4.62829311031113,
         4.625383412071642,
         4.651391606517564
        ]
       ],
       "encoder": "json",
       "name": "ABC_GAN_1 Metrics",
       "version": 1
      }
     },
     "metadata": {
      "scrapbook": {
       "data": true,
       "display": false,
       "name": "ABC_GAN_1 Metrics"
      }
     },
     "output_type": "display_data"
    }
   ],
   "source": [
    "ABC_GAN1_metrics=ABC_train_test2.test_generator(gen,test_data,prior_model,variance,\"1\",device)\n",
    "sb.glue(\"ABC_GAN_1 Metrics\",ABC_GAN1_metrics)"
   ]
  },
  {
   "cell_type": "markdown",
   "id": "394a2b9d",
   "metadata": {
    "papermill": {
     "duration": 0.048511,
     "end_time": "2022-01-14T16:57:54.677122",
     "exception": false,
     "start_time": "2022-01-14T16:57:54.628611",
     "status": "completed"
    },
    "tags": []
   },
   "source": [
    "#### Sanity Checks "
   ]
  },
  {
   "cell_type": "code",
   "execution_count": 14,
   "id": "a36b3b22",
   "metadata": {
    "execution": {
     "iopub.execute_input": "2022-01-14T16:57:54.757507Z",
     "iopub.status.busy": "2022-01-14T16:57:54.756686Z",
     "iopub.status.idle": "2022-01-14T16:57:55.503564Z",
     "shell.execute_reply": "2022-01-14T16:57:55.503996Z"
    },
    "papermill": {
     "duration": 0.789481,
     "end_time": "2022-01-14T16:57:55.504171",
     "exception": false,
     "start_time": "2022-01-14T16:57:54.714690",
     "status": "completed"
    },
    "tags": []
   },
   "outputs": [
    {
     "data": {
      "image/png": "[encoded data removed]",
      "text/plain": [
       "<Figure size 432x288 with 1 Axes>"
      ]
     },
     "metadata": {
      "needs_background": "light"
     },
     "output_type": "display_data"
    },
    {
     "data": {
      "image/png": "[encoded data removed]",
      "text/plain": [
       "<Figure size 432x288 with 1 Axes>"
      ]
     },
     "metadata": {
      "needs_background": "light"
     },
     "output_type": "display_data"
    },
    {
     "data": {
      "image/png": "[encoded data removed]",
      "text/plain": [
       "<Figure size 432x288 with 1 Axes>"
      ]
     },
     "metadata": {
      "needs_background": "light"
     },
     "output_type": "display_data"
    },
    {
     "data": {
      "image/png": "[encoded data removed]",
      "text/plain": [
       "<Figure size 432x288 with 1 Axes>"
      ]
     },
     "metadata": {
      "needs_background": "light"
     },
     "output_type": "display_data"
    }
   ],
   "source": [
    "sanityChecks.discProbVsError(train_data,disc,device)\n",
    "sanityChecks.discProbVsError(test_data,disc,device)"
   ]
  },
  {
   "cell_type": "markdown",
   "id": "130f3a4d",
   "metadata": {
    "papermill": {
     "duration": 0.039108,
     "end_time": "2022-01-14T16:57:55.584460",
     "exception": false,
     "start_time": "2022-01-14T16:57:55.545352",
     "status": "completed"
    },
    "tags": []
   },
   "source": [
    "# ABC - GAN Model with skip connection"
   ]
  },
  {
   "cell_type": "code",
   "execution_count": 15,
   "id": "4e43dad1",
   "metadata": {
    "execution": {
     "iopub.execute_input": "2022-01-14T16:57:55.666381Z",
     "iopub.status.busy": "2022-01-14T16:57:55.665755Z",
     "iopub.status.idle": "2022-01-14T16:57:55.671120Z",
     "shell.execute_reply": "2022-01-14T16:57:55.670570Z"
    },
    "papermill": {
     "duration": 0.04886,
     "end_time": "2022-01-14T16:57:55.671264",
     "exception": false,
     "start_time": "2022-01-14T16:57:55.622404",
     "status": "completed"
    },
    "tags": []
   },
   "outputs": [],
   "source": [
    "#Generator\n",
    "gen3 = network.GeneratorWithSkipConnection(n_features+1).to(device)\n",
    "constraints=network.weightConstraint()\n",
    "#Discriminator \n",
    "disc3 = network.Discriminator(n_features+1).to(device)\n",
    "\n",
    "criterion = torch.nn.BCELoss()\n",
    "gen_opt = torch.optim.Adam(gen3.parameters(), lr=0.01, betas=(0.5, 0.999))\n",
    "disc_opt = torch.optim.Adam(disc3.parameters(), lr=0.01, betas=(0.5, 0.999))\n"
   ]
  },
  {
   "cell_type": "code",
   "execution_count": 16,
   "id": "26acbc37",
   "metadata": {
    "execution": {
     "iopub.execute_input": "2022-01-14T16:57:55.752306Z",
     "iopub.status.busy": "2022-01-14T16:57:55.751748Z",
     "iopub.status.idle": "2022-01-14T17:34:10.026486Z",
     "shell.execute_reply": "2022-01-14T17:34:10.025909Z"
    },
    "papermill": {
     "duration": 2174.31781,
     "end_time": "2022-01-14T17:34:10.026624",
     "exception": false,
     "start_time": "2022-01-14T16:57:55.708814",
     "status": "completed"
    },
    "tags": []
   },
   "outputs": [
    {
     "data": {
      "image/png": "[encoded data removed]",
      "text/plain": [
       "<Figure size 432x288 with 1 Axes>"
      ]
     },
     "metadata": {
      "needs_background": "light"
     },
     "output_type": "display_data"
    },
    {
     "data": {
      "image/png": "[encoded data removed]",
      "text/plain": [
       "<Figure size 432x288 with 1 Axes>"
      ]
     },
     "metadata": {
      "needs_background": "light"
     },
     "output_type": "display_data"
    }
   ],
   "source": [
    "ABC_train_test2.training_GAN_skip_connection(disc3,gen3,disc_opt,gen_opt,train_data,batch_size,n_epochs,criterion,prior_model,variance,device)\n"
   ]
  },
  {
   "cell_type": "code",
   "execution_count": 17,
   "id": "c5e0717b",
   "metadata": {
    "execution": {
     "iopub.execute_input": "2022-01-14T17:34:10.113273Z",
     "iopub.status.busy": "2022-01-14T17:34:10.112707Z",
     "iopub.status.idle": "2022-01-14T17:34:12.040454Z",
     "shell.execute_reply": "2022-01-14T17:34:12.039838Z"
    },
    "papermill": {
     "duration": 1.972651,
     "end_time": "2022-01-14T17:34:12.040601",
     "exception": false,
     "start_time": "2022-01-14T17:34:10.067950",
     "status": "completed"
    },
    "tags": []
   },
   "outputs": [
    {
     "data": {
      "application/scrapbook.scrap.json+json": {
       "data": 0.3062291131206116,
       "encoder": "json",
       "name": "ABC-GAN Model 3 MSE",
       "version": 1
      }
     },
     "metadata": {
      "scrapbook": {
       "data": true,
       "display": false,
       "name": "ABC-GAN Model 3 MSE"
      }
     },
     "output_type": "display_data"
    },
    {
     "data": {
      "application/scrapbook.scrap.json+json": {
       "data": 0.31371466683205584,
       "encoder": "json",
       "name": "ABC-GAN Model 3 MAE",
       "version": 1
      }
     },
     "metadata": {
      "scrapbook": {
       "data": true,
       "display": false,
       "name": "ABC-GAN Model 3 MAE"
      }
     },
     "output_type": "display_data"
    },
    {
     "data": {
      "application/scrapbook.scrap.json+json": {
       "data": 31.998896016869693,
       "encoder": "json",
       "name": "ABC-GAN Model 3 Manhattan Distance",
       "version": 1
      }
     },
     "metadata": {
      "scrapbook": {
       "data": true,
       "display": false,
       "name": "ABC-GAN Model 3 Manhattan Distance"
      }
     },
     "output_type": "display_data"
    },
    {
     "data": {
      "application/scrapbook.scrap.json+json": {
       "data": 5.588375053818458,
       "encoder": "json",
       "name": "ABC-GAN Model 3 Euclidean distance",
       "version": 1
      }
     },
     "metadata": {
      "scrapbook": {
       "data": true,
       "display": false,
       "name": "ABC-GAN Model 3 Euclidean distance"
      }
     },
     "output_type": "display_data"
    },
    {
     "data": {
      "application/scrapbook.scrap.json+json": {
       "data": [
        [
         0.3126679344273594,
         0.2954890703621344,
         0.3024320547235736,
         0.3031572850158218,
         0.3053154828574513,
         0.3064236584808453,
         0.3075652927125083,
         0.33455291885716976,
         0.31017262567355136,
         0.3174920989710661,
         0.2989790189158507,
         0.301092758753107,
         0.2921746106318798,
         0.30693542513704686,
         0.316486772552913,
         0.3102368348815646,
         0.308167269731832,
         0.3021536444078371,
         0.3126881099374298,
         0.30604797975891435,
         0.2925684789625021,
         0.3077994258115948,
         0.3025395818278121,
         0.30649033266607373,
         0.29466324868729676,
         0.3110989080273245,
         0.3011074753396052,
         0.2836161350154947,
         0.30147811056812823,
         0.30629780241796406,
         0.31137172377100814,
         0.30170750971191523,
         0.29884286719956943,
         0.3226101905821045,
         0.30513522378834934,
         0.31383555166809507,
         0.29920603297100856,
         0.31214275611872966,
         0.3021512943209761,
         0.3112593385139017,
         0.3100850023021005,
         0.30391774249897163,
         0.3000899968509863,
         0.3083446220072644,
         0.3044805826115745,
         0.2914380296269503,
         0.2995179223008773,
         0.304620848779435,
         0.3103905816079865,
         0.29463565333269975,
         0.29944851223521524,
         0.3256201366329535,
         0.311287058612152,
         0.29907685400348116,
         0.3133335168043124,
         0.31298815303080646,
         0.30499425399900876,
         0.30471192033550837,
         0.3061880577202843,
         0.3006326394194957,
         0.306753741052507,
         0.2942307547891283,
         0.29729223345862527,
         0.31633596827884136,
         0.31688341000546155,
         0.311907020059805,
         0.3020116670544978,
         0.2987223616581733,
         0.3068501164993604,
         0.30438808591285804,
         0.31435024921123117,
         0.31147454159058846,
         0.3102543511989833,
         0.29902013467422667,
         0.3110973077917839,
         0.3053426738492275,
         0.31071610645643166,
         0.30956848523138575,
         0.3090467244260074,
         0.3140740438382088,
         0.31441508612480734,
         0.2909535464727026,
         0.3102115221007713,
         0.3209365087361394,
         0.3082823746321718,
         0.2990086460430888,
         0.3074993428960053,
         0.2992645169432965,
         0.31294530296559797,
         0.3210008302627734,
         0.31318958433994704,
         0.3094161816380948,
         0.3056548337774886,
         0.2956114829651179,
         0.3070766091481121,
         0.308669082108535,
         0.287894049275207,
         0.3020340594902731,
         0.3020605031719684,
         0.31451235246035153
        ],
        [
         0.3163267374403921,
         0.3135208425970346,
         0.3146442170802723,
         0.31236273511404206,
         0.31601334408875187,
         0.3125650789040853,
         0.3132953250086775,
         0.3193849837498776,
         0.31140843607193114,
         0.31317075809427336,
         0.3090153912940592,
         0.31425776709711145,
         0.31300251050760936,
         0.3143992237838022,
         0.3162918366747452,
         0.31243842558971807,
         0.3098286739094,
         0.3081878622372945,
         0.31206730178867775,
         0.31725486175284956,
         0.31233278206348714,
         0.3088736037230667,
         0.315978356746628,
         0.309594099852713,
         0.31237024193921803,
         0.3140717465247886,
         0.31096708161902487,
         0.30787869683448593,
         0.30989001681297723,
         0.31584077648014997,
         0.31758644638181316,
         0.3130168654207213,
         0.3152985815597954,
         0.31857571091648995,
         0.3155640667560054,
         0.31562734817099924,
         0.3125758330867279,
         0.3141758314552991,
         0.3120665936274271,
         0.31401922782956093,
         0.3092247702400474,
         0.31651492199550074,
         0.3095670664573417,
         0.31428476677769246,
         0.31797584336177975,
         0.3116137161850929,
         0.31196172943557887,
         0.3141845001327787,
         0.31462085267127143,
         0.3140253165152435,
         0.3131176736753653,
         0.31615583587657003,
         0.311429930814341,
         0.3120773827803193,
         0.31469267130117207,
         0.31565717953786837,
         0.3206131299957633,
         0.31619268937912937,
         0.31215164965639514,
         0.3163943606812288,
         0.3166802575830005,
         0.3066690403091557,
         0.3081652491225624,
         0.3146439106842759,
         0.30938188545405865,
         0.3122567635979138,
         0.31397812985175966,
         0.31390302001918646,
         0.3060904274165046,
         0.3150607229338265,
         0.31484162567329466,
         0.3153937922188026,
         0.32050107266096506,
         0.3138869274407625,
         0.3185552373236301,
         0.31322334916787403,
         0.3115911747639378,
         0.3142142621708997,
         0.31711882939014363,
         0.3168611088767648,
         0.314059729039596,
         0.3107865250614636,
         0.3137868608658512,
         0.31815171762205224,
         0.3182255287161645,
         0.31524446077060464,
         0.3141636857991198,
         0.31317488624549966,
         0.3181217345865626,
         0.3146141956688142,
         0.31344419248475164,
         0.31271770329890297,
         0.3130265577221472,
         0.31535031393572105,
         0.3147349052459878,
         0.31476076155462684,
         0.3073350309631696,
         0.3105082638817383,
         0.3149654677722092,
         0.3130811672548161
        ],
        [
         32.26532721891999,
         31.979125944897532,
         32.093710142187774,
         31.860998981632292,
         32.23336109705269,
         31.8816380482167,
         31.956123150885105,
         32.577268342487514,
         31.763660479336977,
         31.943417325615883,
         31.51956991199404,
         32.054292243905365,
         31.92625607177615,
         32.06872082594782,
         32.26176734082401,
         31.868719410151243,
         31.602524738758802,
         31.43516194820404,
         31.830864782445133,
         32.35999589879066,
         31.857943770475686,
         31.505107579752803,
         32.229792388156056,
         31.578598184976727,
         31.861764677800238,
         32.035318145528436,
         31.718642325140536,
         31.403627077117562,
         31.60878171492368,
         32.2157592009753,
         32.39381753094494,
         31.927720272913575,
         32.16045531909913,
         32.494722513481975,
         32.18753480911255,
         32.19398951344192,
         31.882734974846244,
         32.04593480844051,
         31.830792549997568,
         32.029961238615215,
         31.540926564484835,
         32.284522043541074,
         31.575840778648853,
         32.05704621132463,
         32.433536022901535,
         31.78459905087948,
         31.820096402429044,
         32.04681901354343,
         32.09132697246969,
         32.03058228455484,
         31.93800271488726,
         32.24789525941014,
         31.765852943062782,
         31.831893043592572,
         32.09865247271955,
         32.197032312862575,
         32.70253925956786,
         32.25165431667119,
         31.839468264952302,
         32.272224789485335,
         32.30138627346605,
         31.28024211153388,
         31.43285541050136,
         32.09367888979614,
         31.556952316313982,
         31.85018988698721,
         32.025769244879484,
         32.01810804195702,
         31.22122359648347,
         32.1361937392503,
         32.113845818676054,
         32.170166806317866,
         32.69110941141844,
         32.01646659895778,
         32.49263420701027,
         31.948781615123153,
         31.782299825921655,
         32.04985474143177,
         32.34612059779465,
         32.31983310543001,
         32.03409236203879,
         31.700225556269288,
         32.00625980831683,
         32.45147519744933,
         32.45900392904878,
         32.154934998601675,
         32.04469595151022,
         31.943838397040963,
         32.448416927829385,
         32.09064795821905,
         31.971307633444667,
         31.897205736488104,
         31.928708887659013,
         32.165732021443546,
         32.102960335090756,
         32.10559767857194,
         31.3481731582433,
         31.671842915937304,
         32.126477712765336,
         31.93427905999124
        ],
        [
         5.647311688900361,
         5.489980435023216,
         5.554103850469895,
         5.560759217194521,
         5.580517830045886,
         5.590636203961605,
         5.601040961881625,
         5.841609172431112,
         5.624731799712963,
         5.690711211707087,
         5.522305671494178,
         5.541792254570439,
         5.459103432291034,
         5.5953027946643585,
         5.681694359994836,
         5.625313960830949,
         5.606519554290956,
         5.55154678712153,
         5.647493887877864,
         5.587208062656094,
         5.4627817871644115,
         5.603172443605735,
         5.555091119544019,
         5.59124439923167,
         5.482303472638509,
         5.633124232500744,
         5.5419276867025,
         5.378554245480885,
         5.545337435895951,
         5.589487977143553,
         5.635593653258088,
         5.547446799259579,
         5.521048130052488,
         5.7363960322989085,
         5.578870210572354,
         5.657846433948672,
         5.5244018104264345,
         5.642566891416568,
         5.55152519770374,
         5.634576517220967,
         5.623937253811981,
         5.5677293158787,
         5.5325563421261785,
         5.608132616543672,
         5.572882506062782,
         5.452217807640202,
         5.527280350650714,
         5.574165998201199,
         5.626707680697001,
         5.482046756452864,
         5.526639869576446,
         5.763094128726448,
         5.634827413367644,
         5.523209131325291,
         5.653319265178631,
         5.6502027936298225,
         5.577581367214546,
         5.5749991815445,
         5.588486547131431,
         5.537556249898374,
         5.593646537577764,
         5.478278651957299,
         5.5067057132899135,
         5.680340550041152,
         5.685253540569416,
         5.640435802852481,
         5.550242340615298,
         5.519934862761848,
         5.594525170462169,
         5.572035962115779,
         5.662484032608442,
         5.636524039001343,
         5.625472764336904,
         5.52268537369015,
         5.633109744604835,
         5.580766321269975,
         5.6296574370521,
         5.619251328566942,
         5.61451386065194,
         5.659995801367461,
         5.66306796575234,
         5.447684071255937,
         5.625084466412808,
         5.721496647826179,
         5.607566514316305,
         5.52257927932185,
         5.600440426912203,
         5.524941694553548,
         5.649816006074091,
         5.7220699652138896,
         5.652020665450064,
         5.617868859904587,
         5.583618275393102,
         5.491117487583199,
         5.596589509076704,
         5.611082460191667,
         5.418966047694995,
         5.550448096145739,
         5.550691067204225,
         5.663943851324433
        ]
       ],
       "encoder": "json",
       "name": "ABC_GAN_3 Metrics",
       "version": 1
      }
     },
     "metadata": {
      "scrapbook": {
       "data": true,
       "display": false,
       "name": "ABC_GAN_3 Metrics"
      }
     },
     "output_type": "display_data"
    }
   ],
   "source": [
    "ABC_GAN3_metrics=ABC_train_test2.test_generator(gen3,test_data,prior_model,variance,\"3\",device)\n",
    "sb.glue(\"ABC_GAN_3 Metrics\",ABC_GAN3_metrics)"
   ]
  },
  {
   "cell_type": "code",
   "execution_count": 18,
   "id": "c8e46b48",
   "metadata": {
    "execution": {
     "iopub.execute_input": "2022-01-14T17:34:12.134755Z",
     "iopub.status.busy": "2022-01-14T17:34:12.133984Z",
     "iopub.status.idle": "2022-01-14T17:34:12.967206Z",
     "shell.execute_reply": "2022-01-14T17:34:12.967724Z"
    },
    "papermill": {
     "duration": 0.88279,
     "end_time": "2022-01-14T17:34:12.967909",
     "exception": false,
     "start_time": "2022-01-14T17:34:12.085119",
     "status": "completed"
    },
    "tags": []
   },
   "outputs": [
    {
     "data": {
      "image/png": "[encoded data removed]",
      "text/plain": [
       "<Figure size 432x288 with 1 Axes>"
      ]
     },
     "metadata": {
      "needs_background": "light"
     },
     "output_type": "display_data"
    },
    {
     "data": {
      "image/png": "[encoded data removed]",
      "text/plain": [
       "<Figure size 432x288 with 1 Axes>"
      ]
     },
     "metadata": {
      "needs_background": "light"
     },
     "output_type": "display_data"
    },
    {
     "data": {
      "image/png": "[encoded data removed]",
      "text/plain": [
       "<Figure size 432x288 with 1 Axes>"
      ]
     },
     "metadata": {
      "needs_background": "light"
     },
     "output_type": "display_data"
    },
    {
     "data": {
      "image/png": "[encoded data removed]",
      "text/plain": [
       "<Figure size 432x288 with 1 Axes>"
      ]
     },
     "metadata": {
      "needs_background": "light"
     },
     "output_type": "display_data"
    }
   ],
   "source": [
    "sanityChecks.discProbVsError(train_data,disc,device)\n",
    "sanityChecks.discProbVsError(test_data,disc3,device)"
   ]
  },
  {
   "cell_type": "markdown",
   "id": "a5bd74c3",
   "metadata": {
    "papermill": {
     "duration": 0.051239,
     "end_time": "2022-01-14T17:34:13.071596",
     "exception": false,
     "start_time": "2022-01-14T17:34:13.020357",
     "status": "completed"
    },
    "tags": []
   },
   "source": [
    "## Skip Connection Model Analysis - ABC-GAN "
   ]
  },
  {
   "cell_type": "markdown",
   "id": "5744a8bf",
   "metadata": {
    "papermill": {
     "duration": 0.049239,
     "end_time": "2022-01-14T17:34:13.169896",
     "exception": false,
     "start_time": "2022-01-14T17:34:13.120657",
     "status": "completed"
    },
    "tags": []
   },
   "source": [
    "### Weight Analysis \n",
    "\n",
    "Study the weights of the skip connection layer\n",
    "\n",
    "Equation of the skip connection is \n",
    "\n",
    "$output = y_{gan} * w + y_{abc} * (1-w)$"
   ]
  },
  {
   "cell_type": "code",
   "execution_count": 19,
   "id": "52c31dea",
   "metadata": {
    "execution": {
     "iopub.execute_input": "2022-01-14T17:34:13.296966Z",
     "iopub.status.busy": "2022-01-14T17:34:13.296300Z",
     "iopub.status.idle": "2022-01-14T17:34:13.305588Z",
     "shell.execute_reply": "2022-01-14T17:34:13.305020Z"
    },
    "papermill": {
     "duration": 0.08827,
     "end_time": "2022-01-14T17:34:13.305746",
     "exception": false,
     "start_time": "2022-01-14T17:34:13.217476",
     "status": "completed"
    },
    "tags": []
   },
   "outputs": [
    {
     "name": "stdout",
     "output_type": "stream",
     "text": [
      "Weight of the node at skip connection\n",
      "Parameter containing:\n",
      "tensor([[0.9676]], device='cuda:0', requires_grad=True)\n"
     ]
    },
    {
     "data": {
      "application/scrapbook.scrap.json+json": {
       "data": 0.9675994515419006,
       "encoder": "json",
       "name": "Skip Connection Weight",
       "version": 1
      }
     },
     "metadata": {
      "scrapbook": {
       "data": true,
       "display": false,
       "name": "Skip Connection Weight"
      }
     },
     "output_type": "display_data"
    }
   ],
   "source": [
    "print(\"Weight of the node at skip connection\")\n",
    "for name,param in gen3.named_parameters():\n",
    "    if(name == \"skipNode.weight\"):\n",
    "        print(param)\n",
    "        sb.glue(\"Skip Connection Weight\",param.item())"
   ]
  }
 ],
 "metadata": {
  "interpreter": {
   "hash": "10498c76ddd8160350534c6544a2b2fb65f2138dbc70420f7c81a3268f830f23"
  },
  "kernelspec": {
   "display_name": "papermill-tutorial",
   "language": "python",
   "name": "python3"
  },
  "language_info": {
   "codemirror_mode": {
    "name": "ipython",
    "version": 3
   },
   "file_extension": ".py",
   "mimetype": "text/x-python",
   "name": "python",
   "nbconvert_exporter": "python",
   "pygments_lexer": "ipython3",
   "version": "3.7.12"
  },
  "papermill": {
   "default_parameters": {},
   "duration": 2520.462706,
   "end_time": "2022-01-14T17:34:14.067065",
   "environment_variables": {},
   "exception": null,
   "input_path": "ABC_GAN_Model-Catboost_Pre-gen.ipynb",
   "output_path": "./ABC_GAN_Output/ABC-GAN_output_6_0.ipynb",
   "parameters": {
    "variance": 1
   },
   "start_time": "2022-01-14T16:52:13.604359",
   "version": "2.3.3"
  }
 },
 "nbformat": 4,
 "nbformat_minor": 5
}