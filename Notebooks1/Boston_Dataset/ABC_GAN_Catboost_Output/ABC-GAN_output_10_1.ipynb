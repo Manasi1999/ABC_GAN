{
 "cells": [
  {
   "cell_type": "markdown",
   "id": "622780e6",
   "metadata": {
    "papermill": {
     "duration": 0.02748,
     "end_time": "2022-01-15T12:38:01.385435",
     "exception": false,
     "start_time": "2022-01-15T12:38:01.357955",
     "status": "completed"
    },
    "tags": []
   },
   "source": [
    "## Import Libraries "
   ]
  },
  {
   "cell_type": "code",
   "execution_count": 1,
   "id": "a62397e3",
   "metadata": {
    "execution": {
     "iopub.execute_input": "2022-01-15T12:38:01.474456Z",
     "iopub.status.busy": "2022-01-15T12:38:01.473657Z",
     "iopub.status.idle": "2022-01-15T12:38:01.476740Z",
     "shell.execute_reply": "2022-01-15T12:38:01.476043Z"
    },
    "papermill": {
     "duration": 0.036554,
     "end_time": "2022-01-15T12:38:01.476951",
     "exception": false,
     "start_time": "2022-01-15T12:38:01.440397",
     "status": "completed"
    },
    "tags": []
   },
   "outputs": [],
   "source": [
    "import warnings\n",
    "import sys\n",
    "sys.path.insert(0, '../../src')\n",
    "warnings.filterwarnings('ignore')"
   ]
  },
  {
   "cell_type": "code",
   "execution_count": 2,
   "id": "d6a4e155",
   "metadata": {
    "execution": {
     "iopub.execute_input": "2022-01-15T12:38:01.535651Z",
     "iopub.status.busy": "2022-01-15T12:38:01.534541Z",
     "iopub.status.idle": "2022-01-15T12:38:03.248609Z",
     "shell.execute_reply": "2022-01-15T12:38:03.248043Z"
    },
    "papermill": {
     "duration": 1.746317,
     "end_time": "2022-01-15T12:38:03.248764",
     "exception": false,
     "start_time": "2022-01-15T12:38:01.502447",
     "status": "completed"
    },
    "tags": []
   },
   "outputs": [],
   "source": [
    "import ABC_train_test2\n",
    "import bostonDataset\n",
    "import network\n",
    "import dataset\n",
    "import sanityChecks\n",
    "import performanceMetrics\n",
    "import torch \n",
    "from torch.utils.data import random_split \n",
    "import scrapbook as sb\n",
    "from statistics import mean \n",
    "import catboost as ctb \n",
    "from sklearn.model_selection import train_test_split\n",
    "from sklearn.metrics import mean_squared_error\n",
    "import numpy as np"
   ]
  },
  {
   "cell_type": "markdown",
   "id": "2fa5b0f7",
   "metadata": {
    "papermill": {
     "duration": 0.023863,
     "end_time": "2022-01-15T12:38:03.299293",
     "exception": false,
     "start_time": "2022-01-15T12:38:03.275430",
     "status": "completed"
    },
    "tags": []
   },
   "source": [
    "## Parameters "
   ]
  },
  {
   "cell_type": "code",
   "execution_count": 3,
   "id": "783186fb",
   "metadata": {
    "execution": {
     "iopub.execute_input": "2022-01-15T12:38:03.353165Z",
     "iopub.status.busy": "2022-01-15T12:38:03.352544Z",
     "iopub.status.idle": "2022-01-15T12:38:03.355244Z",
     "shell.execute_reply": "2022-01-15T12:38:03.354721Z"
    },
    "papermill": {
     "duration": 0.031581,
     "end_time": "2022-01-15T12:38:03.355379",
     "exception": false,
     "start_time": "2022-01-15T12:38:03.323798",
     "status": "completed"
    },
    "tags": [
     "parameters"
    ]
   },
   "outputs": [],
   "source": [
    "variance = 1"
   ]
  },
  {
   "cell_type": "code",
   "execution_count": 4,
   "id": "94b9251f",
   "metadata": {
    "execution": {
     "iopub.execute_input": "2022-01-15T12:38:03.408727Z",
     "iopub.status.busy": "2022-01-15T12:38:03.408059Z",
     "iopub.status.idle": "2022-01-15T12:38:03.410653Z",
     "shell.execute_reply": "2022-01-15T12:38:03.410092Z"
    },
    "papermill": {
     "duration": 0.030989,
     "end_time": "2022-01-15T12:38:03.410776",
     "exception": false,
     "start_time": "2022-01-15T12:38:03.379787",
     "status": "completed"
    },
    "tags": [
     "injected-parameters"
    ]
   },
   "outputs": [],
   "source": [
    "# Parameters\n",
    "variance = 0.1\n"
   ]
  },
  {
   "cell_type": "markdown",
   "id": "391cdbfd",
   "metadata": {
    "papermill": {
     "duration": 0.024258,
     "end_time": "2022-01-15T12:38:03.459712",
     "exception": false,
     "start_time": "2022-01-15T12:38:03.435454",
     "status": "completed"
    },
    "tags": []
   },
   "source": [
    "## Dataset - Boston Housing "
   ]
  },
  {
   "cell_type": "code",
   "execution_count": 5,
   "id": "5b51f161",
   "metadata": {
    "execution": {
     "iopub.execute_input": "2022-01-15T12:38:03.515831Z",
     "iopub.status.busy": "2022-01-15T12:38:03.515167Z",
     "iopub.status.idle": "2022-01-15T12:38:03.518052Z",
     "shell.execute_reply": "2022-01-15T12:38:03.517504Z"
    },
    "papermill": {
     "duration": 0.032718,
     "end_time": "2022-01-15T12:38:03.518193",
     "exception": false,
     "start_time": "2022-01-15T12:38:03.485475",
     "status": "completed"
    },
    "tags": []
   },
   "outputs": [],
   "source": [
    "#Parameters \n",
    "n_features = 13\n",
    "n_samples= 506\n",
    "n_target = 1 "
   ]
  },
  {
   "cell_type": "code",
   "execution_count": 6,
   "id": "5d6eced4",
   "metadata": {
    "execution": {
     "iopub.execute_input": "2022-01-15T12:38:03.570591Z",
     "iopub.status.busy": "2022-01-15T12:38:03.569923Z",
     "iopub.status.idle": "2022-01-15T12:38:03.602760Z",
     "shell.execute_reply": "2022-01-15T12:38:03.603233Z"
    },
    "papermill": {
     "duration": 0.061049,
     "end_time": "2022-01-15T12:38:03.603405",
     "exception": false,
     "start_time": "2022-01-15T12:38:03.542356",
     "status": "completed"
    },
    "tags": []
   },
   "outputs": [
    {
     "name": "stdout",
     "output_type": "stream",
     "text": [
      "         X1        X2        X3        X4        X5        X6        X7        X8        X9       X10       X11       X12       X13         Y\n",
      "0 -0.419782  0.284830 -1.287909 -0.272599 -0.144217  0.413672 -0.120013  0.140214 -0.982843 -0.666608 -1.459000  0.441052 -1.075562  0.159686\n",
      "1 -0.417339 -0.487722 -0.593381 -0.272599 -0.740262  0.194274  0.367166  0.557160 -0.867883 -0.987329 -0.303094  0.441052 -0.492439 -0.101524\n",
      "2 -0.417342 -0.487722 -0.593381 -0.272599 -0.740262  1.282714 -0.265812  0.557160 -0.867883 -0.987329 -0.303094  0.396427 -1.208727  1.324247\n",
      "3 -0.416750 -0.487722 -1.306878 -0.272599 -0.835284  1.016303 -0.809889  1.077737 -0.752922 -1.106115  0.113032  0.416163 -1.361517  1.182758\n",
      "4 -0.412482 -0.487722 -1.306878 -0.272599 -0.835284  1.228577 -0.511180  1.077737 -0.752922 -1.106115  0.113032  0.441052 -1.026501  1.487503\n"
     ]
    }
   ],
   "source": [
    "X,Y = bostonDataset.boston_data()"
   ]
  },
  {
   "cell_type": "code",
   "execution_count": 7,
   "id": "fe007438",
   "metadata": {
    "execution": {
     "iopub.execute_input": "2022-01-15T12:38:03.681384Z",
     "iopub.status.busy": "2022-01-15T12:38:03.680704Z",
     "iopub.status.idle": "2022-01-15T12:38:03.684149Z",
     "shell.execute_reply": "2022-01-15T12:38:03.683662Z"
    },
    "papermill": {
     "duration": 0.034998,
     "end_time": "2022-01-15T12:38:03.684302",
     "exception": false,
     "start_time": "2022-01-15T12:38:03.649304",
     "status": "completed"
    },
    "tags": []
   },
   "outputs": [],
   "source": [
    "#Train test split for dataset \n",
    "X_train,X_test,Y_train,Y_test = train_test_split(X,Y,test_size = 0.2)\n",
    "train_data = dataset.CustomDataset(X_train,Y_train)\n",
    "test_data = dataset.CustomDataset(X_test,Y_test)\n"
   ]
  },
  {
   "cell_type": "markdown",
   "id": "a9a1af34",
   "metadata": {
    "papermill": {
     "duration": 0.025314,
     "end_time": "2022-01-15T12:38:03.736605",
     "exception": false,
     "start_time": "2022-01-15T12:38:03.711291",
     "status": "completed"
    },
    "tags": []
   },
   "source": [
    "## Training Parameters \n",
    "\n"
   ]
  },
  {
   "cell_type": "code",
   "execution_count": 8,
   "id": "952b7fc8",
   "metadata": {
    "execution": {
     "iopub.execute_input": "2022-01-15T12:38:03.812580Z",
     "iopub.status.busy": "2022-01-15T12:38:03.811923Z",
     "iopub.status.idle": "2022-01-15T12:38:03.814578Z",
     "shell.execute_reply": "2022-01-15T12:38:03.813910Z"
    },
    "papermill": {
     "duration": 0.052223,
     "end_time": "2022-01-15T12:38:03.814733",
     "exception": false,
     "start_time": "2022-01-15T12:38:03.762510",
     "status": "completed"
    },
    "tags": []
   },
   "outputs": [],
   "source": [
    "batch_size = 64\n",
    "n_epochs = 5000\n",
    "#Select the device \n",
    "device = torch.device('cuda' if torch.cuda.is_available() else 'cpu')"
   ]
  },
  {
   "cell_type": "markdown",
   "id": "a95e1600",
   "metadata": {
    "papermill": {
     "duration": 0.031107,
     "end_time": "2022-01-15T12:38:03.872462",
     "exception": false,
     "start_time": "2022-01-15T12:38:03.841355",
     "status": "completed"
    },
    "tags": []
   },
   "source": [
    "# ABC Pre-generator Model \n",
    "\n",
    "1. The catboost model is used as a pre-generator model for the ABC-GAN. \n",
    "2. The model is first trained on the train dataset \n",
    "3. It generats X,Y pairs and we add some Gaussian noise with mean 0 and variance V (1,0.01,0.1) to it which is then feed as input to the generator.\n"
   ]
  },
  {
   "cell_type": "code",
   "execution_count": 9,
   "id": "ff8ce7bd",
   "metadata": {
    "execution": {
     "iopub.execute_input": "2022-01-15T12:38:03.948068Z",
     "iopub.status.busy": "2022-01-15T12:38:03.943084Z",
     "iopub.status.idle": "2022-01-15T12:38:05.605958Z",
     "shell.execute_reply": "2022-01-15T12:38:05.606524Z"
    },
    "papermill": {
     "duration": 1.706251,
     "end_time": "2022-01-15T12:38:05.606727",
     "exception": false,
     "start_time": "2022-01-15T12:38:03.900476",
     "status": "completed"
    },
    "tags": []
   },
   "outputs": [
    {
     "name": "stdout",
     "output_type": "stream",
     "text": [
      "Learning rate set to 0.03548\n",
      "0:\tlearn: 0.9856136\ttotal: 48.3ms\tremaining: 48.3s\n",
      "1:\tlearn: 0.9649062\ttotal: 49.5ms\tremaining: 24.7s\n",
      "2:\tlearn: 0.9436912\ttotal: 50.8ms\tremaining: 16.9s\n",
      "3:\tlearn: 0.9248848\ttotal: 51.9ms\tremaining: 12.9s\n",
      "4:\tlearn: 0.9086176\ttotal: 53ms\tremaining: 10.6s\n",
      "5:\tlearn: 0.8912423\ttotal: 54.1ms\tremaining: 8.96s\n",
      "6:\tlearn: 0.8753745\ttotal: 55.2ms\tremaining: 7.83s\n",
      "7:\tlearn: 0.8587320\ttotal: 56.6ms\tremaining: 7.02s\n",
      "8:\tlearn: 0.8433826\ttotal: 57.8ms\tremaining: 6.36s\n",
      "9:\tlearn: 0.8257197\ttotal: 58.8ms\tremaining: 5.82s\n",
      "10:\tlearn: 0.8098918\ttotal: 59.9ms\tremaining: 5.38s\n",
      "11:\tlearn: 0.7954720\ttotal: 61.2ms\tremaining: 5.04s\n",
      "12:\tlearn: 0.7795095\ttotal: 62.3ms\tremaining: 4.73s\n",
      "13:\tlearn: 0.7646956\ttotal: 63.4ms\tremaining: 4.46s\n",
      "14:\tlearn: 0.7503694\ttotal: 64.4ms\tremaining: 4.22s\n",
      "15:\tlearn: 0.7372965\ttotal: 65.3ms\tremaining: 4.02s\n",
      "16:\tlearn: 0.7244950\ttotal: 66.3ms\tremaining: 3.83s\n",
      "17:\tlearn: 0.7125875\ttotal: 67.4ms\tremaining: 3.68s\n",
      "18:\tlearn: 0.6994611\ttotal: 68.4ms\tremaining: 3.53s\n",
      "19:\tlearn: 0.6868801\ttotal: 69.4ms\tremaining: 3.4s\n",
      "20:\tlearn: 0.6723458\ttotal: 70.4ms\tremaining: 3.28s\n",
      "21:\tlearn: 0.6620758\ttotal: 71.5ms\tremaining: 3.18s\n",
      "22:\tlearn: 0.6519199\ttotal: 72.5ms\tremaining: 3.08s\n",
      "23:\tlearn: 0.6425598\ttotal: 73.5ms\tremaining: 2.99s\n",
      "24:\tlearn: 0.6323482\ttotal: 74.5ms\tremaining: 2.91s\n",
      "25:\tlearn: 0.6240078\ttotal: 75.6ms\tremaining: 2.83s\n",
      "26:\tlearn: 0.6158006\ttotal: 76.6ms\tremaining: 2.76s\n",
      "27:\tlearn: 0.6063226\ttotal: 77.6ms\tremaining: 2.69s\n",
      "28:\tlearn: 0.5968131\ttotal: 78.5ms\tremaining: 2.63s\n",
      "29:\tlearn: 0.5864427\ttotal: 79.6ms\tremaining: 2.57s\n",
      "30:\tlearn: 0.5774233\ttotal: 80.5ms\tremaining: 2.52s\n",
      "31:\tlearn: 0.5695841\ttotal: 81.5ms\tremaining: 2.47s\n",
      "32:\tlearn: 0.5626537\ttotal: 82.5ms\tremaining: 2.42s\n",
      "33:\tlearn: 0.5554638\ttotal: 83.5ms\tremaining: 2.37s\n",
      "34:\tlearn: 0.5479876\ttotal: 84.5ms\tremaining: 2.33s\n",
      "35:\tlearn: 0.5412659\ttotal: 85.5ms\tremaining: 2.29s\n",
      "36:\tlearn: 0.5347869\ttotal: 86.4ms\tremaining: 2.25s\n",
      "37:\tlearn: 0.5275793\ttotal: 87.5ms\tremaining: 2.21s\n",
      "38:\tlearn: 0.5206822\ttotal: 88.5ms\tremaining: 2.18s\n",
      "39:\tlearn: 0.5142437\ttotal: 89.5ms\tremaining: 2.15s\n",
      "40:\tlearn: 0.5084836\ttotal: 90.4ms\tremaining: 2.12s\n",
      "41:\tlearn: 0.5007917\ttotal: 91.5ms\tremaining: 2.09s\n",
      "42:\tlearn: 0.4935390\ttotal: 92.6ms\tremaining: 2.06s\n",
      "43:\tlearn: 0.4870188\ttotal: 93.6ms\tremaining: 2.03s\n",
      "44:\tlearn: 0.4816547\ttotal: 94.6ms\tremaining: 2.01s\n",
      "45:\tlearn: 0.4748970\ttotal: 95.5ms\tremaining: 1.98s\n",
      "46:\tlearn: 0.4691831\ttotal: 96.5ms\tremaining: 1.96s\n",
      "47:\tlearn: 0.4635181\ttotal: 97.5ms\tremaining: 1.93s\n",
      "48:\tlearn: 0.4593023\ttotal: 98.5ms\tremaining: 1.91s\n",
      "49:\tlearn: 0.4546938\ttotal: 99.5ms\tremaining: 1.89s\n",
      "50:\tlearn: 0.4478425\ttotal: 100ms\tremaining: 1.87s\n",
      "51:\tlearn: 0.4430721\ttotal: 101ms\tremaining: 1.85s\n",
      "52:\tlearn: 0.4371885\ttotal: 102ms\tremaining: 1.83s\n",
      "53:\tlearn: 0.4338899\ttotal: 103ms\tremaining: 1.8s\n",
      "54:\tlearn: 0.4283084\ttotal: 104ms\tremaining: 1.79s\n",
      "55:\tlearn: 0.4248633\ttotal: 105ms\tremaining: 1.77s\n",
      "56:\tlearn: 0.4214589\ttotal: 106ms\tremaining: 1.75s\n",
      "57:\tlearn: 0.4175899\ttotal: 107ms\tremaining: 1.74s\n",
      "58:\tlearn: 0.4143685\ttotal: 108ms\tremaining: 1.72s\n",
      "59:\tlearn: 0.4105131\ttotal: 109ms\tremaining: 1.71s\n",
      "60:\tlearn: 0.4066363\ttotal: 110ms\tremaining: 1.69s\n",
      "61:\tlearn: 0.4021645\ttotal: 111ms\tremaining: 1.68s\n",
      "62:\tlearn: 0.3992763\ttotal: 112ms\tremaining: 1.67s\n",
      "63:\tlearn: 0.3959748\ttotal: 113ms\tremaining: 1.65s\n",
      "64:\tlearn: 0.3923972\ttotal: 114ms\tremaining: 1.64s\n",
      "65:\tlearn: 0.3895551\ttotal: 115ms\tremaining: 1.63s\n",
      "66:\tlearn: 0.3867253\ttotal: 116ms\tremaining: 1.61s\n",
      "67:\tlearn: 0.3840784\ttotal: 117ms\tremaining: 1.6s\n",
      "68:\tlearn: 0.3811042\ttotal: 118ms\tremaining: 1.59s\n",
      "69:\tlearn: 0.3785107\ttotal: 119ms\tremaining: 1.58s\n",
      "70:\tlearn: 0.3743455\ttotal: 120ms\tremaining: 1.57s\n",
      "71:\tlearn: 0.3713248\ttotal: 121ms\tremaining: 1.56s\n",
      "72:\tlearn: 0.3678930\ttotal: 122ms\tremaining: 1.55s\n",
      "73:\tlearn: 0.3651901\ttotal: 123ms\tremaining: 1.54s\n",
      "74:\tlearn: 0.3620173\ttotal: 124ms\tremaining: 1.53s\n",
      "75:\tlearn: 0.3593429\ttotal: 125ms\tremaining: 1.52s\n",
      "76:\tlearn: 0.3570166\ttotal: 126ms\tremaining: 1.51s\n",
      "77:\tlearn: 0.3543150\ttotal: 127ms\tremaining: 1.5s\n",
      "78:\tlearn: 0.3517150\ttotal: 128ms\tremaining: 1.49s\n",
      "79:\tlearn: 0.3492322\ttotal: 129ms\tremaining: 1.48s\n",
      "80:\tlearn: 0.3472901\ttotal: 130ms\tremaining: 1.48s\n",
      "81:\tlearn: 0.3449466\ttotal: 131ms\tremaining: 1.47s\n",
      "82:\tlearn: 0.3433916\ttotal: 132ms\tremaining: 1.46s\n",
      "83:\tlearn: 0.3414173\ttotal: 133ms\tremaining: 1.45s\n",
      "84:\tlearn: 0.3393011\ttotal: 134ms\tremaining: 1.44s\n",
      "85:\tlearn: 0.3365923\ttotal: 135ms\tremaining: 1.44s\n",
      "86:\tlearn: 0.3343946\ttotal: 136ms\tremaining: 1.43s\n"
     ]
    },
    {
     "name": "stdout",
     "output_type": "stream",
     "text": [
      "87:\tlearn: 0.3318255\ttotal: 139ms\tremaining: 1.44s\n",
      "88:\tlearn: 0.3294887\ttotal: 140ms\tremaining: 1.44s\n",
      "89:\tlearn: 0.3265398\ttotal: 141ms\tremaining: 1.43s\n",
      "90:\tlearn: 0.3237517\ttotal: 142ms\tremaining: 1.42s\n",
      "91:\tlearn: 0.3221494\ttotal: 143ms\tremaining: 1.42s\n",
      "92:\tlearn: 0.3200865\ttotal: 144ms\tremaining: 1.41s\n",
      "93:\tlearn: 0.3178758\ttotal: 145ms\tremaining: 1.4s\n",
      "94:\tlearn: 0.3161235\ttotal: 146ms\tremaining: 1.39s\n",
      "95:\tlearn: 0.3148122\ttotal: 147ms\tremaining: 1.39s\n",
      "96:\tlearn: 0.3127216\ttotal: 148ms\tremaining: 1.38s\n",
      "97:\tlearn: 0.3103118\ttotal: 149ms\tremaining: 1.37s\n",
      "98:\tlearn: 0.3087617\ttotal: 150ms\tremaining: 1.37s\n",
      "99:\tlearn: 0.3065245\ttotal: 151ms\tremaining: 1.36s\n",
      "100:\tlearn: 0.3048532\ttotal: 152ms\tremaining: 1.36s\n",
      "101:\tlearn: 0.3032381\ttotal: 153ms\tremaining: 1.35s\n",
      "102:\tlearn: 0.3016518\ttotal: 154ms\tremaining: 1.34s\n",
      "103:\tlearn: 0.3000982\ttotal: 155ms\tremaining: 1.34s\n",
      "104:\tlearn: 0.2978635\ttotal: 156ms\tremaining: 1.33s\n",
      "105:\tlearn: 0.2965145\ttotal: 157ms\tremaining: 1.33s\n",
      "106:\tlearn: 0.2948795\ttotal: 158ms\tremaining: 1.32s\n",
      "107:\tlearn: 0.2936353\ttotal: 159ms\tremaining: 1.32s\n",
      "108:\tlearn: 0.2920218\ttotal: 160ms\tremaining: 1.31s\n",
      "109:\tlearn: 0.2903649\ttotal: 161ms\tremaining: 1.31s\n",
      "110:\tlearn: 0.2887852\ttotal: 162ms\tremaining: 1.3s\n",
      "111:\tlearn: 0.2872066\ttotal: 164ms\tremaining: 1.3s\n",
      "112:\tlearn: 0.2857022\ttotal: 165ms\tremaining: 1.29s\n",
      "113:\tlearn: 0.2844143\ttotal: 166ms\tremaining: 1.29s\n",
      "114:\tlearn: 0.2830125\ttotal: 167ms\tremaining: 1.28s\n",
      "115:\tlearn: 0.2812801\ttotal: 168ms\tremaining: 1.28s\n",
      "116:\tlearn: 0.2797021\ttotal: 169ms\tremaining: 1.27s\n",
      "117:\tlearn: 0.2783634\ttotal: 170ms\tremaining: 1.27s\n",
      "118:\tlearn: 0.2772914\ttotal: 172ms\tremaining: 1.27s\n",
      "119:\tlearn: 0.2765905\ttotal: 173ms\tremaining: 1.27s\n",
      "120:\tlearn: 0.2755442\ttotal: 174ms\tremaining: 1.26s\n",
      "121:\tlearn: 0.2746686\ttotal: 175ms\tremaining: 1.26s\n",
      "122:\tlearn: 0.2738993\ttotal: 176ms\tremaining: 1.26s\n",
      "123:\tlearn: 0.2730054\ttotal: 177ms\tremaining: 1.25s\n",
      "124:\tlearn: 0.2715773\ttotal: 178ms\tremaining: 1.25s\n",
      "125:\tlearn: 0.2705070\ttotal: 179ms\tremaining: 1.24s\n",
      "126:\tlearn: 0.2691178\ttotal: 180ms\tremaining: 1.24s\n",
      "127:\tlearn: 0.2683374\ttotal: 181ms\tremaining: 1.24s\n",
      "128:\tlearn: 0.2672313\ttotal: 183ms\tremaining: 1.23s\n",
      "129:\tlearn: 0.2662321\ttotal: 184ms\tremaining: 1.23s\n",
      "130:\tlearn: 0.2651927\ttotal: 185ms\tremaining: 1.22s\n",
      "131:\tlearn: 0.2644651\ttotal: 186ms\tremaining: 1.22s\n",
      "132:\tlearn: 0.2635852\ttotal: 187ms\tremaining: 1.22s\n",
      "133:\tlearn: 0.2625614\ttotal: 188ms\tremaining: 1.21s\n",
      "134:\tlearn: 0.2617981\ttotal: 189ms\tremaining: 1.21s\n",
      "135:\tlearn: 0.2610016\ttotal: 190ms\tremaining: 1.2s\n",
      "136:\tlearn: 0.2599110\ttotal: 191ms\tremaining: 1.2s\n",
      "137:\tlearn: 0.2591901\ttotal: 192ms\tremaining: 1.2s\n",
      "138:\tlearn: 0.2578654\ttotal: 193ms\tremaining: 1.19s\n",
      "139:\tlearn: 0.2572233\ttotal: 194ms\tremaining: 1.19s\n",
      "140:\tlearn: 0.2564177\ttotal: 195ms\tremaining: 1.19s\n",
      "141:\tlearn: 0.2553896\ttotal: 196ms\tremaining: 1.18s\n",
      "142:\tlearn: 0.2544122\ttotal: 197ms\tremaining: 1.18s\n",
      "143:\tlearn: 0.2535380\ttotal: 198ms\tremaining: 1.18s\n",
      "144:\tlearn: 0.2528674\ttotal: 199ms\tremaining: 1.17s\n",
      "145:\tlearn: 0.2518401\ttotal: 200ms\tremaining: 1.17s\n",
      "146:\tlearn: 0.2506899\ttotal: 201ms\tremaining: 1.16s\n",
      "147:\tlearn: 0.2500260\ttotal: 202ms\tremaining: 1.16s\n",
      "148:\tlearn: 0.2493298\ttotal: 203ms\tremaining: 1.16s\n",
      "149:\tlearn: 0.2489846\ttotal: 204ms\tremaining: 1.15s\n",
      "150:\tlearn: 0.2483219\ttotal: 205ms\tremaining: 1.15s\n",
      "151:\tlearn: 0.2475496\ttotal: 206ms\tremaining: 1.15s\n",
      "152:\tlearn: 0.2465094\ttotal: 207ms\tremaining: 1.14s\n",
      "153:\tlearn: 0.2458510\ttotal: 208ms\tremaining: 1.14s\n",
      "154:\tlearn: 0.2448737\ttotal: 209ms\tremaining: 1.14s\n",
      "155:\tlearn: 0.2440447\ttotal: 210ms\tremaining: 1.13s\n",
      "156:\tlearn: 0.2434575\ttotal: 211ms\tremaining: 1.13s\n",
      "157:\tlearn: 0.2426394\ttotal: 212ms\tremaining: 1.13s\n",
      "158:\tlearn: 0.2420119\ttotal: 213ms\tremaining: 1.12s\n",
      "159:\tlearn: 0.2413462\ttotal: 214ms\tremaining: 1.12s\n",
      "160:\tlearn: 0.2405226\ttotal: 215ms\tremaining: 1.12s\n",
      "161:\tlearn: 0.2399959\ttotal: 215ms\tremaining: 1.11s\n",
      "162:\tlearn: 0.2395259\ttotal: 217ms\tremaining: 1.11s\n",
      "163:\tlearn: 0.2387270\ttotal: 218ms\tremaining: 1.11s\n",
      "164:\tlearn: 0.2376158\ttotal: 219ms\tremaining: 1.11s\n",
      "165:\tlearn: 0.2370724\ttotal: 220ms\tremaining: 1.1s\n",
      "166:\tlearn: 0.2365145\ttotal: 221ms\tremaining: 1.1s\n",
      "167:\tlearn: 0.2356028\ttotal: 222ms\tremaining: 1.1s\n",
      "168:\tlearn: 0.2349069\ttotal: 223ms\tremaining: 1.09s\n",
      "169:\tlearn: 0.2343579\ttotal: 224ms\tremaining: 1.09s\n",
      "170:\tlearn: 0.2334937\ttotal: 225ms\tremaining: 1.09s\n",
      "171:\tlearn: 0.2327270\ttotal: 226ms\tremaining: 1.09s\n",
      "172:\tlearn: 0.2320515\ttotal: 227ms\tremaining: 1.08s\n",
      "173:\tlearn: 0.2313425\ttotal: 228ms\tremaining: 1.08s\n",
      "174:\tlearn: 0.2307816\ttotal: 229ms\tremaining: 1.08s\n",
      "175:\tlearn: 0.2304911\ttotal: 230ms\tremaining: 1.07s\n",
      "176:\tlearn: 0.2301610\ttotal: 231ms\tremaining: 1.07s\n",
      "177:\tlearn: 0.2297815\ttotal: 232ms\tremaining: 1.07s\n",
      "178:\tlearn: 0.2290187\ttotal: 233ms\tremaining: 1.07s\n",
      "179:\tlearn: 0.2285406\ttotal: 234ms\tremaining: 1.06s\n",
      "180:\tlearn: 0.2278709\ttotal: 235ms\tremaining: 1.06s\n",
      "181:\tlearn: 0.2272456\ttotal: 236ms\tremaining: 1.06s\n",
      "182:\tlearn: 0.2267232\ttotal: 237ms\tremaining: 1.06s\n",
      "183:\tlearn: 0.2262778\ttotal: 238ms\tremaining: 1.05s\n",
      "184:\tlearn: 0.2253459\ttotal: 239ms\tremaining: 1.05s\n",
      "185:\tlearn: 0.2248046\ttotal: 240ms\tremaining: 1.05s\n",
      "186:\tlearn: 0.2242278\ttotal: 241ms\tremaining: 1.05s\n",
      "187:\tlearn: 0.2236512\ttotal: 242ms\tremaining: 1.04s\n",
      "188:\tlearn: 0.2229418\ttotal: 243ms\tremaining: 1.04s\n",
      "189:\tlearn: 0.2225400\ttotal: 244ms\tremaining: 1.04s\n",
      "190:\tlearn: 0.2216834\ttotal: 245ms\tremaining: 1.04s\n",
      "191:\tlearn: 0.2209807\ttotal: 246ms\tremaining: 1.03s\n",
      "192:\tlearn: 0.2203043\ttotal: 247ms\tremaining: 1.03s\n",
      "193:\tlearn: 0.2196465\ttotal: 248ms\tremaining: 1.03s\n",
      "194:\tlearn: 0.2191625\ttotal: 249ms\tremaining: 1.03s\n",
      "195:\tlearn: 0.2186870\ttotal: 250ms\tremaining: 1.02s\n",
      "196:\tlearn: 0.2182079\ttotal: 251ms\tremaining: 1.02s\n",
      "197:\tlearn: 0.2175031\ttotal: 252ms\tremaining: 1.02s\n",
      "198:\tlearn: 0.2172625\ttotal: 253ms\tremaining: 1.02s\n",
      "199:\tlearn: 0.2167193\ttotal: 254ms\tremaining: 1.01s\n",
      "200:\tlearn: 0.2161317\ttotal: 255ms\tremaining: 1.01s\n",
      "201:\tlearn: 0.2155077\ttotal: 256ms\tremaining: 1.01s\n",
      "202:\tlearn: 0.2148977\ttotal: 257ms\tremaining: 1.01s\n",
      "203:\tlearn: 0.2143666\ttotal: 258ms\tremaining: 1.01s\n",
      "204:\tlearn: 0.2139356\ttotal: 259ms\tremaining: 1s\n",
      "205:\tlearn: 0.2134841\ttotal: 260ms\tremaining: 1s\n",
      "206:\tlearn: 0.2130403\ttotal: 261ms\tremaining: 999ms\n",
      "207:\tlearn: 0.2124433\ttotal: 262ms\tremaining: 997ms\n",
      "208:\tlearn: 0.2117345\ttotal: 263ms\tremaining: 994ms\n",
      "209:\tlearn: 0.2111465\ttotal: 264ms\tremaining: 992ms\n",
      "210:\tlearn: 0.2107704\ttotal: 265ms\tremaining: 990ms\n",
      "211:\tlearn: 0.2100813\ttotal: 266ms\tremaining: 989ms\n",
      "212:\tlearn: 0.2095696\ttotal: 267ms\tremaining: 987ms\n",
      "213:\tlearn: 0.2092323\ttotal: 268ms\tremaining: 984ms\n",
      "214:\tlearn: 0.2088421\ttotal: 269ms\tremaining: 982ms\n",
      "215:\tlearn: 0.2083251\ttotal: 270ms\tremaining: 980ms\n",
      "216:\tlearn: 0.2076816\ttotal: 271ms\tremaining: 978ms\n"
     ]
    },
    {
     "name": "stdout",
     "output_type": "stream",
     "text": [
      "217:\tlearn: 0.2070487\ttotal: 272ms\tremaining: 976ms\n",
      "218:\tlearn: 0.2064717\ttotal: 273ms\tremaining: 975ms\n",
      "219:\tlearn: 0.2058728\ttotal: 274ms\tremaining: 973ms\n",
      "220:\tlearn: 0.2053504\ttotal: 275ms\tremaining: 971ms\n",
      "221:\tlearn: 0.2049733\ttotal: 276ms\tremaining: 969ms\n",
      "222:\tlearn: 0.2043540\ttotal: 277ms\tremaining: 967ms\n",
      "223:\tlearn: 0.2038262\ttotal: 278ms\tremaining: 965ms\n",
      "224:\tlearn: 0.2034594\ttotal: 279ms\tremaining: 962ms\n",
      "225:\tlearn: 0.2030698\ttotal: 280ms\tremaining: 960ms\n",
      "226:\tlearn: 0.2021889\ttotal: 281ms\tremaining: 958ms\n",
      "227:\tlearn: 0.2018627\ttotal: 282ms\tremaining: 956ms\n",
      "228:\tlearn: 0.2012394\ttotal: 283ms\tremaining: 954ms\n",
      "229:\tlearn: 0.2006230\ttotal: 284ms\tremaining: 952ms\n",
      "230:\tlearn: 0.2002139\ttotal: 285ms\tremaining: 950ms\n",
      "231:\tlearn: 0.1996446\ttotal: 286ms\tremaining: 948ms\n",
      "232:\tlearn: 0.1991776\ttotal: 287ms\tremaining: 946ms\n",
      "233:\tlearn: 0.1987562\ttotal: 288ms\tremaining: 944ms\n",
      "234:\tlearn: 0.1982406\ttotal: 289ms\tremaining: 942ms\n",
      "235:\tlearn: 0.1975634\ttotal: 290ms\tremaining: 940ms\n",
      "236:\tlearn: 0.1973263\ttotal: 291ms\tremaining: 937ms\n",
      "237:\tlearn: 0.1967407\ttotal: 292ms\tremaining: 935ms\n",
      "238:\tlearn: 0.1961401\ttotal: 293ms\tremaining: 933ms\n",
      "239:\tlearn: 0.1958625\ttotal: 294ms\tremaining: 931ms\n",
      "240:\tlearn: 0.1956966\ttotal: 295ms\tremaining: 930ms\n",
      "241:\tlearn: 0.1953539\ttotal: 296ms\tremaining: 928ms\n",
      "242:\tlearn: 0.1948507\ttotal: 297ms\tremaining: 926ms\n",
      "243:\tlearn: 0.1942718\ttotal: 298ms\tremaining: 924ms\n",
      "244:\tlearn: 0.1936644\ttotal: 299ms\tremaining: 923ms\n",
      "245:\tlearn: 0.1934071\ttotal: 300ms\tremaining: 921ms\n",
      "246:\tlearn: 0.1929365\ttotal: 301ms\tremaining: 919ms\n",
      "247:\tlearn: 0.1920750\ttotal: 302ms\tremaining: 917ms\n",
      "248:\tlearn: 0.1914543\ttotal: 303ms\tremaining: 915ms\n",
      "249:\tlearn: 0.1911809\ttotal: 304ms\tremaining: 913ms\n",
      "250:\tlearn: 0.1907268\ttotal: 305ms\tremaining: 911ms\n",
      "251:\tlearn: 0.1903679\ttotal: 306ms\tremaining: 910ms\n",
      "252:\tlearn: 0.1898721\ttotal: 307ms\tremaining: 908ms\n",
      "253:\tlearn: 0.1891952\ttotal: 308ms\tremaining: 906ms\n",
      "254:\tlearn: 0.1887283\ttotal: 310ms\tremaining: 905ms\n",
      "255:\tlearn: 0.1885508\ttotal: 311ms\tremaining: 903ms\n",
      "256:\tlearn: 0.1880294\ttotal: 312ms\tremaining: 901ms\n",
      "257:\tlearn: 0.1874106\ttotal: 313ms\tremaining: 899ms\n",
      "258:\tlearn: 0.1869305\ttotal: 314ms\tremaining: 897ms\n",
      "259:\tlearn: 0.1862838\ttotal: 315ms\tremaining: 895ms\n",
      "260:\tlearn: 0.1859006\ttotal: 316ms\tremaining: 894ms\n",
      "261:\tlearn: 0.1857070\ttotal: 317ms\tremaining: 892ms\n",
      "262:\tlearn: 0.1851267\ttotal: 318ms\tremaining: 890ms\n",
      "263:\tlearn: 0.1847008\ttotal: 319ms\tremaining: 888ms\n",
      "264:\tlearn: 0.1843142\ttotal: 320ms\tremaining: 887ms\n",
      "265:\tlearn: 0.1840266\ttotal: 321ms\tremaining: 885ms\n",
      "266:\tlearn: 0.1834725\ttotal: 322ms\tremaining: 883ms\n",
      "267:\tlearn: 0.1830369\ttotal: 323ms\tremaining: 882ms\n",
      "268:\tlearn: 0.1824999\ttotal: 324ms\tremaining: 880ms\n",
      "269:\tlearn: 0.1823166\ttotal: 325ms\tremaining: 878ms\n",
      "270:\tlearn: 0.1821527\ttotal: 326ms\tremaining: 877ms\n",
      "271:\tlearn: 0.1815351\ttotal: 327ms\tremaining: 875ms\n",
      "272:\tlearn: 0.1811606\ttotal: 328ms\tremaining: 873ms\n",
      "273:\tlearn: 0.1805755\ttotal: 329ms\tremaining: 871ms\n",
      "274:\tlearn: 0.1801562\ttotal: 330ms\tremaining: 870ms\n",
      "275:\tlearn: 0.1797555\ttotal: 331ms\tremaining: 868ms\n",
      "276:\tlearn: 0.1793358\ttotal: 332ms\tremaining: 866ms\n",
      "277:\tlearn: 0.1791904\ttotal: 333ms\tremaining: 865ms\n",
      "278:\tlearn: 0.1789357\ttotal: 334ms\tremaining: 863ms\n",
      "279:\tlearn: 0.1784301\ttotal: 335ms\tremaining: 861ms\n",
      "280:\tlearn: 0.1781834\ttotal: 336ms\tremaining: 860ms\n",
      "281:\tlearn: 0.1776349\ttotal: 337ms\tremaining: 858ms\n",
      "282:\tlearn: 0.1772915\ttotal: 338ms\tremaining: 856ms\n",
      "283:\tlearn: 0.1771603\ttotal: 339ms\tremaining: 854ms\n",
      "284:\tlearn: 0.1766516\ttotal: 340ms\tremaining: 853ms\n",
      "285:\tlearn: 0.1764488\ttotal: 341ms\tremaining: 851ms\n",
      "286:\tlearn: 0.1760948\ttotal: 342ms\tremaining: 849ms\n",
      "287:\tlearn: 0.1758242\ttotal: 343ms\tremaining: 848ms\n",
      "288:\tlearn: 0.1754400\ttotal: 344ms\tremaining: 846ms\n",
      "289:\tlearn: 0.1750789\ttotal: 345ms\tremaining: 844ms\n",
      "290:\tlearn: 0.1748584\ttotal: 346ms\tremaining: 843ms\n",
      "291:\tlearn: 0.1744650\ttotal: 347ms\tremaining: 841ms\n",
      "292:\tlearn: 0.1741046\ttotal: 348ms\tremaining: 839ms\n",
      "293:\tlearn: 0.1737910\ttotal: 349ms\tremaining: 838ms\n",
      "294:\tlearn: 0.1732652\ttotal: 350ms\tremaining: 836ms\n",
      "295:\tlearn: 0.1727489\ttotal: 351ms\tremaining: 835ms\n",
      "296:\tlearn: 0.1723035\ttotal: 352ms\tremaining: 833ms\n",
      "297:\tlearn: 0.1721962\ttotal: 353ms\tremaining: 831ms\n",
      "298:\tlearn: 0.1717839\ttotal: 354ms\tremaining: 830ms\n",
      "299:\tlearn: 0.1712483\ttotal: 355ms\tremaining: 828ms\n",
      "300:\tlearn: 0.1707207\ttotal: 356ms\tremaining: 827ms\n",
      "301:\tlearn: 0.1705648\ttotal: 357ms\tremaining: 825ms\n",
      "302:\tlearn: 0.1700385\ttotal: 358ms\tremaining: 824ms\n",
      "303:\tlearn: 0.1696349\ttotal: 359ms\tremaining: 823ms\n",
      "304:\tlearn: 0.1694685\ttotal: 361ms\tremaining: 822ms\n",
      "305:\tlearn: 0.1693373\ttotal: 362ms\tremaining: 820ms\n",
      "306:\tlearn: 0.1691906\ttotal: 363ms\tremaining: 819ms\n",
      "307:\tlearn: 0.1689261\ttotal: 364ms\tremaining: 817ms\n",
      "308:\tlearn: 0.1685498\ttotal: 365ms\tremaining: 816ms\n",
      "309:\tlearn: 0.1680612\ttotal: 366ms\tremaining: 814ms\n",
      "310:\tlearn: 0.1679510\ttotal: 367ms\tremaining: 813ms\n",
      "311:\tlearn: 0.1675532\ttotal: 368ms\tremaining: 811ms\n",
      "312:\tlearn: 0.1671332\ttotal: 369ms\tremaining: 810ms\n",
      "313:\tlearn: 0.1667659\ttotal: 370ms\tremaining: 809ms\n",
      "314:\tlearn: 0.1662792\ttotal: 371ms\tremaining: 807ms\n",
      "315:\tlearn: 0.1659119\ttotal: 372ms\tremaining: 806ms\n",
      "316:\tlearn: 0.1654766\ttotal: 373ms\tremaining: 805ms\n",
      "317:\tlearn: 0.1651640\ttotal: 374ms\tremaining: 803ms\n",
      "318:\tlearn: 0.1648078\ttotal: 376ms\tremaining: 802ms\n",
      "319:\tlearn: 0.1642284\ttotal: 377ms\tremaining: 800ms\n",
      "320:\tlearn: 0.1638522\ttotal: 378ms\tremaining: 799ms\n",
      "321:\tlearn: 0.1635357\ttotal: 379ms\tremaining: 797ms\n",
      "322:\tlearn: 0.1632260\ttotal: 380ms\tremaining: 796ms\n",
      "323:\tlearn: 0.1628597\ttotal: 381ms\tremaining: 795ms\n",
      "324:\tlearn: 0.1624673\ttotal: 382ms\tremaining: 793ms\n",
      "325:\tlearn: 0.1621074\ttotal: 383ms\tremaining: 792ms\n",
      "326:\tlearn: 0.1619127\ttotal: 384ms\tremaining: 790ms\n",
      "327:\tlearn: 0.1617894\ttotal: 385ms\tremaining: 789ms\n",
      "328:\tlearn: 0.1613287\ttotal: 386ms\tremaining: 787ms\n",
      "329:\tlearn: 0.1609561\ttotal: 387ms\tremaining: 786ms\n",
      "330:\tlearn: 0.1604620\ttotal: 388ms\tremaining: 785ms\n",
      "331:\tlearn: 0.1601602\ttotal: 389ms\tremaining: 783ms\n",
      "332:\tlearn: 0.1596275\ttotal: 390ms\tremaining: 782ms\n",
      "333:\tlearn: 0.1591414\ttotal: 391ms\tremaining: 781ms\n",
      "334:\tlearn: 0.1586970\ttotal: 393ms\tremaining: 779ms\n",
      "335:\tlearn: 0.1584447\ttotal: 394ms\tremaining: 778ms\n",
      "336:\tlearn: 0.1581181\ttotal: 395ms\tremaining: 776ms\n",
      "337:\tlearn: 0.1579773\ttotal: 396ms\tremaining: 775ms\n",
      "338:\tlearn: 0.1576169\ttotal: 397ms\tremaining: 773ms\n",
      "339:\tlearn: 0.1575121\ttotal: 398ms\tremaining: 772ms\n",
      "340:\tlearn: 0.1572741\ttotal: 399ms\tremaining: 771ms\n",
      "341:\tlearn: 0.1568628\ttotal: 400ms\tremaining: 769ms\n",
      "342:\tlearn: 0.1564956\ttotal: 401ms\tremaining: 768ms\n",
      "343:\tlearn: 0.1561059\ttotal: 402ms\tremaining: 766ms\n",
      "344:\tlearn: 0.1559586\ttotal: 403ms\tremaining: 765ms\n",
      "345:\tlearn: 0.1558386\ttotal: 404ms\tremaining: 764ms\n",
      "346:\tlearn: 0.1554772\ttotal: 405ms\tremaining: 762ms\n",
      "347:\tlearn: 0.1549507\ttotal: 406ms\tremaining: 761ms\n",
      "348:\tlearn: 0.1545487\ttotal: 407ms\tremaining: 760ms\n"
     ]
    },
    {
     "name": "stdout",
     "output_type": "stream",
     "text": [
      "349:\tlearn: 0.1541819\ttotal: 408ms\tremaining: 758ms\n",
      "350:\tlearn: 0.1537473\ttotal: 410ms\tremaining: 758ms\n",
      "351:\tlearn: 0.1536433\ttotal: 411ms\tremaining: 757ms\n",
      "352:\tlearn: 0.1531387\ttotal: 412ms\tremaining: 755ms\n",
      "353:\tlearn: 0.1526860\ttotal: 413ms\tremaining: 754ms\n",
      "354:\tlearn: 0.1524187\ttotal: 414ms\tremaining: 753ms\n",
      "355:\tlearn: 0.1520457\ttotal: 415ms\tremaining: 751ms\n",
      "356:\tlearn: 0.1518599\ttotal: 416ms\tremaining: 749ms\n",
      "357:\tlearn: 0.1515987\ttotal: 417ms\tremaining: 748ms\n",
      "358:\tlearn: 0.1511754\ttotal: 418ms\tremaining: 746ms\n",
      "359:\tlearn: 0.1508673\ttotal: 419ms\tremaining: 745ms\n",
      "360:\tlearn: 0.1505941\ttotal: 420ms\tremaining: 743ms\n",
      "361:\tlearn: 0.1504911\ttotal: 421ms\tremaining: 742ms\n",
      "362:\tlearn: 0.1501400\ttotal: 422ms\tremaining: 740ms\n",
      "363:\tlearn: 0.1495216\ttotal: 423ms\tremaining: 739ms\n",
      "364:\tlearn: 0.1491659\ttotal: 424ms\tremaining: 737ms\n",
      "365:\tlearn: 0.1488377\ttotal: 425ms\tremaining: 736ms\n",
      "366:\tlearn: 0.1485895\ttotal: 426ms\tremaining: 735ms\n",
      "367:\tlearn: 0.1483230\ttotal: 427ms\tremaining: 733ms\n",
      "368:\tlearn: 0.1480639\ttotal: 428ms\tremaining: 732ms\n",
      "369:\tlearn: 0.1477466\ttotal: 429ms\tremaining: 730ms\n",
      "370:\tlearn: 0.1474922\ttotal: 430ms\tremaining: 729ms\n",
      "371:\tlearn: 0.1470460\ttotal: 431ms\tremaining: 728ms\n",
      "372:\tlearn: 0.1467674\ttotal: 432ms\tremaining: 726ms\n",
      "373:\tlearn: 0.1464991\ttotal: 433ms\tremaining: 725ms\n",
      "374:\tlearn: 0.1462002\ttotal: 434ms\tremaining: 723ms\n",
      "375:\tlearn: 0.1459303\ttotal: 435ms\tremaining: 722ms\n",
      "376:\tlearn: 0.1457434\ttotal: 436ms\tremaining: 721ms\n",
      "377:\tlearn: 0.1453083\ttotal: 437ms\tremaining: 719ms\n",
      "378:\tlearn: 0.1450378\ttotal: 438ms\tremaining: 718ms\n",
      "379:\tlearn: 0.1447720\ttotal: 439ms\tremaining: 717ms\n",
      "380:\tlearn: 0.1446343\ttotal: 440ms\tremaining: 715ms\n",
      "381:\tlearn: 0.1444694\ttotal: 441ms\tremaining: 714ms\n",
      "382:\tlearn: 0.1441919\ttotal: 442ms\tremaining: 712ms\n",
      "383:\tlearn: 0.1438597\ttotal: 443ms\tremaining: 711ms\n",
      "384:\tlearn: 0.1435177\ttotal: 445ms\tremaining: 710ms\n",
      "385:\tlearn: 0.1430451\ttotal: 446ms\tremaining: 710ms\n",
      "386:\tlearn: 0.1425906\ttotal: 447ms\tremaining: 708ms\n",
      "387:\tlearn: 0.1422151\ttotal: 448ms\tremaining: 707ms\n",
      "388:\tlearn: 0.1419425\ttotal: 449ms\tremaining: 706ms\n",
      "389:\tlearn: 0.1416240\ttotal: 450ms\tremaining: 704ms\n",
      "390:\tlearn: 0.1414408\ttotal: 451ms\tremaining: 703ms\n",
      "391:\tlearn: 0.1413131\ttotal: 452ms\tremaining: 701ms\n",
      "392:\tlearn: 0.1410225\ttotal: 453ms\tremaining: 700ms\n",
      "393:\tlearn: 0.1407190\ttotal: 454ms\tremaining: 698ms\n",
      "394:\tlearn: 0.1404389\ttotal: 455ms\tremaining: 697ms\n",
      "395:\tlearn: 0.1402364\ttotal: 456ms\tremaining: 696ms\n",
      "396:\tlearn: 0.1399256\ttotal: 457ms\tremaining: 694ms\n",
      "397:\tlearn: 0.1397531\ttotal: 458ms\tremaining: 693ms\n",
      "398:\tlearn: 0.1394677\ttotal: 459ms\tremaining: 691ms\n",
      "399:\tlearn: 0.1391248\ttotal: 460ms\tremaining: 690ms\n",
      "400:\tlearn: 0.1389368\ttotal: 461ms\tremaining: 689ms\n",
      "401:\tlearn: 0.1386067\ttotal: 462ms\tremaining: 687ms\n",
      "402:\tlearn: 0.1385278\ttotal: 463ms\tremaining: 686ms\n",
      "403:\tlearn: 0.1382255\ttotal: 464ms\tremaining: 685ms\n",
      "404:\tlearn: 0.1381140\ttotal: 465ms\tremaining: 683ms\n",
      "405:\tlearn: 0.1377913\ttotal: 466ms\tremaining: 682ms\n",
      "406:\tlearn: 0.1374749\ttotal: 467ms\tremaining: 681ms\n",
      "407:\tlearn: 0.1373986\ttotal: 468ms\tremaining: 679ms\n",
      "408:\tlearn: 0.1371328\ttotal: 469ms\tremaining: 678ms\n",
      "409:\tlearn: 0.1370353\ttotal: 470ms\tremaining: 676ms\n",
      "410:\tlearn: 0.1366648\ttotal: 471ms\tremaining: 675ms\n",
      "411:\tlearn: 0.1363465\ttotal: 472ms\tremaining: 674ms\n",
      "412:\tlearn: 0.1360539\ttotal: 473ms\tremaining: 672ms\n",
      "413:\tlearn: 0.1359921\ttotal: 474ms\tremaining: 671ms\n",
      "414:\tlearn: 0.1358266\ttotal: 475ms\tremaining: 670ms\n",
      "415:\tlearn: 0.1354757\ttotal: 476ms\tremaining: 669ms\n",
      "416:\tlearn: 0.1353837\ttotal: 477ms\tremaining: 667ms\n",
      "417:\tlearn: 0.1351535\ttotal: 478ms\tremaining: 666ms\n",
      "418:\tlearn: 0.1349311\ttotal: 479ms\tremaining: 665ms\n",
      "419:\tlearn: 0.1347303\ttotal: 480ms\tremaining: 663ms\n",
      "420:\tlearn: 0.1344626\ttotal: 481ms\tremaining: 662ms\n",
      "421:\tlearn: 0.1343062\ttotal: 482ms\tremaining: 661ms\n",
      "422:\tlearn: 0.1340612\ttotal: 484ms\tremaining: 660ms\n",
      "423:\tlearn: 0.1338009\ttotal: 485ms\tremaining: 658ms\n",
      "424:\tlearn: 0.1335669\ttotal: 486ms\tremaining: 657ms\n",
      "425:\tlearn: 0.1333287\ttotal: 487ms\tremaining: 656ms\n",
      "426:\tlearn: 0.1330703\ttotal: 488ms\tremaining: 654ms\n",
      "427:\tlearn: 0.1328692\ttotal: 489ms\tremaining: 653ms\n",
      "428:\tlearn: 0.1326057\ttotal: 490ms\tremaining: 652ms\n",
      "429:\tlearn: 0.1323959\ttotal: 491ms\tremaining: 650ms\n",
      "430:\tlearn: 0.1322190\ttotal: 492ms\tremaining: 649ms\n",
      "431:\tlearn: 0.1320181\ttotal: 493ms\tremaining: 648ms\n",
      "432:\tlearn: 0.1316582\ttotal: 494ms\tremaining: 646ms\n",
      "433:\tlearn: 0.1316021\ttotal: 494ms\tremaining: 645ms\n",
      "434:\tlearn: 0.1312622\ttotal: 495ms\tremaining: 644ms\n",
      "435:\tlearn: 0.1310276\ttotal: 497ms\tremaining: 642ms\n",
      "436:\tlearn: 0.1307463\ttotal: 498ms\tremaining: 641ms\n",
      "437:\tlearn: 0.1303745\ttotal: 499ms\tremaining: 640ms\n",
      "438:\tlearn: 0.1301925\ttotal: 500ms\tremaining: 638ms\n",
      "439:\tlearn: 0.1299944\ttotal: 501ms\tremaining: 637ms\n",
      "440:\tlearn: 0.1298383\ttotal: 502ms\tremaining: 636ms\n",
      "441:\tlearn: 0.1296630\ttotal: 503ms\tremaining: 634ms\n",
      "442:\tlearn: 0.1294821\ttotal: 504ms\tremaining: 633ms\n",
      "443:\tlearn: 0.1291908\ttotal: 505ms\tremaining: 632ms\n",
      "444:\tlearn: 0.1289055\ttotal: 506ms\tremaining: 631ms\n",
      "445:\tlearn: 0.1287825\ttotal: 507ms\tremaining: 629ms\n",
      "446:\tlearn: 0.1284297\ttotal: 508ms\tremaining: 628ms\n",
      "447:\tlearn: 0.1282075\ttotal: 509ms\tremaining: 627ms\n",
      "448:\tlearn: 0.1281124\ttotal: 510ms\tremaining: 625ms\n",
      "449:\tlearn: 0.1278844\ttotal: 511ms\tremaining: 624ms\n",
      "450:\tlearn: 0.1276926\ttotal: 512ms\tremaining: 623ms\n",
      "451:\tlearn: 0.1275712\ttotal: 513ms\tremaining: 621ms\n",
      "452:\tlearn: 0.1273357\ttotal: 514ms\tremaining: 620ms\n",
      "453:\tlearn: 0.1271109\ttotal: 515ms\tremaining: 619ms\n",
      "454:\tlearn: 0.1268426\ttotal: 516ms\tremaining: 618ms\n",
      "455:\tlearn: 0.1266644\ttotal: 517ms\tremaining: 616ms\n",
      "456:\tlearn: 0.1265965\ttotal: 518ms\tremaining: 615ms\n",
      "457:\tlearn: 0.1262895\ttotal: 519ms\tremaining: 614ms\n",
      "458:\tlearn: 0.1260306\ttotal: 519ms\tremaining: 612ms\n",
      "459:\tlearn: 0.1258260\ttotal: 520ms\tremaining: 611ms\n",
      "460:\tlearn: 0.1255680\ttotal: 521ms\tremaining: 610ms\n",
      "461:\tlearn: 0.1252060\ttotal: 522ms\tremaining: 608ms\n",
      "462:\tlearn: 0.1248407\ttotal: 523ms\tremaining: 607ms\n",
      "463:\tlearn: 0.1246340\ttotal: 524ms\tremaining: 606ms\n",
      "464:\tlearn: 0.1243791\ttotal: 525ms\tremaining: 604ms\n",
      "465:\tlearn: 0.1240856\ttotal: 526ms\tremaining: 603ms\n",
      "466:\tlearn: 0.1238536\ttotal: 527ms\tremaining: 602ms\n",
      "467:\tlearn: 0.1235472\ttotal: 528ms\tremaining: 601ms\n",
      "468:\tlearn: 0.1232286\ttotal: 529ms\tremaining: 599ms\n",
      "469:\tlearn: 0.1230311\ttotal: 530ms\tremaining: 598ms\n",
      "470:\tlearn: 0.1228287\ttotal: 531ms\tremaining: 597ms\n",
      "471:\tlearn: 0.1226559\ttotal: 532ms\tremaining: 595ms\n",
      "472:\tlearn: 0.1224730\ttotal: 533ms\tremaining: 594ms\n",
      "473:\tlearn: 0.1223822\ttotal: 534ms\tremaining: 593ms\n",
      "474:\tlearn: 0.1222016\ttotal: 535ms\tremaining: 592ms\n",
      "475:\tlearn: 0.1220365\ttotal: 536ms\tremaining: 590ms\n",
      "476:\tlearn: 0.1219768\ttotal: 537ms\tremaining: 589ms\n",
      "477:\tlearn: 0.1217855\ttotal: 538ms\tremaining: 588ms\n",
      "478:\tlearn: 0.1215179\ttotal: 539ms\tremaining: 587ms\n"
     ]
    },
    {
     "name": "stdout",
     "output_type": "stream",
     "text": [
      "479:\tlearn: 0.1210324\ttotal: 541ms\tremaining: 586ms\n",
      "480:\tlearn: 0.1208085\ttotal: 542ms\tremaining: 585ms\n",
      "481:\tlearn: 0.1205309\ttotal: 543ms\tremaining: 583ms\n",
      "482:\tlearn: 0.1202839\ttotal: 544ms\tremaining: 582ms\n",
      "483:\tlearn: 0.1198762\ttotal: 545ms\tremaining: 581ms\n",
      "484:\tlearn: 0.1194816\ttotal: 546ms\tremaining: 580ms\n",
      "485:\tlearn: 0.1190903\ttotal: 547ms\tremaining: 579ms\n",
      "486:\tlearn: 0.1188771\ttotal: 548ms\tremaining: 577ms\n",
      "487:\tlearn: 0.1187124\ttotal: 549ms\tremaining: 576ms\n",
      "488:\tlearn: 0.1186164\ttotal: 551ms\tremaining: 575ms\n",
      "489:\tlearn: 0.1184613\ttotal: 552ms\tremaining: 574ms\n",
      "490:\tlearn: 0.1182720\ttotal: 553ms\tremaining: 573ms\n",
      "491:\tlearn: 0.1180837\ttotal: 554ms\tremaining: 572ms\n",
      "492:\tlearn: 0.1177111\ttotal: 555ms\tremaining: 571ms\n",
      "493:\tlearn: 0.1175583\ttotal: 556ms\tremaining: 569ms\n",
      "494:\tlearn: 0.1174317\ttotal: 557ms\tremaining: 568ms\n",
      "495:\tlearn: 0.1172268\ttotal: 558ms\tremaining: 567ms\n",
      "496:\tlearn: 0.1169195\ttotal: 559ms\tremaining: 566ms\n",
      "497:\tlearn: 0.1166990\ttotal: 560ms\tremaining: 564ms\n",
      "498:\tlearn: 0.1165108\ttotal: 561ms\tremaining: 563ms\n",
      "499:\tlearn: 0.1163219\ttotal: 562ms\tremaining: 562ms\n",
      "500:\tlearn: 0.1160334\ttotal: 563ms\tremaining: 561ms\n",
      "501:\tlearn: 0.1158139\ttotal: 564ms\tremaining: 559ms\n",
      "502:\tlearn: 0.1155150\ttotal: 565ms\tremaining: 558ms\n",
      "503:\tlearn: 0.1152918\ttotal: 566ms\tremaining: 557ms\n",
      "504:\tlearn: 0.1149990\ttotal: 567ms\tremaining: 556ms\n",
      "505:\tlearn: 0.1147708\ttotal: 568ms\tremaining: 555ms\n",
      "506:\tlearn: 0.1145980\ttotal: 569ms\tremaining: 553ms\n",
      "507:\tlearn: 0.1144956\ttotal: 570ms\tremaining: 552ms\n",
      "508:\tlearn: 0.1142707\ttotal: 571ms\tremaining: 551ms\n",
      "509:\tlearn: 0.1139846\ttotal: 572ms\tremaining: 550ms\n",
      "510:\tlearn: 0.1136642\ttotal: 573ms\tremaining: 548ms\n",
      "511:\tlearn: 0.1134243\ttotal: 574ms\tremaining: 547ms\n",
      "512:\tlearn: 0.1131471\ttotal: 575ms\tremaining: 546ms\n",
      "513:\tlearn: 0.1128564\ttotal: 576ms\tremaining: 545ms\n",
      "514:\tlearn: 0.1126571\ttotal: 577ms\tremaining: 544ms\n",
      "515:\tlearn: 0.1124902\ttotal: 578ms\tremaining: 543ms\n",
      "516:\tlearn: 0.1123189\ttotal: 579ms\tremaining: 541ms\n",
      "517:\tlearn: 0.1120814\ttotal: 580ms\tremaining: 540ms\n",
      "518:\tlearn: 0.1118227\ttotal: 581ms\tremaining: 539ms\n",
      "519:\tlearn: 0.1116196\ttotal: 583ms\tremaining: 538ms\n",
      "520:\tlearn: 0.1114364\ttotal: 583ms\tremaining: 536ms\n",
      "521:\tlearn: 0.1111712\ttotal: 584ms\tremaining: 535ms\n",
      "522:\tlearn: 0.1110373\ttotal: 585ms\tremaining: 534ms\n",
      "523:\tlearn: 0.1108509\ttotal: 586ms\tremaining: 533ms\n",
      "524:\tlearn: 0.1105273\ttotal: 587ms\tremaining: 531ms\n",
      "525:\tlearn: 0.1104189\ttotal: 588ms\tremaining: 530ms\n",
      "526:\tlearn: 0.1101986\ttotal: 589ms\tremaining: 529ms\n",
      "527:\tlearn: 0.1100312\ttotal: 590ms\tremaining: 528ms\n",
      "528:\tlearn: 0.1099244\ttotal: 591ms\tremaining: 527ms\n",
      "529:\tlearn: 0.1095952\ttotal: 593ms\tremaining: 526ms\n",
      "530:\tlearn: 0.1094866\ttotal: 594ms\tremaining: 524ms\n",
      "531:\tlearn: 0.1092307\ttotal: 595ms\tremaining: 523ms\n",
      "532:\tlearn: 0.1090509\ttotal: 596ms\tremaining: 522ms\n",
      "533:\tlearn: 0.1088454\ttotal: 597ms\tremaining: 521ms\n",
      "534:\tlearn: 0.1085051\ttotal: 598ms\tremaining: 520ms\n",
      "535:\tlearn: 0.1082387\ttotal: 599ms\tremaining: 519ms\n",
      "536:\tlearn: 0.1080788\ttotal: 600ms\tremaining: 518ms\n",
      "537:\tlearn: 0.1080430\ttotal: 601ms\tremaining: 516ms\n",
      "538:\tlearn: 0.1078903\ttotal: 602ms\tremaining: 515ms\n",
      "539:\tlearn: 0.1077477\ttotal: 604ms\tremaining: 514ms\n",
      "540:\tlearn: 0.1076186\ttotal: 605ms\tremaining: 513ms\n",
      "541:\tlearn: 0.1073139\ttotal: 606ms\tremaining: 512ms\n",
      "542:\tlearn: 0.1071013\ttotal: 607ms\tremaining: 511ms\n",
      "543:\tlearn: 0.1069018\ttotal: 608ms\tremaining: 509ms\n",
      "544:\tlearn: 0.1066473\ttotal: 609ms\tremaining: 508ms\n",
      "545:\tlearn: 0.1063718\ttotal: 610ms\tremaining: 507ms\n",
      "546:\tlearn: 0.1062159\ttotal: 611ms\tremaining: 506ms\n",
      "547:\tlearn: 0.1061479\ttotal: 612ms\tremaining: 505ms\n",
      "548:\tlearn: 0.1060251\ttotal: 614ms\tremaining: 504ms\n",
      "549:\tlearn: 0.1056625\ttotal: 615ms\tremaining: 503ms\n",
      "550:\tlearn: 0.1055524\ttotal: 616ms\tremaining: 502ms\n",
      "551:\tlearn: 0.1054971\ttotal: 617ms\tremaining: 501ms\n",
      "552:\tlearn: 0.1054065\ttotal: 618ms\tremaining: 500ms\n",
      "553:\tlearn: 0.1052615\ttotal: 619ms\tremaining: 498ms\n",
      "554:\tlearn: 0.1050890\ttotal: 620ms\tremaining: 497ms\n",
      "555:\tlearn: 0.1049804\ttotal: 621ms\tremaining: 496ms\n",
      "556:\tlearn: 0.1047989\ttotal: 622ms\tremaining: 495ms\n",
      "557:\tlearn: 0.1046230\ttotal: 624ms\tremaining: 494ms\n",
      "558:\tlearn: 0.1045445\ttotal: 625ms\tremaining: 493ms\n",
      "559:\tlearn: 0.1043983\ttotal: 626ms\tremaining: 492ms\n",
      "560:\tlearn: 0.1041203\ttotal: 627ms\tremaining: 491ms\n",
      "561:\tlearn: 0.1039112\ttotal: 628ms\tremaining: 489ms\n",
      "562:\tlearn: 0.1036065\ttotal: 629ms\tremaining: 488ms\n",
      "563:\tlearn: 0.1035545\ttotal: 630ms\tremaining: 487ms\n",
      "564:\tlearn: 0.1033255\ttotal: 631ms\tremaining: 486ms\n",
      "565:\tlearn: 0.1032014\ttotal: 632ms\tremaining: 485ms\n",
      "566:\tlearn: 0.1029129\ttotal: 633ms\tremaining: 483ms\n",
      "567:\tlearn: 0.1026944\ttotal: 634ms\tremaining: 482ms\n",
      "568:\tlearn: 0.1025007\ttotal: 635ms\tremaining: 481ms\n",
      "569:\tlearn: 0.1022202\ttotal: 636ms\tremaining: 480ms\n",
      "570:\tlearn: 0.1019428\ttotal: 637ms\tremaining: 479ms\n",
      "571:\tlearn: 0.1017649\ttotal: 638ms\tremaining: 477ms\n",
      "572:\tlearn: 0.1015361\ttotal: 639ms\tremaining: 476ms\n",
      "573:\tlearn: 0.1013911\ttotal: 640ms\tremaining: 475ms\n",
      "574:\tlearn: 0.1012340\ttotal: 641ms\tremaining: 474ms\n",
      "575:\tlearn: 0.1010652\ttotal: 642ms\tremaining: 473ms\n",
      "576:\tlearn: 0.1008853\ttotal: 643ms\tremaining: 471ms\n",
      "577:\tlearn: 0.1006659\ttotal: 644ms\tremaining: 470ms\n",
      "578:\tlearn: 0.1004177\ttotal: 645ms\tremaining: 469ms\n",
      "579:\tlearn: 0.1001783\ttotal: 646ms\tremaining: 468ms\n",
      "580:\tlearn: 0.0999833\ttotal: 647ms\tremaining: 467ms\n",
      "581:\tlearn: 0.0998842\ttotal: 648ms\tremaining: 465ms\n",
      "582:\tlearn: 0.0997451\ttotal: 649ms\tremaining: 464ms\n",
      "583:\tlearn: 0.0997162\ttotal: 650ms\tremaining: 463ms\n",
      "584:\tlearn: 0.0995499\ttotal: 651ms\tremaining: 462ms\n",
      "585:\tlearn: 0.0994782\ttotal: 652ms\tremaining: 461ms\n",
      "586:\tlearn: 0.0993371\ttotal: 653ms\tremaining: 459ms\n",
      "587:\tlearn: 0.0992534\ttotal: 654ms\tremaining: 458ms\n",
      "588:\tlearn: 0.0990081\ttotal: 655ms\tremaining: 457ms\n",
      "589:\tlearn: 0.0989834\ttotal: 656ms\tremaining: 456ms\n",
      "590:\tlearn: 0.0988044\ttotal: 657ms\tremaining: 455ms\n",
      "591:\tlearn: 0.0987813\ttotal: 658ms\tremaining: 453ms\n",
      "592:\tlearn: 0.0986124\ttotal: 659ms\tremaining: 452ms\n",
      "593:\tlearn: 0.0983580\ttotal: 660ms\tremaining: 451ms\n",
      "594:\tlearn: 0.0981910\ttotal: 661ms\tremaining: 450ms\n",
      "595:\tlearn: 0.0980441\ttotal: 662ms\tremaining: 449ms\n",
      "596:\tlearn: 0.0978388\ttotal: 663ms\tremaining: 448ms\n",
      "597:\tlearn: 0.0978136\ttotal: 664ms\tremaining: 446ms\n",
      "598:\tlearn: 0.0976389\ttotal: 665ms\tremaining: 445ms\n",
      "599:\tlearn: 0.0975287\ttotal: 666ms\tremaining: 444ms\n",
      "600:\tlearn: 0.0973715\ttotal: 667ms\tremaining: 443ms\n",
      "601:\tlearn: 0.0972485\ttotal: 668ms\tremaining: 442ms\n",
      "602:\tlearn: 0.0970000\ttotal: 669ms\tremaining: 441ms\n",
      "603:\tlearn: 0.0968309\ttotal: 670ms\tremaining: 439ms\n",
      "604:\tlearn: 0.0967405\ttotal: 671ms\tremaining: 438ms\n",
      "605:\tlearn: 0.0964777\ttotal: 672ms\tremaining: 437ms\n",
      "606:\tlearn: 0.0962871\ttotal: 673ms\tremaining: 436ms\n"
     ]
    },
    {
     "name": "stdout",
     "output_type": "stream",
     "text": [
      "607:\tlearn: 0.0961551\ttotal: 674ms\tremaining: 435ms\n",
      "608:\tlearn: 0.0959413\ttotal: 675ms\tremaining: 434ms\n",
      "609:\tlearn: 0.0958877\ttotal: 676ms\tremaining: 432ms\n",
      "610:\tlearn: 0.0958614\ttotal: 677ms\tremaining: 431ms\n",
      "611:\tlearn: 0.0956961\ttotal: 678ms\tremaining: 430ms\n",
      "612:\tlearn: 0.0955253\ttotal: 679ms\tremaining: 429ms\n",
      "613:\tlearn: 0.0952815\ttotal: 680ms\tremaining: 428ms\n",
      "614:\tlearn: 0.0951404\ttotal: 681ms\tremaining: 426ms\n",
      "615:\tlearn: 0.0949865\ttotal: 682ms\tremaining: 425ms\n",
      "616:\tlearn: 0.0947258\ttotal: 683ms\tremaining: 424ms\n",
      "617:\tlearn: 0.0945966\ttotal: 684ms\tremaining: 423ms\n",
      "618:\tlearn: 0.0943627\ttotal: 685ms\tremaining: 422ms\n",
      "619:\tlearn: 0.0942961\ttotal: 686ms\tremaining: 421ms\n",
      "620:\tlearn: 0.0941482\ttotal: 687ms\tremaining: 419ms\n",
      "621:\tlearn: 0.0939360\ttotal: 688ms\tremaining: 418ms\n",
      "622:\tlearn: 0.0938992\ttotal: 689ms\tremaining: 417ms\n",
      "623:\tlearn: 0.0938251\ttotal: 690ms\tremaining: 416ms\n",
      "624:\tlearn: 0.0936374\ttotal: 691ms\tremaining: 415ms\n",
      "625:\tlearn: 0.0935003\ttotal: 692ms\tremaining: 414ms\n",
      "626:\tlearn: 0.0933761\ttotal: 693ms\tremaining: 412ms\n",
      "627:\tlearn: 0.0932879\ttotal: 694ms\tremaining: 411ms\n",
      "628:\tlearn: 0.0931795\ttotal: 695ms\tremaining: 410ms\n",
      "629:\tlearn: 0.0930399\ttotal: 696ms\tremaining: 409ms\n",
      "630:\tlearn: 0.0929465\ttotal: 697ms\tremaining: 408ms\n",
      "631:\tlearn: 0.0929190\ttotal: 698ms\tremaining: 407ms\n",
      "632:\tlearn: 0.0927243\ttotal: 699ms\tremaining: 405ms\n",
      "633:\tlearn: 0.0925713\ttotal: 700ms\tremaining: 404ms\n",
      "634:\tlearn: 0.0924913\ttotal: 701ms\tremaining: 403ms\n",
      "635:\tlearn: 0.0923751\ttotal: 702ms\tremaining: 402ms\n",
      "636:\tlearn: 0.0922418\ttotal: 703ms\tremaining: 401ms\n",
      "637:\tlearn: 0.0921465\ttotal: 704ms\tremaining: 400ms\n",
      "638:\tlearn: 0.0920070\ttotal: 705ms\tremaining: 398ms\n",
      "639:\tlearn: 0.0918368\ttotal: 706ms\tremaining: 397ms\n",
      "640:\tlearn: 0.0916284\ttotal: 707ms\tremaining: 396ms\n",
      "641:\tlearn: 0.0914380\ttotal: 708ms\tremaining: 395ms\n",
      "642:\tlearn: 0.0913096\ttotal: 709ms\tremaining: 394ms\n",
      "643:\tlearn: 0.0910792\ttotal: 710ms\tremaining: 392ms\n",
      "644:\tlearn: 0.0909498\ttotal: 711ms\tremaining: 391ms\n",
      "645:\tlearn: 0.0908447\ttotal: 712ms\tremaining: 390ms\n",
      "646:\tlearn: 0.0906443\ttotal: 713ms\tremaining: 389ms\n",
      "647:\tlearn: 0.0904896\ttotal: 714ms\tremaining: 388ms\n",
      "648:\tlearn: 0.0904020\ttotal: 715ms\tremaining: 387ms\n",
      "649:\tlearn: 0.0902228\ttotal: 716ms\tremaining: 386ms\n",
      "650:\tlearn: 0.0901436\ttotal: 717ms\tremaining: 384ms\n",
      "651:\tlearn: 0.0899948\ttotal: 718ms\tremaining: 383ms\n",
      "652:\tlearn: 0.0898407\ttotal: 719ms\tremaining: 382ms\n",
      "653:\tlearn: 0.0896892\ttotal: 720ms\tremaining: 381ms\n",
      "654:\tlearn: 0.0895991\ttotal: 721ms\tremaining: 380ms\n",
      "655:\tlearn: 0.0894708\ttotal: 722ms\tremaining: 378ms\n",
      "656:\tlearn: 0.0894100\ttotal: 723ms\tremaining: 377ms\n",
      "657:\tlearn: 0.0892799\ttotal: 724ms\tremaining: 376ms\n",
      "658:\tlearn: 0.0892060\ttotal: 725ms\tremaining: 375ms\n",
      "659:\tlearn: 0.0891054\ttotal: 726ms\tremaining: 374ms\n",
      "660:\tlearn: 0.0889417\ttotal: 727ms\tremaining: 373ms\n",
      "661:\tlearn: 0.0887072\ttotal: 727ms\tremaining: 371ms\n",
      "662:\tlearn: 0.0885423\ttotal: 728ms\tremaining: 370ms\n",
      "663:\tlearn: 0.0884557\ttotal: 729ms\tremaining: 369ms\n",
      "664:\tlearn: 0.0882729\ttotal: 730ms\tremaining: 368ms\n",
      "665:\tlearn: 0.0881055\ttotal: 731ms\tremaining: 367ms\n",
      "666:\tlearn: 0.0878877\ttotal: 732ms\tremaining: 366ms\n",
      "667:\tlearn: 0.0877076\ttotal: 733ms\tremaining: 364ms\n",
      "668:\tlearn: 0.0875090\ttotal: 734ms\tremaining: 363ms\n",
      "669:\tlearn: 0.0874876\ttotal: 735ms\tremaining: 362ms\n",
      "670:\tlearn: 0.0872254\ttotal: 736ms\tremaining: 361ms\n",
      "671:\tlearn: 0.0870759\ttotal: 737ms\tremaining: 360ms\n",
      "672:\tlearn: 0.0869359\ttotal: 738ms\tremaining: 359ms\n",
      "673:\tlearn: 0.0867883\ttotal: 739ms\tremaining: 357ms\n",
      "674:\tlearn: 0.0867193\ttotal: 740ms\tremaining: 356ms\n",
      "675:\tlearn: 0.0865519\ttotal: 741ms\tremaining: 355ms\n",
      "676:\tlearn: 0.0864180\ttotal: 742ms\tremaining: 354ms\n",
      "677:\tlearn: 0.0862606\ttotal: 743ms\tremaining: 353ms\n",
      "678:\tlearn: 0.0862196\ttotal: 744ms\tremaining: 352ms\n",
      "679:\tlearn: 0.0861372\ttotal: 745ms\tremaining: 350ms\n",
      "680:\tlearn: 0.0860071\ttotal: 746ms\tremaining: 349ms\n",
      "681:\tlearn: 0.0858967\ttotal: 747ms\tremaining: 348ms\n",
      "682:\tlearn: 0.0857550\ttotal: 748ms\tremaining: 347ms\n",
      "683:\tlearn: 0.0857153\ttotal: 749ms\tremaining: 346ms\n",
      "684:\tlearn: 0.0854298\ttotal: 750ms\tremaining: 345ms\n",
      "685:\tlearn: 0.0853072\ttotal: 751ms\tremaining: 344ms\n",
      "686:\tlearn: 0.0852410\ttotal: 752ms\tremaining: 342ms\n",
      "687:\tlearn: 0.0851292\ttotal: 753ms\tremaining: 341ms\n",
      "688:\tlearn: 0.0850379\ttotal: 754ms\tremaining: 340ms\n",
      "689:\tlearn: 0.0850064\ttotal: 755ms\tremaining: 339ms\n",
      "690:\tlearn: 0.0848452\ttotal: 756ms\tremaining: 338ms\n",
      "691:\tlearn: 0.0846840\ttotal: 757ms\tremaining: 337ms\n",
      "692:\tlearn: 0.0844960\ttotal: 758ms\tremaining: 336ms\n",
      "693:\tlearn: 0.0844105\ttotal: 759ms\tremaining: 335ms\n",
      "694:\tlearn: 0.0842172\ttotal: 760ms\tremaining: 333ms\n",
      "695:\tlearn: 0.0840864\ttotal: 761ms\tremaining: 332ms\n",
      "696:\tlearn: 0.0839502\ttotal: 762ms\tremaining: 331ms\n",
      "697:\tlearn: 0.0838952\ttotal: 763ms\tremaining: 330ms\n",
      "698:\tlearn: 0.0837620\ttotal: 764ms\tremaining: 329ms\n",
      "699:\tlearn: 0.0836488\ttotal: 765ms\tremaining: 328ms\n",
      "700:\tlearn: 0.0836081\ttotal: 766ms\tremaining: 327ms\n",
      "701:\tlearn: 0.0834573\ttotal: 767ms\tremaining: 326ms\n",
      "702:\tlearn: 0.0833119\ttotal: 768ms\tremaining: 324ms\n",
      "703:\tlearn: 0.0831666\ttotal: 769ms\tremaining: 323ms\n",
      "704:\tlearn: 0.0828907\ttotal: 770ms\tremaining: 322ms\n",
      "705:\tlearn: 0.0827382\ttotal: 771ms\tremaining: 321ms\n",
      "706:\tlearn: 0.0825665\ttotal: 772ms\tremaining: 320ms\n",
      "707:\tlearn: 0.0824678\ttotal: 773ms\tremaining: 319ms\n",
      "708:\tlearn: 0.0822648\ttotal: 774ms\tremaining: 318ms\n",
      "709:\tlearn: 0.0820978\ttotal: 775ms\tremaining: 317ms\n",
      "710:\tlearn: 0.0819745\ttotal: 776ms\tremaining: 316ms\n",
      "711:\tlearn: 0.0818643\ttotal: 778ms\tremaining: 315ms\n",
      "712:\tlearn: 0.0816541\ttotal: 779ms\tremaining: 313ms\n",
      "713:\tlearn: 0.0816244\ttotal: 780ms\tremaining: 312ms\n",
      "714:\tlearn: 0.0814691\ttotal: 781ms\tremaining: 311ms\n",
      "715:\tlearn: 0.0812609\ttotal: 782ms\tremaining: 310ms\n",
      "716:\tlearn: 0.0811620\ttotal: 783ms\tremaining: 309ms\n",
      "717:\tlearn: 0.0810835\ttotal: 784ms\tremaining: 308ms\n",
      "718:\tlearn: 0.0810684\ttotal: 785ms\tremaining: 307ms\n",
      "719:\tlearn: 0.0809634\ttotal: 786ms\tremaining: 306ms\n",
      "720:\tlearn: 0.0808169\ttotal: 787ms\tremaining: 304ms\n",
      "721:\tlearn: 0.0807566\ttotal: 788ms\tremaining: 303ms\n",
      "722:\tlearn: 0.0806846\ttotal: 788ms\tremaining: 302ms\n",
      "723:\tlearn: 0.0805501\ttotal: 790ms\tremaining: 301ms\n",
      "724:\tlearn: 0.0805087\ttotal: 791ms\tremaining: 300ms\n",
      "725:\tlearn: 0.0803669\ttotal: 792ms\tremaining: 299ms\n",
      "726:\tlearn: 0.0802898\ttotal: 793ms\tremaining: 298ms\n",
      "727:\tlearn: 0.0802080\ttotal: 794ms\tremaining: 296ms\n",
      "728:\tlearn: 0.0800897\ttotal: 795ms\tremaining: 295ms\n",
      "729:\tlearn: 0.0799516\ttotal: 796ms\tremaining: 294ms\n",
      "730:\tlearn: 0.0798509\ttotal: 797ms\tremaining: 293ms\n",
      "731:\tlearn: 0.0797960\ttotal: 798ms\tremaining: 292ms\n",
      "732:\tlearn: 0.0797703\ttotal: 799ms\tremaining: 291ms\n",
      "733:\tlearn: 0.0796651\ttotal: 800ms\tremaining: 290ms\n",
      "734:\tlearn: 0.0796384\ttotal: 801ms\tremaining: 289ms\n",
      "735:\tlearn: 0.0795304\ttotal: 802ms\tremaining: 288ms\n",
      "736:\tlearn: 0.0795168\ttotal: 803ms\tremaining: 286ms\n",
      "737:\tlearn: 0.0794003\ttotal: 804ms\tremaining: 285ms\n",
      "738:\tlearn: 0.0793044\ttotal: 805ms\tremaining: 284ms\n",
      "739:\tlearn: 0.0791679\ttotal: 806ms\tremaining: 283ms\n",
      "740:\tlearn: 0.0790697\ttotal: 807ms\tremaining: 282ms\n",
      "741:\tlearn: 0.0789704\ttotal: 808ms\tremaining: 281ms\n",
      "742:\tlearn: 0.0788695\ttotal: 809ms\tremaining: 280ms\n"
     ]
    },
    {
     "name": "stdout",
     "output_type": "stream",
     "text": [
      "743:\tlearn: 0.0788187\ttotal: 810ms\tremaining: 279ms\n",
      "744:\tlearn: 0.0787180\ttotal: 811ms\tremaining: 278ms\n",
      "745:\tlearn: 0.0785484\ttotal: 812ms\tremaining: 277ms\n",
      "746:\tlearn: 0.0784857\ttotal: 813ms\tremaining: 275ms\n",
      "747:\tlearn: 0.0783672\ttotal: 814ms\tremaining: 274ms\n",
      "748:\tlearn: 0.0782393\ttotal: 815ms\tremaining: 273ms\n",
      "749:\tlearn: 0.0781948\ttotal: 816ms\tremaining: 272ms\n",
      "750:\tlearn: 0.0780303\ttotal: 818ms\tremaining: 271ms\n",
      "751:\tlearn: 0.0779218\ttotal: 819ms\tremaining: 270ms\n",
      "752:\tlearn: 0.0777281\ttotal: 820ms\tremaining: 269ms\n",
      "753:\tlearn: 0.0777109\ttotal: 821ms\tremaining: 268ms\n",
      "754:\tlearn: 0.0776943\ttotal: 822ms\tremaining: 267ms\n",
      "755:\tlearn: 0.0776352\ttotal: 823ms\tremaining: 266ms\n",
      "756:\tlearn: 0.0775659\ttotal: 824ms\tremaining: 264ms\n",
      "757:\tlearn: 0.0774523\ttotal: 825ms\tremaining: 263ms\n",
      "758:\tlearn: 0.0773805\ttotal: 826ms\tremaining: 262ms\n",
      "759:\tlearn: 0.0772184\ttotal: 827ms\tremaining: 261ms\n",
      "760:\tlearn: 0.0771154\ttotal: 828ms\tremaining: 260ms\n",
      "761:\tlearn: 0.0770673\ttotal: 829ms\tremaining: 259ms\n",
      "762:\tlearn: 0.0769479\ttotal: 830ms\tremaining: 258ms\n",
      "763:\tlearn: 0.0767804\ttotal: 831ms\tremaining: 257ms\n",
      "764:\tlearn: 0.0766873\ttotal: 832ms\tremaining: 256ms\n",
      "765:\tlearn: 0.0765213\ttotal: 833ms\tremaining: 255ms\n",
      "766:\tlearn: 0.0765077\ttotal: 834ms\tremaining: 253ms\n",
      "767:\tlearn: 0.0763940\ttotal: 835ms\tremaining: 252ms\n",
      "768:\tlearn: 0.0763126\ttotal: 837ms\tremaining: 251ms\n",
      "769:\tlearn: 0.0762210\ttotal: 838ms\tremaining: 250ms\n",
      "770:\tlearn: 0.0761228\ttotal: 839ms\tremaining: 249ms\n",
      "771:\tlearn: 0.0759898\ttotal: 840ms\tremaining: 248ms\n",
      "772:\tlearn: 0.0758484\ttotal: 841ms\tremaining: 247ms\n",
      "773:\tlearn: 0.0756452\ttotal: 842ms\tremaining: 246ms\n",
      "774:\tlearn: 0.0754655\ttotal: 843ms\tremaining: 245ms\n",
      "775:\tlearn: 0.0754415\ttotal: 844ms\tremaining: 244ms\n",
      "776:\tlearn: 0.0752636\ttotal: 845ms\tremaining: 243ms\n",
      "777:\tlearn: 0.0752426\ttotal: 846ms\tremaining: 241ms\n",
      "778:\tlearn: 0.0752163\ttotal: 847ms\tremaining: 240ms\n",
      "779:\tlearn: 0.0751298\ttotal: 849ms\tremaining: 239ms\n",
      "780:\tlearn: 0.0750101\ttotal: 850ms\tremaining: 238ms\n",
      "781:\tlearn: 0.0748898\ttotal: 851ms\tremaining: 237ms\n",
      "782:\tlearn: 0.0748035\ttotal: 852ms\tremaining: 236ms\n",
      "783:\tlearn: 0.0746799\ttotal: 853ms\tremaining: 235ms\n",
      "784:\tlearn: 0.0745591\ttotal: 854ms\tremaining: 234ms\n",
      "785:\tlearn: 0.0745002\ttotal: 855ms\tremaining: 233ms\n",
      "786:\tlearn: 0.0744890\ttotal: 856ms\tremaining: 232ms\n",
      "787:\tlearn: 0.0743728\ttotal: 858ms\tremaining: 231ms\n",
      "788:\tlearn: 0.0742847\ttotal: 859ms\tremaining: 230ms\n",
      "789:\tlearn: 0.0741314\ttotal: 860ms\tremaining: 229ms\n",
      "790:\tlearn: 0.0741078\ttotal: 861ms\tremaining: 227ms\n",
      "791:\tlearn: 0.0739451\ttotal: 862ms\tremaining: 226ms\n",
      "792:\tlearn: 0.0737657\ttotal: 863ms\tremaining: 225ms\n",
      "793:\tlearn: 0.0737170\ttotal: 864ms\tremaining: 224ms\n",
      "794:\tlearn: 0.0735924\ttotal: 865ms\tremaining: 223ms\n",
      "795:\tlearn: 0.0734869\ttotal: 866ms\tremaining: 222ms\n",
      "796:\tlearn: 0.0733918\ttotal: 867ms\tremaining: 221ms\n",
      "797:\tlearn: 0.0732699\ttotal: 868ms\tremaining: 220ms\n",
      "798:\tlearn: 0.0731110\ttotal: 870ms\tremaining: 219ms\n",
      "799:\tlearn: 0.0730391\ttotal: 871ms\tremaining: 218ms\n",
      "800:\tlearn: 0.0728994\ttotal: 872ms\tremaining: 217ms\n",
      "801:\tlearn: 0.0728333\ttotal: 873ms\tremaining: 215ms\n",
      "802:\tlearn: 0.0728140\ttotal: 874ms\tremaining: 214ms\n",
      "803:\tlearn: 0.0726496\ttotal: 875ms\tremaining: 213ms\n",
      "804:\tlearn: 0.0726279\ttotal: 876ms\tremaining: 212ms\n",
      "805:\tlearn: 0.0725822\ttotal: 877ms\tremaining: 211ms\n",
      "806:\tlearn: 0.0725056\ttotal: 878ms\tremaining: 210ms\n",
      "807:\tlearn: 0.0724023\ttotal: 880ms\tremaining: 209ms\n",
      "808:\tlearn: 0.0722089\ttotal: 881ms\tremaining: 208ms\n",
      "809:\tlearn: 0.0721040\ttotal: 882ms\tremaining: 207ms\n",
      "810:\tlearn: 0.0720084\ttotal: 883ms\tremaining: 206ms\n",
      "811:\tlearn: 0.0718819\ttotal: 884ms\tremaining: 205ms\n",
      "812:\tlearn: 0.0718486\ttotal: 885ms\tremaining: 204ms\n",
      "813:\tlearn: 0.0718052\ttotal: 886ms\tremaining: 203ms\n",
      "814:\tlearn: 0.0717866\ttotal: 887ms\tremaining: 201ms\n",
      "815:\tlearn: 0.0716673\ttotal: 888ms\tremaining: 200ms\n",
      "816:\tlearn: 0.0715682\ttotal: 890ms\tremaining: 199ms\n",
      "817:\tlearn: 0.0714735\ttotal: 891ms\tremaining: 198ms\n",
      "818:\tlearn: 0.0713675\ttotal: 892ms\tremaining: 197ms\n",
      "819:\tlearn: 0.0711450\ttotal: 893ms\tremaining: 196ms\n",
      "820:\tlearn: 0.0710541\ttotal: 894ms\tremaining: 195ms\n",
      "821:\tlearn: 0.0708846\ttotal: 895ms\tremaining: 194ms\n",
      "822:\tlearn: 0.0708140\ttotal: 896ms\tremaining: 193ms\n",
      "823:\tlearn: 0.0706167\ttotal: 897ms\tremaining: 192ms\n",
      "824:\tlearn: 0.0704470\ttotal: 898ms\tremaining: 191ms\n",
      "825:\tlearn: 0.0703389\ttotal: 899ms\tremaining: 189ms\n",
      "826:\tlearn: 0.0701853\ttotal: 901ms\tremaining: 188ms\n",
      "827:\tlearn: 0.0700939\ttotal: 902ms\tremaining: 187ms\n",
      "828:\tlearn: 0.0700264\ttotal: 903ms\tremaining: 186ms\n",
      "829:\tlearn: 0.0699148\ttotal: 904ms\tremaining: 185ms\n",
      "830:\tlearn: 0.0698884\ttotal: 905ms\tremaining: 184ms\n",
      "831:\tlearn: 0.0697882\ttotal: 906ms\tremaining: 183ms\n",
      "832:\tlearn: 0.0696721\ttotal: 907ms\tremaining: 182ms\n",
      "833:\tlearn: 0.0696059\ttotal: 908ms\tremaining: 181ms\n",
      "834:\tlearn: 0.0694666\ttotal: 909ms\tremaining: 180ms\n",
      "835:\tlearn: 0.0692612\ttotal: 910ms\tremaining: 179ms\n",
      "836:\tlearn: 0.0692176\ttotal: 911ms\tremaining: 177ms\n",
      "837:\tlearn: 0.0691847\ttotal: 912ms\tremaining: 176ms\n",
      "838:\tlearn: 0.0691099\ttotal: 913ms\tremaining: 175ms\n",
      "839:\tlearn: 0.0690611\ttotal: 914ms\tremaining: 174ms\n",
      "840:\tlearn: 0.0690018\ttotal: 915ms\tremaining: 173ms\n",
      "841:\tlearn: 0.0689162\ttotal: 916ms\tremaining: 172ms\n",
      "842:\tlearn: 0.0688181\ttotal: 917ms\tremaining: 171ms\n",
      "843:\tlearn: 0.0687379\ttotal: 918ms\tremaining: 170ms\n",
      "844:\tlearn: 0.0686066\ttotal: 919ms\tremaining: 169ms\n",
      "845:\tlearn: 0.0684984\ttotal: 920ms\tremaining: 167ms\n",
      "846:\tlearn: 0.0684611\ttotal: 921ms\tremaining: 166ms\n",
      "847:\tlearn: 0.0684482\ttotal: 922ms\tremaining: 165ms\n",
      "848:\tlearn: 0.0683307\ttotal: 923ms\tremaining: 164ms\n",
      "849:\tlearn: 0.0682197\ttotal: 924ms\tremaining: 163ms\n",
      "850:\tlearn: 0.0681006\ttotal: 925ms\tremaining: 162ms\n",
      "851:\tlearn: 0.0680256\ttotal: 926ms\tremaining: 161ms\n",
      "852:\tlearn: 0.0679717\ttotal: 927ms\tremaining: 160ms\n",
      "853:\tlearn: 0.0678608\ttotal: 928ms\tremaining: 159ms\n",
      "854:\tlearn: 0.0678412\ttotal: 929ms\tremaining: 158ms\n",
      "855:\tlearn: 0.0677352\ttotal: 930ms\tremaining: 156ms\n",
      "856:\tlearn: 0.0676244\ttotal: 931ms\tremaining: 155ms\n",
      "857:\tlearn: 0.0675305\ttotal: 932ms\tremaining: 154ms\n",
      "858:\tlearn: 0.0674571\ttotal: 933ms\tremaining: 153ms\n",
      "859:\tlearn: 0.0673908\ttotal: 934ms\tremaining: 152ms\n",
      "860:\tlearn: 0.0672753\ttotal: 935ms\tremaining: 151ms\n",
      "861:\tlearn: 0.0671662\ttotal: 937ms\tremaining: 150ms\n",
      "862:\tlearn: 0.0670321\ttotal: 938ms\tremaining: 149ms\n",
      "863:\tlearn: 0.0669792\ttotal: 939ms\tremaining: 148ms\n",
      "864:\tlearn: 0.0668807\ttotal: 940ms\tremaining: 147ms\n",
      "865:\tlearn: 0.0667986\ttotal: 941ms\tremaining: 146ms\n"
     ]
    },
    {
     "name": "stdout",
     "output_type": "stream",
     "text": [
      "866:\tlearn: 0.0666748\ttotal: 942ms\tremaining: 144ms\n",
      "867:\tlearn: 0.0666221\ttotal: 943ms\tremaining: 143ms\n",
      "868:\tlearn: 0.0664803\ttotal: 944ms\tremaining: 142ms\n",
      "869:\tlearn: 0.0663805\ttotal: 945ms\tremaining: 141ms\n",
      "870:\tlearn: 0.0663008\ttotal: 946ms\tremaining: 140ms\n",
      "871:\tlearn: 0.0661862\ttotal: 947ms\tremaining: 139ms\n",
      "872:\tlearn: 0.0660918\ttotal: 948ms\tremaining: 138ms\n",
      "873:\tlearn: 0.0660243\ttotal: 950ms\tremaining: 137ms\n",
      "874:\tlearn: 0.0659177\ttotal: 951ms\tremaining: 136ms\n",
      "875:\tlearn: 0.0658551\ttotal: 952ms\tremaining: 135ms\n",
      "876:\tlearn: 0.0657343\ttotal: 953ms\tremaining: 134ms\n",
      "877:\tlearn: 0.0656457\ttotal: 954ms\tremaining: 133ms\n",
      "878:\tlearn: 0.0655120\ttotal: 955ms\tremaining: 131ms\n",
      "879:\tlearn: 0.0654836\ttotal: 956ms\tremaining: 130ms\n",
      "880:\tlearn: 0.0653970\ttotal: 957ms\tremaining: 129ms\n",
      "881:\tlearn: 0.0652986\ttotal: 958ms\tremaining: 128ms\n",
      "882:\tlearn: 0.0652613\ttotal: 959ms\tremaining: 127ms\n",
      "883:\tlearn: 0.0651862\ttotal: 960ms\tremaining: 126ms\n",
      "884:\tlearn: 0.0651579\ttotal: 961ms\tremaining: 125ms\n",
      "885:\tlearn: 0.0650607\ttotal: 962ms\tremaining: 124ms\n",
      "886:\tlearn: 0.0649096\ttotal: 963ms\tremaining: 123ms\n",
      "887:\tlearn: 0.0648557\ttotal: 964ms\tremaining: 122ms\n",
      "888:\tlearn: 0.0647286\ttotal: 965ms\tremaining: 120ms\n",
      "889:\tlearn: 0.0645830\ttotal: 966ms\tremaining: 119ms\n",
      "890:\tlearn: 0.0645645\ttotal: 967ms\tremaining: 118ms\n",
      "891:\tlearn: 0.0644948\ttotal: 968ms\tremaining: 117ms\n",
      "892:\tlearn: 0.0643790\ttotal: 969ms\tremaining: 116ms\n",
      "893:\tlearn: 0.0643054\ttotal: 970ms\tremaining: 115ms\n",
      "894:\tlearn: 0.0642965\ttotal: 971ms\tremaining: 114ms\n",
      "895:\tlearn: 0.0642548\ttotal: 972ms\tremaining: 113ms\n",
      "896:\tlearn: 0.0641518\ttotal: 973ms\tremaining: 112ms\n",
      "897:\tlearn: 0.0640854\ttotal: 974ms\tremaining: 111ms\n",
      "898:\tlearn: 0.0639587\ttotal: 975ms\tremaining: 109ms\n",
      "899:\tlearn: 0.0639004\ttotal: 976ms\tremaining: 108ms\n",
      "900:\tlearn: 0.0638028\ttotal: 977ms\tremaining: 107ms\n",
      "901:\tlearn: 0.0637236\ttotal: 978ms\tremaining: 106ms\n",
      "902:\tlearn: 0.0636654\ttotal: 979ms\tremaining: 105ms\n",
      "903:\tlearn: 0.0635363\ttotal: 980ms\tremaining: 104ms\n",
      "904:\tlearn: 0.0634100\ttotal: 981ms\tremaining: 103ms\n",
      "905:\tlearn: 0.0633052\ttotal: 982ms\tremaining: 102ms\n",
      "906:\tlearn: 0.0632408\ttotal: 983ms\tremaining: 101ms\n",
      "907:\tlearn: 0.0631089\ttotal: 984ms\tremaining: 99.7ms\n",
      "908:\tlearn: 0.0629968\ttotal: 985ms\tremaining: 98.6ms\n",
      "909:\tlearn: 0.0629240\ttotal: 986ms\tremaining: 97.5ms\n",
      "910:\tlearn: 0.0628416\ttotal: 987ms\tremaining: 96.4ms\n",
      "911:\tlearn: 0.0627709\ttotal: 988ms\tremaining: 95.3ms\n",
      "912:\tlearn: 0.0627238\ttotal: 989ms\tremaining: 94.3ms\n",
      "913:\tlearn: 0.0626451\ttotal: 990ms\tremaining: 93.2ms\n",
      "914:\tlearn: 0.0625653\ttotal: 991ms\tremaining: 92.1ms\n",
      "915:\tlearn: 0.0624249\ttotal: 992ms\tremaining: 91ms\n",
      "916:\tlearn: 0.0623708\ttotal: 993ms\tremaining: 89.9ms\n",
      "917:\tlearn: 0.0622760\ttotal: 994ms\tremaining: 88.8ms\n",
      "918:\tlearn: 0.0621862\ttotal: 995ms\tremaining: 87.7ms\n",
      "919:\tlearn: 0.0621679\ttotal: 996ms\tremaining: 86.6ms\n",
      "920:\tlearn: 0.0621323\ttotal: 997ms\tremaining: 85.5ms\n",
      "921:\tlearn: 0.0620387\ttotal: 998ms\tremaining: 84.4ms\n",
      "922:\tlearn: 0.0619704\ttotal: 999ms\tremaining: 83.4ms\n",
      "923:\tlearn: 0.0619616\ttotal: 1s\tremaining: 82.3ms\n",
      "924:\tlearn: 0.0618438\ttotal: 1s\tremaining: 81.2ms\n",
      "925:\tlearn: 0.0617102\ttotal: 1s\tremaining: 80.1ms\n",
      "926:\tlearn: 0.0616071\ttotal: 1s\tremaining: 79ms\n",
      "927:\tlearn: 0.0615760\ttotal: 1s\tremaining: 77.9ms\n",
      "928:\tlearn: 0.0614351\ttotal: 1s\tremaining: 76.8ms\n",
      "929:\tlearn: 0.0613803\ttotal: 1.01s\tremaining: 75.7ms\n",
      "930:\tlearn: 0.0612599\ttotal: 1.01s\tremaining: 74.7ms\n",
      "931:\tlearn: 0.0611244\ttotal: 1.01s\tremaining: 73.6ms\n",
      "932:\tlearn: 0.0609981\ttotal: 1.01s\tremaining: 72.5ms\n",
      "933:\tlearn: 0.0608886\ttotal: 1.01s\tremaining: 71.4ms\n",
      "934:\tlearn: 0.0608254\ttotal: 1.01s\tremaining: 70.3ms\n",
      "935:\tlearn: 0.0607490\ttotal: 1.01s\tremaining: 69.2ms\n",
      "936:\tlearn: 0.0606055\ttotal: 1.01s\tremaining: 68.1ms\n",
      "937:\tlearn: 0.0605163\ttotal: 1.01s\tremaining: 67.1ms\n",
      "938:\tlearn: 0.0603991\ttotal: 1.01s\tremaining: 66ms\n",
      "939:\tlearn: 0.0602870\ttotal: 1.02s\tremaining: 64.9ms\n",
      "940:\tlearn: 0.0601978\ttotal: 1.02s\tremaining: 63.8ms\n",
      "941:\tlearn: 0.0601361\ttotal: 1.02s\tremaining: 62.7ms\n",
      "942:\tlearn: 0.0601117\ttotal: 1.02s\tremaining: 61.6ms\n",
      "943:\tlearn: 0.0600207\ttotal: 1.02s\tremaining: 60.5ms\n",
      "944:\tlearn: 0.0599638\ttotal: 1.02s\tremaining: 59.5ms\n",
      "945:\tlearn: 0.0598663\ttotal: 1.02s\tremaining: 58.4ms\n",
      "946:\tlearn: 0.0598000\ttotal: 1.02s\tremaining: 57.3ms\n",
      "947:\tlearn: 0.0597157\ttotal: 1.02s\tremaining: 56.2ms\n",
      "948:\tlearn: 0.0596309\ttotal: 1.02s\tremaining: 55.1ms\n",
      "949:\tlearn: 0.0595542\ttotal: 1.03s\tremaining: 54ms\n",
      "950:\tlearn: 0.0595401\ttotal: 1.03s\tremaining: 53ms\n",
      "951:\tlearn: 0.0594957\ttotal: 1.03s\tremaining: 51.9ms\n",
      "952:\tlearn: 0.0594355\ttotal: 1.03s\tremaining: 50.8ms\n",
      "953:\tlearn: 0.0593984\ttotal: 1.03s\tremaining: 49.7ms\n",
      "954:\tlearn: 0.0593095\ttotal: 1.03s\tremaining: 48.6ms\n",
      "955:\tlearn: 0.0592488\ttotal: 1.03s\tremaining: 47.5ms\n",
      "956:\tlearn: 0.0591859\ttotal: 1.03s\tremaining: 46.4ms\n",
      "957:\tlearn: 0.0590471\ttotal: 1.03s\tremaining: 45.4ms\n",
      "958:\tlearn: 0.0589138\ttotal: 1.03s\tremaining: 44.3ms\n",
      "959:\tlearn: 0.0588253\ttotal: 1.04s\tremaining: 43.2ms\n",
      "960:\tlearn: 0.0587274\ttotal: 1.04s\tremaining: 42.1ms\n",
      "961:\tlearn: 0.0587134\ttotal: 1.04s\tremaining: 41ms\n",
      "962:\tlearn: 0.0586673\ttotal: 1.04s\tremaining: 39.9ms\n",
      "963:\tlearn: 0.0586563\ttotal: 1.04s\tremaining: 38.9ms\n",
      "964:\tlearn: 0.0585783\ttotal: 1.04s\tremaining: 37.8ms\n",
      "965:\tlearn: 0.0585631\ttotal: 1.04s\tremaining: 36.7ms\n",
      "966:\tlearn: 0.0583990\ttotal: 1.04s\tremaining: 35.6ms\n",
      "967:\tlearn: 0.0583398\ttotal: 1.04s\tremaining: 34.5ms\n",
      "968:\tlearn: 0.0582739\ttotal: 1.04s\tremaining: 33.5ms\n",
      "969:\tlearn: 0.0581695\ttotal: 1.05s\tremaining: 32.4ms\n",
      "970:\tlearn: 0.0581467\ttotal: 1.05s\tremaining: 31.3ms\n",
      "971:\tlearn: 0.0580671\ttotal: 1.05s\tremaining: 30.2ms\n",
      "972:\tlearn: 0.0580032\ttotal: 1.05s\tremaining: 29.1ms\n",
      "973:\tlearn: 0.0579434\ttotal: 1.05s\tremaining: 28.1ms\n",
      "974:\tlearn: 0.0578987\ttotal: 1.05s\tremaining: 27ms\n",
      "975:\tlearn: 0.0578909\ttotal: 1.05s\tremaining: 25.9ms\n",
      "976:\tlearn: 0.0578232\ttotal: 1.05s\tremaining: 24.8ms\n",
      "977:\tlearn: 0.0577480\ttotal: 1.05s\tremaining: 23.7ms\n",
      "978:\tlearn: 0.0576339\ttotal: 1.05s\tremaining: 22.7ms\n",
      "979:\tlearn: 0.0575724\ttotal: 1.06s\tremaining: 21.6ms\n",
      "980:\tlearn: 0.0575297\ttotal: 1.06s\tremaining: 20.5ms\n",
      "981:\tlearn: 0.0574634\ttotal: 1.06s\tremaining: 19.4ms\n",
      "982:\tlearn: 0.0573686\ttotal: 1.06s\tremaining: 18.3ms\n",
      "983:\tlearn: 0.0573641\ttotal: 1.06s\tremaining: 17.2ms\n",
      "984:\tlearn: 0.0572966\ttotal: 1.06s\tremaining: 16.2ms\n",
      "985:\tlearn: 0.0571551\ttotal: 1.06s\tremaining: 15.1ms\n",
      "986:\tlearn: 0.0571285\ttotal: 1.06s\tremaining: 14ms\n",
      "987:\tlearn: 0.0570715\ttotal: 1.06s\tremaining: 12.9ms\n",
      "988:\tlearn: 0.0569552\ttotal: 1.06s\tremaining: 11.9ms\n",
      "989:\tlearn: 0.0568743\ttotal: 1.07s\tremaining: 10.8ms\n",
      "990:\tlearn: 0.0567301\ttotal: 1.07s\tremaining: 9.7ms\n",
      "991:\tlearn: 0.0566850\ttotal: 1.07s\tremaining: 8.62ms\n",
      "992:\tlearn: 0.0566806\ttotal: 1.07s\tremaining: 7.54ms\n",
      "993:\tlearn: 0.0566727\ttotal: 1.07s\tremaining: 6.46ms\n",
      "994:\tlearn: 0.0565606\ttotal: 1.07s\tremaining: 5.39ms\n",
      "995:\tlearn: 0.0564758\ttotal: 1.07s\tremaining: 4.31ms\n",
      "996:\tlearn: 0.0563804\ttotal: 1.07s\tremaining: 3.23ms\n"
     ]
    },
    {
     "name": "stdout",
     "output_type": "stream",
     "text": [
      "997:\tlearn: 0.0562209\ttotal: 1.07s\tremaining: 2.15ms\n",
      "998:\tlearn: 0.0561343\ttotal: 1.08s\tremaining: 1.08ms\n",
      "999:\tlearn: 0.0560466\ttotal: 1.08s\tremaining: 0us\n"
     ]
    },
    {
     "data": {
      "text/plain": [
       "<catboost.core.CatBoostRegressor at 0x7f4e32926450>"
      ]
     },
     "execution_count": 9,
     "metadata": {},
     "output_type": "execute_result"
    }
   ],
   "source": [
    "#Train the Model \n",
    "prior_model = ctb.CatBoostRegressor()\n",
    "prior_model.fit(X_train,Y_train)"
   ]
  },
  {
   "cell_type": "code",
   "execution_count": 10,
   "id": "c775fd81",
   "metadata": {
    "execution": {
     "iopub.execute_input": "2022-01-15T12:38:05.700625Z",
     "iopub.status.busy": "2022-01-15T12:38:05.699913Z",
     "iopub.status.idle": "2022-01-15T12:38:05.715121Z",
     "shell.execute_reply": "2022-01-15T12:38:05.714584Z"
    },
    "papermill": {
     "duration": 0.076936,
     "end_time": "2022-01-15T12:38:05.715275",
     "exception": false,
     "start_time": "2022-01-15T12:38:05.638339",
     "status": "completed"
    },
    "tags": []
   },
   "outputs": [
    {
     "data": {
      "application/scrapbook.scrap.json+json": {
       "data": 0.07861876724781587,
       "encoder": "json",
       "name": "Prior Model MSE",
       "version": 1
      }
     },
     "metadata": {
      "scrapbook": {
       "data": true,
       "display": false,
       "name": "Prior Model MSE"
      }
     },
     "output_type": "display_data"
    },
    {
     "data": {
      "application/scrapbook.scrap.json+json": {
       "data": 0.08873052561659359,
       "encoder": "json",
       "name": "ABC Pre-generator MSE",
       "version": 1
      }
     },
     "metadata": {
      "scrapbook": {
       "data": true,
       "display": false,
       "name": "ABC Pre-generator MSE"
      }
     },
     "output_type": "display_data"
    }
   ],
   "source": [
    "y_pred = prior_model.predict(X_test)\n",
    "y_abc = y_pred + np.random.normal(0,variance, y_pred.shape)\n",
    "mse = mean_squared_error(y_pred,Y_test)\n",
    "sb.glue(\"Prior Model MSE\",mse)\n",
    "mse = mean_squared_error(y_abc,Y_test)\n",
    "sb.glue(\"ABC Pre-generator MSE\",mse)"
   ]
  },
  {
   "cell_type": "markdown",
   "id": "0cd0def6",
   "metadata": {
    "papermill": {
     "duration": 0.033199,
     "end_time": "2022-01-15T12:38:05.784628",
     "exception": false,
     "start_time": "2022-01-15T12:38:05.751429",
     "status": "completed"
    },
    "tags": []
   },
   "source": [
    "# ABC GAN Model"
   ]
  },
  {
   "cell_type": "markdown",
   "id": "70beaf4c",
   "metadata": {
    "papermill": {
     "duration": 0.030927,
     "end_time": "2022-01-15T12:38:05.847630",
     "exception": false,
     "start_time": "2022-01-15T12:38:05.816703",
     "status": "completed"
    },
    "tags": []
   },
   "source": [
    "### Training the network\n",
    "**Training ABC-GAN for n_epochs number of epochs** "
   ]
  },
  {
   "cell_type": "code",
   "execution_count": 11,
   "id": "dbaaafa1",
   "metadata": {
    "execution": {
     "iopub.execute_input": "2022-01-15T12:38:05.920353Z",
     "iopub.status.busy": "2022-01-15T12:38:05.919678Z",
     "iopub.status.idle": "2022-01-15T12:38:09.084359Z",
     "shell.execute_reply": "2022-01-15T12:38:09.083774Z"
    },
    "papermill": {
     "duration": 3.20445,
     "end_time": "2022-01-15T12:38:09.084518",
     "exception": false,
     "start_time": "2022-01-15T12:38:05.880068",
     "status": "completed"
    },
    "tags": []
   },
   "outputs": [],
   "source": [
    "gen = network.Generator(n_features+1).to(device)\n",
    "disc = network.Discriminator(n_features+1).to(device)\n",
    "\n",
    "criterion = torch.nn.BCELoss()\n",
    "gen_opt = torch.optim.Adam(gen.parameters(), lr=0.001, betas=(0.5, 0.999))\n",
    "disc_opt = torch.optim.Adam(disc.parameters(), lr=0.01, betas=(0.5, 0.999))"
   ]
  },
  {
   "cell_type": "code",
   "execution_count": 12,
   "id": "6e9eeab8",
   "metadata": {
    "execution": {
     "iopub.execute_input": "2022-01-15T12:38:09.154672Z",
     "iopub.status.busy": "2022-01-15T12:38:09.154019Z",
     "iopub.status.idle": "2022-01-15T12:43:37.359688Z",
     "shell.execute_reply": "2022-01-15T12:43:37.360270Z"
    },
    "papermill": {
     "duration": 328.243343,
     "end_time": "2022-01-15T12:43:37.360496",
     "exception": false,
     "start_time": "2022-01-15T12:38:09.117153",
     "status": "completed"
    },
    "tags": []
   },
   "outputs": [
    {
     "data": {
      "image/png": "[encoded data removed]",
      "text/plain": [
       "<Figure size 432x288 with 1 Axes>"
      ]
     },
     "metadata": {
      "needs_background": "light"
     },
     "output_type": "display_data"
    },
    {
     "data": {
      "image/png": "[encoded data removed]",
      "text/plain": [
       "<Figure size 432x288 with 1 Axes>"
      ]
     },
     "metadata": {
      "needs_background": "light"
     },
     "output_type": "display_data"
    }
   ],
   "source": [
    "#Training the ABC_GAN \n",
    "ABC_train_test2.training_GAN(disc,gen,disc_opt,gen_opt,train_data,batch_size,n_epochs,criterion,prior_model,variance,device)"
   ]
  },
  {
   "cell_type": "code",
   "execution_count": 13,
   "id": "11c3082e",
   "metadata": {
    "execution": {
     "iopub.execute_input": "2022-01-15T12:43:37.432654Z",
     "iopub.status.busy": "2022-01-15T12:43:37.432024Z",
     "iopub.status.idle": "2022-01-15T12:43:37.843699Z",
     "shell.execute_reply": "2022-01-15T12:43:37.844164Z"
    },
    "papermill": {
     "duration": 0.449782,
     "end_time": "2022-01-15T12:43:37.844361",
     "exception": false,
     "start_time": "2022-01-15T12:43:37.394579",
     "status": "completed"
    },
    "tags": []
   },
   "outputs": [
    {
     "data": {
      "application/scrapbook.scrap.json+json": {
       "data": 0.16360432325246665,
       "encoder": "json",
       "name": "ABC-GAN Model 1 MSE",
       "version": 1
      }
     },
     "metadata": {
      "scrapbook": {
       "data": true,
       "display": false,
       "name": "ABC-GAN Model 1 MSE"
      }
     },
     "output_type": "display_data"
    },
    {
     "data": {
      "application/scrapbook.scrap.json+json": {
       "data": 0.28440525681848694,
       "encoder": "json",
       "name": "ABC-GAN Model 1 MAE",
       "version": 1
      }
     },
     "metadata": {
      "scrapbook": {
       "data": true,
       "display": false,
       "name": "ABC-GAN Model 1 MAE"
      }
     },
     "output_type": "display_data"
    },
    {
     "data": {
      "application/scrapbook.scrap.json+json": {
       "data": 29.009336195485666,
       "encoder": "json",
       "name": "ABC-GAN Model 1 Manhattan Distance",
       "version": 1
      }
     },
     "metadata": {
      "scrapbook": {
       "data": true,
       "display": false,
       "name": "ABC-GAN Model 1 Manhattan Distance"
      }
     },
     "output_type": "display_data"
    },
    {
     "data": {
      "application/scrapbook.scrap.json+json": {
       "data": 4.083892314032964,
       "encoder": "json",
       "name": "ABC-GAN Model 1 Euclidean distance",
       "version": 1
      }
     },
     "metadata": {
      "scrapbook": {
       "data": true,
       "display": false,
       "name": "ABC-GAN Model 1 Euclidean distance"
      }
     },
     "output_type": "display_data"
    },
    {
     "data": {
      "application/scrapbook.scrap.json+json": {
       "data": [
        [
         0.1569373184577689,
         0.17229023048531047,
         0.16649040117274702,
         0.16454903469864568,
         0.17103900373613518,
         0.15679396641510923,
         0.1551125197570671,
         0.1648119744616101,
         0.15753120410973379,
         0.15870026137764842,
         0.152110836045507,
         0.15692703213823672,
         0.16517625180547482,
         0.16895428817994262,
         0.1678125047641944,
         0.16526871332274257,
         0.14804567435254015,
         0.16739345043448572,
         0.16708450407760725,
         0.16027093038580076,
         0.16127271423887768,
         0.17864848047940446,
         0.15902661143801197,
         0.1700681979885548,
         0.16599015859550423,
         0.15508944692229776,
         0.1781400484914826,
         0.17637184495927832,
         0.15336435910873827,
         0.16353638427214084,
         0.16840721313065027,
         0.15195983155420606,
         0.16855899849011646,
         0.16219608129578506,
         0.16018558962136006,
         0.1742477289184216,
         0.15979649649619657,
         0.15702132991725673,
         0.1557820870887238,
         0.16972822840022816,
         0.1727479069658516,
         0.15966572938632187,
         0.1680051718556946,
         0.16646227708992684,
         0.1623635659271252,
         0.1529875942272702,
         0.1566077110119349,
         0.16868167718742277,
         0.16623892257056774,
         0.16525558706308638,
         0.1719116350740096,
         0.14881336965577227,
         0.15120861054514217,
         0.15936715734132714,
         0.16783478934822516,
         0.18095326774448017,
         0.16601256270753817,
         0.15419461396865655,
         0.1452228039130325,
         0.17597030447186005,
         0.1617184617086891,
         0.15098425800291868,
         0.1515883667637321,
         0.17155012882030823,
         0.16370848754295575,
         0.16102093621320449,
         0.16040413949702662,
         0.17289856485127295,
         0.16235230919287091,
         0.16135969629104466,
         0.17155576268675368,
         0.17376724025505738,
         0.16355778876448498,
         0.1620016895186157,
         0.154989431721405,
         0.17052527639507611,
         0.15852497315932382,
         0.1737523940938067,
         0.18239148164437488,
         0.15921953259569355,
         0.16338026553415458,
         0.16436757315601688,
         0.1671072603939808,
         0.16976396363240742,
         0.15939344405254027,
         0.16325968595356308,
         0.16137335070701242,
         0.1580907330159428,
         0.15435862611162196,
         0.1637538556024105,
         0.15816672169688192,
         0.17226517954444054,
         0.1720878628406238,
         0.1643828573778426,
         0.1586423868203997,
         0.17869355628794822,
         0.17051221886701332,
         0.14853304451111285,
         0.16827086625592702,
         0.1629607635254189
        ],
        [
         0.27479205308847277,
         0.2879467972134258,
         0.28979600464706035,
         0.2833492317346527,
         0.2845238879341267,
         0.2756312428517084,
         0.2740228417712976,
         0.28391659889808474,
         0.27444586523023307,
         0.28111526931581254,
         0.2702296557562316,
         0.2870838513743936,
         0.2844989724530309,
         0.2936788316377822,
         0.284125085080079,
         0.28256005717112737,
         0.2719882693799103,
         0.28232415421299784,
         0.2833663643264741,
         0.2862318015986067,
         0.29083589421512157,
         0.2946068837270871,
         0.2755448582089123,
         0.29587523364370655,
         0.29137065530955497,
         0.2793796852358854,
         0.29647183688540085,
         0.2968791378205459,
         0.2719177874353002,
         0.29139765004134355,
         0.287936317268759,
         0.26749572296645124,
         0.2885716887757036,
         0.28327405481946233,
         0.2815663882476442,
         0.2912396919530104,
         0.2759601442033754,
         0.28459733574852053,
         0.2758364204919952,
         0.2895044493580274,
         0.2884593427765603,
         0.2793643798076493,
         0.2818516813967304,
         0.2827131006154506,
         0.2867159847918825,
         0.27315261745460184,
         0.28352497695196494,
         0.2893009791424608,
         0.27918125932817073,
         0.27237406626855043,
         0.29438852493231205,
         0.2666576360626256,
         0.2787780963322696,
         0.28135150248257845,
         0.28879550281985134,
         0.2991403728066122,
         0.2847676333587836,
         0.26770659475861225,
         0.2735283198748149,
         0.29196875487618584,
         0.28881591021576347,
         0.2726960013182286,
         0.2822767087696668,
         0.290245194526791,
         0.2819782830135641,
         0.27626808003212017,
         0.2811754867525808,
         0.30368834964967534,
         0.29346735769992366,
         0.28354899377069054,
         0.30021206577144127,
         0.29496970930702837,
         0.275691330122451,
         0.2866515212181006,
         0.2780955070812328,
         0.29365282625361694,
         0.28460703391180026,
         0.29066343098769293,
         0.3109797904103556,
         0.28282615856504906,
         0.2848907371562924,
         0.28609261704681843,
         0.2882637439715658,
         0.2921703937737381,
         0.2822849299831718,
         0.2920218420434086,
         0.2829413600996429,
         0.28076191425469577,
         0.2708740862561207,
         0.27972724124350967,
         0.2790425057504691,
         0.2803541718178666,
         0.29306863472048267,
         0.29121755491759554,
         0.2731751379575215,
         0.29271324212644617,
         0.29462596387876305,
         0.27460648236321467,
         0.28832393580609383,
         0.2912494484335184
        ],
        [
         28.02878941502422,
         29.370573315769434,
         29.559192474000156,
         28.90162163693458,
         29.021436569280922,
         28.114386770874262,
         27.950329860672355,
         28.959493087604642,
         27.993478253483772,
         28.673757470212877,
         27.563424887135625,
         29.282552840188146,
         29.01889519020915,
         29.955240827053785,
         28.98075867816806,
         28.821125831454992,
         27.74280347675085,
         28.797063729725778,
         28.90336916130036,
         29.195643763057888,
         29.6652612099424,
         30.049902140162885,
         28.10557553730905,
         30.179273831658065,
         29.71980684157461,
         28.496727894060314,
         30.240127362310886,
         30.281672057695687,
         27.73561431840062,
         29.72256030421704,
         29.36950436141342,
         27.28456374257803,
         29.434312255121768,
         28.89395359158516,
         28.71977160125971,
         29.706448579207063,
         28.147934708744287,
         29.028928246349096,
         28.13531489018351,
         29.52945383451879,
         29.422852963209152,
         28.495166740380228,
         28.7488715024665,
         28.836736262775958,
         29.245030448772013,
         27.86156698036939,
         28.919547649100423,
         29.508699872530997,
         28.476488451473415,
         27.782154759392142,
         30.027629543095827,
         27.19907887838781,
         28.435365825891495,
         28.697853253223002,
         29.457141287624836,
         30.512318026274443,
         29.046298602595925,
         27.30607266537845,
         27.89988862723112,
         29.78081299737096,
         29.459222842007875,
         27.814992134459317,
         28.792224294506013,
         29.60500984173268,
         28.76178486738354,
         28.179344163276255,
         28.67989964876324,
         30.976211664266884,
         29.933670485392213,
         28.921997364610434,
         30.621630708687007,
         30.086910349316895,
         28.12051567249,
         29.23845516424626,
         28.365741722285748,
         29.952588277868927,
         29.029917459003627,
         29.64766996074468,
         31.719938621856272,
         28.848268173635006,
         29.058855189941823,
         29.18144693877548,
         29.40290188509971,
         29.801380164921284,
         28.79306285828352,
         29.786227888427675,
         28.860018730163574,
         28.637715253978968,
         27.629156798124313,
         28.532178606837988,
         28.46233558654785,
         28.596125525422394,
         29.89300074148923,
         29.704190601594746,
         27.863864071667194,
         29.856750696897507,
         30.051848315633833,
         28.009861201047897,
         29.409041452221572,
         29.707443740218878
        ],
        [
         4.000950697358369,
         4.192088203926734,
         4.120924765100692,
         4.096828229162391,
         4.176838323551174,
         3.999122975646178,
         3.977622030211122,
         4.100100168908587,
         4.008513791817716,
         4.023360120660359,
         3.9389472294817196,
         4.000819575799457,
         4.104628811982691,
         4.151305504820639,
         4.137254583168387,
         4.105777485315021,
         3.8859566111781394,
         4.132085665171711,
         4.128270753707408,
         4.0432208571078165,
         4.055837379921133,
         4.268740447590981,
         4.02749480032901,
         4.164967730347089,
         4.114729174167047,
         3.9773261855264477,
         4.262661720818486,
         4.241453546350164,
         3.955144071850139,
         4.084202638919666,
         4.144579078667257,
         3.936991594927403,
         4.14644641180757,
         4.067431657959365,
         4.0421442504416785,
         4.2158354272527045,
         4.037232052113434,
         4.002021445664701,
         3.9861977977829723,
         4.160802722651396,
         4.197652499971485,
         4.035579809321681,
         4.1396289120259135,
         4.120576690606853,
         4.069531143088447,
         3.9502828520476294,
         3.996746992645062,
         4.147955047142762,
         4.117811324259272,
         4.1056144339714615,
         4.187479764434567,
         3.8960189559201033,
         3.927248181055597,
         4.031804812836971,
         4.137529276454605,
         4.296188230273084,
         4.115006852505703,
         3.9658354258343804,
         3.8487304399151303,
         4.236622600153302,
         4.061438549859679,
         3.9243336142965344,
         3.9321766758248122,
         4.183074603646394,
         4.086351151012536,
         4.0526701683885955,
         4.044900768708264,
         4.199482541317423,
         4.069390069491105,
         4.056930985571058,
         4.18314329112079,
         4.210018824900413,
         4.084469911013848,
         4.064993521630606,
         3.9760435153030333,
         4.1705608966058465,
         4.021137558235358,
         4.209838975254075,
         4.313227460698802,
         4.029937012505373,
         4.082252697284155,
         4.094568653950464,
         4.128551872047394,
         4.161240715280185,
         4.032137310826493,
         4.080746006217911,
         4.057102632682006,
         4.0156263232061535,
         3.9679440348101487,
         4.086917331124507,
         4.01659129276081,
         4.191783428748787,
         4.1896255214211715,
         4.094759022523784,
         4.022626437500849,
         4.2692789486482035,
         4.170401218640164,
         3.8923476900366323,
         4.142900959243963,
         4.077008447329085
        ]
       ],
       "encoder": "json",
       "name": "ABC_GAN_1 Metrics",
       "version": 1
      }
     },
     "metadata": {
      "scrapbook": {
       "data": true,
       "display": false,
       "name": "ABC_GAN_1 Metrics"
      }
     },
     "output_type": "display_data"
    }
   ],
   "source": [
    "ABC_GAN1_metrics=ABC_train_test2.test_generator(gen,test_data,prior_model,variance,\"1\",device)\n",
    "sb.glue(\"ABC_GAN_1 Metrics\",ABC_GAN1_metrics)"
   ]
  },
  {
   "cell_type": "markdown",
   "id": "394a2b9d",
   "metadata": {
    "papermill": {
     "duration": 0.037057,
     "end_time": "2022-01-15T12:43:37.920617",
     "exception": false,
     "start_time": "2022-01-15T12:43:37.883560",
     "status": "completed"
    },
    "tags": []
   },
   "source": [
    "#### Sanity Checks "
   ]
  },
  {
   "cell_type": "code",
   "execution_count": 14,
   "id": "a36b3b22",
   "metadata": {
    "execution": {
     "iopub.execute_input": "2022-01-15T12:43:38.002856Z",
     "iopub.status.busy": "2022-01-15T12:43:38.002226Z",
     "iopub.status.idle": "2022-01-15T12:43:38.779643Z",
     "shell.execute_reply": "2022-01-15T12:43:38.780135Z"
    },
    "papermill": {
     "duration": 0.821248,
     "end_time": "2022-01-15T12:43:38.780330",
     "exception": false,
     "start_time": "2022-01-15T12:43:37.959082",
     "status": "completed"
    },
    "tags": []
   },
   "outputs": [
    {
     "data": {
      "image/png": "[encoded data removed]",
      "text/plain": [
       "<Figure size 432x288 with 1 Axes>"
      ]
     },
     "metadata": {
      "needs_background": "light"
     },
     "output_type": "display_data"
    },
    {
     "data": {
      "image/png": "[encoded data removed]",
      "text/plain": [
       "<Figure size 432x288 with 1 Axes>"
      ]
     },
     "metadata": {
      "needs_background": "light"
     },
     "output_type": "display_data"
    },
    {
     "data": {
      "image/png": "[encoded data removed]",
      "text/plain": [
       "<Figure size 432x288 with 1 Axes>"
      ]
     },
     "metadata": {
      "needs_background": "light"
     },
     "output_type": "display_data"
    },
    {
     "data": {
      "image/png": "[encoded data removed]",
      "text/plain": [
       "<Figure size 432x288 with 1 Axes>"
      ]
     },
     "metadata": {
      "needs_background": "light"
     },
     "output_type": "display_data"
    }
   ],
   "source": [
    "sanityChecks.discProbVsError(train_data,disc,device)\n",
    "sanityChecks.discProbVsError(test_data,disc,device)"
   ]
  },
  {
   "cell_type": "markdown",
   "id": "130f3a4d",
   "metadata": {
    "papermill": {
     "duration": 0.041575,
     "end_time": "2022-01-15T12:43:38.864402",
     "exception": false,
     "start_time": "2022-01-15T12:43:38.822827",
     "status": "completed"
    },
    "tags": []
   },
   "source": [
    "# ABC - GAN Model with skip connection"
   ]
  },
  {
   "cell_type": "code",
   "execution_count": 15,
   "id": "4e43dad1",
   "metadata": {
    "execution": {
     "iopub.execute_input": "2022-01-15T12:43:38.955362Z",
     "iopub.status.busy": "2022-01-15T12:43:38.954439Z",
     "iopub.status.idle": "2022-01-15T12:43:38.959125Z",
     "shell.execute_reply": "2022-01-15T12:43:38.958616Z"
    },
    "papermill": {
     "duration": 0.053495,
     "end_time": "2022-01-15T12:43:38.959285",
     "exception": false,
     "start_time": "2022-01-15T12:43:38.905790",
     "status": "completed"
    },
    "tags": []
   },
   "outputs": [],
   "source": [
    "#Generator\n",
    "gen3 = network.GeneratorWithSkipConnection(n_features+1).to(device)\n",
    "constraints=network.weightConstraint()\n",
    "#Discriminator \n",
    "disc3 = network.Discriminator(n_features+1).to(device)\n",
    "\n",
    "criterion = torch.nn.BCELoss()\n",
    "gen_opt = torch.optim.Adam(gen3.parameters(), lr=0.01, betas=(0.5, 0.999))\n",
    "disc_opt = torch.optim.Adam(disc3.parameters(), lr=0.01, betas=(0.5, 0.999))\n"
   ]
  },
  {
   "cell_type": "code",
   "execution_count": 16,
   "id": "26acbc37",
   "metadata": {
    "execution": {
     "iopub.execute_input": "2022-01-15T12:43:39.049734Z",
     "iopub.status.busy": "2022-01-15T12:43:39.049003Z",
     "iopub.status.idle": "2022-01-15T13:19:19.577012Z",
     "shell.execute_reply": "2022-01-15T13:19:19.577532Z"
    },
    "papermill": {
     "duration": 2140.575639,
     "end_time": "2022-01-15T13:19:19.577730",
     "exception": false,
     "start_time": "2022-01-15T12:43:39.002091",
     "status": "completed"
    },
    "tags": []
   },
   "outputs": [
    {
     "data": {
      "image/png": "[encoded data removed]",
      "text/plain": [
       "<Figure size 432x288 with 1 Axes>"
      ]
     },
     "metadata": {
      "needs_background": "light"
     },
     "output_type": "display_data"
    },
    {
     "data": {
      "image/png": "[encoded data removed]",
      "text/plain": [
       "<Figure size 432x288 with 1 Axes>"
      ]
     },
     "metadata": {
      "needs_background": "light"
     },
     "output_type": "display_data"
    }
   ],
   "source": [
    "ABC_train_test2.training_GAN_skip_connection(disc3,gen3,disc_opt,gen_opt,train_data,batch_size,n_epochs,criterion,prior_model,variance,device)\n"
   ]
  },
  {
   "cell_type": "code",
   "execution_count": 17,
   "id": "c5e0717b",
   "metadata": {
    "execution": {
     "iopub.execute_input": "2022-01-15T13:19:19.672799Z",
     "iopub.status.busy": "2022-01-15T13:19:19.672135Z",
     "iopub.status.idle": "2022-01-15T13:19:21.498620Z",
     "shell.execute_reply": "2022-01-15T13:19:21.498054Z"
    },
    "papermill": {
     "duration": 1.875411,
     "end_time": "2022-01-15T13:19:21.498786",
     "exception": false,
     "start_time": "2022-01-15T13:19:19.623375",
     "status": "completed"
    },
    "tags": []
   },
   "outputs": [
    {
     "data": {
      "application/scrapbook.scrap.json+json": {
       "data": 0.09378811118255828,
       "encoder": "json",
       "name": "ABC-GAN Model 3 MSE",
       "version": 1
      }
     },
     "metadata": {
      "scrapbook": {
       "data": true,
       "display": false,
       "name": "ABC-GAN Model 3 MSE"
      }
     },
     "output_type": "display_data"
    },
    {
     "data": {
      "application/scrapbook.scrap.json+json": {
       "data": 0.22569165019923365,
       "encoder": "json",
       "name": "ABC-GAN Model 3 MAE",
       "version": 1
      }
     },
     "metadata": {
      "scrapbook": {
       "data": true,
       "display": false,
       "name": "ABC-GAN Model 3 MAE"
      }
     },
     "output_type": "display_data"
    },
    {
     "data": {
      "application/scrapbook.scrap.json+json": {
       "data": 23.020548320321833,
       "encoder": "json",
       "name": "ABC-GAN Model 3 Manhattan Distance",
       "version": 1
      }
     },
     "metadata": {
      "scrapbook": {
       "data": true,
       "display": false,
       "name": "ABC-GAN Model 3 Manhattan Distance"
      }
     },
     "output_type": "display_data"
    },
    {
     "data": {
      "application/scrapbook.scrap.json+json": {
       "data": 3.0919349599930985,
       "encoder": "json",
       "name": "ABC-GAN Model 3 Euclidean distance",
       "version": 1
      }
     },
     "metadata": {
      "scrapbook": {
       "data": true,
       "display": false,
       "name": "ABC-GAN Model 3 Euclidean distance"
      }
     },
     "output_type": "display_data"
    },
    {
     "data": {
      "application/scrapbook.scrap.json+json": {
       "data": [
        [
         0.09754117764940268,
         0.08454407492546592,
         0.09266684224467683,
         0.10173641384912209,
         0.09558475668076762,
         0.0949962540528992,
         0.09971981998626785,
         0.09616676230821682,
         0.09186595846733625,
         0.09637392950958787,
         0.09098772760814319,
         0.09671845986790173,
         0.09553171770174917,
         0.09816634653129144,
         0.09768753243097746,
         0.09076140492361201,
         0.09106267686390748,
         0.08933279661472218,
         0.09255543640808515,
         0.09003936087043231,
         0.09887721035494078,
         0.0873250063482752,
         0.09422231508199115,
         0.08943296263655993,
         0.09934466554370516,
         0.09339553474713304,
         0.09346996792589868,
         0.09466269515421356,
         0.09070890545374558,
         0.08875098515577466,
         0.09685535835271984,
         0.1006010547903284,
         0.09908764669239536,
         0.09386655307815087,
         0.08870968904976637,
         0.09641296523868641,
         0.09484849535873012,
         0.09421791354900556,
         0.09077851575294464,
         0.09201575092464455,
         0.09468014775455878,
         0.09655219247210915,
         0.08758133718641149,
         0.08330973021291155,
         0.09661040112688395,
         0.0947745187474365,
         0.09991393686162674,
         0.09293011720677827,
         0.09846329523102523,
         0.0950306440424183,
         0.10108811885162416,
         0.09684452080628335,
         0.09597212893538895,
         0.08709443450986963,
         0.08693596464999695,
         0.08721030535812974,
         0.09775666819035952,
         0.09967202318589596,
         0.08975891855784769,
         0.09604129106360046,
         0.09327877602594363,
         0.09598138374269312,
         0.08347572578699457,
         0.09907877033631293,
         0.09115228871685435,
         0.08568558047766278,
         0.09134469861324276,
         0.08725941236229515,
         0.09927765780225872,
         0.0877104507633447,
         0.08692149820770359,
         0.10954139800346323,
         0.08871272451986242,
         0.09472812033649015,
         0.09580084522166127,
         0.08630698032971734,
         0.09389814700589272,
         0.09184829263789056,
         0.09030971707716416,
         0.09449806494485191,
         0.09380231382434323,
         0.09426650139933275,
         0.09503193330817188,
         0.08633464018696693,
         0.09822679423692092,
         0.10071039095233651,
         0.10203658703711405,
         0.09945542633323455,
         0.10473113188796214,
         0.09206234105549846,
         0.09805794435605687,
         0.08785156567684173,
         0.09204159398044004,
         0.09146448252042445,
         0.08585372557436803,
         0.09546692760098649,
         0.0953405629505602,
         0.09280015446404218,
         0.09084556285774052,
         0.0957756695048552
        ],
        [
         0.23266807729926178,
         0.2171042604992787,
         0.22545845324502273,
         0.2336846419893132,
         0.22325126836350298,
         0.22326857141931267,
         0.22958038327758948,
         0.22957801547668436,
         0.22059824441870055,
         0.23282468126283265,
         0.2224915327650367,
         0.23153130041764064,
         0.23693599771050847,
         0.2264339236597366,
         0.23073211010983763,
         0.222654652475909,
         0.2218642033563525,
         0.2133891545510029,
         0.21920409927363782,
         0.21815557224566445,
         0.22655717104527295,
         0.22510052154607632,
         0.2217858526673095,
         0.21827282060814254,
         0.23326079604471578,
         0.2318224831867744,
         0.22697971739313183,
         0.22162276347551277,
         0.21394400619079962,
         0.2161726606005401,
         0.2324326747854916,
         0.23548309680750118,
         0.2366973250036073,
         0.22899245308693864,
         0.2222284755176481,
         0.2263128203613793,
         0.223800756308871,
         0.21392434278010009,
         0.2260636104973873,
         0.2264955171986538,
         0.22907768624524275,
         0.22744635933571877,
         0.21119451453434487,
         0.20974692764381567,
         0.23091669776020388,
         0.23740516058808447,
         0.2369299355652366,
         0.2233447937075706,
         0.23274844870263456,
         0.22280870478910705,
         0.23039788308133388,
         0.23338692275551604,
         0.22387353331763662,
         0.22731720185016885,
         0.22043781822510794,
         0.2180819473978059,
         0.22394294859658853,
         0.23833747836304645,
         0.22422670940959863,
         0.23719449586910651,
         0.2257298605890908,
         0.2297695208633063,
         0.21551311341132603,
         0.2319194038088123,
         0.21777345723582103,
         0.2183248593481075,
         0.2268305502503234,
         0.2198227995130069,
         0.23510914339738734,
         0.2250713923051223,
         0.21780851058771505,
         0.24602303547583812,
         0.21538788549072457,
         0.23249664449808644,
         0.2314546293414691,
         0.21895604394376278,
         0.22254541385279714,
         0.2322804977542118,
         0.22506395813223778,
         0.2191030983082658,
         0.22607124570811934,
         0.2272465750118535,
         0.22940481213998853,
         0.21031022703676833,
         0.2273949735145103,
         0.22947390980142005,
         0.23493008814094699,
         0.23007296947031922,
         0.23753263854293846,
         0.22655380884295,
         0.22994847274294086,
         0.21092199267563866,
         0.22079323458156602,
         0.22280572501796425,
         0.21054113841177347,
         0.2229595519784911,
         0.22576908502435566,
         0.2321457171301339,
         0.2176090880278863,
         0.23152077135483862
        ],
        [
         23.732143884524703,
         22.144634570926428,
         22.996762230992317,
         23.835833482909948,
         22.771629373077303,
         22.773394284769893,
         23.417199094314128,
         23.416957578621805,
         22.501020930707455,
         23.74811748880893,
         22.694136342033744,
         23.616192642599344,
         24.167471766471863,
         23.096260213293135,
         23.534675231203437,
         22.710774552542716,
         22.630148742347956,
         21.765693764202297,
         22.358818125911057,
         22.251868369057775,
         23.10883144661784,
         22.960253197699785,
         22.622156972065568,
         22.26382770203054,
         23.79260119656101,
         23.645893285050988,
         23.151931174099445,
         22.6055218745023,
         21.82228863146156,
         22.04961138125509,
         23.708132828120142,
         24.01927587436512,
         24.143127150367945,
         23.35723021486774,
         22.667304502800107,
         23.08390767686069,
         22.827677143504843,
         21.820282963570207,
         23.058488270733505,
         23.102542754262686,
         23.36592399701476,
         23.199528652243316,
         21.541840482503176,
         21.3941866196692,
         23.553503171540797,
         24.215326379984617,
         24.166853427654132,
         22.781168958172202,
         23.740341767668724,
         22.72648788848892,
         23.500584074296057,
         23.805466121062636,
         22.835100398398936,
         23.186354588717222,
         22.48465745896101,
         22.2443586345762,
         22.84218075685203,
         24.31042279303074,
         22.87112435977906,
         24.193838578648865,
         23.024445780087262,
         23.43649112805724,
         21.982337567955256,
         23.655779188498855,
         22.212892638053745,
         22.269135653506964,
         23.136716125532985,
         22.421925550326705,
         23.98113262653351,
         22.957282015122473,
         22.216468079946935,
         25.09434961853549,
         21.969564320053905,
         23.714657738804817,
         23.608372192829847,
         22.333516482263803,
         22.699632212985307,
         23.692610770929605,
         22.956523729488254,
         22.34851602744311,
         23.059267062228173,
         23.179150651209056,
         23.39929083827883,
         21.451643157750368,
         23.19428729848005,
         23.406338799744844,
         23.96286899037659,
         23.46744288597256,
         24.228329131379724,
         23.1084885019809,
         23.45474421977997,
         21.514043252915144,
         22.520909927319735,
         22.726183951832354,
         21.475196118000895,
         22.741874301806092,
         23.02844667248428,
         23.67886314727366,
         22.196126978844404,
         23.61511867819354
        ],
        [
         3.1542352671034344,
         2.9365789011020156,
         3.074413425184882,
         3.221352854409224,
         3.1224421822410573,
         3.1128151106989503,
         3.1892666302144326,
         3.1319338683053504,
         3.0610991103961815,
         3.135305536941808,
         3.0464320468427664,
         3.1409047910635515,
         3.1215757568219313,
         3.1643273133782674,
         3.156600752068544,
         3.0426408434464336,
         3.047686506207383,
         3.0185998831745926,
         3.0725648103212877,
         3.030513951260429,
         3.175763759507933,
         2.9844849886578535,
         3.1001090526565513,
         3.0202917390426225,
         3.183261831118818,
         3.086477692161012,
         3.087707357966694,
         3.1073453148515346,
         3.0417607329114573,
         3.008753975633271,
         3.1431268749411667,
         3.20332758059701,
         3.179141387642948,
         3.0942508647443874,
         3.008053902953896,
         3.1359404417727728,
         3.1103933073793852,
         3.1000366420412786,
         3.0429276374571166,
         3.063593738457131,
         3.1076317463568612,
         3.1382038863265613,
         2.9888620565382356,
         2.9150630322030735,
         3.139149712094369,
         3.109180102895057,
         3.19236927060231,
         3.0787776722412716,
         3.169109672063208,
         3.1133785012951236,
         3.2110727370873535,
         3.1429510212920757,
         3.1287628787445163,
         2.9805422862302597,
         2.977829477035193,
         2.982524291020818,
         3.1577175547247207,
         3.1885022134164167,
         3.0257907549763683,
         3.129890044152869,
         3.0845478039165237,
         3.1289137319131535,
         2.917965734938203,
         3.1789989893524533,
         3.049185702629334,
         2.956337127041096,
         3.0524022111364624,
         2.9833638834299285,
         3.1821880987506668,
         2.991064355352649,
         2.977581706214922,
         3.342637072186158,
         3.008105367341039,
         3.1084189348158966,
         3.1259696435841224,
         2.9670375787359298,
         3.0947715577407418,
         3.060804771471849,
         3.0350603193133976,
         3.1046421089031977,
         3.0931918805795107,
         3.1008358780709346,
         3.1133996205809398,
         2.9675129821233517,
         3.165301409370983,
         3.2050678428292785,
         3.2261016533558937,
         3.1850358688702274,
         3.2684209417656316,
         3.064369231613717,
         3.162579694540171,
         2.9934695086200325,
         3.064023920599329,
         3.0544029231722676,
         2.9592363894399405,
         3.1205170429434643,
         3.118451125311593,
         3.0766240841760797,
         3.0440511512603616,
         3.1255588763443938
        ]
       ],
       "encoder": "json",
       "name": "ABC_GAN_3 Metrics",
       "version": 1
      }
     },
     "metadata": {
      "scrapbook": {
       "data": true,
       "display": false,
       "name": "ABC_GAN_3 Metrics"
      }
     },
     "output_type": "display_data"
    }
   ],
   "source": [
    "ABC_GAN3_metrics=ABC_train_test2.test_generator(gen3,test_data,prior_model,variance,\"3\",device)\n",
    "sb.glue(\"ABC_GAN_3 Metrics\",ABC_GAN3_metrics)"
   ]
  },
  {
   "cell_type": "code",
   "execution_count": 18,
   "id": "c8e46b48",
   "metadata": {
    "execution": {
     "iopub.execute_input": "2022-01-15T13:19:21.598702Z",
     "iopub.status.busy": "2022-01-15T13:19:21.597577Z",
     "iopub.status.idle": "2022-01-15T13:19:22.463770Z",
     "shell.execute_reply": "2022-01-15T13:19:22.464290Z"
    },
    "papermill": {
     "duration": 0.919095,
     "end_time": "2022-01-15T13:19:22.464483",
     "exception": false,
     "start_time": "2022-01-15T13:19:21.545388",
     "status": "completed"
    },
    "tags": []
   },
   "outputs": [
    {
     "data": {
      "image/png": "[encoded data removed]",
      "text/plain": [
       "<Figure size 432x288 with 1 Axes>"
      ]
     },
     "metadata": {
      "needs_background": "light"
     },
     "output_type": "display_data"
    },
    {
     "data": {
      "image/png": "[encoded data removed]",
      "text/plain": [
       "<Figure size 432x288 with 1 Axes>"
      ]
     },
     "metadata": {
      "needs_background": "light"
     },
     "output_type": "display_data"
    },
    {
     "data": {
      "image/png": "[encoded data removed]",
      "text/plain": [
       "<Figure size 432x288 with 1 Axes>"
      ]
     },
     "metadata": {
      "needs_background": "light"
     },
     "output_type": "display_data"
    },
    {
     "data": {
      "image/png": "[encoded data removed]",
      "text/plain": [
       "<Figure size 432x288 with 1 Axes>"
      ]
     },
     "metadata": {
      "needs_background": "light"
     },
     "output_type": "display_data"
    }
   ],
   "source": [
    "sanityChecks.discProbVsError(train_data,disc,device)\n",
    "sanityChecks.discProbVsError(test_data,disc3,device)"
   ]
  },
  {
   "cell_type": "markdown",
   "id": "a5bd74c3",
   "metadata": {
    "papermill": {
     "duration": 0.054936,
     "end_time": "2022-01-15T13:19:22.574046",
     "exception": false,
     "start_time": "2022-01-15T13:19:22.519110",
     "status": "completed"
    },
    "tags": []
   },
   "source": [
    "## Skip Connection Model Analysis - ABC-GAN "
   ]
  },
  {
   "cell_type": "markdown",
   "id": "5744a8bf",
   "metadata": {
    "papermill": {
     "duration": 0.053803,
     "end_time": "2022-01-15T13:19:22.682724",
     "exception": false,
     "start_time": "2022-01-15T13:19:22.628921",
     "status": "completed"
    },
    "tags": []
   },
   "source": [
    "### Weight Analysis \n",
    "\n",
    "Study the weights of the skip connection layer\n",
    "\n",
    "Equation of the skip connection is \n",
    "\n",
    "$output = y_{gan} * w + y_{abc} * (1-w)$"
   ]
  },
  {
   "cell_type": "code",
   "execution_count": 19,
   "id": "52c31dea",
   "metadata": {
    "execution": {
     "iopub.execute_input": "2022-01-15T13:19:22.795209Z",
     "iopub.status.busy": "2022-01-15T13:19:22.794524Z",
     "iopub.status.idle": "2022-01-15T13:19:22.803530Z",
     "shell.execute_reply": "2022-01-15T13:19:22.802904Z"
    },
    "papermill": {
     "duration": 0.067111,
     "end_time": "2022-01-15T13:19:22.803663",
     "exception": false,
     "start_time": "2022-01-15T13:19:22.736552",
     "status": "completed"
    },
    "tags": []
   },
   "outputs": [
    {
     "name": "stdout",
     "output_type": "stream",
     "text": [
      "Weight of the node at skip connection\n",
      "Parameter containing:\n",
      "tensor([[0.1225]], device='cuda:0', requires_grad=True)\n"
     ]
    },
    {
     "data": {
      "application/scrapbook.scrap.json+json": {
       "data": 0.12253199517726898,
       "encoder": "json",
       "name": "Skip Connection Weight",
       "version": 1
      }
     },
     "metadata": {
      "scrapbook": {
       "data": true,
       "display": false,
       "name": "Skip Connection Weight"
      }
     },
     "output_type": "display_data"
    }
   ],
   "source": [
    "print(\"Weight of the node at skip connection\")\n",
    "for name,param in gen3.named_parameters():\n",
    "    if(name == \"skipNode.weight\"):\n",
    "        print(param)\n",
    "        sb.glue(\"Skip Connection Weight\",param.item())"
   ]
  }
 ],
 "metadata": {
  "interpreter": {
   "hash": "10498c76ddd8160350534c6544a2b2fb65f2138dbc70420f7c81a3268f830f23"
  },
  "kernelspec": {
   "display_name": "papermill-tutorial",
   "language": "python",
   "name": "python3"
  },
  "language_info": {
   "codemirror_mode": {
    "name": "ipython",
    "version": 3
   },
   "file_extension": ".py",
   "mimetype": "text/x-python",
   "name": "python",
   "nbconvert_exporter": "python",
   "pygments_lexer": "ipython3",
   "version": "3.7.12"
  },
  "papermill": {
   "default_parameters": {},
   "duration": 2484.370199,
   "end_time": "2022-01-15T13:19:23.681319",
   "environment_variables": {},
   "exception": null,
   "input_path": "ABC_GAN_Model-Catboost_Pre-gen.ipynb",
   "output_path": "./ABC_GAN_Output/ABC-GAN_output_10_1.ipynb",
   "parameters": {
    "variance": 0.1
   },
   "start_time": "2022-01-15T12:37:59.311120",
   "version": "2.3.3"
  }
 },
 "nbformat": 4,
 "nbformat_minor": 5
}