{
 "cells": [
  {
   "cell_type": "markdown",
   "id": "622780e6",
   "metadata": {
    "papermill": {
     "duration": 0.027748,
     "end_time": "2022-01-14T11:07:35.467822",
     "exception": false,
     "start_time": "2022-01-14T11:07:35.440074",
     "status": "completed"
    },
    "tags": []
   },
   "source": [
    "## Import Libraries "
   ]
  },
  {
   "cell_type": "code",
   "execution_count": 1,
   "id": "a62397e3",
   "metadata": {
    "execution": {
     "iopub.execute_input": "2022-01-14T11:07:35.525706Z",
     "iopub.status.busy": "2022-01-14T11:07:35.524998Z",
     "iopub.status.idle": "2022-01-14T11:07:35.527743Z",
     "shell.execute_reply": "2022-01-14T11:07:35.528325Z"
    },
    "papermill": {
     "duration": 0.035584,
     "end_time": "2022-01-14T11:07:35.528595",
     "exception": false,
     "start_time": "2022-01-14T11:07:35.493011",
     "status": "completed"
    },
    "tags": []
   },
   "outputs": [],
   "source": [
    "import warnings\n",
    "import sys\n",
    "sys.path.insert(0, '../../src')\n",
    "warnings.filterwarnings('ignore')"
   ]
  },
  {
   "cell_type": "code",
   "execution_count": 2,
   "id": "d6a4e155",
   "metadata": {
    "execution": {
     "iopub.execute_input": "2022-01-14T11:07:35.588077Z",
     "iopub.status.busy": "2022-01-14T11:07:35.587268Z",
     "iopub.status.idle": "2022-01-14T11:07:37.275532Z",
     "shell.execute_reply": "2022-01-14T11:07:37.276068Z"
    },
    "papermill": {
     "duration": 1.722182,
     "end_time": "2022-01-14T11:07:37.276261",
     "exception": false,
     "start_time": "2022-01-14T11:07:35.554079",
     "status": "completed"
    },
    "tags": []
   },
   "outputs": [],
   "source": [
    "import ABC_train_test2\n",
    "import bostonDataset\n",
    "import network\n",
    "import dataset\n",
    "import sanityChecks\n",
    "import performanceMetrics\n",
    "import torch \n",
    "from torch.utils.data import random_split \n",
    "import scrapbook as sb\n",
    "from statistics import mean \n",
    "import catboost as ctb \n",
    "from sklearn.model_selection import train_test_split\n",
    "from sklearn.metrics import mean_squared_error\n",
    "import numpy as np"
   ]
  },
  {
   "cell_type": "markdown",
   "id": "2fa5b0f7",
   "metadata": {
    "papermill": {
     "duration": 0.024179,
     "end_time": "2022-01-14T11:07:37.325638",
     "exception": false,
     "start_time": "2022-01-14T11:07:37.301459",
     "status": "completed"
    },
    "tags": []
   },
   "source": [
    "## Parameters "
   ]
  },
  {
   "cell_type": "code",
   "execution_count": 3,
   "id": "783186fb",
   "metadata": {
    "execution": {
     "iopub.execute_input": "2022-01-14T11:07:37.380915Z",
     "iopub.status.busy": "2022-01-14T11:07:37.380010Z",
     "iopub.status.idle": "2022-01-14T11:07:37.382660Z",
     "shell.execute_reply": "2022-01-14T11:07:37.382172Z"
    },
    "papermill": {
     "duration": 0.032523,
     "end_time": "2022-01-14T11:07:37.382799",
     "exception": false,
     "start_time": "2022-01-14T11:07:37.350276",
     "status": "completed"
    },
    "tags": [
     "parameters"
    ]
   },
   "outputs": [],
   "source": [
    "variance = 1"
   ]
  },
  {
   "cell_type": "code",
   "execution_count": 4,
   "id": "c889bd59",
   "metadata": {
    "execution": {
     "iopub.execute_input": "2022-01-14T11:07:37.435306Z",
     "iopub.status.busy": "2022-01-14T11:07:37.434465Z",
     "iopub.status.idle": "2022-01-14T11:07:37.437388Z",
     "shell.execute_reply": "2022-01-14T11:07:37.436767Z"
    },
    "papermill": {
     "duration": 0.030443,
     "end_time": "2022-01-14T11:07:37.437567",
     "exception": false,
     "start_time": "2022-01-14T11:07:37.407124",
     "status": "completed"
    },
    "tags": [
     "injected-parameters"
    ]
   },
   "outputs": [],
   "source": [
    "# Parameters\n",
    "variance = 0.1\n"
   ]
  },
  {
   "cell_type": "markdown",
   "id": "391cdbfd",
   "metadata": {
    "papermill": {
     "duration": 0.025154,
     "end_time": "2022-01-14T11:07:37.487132",
     "exception": false,
     "start_time": "2022-01-14T11:07:37.461978",
     "status": "completed"
    },
    "tags": []
   },
   "source": [
    "## Dataset - Boston Housing "
   ]
  },
  {
   "cell_type": "code",
   "execution_count": 5,
   "id": "5b51f161",
   "metadata": {
    "execution": {
     "iopub.execute_input": "2022-01-14T11:07:37.561118Z",
     "iopub.status.busy": "2022-01-14T11:07:37.560003Z",
     "iopub.status.idle": "2022-01-14T11:07:37.562877Z",
     "shell.execute_reply": "2022-01-14T11:07:37.562278Z"
    },
    "papermill": {
     "duration": 0.051251,
     "end_time": "2022-01-14T11:07:37.563018",
     "exception": false,
     "start_time": "2022-01-14T11:07:37.511767",
     "status": "completed"
    },
    "tags": []
   },
   "outputs": [],
   "source": [
    "#Parameters \n",
    "n_features = 13\n",
    "n_samples= 506\n",
    "n_target = 1 "
   ]
  },
  {
   "cell_type": "code",
   "execution_count": 6,
   "id": "5d6eced4",
   "metadata": {
    "execution": {
     "iopub.execute_input": "2022-01-14T11:07:37.616490Z",
     "iopub.status.busy": "2022-01-14T11:07:37.615844Z",
     "iopub.status.idle": "2022-01-14T11:07:37.649633Z",
     "shell.execute_reply": "2022-01-14T11:07:37.649022Z"
    },
    "papermill": {
     "duration": 0.061433,
     "end_time": "2022-01-14T11:07:37.649774",
     "exception": false,
     "start_time": "2022-01-14T11:07:37.588341",
     "status": "completed"
    },
    "tags": []
   },
   "outputs": [
    {
     "name": "stdout",
     "output_type": "stream",
     "text": [
      "         X1        X2        X3        X4        X5        X6        X7        X8        X9       X10       X11       X12       X13         Y\n",
      "0 -0.419782  0.284830 -1.287909 -0.272599 -0.144217  0.413672 -0.120013  0.140214 -0.982843 -0.666608 -1.459000  0.441052 -1.075562  0.159686\n",
      "1 -0.417339 -0.487722 -0.593381 -0.272599 -0.740262  0.194274  0.367166  0.557160 -0.867883 -0.987329 -0.303094  0.441052 -0.492439 -0.101524\n",
      "2 -0.417342 -0.487722 -0.593381 -0.272599 -0.740262  1.282714 -0.265812  0.557160 -0.867883 -0.987329 -0.303094  0.396427 -1.208727  1.324247\n",
      "3 -0.416750 -0.487722 -1.306878 -0.272599 -0.835284  1.016303 -0.809889  1.077737 -0.752922 -1.106115  0.113032  0.416163 -1.361517  1.182758\n",
      "4 -0.412482 -0.487722 -1.306878 -0.272599 -0.835284  1.228577 -0.511180  1.077737 -0.752922 -1.106115  0.113032  0.441052 -1.026501  1.487503\n"
     ]
    }
   ],
   "source": [
    "X,Y = bostonDataset.boston_data()"
   ]
  },
  {
   "cell_type": "code",
   "execution_count": 7,
   "id": "fe007438",
   "metadata": {
    "execution": {
     "iopub.execute_input": "2022-01-14T11:07:37.706530Z",
     "iopub.status.busy": "2022-01-14T11:07:37.705697Z",
     "iopub.status.idle": "2022-01-14T11:07:37.708427Z",
     "shell.execute_reply": "2022-01-14T11:07:37.707737Z"
    },
    "papermill": {
     "duration": 0.033346,
     "end_time": "2022-01-14T11:07:37.708553",
     "exception": false,
     "start_time": "2022-01-14T11:07:37.675207",
     "status": "completed"
    },
    "tags": []
   },
   "outputs": [],
   "source": [
    "#Train test split for dataset \n",
    "X_train,X_test,Y_train,Y_test = train_test_split(X,Y,test_size = 0.2)\n",
    "train_data = dataset.CustomDataset(X_train,Y_train)\n",
    "test_data = dataset.CustomDataset(X_test,Y_test)\n"
   ]
  },
  {
   "cell_type": "markdown",
   "id": "a9a1af34",
   "metadata": {
    "papermill": {
     "duration": 0.025732,
     "end_time": "2022-01-14T11:07:37.758713",
     "exception": false,
     "start_time": "2022-01-14T11:07:37.732981",
     "status": "completed"
    },
    "tags": []
   },
   "source": [
    "## Training Parameters \n",
    "\n"
   ]
  },
  {
   "cell_type": "code",
   "execution_count": 8,
   "id": "952b7fc8",
   "metadata": {
    "execution": {
     "iopub.execute_input": "2022-01-14T11:07:37.833848Z",
     "iopub.status.busy": "2022-01-14T11:07:37.832959Z",
     "iopub.status.idle": "2022-01-14T11:07:37.835739Z",
     "shell.execute_reply": "2022-01-14T11:07:37.835171Z"
    },
    "papermill": {
     "duration": 0.051592,
     "end_time": "2022-01-14T11:07:37.835886",
     "exception": false,
     "start_time": "2022-01-14T11:07:37.784294",
     "status": "completed"
    },
    "tags": []
   },
   "outputs": [],
   "source": [
    "batch_size = 64\n",
    "n_epochs = 5000\n",
    "#Select the device \n",
    "device = torch.device('cuda' if torch.cuda.is_available() else 'cpu')"
   ]
  },
  {
   "cell_type": "markdown",
   "id": "a95e1600",
   "metadata": {
    "papermill": {
     "duration": 0.02561,
     "end_time": "2022-01-14T11:07:37.888404",
     "exception": false,
     "start_time": "2022-01-14T11:07:37.862794",
     "status": "completed"
    },
    "tags": []
   },
   "source": [
    "# ABC Pre-generator Model \n",
    "\n",
    "1. The catboost model is used as a pre-generator model for the ABC-GAN. \n",
    "2. The model is first trained on the train dataset \n",
    "3. It generats X,Y pairs and we add some Gaussian noise with mean 0 and variance V (1,0.01,0.1) to it which is then feed as input to the generator.\n"
   ]
  },
  {
   "cell_type": "code",
   "execution_count": 9,
   "id": "ff8ce7bd",
   "metadata": {
    "execution": {
     "iopub.execute_input": "2022-01-14T11:07:37.961357Z",
     "iopub.status.busy": "2022-01-14T11:07:37.960425Z",
     "iopub.status.idle": "2022-01-14T11:07:39.712235Z",
     "shell.execute_reply": "2022-01-14T11:07:39.712767Z"
    },
    "papermill": {
     "duration": 1.798681,
     "end_time": "2022-01-14T11:07:39.712969",
     "exception": false,
     "start_time": "2022-01-14T11:07:37.914288",
     "status": "completed"
    },
    "tags": []
   },
   "outputs": [
    {
     "name": "stdout",
     "output_type": "stream",
     "text": [
      "Learning rate set to 0.03548\n",
      "0:\tlearn: 0.9782976\ttotal: 48.4ms\tremaining: 48.3s\n",
      "1:\tlearn: 0.9570482\ttotal: 49.5ms\tremaining: 24.7s\n",
      "2:\tlearn: 0.9364236\ttotal: 50.7ms\tremaining: 16.9s\n",
      "3:\tlearn: 0.9181701\ttotal: 53.9ms\tremaining: 13.4s\n",
      "4:\tlearn: 0.9013472\ttotal: 55.1ms\tremaining: 11s\n",
      "5:\tlearn: 0.8834483\ttotal: 56.2ms\tremaining: 9.3s\n",
      "6:\tlearn: 0.8660922\ttotal: 57.3ms\tremaining: 8.12s\n",
      "7:\tlearn: 0.8492089\ttotal: 58.4ms\tremaining: 7.24s\n",
      "8:\tlearn: 0.8339698\ttotal: 59.5ms\tremaining: 6.55s\n",
      "9:\tlearn: 0.8169815\ttotal: 60.5ms\tremaining: 5.99s\n",
      "10:\tlearn: 0.8033968\ttotal: 61.5ms\tremaining: 5.53s\n",
      "11:\tlearn: 0.7889749\ttotal: 62.7ms\tremaining: 5.16s\n",
      "12:\tlearn: 0.7732331\ttotal: 63.8ms\tremaining: 4.85s\n",
      "13:\tlearn: 0.7583177\ttotal: 65ms\tremaining: 4.58s\n",
      "14:\tlearn: 0.7443026\ttotal: 66.1ms\tremaining: 4.34s\n",
      "15:\tlearn: 0.7297362\ttotal: 67.2ms\tremaining: 4.13s\n",
      "16:\tlearn: 0.7170466\ttotal: 68.3ms\tremaining: 3.95s\n",
      "17:\tlearn: 0.7053393\ttotal: 69.4ms\tremaining: 3.79s\n",
      "18:\tlearn: 0.6931211\ttotal: 70.5ms\tremaining: 3.64s\n",
      "19:\tlearn: 0.6815106\ttotal: 71.5ms\tremaining: 3.5s\n",
      "20:\tlearn: 0.6678778\ttotal: 72.6ms\tremaining: 3.38s\n",
      "21:\tlearn: 0.6568396\ttotal: 73.6ms\tremaining: 3.27s\n",
      "22:\tlearn: 0.6448811\ttotal: 74.6ms\tremaining: 3.17s\n",
      "23:\tlearn: 0.6349135\ttotal: 75.7ms\tremaining: 3.08s\n",
      "24:\tlearn: 0.6248220\ttotal: 76.8ms\tremaining: 2.99s\n",
      "25:\tlearn: 0.6158692\ttotal: 77.8ms\tremaining: 2.92s\n",
      "26:\tlearn: 0.6073542\ttotal: 79ms\tremaining: 2.85s\n",
      "27:\tlearn: 0.5989744\ttotal: 80.1ms\tremaining: 2.78s\n",
      "28:\tlearn: 0.5904981\ttotal: 81.2ms\tremaining: 2.72s\n",
      "29:\tlearn: 0.5801904\ttotal: 82.3ms\tremaining: 2.66s\n",
      "30:\tlearn: 0.5709250\ttotal: 83.4ms\tremaining: 2.6s\n",
      "31:\tlearn: 0.5623542\ttotal: 84.4ms\tremaining: 2.55s\n",
      "32:\tlearn: 0.5554487\ttotal: 85.6ms\tremaining: 2.51s\n",
      "33:\tlearn: 0.5479301\ttotal: 86.7ms\tremaining: 2.46s\n",
      "34:\tlearn: 0.5400242\ttotal: 87.7ms\tremaining: 2.42s\n",
      "35:\tlearn: 0.5329941\ttotal: 88.8ms\tremaining: 2.38s\n",
      "36:\tlearn: 0.5267142\ttotal: 89.8ms\tremaining: 2.34s\n",
      "37:\tlearn: 0.5201544\ttotal: 90.9ms\tremaining: 2.3s\n",
      "38:\tlearn: 0.5132010\ttotal: 92ms\tremaining: 2.27s\n",
      "39:\tlearn: 0.5056433\ttotal: 93.1ms\tremaining: 2.23s\n",
      "40:\tlearn: 0.4992800\ttotal: 94.1ms\tremaining: 2.2s\n",
      "41:\tlearn: 0.4918116\ttotal: 95.1ms\tremaining: 2.17s\n",
      "42:\tlearn: 0.4858664\ttotal: 96.2ms\tremaining: 2.14s\n",
      "43:\tlearn: 0.4806846\ttotal: 97.2ms\tremaining: 2.11s\n",
      "44:\tlearn: 0.4751269\ttotal: 98.3ms\tremaining: 2.08s\n",
      "45:\tlearn: 0.4690129\ttotal: 99.3ms\tremaining: 2.06s\n",
      "46:\tlearn: 0.4635465\ttotal: 100ms\tremaining: 2.04s\n",
      "47:\tlearn: 0.4574617\ttotal: 101ms\tremaining: 2.01s\n",
      "48:\tlearn: 0.4532642\ttotal: 103ms\tremaining: 1.99s\n",
      "49:\tlearn: 0.4489691\ttotal: 104ms\tremaining: 1.97s\n",
      "50:\tlearn: 0.4437298\ttotal: 105ms\tremaining: 1.95s\n",
      "51:\tlearn: 0.4397529\ttotal: 106ms\tremaining: 1.93s\n",
      "52:\tlearn: 0.4357150\ttotal: 107ms\tremaining: 1.91s\n",
      "53:\tlearn: 0.4310556\ttotal: 108ms\tremaining: 1.89s\n",
      "54:\tlearn: 0.4259981\ttotal: 109ms\tremaining: 1.87s\n",
      "55:\tlearn: 0.4220338\ttotal: 110ms\tremaining: 1.86s\n",
      "56:\tlearn: 0.4183946\ttotal: 112ms\tremaining: 1.84s\n",
      "57:\tlearn: 0.4141514\ttotal: 113ms\tremaining: 1.83s\n",
      "58:\tlearn: 0.4100581\ttotal: 114ms\tremaining: 1.82s\n",
      "59:\tlearn: 0.4058428\ttotal: 115ms\tremaining: 1.8s\n",
      "60:\tlearn: 0.4020600\ttotal: 116ms\tremaining: 1.79s\n",
      "61:\tlearn: 0.3981166\ttotal: 118ms\tremaining: 1.78s\n",
      "62:\tlearn: 0.3937347\ttotal: 119ms\tremaining: 1.77s\n",
      "63:\tlearn: 0.3902956\ttotal: 120ms\tremaining: 1.75s\n",
      "64:\tlearn: 0.3859604\ttotal: 122ms\tremaining: 1.75s\n",
      "65:\tlearn: 0.3824497\ttotal: 123ms\tremaining: 1.74s\n",
      "66:\tlearn: 0.3791576\ttotal: 124ms\tremaining: 1.73s\n",
      "67:\tlearn: 0.3767171\ttotal: 125ms\tremaining: 1.72s\n",
      "68:\tlearn: 0.3741109\ttotal: 127ms\tremaining: 1.71s\n",
      "69:\tlearn: 0.3711195\ttotal: 128ms\tremaining: 1.7s\n",
      "70:\tlearn: 0.3677159\ttotal: 129ms\tremaining: 1.69s\n",
      "71:\tlearn: 0.3642185\ttotal: 130ms\tremaining: 1.67s\n",
      "72:\tlearn: 0.3614053\ttotal: 131ms\tremaining: 1.66s\n",
      "73:\tlearn: 0.3580060\ttotal: 132ms\tremaining: 1.65s\n",
      "74:\tlearn: 0.3557495\ttotal: 133ms\tremaining: 1.64s\n",
      "75:\tlearn: 0.3533166\ttotal: 134ms\tremaining: 1.63s\n",
      "76:\tlearn: 0.3499314\ttotal: 135ms\tremaining: 1.62s\n",
      "77:\tlearn: 0.3472119\ttotal: 136ms\tremaining: 1.61s\n",
      "78:\tlearn: 0.3445181\ttotal: 137ms\tremaining: 1.6s\n",
      "79:\tlearn: 0.3416856\ttotal: 138ms\tremaining: 1.59s\n",
      "80:\tlearn: 0.3396481\ttotal: 139ms\tremaining: 1.58s\n",
      "81:\tlearn: 0.3370612\ttotal: 140ms\tremaining: 1.57s\n"
     ]
    },
    {
     "name": "stdout",
     "output_type": "stream",
     "text": [
      "82:\tlearn: 0.3348269\ttotal: 141ms\tremaining: 1.56s\n",
      "83:\tlearn: 0.3326478\ttotal: 143ms\tremaining: 1.56s\n",
      "84:\tlearn: 0.3299172\ttotal: 144ms\tremaining: 1.55s\n",
      "85:\tlearn: 0.3280462\ttotal: 145ms\tremaining: 1.54s\n",
      "86:\tlearn: 0.3254241\ttotal: 146ms\tremaining: 1.53s\n",
      "87:\tlearn: 0.3227025\ttotal: 147ms\tremaining: 1.53s\n",
      "88:\tlearn: 0.3209413\ttotal: 148ms\tremaining: 1.52s\n",
      "89:\tlearn: 0.3194424\ttotal: 150ms\tremaining: 1.51s\n",
      "90:\tlearn: 0.3175722\ttotal: 151ms\tremaining: 1.5s\n",
      "91:\tlearn: 0.3155691\ttotal: 152ms\tremaining: 1.5s\n",
      "92:\tlearn: 0.3139377\ttotal: 153ms\tremaining: 1.49s\n",
      "93:\tlearn: 0.3124133\ttotal: 154ms\tremaining: 1.48s\n",
      "94:\tlearn: 0.3108541\ttotal: 155ms\tremaining: 1.48s\n",
      "95:\tlearn: 0.3091779\ttotal: 156ms\tremaining: 1.47s\n",
      "96:\tlearn: 0.3072556\ttotal: 157ms\tremaining: 1.46s\n",
      "97:\tlearn: 0.3053855\ttotal: 158ms\tremaining: 1.46s\n",
      "98:\tlearn: 0.3039074\ttotal: 159ms\tremaining: 1.45s\n",
      "99:\tlearn: 0.3026446\ttotal: 160ms\tremaining: 1.44s\n",
      "100:\tlearn: 0.3011156\ttotal: 162ms\tremaining: 1.44s\n",
      "101:\tlearn: 0.2995552\ttotal: 163ms\tremaining: 1.43s\n",
      "102:\tlearn: 0.2981164\ttotal: 164ms\tremaining: 1.43s\n",
      "103:\tlearn: 0.2961273\ttotal: 165ms\tremaining: 1.42s\n",
      "104:\tlearn: 0.2943764\ttotal: 166ms\tremaining: 1.42s\n",
      "105:\tlearn: 0.2930790\ttotal: 168ms\tremaining: 1.41s\n",
      "106:\tlearn: 0.2916174\ttotal: 169ms\tremaining: 1.41s\n",
      "107:\tlearn: 0.2903521\ttotal: 171ms\tremaining: 1.41s\n",
      "108:\tlearn: 0.2893727\ttotal: 172ms\tremaining: 1.4s\n",
      "109:\tlearn: 0.2878813\ttotal: 173ms\tremaining: 1.4s\n",
      "110:\tlearn: 0.2868212\ttotal: 174ms\tremaining: 1.39s\n",
      "111:\tlearn: 0.2857548\ttotal: 175ms\tremaining: 1.39s\n",
      "112:\tlearn: 0.2842328\ttotal: 176ms\tremaining: 1.38s\n",
      "113:\tlearn: 0.2829313\ttotal: 177ms\tremaining: 1.37s\n",
      "114:\tlearn: 0.2812380\ttotal: 178ms\tremaining: 1.37s\n",
      "115:\tlearn: 0.2799378\ttotal: 179ms\tremaining: 1.36s\n",
      "116:\tlearn: 0.2783670\ttotal: 180ms\tremaining: 1.36s\n",
      "117:\tlearn: 0.2770023\ttotal: 181ms\tremaining: 1.35s\n",
      "118:\tlearn: 0.2759182\ttotal: 182ms\tremaining: 1.35s\n",
      "119:\tlearn: 0.2749562\ttotal: 183ms\tremaining: 1.34s\n",
      "120:\tlearn: 0.2734569\ttotal: 184ms\tremaining: 1.34s\n",
      "121:\tlearn: 0.2722890\ttotal: 185ms\tremaining: 1.33s\n",
      "122:\tlearn: 0.2706893\ttotal: 186ms\tremaining: 1.33s\n",
      "123:\tlearn: 0.2699663\ttotal: 187ms\tremaining: 1.32s\n",
      "124:\tlearn: 0.2689877\ttotal: 189ms\tremaining: 1.32s\n",
      "125:\tlearn: 0.2681095\ttotal: 190ms\tremaining: 1.31s\n",
      "126:\tlearn: 0.2670360\ttotal: 191ms\tremaining: 1.31s\n",
      "127:\tlearn: 0.2657282\ttotal: 192ms\tremaining: 1.3s\n",
      "128:\tlearn: 0.2645748\ttotal: 193ms\tremaining: 1.3s\n",
      "129:\tlearn: 0.2634809\ttotal: 194ms\tremaining: 1.3s\n",
      "130:\tlearn: 0.2622838\ttotal: 195ms\tremaining: 1.29s\n",
      "131:\tlearn: 0.2615918\ttotal: 196ms\tremaining: 1.28s\n",
      "132:\tlearn: 0.2607739\ttotal: 197ms\tremaining: 1.28s\n",
      "133:\tlearn: 0.2592747\ttotal: 198ms\tremaining: 1.28s\n",
      "134:\tlearn: 0.2580221\ttotal: 199ms\tremaining: 1.27s\n",
      "135:\tlearn: 0.2573340\ttotal: 200ms\tremaining: 1.27s\n",
      "136:\tlearn: 0.2564357\ttotal: 201ms\tremaining: 1.26s\n",
      "137:\tlearn: 0.2555588\ttotal: 202ms\tremaining: 1.26s\n",
      "138:\tlearn: 0.2547185\ttotal: 203ms\tremaining: 1.26s\n",
      "139:\tlearn: 0.2539296\ttotal: 204ms\tremaining: 1.25s\n",
      "140:\tlearn: 0.2531145\ttotal: 205ms\tremaining: 1.25s\n",
      "141:\tlearn: 0.2523053\ttotal: 206ms\tremaining: 1.24s\n",
      "142:\tlearn: 0.2512218\ttotal: 207ms\tremaining: 1.24s\n",
      "143:\tlearn: 0.2506249\ttotal: 208ms\tremaining: 1.24s\n",
      "144:\tlearn: 0.2495230\ttotal: 209ms\tremaining: 1.23s\n",
      "145:\tlearn: 0.2487598\ttotal: 210ms\tremaining: 1.23s\n",
      "146:\tlearn: 0.2481204\ttotal: 211ms\tremaining: 1.23s\n",
      "147:\tlearn: 0.2471310\ttotal: 212ms\tremaining: 1.22s\n",
      "148:\tlearn: 0.2462686\ttotal: 213ms\tremaining: 1.22s\n",
      "149:\tlearn: 0.2454610\ttotal: 214ms\tremaining: 1.22s\n",
      "150:\tlearn: 0.2442714\ttotal: 215ms\tremaining: 1.21s\n",
      "151:\tlearn: 0.2436049\ttotal: 216ms\tremaining: 1.21s\n",
      "152:\tlearn: 0.2428289\ttotal: 217ms\tremaining: 1.2s\n",
      "153:\tlearn: 0.2420901\ttotal: 218ms\tremaining: 1.2s\n",
      "154:\tlearn: 0.2414588\ttotal: 220ms\tremaining: 1.2s\n",
      "155:\tlearn: 0.2406385\ttotal: 220ms\tremaining: 1.19s\n",
      "156:\tlearn: 0.2396375\ttotal: 221ms\tremaining: 1.19s\n",
      "157:\tlearn: 0.2389124\ttotal: 223ms\tremaining: 1.19s\n",
      "158:\tlearn: 0.2380086\ttotal: 224ms\tremaining: 1.18s\n",
      "159:\tlearn: 0.2371627\ttotal: 225ms\tremaining: 1.18s\n",
      "160:\tlearn: 0.2364131\ttotal: 226ms\tremaining: 1.18s\n",
      "161:\tlearn: 0.2353668\ttotal: 227ms\tremaining: 1.17s\n",
      "162:\tlearn: 0.2351091\ttotal: 228ms\tremaining: 1.17s\n",
      "163:\tlearn: 0.2345640\ttotal: 229ms\tremaining: 1.17s\n",
      "164:\tlearn: 0.2339597\ttotal: 230ms\tremaining: 1.17s\n",
      "165:\tlearn: 0.2332611\ttotal: 231ms\tremaining: 1.16s\n",
      "166:\tlearn: 0.2324152\ttotal: 233ms\tremaining: 1.16s\n",
      "167:\tlearn: 0.2316115\ttotal: 234ms\tremaining: 1.16s\n",
      "168:\tlearn: 0.2310545\ttotal: 235ms\tremaining: 1.15s\n",
      "169:\tlearn: 0.2302276\ttotal: 236ms\tremaining: 1.15s\n",
      "170:\tlearn: 0.2295922\ttotal: 237ms\tremaining: 1.15s\n",
      "171:\tlearn: 0.2288838\ttotal: 238ms\tremaining: 1.14s\n",
      "172:\tlearn: 0.2283038\ttotal: 239ms\tremaining: 1.14s\n",
      "173:\tlearn: 0.2279262\ttotal: 240ms\tremaining: 1.14s\n",
      "174:\tlearn: 0.2272057\ttotal: 241ms\tremaining: 1.14s\n",
      "175:\tlearn: 0.2265435\ttotal: 242ms\tremaining: 1.13s\n",
      "176:\tlearn: 0.2260537\ttotal: 243ms\tremaining: 1.13s\n",
      "177:\tlearn: 0.2253540\ttotal: 244ms\tremaining: 1.13s\n",
      "178:\tlearn: 0.2248618\ttotal: 245ms\tremaining: 1.12s\n",
      "179:\tlearn: 0.2240995\ttotal: 246ms\tremaining: 1.12s\n",
      "180:\tlearn: 0.2232189\ttotal: 247ms\tremaining: 1.12s\n",
      "181:\tlearn: 0.2225800\ttotal: 248ms\tremaining: 1.12s\n",
      "182:\tlearn: 0.2220481\ttotal: 249ms\tremaining: 1.11s\n",
      "183:\tlearn: 0.2214486\ttotal: 250ms\tremaining: 1.11s\n",
      "184:\tlearn: 0.2207455\ttotal: 251ms\tremaining: 1.11s\n",
      "185:\tlearn: 0.2201817\ttotal: 253ms\tremaining: 1.1s\n",
      "186:\tlearn: 0.2192874\ttotal: 254ms\tremaining: 1.1s\n",
      "187:\tlearn: 0.2187326\ttotal: 255ms\tremaining: 1.1s\n",
      "188:\tlearn: 0.2181522\ttotal: 256ms\tremaining: 1.1s\n",
      "189:\tlearn: 0.2177848\ttotal: 257ms\tremaining: 1.09s\n",
      "190:\tlearn: 0.2170189\ttotal: 258ms\tremaining: 1.09s\n",
      "191:\tlearn: 0.2164990\ttotal: 259ms\tremaining: 1.09s\n",
      "192:\tlearn: 0.2160070\ttotal: 260ms\tremaining: 1.09s\n",
      "193:\tlearn: 0.2151751\ttotal: 261ms\tremaining: 1.08s\n",
      "194:\tlearn: 0.2147457\ttotal: 262ms\tremaining: 1.08s\n",
      "195:\tlearn: 0.2141692\ttotal: 263ms\tremaining: 1.08s\n",
      "196:\tlearn: 0.2137410\ttotal: 264ms\tremaining: 1.08s\n",
      "197:\tlearn: 0.2133183\ttotal: 266ms\tremaining: 1.07s\n",
      "198:\tlearn: 0.2127176\ttotal: 267ms\tremaining: 1.07s\n",
      "199:\tlearn: 0.2120294\ttotal: 268ms\tremaining: 1.07s\n",
      "200:\tlearn: 0.2112221\ttotal: 269ms\tremaining: 1.07s\n",
      "201:\tlearn: 0.2107032\ttotal: 270ms\tremaining: 1.06s\n",
      "202:\tlearn: 0.2101709\ttotal: 271ms\tremaining: 1.06s\n",
      "203:\tlearn: 0.2093741\ttotal: 272ms\tremaining: 1.06s\n",
      "204:\tlearn: 0.2088779\ttotal: 273ms\tremaining: 1.06s\n"
     ]
    },
    {
     "name": "stdout",
     "output_type": "stream",
     "text": [
      "205:\tlearn: 0.2082561\ttotal: 274ms\tremaining: 1.05s\n",
      "206:\tlearn: 0.2078135\ttotal: 275ms\tremaining: 1.05s\n",
      "207:\tlearn: 0.2074406\ttotal: 276ms\tremaining: 1.05s\n",
      "208:\tlearn: 0.2069652\ttotal: 277ms\tremaining: 1.05s\n",
      "209:\tlearn: 0.2063064\ttotal: 278ms\tremaining: 1.05s\n",
      "210:\tlearn: 0.2056757\ttotal: 279ms\tremaining: 1.04s\n",
      "211:\tlearn: 0.2050458\ttotal: 280ms\tremaining: 1.04s\n",
      "212:\tlearn: 0.2046725\ttotal: 281ms\tremaining: 1.04s\n",
      "213:\tlearn: 0.2041633\ttotal: 282ms\tremaining: 1.04s\n",
      "214:\tlearn: 0.2036661\ttotal: 284ms\tremaining: 1.03s\n",
      "215:\tlearn: 0.2029650\ttotal: 285ms\tremaining: 1.03s\n",
      "216:\tlearn: 0.2024155\ttotal: 286ms\tremaining: 1.03s\n",
      "217:\tlearn: 0.2021667\ttotal: 288ms\tremaining: 1.03s\n",
      "218:\tlearn: 0.2014901\ttotal: 289ms\tremaining: 1.03s\n",
      "219:\tlearn: 0.2011204\ttotal: 291ms\tremaining: 1.03s\n",
      "220:\tlearn: 0.2004595\ttotal: 293ms\tremaining: 1.03s\n",
      "221:\tlearn: 0.2000244\ttotal: 294ms\tremaining: 1.03s\n",
      "222:\tlearn: 0.1995333\ttotal: 295ms\tremaining: 1.03s\n",
      "223:\tlearn: 0.1990834\ttotal: 296ms\tremaining: 1.02s\n",
      "224:\tlearn: 0.1985650\ttotal: 297ms\tremaining: 1.02s\n",
      "225:\tlearn: 0.1979698\ttotal: 298ms\tremaining: 1.02s\n",
      "226:\tlearn: 0.1976313\ttotal: 299ms\tremaining: 1.02s\n",
      "227:\tlearn: 0.1969827\ttotal: 300ms\tremaining: 1.02s\n",
      "228:\tlearn: 0.1966758\ttotal: 301ms\tremaining: 1.01s\n",
      "229:\tlearn: 0.1963289\ttotal: 302ms\tremaining: 1.01s\n",
      "230:\tlearn: 0.1961118\ttotal: 303ms\tremaining: 1.01s\n",
      "231:\tlearn: 0.1954357\ttotal: 304ms\tremaining: 1.01s\n",
      "232:\tlearn: 0.1951195\ttotal: 305ms\tremaining: 1s\n",
      "233:\tlearn: 0.1944323\ttotal: 307ms\tremaining: 1s\n",
      "234:\tlearn: 0.1938566\ttotal: 308ms\tremaining: 1s\n",
      "235:\tlearn: 0.1932986\ttotal: 309ms\tremaining: 999ms\n",
      "236:\tlearn: 0.1925657\ttotal: 310ms\tremaining: 998ms\n",
      "237:\tlearn: 0.1919959\ttotal: 311ms\tremaining: 995ms\n",
      "238:\tlearn: 0.1914928\ttotal: 312ms\tremaining: 993ms\n",
      "239:\tlearn: 0.1909111\ttotal: 313ms\tremaining: 991ms\n",
      "240:\tlearn: 0.1905213\ttotal: 314ms\tremaining: 989ms\n",
      "241:\tlearn: 0.1900501\ttotal: 315ms\tremaining: 986ms\n",
      "242:\tlearn: 0.1895539\ttotal: 316ms\tremaining: 984ms\n",
      "243:\tlearn: 0.1889345\ttotal: 317ms\tremaining: 982ms\n",
      "244:\tlearn: 0.1885886\ttotal: 318ms\tremaining: 980ms\n",
      "245:\tlearn: 0.1879697\ttotal: 319ms\tremaining: 978ms\n",
      "246:\tlearn: 0.1875794\ttotal: 320ms\tremaining: 976ms\n",
      "247:\tlearn: 0.1869583\ttotal: 321ms\tremaining: 974ms\n",
      "248:\tlearn: 0.1867935\ttotal: 322ms\tremaining: 972ms\n",
      "249:\tlearn: 0.1863183\ttotal: 323ms\tremaining: 970ms\n",
      "250:\tlearn: 0.1859454\ttotal: 324ms\tremaining: 968ms\n",
      "251:\tlearn: 0.1853908\ttotal: 325ms\tremaining: 966ms\n",
      "252:\tlearn: 0.1848757\ttotal: 327ms\tremaining: 964ms\n",
      "253:\tlearn: 0.1847584\ttotal: 328ms\tremaining: 962ms\n",
      "254:\tlearn: 0.1842163\ttotal: 329ms\tremaining: 961ms\n",
      "255:\tlearn: 0.1840248\ttotal: 330ms\tremaining: 959ms\n",
      "256:\tlearn: 0.1837008\ttotal: 331ms\tremaining: 957ms\n",
      "257:\tlearn: 0.1832166\ttotal: 332ms\tremaining: 955ms\n",
      "258:\tlearn: 0.1826660\ttotal: 333ms\tremaining: 953ms\n",
      "259:\tlearn: 0.1821424\ttotal: 334ms\tremaining: 951ms\n",
      "260:\tlearn: 0.1815932\ttotal: 335ms\tremaining: 949ms\n",
      "261:\tlearn: 0.1812171\ttotal: 336ms\tremaining: 947ms\n",
      "262:\tlearn: 0.1808287\ttotal: 337ms\tremaining: 946ms\n",
      "263:\tlearn: 0.1804581\ttotal: 338ms\tremaining: 944ms\n",
      "264:\tlearn: 0.1800551\ttotal: 340ms\tremaining: 942ms\n",
      "265:\tlearn: 0.1795337\ttotal: 341ms\tremaining: 940ms\n",
      "266:\tlearn: 0.1790529\ttotal: 342ms\tremaining: 938ms\n",
      "267:\tlearn: 0.1787127\ttotal: 343ms\tremaining: 937ms\n",
      "268:\tlearn: 0.1781938\ttotal: 344ms\tremaining: 935ms\n",
      "269:\tlearn: 0.1780295\ttotal: 345ms\tremaining: 933ms\n",
      "270:\tlearn: 0.1774895\ttotal: 346ms\tremaining: 931ms\n",
      "271:\tlearn: 0.1773371\ttotal: 347ms\tremaining: 929ms\n",
      "272:\tlearn: 0.1771001\ttotal: 348ms\tremaining: 928ms\n",
      "273:\tlearn: 0.1765769\ttotal: 349ms\tremaining: 926ms\n",
      "274:\tlearn: 0.1763026\ttotal: 351ms\tremaining: 924ms\n",
      "275:\tlearn: 0.1761904\ttotal: 352ms\tremaining: 922ms\n",
      "276:\tlearn: 0.1760584\ttotal: 353ms\tremaining: 921ms\n",
      "277:\tlearn: 0.1756408\ttotal: 354ms\tremaining: 919ms\n",
      "278:\tlearn: 0.1755463\ttotal: 355ms\tremaining: 917ms\n",
      "279:\tlearn: 0.1752955\ttotal: 356ms\tremaining: 915ms\n",
      "280:\tlearn: 0.1746177\ttotal: 357ms\tremaining: 914ms\n",
      "281:\tlearn: 0.1741046\ttotal: 358ms\tremaining: 912ms\n",
      "282:\tlearn: 0.1739640\ttotal: 359ms\tremaining: 910ms\n",
      "283:\tlearn: 0.1732813\ttotal: 360ms\tremaining: 909ms\n",
      "284:\tlearn: 0.1727814\ttotal: 361ms\tremaining: 907ms\n",
      "285:\tlearn: 0.1726897\ttotal: 362ms\tremaining: 905ms\n",
      "286:\tlearn: 0.1722489\ttotal: 364ms\tremaining: 903ms\n",
      "287:\tlearn: 0.1717064\ttotal: 365ms\tremaining: 901ms\n",
      "288:\tlearn: 0.1715836\ttotal: 366ms\tremaining: 899ms\n",
      "289:\tlearn: 0.1712667\ttotal: 367ms\tremaining: 897ms\n",
      "290:\tlearn: 0.1711655\ttotal: 368ms\tremaining: 896ms\n",
      "291:\tlearn: 0.1710049\ttotal: 369ms\tremaining: 894ms\n",
      "292:\tlearn: 0.1709257\ttotal: 370ms\tremaining: 892ms\n",
      "293:\tlearn: 0.1704263\ttotal: 371ms\tremaining: 890ms\n",
      "294:\tlearn: 0.1703464\ttotal: 372ms\tremaining: 889ms\n",
      "295:\tlearn: 0.1701436\ttotal: 373ms\tremaining: 887ms\n",
      "296:\tlearn: 0.1697163\ttotal: 374ms\tremaining: 885ms\n",
      "297:\tlearn: 0.1693564\ttotal: 375ms\tremaining: 884ms\n",
      "298:\tlearn: 0.1689396\ttotal: 376ms\tremaining: 882ms\n",
      "299:\tlearn: 0.1685987\ttotal: 377ms\tremaining: 880ms\n",
      "300:\tlearn: 0.1681458\ttotal: 378ms\tremaining: 878ms\n",
      "301:\tlearn: 0.1676985\ttotal: 379ms\tremaining: 876ms\n",
      "302:\tlearn: 0.1676047\ttotal: 380ms\tremaining: 875ms\n",
      "303:\tlearn: 0.1675238\ttotal: 381ms\tremaining: 873ms\n",
      "304:\tlearn: 0.1670804\ttotal: 382ms\tremaining: 871ms\n",
      "305:\tlearn: 0.1666951\ttotal: 383ms\tremaining: 870ms\n",
      "306:\tlearn: 0.1662065\ttotal: 385ms\tremaining: 868ms\n",
      "307:\tlearn: 0.1658267\ttotal: 386ms\tremaining: 866ms\n",
      "308:\tlearn: 0.1654657\ttotal: 387ms\tremaining: 865ms\n",
      "309:\tlearn: 0.1650481\ttotal: 388ms\tremaining: 863ms\n",
      "310:\tlearn: 0.1649907\ttotal: 389ms\tremaining: 862ms\n",
      "311:\tlearn: 0.1645913\ttotal: 390ms\tremaining: 860ms\n",
      "312:\tlearn: 0.1645273\ttotal: 391ms\tremaining: 858ms\n",
      "313:\tlearn: 0.1639906\ttotal: 392ms\tremaining: 856ms\n",
      "314:\tlearn: 0.1635323\ttotal: 393ms\tremaining: 855ms\n",
      "315:\tlearn: 0.1632447\ttotal: 394ms\tremaining: 853ms\n",
      "316:\tlearn: 0.1628452\ttotal: 395ms\tremaining: 852ms\n",
      "317:\tlearn: 0.1624878\ttotal: 396ms\tremaining: 850ms\n",
      "318:\tlearn: 0.1621205\ttotal: 397ms\tremaining: 848ms\n",
      "319:\tlearn: 0.1619691\ttotal: 398ms\tremaining: 846ms\n",
      "320:\tlearn: 0.1616323\ttotal: 399ms\tremaining: 845ms\n",
      "321:\tlearn: 0.1612359\ttotal: 400ms\tremaining: 843ms\n",
      "322:\tlearn: 0.1611773\ttotal: 401ms\tremaining: 841ms\n",
      "323:\tlearn: 0.1611109\ttotal: 403ms\tremaining: 840ms\n",
      "324:\tlearn: 0.1608373\ttotal: 403ms\tremaining: 838ms\n",
      "325:\tlearn: 0.1606115\ttotal: 404ms\tremaining: 836ms\n",
      "326:\tlearn: 0.1601764\ttotal: 406ms\tremaining: 835ms\n",
      "327:\tlearn: 0.1598077\ttotal: 407ms\tremaining: 833ms\n"
     ]
    },
    {
     "name": "stdout",
     "output_type": "stream",
     "text": [
      "328:\tlearn: 0.1595170\ttotal: 408ms\tremaining: 831ms\n",
      "329:\tlearn: 0.1591766\ttotal: 409ms\tremaining: 830ms\n",
      "330:\tlearn: 0.1587708\ttotal: 410ms\tremaining: 828ms\n",
      "331:\tlearn: 0.1587077\ttotal: 411ms\tremaining: 827ms\n",
      "332:\tlearn: 0.1582759\ttotal: 412ms\tremaining: 825ms\n",
      "333:\tlearn: 0.1581641\ttotal: 413ms\tremaining: 823ms\n",
      "334:\tlearn: 0.1576935\ttotal: 414ms\tremaining: 822ms\n",
      "335:\tlearn: 0.1575143\ttotal: 415ms\tremaining: 820ms\n",
      "336:\tlearn: 0.1573646\ttotal: 416ms\tremaining: 818ms\n",
      "337:\tlearn: 0.1570483\ttotal: 417ms\tremaining: 816ms\n",
      "338:\tlearn: 0.1569914\ttotal: 418ms\tremaining: 815ms\n",
      "339:\tlearn: 0.1566278\ttotal: 419ms\tremaining: 813ms\n",
      "340:\tlearn: 0.1562111\ttotal: 420ms\tremaining: 812ms\n",
      "341:\tlearn: 0.1559799\ttotal: 421ms\tremaining: 810ms\n",
      "342:\tlearn: 0.1559010\ttotal: 422ms\tremaining: 808ms\n",
      "343:\tlearn: 0.1556096\ttotal: 423ms\tremaining: 807ms\n",
      "344:\tlearn: 0.1552520\ttotal: 424ms\tremaining: 805ms\n",
      "345:\tlearn: 0.1550617\ttotal: 425ms\tremaining: 803ms\n",
      "346:\tlearn: 0.1547175\ttotal: 426ms\tremaining: 802ms\n",
      "347:\tlearn: 0.1546098\ttotal: 427ms\tremaining: 800ms\n",
      "348:\tlearn: 0.1545428\ttotal: 428ms\tremaining: 799ms\n",
      "349:\tlearn: 0.1544973\ttotal: 429ms\tremaining: 797ms\n",
      "350:\tlearn: 0.1540104\ttotal: 430ms\tremaining: 795ms\n",
      "351:\tlearn: 0.1539551\ttotal: 431ms\tremaining: 794ms\n",
      "352:\tlearn: 0.1535021\ttotal: 432ms\tremaining: 792ms\n",
      "353:\tlearn: 0.1531089\ttotal: 433ms\tremaining: 791ms\n",
      "354:\tlearn: 0.1528004\ttotal: 435ms\tremaining: 790ms\n",
      "355:\tlearn: 0.1525084\ttotal: 436ms\tremaining: 788ms\n",
      "356:\tlearn: 0.1524658\ttotal: 436ms\tremaining: 786ms\n",
      "357:\tlearn: 0.1521384\ttotal: 438ms\tremaining: 785ms\n",
      "358:\tlearn: 0.1517379\ttotal: 439ms\tremaining: 783ms\n",
      "359:\tlearn: 0.1514114\ttotal: 440ms\tremaining: 781ms\n",
      "360:\tlearn: 0.1510937\ttotal: 441ms\tremaining: 780ms\n",
      "361:\tlearn: 0.1507970\ttotal: 442ms\tremaining: 778ms\n",
      "362:\tlearn: 0.1504782\ttotal: 443ms\tremaining: 777ms\n",
      "363:\tlearn: 0.1501376\ttotal: 444ms\tremaining: 775ms\n",
      "364:\tlearn: 0.1498203\ttotal: 445ms\tremaining: 774ms\n",
      "365:\tlearn: 0.1497613\ttotal: 446ms\tremaining: 772ms\n",
      "366:\tlearn: 0.1494430\ttotal: 447ms\tremaining: 770ms\n",
      "367:\tlearn: 0.1491916\ttotal: 448ms\tremaining: 769ms\n",
      "368:\tlearn: 0.1490243\ttotal: 449ms\tremaining: 767ms\n",
      "369:\tlearn: 0.1486725\ttotal: 450ms\tremaining: 766ms\n",
      "370:\tlearn: 0.1482573\ttotal: 451ms\tremaining: 765ms\n",
      "371:\tlearn: 0.1478039\ttotal: 452ms\tremaining: 763ms\n",
      "372:\tlearn: 0.1476853\ttotal: 453ms\tremaining: 762ms\n",
      "373:\tlearn: 0.1476600\ttotal: 454ms\tremaining: 760ms\n",
      "374:\tlearn: 0.1471640\ttotal: 455ms\tremaining: 759ms\n",
      "375:\tlearn: 0.1467007\ttotal: 456ms\tremaining: 757ms\n",
      "376:\tlearn: 0.1464037\ttotal: 457ms\tremaining: 756ms\n",
      "377:\tlearn: 0.1460864\ttotal: 458ms\tremaining: 754ms\n",
      "378:\tlearn: 0.1460438\ttotal: 459ms\tremaining: 753ms\n",
      "379:\tlearn: 0.1456444\ttotal: 461ms\tremaining: 751ms\n",
      "380:\tlearn: 0.1453942\ttotal: 461ms\tremaining: 750ms\n",
      "381:\tlearn: 0.1453208\ttotal: 462ms\tremaining: 748ms\n",
      "382:\tlearn: 0.1449531\ttotal: 463ms\tremaining: 747ms\n",
      "383:\tlearn: 0.1446021\ttotal: 465ms\tremaining: 745ms\n",
      "384:\tlearn: 0.1441926\ttotal: 466ms\tremaining: 744ms\n",
      "385:\tlearn: 0.1439112\ttotal: 467ms\tremaining: 742ms\n",
      "386:\tlearn: 0.1435063\ttotal: 468ms\tremaining: 741ms\n",
      "387:\tlearn: 0.1434772\ttotal: 469ms\tremaining: 740ms\n",
      "388:\tlearn: 0.1433042\ttotal: 470ms\tremaining: 738ms\n",
      "389:\tlearn: 0.1429993\ttotal: 471ms\tremaining: 737ms\n",
      "390:\tlearn: 0.1427067\ttotal: 472ms\tremaining: 735ms\n",
      "391:\tlearn: 0.1423746\ttotal: 473ms\tremaining: 734ms\n",
      "392:\tlearn: 0.1420008\ttotal: 474ms\tremaining: 732ms\n",
      "393:\tlearn: 0.1417219\ttotal: 475ms\tremaining: 731ms\n",
      "394:\tlearn: 0.1415367\ttotal: 476ms\tremaining: 729ms\n",
      "395:\tlearn: 0.1411590\ttotal: 477ms\tremaining: 728ms\n",
      "396:\tlearn: 0.1407886\ttotal: 478ms\tremaining: 727ms\n",
      "397:\tlearn: 0.1405272\ttotal: 479ms\tremaining: 725ms\n",
      "398:\tlearn: 0.1400932\ttotal: 480ms\tremaining: 724ms\n",
      "399:\tlearn: 0.1399671\ttotal: 481ms\tremaining: 722ms\n",
      "400:\tlearn: 0.1396254\ttotal: 483ms\tremaining: 721ms\n",
      "401:\tlearn: 0.1392575\ttotal: 484ms\tremaining: 719ms\n",
      "402:\tlearn: 0.1389365\ttotal: 485ms\tremaining: 718ms\n",
      "403:\tlearn: 0.1387587\ttotal: 486ms\tremaining: 717ms\n",
      "404:\tlearn: 0.1383370\ttotal: 487ms\tremaining: 715ms\n",
      "405:\tlearn: 0.1380875\ttotal: 488ms\tremaining: 714ms\n",
      "406:\tlearn: 0.1376287\ttotal: 489ms\tremaining: 713ms\n",
      "407:\tlearn: 0.1373673\ttotal: 490ms\tremaining: 711ms\n",
      "408:\tlearn: 0.1371321\ttotal: 491ms\tremaining: 710ms\n",
      "409:\tlearn: 0.1368333\ttotal: 493ms\tremaining: 709ms\n",
      "410:\tlearn: 0.1366229\ttotal: 494ms\tremaining: 708ms\n",
      "411:\tlearn: 0.1364265\ttotal: 495ms\tremaining: 706ms\n",
      "412:\tlearn: 0.1362185\ttotal: 496ms\tremaining: 705ms\n",
      "413:\tlearn: 0.1360986\ttotal: 497ms\tremaining: 703ms\n",
      "414:\tlearn: 0.1357993\ttotal: 498ms\tremaining: 702ms\n",
      "415:\tlearn: 0.1356339\ttotal: 499ms\tremaining: 701ms\n",
      "416:\tlearn: 0.1352056\ttotal: 500ms\tremaining: 699ms\n",
      "417:\tlearn: 0.1348205\ttotal: 501ms\tremaining: 698ms\n",
      "418:\tlearn: 0.1345860\ttotal: 502ms\tremaining: 697ms\n",
      "419:\tlearn: 0.1341904\ttotal: 503ms\tremaining: 695ms\n",
      "420:\tlearn: 0.1338352\ttotal: 504ms\tremaining: 694ms\n",
      "421:\tlearn: 0.1337917\ttotal: 506ms\tremaining: 693ms\n",
      "422:\tlearn: 0.1333436\ttotal: 507ms\tremaining: 691ms\n",
      "423:\tlearn: 0.1331300\ttotal: 508ms\tremaining: 690ms\n",
      "424:\tlearn: 0.1328481\ttotal: 509ms\tremaining: 688ms\n",
      "425:\tlearn: 0.1326760\ttotal: 510ms\tremaining: 687ms\n",
      "426:\tlearn: 0.1324974\ttotal: 511ms\tremaining: 686ms\n",
      "427:\tlearn: 0.1320702\ttotal: 512ms\tremaining: 684ms\n",
      "428:\tlearn: 0.1318913\ttotal: 513ms\tremaining: 683ms\n",
      "429:\tlearn: 0.1318713\ttotal: 514ms\tremaining: 682ms\n",
      "430:\tlearn: 0.1315721\ttotal: 515ms\tremaining: 680ms\n",
      "431:\tlearn: 0.1313978\ttotal: 517ms\tremaining: 679ms\n",
      "432:\tlearn: 0.1309786\ttotal: 518ms\tremaining: 678ms\n",
      "433:\tlearn: 0.1306391\ttotal: 519ms\tremaining: 676ms\n",
      "434:\tlearn: 0.1303587\ttotal: 520ms\tremaining: 675ms\n",
      "435:\tlearn: 0.1298778\ttotal: 521ms\tremaining: 674ms\n",
      "436:\tlearn: 0.1297445\ttotal: 522ms\tremaining: 672ms\n",
      "437:\tlearn: 0.1296435\ttotal: 523ms\tremaining: 671ms\n",
      "438:\tlearn: 0.1296025\ttotal: 524ms\tremaining: 669ms\n",
      "439:\tlearn: 0.1293885\ttotal: 525ms\tremaining: 668ms\n",
      "440:\tlearn: 0.1292450\ttotal: 526ms\tremaining: 667ms\n",
      "441:\tlearn: 0.1290367\ttotal: 527ms\tremaining: 665ms\n",
      "442:\tlearn: 0.1286177\ttotal: 528ms\tremaining: 664ms\n",
      "443:\tlearn: 0.1284129\ttotal: 529ms\tremaining: 663ms\n",
      "444:\tlearn: 0.1280776\ttotal: 530ms\tremaining: 661ms\n",
      "445:\tlearn: 0.1278800\ttotal: 531ms\tremaining: 660ms\n",
      "446:\tlearn: 0.1276428\ttotal: 532ms\tremaining: 659ms\n",
      "447:\tlearn: 0.1274263\ttotal: 533ms\tremaining: 657ms\n",
      "448:\tlearn: 0.1271147\ttotal: 534ms\tremaining: 656ms\n",
      "449:\tlearn: 0.1267970\ttotal: 536ms\tremaining: 655ms\n",
      "450:\tlearn: 0.1264655\ttotal: 537ms\tremaining: 653ms\n",
      "451:\tlearn: 0.1260221\ttotal: 538ms\tremaining: 652ms\n",
      "452:\tlearn: 0.1256966\ttotal: 539ms\tremaining: 651ms\n",
      "453:\tlearn: 0.1254414\ttotal: 541ms\tremaining: 650ms\n"
     ]
    },
    {
     "name": "stdout",
     "output_type": "stream",
     "text": [
      "454:\tlearn: 0.1254034\ttotal: 542ms\tremaining: 649ms\n",
      "455:\tlearn: 0.1251036\ttotal: 543ms\tremaining: 648ms\n",
      "456:\tlearn: 0.1248645\ttotal: 544ms\tremaining: 647ms\n",
      "457:\tlearn: 0.1246058\ttotal: 545ms\tremaining: 645ms\n",
      "458:\tlearn: 0.1243962\ttotal: 546ms\tremaining: 644ms\n",
      "459:\tlearn: 0.1241255\ttotal: 548ms\tremaining: 643ms\n",
      "460:\tlearn: 0.1239339\ttotal: 549ms\tremaining: 642ms\n",
      "461:\tlearn: 0.1237709\ttotal: 550ms\tremaining: 640ms\n",
      "462:\tlearn: 0.1235063\ttotal: 551ms\tremaining: 639ms\n",
      "463:\tlearn: 0.1232221\ttotal: 552ms\tremaining: 638ms\n",
      "464:\tlearn: 0.1231109\ttotal: 553ms\tremaining: 636ms\n",
      "465:\tlearn: 0.1227864\ttotal: 554ms\tremaining: 635ms\n",
      "466:\tlearn: 0.1226041\ttotal: 555ms\tremaining: 634ms\n",
      "467:\tlearn: 0.1222994\ttotal: 556ms\tremaining: 632ms\n",
      "468:\tlearn: 0.1219913\ttotal: 557ms\tremaining: 631ms\n",
      "469:\tlearn: 0.1217944\ttotal: 558ms\tremaining: 629ms\n",
      "470:\tlearn: 0.1215629\ttotal: 559ms\tremaining: 628ms\n",
      "471:\tlearn: 0.1212988\ttotal: 560ms\tremaining: 627ms\n",
      "472:\tlearn: 0.1210170\ttotal: 562ms\tremaining: 626ms\n",
      "473:\tlearn: 0.1207660\ttotal: 563ms\tremaining: 624ms\n",
      "474:\tlearn: 0.1205898\ttotal: 564ms\tremaining: 623ms\n",
      "475:\tlearn: 0.1203760\ttotal: 565ms\tremaining: 622ms\n",
      "476:\tlearn: 0.1202985\ttotal: 566ms\tremaining: 620ms\n",
      "477:\tlearn: 0.1201988\ttotal: 567ms\tremaining: 619ms\n",
      "478:\tlearn: 0.1199695\ttotal: 568ms\tremaining: 617ms\n",
      "479:\tlearn: 0.1197919\ttotal: 569ms\tremaining: 616ms\n",
      "480:\tlearn: 0.1194423\ttotal: 570ms\tremaining: 615ms\n",
      "481:\tlearn: 0.1193361\ttotal: 571ms\tremaining: 613ms\n",
      "482:\tlearn: 0.1190935\ttotal: 572ms\tremaining: 612ms\n",
      "483:\tlearn: 0.1189188\ttotal: 573ms\tremaining: 611ms\n",
      "484:\tlearn: 0.1186794\ttotal: 574ms\tremaining: 610ms\n",
      "485:\tlearn: 0.1184124\ttotal: 575ms\tremaining: 608ms\n",
      "486:\tlearn: 0.1182378\ttotal: 576ms\tremaining: 607ms\n",
      "487:\tlearn: 0.1180539\ttotal: 577ms\tremaining: 606ms\n",
      "488:\tlearn: 0.1177528\ttotal: 578ms\tremaining: 605ms\n",
      "489:\tlearn: 0.1175453\ttotal: 580ms\tremaining: 603ms\n",
      "490:\tlearn: 0.1172937\ttotal: 581ms\tremaining: 602ms\n",
      "491:\tlearn: 0.1171546\ttotal: 582ms\tremaining: 601ms\n",
      "492:\tlearn: 0.1170172\ttotal: 583ms\tremaining: 599ms\n",
      "493:\tlearn: 0.1168133\ttotal: 584ms\tremaining: 598ms\n",
      "494:\tlearn: 0.1164817\ttotal: 585ms\tremaining: 597ms\n",
      "495:\tlearn: 0.1162344\ttotal: 586ms\tremaining: 596ms\n",
      "496:\tlearn: 0.1159984\ttotal: 587ms\tremaining: 594ms\n",
      "497:\tlearn: 0.1157411\ttotal: 588ms\tremaining: 593ms\n",
      "498:\tlearn: 0.1155264\ttotal: 589ms\tremaining: 592ms\n",
      "499:\tlearn: 0.1154377\ttotal: 590ms\tremaining: 590ms\n",
      "500:\tlearn: 0.1152533\ttotal: 591ms\tremaining: 589ms\n",
      "501:\tlearn: 0.1149622\ttotal: 592ms\tremaining: 588ms\n",
      "502:\tlearn: 0.1147635\ttotal: 594ms\tremaining: 586ms\n",
      "503:\tlearn: 0.1145778\ttotal: 595ms\tremaining: 585ms\n",
      "504:\tlearn: 0.1144360\ttotal: 596ms\tremaining: 584ms\n",
      "505:\tlearn: 0.1142791\ttotal: 597ms\tremaining: 583ms\n",
      "506:\tlearn: 0.1142409\ttotal: 598ms\tremaining: 581ms\n",
      "507:\tlearn: 0.1140961\ttotal: 599ms\tremaining: 580ms\n",
      "508:\tlearn: 0.1139155\ttotal: 600ms\tremaining: 579ms\n",
      "509:\tlearn: 0.1137409\ttotal: 601ms\tremaining: 577ms\n",
      "510:\tlearn: 0.1135003\ttotal: 602ms\tremaining: 576ms\n",
      "511:\tlearn: 0.1134087\ttotal: 603ms\tremaining: 575ms\n",
      "512:\tlearn: 0.1131534\ttotal: 604ms\tremaining: 574ms\n",
      "513:\tlearn: 0.1130429\ttotal: 605ms\tremaining: 572ms\n",
      "514:\tlearn: 0.1128954\ttotal: 607ms\tremaining: 571ms\n",
      "515:\tlearn: 0.1127428\ttotal: 608ms\tremaining: 570ms\n",
      "516:\tlearn: 0.1125587\ttotal: 609ms\tremaining: 569ms\n",
      "517:\tlearn: 0.1123737\ttotal: 610ms\tremaining: 567ms\n",
      "518:\tlearn: 0.1122007\ttotal: 611ms\tremaining: 566ms\n",
      "519:\tlearn: 0.1120227\ttotal: 612ms\tremaining: 565ms\n",
      "520:\tlearn: 0.1118564\ttotal: 613ms\tremaining: 564ms\n",
      "521:\tlearn: 0.1116905\ttotal: 614ms\tremaining: 562ms\n",
      "522:\tlearn: 0.1115030\ttotal: 615ms\tremaining: 561ms\n",
      "523:\tlearn: 0.1114232\ttotal: 616ms\tremaining: 560ms\n",
      "524:\tlearn: 0.1112522\ttotal: 617ms\tremaining: 559ms\n",
      "525:\tlearn: 0.1111360\ttotal: 619ms\tremaining: 557ms\n",
      "526:\tlearn: 0.1109822\ttotal: 620ms\tremaining: 556ms\n",
      "527:\tlearn: 0.1107495\ttotal: 621ms\tremaining: 555ms\n",
      "528:\tlearn: 0.1105752\ttotal: 622ms\tremaining: 554ms\n",
      "529:\tlearn: 0.1104047\ttotal: 623ms\tremaining: 553ms\n",
      "530:\tlearn: 0.1102987\ttotal: 624ms\tremaining: 551ms\n",
      "531:\tlearn: 0.1100238\ttotal: 625ms\tremaining: 550ms\n",
      "532:\tlearn: 0.1098901\ttotal: 626ms\tremaining: 549ms\n",
      "533:\tlearn: 0.1097006\ttotal: 627ms\tremaining: 548ms\n",
      "534:\tlearn: 0.1095406\ttotal: 629ms\tremaining: 546ms\n",
      "535:\tlearn: 0.1093700\ttotal: 630ms\tremaining: 545ms\n",
      "536:\tlearn: 0.1092427\ttotal: 631ms\tremaining: 544ms\n",
      "537:\tlearn: 0.1089725\ttotal: 632ms\tremaining: 543ms\n",
      "538:\tlearn: 0.1087955\ttotal: 633ms\tremaining: 542ms\n",
      "539:\tlearn: 0.1085887\ttotal: 634ms\tremaining: 540ms\n",
      "540:\tlearn: 0.1083970\ttotal: 635ms\tremaining: 539ms\n",
      "541:\tlearn: 0.1083076\ttotal: 636ms\tremaining: 538ms\n",
      "542:\tlearn: 0.1080538\ttotal: 637ms\tremaining: 536ms\n",
      "543:\tlearn: 0.1078735\ttotal: 638ms\tremaining: 535ms\n",
      "544:\tlearn: 0.1076277\ttotal: 639ms\tremaining: 534ms\n",
      "545:\tlearn: 0.1074838\ttotal: 640ms\tremaining: 533ms\n",
      "546:\tlearn: 0.1073075\ttotal: 641ms\tremaining: 531ms\n",
      "547:\tlearn: 0.1071532\ttotal: 643ms\tremaining: 530ms\n",
      "548:\tlearn: 0.1070062\ttotal: 644ms\tremaining: 529ms\n",
      "549:\tlearn: 0.1067845\ttotal: 645ms\tremaining: 527ms\n",
      "550:\tlearn: 0.1064466\ttotal: 646ms\tremaining: 526ms\n",
      "551:\tlearn: 0.1061952\ttotal: 647ms\tremaining: 525ms\n",
      "552:\tlearn: 0.1060827\ttotal: 648ms\tremaining: 524ms\n",
      "553:\tlearn: 0.1059298\ttotal: 649ms\tremaining: 523ms\n",
      "554:\tlearn: 0.1057891\ttotal: 650ms\tremaining: 521ms\n",
      "555:\tlearn: 0.1056575\ttotal: 651ms\tremaining: 520ms\n",
      "556:\tlearn: 0.1055144\ttotal: 653ms\tremaining: 519ms\n",
      "557:\tlearn: 0.1052518\ttotal: 654ms\tremaining: 518ms\n",
      "558:\tlearn: 0.1050972\ttotal: 655ms\tremaining: 516ms\n",
      "559:\tlearn: 0.1049317\ttotal: 656ms\tremaining: 515ms\n",
      "560:\tlearn: 0.1048012\ttotal: 657ms\tremaining: 514ms\n",
      "561:\tlearn: 0.1046250\ttotal: 658ms\tremaining: 513ms\n",
      "562:\tlearn: 0.1043673\ttotal: 659ms\tremaining: 511ms\n",
      "563:\tlearn: 0.1042333\ttotal: 660ms\tremaining: 510ms\n",
      "564:\tlearn: 0.1040508\ttotal: 661ms\tremaining: 509ms\n",
      "565:\tlearn: 0.1038612\ttotal: 662ms\tremaining: 508ms\n",
      "566:\tlearn: 0.1037235\ttotal: 663ms\tremaining: 507ms\n",
      "567:\tlearn: 0.1033747\ttotal: 664ms\tremaining: 505ms\n",
      "568:\tlearn: 0.1032731\ttotal: 665ms\tremaining: 504ms\n",
      "569:\tlearn: 0.1031099\ttotal: 666ms\tremaining: 503ms\n",
      "570:\tlearn: 0.1028929\ttotal: 667ms\tremaining: 501ms\n",
      "571:\tlearn: 0.1027640\ttotal: 669ms\tremaining: 500ms\n",
      "572:\tlearn: 0.1026479\ttotal: 670ms\tremaining: 499ms\n",
      "573:\tlearn: 0.1024306\ttotal: 671ms\tremaining: 498ms\n",
      "574:\tlearn: 0.1023534\ttotal: 672ms\tremaining: 497ms\n",
      "575:\tlearn: 0.1021237\ttotal: 673ms\tremaining: 495ms\n",
      "576:\tlearn: 0.1020915\ttotal: 674ms\tremaining: 494ms\n",
      "577:\tlearn: 0.1019834\ttotal: 675ms\tremaining: 493ms\n",
      "578:\tlearn: 0.1018106\ttotal: 676ms\tremaining: 492ms\n"
     ]
    },
    {
     "name": "stdout",
     "output_type": "stream",
     "text": [
      "579:\tlearn: 0.1016130\ttotal: 678ms\tremaining: 491ms\n",
      "580:\tlearn: 0.1014333\ttotal: 679ms\tremaining: 490ms\n",
      "581:\tlearn: 0.1011815\ttotal: 680ms\tremaining: 488ms\n",
      "582:\tlearn: 0.1008652\ttotal: 681ms\tremaining: 487ms\n",
      "583:\tlearn: 0.1006305\ttotal: 682ms\tremaining: 486ms\n",
      "584:\tlearn: 0.1003954\ttotal: 683ms\tremaining: 485ms\n",
      "585:\tlearn: 0.1001597\ttotal: 685ms\tremaining: 484ms\n",
      "586:\tlearn: 0.0999023\ttotal: 686ms\tremaining: 482ms\n",
      "587:\tlearn: 0.0997348\ttotal: 687ms\tremaining: 481ms\n",
      "588:\tlearn: 0.0995691\ttotal: 688ms\tremaining: 480ms\n",
      "589:\tlearn: 0.0994275\ttotal: 689ms\tremaining: 479ms\n",
      "590:\tlearn: 0.0993122\ttotal: 690ms\tremaining: 477ms\n",
      "591:\tlearn: 0.0991743\ttotal: 691ms\tremaining: 476ms\n",
      "592:\tlearn: 0.0989862\ttotal: 692ms\tremaining: 475ms\n",
      "593:\tlearn: 0.0987949\ttotal: 693ms\tremaining: 474ms\n",
      "594:\tlearn: 0.0986272\ttotal: 694ms\tremaining: 472ms\n",
      "595:\tlearn: 0.0984020\ttotal: 695ms\tremaining: 471ms\n",
      "596:\tlearn: 0.0982839\ttotal: 696ms\tremaining: 470ms\n",
      "597:\tlearn: 0.0982367\ttotal: 697ms\tremaining: 468ms\n",
      "598:\tlearn: 0.0980158\ttotal: 698ms\tremaining: 467ms\n",
      "599:\tlearn: 0.0978557\ttotal: 699ms\tremaining: 466ms\n",
      "600:\tlearn: 0.0976794\ttotal: 700ms\tremaining: 465ms\n",
      "601:\tlearn: 0.0976025\ttotal: 701ms\tremaining: 464ms\n",
      "602:\tlearn: 0.0975573\ttotal: 702ms\tremaining: 462ms\n",
      "603:\tlearn: 0.0975265\ttotal: 703ms\tremaining: 461ms\n",
      "604:\tlearn: 0.0973704\ttotal: 704ms\tremaining: 460ms\n",
      "605:\tlearn: 0.0971492\ttotal: 705ms\tremaining: 458ms\n",
      "606:\tlearn: 0.0970348\ttotal: 706ms\tremaining: 457ms\n",
      "607:\tlearn: 0.0968104\ttotal: 707ms\tremaining: 456ms\n",
      "608:\tlearn: 0.0966254\ttotal: 708ms\tremaining: 455ms\n",
      "609:\tlearn: 0.0965136\ttotal: 709ms\tremaining: 454ms\n",
      "610:\tlearn: 0.0963377\ttotal: 711ms\tremaining: 452ms\n",
      "611:\tlearn: 0.0961334\ttotal: 712ms\tremaining: 451ms\n",
      "612:\tlearn: 0.0959261\ttotal: 713ms\tremaining: 450ms\n",
      "613:\tlearn: 0.0958014\ttotal: 714ms\tremaining: 449ms\n",
      "614:\tlearn: 0.0956305\ttotal: 715ms\tremaining: 447ms\n",
      "615:\tlearn: 0.0954842\ttotal: 716ms\tremaining: 446ms\n",
      "616:\tlearn: 0.0953880\ttotal: 717ms\tremaining: 445ms\n",
      "617:\tlearn: 0.0952143\ttotal: 718ms\tremaining: 444ms\n",
      "618:\tlearn: 0.0950990\ttotal: 719ms\tremaining: 443ms\n",
      "619:\tlearn: 0.0950029\ttotal: 720ms\tremaining: 441ms\n",
      "620:\tlearn: 0.0947792\ttotal: 721ms\tremaining: 440ms\n",
      "621:\tlearn: 0.0945709\ttotal: 722ms\tremaining: 439ms\n",
      "622:\tlearn: 0.0944362\ttotal: 723ms\tremaining: 438ms\n",
      "623:\tlearn: 0.0942809\ttotal: 724ms\tremaining: 436ms\n",
      "624:\tlearn: 0.0941374\ttotal: 725ms\tremaining: 435ms\n",
      "625:\tlearn: 0.0939232\ttotal: 727ms\tremaining: 434ms\n",
      "626:\tlearn: 0.0938301\ttotal: 728ms\tremaining: 433ms\n",
      "627:\tlearn: 0.0937988\ttotal: 729ms\tremaining: 432ms\n",
      "628:\tlearn: 0.0936858\ttotal: 730ms\tremaining: 431ms\n",
      "629:\tlearn: 0.0935220\ttotal: 731ms\tremaining: 429ms\n",
      "630:\tlearn: 0.0933376\ttotal: 732ms\tremaining: 428ms\n",
      "631:\tlearn: 0.0932454\ttotal: 734ms\tremaining: 427ms\n",
      "632:\tlearn: 0.0932014\ttotal: 734ms\tremaining: 426ms\n",
      "633:\tlearn: 0.0930375\ttotal: 735ms\tremaining: 425ms\n",
      "634:\tlearn: 0.0929689\ttotal: 737ms\tremaining: 423ms\n",
      "635:\tlearn: 0.0928345\ttotal: 740ms\tremaining: 424ms\n",
      "636:\tlearn: 0.0927267\ttotal: 742ms\tremaining: 423ms\n",
      "637:\tlearn: 0.0925404\ttotal: 743ms\tremaining: 421ms\n",
      "638:\tlearn: 0.0923816\ttotal: 744ms\tremaining: 420ms\n",
      "639:\tlearn: 0.0923396\ttotal: 744ms\tremaining: 419ms\n",
      "640:\tlearn: 0.0921343\ttotal: 745ms\tremaining: 417ms\n",
      "641:\tlearn: 0.0919880\ttotal: 746ms\tremaining: 416ms\n",
      "642:\tlearn: 0.0919471\ttotal: 747ms\tremaining: 415ms\n",
      "643:\tlearn: 0.0917806\ttotal: 748ms\tremaining: 413ms\n",
      "644:\tlearn: 0.0916596\ttotal: 749ms\tremaining: 412ms\n",
      "645:\tlearn: 0.0915128\ttotal: 750ms\tremaining: 411ms\n",
      "646:\tlearn: 0.0914200\ttotal: 751ms\tremaining: 410ms\n",
      "647:\tlearn: 0.0911491\ttotal: 752ms\tremaining: 409ms\n",
      "648:\tlearn: 0.0910633\ttotal: 753ms\tremaining: 407ms\n",
      "649:\tlearn: 0.0909434\ttotal: 754ms\tremaining: 406ms\n",
      "650:\tlearn: 0.0907257\ttotal: 755ms\tremaining: 405ms\n",
      "651:\tlearn: 0.0905929\ttotal: 756ms\tremaining: 404ms\n",
      "652:\tlearn: 0.0904059\ttotal: 757ms\tremaining: 403ms\n",
      "653:\tlearn: 0.0903451\ttotal: 759ms\tremaining: 401ms\n",
      "654:\tlearn: 0.0901758\ttotal: 760ms\tremaining: 400ms\n",
      "655:\tlearn: 0.0900388\ttotal: 761ms\tremaining: 399ms\n",
      "656:\tlearn: 0.0899427\ttotal: 762ms\tremaining: 398ms\n",
      "657:\tlearn: 0.0898036\ttotal: 763ms\tremaining: 396ms\n",
      "658:\tlearn: 0.0897233\ttotal: 764ms\tremaining: 395ms\n",
      "659:\tlearn: 0.0895216\ttotal: 765ms\tremaining: 394ms\n",
      "660:\tlearn: 0.0893641\ttotal: 766ms\tremaining: 393ms\n",
      "661:\tlearn: 0.0893148\ttotal: 767ms\tremaining: 392ms\n",
      "662:\tlearn: 0.0891149\ttotal: 768ms\tremaining: 390ms\n",
      "663:\tlearn: 0.0889662\ttotal: 769ms\tremaining: 389ms\n",
      "664:\tlearn: 0.0887855\ttotal: 770ms\tremaining: 388ms\n",
      "665:\tlearn: 0.0887289\ttotal: 771ms\tremaining: 387ms\n",
      "666:\tlearn: 0.0886127\ttotal: 772ms\tremaining: 386ms\n",
      "667:\tlearn: 0.0885057\ttotal: 774ms\tremaining: 385ms\n",
      "668:\tlearn: 0.0884388\ttotal: 776ms\tremaining: 384ms\n",
      "669:\tlearn: 0.0883099\ttotal: 777ms\tremaining: 383ms\n",
      "670:\tlearn: 0.0881388\ttotal: 778ms\tremaining: 382ms\n",
      "671:\tlearn: 0.0879507\ttotal: 780ms\tremaining: 380ms\n",
      "672:\tlearn: 0.0879145\ttotal: 780ms\tremaining: 379ms\n",
      "673:\tlearn: 0.0877434\ttotal: 781ms\tremaining: 378ms\n",
      "674:\tlearn: 0.0876752\ttotal: 782ms\tremaining: 377ms\n",
      "675:\tlearn: 0.0876401\ttotal: 783ms\tremaining: 375ms\n",
      "676:\tlearn: 0.0874370\ttotal: 784ms\tremaining: 374ms\n",
      "677:\tlearn: 0.0873399\ttotal: 785ms\tremaining: 373ms\n",
      "678:\tlearn: 0.0872413\ttotal: 787ms\tremaining: 372ms\n",
      "679:\tlearn: 0.0871763\ttotal: 788ms\tremaining: 371ms\n",
      "680:\tlearn: 0.0871356\ttotal: 789ms\tremaining: 370ms\n",
      "681:\tlearn: 0.0869815\ttotal: 790ms\tremaining: 368ms\n",
      "682:\tlearn: 0.0869253\ttotal: 791ms\tremaining: 367ms\n",
      "683:\tlearn: 0.0868917\ttotal: 792ms\tremaining: 366ms\n",
      "684:\tlearn: 0.0868591\ttotal: 792ms\tremaining: 364ms\n",
      "685:\tlearn: 0.0867729\ttotal: 793ms\tremaining: 363ms\n",
      "686:\tlearn: 0.0866659\ttotal: 795ms\tremaining: 362ms\n",
      "687:\tlearn: 0.0866082\ttotal: 796ms\tremaining: 361ms\n",
      "688:\tlearn: 0.0864937\ttotal: 797ms\tremaining: 360ms\n",
      "689:\tlearn: 0.0863352\ttotal: 798ms\tremaining: 359ms\n",
      "690:\tlearn: 0.0861463\ttotal: 799ms\tremaining: 357ms\n",
      "691:\tlearn: 0.0860045\ttotal: 800ms\tremaining: 356ms\n",
      "692:\tlearn: 0.0858184\ttotal: 801ms\tremaining: 355ms\n",
      "693:\tlearn: 0.0857020\ttotal: 802ms\tremaining: 354ms\n",
      "694:\tlearn: 0.0855595\ttotal: 803ms\tremaining: 353ms\n",
      "695:\tlearn: 0.0853676\ttotal: 804ms\tremaining: 351ms\n",
      "696:\tlearn: 0.0853028\ttotal: 806ms\tremaining: 350ms\n"
     ]
    },
    {
     "name": "stdout",
     "output_type": "stream",
     "text": [
      "697:\tlearn: 0.0851976\ttotal: 808ms\tremaining: 349ms\n",
      "698:\tlearn: 0.0851664\ttotal: 808ms\tremaining: 348ms\n",
      "699:\tlearn: 0.0850342\ttotal: 809ms\tremaining: 347ms\n",
      "700:\tlearn: 0.0848117\ttotal: 810ms\tremaining: 346ms\n",
      "701:\tlearn: 0.0847522\ttotal: 811ms\tremaining: 344ms\n",
      "702:\tlearn: 0.0847283\ttotal: 812ms\tremaining: 343ms\n",
      "703:\tlearn: 0.0846687\ttotal: 813ms\tremaining: 342ms\n",
      "704:\tlearn: 0.0845774\ttotal: 814ms\tremaining: 341ms\n",
      "705:\tlearn: 0.0844287\ttotal: 816ms\tremaining: 340ms\n",
      "706:\tlearn: 0.0842531\ttotal: 817ms\tremaining: 338ms\n",
      "707:\tlearn: 0.0842291\ttotal: 818ms\tremaining: 337ms\n",
      "708:\tlearn: 0.0839740\ttotal: 819ms\tremaining: 336ms\n",
      "709:\tlearn: 0.0837859\ttotal: 820ms\tremaining: 335ms\n",
      "710:\tlearn: 0.0837633\ttotal: 821ms\tremaining: 334ms\n",
      "711:\tlearn: 0.0836226\ttotal: 822ms\tremaining: 332ms\n",
      "712:\tlearn: 0.0836006\ttotal: 823ms\tremaining: 331ms\n",
      "713:\tlearn: 0.0834929\ttotal: 824ms\tremaining: 330ms\n",
      "714:\tlearn: 0.0833977\ttotal: 825ms\tremaining: 329ms\n",
      "715:\tlearn: 0.0833225\ttotal: 826ms\tremaining: 328ms\n",
      "716:\tlearn: 0.0831186\ttotal: 827ms\tremaining: 327ms\n",
      "717:\tlearn: 0.0830696\ttotal: 828ms\tremaining: 325ms\n",
      "718:\tlearn: 0.0830009\ttotal: 830ms\tremaining: 324ms\n",
      "719:\tlearn: 0.0829536\ttotal: 831ms\tremaining: 323ms\n",
      "720:\tlearn: 0.0828986\ttotal: 832ms\tremaining: 322ms\n",
      "721:\tlearn: 0.0827989\ttotal: 833ms\tremaining: 321ms\n",
      "722:\tlearn: 0.0827024\ttotal: 834ms\tremaining: 320ms\n",
      "723:\tlearn: 0.0825909\ttotal: 835ms\tremaining: 318ms\n",
      "724:\tlearn: 0.0824109\ttotal: 836ms\tremaining: 317ms\n",
      "725:\tlearn: 0.0823864\ttotal: 838ms\tremaining: 316ms\n",
      "726:\tlearn: 0.0822688\ttotal: 839ms\tremaining: 315ms\n",
      "727:\tlearn: 0.0821436\ttotal: 840ms\tremaining: 314ms\n",
      "728:\tlearn: 0.0820240\ttotal: 841ms\tremaining: 313ms\n",
      "729:\tlearn: 0.0819052\ttotal: 842ms\tremaining: 311ms\n",
      "730:\tlearn: 0.0818205\ttotal: 843ms\tremaining: 310ms\n",
      "731:\tlearn: 0.0816872\ttotal: 844ms\tremaining: 309ms\n",
      "732:\tlearn: 0.0816299\ttotal: 845ms\tremaining: 308ms\n",
      "733:\tlearn: 0.0815725\ttotal: 846ms\tremaining: 307ms\n",
      "734:\tlearn: 0.0814726\ttotal: 847ms\tremaining: 305ms\n",
      "735:\tlearn: 0.0813872\ttotal: 848ms\tremaining: 304ms\n",
      "736:\tlearn: 0.0812718\ttotal: 849ms\tremaining: 303ms\n",
      "737:\tlearn: 0.0812284\ttotal: 851ms\tremaining: 302ms\n",
      "738:\tlearn: 0.0810949\ttotal: 852ms\tremaining: 301ms\n",
      "739:\tlearn: 0.0809621\ttotal: 853ms\tremaining: 300ms\n",
      "740:\tlearn: 0.0808381\ttotal: 854ms\tremaining: 298ms\n",
      "741:\tlearn: 0.0806610\ttotal: 855ms\tremaining: 297ms\n",
      "742:\tlearn: 0.0805553\ttotal: 856ms\tremaining: 296ms\n",
      "743:\tlearn: 0.0804714\ttotal: 857ms\tremaining: 295ms\n",
      "744:\tlearn: 0.0803756\ttotal: 858ms\tremaining: 294ms\n",
      "745:\tlearn: 0.0802199\ttotal: 860ms\tremaining: 293ms\n",
      "746:\tlearn: 0.0800791\ttotal: 861ms\tremaining: 291ms\n",
      "747:\tlearn: 0.0799862\ttotal: 862ms\tremaining: 290ms\n",
      "748:\tlearn: 0.0798141\ttotal: 863ms\tremaining: 289ms\n",
      "749:\tlearn: 0.0796178\ttotal: 864ms\tremaining: 288ms\n",
      "750:\tlearn: 0.0795021\ttotal: 865ms\tremaining: 287ms\n",
      "751:\tlearn: 0.0793816\ttotal: 866ms\tremaining: 286ms\n",
      "752:\tlearn: 0.0792698\ttotal: 867ms\tremaining: 284ms\n",
      "753:\tlearn: 0.0791863\ttotal: 868ms\tremaining: 283ms\n",
      "754:\tlearn: 0.0790919\ttotal: 869ms\tremaining: 282ms\n",
      "755:\tlearn: 0.0790595\ttotal: 870ms\tremaining: 281ms\n",
      "756:\tlearn: 0.0789820\ttotal: 871ms\tremaining: 280ms\n",
      "757:\tlearn: 0.0789119\ttotal: 872ms\tremaining: 279ms\n",
      "758:\tlearn: 0.0787252\ttotal: 873ms\tremaining: 277ms\n",
      "759:\tlearn: 0.0785992\ttotal: 875ms\tremaining: 276ms\n",
      "760:\tlearn: 0.0785240\ttotal: 876ms\tremaining: 275ms\n",
      "761:\tlearn: 0.0784092\ttotal: 877ms\tremaining: 274ms\n",
      "762:\tlearn: 0.0781920\ttotal: 878ms\tremaining: 273ms\n",
      "763:\tlearn: 0.0780628\ttotal: 879ms\tremaining: 271ms\n",
      "764:\tlearn: 0.0780464\ttotal: 880ms\tremaining: 270ms\n",
      "765:\tlearn: 0.0778437\ttotal: 881ms\tremaining: 269ms\n",
      "766:\tlearn: 0.0777267\ttotal: 882ms\tremaining: 268ms\n",
      "767:\tlearn: 0.0777054\ttotal: 883ms\tremaining: 267ms\n",
      "768:\tlearn: 0.0776886\ttotal: 884ms\tremaining: 266ms\n",
      "769:\tlearn: 0.0775531\ttotal: 885ms\tremaining: 264ms\n",
      "770:\tlearn: 0.0773996\ttotal: 886ms\tremaining: 263ms\n",
      "771:\tlearn: 0.0773687\ttotal: 887ms\tremaining: 262ms\n",
      "772:\tlearn: 0.0772519\ttotal: 888ms\tremaining: 261ms\n",
      "773:\tlearn: 0.0772188\ttotal: 889ms\tremaining: 260ms\n",
      "774:\tlearn: 0.0770975\ttotal: 890ms\tremaining: 258ms\n",
      "775:\tlearn: 0.0770177\ttotal: 891ms\tremaining: 257ms\n",
      "776:\tlearn: 0.0768690\ttotal: 892ms\tremaining: 256ms\n",
      "777:\tlearn: 0.0768150\ttotal: 893ms\tremaining: 255ms\n",
      "778:\tlearn: 0.0767406\ttotal: 894ms\tremaining: 254ms\n",
      "779:\tlearn: 0.0766226\ttotal: 895ms\tremaining: 253ms\n",
      "780:\tlearn: 0.0765174\ttotal: 896ms\tremaining: 251ms\n",
      "781:\tlearn: 0.0764259\ttotal: 897ms\tremaining: 250ms\n",
      "782:\tlearn: 0.0762977\ttotal: 898ms\tremaining: 249ms\n",
      "783:\tlearn: 0.0762807\ttotal: 899ms\tremaining: 248ms\n",
      "784:\tlearn: 0.0761704\ttotal: 900ms\tremaining: 247ms\n",
      "785:\tlearn: 0.0761537\ttotal: 901ms\tremaining: 245ms\n",
      "786:\tlearn: 0.0760987\ttotal: 902ms\tremaining: 244ms\n",
      "787:\tlearn: 0.0760797\ttotal: 903ms\tremaining: 243ms\n",
      "788:\tlearn: 0.0759004\ttotal: 904ms\tremaining: 242ms\n",
      "789:\tlearn: 0.0757830\ttotal: 906ms\tremaining: 241ms\n",
      "790:\tlearn: 0.0756260\ttotal: 907ms\tremaining: 240ms\n",
      "791:\tlearn: 0.0756101\ttotal: 908ms\tremaining: 238ms\n",
      "792:\tlearn: 0.0754708\ttotal: 909ms\tremaining: 237ms\n",
      "793:\tlearn: 0.0753595\ttotal: 910ms\tremaining: 236ms\n",
      "794:\tlearn: 0.0752774\ttotal: 911ms\tremaining: 235ms\n",
      "795:\tlearn: 0.0751010\ttotal: 912ms\tremaining: 234ms\n",
      "796:\tlearn: 0.0749847\ttotal: 913ms\tremaining: 232ms\n",
      "797:\tlearn: 0.0748496\ttotal: 914ms\tremaining: 231ms\n",
      "798:\tlearn: 0.0746800\ttotal: 915ms\tremaining: 230ms\n",
      "799:\tlearn: 0.0745435\ttotal: 916ms\tremaining: 229ms\n",
      "800:\tlearn: 0.0743686\ttotal: 917ms\tremaining: 228ms\n",
      "801:\tlearn: 0.0742559\ttotal: 918ms\tremaining: 227ms\n",
      "802:\tlearn: 0.0741610\ttotal: 919ms\tremaining: 225ms\n",
      "803:\tlearn: 0.0740917\ttotal: 920ms\tremaining: 224ms\n",
      "804:\tlearn: 0.0740090\ttotal: 921ms\tremaining: 223ms\n",
      "805:\tlearn: 0.0738858\ttotal: 922ms\tremaining: 222ms\n",
      "806:\tlearn: 0.0737286\ttotal: 923ms\tremaining: 221ms\n",
      "807:\tlearn: 0.0736578\ttotal: 924ms\tremaining: 220ms\n",
      "808:\tlearn: 0.0735005\ttotal: 925ms\tremaining: 218ms\n",
      "809:\tlearn: 0.0733821\ttotal: 926ms\tremaining: 217ms\n",
      "810:\tlearn: 0.0732719\ttotal: 927ms\tremaining: 216ms\n",
      "811:\tlearn: 0.0732535\ttotal: 928ms\tremaining: 215ms\n",
      "812:\tlearn: 0.0731294\ttotal: 929ms\tremaining: 214ms\n",
      "813:\tlearn: 0.0730039\ttotal: 930ms\tremaining: 213ms\n",
      "814:\tlearn: 0.0729374\ttotal: 931ms\tremaining: 211ms\n",
      "815:\tlearn: 0.0728275\ttotal: 933ms\tremaining: 210ms\n",
      "816:\tlearn: 0.0727364\ttotal: 934ms\tremaining: 209ms\n",
      "817:\tlearn: 0.0726469\ttotal: 935ms\tremaining: 208ms\n",
      "818:\tlearn: 0.0725520\ttotal: 935ms\tremaining: 207ms\n",
      "819:\tlearn: 0.0724240\ttotal: 936ms\tremaining: 206ms\n",
      "820:\tlearn: 0.0723320\ttotal: 938ms\tremaining: 204ms\n",
      "821:\tlearn: 0.0721731\ttotal: 939ms\tremaining: 203ms\n",
      "822:\tlearn: 0.0720098\ttotal: 940ms\tremaining: 202ms\n",
      "823:\tlearn: 0.0719358\ttotal: 941ms\tremaining: 201ms\n",
      "824:\tlearn: 0.0719137\ttotal: 941ms\tremaining: 200ms\n"
     ]
    },
    {
     "name": "stdout",
     "output_type": "stream",
     "text": [
      "825:\tlearn: 0.0717571\ttotal: 942ms\tremaining: 198ms\n",
      "826:\tlearn: 0.0716063\ttotal: 944ms\tremaining: 197ms\n",
      "827:\tlearn: 0.0714421\ttotal: 945ms\tremaining: 196ms\n",
      "828:\tlearn: 0.0713476\ttotal: 946ms\tremaining: 195ms\n",
      "829:\tlearn: 0.0712890\ttotal: 947ms\tremaining: 194ms\n",
      "830:\tlearn: 0.0712232\ttotal: 948ms\tremaining: 193ms\n",
      "831:\tlearn: 0.0711748\ttotal: 949ms\tremaining: 192ms\n",
      "832:\tlearn: 0.0710166\ttotal: 950ms\tremaining: 190ms\n",
      "833:\tlearn: 0.0710032\ttotal: 951ms\tremaining: 189ms\n",
      "834:\tlearn: 0.0708830\ttotal: 952ms\tremaining: 188ms\n",
      "835:\tlearn: 0.0707786\ttotal: 953ms\tremaining: 187ms\n",
      "836:\tlearn: 0.0706820\ttotal: 954ms\tremaining: 186ms\n",
      "837:\tlearn: 0.0705217\ttotal: 955ms\tremaining: 185ms\n",
      "838:\tlearn: 0.0703793\ttotal: 956ms\tremaining: 183ms\n",
      "839:\tlearn: 0.0702585\ttotal: 957ms\tremaining: 182ms\n",
      "840:\tlearn: 0.0701547\ttotal: 958ms\tremaining: 181ms\n",
      "841:\tlearn: 0.0701396\ttotal: 959ms\tremaining: 180ms\n",
      "842:\tlearn: 0.0701292\ttotal: 960ms\tremaining: 179ms\n",
      "843:\tlearn: 0.0700696\ttotal: 961ms\tremaining: 178ms\n",
      "844:\tlearn: 0.0700554\ttotal: 962ms\tremaining: 176ms\n",
      "845:\tlearn: 0.0699246\ttotal: 963ms\tremaining: 175ms\n",
      "846:\tlearn: 0.0698972\ttotal: 964ms\tremaining: 174ms\n",
      "847:\tlearn: 0.0697760\ttotal: 966ms\tremaining: 173ms\n",
      "848:\tlearn: 0.0696740\ttotal: 967ms\tremaining: 172ms\n",
      "849:\tlearn: 0.0695540\ttotal: 968ms\tremaining: 171ms\n",
      "850:\tlearn: 0.0693604\ttotal: 969ms\tremaining: 170ms\n",
      "851:\tlearn: 0.0693472\ttotal: 970ms\tremaining: 168ms\n",
      "852:\tlearn: 0.0692051\ttotal: 971ms\tremaining: 167ms\n",
      "853:\tlearn: 0.0691375\ttotal: 972ms\tremaining: 166ms\n",
      "854:\tlearn: 0.0691250\ttotal: 973ms\tremaining: 165ms\n",
      "855:\tlearn: 0.0690051\ttotal: 974ms\tremaining: 164ms\n",
      "856:\tlearn: 0.0689932\ttotal: 975ms\tremaining: 163ms\n",
      "857:\tlearn: 0.0688500\ttotal: 976ms\tremaining: 162ms\n",
      "858:\tlearn: 0.0688378\ttotal: 977ms\tremaining: 160ms\n",
      "859:\tlearn: 0.0688279\ttotal: 978ms\tremaining: 159ms\n",
      "860:\tlearn: 0.0687618\ttotal: 979ms\tremaining: 158ms\n",
      "861:\tlearn: 0.0686457\ttotal: 980ms\tremaining: 157ms\n",
      "862:\tlearn: 0.0684621\ttotal: 982ms\tremaining: 156ms\n",
      "863:\tlearn: 0.0683571\ttotal: 983ms\tremaining: 155ms\n",
      "864:\tlearn: 0.0682645\ttotal: 984ms\tremaining: 154ms\n",
      "865:\tlearn: 0.0682081\ttotal: 985ms\tremaining: 152ms\n",
      "866:\tlearn: 0.0681961\ttotal: 986ms\tremaining: 151ms\n",
      "867:\tlearn: 0.0680566\ttotal: 987ms\tremaining: 150ms\n",
      "868:\tlearn: 0.0680144\ttotal: 988ms\tremaining: 149ms\n",
      "869:\tlearn: 0.0679035\ttotal: 989ms\tremaining: 148ms\n",
      "870:\tlearn: 0.0678920\ttotal: 990ms\tremaining: 147ms\n",
      "871:\tlearn: 0.0677704\ttotal: 991ms\tremaining: 146ms\n",
      "872:\tlearn: 0.0676635\ttotal: 992ms\tremaining: 144ms\n",
      "873:\tlearn: 0.0676055\ttotal: 993ms\tremaining: 143ms\n",
      "874:\tlearn: 0.0675965\ttotal: 995ms\tremaining: 142ms\n",
      "875:\tlearn: 0.0674504\ttotal: 996ms\tremaining: 141ms\n",
      "876:\tlearn: 0.0674129\ttotal: 997ms\tremaining: 140ms\n",
      "877:\tlearn: 0.0672719\ttotal: 998ms\tremaining: 139ms\n",
      "878:\tlearn: 0.0671593\ttotal: 999ms\tremaining: 138ms\n",
      "879:\tlearn: 0.0670437\ttotal: 1s\tremaining: 136ms\n",
      "880:\tlearn: 0.0669366\ttotal: 1s\tremaining: 135ms\n",
      "881:\tlearn: 0.0668354\ttotal: 1s\tremaining: 134ms\n",
      "882:\tlearn: 0.0667576\ttotal: 1s\tremaining: 133ms\n",
      "883:\tlearn: 0.0666537\ttotal: 1s\tremaining: 132ms\n",
      "884:\tlearn: 0.0665659\ttotal: 1s\tremaining: 131ms\n",
      "885:\tlearn: 0.0664926\ttotal: 1.01s\tremaining: 130ms\n",
      "886:\tlearn: 0.0664757\ttotal: 1.01s\tremaining: 128ms\n",
      "887:\tlearn: 0.0664669\ttotal: 1.01s\tremaining: 127ms\n",
      "888:\tlearn: 0.0663155\ttotal: 1.01s\tremaining: 126ms\n",
      "889:\tlearn: 0.0663039\ttotal: 1.01s\tremaining: 125ms\n",
      "890:\tlearn: 0.0662006\ttotal: 1.01s\tremaining: 124ms\n",
      "891:\tlearn: 0.0660626\ttotal: 1.01s\tremaining: 123ms\n",
      "892:\tlearn: 0.0659985\ttotal: 1.01s\tremaining: 121ms\n",
      "893:\tlearn: 0.0659430\ttotal: 1.01s\tremaining: 120ms\n",
      "894:\tlearn: 0.0658634\ttotal: 1.01s\tremaining: 119ms\n",
      "895:\tlearn: 0.0657588\ttotal: 1.02s\tremaining: 118ms\n",
      "896:\tlearn: 0.0656168\ttotal: 1.02s\tremaining: 117ms\n",
      "897:\tlearn: 0.0654758\ttotal: 1.02s\tremaining: 116ms\n",
      "898:\tlearn: 0.0654468\ttotal: 1.02s\tremaining: 115ms\n",
      "899:\tlearn: 0.0653077\ttotal: 1.02s\tremaining: 113ms\n",
      "900:\tlearn: 0.0652385\ttotal: 1.02s\tremaining: 112ms\n",
      "901:\tlearn: 0.0651436\ttotal: 1.02s\tremaining: 111ms\n",
      "902:\tlearn: 0.0650479\ttotal: 1.02s\tremaining: 110ms\n",
      "903:\tlearn: 0.0649928\ttotal: 1.02s\tremaining: 109ms\n",
      "904:\tlearn: 0.0649490\ttotal: 1.03s\tremaining: 108ms\n",
      "905:\tlearn: 0.0649045\ttotal: 1.03s\tremaining: 107ms\n",
      "906:\tlearn: 0.0647454\ttotal: 1.03s\tremaining: 106ms\n",
      "907:\tlearn: 0.0646844\ttotal: 1.03s\tremaining: 104ms\n",
      "908:\tlearn: 0.0645306\ttotal: 1.03s\tremaining: 103ms\n",
      "909:\tlearn: 0.0644641\ttotal: 1.03s\tremaining: 102ms\n",
      "910:\tlearn: 0.0643858\ttotal: 1.03s\tremaining: 101ms\n",
      "911:\tlearn: 0.0642946\ttotal: 1.03s\tremaining: 99.9ms\n",
      "912:\tlearn: 0.0642541\ttotal: 1.03s\tremaining: 98.7ms\n",
      "913:\tlearn: 0.0641500\ttotal: 1.04s\tremaining: 97.6ms\n",
      "914:\tlearn: 0.0641414\ttotal: 1.04s\tremaining: 96.4ms\n",
      "915:\tlearn: 0.0640463\ttotal: 1.04s\tremaining: 95.3ms\n",
      "916:\tlearn: 0.0639458\ttotal: 1.04s\tremaining: 94.2ms\n",
      "917:\tlearn: 0.0638654\ttotal: 1.04s\tremaining: 93ms\n",
      "918:\tlearn: 0.0637781\ttotal: 1.04s\tremaining: 91.9ms\n",
      "919:\tlearn: 0.0636895\ttotal: 1.04s\tremaining: 90.8ms\n",
      "920:\tlearn: 0.0635508\ttotal: 1.04s\tremaining: 89.6ms\n",
      "921:\tlearn: 0.0634698\ttotal: 1.05s\tremaining: 88.5ms\n",
      "922:\tlearn: 0.0633425\ttotal: 1.05s\tremaining: 87.4ms\n",
      "923:\tlearn: 0.0632786\ttotal: 1.05s\tremaining: 86.2ms\n",
      "924:\tlearn: 0.0631716\ttotal: 1.05s\tremaining: 85.1ms\n",
      "925:\tlearn: 0.0631616\ttotal: 1.05s\tremaining: 83.9ms\n",
      "926:\tlearn: 0.0631047\ttotal: 1.05s\tremaining: 82.8ms\n",
      "927:\tlearn: 0.0629876\ttotal: 1.05s\tremaining: 81.7ms\n",
      "928:\tlearn: 0.0628521\ttotal: 1.05s\tremaining: 80.5ms\n",
      "929:\tlearn: 0.0627352\ttotal: 1.05s\tremaining: 79.4ms\n",
      "930:\tlearn: 0.0626112\ttotal: 1.06s\tremaining: 78.3ms\n",
      "931:\tlearn: 0.0625978\ttotal: 1.06s\tremaining: 77.1ms\n",
      "932:\tlearn: 0.0625224\ttotal: 1.06s\tremaining: 76ms\n",
      "933:\tlearn: 0.0624988\ttotal: 1.06s\tremaining: 74.9ms\n",
      "934:\tlearn: 0.0624680\ttotal: 1.06s\tremaining: 73.7ms\n",
      "935:\tlearn: 0.0623709\ttotal: 1.06s\tremaining: 72.6ms\n",
      "936:\tlearn: 0.0623082\ttotal: 1.06s\tremaining: 71.4ms\n",
      "937:\tlearn: 0.0622803\ttotal: 1.06s\tremaining: 70.3ms\n",
      "938:\tlearn: 0.0622720\ttotal: 1.06s\tremaining: 69.2ms\n",
      "939:\tlearn: 0.0621552\ttotal: 1.07s\tremaining: 68ms\n",
      "940:\tlearn: 0.0620502\ttotal: 1.07s\tremaining: 66.9ms\n",
      "941:\tlearn: 0.0619361\ttotal: 1.07s\tremaining: 65.8ms\n",
      "942:\tlearn: 0.0618628\ttotal: 1.07s\tremaining: 64.6ms\n",
      "943:\tlearn: 0.0618187\ttotal: 1.07s\tremaining: 63.5ms\n",
      "944:\tlearn: 0.0617590\ttotal: 1.07s\tremaining: 62.4ms\n",
      "945:\tlearn: 0.0616758\ttotal: 1.07s\tremaining: 61.2ms\n",
      "946:\tlearn: 0.0615502\ttotal: 1.07s\tremaining: 60.1ms\n"
     ]
    },
    {
     "name": "stdout",
     "output_type": "stream",
     "text": [
      "947:\tlearn: 0.0615396\ttotal: 1.07s\tremaining: 59ms\n",
      "948:\tlearn: 0.0613607\ttotal: 1.08s\tremaining: 57.8ms\n",
      "949:\tlearn: 0.0612521\ttotal: 1.08s\tremaining: 56.7ms\n",
      "950:\tlearn: 0.0612027\ttotal: 1.08s\tremaining: 55.6ms\n",
      "951:\tlearn: 0.0611144\ttotal: 1.08s\tremaining: 54.4ms\n",
      "952:\tlearn: 0.0610116\ttotal: 1.08s\tremaining: 53.3ms\n",
      "953:\tlearn: 0.0609665\ttotal: 1.08s\tremaining: 52.1ms\n",
      "954:\tlearn: 0.0608866\ttotal: 1.08s\tremaining: 51ms\n",
      "955:\tlearn: 0.0608071\ttotal: 1.08s\tremaining: 49.9ms\n",
      "956:\tlearn: 0.0607413\ttotal: 1.08s\tremaining: 48.7ms\n",
      "957:\tlearn: 0.0606578\ttotal: 1.08s\tremaining: 47.6ms\n",
      "958:\tlearn: 0.0605998\ttotal: 1.09s\tremaining: 46.4ms\n",
      "959:\tlearn: 0.0605531\ttotal: 1.09s\tremaining: 45.3ms\n",
      "960:\tlearn: 0.0605292\ttotal: 1.09s\tremaining: 44.2ms\n",
      "961:\tlearn: 0.0604382\ttotal: 1.09s\tremaining: 43ms\n",
      "962:\tlearn: 0.0602464\ttotal: 1.09s\tremaining: 41.9ms\n",
      "963:\tlearn: 0.0601844\ttotal: 1.09s\tremaining: 40.8ms\n",
      "964:\tlearn: 0.0601232\ttotal: 1.09s\tremaining: 39.6ms\n",
      "965:\tlearn: 0.0600236\ttotal: 1.09s\tremaining: 38.5ms\n",
      "966:\tlearn: 0.0599245\ttotal: 1.09s\tremaining: 37.4ms\n",
      "967:\tlearn: 0.0597959\ttotal: 1.09s\tremaining: 36.2ms\n",
      "968:\tlearn: 0.0597329\ttotal: 1.1s\tremaining: 35.1ms\n",
      "969:\tlearn: 0.0597207\ttotal: 1.1s\tremaining: 34ms\n",
      "970:\tlearn: 0.0596028\ttotal: 1.1s\tremaining: 32.8ms\n",
      "971:\tlearn: 0.0594911\ttotal: 1.1s\tremaining: 31.7ms\n",
      "972:\tlearn: 0.0594434\ttotal: 1.1s\tremaining: 30.6ms\n",
      "973:\tlearn: 0.0594090\ttotal: 1.1s\tremaining: 29.4ms\n",
      "974:\tlearn: 0.0592970\ttotal: 1.1s\tremaining: 28.3ms\n",
      "975:\tlearn: 0.0591873\ttotal: 1.1s\tremaining: 27.2ms\n",
      "976:\tlearn: 0.0590958\ttotal: 1.1s\tremaining: 26ms\n",
      "977:\tlearn: 0.0589747\ttotal: 1.11s\tremaining: 24.9ms\n",
      "978:\tlearn: 0.0588957\ttotal: 1.11s\tremaining: 23.8ms\n",
      "979:\tlearn: 0.0587974\ttotal: 1.11s\tremaining: 22.6ms\n",
      "980:\tlearn: 0.0586911\ttotal: 1.11s\tremaining: 21.5ms\n",
      "981:\tlearn: 0.0586830\ttotal: 1.11s\tremaining: 20.4ms\n",
      "982:\tlearn: 0.0585405\ttotal: 1.11s\tremaining: 19.2ms\n",
      "983:\tlearn: 0.0584648\ttotal: 1.11s\tremaining: 18.1ms\n",
      "984:\tlearn: 0.0583623\ttotal: 1.11s\tremaining: 17ms\n",
      "985:\tlearn: 0.0583013\ttotal: 1.11s\tremaining: 15.8ms\n",
      "986:\tlearn: 0.0581788\ttotal: 1.12s\tremaining: 14.7ms\n",
      "987:\tlearn: 0.0581716\ttotal: 1.12s\tremaining: 13.6ms\n",
      "988:\tlearn: 0.0581205\ttotal: 1.12s\tremaining: 12.4ms\n",
      "989:\tlearn: 0.0579758\ttotal: 1.12s\tremaining: 11.3ms\n",
      "990:\tlearn: 0.0578705\ttotal: 1.12s\tremaining: 10.2ms\n",
      "991:\tlearn: 0.0577828\ttotal: 1.12s\tremaining: 9.04ms\n",
      "992:\tlearn: 0.0577765\ttotal: 1.12s\tremaining: 7.91ms\n",
      "993:\tlearn: 0.0576630\ttotal: 1.12s\tremaining: 6.78ms\n",
      "994:\tlearn: 0.0576460\ttotal: 1.12s\tremaining: 5.65ms\n",
      "995:\tlearn: 0.0576371\ttotal: 1.13s\tremaining: 4.52ms\n",
      "996:\tlearn: 0.0575181\ttotal: 1.13s\tremaining: 3.39ms\n",
      "997:\tlearn: 0.0574425\ttotal: 1.13s\tremaining: 2.26ms\n",
      "998:\tlearn: 0.0573475\ttotal: 1.13s\tremaining: 1.13ms\n",
      "999:\tlearn: 0.0573312\ttotal: 1.13s\tremaining: 0us\n"
     ]
    },
    {
     "data": {
      "text/plain": [
       "<catboost.core.CatBoostRegressor at 0x7f739d8bd990>"
      ]
     },
     "execution_count": 9,
     "metadata": {},
     "output_type": "execute_result"
    }
   ],
   "source": [
    "#Train the Model \n",
    "prior_model = ctb.CatBoostRegressor()\n",
    "prior_model.fit(X_train,Y_train)"
   ]
  },
  {
   "cell_type": "code",
   "execution_count": 10,
   "id": "c775fd81",
   "metadata": {
    "execution": {
     "iopub.execute_input": "2022-01-14T11:07:39.779503Z",
     "iopub.status.busy": "2022-01-14T11:07:39.778824Z",
     "iopub.status.idle": "2022-01-14T11:07:39.791929Z",
     "shell.execute_reply": "2022-01-14T11:07:39.791314Z"
    },
    "papermill": {
     "duration": 0.048414,
     "end_time": "2022-01-14T11:07:39.792050",
     "exception": false,
     "start_time": "2022-01-14T11:07:39.743636",
     "status": "completed"
    },
    "tags": []
   },
   "outputs": [
    {
     "data": {
      "application/scrapbook.scrap.json+json": {
       "data": 0.08187199069766353,
       "encoder": "json",
       "name": "Prior Model MSE",
       "version": 1
      }
     },
     "metadata": {
      "scrapbook": {
       "data": true,
       "display": false,
       "name": "Prior Model MSE"
      }
     },
     "output_type": "display_data"
    },
    {
     "data": {
      "application/scrapbook.scrap.json+json": {
       "data": 0.09042550861784612,
       "encoder": "json",
       "name": "ABC Pre-generator MSE",
       "version": 1
      }
     },
     "metadata": {
      "scrapbook": {
       "data": true,
       "display": false,
       "name": "ABC Pre-generator MSE"
      }
     },
     "output_type": "display_data"
    }
   ],
   "source": [
    "y_pred = prior_model.predict(X_test)\n",
    "y_abc = y_pred + np.random.normal(0,variance, y_pred.shape)\n",
    "mse = mean_squared_error(y_pred,Y_test)\n",
    "sb.glue(\"Prior Model MSE\",mse)\n",
    "mse = mean_squared_error(y_abc,Y_test)\n",
    "sb.glue(\"ABC Pre-generator MSE\",mse)"
   ]
  },
  {
   "cell_type": "markdown",
   "id": "0cd0def6",
   "metadata": {
    "papermill": {
     "duration": 0.031596,
     "end_time": "2022-01-14T11:07:39.855614",
     "exception": false,
     "start_time": "2022-01-14T11:07:39.824018",
     "status": "completed"
    },
    "tags": []
   },
   "source": [
    "# ABC GAN Model"
   ]
  },
  {
   "cell_type": "markdown",
   "id": "70beaf4c",
   "metadata": {
    "papermill": {
     "duration": 0.032263,
     "end_time": "2022-01-14T11:07:39.919272",
     "exception": false,
     "start_time": "2022-01-14T11:07:39.887009",
     "status": "completed"
    },
    "tags": []
   },
   "source": [
    "### Training the network\n",
    "**Training ABC-GAN for n_epochs number of epochs** "
   ]
  },
  {
   "cell_type": "code",
   "execution_count": 11,
   "id": "dbaaafa1",
   "metadata": {
    "execution": {
     "iopub.execute_input": "2022-01-14T11:07:39.988390Z",
     "iopub.status.busy": "2022-01-14T11:07:39.987774Z",
     "iopub.status.idle": "2022-01-14T11:07:43.002833Z",
     "shell.execute_reply": "2022-01-14T11:07:43.002319Z"
    },
    "papermill": {
     "duration": 3.052129,
     "end_time": "2022-01-14T11:07:43.002976",
     "exception": false,
     "start_time": "2022-01-14T11:07:39.950847",
     "status": "completed"
    },
    "tags": []
   },
   "outputs": [],
   "source": [
    "gen = network.Generator(n_features+1).to(device)\n",
    "disc = network.Discriminator(n_features+1).to(device)\n",
    "\n",
    "criterion = torch.nn.BCELoss()\n",
    "gen_opt = torch.optim.Adam(gen.parameters(), lr=0.001, betas=(0.5, 0.999))\n",
    "disc_opt = torch.optim.Adam(disc.parameters(), lr=0.01, betas=(0.5, 0.999))"
   ]
  },
  {
   "cell_type": "code",
   "execution_count": 12,
   "id": "6e9eeab8",
   "metadata": {
    "execution": {
     "iopub.execute_input": "2022-01-14T11:07:43.070550Z",
     "iopub.status.busy": "2022-01-14T11:07:43.069483Z",
     "iopub.status.idle": "2022-01-14T11:13:11.071201Z",
     "shell.execute_reply": "2022-01-14T11:13:11.070617Z"
    },
    "papermill": {
     "duration": 328.036686,
     "end_time": "2022-01-14T11:13:11.071350",
     "exception": false,
     "start_time": "2022-01-14T11:07:43.034664",
     "status": "completed"
    },
    "tags": []
   },
   "outputs": [
    {
     "data": {
      "image/png": "[encoded data removed]",
      "text/plain": [
       "<Figure size 432x288 with 1 Axes>"
      ]
     },
     "metadata": {
      "needs_background": "light"
     },
     "output_type": "display_data"
    },
    {
     "data": {
      "image/png": "[encoded data removed]",
      "text/plain": [
       "<Figure size 432x288 with 1 Axes>"
      ]
     },
     "metadata": {
      "needs_background": "light"
     },
     "output_type": "display_data"
    }
   ],
   "source": [
    "#Training the ABC_GAN \n",
    "ABC_train_test2.training_GAN(disc,gen,disc_opt,gen_opt,train_data,batch_size,n_epochs,criterion,prior_model,variance,device)"
   ]
  },
  {
   "cell_type": "code",
   "execution_count": 13,
   "id": "11c3082e",
   "metadata": {
    "execution": {
     "iopub.execute_input": "2022-01-14T11:13:11.150436Z",
     "iopub.status.busy": "2022-01-14T11:13:11.149824Z",
     "iopub.status.idle": "2022-01-14T11:13:11.562144Z",
     "shell.execute_reply": "2022-01-14T11:13:11.561495Z"
    },
    "papermill": {
     "duration": 0.457889,
     "end_time": "2022-01-14T11:13:11.562306",
     "exception": false,
     "start_time": "2022-01-14T11:13:11.104417",
     "status": "completed"
    },
    "tags": []
   },
   "outputs": [
    {
     "data": {
      "application/scrapbook.scrap.json+json": {
       "data": 0.4584737393426816,
       "encoder": "json",
       "name": "ABC-GAN Model 1 MSE",
       "version": 1
      }
     },
     "metadata": {
      "scrapbook": {
       "data": true,
       "display": false,
       "name": "ABC-GAN Model 1 MSE"
      }
     },
     "output_type": "display_data"
    },
    {
     "data": {
      "application/scrapbook.scrap.json+json": {
       "data": 0.5242591835028839,
       "encoder": "json",
       "name": "ABC-GAN Model 1 MAE",
       "version": 1
      }
     },
     "metadata": {
      "scrapbook": {
       "data": true,
       "display": false,
       "name": "ABC-GAN Model 1 MAE"
      }
     },
     "output_type": "display_data"
    },
    {
     "data": {
      "application/scrapbook.scrap.json+json": {
       "data": 53.474436717294154,
       "encoder": "json",
       "name": "ABC-GAN Model 1 Manhattan Distance",
       "version": 1
      }
     },
     "metadata": {
      "scrapbook": {
       "data": true,
       "display": false,
       "name": "ABC-GAN Model 1 Manhattan Distance"
      }
     },
     "output_type": "display_data"
    },
    {
     "data": {
      "application/scrapbook.scrap.json+json": {
       "data": 6.838360006440654,
       "encoder": "json",
       "name": "ABC-GAN Model 1 Euclidean distance",
       "version": 1
      }
     },
     "metadata": {
      "scrapbook": {
       "data": true,
       "display": false,
       "name": "ABC-GAN Model 1 Euclidean distance"
      }
     },
     "output_type": "display_data"
    },
    {
     "data": {
      "application/scrapbook.scrap.json+json": {
       "data": [
        [
         0.4579607840574421,
         0.4634990178215327,
         0.45161149083500296,
         0.4638563954837504,
         0.4581562494761525,
         0.46203134327450285,
         0.45899736706170113,
         0.46068885910939,
         0.4523512376294126,
         0.45768466954251164,
         0.46184420938477483,
         0.45442512369215043,
         0.4655650070843504,
         0.4544037566956572,
         0.4618665442454808,
         0.4552153645855021,
         0.4557516021874956,
         0.4503023943844305,
         0.46508964922661655,
         0.45995629850830155,
         0.44696068005333367,
         0.45409323139460767,
         0.4553776907183699,
         0.45465423499856983,
         0.4584688049354809,
         0.4597853696708187,
         0.45350657367926234,
         0.45402316769825124,
         0.45418617917292015,
         0.4645336275713271,
         0.447532193968116,
         0.4589696070826397,
         0.4607238170381292,
         0.45637701548661597,
         0.459174393769788,
         0.4560600153026044,
         0.45404886384189624,
         0.4561470275765056,
         0.4688717579328217,
         0.4578736816511992,
         0.45502122198205197,
         0.4548123969817789,
         0.4571015759327286,
         0.45808824893441374,
         0.4581810147096867,
         0.4555463519373215,
         0.463667534681512,
         0.45922468513413195,
         0.4596060219631697,
         0.4637709323458016,
         0.4662193825029617,
         0.4602879916361608,
         0.4587424414460928,
         0.4534806108377667,
         0.45537635735723436,
         0.46380854799620375,
         0.4576597216141874,
         0.46143394282582595,
         0.44508195409970763,
         0.4636556904423831,
         0.4601219580899985,
         0.46083826760147306,
         0.4631087220749101,
         0.45828031942699193,
         0.4615382228650898,
         0.4557598202101821,
         0.45812504348946437,
         0.46586573186705926,
         0.46236100253205664,
         0.4540548104850743,
         0.4579855469747736,
         0.4561315215462047,
         0.4528935579123697,
         0.45911548156435344,
         0.46110711112453456,
         0.45168151651600286,
         0.4644968032631126,
         0.463406762214759,
         0.4563230102687159,
         0.45757176792073434,
         0.46683833795786434,
         0.4548800063685521,
         0.45925381185104436,
         0.4582419239978397,
         0.4574335723465707,
         0.4642798564912023,
         0.4594750983844569,
         0.4554551218679725,
         0.4623430461844015,
         0.45811640704227347,
         0.46086172797554087,
         0.4599543360028085,
         0.4640353848828914,
         0.4635834598979116,
         0.4599407511122465,
         0.4607889880479958,
         0.46675171149512806,
         0.4483438028809988,
         0.4581227216059286,
         0.454514966736136
        ],
        [
         0.524344123324708,
         0.5262222446263859,
         0.5170929693142134,
         0.5295141646547207,
         0.5198349186547977,
         0.5251155235329825,
         0.5256324849894964,
         0.5222903634421527,
         0.5200932526723573,
         0.5152135450557312,
         0.5254132492084276,
         0.51542077380616,
         0.5278787480429837,
         0.5243509700795745,
         0.5252274610923932,
         0.526714712353971,
         0.5194320372013631,
         0.5184416637171572,
         0.5335256390949237,
         0.5278452476943094,
         0.5166621764884421,
         0.5165688975568057,
         0.5237755737924839,
         0.5254431128154928,
         0.525735412349961,
         0.5266282245352426,
         0.5214859373118802,
         0.5205496080749321,
         0.5201713277081794,
         0.527442040789288,
         0.5174235978127256,
         0.5196942414668407,
         0.5263417785457682,
         0.527496096376768,
         0.5266352938762044,
         0.5241782718666774,
         0.522204430874291,
         0.5210173741512585,
         0.5296919886844561,
         0.526902173490574,
         0.5245290394671553,
         0.5171413330233419,
         0.5233836919160596,
         0.5200866511109851,
         0.5278919761288253,
         0.5226672022676497,
         0.5294267438516459,
         0.5262185834877777,
         0.5211348070799574,
         0.5224711085377517,
         0.5305277291484469,
         0.5272130634653948,
         0.5261832584225226,
         0.5230510966103598,
         0.5207133278999404,
         0.5288165647846957,
         0.525890445418875,
         0.5252375794556358,
         0.5149157540050938,
         0.5284954004592317,
         0.5258401322324633,
         0.5248967516053394,
         0.5263326821903533,
         0.5249721463130531,
         0.5255151945896739,
         0.5288188938581038,
         0.5245600932314262,
         0.5315957726162001,
         0.5316982912904054,
         0.5217482082490974,
         0.5260759968511468,
         0.521770685664652,
         0.5186095720284856,
         0.5261757528391101,
         0.5246423515856412,
         0.5161693986669621,
         0.5282453033872241,
         0.5256053604569066,
         0.5248584775345436,
         0.5278590612350872,
         0.5297673175239241,
         0.5246556776794878,
         0.5259876110335338,
         0.5285386496552211,
         0.5251577436723107,
         0.5252493308473598,
         0.5191921587832564,
         0.529121167218203,
         0.5286408332359119,
         0.5224998954628759,
         0.5243127996047192,
         0.5307395157367721,
         0.5186483918543101,
         0.5230752284200314,
         0.5292624324724516,
         0.5271828000652877,
         0.5251557956376642,
         0.5179281401740131,
         0.521214693684277,
         0.521951033432475
        ],
        [
         53.48310057912022,
         53.67466895189136,
         52.743482870049775,
         54.010444794781506,
         53.023161702789366,
         53.56178340036422,
         53.614513468928635,
         53.27361707109958,
         53.049511772580445,
         52.55178159568459,
         53.59215141925961,
         52.57291892822832,
         53.84363230038434,
         53.4837989481166,
         53.573201031424105,
         53.72490066010505,
         52.982067794539034,
         52.881049699150026,
         54.41961518768221,
         53.84021526481956,
         52.6995420018211,
         52.690027550794184,
         53.425108526833355,
         53.59519750718027,
         53.62501205969602,
         53.716078902594745,
         53.191565605811775,
         53.096060023643076,
         53.057475426234305,
         53.79908816050738,
         52.777206976898015,
         53.00881262961775,
         53.68686141166836,
         53.80460183043033,
         53.71679997537285,
         53.4661837304011,
         53.26485194917768,
         53.143772163428366,
         54.028582845814526,
         53.744021696038544,
         53.501962025649846,
         52.74841596838087,
         53.38513657543808,
         53.04883841332048,
         53.84498156514019,
         53.31205463130027,
         54.00152787286788,
         53.67429551575333,
         53.155750322155654,
         53.29205307085067,
         54.11382837314159,
         53.77573247347027,
         53.6706923590973,
         53.35121185425669,
         53.11275944579393,
         53.93928960803896,
         53.64082543272525,
         53.57423310447484,
         52.521406908519566,
         53.90653084684163,
         53.63569348771125,
         53.53946866374463,
         53.685933583416045,
         53.54715892393142,
         53.60254984814674,
         53.939527173526585,
         53.50512950960547,
         54.2227688068524,
         54.233225711621344,
         53.21831724140793,
         53.659751678816974,
         53.22060993779451,
         52.89817634690553,
         53.669926789589226,
         53.5135198617354,
         52.649278664030135,
         53.88102094549686,
         53.61174676660448,
         53.53556470852345,
         53.84162424597889,
         54.036266387440264,
         53.514879123307765,
         53.65073632542044,
         53.910942264832556,
         53.566089854575694,
         53.575431746430695,
         52.957600195892155,
         53.97035905625671,
         53.92136499006301,
         53.29498933721334,
         53.479905559681356,
         54.13543060515076,
         52.902135969139636,
         53.353673298843205,
         53.98476811219007,
         53.77264560665935,
         53.565891155041754,
         52.82867029774934,
         53.163898755796254,
         53.23900541011244
        ],
        [
         6.834617763551895,
         6.875819937854417,
         6.787073895661542,
         6.878470203420419,
         6.83607617325667,
         6.864925128069448,
         6.842348386357825,
         6.8549444657967715,
         6.792630288643721,
         6.8325570830645965,
         6.863534756759598,
         6.808183503446373,
         6.891126955919745,
         6.808023441716182,
         6.863700715578952,
         6.814100614734214,
         6.818112893104995,
         6.777229834321094,
         6.887608018834615,
         6.849492130650766,
         6.75203594225031,
         6.805696849129411,
         6.815315433145682,
         6.809899556517272,
         6.838407570730125,
         6.848219309165231,
         6.801299178486765,
         6.805171791014657,
         6.806393338298769,
         6.883489668204302,
         6.7563513662884525,
         6.842141471968351,
         6.855204543840335,
         6.822789428059086,
         6.843667742118868,
         6.820419456372581,
         6.805364362903241,
         6.821070063619311,
         6.9155563268003135,
         6.833967773440428,
         6.812647403335159,
         6.811083943994631,
         6.828203332146627,
         6.835568841823641,
         6.83626092980571,
         6.816577432818231,
         6.877069763897573,
         6.844042510364867,
         6.846883542184965,
         6.877836512979337,
         6.895968170989633,
         6.851961408741907,
         6.840448013653891,
         6.801104491584599,
         6.815305455402415,
         6.8781154319779185,
         6.832370862639638,
         6.86048556359054,
         6.737830460776687,
         6.8769819270609585,
         6.850725488966833,
         6.856055957717256,
         6.872924388616598,
         6.837001724553916,
         6.86126072469478,
         6.818174364258996,
         6.835843359522317,
         6.893352207049922,
         6.867373752626967,
         6.805408927425124,
         6.834802542241211,
         6.820954126638947,
         6.796700884036439,
         6.843228705776538,
         6.858055506825716,
         6.787600068111872,
         6.8832168302936285,
         6.8751356165464435,
         6.822385729890171,
         6.83171430373921,
         6.900544215618226,
         6.811590170407519,
         6.844259551537078,
         6.8367153113011545,
         6.830682570530577,
         6.881609213120332,
         6.845908269558874,
         6.8158948371092976,
         6.867240399957538,
         6.835778925500143,
         6.85623046968997,
         6.849477518197023,
         6.879797181462178,
         6.876446241307132,
         6.8493763667540675,
         6.855689373133496,
         6.89990395386074,
         6.762474982864032,
         6.835826036683842,
         6.808856483073047
        ]
       ],
       "encoder": "json",
       "name": "ABC_GAN_1 Metrics",
       "version": 1
      }
     },
     "metadata": {
      "scrapbook": {
       "data": true,
       "display": false,
       "name": "ABC_GAN_1 Metrics"
      }
     },
     "output_type": "display_data"
    }
   ],
   "source": [
    "ABC_GAN1_metrics=ABC_train_test2.test_generator(gen,test_data,prior_model,variance,\"1\",device)\n",
    "sb.glue(\"ABC_GAN_1 Metrics\",ABC_GAN1_metrics)"
   ]
  },
  {
   "cell_type": "markdown",
   "id": "394a2b9d",
   "metadata": {
    "papermill": {
     "duration": 0.03632,
     "end_time": "2022-01-14T11:13:11.634955",
     "exception": false,
     "start_time": "2022-01-14T11:13:11.598635",
     "status": "completed"
    },
    "tags": []
   },
   "source": [
    "#### Sanity Checks "
   ]
  },
  {
   "cell_type": "code",
   "execution_count": 14,
   "id": "a36b3b22",
   "metadata": {
    "execution": {
     "iopub.execute_input": "2022-01-14T11:13:11.711960Z",
     "iopub.status.busy": "2022-01-14T11:13:11.711176Z",
     "iopub.status.idle": "2022-01-14T11:13:12.449743Z",
     "shell.execute_reply": "2022-01-14T11:13:12.449180Z"
    },
    "papermill": {
     "duration": 0.778916,
     "end_time": "2022-01-14T11:13:12.449913",
     "exception": false,
     "start_time": "2022-01-14T11:13:11.670997",
     "status": "completed"
    },
    "tags": []
   },
   "outputs": [
    {
     "data": {
      "image/png": "[encoded data removed]",
      "text/plain": [
       "<Figure size 432x288 with 1 Axes>"
      ]
     },
     "metadata": {
      "needs_background": "light"
     },
     "output_type": "display_data"
    },
    {
     "data": {
      "image/png": "[encoded data removed]",
      "text/plain": [
       "<Figure size 432x288 with 1 Axes>"
      ]
     },
     "metadata": {
      "needs_background": "light"
     },
     "output_type": "display_data"
    },
    {
     "data": {
      "image/png": "[encoded data removed]",
      "text/plain": [
       "<Figure size 432x288 with 1 Axes>"
      ]
     },
     "metadata": {
      "needs_background": "light"
     },
     "output_type": "display_data"
    },
    {
     "data": {
      "image/png": "[encoded data removed]",
      "text/plain": [
       "<Figure size 432x288 with 1 Axes>"
      ]
     },
     "metadata": {
      "needs_background": "light"
     },
     "output_type": "display_data"
    }
   ],
   "source": [
    "sanityChecks.discProbVsError(train_data,disc,device)\n",
    "sanityChecks.discProbVsError(test_data,disc,device)"
   ]
  },
  {
   "cell_type": "markdown",
   "id": "130f3a4d",
   "metadata": {
    "papermill": {
     "duration": 0.038857,
     "end_time": "2022-01-14T11:13:12.530455",
     "exception": false,
     "start_time": "2022-01-14T11:13:12.491598",
     "status": "completed"
    },
    "tags": []
   },
   "source": [
    "# ABC - GAN Model with skip connection"
   ]
  },
  {
   "cell_type": "code",
   "execution_count": 15,
   "id": "4e43dad1",
   "metadata": {
    "execution": {
     "iopub.execute_input": "2022-01-14T11:13:12.620008Z",
     "iopub.status.busy": "2022-01-14T11:13:12.619348Z",
     "iopub.status.idle": "2022-01-14T11:13:12.625149Z",
     "shell.execute_reply": "2022-01-14T11:13:12.624619Z"
    },
    "papermill": {
     "duration": 0.053627,
     "end_time": "2022-01-14T11:13:12.625295",
     "exception": false,
     "start_time": "2022-01-14T11:13:12.571668",
     "status": "completed"
    },
    "tags": []
   },
   "outputs": [],
   "source": [
    "#Generator\n",
    "gen3 = network.GeneratorWithSkipConnection(n_features+1).to(device)\n",
    "constraints=network.weightConstraint()\n",
    "#Discriminator \n",
    "disc3 = network.Discriminator(n_features+1).to(device)\n",
    "\n",
    "criterion = torch.nn.BCELoss()\n",
    "gen_opt = torch.optim.Adam(gen3.parameters(), lr=0.01, betas=(0.5, 0.999))\n",
    "disc_opt = torch.optim.Adam(disc3.parameters(), lr=0.01, betas=(0.5, 0.999))\n"
   ]
  },
  {
   "cell_type": "code",
   "execution_count": 16,
   "id": "26acbc37",
   "metadata": {
    "execution": {
     "iopub.execute_input": "2022-01-14T11:13:12.711480Z",
     "iopub.status.busy": "2022-01-14T11:13:12.710828Z",
     "iopub.status.idle": "2022-01-14T11:50:02.412779Z",
     "shell.execute_reply": "2022-01-14T11:50:02.411998Z"
    },
    "papermill": {
     "duration": 2209.746604,
     "end_time": "2022-01-14T11:50:02.412930",
     "exception": false,
     "start_time": "2022-01-14T11:13:12.666326",
     "status": "completed"
    },
    "tags": []
   },
   "outputs": [
    {
     "data": {
      "image/png": "[encoded data removed]",
      "text/plain": [
       "<Figure size 432x288 with 1 Axes>"
      ]
     },
     "metadata": {
      "needs_background": "light"
     },
     "output_type": "display_data"
    },
    {
     "data": {
      "image/png": "[encoded data removed]",
      "text/plain": [
       "<Figure size 432x288 with 1 Axes>"
      ]
     },
     "metadata": {
      "needs_background": "light"
     },
     "output_type": "display_data"
    }
   ],
   "source": [
    "ABC_train_test2.training_GAN_skip_connection(disc3,gen3,disc_opt,gen_opt,train_data,batch_size,n_epochs,criterion,prior_model,variance,device)\n"
   ]
  },
  {
   "cell_type": "code",
   "execution_count": 17,
   "id": "c5e0717b",
   "metadata": {
    "execution": {
     "iopub.execute_input": "2022-01-14T11:50:02.507982Z",
     "iopub.status.busy": "2022-01-14T11:50:02.506912Z",
     "iopub.status.idle": "2022-01-14T11:50:04.556578Z",
     "shell.execute_reply": "2022-01-14T11:50:04.555928Z"
    },
    "papermill": {
     "duration": 2.098808,
     "end_time": "2022-01-14T11:50:04.556720",
     "exception": false,
     "start_time": "2022-01-14T11:50:02.457912",
     "status": "completed"
    },
    "tags": []
   },
   "outputs": [
    {
     "data": {
      "application/scrapbook.scrap.json+json": {
       "data": 0.0922050010490976,
       "encoder": "json",
       "name": "ABC-GAN Model 3 MSE",
       "version": 1
      }
     },
     "metadata": {
      "scrapbook": {
       "data": true,
       "display": false,
       "name": "ABC-GAN Model 3 MSE"
      }
     },
     "output_type": "display_data"
    },
    {
     "data": {
      "application/scrapbook.scrap.json+json": {
       "data": 0.22057491214452715,
       "encoder": "json",
       "name": "ABC-GAN Model 3 MAE",
       "version": 1
      }
     },
     "metadata": {
      "scrapbook": {
       "data": true,
       "display": false,
       "name": "ABC-GAN Model 3 MAE"
      }
     },
     "output_type": "display_data"
    },
    {
     "data": {
      "application/scrapbook.scrap.json+json": {
       "data": 22.49864103874177,
       "encoder": "json",
       "name": "ABC-GAN Model 3 Manhattan Distance",
       "version": 1
      }
     },
     "metadata": {
      "scrapbook": {
       "data": true,
       "display": false,
       "name": "ABC-GAN Model 3 Manhattan Distance"
      }
     },
     "output_type": "display_data"
    },
    {
     "data": {
      "application/scrapbook.scrap.json+json": {
       "data": 3.0651292066303424,
       "encoder": "json",
       "name": "ABC-GAN Model 3 Euclidean distance",
       "version": 1
      }
     },
     "metadata": {
      "scrapbook": {
       "data": true,
       "display": false,
       "name": "ABC-GAN Model 3 Euclidean distance"
      }
     },
     "output_type": "display_data"
    },
    {
     "data": {
      "application/scrapbook.scrap.json+json": {
       "data": [
        [
         0.09388469749442631,
         0.09395479170839786,
         0.09365916846064112,
         0.09390842752779531,
         0.09607821089766942,
         0.09222852772511936,
         0.1008694669272071,
         0.0896062118836298,
         0.0871323831833214,
         0.08812003030986723,
         0.09060124798672735,
         0.0974770999061682,
         0.0854604432393458,
         0.10968368432617706,
         0.09951394570070896,
         0.08663825293007059,
         0.0908680067175631,
         0.09584024423699501,
         0.09358751472463486,
         0.09667332424727053,
         0.08604190194240414,
         0.08241424971504085,
         0.0876941068058737,
         0.09004005911540533,
         0.09184496488401316,
         0.10138940973268694,
         0.08411423802587331,
         0.09862910524385587,
         0.08818942181297688,
         0.0917947059883713,
         0.09371546047955556,
         0.08989896541611546,
         0.09365383523299295,
         0.0992238288899096,
         0.09099273565405845,
         0.08057985829715499,
         0.08734081680236974,
         0.08876909605221275,
         0.09170517892531005,
         0.09814696645773342,
         0.10149057996110712,
         0.10404621427811929,
         0.08666312293386141,
         0.09745079178363934,
         0.08792534990477203,
         0.09259952570371877,
         0.09067109885033964,
         0.09265799369231885,
         0.09977426037031911,
         0.08498082915852116,
         0.10285147942918148,
         0.1047828792656973,
         0.08373525552175512,
         0.08512980176981509,
         0.0858915719455495,
         0.09449967328846899,
         0.10096397335296657,
         0.09981222448033042,
         0.0980457982936836,
         0.09346079971122076,
         0.09209123571750412,
         0.0946516085664783,
         0.08683038926706292,
         0.09436990641851686,
         0.08986092872847884,
         0.08886781248808609,
         0.08083940617167275,
         0.08518737444943987,
         0.08735342619594337,
         0.08358541773011663,
         0.09209917596009766,
         0.08717301552142621,
         0.09340188937015155,
         0.09705961455694774,
         0.09494778473481852,
         0.0936008431633417,
         0.09694475561061833,
         0.09748328116386033,
         0.08647431875048825,
         0.08872493025189788,
         0.0856072583661831,
         0.09066588609359286,
         0.09366828363720561,
         0.08922246154495106,
         0.09525786414562078,
         0.09976137719047055,
         0.0893400149247899,
         0.0980316613255096,
         0.0943971094540218,
         0.10329653321029267,
         0.08703240325528973,
         0.07948850976937405,
         0.0771790247676396,
         0.08740044467035499,
         0.09920760660636169,
         0.09209539497891939,
         0.09095994126013122,
         0.09201154114905583,
         0.09387571166444053,
         0.09105615277557039
        ],
        [
         0.2160985101169596,
         0.22544084122523153,
         0.22373494819062306,
         0.22712354030113155,
         0.232464784669562,
         0.22493606441489913,
         0.2286894182884591,
         0.22066147170513503,
         0.21513986031470053,
         0.2109320116612841,
         0.21301240420115053,
         0.22633279154223263,
         0.20917537651371723,
         0.2408398468978703,
         0.23225973241314218,
         0.21213060148133367,
         0.22229621254418994,
         0.2166635554646799,
         0.22906453604467542,
         0.23107004807303277,
         0.20459378406624584,
         0.2001414935643255,
         0.22332772439432458,
         0.21969824689942613,
         0.21716338623881193,
         0.2197070984174406,
         0.20422548198086374,
         0.23325394531803242,
         0.21559995774170568,
         0.22025599413524,
         0.2254973431734149,
         0.21039020511956302,
         0.22283772187417045,
         0.2243604714498289,
         0.2137099802402743,
         0.20421373389442177,
         0.21331749232851116,
         0.2206200038758563,
         0.21601982438091105,
         0.22704356467789588,
         0.2290834534751233,
         0.23730271463921548,
         0.21288781064818157,
         0.2335541718502474,
         0.20251678561280465,
         0.22616879836720066,
         0.21460056626785765,
         0.22409968475432263,
         0.23292318921234897,
         0.20917201253663129,
         0.2365404430722051,
         0.24728349033159924,
         0.20846610164781118,
         0.2146341841868764,
         0.21573426861968806,
         0.23055597569099537,
         0.22662548750967665,
         0.22742106005613344,
         0.23328481213755758,
         0.21913430975223938,
         0.221158956807545,
         0.2226638512996336,
         0.20601828009467663,
         0.21160895348179573,
         0.21464402934161983,
         0.2085669005709682,
         0.20961485491773368,
         0.21665622151639957,
         0.218614614461366,
         0.21523564807413256,
         0.22094053544980638,
         0.2131323778600085,
         0.22090898259707234,
         0.22758914564973584,
         0.2262368426731258,
         0.21492171655500344,
         0.23606024027856834,
         0.22009127920575658,
         0.21549238884529354,
         0.214593270136153,
         0.20954663030730158,
         0.21797118263830448,
         0.2247493519794707,
         0.21155954703834712,
         0.22985686010717615,
         0.22968478090193706,
         0.22791765355413743,
         0.22235898067261659,
         0.22184156131583685,
         0.23703794033773354,
         0.22407585935320193,
         0.20335960617361992,
         0.1968623063682268,
         0.21688812370320745,
         0.22782375677214825,
         0.22725885793311046,
         0.2228262516505578,
         0.2289313362619164,
         0.22337752766393618,
         0.22278067969954482
        ],
        [
         22.04204803192988,
         22.994965804973617,
         22.82096471544355,
         23.16660111071542,
         23.711408036295325,
         22.943478570319712,
         23.326320665422827,
         22.507470113923773,
         21.944265752099454,
         21.51506518945098,
         21.727265228517354,
         23.085944737307727,
         21.335888404399157,
         24.56566438358277,
         23.690492706140503,
         21.637321351096034,
         22.674213679507375,
         22.099682657397352,
         23.364582676556893,
         23.56914490344934,
         20.868565974757075,
         20.414432343561202,
         22.779427888221107,
         22.409221183741465,
         22.150665396358818,
         22.410124038578942,
         20.8309991620481,
         23.791902422439307,
         21.991195689653978,
         22.46611140179448,
         23.00072900368832,
         21.459800922195427,
         22.729447631165385,
         22.88476808788255,
         21.798417984507978,
         20.82980085723102,
         21.758384217508137,
         22.503240395337343,
         22.03402208685293,
         23.15844359714538,
         23.366512254462577,
         24.20487689319998,
         21.71455668611452,
         23.822525528725237,
         20.656712132506073,
         23.06921743345447,
         21.88925775932148,
         22.85816784494091,
         23.758165299659595,
         21.33554527873639,
         24.12712519336492,
         25.222916013823124,
         21.26354236807674,
         21.892686787061393,
         22.00489539920818,
         23.516709520481527,
         23.115799725987017,
         23.196948125725612,
         23.795050838030875,
         22.351699594728416,
         22.55821359436959,
         22.711712832562625,
         21.013864569657017,
         21.584113255143166,
         21.893690992845222,
         21.273823858238757,
         21.380715201608837,
         22.098934594672755,
         22.298690675059333,
         21.95403610356152,
         22.53593461588025,
         21.739502541720867,
         22.532716224901378,
         23.214092856273055,
         23.076157952658832,
         21.92201508861035,
         24.07814450841397,
         22.449310478987172,
         21.98022366221994,
         21.888513553887606,
         21.373756291344762,
         22.233060629107058,
         22.924433901906013,
         21.579073797911406,
         23.445399730931967,
         23.42784765199758,
         23.247600662522018,
         22.68061602860689,
         22.62783925421536,
         24.17786991444882,
         22.855737654026598,
         20.742679829709232,
         20.079955249559134,
         22.12258861772716,
         23.238023190759122,
         23.180403509177268,
         22.728277668356895,
         23.350996298715472,
         22.78450782172149,
         22.72362932935357
        ],
        [
         3.0945499098304237,
         3.0957048881081315,
         3.0908308240642017,
         3.094940970008171,
         3.130491576663684,
         3.067133813181644,
         3.2075981086437744,
         3.0232157733331313,
         2.9811915545128564,
         2.998039874919355,
         3.0399551468148642,
         3.153199040725015,
         2.9524507126137216,
         3.344807289108007,
         3.1859727653375045,
         2.972726324246347,
         3.044427152222801,
         3.126612369989841,
         3.089648281263218,
         3.1401718222450175,
         2.9624776789243863,
         2.8993539747561297,
         2.9907856650383886,
         3.030525701882652,
         3.0607493229876472,
         3.215854442093744,
         2.929104347516332,
         3.1717769049656215,
         2.999220069438661,
         3.0599117652007344,
         3.091759526372429,
         3.0281503384811947,
         3.0907428223269053,
         3.181325281509387,
         3.0465158848615843,
         2.866905221019664,
         2.9847551514055066,
         3.009060949420217,
         3.0584192404543917,
         3.1640149460280376,
         3.2174584932882855,
         3.257716049069987,
         2.973152962639807,
         3.152773503112967,
         2.994726313085512,
         3.0732965398378513,
         3.0411267784712033,
         3.074266637202525,
         3.190137075075701,
         2.9441543054278183,
         3.2389583050382886,
         3.269228301159331,
         2.9224982571798095,
         2.946733747816578,
         2.9598885685859946,
         3.1046685290742126,
         3.209100385155097,
         3.1907439409945924,
         3.1623838201514576,
         3.0875559218489497,
         3.0648500849446805,
         3.107163348422606,
         2.976020783737979,
         3.1025361326967196,
         3.0275096581687135,
         3.010733610564837,
         2.8715186625739735,
         2.9477300069448136,
         2.9849705981778487,
         2.919882293598819,
         3.064982210051138,
         2.9818865812075206,
         3.0865826921946313,
         3.146439366142096,
         3.1120208937202665,
         3.0898682824128367,
         3.1445770895754914,
         3.15329901511318,
         2.969912542912636,
         3.00831229856436,
         2.954985677351191,
         3.04103935876313,
         3.090981224626732,
         3.0167351686193813,
         3.117098353092716,
         3.1899311079438686,
         3.018721835865069,
         3.162155823991281,
         3.102983268454766,
         3.24595846976665,
         2.979480681602005,
         2.847424800846574,
         2.805754894195008,
         2.9857738287379054,
         3.181065210562162,
         3.0649192954872033,
         3.0459668429799733,
         3.063523657033464,
         3.09440181453103,
         3.0475773301276834
        ]
       ],
       "encoder": "json",
       "name": "ABC_GAN_3 Metrics",
       "version": 1
      }
     },
     "metadata": {
      "scrapbook": {
       "data": true,
       "display": false,
       "name": "ABC_GAN_3 Metrics"
      }
     },
     "output_type": "display_data"
    }
   ],
   "source": [
    "ABC_GAN3_metrics=ABC_train_test2.test_generator(gen3,test_data,prior_model,variance,\"3\",device)\n",
    "sb.glue(\"ABC_GAN_3 Metrics\",ABC_GAN3_metrics)"
   ]
  },
  {
   "cell_type": "code",
   "execution_count": 18,
   "id": "c8e46b48",
   "metadata": {
    "execution": {
     "iopub.execute_input": "2022-01-14T11:50:04.656407Z",
     "iopub.status.busy": "2022-01-14T11:50:04.655813Z",
     "iopub.status.idle": "2022-01-14T11:50:05.499324Z",
     "shell.execute_reply": "2022-01-14T11:50:05.498710Z"
    },
    "papermill": {
     "duration": 0.893583,
     "end_time": "2022-01-14T11:50:05.499528",
     "exception": false,
     "start_time": "2022-01-14T11:50:04.605945",
     "status": "completed"
    },
    "tags": []
   },
   "outputs": [
    {
     "data": {
      "image/png": "[encoded data removed]",
      "text/plain": [
       "<Figure size 432x288 with 1 Axes>"
      ]
     },
     "metadata": {
      "needs_background": "light"
     },
     "output_type": "display_data"
    },
    {
     "data": {
      "image/png": "[encoded data removed]",
      "text/plain": [
       "<Figure size 432x288 with 1 Axes>"
      ]
     },
     "metadata": {
      "needs_background": "light"
     },
     "output_type": "display_data"
    },
    {
     "data": {
      "image/png": "[encoded data removed]",
      "text/plain": [
       "<Figure size 432x288 with 1 Axes>"
      ]
     },
     "metadata": {
      "needs_background": "light"
     },
     "output_type": "display_data"
    },
    {
     "data": {
      "image/png": "[encoded data removed]",
      "text/plain": [
       "<Figure size 432x288 with 1 Axes>"
      ]
     },
     "metadata": {
      "needs_background": "light"
     },
     "output_type": "display_data"
    }
   ],
   "source": [
    "sanityChecks.discProbVsError(train_data,disc,device)\n",
    "sanityChecks.discProbVsError(test_data,disc3,device)"
   ]
  },
  {
   "cell_type": "markdown",
   "id": "a5bd74c3",
   "metadata": {
    "papermill": {
     "duration": 0.049708,
     "end_time": "2022-01-14T11:50:05.601875",
     "exception": false,
     "start_time": "2022-01-14T11:50:05.552167",
     "status": "completed"
    },
    "tags": []
   },
   "source": [
    "## Skip Connection Model Analysis - ABC-GAN "
   ]
  },
  {
   "cell_type": "markdown",
   "id": "5744a8bf",
   "metadata": {
    "papermill": {
     "duration": 0.051825,
     "end_time": "2022-01-14T11:50:05.720954",
     "exception": false,
     "start_time": "2022-01-14T11:50:05.669129",
     "status": "completed"
    },
    "tags": []
   },
   "source": [
    "### Weight Analysis \n",
    "\n",
    "Study the weights of the skip connection layer\n",
    "\n",
    "Equation of the skip connection is \n",
    "\n",
    "$output = y_{gan} * w + y_{abc} * (1-w)$"
   ]
  },
  {
   "cell_type": "code",
   "execution_count": 19,
   "id": "52c31dea",
   "metadata": {
    "execution": {
     "iopub.execute_input": "2022-01-14T11:50:05.829022Z",
     "iopub.status.busy": "2022-01-14T11:50:05.828439Z",
     "iopub.status.idle": "2022-01-14T11:50:05.836879Z",
     "shell.execute_reply": "2022-01-14T11:50:05.836431Z"
    },
    "papermill": {
     "duration": 0.065132,
     "end_time": "2022-01-14T11:50:05.837002",
     "exception": false,
     "start_time": "2022-01-14T11:50:05.771870",
     "status": "completed"
    },
    "tags": []
   },
   "outputs": [
    {
     "name": "stdout",
     "output_type": "stream",
     "text": [
      "Weight of the node at skip connection\n",
      "Parameter containing:\n",
      "tensor([[0.]], device='cuda:0', requires_grad=True)\n"
     ]
    },
    {
     "data": {
      "application/scrapbook.scrap.json+json": {
       "data": 0.0,
       "encoder": "json",
       "name": "Skip Connection Weight",
       "version": 1
      }
     },
     "metadata": {
      "scrapbook": {
       "data": true,
       "display": false,
       "name": "Skip Connection Weight"
      }
     },
     "output_type": "display_data"
    }
   ],
   "source": [
    "print(\"Weight of the node at skip connection\")\n",
    "for name,param in gen3.named_parameters():\n",
    "    if(name == \"skipNode.weight\"):\n",
    "        print(param)\n",
    "        sb.glue(\"Skip Connection Weight\",param.item())"
   ]
  }
 ],
 "metadata": {
  "interpreter": {
   "hash": "10498c76ddd8160350534c6544a2b2fb65f2138dbc70420f7c81a3268f830f23"
  },
  "kernelspec": {
   "display_name": "papermill-tutorial",
   "language": "python",
   "name": "python3"
  },
  "language_info": {
   "codemirror_mode": {
    "name": "ipython",
    "version": 3
   },
   "file_extension": ".py",
   "mimetype": "text/x-python",
   "name": "python",
   "nbconvert_exporter": "python",
   "pygments_lexer": "ipython3",
   "version": "3.7.12"
  },
  "papermill": {
   "default_parameters": {},
   "duration": 2553.25948,
   "end_time": "2022-01-14T11:50:06.609602",
   "environment_variables": {},
   "exception": null,
   "input_path": "ABC_GAN_Model-Catboost_Pre-gen.ipynb",
   "output_path": "./ABC_GAN_Output/ABC-GAN_output_3_1.ipynb",
   "parameters": {
    "variance": 0.1
   },
   "start_time": "2022-01-14T11:07:33.350122",
   "version": "2.3.3"
  }
 },
 "nbformat": 4,
 "nbformat_minor": 5
}