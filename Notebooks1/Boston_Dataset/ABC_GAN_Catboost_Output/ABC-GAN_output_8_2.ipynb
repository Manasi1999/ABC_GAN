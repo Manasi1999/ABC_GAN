{
 "cells": [
  {
   "cell_type": "markdown",
   "id": "622780e6",
   "metadata": {
    "papermill": {
     "duration": 0.025867,
     "end_time": "2022-01-15T09:08:48.013615",
     "exception": false,
     "start_time": "2022-01-15T09:08:47.987748",
     "status": "completed"
    },
    "tags": []
   },
   "source": [
    "## Import Libraries "
   ]
  },
  {
   "cell_type": "code",
   "execution_count": 1,
   "id": "a62397e3",
   "metadata": {
    "execution": {
     "iopub.execute_input": "2022-01-15T09:08:48.066266Z",
     "iopub.status.busy": "2022-01-15T09:08:48.065687Z",
     "iopub.status.idle": "2022-01-15T09:08:48.068086Z",
     "shell.execute_reply": "2022-01-15T09:08:48.067577Z"
    },
    "papermill": {
     "duration": 0.03211,
     "end_time": "2022-01-15T09:08:48.068261",
     "exception": false,
     "start_time": "2022-01-15T09:08:48.036151",
     "status": "completed"
    },
    "tags": []
   },
   "outputs": [],
   "source": [
    "import warnings\n",
    "import sys\n",
    "sys.path.insert(0, '../../src')\n",
    "warnings.filterwarnings('ignore')"
   ]
  },
  {
   "cell_type": "code",
   "execution_count": 2,
   "id": "d6a4e155",
   "metadata": {
    "execution": {
     "iopub.execute_input": "2022-01-15T09:08:48.123556Z",
     "iopub.status.busy": "2022-01-15T09:08:48.122743Z",
     "iopub.status.idle": "2022-01-15T09:08:58.282095Z",
     "shell.execute_reply": "2022-01-15T09:08:58.281479Z"
    },
    "papermill": {
     "duration": 10.189683,
     "end_time": "2022-01-15T09:08:58.282269",
     "exception": false,
     "start_time": "2022-01-15T09:08:48.092586",
     "status": "completed"
    },
    "tags": []
   },
   "outputs": [],
   "source": [
    "import ABC_train_test2\n",
    "import bostonDataset\n",
    "import network\n",
    "import dataset\n",
    "import sanityChecks\n",
    "import performanceMetrics\n",
    "import torch \n",
    "from torch.utils.data import random_split \n",
    "import scrapbook as sb\n",
    "from statistics import mean \n",
    "import catboost as ctb \n",
    "from sklearn.model_selection import train_test_split\n",
    "from sklearn.metrics import mean_squared_error\n",
    "import numpy as np"
   ]
  },
  {
   "cell_type": "markdown",
   "id": "2fa5b0f7",
   "metadata": {
    "papermill": {
     "duration": 0.049191,
     "end_time": "2022-01-15T09:08:58.356118",
     "exception": false,
     "start_time": "2022-01-15T09:08:58.306927",
     "status": "completed"
    },
    "tags": []
   },
   "source": [
    "## Parameters "
   ]
  },
  {
   "cell_type": "code",
   "execution_count": 3,
   "id": "783186fb",
   "metadata": {
    "execution": {
     "iopub.execute_input": "2022-01-15T09:08:58.408236Z",
     "iopub.status.busy": "2022-01-15T09:08:58.407624Z",
     "iopub.status.idle": "2022-01-15T09:08:58.410498Z",
     "shell.execute_reply": "2022-01-15T09:08:58.409822Z"
    },
    "papermill": {
     "duration": 0.030501,
     "end_time": "2022-01-15T09:08:58.410628",
     "exception": false,
     "start_time": "2022-01-15T09:08:58.380127",
     "status": "completed"
    },
    "tags": [
     "parameters"
    ]
   },
   "outputs": [],
   "source": [
    "variance = 1"
   ]
  },
  {
   "cell_type": "code",
   "execution_count": 4,
   "id": "6b0af18f",
   "metadata": {
    "execution": {
     "iopub.execute_input": "2022-01-15T09:08:58.465313Z",
     "iopub.status.busy": "2022-01-15T09:08:58.464668Z",
     "iopub.status.idle": "2022-01-15T09:08:58.467509Z",
     "shell.execute_reply": "2022-01-15T09:08:58.466989Z"
    },
    "papermill": {
     "duration": 0.031561,
     "end_time": "2022-01-15T09:08:58.467639",
     "exception": false,
     "start_time": "2022-01-15T09:08:58.436078",
     "status": "completed"
    },
    "tags": [
     "injected-parameters"
    ]
   },
   "outputs": [],
   "source": [
    "# Parameters\n",
    "variance = 0.01\n"
   ]
  },
  {
   "cell_type": "markdown",
   "id": "391cdbfd",
   "metadata": {
    "papermill": {
     "duration": 0.023669,
     "end_time": "2022-01-15T09:08:58.515697",
     "exception": false,
     "start_time": "2022-01-15T09:08:58.492028",
     "status": "completed"
    },
    "tags": []
   },
   "source": [
    "## Dataset - Boston Housing "
   ]
  },
  {
   "cell_type": "code",
   "execution_count": 5,
   "id": "5b51f161",
   "metadata": {
    "execution": {
     "iopub.execute_input": "2022-01-15T09:08:58.570984Z",
     "iopub.status.busy": "2022-01-15T09:08:58.570391Z",
     "iopub.status.idle": "2022-01-15T09:08:58.572975Z",
     "shell.execute_reply": "2022-01-15T09:08:58.572476Z"
    },
    "papermill": {
     "duration": 0.033099,
     "end_time": "2022-01-15T09:08:58.573102",
     "exception": false,
     "start_time": "2022-01-15T09:08:58.540003",
     "status": "completed"
    },
    "tags": []
   },
   "outputs": [],
   "source": [
    "#Parameters \n",
    "n_features = 13\n",
    "n_samples= 506\n",
    "n_target = 1 "
   ]
  },
  {
   "cell_type": "code",
   "execution_count": 6,
   "id": "5d6eced4",
   "metadata": {
    "execution": {
     "iopub.execute_input": "2022-01-15T09:08:58.624735Z",
     "iopub.status.busy": "2022-01-15T09:08:58.624055Z",
     "iopub.status.idle": "2022-01-15T09:08:58.667264Z",
     "shell.execute_reply": "2022-01-15T09:08:58.667688Z"
    },
    "papermill": {
     "duration": 0.070937,
     "end_time": "2022-01-15T09:08:58.667841",
     "exception": false,
     "start_time": "2022-01-15T09:08:58.596904",
     "status": "completed"
    },
    "tags": []
   },
   "outputs": [
    {
     "name": "stdout",
     "output_type": "stream",
     "text": [
      "         X1        X2        X3        X4        X5        X6        X7        X8        X9       X10       X11       X12       X13         Y\n",
      "0 -0.419782  0.284830 -1.287909 -0.272599 -0.144217  0.413672 -0.120013  0.140214 -0.982843 -0.666608 -1.459000  0.441052 -1.075562  0.159686\n",
      "1 -0.417339 -0.487722 -0.593381 -0.272599 -0.740262  0.194274  0.367166  0.557160 -0.867883 -0.987329 -0.303094  0.441052 -0.492439 -0.101524\n",
      "2 -0.417342 -0.487722 -0.593381 -0.272599 -0.740262  1.282714 -0.265812  0.557160 -0.867883 -0.987329 -0.303094  0.396427 -1.208727  1.324247\n",
      "3 -0.416750 -0.487722 -1.306878 -0.272599 -0.835284  1.016303 -0.809889  1.077737 -0.752922 -1.106115  0.113032  0.416163 -1.361517  1.182758\n",
      "4 -0.412482 -0.487722 -1.306878 -0.272599 -0.835284  1.228577 -0.511180  1.077737 -0.752922 -1.106115  0.113032  0.441052 -1.026501  1.487503\n"
     ]
    }
   ],
   "source": [
    "X,Y = bostonDataset.boston_data()"
   ]
  },
  {
   "cell_type": "code",
   "execution_count": 7,
   "id": "fe007438",
   "metadata": {
    "execution": {
     "iopub.execute_input": "2022-01-15T09:08:58.745906Z",
     "iopub.status.busy": "2022-01-15T09:08:58.745153Z",
     "iopub.status.idle": "2022-01-15T09:08:58.748121Z",
     "shell.execute_reply": "2022-01-15T09:08:58.747604Z"
    },
    "papermill": {
     "duration": 0.055059,
     "end_time": "2022-01-15T09:08:58.748301",
     "exception": false,
     "start_time": "2022-01-15T09:08:58.693242",
     "status": "completed"
    },
    "tags": []
   },
   "outputs": [],
   "source": [
    "#Train test split for dataset \n",
    "X_train,X_test,Y_train,Y_test = train_test_split(X,Y,test_size = 0.2)\n",
    "train_data = dataset.CustomDataset(X_train,Y_train)\n",
    "test_data = dataset.CustomDataset(X_test,Y_test)\n"
   ]
  },
  {
   "cell_type": "markdown",
   "id": "a9a1af34",
   "metadata": {
    "papermill": {
     "duration": 0.025471,
     "end_time": "2022-01-15T09:08:58.801920",
     "exception": false,
     "start_time": "2022-01-15T09:08:58.776449",
     "status": "completed"
    },
    "tags": []
   },
   "source": [
    "## Training Parameters \n",
    "\n"
   ]
  },
  {
   "cell_type": "code",
   "execution_count": 8,
   "id": "952b7fc8",
   "metadata": {
    "execution": {
     "iopub.execute_input": "2022-01-15T09:08:58.925775Z",
     "iopub.status.busy": "2022-01-15T09:08:58.924648Z",
     "iopub.status.idle": "2022-01-15T09:08:58.928164Z",
     "shell.execute_reply": "2022-01-15T09:08:58.927348Z"
    },
    "papermill": {
     "duration": 0.100509,
     "end_time": "2022-01-15T09:08:58.928383",
     "exception": false,
     "start_time": "2022-01-15T09:08:58.827874",
     "status": "completed"
    },
    "tags": []
   },
   "outputs": [],
   "source": [
    "batch_size = 64\n",
    "n_epochs = 5000\n",
    "#Select the device \n",
    "device = torch.device('cuda' if torch.cuda.is_available() else 'cpu')"
   ]
  },
  {
   "cell_type": "markdown",
   "id": "a95e1600",
   "metadata": {
    "papermill": {
     "duration": 0.024597,
     "end_time": "2022-01-15T09:08:58.979127",
     "exception": false,
     "start_time": "2022-01-15T09:08:58.954530",
     "status": "completed"
    },
    "tags": []
   },
   "source": [
    "# ABC Pre-generator Model \n",
    "\n",
    "1. The catboost model is used as a pre-generator model for the ABC-GAN. \n",
    "2. The model is first trained on the train dataset \n",
    "3. It generats X,Y pairs and we add some Gaussian noise with mean 0 and variance V (1,0.01,0.1) to it which is then feed as input to the generator.\n"
   ]
  },
  {
   "cell_type": "code",
   "execution_count": 9,
   "id": "ff8ce7bd",
   "metadata": {
    "execution": {
     "iopub.execute_input": "2022-01-15T09:08:59.054696Z",
     "iopub.status.busy": "2022-01-15T09:08:59.053916Z",
     "iopub.status.idle": "2022-01-15T09:09:02.532590Z",
     "shell.execute_reply": "2022-01-15T09:09:02.533078Z"
    },
    "papermill": {
     "duration": 3.529337,
     "end_time": "2022-01-15T09:09:02.533286",
     "exception": false,
     "start_time": "2022-01-15T09:08:59.003949",
     "status": "completed"
    },
    "tags": []
   },
   "outputs": [
    {
     "name": "stdout",
     "output_type": "stream",
     "text": [
      "Learning rate set to 0.03548\n"
     ]
    },
    {
     "name": "stdout",
     "output_type": "stream",
     "text": [
      "0:\tlearn: 0.9432840\ttotal: 48.5ms\tremaining: 48.4s\n",
      "1:\tlearn: 0.9239628\ttotal: 49.8ms\tremaining: 24.8s\n",
      "2:\tlearn: 0.9042229\ttotal: 51ms\tremaining: 17s\n",
      "3:\tlearn: 0.8871516\ttotal: 52ms\tremaining: 12.9s\n",
      "4:\tlearn: 0.8714908\ttotal: 53.1ms\tremaining: 10.6s\n",
      "5:\tlearn: 0.8547821\ttotal: 54.1ms\tremaining: 8.97s\n",
      "6:\tlearn: 0.8382985\ttotal: 55.2ms\tremaining: 7.83s\n",
      "7:\tlearn: 0.8218871\ttotal: 56.2ms\tremaining: 6.96s\n",
      "8:\tlearn: 0.8057569\ttotal: 57.2ms\tremaining: 6.3s\n",
      "9:\tlearn: 0.7903115\ttotal: 58.3ms\tremaining: 5.77s\n",
      "10:\tlearn: 0.7773550\ttotal: 59.4ms\tremaining: 5.34s\n",
      "11:\tlearn: 0.7625109\ttotal: 60.4ms\tremaining: 4.97s\n",
      "12:\tlearn: 0.7474061\ttotal: 61.5ms\tremaining: 4.67s\n",
      "13:\tlearn: 0.7322896\ttotal: 62.6ms\tremaining: 4.41s\n",
      "14:\tlearn: 0.7200589\ttotal: 63.6ms\tremaining: 4.18s\n",
      "15:\tlearn: 0.7062094\ttotal: 64.6ms\tremaining: 3.98s\n",
      "16:\tlearn: 0.6948857\ttotal: 65.8ms\tremaining: 3.8s\n",
      "17:\tlearn: 0.6831055\ttotal: 66.8ms\tremaining: 3.64s\n",
      "18:\tlearn: 0.6718417\ttotal: 67.7ms\tremaining: 3.5s\n",
      "19:\tlearn: 0.6598023\ttotal: 68.7ms\tremaining: 3.37s\n",
      "20:\tlearn: 0.6476673\ttotal: 69.7ms\tremaining: 3.25s\n",
      "21:\tlearn: 0.6383701\ttotal: 70.8ms\tremaining: 3.15s\n",
      "22:\tlearn: 0.6286385\ttotal: 71.7ms\tremaining: 3.05s\n",
      "23:\tlearn: 0.6191850\ttotal: 72.8ms\tremaining: 2.96s\n",
      "24:\tlearn: 0.6094667\ttotal: 73.8ms\tremaining: 2.88s\n",
      "25:\tlearn: 0.6003669\ttotal: 74.8ms\tremaining: 2.8s\n",
      "26:\tlearn: 0.5920826\ttotal: 75.9ms\tremaining: 2.74s\n",
      "27:\tlearn: 0.5832270\ttotal: 76.9ms\tremaining: 2.67s\n",
      "28:\tlearn: 0.5736534\ttotal: 77.9ms\tremaining: 2.61s\n",
      "29:\tlearn: 0.5650449\ttotal: 78.9ms\tremaining: 2.55s\n",
      "30:\tlearn: 0.5563170\ttotal: 80ms\tremaining: 2.5s\n",
      "31:\tlearn: 0.5491182\ttotal: 81ms\tremaining: 2.45s\n",
      "32:\tlearn: 0.5424778\ttotal: 82ms\tremaining: 2.4s\n",
      "33:\tlearn: 0.5345473\ttotal: 83ms\tremaining: 2.36s\n",
      "34:\tlearn: 0.5277074\ttotal: 84ms\tremaining: 2.31s\n",
      "35:\tlearn: 0.5215084\ttotal: 85ms\tremaining: 2.27s\n",
      "36:\tlearn: 0.5156247\ttotal: 86ms\tremaining: 2.24s\n",
      "37:\tlearn: 0.5095224\ttotal: 86.9ms\tremaining: 2.2s\n",
      "38:\tlearn: 0.5023704\ttotal: 87.9ms\tremaining: 2.17s\n",
      "39:\tlearn: 0.4958686\ttotal: 88.9ms\tremaining: 2.13s\n",
      "40:\tlearn: 0.4905063\ttotal: 89.9ms\tremaining: 2.1s\n",
      "41:\tlearn: 0.4837273\ttotal: 91ms\tremaining: 2.08s\n",
      "42:\tlearn: 0.4784589\ttotal: 92ms\tremaining: 2.05s\n",
      "43:\tlearn: 0.4734030\ttotal: 93ms\tremaining: 2.02s\n",
      "44:\tlearn: 0.4683662\ttotal: 94ms\tremaining: 1.99s\n",
      "45:\tlearn: 0.4624288\ttotal: 95ms\tremaining: 1.97s\n",
      "46:\tlearn: 0.4576681\ttotal: 96.1ms\tremaining: 1.95s\n",
      "47:\tlearn: 0.4523460\ttotal: 97.3ms\tremaining: 1.93s\n",
      "48:\tlearn: 0.4468618\ttotal: 98.3ms\tremaining: 1.91s\n",
      "49:\tlearn: 0.4420762\ttotal: 99.3ms\tremaining: 1.89s\n",
      "50:\tlearn: 0.4360474\ttotal: 100ms\tremaining: 1.87s\n",
      "51:\tlearn: 0.4320234\ttotal: 101ms\tremaining: 1.85s\n",
      "52:\tlearn: 0.4284579\ttotal: 102ms\tremaining: 1.83s\n",
      "53:\tlearn: 0.4236486\ttotal: 104ms\tremaining: 1.81s\n",
      "54:\tlearn: 0.4195635\ttotal: 105ms\tremaining: 1.8s\n",
      "55:\tlearn: 0.4154893\ttotal: 106ms\tremaining: 1.78s\n",
      "56:\tlearn: 0.4110340\ttotal: 107ms\tremaining: 1.76s\n",
      "57:\tlearn: 0.4063884\ttotal: 108ms\tremaining: 1.75s\n",
      "58:\tlearn: 0.4025855\ttotal: 109ms\tremaining: 1.73s\n",
      "59:\tlearn: 0.3986919\ttotal: 110ms\tremaining: 1.72s\n",
      "60:\tlearn: 0.3948227\ttotal: 111ms\tremaining: 1.71s\n",
      "61:\tlearn: 0.3907848\ttotal: 112ms\tremaining: 1.69s\n",
      "62:\tlearn: 0.3870226\ttotal: 113ms\tremaining: 1.68s\n",
      "63:\tlearn: 0.3838265\ttotal: 114ms\tremaining: 1.67s\n",
      "64:\tlearn: 0.3796857\ttotal: 115ms\tremaining: 1.66s\n",
      "65:\tlearn: 0.3765351\ttotal: 116ms\tremaining: 1.64s\n",
      "66:\tlearn: 0.3728365\ttotal: 117ms\tremaining: 1.63s\n",
      "67:\tlearn: 0.3694493\ttotal: 118ms\tremaining: 1.62s\n",
      "68:\tlearn: 0.3658465\ttotal: 119ms\tremaining: 1.61s\n",
      "69:\tlearn: 0.3629690\ttotal: 120ms\tremaining: 1.6s\n",
      "70:\tlearn: 0.3598782\ttotal: 121ms\tremaining: 1.59s\n",
      "71:\tlearn: 0.3565514\ttotal: 122ms\tremaining: 1.57s\n",
      "72:\tlearn: 0.3536908\ttotal: 123ms\tremaining: 1.57s\n",
      "73:\tlearn: 0.3504950\ttotal: 124ms\tremaining: 1.56s\n",
      "74:\tlearn: 0.3483094\ttotal: 125ms\tremaining: 1.54s\n",
      "75:\tlearn: 0.3468021\ttotal: 126ms\tremaining: 1.54s\n",
      "76:\tlearn: 0.3435894\ttotal: 127ms\tremaining: 1.53s\n",
      "77:\tlearn: 0.3409322\ttotal: 128ms\tremaining: 1.52s\n",
      "78:\tlearn: 0.3383750\ttotal: 129ms\tremaining: 1.51s\n",
      "79:\tlearn: 0.3361209\ttotal: 130ms\tremaining: 1.5s\n",
      "80:\tlearn: 0.3338927\ttotal: 131ms\tremaining: 1.49s\n",
      "81:\tlearn: 0.3312736\ttotal: 132ms\tremaining: 1.48s\n",
      "82:\tlearn: 0.3289459\ttotal: 133ms\tremaining: 1.47s\n",
      "83:\tlearn: 0.3268324\ttotal: 134ms\tremaining: 1.47s\n",
      "84:\tlearn: 0.3243137\ttotal: 135ms\tremaining: 1.46s\n",
      "85:\tlearn: 0.3219681\ttotal: 136ms\tremaining: 1.45s\n",
      "86:\tlearn: 0.3196430\ttotal: 137ms\tremaining: 1.44s\n",
      "87:\tlearn: 0.3174476\ttotal: 138ms\tremaining: 1.43s\n",
      "88:\tlearn: 0.3158979\ttotal: 139ms\tremaining: 1.43s\n",
      "89:\tlearn: 0.3137031\ttotal: 140ms\tremaining: 1.42s\n",
      "90:\tlearn: 0.3118131\ttotal: 141ms\tremaining: 1.41s\n",
      "91:\tlearn: 0.3095950\ttotal: 142ms\tremaining: 1.4s\n",
      "92:\tlearn: 0.3080257\ttotal: 143ms\tremaining: 1.4s\n",
      "93:\tlearn: 0.3059358\ttotal: 144ms\tremaining: 1.39s\n",
      "94:\tlearn: 0.3039520\ttotal: 145ms\tremaining: 1.38s\n",
      "95:\tlearn: 0.3019109\ttotal: 146ms\tremaining: 1.38s\n",
      "96:\tlearn: 0.3002373\ttotal: 147ms\tremaining: 1.37s\n",
      "97:\tlearn: 0.2989782\ttotal: 149ms\tremaining: 1.37s\n",
      "98:\tlearn: 0.2974965\ttotal: 150ms\tremaining: 1.36s\n",
      "99:\tlearn: 0.2963939\ttotal: 151ms\tremaining: 1.35s\n",
      "100:\tlearn: 0.2943825\ttotal: 152ms\tremaining: 1.35s\n",
      "101:\tlearn: 0.2928216\ttotal: 153ms\tremaining: 1.34s\n",
      "102:\tlearn: 0.2915304\ttotal: 154ms\tremaining: 1.34s\n",
      "103:\tlearn: 0.2893733\ttotal: 155ms\tremaining: 1.33s\n",
      "104:\tlearn: 0.2878261\ttotal: 156ms\tremaining: 1.32s\n",
      "105:\tlearn: 0.2866187\ttotal: 157ms\tremaining: 1.32s\n",
      "106:\tlearn: 0.2855251\ttotal: 158ms\tremaining: 1.32s\n",
      "107:\tlearn: 0.2843703\ttotal: 159ms\tremaining: 1.31s\n",
      "108:\tlearn: 0.2833533\ttotal: 160ms\tremaining: 1.31s\n",
      "109:\tlearn: 0.2818155\ttotal: 161ms\tremaining: 1.3s\n",
      "110:\tlearn: 0.2802959\ttotal: 162ms\tremaining: 1.3s\n",
      "111:\tlearn: 0.2788419\ttotal: 163ms\tremaining: 1.29s\n",
      "112:\tlearn: 0.2773213\ttotal: 164ms\tremaining: 1.28s\n",
      "113:\tlearn: 0.2761342\ttotal: 165ms\tremaining: 1.28s\n",
      "114:\tlearn: 0.2747645\ttotal: 166ms\tremaining: 1.27s\n",
      "115:\tlearn: 0.2736818\ttotal: 167ms\tremaining: 1.27s\n",
      "116:\tlearn: 0.2723074\ttotal: 168ms\tremaining: 1.27s\n",
      "117:\tlearn: 0.2710870\ttotal: 169ms\tremaining: 1.26s\n",
      "118:\tlearn: 0.2700620\ttotal: 170ms\tremaining: 1.26s\n",
      "119:\tlearn: 0.2691911\ttotal: 171ms\tremaining: 1.25s\n",
      "120:\tlearn: 0.2676557\ttotal: 172ms\tremaining: 1.25s\n",
      "121:\tlearn: 0.2665163\ttotal: 173ms\tremaining: 1.24s\n",
      "122:\tlearn: 0.2653695\ttotal: 174ms\tremaining: 1.24s\n",
      "123:\tlearn: 0.2642522\ttotal: 175ms\tremaining: 1.23s\n",
      "124:\tlearn: 0.2635730\ttotal: 176ms\tremaining: 1.23s\n",
      "125:\tlearn: 0.2622896\ttotal: 177ms\tremaining: 1.23s\n",
      "126:\tlearn: 0.2610507\ttotal: 178ms\tremaining: 1.22s\n",
      "127:\tlearn: 0.2599298\ttotal: 179ms\tremaining: 1.22s\n",
      "128:\tlearn: 0.2587393\ttotal: 180ms\tremaining: 1.22s\n",
      "129:\tlearn: 0.2575617\ttotal: 181ms\tremaining: 1.21s\n",
      "130:\tlearn: 0.2567060\ttotal: 182ms\tremaining: 1.21s\n"
     ]
    },
    {
     "name": "stdout",
     "output_type": "stream",
     "text": [
      "131:\tlearn: 0.2556190\ttotal: 184ms\tremaining: 1.21s\n",
      "132:\tlearn: 0.2546086\ttotal: 185ms\tremaining: 1.21s\n",
      "133:\tlearn: 0.2535919\ttotal: 186ms\tremaining: 1.2s\n",
      "134:\tlearn: 0.2522635\ttotal: 187ms\tremaining: 1.2s\n",
      "135:\tlearn: 0.2512602\ttotal: 188ms\tremaining: 1.2s\n",
      "136:\tlearn: 0.2500246\ttotal: 190ms\tremaining: 1.19s\n",
      "137:\tlearn: 0.2489733\ttotal: 191ms\tremaining: 1.19s\n",
      "138:\tlearn: 0.2480039\ttotal: 192ms\tremaining: 1.19s\n",
      "139:\tlearn: 0.2472289\ttotal: 193ms\tremaining: 1.18s\n",
      "140:\tlearn: 0.2463035\ttotal: 194ms\tremaining: 1.18s\n",
      "141:\tlearn: 0.2456649\ttotal: 195ms\tremaining: 1.18s\n",
      "142:\tlearn: 0.2446683\ttotal: 196ms\tremaining: 1.17s\n",
      "143:\tlearn: 0.2439650\ttotal: 197ms\tremaining: 1.17s\n",
      "144:\tlearn: 0.2432336\ttotal: 198ms\tremaining: 1.17s\n",
      "145:\tlearn: 0.2425144\ttotal: 199ms\tremaining: 1.16s\n",
      "146:\tlearn: 0.2416984\ttotal: 200ms\tremaining: 1.16s\n",
      "147:\tlearn: 0.2404286\ttotal: 201ms\tremaining: 1.16s\n",
      "148:\tlearn: 0.2393522\ttotal: 202ms\tremaining: 1.15s\n",
      "149:\tlearn: 0.2384382\ttotal: 203ms\tremaining: 1.15s\n",
      "150:\tlearn: 0.2375821\ttotal: 204ms\tremaining: 1.15s\n",
      "151:\tlearn: 0.2368956\ttotal: 205ms\tremaining: 1.14s\n",
      "152:\tlearn: 0.2361585\ttotal: 206ms\tremaining: 1.14s\n",
      "153:\tlearn: 0.2351855\ttotal: 207ms\tremaining: 1.14s\n",
      "154:\tlearn: 0.2346707\ttotal: 208ms\tremaining: 1.13s\n",
      "155:\tlearn: 0.2337070\ttotal: 209ms\tremaining: 1.13s\n",
      "156:\tlearn: 0.2333366\ttotal: 210ms\tremaining: 1.13s\n",
      "157:\tlearn: 0.2325710\ttotal: 211ms\tremaining: 1.12s\n",
      "158:\tlearn: 0.2316651\ttotal: 212ms\tremaining: 1.12s\n",
      "159:\tlearn: 0.2309659\ttotal: 213ms\tremaining: 1.12s\n",
      "160:\tlearn: 0.2302438\ttotal: 214ms\tremaining: 1.12s\n",
      "161:\tlearn: 0.2294327\ttotal: 215ms\tremaining: 1.11s\n",
      "162:\tlearn: 0.2288717\ttotal: 217ms\tremaining: 1.11s\n",
      "163:\tlearn: 0.2283279\ttotal: 218ms\tremaining: 1.11s\n",
      "164:\tlearn: 0.2277134\ttotal: 219ms\tremaining: 1.11s\n",
      "165:\tlearn: 0.2270737\ttotal: 220ms\tremaining: 1.1s\n",
      "166:\tlearn: 0.2267088\ttotal: 221ms\tremaining: 1.1s\n",
      "167:\tlearn: 0.2257464\ttotal: 222ms\tremaining: 1.1s\n",
      "168:\tlearn: 0.2252819\ttotal: 223ms\tremaining: 1.09s\n",
      "169:\tlearn: 0.2245932\ttotal: 224ms\tremaining: 1.09s\n",
      "170:\tlearn: 0.2238291\ttotal: 225ms\tremaining: 1.09s\n",
      "171:\tlearn: 0.2232712\ttotal: 226ms\tremaining: 1.09s\n",
      "172:\tlearn: 0.2226374\ttotal: 227ms\tremaining: 1.08s\n",
      "173:\tlearn: 0.2216593\ttotal: 228ms\tremaining: 1.08s\n",
      "174:\tlearn: 0.2210379\ttotal: 229ms\tremaining: 1.08s\n",
      "175:\tlearn: 0.2205369\ttotal: 230ms\tremaining: 1.07s\n",
      "176:\tlearn: 0.2198156\ttotal: 231ms\tremaining: 1.07s\n",
      "177:\tlearn: 0.2190726\ttotal: 232ms\tremaining: 1.07s\n",
      "178:\tlearn: 0.2186132\ttotal: 233ms\tremaining: 1.07s\n",
      "179:\tlearn: 0.2181240\ttotal: 234ms\tremaining: 1.06s\n",
      "180:\tlearn: 0.2172453\ttotal: 235ms\tremaining: 1.06s\n",
      "181:\tlearn: 0.2165203\ttotal: 236ms\tremaining: 1.06s\n",
      "182:\tlearn: 0.2157476\ttotal: 237ms\tremaining: 1.06s\n",
      "183:\tlearn: 0.2149757\ttotal: 238ms\tremaining: 1.05s\n",
      "184:\tlearn: 0.2142430\ttotal: 239ms\tremaining: 1.05s\n",
      "185:\tlearn: 0.2135373\ttotal: 240ms\tremaining: 1.05s\n",
      "186:\tlearn: 0.2126666\ttotal: 241ms\tremaining: 1.05s\n",
      "187:\tlearn: 0.2121311\ttotal: 242ms\tremaining: 1.04s\n",
      "188:\tlearn: 0.2114154\ttotal: 243ms\tremaining: 1.04s\n",
      "189:\tlearn: 0.2108521\ttotal: 244ms\tremaining: 1.04s\n",
      "190:\tlearn: 0.2099845\ttotal: 245ms\tremaining: 1.04s\n",
      "191:\tlearn: 0.2094330\ttotal: 246ms\tremaining: 1.04s\n",
      "192:\tlearn: 0.2086560\ttotal: 247ms\tremaining: 1.03s\n",
      "193:\tlearn: 0.2080572\ttotal: 248ms\tremaining: 1.03s\n",
      "194:\tlearn: 0.2074303\ttotal: 250ms\tremaining: 1.03s\n",
      "195:\tlearn: 0.2068921\ttotal: 251ms\tremaining: 1.03s\n",
      "196:\tlearn: 0.2059226\ttotal: 252ms\tremaining: 1.02s\n",
      "197:\tlearn: 0.2054767\ttotal: 253ms\tremaining: 1.02s\n",
      "198:\tlearn: 0.2050413\ttotal: 254ms\tremaining: 1.02s\n",
      "199:\tlearn: 0.2042216\ttotal: 255ms\tremaining: 1.02s\n",
      "200:\tlearn: 0.2035819\ttotal: 256ms\tremaining: 1.02s\n",
      "201:\tlearn: 0.2027591\ttotal: 257ms\tremaining: 1.01s\n",
      "202:\tlearn: 0.2022945\ttotal: 258ms\tremaining: 1.01s\n",
      "203:\tlearn: 0.2016989\ttotal: 259ms\tremaining: 1.01s\n",
      "204:\tlearn: 0.2011684\ttotal: 260ms\tremaining: 1.01s\n",
      "205:\tlearn: 0.2006797\ttotal: 261ms\tremaining: 1s\n",
      "206:\tlearn: 0.2000823\ttotal: 262ms\tremaining: 1s\n",
      "207:\tlearn: 0.1994235\ttotal: 263ms\tremaining: 1s\n",
      "208:\tlearn: 0.1988351\ttotal: 264ms\tremaining: 998ms\n",
      "209:\tlearn: 0.1985079\ttotal: 265ms\tremaining: 996ms\n",
      "210:\tlearn: 0.1977284\ttotal: 266ms\tremaining: 994ms\n",
      "211:\tlearn: 0.1973508\ttotal: 267ms\tremaining: 992ms\n",
      "212:\tlearn: 0.1967187\ttotal: 268ms\tremaining: 990ms\n",
      "213:\tlearn: 0.1961922\ttotal: 269ms\tremaining: 988ms\n",
      "214:\tlearn: 0.1955565\ttotal: 270ms\tremaining: 986ms\n",
      "215:\tlearn: 0.1951061\ttotal: 271ms\tremaining: 983ms\n",
      "216:\tlearn: 0.1947928\ttotal: 272ms\tremaining: 981ms\n",
      "217:\tlearn: 0.1940850\ttotal: 273ms\tremaining: 979ms\n",
      "218:\tlearn: 0.1933019\ttotal: 274ms\tremaining: 977ms\n",
      "219:\tlearn: 0.1929379\ttotal: 275ms\tremaining: 975ms\n",
      "220:\tlearn: 0.1925380\ttotal: 276ms\tremaining: 973ms\n",
      "221:\tlearn: 0.1919776\ttotal: 277ms\tremaining: 972ms\n",
      "222:\tlearn: 0.1912785\ttotal: 278ms\tremaining: 969ms\n",
      "223:\tlearn: 0.1905787\ttotal: 279ms\tremaining: 967ms\n",
      "224:\tlearn: 0.1900082\ttotal: 280ms\tremaining: 965ms\n",
      "225:\tlearn: 0.1892674\ttotal: 281ms\tremaining: 964ms\n",
      "226:\tlearn: 0.1887901\ttotal: 282ms\tremaining: 962ms\n",
      "227:\tlearn: 0.1881546\ttotal: 284ms\tremaining: 962ms\n",
      "228:\tlearn: 0.1875630\ttotal: 285ms\tremaining: 959ms\n",
      "229:\tlearn: 0.1869981\ttotal: 286ms\tremaining: 957ms\n",
      "230:\tlearn: 0.1863984\ttotal: 287ms\tremaining: 956ms\n",
      "231:\tlearn: 0.1858208\ttotal: 288ms\tremaining: 954ms\n",
      "232:\tlearn: 0.1852281\ttotal: 289ms\tremaining: 952ms\n",
      "233:\tlearn: 0.1846548\ttotal: 290ms\tremaining: 950ms\n",
      "234:\tlearn: 0.1843375\ttotal: 291ms\tremaining: 948ms\n",
      "235:\tlearn: 0.1836568\ttotal: 292ms\tremaining: 946ms\n",
      "236:\tlearn: 0.1830354\ttotal: 293ms\tremaining: 945ms\n",
      "237:\tlearn: 0.1824993\ttotal: 294ms\tremaining: 943ms\n",
      "238:\tlearn: 0.1820079\ttotal: 295ms\tremaining: 941ms\n",
      "239:\tlearn: 0.1816885\ttotal: 296ms\tremaining: 939ms\n",
      "240:\tlearn: 0.1812532\ttotal: 297ms\tremaining: 937ms\n",
      "241:\tlearn: 0.1807120\ttotal: 298ms\tremaining: 935ms\n",
      "242:\tlearn: 0.1804219\ttotal: 299ms\tremaining: 933ms\n",
      "243:\tlearn: 0.1800608\ttotal: 301ms\tremaining: 931ms\n",
      "244:\tlearn: 0.1795168\ttotal: 302ms\tremaining: 929ms\n",
      "245:\tlearn: 0.1790749\ttotal: 303ms\tremaining: 928ms\n",
      "246:\tlearn: 0.1786660\ttotal: 304ms\tremaining: 926ms\n",
      "247:\tlearn: 0.1781542\ttotal: 305ms\tremaining: 924ms\n",
      "248:\tlearn: 0.1778648\ttotal: 306ms\tremaining: 922ms\n",
      "249:\tlearn: 0.1773670\ttotal: 307ms\tremaining: 920ms\n",
      "250:\tlearn: 0.1771489\ttotal: 308ms\tremaining: 918ms\n",
      "251:\tlearn: 0.1767674\ttotal: 309ms\tremaining: 916ms\n",
      "252:\tlearn: 0.1765168\ttotal: 310ms\tremaining: 915ms\n",
      "253:\tlearn: 0.1761992\ttotal: 311ms\tremaining: 913ms\n",
      "254:\tlearn: 0.1759099\ttotal: 312ms\tremaining: 911ms\n",
      "255:\tlearn: 0.1754696\ttotal: 313ms\tremaining: 910ms\n",
      "256:\tlearn: 0.1750535\ttotal: 314ms\tremaining: 908ms\n",
      "257:\tlearn: 0.1745532\ttotal: 315ms\tremaining: 906ms\n",
      "258:\tlearn: 0.1740345\ttotal: 316ms\tremaining: 904ms\n"
     ]
    },
    {
     "name": "stdout",
     "output_type": "stream",
     "text": [
      "259:\tlearn: 0.1735014\ttotal: 317ms\tremaining: 902ms\n",
      "260:\tlearn: 0.1728875\ttotal: 318ms\tremaining: 901ms\n",
      "261:\tlearn: 0.1722988\ttotal: 319ms\tremaining: 899ms\n",
      "262:\tlearn: 0.1716848\ttotal: 320ms\tremaining: 898ms\n",
      "263:\tlearn: 0.1712554\ttotal: 321ms\tremaining: 896ms\n",
      "264:\tlearn: 0.1708416\ttotal: 322ms\tremaining: 894ms\n",
      "265:\tlearn: 0.1706103\ttotal: 323ms\tremaining: 892ms\n",
      "266:\tlearn: 0.1703400\ttotal: 324ms\tremaining: 890ms\n",
      "267:\tlearn: 0.1697195\ttotal: 325ms\tremaining: 889ms\n",
      "268:\tlearn: 0.1692882\ttotal: 326ms\tremaining: 887ms\n",
      "269:\tlearn: 0.1690226\ttotal: 327ms\tremaining: 885ms\n",
      "270:\tlearn: 0.1686552\ttotal: 328ms\tremaining: 884ms\n",
      "271:\tlearn: 0.1681296\ttotal: 330ms\tremaining: 882ms\n",
      "272:\tlearn: 0.1676136\ttotal: 331ms\tremaining: 880ms\n",
      "273:\tlearn: 0.1670476\ttotal: 332ms\tremaining: 879ms\n",
      "274:\tlearn: 0.1667605\ttotal: 333ms\tremaining: 877ms\n",
      "275:\tlearn: 0.1663415\ttotal: 334ms\tremaining: 876ms\n",
      "276:\tlearn: 0.1658370\ttotal: 335ms\tremaining: 874ms\n",
      "277:\tlearn: 0.1653691\ttotal: 336ms\tremaining: 872ms\n",
      "278:\tlearn: 0.1648163\ttotal: 337ms\tremaining: 870ms\n",
      "279:\tlearn: 0.1645284\ttotal: 338ms\tremaining: 869ms\n",
      "280:\tlearn: 0.1640805\ttotal: 339ms\tremaining: 867ms\n",
      "281:\tlearn: 0.1635197\ttotal: 340ms\tremaining: 865ms\n",
      "282:\tlearn: 0.1629532\ttotal: 341ms\tremaining: 864ms\n",
      "283:\tlearn: 0.1625508\ttotal: 342ms\tremaining: 862ms\n",
      "284:\tlearn: 0.1619514\ttotal: 343ms\tremaining: 861ms\n",
      "285:\tlearn: 0.1616107\ttotal: 344ms\tremaining: 859ms\n",
      "286:\tlearn: 0.1613494\ttotal: 345ms\tremaining: 857ms\n",
      "287:\tlearn: 0.1609611\ttotal: 346ms\tremaining: 856ms\n",
      "288:\tlearn: 0.1604731\ttotal: 347ms\tremaining: 854ms\n",
      "289:\tlearn: 0.1600006\ttotal: 348ms\tremaining: 852ms\n",
      "290:\tlearn: 0.1597799\ttotal: 349ms\tremaining: 851ms\n",
      "291:\tlearn: 0.1592491\ttotal: 350ms\tremaining: 849ms\n",
      "292:\tlearn: 0.1588245\ttotal: 351ms\tremaining: 847ms\n",
      "293:\tlearn: 0.1584648\ttotal: 352ms\tremaining: 846ms\n",
      "294:\tlearn: 0.1581830\ttotal: 353ms\tremaining: 844ms\n",
      "295:\tlearn: 0.1577168\ttotal: 354ms\tremaining: 843ms\n",
      "296:\tlearn: 0.1572957\ttotal: 355ms\tremaining: 841ms\n",
      "297:\tlearn: 0.1569481\ttotal: 356ms\tremaining: 839ms\n",
      "298:\tlearn: 0.1566064\ttotal: 357ms\tremaining: 837ms\n",
      "299:\tlearn: 0.1560556\ttotal: 358ms\tremaining: 836ms\n",
      "300:\tlearn: 0.1557494\ttotal: 359ms\tremaining: 834ms\n",
      "301:\tlearn: 0.1553170\ttotal: 360ms\tremaining: 833ms\n",
      "302:\tlearn: 0.1549582\ttotal: 361ms\tremaining: 831ms\n",
      "303:\tlearn: 0.1547949\ttotal: 362ms\tremaining: 829ms\n",
      "304:\tlearn: 0.1545043\ttotal: 363ms\tremaining: 828ms\n",
      "305:\tlearn: 0.1542288\ttotal: 364ms\tremaining: 826ms\n",
      "306:\tlearn: 0.1539601\ttotal: 365ms\tremaining: 825ms\n",
      "307:\tlearn: 0.1535191\ttotal: 366ms\tremaining: 823ms\n",
      "308:\tlearn: 0.1529884\ttotal: 367ms\tremaining: 821ms\n",
      "309:\tlearn: 0.1524000\ttotal: 368ms\tremaining: 820ms\n",
      "310:\tlearn: 0.1519795\ttotal: 369ms\tremaining: 818ms\n",
      "311:\tlearn: 0.1515398\ttotal: 370ms\tremaining: 817ms\n",
      "312:\tlearn: 0.1510550\ttotal: 371ms\tremaining: 815ms\n",
      "313:\tlearn: 0.1507039\ttotal: 372ms\tremaining: 813ms\n",
      "314:\tlearn: 0.1505286\ttotal: 373ms\tremaining: 812ms\n",
      "315:\tlearn: 0.1500911\ttotal: 374ms\tremaining: 810ms\n",
      "316:\tlearn: 0.1499071\ttotal: 375ms\tremaining: 809ms\n",
      "317:\tlearn: 0.1496590\ttotal: 376ms\tremaining: 807ms\n",
      "318:\tlearn: 0.1492894\ttotal: 377ms\tremaining: 806ms\n",
      "319:\tlearn: 0.1490085\ttotal: 378ms\tremaining: 804ms\n",
      "320:\tlearn: 0.1486007\ttotal: 379ms\tremaining: 803ms\n",
      "321:\tlearn: 0.1481840\ttotal: 381ms\tremaining: 801ms\n",
      "322:\tlearn: 0.1479509\ttotal: 381ms\tremaining: 800ms\n",
      "323:\tlearn: 0.1475114\ttotal: 382ms\tremaining: 798ms\n",
      "324:\tlearn: 0.1471662\ttotal: 384ms\tremaining: 797ms\n",
      "325:\tlearn: 0.1469994\ttotal: 385ms\tremaining: 795ms\n",
      "326:\tlearn: 0.1466048\ttotal: 386ms\tremaining: 794ms\n",
      "327:\tlearn: 0.1462428\ttotal: 387ms\tremaining: 792ms\n",
      "328:\tlearn: 0.1457738\ttotal: 387ms\tremaining: 790ms\n",
      "329:\tlearn: 0.1454947\ttotal: 388ms\tremaining: 789ms\n",
      "330:\tlearn: 0.1450651\ttotal: 389ms\tremaining: 787ms\n",
      "331:\tlearn: 0.1446407\ttotal: 390ms\tremaining: 786ms\n",
      "332:\tlearn: 0.1441794\ttotal: 391ms\tremaining: 784ms\n",
      "333:\tlearn: 0.1439250\ttotal: 392ms\tremaining: 783ms\n",
      "334:\tlearn: 0.1436395\ttotal: 393ms\tremaining: 781ms\n",
      "335:\tlearn: 0.1434416\ttotal: 395ms\tremaining: 780ms\n",
      "336:\tlearn: 0.1430668\ttotal: 396ms\tremaining: 778ms\n",
      "337:\tlearn: 0.1428626\ttotal: 397ms\tremaining: 777ms\n",
      "338:\tlearn: 0.1425477\ttotal: 398ms\tremaining: 775ms\n",
      "339:\tlearn: 0.1421266\ttotal: 399ms\tremaining: 774ms\n",
      "340:\tlearn: 0.1419371\ttotal: 400ms\tremaining: 772ms\n",
      "341:\tlearn: 0.1415252\ttotal: 401ms\tremaining: 771ms\n",
      "342:\tlearn: 0.1412441\ttotal: 402ms\tremaining: 769ms\n",
      "343:\tlearn: 0.1410529\ttotal: 403ms\tremaining: 768ms\n",
      "344:\tlearn: 0.1406285\ttotal: 404ms\tremaining: 766ms\n",
      "345:\tlearn: 0.1401770\ttotal: 405ms\tremaining: 765ms\n",
      "346:\tlearn: 0.1398952\ttotal: 406ms\tremaining: 763ms\n",
      "347:\tlearn: 0.1394111\ttotal: 407ms\tremaining: 762ms\n",
      "348:\tlearn: 0.1391981\ttotal: 408ms\tremaining: 760ms\n",
      "349:\tlearn: 0.1390774\ttotal: 409ms\tremaining: 759ms\n",
      "350:\tlearn: 0.1387619\ttotal: 410ms\tremaining: 758ms\n",
      "351:\tlearn: 0.1384396\ttotal: 411ms\tremaining: 756ms\n",
      "352:\tlearn: 0.1382537\ttotal: 412ms\tremaining: 755ms\n",
      "353:\tlearn: 0.1380633\ttotal: 413ms\tremaining: 754ms\n",
      "354:\tlearn: 0.1376168\ttotal: 414ms\tremaining: 752ms\n",
      "355:\tlearn: 0.1372882\ttotal: 415ms\tremaining: 751ms\n",
      "356:\tlearn: 0.1369814\ttotal: 416ms\tremaining: 750ms\n",
      "357:\tlearn: 0.1367397\ttotal: 417ms\tremaining: 748ms\n",
      "358:\tlearn: 0.1364715\ttotal: 418ms\tremaining: 747ms\n",
      "359:\tlearn: 0.1360818\ttotal: 419ms\tremaining: 745ms\n",
      "360:\tlearn: 0.1357597\ttotal: 420ms\tremaining: 744ms\n",
      "361:\tlearn: 0.1354583\ttotal: 421ms\tremaining: 743ms\n",
      "362:\tlearn: 0.1352520\ttotal: 422ms\tremaining: 741ms\n",
      "363:\tlearn: 0.1350084\ttotal: 423ms\tremaining: 740ms\n",
      "364:\tlearn: 0.1347714\ttotal: 424ms\tremaining: 738ms\n",
      "365:\tlearn: 0.1345774\ttotal: 425ms\tremaining: 737ms\n",
      "366:\tlearn: 0.1341901\ttotal: 426ms\tremaining: 735ms\n",
      "367:\tlearn: 0.1339774\ttotal: 427ms\tremaining: 734ms\n",
      "368:\tlearn: 0.1335860\ttotal: 428ms\tremaining: 732ms\n",
      "369:\tlearn: 0.1332264\ttotal: 429ms\tremaining: 731ms\n",
      "370:\tlearn: 0.1329393\ttotal: 430ms\tremaining: 730ms\n",
      "371:\tlearn: 0.1327660\ttotal: 431ms\tremaining: 728ms\n",
      "372:\tlearn: 0.1324085\ttotal: 432ms\tremaining: 727ms\n",
      "373:\tlearn: 0.1322575\ttotal: 433ms\tremaining: 725ms\n",
      "374:\tlearn: 0.1318501\ttotal: 434ms\tremaining: 724ms\n",
      "375:\tlearn: 0.1317365\ttotal: 435ms\tremaining: 722ms\n",
      "376:\tlearn: 0.1315793\ttotal: 436ms\tremaining: 721ms\n",
      "377:\tlearn: 0.1314139\ttotal: 437ms\tremaining: 719ms\n",
      "378:\tlearn: 0.1313313\ttotal: 438ms\tremaining: 718ms\n",
      "379:\tlearn: 0.1310267\ttotal: 439ms\tremaining: 716ms\n",
      "380:\tlearn: 0.1307489\ttotal: 440ms\tremaining: 715ms\n",
      "381:\tlearn: 0.1303718\ttotal: 441ms\tremaining: 713ms\n",
      "382:\tlearn: 0.1301575\ttotal: 442ms\tremaining: 712ms\n",
      "383:\tlearn: 0.1298958\ttotal: 443ms\tremaining: 711ms\n",
      "384:\tlearn: 0.1295069\ttotal: 444ms\tremaining: 709ms\n",
      "385:\tlearn: 0.1292176\ttotal: 445ms\tremaining: 708ms\n",
      "386:\tlearn: 0.1288444\ttotal: 446ms\tremaining: 706ms\n",
      "387:\tlearn: 0.1284686\ttotal: 447ms\tremaining: 705ms\n",
      "388:\tlearn: 0.1282888\ttotal: 448ms\tremaining: 703ms\n",
      "389:\tlearn: 0.1279346\ttotal: 449ms\tremaining: 702ms\n"
     ]
    },
    {
     "name": "stdout",
     "output_type": "stream",
     "text": [
      "390:\tlearn: 0.1276489\ttotal: 450ms\tremaining: 700ms\n",
      "391:\tlearn: 0.1273644\ttotal: 451ms\tremaining: 699ms\n",
      "392:\tlearn: 0.1270690\ttotal: 452ms\tremaining: 698ms\n",
      "393:\tlearn: 0.1266838\ttotal: 453ms\tremaining: 697ms\n",
      "394:\tlearn: 0.1263099\ttotal: 454ms\tremaining: 695ms\n",
      "395:\tlearn: 0.1260736\ttotal: 455ms\tremaining: 694ms\n",
      "396:\tlearn: 0.1258695\ttotal: 456ms\tremaining: 693ms\n",
      "397:\tlearn: 0.1254725\ttotal: 457ms\tremaining: 691ms\n",
      "398:\tlearn: 0.1251068\ttotal: 458ms\tremaining: 690ms\n",
      "399:\tlearn: 0.1247713\ttotal: 459ms\tremaining: 688ms\n",
      "400:\tlearn: 0.1244341\ttotal: 460ms\tremaining: 687ms\n",
      "401:\tlearn: 0.1241675\ttotal: 461ms\tremaining: 686ms\n",
      "402:\tlearn: 0.1239431\ttotal: 462ms\tremaining: 684ms\n",
      "403:\tlearn: 0.1238184\ttotal: 463ms\tremaining: 683ms\n",
      "404:\tlearn: 0.1235508\ttotal: 464ms\tremaining: 682ms\n",
      "405:\tlearn: 0.1231516\ttotal: 465ms\tremaining: 680ms\n",
      "406:\tlearn: 0.1229278\ttotal: 466ms\tremaining: 679ms\n",
      "407:\tlearn: 0.1226192\ttotal: 467ms\tremaining: 677ms\n",
      "408:\tlearn: 0.1224432\ttotal: 468ms\tremaining: 676ms\n",
      "409:\tlearn: 0.1222978\ttotal: 469ms\tremaining: 675ms\n",
      "410:\tlearn: 0.1220651\ttotal: 470ms\tremaining: 673ms\n",
      "411:\tlearn: 0.1218228\ttotal: 471ms\tremaining: 672ms\n",
      "412:\tlearn: 0.1216796\ttotal: 472ms\tremaining: 671ms\n",
      "413:\tlearn: 0.1214052\ttotal: 473ms\tremaining: 669ms\n",
      "414:\tlearn: 0.1211121\ttotal: 474ms\tremaining: 668ms\n",
      "415:\tlearn: 0.1208350\ttotal: 475ms\tremaining: 667ms\n",
      "416:\tlearn: 0.1204959\ttotal: 476ms\tremaining: 665ms\n",
      "417:\tlearn: 0.1201346\ttotal: 477ms\tremaining: 664ms\n",
      "418:\tlearn: 0.1197811\ttotal: 478ms\tremaining: 662ms\n",
      "419:\tlearn: 0.1194624\ttotal: 479ms\tremaining: 661ms\n",
      "420:\tlearn: 0.1190448\ttotal: 480ms\tremaining: 660ms\n",
      "421:\tlearn: 0.1186679\ttotal: 481ms\tremaining: 658ms\n",
      "422:\tlearn: 0.1185601\ttotal: 482ms\tremaining: 657ms\n",
      "423:\tlearn: 0.1182347\ttotal: 483ms\tremaining: 656ms\n",
      "424:\tlearn: 0.1179010\ttotal: 484ms\tremaining: 654ms\n",
      "425:\tlearn: 0.1176263\ttotal: 485ms\tremaining: 653ms\n",
      "426:\tlearn: 0.1174764\ttotal: 486ms\tremaining: 652ms\n",
      "427:\tlearn: 0.1171982\ttotal: 487ms\tremaining: 651ms\n",
      "428:\tlearn: 0.1169214\ttotal: 488ms\tremaining: 650ms\n",
      "429:\tlearn: 0.1167984\ttotal: 489ms\tremaining: 648ms\n",
      "430:\tlearn: 0.1164847\ttotal: 490ms\tremaining: 647ms\n",
      "431:\tlearn: 0.1162887\ttotal: 491ms\tremaining: 646ms\n",
      "432:\tlearn: 0.1160249\ttotal: 492ms\tremaining: 645ms\n",
      "433:\tlearn: 0.1157346\ttotal: 493ms\tremaining: 644ms\n",
      "434:\tlearn: 0.1155844\ttotal: 495ms\tremaining: 642ms\n",
      "435:\tlearn: 0.1153105\ttotal: 496ms\tremaining: 641ms\n",
      "436:\tlearn: 0.1149986\ttotal: 497ms\tremaining: 640ms\n",
      "437:\tlearn: 0.1146745\ttotal: 498ms\tremaining: 639ms\n",
      "438:\tlearn: 0.1143641\ttotal: 499ms\tremaining: 637ms\n",
      "439:\tlearn: 0.1141390\ttotal: 500ms\tremaining: 636ms\n",
      "440:\tlearn: 0.1139739\ttotal: 501ms\tremaining: 635ms\n",
      "441:\tlearn: 0.1138508\ttotal: 502ms\tremaining: 634ms\n",
      "442:\tlearn: 0.1136943\ttotal: 503ms\tremaining: 632ms\n",
      "443:\tlearn: 0.1134552\ttotal: 504ms\tremaining: 631ms\n",
      "444:\tlearn: 0.1133054\ttotal: 505ms\tremaining: 630ms\n",
      "445:\tlearn: 0.1130192\ttotal: 506ms\tremaining: 628ms\n",
      "446:\tlearn: 0.1128973\ttotal: 508ms\tremaining: 628ms\n",
      "447:\tlearn: 0.1127876\ttotal: 509ms\tremaining: 627ms\n",
      "448:\tlearn: 0.1125660\ttotal: 510ms\tremaining: 625ms\n",
      "449:\tlearn: 0.1123571\ttotal: 511ms\tremaining: 624ms\n",
      "450:\tlearn: 0.1121967\ttotal: 511ms\tremaining: 623ms\n",
      "451:\tlearn: 0.1119506\ttotal: 512ms\tremaining: 621ms\n",
      "452:\tlearn: 0.1116516\ttotal: 513ms\tremaining: 620ms\n",
      "453:\tlearn: 0.1113751\ttotal: 514ms\tremaining: 619ms\n",
      "454:\tlearn: 0.1110159\ttotal: 515ms\tremaining: 617ms\n",
      "455:\tlearn: 0.1108750\ttotal: 516ms\tremaining: 616ms\n",
      "456:\tlearn: 0.1106319\ttotal: 517ms\tremaining: 615ms\n",
      "457:\tlearn: 0.1104728\ttotal: 518ms\tremaining: 613ms\n",
      "458:\tlearn: 0.1103258\ttotal: 519ms\tremaining: 612ms\n",
      "459:\tlearn: 0.1101008\ttotal: 520ms\tremaining: 611ms\n",
      "460:\tlearn: 0.1098873\ttotal: 522ms\tremaining: 610ms\n",
      "461:\tlearn: 0.1096419\ttotal: 523ms\tremaining: 609ms\n",
      "462:\tlearn: 0.1094518\ttotal: 524ms\tremaining: 607ms\n",
      "463:\tlearn: 0.1093790\ttotal: 525ms\tremaining: 606ms\n",
      "464:\tlearn: 0.1091575\ttotal: 526ms\tremaining: 605ms\n",
      "465:\tlearn: 0.1088821\ttotal: 527ms\tremaining: 604ms\n",
      "466:\tlearn: 0.1087495\ttotal: 528ms\tremaining: 602ms\n",
      "467:\tlearn: 0.1085413\ttotal: 529ms\tremaining: 601ms\n",
      "468:\tlearn: 0.1083997\ttotal: 530ms\tremaining: 600ms\n",
      "469:\tlearn: 0.1082070\ttotal: 531ms\tremaining: 598ms\n",
      "470:\tlearn: 0.1080141\ttotal: 532ms\tremaining: 597ms\n",
      "471:\tlearn: 0.1077886\ttotal: 533ms\tremaining: 596ms\n",
      "472:\tlearn: 0.1077185\ttotal: 534ms\tremaining: 595ms\n",
      "473:\tlearn: 0.1074584\ttotal: 535ms\tremaining: 593ms\n",
      "474:\tlearn: 0.1073905\ttotal: 536ms\tremaining: 592ms\n",
      "475:\tlearn: 0.1072134\ttotal: 536ms\tremaining: 591ms\n",
      "476:\tlearn: 0.1071750\ttotal: 537ms\tremaining: 589ms\n",
      "477:\tlearn: 0.1069724\ttotal: 538ms\tremaining: 588ms\n",
      "478:\tlearn: 0.1068513\ttotal: 539ms\tremaining: 587ms\n",
      "479:\tlearn: 0.1065993\ttotal: 540ms\tremaining: 585ms\n",
      "480:\tlearn: 0.1065177\ttotal: 541ms\tremaining: 584ms\n",
      "481:\tlearn: 0.1062357\ttotal: 542ms\tremaining: 583ms\n",
      "482:\tlearn: 0.1059949\ttotal: 543ms\tremaining: 582ms\n",
      "483:\tlearn: 0.1057541\ttotal: 544ms\tremaining: 580ms\n",
      "484:\tlearn: 0.1055092\ttotal: 545ms\tremaining: 579ms\n",
      "485:\tlearn: 0.1054724\ttotal: 546ms\tremaining: 578ms\n",
      "486:\tlearn: 0.1052046\ttotal: 547ms\tremaining: 577ms\n",
      "487:\tlearn: 0.1049852\ttotal: 548ms\tremaining: 575ms\n",
      "488:\tlearn: 0.1047843\ttotal: 550ms\tremaining: 574ms\n",
      "489:\tlearn: 0.1045138\ttotal: 551ms\tremaining: 573ms\n",
      "490:\tlearn: 0.1042512\ttotal: 552ms\tremaining: 572ms\n",
      "491:\tlearn: 0.1040032\ttotal: 553ms\tremaining: 571ms\n",
      "492:\tlearn: 0.1038758\ttotal: 554ms\tremaining: 570ms\n",
      "493:\tlearn: 0.1037152\ttotal: 555ms\tremaining: 568ms\n",
      "494:\tlearn: 0.1035962\ttotal: 556ms\tremaining: 567ms\n",
      "495:\tlearn: 0.1034726\ttotal: 557ms\tremaining: 566ms\n",
      "496:\tlearn: 0.1032723\ttotal: 558ms\tremaining: 565ms\n",
      "497:\tlearn: 0.1030702\ttotal: 559ms\tremaining: 564ms\n",
      "498:\tlearn: 0.1029063\ttotal: 560ms\tremaining: 562ms\n",
      "499:\tlearn: 0.1027583\ttotal: 561ms\tremaining: 561ms\n",
      "500:\tlearn: 0.1025721\ttotal: 562ms\tremaining: 560ms\n",
      "501:\tlearn: 0.1024464\ttotal: 563ms\tremaining: 559ms\n",
      "502:\tlearn: 0.1022848\ttotal: 564ms\tremaining: 558ms\n",
      "503:\tlearn: 0.1021137\ttotal: 565ms\tremaining: 556ms\n",
      "504:\tlearn: 0.1020794\ttotal: 566ms\tremaining: 555ms\n",
      "505:\tlearn: 0.1018325\ttotal: 567ms\tremaining: 554ms\n",
      "506:\tlearn: 0.1017433\ttotal: 568ms\tremaining: 553ms\n",
      "507:\tlearn: 0.1015199\ttotal: 569ms\tremaining: 551ms\n",
      "508:\tlearn: 0.1012890\ttotal: 570ms\tremaining: 550ms\n",
      "509:\tlearn: 0.1011083\ttotal: 571ms\tremaining: 549ms\n",
      "510:\tlearn: 0.1009937\ttotal: 572ms\tremaining: 548ms\n",
      "511:\tlearn: 0.1007023\ttotal: 573ms\tremaining: 546ms\n",
      "512:\tlearn: 0.1004801\ttotal: 574ms\tremaining: 545ms\n",
      "513:\tlearn: 0.1002662\ttotal: 575ms\tremaining: 544ms\n",
      "514:\tlearn: 0.1000920\ttotal: 576ms\tremaining: 543ms\n",
      "515:\tlearn: 0.0999179\ttotal: 577ms\tremaining: 541ms\n",
      "516:\tlearn: 0.0998242\ttotal: 578ms\tremaining: 540ms\n",
      "517:\tlearn: 0.0996553\ttotal: 579ms\tremaining: 539ms\n",
      "518:\tlearn: 0.0993212\ttotal: 580ms\tremaining: 538ms\n",
      "519:\tlearn: 0.0991813\ttotal: 581ms\tremaining: 536ms\n",
      "520:\tlearn: 0.0989031\ttotal: 582ms\tremaining: 535ms\n"
     ]
    },
    {
     "name": "stdout",
     "output_type": "stream",
     "text": [
      "521:\tlearn: 0.0986649\ttotal: 583ms\tremaining: 534ms\n",
      "522:\tlearn: 0.0985646\ttotal: 584ms\tremaining: 533ms\n",
      "523:\tlearn: 0.0984258\ttotal: 585ms\tremaining: 532ms\n",
      "524:\tlearn: 0.0981937\ttotal: 586ms\tremaining: 531ms\n",
      "525:\tlearn: 0.0979291\ttotal: 587ms\tremaining: 529ms\n",
      "526:\tlearn: 0.0977895\ttotal: 589ms\tremaining: 528ms\n",
      "527:\tlearn: 0.0976800\ttotal: 590ms\tremaining: 527ms\n",
      "528:\tlearn: 0.0974457\ttotal: 591ms\tremaining: 526ms\n",
      "529:\tlearn: 0.0971569\ttotal: 592ms\tremaining: 525ms\n",
      "530:\tlearn: 0.0970022\ttotal: 593ms\tremaining: 524ms\n",
      "531:\tlearn: 0.0967384\ttotal: 594ms\tremaining: 522ms\n",
      "532:\tlearn: 0.0965668\ttotal: 595ms\tremaining: 521ms\n",
      "533:\tlearn: 0.0963791\ttotal: 596ms\tremaining: 520ms\n",
      "534:\tlearn: 0.0961488\ttotal: 597ms\tremaining: 519ms\n",
      "535:\tlearn: 0.0960468\ttotal: 598ms\tremaining: 518ms\n",
      "536:\tlearn: 0.0958634\ttotal: 599ms\tremaining: 516ms\n",
      "537:\tlearn: 0.0956944\ttotal: 600ms\tremaining: 515ms\n",
      "538:\tlearn: 0.0955551\ttotal: 601ms\tremaining: 514ms\n",
      "539:\tlearn: 0.0953057\ttotal: 602ms\tremaining: 513ms\n",
      "540:\tlearn: 0.0951221\ttotal: 603ms\tremaining: 512ms\n",
      "541:\tlearn: 0.0950211\ttotal: 604ms\tremaining: 510ms\n",
      "542:\tlearn: 0.0948477\ttotal: 605ms\tremaining: 509ms\n",
      "543:\tlearn: 0.0947512\ttotal: 606ms\tremaining: 508ms\n",
      "544:\tlearn: 0.0945949\ttotal: 607ms\tremaining: 507ms\n",
      "545:\tlearn: 0.0945157\ttotal: 608ms\tremaining: 506ms\n",
      "546:\tlearn: 0.0942887\ttotal: 609ms\tremaining: 505ms\n",
      "547:\tlearn: 0.0940777\ttotal: 610ms\tremaining: 503ms\n",
      "548:\tlearn: 0.0939623\ttotal: 611ms\tremaining: 502ms\n",
      "549:\tlearn: 0.0937585\ttotal: 612ms\tremaining: 501ms\n",
      "550:\tlearn: 0.0936136\ttotal: 614ms\tremaining: 500ms\n",
      "551:\tlearn: 0.0933487\ttotal: 615ms\tremaining: 499ms\n",
      "552:\tlearn: 0.0931224\ttotal: 616ms\tremaining: 498ms\n",
      "553:\tlearn: 0.0930270\ttotal: 617ms\tremaining: 496ms\n",
      "554:\tlearn: 0.0928366\ttotal: 618ms\tremaining: 495ms\n",
      "555:\tlearn: 0.0926127\ttotal: 619ms\tremaining: 494ms\n",
      "556:\tlearn: 0.0923782\ttotal: 620ms\tremaining: 493ms\n",
      "557:\tlearn: 0.0921688\ttotal: 621ms\tremaining: 492ms\n",
      "558:\tlearn: 0.0920373\ttotal: 622ms\tremaining: 491ms\n",
      "559:\tlearn: 0.0918618\ttotal: 623ms\tremaining: 489ms\n",
      "560:\tlearn: 0.0917168\ttotal: 624ms\tremaining: 488ms\n",
      "561:\tlearn: 0.0915763\ttotal: 625ms\tremaining: 487ms\n",
      "562:\tlearn: 0.0914020\ttotal: 626ms\tremaining: 486ms\n",
      "563:\tlearn: 0.0913665\ttotal: 627ms\tremaining: 485ms\n",
      "564:\tlearn: 0.0913307\ttotal: 628ms\tremaining: 483ms\n",
      "565:\tlearn: 0.0910596\ttotal: 629ms\tremaining: 482ms\n",
      "566:\tlearn: 0.0908997\ttotal: 630ms\tremaining: 481ms\n",
      "567:\tlearn: 0.0907639\ttotal: 631ms\tremaining: 480ms\n",
      "568:\tlearn: 0.0905217\ttotal: 632ms\tremaining: 478ms\n",
      "569:\tlearn: 0.0902881\ttotal: 633ms\tremaining: 477ms\n",
      "570:\tlearn: 0.0902504\ttotal: 634ms\tremaining: 476ms\n",
      "571:\tlearn: 0.0900894\ttotal: 635ms\tremaining: 475ms\n",
      "572:\tlearn: 0.0900755\ttotal: 636ms\tremaining: 474ms\n",
      "573:\tlearn: 0.0900598\ttotal: 637ms\tremaining: 472ms\n",
      "574:\tlearn: 0.0899229\ttotal: 638ms\tremaining: 471ms\n",
      "575:\tlearn: 0.0897129\ttotal: 639ms\tremaining: 470ms\n",
      "576:\tlearn: 0.0895476\ttotal: 640ms\tremaining: 469ms\n",
      "577:\tlearn: 0.0894702\ttotal: 641ms\tremaining: 468ms\n",
      "578:\tlearn: 0.0894026\ttotal: 641ms\tremaining: 466ms\n",
      "579:\tlearn: 0.0892125\ttotal: 643ms\tremaining: 465ms\n",
      "580:\tlearn: 0.0891712\ttotal: 643ms\tremaining: 464ms\n",
      "581:\tlearn: 0.0889994\ttotal: 644ms\tremaining: 463ms\n",
      "582:\tlearn: 0.0887961\ttotal: 645ms\tremaining: 462ms\n",
      "583:\tlearn: 0.0887104\ttotal: 646ms\tremaining: 460ms\n",
      "584:\tlearn: 0.0886040\ttotal: 647ms\tremaining: 459ms\n",
      "585:\tlearn: 0.0884405\ttotal: 648ms\tremaining: 458ms\n",
      "586:\tlearn: 0.0882590\ttotal: 649ms\tremaining: 457ms\n",
      "587:\tlearn: 0.0880882\ttotal: 650ms\tremaining: 456ms\n",
      "588:\tlearn: 0.0879007\ttotal: 651ms\tremaining: 455ms\n",
      "589:\tlearn: 0.0877334\ttotal: 653ms\tremaining: 453ms\n",
      "590:\tlearn: 0.0875626\ttotal: 654ms\tremaining: 452ms\n",
      "591:\tlearn: 0.0874667\ttotal: 655ms\tremaining: 451ms\n",
      "592:\tlearn: 0.0874336\ttotal: 656ms\tremaining: 450ms\n",
      "593:\tlearn: 0.0872790\ttotal: 657ms\tremaining: 449ms\n",
      "594:\tlearn: 0.0871499\ttotal: 658ms\tremaining: 448ms\n",
      "595:\tlearn: 0.0871178\ttotal: 659ms\tremaining: 447ms\n",
      "596:\tlearn: 0.0869513\ttotal: 660ms\tremaining: 445ms\n",
      "597:\tlearn: 0.0867620\ttotal: 661ms\tremaining: 444ms\n",
      "598:\tlearn: 0.0865758\ttotal: 662ms\tremaining: 443ms\n",
      "599:\tlearn: 0.0864075\ttotal: 663ms\tremaining: 442ms\n",
      "600:\tlearn: 0.0862538\ttotal: 664ms\tremaining: 441ms\n",
      "601:\tlearn: 0.0860722\ttotal: 665ms\tremaining: 440ms\n",
      "602:\tlearn: 0.0859218\ttotal: 666ms\tremaining: 438ms\n",
      "603:\tlearn: 0.0857344\ttotal: 667ms\tremaining: 437ms\n",
      "604:\tlearn: 0.0856400\ttotal: 668ms\tremaining: 436ms\n",
      "605:\tlearn: 0.0854483\ttotal: 669ms\tremaining: 435ms\n",
      "606:\tlearn: 0.0852919\ttotal: 670ms\tremaining: 434ms\n",
      "607:\tlearn: 0.0851491\ttotal: 671ms\tremaining: 433ms\n",
      "608:\tlearn: 0.0850304\ttotal: 672ms\tremaining: 432ms\n",
      "609:\tlearn: 0.0848716\ttotal: 673ms\tremaining: 430ms\n",
      "610:\tlearn: 0.0847301\ttotal: 674ms\tremaining: 429ms\n",
      "611:\tlearn: 0.0846213\ttotal: 675ms\tremaining: 428ms\n",
      "612:\tlearn: 0.0845153\ttotal: 676ms\tremaining: 427ms\n",
      "613:\tlearn: 0.0843227\ttotal: 677ms\tremaining: 426ms\n",
      "614:\tlearn: 0.0841565\ttotal: 678ms\tremaining: 425ms\n",
      "615:\tlearn: 0.0839414\ttotal: 679ms\tremaining: 424ms\n",
      "616:\tlearn: 0.0836987\ttotal: 681ms\tremaining: 422ms\n",
      "617:\tlearn: 0.0835971\ttotal: 681ms\tremaining: 421ms\n",
      "618:\tlearn: 0.0834486\ttotal: 683ms\tremaining: 420ms\n",
      "619:\tlearn: 0.0833263\ttotal: 684ms\tremaining: 419ms\n",
      "620:\tlearn: 0.0831551\ttotal: 685ms\tremaining: 418ms\n",
      "621:\tlearn: 0.0830648\ttotal: 686ms\tremaining: 417ms\n",
      "622:\tlearn: 0.0828719\ttotal: 687ms\tremaining: 415ms\n",
      "623:\tlearn: 0.0827762\ttotal: 688ms\tremaining: 414ms\n",
      "624:\tlearn: 0.0827628\ttotal: 689ms\tremaining: 413ms\n",
      "625:\tlearn: 0.0825908\ttotal: 690ms\tremaining: 412ms\n",
      "626:\tlearn: 0.0824977\ttotal: 691ms\tremaining: 411ms\n",
      "627:\tlearn: 0.0823927\ttotal: 692ms\tremaining: 410ms\n",
      "628:\tlearn: 0.0822274\ttotal: 693ms\tremaining: 409ms\n",
      "629:\tlearn: 0.0819944\ttotal: 694ms\tremaining: 408ms\n",
      "630:\tlearn: 0.0818393\ttotal: 695ms\tremaining: 406ms\n",
      "631:\tlearn: 0.0816847\ttotal: 696ms\tremaining: 405ms\n",
      "632:\tlearn: 0.0815507\ttotal: 697ms\tremaining: 404ms\n",
      "633:\tlearn: 0.0815191\ttotal: 698ms\tremaining: 403ms\n",
      "634:\tlearn: 0.0813410\ttotal: 699ms\tremaining: 402ms\n",
      "635:\tlearn: 0.0812737\ttotal: 700ms\tremaining: 401ms\n",
      "636:\tlearn: 0.0812092\ttotal: 701ms\tremaining: 400ms\n",
      "637:\tlearn: 0.0809757\ttotal: 702ms\tremaining: 398ms\n",
      "638:\tlearn: 0.0808015\ttotal: 703ms\tremaining: 397ms\n",
      "639:\tlearn: 0.0806784\ttotal: 704ms\tremaining: 396ms\n",
      "640:\tlearn: 0.0805386\ttotal: 705ms\tremaining: 395ms\n",
      "641:\tlearn: 0.0804723\ttotal: 707ms\tremaining: 394ms\n",
      "642:\tlearn: 0.0803319\ttotal: 708ms\tremaining: 393ms\n",
      "643:\tlearn: 0.0801710\ttotal: 709ms\tremaining: 392ms\n",
      "644:\tlearn: 0.0799965\ttotal: 710ms\tremaining: 391ms\n",
      "645:\tlearn: 0.0799005\ttotal: 711ms\tremaining: 389ms\n",
      "646:\tlearn: 0.0797165\ttotal: 712ms\tremaining: 388ms\n",
      "647:\tlearn: 0.0795871\ttotal: 713ms\tremaining: 387ms\n",
      "648:\tlearn: 0.0794206\ttotal: 714ms\tremaining: 386ms\n",
      "649:\tlearn: 0.0793230\ttotal: 715ms\tremaining: 385ms\n"
     ]
    },
    {
     "name": "stdout",
     "output_type": "stream",
     "text": [
      "650:\tlearn: 0.0791360\ttotal: 716ms\tremaining: 384ms\n",
      "651:\tlearn: 0.0789377\ttotal: 718ms\tremaining: 383ms\n",
      "652:\tlearn: 0.0788340\ttotal: 719ms\tremaining: 382ms\n",
      "653:\tlearn: 0.0786830\ttotal: 720ms\tremaining: 381ms\n",
      "654:\tlearn: 0.0786009\ttotal: 721ms\tremaining: 380ms\n",
      "655:\tlearn: 0.0784260\ttotal: 722ms\tremaining: 378ms\n",
      "656:\tlearn: 0.0782494\ttotal: 723ms\tremaining: 377ms\n",
      "657:\tlearn: 0.0781209\ttotal: 724ms\tremaining: 376ms\n",
      "658:\tlearn: 0.0780379\ttotal: 725ms\tremaining: 375ms\n",
      "659:\tlearn: 0.0778524\ttotal: 726ms\tremaining: 374ms\n",
      "660:\tlearn: 0.0776655\ttotal: 727ms\tremaining: 373ms\n",
      "661:\tlearn: 0.0775209\ttotal: 728ms\tremaining: 372ms\n",
      "662:\tlearn: 0.0774577\ttotal: 729ms\tremaining: 371ms\n",
      "663:\tlearn: 0.0773384\ttotal: 730ms\tremaining: 369ms\n",
      "664:\tlearn: 0.0771968\ttotal: 731ms\tremaining: 368ms\n",
      "665:\tlearn: 0.0770549\ttotal: 732ms\tremaining: 367ms\n",
      "666:\tlearn: 0.0768872\ttotal: 733ms\tremaining: 366ms\n",
      "667:\tlearn: 0.0767569\ttotal: 734ms\tremaining: 365ms\n",
      "668:\tlearn: 0.0766134\ttotal: 735ms\tremaining: 364ms\n",
      "669:\tlearn: 0.0763791\ttotal: 736ms\tremaining: 363ms\n",
      "670:\tlearn: 0.0762447\ttotal: 737ms\tremaining: 362ms\n",
      "671:\tlearn: 0.0761015\ttotal: 739ms\tremaining: 360ms\n",
      "672:\tlearn: 0.0759635\ttotal: 740ms\tremaining: 359ms\n",
      "673:\tlearn: 0.0759548\ttotal: 741ms\tremaining: 358ms\n",
      "674:\tlearn: 0.0757779\ttotal: 742ms\tremaining: 357ms\n",
      "675:\tlearn: 0.0755885\ttotal: 743ms\tremaining: 356ms\n",
      "676:\tlearn: 0.0754500\ttotal: 744ms\tremaining: 355ms\n",
      "677:\tlearn: 0.0752648\ttotal: 745ms\tremaining: 354ms\n",
      "678:\tlearn: 0.0752389\ttotal: 746ms\tremaining: 353ms\n",
      "679:\tlearn: 0.0751592\ttotal: 747ms\tremaining: 351ms\n",
      "680:\tlearn: 0.0750697\ttotal: 748ms\tremaining: 350ms\n",
      "681:\tlearn: 0.0749804\ttotal: 749ms\tremaining: 349ms\n",
      "682:\tlearn: 0.0749222\ttotal: 750ms\tremaining: 348ms\n",
      "683:\tlearn: 0.0747980\ttotal: 751ms\tremaining: 347ms\n",
      "684:\tlearn: 0.0746852\ttotal: 752ms\tremaining: 346ms\n",
      "685:\tlearn: 0.0746543\ttotal: 753ms\tremaining: 345ms\n",
      "686:\tlearn: 0.0745267\ttotal: 754ms\tremaining: 344ms\n",
      "687:\tlearn: 0.0745026\ttotal: 755ms\tremaining: 342ms\n",
      "688:\tlearn: 0.0743401\ttotal: 756ms\tremaining: 341ms\n",
      "689:\tlearn: 0.0741783\ttotal: 757ms\tremaining: 340ms\n",
      "690:\tlearn: 0.0740668\ttotal: 758ms\tremaining: 339ms\n",
      "691:\tlearn: 0.0739072\ttotal: 759ms\tremaining: 338ms\n",
      "692:\tlearn: 0.0737118\ttotal: 760ms\tremaining: 337ms\n",
      "693:\tlearn: 0.0735473\ttotal: 761ms\tremaining: 336ms\n",
      "694:\tlearn: 0.0734455\ttotal: 762ms\tremaining: 334ms\n",
      "695:\tlearn: 0.0733776\ttotal: 763ms\tremaining: 333ms\n",
      "696:\tlearn: 0.0733666\ttotal: 764ms\tremaining: 332ms\n",
      "697:\tlearn: 0.0732409\ttotal: 765ms\tremaining: 331ms\n",
      "698:\tlearn: 0.0731018\ttotal: 766ms\tremaining: 330ms\n",
      "699:\tlearn: 0.0729590\ttotal: 767ms\tremaining: 329ms\n",
      "700:\tlearn: 0.0728034\ttotal: 768ms\tremaining: 328ms\n",
      "701:\tlearn: 0.0725982\ttotal: 769ms\tremaining: 326ms\n",
      "702:\tlearn: 0.0725851\ttotal: 770ms\tremaining: 325ms\n",
      "703:\tlearn: 0.0724315\ttotal: 771ms\tremaining: 324ms\n",
      "704:\tlearn: 0.0723301\ttotal: 772ms\tremaining: 323ms\n",
      "705:\tlearn: 0.0722047\ttotal: 773ms\tremaining: 322ms\n",
      "706:\tlearn: 0.0721977\ttotal: 774ms\tremaining: 321ms\n",
      "707:\tlearn: 0.0720323\ttotal: 775ms\tremaining: 320ms\n",
      "708:\tlearn: 0.0719866\ttotal: 776ms\tremaining: 319ms\n",
      "709:\tlearn: 0.0718585\ttotal: 777ms\tremaining: 317ms\n",
      "710:\tlearn: 0.0717451\ttotal: 778ms\tremaining: 316ms\n",
      "711:\tlearn: 0.0716829\ttotal: 779ms\tremaining: 315ms\n",
      "712:\tlearn: 0.0715523\ttotal: 780ms\tremaining: 314ms\n",
      "713:\tlearn: 0.0715058\ttotal: 781ms\tremaining: 313ms\n",
      "714:\tlearn: 0.0713244\ttotal: 782ms\tremaining: 312ms\n",
      "715:\tlearn: 0.0712106\ttotal: 783ms\tremaining: 311ms\n",
      "716:\tlearn: 0.0711033\ttotal: 785ms\tremaining: 310ms\n",
      "717:\tlearn: 0.0709924\ttotal: 786ms\tremaining: 309ms\n",
      "718:\tlearn: 0.0708897\ttotal: 787ms\tremaining: 307ms\n",
      "719:\tlearn: 0.0707588\ttotal: 788ms\tremaining: 306ms\n",
      "720:\tlearn: 0.0706396\ttotal: 789ms\tremaining: 305ms\n",
      "721:\tlearn: 0.0704963\ttotal: 790ms\tremaining: 304ms\n",
      "722:\tlearn: 0.0703900\ttotal: 791ms\tremaining: 303ms\n",
      "723:\tlearn: 0.0702480\ttotal: 792ms\tremaining: 302ms\n",
      "724:\tlearn: 0.0701613\ttotal: 793ms\tremaining: 301ms\n",
      "725:\tlearn: 0.0700155\ttotal: 794ms\tremaining: 300ms\n",
      "726:\tlearn: 0.0699242\ttotal: 795ms\tremaining: 299ms\n",
      "727:\tlearn: 0.0698095\ttotal: 796ms\tremaining: 297ms\n",
      "728:\tlearn: 0.0696433\ttotal: 797ms\tremaining: 296ms\n",
      "729:\tlearn: 0.0694973\ttotal: 798ms\tremaining: 295ms\n",
      "730:\tlearn: 0.0694003\ttotal: 800ms\tremaining: 294ms\n",
      "731:\tlearn: 0.0693244\ttotal: 801ms\tremaining: 293ms\n",
      "732:\tlearn: 0.0691818\ttotal: 802ms\tremaining: 292ms\n",
      "733:\tlearn: 0.0690576\ttotal: 803ms\tremaining: 291ms\n",
      "734:\tlearn: 0.0689668\ttotal: 804ms\tremaining: 290ms\n",
      "735:\tlearn: 0.0688679\ttotal: 805ms\tremaining: 289ms\n",
      "736:\tlearn: 0.0687647\ttotal: 805ms\tremaining: 287ms\n",
      "737:\tlearn: 0.0686742\ttotal: 807ms\tremaining: 286ms\n",
      "738:\tlearn: 0.0686020\ttotal: 807ms\tremaining: 285ms\n",
      "739:\tlearn: 0.0685043\ttotal: 808ms\tremaining: 284ms\n",
      "740:\tlearn: 0.0683705\ttotal: 809ms\tremaining: 283ms\n",
      "741:\tlearn: 0.0682517\ttotal: 810ms\tremaining: 282ms\n",
      "742:\tlearn: 0.0680927\ttotal: 811ms\tremaining: 281ms\n",
      "743:\tlearn: 0.0679929\ttotal: 812ms\tremaining: 280ms\n",
      "744:\tlearn: 0.0678633\ttotal: 813ms\tremaining: 278ms\n",
      "745:\tlearn: 0.0677214\ttotal: 814ms\tremaining: 277ms\n",
      "746:\tlearn: 0.0675811\ttotal: 815ms\tremaining: 276ms\n",
      "747:\tlearn: 0.0674642\ttotal: 816ms\tremaining: 275ms\n",
      "748:\tlearn: 0.0673989\ttotal: 817ms\tremaining: 274ms\n",
      "749:\tlearn: 0.0672961\ttotal: 818ms\tremaining: 273ms\n",
      "750:\tlearn: 0.0672823\ttotal: 819ms\tremaining: 272ms\n",
      "751:\tlearn: 0.0672103\ttotal: 820ms\tremaining: 270ms\n",
      "752:\tlearn: 0.0671400\ttotal: 821ms\tremaining: 269ms\n",
      "753:\tlearn: 0.0671031\ttotal: 822ms\tremaining: 268ms\n",
      "754:\tlearn: 0.0670098\ttotal: 823ms\tremaining: 267ms\n",
      "755:\tlearn: 0.0668940\ttotal: 824ms\tremaining: 266ms\n",
      "756:\tlearn: 0.0667852\ttotal: 825ms\tremaining: 265ms\n",
      "757:\tlearn: 0.0666592\ttotal: 826ms\tremaining: 264ms\n",
      "758:\tlearn: 0.0665490\ttotal: 827ms\tremaining: 263ms\n",
      "759:\tlearn: 0.0664430\ttotal: 828ms\tremaining: 261ms\n",
      "760:\tlearn: 0.0663356\ttotal: 829ms\tremaining: 260ms\n",
      "761:\tlearn: 0.0662611\ttotal: 830ms\tremaining: 259ms\n",
      "762:\tlearn: 0.0661687\ttotal: 831ms\tremaining: 258ms\n",
      "763:\tlearn: 0.0660337\ttotal: 832ms\tremaining: 257ms\n",
      "764:\tlearn: 0.0658868\ttotal: 833ms\tremaining: 256ms\n",
      "765:\tlearn: 0.0657519\ttotal: 834ms\tremaining: 255ms\n",
      "766:\tlearn: 0.0656117\ttotal: 835ms\tremaining: 254ms\n",
      "767:\tlearn: 0.0655266\ttotal: 836ms\tremaining: 252ms\n",
      "768:\tlearn: 0.0654400\ttotal: 837ms\tremaining: 251ms\n",
      "769:\tlearn: 0.0653010\ttotal: 838ms\tremaining: 250ms\n",
      "770:\tlearn: 0.0652102\ttotal: 839ms\tremaining: 249ms\n",
      "771:\tlearn: 0.0651336\ttotal: 840ms\tremaining: 248ms\n",
      "772:\tlearn: 0.0650973\ttotal: 841ms\tremaining: 247ms\n",
      "773:\tlearn: 0.0650273\ttotal: 842ms\tremaining: 246ms\n",
      "774:\tlearn: 0.0649826\ttotal: 843ms\tremaining: 245ms\n",
      "775:\tlearn: 0.0649142\ttotal: 844ms\tremaining: 244ms\n",
      "776:\tlearn: 0.0648086\ttotal: 845ms\tremaining: 242ms\n",
      "777:\tlearn: 0.0646994\ttotal: 846ms\tremaining: 241ms\n",
      "778:\tlearn: 0.0646014\ttotal: 847ms\tremaining: 240ms\n",
      "779:\tlearn: 0.0645120\ttotal: 848ms\tremaining: 239ms\n",
      "780:\tlearn: 0.0644455\ttotal: 849ms\tremaining: 238ms\n",
      "781:\tlearn: 0.0643194\ttotal: 850ms\tremaining: 237ms\n",
      "782:\tlearn: 0.0641783\ttotal: 851ms\tremaining: 236ms\n"
     ]
    },
    {
     "name": "stdout",
     "output_type": "stream",
     "text": [
      "783:\tlearn: 0.0640967\ttotal: 852ms\tremaining: 235ms\n",
      "784:\tlearn: 0.0639710\ttotal: 853ms\tremaining: 234ms\n",
      "785:\tlearn: 0.0638792\ttotal: 854ms\tremaining: 232ms\n",
      "786:\tlearn: 0.0638057\ttotal: 855ms\tremaining: 231ms\n",
      "787:\tlearn: 0.0636826\ttotal: 856ms\tremaining: 230ms\n",
      "788:\tlearn: 0.0635420\ttotal: 857ms\tremaining: 229ms\n",
      "789:\tlearn: 0.0634467\ttotal: 858ms\tremaining: 228ms\n",
      "790:\tlearn: 0.0633499\ttotal: 859ms\tremaining: 227ms\n",
      "791:\tlearn: 0.0632733\ttotal: 860ms\tremaining: 226ms\n",
      "792:\tlearn: 0.0632263\ttotal: 861ms\tremaining: 225ms\n",
      "793:\tlearn: 0.0631307\ttotal: 862ms\tremaining: 224ms\n",
      "794:\tlearn: 0.0630174\ttotal: 863ms\tremaining: 222ms\n",
      "795:\tlearn: 0.0628985\ttotal: 864ms\tremaining: 221ms\n",
      "796:\tlearn: 0.0628287\ttotal: 865ms\tremaining: 220ms\n",
      "797:\tlearn: 0.0627024\ttotal: 866ms\tremaining: 219ms\n",
      "798:\tlearn: 0.0626067\ttotal: 867ms\tremaining: 218ms\n",
      "799:\tlearn: 0.0624442\ttotal: 868ms\tremaining: 217ms\n",
      "800:\tlearn: 0.0623466\ttotal: 869ms\tremaining: 216ms\n",
      "801:\tlearn: 0.0622643\ttotal: 870ms\tremaining: 215ms\n",
      "802:\tlearn: 0.0620969\ttotal: 871ms\tremaining: 214ms\n",
      "803:\tlearn: 0.0620773\ttotal: 872ms\tremaining: 212ms\n",
      "804:\tlearn: 0.0619889\ttotal: 873ms\tremaining: 211ms\n",
      "805:\tlearn: 0.0618732\ttotal: 874ms\tremaining: 210ms\n",
      "806:\tlearn: 0.0617731\ttotal: 875ms\tremaining: 209ms\n",
      "807:\tlearn: 0.0616856\ttotal: 876ms\tremaining: 208ms\n",
      "808:\tlearn: 0.0615668\ttotal: 877ms\tremaining: 207ms\n",
      "809:\tlearn: 0.0614480\ttotal: 878ms\tremaining: 206ms\n",
      "810:\tlearn: 0.0613305\ttotal: 879ms\tremaining: 205ms\n",
      "811:\tlearn: 0.0612219\ttotal: 880ms\tremaining: 204ms\n",
      "812:\tlearn: 0.0611358\ttotal: 881ms\tremaining: 203ms\n",
      "813:\tlearn: 0.0610391\ttotal: 882ms\tremaining: 202ms\n",
      "814:\tlearn: 0.0609452\ttotal: 883ms\tremaining: 200ms\n",
      "815:\tlearn: 0.0607670\ttotal: 884ms\tremaining: 199ms\n",
      "816:\tlearn: 0.0607291\ttotal: 885ms\tremaining: 198ms\n",
      "817:\tlearn: 0.0605886\ttotal: 886ms\tremaining: 197ms\n",
      "818:\tlearn: 0.0605221\ttotal: 887ms\tremaining: 196ms\n",
      "819:\tlearn: 0.0603657\ttotal: 888ms\tremaining: 195ms\n",
      "820:\tlearn: 0.0603567\ttotal: 890ms\tremaining: 194ms\n",
      "821:\tlearn: 0.0602578\ttotal: 891ms\tremaining: 193ms\n",
      "822:\tlearn: 0.0601771\ttotal: 892ms\tremaining: 192ms\n",
      "823:\tlearn: 0.0600267\ttotal: 893ms\tremaining: 191ms\n",
      "824:\tlearn: 0.0599194\ttotal: 894ms\tremaining: 190ms\n",
      "825:\tlearn: 0.0598780\ttotal: 895ms\tremaining: 189ms\n",
      "826:\tlearn: 0.0597605\ttotal: 896ms\tremaining: 187ms\n",
      "827:\tlearn: 0.0596353\ttotal: 897ms\tremaining: 186ms\n",
      "828:\tlearn: 0.0595813\ttotal: 898ms\tremaining: 185ms\n",
      "829:\tlearn: 0.0594968\ttotal: 899ms\tremaining: 184ms\n",
      "830:\tlearn: 0.0594285\ttotal: 900ms\tremaining: 183ms\n",
      "831:\tlearn: 0.0593512\ttotal: 901ms\tremaining: 182ms\n",
      "832:\tlearn: 0.0592488\ttotal: 902ms\tremaining: 181ms\n",
      "833:\tlearn: 0.0591120\ttotal: 903ms\tremaining: 180ms\n",
      "834:\tlearn: 0.0590237\ttotal: 904ms\tremaining: 179ms\n",
      "835:\tlearn: 0.0589251\ttotal: 906ms\tremaining: 178ms\n",
      "836:\tlearn: 0.0588172\ttotal: 907ms\tremaining: 177ms\n",
      "837:\tlearn: 0.0586858\ttotal: 908ms\tremaining: 176ms\n",
      "838:\tlearn: 0.0585706\ttotal: 909ms\tremaining: 174ms\n",
      "839:\tlearn: 0.0584327\ttotal: 910ms\tremaining: 173ms\n",
      "840:\tlearn: 0.0583773\ttotal: 911ms\tremaining: 172ms\n",
      "841:\tlearn: 0.0582893\ttotal: 912ms\tremaining: 171ms\n",
      "842:\tlearn: 0.0582077\ttotal: 914ms\tremaining: 170ms\n",
      "843:\tlearn: 0.0581094\ttotal: 915ms\tremaining: 169ms\n",
      "844:\tlearn: 0.0580692\ttotal: 916ms\tremaining: 168ms\n",
      "845:\tlearn: 0.0579370\ttotal: 917ms\tremaining: 167ms\n",
      "846:\tlearn: 0.0578337\ttotal: 918ms\tremaining: 166ms\n",
      "847:\tlearn: 0.0577419\ttotal: 919ms\tremaining: 165ms\n",
      "848:\tlearn: 0.0576329\ttotal: 920ms\tremaining: 164ms\n",
      "849:\tlearn: 0.0575952\ttotal: 921ms\tremaining: 162ms\n",
      "850:\tlearn: 0.0574649\ttotal: 922ms\tremaining: 161ms\n",
      "851:\tlearn: 0.0573786\ttotal: 923ms\tremaining: 160ms\n",
      "852:\tlearn: 0.0573142\ttotal: 924ms\tremaining: 159ms\n",
      "853:\tlearn: 0.0572640\ttotal: 925ms\tremaining: 158ms\n",
      "854:\tlearn: 0.0571508\ttotal: 926ms\tremaining: 157ms\n",
      "855:\tlearn: 0.0570892\ttotal: 927ms\tremaining: 156ms\n",
      "856:\tlearn: 0.0570319\ttotal: 928ms\tremaining: 155ms\n",
      "857:\tlearn: 0.0569204\ttotal: 929ms\tremaining: 154ms\n",
      "858:\tlearn: 0.0568392\ttotal: 930ms\tremaining: 153ms\n",
      "859:\tlearn: 0.0567786\ttotal: 931ms\tremaining: 152ms\n",
      "860:\tlearn: 0.0567634\ttotal: 932ms\tremaining: 150ms\n",
      "861:\tlearn: 0.0566533\ttotal: 933ms\tremaining: 149ms\n",
      "862:\tlearn: 0.0565748\ttotal: 934ms\tremaining: 148ms\n",
      "863:\tlearn: 0.0564343\ttotal: 935ms\tremaining: 147ms\n",
      "864:\tlearn: 0.0562922\ttotal: 936ms\tremaining: 146ms\n",
      "865:\tlearn: 0.0561736\ttotal: 937ms\tremaining: 145ms\n",
      "866:\tlearn: 0.0561193\ttotal: 938ms\tremaining: 144ms\n",
      "867:\tlearn: 0.0560476\ttotal: 939ms\tremaining: 143ms\n",
      "868:\tlearn: 0.0560134\ttotal: 940ms\tremaining: 142ms\n",
      "869:\tlearn: 0.0559564\ttotal: 941ms\tremaining: 141ms\n",
      "870:\tlearn: 0.0559169\ttotal: 942ms\tremaining: 140ms\n",
      "871:\tlearn: 0.0558677\ttotal: 943ms\tremaining: 138ms\n",
      "872:\tlearn: 0.0558094\ttotal: 944ms\tremaining: 137ms\n",
      "873:\tlearn: 0.0556960\ttotal: 945ms\tremaining: 136ms\n",
      "874:\tlearn: 0.0556142\ttotal: 947ms\tremaining: 135ms\n",
      "875:\tlearn: 0.0555720\ttotal: 948ms\tremaining: 134ms\n",
      "876:\tlearn: 0.0555266\ttotal: 949ms\tremaining: 133ms\n",
      "877:\tlearn: 0.0554562\ttotal: 950ms\tremaining: 132ms\n",
      "878:\tlearn: 0.0554238\ttotal: 951ms\tremaining: 131ms\n",
      "879:\tlearn: 0.0553303\ttotal: 952ms\tremaining: 130ms\n",
      "880:\tlearn: 0.0552835\ttotal: 953ms\tremaining: 129ms\n",
      "881:\tlearn: 0.0552255\ttotal: 954ms\tremaining: 128ms\n",
      "882:\tlearn: 0.0551725\ttotal: 955ms\tremaining: 127ms\n",
      "883:\tlearn: 0.0550870\ttotal: 956ms\tremaining: 125ms\n",
      "884:\tlearn: 0.0549884\ttotal: 957ms\tremaining: 124ms\n",
      "885:\tlearn: 0.0549288\ttotal: 958ms\tremaining: 123ms\n",
      "886:\tlearn: 0.0548538\ttotal: 959ms\tremaining: 122ms\n",
      "887:\tlearn: 0.0548058\ttotal: 960ms\tremaining: 121ms\n",
      "888:\tlearn: 0.0547710\ttotal: 961ms\tremaining: 120ms\n",
      "889:\tlearn: 0.0546919\ttotal: 962ms\tremaining: 119ms\n",
      "890:\tlearn: 0.0545855\ttotal: 963ms\tremaining: 118ms\n",
      "891:\tlearn: 0.0545318\ttotal: 964ms\tremaining: 117ms\n",
      "892:\tlearn: 0.0544792\ttotal: 965ms\tremaining: 116ms\n",
      "893:\tlearn: 0.0543788\ttotal: 966ms\tremaining: 115ms\n",
      "894:\tlearn: 0.0543048\ttotal: 967ms\tremaining: 113ms\n",
      "895:\tlearn: 0.0542887\ttotal: 968ms\tremaining: 112ms\n",
      "896:\tlearn: 0.0541622\ttotal: 969ms\tremaining: 111ms\n",
      "897:\tlearn: 0.0540472\ttotal: 970ms\tremaining: 110ms\n",
      "898:\tlearn: 0.0539738\ttotal: 971ms\tremaining: 109ms\n",
      "899:\tlearn: 0.0538770\ttotal: 972ms\tremaining: 108ms\n",
      "900:\tlearn: 0.0538634\ttotal: 973ms\tremaining: 107ms\n",
      "901:\tlearn: 0.0537070\ttotal: 974ms\tremaining: 106ms\n",
      "902:\tlearn: 0.0536546\ttotal: 975ms\tremaining: 105ms\n",
      "903:\tlearn: 0.0535415\ttotal: 976ms\tremaining: 104ms\n",
      "904:\tlearn: 0.0534514\ttotal: 977ms\tremaining: 103ms\n",
      "905:\tlearn: 0.0533777\ttotal: 978ms\tremaining: 101ms\n",
      "906:\tlearn: 0.0533408\ttotal: 979ms\tremaining: 100ms\n",
      "907:\tlearn: 0.0532320\ttotal: 980ms\tremaining: 99.3ms\n",
      "908:\tlearn: 0.0531206\ttotal: 981ms\tremaining: 98.2ms\n",
      "909:\tlearn: 0.0529832\ttotal: 982ms\tremaining: 97.1ms\n",
      "910:\tlearn: 0.0529195\ttotal: 983ms\tremaining: 96ms\n",
      "911:\tlearn: 0.0528172\ttotal: 984ms\tremaining: 95ms\n"
     ]
    },
    {
     "name": "stdout",
     "output_type": "stream",
     "text": [
      "912:\tlearn: 0.0527591\ttotal: 986ms\tremaining: 93.9ms\n",
      "913:\tlearn: 0.0526870\ttotal: 987ms\tremaining: 92.9ms\n",
      "914:\tlearn: 0.0525965\ttotal: 988ms\tremaining: 91.8ms\n",
      "915:\tlearn: 0.0524748\ttotal: 989ms\tremaining: 90.7ms\n",
      "916:\tlearn: 0.0524516\ttotal: 990ms\tremaining: 89.6ms\n",
      "917:\tlearn: 0.0524434\ttotal: 991ms\tremaining: 88.5ms\n",
      "918:\tlearn: 0.0523406\ttotal: 992ms\tremaining: 87.5ms\n",
      "919:\tlearn: 0.0523110\ttotal: 994ms\tremaining: 86.4ms\n",
      "920:\tlearn: 0.0522700\ttotal: 995ms\tremaining: 85.3ms\n",
      "921:\tlearn: 0.0521724\ttotal: 996ms\tremaining: 84.2ms\n",
      "922:\tlearn: 0.0521375\ttotal: 997ms\tremaining: 83.2ms\n",
      "923:\tlearn: 0.0520342\ttotal: 998ms\tremaining: 82.1ms\n",
      "924:\tlearn: 0.0519592\ttotal: 999ms\tremaining: 81ms\n",
      "925:\tlearn: 0.0519083\ttotal: 1s\tremaining: 79.9ms\n",
      "926:\tlearn: 0.0518445\ttotal: 1s\tremaining: 78.8ms\n",
      "927:\tlearn: 0.0517601\ttotal: 1s\tremaining: 77.8ms\n",
      "928:\tlearn: 0.0517037\ttotal: 1s\tremaining: 76.7ms\n",
      "929:\tlearn: 0.0516492\ttotal: 1s\tremaining: 75.6ms\n",
      "930:\tlearn: 0.0516138\ttotal: 1s\tremaining: 74.5ms\n",
      "931:\tlearn: 0.0515930\ttotal: 1.01s\tremaining: 73.4ms\n",
      "932:\tlearn: 0.0514361\ttotal: 1.01s\tremaining: 72.3ms\n",
      "933:\tlearn: 0.0514156\ttotal: 1.01s\tremaining: 71.3ms\n",
      "934:\tlearn: 0.0513613\ttotal: 1.01s\tremaining: 70.2ms\n",
      "935:\tlearn: 0.0513185\ttotal: 1.01s\tremaining: 69.1ms\n",
      "936:\tlearn: 0.0512465\ttotal: 1.01s\tremaining: 68ms\n",
      "937:\tlearn: 0.0511999\ttotal: 1.01s\tremaining: 66.9ms\n",
      "938:\tlearn: 0.0511327\ttotal: 1.01s\tremaining: 65.8ms\n",
      "939:\tlearn: 0.0510363\ttotal: 1.01s\tremaining: 64.8ms\n",
      "940:\tlearn: 0.0510071\ttotal: 1.01s\tremaining: 63.7ms\n",
      "941:\tlearn: 0.0508866\ttotal: 1.02s\tremaining: 62.6ms\n",
      "942:\tlearn: 0.0507897\ttotal: 1.02s\tremaining: 61.5ms\n",
      "943:\tlearn: 0.0506833\ttotal: 1.02s\tremaining: 60.4ms\n",
      "944:\tlearn: 0.0505948\ttotal: 1.02s\tremaining: 59.3ms\n",
      "945:\tlearn: 0.0505196\ttotal: 1.02s\tremaining: 58.3ms\n",
      "946:\tlearn: 0.0504108\ttotal: 1.02s\tremaining: 57.2ms\n",
      "947:\tlearn: 0.0503463\ttotal: 1.02s\tremaining: 56.1ms\n",
      "948:\tlearn: 0.0502584\ttotal: 1.02s\tremaining: 55ms\n",
      "949:\tlearn: 0.0502090\ttotal: 1.02s\tremaining: 53.9ms\n",
      "950:\tlearn: 0.0501705\ttotal: 1.02s\tremaining: 52.9ms\n",
      "951:\tlearn: 0.0501055\ttotal: 1.03s\tremaining: 51.8ms\n",
      "952:\tlearn: 0.0500210\ttotal: 1.03s\tremaining: 50.7ms\n",
      "953:\tlearn: 0.0499347\ttotal: 1.03s\tremaining: 49.6ms\n",
      "954:\tlearn: 0.0498783\ttotal: 1.03s\tremaining: 48.5ms\n",
      "955:\tlearn: 0.0498209\ttotal: 1.03s\tremaining: 47.4ms\n",
      "956:\tlearn: 0.0497271\ttotal: 1.03s\tremaining: 46.4ms\n",
      "957:\tlearn: 0.0497197\ttotal: 1.03s\tremaining: 45.3ms\n",
      "958:\tlearn: 0.0496665\ttotal: 1.03s\tremaining: 44.2ms\n",
      "959:\tlearn: 0.0496207\ttotal: 1.03s\tremaining: 43.1ms\n",
      "960:\tlearn: 0.0495980\ttotal: 1.03s\tremaining: 42ms\n",
      "961:\tlearn: 0.0495755\ttotal: 1.04s\tremaining: 41ms\n",
      "962:\tlearn: 0.0494595\ttotal: 1.04s\tremaining: 39.9ms\n",
      "963:\tlearn: 0.0494028\ttotal: 1.04s\tremaining: 38.8ms\n",
      "964:\tlearn: 0.0492728\ttotal: 1.04s\tremaining: 37.7ms\n",
      "965:\tlearn: 0.0491857\ttotal: 1.04s\tremaining: 36.6ms\n",
      "966:\tlearn: 0.0491293\ttotal: 1.04s\tremaining: 35.6ms\n",
      "967:\tlearn: 0.0490396\ttotal: 1.04s\tremaining: 34.5ms\n",
      "968:\tlearn: 0.0489952\ttotal: 1.04s\tremaining: 33.4ms\n",
      "969:\tlearn: 0.0489067\ttotal: 1.04s\tremaining: 32.3ms\n",
      "970:\tlearn: 0.0487959\ttotal: 1.04s\tremaining: 31.2ms\n",
      "971:\tlearn: 0.0487356\ttotal: 1.05s\tremaining: 30.2ms\n",
      "972:\tlearn: 0.0486500\ttotal: 1.05s\tremaining: 29.1ms\n",
      "973:\tlearn: 0.0486081\ttotal: 1.05s\tremaining: 28ms\n",
      "974:\tlearn: 0.0485046\ttotal: 1.05s\tremaining: 26.9ms\n",
      "975:\tlearn: 0.0484273\ttotal: 1.05s\tremaining: 25.9ms\n",
      "976:\tlearn: 0.0483923\ttotal: 1.05s\tremaining: 24.8ms\n",
      "977:\tlearn: 0.0483124\ttotal: 1.05s\tremaining: 23.7ms\n",
      "978:\tlearn: 0.0482319\ttotal: 1.05s\tremaining: 22.6ms\n",
      "979:\tlearn: 0.0481603\ttotal: 1.05s\tremaining: 21.5ms\n",
      "980:\tlearn: 0.0480749\ttotal: 1.06s\tremaining: 20.5ms\n",
      "981:\tlearn: 0.0480304\ttotal: 1.06s\tremaining: 19.4ms\n",
      "982:\tlearn: 0.0479693\ttotal: 1.06s\tremaining: 18.3ms\n",
      "983:\tlearn: 0.0479050\ttotal: 1.06s\tremaining: 17.2ms\n",
      "984:\tlearn: 0.0478994\ttotal: 1.06s\tremaining: 16.2ms\n",
      "985:\tlearn: 0.0478770\ttotal: 1.06s\tremaining: 15.1ms\n",
      "986:\tlearn: 0.0478072\ttotal: 1.06s\tremaining: 14ms\n",
      "987:\tlearn: 0.0477008\ttotal: 1.06s\tremaining: 12.9ms\n",
      "988:\tlearn: 0.0476456\ttotal: 1.06s\tremaining: 11.8ms\n",
      "989:\tlearn: 0.0475352\ttotal: 1.07s\tremaining: 10.8ms\n",
      "990:\tlearn: 0.0474566\ttotal: 1.07s\tremaining: 9.69ms\n",
      "991:\tlearn: 0.0473759\ttotal: 1.07s\tremaining: 8.62ms\n",
      "992:\tlearn: 0.0473274\ttotal: 1.07s\tremaining: 7.54ms\n",
      "993:\tlearn: 0.0472646\ttotal: 1.07s\tremaining: 6.46ms\n",
      "994:\tlearn: 0.0471649\ttotal: 1.07s\tremaining: 5.38ms\n",
      "995:\tlearn: 0.0471411\ttotal: 1.07s\tremaining: 4.31ms\n",
      "996:\tlearn: 0.0470612\ttotal: 1.07s\tremaining: 3.23ms\n",
      "997:\tlearn: 0.0469674\ttotal: 1.07s\tremaining: 2.15ms\n",
      "998:\tlearn: 0.0468844\ttotal: 1.07s\tremaining: 1.08ms\n",
      "999:\tlearn: 0.0468092\ttotal: 1.08s\tremaining: 0us\n"
     ]
    },
    {
     "data": {
      "text/plain": [
       "<catboost.core.CatBoostRegressor at 0x7f96144893d0>"
      ]
     },
     "execution_count": 9,
     "metadata": {},
     "output_type": "execute_result"
    }
   ],
   "source": [
    "#Train the Model \n",
    "prior_model = ctb.CatBoostRegressor()\n",
    "prior_model.fit(X_train,Y_train)"
   ]
  },
  {
   "cell_type": "code",
   "execution_count": 10,
   "id": "c775fd81",
   "metadata": {
    "execution": {
     "iopub.execute_input": "2022-01-15T09:09:02.601604Z",
     "iopub.status.busy": "2022-01-15T09:09:02.600472Z",
     "iopub.status.idle": "2022-01-15T09:09:02.614608Z",
     "shell.execute_reply": "2022-01-15T09:09:02.615068Z"
    },
    "papermill": {
     "duration": 0.051789,
     "end_time": "2022-01-15T09:09:02.615264",
     "exception": false,
     "start_time": "2022-01-15T09:09:02.563475",
     "status": "completed"
    },
    "tags": []
   },
   "outputs": [
    {
     "data": {
      "application/scrapbook.scrap.json+json": {
       "data": 0.13500913098792577,
       "encoder": "json",
       "name": "Prior Model MSE",
       "version": 1
      }
     },
     "metadata": {
      "scrapbook": {
       "data": true,
       "display": false,
       "name": "Prior Model MSE"
      }
     },
     "output_type": "display_data"
    },
    {
     "data": {
      "application/scrapbook.scrap.json+json": {
       "data": 0.13419176939981603,
       "encoder": "json",
       "name": "ABC Pre-generator MSE",
       "version": 1
      }
     },
     "metadata": {
      "scrapbook": {
       "data": true,
       "display": false,
       "name": "ABC Pre-generator MSE"
      }
     },
     "output_type": "display_data"
    }
   ],
   "source": [
    "y_pred = prior_model.predict(X_test)\n",
    "y_abc = y_pred + np.random.normal(0,variance, y_pred.shape)\n",
    "mse = mean_squared_error(y_pred,Y_test)\n",
    "sb.glue(\"Prior Model MSE\",mse)\n",
    "mse = mean_squared_error(y_abc,Y_test)\n",
    "sb.glue(\"ABC Pre-generator MSE\",mse)"
   ]
  },
  {
   "cell_type": "markdown",
   "id": "0cd0def6",
   "metadata": {
    "papermill": {
     "duration": 0.030517,
     "end_time": "2022-01-15T09:09:02.676297",
     "exception": false,
     "start_time": "2022-01-15T09:09:02.645780",
     "status": "completed"
    },
    "tags": []
   },
   "source": [
    "# ABC GAN Model"
   ]
  },
  {
   "cell_type": "markdown",
   "id": "70beaf4c",
   "metadata": {
    "papermill": {
     "duration": 0.030188,
     "end_time": "2022-01-15T09:09:02.738015",
     "exception": false,
     "start_time": "2022-01-15T09:09:02.707827",
     "status": "completed"
    },
    "tags": []
   },
   "source": [
    "### Training the network\n",
    "**Training ABC-GAN for n_epochs number of epochs** "
   ]
  },
  {
   "cell_type": "code",
   "execution_count": 11,
   "id": "dbaaafa1",
   "metadata": {
    "execution": {
     "iopub.execute_input": "2022-01-15T09:09:02.810841Z",
     "iopub.status.busy": "2022-01-15T09:09:02.810130Z",
     "iopub.status.idle": "2022-01-15T09:09:15.085834Z",
     "shell.execute_reply": "2022-01-15T09:09:15.086335Z"
    },
    "papermill": {
     "duration": 12.31841,
     "end_time": "2022-01-15T09:09:15.086553",
     "exception": false,
     "start_time": "2022-01-15T09:09:02.768143",
     "status": "completed"
    },
    "tags": []
   },
   "outputs": [],
   "source": [
    "gen = network.Generator(n_features+1).to(device)\n",
    "disc = network.Discriminator(n_features+1).to(device)\n",
    "\n",
    "criterion = torch.nn.BCELoss()\n",
    "gen_opt = torch.optim.Adam(gen.parameters(), lr=0.001, betas=(0.5, 0.999))\n",
    "disc_opt = torch.optim.Adam(disc.parameters(), lr=0.01, betas=(0.5, 0.999))"
   ]
  },
  {
   "cell_type": "code",
   "execution_count": 12,
   "id": "6e9eeab8",
   "metadata": {
    "execution": {
     "iopub.execute_input": "2022-01-15T09:09:15.153388Z",
     "iopub.status.busy": "2022-01-15T09:09:15.152737Z",
     "iopub.status.idle": "2022-01-15T09:14:32.256423Z",
     "shell.execute_reply": "2022-01-15T09:14:32.255898Z"
    },
    "papermill": {
     "duration": 317.138891,
     "end_time": "2022-01-15T09:14:32.256559",
     "exception": false,
     "start_time": "2022-01-15T09:09:15.117668",
     "status": "completed"
    },
    "tags": []
   },
   "outputs": [
    {
     "data": {
      "image/png": "[encoded data removed]",
      "text/plain": [
       "<Figure size 432x288 with 1 Axes>"
      ]
     },
     "metadata": {
      "needs_background": "light"
     },
     "output_type": "display_data"
    },
    {
     "data": {
      "image/png": "[encoded data removed]",
      "text/plain": [
       "<Figure size 432x288 with 1 Axes>"
      ]
     },
     "metadata": {
      "needs_background": "light"
     },
     "output_type": "display_data"
    }
   ],
   "source": [
    "#Training the ABC_GAN \n",
    "ABC_train_test2.training_GAN(disc,gen,disc_opt,gen_opt,train_data,batch_size,n_epochs,criterion,prior_model,variance,device)"
   ]
  },
  {
   "cell_type": "code",
   "execution_count": 13,
   "id": "11c3082e",
   "metadata": {
    "execution": {
     "iopub.execute_input": "2022-01-15T09:14:32.327077Z",
     "iopub.status.busy": "2022-01-15T09:14:32.326409Z",
     "iopub.status.idle": "2022-01-15T09:14:32.730292Z",
     "shell.execute_reply": "2022-01-15T09:14:32.729781Z"
    },
    "papermill": {
     "duration": 0.440744,
     "end_time": "2022-01-15T09:14:32.730470",
     "exception": false,
     "start_time": "2022-01-15T09:14:32.289726",
     "status": "completed"
    },
    "tags": []
   },
   "outputs": [
    {
     "data": {
      "application/scrapbook.scrap.json+json": {
       "data": 0.6994790903207149,
       "encoder": "json",
       "name": "ABC-GAN Model 1 MSE",
       "version": 1
      }
     },
     "metadata": {
      "scrapbook": {
       "data": true,
       "display": false,
       "name": "ABC-GAN Model 1 MSE"
      }
     },
     "output_type": "display_data"
    },
    {
     "data": {
      "application/scrapbook.scrap.json+json": {
       "data": 0.6146547469883865,
       "encoder": "json",
       "name": "ABC-GAN Model 1 MAE",
       "version": 1
      }
     },
     "metadata": {
      "scrapbook": {
       "data": true,
       "display": false,
       "name": "ABC-GAN Model 1 MAE"
      }
     },
     "output_type": "display_data"
    },
    {
     "data": {
      "application/scrapbook.scrap.json+json": {
       "data": 62.694784192815426,
       "encoder": "json",
       "name": "ABC-GAN Model 1 Manhattan Distance",
       "version": 1
      }
     },
     "metadata": {
      "scrapbook": {
       "data": true,
       "display": false,
       "name": "ABC-GAN Model 1 Manhattan Distance"
      }
     },
     "output_type": "display_data"
    },
    {
     "data": {
      "application/scrapbook.scrap.json+json": {
       "data": 8.446707140410197,
       "encoder": "json",
       "name": "ABC-GAN Model 1 Euclidean distance",
       "version": 1
      }
     },
     "metadata": {
      "scrapbook": {
       "data": true,
       "display": false,
       "name": "ABC-GAN Model 1 Euclidean distance"
      }
     },
     "output_type": "display_data"
    },
    {
     "data": {
      "application/scrapbook.scrap.json+json": {
       "data": [
        [
         0.6992693518019444,
         0.6996543696748465,
         0.6994173793539021,
         0.6993105098220005,
         0.6991052067120836,
         0.6991069364382703,
         0.7001960152760254,
         0.699219324994816,
         0.6988855518526326,
         0.6996146504128458,
         0.7000099657918742,
         0.6990356111820224,
         0.6993760614630897,
         0.6997935020165935,
         0.6989044507206199,
         0.6998395344544959,
         0.699712380688226,
         0.6998759514330587,
         0.6992258171677294,
         0.6994213845028118,
         0.6990099671143327,
         0.6996383768407858,
         0.6996353425294374,
         0.6996222652066307,
         0.6993122889111364,
         0.6995850861052096,
         0.6996128063463855,
         0.6987592229954535,
         0.7002946544452862,
         0.70013253604965,
         0.7001665180308074,
         0.699782074560256,
         0.699328380747907,
         0.7000661261075924,
         0.6999113214425245,
         0.6989486190543848,
         0.6998340092403863,
         0.6996551587858285,
         0.6991346114379389,
         0.6993428705979051,
         0.6987509621199565,
         0.7009043023884045,
         0.6991931494802021,
         0.6996407127877087,
         0.6992859816005454,
         0.6993771564698592,
         0.6992171775812683,
         0.6991319193020452,
         0.6993010872051576,
         0.6997749167158094,
         0.699903805767374,
         0.6993470477359998,
         0.6995722257095817,
         0.6996424266742223,
         0.6994088921613837,
         0.6994184360885529,
         0.6998469589939864,
         0.6991422112809793,
         0.699054643948438,
         0.6993531604215842,
         0.6996160249483296,
         0.6996494160318661,
         0.6996195730812335,
         0.6994195927276583,
         0.698739333720265,
         0.6998856406614916,
         0.6998254410051313,
         0.7004823590376065,
         0.6994783403531967,
         0.6995010201339324,
         0.6997788501021699,
         0.6989698308633919,
         0.6990413587377468,
         0.6997266203490221,
         0.6997949339330699,
         0.6993037263363479,
         0.6991758966718974,
         0.6995115137998363,
         0.6989473632204488,
         0.69931823287909,
         0.6989946558724023,
         0.6993624763533383,
         0.6995906528615735,
         0.6992110866594733,
         0.6995455593778283,
         0.6995287289831965,
         0.6993987096407437,
         0.6994361650603257,
         0.6993348523510905,
         0.6995048443265152,
         0.7002792505312643,
         0.6996023916515122,
         0.6990446741269359,
         0.6989295674788975,
         0.6989945020690153,
         0.699352787935998,
         0.6996769211540603,
         0.6994606849362078,
         0.7000417601726125,
         0.6988203251919803
        ],
        [
         0.6145669474796045,
         0.614651683791011,
         0.6145669267896343,
         0.6146443969040525,
         0.6146615227940035,
         0.6146179325513396,
         0.6148931155821272,
         0.6145018313773999,
         0.614579792956219,
         0.6146538633962765,
         0.6148994364136574,
         0.6144855638564217,
         0.6145409291208375,
         0.6147503366912989,
         0.6145885293463281,
         0.6147644883934774,
         0.6146064630216536,
         0.6146855588418012,
         0.6143426646788915,
         0.6144803588589033,
         0.6146902767393518,
         0.6148623926199827,
         0.6147032376086595,
         0.6146623715758324,
         0.6146531374211989,
         0.6144848815987215,
         0.6147760449744323,
         0.6144173727827329,
         0.6148210327487951,
         0.6147744722810446,
         0.6149527897656548,
         0.6145948138380167,
         0.6145805962493315,
         0.6147726629952005,
         0.6150216766468742,
         0.6143743075503438,
         0.6147331092324034,
         0.6147323765371945,
         0.614590626830856,
         0.6145655217708326,
         0.6144308835888902,
         0.6151356093731581,
         0.6143662233599553,
         0.6147214987990903,
         0.6145667932818041,
         0.6146333990253362,
         0.614602392301986,
         0.6144121331254057,
         0.6146461506209829,
         0.6148539625984781,
         0.6147666439852294,
         0.6146534129100687,
         0.6147040768946502,
         0.6144825765388269,
         0.6147452275469607,
         0.6145718389866399,
         0.6148458364620513,
         0.6145545646511749,
         0.6145513758392018,
         0.6144952346369916,
         0.6146267832932519,
         0.6147183178029224,
         0.6149926955136014,
         0.6149192085380063,
         0.6142877198609651,
         0.6148887061897446,
         0.6146621416669851,
         0.6150261385585455,
         0.6145979914741189,
         0.6147849765040126,
         0.6149342832721624,
         0.6144153041144212,
         0.6144165006265336,
         0.6146990932597249,
         0.6147832771324936,
         0.6146105045416191,
         0.6144792162174103,
         0.6147391446957401,
         0.6144590773711017,
         0.6145031472266305,
         0.6141818758538541,
         0.6145081993228957,
         0.6146065722968356,
         0.6146054168177002,
         0.614832752110327,
         0.6147479655257627,
         0.6145802919990292,
         0.6144403692554025,
         0.6147881445529706,
         0.6145583443416684,
         0.6150965824284974,
         0.6147967876099488,
         0.6146127770782686,
         0.6144795945717716,
         0.6146350837878737,
         0.6147101942048061,
         0.6145770540278331,
         0.614559610063831,
         0.6148353381922432,
         0.6147916377978582
        ],
        [
         62.68582864291966,
         62.69447174668312,
         62.685826532542706,
         62.69372848421335,
         62.695475324988365,
         62.691029120236635,
         62.719097789376974,
         62.67918680049479,
         62.68713888153434,
         62.6946940664202,
         62.71974251419306,
         62.67752751335502,
         62.68317477032542,
         62.70453434251249,
         62.68802999332547,
         62.70597781613469,
         62.68985922820866,
         62.69792700186372,
         62.66295179724693,
         62.67699660360813,
         62.69840822741389,
         62.71596404723823,
         62.69973023608327,
         62.6955619007349,
         62.69462001696229,
         62.677457923069596,
         62.70715658739209,
         62.67057202383876,
         62.71174534037709,
         62.70699617266655,
         62.72518455609679,
         62.68867101147771,
         62.68722081743181,
         62.706811625510454,
         62.73221101798117,
         62.66617937013507,
         62.702777141705155,
         62.70270240679383,
         62.68824393674731,
         62.685683220624924,
         62.671950126066804,
         62.743832156062126,
         62.66535478271544,
         62.70159287750721,
         62.68581291474402,
         62.69260670058429,
         62.689444014802575,
         62.67003757879138,
         62.69390736334026,
         62.715104185044765,
         62.7061976864934,
         62.69464811682701,
         62.69981584325433,
         62.677222806960344,
         62.70401320978999,
         62.68632757663727,
         62.71427531912923,
         62.68456559441984,
         62.68424033559859,
         62.678513932973146,
         62.691931895911694,
         62.701268415898085,
         62.72925494238734,
         62.721759270876646,
         62.65734742581844,
         62.71864803135395,
         62.69553845003247,
         62.732666132971644,
         62.68899513036013,
         62.70806760340929,
         62.72329689376056,
         62.67036101967096,
         62.67048306390643,
         62.69930751249194,
         62.70789426751435,
         62.69027146324515,
         62.676880054175854,
         62.70339275896549,
         62.67482589185238,
         62.67932101711631,
         62.646551337093115,
         62.67983633093536,
         62.689870374277234,
         62.68975251540542,
         62.71294071525335,
         62.704292483627796,
         62.687189783900976,
         62.672917664051056,
         62.708390744403005,
         62.68495112285018,
         62.73985140770674,
         62.70927233621478,
         62.690503261983395,
         62.6769186463207,
         62.692778546363115,
         62.70043980889022,
         62.686859510838985,
         62.68508022651076,
         62.71320449560881,
         62.70874705538154
        ],
        [
         8.44544101180029,
         8.447765722771575,
         8.446334867508984,
         8.445689551590448,
         8.444449720652763,
         8.44446016727556,
         8.451035058391046,
         8.445138906463956,
         8.443123017519554,
         8.44752593024196,
         8.449912219116312,
         8.444029390081862,
         8.446085381360712,
         8.448605636771818,
         8.443237173827537,
         8.448883506970525,
         8.448115933757009,
         8.449103327937939,
         8.445178112456148,
         8.446359051051926,
         8.443874504376643,
         8.44766917189352,
         8.447650853225563,
         8.44757190268756,
         8.445700294761583,
         8.44734744063078,
         8.44751479710638,
         8.442359903814587,
         8.451630301511015,
         8.450651967574116,
         8.450857047610162,
         8.448536654660739,
         8.445797465975994,
         8.450251171590963,
         8.44931682369276,
         8.443503961244243,
         8.448850155051833,
         8.447770486711537,
         8.444627307742463,
         8.445884962571201,
         8.442310000008028,
         8.455308323391716,
         8.444980831652645,
         8.447683274386312,
         8.445541434582845,
         8.446091993337843,
         8.445125938272879,
         8.44461104899501,
         8.445632652141938,
         8.448493445876169,
         8.44927145902368,
         8.44591018594633,
         8.447269796944887,
         8.447693621383925,
         8.446283620650037,
         8.446341248199268,
         8.44892832360333,
         8.444673205675866,
         8.444144342841415,
         8.445947096862588,
         8.447534228680558,
         8.447735817084382,
         8.447555649670846,
         8.446348232119082,
         8.442239752545944,
         8.44916181330859,
         8.448798434246338,
         8.452762898711631,
         8.446702949436903,
         8.446839885641323,
         8.448517190041182,
         8.443632082703862,
         8.444064103928284,
         8.448201896001317,
         8.448614280529863,
         8.445648588847837,
         8.444876639746347,
         8.446903243649906,
         8.443496375820017,
         8.445736187785359,
         8.4437820257859,
         8.446003349989892,
         8.44738104928862,
         8.445089155199387,
         8.447108798668244,
         8.447007183392593,
         8.446222136751782,
         8.446448297133724,
         8.445836544701255,
         8.4468629751704,
         8.45153734856499,
         8.447451920458278,
         8.444084128012193,
         8.443388886155105,
         8.443781096821468,
         8.445944847645631,
         8.447901867192478,
         8.44659634784883,
         8.450104114009868,
         8.442729011971306
        ]
       ],
       "encoder": "json",
       "name": "ABC_GAN_1 Metrics",
       "version": 1
      }
     },
     "metadata": {
      "scrapbook": {
       "data": true,
       "display": false,
       "name": "ABC_GAN_1 Metrics"
      }
     },
     "output_type": "display_data"
    }
   ],
   "source": [
    "ABC_GAN1_metrics=ABC_train_test2.test_generator(gen,test_data,prior_model,variance,\"1\",device)\n",
    "sb.glue(\"ABC_GAN_1 Metrics\",ABC_GAN1_metrics)"
   ]
  },
  {
   "cell_type": "markdown",
   "id": "394a2b9d",
   "metadata": {
    "papermill": {
     "duration": 0.036842,
     "end_time": "2022-01-15T09:14:32.803549",
     "exception": false,
     "start_time": "2022-01-15T09:14:32.766707",
     "status": "completed"
    },
    "tags": []
   },
   "source": [
    "#### Sanity Checks "
   ]
  },
  {
   "cell_type": "code",
   "execution_count": 14,
   "id": "a36b3b22",
   "metadata": {
    "execution": {
     "iopub.execute_input": "2022-01-15T09:14:32.879694Z",
     "iopub.status.busy": "2022-01-15T09:14:32.879031Z",
     "iopub.status.idle": "2022-01-15T09:14:33.623322Z",
     "shell.execute_reply": "2022-01-15T09:14:33.623880Z"
    },
    "papermill": {
     "duration": 0.785617,
     "end_time": "2022-01-15T09:14:33.624044",
     "exception": false,
     "start_time": "2022-01-15T09:14:32.838427",
     "status": "completed"
    },
    "tags": []
   },
   "outputs": [
    {
     "data": {
      "image/png": "[encoded data removed]",
      "text/plain": [
       "<Figure size 432x288 with 1 Axes>"
      ]
     },
     "metadata": {
      "needs_background": "light"
     },
     "output_type": "display_data"
    },
    {
     "data": {
      "image/png": "[encoded data removed]",
      "text/plain": [
       "<Figure size 432x288 with 1 Axes>"
      ]
     },
     "metadata": {
      "needs_background": "light"
     },
     "output_type": "display_data"
    },
    {
     "data": {
      "image/png": "[encoded data removed]",
      "text/plain": [
       "<Figure size 432x288 with 1 Axes>"
      ]
     },
     "metadata": {
      "needs_background": "light"
     },
     "output_type": "display_data"
    },
    {
     "data": {
      "image/png": "[encoded data removed]",
      "text/plain": [
       "<Figure size 432x288 with 1 Axes>"
      ]
     },
     "metadata": {
      "needs_background": "light"
     },
     "output_type": "display_data"
    }
   ],
   "source": [
    "sanityChecks.discProbVsError(train_data,disc,device)\n",
    "sanityChecks.discProbVsError(test_data,disc,device)"
   ]
  },
  {
   "cell_type": "markdown",
   "id": "130f3a4d",
   "metadata": {
    "papermill": {
     "duration": 0.041752,
     "end_time": "2022-01-15T09:14:33.707247",
     "exception": false,
     "start_time": "2022-01-15T09:14:33.665495",
     "status": "completed"
    },
    "tags": []
   },
   "source": [
    "# ABC - GAN Model with skip connection"
   ]
  },
  {
   "cell_type": "code",
   "execution_count": 15,
   "id": "4e43dad1",
   "metadata": {
    "execution": {
     "iopub.execute_input": "2022-01-15T09:14:33.793813Z",
     "iopub.status.busy": "2022-01-15T09:14:33.793102Z",
     "iopub.status.idle": "2022-01-15T09:14:33.799038Z",
     "shell.execute_reply": "2022-01-15T09:14:33.798463Z"
    },
    "papermill": {
     "duration": 0.053148,
     "end_time": "2022-01-15T09:14:33.799154",
     "exception": false,
     "start_time": "2022-01-15T09:14:33.746006",
     "status": "completed"
    },
    "tags": []
   },
   "outputs": [],
   "source": [
    "#Generator\n",
    "gen3 = network.GeneratorWithSkipConnection(n_features+1).to(device)\n",
    "constraints=network.weightConstraint()\n",
    "#Discriminator \n",
    "disc3 = network.Discriminator(n_features+1).to(device)\n",
    "\n",
    "criterion = torch.nn.BCELoss()\n",
    "gen_opt = torch.optim.Adam(gen3.parameters(), lr=0.01, betas=(0.5, 0.999))\n",
    "disc_opt = torch.optim.Adam(disc3.parameters(), lr=0.01, betas=(0.5, 0.999))\n"
   ]
  },
  {
   "cell_type": "code",
   "execution_count": 16,
   "id": "26acbc37",
   "metadata": {
    "execution": {
     "iopub.execute_input": "2022-01-15T09:14:33.886674Z",
     "iopub.status.busy": "2022-01-15T09:14:33.886007Z",
     "iopub.status.idle": "2022-01-15T09:49:24.166414Z",
     "shell.execute_reply": "2022-01-15T09:49:24.166877Z"
    },
    "papermill": {
     "duration": 2090.327512,
     "end_time": "2022-01-15T09:49:24.167054",
     "exception": false,
     "start_time": "2022-01-15T09:14:33.839542",
     "status": "completed"
    },
    "tags": []
   },
   "outputs": [
    {
     "data": {
      "image/png": "[encoded data removed]",
      "text/plain": [
       "<Figure size 432x288 with 1 Axes>"
      ]
     },
     "metadata": {
      "needs_background": "light"
     },
     "output_type": "display_data"
    },
    {
     "data": {
      "image/png": "[encoded data removed]",
      "text/plain": [
       "<Figure size 432x288 with 1 Axes>"
      ]
     },
     "metadata": {
      "needs_background": "light"
     },
     "output_type": "display_data"
    }
   ],
   "source": [
    "ABC_train_test2.training_GAN_skip_connection(disc3,gen3,disc_opt,gen_opt,train_data,batch_size,n_epochs,criterion,prior_model,variance,device)\n"
   ]
  },
  {
   "cell_type": "code",
   "execution_count": 17,
   "id": "c5e0717b",
   "metadata": {
    "execution": {
     "iopub.execute_input": "2022-01-15T09:49:24.260707Z",
     "iopub.status.busy": "2022-01-15T09:49:24.260072Z",
     "iopub.status.idle": "2022-01-15T09:49:26.088891Z",
     "shell.execute_reply": "2022-01-15T09:49:26.088257Z"
    },
    "papermill": {
     "duration": 1.87805,
     "end_time": "2022-01-15T09:49:26.089028",
     "exception": false,
     "start_time": "2022-01-15T09:49:24.210978",
     "status": "completed"
    },
    "tags": []
   },
   "outputs": [
    {
     "data": {
      "application/scrapbook.scrap.json+json": {
       "data": 0.14323611964032662,
       "encoder": "json",
       "name": "ABC-GAN Model 3 MSE",
       "version": 1
      }
     },
     "metadata": {
      "scrapbook": {
       "data": true,
       "display": false,
       "name": "ABC-GAN Model 3 MSE"
      }
     },
     "output_type": "display_data"
    },
    {
     "data": {
      "application/scrapbook.scrap.json+json": {
       "data": 0.24961828830476174,
       "encoder": "json",
       "name": "ABC-GAN Model 3 MAE",
       "version": 1
      }
     },
     "metadata": {
      "scrapbook": {
       "data": true,
       "display": false,
       "name": "ABC-GAN Model 3 MAE"
      }
     },
     "output_type": "display_data"
    },
    {
     "data": {
      "application/scrapbook.scrap.json+json": {
       "data": 25.461065407085698,
       "encoder": "json",
       "name": "ABC-GAN Model 3 Manhattan Distance",
       "version": 1
      }
     },
     "metadata": {
      "scrapbook": {
       "data": true,
       "display": false,
       "name": "ABC-GAN Model 3 Manhattan Distance"
      }
     },
     "output_type": "display_data"
    },
    {
     "data": {
      "application/scrapbook.scrap.json+json": {
       "data": 3.8223006201905125,
       "encoder": "json",
       "name": "ABC-GAN Model 3 Euclidean distance",
       "version": 1
      }
     },
     "metadata": {
      "scrapbook": {
       "data": true,
       "display": false,
       "name": "ABC-GAN Model 3 Euclidean distance"
      }
     },
     "output_type": "display_data"
    },
    {
     "data": {
      "application/scrapbook.scrap.json+json": {
       "data": [
        [
         0.14347133573183804,
         0.14321147637638326,
         0.14317157524069898,
         0.14311722512910335,
         0.14381206377509828,
         0.1439494533161616,
         0.14378032427065404,
         0.1423743822175638,
         0.14349402821221757,
         0.14258983021147492,
         0.14444882784081658,
         0.1421726877000686,
         0.14366798377074647,
         0.14224813780683537,
         0.14398036578189913,
         0.1432824419276853,
         0.14254760083209175,
         0.1435555287524969,
         0.1428260596671079,
         0.14263066513301387,
         0.14389946713236682,
         0.14396560034345204,
         0.14311830955714153,
         0.14300917095846896,
         0.1433091018691413,
         0.14309383741955503,
         0.1441913282457474,
         0.14326783734343915,
         0.14350433631020945,
         0.1430089426788752,
         0.14258152071155167,
         0.1424068710685391,
         0.14275553506056954,
         0.14275108357951938,
         0.14289493592522043,
         0.14382723183259832,
         0.14393241262925605,
         0.1442259890076516,
         0.14215603092021667,
         0.14225207693906894,
         0.14318820787287814,
         0.1430098799626143,
         0.1442536842559242,
         0.1424541530828429,
         0.14331094959155488,
         0.14218633218511367,
         0.1438119237714706,
         0.1433811828684351,
         0.14359035921318225,
         0.14521584906116022,
         0.14378216782564723,
         0.14431546995335853,
         0.14295947310707974,
         0.142297888426602,
         0.14289035593880356,
         0.1435074460090128,
         0.14266082172492736,
         0.14194990066055377,
         0.14363832081142897,
         0.14385304599784848,
         0.1437080514756351,
         0.14301246614999075,
         0.1438233142740041,
         0.14430649848773347,
         0.14405755209008264,
         0.14332224902711488,
         0.14276043800424815,
         0.14307907585651866,
         0.14283316347570107,
         0.14262564603905195,
         0.14289078063897304,
         0.1425254726258288,
         0.14321543837173964,
         0.14522661020205394,
         0.14324145805872748,
         0.1429163355018502,
         0.1431645028858001,
         0.14109738601198313,
         0.1440427694379406,
         0.1433635644476823,
         0.14279514561217607,
         0.14208253692548986,
         0.141656642023107,
         0.14267711899421745,
         0.14365753614849008,
         0.1424817349031909,
         0.14251809768313112,
         0.14387229727808643,
         0.1440916326619237,
         0.1433683600008414,
         0.14393768156163297,
         0.1421466897254723,
         0.14501364759211577,
         0.14331007961117143,
         0.14472937942126754,
         0.14402412635309528,
         0.14320161139269807,
         0.1419195987847124,
         0.1432555155400406,
         0.14291873321015813
        ],
        [
         0.2505814215971851,
         0.2498771251777333,
         0.2485873164316895,
         0.24902659671965474,
         0.25011898250793857,
         0.25059077431283455,
         0.24953021669723824,
         0.24733417409052158,
         0.249265052085998,
         0.24859159842462225,
         0.2509420802725442,
         0.2482034614168144,
         0.2502252085079603,
         0.24898734544495157,
         0.24984530546684183,
         0.24956799095825238,
         0.24816313333462411,
         0.24896796668112717,
         0.24931443191827365,
         0.2480453588616322,
         0.2498752917071768,
         0.25042060139022915,
         0.2503234512793521,
         0.2493464218694534,
         0.24935904824558427,
         0.24951506132150397,
         0.2515090772215569,
         0.24969987647023564,
         0.25060189688833906,
         0.24849583102645828,
         0.24944673622867056,
         0.24904359294576386,
         0.2486240561850661,
         0.2489553468904513,
         0.24998163158877515,
         0.24976885237493643,
         0.2510202323890054,
         0.2504169240767392,
         0.24894341750198282,
         0.2482748588401021,
         0.24917423645691836,
         0.24977601509468228,
         0.2512924627505937,
         0.2500334747190423,
         0.250328789994705,
         0.24785553795449874,
         0.2494451582030046,
         0.2502547730691731,
         0.25038272017320873,
         0.2525597443146741,
         0.2501745562744783,
         0.25044502486821774,
         0.2504987073240473,
         0.25041995687848506,
         0.24962743217417716,
         0.2494144144299093,
         0.24901912417536712,
         0.24959320262731874,
         0.2506790546170783,
         0.2504632714542323,
         0.24992278278531396,
         0.24877005602762686,
         0.24987918493684894,
         0.2500592868902958,
         0.25006308523463266,
         0.2489530224188724,
         0.24861402643442737,
         0.2488085858469062,
         0.24978847700335524,
         0.2483744284311565,
         0.24924857986579632,
         0.24877768556824795,
         0.24996231609553682,
         0.2517341268248856,
         0.24957492302044057,
         0.24868350861338423,
         0.24935815025887945,
         0.24719681618643888,
         0.24978303520337625,
         0.24934797663716415,
         0.24957304350648293,
         0.2494157434660284,
         0.2490099109298385,
         0.2486939070125421,
         0.2493702957004893,
         0.24856534631073693,
         0.24708888724026287,
         0.24985938692721082,
         0.25064494635215867,
         0.24975919480636424,
         0.25013098882182555,
         0.24949724690796918,
         0.2519954094462389,
         0.2504234445536984,
         0.25126908239269374,
         0.2512057473444763,
         0.25029064638667975,
         0.2482119067526404,
         0.24898052021550635,
         0.25011771621511264
        ],
        [
         25.55930500291288,
         25.487466768128797,
         25.35590627603233,
         25.400712865404785,
         25.512136215809733,
         25.560258979909122,
         25.4520821031183,
         25.228085757233202,
         25.425035312771797,
         25.35634303931147,
         25.596092187799513,
         25.31675306451507,
         25.522971267811954,
         25.39670923538506,
         25.484221157617867,
         25.455935077741742,
         25.31263960013166,
         25.39473260147497,
         25.430072055663913,
         25.300626603886485,
         25.487279754132032,
         25.542901341803372,
         25.532992030493915,
         25.433335030684248,
         25.434622921049595,
         25.450536254793406,
         25.653925876598805,
         25.469387399964035,
         25.561393482610583,
         25.346574764698744,
         25.443567095324397,
         25.402446480467916,
         25.359653730876744,
         25.39344538282603,
         25.498126422055066,
         25.476422942243516,
         25.60406370367855,
         25.542526255827397,
         25.392228585202247,
         25.32403560169041,
         25.415772118605673,
         25.477153539657593,
         25.631831200560555,
         25.503414421342313,
         25.533536579459906,
         25.28126487135887,
         25.44340613670647,
         25.525986853055656,
         25.53903745766729,
         25.761093920096755,
         25.51780473999679,
         25.54539253655821,
         25.550868147052824,
         25.542835601605475,
         25.46199808176607,
         25.44027027185075,
         25.399950665887445,
         25.458506667986512,
         25.569263570941985,
         25.547253688331693,
         25.492123844102025,
         25.37454571481794,
         25.48767686355859,
         25.50604726281017,
         25.506434693932533,
         25.393208286724985,
         25.358630696311593,
         25.378475756384432,
         25.478424654342234,
         25.334191699977964,
         25.423355146311224,
         25.37532392796129,
         25.496156241744757,
         25.676880936138332,
         25.45664214808494,
         25.365717878565192,
         25.434531326405704,
         25.214075251016766,
         25.477869590744376,
         25.433493616990745,
         25.45645043766126,
         25.440405833534896,
         25.39901091484353,
         25.366778515279293,
         25.43577016144991,
         25.353665323695168,
         25.203066498506814,
         25.485657466575503,
         25.565784527920187,
         25.475437870249152,
         25.513360859826207,
         25.448719184612855,
         25.703531763516366,
         25.543191344477236,
         25.62944640405476,
         25.622986229136586,
         25.529645931441337,
         25.317614488769323,
         25.396013061981648,
         25.51200705394149
        ],
        [
         3.825451116489071,
         3.8219851635493165,
         3.8214526916542213,
         3.820727281967209,
         3.8299909275427826,
         3.8318199642269835,
         3.82956826229886,
         3.810798733361748,
         3.8257536352523007,
         3.813680988437607,
         3.838460686233909,
         3.8080984947092684,
         3.828071883418092,
         3.8091088270482905,
         3.832231374767671,
         3.8229319999999865,
         3.813116217068837,
         3.826573393096581,
         3.8168387555731265,
         3.8142270309418413,
         3.831154610231936,
         3.832034868712981,
         3.820741757149838,
         3.819284676187915,
         3.823287641631533,
         3.8204150843585847,
         3.8350378721814775,
         3.8227371619077855,
         3.8258910470165466,
         3.819281627904031,
         3.8135698646515275,
         3.811233507539389,
         3.815896300501114,
         3.815836805356196,
         3.817758958390706,
         3.8301928994405796,
         3.8315931527478373,
         3.835498778357316,
         3.8078754120719474,
         3.809161567561164,
         3.821674659495962,
         3.8192941437111987,
         3.835867019867121,
         3.8118661590420477,
         3.823312288884939,
         3.8082812242377253,
         3.829989063259841,
         3.8242490311929713,
         3.82703758013226,
         3.848638279214915,
         3.8295928136312374,
         3.836688407369377,
         3.818620988907139,
         3.8097748777996583,
         3.81769777559172,
         3.8259324997860724,
         3.8146302331867754,
         3.805113647103918,
         3.827676674271973,
         3.830536606244684,
         3.828605653565639,
         3.8193286775687496,
         3.830140735788754,
         3.8365691503932013,
         3.833258445916271,
         3.823463011559771,
         3.815961828482212,
         3.820218022229216,
         3.8169336743676214,
         3.814159920085063,
         3.817703449087586,
         3.8128202433152465,
         3.8220380314587974,
         3.848780877188191,
         3.8223852137101786,
         3.8180448165505756,
         3.8213583048899786,
         3.7936701719077095,
         3.833061763482286,
         3.824014065568221,
         3.816425664472185,
         3.8068909580391135,
         3.8011810646635746,
         3.8148481145925293,
         3.8279326910417315,
         3.8122351659001144,
         3.812721595354082,
         3.830792910399206,
         3.8337118477418484,
         3.824078022227818,
         3.8316632836519653,
         3.8077503006366076,
         3.845957885156285,
         3.823300684008451,
         3.8421864479706453,
         3.8328137037972136,
         3.8218535244113165,
         3.804707488893287,
         3.8225727704105443,
         3.818076844097841
        ]
       ],
       "encoder": "json",
       "name": "ABC_GAN_3 Metrics",
       "version": 1
      }
     },
     "metadata": {
      "scrapbook": {
       "data": true,
       "display": false,
       "name": "ABC_GAN_3 Metrics"
      }
     },
     "output_type": "display_data"
    }
   ],
   "source": [
    "ABC_GAN3_metrics=ABC_train_test2.test_generator(gen3,test_data,prior_model,variance,\"3\",device)\n",
    "sb.glue(\"ABC_GAN_3 Metrics\",ABC_GAN3_metrics)"
   ]
  },
  {
   "cell_type": "code",
   "execution_count": 18,
   "id": "c8e46b48",
   "metadata": {
    "execution": {
     "iopub.execute_input": "2022-01-15T09:49:26.188197Z",
     "iopub.status.busy": "2022-01-15T09:49:26.187598Z",
     "iopub.status.idle": "2022-01-15T09:49:27.063505Z",
     "shell.execute_reply": "2022-01-15T09:49:27.063977Z"
    },
    "papermill": {
     "duration": 0.927151,
     "end_time": "2022-01-15T09:49:27.064157",
     "exception": false,
     "start_time": "2022-01-15T09:49:26.137006",
     "status": "completed"
    },
    "tags": []
   },
   "outputs": [
    {
     "data": {
      "image/png": "[encoded data removed]",
      "text/plain": [
       "<Figure size 432x288 with 1 Axes>"
      ]
     },
     "metadata": {
      "needs_background": "light"
     },
     "output_type": "display_data"
    },
    {
     "data": {
      "image/png": "[encoded data removed]",
      "text/plain": [
       "<Figure size 432x288 with 1 Axes>"
      ]
     },
     "metadata": {
      "needs_background": "light"
     },
     "output_type": "display_data"
    },
    {
     "data": {
      "image/png": "[encoded data removed]",
      "text/plain": [
       "<Figure size 432x288 with 1 Axes>"
      ]
     },
     "metadata": {
      "needs_background": "light"
     },
     "output_type": "display_data"
    },
    {
     "data": {
      "image/png": "[encoded data removed]",
      "text/plain": [
       "<Figure size 432x288 with 1 Axes>"
      ]
     },
     "metadata": {
      "needs_background": "light"
     },
     "output_type": "display_data"
    }
   ],
   "source": [
    "sanityChecks.discProbVsError(train_data,disc,device)\n",
    "sanityChecks.discProbVsError(test_data,disc3,device)"
   ]
  },
  {
   "cell_type": "markdown",
   "id": "a5bd74c3",
   "metadata": {
    "papermill": {
     "duration": 0.052478,
     "end_time": "2022-01-15T09:49:27.168719",
     "exception": false,
     "start_time": "2022-01-15T09:49:27.116241",
     "status": "completed"
    },
    "tags": []
   },
   "source": [
    "## Skip Connection Model Analysis - ABC-GAN "
   ]
  },
  {
   "cell_type": "markdown",
   "id": "5744a8bf",
   "metadata": {
    "papermill": {
     "duration": 0.053244,
     "end_time": "2022-01-15T09:49:27.280575",
     "exception": false,
     "start_time": "2022-01-15T09:49:27.227331",
     "status": "completed"
    },
    "tags": []
   },
   "source": [
    "### Weight Analysis \n",
    "\n",
    "Study the weights of the skip connection layer\n",
    "\n",
    "Equation of the skip connection is \n",
    "\n",
    "$output = y_{gan} * w + y_{abc} * (1-w)$"
   ]
  },
  {
   "cell_type": "code",
   "execution_count": 19,
   "id": "52c31dea",
   "metadata": {
    "execution": {
     "iopub.execute_input": "2022-01-15T09:49:27.391220Z",
     "iopub.status.busy": "2022-01-15T09:49:27.390554Z",
     "iopub.status.idle": "2022-01-15T09:49:27.421777Z",
     "shell.execute_reply": "2022-01-15T09:49:27.422266Z"
    },
    "papermill": {
     "duration": 0.089276,
     "end_time": "2022-01-15T09:49:27.422477",
     "exception": false,
     "start_time": "2022-01-15T09:49:27.333201",
     "status": "completed"
    },
    "tags": []
   },
   "outputs": [
    {
     "name": "stdout",
     "output_type": "stream",
     "text": [
      "Weight of the node at skip connection\n",
      "Parameter containing:\n",
      "tensor([[0.0098]], device='cuda:0', requires_grad=True)\n"
     ]
    },
    {
     "data": {
      "application/scrapbook.scrap.json+json": {
       "data": 0.009773913770914078,
       "encoder": "json",
       "name": "Skip Connection Weight",
       "version": 1
      }
     },
     "metadata": {
      "scrapbook": {
       "data": true,
       "display": false,
       "name": "Skip Connection Weight"
      }
     },
     "output_type": "display_data"
    }
   ],
   "source": [
    "print(\"Weight of the node at skip connection\")\n",
    "for name,param in gen3.named_parameters():\n",
    "    if(name == \"skipNode.weight\"):\n",
    "        print(param)\n",
    "        sb.glue(\"Skip Connection Weight\",param.item())"
   ]
  }
 ],
 "metadata": {
  "interpreter": {
   "hash": "10498c76ddd8160350534c6544a2b2fb65f2138dbc70420f7c81a3268f830f23"
  },
  "kernelspec": {
   "display_name": "papermill-tutorial",
   "language": "python",
   "name": "python3"
  },
  "language_info": {
   "codemirror_mode": {
    "name": "ipython",
    "version": 3
   },
   "file_extension": ".py",
   "mimetype": "text/x-python",
   "name": "python",
   "nbconvert_exporter": "python",
   "pygments_lexer": "ipython3",
   "version": "3.7.12"
  },
  "papermill": {
   "default_parameters": {},
   "duration": 2443.320194,
   "end_time": "2022-01-15T09:49:29.002038",
   "environment_variables": {},
   "exception": null,
   "input_path": "ABC_GAN_Model-Catboost_Pre-gen.ipynb",
   "output_path": "./ABC_GAN_Output/ABC-GAN_output_8_2.ipynb",
   "parameters": {
    "variance": 0.01
   },
   "start_time": "2022-01-15T09:08:45.681844",
   "version": "2.3.3"
  }
 },
 "nbformat": 4,
 "nbformat_minor": 5
}