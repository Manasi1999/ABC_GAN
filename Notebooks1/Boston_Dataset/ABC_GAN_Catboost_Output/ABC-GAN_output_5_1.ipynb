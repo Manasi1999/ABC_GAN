{
 "cells": [
  {
   "cell_type": "markdown",
   "id": "622780e6",
   "metadata": {
    "papermill": {
     "duration": 0.026128,
     "end_time": "2022-01-14T15:23:53.205719",
     "exception": false,
     "start_time": "2022-01-14T15:23:53.179591",
     "status": "completed"
    },
    "tags": []
   },
   "source": [
    "## Import Libraries "
   ]
  },
  {
   "cell_type": "code",
   "execution_count": 1,
   "id": "a62397e3",
   "metadata": {
    "execution": {
     "iopub.execute_input": "2022-01-14T15:23:53.262921Z",
     "iopub.status.busy": "2022-01-14T15:23:53.262281Z",
     "iopub.status.idle": "2022-01-14T15:23:53.265082Z",
     "shell.execute_reply": "2022-01-14T15:23:53.264347Z"
    },
    "papermill": {
     "duration": 0.035984,
     "end_time": "2022-01-14T15:23:53.265272",
     "exception": false,
     "start_time": "2022-01-14T15:23:53.229288",
     "status": "completed"
    },
    "tags": []
   },
   "outputs": [],
   "source": [
    "import warnings\n",
    "import sys\n",
    "sys.path.insert(0, '../../src')\n",
    "warnings.filterwarnings('ignore')"
   ]
  },
  {
   "cell_type": "code",
   "execution_count": 2,
   "id": "d6a4e155",
   "metadata": {
    "execution": {
     "iopub.execute_input": "2022-01-14T15:23:53.321554Z",
     "iopub.status.busy": "2022-01-14T15:23:53.320375Z",
     "iopub.status.idle": "2022-01-14T15:23:54.998338Z",
     "shell.execute_reply": "2022-01-14T15:23:54.997788Z"
    },
    "papermill": {
     "duration": 1.709174,
     "end_time": "2022-01-14T15:23:54.998496",
     "exception": false,
     "start_time": "2022-01-14T15:23:53.289322",
     "status": "completed"
    },
    "tags": []
   },
   "outputs": [],
   "source": [
    "import ABC_train_test2\n",
    "import bostonDataset\n",
    "import network\n",
    "import dataset\n",
    "import sanityChecks\n",
    "import performanceMetrics\n",
    "import torch \n",
    "from torch.utils.data import random_split \n",
    "import scrapbook as sb\n",
    "from statistics import mean \n",
    "import catboost as ctb \n",
    "from sklearn.model_selection import train_test_split\n",
    "from sklearn.metrics import mean_squared_error\n",
    "import numpy as np"
   ]
  },
  {
   "cell_type": "markdown",
   "id": "2fa5b0f7",
   "metadata": {
    "papermill": {
     "duration": 0.023328,
     "end_time": "2022-01-14T15:23:55.045766",
     "exception": false,
     "start_time": "2022-01-14T15:23:55.022438",
     "status": "completed"
    },
    "tags": []
   },
   "source": [
    "## Parameters "
   ]
  },
  {
   "cell_type": "code",
   "execution_count": 3,
   "id": "783186fb",
   "metadata": {
    "execution": {
     "iopub.execute_input": "2022-01-14T15:23:55.116782Z",
     "iopub.status.busy": "2022-01-14T15:23:55.116151Z",
     "iopub.status.idle": "2022-01-14T15:23:55.118953Z",
     "shell.execute_reply": "2022-01-14T15:23:55.118468Z"
    },
    "papermill": {
     "duration": 0.031681,
     "end_time": "2022-01-14T15:23:55.119079",
     "exception": false,
     "start_time": "2022-01-14T15:23:55.087398",
     "status": "completed"
    },
    "tags": [
     "parameters"
    ]
   },
   "outputs": [],
   "source": [
    "variance = 1"
   ]
  },
  {
   "cell_type": "code",
   "execution_count": 4,
   "id": "d58fc5dc",
   "metadata": {
    "execution": {
     "iopub.execute_input": "2022-01-14T15:23:55.168791Z",
     "iopub.status.busy": "2022-01-14T15:23:55.168102Z",
     "iopub.status.idle": "2022-01-14T15:23:55.170842Z",
     "shell.execute_reply": "2022-01-14T15:23:55.170171Z"
    },
    "papermill": {
     "duration": 0.029232,
     "end_time": "2022-01-14T15:23:55.170975",
     "exception": false,
     "start_time": "2022-01-14T15:23:55.141743",
     "status": "completed"
    },
    "tags": [
     "injected-parameters"
    ]
   },
   "outputs": [],
   "source": [
    "# Parameters\n",
    "variance = 0.1\n"
   ]
  },
  {
   "cell_type": "markdown",
   "id": "391cdbfd",
   "metadata": {
    "papermill": {
     "duration": 0.023821,
     "end_time": "2022-01-14T15:23:55.217894",
     "exception": false,
     "start_time": "2022-01-14T15:23:55.194073",
     "status": "completed"
    },
    "tags": []
   },
   "source": [
    "## Dataset - Boston Housing "
   ]
  },
  {
   "cell_type": "code",
   "execution_count": 5,
   "id": "5b51f161",
   "metadata": {
    "execution": {
     "iopub.execute_input": "2022-01-14T15:23:55.269957Z",
     "iopub.status.busy": "2022-01-14T15:23:55.269244Z",
     "iopub.status.idle": "2022-01-14T15:23:55.271592Z",
     "shell.execute_reply": "2022-01-14T15:23:55.271066Z"
    },
    "papermill": {
     "duration": 0.029792,
     "end_time": "2022-01-14T15:23:55.271722",
     "exception": false,
     "start_time": "2022-01-14T15:23:55.241930",
     "status": "completed"
    },
    "tags": []
   },
   "outputs": [],
   "source": [
    "#Parameters \n",
    "n_features = 13\n",
    "n_samples= 506\n",
    "n_target = 1 "
   ]
  },
  {
   "cell_type": "code",
   "execution_count": 6,
   "id": "5d6eced4",
   "metadata": {
    "execution": {
     "iopub.execute_input": "2022-01-14T15:23:55.324749Z",
     "iopub.status.busy": "2022-01-14T15:23:55.324054Z",
     "iopub.status.idle": "2022-01-14T15:23:55.358915Z",
     "shell.execute_reply": "2022-01-14T15:23:55.358450Z"
    },
    "papermill": {
     "duration": 0.062472,
     "end_time": "2022-01-14T15:23:55.359038",
     "exception": false,
     "start_time": "2022-01-14T15:23:55.296566",
     "status": "completed"
    },
    "tags": []
   },
   "outputs": [
    {
     "name": "stdout",
     "output_type": "stream",
     "text": [
      "         X1        X2        X3        X4        X5        X6        X7        X8        X9       X10       X11       X12       X13         Y\n",
      "0 -0.419782  0.284830 -1.287909 -0.272599 -0.144217  0.413672 -0.120013  0.140214 -0.982843 -0.666608 -1.459000  0.441052 -1.075562  0.159686\n",
      "1 -0.417339 -0.487722 -0.593381 -0.272599 -0.740262  0.194274  0.367166  0.557160 -0.867883 -0.987329 -0.303094  0.441052 -0.492439 -0.101524\n",
      "2 -0.417342 -0.487722 -0.593381 -0.272599 -0.740262  1.282714 -0.265812  0.557160 -0.867883 -0.987329 -0.303094  0.396427 -1.208727  1.324247\n",
      "3 -0.416750 -0.487722 -1.306878 -0.272599 -0.835284  1.016303 -0.809889  1.077737 -0.752922 -1.106115  0.113032  0.416163 -1.361517  1.182758\n",
      "4 -0.412482 -0.487722 -1.306878 -0.272599 -0.835284  1.228577 -0.511180  1.077737 -0.752922 -1.106115  0.113032  0.441052 -1.026501  1.487503\n"
     ]
    }
   ],
   "source": [
    "X,Y = bostonDataset.boston_data()"
   ]
  },
  {
   "cell_type": "code",
   "execution_count": 7,
   "id": "fe007438",
   "metadata": {
    "execution": {
     "iopub.execute_input": "2022-01-14T15:23:55.413303Z",
     "iopub.status.busy": "2022-01-14T15:23:55.412729Z",
     "iopub.status.idle": "2022-01-14T15:23:55.415267Z",
     "shell.execute_reply": "2022-01-14T15:23:55.414631Z"
    },
    "papermill": {
     "duration": 0.031413,
     "end_time": "2022-01-14T15:23:55.415442",
     "exception": false,
     "start_time": "2022-01-14T15:23:55.384029",
     "status": "completed"
    },
    "tags": []
   },
   "outputs": [],
   "source": [
    "#Train test split for dataset \n",
    "X_train,X_test,Y_train,Y_test = train_test_split(X,Y,test_size = 0.2)\n",
    "train_data = dataset.CustomDataset(X_train,Y_train)\n",
    "test_data = dataset.CustomDataset(X_test,Y_test)\n"
   ]
  },
  {
   "cell_type": "markdown",
   "id": "a9a1af34",
   "metadata": {
    "papermill": {
     "duration": 0.023909,
     "end_time": "2022-01-14T15:23:55.467609",
     "exception": false,
     "start_time": "2022-01-14T15:23:55.443700",
     "status": "completed"
    },
    "tags": []
   },
   "source": [
    "## Training Parameters \n",
    "\n"
   ]
  },
  {
   "cell_type": "code",
   "execution_count": 8,
   "id": "952b7fc8",
   "metadata": {
    "execution": {
     "iopub.execute_input": "2022-01-14T15:23:55.536707Z",
     "iopub.status.busy": "2022-01-14T15:23:55.536049Z",
     "iopub.status.idle": "2022-01-14T15:23:55.537918Z",
     "shell.execute_reply": "2022-01-14T15:23:55.538370Z"
    },
    "papermill": {
     "duration": 0.046856,
     "end_time": "2022-01-14T15:23:55.538602",
     "exception": false,
     "start_time": "2022-01-14T15:23:55.491746",
     "status": "completed"
    },
    "tags": []
   },
   "outputs": [],
   "source": [
    "batch_size = 64\n",
    "n_epochs = 5000\n",
    "#Select the device \n",
    "device = torch.device('cuda' if torch.cuda.is_available() else 'cpu')"
   ]
  },
  {
   "cell_type": "markdown",
   "id": "a95e1600",
   "metadata": {
    "papermill": {
     "duration": 0.027282,
     "end_time": "2022-01-14T15:23:55.589785",
     "exception": false,
     "start_time": "2022-01-14T15:23:55.562503",
     "status": "completed"
    },
    "tags": []
   },
   "source": [
    "# ABC Pre-generator Model \n",
    "\n",
    "1. The catboost model is used as a pre-generator model for the ABC-GAN. \n",
    "2. The model is first trained on the train dataset \n",
    "3. It generats X,Y pairs and we add some Gaussian noise with mean 0 and variance V (1,0.01,0.1) to it which is then feed as input to the generator.\n"
   ]
  },
  {
   "cell_type": "code",
   "execution_count": 9,
   "id": "ff8ce7bd",
   "metadata": {
    "execution": {
     "iopub.execute_input": "2022-01-14T15:23:55.657079Z",
     "iopub.status.busy": "2022-01-14T15:23:55.656153Z",
     "iopub.status.idle": "2022-01-14T15:23:57.327219Z",
     "shell.execute_reply": "2022-01-14T15:23:57.326712Z"
    },
    "papermill": {
     "duration": 1.71295,
     "end_time": "2022-01-14T15:23:57.327365",
     "exception": false,
     "start_time": "2022-01-14T15:23:55.614415",
     "status": "completed"
    },
    "tags": []
   },
   "outputs": [
    {
     "name": "stdout",
     "output_type": "stream",
     "text": [
      "Learning rate set to 0.03548\n",
      "0:\tlearn: 0.9876495\ttotal: 48.5ms\tremaining: 48.4s\n",
      "1:\tlearn: 0.9658051\ttotal: 49.5ms\tremaining: 24.7s\n",
      "2:\tlearn: 0.9439531\ttotal: 50.8ms\tremaining: 16.9s\n",
      "3:\tlearn: 0.9258159\ttotal: 52ms\tremaining: 12.9s\n",
      "4:\tlearn: 0.9073530\ttotal: 53.2ms\tremaining: 10.6s\n",
      "5:\tlearn: 0.8889355\ttotal: 54.4ms\tremaining: 9.01s\n",
      "6:\tlearn: 0.8715164\ttotal: 55.5ms\tremaining: 7.87s\n",
      "7:\tlearn: 0.8541301\ttotal: 56.5ms\tremaining: 7.01s\n",
      "8:\tlearn: 0.8375561\ttotal: 57.5ms\tremaining: 6.33s\n",
      "9:\tlearn: 0.8204599\ttotal: 58.6ms\tremaining: 5.8s\n",
      "10:\tlearn: 0.8035057\ttotal: 59.6ms\tremaining: 5.36s\n",
      "11:\tlearn: 0.7877478\ttotal: 60.7ms\tremaining: 5s\n",
      "12:\tlearn: 0.7718327\ttotal: 61.8ms\tremaining: 4.69s\n",
      "13:\tlearn: 0.7552817\ttotal: 62.8ms\tremaining: 4.43s\n",
      "14:\tlearn: 0.7401089\ttotal: 63.8ms\tremaining: 4.19s\n",
      "15:\tlearn: 0.7254953\ttotal: 64.8ms\tremaining: 3.98s\n",
      "16:\tlearn: 0.7115608\ttotal: 65.8ms\tremaining: 3.8s\n",
      "17:\tlearn: 0.6983094\ttotal: 66.7ms\tremaining: 3.64s\n",
      "18:\tlearn: 0.6851619\ttotal: 67.7ms\tremaining: 3.49s\n",
      "19:\tlearn: 0.6722373\ttotal: 68.8ms\tremaining: 3.37s\n",
      "20:\tlearn: 0.6596098\ttotal: 69.7ms\tremaining: 3.25s\n",
      "21:\tlearn: 0.6484656\ttotal: 70.7ms\tremaining: 3.15s\n",
      "22:\tlearn: 0.6371435\ttotal: 71.7ms\tremaining: 3.04s\n",
      "23:\tlearn: 0.6261472\ttotal: 72.7ms\tremaining: 2.96s\n",
      "24:\tlearn: 0.6163369\ttotal: 73.6ms\tremaining: 2.87s\n",
      "25:\tlearn: 0.6067249\ttotal: 74.5ms\tremaining: 2.79s\n",
      "26:\tlearn: 0.5971965\ttotal: 75.5ms\tremaining: 2.72s\n",
      "27:\tlearn: 0.5879147\ttotal: 76.6ms\tremaining: 2.66s\n",
      "28:\tlearn: 0.5784071\ttotal: 77.6ms\tremaining: 2.6s\n",
      "29:\tlearn: 0.5685173\ttotal: 78.5ms\tremaining: 2.54s\n",
      "30:\tlearn: 0.5590141\ttotal: 79.6ms\tremaining: 2.49s\n",
      "31:\tlearn: 0.5510576\ttotal: 80.6ms\tremaining: 2.44s\n",
      "32:\tlearn: 0.5435929\ttotal: 81.6ms\tremaining: 2.39s\n",
      "33:\tlearn: 0.5360032\ttotal: 82.7ms\tremaining: 2.35s\n",
      "34:\tlearn: 0.5289161\ttotal: 83.6ms\tremaining: 2.31s\n",
      "35:\tlearn: 0.5218840\ttotal: 84.6ms\tremaining: 2.27s\n",
      "36:\tlearn: 0.5146239\ttotal: 85.7ms\tremaining: 2.23s\n",
      "37:\tlearn: 0.5072073\ttotal: 86.6ms\tremaining: 2.19s\n",
      "38:\tlearn: 0.5001956\ttotal: 87.7ms\tremaining: 2.16s\n",
      "39:\tlearn: 0.4923336\ttotal: 88.7ms\tremaining: 2.13s\n",
      "40:\tlearn: 0.4857179\ttotal: 89.7ms\tremaining: 2.1s\n",
      "41:\tlearn: 0.4795468\ttotal: 90.7ms\tremaining: 2.07s\n",
      "42:\tlearn: 0.4743312\ttotal: 91.7ms\tremaining: 2.04s\n",
      "43:\tlearn: 0.4682384\ttotal: 92.7ms\tremaining: 2.01s\n",
      "44:\tlearn: 0.4624999\ttotal: 93.7ms\tremaining: 1.99s\n",
      "45:\tlearn: 0.4561355\ttotal: 94.7ms\tremaining: 1.96s\n",
      "46:\tlearn: 0.4506734\ttotal: 95.8ms\tremaining: 1.94s\n",
      "47:\tlearn: 0.4444539\ttotal: 96.8ms\tremaining: 1.92s\n",
      "48:\tlearn: 0.4392727\ttotal: 97.8ms\tremaining: 1.9s\n",
      "49:\tlearn: 0.4346875\ttotal: 98.9ms\tremaining: 1.88s\n",
      "50:\tlearn: 0.4298176\ttotal: 99.9ms\tremaining: 1.86s\n",
      "51:\tlearn: 0.4260067\ttotal: 101ms\tremaining: 1.84s\n",
      "52:\tlearn: 0.4210640\ttotal: 102ms\tremaining: 1.82s\n",
      "53:\tlearn: 0.4180637\ttotal: 103ms\tremaining: 1.8s\n",
      "54:\tlearn: 0.4139182\ttotal: 104ms\tremaining: 1.79s\n",
      "55:\tlearn: 0.4109224\ttotal: 105ms\tremaining: 1.77s\n",
      "56:\tlearn: 0.4071841\ttotal: 106ms\tremaining: 1.75s\n",
      "57:\tlearn: 0.4043468\ttotal: 107ms\tremaining: 1.74s\n",
      "58:\tlearn: 0.4001185\ttotal: 108ms\tremaining: 1.72s\n",
      "59:\tlearn: 0.3966907\ttotal: 109ms\tremaining: 1.71s\n",
      "60:\tlearn: 0.3934721\ttotal: 110ms\tremaining: 1.7s\n",
      "61:\tlearn: 0.3896288\ttotal: 111ms\tremaining: 1.68s\n",
      "62:\tlearn: 0.3866879\ttotal: 112ms\tremaining: 1.67s\n",
      "63:\tlearn: 0.3827167\ttotal: 113ms\tremaining: 1.66s\n",
      "64:\tlearn: 0.3801736\ttotal: 114ms\tremaining: 1.64s\n",
      "65:\tlearn: 0.3761947\ttotal: 115ms\tremaining: 1.63s\n",
      "66:\tlearn: 0.3729220\ttotal: 116ms\tremaining: 1.62s\n",
      "67:\tlearn: 0.3705089\ttotal: 117ms\tremaining: 1.61s\n",
      "68:\tlearn: 0.3680617\ttotal: 118ms\tremaining: 1.6s\n",
      "69:\tlearn: 0.3652873\ttotal: 119ms\tremaining: 1.59s\n",
      "70:\tlearn: 0.3618646\ttotal: 120ms\tremaining: 1.58s\n",
      "71:\tlearn: 0.3594991\ttotal: 122ms\tremaining: 1.57s\n",
      "72:\tlearn: 0.3572631\ttotal: 123ms\tremaining: 1.56s\n",
      "73:\tlearn: 0.3539279\ttotal: 124ms\tremaining: 1.55s\n",
      "74:\tlearn: 0.3507219\ttotal: 125ms\tremaining: 1.54s\n",
      "75:\tlearn: 0.3486623\ttotal: 126ms\tremaining: 1.53s\n",
      "76:\tlearn: 0.3466716\ttotal: 127ms\tremaining: 1.52s\n",
      "77:\tlearn: 0.3442431\ttotal: 128ms\tremaining: 1.51s\n",
      "78:\tlearn: 0.3424742\ttotal: 129ms\tremaining: 1.5s\n",
      "79:\tlearn: 0.3404680\ttotal: 130ms\tremaining: 1.5s\n",
      "80:\tlearn: 0.3383009\ttotal: 131ms\tremaining: 1.49s\n",
      "81:\tlearn: 0.3360833\ttotal: 132ms\tremaining: 1.48s\n",
      "82:\tlearn: 0.3336529\ttotal: 133ms\tremaining: 1.47s\n",
      "83:\tlearn: 0.3313253\ttotal: 134ms\tremaining: 1.46s\n",
      "84:\tlearn: 0.3288221\ttotal: 135ms\tremaining: 1.46s\n",
      "85:\tlearn: 0.3265853\ttotal: 136ms\tremaining: 1.45s\n",
      "86:\tlearn: 0.3251100\ttotal: 137ms\tremaining: 1.44s\n",
      "87:\tlearn: 0.3232398\ttotal: 138ms\tremaining: 1.43s\n",
      "88:\tlearn: 0.3213938\ttotal: 139ms\tremaining: 1.43s\n",
      "89:\tlearn: 0.3195437\ttotal: 141ms\tremaining: 1.42s\n",
      "90:\tlearn: 0.3173094\ttotal: 142ms\tremaining: 1.41s\n"
     ]
    },
    {
     "name": "stdout",
     "output_type": "stream",
     "text": [
      "91:\tlearn: 0.3157168\ttotal: 143ms\tremaining: 1.41s\n",
      "92:\tlearn: 0.3142786\ttotal: 144ms\tremaining: 1.41s\n",
      "93:\tlearn: 0.3136648\ttotal: 145ms\tremaining: 1.4s\n",
      "94:\tlearn: 0.3119681\ttotal: 146ms\tremaining: 1.39s\n",
      "95:\tlearn: 0.3111091\ttotal: 147ms\tremaining: 1.39s\n",
      "96:\tlearn: 0.3099252\ttotal: 148ms\tremaining: 1.38s\n",
      "97:\tlearn: 0.3084713\ttotal: 149ms\tremaining: 1.38s\n",
      "98:\tlearn: 0.3075620\ttotal: 150ms\tremaining: 1.37s\n",
      "99:\tlearn: 0.3060833\ttotal: 152ms\tremaining: 1.36s\n",
      "100:\tlearn: 0.3048286\ttotal: 153ms\tremaining: 1.36s\n",
      "101:\tlearn: 0.3028687\ttotal: 154ms\tremaining: 1.35s\n",
      "102:\tlearn: 0.3014997\ttotal: 155ms\tremaining: 1.34s\n",
      "103:\tlearn: 0.3004375\ttotal: 155ms\tremaining: 1.34s\n",
      "104:\tlearn: 0.2993969\ttotal: 156ms\tremaining: 1.33s\n",
      "105:\tlearn: 0.2976526\ttotal: 157ms\tremaining: 1.33s\n",
      "106:\tlearn: 0.2960122\ttotal: 158ms\tremaining: 1.32s\n",
      "107:\tlearn: 0.2944760\ttotal: 159ms\tremaining: 1.31s\n",
      "108:\tlearn: 0.2931721\ttotal: 160ms\tremaining: 1.31s\n",
      "109:\tlearn: 0.2924901\ttotal: 162ms\tremaining: 1.31s\n",
      "110:\tlearn: 0.2914539\ttotal: 162ms\tremaining: 1.3s\n",
      "111:\tlearn: 0.2901047\ttotal: 164ms\tremaining: 1.3s\n",
      "112:\tlearn: 0.2889909\ttotal: 165ms\tremaining: 1.29s\n",
      "113:\tlearn: 0.2877487\ttotal: 166ms\tremaining: 1.29s\n",
      "114:\tlearn: 0.2868877\ttotal: 167ms\tremaining: 1.28s\n",
      "115:\tlearn: 0.2861832\ttotal: 168ms\tremaining: 1.28s\n",
      "116:\tlearn: 0.2849018\ttotal: 169ms\tremaining: 1.27s\n",
      "117:\tlearn: 0.2836116\ttotal: 170ms\tremaining: 1.27s\n",
      "118:\tlearn: 0.2825446\ttotal: 171ms\tremaining: 1.26s\n",
      "119:\tlearn: 0.2812900\ttotal: 172ms\tremaining: 1.26s\n",
      "120:\tlearn: 0.2802475\ttotal: 173ms\tremaining: 1.25s\n",
      "121:\tlearn: 0.2792664\ttotal: 174ms\tremaining: 1.25s\n",
      "122:\tlearn: 0.2779066\ttotal: 175ms\tremaining: 1.25s\n",
      "123:\tlearn: 0.2770150\ttotal: 176ms\tremaining: 1.24s\n",
      "124:\tlearn: 0.2760986\ttotal: 177ms\tremaining: 1.24s\n",
      "125:\tlearn: 0.2746825\ttotal: 178ms\tremaining: 1.23s\n",
      "126:\tlearn: 0.2729887\ttotal: 179ms\tremaining: 1.23s\n",
      "127:\tlearn: 0.2724250\ttotal: 180ms\tremaining: 1.22s\n",
      "128:\tlearn: 0.2710561\ttotal: 181ms\tremaining: 1.22s\n",
      "129:\tlearn: 0.2702302\ttotal: 182ms\tremaining: 1.22s\n",
      "130:\tlearn: 0.2695105\ttotal: 183ms\tremaining: 1.21s\n",
      "131:\tlearn: 0.2684846\ttotal: 184ms\tremaining: 1.21s\n",
      "132:\tlearn: 0.2677489\ttotal: 185ms\tremaining: 1.21s\n",
      "133:\tlearn: 0.2666846\ttotal: 186ms\tremaining: 1.2s\n",
      "134:\tlearn: 0.2657629\ttotal: 187ms\tremaining: 1.2s\n",
      "135:\tlearn: 0.2648772\ttotal: 188ms\tremaining: 1.19s\n",
      "136:\tlearn: 0.2642541\ttotal: 189ms\tremaining: 1.19s\n",
      "137:\tlearn: 0.2632843\ttotal: 190ms\tremaining: 1.19s\n",
      "138:\tlearn: 0.2622098\ttotal: 191ms\tremaining: 1.18s\n",
      "139:\tlearn: 0.2609501\ttotal: 192ms\tremaining: 1.18s\n",
      "140:\tlearn: 0.2601783\ttotal: 193ms\tremaining: 1.18s\n",
      "141:\tlearn: 0.2596693\ttotal: 194ms\tremaining: 1.17s\n",
      "142:\tlearn: 0.2582878\ttotal: 195ms\tremaining: 1.17s\n",
      "143:\tlearn: 0.2570286\ttotal: 196ms\tremaining: 1.17s\n",
      "144:\tlearn: 0.2560994\ttotal: 197ms\tremaining: 1.16s\n",
      "145:\tlearn: 0.2552985\ttotal: 198ms\tremaining: 1.16s\n",
      "146:\tlearn: 0.2543900\ttotal: 199ms\tremaining: 1.16s\n",
      "147:\tlearn: 0.2537377\ttotal: 200ms\tremaining: 1.15s\n",
      "148:\tlearn: 0.2528882\ttotal: 201ms\tremaining: 1.15s\n",
      "149:\tlearn: 0.2523730\ttotal: 202ms\tremaining: 1.15s\n",
      "150:\tlearn: 0.2512059\ttotal: 203ms\tremaining: 1.14s\n",
      "151:\tlearn: 0.2505744\ttotal: 204ms\tremaining: 1.14s\n",
      "152:\tlearn: 0.2502512\ttotal: 205ms\tremaining: 1.14s\n",
      "153:\tlearn: 0.2497506\ttotal: 206ms\tremaining: 1.13s\n",
      "154:\tlearn: 0.2492626\ttotal: 207ms\tremaining: 1.13s\n",
      "155:\tlearn: 0.2483619\ttotal: 208ms\tremaining: 1.13s\n",
      "156:\tlearn: 0.2479341\ttotal: 209ms\tremaining: 1.12s\n",
      "157:\tlearn: 0.2472004\ttotal: 210ms\tremaining: 1.12s\n",
      "158:\tlearn: 0.2468974\ttotal: 211ms\tremaining: 1.11s\n",
      "159:\tlearn: 0.2463546\ttotal: 212ms\tremaining: 1.11s\n",
      "160:\tlearn: 0.2457020\ttotal: 213ms\tremaining: 1.11s\n",
      "161:\tlearn: 0.2449606\ttotal: 214ms\tremaining: 1.11s\n",
      "162:\tlearn: 0.2445379\ttotal: 215ms\tremaining: 1.1s\n",
      "163:\tlearn: 0.2442009\ttotal: 216ms\tremaining: 1.1s\n",
      "164:\tlearn: 0.2437228\ttotal: 217ms\tremaining: 1.1s\n",
      "165:\tlearn: 0.2436064\ttotal: 218ms\tremaining: 1.09s\n",
      "166:\tlearn: 0.2432991\ttotal: 219ms\tremaining: 1.09s\n",
      "167:\tlearn: 0.2426995\ttotal: 219ms\tremaining: 1.09s\n",
      "168:\tlearn: 0.2421060\ttotal: 220ms\tremaining: 1.08s\n",
      "169:\tlearn: 0.2414285\ttotal: 221ms\tremaining: 1.08s\n",
      "170:\tlearn: 0.2411349\ttotal: 222ms\tremaining: 1.08s\n",
      "171:\tlearn: 0.2402593\ttotal: 223ms\tremaining: 1.07s\n",
      "172:\tlearn: 0.2391781\ttotal: 224ms\tremaining: 1.07s\n",
      "173:\tlearn: 0.2383952\ttotal: 225ms\tremaining: 1.07s\n",
      "174:\tlearn: 0.2377266\ttotal: 226ms\tremaining: 1.07s\n",
      "175:\tlearn: 0.2374700\ttotal: 227ms\tremaining: 1.06s\n",
      "176:\tlearn: 0.2366698\ttotal: 228ms\tremaining: 1.06s\n",
      "177:\tlearn: 0.2362339\ttotal: 229ms\tremaining: 1.06s\n",
      "178:\tlearn: 0.2361407\ttotal: 230ms\tremaining: 1.05s\n",
      "179:\tlearn: 0.2353215\ttotal: 231ms\tremaining: 1.05s\n",
      "180:\tlearn: 0.2345628\ttotal: 232ms\tremaining: 1.05s\n",
      "181:\tlearn: 0.2336297\ttotal: 233ms\tremaining: 1.05s\n",
      "182:\tlearn: 0.2329460\ttotal: 234ms\tremaining: 1.04s\n",
      "183:\tlearn: 0.2321430\ttotal: 235ms\tremaining: 1.04s\n",
      "184:\tlearn: 0.2316811\ttotal: 236ms\tremaining: 1.04s\n",
      "185:\tlearn: 0.2310354\ttotal: 237ms\tremaining: 1.04s\n",
      "186:\tlearn: 0.2304195\ttotal: 238ms\tremaining: 1.03s\n",
      "187:\tlearn: 0.2297669\ttotal: 239ms\tremaining: 1.03s\n",
      "188:\tlearn: 0.2291340\ttotal: 240ms\tremaining: 1.03s\n",
      "189:\tlearn: 0.2284398\ttotal: 241ms\tremaining: 1.03s\n",
      "190:\tlearn: 0.2276627\ttotal: 242ms\tremaining: 1.02s\n",
      "191:\tlearn: 0.2271952\ttotal: 243ms\tremaining: 1.02s\n",
      "192:\tlearn: 0.2263873\ttotal: 244ms\tremaining: 1.02s\n",
      "193:\tlearn: 0.2258933\ttotal: 245ms\tremaining: 1.02s\n",
      "194:\tlearn: 0.2256092\ttotal: 246ms\tremaining: 1.02s\n",
      "195:\tlearn: 0.2252338\ttotal: 247ms\tremaining: 1.01s\n",
      "196:\tlearn: 0.2245554\ttotal: 248ms\tremaining: 1.01s\n",
      "197:\tlearn: 0.2239317\ttotal: 249ms\tremaining: 1.01s\n",
      "198:\tlearn: 0.2234694\ttotal: 251ms\tremaining: 1.01s\n",
      "199:\tlearn: 0.2233014\ttotal: 252ms\tremaining: 1.01s\n",
      "200:\tlearn: 0.2224959\ttotal: 253ms\tremaining: 1s\n",
      "201:\tlearn: 0.2219445\ttotal: 254ms\tremaining: 1s\n",
      "202:\tlearn: 0.2215698\ttotal: 255ms\tremaining: 1000ms\n",
      "203:\tlearn: 0.2209245\ttotal: 256ms\tremaining: 997ms\n",
      "204:\tlearn: 0.2204324\ttotal: 257ms\tremaining: 995ms\n",
      "205:\tlearn: 0.2200802\ttotal: 258ms\tremaining: 993ms\n",
      "206:\tlearn: 0.2196562\ttotal: 259ms\tremaining: 991ms\n",
      "207:\tlearn: 0.2192306\ttotal: 260ms\tremaining: 989ms\n",
      "208:\tlearn: 0.2188122\ttotal: 261ms\tremaining: 986ms\n",
      "209:\tlearn: 0.2181747\ttotal: 262ms\tremaining: 984ms\n",
      "210:\tlearn: 0.2176252\ttotal: 263ms\tremaining: 982ms\n",
      "211:\tlearn: 0.2172602\ttotal: 264ms\tremaining: 980ms\n",
      "212:\tlearn: 0.2168586\ttotal: 265ms\tremaining: 978ms\n",
      "213:\tlearn: 0.2165125\ttotal: 266ms\tremaining: 976ms\n",
      "214:\tlearn: 0.2162163\ttotal: 267ms\tremaining: 974ms\n",
      "215:\tlearn: 0.2158072\ttotal: 268ms\tremaining: 971ms\n",
      "216:\tlearn: 0.2155690\ttotal: 269ms\tremaining: 969ms\n",
      "217:\tlearn: 0.2150261\ttotal: 270ms\tremaining: 967ms\n",
      "218:\tlearn: 0.2144090\ttotal: 271ms\tremaining: 965ms\n",
      "219:\tlearn: 0.2138814\ttotal: 272ms\tremaining: 964ms\n",
      "220:\tlearn: 0.2132623\ttotal: 273ms\tremaining: 962ms\n",
      "221:\tlearn: 0.2131246\ttotal: 274ms\tremaining: 960ms\n",
      "222:\tlearn: 0.2128420\ttotal: 275ms\tremaining: 959ms\n",
      "223:\tlearn: 0.2121939\ttotal: 276ms\tremaining: 957ms\n",
      "224:\tlearn: 0.2120833\ttotal: 277ms\tremaining: 954ms\n",
      "225:\tlearn: 0.2116002\ttotal: 278ms\tremaining: 952ms\n",
      "226:\tlearn: 0.2114451\ttotal: 279ms\tremaining: 950ms\n"
     ]
    },
    {
     "name": "stdout",
     "output_type": "stream",
     "text": [
      "227:\tlearn: 0.2110175\ttotal: 280ms\tremaining: 949ms\n",
      "228:\tlearn: 0.2104777\ttotal: 282ms\tremaining: 948ms\n",
      "229:\tlearn: 0.2100751\ttotal: 283ms\tremaining: 946ms\n",
      "230:\tlearn: 0.2094321\ttotal: 284ms\tremaining: 944ms\n",
      "231:\tlearn: 0.2089601\ttotal: 285ms\tremaining: 942ms\n",
      "232:\tlearn: 0.2087175\ttotal: 286ms\tremaining: 940ms\n",
      "233:\tlearn: 0.2082059\ttotal: 287ms\tremaining: 938ms\n",
      "234:\tlearn: 0.2078585\ttotal: 288ms\tremaining: 936ms\n",
      "235:\tlearn: 0.2076550\ttotal: 289ms\tremaining: 934ms\n",
      "236:\tlearn: 0.2069251\ttotal: 290ms\tremaining: 932ms\n",
      "237:\tlearn: 0.2061799\ttotal: 292ms\tremaining: 934ms\n",
      "238:\tlearn: 0.2057403\ttotal: 293ms\tremaining: 932ms\n",
      "239:\tlearn: 0.2052578\ttotal: 294ms\tremaining: 931ms\n",
      "240:\tlearn: 0.2045515\ttotal: 295ms\tremaining: 929ms\n",
      "241:\tlearn: 0.2041733\ttotal: 296ms\tremaining: 928ms\n",
      "242:\tlearn: 0.2040064\ttotal: 297ms\tremaining: 927ms\n",
      "243:\tlearn: 0.2031890\ttotal: 299ms\tremaining: 925ms\n",
      "244:\tlearn: 0.2026866\ttotal: 299ms\tremaining: 923ms\n",
      "245:\tlearn: 0.2023017\ttotal: 301ms\tremaining: 921ms\n",
      "246:\tlearn: 0.2017137\ttotal: 301ms\tremaining: 919ms\n",
      "247:\tlearn: 0.2014992\ttotal: 303ms\tremaining: 918ms\n",
      "248:\tlearn: 0.2008465\ttotal: 304ms\tremaining: 916ms\n",
      "249:\tlearn: 0.2004247\ttotal: 305ms\tremaining: 914ms\n",
      "250:\tlearn: 0.1998427\ttotal: 306ms\tremaining: 913ms\n",
      "251:\tlearn: 0.1992720\ttotal: 307ms\tremaining: 911ms\n",
      "252:\tlearn: 0.1983431\ttotal: 308ms\tremaining: 909ms\n",
      "253:\tlearn: 0.1976124\ttotal: 309ms\tremaining: 907ms\n",
      "254:\tlearn: 0.1971784\ttotal: 310ms\tremaining: 905ms\n",
      "255:\tlearn: 0.1968989\ttotal: 311ms\tremaining: 904ms\n",
      "256:\tlearn: 0.1964528\ttotal: 312ms\tremaining: 902ms\n",
      "257:\tlearn: 0.1962603\ttotal: 313ms\tremaining: 900ms\n",
      "258:\tlearn: 0.1959446\ttotal: 314ms\tremaining: 899ms\n",
      "259:\tlearn: 0.1957742\ttotal: 315ms\tremaining: 897ms\n",
      "260:\tlearn: 0.1953367\ttotal: 316ms\tremaining: 896ms\n",
      "261:\tlearn: 0.1945819\ttotal: 317ms\tremaining: 894ms\n",
      "262:\tlearn: 0.1940683\ttotal: 319ms\tremaining: 893ms\n",
      "263:\tlearn: 0.1938728\ttotal: 320ms\tremaining: 891ms\n",
      "264:\tlearn: 0.1930269\ttotal: 321ms\tremaining: 890ms\n",
      "265:\tlearn: 0.1926220\ttotal: 322ms\tremaining: 888ms\n",
      "266:\tlearn: 0.1924173\ttotal: 323ms\tremaining: 886ms\n",
      "267:\tlearn: 0.1919654\ttotal: 324ms\tremaining: 885ms\n",
      "268:\tlearn: 0.1915826\ttotal: 325ms\tremaining: 883ms\n",
      "269:\tlearn: 0.1909145\ttotal: 326ms\tremaining: 881ms\n",
      "270:\tlearn: 0.1902534\ttotal: 327ms\tremaining: 880ms\n",
      "271:\tlearn: 0.1896729\ttotal: 328ms\tremaining: 878ms\n",
      "272:\tlearn: 0.1888702\ttotal: 329ms\tremaining: 877ms\n",
      "273:\tlearn: 0.1886233\ttotal: 330ms\tremaining: 875ms\n",
      "274:\tlearn: 0.1879741\ttotal: 331ms\tremaining: 874ms\n",
      "275:\tlearn: 0.1873599\ttotal: 332ms\tremaining: 872ms\n",
      "276:\tlearn: 0.1872853\ttotal: 334ms\tremaining: 870ms\n",
      "277:\tlearn: 0.1869336\ttotal: 334ms\tremaining: 869ms\n",
      "278:\tlearn: 0.1863475\ttotal: 336ms\tremaining: 867ms\n",
      "279:\tlearn: 0.1859544\ttotal: 337ms\tremaining: 866ms\n",
      "280:\tlearn: 0.1852903\ttotal: 338ms\tremaining: 864ms\n",
      "281:\tlearn: 0.1845587\ttotal: 339ms\tremaining: 862ms\n",
      "282:\tlearn: 0.1837396\ttotal: 340ms\tremaining: 861ms\n",
      "283:\tlearn: 0.1832175\ttotal: 341ms\tremaining: 859ms\n",
      "284:\tlearn: 0.1830208\ttotal: 342ms\tremaining: 858ms\n",
      "285:\tlearn: 0.1826366\ttotal: 343ms\tremaining: 856ms\n",
      "286:\tlearn: 0.1820064\ttotal: 344ms\tremaining: 855ms\n",
      "287:\tlearn: 0.1815943\ttotal: 345ms\tremaining: 853ms\n",
      "288:\tlearn: 0.1815267\ttotal: 346ms\tremaining: 851ms\n",
      "289:\tlearn: 0.1809962\ttotal: 347ms\tremaining: 850ms\n",
      "290:\tlearn: 0.1804257\ttotal: 348ms\tremaining: 848ms\n",
      "291:\tlearn: 0.1800182\ttotal: 349ms\tremaining: 846ms\n",
      "292:\tlearn: 0.1796878\ttotal: 350ms\tremaining: 845ms\n",
      "293:\tlearn: 0.1791477\ttotal: 351ms\tremaining: 844ms\n",
      "294:\tlearn: 0.1786027\ttotal: 352ms\tremaining: 842ms\n",
      "295:\tlearn: 0.1781657\ttotal: 353ms\tremaining: 841ms\n",
      "296:\tlearn: 0.1777778\ttotal: 354ms\tremaining: 839ms\n",
      "297:\tlearn: 0.1771068\ttotal: 355ms\tremaining: 837ms\n",
      "298:\tlearn: 0.1765879\ttotal: 357ms\tremaining: 836ms\n",
      "299:\tlearn: 0.1760394\ttotal: 358ms\tremaining: 834ms\n",
      "300:\tlearn: 0.1756337\ttotal: 359ms\tremaining: 833ms\n",
      "301:\tlearn: 0.1751243\ttotal: 360ms\tremaining: 832ms\n",
      "302:\tlearn: 0.1746725\ttotal: 361ms\tremaining: 830ms\n",
      "303:\tlearn: 0.1741090\ttotal: 362ms\tremaining: 828ms\n",
      "304:\tlearn: 0.1736060\ttotal: 363ms\tremaining: 827ms\n",
      "305:\tlearn: 0.1730679\ttotal: 364ms\tremaining: 826ms\n",
      "306:\tlearn: 0.1726939\ttotal: 365ms\tremaining: 824ms\n",
      "307:\tlearn: 0.1722431\ttotal: 366ms\tremaining: 823ms\n",
      "308:\tlearn: 0.1716053\ttotal: 367ms\tremaining: 822ms\n",
      "309:\tlearn: 0.1710900\ttotal: 369ms\tremaining: 820ms\n",
      "310:\tlearn: 0.1704717\ttotal: 370ms\tremaining: 819ms\n",
      "311:\tlearn: 0.1698511\ttotal: 371ms\tremaining: 818ms\n",
      "312:\tlearn: 0.1695604\ttotal: 372ms\tremaining: 816ms\n",
      "313:\tlearn: 0.1691384\ttotal: 373ms\tremaining: 815ms\n",
      "314:\tlearn: 0.1686941\ttotal: 374ms\tremaining: 813ms\n",
      "315:\tlearn: 0.1681931\ttotal: 375ms\tremaining: 812ms\n",
      "316:\tlearn: 0.1678964\ttotal: 376ms\tremaining: 810ms\n",
      "317:\tlearn: 0.1676550\ttotal: 377ms\tremaining: 809ms\n",
      "318:\tlearn: 0.1672726\ttotal: 378ms\tremaining: 808ms\n",
      "319:\tlearn: 0.1669008\ttotal: 379ms\tremaining: 806ms\n",
      "320:\tlearn: 0.1666896\ttotal: 380ms\tremaining: 804ms\n",
      "321:\tlearn: 0.1660490\ttotal: 381ms\tremaining: 803ms\n",
      "322:\tlearn: 0.1655257\ttotal: 382ms\tremaining: 801ms\n",
      "323:\tlearn: 0.1650854\ttotal: 383ms\tremaining: 800ms\n",
      "324:\tlearn: 0.1646472\ttotal: 384ms\tremaining: 798ms\n",
      "325:\tlearn: 0.1641853\ttotal: 385ms\tremaining: 797ms\n",
      "326:\tlearn: 0.1638398\ttotal: 386ms\tremaining: 795ms\n",
      "327:\tlearn: 0.1633927\ttotal: 387ms\tremaining: 794ms\n",
      "328:\tlearn: 0.1628938\ttotal: 389ms\tremaining: 792ms\n",
      "329:\tlearn: 0.1624950\ttotal: 390ms\tremaining: 791ms\n",
      "330:\tlearn: 0.1620711\ttotal: 391ms\tremaining: 790ms\n",
      "331:\tlearn: 0.1614465\ttotal: 392ms\tremaining: 788ms\n",
      "332:\tlearn: 0.1609934\ttotal: 393ms\tremaining: 787ms\n",
      "333:\tlearn: 0.1606442\ttotal: 394ms\tremaining: 785ms\n",
      "334:\tlearn: 0.1602475\ttotal: 395ms\tremaining: 784ms\n",
      "335:\tlearn: 0.1598699\ttotal: 396ms\tremaining: 783ms\n",
      "336:\tlearn: 0.1592556\ttotal: 397ms\tremaining: 781ms\n",
      "337:\tlearn: 0.1588304\ttotal: 398ms\tremaining: 780ms\n",
      "338:\tlearn: 0.1586312\ttotal: 399ms\tremaining: 779ms\n",
      "339:\tlearn: 0.1581270\ttotal: 400ms\tremaining: 777ms\n",
      "340:\tlearn: 0.1578417\ttotal: 401ms\tremaining: 776ms\n",
      "341:\tlearn: 0.1573422\ttotal: 402ms\tremaining: 774ms\n",
      "342:\tlearn: 0.1569514\ttotal: 404ms\tremaining: 773ms\n",
      "343:\tlearn: 0.1565166\ttotal: 405ms\tremaining: 772ms\n",
      "344:\tlearn: 0.1560586\ttotal: 406ms\tremaining: 771ms\n",
      "345:\tlearn: 0.1555774\ttotal: 407ms\tremaining: 770ms\n",
      "346:\tlearn: 0.1552675\ttotal: 408ms\tremaining: 768ms\n"
     ]
    },
    {
     "name": "stdout",
     "output_type": "stream",
     "text": [
      "347:\tlearn: 0.1548094\ttotal: 410ms\tremaining: 768ms\n",
      "348:\tlearn: 0.1546580\ttotal: 411ms\tremaining: 767ms\n",
      "349:\tlearn: 0.1542554\ttotal: 412ms\tremaining: 766ms\n",
      "350:\tlearn: 0.1538944\ttotal: 413ms\tremaining: 764ms\n",
      "351:\tlearn: 0.1536517\ttotal: 414ms\tremaining: 763ms\n",
      "352:\tlearn: 0.1532120\ttotal: 415ms\tremaining: 761ms\n",
      "353:\tlearn: 0.1527848\ttotal: 417ms\tremaining: 760ms\n",
      "354:\tlearn: 0.1525971\ttotal: 418ms\tremaining: 759ms\n",
      "355:\tlearn: 0.1522709\ttotal: 419ms\tremaining: 757ms\n",
      "356:\tlearn: 0.1518854\ttotal: 420ms\tremaining: 756ms\n",
      "357:\tlearn: 0.1514637\ttotal: 421ms\tremaining: 755ms\n",
      "358:\tlearn: 0.1511140\ttotal: 422ms\tremaining: 754ms\n",
      "359:\tlearn: 0.1508883\ttotal: 423ms\tremaining: 752ms\n",
      "360:\tlearn: 0.1504578\ttotal: 424ms\tremaining: 751ms\n",
      "361:\tlearn: 0.1501747\ttotal: 425ms\tremaining: 749ms\n",
      "362:\tlearn: 0.1500463\ttotal: 426ms\tremaining: 748ms\n",
      "363:\tlearn: 0.1497235\ttotal: 427ms\tremaining: 746ms\n",
      "364:\tlearn: 0.1494548\ttotal: 428ms\tremaining: 745ms\n",
      "365:\tlearn: 0.1491629\ttotal: 429ms\tremaining: 744ms\n",
      "366:\tlearn: 0.1488598\ttotal: 430ms\tremaining: 742ms\n",
      "367:\tlearn: 0.1487027\ttotal: 431ms\tremaining: 741ms\n",
      "368:\tlearn: 0.1484461\ttotal: 432ms\tremaining: 739ms\n",
      "369:\tlearn: 0.1480733\ttotal: 433ms\tremaining: 738ms\n",
      "370:\tlearn: 0.1477558\ttotal: 435ms\tremaining: 737ms\n",
      "371:\tlearn: 0.1474426\ttotal: 436ms\tremaining: 735ms\n",
      "372:\tlearn: 0.1470782\ttotal: 437ms\tremaining: 734ms\n",
      "373:\tlearn: 0.1467861\ttotal: 438ms\tremaining: 733ms\n",
      "374:\tlearn: 0.1464587\ttotal: 439ms\tremaining: 731ms\n",
      "375:\tlearn: 0.1461209\ttotal: 440ms\tremaining: 730ms\n",
      "376:\tlearn: 0.1457941\ttotal: 441ms\tremaining: 729ms\n",
      "377:\tlearn: 0.1455419\ttotal: 442ms\tremaining: 727ms\n",
      "378:\tlearn: 0.1451329\ttotal: 443ms\tremaining: 726ms\n",
      "379:\tlearn: 0.1447716\ttotal: 444ms\tremaining: 725ms\n",
      "380:\tlearn: 0.1445641\ttotal: 445ms\tremaining: 723ms\n",
      "381:\tlearn: 0.1441435\ttotal: 446ms\tremaining: 722ms\n",
      "382:\tlearn: 0.1440217\ttotal: 447ms\tremaining: 720ms\n",
      "383:\tlearn: 0.1436557\ttotal: 448ms\tremaining: 719ms\n",
      "384:\tlearn: 0.1432403\ttotal: 449ms\tremaining: 717ms\n",
      "385:\tlearn: 0.1428027\ttotal: 450ms\tremaining: 716ms\n",
      "386:\tlearn: 0.1424505\ttotal: 451ms\tremaining: 715ms\n",
      "387:\tlearn: 0.1421498\ttotal: 453ms\tremaining: 714ms\n",
      "388:\tlearn: 0.1418145\ttotal: 454ms\tremaining: 713ms\n",
      "389:\tlearn: 0.1415413\ttotal: 455ms\tremaining: 711ms\n",
      "390:\tlearn: 0.1413773\ttotal: 456ms\tremaining: 710ms\n",
      "391:\tlearn: 0.1409910\ttotal: 457ms\tremaining: 709ms\n",
      "392:\tlearn: 0.1408248\ttotal: 458ms\tremaining: 708ms\n",
      "393:\tlearn: 0.1406426\ttotal: 459ms\tremaining: 706ms\n",
      "394:\tlearn: 0.1404601\ttotal: 460ms\tremaining: 705ms\n",
      "395:\tlearn: 0.1401599\ttotal: 461ms\tremaining: 704ms\n",
      "396:\tlearn: 0.1398769\ttotal: 463ms\tremaining: 703ms\n",
      "397:\tlearn: 0.1395643\ttotal: 464ms\tremaining: 702ms\n",
      "398:\tlearn: 0.1394387\ttotal: 465ms\tremaining: 701ms\n",
      "399:\tlearn: 0.1391508\ttotal: 466ms\tremaining: 699ms\n",
      "400:\tlearn: 0.1386565\ttotal: 467ms\tremaining: 698ms\n",
      "401:\tlearn: 0.1383749\ttotal: 468ms\tremaining: 697ms\n",
      "402:\tlearn: 0.1380096\ttotal: 469ms\tremaining: 695ms\n",
      "403:\tlearn: 0.1379011\ttotal: 470ms\tremaining: 694ms\n",
      "404:\tlearn: 0.1376497\ttotal: 471ms\tremaining: 693ms\n",
      "405:\tlearn: 0.1374145\ttotal: 473ms\tremaining: 691ms\n",
      "406:\tlearn: 0.1372599\ttotal: 474ms\tremaining: 690ms\n",
      "407:\tlearn: 0.1370050\ttotal: 475ms\tremaining: 689ms\n",
      "408:\tlearn: 0.1368563\ttotal: 476ms\tremaining: 688ms\n",
      "409:\tlearn: 0.1366072\ttotal: 477ms\tremaining: 686ms\n",
      "410:\tlearn: 0.1362590\ttotal: 478ms\tremaining: 685ms\n",
      "411:\tlearn: 0.1358464\ttotal: 479ms\tremaining: 684ms\n",
      "412:\tlearn: 0.1354941\ttotal: 480ms\tremaining: 682ms\n",
      "413:\tlearn: 0.1350930\ttotal: 481ms\tremaining: 681ms\n",
      "414:\tlearn: 0.1349274\ttotal: 482ms\tremaining: 680ms\n",
      "415:\tlearn: 0.1346840\ttotal: 483ms\tremaining: 679ms\n",
      "416:\tlearn: 0.1345469\ttotal: 485ms\tremaining: 678ms\n",
      "417:\tlearn: 0.1340726\ttotal: 486ms\tremaining: 676ms\n",
      "418:\tlearn: 0.1338701\ttotal: 487ms\tremaining: 675ms\n",
      "419:\tlearn: 0.1337596\ttotal: 488ms\tremaining: 674ms\n",
      "420:\tlearn: 0.1336644\ttotal: 489ms\tremaining: 673ms\n",
      "421:\tlearn: 0.1334532\ttotal: 490ms\tremaining: 672ms\n",
      "422:\tlearn: 0.1332353\ttotal: 492ms\tremaining: 670ms\n",
      "423:\tlearn: 0.1329154\ttotal: 493ms\tremaining: 669ms\n",
      "424:\tlearn: 0.1327924\ttotal: 494ms\tremaining: 668ms\n",
      "425:\tlearn: 0.1324219\ttotal: 495ms\tremaining: 667ms\n",
      "426:\tlearn: 0.1320476\ttotal: 496ms\tremaining: 665ms\n",
      "427:\tlearn: 0.1317568\ttotal: 497ms\tremaining: 664ms\n",
      "428:\tlearn: 0.1313809\ttotal: 498ms\tremaining: 663ms\n",
      "429:\tlearn: 0.1310593\ttotal: 499ms\tremaining: 662ms\n",
      "430:\tlearn: 0.1307165\ttotal: 500ms\tremaining: 660ms\n",
      "431:\tlearn: 0.1305072\ttotal: 501ms\tremaining: 659ms\n",
      "432:\tlearn: 0.1303555\ttotal: 502ms\tremaining: 658ms\n",
      "433:\tlearn: 0.1300611\ttotal: 503ms\tremaining: 656ms\n",
      "434:\tlearn: 0.1297119\ttotal: 504ms\tremaining: 655ms\n",
      "435:\tlearn: 0.1295514\ttotal: 505ms\tremaining: 654ms\n",
      "436:\tlearn: 0.1292131\ttotal: 507ms\tremaining: 653ms\n",
      "437:\tlearn: 0.1291296\ttotal: 508ms\tremaining: 651ms\n",
      "438:\tlearn: 0.1289169\ttotal: 508ms\tremaining: 650ms\n",
      "439:\tlearn: 0.1288910\ttotal: 509ms\tremaining: 648ms\n",
      "440:\tlearn: 0.1286620\ttotal: 511ms\tremaining: 647ms\n",
      "441:\tlearn: 0.1284575\ttotal: 512ms\tremaining: 646ms\n",
      "442:\tlearn: 0.1283902\ttotal: 513ms\tremaining: 644ms\n",
      "443:\tlearn: 0.1281646\ttotal: 514ms\tremaining: 643ms\n",
      "444:\tlearn: 0.1281192\ttotal: 515ms\tremaining: 642ms\n",
      "445:\tlearn: 0.1278405\ttotal: 516ms\tremaining: 641ms\n",
      "446:\tlearn: 0.1277848\ttotal: 517ms\tremaining: 640ms\n",
      "447:\tlearn: 0.1277453\ttotal: 518ms\tremaining: 638ms\n",
      "448:\tlearn: 0.1277074\ttotal: 519ms\tremaining: 637ms\n",
      "449:\tlearn: 0.1275375\ttotal: 520ms\tremaining: 636ms\n",
      "450:\tlearn: 0.1270603\ttotal: 521ms\tremaining: 634ms\n",
      "451:\tlearn: 0.1269992\ttotal: 522ms\tremaining: 633ms\n",
      "452:\tlearn: 0.1266680\ttotal: 523ms\tremaining: 632ms\n",
      "453:\tlearn: 0.1266053\ttotal: 524ms\tremaining: 631ms\n",
      "454:\tlearn: 0.1263175\ttotal: 525ms\tremaining: 629ms\n",
      "455:\tlearn: 0.1262518\ttotal: 527ms\tremaining: 628ms\n",
      "456:\tlearn: 0.1259862\ttotal: 528ms\tremaining: 627ms\n",
      "457:\tlearn: 0.1257494\ttotal: 529ms\tremaining: 626ms\n",
      "458:\tlearn: 0.1256028\ttotal: 530ms\tremaining: 624ms\n",
      "459:\tlearn: 0.1254321\ttotal: 531ms\tremaining: 623ms\n",
      "460:\tlearn: 0.1253886\ttotal: 532ms\tremaining: 622ms\n",
      "461:\tlearn: 0.1251809\ttotal: 533ms\tremaining: 621ms\n",
      "462:\tlearn: 0.1248747\ttotal: 535ms\tremaining: 620ms\n",
      "463:\tlearn: 0.1246287\ttotal: 536ms\tremaining: 619ms\n",
      "464:\tlearn: 0.1244296\ttotal: 537ms\tremaining: 617ms\n",
      "465:\tlearn: 0.1243901\ttotal: 538ms\tremaining: 617ms\n",
      "466:\tlearn: 0.1241649\ttotal: 540ms\tremaining: 616ms\n",
      "467:\tlearn: 0.1239510\ttotal: 541ms\tremaining: 615ms\n",
      "468:\tlearn: 0.1238150\ttotal: 542ms\tremaining: 614ms\n",
      "469:\tlearn: 0.1237327\ttotal: 543ms\tremaining: 613ms\n",
      "470:\tlearn: 0.1234404\ttotal: 545ms\tremaining: 612ms\n",
      "471:\tlearn: 0.1232965\ttotal: 546ms\tremaining: 610ms\n",
      "472:\tlearn: 0.1230378\ttotal: 547ms\tremaining: 609ms\n"
     ]
    },
    {
     "name": "stdout",
     "output_type": "stream",
     "text": [
      "473:\tlearn: 0.1226791\ttotal: 548ms\tremaining: 608ms\n",
      "474:\tlearn: 0.1221924\ttotal: 550ms\tremaining: 608ms\n",
      "475:\tlearn: 0.1219742\ttotal: 551ms\tremaining: 606ms\n",
      "476:\tlearn: 0.1218991\ttotal: 552ms\tremaining: 605ms\n",
      "477:\tlearn: 0.1216065\ttotal: 553ms\tremaining: 604ms\n",
      "478:\tlearn: 0.1214206\ttotal: 554ms\tremaining: 603ms\n",
      "479:\tlearn: 0.1210565\ttotal: 555ms\tremaining: 601ms\n",
      "480:\tlearn: 0.1210156\ttotal: 556ms\tremaining: 600ms\n",
      "481:\tlearn: 0.1209383\ttotal: 557ms\tremaining: 598ms\n",
      "482:\tlearn: 0.1205438\ttotal: 558ms\tremaining: 597ms\n",
      "483:\tlearn: 0.1203800\ttotal: 559ms\tremaining: 596ms\n",
      "484:\tlearn: 0.1202246\ttotal: 560ms\tremaining: 595ms\n",
      "485:\tlearn: 0.1199767\ttotal: 561ms\tremaining: 593ms\n",
      "486:\tlearn: 0.1197449\ttotal: 562ms\tremaining: 592ms\n",
      "487:\tlearn: 0.1195699\ttotal: 563ms\tremaining: 591ms\n",
      "488:\tlearn: 0.1195077\ttotal: 564ms\tremaining: 589ms\n",
      "489:\tlearn: 0.1194705\ttotal: 565ms\tremaining: 588ms\n",
      "490:\tlearn: 0.1193159\ttotal: 566ms\tremaining: 587ms\n",
      "491:\tlearn: 0.1190481\ttotal: 567ms\tremaining: 585ms\n",
      "492:\tlearn: 0.1188438\ttotal: 568ms\tremaining: 584ms\n",
      "493:\tlearn: 0.1185661\ttotal: 569ms\tremaining: 583ms\n",
      "494:\tlearn: 0.1183051\ttotal: 570ms\tremaining: 581ms\n",
      "495:\tlearn: 0.1182695\ttotal: 571ms\tremaining: 580ms\n",
      "496:\tlearn: 0.1180226\ttotal: 572ms\tremaining: 579ms\n",
      "497:\tlearn: 0.1177263\ttotal: 573ms\tremaining: 578ms\n",
      "498:\tlearn: 0.1175476\ttotal: 574ms\tremaining: 576ms\n",
      "499:\tlearn: 0.1172826\ttotal: 575ms\tremaining: 575ms\n",
      "500:\tlearn: 0.1170515\ttotal: 576ms\tremaining: 574ms\n",
      "501:\tlearn: 0.1168385\ttotal: 577ms\tremaining: 572ms\n",
      "502:\tlearn: 0.1166172\ttotal: 578ms\tremaining: 571ms\n",
      "503:\tlearn: 0.1164202\ttotal: 579ms\tremaining: 570ms\n",
      "504:\tlearn: 0.1160751\ttotal: 580ms\tremaining: 569ms\n",
      "505:\tlearn: 0.1158354\ttotal: 581ms\tremaining: 568ms\n",
      "506:\tlearn: 0.1157125\ttotal: 582ms\tremaining: 566ms\n",
      "507:\tlearn: 0.1155909\ttotal: 583ms\tremaining: 565ms\n",
      "508:\tlearn: 0.1155122\ttotal: 585ms\tremaining: 564ms\n",
      "509:\tlearn: 0.1152276\ttotal: 586ms\tremaining: 563ms\n",
      "510:\tlearn: 0.1150016\ttotal: 587ms\tremaining: 562ms\n",
      "511:\tlearn: 0.1149632\ttotal: 588ms\tremaining: 560ms\n",
      "512:\tlearn: 0.1145417\ttotal: 589ms\tremaining: 559ms\n",
      "513:\tlearn: 0.1142613\ttotal: 590ms\tremaining: 558ms\n",
      "514:\tlearn: 0.1141877\ttotal: 591ms\tremaining: 556ms\n",
      "515:\tlearn: 0.1139744\ttotal: 592ms\tremaining: 555ms\n",
      "516:\tlearn: 0.1138174\ttotal: 593ms\tremaining: 554ms\n",
      "517:\tlearn: 0.1134937\ttotal: 594ms\tremaining: 553ms\n",
      "518:\tlearn: 0.1131216\ttotal: 595ms\tremaining: 551ms\n",
      "519:\tlearn: 0.1128685\ttotal: 596ms\tremaining: 550ms\n",
      "520:\tlearn: 0.1127384\ttotal: 597ms\tremaining: 549ms\n",
      "521:\tlearn: 0.1125301\ttotal: 598ms\tremaining: 548ms\n",
      "522:\tlearn: 0.1123508\ttotal: 599ms\tremaining: 546ms\n",
      "523:\tlearn: 0.1122657\ttotal: 600ms\tremaining: 545ms\n",
      "524:\tlearn: 0.1119944\ttotal: 601ms\tremaining: 544ms\n",
      "525:\tlearn: 0.1119278\ttotal: 602ms\tremaining: 543ms\n",
      "526:\tlearn: 0.1115770\ttotal: 603ms\tremaining: 541ms\n",
      "527:\tlearn: 0.1113153\ttotal: 604ms\tremaining: 540ms\n",
      "528:\tlearn: 0.1112786\ttotal: 605ms\tremaining: 539ms\n",
      "529:\tlearn: 0.1109383\ttotal: 606ms\tremaining: 538ms\n",
      "530:\tlearn: 0.1109158\ttotal: 607ms\tremaining: 536ms\n",
      "531:\tlearn: 0.1106031\ttotal: 608ms\tremaining: 535ms\n",
      "532:\tlearn: 0.1104983\ttotal: 609ms\tremaining: 534ms\n",
      "533:\tlearn: 0.1104695\ttotal: 610ms\tremaining: 533ms\n",
      "534:\tlearn: 0.1102940\ttotal: 611ms\tremaining: 531ms\n",
      "535:\tlearn: 0.1099175\ttotal: 612ms\tremaining: 530ms\n",
      "536:\tlearn: 0.1096436\ttotal: 613ms\tremaining: 529ms\n",
      "537:\tlearn: 0.1095345\ttotal: 614ms\tremaining: 527ms\n",
      "538:\tlearn: 0.1094551\ttotal: 615ms\tremaining: 526ms\n",
      "539:\tlearn: 0.1092960\ttotal: 616ms\tremaining: 525ms\n",
      "540:\tlearn: 0.1090939\ttotal: 617ms\tremaining: 524ms\n",
      "541:\tlearn: 0.1088793\ttotal: 618ms\tremaining: 522ms\n",
      "542:\tlearn: 0.1086596\ttotal: 619ms\tremaining: 521ms\n",
      "543:\tlearn: 0.1084275\ttotal: 620ms\tremaining: 520ms\n",
      "544:\tlearn: 0.1082095\ttotal: 621ms\tremaining: 519ms\n",
      "545:\tlearn: 0.1079532\ttotal: 622ms\tremaining: 517ms\n",
      "546:\tlearn: 0.1077404\ttotal: 623ms\tremaining: 516ms\n",
      "547:\tlearn: 0.1077128\ttotal: 624ms\tremaining: 515ms\n",
      "548:\tlearn: 0.1075540\ttotal: 625ms\tremaining: 514ms\n",
      "549:\tlearn: 0.1075388\ttotal: 626ms\tremaining: 512ms\n",
      "550:\tlearn: 0.1071706\ttotal: 627ms\tremaining: 511ms\n",
      "551:\tlearn: 0.1071082\ttotal: 628ms\tremaining: 510ms\n",
      "552:\tlearn: 0.1070411\ttotal: 629ms\tremaining: 509ms\n",
      "553:\tlearn: 0.1066709\ttotal: 630ms\tremaining: 507ms\n",
      "554:\tlearn: 0.1065596\ttotal: 631ms\tremaining: 506ms\n",
      "555:\tlearn: 0.1063360\ttotal: 633ms\tremaining: 505ms\n",
      "556:\tlearn: 0.1063053\ttotal: 634ms\tremaining: 504ms\n",
      "557:\tlearn: 0.1060106\ttotal: 635ms\tremaining: 503ms\n",
      "558:\tlearn: 0.1056647\ttotal: 636ms\tremaining: 502ms\n",
      "559:\tlearn: 0.1056077\ttotal: 637ms\tremaining: 500ms\n",
      "560:\tlearn: 0.1053397\ttotal: 638ms\tremaining: 499ms\n",
      "561:\tlearn: 0.1052681\ttotal: 639ms\tremaining: 498ms\n",
      "562:\tlearn: 0.1052473\ttotal: 640ms\tremaining: 497ms\n",
      "563:\tlearn: 0.1050627\ttotal: 641ms\tremaining: 495ms\n",
      "564:\tlearn: 0.1050339\ttotal: 642ms\tremaining: 494ms\n",
      "565:\tlearn: 0.1047280\ttotal: 643ms\tremaining: 493ms\n",
      "566:\tlearn: 0.1045110\ttotal: 644ms\tremaining: 492ms\n",
      "567:\tlearn: 0.1042855\ttotal: 645ms\tremaining: 490ms\n",
      "568:\tlearn: 0.1040033\ttotal: 646ms\tremaining: 489ms\n",
      "569:\tlearn: 0.1038939\ttotal: 647ms\tremaining: 488ms\n",
      "570:\tlearn: 0.1036103\ttotal: 648ms\tremaining: 487ms\n",
      "571:\tlearn: 0.1035905\ttotal: 649ms\tremaining: 486ms\n",
      "572:\tlearn: 0.1032882\ttotal: 650ms\tremaining: 484ms\n",
      "573:\tlearn: 0.1030450\ttotal: 651ms\tremaining: 483ms\n",
      "574:\tlearn: 0.1030124\ttotal: 652ms\tremaining: 482ms\n",
      "575:\tlearn: 0.1029263\ttotal: 653ms\tremaining: 481ms\n",
      "576:\tlearn: 0.1027389\ttotal: 654ms\tremaining: 480ms\n",
      "577:\tlearn: 0.1025319\ttotal: 655ms\tremaining: 478ms\n",
      "578:\tlearn: 0.1023616\ttotal: 656ms\tremaining: 477ms\n",
      "579:\tlearn: 0.1022678\ttotal: 657ms\tremaining: 476ms\n",
      "580:\tlearn: 0.1019889\ttotal: 659ms\tremaining: 475ms\n",
      "581:\tlearn: 0.1019726\ttotal: 660ms\tremaining: 474ms\n",
      "582:\tlearn: 0.1019577\ttotal: 661ms\tremaining: 473ms\n",
      "583:\tlearn: 0.1018638\ttotal: 662ms\tremaining: 471ms\n",
      "584:\tlearn: 0.1018087\ttotal: 663ms\tremaining: 470ms\n",
      "585:\tlearn: 0.1015474\ttotal: 664ms\tremaining: 469ms\n",
      "586:\tlearn: 0.1015261\ttotal: 665ms\tremaining: 468ms\n",
      "587:\tlearn: 0.1015129\ttotal: 666ms\tremaining: 466ms\n",
      "588:\tlearn: 0.1012981\ttotal: 667ms\tremaining: 465ms\n",
      "589:\tlearn: 0.1012287\ttotal: 667ms\tremaining: 464ms\n",
      "590:\tlearn: 0.1010727\ttotal: 669ms\tremaining: 463ms\n",
      "591:\tlearn: 0.1008474\ttotal: 670ms\tremaining: 462ms\n",
      "592:\tlearn: 0.1007118\ttotal: 671ms\tremaining: 460ms\n",
      "593:\tlearn: 0.1006155\ttotal: 672ms\tremaining: 459ms\n",
      "594:\tlearn: 0.1004437\ttotal: 673ms\tremaining: 458ms\n",
      "595:\tlearn: 0.1001688\ttotal: 674ms\tremaining: 457ms\n",
      "596:\tlearn: 0.1000422\ttotal: 675ms\tremaining: 456ms\n",
      "597:\tlearn: 0.0997489\ttotal: 676ms\tremaining: 454ms\n",
      "598:\tlearn: 0.0996597\ttotal: 677ms\tremaining: 453ms\n",
      "599:\tlearn: 0.0996384\ttotal: 678ms\tremaining: 452ms\n",
      "600:\tlearn: 0.0993289\ttotal: 679ms\tremaining: 451ms\n",
      "601:\tlearn: 0.0992585\ttotal: 680ms\tremaining: 449ms\n"
     ]
    },
    {
     "name": "stdout",
     "output_type": "stream",
     "text": [
      "602:\tlearn: 0.0989594\ttotal: 681ms\tremaining: 448ms\n",
      "603:\tlearn: 0.0987359\ttotal: 682ms\tremaining: 447ms\n",
      "604:\tlearn: 0.0986168\ttotal: 683ms\tremaining: 446ms\n",
      "605:\tlearn: 0.0983959\ttotal: 684ms\tremaining: 445ms\n",
      "606:\tlearn: 0.0981497\ttotal: 685ms\tremaining: 444ms\n",
      "607:\tlearn: 0.0980728\ttotal: 687ms\tremaining: 443ms\n",
      "608:\tlearn: 0.0980549\ttotal: 688ms\tremaining: 442ms\n",
      "609:\tlearn: 0.0979551\ttotal: 689ms\tremaining: 440ms\n",
      "610:\tlearn: 0.0977919\ttotal: 690ms\tremaining: 439ms\n",
      "611:\tlearn: 0.0975854\ttotal: 691ms\tremaining: 438ms\n",
      "612:\tlearn: 0.0975194\ttotal: 692ms\tremaining: 437ms\n",
      "613:\tlearn: 0.0973496\ttotal: 693ms\tremaining: 436ms\n",
      "614:\tlearn: 0.0970236\ttotal: 694ms\tremaining: 435ms\n",
      "615:\tlearn: 0.0969783\ttotal: 695ms\tremaining: 433ms\n",
      "616:\tlearn: 0.0968891\ttotal: 696ms\tremaining: 432ms\n",
      "617:\tlearn: 0.0967505\ttotal: 697ms\tremaining: 431ms\n",
      "618:\tlearn: 0.0964124\ttotal: 698ms\tremaining: 430ms\n",
      "619:\tlearn: 0.0963987\ttotal: 699ms\tremaining: 429ms\n",
      "620:\tlearn: 0.0963827\ttotal: 700ms\tremaining: 427ms\n",
      "621:\tlearn: 0.0962140\ttotal: 701ms\tremaining: 426ms\n",
      "622:\tlearn: 0.0959622\ttotal: 702ms\tremaining: 425ms\n",
      "623:\tlearn: 0.0958631\ttotal: 703ms\tremaining: 424ms\n",
      "624:\tlearn: 0.0955926\ttotal: 704ms\tremaining: 422ms\n",
      "625:\tlearn: 0.0954997\ttotal: 705ms\tremaining: 421ms\n",
      "626:\tlearn: 0.0954848\ttotal: 706ms\tremaining: 420ms\n",
      "627:\tlearn: 0.0951961\ttotal: 707ms\tremaining: 419ms\n",
      "628:\tlearn: 0.0949506\ttotal: 708ms\tremaining: 418ms\n",
      "629:\tlearn: 0.0947079\ttotal: 709ms\tremaining: 416ms\n",
      "630:\tlearn: 0.0944531\ttotal: 710ms\tremaining: 415ms\n",
      "631:\tlearn: 0.0942857\ttotal: 711ms\tremaining: 414ms\n",
      "632:\tlearn: 0.0941139\ttotal: 712ms\tremaining: 413ms\n",
      "633:\tlearn: 0.0939651\ttotal: 713ms\tremaining: 412ms\n",
      "634:\tlearn: 0.0937431\ttotal: 714ms\tremaining: 411ms\n",
      "635:\tlearn: 0.0937226\ttotal: 715ms\tremaining: 409ms\n",
      "636:\tlearn: 0.0936490\ttotal: 716ms\tremaining: 408ms\n",
      "637:\tlearn: 0.0936342\ttotal: 717ms\tremaining: 407ms\n",
      "638:\tlearn: 0.0934842\ttotal: 718ms\tremaining: 406ms\n",
      "639:\tlearn: 0.0934473\ttotal: 720ms\tremaining: 405ms\n",
      "640:\tlearn: 0.0933708\ttotal: 721ms\tremaining: 404ms\n",
      "641:\tlearn: 0.0932011\ttotal: 722ms\tremaining: 403ms\n",
      "642:\tlearn: 0.0931610\ttotal: 723ms\tremaining: 402ms\n",
      "643:\tlearn: 0.0930844\ttotal: 724ms\tremaining: 400ms\n",
      "644:\tlearn: 0.0930711\ttotal: 726ms\tremaining: 399ms\n",
      "645:\tlearn: 0.0928928\ttotal: 727ms\tremaining: 398ms\n",
      "646:\tlearn: 0.0926795\ttotal: 728ms\tremaining: 397ms\n",
      "647:\tlearn: 0.0924612\ttotal: 729ms\tremaining: 396ms\n",
      "648:\tlearn: 0.0923003\ttotal: 730ms\tremaining: 395ms\n",
      "649:\tlearn: 0.0922046\ttotal: 731ms\tremaining: 394ms\n",
      "650:\tlearn: 0.0921913\ttotal: 732ms\tremaining: 392ms\n",
      "651:\tlearn: 0.0919388\ttotal: 733ms\tremaining: 391ms\n",
      "652:\tlearn: 0.0916285\ttotal: 734ms\tremaining: 390ms\n",
      "653:\tlearn: 0.0916163\ttotal: 735ms\tremaining: 389ms\n",
      "654:\tlearn: 0.0915513\ttotal: 736ms\tremaining: 388ms\n",
      "655:\tlearn: 0.0914057\ttotal: 737ms\tremaining: 386ms\n",
      "656:\tlearn: 0.0913219\ttotal: 738ms\tremaining: 385ms\n",
      "657:\tlearn: 0.0912458\ttotal: 739ms\tremaining: 384ms\n",
      "658:\tlearn: 0.0911156\ttotal: 740ms\tremaining: 383ms\n",
      "659:\tlearn: 0.0909582\ttotal: 741ms\tremaining: 382ms\n",
      "660:\tlearn: 0.0907002\ttotal: 742ms\tremaining: 381ms\n",
      "661:\tlearn: 0.0906887\ttotal: 743ms\tremaining: 380ms\n",
      "662:\tlearn: 0.0905297\ttotal: 744ms\tremaining: 378ms\n",
      "663:\tlearn: 0.0904377\ttotal: 745ms\tremaining: 377ms\n",
      "664:\tlearn: 0.0904244\ttotal: 746ms\tremaining: 376ms\n",
      "665:\tlearn: 0.0903016\ttotal: 747ms\tremaining: 375ms\n",
      "666:\tlearn: 0.0902099\ttotal: 748ms\tremaining: 374ms\n",
      "667:\tlearn: 0.0900406\ttotal: 749ms\tremaining: 372ms\n",
      "668:\tlearn: 0.0899683\ttotal: 750ms\tremaining: 371ms\n",
      "669:\tlearn: 0.0898766\ttotal: 752ms\tremaining: 370ms\n",
      "670:\tlearn: 0.0896788\ttotal: 753ms\tremaining: 369ms\n",
      "671:\tlearn: 0.0896676\ttotal: 754ms\tremaining: 368ms\n",
      "672:\tlearn: 0.0895885\ttotal: 755ms\tremaining: 367ms\n",
      "673:\tlearn: 0.0893744\ttotal: 756ms\tremaining: 366ms\n",
      "674:\tlearn: 0.0892385\ttotal: 757ms\tremaining: 365ms\n",
      "675:\tlearn: 0.0892157\ttotal: 758ms\tremaining: 363ms\n",
      "676:\tlearn: 0.0891955\ttotal: 759ms\tremaining: 362ms\n",
      "677:\tlearn: 0.0890335\ttotal: 760ms\tremaining: 361ms\n",
      "678:\tlearn: 0.0889865\ttotal: 761ms\tremaining: 360ms\n",
      "679:\tlearn: 0.0887530\ttotal: 762ms\tremaining: 359ms\n",
      "680:\tlearn: 0.0886315\ttotal: 764ms\tremaining: 358ms\n",
      "681:\tlearn: 0.0885301\ttotal: 765ms\tremaining: 357ms\n",
      "682:\tlearn: 0.0883463\ttotal: 766ms\tremaining: 355ms\n",
      "683:\tlearn: 0.0883262\ttotal: 767ms\tremaining: 354ms\n",
      "684:\tlearn: 0.0880655\ttotal: 768ms\tremaining: 353ms\n",
      "685:\tlearn: 0.0878077\ttotal: 769ms\tremaining: 352ms\n",
      "686:\tlearn: 0.0877589\ttotal: 770ms\tremaining: 351ms\n",
      "687:\tlearn: 0.0875943\ttotal: 771ms\tremaining: 350ms\n",
      "688:\tlearn: 0.0873726\ttotal: 772ms\tremaining: 349ms\n",
      "689:\tlearn: 0.0872394\ttotal: 773ms\tremaining: 347ms\n",
      "690:\tlearn: 0.0869371\ttotal: 774ms\tremaining: 346ms\n",
      "691:\tlearn: 0.0866772\ttotal: 775ms\tremaining: 345ms\n",
      "692:\tlearn: 0.0866649\ttotal: 776ms\tremaining: 344ms\n",
      "693:\tlearn: 0.0866543\ttotal: 777ms\tremaining: 343ms\n",
      "694:\tlearn: 0.0865874\ttotal: 778ms\tremaining: 342ms\n",
      "695:\tlearn: 0.0864049\ttotal: 779ms\tremaining: 340ms\n",
      "696:\tlearn: 0.0861899\ttotal: 780ms\tremaining: 339ms\n",
      "697:\tlearn: 0.0860990\ttotal: 781ms\tremaining: 338ms\n",
      "698:\tlearn: 0.0860897\ttotal: 782ms\tremaining: 337ms\n",
      "699:\tlearn: 0.0859038\ttotal: 783ms\tremaining: 336ms\n",
      "700:\tlearn: 0.0857393\ttotal: 784ms\tremaining: 335ms\n",
      "701:\tlearn: 0.0855507\ttotal: 785ms\tremaining: 333ms\n",
      "702:\tlearn: 0.0854305\ttotal: 786ms\tremaining: 332ms\n",
      "703:\tlearn: 0.0853009\ttotal: 787ms\tremaining: 331ms\n",
      "704:\tlearn: 0.0851946\ttotal: 788ms\tremaining: 330ms\n",
      "705:\tlearn: 0.0850761\ttotal: 789ms\tremaining: 329ms\n",
      "706:\tlearn: 0.0848352\ttotal: 790ms\tremaining: 328ms\n",
      "707:\tlearn: 0.0847679\ttotal: 791ms\tremaining: 326ms\n",
      "708:\tlearn: 0.0846487\ttotal: 792ms\tremaining: 325ms\n",
      "709:\tlearn: 0.0844643\ttotal: 793ms\tremaining: 324ms\n",
      "710:\tlearn: 0.0843374\ttotal: 794ms\tremaining: 323ms\n",
      "711:\tlearn: 0.0842727\ttotal: 795ms\tremaining: 322ms\n",
      "712:\tlearn: 0.0840633\ttotal: 796ms\tremaining: 321ms\n",
      "713:\tlearn: 0.0837948\ttotal: 797ms\tremaining: 319ms\n",
      "714:\tlearn: 0.0836801\ttotal: 798ms\tremaining: 318ms\n",
      "715:\tlearn: 0.0836549\ttotal: 799ms\tremaining: 317ms\n",
      "716:\tlearn: 0.0834603\ttotal: 800ms\tremaining: 316ms\n",
      "717:\tlearn: 0.0832649\ttotal: 801ms\tremaining: 315ms\n",
      "718:\tlearn: 0.0831890\ttotal: 802ms\tremaining: 314ms\n",
      "719:\tlearn: 0.0831215\ttotal: 803ms\tremaining: 312ms\n",
      "720:\tlearn: 0.0829185\ttotal: 804ms\tremaining: 311ms\n",
      "721:\tlearn: 0.0828532\ttotal: 805ms\tremaining: 310ms\n",
      "722:\tlearn: 0.0827481\ttotal: 806ms\tremaining: 309ms\n",
      "723:\tlearn: 0.0825346\ttotal: 807ms\tremaining: 308ms\n",
      "724:\tlearn: 0.0824548\ttotal: 808ms\tremaining: 307ms\n",
      "725:\tlearn: 0.0822155\ttotal: 809ms\tremaining: 305ms\n",
      "726:\tlearn: 0.0820404\ttotal: 810ms\tremaining: 304ms\n",
      "727:\tlearn: 0.0819381\ttotal: 811ms\tremaining: 303ms\n",
      "728:\tlearn: 0.0819297\ttotal: 812ms\tremaining: 302ms\n"
     ]
    },
    {
     "name": "stdout",
     "output_type": "stream",
     "text": [
      "729:\tlearn: 0.0819201\ttotal: 813ms\tremaining: 301ms\n",
      "730:\tlearn: 0.0817382\ttotal: 815ms\tremaining: 300ms\n",
      "731:\tlearn: 0.0816876\ttotal: 816ms\tremaining: 299ms\n",
      "732:\tlearn: 0.0815646\ttotal: 817ms\tremaining: 297ms\n",
      "733:\tlearn: 0.0814767\ttotal: 818ms\tremaining: 296ms\n",
      "734:\tlearn: 0.0813420\ttotal: 819ms\tremaining: 295ms\n",
      "735:\tlearn: 0.0811393\ttotal: 820ms\tremaining: 294ms\n",
      "736:\tlearn: 0.0810997\ttotal: 821ms\tremaining: 293ms\n",
      "737:\tlearn: 0.0809424\ttotal: 822ms\tremaining: 292ms\n",
      "738:\tlearn: 0.0807338\ttotal: 823ms\tremaining: 291ms\n",
      "739:\tlearn: 0.0806377\ttotal: 824ms\tremaining: 289ms\n",
      "740:\tlearn: 0.0805111\ttotal: 825ms\tremaining: 288ms\n",
      "741:\tlearn: 0.0804194\ttotal: 826ms\tremaining: 287ms\n",
      "742:\tlearn: 0.0803177\ttotal: 827ms\tremaining: 286ms\n",
      "743:\tlearn: 0.0802264\ttotal: 828ms\tremaining: 285ms\n",
      "744:\tlearn: 0.0799858\ttotal: 829ms\tremaining: 284ms\n",
      "745:\tlearn: 0.0797488\ttotal: 830ms\tremaining: 283ms\n",
      "746:\tlearn: 0.0796216\ttotal: 831ms\tremaining: 281ms\n",
      "747:\tlearn: 0.0794308\ttotal: 832ms\tremaining: 280ms\n",
      "748:\tlearn: 0.0793733\ttotal: 833ms\tremaining: 279ms\n",
      "749:\tlearn: 0.0791350\ttotal: 834ms\tremaining: 278ms\n",
      "750:\tlearn: 0.0790704\ttotal: 835ms\tremaining: 277ms\n",
      "751:\tlearn: 0.0790493\ttotal: 836ms\tremaining: 276ms\n",
      "752:\tlearn: 0.0788893\ttotal: 837ms\tremaining: 275ms\n",
      "753:\tlearn: 0.0786764\ttotal: 838ms\tremaining: 273ms\n",
      "754:\tlearn: 0.0785767\ttotal: 839ms\tremaining: 272ms\n",
      "755:\tlearn: 0.0785615\ttotal: 840ms\tremaining: 271ms\n",
      "756:\tlearn: 0.0783465\ttotal: 841ms\tremaining: 270ms\n",
      "757:\tlearn: 0.0781007\ttotal: 842ms\tremaining: 269ms\n",
      "758:\tlearn: 0.0779883\ttotal: 843ms\tremaining: 268ms\n",
      "759:\tlearn: 0.0778389\ttotal: 844ms\tremaining: 267ms\n",
      "760:\tlearn: 0.0776357\ttotal: 845ms\tremaining: 266ms\n",
      "761:\tlearn: 0.0776222\ttotal: 846ms\tremaining: 264ms\n",
      "762:\tlearn: 0.0774815\ttotal: 848ms\tremaining: 263ms\n",
      "763:\tlearn: 0.0772971\ttotal: 849ms\tremaining: 262ms\n",
      "764:\tlearn: 0.0772237\ttotal: 850ms\tremaining: 261ms\n",
      "765:\tlearn: 0.0770665\ttotal: 851ms\tremaining: 260ms\n",
      "766:\tlearn: 0.0769138\ttotal: 852ms\tremaining: 259ms\n",
      "767:\tlearn: 0.0768861\ttotal: 853ms\tremaining: 258ms\n",
      "768:\tlearn: 0.0767777\ttotal: 854ms\tremaining: 256ms\n",
      "769:\tlearn: 0.0766603\ttotal: 855ms\tremaining: 255ms\n",
      "770:\tlearn: 0.0764967\ttotal: 856ms\tremaining: 254ms\n",
      "771:\tlearn: 0.0764551\ttotal: 857ms\tremaining: 253ms\n",
      "772:\tlearn: 0.0763445\ttotal: 858ms\tremaining: 252ms\n",
      "773:\tlearn: 0.0763325\ttotal: 859ms\tremaining: 251ms\n",
      "774:\tlearn: 0.0762709\ttotal: 860ms\tremaining: 250ms\n",
      "775:\tlearn: 0.0760485\ttotal: 861ms\tremaining: 248ms\n",
      "776:\tlearn: 0.0758557\ttotal: 862ms\tremaining: 247ms\n",
      "777:\tlearn: 0.0757583\ttotal: 863ms\tremaining: 246ms\n",
      "778:\tlearn: 0.0755981\ttotal: 864ms\tremaining: 245ms\n",
      "779:\tlearn: 0.0754622\ttotal: 865ms\tremaining: 244ms\n",
      "780:\tlearn: 0.0754389\ttotal: 866ms\tremaining: 243ms\n",
      "781:\tlearn: 0.0753401\ttotal: 867ms\tremaining: 242ms\n",
      "782:\tlearn: 0.0752798\ttotal: 868ms\tremaining: 241ms\n",
      "783:\tlearn: 0.0752549\ttotal: 869ms\tremaining: 239ms\n",
      "784:\tlearn: 0.0752001\ttotal: 870ms\tremaining: 238ms\n",
      "785:\tlearn: 0.0750703\ttotal: 871ms\tremaining: 237ms\n",
      "786:\tlearn: 0.0749816\ttotal: 872ms\tremaining: 236ms\n",
      "787:\tlearn: 0.0748956\ttotal: 873ms\tremaining: 235ms\n",
      "788:\tlearn: 0.0748872\ttotal: 874ms\tremaining: 234ms\n",
      "789:\tlearn: 0.0748786\ttotal: 875ms\tremaining: 233ms\n",
      "790:\tlearn: 0.0748666\ttotal: 876ms\tremaining: 231ms\n",
      "791:\tlearn: 0.0747640\ttotal: 877ms\tremaining: 230ms\n",
      "792:\tlearn: 0.0746313\ttotal: 878ms\tremaining: 229ms\n",
      "793:\tlearn: 0.0744485\ttotal: 879ms\tremaining: 228ms\n",
      "794:\tlearn: 0.0744368\ttotal: 880ms\tremaining: 227ms\n",
      "795:\tlearn: 0.0744278\ttotal: 881ms\tremaining: 226ms\n",
      "796:\tlearn: 0.0743472\ttotal: 882ms\tremaining: 225ms\n",
      "797:\tlearn: 0.0742049\ttotal: 883ms\tremaining: 224ms\n",
      "798:\tlearn: 0.0740183\ttotal: 884ms\tremaining: 222ms\n",
      "799:\tlearn: 0.0740074\ttotal: 885ms\tremaining: 221ms\n",
      "800:\tlearn: 0.0737663\ttotal: 886ms\tremaining: 220ms\n",
      "801:\tlearn: 0.0735438\ttotal: 887ms\tremaining: 219ms\n",
      "802:\tlearn: 0.0735372\ttotal: 888ms\tremaining: 218ms\n",
      "803:\tlearn: 0.0735294\ttotal: 889ms\tremaining: 217ms\n",
      "804:\tlearn: 0.0734574\ttotal: 890ms\tremaining: 216ms\n",
      "805:\tlearn: 0.0733826\ttotal: 891ms\tremaining: 215ms\n",
      "806:\tlearn: 0.0732093\ttotal: 892ms\tremaining: 213ms\n",
      "807:\tlearn: 0.0731415\ttotal: 893ms\tremaining: 212ms\n",
      "808:\tlearn: 0.0730114\ttotal: 894ms\tremaining: 211ms\n",
      "809:\tlearn: 0.0729259\ttotal: 895ms\tremaining: 210ms\n",
      "810:\tlearn: 0.0728558\ttotal: 896ms\tremaining: 209ms\n",
      "811:\tlearn: 0.0727164\ttotal: 897ms\tremaining: 208ms\n",
      "812:\tlearn: 0.0725635\ttotal: 898ms\tremaining: 207ms\n",
      "813:\tlearn: 0.0724848\ttotal: 899ms\tremaining: 206ms\n",
      "814:\tlearn: 0.0723538\ttotal: 900ms\tremaining: 204ms\n",
      "815:\tlearn: 0.0721035\ttotal: 901ms\tremaining: 203ms\n",
      "816:\tlearn: 0.0720912\ttotal: 902ms\tremaining: 202ms\n",
      "817:\tlearn: 0.0719632\ttotal: 903ms\tremaining: 201ms\n",
      "818:\tlearn: 0.0718593\ttotal: 905ms\tremaining: 200ms\n",
      "819:\tlearn: 0.0717803\ttotal: 906ms\tremaining: 199ms\n",
      "820:\tlearn: 0.0717572\ttotal: 907ms\tremaining: 198ms\n",
      "821:\tlearn: 0.0716594\ttotal: 908ms\tremaining: 197ms\n",
      "822:\tlearn: 0.0715119\ttotal: 909ms\tremaining: 195ms\n",
      "823:\tlearn: 0.0713843\ttotal: 910ms\tremaining: 194ms\n",
      "824:\tlearn: 0.0711480\ttotal: 911ms\tremaining: 193ms\n",
      "825:\tlearn: 0.0710231\ttotal: 912ms\tremaining: 192ms\n",
      "826:\tlearn: 0.0708828\ttotal: 913ms\tremaining: 191ms\n",
      "827:\tlearn: 0.0707141\ttotal: 914ms\tremaining: 190ms\n",
      "828:\tlearn: 0.0706199\ttotal: 915ms\tremaining: 189ms\n",
      "829:\tlearn: 0.0705959\ttotal: 916ms\tremaining: 188ms\n",
      "830:\tlearn: 0.0705381\ttotal: 917ms\tremaining: 186ms\n",
      "831:\tlearn: 0.0703893\ttotal: 918ms\tremaining: 185ms\n",
      "832:\tlearn: 0.0703450\ttotal: 918ms\tremaining: 184ms\n",
      "833:\tlearn: 0.0702201\ttotal: 919ms\tremaining: 183ms\n",
      "834:\tlearn: 0.0700838\ttotal: 920ms\tremaining: 182ms\n",
      "835:\tlearn: 0.0699402\ttotal: 921ms\tremaining: 181ms\n",
      "836:\tlearn: 0.0697821\ttotal: 922ms\tremaining: 180ms\n",
      "837:\tlearn: 0.0696431\ttotal: 923ms\tremaining: 179ms\n",
      "838:\tlearn: 0.0694885\ttotal: 924ms\tremaining: 177ms\n",
      "839:\tlearn: 0.0693444\ttotal: 926ms\tremaining: 176ms\n",
      "840:\tlearn: 0.0691597\ttotal: 927ms\tremaining: 175ms\n",
      "841:\tlearn: 0.0690451\ttotal: 928ms\tremaining: 174ms\n",
      "842:\tlearn: 0.0689917\ttotal: 929ms\tremaining: 173ms\n",
      "843:\tlearn: 0.0688955\ttotal: 930ms\tremaining: 172ms\n",
      "844:\tlearn: 0.0687583\ttotal: 931ms\tremaining: 171ms\n",
      "845:\tlearn: 0.0686643\ttotal: 932ms\tremaining: 170ms\n",
      "846:\tlearn: 0.0686514\ttotal: 933ms\tremaining: 169ms\n",
      "847:\tlearn: 0.0684838\ttotal: 934ms\tremaining: 167ms\n",
      "848:\tlearn: 0.0683505\ttotal: 935ms\tremaining: 166ms\n",
      "849:\tlearn: 0.0681813\ttotal: 936ms\tremaining: 165ms\n",
      "850:\tlearn: 0.0681190\ttotal: 937ms\tremaining: 164ms\n",
      "851:\tlearn: 0.0679595\ttotal: 938ms\tremaining: 163ms\n",
      "852:\tlearn: 0.0678203\ttotal: 939ms\tremaining: 162ms\n",
      "853:\tlearn: 0.0677269\ttotal: 940ms\tremaining: 161ms\n",
      "854:\tlearn: 0.0677188\ttotal: 941ms\tremaining: 160ms\n"
     ]
    },
    {
     "name": "stdout",
     "output_type": "stream",
     "text": [
      "855:\tlearn: 0.0676185\ttotal: 942ms\tremaining: 159ms\n",
      "856:\tlearn: 0.0674365\ttotal: 944ms\tremaining: 157ms\n",
      "857:\tlearn: 0.0673432\ttotal: 945ms\tremaining: 156ms\n",
      "858:\tlearn: 0.0672615\ttotal: 946ms\tremaining: 155ms\n",
      "859:\tlearn: 0.0671806\ttotal: 947ms\tremaining: 154ms\n",
      "860:\tlearn: 0.0670351\ttotal: 948ms\tremaining: 153ms\n",
      "861:\tlearn: 0.0669073\ttotal: 949ms\tremaining: 152ms\n",
      "862:\tlearn: 0.0668809\ttotal: 950ms\tremaining: 151ms\n",
      "863:\tlearn: 0.0667599\ttotal: 951ms\tremaining: 150ms\n",
      "864:\tlearn: 0.0666007\ttotal: 952ms\tremaining: 149ms\n",
      "865:\tlearn: 0.0664648\ttotal: 953ms\tremaining: 147ms\n",
      "866:\tlearn: 0.0663076\ttotal: 954ms\tremaining: 146ms\n",
      "867:\tlearn: 0.0661554\ttotal: 955ms\tremaining: 145ms\n",
      "868:\tlearn: 0.0660597\ttotal: 956ms\tremaining: 144ms\n",
      "869:\tlearn: 0.0659604\ttotal: 957ms\tremaining: 143ms\n",
      "870:\tlearn: 0.0658023\ttotal: 958ms\tremaining: 142ms\n",
      "871:\tlearn: 0.0657112\ttotal: 959ms\tremaining: 141ms\n",
      "872:\tlearn: 0.0655756\ttotal: 960ms\tremaining: 140ms\n",
      "873:\tlearn: 0.0655686\ttotal: 961ms\tremaining: 139ms\n",
      "874:\tlearn: 0.0654605\ttotal: 963ms\tremaining: 138ms\n",
      "875:\tlearn: 0.0653213\ttotal: 963ms\tremaining: 136ms\n",
      "876:\tlearn: 0.0652715\ttotal: 964ms\tremaining: 135ms\n",
      "877:\tlearn: 0.0651714\ttotal: 965ms\tremaining: 134ms\n",
      "878:\tlearn: 0.0651604\ttotal: 966ms\tremaining: 133ms\n",
      "879:\tlearn: 0.0650611\ttotal: 967ms\tremaining: 132ms\n",
      "880:\tlearn: 0.0649036\ttotal: 969ms\tremaining: 131ms\n",
      "881:\tlearn: 0.0647743\ttotal: 970ms\tremaining: 130ms\n",
      "882:\tlearn: 0.0646727\ttotal: 971ms\tremaining: 129ms\n",
      "883:\tlearn: 0.0645454\ttotal: 972ms\tremaining: 128ms\n",
      "884:\tlearn: 0.0643983\ttotal: 973ms\tremaining: 126ms\n",
      "885:\tlearn: 0.0642688\ttotal: 974ms\tremaining: 125ms\n",
      "886:\tlearn: 0.0641423\ttotal: 975ms\tremaining: 124ms\n",
      "887:\tlearn: 0.0641375\ttotal: 976ms\tremaining: 123ms\n",
      "888:\tlearn: 0.0640456\ttotal: 977ms\tremaining: 122ms\n",
      "889:\tlearn: 0.0639258\ttotal: 978ms\tremaining: 121ms\n",
      "890:\tlearn: 0.0638782\ttotal: 979ms\tremaining: 120ms\n",
      "891:\tlearn: 0.0638347\ttotal: 980ms\tremaining: 119ms\n",
      "892:\tlearn: 0.0637313\ttotal: 981ms\tremaining: 118ms\n",
      "893:\tlearn: 0.0637232\ttotal: 982ms\tremaining: 116ms\n",
      "894:\tlearn: 0.0636070\ttotal: 983ms\tremaining: 115ms\n",
      "895:\tlearn: 0.0634646\ttotal: 984ms\tremaining: 114ms\n",
      "896:\tlearn: 0.0634126\ttotal: 985ms\tremaining: 113ms\n",
      "897:\tlearn: 0.0633624\ttotal: 986ms\tremaining: 112ms\n",
      "898:\tlearn: 0.0632460\ttotal: 987ms\tremaining: 111ms\n",
      "899:\tlearn: 0.0632262\ttotal: 988ms\tremaining: 110ms\n",
      "900:\tlearn: 0.0632181\ttotal: 989ms\tremaining: 109ms\n",
      "901:\tlearn: 0.0630815\ttotal: 990ms\tremaining: 108ms\n",
      "902:\tlearn: 0.0630155\ttotal: 991ms\tremaining: 106ms\n",
      "903:\tlearn: 0.0628833\ttotal: 992ms\tremaining: 105ms\n",
      "904:\tlearn: 0.0627790\ttotal: 993ms\tremaining: 104ms\n",
      "905:\tlearn: 0.0626806\ttotal: 994ms\tremaining: 103ms\n",
      "906:\tlearn: 0.0625800\ttotal: 995ms\tremaining: 102ms\n",
      "907:\tlearn: 0.0625011\ttotal: 996ms\tremaining: 101ms\n",
      "908:\tlearn: 0.0623702\ttotal: 997ms\tremaining: 99.8ms\n",
      "909:\tlearn: 0.0622578\ttotal: 998ms\tremaining: 98.7ms\n",
      "910:\tlearn: 0.0622112\ttotal: 999ms\tremaining: 97.6ms\n",
      "911:\tlearn: 0.0620762\ttotal: 1s\tremaining: 96.5ms\n",
      "912:\tlearn: 0.0619718\ttotal: 1s\tremaining: 95.4ms\n",
      "913:\tlearn: 0.0618010\ttotal: 1s\tremaining: 94.3ms\n",
      "914:\tlearn: 0.0616742\ttotal: 1s\tremaining: 93.2ms\n",
      "915:\tlearn: 0.0615414\ttotal: 1s\tremaining: 92.1ms\n",
      "916:\tlearn: 0.0614595\ttotal: 1s\tremaining: 91ms\n",
      "917:\tlearn: 0.0614117\ttotal: 1.01s\tremaining: 89.9ms\n",
      "918:\tlearn: 0.0613840\ttotal: 1.01s\tremaining: 88.8ms\n",
      "919:\tlearn: 0.0612825\ttotal: 1.01s\tremaining: 87.7ms\n",
      "920:\tlearn: 0.0611935\ttotal: 1.01s\tremaining: 86.6ms\n",
      "921:\tlearn: 0.0610506\ttotal: 1.01s\tremaining: 85.5ms\n",
      "922:\tlearn: 0.0609527\ttotal: 1.01s\tremaining: 84.3ms\n",
      "923:\tlearn: 0.0608425\ttotal: 1.01s\tremaining: 83.2ms\n",
      "924:\tlearn: 0.0607355\ttotal: 1.01s\tremaining: 82.1ms\n",
      "925:\tlearn: 0.0606509\ttotal: 1.01s\tremaining: 81ms\n",
      "926:\tlearn: 0.0605882\ttotal: 1.01s\tremaining: 79.9ms\n",
      "927:\tlearn: 0.0604472\ttotal: 1.01s\tremaining: 78.8ms\n",
      "928:\tlearn: 0.0603254\ttotal: 1.02s\tremaining: 77.7ms\n",
      "929:\tlearn: 0.0601934\ttotal: 1.02s\tremaining: 76.6ms\n",
      "930:\tlearn: 0.0601045\ttotal: 1.02s\tremaining: 75.5ms\n",
      "931:\tlearn: 0.0600144\ttotal: 1.02s\tremaining: 74.4ms\n",
      "932:\tlearn: 0.0598809\ttotal: 1.02s\tremaining: 73.3ms\n",
      "933:\tlearn: 0.0598257\ttotal: 1.02s\tremaining: 72.2ms\n",
      "934:\tlearn: 0.0597107\ttotal: 1.02s\tremaining: 71.1ms\n",
      "935:\tlearn: 0.0596620\ttotal: 1.02s\tremaining: 70ms\n",
      "936:\tlearn: 0.0595119\ttotal: 1.02s\tremaining: 68.9ms\n",
      "937:\tlearn: 0.0593746\ttotal: 1.03s\tremaining: 67.8ms\n",
      "938:\tlearn: 0.0593358\ttotal: 1.03s\tremaining: 66.7ms\n",
      "939:\tlearn: 0.0592421\ttotal: 1.03s\tremaining: 65.6ms\n",
      "940:\tlearn: 0.0591896\ttotal: 1.03s\tremaining: 64.5ms\n",
      "941:\tlearn: 0.0590705\ttotal: 1.03s\tremaining: 63.4ms\n",
      "942:\tlearn: 0.0589489\ttotal: 1.03s\tremaining: 62.3ms\n",
      "943:\tlearn: 0.0588515\ttotal: 1.03s\tremaining: 61.2ms\n",
      "944:\tlearn: 0.0587456\ttotal: 1.03s\tremaining: 60.1ms\n",
      "945:\tlearn: 0.0586376\ttotal: 1.03s\tremaining: 59ms\n",
      "946:\tlearn: 0.0585072\ttotal: 1.03s\tremaining: 57.9ms\n",
      "947:\tlearn: 0.0584246\ttotal: 1.04s\tremaining: 56.8ms\n",
      "948:\tlearn: 0.0583110\ttotal: 1.04s\tremaining: 55.7ms\n",
      "949:\tlearn: 0.0582095\ttotal: 1.04s\tremaining: 54.7ms\n",
      "950:\tlearn: 0.0581730\ttotal: 1.04s\tremaining: 53.6ms\n",
      "951:\tlearn: 0.0580608\ttotal: 1.04s\tremaining: 52.5ms\n",
      "952:\tlearn: 0.0580176\ttotal: 1.04s\tremaining: 51.4ms\n",
      "953:\tlearn: 0.0578692\ttotal: 1.04s\tremaining: 50.3ms\n",
      "954:\tlearn: 0.0578038\ttotal: 1.04s\tremaining: 49.2ms\n",
      "955:\tlearn: 0.0576384\ttotal: 1.04s\tremaining: 48.1ms\n",
      "956:\tlearn: 0.0576067\ttotal: 1.04s\tremaining: 47ms\n",
      "957:\tlearn: 0.0574845\ttotal: 1.05s\tremaining: 45.9ms\n",
      "958:\tlearn: 0.0574104\ttotal: 1.05s\tremaining: 44.8ms\n",
      "959:\tlearn: 0.0572852\ttotal: 1.05s\tremaining: 43.7ms\n",
      "960:\tlearn: 0.0572794\ttotal: 1.05s\tremaining: 42.6ms\n",
      "961:\tlearn: 0.0572118\ttotal: 1.05s\tremaining: 41.5ms\n",
      "962:\tlearn: 0.0571575\ttotal: 1.05s\tremaining: 40.4ms\n",
      "963:\tlearn: 0.0570252\ttotal: 1.05s\tremaining: 39.3ms\n",
      "964:\tlearn: 0.0569597\ttotal: 1.05s\tremaining: 38.2ms\n",
      "965:\tlearn: 0.0569420\ttotal: 1.05s\tremaining: 37.1ms\n",
      "966:\tlearn: 0.0568794\ttotal: 1.06s\tremaining: 36ms\n",
      "967:\tlearn: 0.0567470\ttotal: 1.06s\tremaining: 35ms\n",
      "968:\tlearn: 0.0566883\ttotal: 1.06s\tremaining: 33.9ms\n",
      "969:\tlearn: 0.0565721\ttotal: 1.06s\tremaining: 32.8ms\n",
      "970:\tlearn: 0.0564751\ttotal: 1.06s\tremaining: 31.7ms\n",
      "971:\tlearn: 0.0563695\ttotal: 1.06s\tremaining: 30.6ms\n",
      "972:\tlearn: 0.0562553\ttotal: 1.06s\tremaining: 29.5ms\n",
      "973:\tlearn: 0.0561989\ttotal: 1.06s\tremaining: 28.4ms\n",
      "974:\tlearn: 0.0561619\ttotal: 1.06s\tremaining: 27.3ms\n",
      "975:\tlearn: 0.0560687\ttotal: 1.06s\tremaining: 26.2ms\n",
      "976:\tlearn: 0.0559823\ttotal: 1.07s\tremaining: 25.1ms\n",
      "977:\tlearn: 0.0558807\ttotal: 1.07s\tremaining: 24ms\n",
      "978:\tlearn: 0.0557828\ttotal: 1.07s\tremaining: 22.9ms\n",
      "979:\tlearn: 0.0556650\ttotal: 1.07s\tremaining: 21.8ms\n",
      "980:\tlearn: 0.0555860\ttotal: 1.07s\tremaining: 20.7ms\n",
      "981:\tlearn: 0.0555181\ttotal: 1.07s\tremaining: 19.6ms\n",
      "982:\tlearn: 0.0554749\ttotal: 1.07s\tremaining: 18.5ms\n",
      "983:\tlearn: 0.0553672\ttotal: 1.07s\tremaining: 17.5ms\n",
      "984:\tlearn: 0.0553178\ttotal: 1.07s\tremaining: 16.4ms\n",
      "985:\tlearn: 0.0551973\ttotal: 1.07s\tremaining: 15.3ms\n"
     ]
    },
    {
     "name": "stdout",
     "output_type": "stream",
     "text": [
      "986:\tlearn: 0.0550988\ttotal: 1.08s\tremaining: 14.2ms\n",
      "987:\tlearn: 0.0550924\ttotal: 1.08s\tremaining: 13.1ms\n",
      "988:\tlearn: 0.0549785\ttotal: 1.08s\tremaining: 12ms\n",
      "989:\tlearn: 0.0549524\ttotal: 1.08s\tremaining: 10.9ms\n",
      "990:\tlearn: 0.0548643\ttotal: 1.08s\tremaining: 9.82ms\n",
      "991:\tlearn: 0.0547902\ttotal: 1.08s\tremaining: 8.73ms\n",
      "992:\tlearn: 0.0547529\ttotal: 1.08s\tremaining: 7.64ms\n",
      "993:\tlearn: 0.0546080\ttotal: 1.08s\tremaining: 6.54ms\n",
      "994:\tlearn: 0.0544781\ttotal: 1.08s\tremaining: 5.45ms\n",
      "995:\tlearn: 0.0544717\ttotal: 1.09s\tremaining: 4.36ms\n",
      "996:\tlearn: 0.0544421\ttotal: 1.09s\tremaining: 3.27ms\n",
      "997:\tlearn: 0.0544154\ttotal: 1.09s\tremaining: 2.18ms\n",
      "998:\tlearn: 0.0543053\ttotal: 1.09s\tremaining: 1.09ms\n",
      "999:\tlearn: 0.0542123\ttotal: 1.09s\tremaining: 0us\n"
     ]
    },
    {
     "data": {
      "text/plain": [
       "<catboost.core.CatBoostRegressor at 0x7fc90a0104d0>"
      ]
     },
     "execution_count": 9,
     "metadata": {},
     "output_type": "execute_result"
    }
   ],
   "source": [
    "#Train the Model \n",
    "prior_model = ctb.CatBoostRegressor()\n",
    "prior_model.fit(X_train,Y_train)"
   ]
  },
  {
   "cell_type": "code",
   "execution_count": 10,
   "id": "c775fd81",
   "metadata": {
    "execution": {
     "iopub.execute_input": "2022-01-14T15:23:57.392020Z",
     "iopub.status.busy": "2022-01-14T15:23:57.391341Z",
     "iopub.status.idle": "2022-01-14T15:23:57.404818Z",
     "shell.execute_reply": "2022-01-14T15:23:57.405297Z"
    },
    "papermill": {
     "duration": 0.048441,
     "end_time": "2022-01-14T15:23:57.405505",
     "exception": false,
     "start_time": "2022-01-14T15:23:57.357064",
     "status": "completed"
    },
    "tags": []
   },
   "outputs": [
    {
     "data": {
      "application/scrapbook.scrap.json+json": {
       "data": 0.16039878160325763,
       "encoder": "json",
       "name": "Prior Model MSE",
       "version": 1
      }
     },
     "metadata": {
      "scrapbook": {
       "data": true,
       "display": false,
       "name": "Prior Model MSE"
      }
     },
     "output_type": "display_data"
    },
    {
     "data": {
      "application/scrapbook.scrap.json+json": {
       "data": 0.17203434787620495,
       "encoder": "json",
       "name": "ABC Pre-generator MSE",
       "version": 1
      }
     },
     "metadata": {
      "scrapbook": {
       "data": true,
       "display": false,
       "name": "ABC Pre-generator MSE"
      }
     },
     "output_type": "display_data"
    }
   ],
   "source": [
    "y_pred = prior_model.predict(X_test)\n",
    "y_abc = y_pred + np.random.normal(0,variance, y_pred.shape)\n",
    "mse = mean_squared_error(y_pred,Y_test)\n",
    "sb.glue(\"Prior Model MSE\",mse)\n",
    "mse = mean_squared_error(y_abc,Y_test)\n",
    "sb.glue(\"ABC Pre-generator MSE\",mse)"
   ]
  },
  {
   "cell_type": "markdown",
   "id": "0cd0def6",
   "metadata": {
    "papermill": {
     "duration": 0.02963,
     "end_time": "2022-01-14T15:23:57.465365",
     "exception": false,
     "start_time": "2022-01-14T15:23:57.435735",
     "status": "completed"
    },
    "tags": []
   },
   "source": [
    "# ABC GAN Model"
   ]
  },
  {
   "cell_type": "markdown",
   "id": "70beaf4c",
   "metadata": {
    "papermill": {
     "duration": 0.031228,
     "end_time": "2022-01-14T15:23:57.527730",
     "exception": false,
     "start_time": "2022-01-14T15:23:57.496502",
     "status": "completed"
    },
    "tags": []
   },
   "source": [
    "### Training the network\n",
    "**Training ABC-GAN for n_epochs number of epochs** "
   ]
  },
  {
   "cell_type": "code",
   "execution_count": 11,
   "id": "dbaaafa1",
   "metadata": {
    "execution": {
     "iopub.execute_input": "2022-01-14T15:23:57.617542Z",
     "iopub.status.busy": "2022-01-14T15:23:57.616892Z",
     "iopub.status.idle": "2022-01-14T15:24:00.610217Z",
     "shell.execute_reply": "2022-01-14T15:24:00.609671Z"
    },
    "papermill": {
     "duration": 3.052541,
     "end_time": "2022-01-14T15:24:00.610375",
     "exception": false,
     "start_time": "2022-01-14T15:23:57.557834",
     "status": "completed"
    },
    "tags": []
   },
   "outputs": [],
   "source": [
    "gen = network.Generator(n_features+1).to(device)\n",
    "disc = network.Discriminator(n_features+1).to(device)\n",
    "\n",
    "criterion = torch.nn.BCELoss()\n",
    "gen_opt = torch.optim.Adam(gen.parameters(), lr=0.001, betas=(0.5, 0.999))\n",
    "disc_opt = torch.optim.Adam(disc.parameters(), lr=0.01, betas=(0.5, 0.999))"
   ]
  },
  {
   "cell_type": "code",
   "execution_count": 12,
   "id": "6e9eeab8",
   "metadata": {
    "execution": {
     "iopub.execute_input": "2022-01-14T15:24:00.679291Z",
     "iopub.status.busy": "2022-01-14T15:24:00.678368Z",
     "iopub.status.idle": "2022-01-14T15:29:44.398563Z",
     "shell.execute_reply": "2022-01-14T15:29:44.397998Z"
    },
    "papermill": {
     "duration": 343.755411,
     "end_time": "2022-01-14T15:29:44.398724",
     "exception": false,
     "start_time": "2022-01-14T15:24:00.643313",
     "status": "completed"
    },
    "tags": []
   },
   "outputs": [
    {
     "data": {
      "image/png": "[encoded data removed]",
      "text/plain": [
       "<Figure size 432x288 with 1 Axes>"
      ]
     },
     "metadata": {
      "needs_background": "light"
     },
     "output_type": "display_data"
    },
    {
     "data": {
      "image/png": "[encoded data removed]",
      "text/plain": [
       "<Figure size 432x288 with 1 Axes>"
      ]
     },
     "metadata": {
      "needs_background": "light"
     },
     "output_type": "display_data"
    }
   ],
   "source": [
    "#Training the ABC_GAN \n",
    "ABC_train_test2.training_GAN(disc,gen,disc_opt,gen_opt,train_data,batch_size,n_epochs,criterion,prior_model,variance,device)"
   ]
  },
  {
   "cell_type": "code",
   "execution_count": 13,
   "id": "11c3082e",
   "metadata": {
    "execution": {
     "iopub.execute_input": "2022-01-14T15:29:44.468143Z",
     "iopub.status.busy": "2022-01-14T15:29:44.467518Z",
     "iopub.status.idle": "2022-01-14T15:29:44.948951Z",
     "shell.execute_reply": "2022-01-14T15:29:44.948297Z"
    },
    "papermill": {
     "duration": 0.51805,
     "end_time": "2022-01-14T15:29:44.949081",
     "exception": false,
     "start_time": "2022-01-14T15:29:44.431031",
     "status": "completed"
    },
    "tags": []
   },
   "outputs": [
    {
     "data": {
      "application/scrapbook.scrap.json+json": {
       "data": 0.3711413530496991,
       "encoder": "json",
       "name": "ABC-GAN Model 1 MSE",
       "version": 1
      }
     },
     "metadata": {
      "scrapbook": {
       "data": true,
       "display": false,
       "name": "ABC-GAN Model 1 MSE"
      }
     },
     "output_type": "display_data"
    },
    {
     "data": {
      "application/scrapbook.scrap.json+json": {
       "data": 0.4552935366336183,
       "encoder": "json",
       "name": "ABC-GAN Model 1 MAE",
       "version": 1
      }
     },
     "metadata": {
      "scrapbook": {
       "data": true,
       "display": false,
       "name": "ABC-GAN Model 1 MAE"
      }
     },
     "output_type": "display_data"
    },
    {
     "data": {
      "application/scrapbook.scrap.json+json": {
       "data": 46.43994073662907,
       "encoder": "json",
       "name": "ABC-GAN Model 1 Manhattan Distance",
       "version": 1
      }
     },
     "metadata": {
      "scrapbook": {
       "data": true,
       "display": false,
       "name": "ABC-GAN Model 1 Manhattan Distance"
      }
     },
     "output_type": "display_data"
    },
    {
     "data": {
      "application/scrapbook.scrap.json+json": {
       "data": 6.152498320272407,
       "encoder": "json",
       "name": "ABC-GAN Model 1 Euclidean distance",
       "version": 1
      }
     },
     "metadata": {
      "scrapbook": {
       "data": true,
       "display": false,
       "name": "ABC-GAN Model 1 Euclidean distance"
      }
     },
     "output_type": "display_data"
    },
    {
     "data": {
      "application/scrapbook.scrap.json+json": {
       "data": [
        [
         0.3691186610379515,
         0.37157394789398934,
         0.36949837977575656,
         0.37119908174192606,
         0.3620245984487792,
         0.37259084982017243,
         0.37308339423846565,
         0.37567106326444083,
         0.3760299051588311,
         0.3725919623112346,
         0.38332299357294175,
         0.37215183905521254,
         0.37340409920306245,
         0.3793768958412859,
         0.3643979038100377,
         0.3689106769611458,
         0.36676469689822655,
         0.379906198821496,
         0.37485111508263047,
         0.3784102889755254,
         0.36647708962792114,
         0.3699474983772075,
         0.35378470491292147,
         0.3736848731556146,
         0.3740335194661835,
         0.35970563734429634,
         0.36816917148719985,
         0.3741940621081836,
         0.37259183795078615,
         0.3680764490777832,
         0.36978031482808243,
         0.38959802621159006,
         0.3634975642077483,
         0.37207560242080034,
         0.37789194719764707,
         0.3702777856339069,
         0.36313214724316767,
         0.36922616342125464,
         0.38011526255009714,
         0.3789561395377446,
         0.3768027340525357,
         0.371845036903529,
         0.3640516998414604,
         0.3756607033125212,
         0.3701127770644422,
         0.37817254943359435,
         0.3673802666867596,
         0.3797297085474527,
         0.3733545027497121,
         0.3605146711530048,
         0.36508812258405526,
         0.3748618850021986,
         0.3763922467029077,
         0.3759688079045711,
         0.3671713929667688,
         0.377201705554499,
         0.37308697601068175,
         0.3520307061460334,
         0.3674243427115066,
         0.36365317036850686,
         0.37892184657123007,
         0.37032430453552323,
         0.36259345831169737,
         0.3854183905873985,
         0.3736141320672173,
         0.36197566597082576,
         0.36620022220140397,
         0.37657562295762653,
         0.37394346790077104,
         0.3692274227539208,
         0.37440054887916646,
         0.3800980283968396,
         0.3792165319866078,
         0.3735715329244354,
         0.3758538358682292,
         0.36827258386637257,
         0.37084958429929754,
         0.36089079883355296,
         0.37455692497146564,
         0.36605389618919965,
         0.37263111324987314,
         0.3589872071971409,
         0.36808031835068195,
         0.38369243476982245,
         0.3590366477107462,
         0.3763076094094614,
         0.3695369220983438,
         0.3713686308790475,
         0.3653601125577939,
         0.36616545359114416,
         0.37865207988938593,
         0.3732366760884441,
         0.36260131480048363,
         0.36284183859749863,
         0.36107878108536967,
         0.36171116526896147,
         0.368856911213531,
         0.37150908795637005,
         0.3771487649105117,
         0.38217508090252583
        ],
        [
         0.45080743988464567,
         0.45291770361911726,
         0.45388293575824185,
         0.4570217861830458,
         0.4509041706994906,
         0.45751347965286937,
         0.45380596293355613,
         0.4575769564082079,
         0.45619231019643885,
         0.46052900529192653,
         0.4629928673727109,
         0.4527630397191673,
         0.4549788084228103,
         0.4576023460877146,
         0.44654586190796075,
         0.4583562260000583,
         0.4560399097390473,
         0.4600715752891904,
         0.46071578250905754,
         0.45998646139039423,
         0.45179436548485186,
         0.45722292753520843,
         0.44722286278528034,
         0.4514424042210129,
         0.4552230152995417,
         0.45430027886166,
         0.4551256289066491,
         0.45567037204426586,
         0.4567235484993195,
         0.4539617957711658,
         0.45877207898735706,
         0.45930822116012376,
         0.4538617715805623,
         0.45541514013437373,
         0.46098851101180793,
         0.45784128525787415,
         0.4523259475370686,
         0.45288501594982605,
         0.45918718216867715,
         0.45599331665674553,
         0.45682467902809676,
         0.4531946145271992,
         0.4460625090709358,
         0.4628098638746522,
         0.454802741707467,
         0.46013375695831343,
         0.4506973084701481,
         0.4585566835788389,
         0.45195131415647327,
         0.45022056291025936,
         0.4620889158207266,
         0.45461154914479335,
         0.4570399387922211,
         0.4517189466175349,
         0.45634857648253147,
         0.45754751069106014,
         0.46287924156286847,
         0.44547782928737645,
         0.4548722807518846,
         0.44801893365551154,
         0.46211591139253155,
         0.45245035134219364,
         0.45673845915635136,
         0.46095286516984013,
         0.4556128848252781,
         0.45290206886791423,
         0.44643418778501015,
         0.45539696531954643,
         0.4577566098476596,
         0.4543272592401242,
         0.45943876453584026,
         0.4517719524583834,
         0.4639357254913479,
         0.46525094587830645,
         0.45932335029447485,
         0.4559570135566972,
         0.4579183013251453,
         0.4489547495145862,
         0.45626690723549795,
         0.45555031200067375,
         0.4530570788546374,
         0.44851904861884667,
         0.45273735712958024,
         0.4529789419863008,
         0.44688767044092803,
         0.4613952313403727,
         0.4514142156797735,
         0.45894263388004664,
         0.4548596443480575,
         0.4523915791171877,
         0.4529832724536605,
         0.45711651184212637,
         0.45048076085125405,
         0.45360803256249604,
         0.4452707572730587,
         0.4515765926106742,
         0.45539167146289755,
         0.4566742268244864,
         0.4592376463389134,
         0.4624471485012156
        ],
        [
         45.98235886823386,
         46.19760576914996,
         46.29605944734067,
         46.61622219067067,
         45.992225411348045,
         46.666374924592674,
         46.288208219222724,
         46.67284955363721,
         46.53161564003676,
         46.973958539776504,
         47.22527247201651,
         46.181830051355064,
         46.40783845912665,
         46.67543930094689,
         45.547677914611995,
         46.75233505200595,
         46.51607079338282,
         46.92730067949742,
         46.99300981592387,
         46.91861906182021,
         46.08302527945489,
         46.63673860859126,
         45.616732004098594,
         46.047125230543315,
         46.43274756055325,
         46.33862844388932,
         46.42281414847821,
         46.47837794851512,
         46.58580194693059,
         46.30410316865891,
         46.79475205671042,
         46.84943855833262,
         46.29390070121735,
         46.45234429370612,
         47.02082812320441,
         46.699811096303165,
         46.137246648781,
         46.194271626882255,
         46.83709258120507,
         46.511318298988044,
         46.59611726086587,
         46.22585068177432,
         45.49837592523545,
         47.20660611521453,
         46.38987965416163,
         46.93364320974797,
         45.971125463955104,
         46.77278172504157,
         46.09903404396027,
         45.922497416846454,
         47.13306941371411,
         46.370378012768924,
         46.61807375680655,
         46.07533255498856,
         46.54755480121821,
         46.669846090488136,
         47.21368263941258,
         45.4387385873124,
         46.396972636692226,
         45.697931232862175,
         47.13582296203822,
         46.14993583690375,
         46.58732283394784,
         47.01719224732369,
         46.47251425217837,
         46.19601102452725,
         45.53628715407103,
         46.450490462593734,
         46.69117420446128,
         46.341380442492664,
         46.862753982655704,
         46.08073915075511,
         47.32144400011748,
         47.45559647958726,
         46.85098173003644,
         46.507615382783115,
         46.70766673516482,
         45.79338445048779,
         46.53922453802079,
         46.466131824068725,
         46.211822043173015,
         45.74894295912236,
         46.179210427217185,
         46.20385208260268,
         45.58254238497466,
         47.06231359671801,
         46.0442499993369,
         46.81214865576476,
         46.39568372350186,
         46.143941069953144,
         46.20429379027337,
         46.62588420789689,
         45.949037606827915,
         46.268019321374595,
         45.417617241851985,
         46.060812446288764,
         46.44995048921555,
         46.58077113609761,
         46.842239926569164,
         47.16960914712399
        ],
        [
         6.135968010499326,
         6.156341664104333,
         6.139123287337302,
         6.153235436555021,
         6.076718608079156,
         6.164760066836145,
         6.16883345636138,
         6.190189694425604,
         6.193145430732333,
         6.164769270276538,
         6.25291494780155,
         6.161127135811407,
         6.171484271932674,
         6.22064654001585,
         6.096604480251597,
         6.134239076693773,
         6.1163713984370744,
         6.2249845204460215,
         6.183430580060579,
         6.212716754810539,
         6.113972778975055,
         6.142853150977579,
         6.007165712806497,
         6.173804099732408,
         6.176683494040367,
         6.057225025464898,
         6.128071106938495,
         6.178008929666152,
         6.164768241465382,
         6.1272993892851275,
         6.141464980968662,
         6.303887584148544,
         6.08906820040557,
         6.160496039031405,
         6.208460245033384,
         6.145594693327774,
         6.086006820469651,
         6.136861467311118,
         6.226697100398406,
         6.217196010489773,
         6.199506341101574,
         6.158586994121294,
         6.093707687757017,
         6.190104339821516,
         6.144225196114894,
         6.210764851628713,
         6.121502038066269,
         6.22353840446415,
         6.171074402441655,
         6.064033019171853,
         6.102375644253116,
         6.183519408089883,
         6.196128562553926,
         6.1926422798564955,
         6.119761603413194,
         6.202787596440724,
         6.1688630681098395,
         5.992256004786127,
         6.1218692371344945,
         6.090371366147363,
         6.216914697039478,
         6.145980724231355,
         6.081490997098749,
         6.269982124369627,
         6.173219700517402,
         6.0763079192075375,
         6.111662839566921,
         6.197637738822585,
         6.175939906271647,
         6.136871932906856,
         6.179713260797379,
         6.226555941809053,
         6.219331657230864,
         6.172867758043453,
         6.19169534607117,
         6.12893168132669,
         6.150338006852009,
         6.067195520256653,
         6.181003668263715,
         6.110441670722204,
         6.165093150268458,
         6.051173037858722,
         6.1273315947294344,
         6.255927456942087,
         6.051589713992193,
         6.195431878389518,
         6.1394434645194895,
         6.154640554058607,
         6.104648350306099,
         6.1113726990175214,
         6.21470129199444,
         6.170100563282683,
         6.081556882053257,
         6.083573582767357,
         6.068775467152142,
         6.074087491750022,
         6.1337920525381495,
         6.155804331811542,
         6.202352297384613,
         6.243545327140473
        ]
       ],
       "encoder": "json",
       "name": "ABC_GAN_1 Metrics",
       "version": 1
      }
     },
     "metadata": {
      "scrapbook": {
       "data": true,
       "display": false,
       "name": "ABC_GAN_1 Metrics"
      }
     },
     "output_type": "display_data"
    }
   ],
   "source": [
    "ABC_GAN1_metrics=ABC_train_test2.test_generator(gen,test_data,prior_model,variance,\"1\",device)\n",
    "sb.glue(\"ABC_GAN_1 Metrics\",ABC_GAN1_metrics)"
   ]
  },
  {
   "cell_type": "markdown",
   "id": "394a2b9d",
   "metadata": {
    "papermill": {
     "duration": 0.032665,
     "end_time": "2022-01-14T15:29:45.015699",
     "exception": false,
     "start_time": "2022-01-14T15:29:44.983034",
     "status": "completed"
    },
    "tags": []
   },
   "source": [
    "#### Sanity Checks "
   ]
  },
  {
   "cell_type": "code",
   "execution_count": 14,
   "id": "a36b3b22",
   "metadata": {
    "execution": {
     "iopub.execute_input": "2022-01-14T15:29:45.087426Z",
     "iopub.status.busy": "2022-01-14T15:29:45.086756Z",
     "iopub.status.idle": "2022-01-14T15:29:45.842836Z",
     "shell.execute_reply": "2022-01-14T15:29:45.842244Z"
    },
    "papermill": {
     "duration": 0.792994,
     "end_time": "2022-01-14T15:29:45.842982",
     "exception": false,
     "start_time": "2022-01-14T15:29:45.049988",
     "status": "completed"
    },
    "tags": []
   },
   "outputs": [
    {
     "data": {
      "image/png": "[encoded data removed]",
      "text/plain": [
       "<Figure size 432x288 with 1 Axes>"
      ]
     },
     "metadata": {
      "needs_background": "light"
     },
     "output_type": "display_data"
    },
    {
     "data": {
      "image/png": "[encoded data removed]",
      "text/plain": [
       "<Figure size 432x288 with 1 Axes>"
      ]
     },
     "metadata": {
      "needs_background": "light"
     },
     "output_type": "display_data"
    },
    {
     "data": {
      "image/png": "[encoded data removed]",
      "text/plain": [
       "<Figure size 432x288 with 1 Axes>"
      ]
     },
     "metadata": {
      "needs_background": "light"
     },
     "output_type": "display_data"
    },
    {
     "data": {
      "image/png": "[encoded data removed]",
      "text/plain": [
       "<Figure size 432x288 with 1 Axes>"
      ]
     },
     "metadata": {
      "needs_background": "light"
     },
     "output_type": "display_data"
    }
   ],
   "source": [
    "sanityChecks.discProbVsError(train_data,disc,device)\n",
    "sanityChecks.discProbVsError(test_data,disc,device)"
   ]
  },
  {
   "cell_type": "markdown",
   "id": "130f3a4d",
   "metadata": {
    "papermill": {
     "duration": 0.04015,
     "end_time": "2022-01-14T15:29:45.926792",
     "exception": false,
     "start_time": "2022-01-14T15:29:45.886642",
     "status": "completed"
    },
    "tags": []
   },
   "source": [
    "# ABC - GAN Model with skip connection"
   ]
  },
  {
   "cell_type": "code",
   "execution_count": 15,
   "id": "4e43dad1",
   "metadata": {
    "execution": {
     "iopub.execute_input": "2022-01-14T15:29:46.010926Z",
     "iopub.status.busy": "2022-01-14T15:29:46.010224Z",
     "iopub.status.idle": "2022-01-14T15:29:46.015816Z",
     "shell.execute_reply": "2022-01-14T15:29:46.015209Z"
    },
    "papermill": {
     "duration": 0.050879,
     "end_time": "2022-01-14T15:29:46.015931",
     "exception": false,
     "start_time": "2022-01-14T15:29:45.965052",
     "status": "completed"
    },
    "tags": []
   },
   "outputs": [],
   "source": [
    "#Generator\n",
    "gen3 = network.GeneratorWithSkipConnection(n_features+1).to(device)\n",
    "constraints=network.weightConstraint()\n",
    "#Discriminator \n",
    "disc3 = network.Discriminator(n_features+1).to(device)\n",
    "\n",
    "criterion = torch.nn.BCELoss()\n",
    "gen_opt = torch.optim.Adam(gen3.parameters(), lr=0.01, betas=(0.5, 0.999))\n",
    "disc_opt = torch.optim.Adam(disc3.parameters(), lr=0.01, betas=(0.5, 0.999))\n"
   ]
  },
  {
   "cell_type": "code",
   "execution_count": 16,
   "id": "26acbc37",
   "metadata": {
    "execution": {
     "iopub.execute_input": "2022-01-14T15:29:46.100049Z",
     "iopub.status.busy": "2022-01-14T15:29:46.099473Z",
     "iopub.status.idle": "2022-01-14T16:08:46.564025Z",
     "shell.execute_reply": "2022-01-14T16:08:46.563354Z"
    },
    "papermill": {
     "duration": 2340.508119,
     "end_time": "2022-01-14T16:08:46.564176",
     "exception": false,
     "start_time": "2022-01-14T15:29:46.056057",
     "status": "completed"
    },
    "tags": []
   },
   "outputs": [
    {
     "data": {
      "image/png": "[encoded data removed]",
      "text/plain": [
       "<Figure size 432x288 with 1 Axes>"
      ]
     },
     "metadata": {
      "needs_background": "light"
     },
     "output_type": "display_data"
    },
    {
     "data": {
      "image/png": "[encoded data removed]",
      "text/plain": [
       "<Figure size 432x288 with 1 Axes>"
      ]
     },
     "metadata": {
      "needs_background": "light"
     },
     "output_type": "display_data"
    }
   ],
   "source": [
    "ABC_train_test2.training_GAN_skip_connection(disc3,gen3,disc_opt,gen_opt,train_data,batch_size,n_epochs,criterion,prior_model,variance,device)\n"
   ]
  },
  {
   "cell_type": "code",
   "execution_count": 17,
   "id": "c5e0717b",
   "metadata": {
    "execution": {
     "iopub.execute_input": "2022-01-14T16:08:46.652471Z",
     "iopub.status.busy": "2022-01-14T16:08:46.651889Z",
     "iopub.status.idle": "2022-01-14T16:08:49.015701Z",
     "shell.execute_reply": "2022-01-14T16:08:49.015151Z"
    },
    "papermill": {
     "duration": 2.408758,
     "end_time": "2022-01-14T16:08:49.015832",
     "exception": false,
     "start_time": "2022-01-14T16:08:46.607074",
     "status": "completed"
    },
    "tags": []
   },
   "outputs": [
    {
     "data": {
      "application/scrapbook.scrap.json+json": {
       "data": 0.17087403253938951,
       "encoder": "json",
       "name": "ABC-GAN Model 3 MSE",
       "version": 1
      }
     },
     "metadata": {
      "scrapbook": {
       "data": true,
       "display": false,
       "name": "ABC-GAN Model 3 MSE"
      }
     },
     "output_type": "display_data"
    },
    {
     "data": {
      "application/scrapbook.scrap.json+json": {
       "data": 0.26597475340077426,
       "encoder": "json",
       "name": "ABC-GAN Model 3 MAE",
       "version": 1
      }
     },
     "metadata": {
      "scrapbook": {
       "data": true,
       "display": false,
       "name": "ABC-GAN Model 3 MAE"
      }
     },
     "output_type": "display_data"
    },
    {
     "data": {
      "application/scrapbook.scrap.json+json": {
       "data": 27.129424846878972,
       "encoder": "json",
       "name": "ABC-GAN Model 3 Manhattan Distance",
       "version": 1
      }
     },
     "metadata": {
      "scrapbook": {
       "data": true,
       "display": false,
       "name": "ABC-GAN Model 3 Manhattan Distance"
      }
     },
     "output_type": "display_data"
    },
    {
     "data": {
      "application/scrapbook.scrap.json+json": {
       "data": 4.174039020645987,
       "encoder": "json",
       "name": "ABC-GAN Model 3 Euclidean distance",
       "version": 1
      }
     },
     "metadata": {
      "scrapbook": {
       "data": true,
       "display": false,
       "name": "ABC-GAN Model 3 Euclidean distance"
      }
     },
     "output_type": "display_data"
    },
    {
     "data": {
      "application/scrapbook.scrap.json+json": {
       "data": [
        [
         0.17191738150554717,
         0.1707596170226669,
         0.16670255665514133,
         0.1637507004338708,
         0.17676914183501638,
         0.1701315473563574,
         0.16510835143033767,
         0.1716184679893414,
         0.16924018895595233,
         0.1573495402318425,
         0.17221955291288812,
         0.1725328406245156,
         0.16847509785066053,
         0.17350998227390677,
         0.17558995025852556,
         0.17457965103064665,
         0.17509923917042908,
         0.16929348165885993,
         0.1620858314063905,
         0.16267650871731532,
         0.1830265388848178,
         0.16781097207599263,
         0.16694548882976862,
         0.15942398349265355,
         0.16651517255592235,
         0.16852895067539125,
         0.16508222812190376,
         0.17181389170119046,
         0.1720951699828377,
         0.17598618794859597,
         0.16777901358245437,
         0.16894504823874326,
         0.1656659394102907,
         0.1826127912842361,
         0.15904856350644575,
         0.16366287132828322,
         0.18463066830750968,
         0.16991500595758235,
         0.16503290396010667,
         0.1744275397801228,
         0.18043635799076457,
         0.1788439732658061,
         0.16252980726349842,
         0.16945761178769017,
         0.16943538390018797,
         0.16407119218656455,
         0.17752694429273472,
         0.18223806232163484,
         0.18843084146110217,
         0.17235256695947324,
         0.17011831638488806,
         0.17583904888227314,
         0.1756605736527798,
         0.17738408831339514,
         0.18081309466805132,
         0.16714624038188317,
         0.1652454775670397,
         0.16579333750593356,
         0.1609485908062209,
         0.169575203611309,
         0.18333855832096993,
         0.1820515126192084,
         0.1638244094403357,
         0.17189027806420967,
         0.1843813231440289,
         0.16977886565278064,
         0.15934096067242662,
         0.1659079873799972,
         0.1599164993090929,
         0.17628369252370127,
         0.1653262094412756,
         0.16520489952507905,
         0.1734596446257431,
         0.1668920838005752,
         0.1732259044662541,
         0.17571964907038096,
         0.1642628932666329,
         0.17893623255729765,
         0.17628515267330516,
         0.169277547449443,
         0.16537460228710857,
         0.16878304304483796,
         0.17830017184013264,
         0.1737193878472134,
         0.17733312478201835,
         0.17491990973880056,
         0.1588429035062139,
         0.1652770054533157,
         0.16806696609745858,
         0.18199003394232402,
         0.1668057518926949,
         0.17033045596129995,
         0.17241267586652922,
         0.16253715421288129,
         0.1730717852642121,
         0.16656410999108576,
         0.17110803503172206,
         0.1742444181420637,
         0.1700444740325385,
         0.18016766885347
        ],
        [
         0.28096818476550134,
         0.26105430006396535,
         0.25970954199632007,
         0.2648949999563104,
         0.2653945392390311,
         0.27830296942927674,
         0.2676451298791696,
         0.27298191808821526,
         0.25980552847442384,
         0.2572635218555875,
         0.26878487481735647,
         0.2704006227408992,
         0.2771878277736844,
         0.2692784593878862,
         0.2678480675060521,
         0.2684645962972176,
         0.2671866647844367,
         0.26599935733818214,
         0.25585309345749957,
         0.26770666127056614,
         0.2754475433960347,
         0.2543678528848378,
         0.2744649633187139,
         0.25440373445641906,
         0.2665215040027511,
         0.26677074711130677,
         0.26733477913555415,
         0.26551129513730604,
         0.2593370709002164,
         0.2705498621890358,
         0.25444663745150264,
         0.24386966524316983,
         0.2657531920646993,
         0.27937248897939626,
         0.25180218579229335,
         0.25663130246468036,
         0.27483427333736826,
         0.2711232833443871,
         0.26089176511410256,
         0.2663014557911083,
         0.2661412256112432,
         0.2742963746080504,
         0.25913163036217585,
         0.26141308984883566,
         0.26634840783663094,
         0.2662417705435598,
         0.26653306513075153,
         0.2811715499424905,
         0.27165903794743557,
         0.25969674233712403,
         0.261674978076389,
         0.26986168500255137,
         0.2802664921573345,
         0.27165281969834776,
         0.26613171531946633,
         0.26469399695120316,
         0.25979439504261986,
         0.25267261483103914,
         0.2681311241296284,
         0.24651786498268882,
         0.27082920320989456,
         0.2811014890515556,
         0.2545329542812325,
         0.2711722196773717,
         0.2833664056425001,
         0.2728996022157006,
         0.2598285433121811,
         0.25758171602901,
         0.2486273415806685,
         0.2581894435171111,
         0.25906082484688536,
         0.25586047214878194,
         0.26822173452077835,
         0.26391705958738776,
         0.27233917624963555,
         0.2807250730054197,
         0.2664510663827041,
         0.2797150514545102,
         0.2709141663668275,
         0.2716901270300606,
         0.2640646303474319,
         0.2637951470450407,
         0.28136322946817266,
         0.2705410450888688,
         0.2740000524722478,
         0.267291880987685,
         0.258552451115832,
         0.25929893380688396,
         0.26249946049852846,
         0.26828500888693857,
         0.24889901881539903,
         0.2652634154804343,
         0.2645726525042133,
         0.25324420260228947,
         0.2681604463552289,
         0.2625135583711751,
         0.25725830645373493,
         0.2846117132599009,
         0.2702733083609857,
         0.2654661664501855
        ],
        [
         28.658754846081138,
         26.627538606524467,
         26.49037328362465,
         27.01928999554366,
         27.070243002381176,
         28.386902881786227,
         27.2998032476753,
         27.844155644997954,
         26.50016390439123,
         26.240879229269922,
         27.41605723137036,
         27.58086351957172,
         28.273158432915807,
         27.46640285756439,
         27.320502885617316,
         27.383388822316192,
         27.253039808012545,
         27.131934448494576,
         26.097015532664955,
         27.306079449597746,
         28.09564942639554,
         25.945520994253457,
         27.995426258508814,
         25.949180914554745,
         27.18519340828061,
         27.21061620535329,
         27.268147471826524,
         27.082152104005218,
         26.452381231822073,
         27.59608594328165,
         25.953557020053267,
         24.874705854803324,
         27.10682559059933,
         28.49599387589842,
         25.68382295081392,
         26.176392851397395,
         28.033095880411565,
         27.65457490112749,
         26.610960041638464,
         27.162748490693048,
         27.146405012346804,
         27.978230210021138,
         26.431426296941936,
         26.66413516458124,
         27.167537599336356,
         27.1566605954431,
         27.186372643336654,
         28.679498094134033,
         27.70922187063843,
         26.48906771838665,
         26.69084776379168,
         27.52589187026024,
         28.58718220004812,
         27.708587609231472,
         27.14543496258557,
         26.99878768902272,
         26.499028294347227,
         25.77260671276599,
         27.3493746612221,
         25.14482222823426,
         27.624578727409244,
         28.67235188325867,
         25.962361336685717,
         27.659566407091916,
         28.90337337553501,
         27.83575942600146,
         26.50251141784247,
         26.27333503495902,
         25.359988841228187,
         26.33532323874533,
         26.424204134382308,
         26.097768159175757,
         27.358616921119392,
         26.919540077913553,
         27.778595977462828,
         28.633957446552813,
         27.17800877103582,
         28.530935248360038,
         27.63324496941641,
         27.712392957066186,
         26.93459229543805,
         26.90710499859415,
         28.699049405753613,
         27.59518659906462,
         27.948005352169275,
         27.263771860743873,
         26.372350013814867,
         26.44849124830216,
         26.7749449708499,
         27.365070906467736,
         25.3876999191707,
         27.0568683790043,
         26.986410555429757,
         25.830908665433526,
         27.35236552823335,
         26.776382953859866,
         26.240347258280963,
         29.030394752509892,
         27.56787745282054,
         27.077548977918923
        ],
        [
         4.187549750577992,
         4.173425563767974,
         4.1235495363611685,
         4.086877958081795,
         4.2462280281647224,
         4.165743370678091,
         4.10378506331587,
         4.183907711089337,
         4.154816394680652,
         4.006201830118888,
         4.191228268314026,
         4.195038705864415,
         4.145414331616005,
         4.206901257688192,
         4.232041460851915,
         4.219848860460047,
         4.226123802656964,
         4.155470506357098,
         4.066049040955093,
         4.0734511030778515,
         4.320729911282515,
         4.137235689654537,
         4.126553024091221,
         4.03252356673221,
         4.1212313209408755,
         4.146076816568876,
         4.103460401713922,
         4.1862891626739565,
         4.189714469775887,
         4.236813799396521,
         4.13684171626258,
         4.151191987893575,
         4.110708676110439,
         4.31584345302191,
         4.027772768870839,
         4.0857817948937125,
         4.339623044385997,
         4.163091472412466,
         4.102847328859664,
         4.218010082677911,
         4.290047612213411,
         4.271075423486715,
         4.071613972477848,
         4.157484383896636,
         4.157211704714973,
         4.090875407908383,
         4.2553200018164254,
         4.311413034818951,
         4.384055865181512,
         4.192846506833545,
         4.165581384543889,
         4.235042264959331,
         4.2328924522817175,
         4.253607528670964,
         4.294523914957423,
         4.129033363748963,
         4.105488851749332,
         4.112288952105047,
         4.051759650106918,
         4.158926636567843,
         4.324411283485757,
         4.3092057605966385,
         4.087797666582122,
         4.187219645844888,
         4.336691706899507,
         4.161423349838805,
         4.03147342650147,
         4.113710577174786,
         4.038747693224654,
         4.240393453138226,
         4.106491612436352,
         4.104984744375801,
         4.2062909732715585,
         4.1258929394324655,
         4.20345598948745,
         4.2336041625521466,
         4.093264603369364,
         4.272176929955541,
         4.240411014592468,
         4.155274941546369,
         4.107092576663578,
         4.149201174994227,
         4.264577063167405,
         4.2094391028278055,
         4.252996441071384,
         4.223959137273662,
         4.025167842169295,
         4.105880484894586,
         4.140390143687038,
         4.308478091172919,
         4.124825656079888,
         4.168177840262168,
         4.193577582254319,
         4.071705997455353,
         4.201585664597311,
         4.121836874391167,
         4.177681123929355,
         4.215795375785036,
         4.164677220544099,
         4.2868522511341505
        ]
       ],
       "encoder": "json",
       "name": "ABC_GAN_3 Metrics",
       "version": 1
      }
     },
     "metadata": {
      "scrapbook": {
       "data": true,
       "display": false,
       "name": "ABC_GAN_3 Metrics"
      }
     },
     "output_type": "display_data"
    }
   ],
   "source": [
    "ABC_GAN3_metrics=ABC_train_test2.test_generator(gen3,test_data,prior_model,variance,\"3\",device)\n",
    "sb.glue(\"ABC_GAN_3 Metrics\",ABC_GAN3_metrics)"
   ]
  },
  {
   "cell_type": "code",
   "execution_count": 18,
   "id": "c8e46b48",
   "metadata": {
    "execution": {
     "iopub.execute_input": "2022-01-14T16:08:49.110245Z",
     "iopub.status.busy": "2022-01-14T16:08:49.109614Z",
     "iopub.status.idle": "2022-01-14T16:08:49.980313Z",
     "shell.execute_reply": "2022-01-14T16:08:49.979757Z"
    },
    "papermill": {
     "duration": 0.918748,
     "end_time": "2022-01-14T16:08:49.980478",
     "exception": false,
     "start_time": "2022-01-14T16:08:49.061730",
     "status": "completed"
    },
    "tags": []
   },
   "outputs": [
    {
     "data": {
      "image/png": "[encoded data removed]",
      "text/plain": [
       "<Figure size 432x288 with 1 Axes>"
      ]
     },
     "metadata": {
      "needs_background": "light"
     },
     "output_type": "display_data"
    },
    {
     "data": {
      "image/png": "[encoded data removed]",
      "text/plain": [
       "<Figure size 432x288 with 1 Axes>"
      ]
     },
     "metadata": {
      "needs_background": "light"
     },
     "output_type": "display_data"
    },
    {
     "data": {
      "image/png": "[encoded data removed]",
      "text/plain": [
       "<Figure size 432x288 with 1 Axes>"
      ]
     },
     "metadata": {
      "needs_background": "light"
     },
     "output_type": "display_data"
    },
    {
     "data": {
      "image/png": "[encoded data removed]",
      "text/plain": [
       "<Figure size 432x288 with 1 Axes>"
      ]
     },
     "metadata": {
      "needs_background": "light"
     },
     "output_type": "display_data"
    }
   ],
   "source": [
    "sanityChecks.discProbVsError(train_data,disc,device)\n",
    "sanityChecks.discProbVsError(test_data,disc3,device)"
   ]
  },
  {
   "cell_type": "markdown",
   "id": "a5bd74c3",
   "metadata": {
    "papermill": {
     "duration": 0.049113,
     "end_time": "2022-01-14T16:08:50.080795",
     "exception": false,
     "start_time": "2022-01-14T16:08:50.031682",
     "status": "completed"
    },
    "tags": []
   },
   "source": [
    "## Skip Connection Model Analysis - ABC-GAN "
   ]
  },
  {
   "cell_type": "markdown",
   "id": "5744a8bf",
   "metadata": {
    "papermill": {
     "duration": 0.047417,
     "end_time": "2022-01-14T16:08:50.175366",
     "exception": false,
     "start_time": "2022-01-14T16:08:50.127949",
     "status": "completed"
    },
    "tags": []
   },
   "source": [
    "### Weight Analysis \n",
    "\n",
    "Study the weights of the skip connection layer\n",
    "\n",
    "Equation of the skip connection is \n",
    "\n",
    "$output = y_{gan} * w + y_{abc} * (1-w)$"
   ]
  },
  {
   "cell_type": "code",
   "execution_count": 19,
   "id": "52c31dea",
   "metadata": {
    "execution": {
     "iopub.execute_input": "2022-01-14T16:08:50.280531Z",
     "iopub.status.busy": "2022-01-14T16:08:50.279904Z",
     "iopub.status.idle": "2022-01-14T16:08:50.289060Z",
     "shell.execute_reply": "2022-01-14T16:08:50.289517Z"
    },
    "papermill": {
     "duration": 0.066034,
     "end_time": "2022-01-14T16:08:50.289661",
     "exception": false,
     "start_time": "2022-01-14T16:08:50.223627",
     "status": "completed"
    },
    "tags": []
   },
   "outputs": [
    {
     "name": "stdout",
     "output_type": "stream",
     "text": [
      "Weight of the node at skip connection\n",
      "Parameter containing:\n",
      "tensor([[0.0101]], device='cuda:0', requires_grad=True)\n"
     ]
    },
    {
     "data": {
      "application/scrapbook.scrap.json+json": {
       "data": 0.010092101991176605,
       "encoder": "json",
       "name": "Skip Connection Weight",
       "version": 1
      }
     },
     "metadata": {
      "scrapbook": {
       "data": true,
       "display": false,
       "name": "Skip Connection Weight"
      }
     },
     "output_type": "display_data"
    }
   ],
   "source": [
    "print(\"Weight of the node at skip connection\")\n",
    "for name,param in gen3.named_parameters():\n",
    "    if(name == \"skipNode.weight\"):\n",
    "        print(param)\n",
    "        sb.glue(\"Skip Connection Weight\",param.item())"
   ]
  }
 ],
 "metadata": {
  "interpreter": {
   "hash": "10498c76ddd8160350534c6544a2b2fb65f2138dbc70420f7c81a3268f830f23"
  },
  "kernelspec": {
   "display_name": "papermill-tutorial",
   "language": "python",
   "name": "python3"
  },
  "language_info": {
   "codemirror_mode": {
    "name": "ipython",
    "version": 3
   },
   "file_extension": ".py",
   "mimetype": "text/x-python",
   "name": "python",
   "nbconvert_exporter": "python",
   "pygments_lexer": "ipython3",
   "version": "3.7.12"
  },
  "papermill": {
   "default_parameters": {},
   "duration": 2699.84904,
   "end_time": "2022-01-14T16:08:51.057850",
   "environment_variables": {},
   "exception": null,
   "input_path": "ABC_GAN_Model-Catboost_Pre-gen.ipynb",
   "output_path": "./ABC_GAN_Output/ABC-GAN_output_5_1.ipynb",
   "parameters": {
    "variance": 0.1
   },
   "start_time": "2022-01-14T15:23:51.208810",
   "version": "2.3.3"
  }
 },
 "nbformat": 4,
 "nbformat_minor": 5
}