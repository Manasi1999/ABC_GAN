{
 "cells": [
  {
   "cell_type": "markdown",
   "id": "622780e6",
   "metadata": {
    "papermill": {
     "duration": 0.025474,
     "end_time": "2022-01-14T18:16:10.054033",
     "exception": false,
     "start_time": "2022-01-14T18:16:10.028559",
     "status": "completed"
    },
    "tags": []
   },
   "source": [
    "## Import Libraries "
   ]
  },
  {
   "cell_type": "code",
   "execution_count": 1,
   "id": "a62397e3",
   "metadata": {
    "execution": {
     "iopub.execute_input": "2022-01-14T18:16:10.110093Z",
     "iopub.status.busy": "2022-01-14T18:16:10.109517Z",
     "iopub.status.idle": "2022-01-14T18:16:10.111892Z",
     "shell.execute_reply": "2022-01-14T18:16:10.111338Z"
    },
    "papermill": {
     "duration": 0.033516,
     "end_time": "2022-01-14T18:16:10.112044",
     "exception": false,
     "start_time": "2022-01-14T18:16:10.078528",
     "status": "completed"
    },
    "tags": []
   },
   "outputs": [],
   "source": [
    "import warnings\n",
    "import sys\n",
    "sys.path.insert(0, '../../src')\n",
    "warnings.filterwarnings('ignore')"
   ]
  },
  {
   "cell_type": "code",
   "execution_count": 2,
   "id": "d6a4e155",
   "metadata": {
    "execution": {
     "iopub.execute_input": "2022-01-14T18:16:10.163350Z",
     "iopub.status.busy": "2022-01-14T18:16:10.162622Z",
     "iopub.status.idle": "2022-01-14T18:16:11.767365Z",
     "shell.execute_reply": "2022-01-14T18:16:11.767893Z"
    },
    "papermill": {
     "duration": 1.633955,
     "end_time": "2022-01-14T18:16:11.768084",
     "exception": false,
     "start_time": "2022-01-14T18:16:10.134129",
     "status": "completed"
    },
    "tags": []
   },
   "outputs": [],
   "source": [
    "import ABC_train_test2\n",
    "import bostonDataset\n",
    "import network\n",
    "import dataset\n",
    "import sanityChecks\n",
    "import performanceMetrics\n",
    "import torch \n",
    "from torch.utils.data import random_split \n",
    "import scrapbook as sb\n",
    "from statistics import mean \n",
    "import catboost as ctb \n",
    "from sklearn.model_selection import train_test_split\n",
    "from sklearn.metrics import mean_squared_error\n",
    "import numpy as np"
   ]
  },
  {
   "cell_type": "markdown",
   "id": "2fa5b0f7",
   "metadata": {
    "papermill": {
     "duration": 0.022559,
     "end_time": "2022-01-14T18:16:11.813495",
     "exception": false,
     "start_time": "2022-01-14T18:16:11.790936",
     "status": "completed"
    },
    "tags": []
   },
   "source": [
    "## Parameters "
   ]
  },
  {
   "cell_type": "code",
   "execution_count": 3,
   "id": "783186fb",
   "metadata": {
    "execution": {
     "iopub.execute_input": "2022-01-14T18:16:11.867956Z",
     "iopub.status.busy": "2022-01-14T18:16:11.867254Z",
     "iopub.status.idle": "2022-01-14T18:16:11.870075Z",
     "shell.execute_reply": "2022-01-14T18:16:11.869444Z"
    },
    "papermill": {
     "duration": 0.032582,
     "end_time": "2022-01-14T18:16:11.870191",
     "exception": false,
     "start_time": "2022-01-14T18:16:11.837609",
     "status": "completed"
    },
    "tags": [
     "parameters"
    ]
   },
   "outputs": [],
   "source": [
    "variance = 1"
   ]
  },
  {
   "cell_type": "code",
   "execution_count": 4,
   "id": "ab8929a7",
   "metadata": {
    "execution": {
     "iopub.execute_input": "2022-01-14T18:16:11.920486Z",
     "iopub.status.busy": "2022-01-14T18:16:11.919890Z",
     "iopub.status.idle": "2022-01-14T18:16:11.922442Z",
     "shell.execute_reply": "2022-01-14T18:16:11.921951Z"
    },
    "papermill": {
     "duration": 0.02922,
     "end_time": "2022-01-14T18:16:11.922596",
     "exception": false,
     "start_time": "2022-01-14T18:16:11.893376",
     "status": "completed"
    },
    "tags": [
     "injected-parameters"
    ]
   },
   "outputs": [],
   "source": [
    "# Parameters\n",
    "variance = 0.01\n"
   ]
  },
  {
   "cell_type": "markdown",
   "id": "391cdbfd",
   "metadata": {
    "papermill": {
     "duration": 0.024542,
     "end_time": "2022-01-14T18:16:11.969979",
     "exception": false,
     "start_time": "2022-01-14T18:16:11.945437",
     "status": "completed"
    },
    "tags": []
   },
   "source": [
    "## Dataset - Boston Housing "
   ]
  },
  {
   "cell_type": "code",
   "execution_count": 5,
   "id": "5b51f161",
   "metadata": {
    "execution": {
     "iopub.execute_input": "2022-01-14T18:16:12.022338Z",
     "iopub.status.busy": "2022-01-14T18:16:12.021724Z",
     "iopub.status.idle": "2022-01-14T18:16:12.024319Z",
     "shell.execute_reply": "2022-01-14T18:16:12.023813Z"
    },
    "papermill": {
     "duration": 0.030666,
     "end_time": "2022-01-14T18:16:12.024466",
     "exception": false,
     "start_time": "2022-01-14T18:16:11.993800",
     "status": "completed"
    },
    "tags": []
   },
   "outputs": [],
   "source": [
    "#Parameters \n",
    "n_features = 13\n",
    "n_samples= 506\n",
    "n_target = 1 "
   ]
  },
  {
   "cell_type": "code",
   "execution_count": 6,
   "id": "5d6eced4",
   "metadata": {
    "execution": {
     "iopub.execute_input": "2022-01-14T18:16:12.075465Z",
     "iopub.status.busy": "2022-01-14T18:16:12.074781Z",
     "iopub.status.idle": "2022-01-14T18:16:12.107640Z",
     "shell.execute_reply": "2022-01-14T18:16:12.107007Z"
    },
    "papermill": {
     "duration": 0.059825,
     "end_time": "2022-01-14T18:16:12.107759",
     "exception": false,
     "start_time": "2022-01-14T18:16:12.047934",
     "status": "completed"
    },
    "tags": []
   },
   "outputs": [
    {
     "name": "stdout",
     "output_type": "stream",
     "text": [
      "         X1        X2        X3        X4        X5        X6        X7        X8        X9       X10       X11       X12       X13         Y\n",
      "0 -0.419782  0.284830 -1.287909 -0.272599 -0.144217  0.413672 -0.120013  0.140214 -0.982843 -0.666608 -1.459000  0.441052 -1.075562  0.159686\n",
      "1 -0.417339 -0.487722 -0.593381 -0.272599 -0.740262  0.194274  0.367166  0.557160 -0.867883 -0.987329 -0.303094  0.441052 -0.492439 -0.101524\n",
      "2 -0.417342 -0.487722 -0.593381 -0.272599 -0.740262  1.282714 -0.265812  0.557160 -0.867883 -0.987329 -0.303094  0.396427 -1.208727  1.324247\n",
      "3 -0.416750 -0.487722 -1.306878 -0.272599 -0.835284  1.016303 -0.809889  1.077737 -0.752922 -1.106115  0.113032  0.416163 -1.361517  1.182758\n",
      "4 -0.412482 -0.487722 -1.306878 -0.272599 -0.835284  1.228577 -0.511180  1.077737 -0.752922 -1.106115  0.113032  0.441052 -1.026501  1.487503\n"
     ]
    }
   ],
   "source": [
    "X,Y = bostonDataset.boston_data()"
   ]
  },
  {
   "cell_type": "code",
   "execution_count": 7,
   "id": "fe007438",
   "metadata": {
    "execution": {
     "iopub.execute_input": "2022-01-14T18:16:12.160884Z",
     "iopub.status.busy": "2022-01-14T18:16:12.160219Z",
     "iopub.status.idle": "2022-01-14T18:16:12.162881Z",
     "shell.execute_reply": "2022-01-14T18:16:12.163353Z"
    },
    "papermill": {
     "duration": 0.031686,
     "end_time": "2022-01-14T18:16:12.163509",
     "exception": false,
     "start_time": "2022-01-14T18:16:12.131823",
     "status": "completed"
    },
    "tags": []
   },
   "outputs": [],
   "source": [
    "#Train test split for dataset \n",
    "X_train,X_test,Y_train,Y_test = train_test_split(X,Y,test_size = 0.2)\n",
    "train_data = dataset.CustomDataset(X_train,Y_train)\n",
    "test_data = dataset.CustomDataset(X_test,Y_test)\n"
   ]
  },
  {
   "cell_type": "markdown",
   "id": "a9a1af34",
   "metadata": {
    "papermill": {
     "duration": 0.024578,
     "end_time": "2022-01-14T18:16:12.212088",
     "exception": false,
     "start_time": "2022-01-14T18:16:12.187510",
     "status": "completed"
    },
    "tags": []
   },
   "source": [
    "## Training Parameters \n",
    "\n"
   ]
  },
  {
   "cell_type": "code",
   "execution_count": 8,
   "id": "952b7fc8",
   "metadata": {
    "execution": {
     "iopub.execute_input": "2022-01-14T18:16:12.283816Z",
     "iopub.status.busy": "2022-01-14T18:16:12.283094Z",
     "iopub.status.idle": "2022-01-14T18:16:12.286040Z",
     "shell.execute_reply": "2022-01-14T18:16:12.285477Z"
    },
    "papermill": {
     "duration": 0.048656,
     "end_time": "2022-01-14T18:16:12.286168",
     "exception": false,
     "start_time": "2022-01-14T18:16:12.237512",
     "status": "completed"
    },
    "tags": []
   },
   "outputs": [],
   "source": [
    "batch_size = 64\n",
    "n_epochs = 5000\n",
    "#Select the device \n",
    "device = torch.device('cuda' if torch.cuda.is_available() else 'cpu')"
   ]
  },
  {
   "cell_type": "markdown",
   "id": "a95e1600",
   "metadata": {
    "papermill": {
     "duration": 0.027426,
     "end_time": "2022-01-14T18:16:12.340439",
     "exception": false,
     "start_time": "2022-01-14T18:16:12.313013",
     "status": "completed"
    },
    "tags": []
   },
   "source": [
    "# ABC Pre-generator Model \n",
    "\n",
    "1. The catboost model is used as a pre-generator model for the ABC-GAN. \n",
    "2. The model is first trained on the train dataset \n",
    "3. It generats X,Y pairs and we add some Gaussian noise with mean 0 and variance V (1,0.01,0.1) to it which is then feed as input to the generator.\n"
   ]
  },
  {
   "cell_type": "code",
   "execution_count": 9,
   "id": "ff8ce7bd",
   "metadata": {
    "execution": {
     "iopub.execute_input": "2022-01-14T18:16:12.409677Z",
     "iopub.status.busy": "2022-01-14T18:16:12.408679Z",
     "iopub.status.idle": "2022-01-14T18:16:14.102348Z",
     "shell.execute_reply": "2022-01-14T18:16:14.101821Z"
    },
    "papermill": {
     "duration": 1.736135,
     "end_time": "2022-01-14T18:16:14.102548",
     "exception": false,
     "start_time": "2022-01-14T18:16:12.366413",
     "status": "completed"
    },
    "tags": []
   },
   "outputs": [
    {
     "name": "stdout",
     "output_type": "stream",
     "text": [
      "Learning rate set to 0.03548\n",
      "0:\tlearn: 0.9250177\ttotal: 48.3ms\tremaining: 48.3s\n",
      "1:\tlearn: 0.9048570\ttotal: 49.5ms\tremaining: 24.7s\n",
      "2:\tlearn: 0.8841227\ttotal: 50.8ms\tremaining: 16.9s\n",
      "3:\tlearn: 0.8658500\ttotal: 51.8ms\tremaining: 12.9s\n",
      "4:\tlearn: 0.8493524\ttotal: 52.9ms\tremaining: 10.5s\n",
      "5:\tlearn: 0.8322447\ttotal: 54ms\tremaining: 8.95s\n",
      "6:\tlearn: 0.8155797\ttotal: 55.1ms\tremaining: 7.81s\n",
      "7:\tlearn: 0.7972763\ttotal: 56.1ms\tremaining: 6.95s\n",
      "8:\tlearn: 0.7818638\ttotal: 57ms\tremaining: 6.28s\n",
      "9:\tlearn: 0.7659418\ttotal: 58ms\tremaining: 5.74s\n",
      "10:\tlearn: 0.7523650\ttotal: 59.1ms\tremaining: 5.32s\n",
      "11:\tlearn: 0.7375006\ttotal: 60.1ms\tremaining: 4.95s\n",
      "12:\tlearn: 0.7224148\ttotal: 61.1ms\tremaining: 4.64s\n",
      "13:\tlearn: 0.7067166\ttotal: 62.2ms\tremaining: 4.38s\n",
      "14:\tlearn: 0.6940702\ttotal: 63.3ms\tremaining: 4.16s\n",
      "15:\tlearn: 0.6801655\ttotal: 64.5ms\tremaining: 3.96s\n",
      "16:\tlearn: 0.6681934\ttotal: 65.5ms\tremaining: 3.79s\n",
      "17:\tlearn: 0.6558113\ttotal: 66.6ms\tremaining: 3.63s\n",
      "18:\tlearn: 0.6438345\ttotal: 67.7ms\tremaining: 3.5s\n",
      "19:\tlearn: 0.6329506\ttotal: 68.8ms\tremaining: 3.37s\n",
      "20:\tlearn: 0.6205135\ttotal: 69.8ms\tremaining: 3.25s\n",
      "21:\tlearn: 0.6096485\ttotal: 70.8ms\tremaining: 3.15s\n",
      "22:\tlearn: 0.6001008\ttotal: 71.8ms\tremaining: 3.05s\n",
      "23:\tlearn: 0.5907695\ttotal: 72.8ms\tremaining: 2.96s\n",
      "24:\tlearn: 0.5801193\ttotal: 73.8ms\tremaining: 2.88s\n",
      "25:\tlearn: 0.5706603\ttotal: 74.8ms\tremaining: 2.8s\n",
      "26:\tlearn: 0.5617359\ttotal: 75.8ms\tremaining: 2.73s\n",
      "27:\tlearn: 0.5527993\ttotal: 76.9ms\tremaining: 2.67s\n",
      "28:\tlearn: 0.5439755\ttotal: 78ms\tremaining: 2.61s\n",
      "29:\tlearn: 0.5352788\ttotal: 79ms\tremaining: 2.56s\n",
      "30:\tlearn: 0.5266224\ttotal: 80ms\tremaining: 2.5s\n",
      "31:\tlearn: 0.5197887\ttotal: 81ms\tremaining: 2.45s\n",
      "32:\tlearn: 0.5109734\ttotal: 82ms\tremaining: 2.4s\n",
      "33:\tlearn: 0.5045395\ttotal: 82.9ms\tremaining: 2.35s\n",
      "34:\tlearn: 0.4975416\ttotal: 83.9ms\tremaining: 2.31s\n",
      "35:\tlearn: 0.4907688\ttotal: 84.9ms\tremaining: 2.27s\n",
      "36:\tlearn: 0.4846227\ttotal: 85.9ms\tremaining: 2.23s\n",
      "37:\tlearn: 0.4783695\ttotal: 87ms\tremaining: 2.2s\n",
      "38:\tlearn: 0.4722902\ttotal: 88ms\tremaining: 2.17s\n",
      "39:\tlearn: 0.4656330\ttotal: 89ms\tremaining: 2.13s\n",
      "40:\tlearn: 0.4600408\ttotal: 90ms\tremaining: 2.1s\n",
      "41:\tlearn: 0.4537276\ttotal: 91.1ms\tremaining: 2.08s\n",
      "42:\tlearn: 0.4480833\ttotal: 92.1ms\tremaining: 2.05s\n",
      "43:\tlearn: 0.4424848\ttotal: 93.1ms\tremaining: 2.02s\n",
      "44:\tlearn: 0.4371064\ttotal: 94.1ms\tremaining: 2s\n",
      "45:\tlearn: 0.4315021\ttotal: 95ms\tremaining: 1.97s\n",
      "46:\tlearn: 0.4270132\ttotal: 96ms\tremaining: 1.95s\n",
      "47:\tlearn: 0.4213946\ttotal: 97ms\tremaining: 1.92s\n",
      "48:\tlearn: 0.4168699\ttotal: 97.9ms\tremaining: 1.9s\n",
      "49:\tlearn: 0.4126849\ttotal: 98.9ms\tremaining: 1.88s\n",
      "50:\tlearn: 0.4070190\ttotal: 99.9ms\tremaining: 1.86s\n",
      "51:\tlearn: 0.4036510\ttotal: 101ms\tremaining: 1.84s\n",
      "52:\tlearn: 0.3993298\ttotal: 102ms\tremaining: 1.82s\n",
      "53:\tlearn: 0.3959578\ttotal: 103ms\tremaining: 1.8s\n",
      "54:\tlearn: 0.3916247\ttotal: 104ms\tremaining: 1.78s\n",
      "55:\tlearn: 0.3887005\ttotal: 105ms\tremaining: 1.76s\n",
      "56:\tlearn: 0.3859272\ttotal: 106ms\tremaining: 1.75s\n",
      "57:\tlearn: 0.3818084\ttotal: 107ms\tremaining: 1.73s\n",
      "58:\tlearn: 0.3786175\ttotal: 108ms\tremaining: 1.72s\n",
      "59:\tlearn: 0.3752179\ttotal: 109ms\tremaining: 1.7s\n",
      "60:\tlearn: 0.3723527\ttotal: 110ms\tremaining: 1.69s\n",
      "61:\tlearn: 0.3686257\ttotal: 111ms\tremaining: 1.68s\n",
      "62:\tlearn: 0.3664879\ttotal: 112ms\tremaining: 1.66s\n",
      "63:\tlearn: 0.3631836\ttotal: 113ms\tremaining: 1.65s\n",
      "64:\tlearn: 0.3602187\ttotal: 114ms\tremaining: 1.64s\n",
      "65:\tlearn: 0.3578573\ttotal: 115ms\tremaining: 1.63s\n",
      "66:\tlearn: 0.3543677\ttotal: 116ms\tremaining: 1.61s\n",
      "67:\tlearn: 0.3522820\ttotal: 117ms\tremaining: 1.6s\n",
      "68:\tlearn: 0.3497150\ttotal: 118ms\tremaining: 1.59s\n",
      "69:\tlearn: 0.3476215\ttotal: 119ms\tremaining: 1.58s\n",
      "70:\tlearn: 0.3452851\ttotal: 120ms\tremaining: 1.57s\n",
      "71:\tlearn: 0.3425297\ttotal: 121ms\tremaining: 1.56s\n",
      "72:\tlearn: 0.3402403\ttotal: 122ms\tremaining: 1.55s\n",
      "73:\tlearn: 0.3371339\ttotal: 123ms\tremaining: 1.54s\n",
      "74:\tlearn: 0.3348641\ttotal: 124ms\tremaining: 1.53s\n",
      "75:\tlearn: 0.3324640\ttotal: 125ms\tremaining: 1.52s\n",
      "76:\tlearn: 0.3305441\ttotal: 126ms\tremaining: 1.51s\n",
      "77:\tlearn: 0.3284830\ttotal: 127ms\tremaining: 1.5s\n",
      "78:\tlearn: 0.3266471\ttotal: 128ms\tremaining: 1.49s\n",
      "79:\tlearn: 0.3251792\ttotal: 129ms\tremaining: 1.48s\n",
      "80:\tlearn: 0.3233012\ttotal: 130ms\tremaining: 1.47s\n",
      "81:\tlearn: 0.3211954\ttotal: 131ms\tremaining: 1.47s\n",
      "82:\tlearn: 0.3198020\ttotal: 132ms\tremaining: 1.46s\n",
      "83:\tlearn: 0.3183429\ttotal: 133ms\tremaining: 1.45s\n",
      "84:\tlearn: 0.3166586\ttotal: 134ms\tremaining: 1.44s\n",
      "85:\tlearn: 0.3146597\ttotal: 135ms\tremaining: 1.43s\n",
      "86:\tlearn: 0.3135207\ttotal: 136ms\tremaining: 1.42s\n",
      "87:\tlearn: 0.3115672\ttotal: 137ms\tremaining: 1.42s\n",
      "88:\tlearn: 0.3098619\ttotal: 138ms\tremaining: 1.41s\n",
      "89:\tlearn: 0.3082576\ttotal: 139ms\tremaining: 1.41s\n",
      "90:\tlearn: 0.3067682\ttotal: 140ms\tremaining: 1.4s\n",
      "91:\tlearn: 0.3054015\ttotal: 141ms\tremaining: 1.39s\n"
     ]
    },
    {
     "name": "stdout",
     "output_type": "stream",
     "text": [
      "92:\tlearn: 0.3042929\ttotal: 142ms\tremaining: 1.38s\n",
      "93:\tlearn: 0.3032571\ttotal: 143ms\tremaining: 1.38s\n",
      "94:\tlearn: 0.3017430\ttotal: 144ms\tremaining: 1.37s\n",
      "95:\tlearn: 0.3011073\ttotal: 145ms\tremaining: 1.37s\n",
      "96:\tlearn: 0.3001259\ttotal: 146ms\tremaining: 1.36s\n",
      "97:\tlearn: 0.2989729\ttotal: 147ms\tremaining: 1.35s\n",
      "98:\tlearn: 0.2979415\ttotal: 148ms\tremaining: 1.35s\n",
      "99:\tlearn: 0.2968332\ttotal: 149ms\tremaining: 1.34s\n",
      "100:\tlearn: 0.2955142\ttotal: 150ms\tremaining: 1.34s\n",
      "101:\tlearn: 0.2940855\ttotal: 151ms\tremaining: 1.33s\n",
      "102:\tlearn: 0.2929247\ttotal: 152ms\tremaining: 1.33s\n",
      "103:\tlearn: 0.2913552\ttotal: 153ms\tremaining: 1.32s\n",
      "104:\tlearn: 0.2900613\ttotal: 154ms\tremaining: 1.31s\n",
      "105:\tlearn: 0.2885801\ttotal: 155ms\tremaining: 1.31s\n",
      "106:\tlearn: 0.2872639\ttotal: 156ms\tremaining: 1.3s\n",
      "107:\tlearn: 0.2864804\ttotal: 157ms\tremaining: 1.3s\n",
      "108:\tlearn: 0.2859036\ttotal: 158ms\tremaining: 1.29s\n",
      "109:\tlearn: 0.2850953\ttotal: 159ms\tremaining: 1.29s\n",
      "110:\tlearn: 0.2840937\ttotal: 160ms\tremaining: 1.28s\n",
      "111:\tlearn: 0.2825914\ttotal: 161ms\tremaining: 1.28s\n",
      "112:\tlearn: 0.2815677\ttotal: 162ms\tremaining: 1.27s\n",
      "113:\tlearn: 0.2802686\ttotal: 163ms\tremaining: 1.27s\n",
      "114:\tlearn: 0.2791731\ttotal: 164ms\tremaining: 1.26s\n",
      "115:\tlearn: 0.2778237\ttotal: 166ms\tremaining: 1.26s\n",
      "116:\tlearn: 0.2766974\ttotal: 167ms\tremaining: 1.26s\n",
      "117:\tlearn: 0.2761728\ttotal: 168ms\tremaining: 1.25s\n",
      "118:\tlearn: 0.2752967\ttotal: 169ms\tremaining: 1.25s\n",
      "119:\tlearn: 0.2742150\ttotal: 170ms\tremaining: 1.25s\n",
      "120:\tlearn: 0.2733181\ttotal: 171ms\tremaining: 1.24s\n",
      "121:\tlearn: 0.2725991\ttotal: 172ms\tremaining: 1.24s\n",
      "122:\tlearn: 0.2718446\ttotal: 173ms\tremaining: 1.23s\n",
      "123:\tlearn: 0.2705193\ttotal: 174ms\tremaining: 1.23s\n",
      "124:\tlearn: 0.2693620\ttotal: 175ms\tremaining: 1.23s\n",
      "125:\tlearn: 0.2681246\ttotal: 176ms\tremaining: 1.22s\n",
      "126:\tlearn: 0.2673214\ttotal: 177ms\tremaining: 1.22s\n",
      "127:\tlearn: 0.2663047\ttotal: 178ms\tremaining: 1.22s\n",
      "128:\tlearn: 0.2656648\ttotal: 179ms\tremaining: 1.21s\n",
      "129:\tlearn: 0.2652520\ttotal: 180ms\tremaining: 1.21s\n",
      "130:\tlearn: 0.2644615\ttotal: 181ms\tremaining: 1.2s\n",
      "131:\tlearn: 0.2638780\ttotal: 182ms\tremaining: 1.2s\n",
      "132:\tlearn: 0.2629565\ttotal: 184ms\tremaining: 1.2s\n",
      "133:\tlearn: 0.2622797\ttotal: 185ms\tremaining: 1.19s\n",
      "134:\tlearn: 0.2616847\ttotal: 186ms\tremaining: 1.19s\n",
      "135:\tlearn: 0.2610419\ttotal: 187ms\tremaining: 1.19s\n",
      "136:\tlearn: 0.2602356\ttotal: 188ms\tremaining: 1.18s\n",
      "137:\tlearn: 0.2595265\ttotal: 189ms\tremaining: 1.18s\n",
      "138:\tlearn: 0.2590960\ttotal: 190ms\tremaining: 1.18s\n",
      "139:\tlearn: 0.2585391\ttotal: 191ms\tremaining: 1.17s\n",
      "140:\tlearn: 0.2579062\ttotal: 192ms\tremaining: 1.17s\n",
      "141:\tlearn: 0.2571999\ttotal: 193ms\tremaining: 1.16s\n",
      "142:\tlearn: 0.2568365\ttotal: 194ms\tremaining: 1.16s\n",
      "143:\tlearn: 0.2559621\ttotal: 195ms\tremaining: 1.16s\n",
      "144:\tlearn: 0.2553201\ttotal: 196ms\tremaining: 1.15s\n",
      "145:\tlearn: 0.2545551\ttotal: 197ms\tremaining: 1.15s\n",
      "146:\tlearn: 0.2541938\ttotal: 198ms\tremaining: 1.15s\n",
      "147:\tlearn: 0.2536398\ttotal: 199ms\tremaining: 1.14s\n",
      "148:\tlearn: 0.2531712\ttotal: 200ms\tremaining: 1.14s\n",
      "149:\tlearn: 0.2522450\ttotal: 201ms\tremaining: 1.14s\n",
      "150:\tlearn: 0.2514278\ttotal: 202ms\tremaining: 1.13s\n",
      "151:\tlearn: 0.2509654\ttotal: 203ms\tremaining: 1.13s\n",
      "152:\tlearn: 0.2505596\ttotal: 204ms\tremaining: 1.13s\n",
      "153:\tlearn: 0.2503414\ttotal: 205ms\tremaining: 1.13s\n",
      "154:\tlearn: 0.2495982\ttotal: 206ms\tremaining: 1.12s\n",
      "155:\tlearn: 0.2484283\ttotal: 207ms\tremaining: 1.12s\n",
      "156:\tlearn: 0.2477148\ttotal: 208ms\tremaining: 1.12s\n",
      "157:\tlearn: 0.2471211\ttotal: 209ms\tremaining: 1.11s\n",
      "158:\tlearn: 0.2461567\ttotal: 210ms\tremaining: 1.11s\n",
      "159:\tlearn: 0.2460101\ttotal: 211ms\tremaining: 1.11s\n",
      "160:\tlearn: 0.2454499\ttotal: 212ms\tremaining: 1.1s\n",
      "161:\tlearn: 0.2451258\ttotal: 213ms\tremaining: 1.1s\n",
      "162:\tlearn: 0.2441920\ttotal: 214ms\tremaining: 1.1s\n",
      "163:\tlearn: 0.2434901\ttotal: 214ms\tremaining: 1.09s\n",
      "164:\tlearn: 0.2428892\ttotal: 216ms\tremaining: 1.09s\n",
      "165:\tlearn: 0.2425119\ttotal: 217ms\tremaining: 1.09s\n",
      "166:\tlearn: 0.2419336\ttotal: 218ms\tremaining: 1.08s\n",
      "167:\tlearn: 0.2408889\ttotal: 219ms\tremaining: 1.08s\n",
      "168:\tlearn: 0.2400007\ttotal: 219ms\tremaining: 1.08s\n",
      "169:\tlearn: 0.2397302\ttotal: 220ms\tremaining: 1.08s\n",
      "170:\tlearn: 0.2391661\ttotal: 221ms\tremaining: 1.07s\n",
      "171:\tlearn: 0.2388503\ttotal: 222ms\tremaining: 1.07s\n",
      "172:\tlearn: 0.2381021\ttotal: 223ms\tremaining: 1.07s\n",
      "173:\tlearn: 0.2375096\ttotal: 224ms\tremaining: 1.06s\n",
      "174:\tlearn: 0.2369769\ttotal: 225ms\tremaining: 1.06s\n",
      "175:\tlearn: 0.2364094\ttotal: 226ms\tremaining: 1.06s\n",
      "176:\tlearn: 0.2361167\ttotal: 227ms\tremaining: 1.06s\n",
      "177:\tlearn: 0.2356120\ttotal: 228ms\tremaining: 1.05s\n",
      "178:\tlearn: 0.2349221\ttotal: 230ms\tremaining: 1.05s\n",
      "179:\tlearn: 0.2339421\ttotal: 230ms\tremaining: 1.05s\n",
      "180:\tlearn: 0.2333175\ttotal: 231ms\tremaining: 1.05s\n",
      "181:\tlearn: 0.2322825\ttotal: 232ms\tremaining: 1.04s\n",
      "182:\tlearn: 0.2318835\ttotal: 233ms\tremaining: 1.04s\n",
      "183:\tlearn: 0.2310788\ttotal: 234ms\tremaining: 1.04s\n",
      "184:\tlearn: 0.2308371\ttotal: 235ms\tremaining: 1.04s\n",
      "185:\tlearn: 0.2304784\ttotal: 236ms\tremaining: 1.03s\n",
      "186:\tlearn: 0.2301868\ttotal: 237ms\tremaining: 1.03s\n",
      "187:\tlearn: 0.2298436\ttotal: 238ms\tremaining: 1.03s\n",
      "188:\tlearn: 0.2293383\ttotal: 240ms\tremaining: 1.03s\n",
      "189:\tlearn: 0.2288852\ttotal: 241ms\tremaining: 1.03s\n",
      "190:\tlearn: 0.2281770\ttotal: 242ms\tremaining: 1.02s\n",
      "191:\tlearn: 0.2277192\ttotal: 243ms\tremaining: 1.02s\n",
      "192:\tlearn: 0.2269364\ttotal: 244ms\tremaining: 1.02s\n",
      "193:\tlearn: 0.2266151\ttotal: 246ms\tremaining: 1.02s\n",
      "194:\tlearn: 0.2261433\ttotal: 247ms\tremaining: 1.02s\n",
      "195:\tlearn: 0.2257554\ttotal: 248ms\tremaining: 1.02s\n",
      "196:\tlearn: 0.2250116\ttotal: 250ms\tremaining: 1.02s\n",
      "197:\tlearn: 0.2243507\ttotal: 251ms\tremaining: 1.01s\n",
      "198:\tlearn: 0.2239189\ttotal: 252ms\tremaining: 1.01s\n",
      "199:\tlearn: 0.2232714\ttotal: 253ms\tremaining: 1.01s\n",
      "200:\tlearn: 0.2226525\ttotal: 254ms\tremaining: 1.01s\n",
      "201:\tlearn: 0.2223320\ttotal: 255ms\tremaining: 1.01s\n",
      "202:\tlearn: 0.2218648\ttotal: 256ms\tremaining: 1s\n",
      "203:\tlearn: 0.2215259\ttotal: 257ms\tremaining: 1s\n",
      "204:\tlearn: 0.2210304\ttotal: 258ms\tremaining: 1000ms\n",
      "205:\tlearn: 0.2204135\ttotal: 259ms\tremaining: 998ms\n",
      "206:\tlearn: 0.2199972\ttotal: 260ms\tremaining: 996ms\n",
      "207:\tlearn: 0.2193810\ttotal: 261ms\tremaining: 994ms\n",
      "208:\tlearn: 0.2188351\ttotal: 262ms\tremaining: 991ms\n",
      "209:\tlearn: 0.2179928\ttotal: 263ms\tremaining: 989ms\n",
      "210:\tlearn: 0.2174257\ttotal: 264ms\tremaining: 988ms\n",
      "211:\tlearn: 0.2170843\ttotal: 265ms\tremaining: 986ms\n",
      "212:\tlearn: 0.2166247\ttotal: 266ms\tremaining: 984ms\n",
      "213:\tlearn: 0.2156334\ttotal: 267ms\tremaining: 982ms\n",
      "214:\tlearn: 0.2152931\ttotal: 268ms\tremaining: 979ms\n",
      "215:\tlearn: 0.2148920\ttotal: 269ms\tremaining: 977ms\n",
      "216:\tlearn: 0.2142696\ttotal: 270ms\tremaining: 975ms\n"
     ]
    },
    {
     "name": "stdout",
     "output_type": "stream",
     "text": [
      "217:\tlearn: 0.2138943\ttotal: 272ms\tremaining: 975ms\n",
      "218:\tlearn: 0.2135982\ttotal: 273ms\tremaining: 974ms\n",
      "219:\tlearn: 0.2131671\ttotal: 274ms\tremaining: 972ms\n",
      "220:\tlearn: 0.2126499\ttotal: 275ms\tremaining: 970ms\n",
      "221:\tlearn: 0.2123038\ttotal: 276ms\tremaining: 968ms\n",
      "222:\tlearn: 0.2117713\ttotal: 277ms\tremaining: 966ms\n",
      "223:\tlearn: 0.2114096\ttotal: 278ms\tremaining: 965ms\n",
      "224:\tlearn: 0.2108961\ttotal: 279ms\tremaining: 963ms\n",
      "225:\tlearn: 0.2104821\ttotal: 280ms\tremaining: 960ms\n",
      "226:\tlearn: 0.2097019\ttotal: 281ms\tremaining: 958ms\n",
      "227:\tlearn: 0.2093413\ttotal: 283ms\tremaining: 957ms\n",
      "228:\tlearn: 0.2087073\ttotal: 284ms\tremaining: 955ms\n",
      "229:\tlearn: 0.2083624\ttotal: 285ms\tremaining: 953ms\n",
      "230:\tlearn: 0.2079323\ttotal: 286ms\tremaining: 951ms\n",
      "231:\tlearn: 0.2076251\ttotal: 287ms\tremaining: 949ms\n",
      "232:\tlearn: 0.2069987\ttotal: 288ms\tremaining: 948ms\n",
      "233:\tlearn: 0.2066494\ttotal: 289ms\tremaining: 946ms\n",
      "234:\tlearn: 0.2059781\ttotal: 290ms\tremaining: 943ms\n",
      "235:\tlearn: 0.2054482\ttotal: 291ms\tremaining: 941ms\n",
      "236:\tlearn: 0.2049538\ttotal: 292ms\tremaining: 939ms\n",
      "237:\tlearn: 0.2046708\ttotal: 293ms\tremaining: 937ms\n",
      "238:\tlearn: 0.2043844\ttotal: 294ms\tremaining: 935ms\n",
      "239:\tlearn: 0.2039809\ttotal: 295ms\tremaining: 934ms\n",
      "240:\tlearn: 0.2035479\ttotal: 296ms\tremaining: 932ms\n",
      "241:\tlearn: 0.2028928\ttotal: 297ms\tremaining: 930ms\n",
      "242:\tlearn: 0.2024963\ttotal: 298ms\tremaining: 928ms\n",
      "243:\tlearn: 0.2020462\ttotal: 299ms\tremaining: 926ms\n",
      "244:\tlearn: 0.2014749\ttotal: 300ms\tremaining: 924ms\n",
      "245:\tlearn: 0.2011446\ttotal: 301ms\tremaining: 923ms\n",
      "246:\tlearn: 0.2005357\ttotal: 302ms\tremaining: 921ms\n",
      "247:\tlearn: 0.2000487\ttotal: 303ms\tremaining: 919ms\n",
      "248:\tlearn: 0.1994414\ttotal: 304ms\tremaining: 917ms\n",
      "249:\tlearn: 0.1991196\ttotal: 305ms\tremaining: 915ms\n",
      "250:\tlearn: 0.1986772\ttotal: 306ms\tremaining: 913ms\n",
      "251:\tlearn: 0.1981451\ttotal: 307ms\tremaining: 911ms\n",
      "252:\tlearn: 0.1978024\ttotal: 308ms\tremaining: 909ms\n",
      "253:\tlearn: 0.1973234\ttotal: 309ms\tremaining: 907ms\n",
      "254:\tlearn: 0.1968983\ttotal: 310ms\tremaining: 905ms\n",
      "255:\tlearn: 0.1965252\ttotal: 311ms\tremaining: 904ms\n",
      "256:\tlearn: 0.1962151\ttotal: 312ms\tremaining: 902ms\n",
      "257:\tlearn: 0.1957559\ttotal: 313ms\tremaining: 900ms\n",
      "258:\tlearn: 0.1956439\ttotal: 314ms\tremaining: 898ms\n",
      "259:\tlearn: 0.1952736\ttotal: 315ms\tremaining: 896ms\n",
      "260:\tlearn: 0.1949837\ttotal: 316ms\tremaining: 895ms\n",
      "261:\tlearn: 0.1942847\ttotal: 317ms\tremaining: 893ms\n",
      "262:\tlearn: 0.1938391\ttotal: 318ms\tremaining: 892ms\n",
      "263:\tlearn: 0.1934073\ttotal: 319ms\tremaining: 890ms\n",
      "264:\tlearn: 0.1928571\ttotal: 320ms\tremaining: 888ms\n",
      "265:\tlearn: 0.1922743\ttotal: 321ms\tremaining: 887ms\n",
      "266:\tlearn: 0.1917795\ttotal: 322ms\tremaining: 885ms\n",
      "267:\tlearn: 0.1915774\ttotal: 323ms\tremaining: 883ms\n",
      "268:\tlearn: 0.1911414\ttotal: 324ms\tremaining: 882ms\n",
      "269:\tlearn: 0.1904952\ttotal: 325ms\tremaining: 880ms\n",
      "270:\tlearn: 0.1900325\ttotal: 326ms\tremaining: 878ms\n",
      "271:\tlearn: 0.1896501\ttotal: 327ms\tremaining: 876ms\n",
      "272:\tlearn: 0.1891458\ttotal: 328ms\tremaining: 874ms\n",
      "273:\tlearn: 0.1887481\ttotal: 329ms\tremaining: 873ms\n",
      "274:\tlearn: 0.1881878\ttotal: 330ms\tremaining: 871ms\n",
      "275:\tlearn: 0.1879519\ttotal: 331ms\tremaining: 870ms\n",
      "276:\tlearn: 0.1875467\ttotal: 332ms\tremaining: 868ms\n",
      "277:\tlearn: 0.1869990\ttotal: 334ms\tremaining: 866ms\n",
      "278:\tlearn: 0.1867006\ttotal: 335ms\tremaining: 864ms\n",
      "279:\tlearn: 0.1863494\ttotal: 336ms\tremaining: 863ms\n",
      "280:\tlearn: 0.1859318\ttotal: 337ms\tremaining: 861ms\n",
      "281:\tlearn: 0.1854289\ttotal: 338ms\tremaining: 859ms\n",
      "282:\tlearn: 0.1852479\ttotal: 339ms\tremaining: 858ms\n",
      "283:\tlearn: 0.1846950\ttotal: 340ms\tremaining: 856ms\n",
      "284:\tlearn: 0.1842610\ttotal: 341ms\tremaining: 854ms\n",
      "285:\tlearn: 0.1838047\ttotal: 342ms\tremaining: 853ms\n",
      "286:\tlearn: 0.1833872\ttotal: 343ms\tremaining: 851ms\n",
      "287:\tlearn: 0.1829104\ttotal: 344ms\tremaining: 849ms\n",
      "288:\tlearn: 0.1825282\ttotal: 345ms\tremaining: 848ms\n",
      "289:\tlearn: 0.1818662\ttotal: 346ms\tremaining: 846ms\n",
      "290:\tlearn: 0.1813465\ttotal: 347ms\tremaining: 845ms\n",
      "291:\tlearn: 0.1809611\ttotal: 348ms\tremaining: 843ms\n",
      "292:\tlearn: 0.1804681\ttotal: 349ms\tremaining: 841ms\n",
      "293:\tlearn: 0.1802625\ttotal: 350ms\tremaining: 840ms\n",
      "294:\tlearn: 0.1797657\ttotal: 351ms\tremaining: 838ms\n",
      "295:\tlearn: 0.1792842\ttotal: 352ms\tremaining: 836ms\n",
      "296:\tlearn: 0.1790194\ttotal: 353ms\tremaining: 835ms\n",
      "297:\tlearn: 0.1784451\ttotal: 354ms\tremaining: 833ms\n",
      "298:\tlearn: 0.1780668\ttotal: 355ms\tremaining: 831ms\n",
      "299:\tlearn: 0.1774554\ttotal: 356ms\tremaining: 830ms\n",
      "300:\tlearn: 0.1772146\ttotal: 357ms\tremaining: 828ms\n",
      "301:\tlearn: 0.1769500\ttotal: 357ms\tremaining: 826ms\n",
      "302:\tlearn: 0.1765769\ttotal: 358ms\tremaining: 825ms\n",
      "303:\tlearn: 0.1764266\ttotal: 360ms\tremaining: 823ms\n",
      "304:\tlearn: 0.1763263\ttotal: 361ms\tremaining: 822ms\n",
      "305:\tlearn: 0.1760485\ttotal: 361ms\tremaining: 820ms\n",
      "306:\tlearn: 0.1758154\ttotal: 362ms\tremaining: 818ms\n",
      "307:\tlearn: 0.1752842\ttotal: 364ms\tremaining: 817ms\n",
      "308:\tlearn: 0.1750358\ttotal: 365ms\tremaining: 815ms\n",
      "309:\tlearn: 0.1745466\ttotal: 366ms\tremaining: 814ms\n",
      "310:\tlearn: 0.1739755\ttotal: 367ms\tremaining: 812ms\n",
      "311:\tlearn: 0.1734112\ttotal: 367ms\tremaining: 810ms\n",
      "312:\tlearn: 0.1729989\ttotal: 368ms\tremaining: 809ms\n",
      "313:\tlearn: 0.1724983\ttotal: 369ms\tremaining: 807ms\n",
      "314:\tlearn: 0.1719875\ttotal: 370ms\tremaining: 805ms\n",
      "315:\tlearn: 0.1715829\ttotal: 371ms\tremaining: 804ms\n",
      "316:\tlearn: 0.1710713\ttotal: 372ms\tremaining: 802ms\n",
      "317:\tlearn: 0.1704964\ttotal: 373ms\tremaining: 800ms\n",
      "318:\tlearn: 0.1703409\ttotal: 374ms\tremaining: 799ms\n",
      "319:\tlearn: 0.1701961\ttotal: 375ms\tremaining: 797ms\n",
      "320:\tlearn: 0.1698304\ttotal: 376ms\tremaining: 796ms\n",
      "321:\tlearn: 0.1694953\ttotal: 377ms\tremaining: 794ms\n",
      "322:\tlearn: 0.1690637\ttotal: 378ms\tremaining: 793ms\n",
      "323:\tlearn: 0.1685789\ttotal: 379ms\tremaining: 791ms\n",
      "324:\tlearn: 0.1682847\ttotal: 380ms\tremaining: 790ms\n",
      "325:\tlearn: 0.1681256\ttotal: 381ms\tremaining: 788ms\n",
      "326:\tlearn: 0.1679755\ttotal: 382ms\tremaining: 786ms\n",
      "327:\tlearn: 0.1677515\ttotal: 383ms\tremaining: 785ms\n",
      "328:\tlearn: 0.1672012\ttotal: 384ms\tremaining: 784ms\n",
      "329:\tlearn: 0.1666766\ttotal: 385ms\tremaining: 782ms\n",
      "330:\tlearn: 0.1665702\ttotal: 386ms\tremaining: 781ms\n",
      "331:\tlearn: 0.1661951\ttotal: 387ms\tremaining: 779ms\n",
      "332:\tlearn: 0.1655225\ttotal: 388ms\tremaining: 778ms\n",
      "333:\tlearn: 0.1651648\ttotal: 390ms\tremaining: 777ms\n",
      "334:\tlearn: 0.1648976\ttotal: 391ms\tremaining: 775ms\n",
      "335:\tlearn: 0.1645580\ttotal: 392ms\tremaining: 774ms\n",
      "336:\tlearn: 0.1643721\ttotal: 393ms\tremaining: 773ms\n",
      "337:\tlearn: 0.1641346\ttotal: 394ms\tremaining: 771ms\n",
      "338:\tlearn: 0.1637286\ttotal: 395ms\tremaining: 770ms\n",
      "339:\tlearn: 0.1635762\ttotal: 396ms\tremaining: 768ms\n",
      "340:\tlearn: 0.1630914\ttotal: 397ms\tremaining: 767ms\n",
      "341:\tlearn: 0.1629333\ttotal: 398ms\tremaining: 766ms\n",
      "342:\tlearn: 0.1626573\ttotal: 399ms\tremaining: 764ms\n",
      "343:\tlearn: 0.1622398\ttotal: 400ms\tremaining: 763ms\n",
      "344:\tlearn: 0.1616708\ttotal: 401ms\tremaining: 762ms\n",
      "345:\tlearn: 0.1612164\ttotal: 402ms\tremaining: 760ms\n",
      "346:\tlearn: 0.1609064\ttotal: 403ms\tremaining: 759ms\n",
      "347:\tlearn: 0.1605205\ttotal: 404ms\tremaining: 757ms\n",
      "348:\tlearn: 0.1599910\ttotal: 405ms\tremaining: 756ms\n",
      "349:\tlearn: 0.1598314\ttotal: 406ms\tremaining: 755ms\n"
     ]
    },
    {
     "name": "stdout",
     "output_type": "stream",
     "text": [
      "350:\tlearn: 0.1594487\ttotal: 407ms\tremaining: 753ms\n",
      "351:\tlearn: 0.1590216\ttotal: 409ms\tremaining: 753ms\n",
      "352:\tlearn: 0.1586495\ttotal: 410ms\tremaining: 752ms\n",
      "353:\tlearn: 0.1582442\ttotal: 411ms\tremaining: 751ms\n",
      "354:\tlearn: 0.1579016\ttotal: 412ms\tremaining: 749ms\n",
      "355:\tlearn: 0.1575577\ttotal: 413ms\tremaining: 748ms\n",
      "356:\tlearn: 0.1571873\ttotal: 414ms\tremaining: 746ms\n",
      "357:\tlearn: 0.1567343\ttotal: 415ms\tremaining: 745ms\n",
      "358:\tlearn: 0.1563096\ttotal: 417ms\tremaining: 744ms\n",
      "359:\tlearn: 0.1557928\ttotal: 418ms\tremaining: 742ms\n",
      "360:\tlearn: 0.1553978\ttotal: 419ms\tremaining: 741ms\n",
      "361:\tlearn: 0.1550211\ttotal: 420ms\tremaining: 740ms\n",
      "362:\tlearn: 0.1548916\ttotal: 421ms\tremaining: 738ms\n",
      "363:\tlearn: 0.1547554\ttotal: 422ms\tremaining: 737ms\n",
      "364:\tlearn: 0.1544347\ttotal: 423ms\tremaining: 735ms\n",
      "365:\tlearn: 0.1540954\ttotal: 424ms\tremaining: 734ms\n",
      "366:\tlearn: 0.1536899\ttotal: 425ms\tremaining: 732ms\n",
      "367:\tlearn: 0.1532650\ttotal: 426ms\tremaining: 731ms\n",
      "368:\tlearn: 0.1527528\ttotal: 427ms\tremaining: 730ms\n",
      "369:\tlearn: 0.1523753\ttotal: 428ms\tremaining: 728ms\n",
      "370:\tlearn: 0.1520506\ttotal: 429ms\tremaining: 727ms\n",
      "371:\tlearn: 0.1518174\ttotal: 430ms\tremaining: 725ms\n",
      "372:\tlearn: 0.1514025\ttotal: 431ms\tremaining: 724ms\n",
      "373:\tlearn: 0.1509498\ttotal: 432ms\tremaining: 723ms\n",
      "374:\tlearn: 0.1506697\ttotal: 433ms\tremaining: 721ms\n",
      "375:\tlearn: 0.1503661\ttotal: 434ms\tremaining: 720ms\n",
      "376:\tlearn: 0.1502210\ttotal: 435ms\tremaining: 718ms\n",
      "377:\tlearn: 0.1497796\ttotal: 436ms\tremaining: 717ms\n",
      "378:\tlearn: 0.1496526\ttotal: 437ms\tremaining: 716ms\n",
      "379:\tlearn: 0.1492893\ttotal: 438ms\tremaining: 715ms\n",
      "380:\tlearn: 0.1491046\ttotal: 439ms\tremaining: 713ms\n",
      "381:\tlearn: 0.1487737\ttotal: 440ms\tremaining: 712ms\n",
      "382:\tlearn: 0.1486355\ttotal: 441ms\tremaining: 710ms\n",
      "383:\tlearn: 0.1482642\ttotal: 442ms\tremaining: 709ms\n",
      "384:\tlearn: 0.1479947\ttotal: 443ms\tremaining: 708ms\n",
      "385:\tlearn: 0.1477643\ttotal: 444ms\tremaining: 706ms\n",
      "386:\tlearn: 0.1475065\ttotal: 445ms\tremaining: 705ms\n",
      "387:\tlearn: 0.1470240\ttotal: 446ms\tremaining: 704ms\n",
      "388:\tlearn: 0.1468500\ttotal: 447ms\tremaining: 702ms\n",
      "389:\tlearn: 0.1465676\ttotal: 448ms\tremaining: 701ms\n",
      "390:\tlearn: 0.1462287\ttotal: 449ms\tremaining: 700ms\n",
      "391:\tlearn: 0.1458510\ttotal: 450ms\tremaining: 698ms\n",
      "392:\tlearn: 0.1454124\ttotal: 451ms\tremaining: 697ms\n",
      "393:\tlearn: 0.1450726\ttotal: 452ms\tremaining: 696ms\n",
      "394:\tlearn: 0.1447624\ttotal: 453ms\tremaining: 694ms\n",
      "395:\tlearn: 0.1445366\ttotal: 454ms\tremaining: 693ms\n",
      "396:\tlearn: 0.1441901\ttotal: 455ms\tremaining: 692ms\n",
      "397:\tlearn: 0.1437395\ttotal: 456ms\tremaining: 690ms\n",
      "398:\tlearn: 0.1434828\ttotal: 457ms\tremaining: 689ms\n",
      "399:\tlearn: 0.1430727\ttotal: 458ms\tremaining: 688ms\n",
      "400:\tlearn: 0.1426001\ttotal: 460ms\tremaining: 686ms\n",
      "401:\tlearn: 0.1422680\ttotal: 461ms\tremaining: 685ms\n",
      "402:\tlearn: 0.1418621\ttotal: 462ms\tremaining: 684ms\n",
      "403:\tlearn: 0.1414706\ttotal: 463ms\tremaining: 683ms\n",
      "404:\tlearn: 0.1413651\ttotal: 464ms\tremaining: 681ms\n",
      "405:\tlearn: 0.1411764\ttotal: 465ms\tremaining: 680ms\n",
      "406:\tlearn: 0.1407364\ttotal: 466ms\tremaining: 679ms\n",
      "407:\tlearn: 0.1404157\ttotal: 467ms\tremaining: 677ms\n",
      "408:\tlearn: 0.1401531\ttotal: 468ms\tremaining: 676ms\n",
      "409:\tlearn: 0.1397555\ttotal: 469ms\tremaining: 675ms\n",
      "410:\tlearn: 0.1395777\ttotal: 470ms\tremaining: 673ms\n",
      "411:\tlearn: 0.1392147\ttotal: 471ms\tremaining: 672ms\n",
      "412:\tlearn: 0.1390533\ttotal: 472ms\tremaining: 671ms\n",
      "413:\tlearn: 0.1389720\ttotal: 473ms\tremaining: 669ms\n",
      "414:\tlearn: 0.1387093\ttotal: 474ms\tremaining: 668ms\n",
      "415:\tlearn: 0.1384357\ttotal: 475ms\tremaining: 667ms\n",
      "416:\tlearn: 0.1382044\ttotal: 476ms\tremaining: 665ms\n",
      "417:\tlearn: 0.1380334\ttotal: 477ms\tremaining: 664ms\n",
      "418:\tlearn: 0.1375946\ttotal: 478ms\tremaining: 663ms\n",
      "419:\tlearn: 0.1373203\ttotal: 479ms\tremaining: 662ms\n",
      "420:\tlearn: 0.1370269\ttotal: 480ms\tremaining: 661ms\n",
      "421:\tlearn: 0.1366925\ttotal: 481ms\tremaining: 659ms\n",
      "422:\tlearn: 0.1363127\ttotal: 482ms\tremaining: 658ms\n",
      "423:\tlearn: 0.1359526\ttotal: 484ms\tremaining: 657ms\n",
      "424:\tlearn: 0.1356478\ttotal: 485ms\tremaining: 656ms\n",
      "425:\tlearn: 0.1353782\ttotal: 486ms\tremaining: 654ms\n",
      "426:\tlearn: 0.1351082\ttotal: 487ms\tremaining: 653ms\n",
      "427:\tlearn: 0.1347300\ttotal: 488ms\tremaining: 652ms\n",
      "428:\tlearn: 0.1344159\ttotal: 489ms\tremaining: 651ms\n",
      "429:\tlearn: 0.1343348\ttotal: 490ms\tremaining: 650ms\n",
      "430:\tlearn: 0.1338872\ttotal: 491ms\tremaining: 648ms\n",
      "431:\tlearn: 0.1336205\ttotal: 492ms\tremaining: 647ms\n",
      "432:\tlearn: 0.1334051\ttotal: 493ms\tremaining: 646ms\n",
      "433:\tlearn: 0.1333440\ttotal: 494ms\tremaining: 645ms\n",
      "434:\tlearn: 0.1329844\ttotal: 495ms\tremaining: 643ms\n",
      "435:\tlearn: 0.1327951\ttotal: 496ms\tremaining: 642ms\n",
      "436:\tlearn: 0.1325373\ttotal: 498ms\tremaining: 641ms\n",
      "437:\tlearn: 0.1323296\ttotal: 499ms\tremaining: 640ms\n",
      "438:\tlearn: 0.1320576\ttotal: 500ms\tremaining: 639ms\n",
      "439:\tlearn: 0.1319868\ttotal: 501ms\tremaining: 637ms\n",
      "440:\tlearn: 0.1316569\ttotal: 502ms\tremaining: 636ms\n",
      "441:\tlearn: 0.1314998\ttotal: 503ms\tremaining: 635ms\n",
      "442:\tlearn: 0.1313679\ttotal: 504ms\tremaining: 634ms\n",
      "443:\tlearn: 0.1309547\ttotal: 505ms\tremaining: 632ms\n",
      "444:\tlearn: 0.1308822\ttotal: 506ms\tremaining: 631ms\n",
      "445:\tlearn: 0.1305540\ttotal: 507ms\tremaining: 630ms\n",
      "446:\tlearn: 0.1304944\ttotal: 508ms\tremaining: 629ms\n",
      "447:\tlearn: 0.1301407\ttotal: 509ms\tremaining: 627ms\n",
      "448:\tlearn: 0.1299488\ttotal: 510ms\tremaining: 626ms\n",
      "449:\tlearn: 0.1296607\ttotal: 511ms\tremaining: 625ms\n",
      "450:\tlearn: 0.1295536\ttotal: 512ms\tremaining: 624ms\n",
      "451:\tlearn: 0.1292337\ttotal: 513ms\tremaining: 622ms\n",
      "452:\tlearn: 0.1289806\ttotal: 514ms\tremaining: 621ms\n",
      "453:\tlearn: 0.1288937\ttotal: 515ms\tremaining: 620ms\n",
      "454:\tlearn: 0.1285645\ttotal: 517ms\tremaining: 619ms\n",
      "455:\tlearn: 0.1284668\ttotal: 518ms\tremaining: 618ms\n",
      "456:\tlearn: 0.1280399\ttotal: 519ms\tremaining: 617ms\n",
      "457:\tlearn: 0.1277104\ttotal: 520ms\tremaining: 615ms\n",
      "458:\tlearn: 0.1275591\ttotal: 521ms\tremaining: 614ms\n",
      "459:\tlearn: 0.1275050\ttotal: 522ms\tremaining: 613ms\n",
      "460:\tlearn: 0.1274201\ttotal: 523ms\tremaining: 612ms\n",
      "461:\tlearn: 0.1272686\ttotal: 524ms\tremaining: 610ms\n",
      "462:\tlearn: 0.1269536\ttotal: 525ms\tremaining: 609ms\n",
      "463:\tlearn: 0.1266751\ttotal: 526ms\tremaining: 608ms\n",
      "464:\tlearn: 0.1263183\ttotal: 527ms\tremaining: 607ms\n",
      "465:\tlearn: 0.1261163\ttotal: 528ms\tremaining: 605ms\n",
      "466:\tlearn: 0.1258520\ttotal: 529ms\tremaining: 604ms\n",
      "467:\tlearn: 0.1255841\ttotal: 530ms\tremaining: 603ms\n",
      "468:\tlearn: 0.1252447\ttotal: 531ms\tremaining: 601ms\n",
      "469:\tlearn: 0.1248583\ttotal: 532ms\tremaining: 600ms\n",
      "470:\tlearn: 0.1247542\ttotal: 533ms\tremaining: 599ms\n",
      "471:\tlearn: 0.1245587\ttotal: 534ms\tremaining: 598ms\n",
      "472:\tlearn: 0.1241852\ttotal: 536ms\tremaining: 597ms\n",
      "473:\tlearn: 0.1238877\ttotal: 537ms\tremaining: 595ms\n",
      "474:\tlearn: 0.1237939\ttotal: 537ms\tremaining: 594ms\n",
      "475:\tlearn: 0.1234711\ttotal: 538ms\tremaining: 593ms\n",
      "476:\tlearn: 0.1232242\ttotal: 540ms\tremaining: 592ms\n",
      "477:\tlearn: 0.1231635\ttotal: 541ms\tremaining: 590ms\n",
      "478:\tlearn: 0.1229000\ttotal: 541ms\tremaining: 589ms\n",
      "479:\tlearn: 0.1227041\ttotal: 542ms\tremaining: 588ms\n"
     ]
    },
    {
     "name": "stdout",
     "output_type": "stream",
     "text": [
      "480:\tlearn: 0.1223027\ttotal: 543ms\tremaining: 586ms\n",
      "481:\tlearn: 0.1220170\ttotal: 545ms\tremaining: 586ms\n",
      "482:\tlearn: 0.1218744\ttotal: 546ms\tremaining: 584ms\n",
      "483:\tlearn: 0.1216374\ttotal: 547ms\tremaining: 583ms\n",
      "484:\tlearn: 0.1214864\ttotal: 548ms\tremaining: 582ms\n",
      "485:\tlearn: 0.1211639\ttotal: 549ms\tremaining: 581ms\n",
      "486:\tlearn: 0.1208457\ttotal: 550ms\tremaining: 580ms\n",
      "487:\tlearn: 0.1206186\ttotal: 551ms\tremaining: 579ms\n",
      "488:\tlearn: 0.1204006\ttotal: 552ms\tremaining: 577ms\n",
      "489:\tlearn: 0.1200865\ttotal: 554ms\tremaining: 576ms\n",
      "490:\tlearn: 0.1198608\ttotal: 555ms\tremaining: 575ms\n",
      "491:\tlearn: 0.1196030\ttotal: 556ms\tremaining: 574ms\n",
      "492:\tlearn: 0.1194238\ttotal: 557ms\tremaining: 572ms\n",
      "493:\tlearn: 0.1192120\ttotal: 557ms\tremaining: 571ms\n",
      "494:\tlearn: 0.1189446\ttotal: 558ms\tremaining: 570ms\n",
      "495:\tlearn: 0.1187379\ttotal: 559ms\tremaining: 568ms\n",
      "496:\tlearn: 0.1184795\ttotal: 560ms\tremaining: 567ms\n",
      "497:\tlearn: 0.1184025\ttotal: 561ms\tremaining: 566ms\n",
      "498:\tlearn: 0.1183474\ttotal: 562ms\tremaining: 565ms\n",
      "499:\tlearn: 0.1180837\ttotal: 564ms\tremaining: 564ms\n",
      "500:\tlearn: 0.1180317\ttotal: 565ms\tremaining: 562ms\n",
      "501:\tlearn: 0.1176795\ttotal: 566ms\tremaining: 561ms\n",
      "502:\tlearn: 0.1176086\ttotal: 567ms\tremaining: 560ms\n",
      "503:\tlearn: 0.1173512\ttotal: 568ms\tremaining: 559ms\n",
      "504:\tlearn: 0.1170230\ttotal: 569ms\tremaining: 557ms\n",
      "505:\tlearn: 0.1169405\ttotal: 570ms\tremaining: 556ms\n",
      "506:\tlearn: 0.1167107\ttotal: 571ms\tremaining: 555ms\n",
      "507:\tlearn: 0.1164711\ttotal: 572ms\tremaining: 554ms\n",
      "508:\tlearn: 0.1161898\ttotal: 573ms\tremaining: 553ms\n",
      "509:\tlearn: 0.1159622\ttotal: 574ms\tremaining: 551ms\n",
      "510:\tlearn: 0.1158696\ttotal: 575ms\tremaining: 550ms\n",
      "511:\tlearn: 0.1158102\ttotal: 576ms\tremaining: 549ms\n",
      "512:\tlearn: 0.1154838\ttotal: 577ms\tremaining: 548ms\n",
      "513:\tlearn: 0.1152401\ttotal: 578ms\tremaining: 547ms\n",
      "514:\tlearn: 0.1150024\ttotal: 579ms\tremaining: 545ms\n",
      "515:\tlearn: 0.1148363\ttotal: 580ms\tremaining: 544ms\n",
      "516:\tlearn: 0.1145909\ttotal: 581ms\tremaining: 543ms\n",
      "517:\tlearn: 0.1142646\ttotal: 582ms\tremaining: 542ms\n",
      "518:\tlearn: 0.1142042\ttotal: 583ms\tremaining: 541ms\n",
      "519:\tlearn: 0.1141312\ttotal: 584ms\tremaining: 539ms\n",
      "520:\tlearn: 0.1139633\ttotal: 585ms\tremaining: 538ms\n",
      "521:\tlearn: 0.1138966\ttotal: 587ms\tremaining: 537ms\n",
      "522:\tlearn: 0.1136907\ttotal: 588ms\tremaining: 536ms\n",
      "523:\tlearn: 0.1134345\ttotal: 589ms\tremaining: 535ms\n",
      "524:\tlearn: 0.1131239\ttotal: 589ms\tremaining: 533ms\n",
      "525:\tlearn: 0.1128898\ttotal: 591ms\tremaining: 532ms\n",
      "526:\tlearn: 0.1126514\ttotal: 592ms\tremaining: 531ms\n",
      "527:\tlearn: 0.1124747\ttotal: 593ms\tremaining: 530ms\n",
      "528:\tlearn: 0.1123300\ttotal: 594ms\tremaining: 529ms\n",
      "529:\tlearn: 0.1121561\ttotal: 595ms\tremaining: 527ms\n",
      "530:\tlearn: 0.1120845\ttotal: 596ms\tremaining: 526ms\n",
      "531:\tlearn: 0.1117964\ttotal: 597ms\tremaining: 525ms\n",
      "532:\tlearn: 0.1117597\ttotal: 598ms\tremaining: 524ms\n",
      "533:\tlearn: 0.1115715\ttotal: 599ms\tremaining: 522ms\n",
      "534:\tlearn: 0.1112293\ttotal: 600ms\tremaining: 521ms\n",
      "535:\tlearn: 0.1109895\ttotal: 601ms\tremaining: 520ms\n",
      "536:\tlearn: 0.1107699\ttotal: 602ms\tremaining: 519ms\n",
      "537:\tlearn: 0.1105735\ttotal: 603ms\tremaining: 518ms\n",
      "538:\tlearn: 0.1104201\ttotal: 604ms\tremaining: 517ms\n",
      "539:\tlearn: 0.1101925\ttotal: 605ms\tremaining: 515ms\n",
      "540:\tlearn: 0.1100596\ttotal: 606ms\tremaining: 514ms\n",
      "541:\tlearn: 0.1098565\ttotal: 607ms\tremaining: 513ms\n",
      "542:\tlearn: 0.1096447\ttotal: 608ms\tremaining: 512ms\n",
      "543:\tlearn: 0.1093798\ttotal: 609ms\tremaining: 511ms\n",
      "544:\tlearn: 0.1092110\ttotal: 610ms\tremaining: 509ms\n",
      "545:\tlearn: 0.1088544\ttotal: 611ms\tremaining: 508ms\n",
      "546:\tlearn: 0.1086715\ttotal: 612ms\tremaining: 507ms\n",
      "547:\tlearn: 0.1084633\ttotal: 613ms\tremaining: 506ms\n",
      "548:\tlearn: 0.1081934\ttotal: 614ms\tremaining: 505ms\n",
      "549:\tlearn: 0.1081277\ttotal: 616ms\tremaining: 504ms\n",
      "550:\tlearn: 0.1079005\ttotal: 617ms\tremaining: 502ms\n",
      "551:\tlearn: 0.1078281\ttotal: 618ms\tremaining: 501ms\n",
      "552:\tlearn: 0.1075655\ttotal: 619ms\tremaining: 500ms\n",
      "553:\tlearn: 0.1073368\ttotal: 620ms\tremaining: 499ms\n",
      "554:\tlearn: 0.1072500\ttotal: 621ms\tremaining: 498ms\n",
      "555:\tlearn: 0.1070142\ttotal: 622ms\tremaining: 497ms\n",
      "556:\tlearn: 0.1069299\ttotal: 623ms\tremaining: 496ms\n",
      "557:\tlearn: 0.1067331\ttotal: 624ms\tremaining: 494ms\n",
      "558:\tlearn: 0.1064692\ttotal: 625ms\tremaining: 493ms\n",
      "559:\tlearn: 0.1062531\ttotal: 626ms\tremaining: 492ms\n",
      "560:\tlearn: 0.1059824\ttotal: 627ms\tremaining: 491ms\n",
      "561:\tlearn: 0.1058327\ttotal: 628ms\tremaining: 490ms\n",
      "562:\tlearn: 0.1057741\ttotal: 629ms\tremaining: 489ms\n",
      "563:\tlearn: 0.1056119\ttotal: 631ms\tremaining: 487ms\n",
      "564:\tlearn: 0.1055816\ttotal: 632ms\tremaining: 486ms\n",
      "565:\tlearn: 0.1053985\ttotal: 633ms\tremaining: 485ms\n",
      "566:\tlearn: 0.1051259\ttotal: 634ms\tremaining: 484ms\n",
      "567:\tlearn: 0.1049419\ttotal: 635ms\tremaining: 483ms\n",
      "568:\tlearn: 0.1047038\ttotal: 636ms\tremaining: 482ms\n",
      "569:\tlearn: 0.1045602\ttotal: 637ms\tremaining: 481ms\n",
      "570:\tlearn: 0.1043707\ttotal: 638ms\tremaining: 480ms\n",
      "571:\tlearn: 0.1042972\ttotal: 639ms\tremaining: 478ms\n",
      "572:\tlearn: 0.1040417\ttotal: 640ms\tremaining: 477ms\n",
      "573:\tlearn: 0.1040071\ttotal: 641ms\tremaining: 476ms\n",
      "574:\tlearn: 0.1037560\ttotal: 642ms\tremaining: 475ms\n",
      "575:\tlearn: 0.1034252\ttotal: 644ms\tremaining: 474ms\n",
      "576:\tlearn: 0.1033708\ttotal: 645ms\tremaining: 473ms\n",
      "577:\tlearn: 0.1031512\ttotal: 646ms\tremaining: 471ms\n",
      "578:\tlearn: 0.1029781\ttotal: 647ms\tremaining: 470ms\n",
      "579:\tlearn: 0.1027385\ttotal: 648ms\tremaining: 469ms\n",
      "580:\tlearn: 0.1026162\ttotal: 649ms\tremaining: 468ms\n",
      "581:\tlearn: 0.1024087\ttotal: 650ms\tremaining: 467ms\n",
      "582:\tlearn: 0.1023022\ttotal: 652ms\tremaining: 466ms\n",
      "583:\tlearn: 0.1020438\ttotal: 653ms\tremaining: 465ms\n",
      "584:\tlearn: 0.1018645\ttotal: 654ms\tremaining: 464ms\n",
      "585:\tlearn: 0.1015675\ttotal: 655ms\tremaining: 463ms\n",
      "586:\tlearn: 0.1015372\ttotal: 656ms\tremaining: 462ms\n",
      "587:\tlearn: 0.1015073\ttotal: 657ms\tremaining: 461ms\n",
      "588:\tlearn: 0.1012947\ttotal: 658ms\tremaining: 459ms\n",
      "589:\tlearn: 0.1010725\ttotal: 659ms\tremaining: 458ms\n",
      "590:\tlearn: 0.1009788\ttotal: 660ms\tremaining: 457ms\n",
      "591:\tlearn: 0.1007985\ttotal: 662ms\tremaining: 456ms\n",
      "592:\tlearn: 0.1006372\ttotal: 663ms\tremaining: 455ms\n",
      "593:\tlearn: 0.1003535\ttotal: 664ms\tremaining: 454ms\n",
      "594:\tlearn: 0.1001833\ttotal: 666ms\tremaining: 453ms\n",
      "595:\tlearn: 0.0999795\ttotal: 667ms\tremaining: 452ms\n",
      "596:\tlearn: 0.0998382\ttotal: 668ms\tremaining: 451ms\n",
      "597:\tlearn: 0.0996450\ttotal: 669ms\tremaining: 450ms\n",
      "598:\tlearn: 0.0994659\ttotal: 670ms\tremaining: 448ms\n",
      "599:\tlearn: 0.0992925\ttotal: 671ms\tremaining: 447ms\n",
      "600:\tlearn: 0.0992387\ttotal: 672ms\tremaining: 446ms\n",
      "601:\tlearn: 0.0989188\ttotal: 673ms\tremaining: 445ms\n",
      "602:\tlearn: 0.0987664\ttotal: 675ms\tremaining: 444ms\n",
      "603:\tlearn: 0.0985886\ttotal: 676ms\tremaining: 443ms\n",
      "604:\tlearn: 0.0984468\ttotal: 677ms\tremaining: 442ms\n",
      "605:\tlearn: 0.0983877\ttotal: 678ms\tremaining: 441ms\n",
      "606:\tlearn: 0.0982021\ttotal: 678ms\tremaining: 439ms\n"
     ]
    },
    {
     "name": "stdout",
     "output_type": "stream",
     "text": [
      "607:\tlearn: 0.0979878\ttotal: 679ms\tremaining: 438ms\n",
      "608:\tlearn: 0.0977845\ttotal: 682ms\tremaining: 438ms\n",
      "609:\tlearn: 0.0977546\ttotal: 683ms\tremaining: 437ms\n",
      "610:\tlearn: 0.0975287\ttotal: 684ms\tremaining: 436ms\n",
      "611:\tlearn: 0.0973650\ttotal: 685ms\tremaining: 434ms\n",
      "612:\tlearn: 0.0971304\ttotal: 686ms\tremaining: 433ms\n",
      "613:\tlearn: 0.0969885\ttotal: 687ms\tremaining: 432ms\n",
      "614:\tlearn: 0.0967960\ttotal: 688ms\tremaining: 431ms\n",
      "615:\tlearn: 0.0965535\ttotal: 689ms\tremaining: 430ms\n",
      "616:\tlearn: 0.0963718\ttotal: 690ms\tremaining: 429ms\n",
      "617:\tlearn: 0.0961765\ttotal: 691ms\tremaining: 427ms\n",
      "618:\tlearn: 0.0959150\ttotal: 692ms\tremaining: 426ms\n",
      "619:\tlearn: 0.0957771\ttotal: 694ms\tremaining: 425ms\n",
      "620:\tlearn: 0.0957000\ttotal: 695ms\tremaining: 424ms\n",
      "621:\tlearn: 0.0954874\ttotal: 696ms\tremaining: 423ms\n",
      "622:\tlearn: 0.0952150\ttotal: 697ms\tremaining: 422ms\n",
      "623:\tlearn: 0.0950991\ttotal: 698ms\tremaining: 420ms\n",
      "624:\tlearn: 0.0949602\ttotal: 699ms\tremaining: 419ms\n",
      "625:\tlearn: 0.0947741\ttotal: 700ms\tremaining: 418ms\n",
      "626:\tlearn: 0.0947164\ttotal: 701ms\tremaining: 417ms\n",
      "627:\tlearn: 0.0945196\ttotal: 702ms\tremaining: 416ms\n",
      "628:\tlearn: 0.0943193\ttotal: 703ms\tremaining: 415ms\n",
      "629:\tlearn: 0.0941565\ttotal: 704ms\tremaining: 414ms\n",
      "630:\tlearn: 0.0940469\ttotal: 705ms\tremaining: 412ms\n",
      "631:\tlearn: 0.0938670\ttotal: 706ms\tremaining: 411ms\n",
      "632:\tlearn: 0.0936640\ttotal: 707ms\tremaining: 410ms\n",
      "633:\tlearn: 0.0935162\ttotal: 708ms\tremaining: 409ms\n",
      "634:\tlearn: 0.0933442\ttotal: 709ms\tremaining: 408ms\n",
      "635:\tlearn: 0.0931967\ttotal: 710ms\tremaining: 407ms\n",
      "636:\tlearn: 0.0930173\ttotal: 711ms\tremaining: 405ms\n",
      "637:\tlearn: 0.0929947\ttotal: 712ms\tremaining: 404ms\n",
      "638:\tlearn: 0.0928128\ttotal: 713ms\tremaining: 403ms\n",
      "639:\tlearn: 0.0926432\ttotal: 714ms\tremaining: 402ms\n",
      "640:\tlearn: 0.0924028\ttotal: 715ms\tremaining: 401ms\n",
      "641:\tlearn: 0.0922915\ttotal: 716ms\tremaining: 399ms\n",
      "642:\tlearn: 0.0921903\ttotal: 717ms\tremaining: 398ms\n",
      "643:\tlearn: 0.0921621\ttotal: 718ms\tremaining: 397ms\n",
      "644:\tlearn: 0.0921126\ttotal: 720ms\tremaining: 396ms\n",
      "645:\tlearn: 0.0918542\ttotal: 721ms\tremaining: 395ms\n",
      "646:\tlearn: 0.0917791\ttotal: 722ms\tremaining: 394ms\n",
      "647:\tlearn: 0.0917402\ttotal: 723ms\tremaining: 393ms\n",
      "648:\tlearn: 0.0916558\ttotal: 724ms\tremaining: 391ms\n",
      "649:\tlearn: 0.0915131\ttotal: 725ms\tremaining: 390ms\n",
      "650:\tlearn: 0.0914857\ttotal: 726ms\tremaining: 389ms\n",
      "651:\tlearn: 0.0912931\ttotal: 727ms\tremaining: 388ms\n",
      "652:\tlearn: 0.0911804\ttotal: 728ms\tremaining: 387ms\n",
      "653:\tlearn: 0.0910280\ttotal: 729ms\tremaining: 386ms\n",
      "654:\tlearn: 0.0908222\ttotal: 730ms\tremaining: 384ms\n",
      "655:\tlearn: 0.0906014\ttotal: 731ms\tremaining: 383ms\n",
      "656:\tlearn: 0.0904138\ttotal: 732ms\tremaining: 382ms\n",
      "657:\tlearn: 0.0901909\ttotal: 733ms\tremaining: 381ms\n",
      "658:\tlearn: 0.0901653\ttotal: 734ms\tremaining: 380ms\n",
      "659:\tlearn: 0.0900585\ttotal: 735ms\tremaining: 379ms\n",
      "660:\tlearn: 0.0900321\ttotal: 736ms\tremaining: 378ms\n",
      "661:\tlearn: 0.0898248\ttotal: 737ms\tremaining: 376ms\n",
      "662:\tlearn: 0.0897989\ttotal: 738ms\tremaining: 375ms\n",
      "663:\tlearn: 0.0895925\ttotal: 739ms\tremaining: 374ms\n",
      "664:\tlearn: 0.0893744\ttotal: 740ms\tremaining: 373ms\n",
      "665:\tlearn: 0.0891409\ttotal: 741ms\tremaining: 372ms\n",
      "666:\tlearn: 0.0891151\ttotal: 742ms\tremaining: 371ms\n",
      "667:\tlearn: 0.0889603\ttotal: 743ms\tremaining: 369ms\n",
      "668:\tlearn: 0.0888701\ttotal: 744ms\tremaining: 368ms\n",
      "669:\tlearn: 0.0887941\ttotal: 746ms\tremaining: 367ms\n",
      "670:\tlearn: 0.0886215\ttotal: 747ms\tremaining: 366ms\n",
      "671:\tlearn: 0.0884663\ttotal: 747ms\tremaining: 365ms\n",
      "672:\tlearn: 0.0884371\ttotal: 748ms\tremaining: 364ms\n",
      "673:\tlearn: 0.0883146\ttotal: 749ms\tremaining: 363ms\n",
      "674:\tlearn: 0.0881117\ttotal: 751ms\tremaining: 361ms\n",
      "675:\tlearn: 0.0880494\ttotal: 752ms\tremaining: 360ms\n",
      "676:\tlearn: 0.0877935\ttotal: 753ms\tremaining: 359ms\n",
      "677:\tlearn: 0.0875781\ttotal: 754ms\tremaining: 358ms\n",
      "678:\tlearn: 0.0874760\ttotal: 755ms\tremaining: 357ms\n",
      "679:\tlearn: 0.0873331\ttotal: 756ms\tremaining: 356ms\n",
      "680:\tlearn: 0.0873176\ttotal: 757ms\tremaining: 354ms\n",
      "681:\tlearn: 0.0872335\ttotal: 758ms\tremaining: 353ms\n",
      "682:\tlearn: 0.0870456\ttotal: 759ms\tremaining: 352ms\n",
      "683:\tlearn: 0.0868831\ttotal: 760ms\tremaining: 351ms\n",
      "684:\tlearn: 0.0867017\ttotal: 761ms\tremaining: 350ms\n",
      "685:\tlearn: 0.0865730\ttotal: 762ms\tremaining: 349ms\n",
      "686:\tlearn: 0.0864029\ttotal: 763ms\tremaining: 348ms\n",
      "687:\tlearn: 0.0862406\ttotal: 764ms\tremaining: 346ms\n",
      "688:\tlearn: 0.0861720\ttotal: 765ms\tremaining: 345ms\n",
      "689:\tlearn: 0.0859894\ttotal: 766ms\tremaining: 344ms\n",
      "690:\tlearn: 0.0858380\ttotal: 767ms\tremaining: 343ms\n",
      "691:\tlearn: 0.0857088\ttotal: 768ms\tremaining: 342ms\n",
      "692:\tlearn: 0.0855987\ttotal: 769ms\tremaining: 341ms\n",
      "693:\tlearn: 0.0854672\ttotal: 770ms\tremaining: 340ms\n",
      "694:\tlearn: 0.0854168\ttotal: 771ms\tremaining: 338ms\n",
      "695:\tlearn: 0.0852321\ttotal: 772ms\tremaining: 337ms\n",
      "696:\tlearn: 0.0850113\ttotal: 773ms\tremaining: 336ms\n",
      "697:\tlearn: 0.0848671\ttotal: 775ms\tremaining: 335ms\n",
      "698:\tlearn: 0.0848435\ttotal: 776ms\tremaining: 334ms\n",
      "699:\tlearn: 0.0846763\ttotal: 777ms\tremaining: 333ms\n",
      "700:\tlearn: 0.0845408\ttotal: 778ms\tremaining: 332ms\n",
      "701:\tlearn: 0.0844356\ttotal: 779ms\tremaining: 331ms\n",
      "702:\tlearn: 0.0843582\ttotal: 780ms\tremaining: 329ms\n",
      "703:\tlearn: 0.0842195\ttotal: 781ms\tremaining: 328ms\n",
      "704:\tlearn: 0.0841132\ttotal: 782ms\tremaining: 327ms\n",
      "705:\tlearn: 0.0840254\ttotal: 783ms\tremaining: 326ms\n",
      "706:\tlearn: 0.0839238\ttotal: 785ms\tremaining: 325ms\n",
      "707:\tlearn: 0.0837832\ttotal: 786ms\tremaining: 324ms\n",
      "708:\tlearn: 0.0836579\ttotal: 787ms\tremaining: 323ms\n",
      "709:\tlearn: 0.0835623\ttotal: 788ms\tremaining: 322ms\n",
      "710:\tlearn: 0.0834938\ttotal: 789ms\tremaining: 321ms\n",
      "711:\tlearn: 0.0834731\ttotal: 790ms\tremaining: 320ms\n",
      "712:\tlearn: 0.0833273\ttotal: 791ms\tremaining: 319ms\n",
      "713:\tlearn: 0.0832208\ttotal: 793ms\tremaining: 317ms\n",
      "714:\tlearn: 0.0830562\ttotal: 794ms\tremaining: 316ms\n",
      "715:\tlearn: 0.0830433\ttotal: 795ms\tremaining: 315ms\n",
      "716:\tlearn: 0.0829085\ttotal: 796ms\tremaining: 314ms\n",
      "717:\tlearn: 0.0827933\ttotal: 797ms\tremaining: 313ms\n",
      "718:\tlearn: 0.0827311\ttotal: 797ms\tremaining: 312ms\n",
      "719:\tlearn: 0.0826268\ttotal: 799ms\tremaining: 311ms\n",
      "720:\tlearn: 0.0824898\ttotal: 800ms\tremaining: 309ms\n",
      "721:\tlearn: 0.0823297\ttotal: 801ms\tremaining: 308ms\n",
      "722:\tlearn: 0.0821344\ttotal: 802ms\tremaining: 307ms\n",
      "723:\tlearn: 0.0819693\ttotal: 803ms\tremaining: 306ms\n",
      "724:\tlearn: 0.0819502\ttotal: 804ms\tremaining: 305ms\n",
      "725:\tlearn: 0.0818078\ttotal: 805ms\tremaining: 304ms\n",
      "726:\tlearn: 0.0816709\ttotal: 806ms\tremaining: 303ms\n",
      "727:\tlearn: 0.0815552\ttotal: 807ms\tremaining: 301ms\n",
      "728:\tlearn: 0.0815202\ttotal: 808ms\tremaining: 300ms\n"
     ]
    },
    {
     "name": "stdout",
     "output_type": "stream",
     "text": [
      "729:\tlearn: 0.0813461\ttotal: 810ms\tremaining: 300ms\n",
      "730:\tlearn: 0.0812925\ttotal: 811ms\tremaining: 298ms\n",
      "731:\tlearn: 0.0811670\ttotal: 812ms\tremaining: 297ms\n",
      "732:\tlearn: 0.0811454\ttotal: 813ms\tremaining: 296ms\n",
      "733:\tlearn: 0.0809245\ttotal: 814ms\tremaining: 295ms\n",
      "734:\tlearn: 0.0808096\ttotal: 815ms\tremaining: 294ms\n",
      "735:\tlearn: 0.0807873\ttotal: 816ms\tremaining: 293ms\n",
      "736:\tlearn: 0.0805851\ttotal: 817ms\tremaining: 292ms\n",
      "737:\tlearn: 0.0804325\ttotal: 818ms\tremaining: 290ms\n",
      "738:\tlearn: 0.0803056\ttotal: 819ms\tremaining: 289ms\n",
      "739:\tlearn: 0.0801736\ttotal: 820ms\tremaining: 288ms\n",
      "740:\tlearn: 0.0801529\ttotal: 821ms\tremaining: 287ms\n",
      "741:\tlearn: 0.0800819\ttotal: 822ms\tremaining: 286ms\n",
      "742:\tlearn: 0.0799905\ttotal: 823ms\tremaining: 285ms\n",
      "743:\tlearn: 0.0799066\ttotal: 824ms\tremaining: 283ms\n",
      "744:\tlearn: 0.0798155\ttotal: 825ms\tremaining: 282ms\n",
      "745:\tlearn: 0.0797348\ttotal: 826ms\tremaining: 281ms\n",
      "746:\tlearn: 0.0795794\ttotal: 827ms\tremaining: 280ms\n",
      "747:\tlearn: 0.0794442\ttotal: 828ms\tremaining: 279ms\n",
      "748:\tlearn: 0.0793731\ttotal: 829ms\tremaining: 278ms\n",
      "749:\tlearn: 0.0792568\ttotal: 830ms\tremaining: 277ms\n",
      "750:\tlearn: 0.0790972\ttotal: 831ms\tremaining: 276ms\n",
      "751:\tlearn: 0.0789931\ttotal: 833ms\tremaining: 275ms\n",
      "752:\tlearn: 0.0788098\ttotal: 834ms\tremaining: 273ms\n",
      "753:\tlearn: 0.0786335\ttotal: 835ms\tremaining: 272ms\n",
      "754:\tlearn: 0.0785666\ttotal: 836ms\tremaining: 271ms\n",
      "755:\tlearn: 0.0783754\ttotal: 837ms\tremaining: 270ms\n",
      "756:\tlearn: 0.0783007\ttotal: 838ms\tremaining: 269ms\n",
      "757:\tlearn: 0.0782115\ttotal: 839ms\tremaining: 268ms\n",
      "758:\tlearn: 0.0781014\ttotal: 840ms\tremaining: 267ms\n",
      "759:\tlearn: 0.0780829\ttotal: 841ms\tremaining: 266ms\n",
      "760:\tlearn: 0.0780410\ttotal: 842ms\tremaining: 264ms\n",
      "761:\tlearn: 0.0779133\ttotal: 843ms\tremaining: 263ms\n",
      "762:\tlearn: 0.0777718\ttotal: 844ms\tremaining: 262ms\n",
      "763:\tlearn: 0.0776798\ttotal: 845ms\tremaining: 261ms\n",
      "764:\tlearn: 0.0775942\ttotal: 847ms\tremaining: 260ms\n",
      "765:\tlearn: 0.0775229\ttotal: 848ms\tremaining: 259ms\n",
      "766:\tlearn: 0.0774366\ttotal: 849ms\tremaining: 258ms\n",
      "767:\tlearn: 0.0773149\ttotal: 850ms\tremaining: 257ms\n",
      "768:\tlearn: 0.0772234\ttotal: 851ms\tremaining: 256ms\n",
      "769:\tlearn: 0.0771715\ttotal: 852ms\tremaining: 254ms\n",
      "770:\tlearn: 0.0770514\ttotal: 853ms\tremaining: 253ms\n",
      "771:\tlearn: 0.0768630\ttotal: 854ms\tremaining: 252ms\n",
      "772:\tlearn: 0.0767229\ttotal: 855ms\tremaining: 251ms\n",
      "773:\tlearn: 0.0766928\ttotal: 856ms\tremaining: 250ms\n",
      "774:\tlearn: 0.0765879\ttotal: 858ms\tremaining: 249ms\n",
      "775:\tlearn: 0.0764633\ttotal: 859ms\tremaining: 248ms\n",
      "776:\tlearn: 0.0763884\ttotal: 860ms\tremaining: 247ms\n",
      "777:\tlearn: 0.0762827\ttotal: 861ms\tremaining: 246ms\n",
      "778:\tlearn: 0.0760891\ttotal: 862ms\tremaining: 245ms\n",
      "779:\tlearn: 0.0760073\ttotal: 863ms\tremaining: 243ms\n",
      "780:\tlearn: 0.0759321\ttotal: 864ms\tremaining: 242ms\n",
      "781:\tlearn: 0.0758028\ttotal: 865ms\tremaining: 241ms\n",
      "782:\tlearn: 0.0757176\ttotal: 866ms\tremaining: 240ms\n",
      "783:\tlearn: 0.0756737\ttotal: 868ms\tremaining: 239ms\n",
      "784:\tlearn: 0.0754974\ttotal: 869ms\tremaining: 238ms\n",
      "785:\tlearn: 0.0753883\ttotal: 870ms\tremaining: 237ms\n",
      "786:\tlearn: 0.0751950\ttotal: 871ms\tremaining: 236ms\n",
      "787:\tlearn: 0.0750197\ttotal: 872ms\tremaining: 235ms\n",
      "788:\tlearn: 0.0749061\ttotal: 873ms\tremaining: 234ms\n",
      "789:\tlearn: 0.0748945\ttotal: 874ms\tremaining: 232ms\n",
      "790:\tlearn: 0.0748405\ttotal: 875ms\tremaining: 231ms\n",
      "791:\tlearn: 0.0746487\ttotal: 876ms\tremaining: 230ms\n",
      "792:\tlearn: 0.0745504\ttotal: 878ms\tremaining: 229ms\n",
      "793:\tlearn: 0.0745416\ttotal: 879ms\tremaining: 228ms\n",
      "794:\tlearn: 0.0745124\ttotal: 880ms\tremaining: 227ms\n",
      "795:\tlearn: 0.0744158\ttotal: 881ms\tremaining: 226ms\n",
      "796:\tlearn: 0.0742588\ttotal: 882ms\tremaining: 225ms\n",
      "797:\tlearn: 0.0742019\ttotal: 883ms\tremaining: 224ms\n",
      "798:\tlearn: 0.0741408\ttotal: 884ms\tremaining: 222ms\n",
      "799:\tlearn: 0.0739615\ttotal: 885ms\tremaining: 221ms\n",
      "800:\tlearn: 0.0738188\ttotal: 886ms\tremaining: 220ms\n",
      "801:\tlearn: 0.0738069\ttotal: 887ms\tremaining: 219ms\n",
      "802:\tlearn: 0.0736981\ttotal: 888ms\tremaining: 218ms\n",
      "803:\tlearn: 0.0736694\ttotal: 889ms\tremaining: 217ms\n",
      "804:\tlearn: 0.0736060\ttotal: 890ms\tremaining: 216ms\n",
      "805:\tlearn: 0.0735928\ttotal: 891ms\tremaining: 214ms\n",
      "806:\tlearn: 0.0735568\ttotal: 892ms\tremaining: 213ms\n",
      "807:\tlearn: 0.0734749\ttotal: 894ms\tremaining: 212ms\n",
      "808:\tlearn: 0.0733363\ttotal: 895ms\tremaining: 211ms\n",
      "809:\tlearn: 0.0732870\ttotal: 896ms\tremaining: 210ms\n",
      "810:\tlearn: 0.0732585\ttotal: 897ms\tremaining: 209ms\n",
      "811:\tlearn: 0.0732394\ttotal: 898ms\tremaining: 208ms\n",
      "812:\tlearn: 0.0731097\ttotal: 899ms\tremaining: 207ms\n",
      "813:\tlearn: 0.0730254\ttotal: 900ms\tremaining: 206ms\n",
      "814:\tlearn: 0.0729649\ttotal: 901ms\tremaining: 205ms\n",
      "815:\tlearn: 0.0728701\ttotal: 902ms\tremaining: 203ms\n",
      "816:\tlearn: 0.0728235\ttotal: 903ms\tremaining: 202ms\n",
      "817:\tlearn: 0.0727271\ttotal: 905ms\tremaining: 201ms\n",
      "818:\tlearn: 0.0725989\ttotal: 906ms\tremaining: 200ms\n",
      "819:\tlearn: 0.0725017\ttotal: 907ms\tremaining: 199ms\n",
      "820:\tlearn: 0.0722723\ttotal: 908ms\tremaining: 198ms\n",
      "821:\tlearn: 0.0721640\ttotal: 909ms\tremaining: 197ms\n",
      "822:\tlearn: 0.0719958\ttotal: 910ms\tremaining: 196ms\n",
      "823:\tlearn: 0.0718830\ttotal: 911ms\tremaining: 195ms\n",
      "824:\tlearn: 0.0717703\ttotal: 912ms\tremaining: 194ms\n",
      "825:\tlearn: 0.0716215\ttotal: 913ms\tremaining: 192ms\n",
      "826:\tlearn: 0.0714964\ttotal: 915ms\tremaining: 191ms\n",
      "827:\tlearn: 0.0713438\ttotal: 916ms\tremaining: 190ms\n",
      "828:\tlearn: 0.0712286\ttotal: 917ms\tremaining: 189ms\n",
      "829:\tlearn: 0.0711806\ttotal: 918ms\tremaining: 188ms\n",
      "830:\tlearn: 0.0710551\ttotal: 919ms\tremaining: 187ms\n",
      "831:\tlearn: 0.0710248\ttotal: 920ms\tremaining: 186ms\n",
      "832:\tlearn: 0.0708442\ttotal: 921ms\tremaining: 185ms\n",
      "833:\tlearn: 0.0707776\ttotal: 922ms\tremaining: 183ms\n",
      "834:\tlearn: 0.0706679\ttotal: 923ms\tremaining: 182ms\n",
      "835:\tlearn: 0.0706418\ttotal: 924ms\tremaining: 181ms\n",
      "836:\tlearn: 0.0706126\ttotal: 925ms\tremaining: 180ms\n",
      "837:\tlearn: 0.0705675\ttotal: 926ms\tremaining: 179ms\n",
      "838:\tlearn: 0.0704389\ttotal: 927ms\tremaining: 178ms\n",
      "839:\tlearn: 0.0704220\ttotal: 928ms\tremaining: 177ms\n",
      "840:\tlearn: 0.0703348\ttotal: 929ms\tremaining: 176ms\n",
      "841:\tlearn: 0.0702123\ttotal: 930ms\tremaining: 175ms\n",
      "842:\tlearn: 0.0700402\ttotal: 931ms\tremaining: 173ms\n",
      "843:\tlearn: 0.0699226\ttotal: 932ms\tremaining: 172ms\n",
      "844:\tlearn: 0.0697633\ttotal: 933ms\tremaining: 171ms\n",
      "845:\tlearn: 0.0696071\ttotal: 934ms\tremaining: 170ms\n",
      "846:\tlearn: 0.0694681\ttotal: 935ms\tremaining: 169ms\n",
      "847:\tlearn: 0.0693433\ttotal: 936ms\tremaining: 168ms\n",
      "848:\tlearn: 0.0692877\ttotal: 938ms\tremaining: 167ms\n",
      "849:\tlearn: 0.0691568\ttotal: 939ms\tremaining: 166ms\n",
      "850:\tlearn: 0.0691390\ttotal: 940ms\tremaining: 165ms\n",
      "851:\tlearn: 0.0690102\ttotal: 941ms\tremaining: 163ms\n",
      "852:\tlearn: 0.0688636\ttotal: 942ms\tremaining: 162ms\n",
      "853:\tlearn: 0.0688264\ttotal: 943ms\tremaining: 161ms\n"
     ]
    },
    {
     "name": "stdout",
     "output_type": "stream",
     "text": [
      "854:\tlearn: 0.0688163\ttotal: 945ms\tremaining: 160ms\n",
      "855:\tlearn: 0.0687533\ttotal: 946ms\tremaining: 159ms\n",
      "856:\tlearn: 0.0686203\ttotal: 947ms\tremaining: 158ms\n",
      "857:\tlearn: 0.0685804\ttotal: 948ms\tremaining: 157ms\n",
      "858:\tlearn: 0.0684505\ttotal: 949ms\tremaining: 156ms\n",
      "859:\tlearn: 0.0683953\ttotal: 951ms\tremaining: 155ms\n",
      "860:\tlearn: 0.0682633\ttotal: 952ms\tremaining: 154ms\n",
      "861:\tlearn: 0.0680777\ttotal: 953ms\tremaining: 153ms\n",
      "862:\tlearn: 0.0679344\ttotal: 954ms\tremaining: 151ms\n",
      "863:\tlearn: 0.0677470\ttotal: 955ms\tremaining: 150ms\n",
      "864:\tlearn: 0.0676569\ttotal: 956ms\tremaining: 149ms\n",
      "865:\tlearn: 0.0675263\ttotal: 957ms\tremaining: 148ms\n",
      "866:\tlearn: 0.0675042\ttotal: 958ms\tremaining: 147ms\n",
      "867:\tlearn: 0.0674075\ttotal: 959ms\tremaining: 146ms\n",
      "868:\tlearn: 0.0673643\ttotal: 961ms\tremaining: 145ms\n",
      "869:\tlearn: 0.0672511\ttotal: 962ms\tremaining: 144ms\n",
      "870:\tlearn: 0.0671882\ttotal: 963ms\tremaining: 143ms\n",
      "871:\tlearn: 0.0671217\ttotal: 964ms\tremaining: 141ms\n",
      "872:\tlearn: 0.0670729\ttotal: 965ms\tremaining: 140ms\n",
      "873:\tlearn: 0.0670207\ttotal: 966ms\tremaining: 139ms\n",
      "874:\tlearn: 0.0669988\ttotal: 967ms\tremaining: 138ms\n",
      "875:\tlearn: 0.0669836\ttotal: 969ms\tremaining: 137ms\n",
      "876:\tlearn: 0.0667947\ttotal: 970ms\tremaining: 136ms\n",
      "877:\tlearn: 0.0667837\ttotal: 971ms\tremaining: 135ms\n",
      "878:\tlearn: 0.0667431\ttotal: 972ms\tremaining: 134ms\n",
      "879:\tlearn: 0.0666524\ttotal: 973ms\tremaining: 133ms\n",
      "880:\tlearn: 0.0666106\ttotal: 974ms\tremaining: 132ms\n",
      "881:\tlearn: 0.0665957\ttotal: 976ms\tremaining: 131ms\n",
      "882:\tlearn: 0.0664926\ttotal: 977ms\tremaining: 129ms\n",
      "883:\tlearn: 0.0664177\ttotal: 978ms\tremaining: 128ms\n",
      "884:\tlearn: 0.0663545\ttotal: 979ms\tremaining: 127ms\n",
      "885:\tlearn: 0.0662626\ttotal: 980ms\tremaining: 126ms\n",
      "886:\tlearn: 0.0662151\ttotal: 981ms\tremaining: 125ms\n",
      "887:\tlearn: 0.0660187\ttotal: 982ms\tremaining: 124ms\n",
      "888:\tlearn: 0.0659641\ttotal: 984ms\tremaining: 123ms\n",
      "889:\tlearn: 0.0658352\ttotal: 985ms\tremaining: 122ms\n",
      "890:\tlearn: 0.0658113\ttotal: 986ms\tremaining: 121ms\n",
      "891:\tlearn: 0.0656825\ttotal: 987ms\tremaining: 120ms\n",
      "892:\tlearn: 0.0656282\ttotal: 988ms\tremaining: 118ms\n",
      "893:\tlearn: 0.0655020\ttotal: 990ms\tremaining: 117ms\n",
      "894:\tlearn: 0.0654505\ttotal: 991ms\tremaining: 116ms\n",
      "895:\tlearn: 0.0654401\ttotal: 992ms\tremaining: 115ms\n",
      "896:\tlearn: 0.0652540\ttotal: 993ms\tremaining: 114ms\n",
      "897:\tlearn: 0.0652015\ttotal: 994ms\tremaining: 113ms\n",
      "898:\tlearn: 0.0650675\ttotal: 995ms\tremaining: 112ms\n",
      "899:\tlearn: 0.0648691\ttotal: 996ms\tremaining: 111ms\n",
      "900:\tlearn: 0.0647210\ttotal: 997ms\tremaining: 110ms\n",
      "901:\tlearn: 0.0646524\ttotal: 999ms\tremaining: 108ms\n",
      "902:\tlearn: 0.0645928\ttotal: 1000ms\tremaining: 107ms\n",
      "903:\tlearn: 0.0644450\ttotal: 1s\tremaining: 106ms\n",
      "904:\tlearn: 0.0643434\ttotal: 1s\tremaining: 105ms\n",
      "905:\tlearn: 0.0643155\ttotal: 1s\tremaining: 104ms\n",
      "906:\tlearn: 0.0642025\ttotal: 1s\tremaining: 103ms\n",
      "907:\tlearn: 0.0641673\ttotal: 1s\tremaining: 102ms\n",
      "908:\tlearn: 0.0640229\ttotal: 1.01s\tremaining: 101ms\n",
      "909:\tlearn: 0.0639158\ttotal: 1.01s\tremaining: 99.7ms\n",
      "910:\tlearn: 0.0638913\ttotal: 1.01s\tremaining: 98.6ms\n",
      "911:\tlearn: 0.0637841\ttotal: 1.01s\tremaining: 97.5ms\n",
      "912:\tlearn: 0.0636780\ttotal: 1.01s\tremaining: 96.4ms\n",
      "913:\tlearn: 0.0636156\ttotal: 1.01s\tremaining: 95.3ms\n",
      "914:\tlearn: 0.0634458\ttotal: 1.01s\tremaining: 94.2ms\n",
      "915:\tlearn: 0.0633764\ttotal: 1.01s\tremaining: 93.1ms\n",
      "916:\tlearn: 0.0633539\ttotal: 1.01s\tremaining: 92ms\n",
      "917:\tlearn: 0.0632660\ttotal: 1.02s\tremaining: 90.9ms\n",
      "918:\tlearn: 0.0630903\ttotal: 1.02s\tremaining: 89.8ms\n",
      "919:\tlearn: 0.0630482\ttotal: 1.02s\tremaining: 88.6ms\n",
      "920:\tlearn: 0.0630047\ttotal: 1.02s\tremaining: 87.5ms\n",
      "921:\tlearn: 0.0629651\ttotal: 1.02s\tremaining: 86.4ms\n",
      "922:\tlearn: 0.0628426\ttotal: 1.02s\tremaining: 85.3ms\n",
      "923:\tlearn: 0.0627269\ttotal: 1.02s\tremaining: 84.2ms\n",
      "924:\tlearn: 0.0626352\ttotal: 1.02s\tremaining: 83.1ms\n",
      "925:\tlearn: 0.0625581\ttotal: 1.03s\tremaining: 82ms\n",
      "926:\tlearn: 0.0624679\ttotal: 1.03s\tremaining: 80.9ms\n",
      "927:\tlearn: 0.0624141\ttotal: 1.03s\tremaining: 79.8ms\n",
      "928:\tlearn: 0.0622594\ttotal: 1.03s\tremaining: 78.7ms\n",
      "929:\tlearn: 0.0620666\ttotal: 1.03s\tremaining: 77.6ms\n",
      "930:\tlearn: 0.0619263\ttotal: 1.03s\tremaining: 76.5ms\n",
      "931:\tlearn: 0.0619043\ttotal: 1.03s\tremaining: 75.4ms\n",
      "932:\tlearn: 0.0618033\ttotal: 1.03s\tremaining: 74.3ms\n",
      "933:\tlearn: 0.0617034\ttotal: 1.03s\tremaining: 73.1ms\n",
      "934:\tlearn: 0.0615743\ttotal: 1.04s\tremaining: 72ms\n",
      "935:\tlearn: 0.0614900\ttotal: 1.04s\tremaining: 70.9ms\n",
      "936:\tlearn: 0.0613217\ttotal: 1.04s\tremaining: 69.8ms\n",
      "937:\tlearn: 0.0612574\ttotal: 1.04s\tremaining: 68.7ms\n",
      "938:\tlearn: 0.0612119\ttotal: 1.04s\tremaining: 67.6ms\n",
      "939:\tlearn: 0.0611412\ttotal: 1.04s\tremaining: 66.5ms\n",
      "940:\tlearn: 0.0611103\ttotal: 1.04s\tremaining: 65.4ms\n",
      "941:\tlearn: 0.0610255\ttotal: 1.04s\tremaining: 64.3ms\n",
      "942:\tlearn: 0.0609265\ttotal: 1.04s\tremaining: 63.2ms\n",
      "943:\tlearn: 0.0608297\ttotal: 1.05s\tremaining: 62.1ms\n",
      "944:\tlearn: 0.0607442\ttotal: 1.05s\tremaining: 61ms\n",
      "945:\tlearn: 0.0607347\ttotal: 1.05s\tremaining: 59.8ms\n",
      "946:\tlearn: 0.0606679\ttotal: 1.05s\tremaining: 58.7ms\n",
      "947:\tlearn: 0.0606576\ttotal: 1.05s\tremaining: 57.6ms\n",
      "948:\tlearn: 0.0605155\ttotal: 1.05s\tremaining: 56.5ms\n",
      "949:\tlearn: 0.0604972\ttotal: 1.05s\tremaining: 55.4ms\n",
      "950:\tlearn: 0.0604780\ttotal: 1.05s\tremaining: 54.3ms\n",
      "951:\tlearn: 0.0604019\ttotal: 1.05s\tremaining: 53.2ms\n",
      "952:\tlearn: 0.0603153\ttotal: 1.05s\tremaining: 52.1ms\n",
      "953:\tlearn: 0.0602987\ttotal: 1.06s\tremaining: 51ms\n",
      "954:\tlearn: 0.0602293\ttotal: 1.06s\tremaining: 49.9ms\n",
      "955:\tlearn: 0.0602230\ttotal: 1.06s\tremaining: 48.7ms\n",
      "956:\tlearn: 0.0601544\ttotal: 1.06s\tremaining: 47.7ms\n",
      "957:\tlearn: 0.0601314\ttotal: 1.06s\tremaining: 46.5ms\n",
      "958:\tlearn: 0.0600409\ttotal: 1.06s\tremaining: 45.4ms\n",
      "959:\tlearn: 0.0600202\ttotal: 1.06s\tremaining: 44.3ms\n",
      "960:\tlearn: 0.0600146\ttotal: 1.06s\tremaining: 43.2ms\n",
      "961:\tlearn: 0.0599965\ttotal: 1.07s\tremaining: 42.1ms\n",
      "962:\tlearn: 0.0599325\ttotal: 1.07s\tremaining: 41ms\n",
      "963:\tlearn: 0.0598436\ttotal: 1.07s\tremaining: 39.9ms\n",
      "964:\tlearn: 0.0598070\ttotal: 1.07s\tremaining: 38.8ms\n",
      "965:\tlearn: 0.0597935\ttotal: 1.07s\tremaining: 37.7ms\n",
      "966:\tlearn: 0.0597583\ttotal: 1.07s\tremaining: 36.5ms\n",
      "967:\tlearn: 0.0596182\ttotal: 1.07s\tremaining: 35.4ms\n",
      "968:\tlearn: 0.0594587\ttotal: 1.07s\tremaining: 34.3ms\n",
      "969:\tlearn: 0.0593073\ttotal: 1.07s\tremaining: 33.2ms\n",
      "970:\tlearn: 0.0592211\ttotal: 1.07s\tremaining: 32.1ms\n",
      "971:\tlearn: 0.0590830\ttotal: 1.08s\tremaining: 31ms\n"
     ]
    },
    {
     "name": "stdout",
     "output_type": "stream",
     "text": [
      "972:\tlearn: 0.0589618\ttotal: 1.08s\tremaining: 29.9ms\n",
      "973:\tlearn: 0.0589481\ttotal: 1.08s\tremaining: 28.8ms\n",
      "974:\tlearn: 0.0587983\ttotal: 1.08s\tremaining: 27.7ms\n",
      "975:\tlearn: 0.0587834\ttotal: 1.08s\tremaining: 26.6ms\n",
      "976:\tlearn: 0.0587749\ttotal: 1.08s\tremaining: 25.5ms\n",
      "977:\tlearn: 0.0586698\ttotal: 1.08s\tremaining: 24.4ms\n",
      "978:\tlearn: 0.0586611\ttotal: 1.08s\tremaining: 23.3ms\n",
      "979:\tlearn: 0.0585021\ttotal: 1.08s\tremaining: 22.1ms\n",
      "980:\tlearn: 0.0584217\ttotal: 1.09s\tremaining: 21ms\n",
      "981:\tlearn: 0.0583166\ttotal: 1.09s\tremaining: 19.9ms\n",
      "982:\tlearn: 0.0582397\ttotal: 1.09s\tremaining: 18.8ms\n",
      "983:\tlearn: 0.0581709\ttotal: 1.09s\tremaining: 17.7ms\n",
      "984:\tlearn: 0.0581629\ttotal: 1.09s\tremaining: 16.6ms\n",
      "985:\tlearn: 0.0580084\ttotal: 1.09s\tremaining: 15.5ms\n",
      "986:\tlearn: 0.0579173\ttotal: 1.09s\tremaining: 14.4ms\n",
      "987:\tlearn: 0.0577934\ttotal: 1.09s\tremaining: 13.3ms\n",
      "988:\tlearn: 0.0576921\ttotal: 1.09s\tremaining: 12.2ms\n",
      "989:\tlearn: 0.0576767\ttotal: 1.09s\tremaining: 11.1ms\n",
      "990:\tlearn: 0.0576234\ttotal: 1.1s\tremaining: 9.95ms\n",
      "991:\tlearn: 0.0575197\ttotal: 1.1s\tremaining: 8.85ms\n",
      "992:\tlearn: 0.0574705\ttotal: 1.1s\tremaining: 7.74ms\n",
      "993:\tlearn: 0.0573577\ttotal: 1.1s\tremaining: 6.63ms\n",
      "994:\tlearn: 0.0572724\ttotal: 1.1s\tremaining: 5.53ms\n",
      "995:\tlearn: 0.0572489\ttotal: 1.1s\tremaining: 4.42ms\n",
      "996:\tlearn: 0.0572195\ttotal: 1.1s\tremaining: 3.31ms\n",
      "997:\tlearn: 0.0571761\ttotal: 1.1s\tremaining: 2.21ms\n",
      "998:\tlearn: 0.0570946\ttotal: 1.1s\tremaining: 1.1ms\n",
      "999:\tlearn: 0.0570500\ttotal: 1.1s\tremaining: 0us\n"
     ]
    },
    {
     "data": {
      "text/plain": [
       "<catboost.core.CatBoostRegressor at 0x7f69dc925610>"
      ]
     },
     "execution_count": 9,
     "metadata": {},
     "output_type": "execute_result"
    }
   ],
   "source": [
    "#Train the Model \n",
    "prior_model = ctb.CatBoostRegressor()\n",
    "prior_model.fit(X_train,Y_train)"
   ]
  },
  {
   "cell_type": "code",
   "execution_count": 10,
   "id": "c775fd81",
   "metadata": {
    "execution": {
     "iopub.execute_input": "2022-01-14T18:16:14.168844Z",
     "iopub.status.busy": "2022-01-14T18:16:14.168209Z",
     "iopub.status.idle": "2022-01-14T18:16:14.181109Z",
     "shell.execute_reply": "2022-01-14T18:16:14.181724Z"
    },
    "papermill": {
     "duration": 0.049066,
     "end_time": "2022-01-14T18:16:14.181862",
     "exception": false,
     "start_time": "2022-01-14T18:16:14.132796",
     "status": "completed"
    },
    "tags": []
   },
   "outputs": [
    {
     "data": {
      "application/scrapbook.scrap.json+json": {
       "data": 0.33549676920548976,
       "encoder": "json",
       "name": "Prior Model MSE",
       "version": 1
      }
     },
     "metadata": {
      "scrapbook": {
       "data": true,
       "display": false,
       "name": "Prior Model MSE"
      }
     },
     "output_type": "display_data"
    },
    {
     "data": {
      "application/scrapbook.scrap.json+json": {
       "data": 0.33423629017804596,
       "encoder": "json",
       "name": "ABC Pre-generator MSE",
       "version": 1
      }
     },
     "metadata": {
      "scrapbook": {
       "data": true,
       "display": false,
       "name": "ABC Pre-generator MSE"
      }
     },
     "output_type": "display_data"
    }
   ],
   "source": [
    "y_pred = prior_model.predict(X_test)\n",
    "y_abc = y_pred + np.random.normal(0,variance, y_pred.shape)\n",
    "mse = mean_squared_error(y_pred,Y_test)\n",
    "sb.glue(\"Prior Model MSE\",mse)\n",
    "mse = mean_squared_error(y_abc,Y_test)\n",
    "sb.glue(\"ABC Pre-generator MSE\",mse)"
   ]
  },
  {
   "cell_type": "markdown",
   "id": "0cd0def6",
   "metadata": {
    "papermill": {
     "duration": 0.02933,
     "end_time": "2022-01-14T18:16:14.241809",
     "exception": false,
     "start_time": "2022-01-14T18:16:14.212479",
     "status": "completed"
    },
    "tags": []
   },
   "source": [
    "# ABC GAN Model"
   ]
  },
  {
   "cell_type": "markdown",
   "id": "70beaf4c",
   "metadata": {
    "papermill": {
     "duration": 0.031804,
     "end_time": "2022-01-14T18:16:14.304663",
     "exception": false,
     "start_time": "2022-01-14T18:16:14.272859",
     "status": "completed"
    },
    "tags": []
   },
   "source": [
    "### Training the network\n",
    "**Training ABC-GAN for n_epochs number of epochs** "
   ]
  },
  {
   "cell_type": "code",
   "execution_count": 11,
   "id": "dbaaafa1",
   "metadata": {
    "execution": {
     "iopub.execute_input": "2022-01-14T18:16:14.392794Z",
     "iopub.status.busy": "2022-01-14T18:16:14.391957Z",
     "iopub.status.idle": "2022-01-14T18:16:17.368576Z",
     "shell.execute_reply": "2022-01-14T18:16:17.368073Z"
    },
    "papermill": {
     "duration": 3.033068,
     "end_time": "2022-01-14T18:16:17.368710",
     "exception": false,
     "start_time": "2022-01-14T18:16:14.335642",
     "status": "completed"
    },
    "tags": []
   },
   "outputs": [],
   "source": [
    "gen = network.Generator(n_features+1).to(device)\n",
    "disc = network.Discriminator(n_features+1).to(device)\n",
    "\n",
    "criterion = torch.nn.BCELoss()\n",
    "gen_opt = torch.optim.Adam(gen.parameters(), lr=0.001, betas=(0.5, 0.999))\n",
    "disc_opt = torch.optim.Adam(disc.parameters(), lr=0.01, betas=(0.5, 0.999))"
   ]
  },
  {
   "cell_type": "code",
   "execution_count": 12,
   "id": "6e9eeab8",
   "metadata": {
    "execution": {
     "iopub.execute_input": "2022-01-14T18:16:17.436141Z",
     "iopub.status.busy": "2022-01-14T18:16:17.435047Z",
     "iopub.status.idle": "2022-01-14T18:21:52.018661Z",
     "shell.execute_reply": "2022-01-14T18:21:52.019165Z"
    },
    "papermill": {
     "duration": 334.619093,
     "end_time": "2022-01-14T18:21:52.019360",
     "exception": false,
     "start_time": "2022-01-14T18:16:17.400267",
     "status": "completed"
    },
    "tags": []
   },
   "outputs": [
    {
     "data": {
      "image/png": "[encoded data removed]",
      "text/plain": [
       "<Figure size 432x288 with 1 Axes>"
      ]
     },
     "metadata": {
      "needs_background": "light"
     },
     "output_type": "display_data"
    },
    {
     "data": {
      "image/png": "[encoded data removed]",
      "text/plain": [
       "<Figure size 432x288 with 1 Axes>"
      ]
     },
     "metadata": {
      "needs_background": "light"
     },
     "output_type": "display_data"
    }
   ],
   "source": [
    "#Training the ABC_GAN \n",
    "ABC_train_test2.training_GAN(disc,gen,disc_opt,gen_opt,train_data,batch_size,n_epochs,criterion,prior_model,variance,device)"
   ]
  },
  {
   "cell_type": "code",
   "execution_count": 13,
   "id": "11c3082e",
   "metadata": {
    "execution": {
     "iopub.execute_input": "2022-01-14T18:21:52.090707Z",
     "iopub.status.busy": "2022-01-14T18:21:52.090106Z",
     "iopub.status.idle": "2022-01-14T18:21:52.496349Z",
     "shell.execute_reply": "2022-01-14T18:21:52.495866Z"
    },
    "papermill": {
     "duration": 0.443552,
     "end_time": "2022-01-14T18:21:52.496535",
     "exception": false,
     "start_time": "2022-01-14T18:21:52.052983",
     "status": "completed"
    },
    "tags": []
   },
   "outputs": [
    {
     "data": {
      "application/scrapbook.scrap.json+json": {
       "data": 0.30524364143921784,
       "encoder": "json",
       "name": "ABC-GAN Model 1 MSE",
       "version": 1
      }
     },
     "metadata": {
      "scrapbook": {
       "data": true,
       "display": false,
       "name": "ABC-GAN Model 1 MSE"
      }
     },
     "output_type": "display_data"
    },
    {
     "data": {
      "application/scrapbook.scrap.json+json": {
       "data": 0.3344898220184533,
       "encoder": "json",
       "name": "ABC-GAN Model 1 MAE",
       "version": 1
      }
     },
     "metadata": {
      "scrapbook": {
       "data": true,
       "display": false,
       "name": "ABC-GAN Model 1 MAE"
      }
     },
     "output_type": "display_data"
    },
    {
     "data": {
      "application/scrapbook.scrap.json+json": {
       "data": 34.117961845882235,
       "encoder": "json",
       "name": "ABC-GAN Model 1 Manhattan Distance",
       "version": 1
      }
     },
     "metadata": {
      "scrapbook": {
       "data": true,
       "display": false,
       "name": "ABC-GAN Model 1 Manhattan Distance"
      }
     },
     "output_type": "display_data"
    },
    {
     "data": {
      "application/scrapbook.scrap.json+json": {
       "data": 5.57985456342944,
       "encoder": "json",
       "name": "ABC-GAN Model 1 Euclidean distance",
       "version": 1
      }
     },
     "metadata": {
      "scrapbook": {
       "data": true,
       "display": false,
       "name": "ABC-GAN Model 1 Euclidean distance"
      }
     },
     "output_type": "display_data"
    },
    {
     "data": {
      "application/scrapbook.scrap.json+json": {
       "data": [
        [
         0.30434195863570357,
         0.3064391006481696,
         0.3052230537109071,
         0.3069188748039095,
         0.3079019236919408,
         0.3048098540523958,
         0.3068575988320105,
         0.3041548903365348,
         0.305588253008691,
         0.30429995195414933,
         0.3075728015866936,
         0.30594648462998447,
         0.30477505686558837,
         0.30480001555524544,
         0.3056295026092704,
         0.30510783541893954,
         0.30255536646958753,
         0.30555081777280785,
         0.30592522443827025,
         0.30472994545248794,
         0.306733228736887,
         0.3052833556288915,
         0.304808053294394,
         0.3058277693733219,
         0.3052027498378013,
         0.30524067536107935,
         0.3048429905195773,
         0.30590510307040564,
         0.30574244031337566,
         0.3050772052333373,
         0.3049957961569494,
         0.3041815033010443,
         0.3055056978601669,
         0.30389334924208056,
         0.30318250287135234,
         0.3052820800746612,
         0.3059688415611528,
         0.3043817312751469,
         0.3055425664221373,
         0.3058219479458095,
         0.3043378558727988,
         0.30536141434702796,
         0.3058420355711347,
         0.3056910366509592,
         0.30389252008939105,
         0.3058719232568016,
         0.3056581020452393,
         0.3039483037253627,
         0.30357015024515605,
         0.30445519982461183,
         0.30462919797138693,
         0.3051193424227668,
         0.3063587856433779,
         0.30475866734902707,
         0.3053550634805048,
         0.30500573151259874,
         0.3067468239255356,
         0.3065860705278028,
         0.30523159079726253,
         0.30590284248423083,
         0.3039462864102727,
         0.30490674578150295,
         0.305023757711598,
         0.3055606291137871,
         0.3045397874157936,
         0.30556596577725714,
         0.30544833266878085,
         0.305004205365618,
         0.3045104057249826,
         0.30413586449064706,
         0.3053046238201832,
         0.30573698485512957,
         0.30470844974136463,
         0.30473097414363537,
         0.3029518058985942,
         0.30510504752389395,
         0.30550137971379676,
         0.30756732120788377,
         0.30537695246647223,
         0.30542911999540984,
         0.30609363388132393,
         0.3060000184058429,
         0.30656118844615793,
         0.3049422865958513,
         0.30388752514273326,
         0.3042369541636487,
         0.3059773840176363,
         0.30603838355046437,
         0.3043798280571726,
         0.30532766253929083,
         0.30594570986996655,
         0.30479806881456606,
         0.3058524085682033,
         0.30596713222461147,
         0.3047123649195084,
         0.30464517871986413,
         0.3056887921671722,
         0.30393763239801486,
         0.3049991397928552,
         0.30644745552446073
        ],
        [
         0.3335140435591194,
         0.33575115927184623,
         0.3342947429685178,
         0.3352739974655503,
         0.3357757173350775,
         0.3343670014018083,
         0.3359325512896712,
         0.33384161198730855,
         0.33485475727630887,
         0.33566844551915337,
         0.33640920963394,
         0.33585700105108757,
         0.33399402026050523,
         0.33480855925739106,
         0.333890284037254,
         0.33366166614909093,
         0.33336918495193707,
         0.33432584698768514,
         0.3362197981252536,
         0.3332422507616381,
         0.33543492463764313,
         0.3340427951211585,
         0.33537036294628886,
         0.33413455592395336,
         0.3350429469628223,
         0.33516397441317347,
         0.3336995337249748,
         0.3356367263157724,
         0.3340209477909786,
         0.33429286713876266,
         0.3342232716671538,
         0.3332129542021921,
         0.3343410381006406,
         0.33450626677778716,
         0.33305694408459113,
         0.33429841869784627,
         0.3339643231958297,
         0.3344404405695112,
         0.3344452187291109,
         0.3350254649789456,
         0.3347548373207888,
         0.33555960846042227,
         0.3352597818308163,
         0.33491931827373655,
         0.3350649519604357,
         0.3346394862997912,
         0.3348258223622015,
         0.3333737664381225,
         0.3336581681015007,
         0.3351515710956472,
         0.3345981250224891,
         0.33403249169864196,
         0.3342256416457103,
         0.33378182655638633,
         0.3342414669345553,
         0.3341827700553718,
         0.3360437539077419,
         0.33483451919849305,
         0.33502253971299994,
         0.3350899951514222,
         0.333956843908584,
         0.3334760262411745,
         0.3349020868704161,
         0.3341282869543077,
         0.33432649577255635,
         0.3340483669136815,
         0.3343230085356124,
         0.3348242176751442,
         0.33349168531633183,
         0.33456638748483625,
         0.3337462182595011,
         0.33515536950389835,
         0.33337195123564084,
         0.33425080755214187,
         0.3330253883557138,
         0.333483509618935,
         0.33515353019659716,
         0.3348216931335628,
         0.3335879992638879,
         0.335168839057944,
         0.3345014341632087,
         0.33550790216152865,
         0.33360134822079074,
         0.33394063115302547,
         0.33394681170181023,
         0.3341778940155956,
         0.3350630275558169,
         0.33332927577087984,
         0.33405966739918963,
         0.3351275046246455,
         0.33383951190968647,
         0.3340720023466822,
         0.3353796978663726,
         0.33575631540232137,
         0.33384500207452505,
         0.3326655424419133,
         0.3352811878236632,
         0.3345363675251457,
         0.3350944978586745,
         0.33478160068283186
        ],
        [
         34.01843244303018,
         34.246618245728314,
         34.09806378278881,
         34.19794774148613,
         34.2491231681779,
         34.10543414298445,
         34.26512023154646,
         34.05184442270547,
         34.15518524218351,
         34.238181442953646,
         34.31373938266188,
         34.257414107210934,
         34.067390066571534,
         34.150473044253886,
         34.05680897179991,
         34.03348994720727,
         34.00365686509758,
         34.101236392743886,
         34.294419408775866,
         33.990709577687085,
         34.2143623130396,
         34.07236510235816,
         34.20777702052146,
         34.08172470424324,
         34.174380590207875,
         34.18672539014369,
         34.037352439947426,
         34.23494608420879,
         34.070136674679816,
         34.097872448153794,
         34.09077371004969,
         33.98772132862359,
         34.10278588626534,
         34.11963921133429,
         33.971808296628296,
         34.09843870718032,
         34.06436096597463,
         34.112924938090146,
         34.11341231036931,
         34.17259742785245,
         34.14499340672046,
         34.22708006296307,
         34.19649774674326,
         34.16177046392113,
         34.17662509996444,
         34.1332276025787,
         34.15223388094455,
         34.00412417668849,
         34.033133146353066,
         34.18546025175601,
         34.129008752293885,
         34.07131415326148,
         34.091015447862446,
         34.045746308751404,
         34.09262962732464,
         34.08664254564792,
         34.27646289858967,
         34.15312095824629,
         34.172299050726,
         34.17917950544506,
         34.06359807867557,
         34.0145546765998,
         34.160012860782444,
         34.08108526933938,
         34.10130256880075,
         34.072933425195515,
         34.10094687063247,
         34.15207020286471,
         34.01615190226585,
         34.125771523453295,
         34.04211426246911,
         34.18584768939763,
         34.00393902603537,
         34.09358237031847,
         33.96858961228281,
         34.015317981131375,
         34.18566008005291,
         34.151812699623406,
         34.025975924916565,
         34.187221583910286,
         34.119146284647286,
         34.221806020475924,
         34.02733751852065,
         34.0619443776086,
         34.062574793584645,
         34.08614518959075,
         34.176428810693324,
         33.999586128629744,
         34.07408607471734,
         34.18300547171384,
         34.05163021478802,
         34.075344239361584,
         34.20872918237001,
         34.24714417103678,
         34.052190211601555,
         33.93188532907516,
         34.19868115801364,
         34.12270948756486,
         34.1796387815848,
         34.14772326964885
        ],
        [
         5.571613750148313,
         5.59077707175964,
         5.579673061973481,
         5.595151939849244,
         5.604105300275679,
         5.575895005588284,
         5.594593379403464,
         5.569901149421463,
         5.583010102703244,
         5.571229226959095,
         5.601109333144885,
         5.586281538936112,
         5.575576723558739,
         5.575805016913255,
         5.58338689919887,
         5.57861983045375,
         5.5552360327800585,
         5.582668126695907,
         5.586087440481357,
         5.575164072577036,
         5.593459513678674,
         5.580224213608887,
         5.575878534906242,
         5.5851976219359365,
         5.579487474979734,
         5.579834127178879,
         5.576198080502241,
         5.585903732895992,
         5.584418404092257,
         5.578339800854766,
         5.577595468300729,
         5.570144821879097,
         5.58225592227166,
         5.567505870916725,
         5.560990495665132,
         5.580212555773788,
         5.586485642981425,
         5.571977798777107,
         5.582592746659746,
         5.58514446460184,
         5.571576195209528,
         5.580937579242115,
         5.585327889055014,
         5.583948937660321,
         5.5674982756277425,
         5.585600788831383,
         5.583648127220625,
         5.568009247476785,
         5.564544484951658,
         5.57265021171349,
         5.574242387363637,
         5.578725027022053,
         5.590044376892238,
         5.575426806048193,
         5.580879543137576,
         5.5776863137223005,
         5.593583470406482,
         5.5921175947789115,
         5.579751093133168,
         5.585883093423236,
         5.567990769914028,
         5.576781156699023,
         5.577851135211748,
         5.5827577566652735,
         5.5734242900043895,
         5.582806508314633,
         5.581731804038568,
         5.5776723592635875,
         5.573155424348779,
         5.5697269392714395,
         5.580418589107692,
         5.584368581605553,
         5.574967432516461,
         5.575173482740317,
         5.558874364622446,
         5.578594343330332,
         5.582216471152589,
         5.601059432214957,
         5.5810795686480015,
         5.581556256057247,
         5.587624777657769,
         5.58677025457428,
         5.591890666090325,
         5.577106170118767,
         5.567452520188994,
         5.570652504392296,
         5.586563628009521,
         5.587120467839168,
         5.571960378702599,
         5.580629138278915,
         5.58627446575413,
         5.575787210707178,
         5.585422604777254,
         5.586470038128762,
         5.575003248590073,
         5.574388596915911,
         5.5839284380310215,
         5.56791150294233,
         5.577626041504685,
         5.590853285813803
        ]
       ],
       "encoder": "json",
       "name": "ABC_GAN_1 Metrics",
       "version": 1
      }
     },
     "metadata": {
      "scrapbook": {
       "data": true,
       "display": false,
       "name": "ABC_GAN_1 Metrics"
      }
     },
     "output_type": "display_data"
    }
   ],
   "source": [
    "ABC_GAN1_metrics=ABC_train_test2.test_generator(gen,test_data,prior_model,variance,\"1\",device)\n",
    "sb.glue(\"ABC_GAN_1 Metrics\",ABC_GAN1_metrics)"
   ]
  },
  {
   "cell_type": "markdown",
   "id": "394a2b9d",
   "metadata": {
    "papermill": {
     "duration": 0.035238,
     "end_time": "2022-01-14T18:21:52.568358",
     "exception": false,
     "start_time": "2022-01-14T18:21:52.533120",
     "status": "completed"
    },
    "tags": []
   },
   "source": [
    "#### Sanity Checks "
   ]
  },
  {
   "cell_type": "code",
   "execution_count": 14,
   "id": "a36b3b22",
   "metadata": {
    "execution": {
     "iopub.execute_input": "2022-01-14T18:21:52.642309Z",
     "iopub.status.busy": "2022-01-14T18:21:52.641712Z",
     "iopub.status.idle": "2022-01-14T18:21:53.341715Z",
     "shell.execute_reply": "2022-01-14T18:21:53.341106Z"
    },
    "papermill": {
     "duration": 0.738815,
     "end_time": "2022-01-14T18:21:53.341921",
     "exception": false,
     "start_time": "2022-01-14T18:21:52.603106",
     "status": "completed"
    },
    "tags": []
   },
   "outputs": [
    {
     "data": {
      "image/png": "[encoded data removed]",
      "text/plain": [
       "<Figure size 432x288 with 1 Axes>"
      ]
     },
     "metadata": {
      "needs_background": "light"
     },
     "output_type": "display_data"
    },
    {
     "data": {
      "image/png": "[encoded data removed]",
      "text/plain": [
       "<Figure size 432x288 with 1 Axes>"
      ]
     },
     "metadata": {
      "needs_background": "light"
     },
     "output_type": "display_data"
    },
    {
     "data": {
      "image/png": "[encoded data removed]",
      "text/plain": [
       "<Figure size 432x288 with 1 Axes>"
      ]
     },
     "metadata": {
      "needs_background": "light"
     },
     "output_type": "display_data"
    },
    {
     "data": {
      "image/png": "[encoded data removed]",
      "text/plain": [
       "<Figure size 432x288 with 1 Axes>"
      ]
     },
     "metadata": {
      "needs_background": "light"
     },
     "output_type": "display_data"
    }
   ],
   "source": [
    "sanityChecks.discProbVsError(train_data,disc,device)\n",
    "sanityChecks.discProbVsError(test_data,disc,device)"
   ]
  },
  {
   "cell_type": "markdown",
   "id": "130f3a4d",
   "metadata": {
    "papermill": {
     "duration": 0.039896,
     "end_time": "2022-01-14T18:21:53.423505",
     "exception": false,
     "start_time": "2022-01-14T18:21:53.383609",
     "status": "completed"
    },
    "tags": []
   },
   "source": [
    "# ABC - GAN Model with skip connection"
   ]
  },
  {
   "cell_type": "code",
   "execution_count": 15,
   "id": "4e43dad1",
   "metadata": {
    "execution": {
     "iopub.execute_input": "2022-01-14T18:21:53.507774Z",
     "iopub.status.busy": "2022-01-14T18:21:53.506997Z",
     "iopub.status.idle": "2022-01-14T18:21:53.512487Z",
     "shell.execute_reply": "2022-01-14T18:21:53.511998Z"
    },
    "papermill": {
     "duration": 0.050652,
     "end_time": "2022-01-14T18:21:53.512608",
     "exception": false,
     "start_time": "2022-01-14T18:21:53.461956",
     "status": "completed"
    },
    "tags": []
   },
   "outputs": [],
   "source": [
    "#Generator\n",
    "gen3 = network.GeneratorWithSkipConnection(n_features+1).to(device)\n",
    "constraints=network.weightConstraint()\n",
    "#Discriminator \n",
    "disc3 = network.Discriminator(n_features+1).to(device)\n",
    "\n",
    "criterion = torch.nn.BCELoss()\n",
    "gen_opt = torch.optim.Adam(gen3.parameters(), lr=0.01, betas=(0.5, 0.999))\n",
    "disc_opt = torch.optim.Adam(disc3.parameters(), lr=0.01, betas=(0.5, 0.999))\n"
   ]
  },
  {
   "cell_type": "code",
   "execution_count": 16,
   "id": "26acbc37",
   "metadata": {
    "execution": {
     "iopub.execute_input": "2022-01-14T18:21:53.594352Z",
     "iopub.status.busy": "2022-01-14T18:21:53.593701Z",
     "iopub.status.idle": "2022-01-14T18:58:37.414813Z",
     "shell.execute_reply": "2022-01-14T18:58:37.414157Z"
    },
    "papermill": {
     "duration": 2203.863875,
     "end_time": "2022-01-14T18:58:37.414973",
     "exception": false,
     "start_time": "2022-01-14T18:21:53.551098",
     "status": "completed"
    },
    "tags": []
   },
   "outputs": [
    {
     "data": {
      "image/png": "[encoded data removed]",
      "text/plain": [
       "<Figure size 432x288 with 1 Axes>"
      ]
     },
     "metadata": {
      "needs_background": "light"
     },
     "output_type": "display_data"
    },
    {
     "data": {
      "image/png": "[encoded data removed]",
      "text/plain": [
       "<Figure size 432x288 with 1 Axes>"
      ]
     },
     "metadata": {
      "needs_background": "light"
     },
     "output_type": "display_data"
    }
   ],
   "source": [
    "ABC_train_test2.training_GAN_skip_connection(disc3,gen3,disc_opt,gen_opt,train_data,batch_size,n_epochs,criterion,prior_model,variance,device)\n"
   ]
  },
  {
   "cell_type": "code",
   "execution_count": 17,
   "id": "c5e0717b",
   "metadata": {
    "execution": {
     "iopub.execute_input": "2022-01-14T18:58:37.508059Z",
     "iopub.status.busy": "2022-01-14T18:58:37.507346Z",
     "iopub.status.idle": "2022-01-14T18:58:39.802984Z",
     "shell.execute_reply": "2022-01-14T18:58:39.802412Z"
    },
    "papermill": {
     "duration": 2.342769,
     "end_time": "2022-01-14T18:58:39.803115",
     "exception": false,
     "start_time": "2022-01-14T18:58:37.460346",
     "status": "completed"
    },
    "tags": []
   },
   "outputs": [
    {
     "data": {
      "application/scrapbook.scrap.json+json": {
       "data": 133917.06934040049,
       "encoder": "json",
       "name": "ABC-GAN Model 3 MSE",
       "version": 1
      }
     },
     "metadata": {
      "scrapbook": {
       "data": true,
       "display": false,
       "name": "ABC-GAN Model 3 MSE"
      }
     },
     "output_type": "display_data"
    },
    {
     "data": {
      "application/scrapbook.scrap.json+json": {
       "data": 310.0545500778542,
       "encoder": "json",
       "name": "ABC-GAN Model 3 MAE",
       "version": 1
      }
     },
     "metadata": {
      "scrapbook": {
       "data": true,
       "display": false,
       "name": "ABC-GAN Model 3 MAE"
      }
     },
     "output_type": "display_data"
    },
    {
     "data": {
      "application/scrapbook.scrap.json+json": {
       "data": 31625.56410794113,
       "encoder": "json",
       "name": "ABC-GAN Model 3 Manhattan Distance",
       "version": 1
      }
     },
     "metadata": {
      "scrapbook": {
       "data": true,
       "display": false,
       "name": "ABC-GAN Model 3 Manhattan Distance"
      }
     },
     "output_type": "display_data"
    },
    {
     "data": {
      "application/scrapbook.scrap.json+json": {
       "data": 3695.881626290736,
       "encoder": "json",
       "name": "ABC-GAN Model 3 Euclidean distance",
       "version": 1
      }
     },
     "metadata": {
      "scrapbook": {
       "data": true,
       "display": false,
       "name": "ABC-GAN Model 3 Euclidean distance"
      }
     },
     "output_type": "display_data"
    },
    {
     "data": {
      "application/scrapbook.scrap.json+json": {
       "data": [
        [
         133935.11934539935,
         133919.81979115977,
         133953.97706709526,
         133919.59331636198,
         133932.47677115933,
         133918.8814063342,
         133925.37708237555,
         133932.01292185675,
         133909.49360981156,
         133917.83025060507,
         133884.11990967183,
         133919.00119226106,
         133930.07530443673,
         133902.51035199195,
         133893.6213415006,
         133925.89283832093,
         133907.99921177232,
         133929.44095093178,
         133870.6060032158,
         133923.79675511713,
         133959.83513479005,
         133900.94743469704,
         133942.16657016688,
         133916.8817875651,
         133929.16901865703,
         133911.61914080995,
         133916.00356062147,
         133915.70781716148,
         133906.29558114058,
         133923.54369756655,
         133923.58674440972,
         133964.64485951874,
         133910.47226947336,
         133914.6025708836,
         133934.81560310186,
         133924.745252229,
         133923.44645105733,
         133931.52423130634,
         133943.8882903277,
         133906.5391210687,
         133915.0536000239,
         133873.3979961401,
         133918.6253611859,
         133950.61638674108,
         133916.78052483677,
         133920.1179428763,
         133942.70294234346,
         133940.2742032032,
         133888.88094582764,
         133919.0569430016,
         133929.34812376072,
         133932.2936907159,
         133894.3612277907,
         133935.70630650446,
         133936.7824154462,
         133897.0050419372,
         133912.4195734282,
         133905.59801464604,
         133920.22204164727,
         133908.27438144814,
         133926.85643824516,
         133887.13785694964,
         133923.78767734804,
         133910.06002533226,
         133891.3163038117,
         133908.9382101865,
         133899.54059251014,
         133901.582450884,
         133912.15749528227,
         133905.84394965123,
         133930.84773667305,
         133921.08543337075,
         133884.58679848546,
         133892.68270668655,
         133911.16557930465,
         133919.06482640654,
         133952.21571117663,
         133940.2491921469,
         133883.00852417306,
         133912.34942684014,
         133890.74359987202,
         133855.76243148034,
         133920.35767489794,
         133886.0594272314,
         133961.5351458069,
         133906.21856619284,
         133932.10237365557,
         133942.8503608096,
         133939.34287153697,
         133902.13642198924,
         133908.5943353475,
         133892.5021234935,
         133914.09386919107,
         133905.7925304953,
         133915.17561069483,
         133903.36988356203,
         133898.40060596107,
         133926.44995940424,
         133955.9255523239,
         133925.44553920216
        ],
        [
         310.0741826196603,
         310.05342098019617,
         310.10033637110837,
         310.05593206076975,
         310.06631316099424,
         310.05824301933285,
         310.07776174067027,
         310.06722913712593,
         310.04098289796866,
         310.0541664543196,
         310.0126877923898,
         310.0547385841115,
         310.0659052875788,
         310.03247376692974,
         310.0221063547366,
         310.0480024271243,
         310.0464312580378,
         310.0760843584442,
         310.0027331528802,
         310.0765762299975,
         310.1017700988964,
         310.03983123338435,
         310.06792397301314,
         310.0612859135841,
         310.0762631630288,
         310.04604238331063,
         310.0542985849612,
         310.05626962407877,
         310.0498208783512,
         310.0606612756063,
         310.0639865696522,
         310.112332322443,
         310.053852901164,
         310.04966907583946,
         310.0561830828094,
         310.05735954292595,
         310.05929348224265,
         310.07090160602195,
         310.08795128325363,
         310.0552297824829,
         310.0491225269587,
         310.0007241163859,
         310.0432483793565,
         310.09317857787636,
         310.040674393677,
         310.0617552709437,
         310.07015235460017,
         310.06567053410095,
         310.0299407331474,
         310.033786621173,
         310.07126923812115,
         310.0722199579171,
         310.0219418739663,
         310.07657017136063,
         310.06920339255686,
         310.01810873899717,
         310.0534252810803,
         310.0432524184477,
         310.0494887378962,
         310.0419270729409,
         310.0730543668455,
         310.0223078605098,
         310.0534715810334,
         310.0347731318051,
         310.03887486634045,
         310.05117633004727,
         310.0567523702778,
         310.04947078637963,
         310.04827895527706,
         310.0553313207484,
         310.065311915159,
         310.0690147146382,
         310.0005440028366,
         310.0414051699963,
         310.06472411518916,
         310.0627863985742,
         310.08110954890975,
         310.0877471969499,
         310.02867073814986,
         310.0521362499955,
         310.0127729498964,
         309.98315328418954,
         310.06314266137963,
         310.01981237531623,
         310.1161512457948,
         310.0472616278749,
         310.08369449249415,
         310.0980680473971,
         310.0799558647799,
         310.0384436185545,
         310.04074332002074,
         310.003310518531,
         310.0411946884649,
         310.04106483916183,
         310.0531594490395,
         310.0330433161911,
         310.04216193861566,
         310.07314292766046,
         310.10368840543407,
         310.0712057720304
        ],
        [
         31627.56662720535,
         31625.448939980008,
         31630.234309853055,
         31625.705070198514,
         31626.763942421414,
         31625.94078797195,
         31627.931697548367,
         31626.857371986844,
         31624.1802555928,
         31625.524978340603,
         31621.294154823758,
         31625.583335579373,
         31626.722339333035,
         31623.312324226834,
         31622.254848183133,
         31624.896247566678,
         31624.73598831985,
         31627.760604561307,
         31620.278781593777,
         31627.810775459744,
         31630.38055008743,
         31624.062785805203,
         31626.92824524734,
         31626.251163185574,
         31627.778842628933,
         31624.696323097683,
         31625.538455666043,
         31625.739501656033,
         31625.081729591824,
         31626.187450111844,
         31626.52663010452,
         31631.457896889187,
         31625.49299591873,
         31625.066245735623,
         31625.73067444656,
         31625.850673378445,
         31626.047935188748,
         31627.231963814236,
         31628.971030891873,
         31625.63343781326,
         31625.010497749783,
         31620.073859871365,
         31624.411334694363,
         31629.504214943387,
         31624.148788155057,
         31626.299037636258,
         31627.155540169217,
         31626.6983944783,
         31623.053954781033,
         31623.446235359646,
         31627.269462288357,
         31627.366435707547,
         31622.23807114456,
         31627.810157478787,
         31627.0587460408,
         31621.847091377713,
         31625.449378670193,
         31624.411746681668,
         31625.047851265408,
         31624.27656143997,
         31627.45154541824,
         31622.275401772,
         31625.454101265408,
         31623.54685944412,
         31623.965236366726,
         31625.219985664822,
         31625.788741768338,
         31625.04602021072,
         31624.92445343826,
         31625.643794716336,
         31626.66181534622,
         31627.039500893094,
         31620.055488289334,
         31624.223327339627,
         31626.601859749295,
         31626.40421265457,
         31628.273173988797,
         31628.950214088894,
         31622.924415291287,
         31625.31789749954,
         31621.30284088943,
         31618.281634987332,
         31626.44055146072,
         31622.020862282254,
         31631.847427071072,
         31624.82068604324,
         31628.536838234402,
         31630.0029408345,
         31628.155498207547,
         31623.921249092557,
         31624.155818642117,
         31620.337672890164,
         31624.201858223416,
         31624.18861359451,
         31625.42226380203,
         31623.370418251492,
         31624.300517738797,
         31627.460578621365,
         31630.576217354275,
         31627.262988747098
        ],
        [
         3696.1307029420277,
         3695.9195903994305,
         3696.3908966509093,
         3695.916465272034,
         3696.094239959021,
         3695.906641603125,
         3695.9962746737597,
         3696.0878395986997,
         3695.7770966605617,
         3695.892136624352,
         3695.4269348461653,
         3695.908294534732,
         3696.0611035334014,
         3695.6807297036876,
         3695.5580602708787,
         3696.0033914363134,
         3695.7564746071653,
         3696.0523504132134,
         3695.2404268637256,
         3695.9744681236566,
         3696.4717209453365,
         3695.6591615487355,
         3696.2279407738124,
         3695.879048661041,
         3696.048598152224,
         3695.8064278804723,
         3695.8669298533177,
         3695.862848828467,
         3695.7329650931683,
         3695.970976232333,
         3695.9715702274807,
         3696.5380798350925,
         3695.7906016827146,
         3695.847597267794,
         3696.1265118386277,
         3695.987556219225,
         3695.9696343460196,
         3696.081096457875,
         3696.2516967346023,
         3695.736325869178,
         3695.8538211355763,
         3695.278960458371,
         3695.9031084216704,
         3696.3445282397024,
         3695.8776513209077,
         3695.923704593127,
         3696.2353415494304,
         3696.2018300854093,
         3695.4926405655865,
         3695.9090638415546,
         3696.051069536728,
         3696.0917137502183,
         3695.568270947603,
         3696.13880194771,
         3696.1536502661133,
         3695.604756231055,
         3695.8174733730666,
         3695.723338873446,
         3695.9251410503457,
         3695.760271839573,
         3696.0166878277214,
         3695.4685848223453,
         3695.9743428613656,
         3695.7849129222723,
         3695.52624980378,
         3695.769432396861,
         3695.6397471122673,
         3695.6679247451557,
         3695.8138568546433,
         3695.726732709606,
         3696.0717619035277,
         3695.9370549569453,
         3695.433378298886,
         3695.5451067578692,
         3695.800168987641,
         3695.9091726249803,
         3696.366594717036,
         3696.2014849841435,
         3695.411596759643,
         3695.8165053933208,
         3695.5183462116584,
         3695.0355570699166,
         3695.9270126504916,
         3695.4537017229154,
         3696.495175821592,
         3695.73190230997,
         3696.089073887812,
         3696.2373756027328,
         3696.188979597332,
         3695.6755695059196,
         3695.7646870716003,
         3695.5426146367654,
         3695.8405775489678,
         3695.7260231395035,
         3695.855504790585,
         3695.6925911286694,
         3695.624015211508,
         3696.011078968681,
         3696.417780275524,
         3695.997219289893
        ]
       ],
       "encoder": "json",
       "name": "ABC_GAN_3 Metrics",
       "version": 1
      }
     },
     "metadata": {
      "scrapbook": {
       "data": true,
       "display": false,
       "name": "ABC_GAN_3 Metrics"
      }
     },
     "output_type": "display_data"
    }
   ],
   "source": [
    "ABC_GAN3_metrics=ABC_train_test2.test_generator(gen3,test_data,prior_model,variance,\"3\",device)\n",
    "sb.glue(\"ABC_GAN_3 Metrics\",ABC_GAN3_metrics)"
   ]
  },
  {
   "cell_type": "code",
   "execution_count": 18,
   "id": "c8e46b48",
   "metadata": {
    "execution": {
     "iopub.execute_input": "2022-01-14T18:58:39.899161Z",
     "iopub.status.busy": "2022-01-14T18:58:39.898545Z",
     "iopub.status.idle": "2022-01-14T18:58:40.766113Z",
     "shell.execute_reply": "2022-01-14T18:58:40.766697Z"
    },
    "papermill": {
     "duration": 0.916207,
     "end_time": "2022-01-14T18:58:40.766866",
     "exception": false,
     "start_time": "2022-01-14T18:58:39.850659",
     "status": "completed"
    },
    "tags": []
   },
   "outputs": [
    {
     "data": {
      "image/png": "[encoded data removed]",
      "text/plain": [
       "<Figure size 432x288 with 1 Axes>"
      ]
     },
     "metadata": {
      "needs_background": "light"
     },
     "output_type": "display_data"
    },
    {
     "data": {
      "image/png": "[encoded data removed]",
      "text/plain": [
       "<Figure size 432x288 with 1 Axes>"
      ]
     },
     "metadata": {
      "needs_background": "light"
     },
     "output_type": "display_data"
    },
    {
     "data": {
      "image/png": "[encoded data removed]",
      "text/plain": [
       "<Figure size 432x288 with 1 Axes>"
      ]
     },
     "metadata": {
      "needs_background": "light"
     },
     "output_type": "display_data"
    },
    {
     "data": {
      "image/png": "[encoded data removed]",
      "text/plain": [
       "<Figure size 432x288 with 1 Axes>"
      ]
     },
     "metadata": {
      "needs_background": "light"
     },
     "output_type": "display_data"
    }
   ],
   "source": [
    "sanityChecks.discProbVsError(train_data,disc,device)\n",
    "sanityChecks.discProbVsError(test_data,disc3,device)"
   ]
  },
  {
   "cell_type": "markdown",
   "id": "a5bd74c3",
   "metadata": {
    "papermill": {
     "duration": 0.049039,
     "end_time": "2022-01-14T18:58:40.867377",
     "exception": false,
     "start_time": "2022-01-14T18:58:40.818338",
     "status": "completed"
    },
    "tags": []
   },
   "source": [
    "## Skip Connection Model Analysis - ABC-GAN "
   ]
  },
  {
   "cell_type": "markdown",
   "id": "5744a8bf",
   "metadata": {
    "papermill": {
     "duration": 0.049045,
     "end_time": "2022-01-14T18:58:40.965332",
     "exception": false,
     "start_time": "2022-01-14T18:58:40.916287",
     "status": "completed"
    },
    "tags": []
   },
   "source": [
    "### Weight Analysis \n",
    "\n",
    "Study the weights of the skip connection layer\n",
    "\n",
    "Equation of the skip connection is \n",
    "\n",
    "$output = y_{gan} * w + y_{abc} * (1-w)$"
   ]
  },
  {
   "cell_type": "code",
   "execution_count": 19,
   "id": "52c31dea",
   "metadata": {
    "execution": {
     "iopub.execute_input": "2022-01-14T18:58:41.068737Z",
     "iopub.status.busy": "2022-01-14T18:58:41.068057Z",
     "iopub.status.idle": "2022-01-14T18:58:41.077962Z",
     "shell.execute_reply": "2022-01-14T18:58:41.077470Z"
    },
    "papermill": {
     "duration": 0.064766,
     "end_time": "2022-01-14T18:58:41.078093",
     "exception": false,
     "start_time": "2022-01-14T18:58:41.013327",
     "status": "completed"
    },
    "tags": []
   },
   "outputs": [
    {
     "name": "stdout",
     "output_type": "stream",
     "text": [
      "Weight of the node at skip connection\n",
      "Parameter containing:\n",
      "tensor([[0.0968]], device='cuda:0', requires_grad=True)\n"
     ]
    },
    {
     "data": {
      "application/scrapbook.scrap.json+json": {
       "data": 0.09683803468942642,
       "encoder": "json",
       "name": "Skip Connection Weight",
       "version": 1
      }
     },
     "metadata": {
      "scrapbook": {
       "data": true,
       "display": false,
       "name": "Skip Connection Weight"
      }
     },
     "output_type": "display_data"
    }
   ],
   "source": [
    "print(\"Weight of the node at skip connection\")\n",
    "for name,param in gen3.named_parameters():\n",
    "    if(name == \"skipNode.weight\"):\n",
    "        print(param)\n",
    "        sb.glue(\"Skip Connection Weight\",param.item())"
   ]
  }
 ],
 "metadata": {
  "interpreter": {
   "hash": "10498c76ddd8160350534c6544a2b2fb65f2138dbc70420f7c81a3268f830f23"
  },
  "kernelspec": {
   "display_name": "papermill-tutorial",
   "language": "python",
   "name": "python3"
  },
  "language_info": {
   "codemirror_mode": {
    "name": "ipython",
    "version": 3
   },
   "file_extension": ".py",
   "mimetype": "text/x-python",
   "name": "python",
   "nbconvert_exporter": "python",
   "pygments_lexer": "ipython3",
   "version": "3.7.12"
  },
  "papermill": {
   "default_parameters": {},
   "duration": 2553.771644,
   "end_time": "2022-01-14T18:58:41.843076",
   "environment_variables": {},
   "exception": null,
   "input_path": "ABC_GAN_Model-Catboost_Pre-gen.ipynb",
   "output_path": "./ABC_GAN_Output/ABC-GAN_output_6_2.ipynb",
   "parameters": {
    "variance": 0.01
   },
   "start_time": "2022-01-14T18:16:08.071432",
   "version": "2.3.3"
  }
 },
 "nbformat": 4,
 "nbformat_minor": 5
}