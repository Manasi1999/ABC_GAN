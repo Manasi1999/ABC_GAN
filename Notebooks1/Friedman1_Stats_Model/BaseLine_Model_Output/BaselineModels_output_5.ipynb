{
 "cells": [
  {
   "cell_type": "markdown",
   "id": "6e969366",
   "metadata": {
    "papermill": {
     "duration": 0.01186,
     "end_time": "2022-02-13T07:44:11.709766",
     "exception": false,
     "start_time": "2022-02-13T07:44:11.697906",
     "status": "completed"
    },
    "tags": []
   },
   "source": [
    "## Import Libraries "
   ]
  },
  {
   "cell_type": "code",
   "execution_count": 1,
   "id": "ca0b6117",
   "metadata": {
    "execution": {
     "iopub.execute_input": "2022-02-13T07:44:11.735761Z",
     "iopub.status.busy": "2022-02-13T07:44:11.735057Z",
     "iopub.status.idle": "2022-02-13T07:44:11.738085Z",
     "shell.execute_reply": "2022-02-13T07:44:11.738505Z"
    },
    "papermill": {
     "duration": 0.021194,
     "end_time": "2022-02-13T07:44:11.738777",
     "exception": false,
     "start_time": "2022-02-13T07:44:11.717583",
     "status": "completed"
    },
    "tags": []
   },
   "outputs": [],
   "source": [
    "import warnings\n",
    "import sys\n",
    "sys.path.insert(0, '../../src')\n",
    "warnings.filterwarnings('ignore')"
   ]
  },
  {
   "cell_type": "code",
   "execution_count": 2,
   "id": "2a3bbe33",
   "metadata": {
    "execution": {
     "iopub.execute_input": "2022-02-13T07:44:11.750998Z",
     "iopub.status.busy": "2022-02-13T07:44:11.750461Z",
     "iopub.status.idle": "2022-02-13T07:44:13.353634Z",
     "shell.execute_reply": "2022-02-13T07:44:13.353855Z"
    },
    "papermill": {
     "duration": 1.610533,
     "end_time": "2022-02-13T07:44:13.353982",
     "exception": false,
     "start_time": "2022-02-13T07:44:11.743449",
     "status": "completed"
    },
    "tags": []
   },
   "outputs": [],
   "source": [
    "import statsModel\n",
    "import scrapbook as sb \n",
    "import torch \n",
    "import statsModel\n",
    "import friedman1Dataset\n",
    "import dataset \n",
    "from torch.utils.data import random_split \n",
    "from sklearn.model_selection import train_test_split"
   ]
  },
  {
   "cell_type": "markdown",
   "id": "27a13c70",
   "metadata": {
    "papermill": {
     "duration": 0.002391,
     "end_time": "2022-02-13T07:44:13.359022",
     "exception": false,
     "start_time": "2022-02-13T07:44:13.356631",
     "status": "completed"
    },
    "tags": []
   },
   "source": [
    "## Import Dataset \n"
   ]
  },
  {
   "cell_type": "code",
   "execution_count": 3,
   "id": "71bca279",
   "metadata": {
    "execution": {
     "iopub.execute_input": "2022-02-13T07:44:13.368694Z",
     "iopub.status.busy": "2022-02-13T07:44:13.367197Z",
     "iopub.status.idle": "2022-02-13T07:44:13.373298Z",
     "shell.execute_reply": "2022-02-13T07:44:13.373536Z"
    },
    "papermill": {
     "duration": 0.012061,
     "end_time": "2022-02-13T07:44:13.373650",
     "exception": false,
     "start_time": "2022-02-13T07:44:13.361589",
     "status": "completed"
    },
    "tags": []
   },
   "outputs": [
    {
     "name": "stdout",
     "output_type": "stream",
     "text": [
      "         X0        X1        X2        X3        X4         Y\n",
      "0  0.839586  0.312207 -1.218123  0.874841 -0.784209  1.305152\n",
      "1 -0.602573 -1.160945  1.139503 -1.886471  1.162480 -1.385532\n",
      "2 -1.163294 -0.667272  1.628294 -1.384577  0.534703 -0.828109\n",
      "3  1.678601 -0.223699 -1.366592  1.437128 -0.572989  1.851454\n",
      "4  0.489822  0.127634  1.601071  1.212858  0.316077  1.965350\n"
     ]
    }
   ],
   "source": [
    "n_features = 5\n",
    "n_samples= 100\n",
    "n_target = 1 \n",
    "X,Y = friedman1Dataset.friedman1_data(n_samples,n_features)"
   ]
  },
  {
   "cell_type": "code",
   "execution_count": 4,
   "id": "62f35204",
   "metadata": {
    "execution": {
     "iopub.execute_input": "2022-02-13T07:44:13.381138Z",
     "iopub.status.busy": "2022-02-13T07:44:13.380758Z",
     "iopub.status.idle": "2022-02-13T07:44:13.382325Z",
     "shell.execute_reply": "2022-02-13T07:44:13.382569Z"
    },
    "papermill": {
     "duration": 0.006277,
     "end_time": "2022-02-13T07:44:13.382676",
     "exception": false,
     "start_time": "2022-02-13T07:44:13.376399",
     "status": "completed"
    },
    "tags": []
   },
   "outputs": [],
   "source": [
    "# Train test split for dataset \n",
    "real_dataset = dataset.CustomDataset(X,Y)\n",
    "X_train, X_test, y_train, y_test = train_test_split(X, Y, test_size=0.2)"
   ]
  },
  {
   "cell_type": "markdown",
   "id": "459e8805",
   "metadata": {
    "papermill": {
     "duration": 0.002481,
     "end_time": "2022-02-13T07:44:13.387725",
     "exception": false,
     "start_time": "2022-02-13T07:44:13.385244",
     "status": "completed"
    },
    "tags": []
   },
   "source": [
    "## Stats Model \n",
    "\n"
   ]
  },
  {
   "cell_type": "code",
   "execution_count": 5,
   "id": "ba408ca4",
   "metadata": {
    "execution": {
     "iopub.execute_input": "2022-02-13T07:44:13.395480Z",
     "iopub.status.busy": "2022-02-13T07:44:13.395119Z",
     "iopub.status.idle": "2022-02-13T07:44:13.492470Z",
     "shell.execute_reply": "2022-02-13T07:44:13.492725Z"
    },
    "papermill": {
     "duration": 0.10262,
     "end_time": "2022-02-13T07:44:13.492850",
     "exception": false,
     "start_time": "2022-02-13T07:44:13.390230",
     "status": "completed"
    },
    "tags": []
   },
   "outputs": [
    {
     "name": "stderr",
     "output_type": "stream",
     "text": [
      "No handles with labels found to put in legend.\n"
     ]
    },
    {
     "name": "stdout",
     "output_type": "stream",
     "text": [
      "                                 OLS Regression Results                                \n",
      "=======================================================================================\n",
      "Dep. Variable:                      y   R-squared (uncentered):                   0.776\n",
      "Model:                            OLS   Adj. R-squared (uncentered):              0.761\n",
      "Method:                 Least Squares   F-statistic:                              52.05\n",
      "Date:                Sun, 13 Feb 2022   Prob (F-statistic):                    5.15e-23\n",
      "Time:                        13:14:13   Log-Likelihood:                         -53.449\n",
      "No. Observations:                  80   AIC:                                      116.9\n",
      "Df Residuals:                      75   BIC:                                      128.8\n",
      "Df Model:                           5                                                  \n",
      "Covariance Type:            nonrobust                                                  \n",
      "==============================================================================\n",
      "                 coef    std err          t      P>|t|      [0.025      0.975]\n",
      "------------------------------------------------------------------------------\n",
      "x1             0.3815      0.056      6.849      0.000       0.271       0.492\n",
      "x2             0.3837      0.057      6.759      0.000       0.271       0.497\n",
      "x3            -0.0161      0.056     -0.285      0.777      -0.128       0.096\n",
      "x4             0.6510      0.057     11.351      0.000       0.537       0.765\n",
      "x5             0.2808      0.056      5.039      0.000       0.170       0.392\n",
      "==============================================================================\n",
      "Omnibus:                        2.322   Durbin-Watson:                   2.092\n",
      "Prob(Omnibus):                  0.313   Jarque-Bera (JB):                2.174\n",
      "Skew:                          -0.398   Prob(JB):                        0.337\n",
      "Kurtosis:                       2.864   Cond. No.                         1.30\n",
      "==============================================================================\n",
      "\n",
      "Notes:\n",
      "[1] R² is computed without centering (uncentered) since the model does not contain a constant.\n",
      "[2] Standard Errors assume that the covariance matrix of the errors is correctly specified.\n"
     ]
    },
    {
     "data": {
      "image/png": "[encoded data removed]",
      "text/plain": [
       "<Figure size 432x288 with 1 Axes>"
      ]
     },
     "metadata": {
      "needs_background": "light"
     },
     "output_type": "display_data"
    },
    {
     "name": "stdout",
     "output_type": "stream",
     "text": [
      "Performance Metrics\n",
      "Mean Squared Error: 0.14592360579052688\n",
      "Mean Absolute Error: 0.3216820870443574\n",
      "Manhattan distance: 6.433641740887148\n",
      "Euclidean distance: 1.7083536272711624\n"
     ]
    },
    {
     "data": {
      "application/scrapbook.scrap.json+json": {
       "data": 0.14592360579052688,
       "encoder": "json",
       "name": "Stats Model MSE",
       "version": 1
      }
     },
     "metadata": {
      "scrapbook": {
       "data": true,
       "display": false,
       "name": "Stats Model MSE"
      }
     },
     "output_type": "display_data"
    },
    {
     "data": {
      "application/scrapbook.scrap.json+json": {
       "data": 0.3216820870443574,
       "encoder": "json",
       "name": "Stats Model MAE",
       "version": 1
      }
     },
     "metadata": {
      "scrapbook": {
       "data": true,
       "display": false,
       "name": "Stats Model MAE"
      }
     },
     "output_type": "display_data"
    },
    {
     "data": {
      "application/scrapbook.scrap.json+json": {
       "data": 6.433641740887148,
       "encoder": "json",
       "name": "Stats Model Manhattan Distance",
       "version": 1
      }
     },
     "metadata": {
      "scrapbook": {
       "data": true,
       "display": false,
       "name": "Stats Model Manhattan Distance"
      }
     },
     "output_type": "display_data"
    },
    {
     "data": {
      "application/scrapbook.scrap.json+json": {
       "data": 1.7083536272711624,
       "encoder": "json",
       "name": "Stats Model Euclidean distance",
       "version": 1
      }
     },
     "metadata": {
      "scrapbook": {
       "data": true,
       "display": false,
       "name": "Stats Model Euclidean distance"
      }
     },
     "output_type": "display_data"
    },
    {
     "data": {
      "application/scrapbook.scrap.json+json": {
       "data": [
        0.3815261128340859,
        0.3837395840708624,
        -0.016057126948269024,
        0.6510109175574925,
        0.2807941118397982
       ],
       "encoder": "json",
       "name": "Coefficients",
       "version": 1
      }
     },
     "metadata": {
      "scrapbook": {
       "data": true,
       "display": false,
       "name": "Coefficients"
      }
     },
     "output_type": "display_data"
    }
   ],
   "source": [
    "coefficients , y_pred =statsModel.statsModel(X_train,y_train,X_test,y_test)\n",
    "#Store MSE Value \n",
    "sb.glue(\"Coefficients\",coefficients)"
   ]
  }
 ],
 "metadata": {
  "interpreter": {
   "hash": "10498c76ddd8160350534c6544a2b2fb65f2138dbc70420f7c81a3268f830f23"
  },
  "kernelspec": {
   "display_name": "Python 3 (ipykernel)",
   "language": "python",
   "name": "python3"
  },
  "language_info": {
   "codemirror_mode": {
    "name": "ipython",
    "version": 3
   },
   "file_extension": ".py",
   "mimetype": "text/x-python",
   "name": "python",
   "nbconvert_exporter": "python",
   "pygments_lexer": "ipython3",
   "version": "3.8.11"
  },
  "papermill": {
   "default_parameters": {},
   "duration": 2.954988,
   "end_time": "2022-02-13T07:44:13.805069",
   "environment_variables": {},
   "exception": null,
   "input_path": "BaselineModels.ipynb",
   "output_path": "./BaseLine_Model_Output/BaselineModels_output_5.ipynb",
   "parameters": {},
   "start_time": "2022-02-13T07:44:10.850081",
   "version": "2.3.3"
  }
 },
 "nbformat": 4,
 "nbformat_minor": 5
}