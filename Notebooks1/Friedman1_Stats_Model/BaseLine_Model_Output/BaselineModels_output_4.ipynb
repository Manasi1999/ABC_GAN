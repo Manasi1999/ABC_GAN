{
 "cells": [
  {
   "cell_type": "markdown",
   "id": "2d2d0ecd",
   "metadata": {
    "papermill": {
     "duration": 0.012379,
     "end_time": "2022-02-13T07:44:07.852456",
     "exception": false,
     "start_time": "2022-02-13T07:44:07.840077",
     "status": "completed"
    },
    "tags": []
   },
   "source": [
    "## Import Libraries "
   ]
  },
  {
   "cell_type": "code",
   "execution_count": 1,
   "id": "e665e9b9",
   "metadata": {
    "execution": {
     "iopub.execute_input": "2022-02-13T07:44:07.877452Z",
     "iopub.status.busy": "2022-02-13T07:44:07.876743Z",
     "iopub.status.idle": "2022-02-13T07:44:07.880258Z",
     "shell.execute_reply": "2022-02-13T07:44:07.880754Z"
    },
    "papermill": {
     "duration": 0.02042,
     "end_time": "2022-02-13T07:44:07.881080",
     "exception": false,
     "start_time": "2022-02-13T07:44:07.860660",
     "status": "completed"
    },
    "tags": []
   },
   "outputs": [],
   "source": [
    "import warnings\n",
    "import sys\n",
    "sys.path.insert(0, '../../src')\n",
    "warnings.filterwarnings('ignore')"
   ]
  },
  {
   "cell_type": "code",
   "execution_count": 2,
   "id": "8fcfba02",
   "metadata": {
    "execution": {
     "iopub.execute_input": "2022-02-13T07:44:07.894162Z",
     "iopub.status.busy": "2022-02-13T07:44:07.893616Z",
     "iopub.status.idle": "2022-02-13T07:44:09.483827Z",
     "shell.execute_reply": "2022-02-13T07:44:09.484050Z"
    },
    "papermill": {
     "duration": 1.597979,
     "end_time": "2022-02-13T07:44:09.484178",
     "exception": false,
     "start_time": "2022-02-13T07:44:07.886199",
     "status": "completed"
    },
    "tags": []
   },
   "outputs": [],
   "source": [
    "import statsModel\n",
    "import scrapbook as sb \n",
    "import torch \n",
    "import statsModel\n",
    "import friedman1Dataset\n",
    "import dataset \n",
    "from torch.utils.data import random_split \n",
    "from sklearn.model_selection import train_test_split"
   ]
  },
  {
   "cell_type": "markdown",
   "id": "52b8e0ff",
   "metadata": {
    "papermill": {
     "duration": 0.002463,
     "end_time": "2022-02-13T07:44:09.489205",
     "exception": false,
     "start_time": "2022-02-13T07:44:09.486742",
     "status": "completed"
    },
    "tags": []
   },
   "source": [
    "## Import Dataset \n"
   ]
  },
  {
   "cell_type": "code",
   "execution_count": 3,
   "id": "58a34bcc",
   "metadata": {
    "execution": {
     "iopub.execute_input": "2022-02-13T07:44:09.498293Z",
     "iopub.status.busy": "2022-02-13T07:44:09.497882Z",
     "iopub.status.idle": "2022-02-13T07:44:09.504260Z",
     "shell.execute_reply": "2022-02-13T07:44:09.504657Z"
    },
    "papermill": {
     "duration": 0.012841,
     "end_time": "2022-02-13T07:44:09.504781",
     "exception": false,
     "start_time": "2022-02-13T07:44:09.491940",
     "status": "completed"
    },
    "tags": []
   },
   "outputs": [
    {
     "name": "stdout",
     "output_type": "stream",
     "text": [
      "         X0        X1        X2        X3        X4         Y\n",
      "0 -1.300426  0.209133 -1.373127 -1.435582  1.523690 -0.582647\n",
      "1  1.362620  0.503022  0.222134  0.284072  0.995133  0.840948\n",
      "2  1.292052  1.215353 -1.201808  0.514065  0.138611  0.465242\n",
      "3 -1.784088 -1.299822 -0.068879 -0.226798 -1.044258 -2.168570\n",
      "4 -0.122878  0.345324 -0.711129  0.546378 -1.585348  0.271737\n"
     ]
    }
   ],
   "source": [
    "n_features = 5\n",
    "n_samples= 100\n",
    "n_target = 1 \n",
    "X,Y = friedman1Dataset.friedman1_data(n_samples,n_features)"
   ]
  },
  {
   "cell_type": "code",
   "execution_count": 4,
   "id": "7765095b",
   "metadata": {
    "execution": {
     "iopub.execute_input": "2022-02-13T07:44:09.512729Z",
     "iopub.status.busy": "2022-02-13T07:44:09.512366Z",
     "iopub.status.idle": "2022-02-13T07:44:09.513828Z",
     "shell.execute_reply": "2022-02-13T07:44:09.514088Z"
    },
    "papermill": {
     "duration": 0.00651,
     "end_time": "2022-02-13T07:44:09.514203",
     "exception": false,
     "start_time": "2022-02-13T07:44:09.507693",
     "status": "completed"
    },
    "tags": []
   },
   "outputs": [],
   "source": [
    "# Train test split for dataset \n",
    "real_dataset = dataset.CustomDataset(X,Y)\n",
    "X_train, X_test, y_train, y_test = train_test_split(X, Y, test_size=0.2)"
   ]
  },
  {
   "cell_type": "markdown",
   "id": "6f6a170e",
   "metadata": {
    "papermill": {
     "duration": 0.002544,
     "end_time": "2022-02-13T07:44:09.519431",
     "exception": false,
     "start_time": "2022-02-13T07:44:09.516887",
     "status": "completed"
    },
    "tags": []
   },
   "source": [
    "## Stats Model \n",
    "\n"
   ]
  },
  {
   "cell_type": "code",
   "execution_count": 5,
   "id": "82d314e6",
   "metadata": {
    "execution": {
     "iopub.execute_input": "2022-02-13T07:44:09.527869Z",
     "iopub.status.busy": "2022-02-13T07:44:09.527469Z",
     "iopub.status.idle": "2022-02-13T07:44:09.625400Z",
     "shell.execute_reply": "2022-02-13T07:44:09.625717Z"
    },
    "papermill": {
     "duration": 0.103844,
     "end_time": "2022-02-13T07:44:09.625844",
     "exception": false,
     "start_time": "2022-02-13T07:44:09.522000",
     "status": "completed"
    },
    "tags": []
   },
   "outputs": [
    {
     "name": "stderr",
     "output_type": "stream",
     "text": [
      "No handles with labels found to put in legend.\n"
     ]
    },
    {
     "name": "stdout",
     "output_type": "stream",
     "text": [
      "                                 OLS Regression Results                                \n",
      "=======================================================================================\n",
      "Dep. Variable:                      y   R-squared (uncentered):                   0.721\n",
      "Model:                            OLS   Adj. R-squared (uncentered):              0.702\n",
      "Method:                 Least Squares   F-statistic:                              38.78\n",
      "Date:                Sun, 13 Feb 2022   Prob (F-statistic):                    1.81e-19\n",
      "Time:                        13:14:09   Log-Likelihood:                         -61.704\n",
      "No. Observations:                  80   AIC:                                      133.4\n",
      "Df Residuals:                      75   BIC:                                      145.3\n",
      "Df Model:                           5                                                  \n",
      "Covariance Type:            nonrobust                                                  \n",
      "==============================================================================\n",
      "                 coef    std err          t      P>|t|      [0.025      0.975]\n",
      "------------------------------------------------------------------------------\n",
      "x1             0.3911      0.059      6.597      0.000       0.273       0.509\n",
      "x2             0.4349      0.061      7.106      0.000       0.313       0.557\n",
      "x3            -0.0653      0.060     -1.081      0.283      -0.186       0.055\n",
      "x4             0.6246      0.061     10.236      0.000       0.503       0.746\n",
      "x5             0.2647      0.059      4.459      0.000       0.146       0.383\n",
      "==============================================================================\n",
      "Omnibus:                        1.428   Durbin-Watson:                   2.217\n",
      "Prob(Omnibus):                  0.490   Jarque-Bera (JB):                1.164\n",
      "Skew:                          -0.067   Prob(JB):                        0.559\n",
      "Kurtosis:                       2.424   Cond. No.                         1.24\n",
      "==============================================================================\n",
      "\n",
      "Notes:\n",
      "[1] R² is computed without centering (uncentered) since the model does not contain a constant.\n",
      "[2] Standard Errors assume that the covariance matrix of the errors is correctly specified.\n"
     ]
    },
    {
     "data": {
      "image/png": "[encoded data removed]",
      "text/plain": [
       "<Figure size 432x288 with 1 Axes>"
      ]
     },
     "metadata": {
      "needs_background": "light"
     },
     "output_type": "display_data"
    },
    {
     "name": "stdout",
     "output_type": "stream",
     "text": [
      "Performance Metrics\n",
      "Mean Squared Error: 0.25042730378077976\n",
      "Mean Absolute Error: 0.3948058463358816\n",
      "Manhattan distance: 7.8961169267176325\n",
      "Euclidean distance: 2.2379781222379265\n"
     ]
    },
    {
     "data": {
      "application/scrapbook.scrap.json+json": {
       "data": 0.25042730378077976,
       "encoder": "json",
       "name": "Stats Model MSE",
       "version": 1
      }
     },
     "metadata": {
      "scrapbook": {
       "data": true,
       "display": false,
       "name": "Stats Model MSE"
      }
     },
     "output_type": "display_data"
    },
    {
     "data": {
      "application/scrapbook.scrap.json+json": {
       "data": 0.3948058463358816,
       "encoder": "json",
       "name": "Stats Model MAE",
       "version": 1
      }
     },
     "metadata": {
      "scrapbook": {
       "data": true,
       "display": false,
       "name": "Stats Model MAE"
      }
     },
     "output_type": "display_data"
    },
    {
     "data": {
      "application/scrapbook.scrap.json+json": {
       "data": 7.8961169267176325,
       "encoder": "json",
       "name": "Stats Model Manhattan Distance",
       "version": 1
      }
     },
     "metadata": {
      "scrapbook": {
       "data": true,
       "display": false,
       "name": "Stats Model Manhattan Distance"
      }
     },
     "output_type": "display_data"
    },
    {
     "data": {
      "application/scrapbook.scrap.json+json": {
       "data": 2.2379781222379265,
       "encoder": "json",
       "name": "Stats Model Euclidean distance",
       "version": 1
      }
     },
     "metadata": {
      "scrapbook": {
       "data": true,
       "display": false,
       "name": "Stats Model Euclidean distance"
      }
     },
     "output_type": "display_data"
    },
    {
     "data": {
      "application/scrapbook.scrap.json+json": {
       "data": [
        0.39112218175016655,
        0.43489078853510843,
        -0.06529919904036985,
        0.6245867755082026,
        0.26470618655592715
       ],
       "encoder": "json",
       "name": "Coefficients",
       "version": 1
      }
     },
     "metadata": {
      "scrapbook": {
       "data": true,
       "display": false,
       "name": "Coefficients"
      }
     },
     "output_type": "display_data"
    }
   ],
   "source": [
    "coefficients , y_pred =statsModel.statsModel(X_train,y_train,X_test,y_test)\n",
    "#Store MSE Value \n",
    "sb.glue(\"Coefficients\",coefficients)"
   ]
  }
 ],
 "metadata": {
  "interpreter": {
   "hash": "10498c76ddd8160350534c6544a2b2fb65f2138dbc70420f7c81a3268f830f23"
  },
  "kernelspec": {
   "display_name": "Python 3 (ipykernel)",
   "language": "python",
   "name": "python3"
  },
  "language_info": {
   "codemirror_mode": {
    "name": "ipython",
    "version": 3
   },
   "file_extension": ".py",
   "mimetype": "text/x-python",
   "name": "python",
   "nbconvert_exporter": "python",
   "pygments_lexer": "ipython3",
   "version": "3.8.11"
  },
  "papermill": {
   "default_parameters": {},
   "duration": 2.949607,
   "end_time": "2022-02-13T07:44:09.938774",
   "environment_variables": {},
   "exception": null,
   "input_path": "BaselineModels.ipynb",
   "output_path": "./BaseLine_Model_Output/BaselineModels_output_4.ipynb",
   "parameters": {},
   "start_time": "2022-02-13T07:44:06.989167",
   "version": "2.3.3"
  }
 },
 "nbformat": 4,
 "nbformat_minor": 5
}