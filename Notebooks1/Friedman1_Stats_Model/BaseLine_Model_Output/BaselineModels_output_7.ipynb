{
 "cells": [
  {
   "cell_type": "markdown",
   "id": "09e72246",
   "metadata": {
    "papermill": {
     "duration": 0.01145,
     "end_time": "2022-02-13T07:44:19.425237",
     "exception": false,
     "start_time": "2022-02-13T07:44:19.413787",
     "status": "completed"
    },
    "tags": []
   },
   "source": [
    "## Import Libraries "
   ]
  },
  {
   "cell_type": "code",
   "execution_count": 1,
   "id": "238aa4bf",
   "metadata": {
    "execution": {
     "iopub.execute_input": "2022-02-13T07:44:19.449425Z",
     "iopub.status.busy": "2022-02-13T07:44:19.448704Z",
     "iopub.status.idle": "2022-02-13T07:44:19.452403Z",
     "shell.execute_reply": "2022-02-13T07:44:19.452850Z"
    },
    "papermill": {
     "duration": 0.020537,
     "end_time": "2022-02-13T07:44:19.453119",
     "exception": false,
     "start_time": "2022-02-13T07:44:19.432582",
     "status": "completed"
    },
    "tags": []
   },
   "outputs": [],
   "source": [
    "import warnings\n",
    "import sys\n",
    "sys.path.insert(0, '../../src')\n",
    "warnings.filterwarnings('ignore')"
   ]
  },
  {
   "cell_type": "code",
   "execution_count": 2,
   "id": "8e2b1f4f",
   "metadata": {
    "execution": {
     "iopub.execute_input": "2022-02-13T07:44:19.465265Z",
     "iopub.status.busy": "2022-02-13T07:44:19.464720Z",
     "iopub.status.idle": "2022-02-13T07:44:21.038408Z",
     "shell.execute_reply": "2022-02-13T07:44:21.038664Z"
    },
    "papermill": {
     "duration": 1.580839,
     "end_time": "2022-02-13T07:44:21.038791",
     "exception": false,
     "start_time": "2022-02-13T07:44:19.457952",
     "status": "completed"
    },
    "tags": []
   },
   "outputs": [],
   "source": [
    "import statsModel\n",
    "import scrapbook as sb \n",
    "import torch \n",
    "import statsModel\n",
    "import friedman1Dataset\n",
    "import dataset \n",
    "from torch.utils.data import random_split \n",
    "from sklearn.model_selection import train_test_split"
   ]
  },
  {
   "cell_type": "markdown",
   "id": "c2e45372",
   "metadata": {
    "papermill": {
     "duration": 0.002361,
     "end_time": "2022-02-13T07:44:21.043751",
     "exception": false,
     "start_time": "2022-02-13T07:44:21.041390",
     "status": "completed"
    },
    "tags": []
   },
   "source": [
    "## Import Dataset \n"
   ]
  },
  {
   "cell_type": "code",
   "execution_count": 3,
   "id": "3e1909a4",
   "metadata": {
    "execution": {
     "iopub.execute_input": "2022-02-13T07:44:21.052673Z",
     "iopub.status.busy": "2022-02-13T07:44:21.052057Z",
     "iopub.status.idle": "2022-02-13T07:44:21.058135Z",
     "shell.execute_reply": "2022-02-13T07:44:21.058381Z"
    },
    "papermill": {
     "duration": 0.012202,
     "end_time": "2022-02-13T07:44:21.058497",
     "exception": false,
     "start_time": "2022-02-13T07:44:21.046295",
     "status": "completed"
    },
    "tags": []
   },
   "outputs": [
    {
     "name": "stdout",
     "output_type": "stream",
     "text": [
      "         X0        X1        X2        X3        X4         Y\n",
      "0 -1.631321 -0.913858  1.734052  1.079059  0.975074  0.539522\n",
      "1 -0.187616 -0.217201  0.830095 -1.223415  0.765965 -0.449311\n",
      "2  1.464457 -1.047069 -1.085658  1.098408 -0.349850  0.881750\n",
      "3 -1.286093 -0.131722 -1.722089 -1.070810 -1.569932 -1.204162\n",
      "4  0.330187  0.727405  0.736180  0.369982 -0.790404  0.837167\n"
     ]
    }
   ],
   "source": [
    "n_features = 5\n",
    "n_samples= 100\n",
    "n_target = 1 \n",
    "X,Y = friedman1Dataset.friedman1_data(n_samples,n_features)"
   ]
  },
  {
   "cell_type": "code",
   "execution_count": 4,
   "id": "77b5a7e0",
   "metadata": {
    "execution": {
     "iopub.execute_input": "2022-02-13T07:44:21.066147Z",
     "iopub.status.busy": "2022-02-13T07:44:21.065769Z",
     "iopub.status.idle": "2022-02-13T07:44:21.067087Z",
     "shell.execute_reply": "2022-02-13T07:44:21.067329Z"
    },
    "papermill": {
     "duration": 0.006229,
     "end_time": "2022-02-13T07:44:21.067435",
     "exception": false,
     "start_time": "2022-02-13T07:44:21.061206",
     "status": "completed"
    },
    "tags": []
   },
   "outputs": [],
   "source": [
    "# Train test split for dataset \n",
    "real_dataset = dataset.CustomDataset(X,Y)\n",
    "X_train, X_test, y_train, y_test = train_test_split(X, Y, test_size=0.2)"
   ]
  },
  {
   "cell_type": "markdown",
   "id": "4ebc4c48",
   "metadata": {
    "papermill": {
     "duration": 0.002427,
     "end_time": "2022-02-13T07:44:21.072397",
     "exception": false,
     "start_time": "2022-02-13T07:44:21.069970",
     "status": "completed"
    },
    "tags": []
   },
   "source": [
    "## Stats Model \n",
    "\n"
   ]
  },
  {
   "cell_type": "code",
   "execution_count": 5,
   "id": "06927b5e",
   "metadata": {
    "execution": {
     "iopub.execute_input": "2022-02-13T07:44:21.080122Z",
     "iopub.status.busy": "2022-02-13T07:44:21.079762Z",
     "iopub.status.idle": "2022-02-13T07:44:21.180669Z",
     "shell.execute_reply": "2022-02-13T07:44:21.180914Z"
    },
    "papermill": {
     "duration": 0.106176,
     "end_time": "2022-02-13T07:44:21.181036",
     "exception": false,
     "start_time": "2022-02-13T07:44:21.074860",
     "status": "completed"
    },
    "tags": []
   },
   "outputs": [
    {
     "name": "stderr",
     "output_type": "stream",
     "text": [
      "No handles with labels found to put in legend.\n"
     ]
    },
    {
     "name": "stdout",
     "output_type": "stream",
     "text": [
      "                                 OLS Regression Results                                \n",
      "=======================================================================================\n",
      "Dep. Variable:                      y   R-squared (uncentered):                   0.654\n",
      "Model:                            OLS   Adj. R-squared (uncentered):              0.631\n",
      "Method:                 Least Squares   F-statistic:                              28.33\n",
      "Date:                Sun, 13 Feb 2022   Prob (F-statistic):                    5.17e-16\n",
      "Time:                        13:14:21   Log-Likelihood:                         -67.185\n",
      "No. Observations:                  80   AIC:                                      144.4\n",
      "Df Residuals:                      75   BIC:                                      156.3\n",
      "Df Model:                           5                                                  \n",
      "Covariance Type:            nonrobust                                                  \n",
      "==============================================================================\n",
      "                 coef    std err          t      P>|t|      [0.025      0.975]\n",
      "------------------------------------------------------------------------------\n",
      "x1             0.3647      0.065      5.625      0.000       0.236       0.494\n",
      "x2             0.3143      0.069      4.526      0.000       0.176       0.453\n",
      "x3            -0.0340      0.065     -0.522      0.603      -0.164       0.096\n",
      "x4             0.6463      0.068      9.538      0.000       0.511       0.781\n",
      "x5             0.2882      0.069      4.181      0.000       0.151       0.426\n",
      "==============================================================================\n",
      "Omnibus:                        0.986   Durbin-Watson:                   2.001\n",
      "Prob(Omnibus):                  0.611   Jarque-Bera (JB):                1.047\n",
      "Skew:                          -0.248   Prob(JB):                        0.592\n",
      "Kurtosis:                       2.739   Cond. No.                         1.41\n",
      "==============================================================================\n",
      "\n",
      "Notes:\n",
      "[1] R² is computed without centering (uncentered) since the model does not contain a constant.\n",
      "[2] Standard Errors assume that the covariance matrix of the errors is correctly specified.\n"
     ]
    },
    {
     "data": {
      "image/png": "[encoded data removed]",
      "text/plain": [
       "<Figure size 432x288 with 1 Axes>"
      ]
     },
     "metadata": {
      "needs_background": "light"
     },
     "output_type": "display_data"
    },
    {
     "name": "stdout",
     "output_type": "stream",
     "text": [
      "Performance Metrics\n",
      "Mean Squared Error: 0.16624468084380234\n",
      "Mean Absolute Error: 0.3514800602158723\n",
      "Manhattan distance: 7.029601204317447\n",
      "Euclidean distance: 1.8234290819431522\n"
     ]
    },
    {
     "data": {
      "application/scrapbook.scrap.json+json": {
       "data": 0.16624468084380234,
       "encoder": "json",
       "name": "Stats Model MSE",
       "version": 1
      }
     },
     "metadata": {
      "scrapbook": {
       "data": true,
       "display": false,
       "name": "Stats Model MSE"
      }
     },
     "output_type": "display_data"
    },
    {
     "data": {
      "application/scrapbook.scrap.json+json": {
       "data": 0.3514800602158723,
       "encoder": "json",
       "name": "Stats Model MAE",
       "version": 1
      }
     },
     "metadata": {
      "scrapbook": {
       "data": true,
       "display": false,
       "name": "Stats Model MAE"
      }
     },
     "output_type": "display_data"
    },
    {
     "data": {
      "application/scrapbook.scrap.json+json": {
       "data": 7.029601204317447,
       "encoder": "json",
       "name": "Stats Model Manhattan Distance",
       "version": 1
      }
     },
     "metadata": {
      "scrapbook": {
       "data": true,
       "display": false,
       "name": "Stats Model Manhattan Distance"
      }
     },
     "output_type": "display_data"
    },
    {
     "data": {
      "application/scrapbook.scrap.json+json": {
       "data": 1.8234290819431522,
       "encoder": "json",
       "name": "Stats Model Euclidean distance",
       "version": 1
      }
     },
     "metadata": {
      "scrapbook": {
       "data": true,
       "display": false,
       "name": "Stats Model Euclidean distance"
      }
     },
     "output_type": "display_data"
    },
    {
     "data": {
      "application/scrapbook.scrap.json+json": {
       "data": [
        0.36468754809001647,
        0.3143399930513102,
        -0.03404538053942041,
        0.6463418650836379,
        0.2882275866682471
       ],
       "encoder": "json",
       "name": "Coefficients",
       "version": 1
      }
     },
     "metadata": {
      "scrapbook": {
       "data": true,
       "display": false,
       "name": "Coefficients"
      }
     },
     "output_type": "display_data"
    }
   ],
   "source": [
    "coefficients , y_pred =statsModel.statsModel(X_train,y_train,X_test,y_test)\n",
    "#Store MSE Value \n",
    "sb.glue(\"Coefficients\",coefficients)"
   ]
  }
 ],
 "metadata": {
  "interpreter": {
   "hash": "10498c76ddd8160350534c6544a2b2fb65f2138dbc70420f7c81a3268f830f23"
  },
  "kernelspec": {
   "display_name": "Python 3 (ipykernel)",
   "language": "python",
   "name": "python3"
  },
  "language_info": {
   "codemirror_mode": {
    "name": "ipython",
    "version": 3
   },
   "file_extension": ".py",
   "mimetype": "text/x-python",
   "name": "python",
   "nbconvert_exporter": "python",
   "pygments_lexer": "ipython3",
   "version": "3.8.11"
  },
  "papermill": {
   "default_parameters": {},
   "duration": 2.922969,
   "end_time": "2022-02-13T07:44:21.493372",
   "environment_variables": {},
   "exception": null,
   "input_path": "BaselineModels.ipynb",
   "output_path": "./BaseLine_Model_Output/BaselineModels_output_7.ipynb",
   "parameters": {},
   "start_time": "2022-02-13T07:44:18.570403",
   "version": "2.3.3"
  }
 },
 "nbformat": 4,
 "nbformat_minor": 5
}