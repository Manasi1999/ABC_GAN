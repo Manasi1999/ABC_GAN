{
 "cells": [
  {
   "cell_type": "markdown",
   "id": "55c29bde",
   "metadata": {
    "papermill": {
     "duration": 0.013821,
     "end_time": "2022-02-13T07:44:00.015299",
     "exception": false,
     "start_time": "2022-02-13T07:44:00.001478",
     "status": "completed"
    },
    "tags": []
   },
   "source": [
    "## Import Libraries "
   ]
  },
  {
   "cell_type": "code",
   "execution_count": 1,
   "id": "94105457",
   "metadata": {
    "execution": {
     "iopub.execute_input": "2022-02-13T07:44:00.040748Z",
     "iopub.status.busy": "2022-02-13T07:44:00.040002Z",
     "iopub.status.idle": "2022-02-13T07:44:00.043091Z",
     "shell.execute_reply": "2022-02-13T07:44:00.043664Z"
    },
    "papermill": {
     "duration": 0.020857,
     "end_time": "2022-02-13T07:44:00.044002",
     "exception": false,
     "start_time": "2022-02-13T07:44:00.023145",
     "status": "completed"
    },
    "tags": []
   },
   "outputs": [],
   "source": [
    "import warnings\n",
    "import sys\n",
    "sys.path.insert(0, '../../src')\n",
    "warnings.filterwarnings('ignore')"
   ]
  },
  {
   "cell_type": "code",
   "execution_count": 2,
   "id": "c31e406c",
   "metadata": {
    "execution": {
     "iopub.execute_input": "2022-02-13T07:44:00.056993Z",
     "iopub.status.busy": "2022-02-13T07:44:00.056460Z",
     "iopub.status.idle": "2022-02-13T07:44:01.765993Z",
     "shell.execute_reply": "2022-02-13T07:44:01.766259Z"
    },
    "papermill": {
     "duration": 1.717358,
     "end_time": "2022-02-13T07:44:01.766408",
     "exception": false,
     "start_time": "2022-02-13T07:44:00.049050",
     "status": "completed"
    },
    "tags": []
   },
   "outputs": [],
   "source": [
    "import statsModel\n",
    "import scrapbook as sb \n",
    "import torch \n",
    "import statsModel\n",
    "import friedman1Dataset\n",
    "import dataset \n",
    "from torch.utils.data import random_split \n",
    "from sklearn.model_selection import train_test_split"
   ]
  },
  {
   "cell_type": "markdown",
   "id": "7a8ffaa5",
   "metadata": {
    "papermill": {
     "duration": 0.002337,
     "end_time": "2022-02-13T07:44:01.771511",
     "exception": false,
     "start_time": "2022-02-13T07:44:01.769174",
     "status": "completed"
    },
    "tags": []
   },
   "source": [
    "## Import Dataset \n"
   ]
  },
  {
   "cell_type": "code",
   "execution_count": 3,
   "id": "7ae0496f",
   "metadata": {
    "execution": {
     "iopub.execute_input": "2022-02-13T07:44:01.781685Z",
     "iopub.status.busy": "2022-02-13T07:44:01.781136Z",
     "iopub.status.idle": "2022-02-13T07:44:01.786318Z",
     "shell.execute_reply": "2022-02-13T07:44:01.786565Z"
    },
    "papermill": {
     "duration": 0.012855,
     "end_time": "2022-02-13T07:44:01.786687",
     "exception": false,
     "start_time": "2022-02-13T07:44:01.773832",
     "status": "completed"
    },
    "tags": []
   },
   "outputs": [
    {
     "name": "stdout",
     "output_type": "stream",
     "text": [
      "         X0        X1        X2        X3        X4         Y\n",
      "0  1.043738 -0.445812  1.274995  0.837049  0.418411  1.207233\n",
      "1 -0.522415  1.821757  1.050733 -0.371696  0.966428  0.686681\n",
      "2  1.295640 -0.012977  0.009285 -0.166026 -0.696382  0.185483\n",
      "3 -1.223465 -0.837952  1.355203  0.128894 -1.443300 -0.996230\n",
      "4  1.575908 -1.487480 -0.944683  1.182967  1.576846  0.497786\n"
     ]
    }
   ],
   "source": [
    "n_features = 5\n",
    "n_samples= 100\n",
    "n_target = 1 \n",
    "X,Y = friedman1Dataset.friedman1_data(n_samples,n_features)"
   ]
  },
  {
   "cell_type": "code",
   "execution_count": 4,
   "id": "9474542c",
   "metadata": {
    "execution": {
     "iopub.execute_input": "2022-02-13T07:44:01.794469Z",
     "iopub.status.busy": "2022-02-13T07:44:01.794092Z",
     "iopub.status.idle": "2022-02-13T07:44:01.795443Z",
     "shell.execute_reply": "2022-02-13T07:44:01.795683Z"
    },
    "papermill": {
     "duration": 0.006331,
     "end_time": "2022-02-13T07:44:01.795808",
     "exception": false,
     "start_time": "2022-02-13T07:44:01.789477",
     "status": "completed"
    },
    "tags": []
   },
   "outputs": [],
   "source": [
    "# Train test split for dataset \n",
    "real_dataset = dataset.CustomDataset(X,Y)\n",
    "X_train, X_test, y_train, y_test = train_test_split(X, Y, test_size=0.2)"
   ]
  },
  {
   "cell_type": "markdown",
   "id": "f10437b1",
   "metadata": {
    "papermill": {
     "duration": 0.00253,
     "end_time": "2022-02-13T07:44:01.800987",
     "exception": false,
     "start_time": "2022-02-13T07:44:01.798457",
     "status": "completed"
    },
    "tags": []
   },
   "source": [
    "## Stats Model \n",
    "\n"
   ]
  },
  {
   "cell_type": "code",
   "execution_count": 5,
   "id": "e4e89ad3",
   "metadata": {
    "execution": {
     "iopub.execute_input": "2022-02-13T07:44:01.809102Z",
     "iopub.status.busy": "2022-02-13T07:44:01.808725Z",
     "iopub.status.idle": "2022-02-13T07:44:01.903089Z",
     "shell.execute_reply": "2022-02-13T07:44:01.903423Z"
    },
    "papermill": {
     "duration": 0.100064,
     "end_time": "2022-02-13T07:44:01.903555",
     "exception": false,
     "start_time": "2022-02-13T07:44:01.803491",
     "status": "completed"
    },
    "tags": []
   },
   "outputs": [
    {
     "name": "stderr",
     "output_type": "stream",
     "text": [
      "No handles with labels found to put in legend.\n"
     ]
    },
    {
     "name": "stdout",
     "output_type": "stream",
     "text": [
      "                                 OLS Regression Results                                \n",
      "=======================================================================================\n",
      "Dep. Variable:                      y   R-squared (uncentered):                   0.772\n",
      "Model:                            OLS   Adj. R-squared (uncentered):              0.757\n",
      "Method:                 Least Squares   F-statistic:                              50.83\n",
      "Date:                Sun, 13 Feb 2022   Prob (F-statistic):                    1.02e-22\n",
      "Time:                        13:14:01   Log-Likelihood:                         -54.283\n",
      "No. Observations:                  80   AIC:                                      118.6\n",
      "Df Residuals:                      75   BIC:                                      130.5\n",
      "Df Model:                           5                                                  \n",
      "Covariance Type:            nonrobust                                                  \n",
      "==============================================================================\n",
      "                 coef    std err          t      P>|t|      [0.025      0.975]\n",
      "------------------------------------------------------------------------------\n",
      "x1             0.3736      0.058      6.429      0.000       0.258       0.489\n",
      "x2             0.3663      0.055      6.656      0.000       0.257       0.476\n",
      "x3            -0.0150      0.058     -0.259      0.796      -0.130       0.100\n",
      "x4             0.5746      0.055     10.375      0.000       0.464       0.685\n",
      "x5             0.3916      0.060      6.564      0.000       0.273       0.511\n",
      "==============================================================================\n",
      "Omnibus:                       30.069   Durbin-Watson:                   1.848\n",
      "Prob(Omnibus):                  0.000   Jarque-Bera (JB):               81.433\n",
      "Skew:                          -1.195   Prob(JB):                     2.08e-18\n",
      "Kurtosis:                       7.326   Cond. No.                         1.48\n",
      "==============================================================================\n",
      "\n",
      "Notes:\n",
      "[1] R² is computed without centering (uncentered) since the model does not contain a constant.\n",
      "[2] Standard Errors assume that the covariance matrix of the errors is correctly specified.\n"
     ]
    },
    {
     "data": {
      "image/png": "[encoded data removed]",
      "text/plain": [
       "<Figure size 432x288 with 1 Axes>"
      ]
     },
     "metadata": {
      "needs_background": "light"
     },
     "output_type": "display_data"
    },
    {
     "name": "stdout",
     "output_type": "stream",
     "text": [
      "Performance Metrics\n",
      "Mean Squared Error: 0.2869056080295554\n",
      "Mean Absolute Error: 0.39629447325787226\n",
      "Manhattan distance: 7.9258894651574465\n",
      "Euclidean distance: 2.395435693269829\n"
     ]
    },
    {
     "data": {
      "application/scrapbook.scrap.json+json": {
       "data": 0.2869056080295554,
       "encoder": "json",
       "name": "Stats Model MSE",
       "version": 1
      }
     },
     "metadata": {
      "scrapbook": {
       "data": true,
       "display": false,
       "name": "Stats Model MSE"
      }
     },
     "output_type": "display_data"
    },
    {
     "data": {
      "application/scrapbook.scrap.json+json": {
       "data": 0.39629447325787226,
       "encoder": "json",
       "name": "Stats Model MAE",
       "version": 1
      }
     },
     "metadata": {
      "scrapbook": {
       "data": true,
       "display": false,
       "name": "Stats Model MAE"
      }
     },
     "output_type": "display_data"
    },
    {
     "data": {
      "application/scrapbook.scrap.json+json": {
       "data": 7.9258894651574465,
       "encoder": "json",
       "name": "Stats Model Manhattan Distance",
       "version": 1
      }
     },
     "metadata": {
      "scrapbook": {
       "data": true,
       "display": false,
       "name": "Stats Model Manhattan Distance"
      }
     },
     "output_type": "display_data"
    },
    {
     "data": {
      "application/scrapbook.scrap.json+json": {
       "data": 2.395435693269829,
       "encoder": "json",
       "name": "Stats Model Euclidean distance",
       "version": 1
      }
     },
     "metadata": {
      "scrapbook": {
       "data": true,
       "display": false,
       "name": "Stats Model Euclidean distance"
      }
     },
     "output_type": "display_data"
    },
    {
     "data": {
      "application/scrapbook.scrap.json+json": {
       "data": [
        0.37358256077900054,
        0.36630124088437915,
        -0.014989202311873638,
        0.5746253988757019,
        0.3916487565865987
       ],
       "encoder": "json",
       "name": "Coefficients",
       "version": 1
      }
     },
     "metadata": {
      "scrapbook": {
       "data": true,
       "display": false,
       "name": "Coefficients"
      }
     },
     "output_type": "display_data"
    }
   ],
   "source": [
    "coefficients , y_pred =statsModel.statsModel(X_train,y_train,X_test,y_test)\n",
    "#Store MSE Value \n",
    "sb.glue(\"Coefficients\",coefficients)"
   ]
  }
 ],
 "metadata": {
  "interpreter": {
   "hash": "10498c76ddd8160350534c6544a2b2fb65f2138dbc70420f7c81a3268f830f23"
  },
  "kernelspec": {
   "display_name": "Python 3 (ipykernel)",
   "language": "python",
   "name": "python3"
  },
  "language_info": {
   "codemirror_mode": {
    "name": "ipython",
    "version": 3
   },
   "file_extension": ".py",
   "mimetype": "text/x-python",
   "name": "python",
   "nbconvert_exporter": "python",
   "pygments_lexer": "ipython3",
   "version": "3.8.11"
  },
  "papermill": {
   "default_parameters": {},
   "duration": 3.060603,
   "end_time": "2022-02-13T07:44:02.216424",
   "environment_variables": {},
   "exception": null,
   "input_path": "BaselineModels.ipynb",
   "output_path": "./BaseLine_Model_Output/BaselineModels_output_2.ipynb",
   "parameters": {},
   "start_time": "2022-02-13T07:43:59.155821",
   "version": "2.3.3"
  }
 },
 "nbformat": 4,
 "nbformat_minor": 5
}