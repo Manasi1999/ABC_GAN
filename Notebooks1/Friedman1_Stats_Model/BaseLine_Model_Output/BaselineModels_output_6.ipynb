{
 "cells": [
  {
   "cell_type": "markdown",
   "id": "dc1b4870",
   "metadata": {
    "papermill": {
     "duration": 0.01267,
     "end_time": "2022-02-13T07:44:15.575733",
     "exception": false,
     "start_time": "2022-02-13T07:44:15.563063",
     "status": "completed"
    },
    "tags": []
   },
   "source": [
    "## Import Libraries "
   ]
  },
  {
   "cell_type": "code",
   "execution_count": 1,
   "id": "f711197a",
   "metadata": {
    "execution": {
     "iopub.execute_input": "2022-02-13T07:44:15.601823Z",
     "iopub.status.busy": "2022-02-13T07:44:15.600946Z",
     "iopub.status.idle": "2022-02-13T07:44:15.604112Z",
     "shell.execute_reply": "2022-02-13T07:44:15.604576Z"
    },
    "papermill": {
     "duration": 0.021241,
     "end_time": "2022-02-13T07:44:15.604868",
     "exception": false,
     "start_time": "2022-02-13T07:44:15.583627",
     "status": "completed"
    },
    "tags": []
   },
   "outputs": [],
   "source": [
    "import warnings\n",
    "import sys\n",
    "sys.path.insert(0, '../../src')\n",
    "warnings.filterwarnings('ignore')"
   ]
  },
  {
   "cell_type": "code",
   "execution_count": 2,
   "id": "514270ec",
   "metadata": {
    "execution": {
     "iopub.execute_input": "2022-02-13T07:44:15.617538Z",
     "iopub.status.busy": "2022-02-13T07:44:15.617008Z",
     "iopub.status.idle": "2022-02-13T07:44:17.209482Z",
     "shell.execute_reply": "2022-02-13T07:44:17.209747Z"
    },
    "papermill": {
     "duration": 1.599931,
     "end_time": "2022-02-13T07:44:17.209874",
     "exception": false,
     "start_time": "2022-02-13T07:44:15.609943",
     "status": "completed"
    },
    "tags": []
   },
   "outputs": [],
   "source": [
    "import statsModel\n",
    "import scrapbook as sb \n",
    "import torch \n",
    "import statsModel\n",
    "import friedman1Dataset\n",
    "import dataset \n",
    "from torch.utils.data import random_split \n",
    "from sklearn.model_selection import train_test_split"
   ]
  },
  {
   "cell_type": "markdown",
   "id": "ec9da378",
   "metadata": {
    "papermill": {
     "duration": 0.002398,
     "end_time": "2022-02-13T07:44:17.214938",
     "exception": false,
     "start_time": "2022-02-13T07:44:17.212540",
     "status": "completed"
    },
    "tags": []
   },
   "source": [
    "## Import Dataset \n"
   ]
  },
  {
   "cell_type": "code",
   "execution_count": 3,
   "id": "8eaa94f0",
   "metadata": {
    "execution": {
     "iopub.execute_input": "2022-02-13T07:44:17.223660Z",
     "iopub.status.busy": "2022-02-13T07:44:17.223150Z",
     "iopub.status.idle": "2022-02-13T07:44:17.229094Z",
     "shell.execute_reply": "2022-02-13T07:44:17.229313Z"
    },
    "papermill": {
     "duration": 0.011874,
     "end_time": "2022-02-13T07:44:17.229425",
     "exception": false,
     "start_time": "2022-02-13T07:44:17.217551",
     "status": "completed"
    },
    "tags": []
   },
   "outputs": [
    {
     "name": "stdout",
     "output_type": "stream",
     "text": [
      "         X0        X1        X2        X3        X4         Y\n",
      "0 -0.874886  0.570273  1.598344  0.512491  0.797274  1.094869\n",
      "1 -0.520378  0.834852  0.991777  1.694706 -1.638949  0.956470\n",
      "2  1.380047 -1.261048 -0.792221 -0.821487  0.325700 -0.818796\n",
      "3 -0.269261 -1.028435  1.462918 -0.374205 -0.108384 -0.330166\n",
      "4  0.535015  0.260177 -0.746671  1.120737 -1.386264  0.945638\n"
     ]
    }
   ],
   "source": [
    "n_features = 5\n",
    "n_samples= 100\n",
    "n_target = 1 \n",
    "X,Y = friedman1Dataset.friedman1_data(n_samples,n_features)"
   ]
  },
  {
   "cell_type": "code",
   "execution_count": 4,
   "id": "74ab37c9",
   "metadata": {
    "execution": {
     "iopub.execute_input": "2022-02-13T07:44:17.237385Z",
     "iopub.status.busy": "2022-02-13T07:44:17.237011Z",
     "iopub.status.idle": "2022-02-13T07:44:17.238290Z",
     "shell.execute_reply": "2022-02-13T07:44:17.238528Z"
    },
    "papermill": {
     "duration": 0.006409,
     "end_time": "2022-02-13T07:44:17.238636",
     "exception": false,
     "start_time": "2022-02-13T07:44:17.232227",
     "status": "completed"
    },
    "tags": []
   },
   "outputs": [],
   "source": [
    "# Train test split for dataset \n",
    "real_dataset = dataset.CustomDataset(X,Y)\n",
    "X_train, X_test, y_train, y_test = train_test_split(X, Y, test_size=0.2)"
   ]
  },
  {
   "cell_type": "markdown",
   "id": "6696c26f",
   "metadata": {
    "papermill": {
     "duration": 0.002531,
     "end_time": "2022-02-13T07:44:17.243836",
     "exception": false,
     "start_time": "2022-02-13T07:44:17.241305",
     "status": "completed"
    },
    "tags": []
   },
   "source": [
    "## Stats Model \n",
    "\n"
   ]
  },
  {
   "cell_type": "code",
   "execution_count": 5,
   "id": "b6872967",
   "metadata": {
    "execution": {
     "iopub.execute_input": "2022-02-13T07:44:17.251825Z",
     "iopub.status.busy": "2022-02-13T07:44:17.251444Z",
     "iopub.status.idle": "2022-02-13T07:44:17.352499Z",
     "shell.execute_reply": "2022-02-13T07:44:17.352795Z"
    },
    "papermill": {
     "duration": 0.106538,
     "end_time": "2022-02-13T07:44:17.352917",
     "exception": false,
     "start_time": "2022-02-13T07:44:17.246379",
     "status": "completed"
    },
    "tags": []
   },
   "outputs": [
    {
     "name": "stderr",
     "output_type": "stream",
     "text": [
      "No handles with labels found to put in legend.\n"
     ]
    },
    {
     "name": "stdout",
     "output_type": "stream",
     "text": [
      "                                 OLS Regression Results                                \n",
      "=======================================================================================\n",
      "Dep. Variable:                      y   R-squared (uncentered):                   0.807\n",
      "Model:                            OLS   Adj. R-squared (uncentered):              0.795\n",
      "Method:                 Least Squares   F-statistic:                              62.87\n",
      "Date:                Sun, 13 Feb 2022   Prob (F-statistic):                    2.00e-25\n",
      "Time:                        13:14:17   Log-Likelihood:                         -47.020\n",
      "No. Observations:                  80   AIC:                                      104.0\n",
      "Df Residuals:                      75   BIC:                                      116.0\n",
      "Df Model:                           5                                                  \n",
      "Covariance Type:            nonrobust                                                  \n",
      "==============================================================================\n",
      "                 coef    std err          t      P>|t|      [0.025      0.975]\n",
      "------------------------------------------------------------------------------\n",
      "x1             0.4323      0.050      8.629      0.000       0.333       0.532\n",
      "x2             0.4607      0.054      8.593      0.000       0.354       0.568\n",
      "x3             0.0087      0.052      0.168      0.867      -0.095       0.112\n",
      "x4             0.7478      0.053     14.107      0.000       0.642       0.853\n",
      "x5             0.3261      0.051      6.432      0.000       0.225       0.427\n",
      "==============================================================================\n",
      "Omnibus:                        3.470   Durbin-Watson:                   1.940\n",
      "Prob(Omnibus):                  0.176   Jarque-Bera (JB):                2.810\n",
      "Skew:                          -0.442   Prob(JB):                        0.245\n",
      "Kurtosis:                       3.248   Cond. No.                         1.40\n",
      "==============================================================================\n",
      "\n",
      "Notes:\n",
      "[1] R² is computed without centering (uncentered) since the model does not contain a constant.\n",
      "[2] Standard Errors assume that the covariance matrix of the errors is correctly specified.\n"
     ]
    },
    {
     "data": {
      "image/png": "[encoded data removed]",
      "text/plain": [
       "<Figure size 432x288 with 1 Axes>"
      ]
     },
     "metadata": {
      "needs_background": "light"
     },
     "output_type": "display_data"
    },
    {
     "name": "stdout",
     "output_type": "stream",
     "text": [
      "Performance Metrics\n",
      "Mean Squared Error: 0.4020689088814368\n",
      "Mean Absolute Error: 0.49678959719769916\n",
      "Manhattan distance: 9.935791943953982\n",
      "Euclidean distance: 2.8357323882250833\n"
     ]
    },
    {
     "data": {
      "application/scrapbook.scrap.json+json": {
       "data": 0.4020689088814368,
       "encoder": "json",
       "name": "Stats Model MSE",
       "version": 1
      }
     },
     "metadata": {
      "scrapbook": {
       "data": true,
       "display": false,
       "name": "Stats Model MSE"
      }
     },
     "output_type": "display_data"
    },
    {
     "data": {
      "application/scrapbook.scrap.json+json": {
       "data": 0.49678959719769916,
       "encoder": "json",
       "name": "Stats Model MAE",
       "version": 1
      }
     },
     "metadata": {
      "scrapbook": {
       "data": true,
       "display": false,
       "name": "Stats Model MAE"
      }
     },
     "output_type": "display_data"
    },
    {
     "data": {
      "application/scrapbook.scrap.json+json": {
       "data": 9.935791943953982,
       "encoder": "json",
       "name": "Stats Model Manhattan Distance",
       "version": 1
      }
     },
     "metadata": {
      "scrapbook": {
       "data": true,
       "display": false,
       "name": "Stats Model Manhattan Distance"
      }
     },
     "output_type": "display_data"
    },
    {
     "data": {
      "application/scrapbook.scrap.json+json": {
       "data": 2.8357323882250833,
       "encoder": "json",
       "name": "Stats Model Euclidean distance",
       "version": 1
      }
     },
     "metadata": {
      "scrapbook": {
       "data": true,
       "display": false,
       "name": "Stats Model Euclidean distance"
      }
     },
     "output_type": "display_data"
    },
    {
     "data": {
      "application/scrapbook.scrap.json+json": {
       "data": [
        0.4323012169457423,
        0.460707938588091,
        0.008743815042931043,
        0.7478161559125807,
        0.32607952775880744
       ],
       "encoder": "json",
       "name": "Coefficients",
       "version": 1
      }
     },
     "metadata": {
      "scrapbook": {
       "data": true,
       "display": false,
       "name": "Coefficients"
      }
     },
     "output_type": "display_data"
    }
   ],
   "source": [
    "coefficients , y_pred =statsModel.statsModel(X_train,y_train,X_test,y_test)\n",
    "#Store MSE Value \n",
    "sb.glue(\"Coefficients\",coefficients)"
   ]
  }
 ],
 "metadata": {
  "interpreter": {
   "hash": "10498c76ddd8160350534c6544a2b2fb65f2138dbc70420f7c81a3268f830f23"
  },
  "kernelspec": {
   "display_name": "Python 3 (ipykernel)",
   "language": "python",
   "name": "python3"
  },
  "language_info": {
   "codemirror_mode": {
    "name": "ipython",
    "version": 3
   },
   "file_extension": ".py",
   "mimetype": "text/x-python",
   "name": "python",
   "nbconvert_exporter": "python",
   "pygments_lexer": "ipython3",
   "version": "3.8.11"
  },
  "papermill": {
   "default_parameters": {},
   "duration": 2.951675,
   "end_time": "2022-02-13T07:44:17.665364",
   "environment_variables": {},
   "exception": null,
   "input_path": "BaselineModels.ipynb",
   "output_path": "./BaseLine_Model_Output/BaselineModels_output_6.ipynb",
   "parameters": {},
   "start_time": "2022-02-13T07:44:14.713689",
   "version": "2.3.3"
  }
 },
 "nbformat": 4,
 "nbformat_minor": 5
}