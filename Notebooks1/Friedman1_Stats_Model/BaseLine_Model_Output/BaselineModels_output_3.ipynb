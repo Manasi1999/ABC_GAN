{
 "cells": [
  {
   "cell_type": "markdown",
   "id": "1af884dd",
   "metadata": {
    "papermill": {
     "duration": 0.011359,
     "end_time": "2022-02-13T07:44:03.994942",
     "exception": false,
     "start_time": "2022-02-13T07:44:03.983583",
     "status": "completed"
    },
    "tags": []
   },
   "source": [
    "## Import Libraries "
   ]
  },
  {
   "cell_type": "code",
   "execution_count": 1,
   "id": "393e9732",
   "metadata": {
    "execution": {
     "iopub.execute_input": "2022-02-13T07:44:04.020016Z",
     "iopub.status.busy": "2022-02-13T07:44:04.019212Z",
     "iopub.status.idle": "2022-02-13T07:44:04.022016Z",
     "shell.execute_reply": "2022-02-13T07:44:04.022433Z"
    },
    "papermill": {
     "duration": 0.020173,
     "end_time": "2022-02-13T07:44:04.022695",
     "exception": false,
     "start_time": "2022-02-13T07:44:04.002522",
     "status": "completed"
    },
    "tags": []
   },
   "outputs": [],
   "source": [
    "import warnings\n",
    "import sys\n",
    "sys.path.insert(0, '../../src')\n",
    "warnings.filterwarnings('ignore')"
   ]
  },
  {
   "cell_type": "code",
   "execution_count": 2,
   "id": "d2c4aa3c",
   "metadata": {
    "execution": {
     "iopub.execute_input": "2022-02-13T07:44:04.035130Z",
     "iopub.status.busy": "2022-02-13T07:44:04.034588Z",
     "iopub.status.idle": "2022-02-13T07:44:05.620532Z",
     "shell.execute_reply": "2022-02-13T07:44:05.620765Z"
    },
    "papermill": {
     "duration": 1.593461,
     "end_time": "2022-02-13T07:44:05.620894",
     "exception": false,
     "start_time": "2022-02-13T07:44:04.027433",
     "status": "completed"
    },
    "tags": []
   },
   "outputs": [],
   "source": [
    "import statsModel\n",
    "import scrapbook as sb \n",
    "import torch \n",
    "import statsModel\n",
    "import friedman1Dataset\n",
    "import dataset \n",
    "from torch.utils.data import random_split \n",
    "from sklearn.model_selection import train_test_split"
   ]
  },
  {
   "cell_type": "markdown",
   "id": "8cd395f4",
   "metadata": {
    "papermill": {
     "duration": 0.002484,
     "end_time": "2022-02-13T07:44:05.626014",
     "exception": false,
     "start_time": "2022-02-13T07:44:05.623530",
     "status": "completed"
    },
    "tags": []
   },
   "source": [
    "## Import Dataset \n"
   ]
  },
  {
   "cell_type": "code",
   "execution_count": 3,
   "id": "affb5f38",
   "metadata": {
    "execution": {
     "iopub.execute_input": "2022-02-13T07:44:05.635923Z",
     "iopub.status.busy": "2022-02-13T07:44:05.634458Z",
     "iopub.status.idle": "2022-02-13T07:44:05.640484Z",
     "shell.execute_reply": "2022-02-13T07:44:05.640720Z"
    },
    "papermill": {
     "duration": 0.012223,
     "end_time": "2022-02-13T07:44:05.640832",
     "exception": false,
     "start_time": "2022-02-13T07:44:05.628609",
     "status": "completed"
    },
    "tags": []
   },
   "outputs": [
    {
     "name": "stdout",
     "output_type": "stream",
     "text": [
      "         X0        X1        X2        X3        X4         Y\n",
      "0 -1.326111 -0.782772  1.588834 -0.635548  1.586048 -0.266086\n",
      "1  0.406579 -0.044069 -0.931965  0.506020 -0.711814  0.604297\n",
      "2 -1.476698 -0.354093 -0.228909  0.997441 -0.179748 -0.617180\n",
      "3  0.681936 -0.531408  1.513467  0.877763  0.825049  1.367879\n",
      "4 -0.330754  1.285877  1.239859 -1.216431  0.670404  0.363247\n"
     ]
    }
   ],
   "source": [
    "n_features = 5\n",
    "n_samples= 100\n",
    "n_target = 1 \n",
    "X,Y = friedman1Dataset.friedman1_data(n_samples,n_features)"
   ]
  },
  {
   "cell_type": "code",
   "execution_count": 4,
   "id": "42676a7f",
   "metadata": {
    "execution": {
     "iopub.execute_input": "2022-02-13T07:44:05.648637Z",
     "iopub.status.busy": "2022-02-13T07:44:05.648223Z",
     "iopub.status.idle": "2022-02-13T07:44:05.649532Z",
     "shell.execute_reply": "2022-02-13T07:44:05.649776Z"
    },
    "papermill": {
     "duration": 0.006375,
     "end_time": "2022-02-13T07:44:05.649884",
     "exception": false,
     "start_time": "2022-02-13T07:44:05.643509",
     "status": "completed"
    },
    "tags": []
   },
   "outputs": [],
   "source": [
    "# Train test split for dataset \n",
    "real_dataset = dataset.CustomDataset(X,Y)\n",
    "X_train, X_test, y_train, y_test = train_test_split(X, Y, test_size=0.2)"
   ]
  },
  {
   "cell_type": "markdown",
   "id": "87663dca",
   "metadata": {
    "papermill": {
     "duration": 0.002498,
     "end_time": "2022-02-13T07:44:05.655026",
     "exception": false,
     "start_time": "2022-02-13T07:44:05.652528",
     "status": "completed"
    },
    "tags": []
   },
   "source": [
    "## Stats Model \n",
    "\n"
   ]
  },
  {
   "cell_type": "code",
   "execution_count": 5,
   "id": "81ed79b5",
   "metadata": {
    "execution": {
     "iopub.execute_input": "2022-02-13T07:44:05.662857Z",
     "iopub.status.busy": "2022-02-13T07:44:05.662480Z",
     "iopub.status.idle": "2022-02-13T07:44:05.759486Z",
     "shell.execute_reply": "2022-02-13T07:44:05.759778Z"
    },
    "papermill": {
     "duration": 0.102368,
     "end_time": "2022-02-13T07:44:05.759902",
     "exception": false,
     "start_time": "2022-02-13T07:44:05.657534",
     "status": "completed"
    },
    "tags": []
   },
   "outputs": [
    {
     "name": "stderr",
     "output_type": "stream",
     "text": [
      "No handles with labels found to put in legend.\n"
     ]
    },
    {
     "name": "stdout",
     "output_type": "stream",
     "text": [
      "                                 OLS Regression Results                                \n",
      "=======================================================================================\n",
      "Dep. Variable:                      y   R-squared (uncentered):                   0.772\n",
      "Model:                            OLS   Adj. R-squared (uncentered):              0.757\n",
      "Method:                 Least Squares   F-statistic:                              50.74\n",
      "Date:                Sun, 13 Feb 2022   Prob (F-statistic):                    1.07e-22\n",
      "Time:                        13:14:05   Log-Likelihood:                         -50.664\n",
      "No. Observations:                  80   AIC:                                      111.3\n",
      "Df Residuals:                      75   BIC:                                      123.2\n",
      "Df Model:                           5                                                  \n",
      "Covariance Type:            nonrobust                                                  \n",
      "==============================================================================\n",
      "                 coef    std err          t      P>|t|      [0.025      0.975]\n",
      "------------------------------------------------------------------------------\n",
      "x1             0.4297      0.052      8.189      0.000       0.325       0.534\n",
      "x2             0.3814      0.054      7.041      0.000       0.274       0.489\n",
      "x3             0.0307      0.053      0.576      0.566      -0.076       0.137\n",
      "x4             0.5916      0.053     11.214      0.000       0.487       0.697\n",
      "x5             0.2438      0.054      4.477      0.000       0.135       0.352\n",
      "==============================================================================\n",
      "Omnibus:                        0.782   Durbin-Watson:                   1.932\n",
      "Prob(Omnibus):                  0.676   Jarque-Bera (JB):                0.892\n",
      "Skew:                          -0.164   Prob(JB):                        0.640\n",
      "Kurtosis:                       2.599   Cond. No.                         1.27\n",
      "==============================================================================\n",
      "\n",
      "Notes:\n",
      "[1] R² is computed without centering (uncentered) since the model does not contain a constant.\n",
      "[2] Standard Errors assume that the covariance matrix of the errors is correctly specified.\n"
     ]
    },
    {
     "data": {
      "image/png": "[encoded data removed]",
      "text/plain": [
       "<Figure size 432x288 with 1 Axes>"
      ]
     },
     "metadata": {
      "needs_background": "light"
     },
     "output_type": "display_data"
    },
    {
     "name": "stdout",
     "output_type": "stream",
     "text": [
      "Performance Metrics\n",
      "Mean Squared Error: 0.3035551304837571\n",
      "Mean Absolute Error: 0.42286390790372685\n",
      "Manhattan distance: 8.457278158074535\n",
      "Euclidean distance: 2.4639607565209194\n"
     ]
    },
    {
     "data": {
      "application/scrapbook.scrap.json+json": {
       "data": 0.3035551304837571,
       "encoder": "json",
       "name": "Stats Model MSE",
       "version": 1
      }
     },
     "metadata": {
      "scrapbook": {
       "data": true,
       "display": false,
       "name": "Stats Model MSE"
      }
     },
     "output_type": "display_data"
    },
    {
     "data": {
      "application/scrapbook.scrap.json+json": {
       "data": 0.42286390790372685,
       "encoder": "json",
       "name": "Stats Model MAE",
       "version": 1
      }
     },
     "metadata": {
      "scrapbook": {
       "data": true,
       "display": false,
       "name": "Stats Model MAE"
      }
     },
     "output_type": "display_data"
    },
    {
     "data": {
      "application/scrapbook.scrap.json+json": {
       "data": 8.457278158074535,
       "encoder": "json",
       "name": "Stats Model Manhattan Distance",
       "version": 1
      }
     },
     "metadata": {
      "scrapbook": {
       "data": true,
       "display": false,
       "name": "Stats Model Manhattan Distance"
      }
     },
     "output_type": "display_data"
    },
    {
     "data": {
      "application/scrapbook.scrap.json+json": {
       "data": 2.4639607565209194,
       "encoder": "json",
       "name": "Stats Model Euclidean distance",
       "version": 1
      }
     },
     "metadata": {
      "scrapbook": {
       "data": true,
       "display": false,
       "name": "Stats Model Euclidean distance"
      }
     },
     "output_type": "display_data"
    },
    {
     "data": {
      "application/scrapbook.scrap.json+json": {
       "data": [
        0.4296936635068763,
        0.38144003426673445,
        0.030748308530532006,
        0.591597608280222,
        0.24384327961665136
       ],
       "encoder": "json",
       "name": "Coefficients",
       "version": 1
      }
     },
     "metadata": {
      "scrapbook": {
       "data": true,
       "display": false,
       "name": "Coefficients"
      }
     },
     "output_type": "display_data"
    }
   ],
   "source": [
    "coefficients , y_pred =statsModel.statsModel(X_train,y_train,X_test,y_test)\n",
    "#Store MSE Value \n",
    "sb.glue(\"Coefficients\",coefficients)"
   ]
  }
 ],
 "metadata": {
  "interpreter": {
   "hash": "10498c76ddd8160350534c6544a2b2fb65f2138dbc70420f7c81a3268f830f23"
  },
  "kernelspec": {
   "display_name": "Python 3 (ipykernel)",
   "language": "python",
   "name": "python3"
  },
  "language_info": {
   "codemirror_mode": {
    "name": "ipython",
    "version": 3
   },
   "file_extension": ".py",
   "mimetype": "text/x-python",
   "name": "python",
   "nbconvert_exporter": "python",
   "pygments_lexer": "ipython3",
   "version": "3.8.11"
  },
  "papermill": {
   "default_parameters": {},
   "duration": 2.94115,
   "end_time": "2022-02-13T07:44:06.072293",
   "environment_variables": {},
   "exception": null,
   "input_path": "BaselineModels.ipynb",
   "output_path": "./BaseLine_Model_Output/BaselineModels_output_3.ipynb",
   "parameters": {},
   "start_time": "2022-02-13T07:44:03.131143",
   "version": "2.3.3"
  }
 },
 "nbformat": 4,
 "nbformat_minor": 5
}