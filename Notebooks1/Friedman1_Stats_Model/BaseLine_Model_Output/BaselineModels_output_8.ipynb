{
 "cells": [
  {
   "cell_type": "markdown",
   "id": "621c66c0",
   "metadata": {
    "papermill": {
     "duration": 0.012402,
     "end_time": "2022-02-13T07:44:23.263283",
     "exception": false,
     "start_time": "2022-02-13T07:44:23.250881",
     "status": "completed"
    },
    "tags": []
   },
   "source": [
    "## Import Libraries "
   ]
  },
  {
   "cell_type": "code",
   "execution_count": 1,
   "id": "c24cf4dc",
   "metadata": {
    "execution": {
     "iopub.execute_input": "2022-02-13T07:44:23.288096Z",
     "iopub.status.busy": "2022-02-13T07:44:23.287383Z",
     "iopub.status.idle": "2022-02-13T07:44:23.290574Z",
     "shell.execute_reply": "2022-02-13T07:44:23.291074Z"
    },
    "papermill": {
     "duration": 0.020214,
     "end_time": "2022-02-13T07:44:23.291370",
     "exception": false,
     "start_time": "2022-02-13T07:44:23.271156",
     "status": "completed"
    },
    "tags": []
   },
   "outputs": [],
   "source": [
    "import warnings\n",
    "import sys\n",
    "sys.path.insert(0, '../../src')\n",
    "warnings.filterwarnings('ignore')"
   ]
  },
  {
   "cell_type": "code",
   "execution_count": 2,
   "id": "6406f397",
   "metadata": {
    "execution": {
     "iopub.execute_input": "2022-02-13T07:44:23.304022Z",
     "iopub.status.busy": "2022-02-13T07:44:23.303479Z",
     "iopub.status.idle": "2022-02-13T07:44:24.883165Z",
     "shell.execute_reply": "2022-02-13T07:44:24.883424Z"
    },
    "papermill": {
     "duration": 1.587245,
     "end_time": "2022-02-13T07:44:24.883544",
     "exception": false,
     "start_time": "2022-02-13T07:44:23.296299",
     "status": "completed"
    },
    "tags": []
   },
   "outputs": [],
   "source": [
    "import statsModel\n",
    "import scrapbook as sb \n",
    "import torch \n",
    "import statsModel\n",
    "import friedman1Dataset\n",
    "import dataset \n",
    "from torch.utils.data import random_split \n",
    "from sklearn.model_selection import train_test_split"
   ]
  },
  {
   "cell_type": "markdown",
   "id": "e2f1f8e5",
   "metadata": {
    "papermill": {
     "duration": 0.002383,
     "end_time": "2022-02-13T07:44:24.888593",
     "exception": false,
     "start_time": "2022-02-13T07:44:24.886210",
     "status": "completed"
    },
    "tags": []
   },
   "source": [
    "## Import Dataset \n"
   ]
  },
  {
   "cell_type": "code",
   "execution_count": 3,
   "id": "fe2ee3b4",
   "metadata": {
    "execution": {
     "iopub.execute_input": "2022-02-13T07:44:24.897252Z",
     "iopub.status.busy": "2022-02-13T07:44:24.896868Z",
     "iopub.status.idle": "2022-02-13T07:44:24.902822Z",
     "shell.execute_reply": "2022-02-13T07:44:24.903066Z"
    },
    "papermill": {
     "duration": 0.011986,
     "end_time": "2022-02-13T07:44:24.903185",
     "exception": false,
     "start_time": "2022-02-13T07:44:24.891199",
     "status": "completed"
    },
    "tags": []
   },
   "outputs": [
    {
     "name": "stdout",
     "output_type": "stream",
     "text": [
      "         X0        X1        X2        X3        X4         Y\n",
      "0 -0.302903 -1.772765  0.298377  1.572794 -0.390524 -0.467874\n",
      "1  0.616779  1.217398 -1.032322 -0.772720  0.446933  0.454321\n",
      "2  1.419943 -0.051817  1.403712  0.251164  1.119673  1.575532\n",
      "3  0.811339 -0.330179  0.333823  1.646990 -0.838832  1.022737\n",
      "4 -1.477476  1.055962  0.370466  1.475809 -0.448503 -0.350079\n"
     ]
    }
   ],
   "source": [
    "n_features = 5\n",
    "n_samples= 100\n",
    "n_target = 1 \n",
    "X,Y = friedman1Dataset.friedman1_data(n_samples,n_features)"
   ]
  },
  {
   "cell_type": "code",
   "execution_count": 4,
   "id": "1d101d8a",
   "metadata": {
    "execution": {
     "iopub.execute_input": "2022-02-13T07:44:24.911074Z",
     "iopub.status.busy": "2022-02-13T07:44:24.910692Z",
     "iopub.status.idle": "2022-02-13T07:44:24.911980Z",
     "shell.execute_reply": "2022-02-13T07:44:24.912222Z"
    },
    "papermill": {
     "duration": 0.006337,
     "end_time": "2022-02-13T07:44:24.912327",
     "exception": false,
     "start_time": "2022-02-13T07:44:24.905990",
     "status": "completed"
    },
    "tags": []
   },
   "outputs": [],
   "source": [
    "# Train test split for dataset \n",
    "real_dataset = dataset.CustomDataset(X,Y)\n",
    "X_train, X_test, y_train, y_test = train_test_split(X, Y, test_size=0.2)"
   ]
  },
  {
   "cell_type": "markdown",
   "id": "4a489b8f",
   "metadata": {
    "papermill": {
     "duration": 0.002526,
     "end_time": "2022-02-13T07:44:24.917559",
     "exception": false,
     "start_time": "2022-02-13T07:44:24.915033",
     "status": "completed"
    },
    "tags": []
   },
   "source": [
    "## Stats Model \n",
    "\n"
   ]
  },
  {
   "cell_type": "code",
   "execution_count": 5,
   "id": "06b3bb4d",
   "metadata": {
    "execution": {
     "iopub.execute_input": "2022-02-13T07:44:24.925649Z",
     "iopub.status.busy": "2022-02-13T07:44:24.925273Z",
     "iopub.status.idle": "2022-02-13T07:44:25.022965Z",
     "shell.execute_reply": "2022-02-13T07:44:25.023269Z"
    },
    "papermill": {
     "duration": 0.103171,
     "end_time": "2022-02-13T07:44:25.023389",
     "exception": false,
     "start_time": "2022-02-13T07:44:24.920218",
     "status": "completed"
    },
    "tags": []
   },
   "outputs": [
    {
     "name": "stderr",
     "output_type": "stream",
     "text": [
      "No handles with labels found to put in legend.\n"
     ]
    },
    {
     "name": "stdout",
     "output_type": "stream",
     "text": [
      "                                 OLS Regression Results                                \n",
      "=======================================================================================\n",
      "Dep. Variable:                      y   R-squared (uncentered):                   0.764\n",
      "Model:                            OLS   Adj. R-squared (uncentered):              0.749\n",
      "Method:                 Least Squares   F-statistic:                              48.67\n",
      "Date:                Sun, 13 Feb 2022   Prob (F-statistic):                    3.51e-22\n",
      "Time:                        13:14:24   Log-Likelihood:                         -55.207\n",
      "No. Observations:                  80   AIC:                                      120.4\n",
      "Df Residuals:                      75   BIC:                                      132.3\n",
      "Df Model:                           5                                                  \n",
      "Covariance Type:            nonrobust                                                  \n",
      "==============================================================================\n",
      "                 coef    std err          t      P>|t|      [0.025      0.975]\n",
      "------------------------------------------------------------------------------\n",
      "x1             0.3842      0.058      6.616      0.000       0.269       0.500\n",
      "x2             0.3284      0.059      5.568      0.000       0.211       0.446\n",
      "x3             0.0441      0.057      0.777      0.439      -0.069       0.157\n",
      "x4             0.4758      0.056      8.430      0.000       0.363       0.588\n",
      "x5             0.4151      0.060      6.881      0.000       0.295       0.535\n",
      "==============================================================================\n",
      "Omnibus:                        7.600   Durbin-Watson:                   1.899\n",
      "Prob(Omnibus):                  0.022   Jarque-Bera (JB):                7.715\n",
      "Skew:                          -0.761   Prob(JB):                       0.0211\n",
      "Kurtosis:                       3.006   Cond. No.                         1.52\n",
      "==============================================================================\n",
      "\n",
      "Notes:\n",
      "[1] R² is computed without centering (uncentered) since the model does not contain a constant.\n",
      "[2] Standard Errors assume that the covariance matrix of the errors is correctly specified.\n"
     ]
    },
    {
     "data": {
      "image/png": "[encoded data removed]",
      "text/plain": [
       "<Figure size 432x288 with 1 Axes>"
      ]
     },
     "metadata": {
      "needs_background": "light"
     },
     "output_type": "display_data"
    },
    {
     "name": "stdout",
     "output_type": "stream",
     "text": [
      "Performance Metrics\n",
      "Mean Squared Error: 0.08012269659822599\n",
      "Mean Absolute Error: 0.2208580998864127\n",
      "Manhattan distance: 4.417161997728254\n",
      "Euclidean distance: 1.265880694206417\n"
     ]
    },
    {
     "data": {
      "application/scrapbook.scrap.json+json": {
       "data": 0.08012269659822599,
       "encoder": "json",
       "name": "Stats Model MSE",
       "version": 1
      }
     },
     "metadata": {
      "scrapbook": {
       "data": true,
       "display": false,
       "name": "Stats Model MSE"
      }
     },
     "output_type": "display_data"
    },
    {
     "data": {
      "application/scrapbook.scrap.json+json": {
       "data": 0.2208580998864127,
       "encoder": "json",
       "name": "Stats Model MAE",
       "version": 1
      }
     },
     "metadata": {
      "scrapbook": {
       "data": true,
       "display": false,
       "name": "Stats Model MAE"
      }
     },
     "output_type": "display_data"
    },
    {
     "data": {
      "application/scrapbook.scrap.json+json": {
       "data": 4.417161997728254,
       "encoder": "json",
       "name": "Stats Model Manhattan Distance",
       "version": 1
      }
     },
     "metadata": {
      "scrapbook": {
       "data": true,
       "display": false,
       "name": "Stats Model Manhattan Distance"
      }
     },
     "output_type": "display_data"
    },
    {
     "data": {
      "application/scrapbook.scrap.json+json": {
       "data": 1.265880694206417,
       "encoder": "json",
       "name": "Stats Model Euclidean distance",
       "version": 1
      }
     },
     "metadata": {
      "scrapbook": {
       "data": true,
       "display": false,
       "name": "Stats Model Euclidean distance"
      }
     },
     "output_type": "display_data"
    },
    {
     "data": {
      "application/scrapbook.scrap.json+json": {
       "data": [
        0.3842485077614294,
        0.3283527035840031,
        0.044075704388656683,
        0.4757933461161913,
        0.4151361528132725
       ],
       "encoder": "json",
       "name": "Coefficients",
       "version": 1
      }
     },
     "metadata": {
      "scrapbook": {
       "data": true,
       "display": false,
       "name": "Coefficients"
      }
     },
     "output_type": "display_data"
    }
   ],
   "source": [
    "coefficients , y_pred =statsModel.statsModel(X_train,y_train,X_test,y_test)\n",
    "#Store MSE Value \n",
    "sb.glue(\"Coefficients\",coefficients)"
   ]
  }
 ],
 "metadata": {
  "interpreter": {
   "hash": "10498c76ddd8160350534c6544a2b2fb65f2138dbc70420f7c81a3268f830f23"
  },
  "kernelspec": {
   "display_name": "Python 3 (ipykernel)",
   "language": "python",
   "name": "python3"
  },
  "language_info": {
   "codemirror_mode": {
    "name": "ipython",
    "version": 3
   },
   "file_extension": ".py",
   "mimetype": "text/x-python",
   "name": "python",
   "nbconvert_exporter": "python",
   "pygments_lexer": "ipython3",
   "version": "3.8.11"
  },
  "papermill": {
   "default_parameters": {},
   "duration": 2.932474,
   "end_time": "2022-02-13T07:44:25.335733",
   "environment_variables": {},
   "exception": null,
   "input_path": "BaselineModels.ipynb",
   "output_path": "./BaseLine_Model_Output/BaselineModels_output_8.ipynb",
   "parameters": {},
   "start_time": "2022-02-13T07:44:22.403259",
   "version": "2.3.3"
  }
 },
 "nbformat": 4,
 "nbformat_minor": 5
}