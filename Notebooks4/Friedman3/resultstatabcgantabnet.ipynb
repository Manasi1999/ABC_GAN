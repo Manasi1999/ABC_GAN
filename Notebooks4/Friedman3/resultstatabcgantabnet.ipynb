{
 "cells": [
  {
   "cell_type": "code",
   "execution_count": 1,
   "id": "423b7ca4",
   "metadata": {
    "execution": {
     "iopub.execute_input": "2022-07-06T08:41:14.660628Z",
     "iopub.status.busy": "2022-07-06T08:41:14.659853Z",
     "iopub.status.idle": "2022-07-06T08:41:14.699687Z",
     "shell.execute_reply": "2022-07-06T08:41:14.696502Z"
    },
    "papermill": {
     "duration": 0.065382,
     "end_time": "2022-07-06T08:41:14.703567",
     "exception": false,
     "start_time": "2022-07-06T08:41:14.638185",
     "status": "completed"
    },
    "tags": []
   },
   "outputs": [],
   "source": [
    "import warnings\n",
    "warnings.filterwarnings('ignore')"
   ]
  },
  {
   "cell_type": "code",
   "execution_count": 2,
   "id": "618121c9",
   "metadata": {
    "execution": {
     "iopub.execute_input": "2022-07-06T08:41:14.718456Z",
     "iopub.status.busy": "2022-07-06T08:41:14.718037Z",
     "iopub.status.idle": "2022-07-06T08:41:18.086255Z",
     "shell.execute_reply": "2022-07-06T08:41:18.084943Z"
    },
    "papermill": {
     "duration": 3.380387,
     "end_time": "2022-07-06T08:41:18.089202",
     "exception": false,
     "start_time": "2022-07-06T08:41:14.708815",
     "status": "completed"
    },
    "tags": []
   },
   "outputs": [],
   "source": [
    "import scrapbook as sb \n",
    "import pandas as pd\n",
    "import numpy as np \n",
    "import seaborn as sns \n",
    "import numpy as np\n",
    "from statistics import mean , median\n",
    "import matplotlib.pyplot as plt"
   ]
  },
  {
   "cell_type": "markdown",
   "id": "8842137f",
   "metadata": {
    "papermill": {
     "duration": 0.004203,
     "end_time": "2022-07-06T08:41:18.097414",
     "exception": false,
     "start_time": "2022-07-06T08:41:18.093211",
     "status": "completed"
    },
    "tags": []
   },
   "source": [
    "# Baseline "
   ]
  },
  {
   "cell_type": "code",
   "execution_count": 3,
   "id": "a9dce367",
   "metadata": {
    "execution": {
     "iopub.execute_input": "2022-07-06T08:41:18.163585Z",
     "iopub.status.busy": "2022-07-06T08:41:18.163229Z",
     "iopub.status.idle": "2022-07-06T08:41:18.397035Z",
     "shell.execute_reply": "2022-07-06T08:41:18.396498Z"
    },
    "papermill": {
     "duration": 0.241625,
     "end_time": "2022-07-06T08:41:18.399112",
     "exception": false,
     "start_time": "2022-07-06T08:41:18.157487",
     "status": "completed"
    },
    "tags": []
   },
   "outputs": [
    {
     "name": "stdout",
     "output_type": "stream",
     "text": [
      "0.5634902902217045\n",
      "0.42156855611876876\n"
     ]
    }
   ],
   "source": [
    "books = sb.read_notebooks(\"./BaseLine_Model_Output\")\n",
    "baseLine_data = []\n",
    "for nb in books.notebooks: \n",
    "    nbList=[nb.scraps['Stats Model MAE'].data,nb.scraps['Catboost MAE'].data]\n",
    "    baseLine_data.append(nbList)\n",
    "df = pd.DataFrame(baseLine_data, columns = [\"Stats Model\",\"Catboost\"])\n",
    "baseline_data = np.array(baseLine_data)\n",
    "stats = median(baseline_data[:,0])\n",
    "catboost = median(baseline_data[:,1])\n",
    "print(stats)\n",
    "print(catboost)"
   ]
  },
  {
   "cell_type": "markdown",
   "id": "2ef4d014",
   "metadata": {
    "papermill": {
     "duration": 0.003228,
     "end_time": "2022-07-06T08:41:18.405385",
     "exception": false,
     "start_time": "2022-07-06T08:41:18.402157",
     "status": "completed"
    },
    "tags": []
   },
   "source": [
    "# GAN Model"
   ]
  },
  {
   "cell_type": "code",
   "execution_count": 4,
   "id": "ce2d028d",
   "metadata": {
    "execution": {
     "iopub.execute_input": "2022-07-06T08:41:18.415465Z",
     "iopub.status.busy": "2022-07-06T08:41:18.415183Z",
     "iopub.status.idle": "2022-07-06T08:41:18.419796Z",
     "shell.execute_reply": "2022-07-06T08:41:18.418370Z"
    },
    "papermill": {
     "duration": 0.014096,
     "end_time": "2022-07-06T08:41:18.423359",
     "exception": false,
     "start_time": "2022-07-06T08:41:18.409263",
     "status": "completed"
    },
    "tags": []
   },
   "outputs": [],
   "source": [
    "# book = sb.read_notebooks(\"./GAN_Output\")\n",
    "# gan_data = []\n",
    "# gan_mse = []\n",
    "# for nb in book.notebooks:\n",
    "#     metrics = nb.scraps['GAN_1 Metrics'].data\n",
    "#     for i in range(1000):\n",
    "#         gan_mse.append(metrics[0][i])\n",
    "#     nbList = [nb.scraps['GAN Model MSE'].data,\n",
    "#               nb.scraps['GAN Model MAE'].data,\n",
    "#               nb.scraps['GAN Model Euclidean distance'].data,\n",
    "#               nb.scraps['GAN Model Manhattan Distance'].data]        \n",
    "#     gan_data.append(nbList)\n",
    "    \n",
    "# df = pd.DataFrame(gan_data, columns = ['MSE','MAE','Euclidean Distance','Manhattan Distance'])\n",
    "# display(df.style)\n",
    "# print(\"MEDIAN:\")\n",
    "# print(df.median(axis = 0))\n",
    "# gan_data = np.array(gan_data)\n",
    "# gan_median = median(gan_data[:,1])\n",
    "# print(gan_median)"
   ]
  },
  {
   "cell_type": "markdown",
   "id": "db69b3bd",
   "metadata": {
    "papermill": {
     "duration": 0.003501,
     "end_time": "2022-07-06T08:41:18.430951",
     "exception": false,
     "start_time": "2022-07-06T08:41:18.427450",
     "status": "completed"
    },
    "tags": []
   },
   "source": [
    "# ABC_GAN Analysis"
   ]
  },
  {
   "cell_type": "markdown",
   "id": "930ab0e5",
   "metadata": {
    "papermill": {
     "duration": 0.004766,
     "end_time": "2022-07-06T08:41:18.439740",
     "exception": false,
     "start_time": "2022-07-06T08:41:18.434974",
     "status": "completed"
    },
    "tags": []
   },
   "source": [
    "## ABC Pre-generator - Catboost \n"
   ]
  },
  {
   "cell_type": "code",
   "execution_count": 5,
   "id": "ea491444",
   "metadata": {
    "execution": {
     "iopub.execute_input": "2022-07-06T08:41:18.448253Z",
     "iopub.status.busy": "2022-07-06T08:41:18.447962Z",
     "iopub.status.idle": "2022-07-06T08:41:18.452371Z",
     "shell.execute_reply": "2022-07-06T08:41:18.451702Z"
    },
    "papermill": {
     "duration": 0.011434,
     "end_time": "2022-07-06T08:41:18.454725",
     "exception": false,
     "start_time": "2022-07-06T08:41:18.443291",
     "status": "completed"
    },
    "tags": []
   },
   "outputs": [],
   "source": [
    "# book = sb.read_notebooks(\"./ABC_GAN_TabNet\")\n",
    "# paramVal = [[1,1],[1,0.1],[1,0.01],[1,0],[0.1,1],[0.1,0.1],[0.1,0.01],[0.1,0],[0.01,1],[0.01,0.1],[0.01,0.01],[0.01,0]]\n",
    "# abc_mae = [[] for i in range(12)]\n",
    "# abc_mae_skip = [[] for i in range(12)]\n",
    "# abc_mae_mean = [[] for i in range(12)]\n",
    "# abc_mae_skip_mean = [[] for i in range(12)]\n",
    "# abc_weights = [[] for i in range(12)]\n",
    "# prior_model = [[] for i in range(12)]\n",
    "# abc_pre_generator = [[] for i in range(12)]\n",
    "\n",
    "# for nb in book.notebooks:\n",
    "#     metrics1 = np.array(nb.scraps['ABC_GAN_1 Metrics'].data)\n",
    "#     #metrics3 = np.array(nb.scraps['ABC_GAN_3 Metrics'].data)\n",
    "#     paramVar = float(nb.papermill_dataframe.iloc[1]['value'])\n",
    "#     paramBias = float(nb.papermill_dataframe.iloc[0]['value'])\n",
    "#     # #Divide data according to parameters \n",
    "#     for i in range(12):\n",
    "#         if paramVar == paramVal[i][0] and paramBias == paramVal[i][1]:\n",
    "#             for j in range(100):\n",
    "#                 abc_mae[i].append(metrics1[1,j])\n",
    "#                 #abc_mae_skip[i].append(metrics3[1,j])\n",
    "#             #abc_weights[i].append(nb.scraps['Skip Connection Weight'].data)\n",
    "#             prior_model[i].append(nb.scraps['Prior Model MSE'].data)\n",
    "#             abc_pre_generator[i].append(nb.scraps['ABC Pre-generator MSE'].data)\n",
    "#             #abc_mae_skip_mean[i].append(mean(metrics3[1,:]))\n",
    "#             abc_mae_mean[i].append(mean(metrics1[1,:]))   "
   ]
  },
  {
   "cell_type": "code",
   "execution_count": 6,
   "id": "d0d13f91",
   "metadata": {
    "execution": {
     "iopub.execute_input": "2022-07-06T08:41:18.464841Z",
     "iopub.status.busy": "2022-07-06T08:41:18.464533Z",
     "iopub.status.idle": "2022-07-06T08:41:18.467985Z",
     "shell.execute_reply": "2022-07-06T08:41:18.467326Z"
    },
    "papermill": {
     "duration": 0.011365,
     "end_time": "2022-07-06T08:41:18.470632",
     "exception": false,
     "start_time": "2022-07-06T08:41:18.459267",
     "status": "completed"
    },
    "tags": []
   },
   "outputs": [],
   "source": [
    "\n",
    "# data = [[] for i in range(12)]\n",
    "# for i in range(12):\n",
    "#     for j in range(len(abc_weights[i])):\n",
    "#         data[i].append([paramVal[i][0], paramVal[i][1],prior_model[i][j],\n",
    "#                      abc_pre_generator[i][j],abc_mae_mean[i][j]])\n",
    "#     df = pd.DataFrame(data[i], columns = ['Variance','Bias','Prior Model MAE','ABC pre-generator MAE','ABC GAN MAE'])\n",
    "#     display(df.round(5))\n",
    "#     print(df.median(axis=0))\n",
    "#     print(\"-------------------------------------------------------------\")"
   ]
  },
  {
   "cell_type": "code",
   "execution_count": 7,
   "id": "a9698979",
   "metadata": {
    "execution": {
     "iopub.execute_input": "2022-07-06T08:41:18.479327Z",
     "iopub.status.busy": "2022-07-06T08:41:18.479001Z",
     "iopub.status.idle": "2022-07-06T08:41:18.482425Z",
     "shell.execute_reply": "2022-07-06T08:41:18.481712Z"
    },
    "papermill": {
     "duration": 0.01043,
     "end_time": "2022-07-06T08:41:18.484764",
     "exception": false,
     "start_time": "2022-07-06T08:41:18.474334",
     "status": "completed"
    },
    "tags": []
   },
   "outputs": [],
   "source": [
    "# # Display TabNet Summary Tables \n",
    "# data = np.array(data)\n",
    "# catboostData = []\n",
    "# for i in range(12): \n",
    "#     data[i] = np.array(data[i])\n",
    "#     catboostData.append([paramVal[i][0], paramVal[i][1],catboost,median(data[i][:,3]),median(data[i][:,5]),median(data[i][:,6]),median(data[i][:,4])])\n",
    "# df = pd.DataFrame(catboostData, columns = ['Variance','Bias','TabNet','Prior Model MAE','mGAN','skipGAN','Skip Node weight'])\n",
    "# display(df.round(5))"
   ]
  },
  {
   "cell_type": "markdown",
   "id": "20d7c9a7",
   "metadata": {
    "papermill": {
     "duration": 0.003311,
     "end_time": "2022-07-06T08:41:18.491700",
     "exception": false,
     "start_time": "2022-07-06T08:41:18.488389",
     "status": "completed"
    },
    "tags": []
   },
   "source": [
    "## ABC Pre-generator - Stats \n"
   ]
  },
  {
   "cell_type": "code",
   "execution_count": 8,
   "id": "8d485042",
   "metadata": {
    "execution": {
     "iopub.execute_input": "2022-07-06T08:41:18.500273Z",
     "iopub.status.busy": "2022-07-06T08:41:18.499977Z",
     "iopub.status.idle": "2022-07-06T08:41:25.847739Z",
     "shell.execute_reply": "2022-07-06T08:41:25.846426Z"
    },
    "papermill": {
     "duration": 7.355182,
     "end_time": "2022-07-06T08:41:25.850098",
     "exception": false,
     "start_time": "2022-07-06T08:41:18.494916",
     "status": "completed"
    },
    "tags": []
   },
   "outputs": [],
   "source": [
    "book = sb.read_notebooks(\"./ABC_GAN_Stats\")\n",
    "paramVal = [[1,1],[1,0.1],[1,0.01],[1,0],[0.1,1],[0.1,0.1],[0.1,0.01],[0.1,0],[0.01,1],[0.01,0.1],[0.01,0.01],[0.01,0]]\n",
    "abc_mae = [[] for i in range(12)]\n",
    "abc_mae_skip = [[] for i in range(12)]\n",
    "abc_mae_mean = [[] for i in range(12)]\n",
    "abc_mae_skip_mean = [[] for i in range(12)]\n",
    "abc_weights = [[] for i in range(12)]\n",
    "prior_model = [[] for i in range(12)]\n",
    "abc_pre_generator = [[] for i in range(12)]\n",
    "\n",
    "for nb in book.notebooks:\n",
    "    metrics1 = np.array(nb.scraps['ABC_GAN_1 Metrics'].data)\n",
    "    #metrics3 = np.array(nb.scraps['ABC_GAN_3 Metrics'].data)\n",
    "    paramVar = float(nb.papermill_dataframe.iloc[0]['value'])\n",
    "    paramBias = float(nb.papermill_dataframe.iloc[1]['value'])\n",
    "    #Divide data according to parameters \n",
    "    for i in range(9):\n",
    "        if paramVar == paramVal[i][0] and paramBias == paramVal[i][1]:\n",
    "            for j in range(100):\n",
    "                abc_mae[i].append(metrics1[1,j])\n",
    "                #abc_mae_skip[i].append(metrics3[1,j])\n",
    "            #abc_weights[i].append(nb.scraps['Skip Connection Weight'].data)\n",
    "            prior_model[i].append(nb.scraps['Prior Model MSE'].data)\n",
    "            abc_pre_generator[i].append(nb.scraps['ABC Pre-generator MSE'].data)\n",
    "            #abc_mae_skip_mean[i].append(mean(metrics3[1,:]))\n",
    "            abc_mae_mean[i].append(mean(metrics1[1,:]))"
   ]
  },
  {
   "cell_type": "code",
   "execution_count": 9,
   "id": "dfce649c",
   "metadata": {
    "execution": {
     "iopub.execute_input": "2022-07-06T08:41:25.859724Z",
     "iopub.status.busy": "2022-07-06T08:41:25.859362Z",
     "iopub.status.idle": "2022-07-06T08:41:25.993123Z",
     "shell.execute_reply": "2022-07-06T08:41:25.992426Z"
    },
    "papermill": {
     "duration": 0.141522,
     "end_time": "2022-07-06T08:41:25.995410",
     "exception": false,
     "start_time": "2022-07-06T08:41:25.853888",
     "status": "completed"
    },
    "tags": []
   },
   "outputs": [
    {
     "data": {
      "text/html": [
       "<div>\n",
       "<style scoped>\n",
       "    .dataframe tbody tr th:only-of-type {\n",
       "        vertical-align: middle;\n",
       "    }\n",
       "\n",
       "    .dataframe tbody tr th {\n",
       "        vertical-align: top;\n",
       "    }\n",
       "\n",
       "    .dataframe thead th {\n",
       "        text-align: right;\n",
       "    }\n",
       "</style>\n",
       "<table border=\"1\" class=\"dataframe\">\n",
       "  <thead>\n",
       "    <tr style=\"text-align: right;\">\n",
       "      <th></th>\n",
       "      <th>Variance</th>\n",
       "      <th>Bias</th>\n",
       "      <th>Prior Model MAE</th>\n",
       "      <th>ABC pre-generator MAE</th>\n",
       "      <th>ABC GAN MAE</th>\n",
       "    </tr>\n",
       "  </thead>\n",
       "  <tbody>\n",
       "    <tr>\n",
       "      <th>0</th>\n",
       "      <td>1</td>\n",
       "      <td>1</td>\n",
       "      <td>0.41942</td>\n",
       "      <td>1.33102</td>\n",
       "      <td>0.35999</td>\n",
       "    </tr>\n",
       "    <tr>\n",
       "      <th>1</th>\n",
       "      <td>1</td>\n",
       "      <td>1</td>\n",
       "      <td>0.42365</td>\n",
       "      <td>1.48727</td>\n",
       "      <td>0.48505</td>\n",
       "    </tr>\n",
       "    <tr>\n",
       "      <th>2</th>\n",
       "      <td>1</td>\n",
       "      <td>1</td>\n",
       "      <td>0.44092</td>\n",
       "      <td>1.00144</td>\n",
       "      <td>0.31437</td>\n",
       "    </tr>\n",
       "  </tbody>\n",
       "</table>\n",
       "</div>"
      ],
      "text/plain": [
       "   Variance  Bias  Prior Model MAE  ABC pre-generator MAE  ABC GAN MAE\n",
       "0         1     1          0.41942                1.33102      0.35999\n",
       "1         1     1          0.42365                1.48727      0.48505\n",
       "2         1     1          0.44092                1.00144      0.31437"
      ]
     },
     "metadata": {},
     "output_type": "display_data"
    },
    {
     "name": "stdout",
     "output_type": "stream",
     "text": [
      "Variance                 1.000000\n",
      "Bias                     1.000000\n",
      "Prior Model MAE          0.423649\n",
      "ABC pre-generator MAE    1.331021\n",
      "ABC GAN MAE              0.359991\n",
      "dtype: float64\n",
      "-------------------------------------------------------------\n"
     ]
    },
    {
     "data": {
      "text/html": [
       "<div>\n",
       "<style scoped>\n",
       "    .dataframe tbody tr th:only-of-type {\n",
       "        vertical-align: middle;\n",
       "    }\n",
       "\n",
       "    .dataframe tbody tr th {\n",
       "        vertical-align: top;\n",
       "    }\n",
       "\n",
       "    .dataframe thead th {\n",
       "        text-align: right;\n",
       "    }\n",
       "</style>\n",
       "<table border=\"1\" class=\"dataframe\">\n",
       "  <thead>\n",
       "    <tr style=\"text-align: right;\">\n",
       "      <th></th>\n",
       "      <th>Variance</th>\n",
       "      <th>Bias</th>\n",
       "      <th>Prior Model MAE</th>\n",
       "      <th>ABC pre-generator MAE</th>\n",
       "      <th>ABC GAN MAE</th>\n",
       "    </tr>\n",
       "  </thead>\n",
       "  <tbody>\n",
       "    <tr>\n",
       "      <th>0</th>\n",
       "      <td>1</td>\n",
       "      <td>0.1</td>\n",
       "      <td>0.59658</td>\n",
       "      <td>0.88273</td>\n",
       "      <td>0.44168</td>\n",
       "    </tr>\n",
       "    <tr>\n",
       "      <th>1</th>\n",
       "      <td>1</td>\n",
       "      <td>0.1</td>\n",
       "      <td>0.80581</td>\n",
       "      <td>1.20783</td>\n",
       "      <td>0.67487</td>\n",
       "    </tr>\n",
       "    <tr>\n",
       "      <th>2</th>\n",
       "      <td>1</td>\n",
       "      <td>0.1</td>\n",
       "      <td>0.60031</td>\n",
       "      <td>1.08201</td>\n",
       "      <td>0.61274</td>\n",
       "    </tr>\n",
       "  </tbody>\n",
       "</table>\n",
       "</div>"
      ],
      "text/plain": [
       "   Variance  Bias  Prior Model MAE  ABC pre-generator MAE  ABC GAN MAE\n",
       "0         1   0.1          0.59658                0.88273      0.44168\n",
       "1         1   0.1          0.80581                1.20783      0.67487\n",
       "2         1   0.1          0.60031                1.08201      0.61274"
      ]
     },
     "metadata": {},
     "output_type": "display_data"
    },
    {
     "name": "stdout",
     "output_type": "stream",
     "text": [
      "Variance                 1.000000\n",
      "Bias                     0.100000\n",
      "Prior Model MAE          0.600309\n",
      "ABC pre-generator MAE    1.082012\n",
      "ABC GAN MAE              0.612740\n",
      "dtype: float64\n",
      "-------------------------------------------------------------\n"
     ]
    },
    {
     "data": {
      "text/html": [
       "<div>\n",
       "<style scoped>\n",
       "    .dataframe tbody tr th:only-of-type {\n",
       "        vertical-align: middle;\n",
       "    }\n",
       "\n",
       "    .dataframe tbody tr th {\n",
       "        vertical-align: top;\n",
       "    }\n",
       "\n",
       "    .dataframe thead th {\n",
       "        text-align: right;\n",
       "    }\n",
       "</style>\n",
       "<table border=\"1\" class=\"dataframe\">\n",
       "  <thead>\n",
       "    <tr style=\"text-align: right;\">\n",
       "      <th></th>\n",
       "      <th>Variance</th>\n",
       "      <th>Bias</th>\n",
       "      <th>Prior Model MAE</th>\n",
       "      <th>ABC pre-generator MAE</th>\n",
       "      <th>ABC GAN MAE</th>\n",
       "    </tr>\n",
       "  </thead>\n",
       "  <tbody>\n",
       "    <tr>\n",
       "      <th>0</th>\n",
       "      <td>1</td>\n",
       "      <td>0.01</td>\n",
       "      <td>0.60205</td>\n",
       "      <td>0.89695</td>\n",
       "      <td>0.98747</td>\n",
       "    </tr>\n",
       "    <tr>\n",
       "      <th>1</th>\n",
       "      <td>1</td>\n",
       "      <td>0.01</td>\n",
       "      <td>0.54046</td>\n",
       "      <td>1.05990</td>\n",
       "      <td>0.52960</td>\n",
       "    </tr>\n",
       "    <tr>\n",
       "      <th>2</th>\n",
       "      <td>1</td>\n",
       "      <td>0.01</td>\n",
       "      <td>0.65444</td>\n",
       "      <td>1.01674</td>\n",
       "      <td>0.42411</td>\n",
       "    </tr>\n",
       "  </tbody>\n",
       "</table>\n",
       "</div>"
      ],
      "text/plain": [
       "   Variance  Bias  Prior Model MAE  ABC pre-generator MAE  ABC GAN MAE\n",
       "0         1  0.01          0.60205                0.89695      0.98747\n",
       "1         1  0.01          0.54046                1.05990      0.52960\n",
       "2         1  0.01          0.65444                1.01674      0.42411"
      ]
     },
     "metadata": {},
     "output_type": "display_data"
    },
    {
     "name": "stdout",
     "output_type": "stream",
     "text": [
      "Variance                 1.000000\n",
      "Bias                     0.010000\n",
      "Prior Model MAE          0.602055\n",
      "ABC pre-generator MAE    1.016742\n",
      "ABC GAN MAE              0.529601\n",
      "dtype: float64\n",
      "-------------------------------------------------------------\n"
     ]
    },
    {
     "data": {
      "text/html": [
       "<div>\n",
       "<style scoped>\n",
       "    .dataframe tbody tr th:only-of-type {\n",
       "        vertical-align: middle;\n",
       "    }\n",
       "\n",
       "    .dataframe tbody tr th {\n",
       "        vertical-align: top;\n",
       "    }\n",
       "\n",
       "    .dataframe thead th {\n",
       "        text-align: right;\n",
       "    }\n",
       "</style>\n",
       "<table border=\"1\" class=\"dataframe\">\n",
       "  <thead>\n",
       "    <tr style=\"text-align: right;\">\n",
       "      <th></th>\n",
       "      <th>Variance</th>\n",
       "      <th>Bias</th>\n",
       "      <th>Prior Model MAE</th>\n",
       "      <th>ABC pre-generator MAE</th>\n",
       "      <th>ABC GAN MAE</th>\n",
       "    </tr>\n",
       "  </thead>\n",
       "  <tbody>\n",
       "  </tbody>\n",
       "</table>\n",
       "</div>"
      ],
      "text/plain": [
       "Empty DataFrame\n",
       "Columns: [Variance, Bias, Prior Model MAE, ABC pre-generator MAE, ABC GAN MAE]\n",
       "Index: []"
      ]
     },
     "metadata": {},
     "output_type": "display_data"
    },
    {
     "name": "stdout",
     "output_type": "stream",
     "text": [
      "Variance                 NaN\n",
      "Bias                     NaN\n",
      "Prior Model MAE          NaN\n",
      "ABC pre-generator MAE    NaN\n",
      "ABC GAN MAE              NaN\n",
      "dtype: object\n",
      "-------------------------------------------------------------\n"
     ]
    },
    {
     "data": {
      "text/html": [
       "<div>\n",
       "<style scoped>\n",
       "    .dataframe tbody tr th:only-of-type {\n",
       "        vertical-align: middle;\n",
       "    }\n",
       "\n",
       "    .dataframe tbody tr th {\n",
       "        vertical-align: top;\n",
       "    }\n",
       "\n",
       "    .dataframe thead th {\n",
       "        text-align: right;\n",
       "    }\n",
       "</style>\n",
       "<table border=\"1\" class=\"dataframe\">\n",
       "  <thead>\n",
       "    <tr style=\"text-align: right;\">\n",
       "      <th></th>\n",
       "      <th>Variance</th>\n",
       "      <th>Bias</th>\n",
       "      <th>Prior Model MAE</th>\n",
       "      <th>ABC pre-generator MAE</th>\n",
       "      <th>ABC GAN MAE</th>\n",
       "    </tr>\n",
       "  </thead>\n",
       "  <tbody>\n",
       "    <tr>\n",
       "      <th>0</th>\n",
       "      <td>0.1</td>\n",
       "      <td>1</td>\n",
       "      <td>0.52739</td>\n",
       "      <td>0.99843</td>\n",
       "      <td>0.57481</td>\n",
       "    </tr>\n",
       "    <tr>\n",
       "      <th>1</th>\n",
       "      <td>0.1</td>\n",
       "      <td>1</td>\n",
       "      <td>0.45196</td>\n",
       "      <td>1.08535</td>\n",
       "      <td>0.46304</td>\n",
       "    </tr>\n",
       "    <tr>\n",
       "      <th>2</th>\n",
       "      <td>0.1</td>\n",
       "      <td>1</td>\n",
       "      <td>0.44135</td>\n",
       "      <td>0.98224</td>\n",
       "      <td>0.33588</td>\n",
       "    </tr>\n",
       "  </tbody>\n",
       "</table>\n",
       "</div>"
      ],
      "text/plain": [
       "   Variance  Bias  Prior Model MAE  ABC pre-generator MAE  ABC GAN MAE\n",
       "0       0.1     1          0.52739                0.99843      0.57481\n",
       "1       0.1     1          0.45196                1.08535      0.46304\n",
       "2       0.1     1          0.44135                0.98224      0.33588"
      ]
     },
     "metadata": {},
     "output_type": "display_data"
    },
    {
     "name": "stdout",
     "output_type": "stream",
     "text": [
      "Variance                 0.100000\n",
      "Bias                     1.000000\n",
      "Prior Model MAE          0.451959\n",
      "ABC pre-generator MAE    0.998428\n",
      "ABC GAN MAE              0.463041\n",
      "dtype: float64\n",
      "-------------------------------------------------------------\n"
     ]
    },
    {
     "data": {
      "text/html": [
       "<div>\n",
       "<style scoped>\n",
       "    .dataframe tbody tr th:only-of-type {\n",
       "        vertical-align: middle;\n",
       "    }\n",
       "\n",
       "    .dataframe tbody tr th {\n",
       "        vertical-align: top;\n",
       "    }\n",
       "\n",
       "    .dataframe thead th {\n",
       "        text-align: right;\n",
       "    }\n",
       "</style>\n",
       "<table border=\"1\" class=\"dataframe\">\n",
       "  <thead>\n",
       "    <tr style=\"text-align: right;\">\n",
       "      <th></th>\n",
       "      <th>Variance</th>\n",
       "      <th>Bias</th>\n",
       "      <th>Prior Model MAE</th>\n",
       "      <th>ABC pre-generator MAE</th>\n",
       "      <th>ABC GAN MAE</th>\n",
       "    </tr>\n",
       "  </thead>\n",
       "  <tbody>\n",
       "    <tr>\n",
       "      <th>0</th>\n",
       "      <td>0.1</td>\n",
       "      <td>0.1</td>\n",
       "      <td>0.65426</td>\n",
       "      <td>0.69644</td>\n",
       "      <td>0.44537</td>\n",
       "    </tr>\n",
       "    <tr>\n",
       "      <th>1</th>\n",
       "      <td>0.1</td>\n",
       "      <td>0.1</td>\n",
       "      <td>0.64986</td>\n",
       "      <td>0.66959</td>\n",
       "      <td>0.48688</td>\n",
       "    </tr>\n",
       "    <tr>\n",
       "      <th>2</th>\n",
       "      <td>0.1</td>\n",
       "      <td>0.1</td>\n",
       "      <td>0.65972</td>\n",
       "      <td>0.67079</td>\n",
       "      <td>0.63400</td>\n",
       "    </tr>\n",
       "  </tbody>\n",
       "</table>\n",
       "</div>"
      ],
      "text/plain": [
       "   Variance  Bias  Prior Model MAE  ABC pre-generator MAE  ABC GAN MAE\n",
       "0       0.1   0.1          0.65426                0.69644      0.44537\n",
       "1       0.1   0.1          0.64986                0.66959      0.48688\n",
       "2       0.1   0.1          0.65972                0.67079      0.63400"
      ]
     },
     "metadata": {},
     "output_type": "display_data"
    },
    {
     "name": "stdout",
     "output_type": "stream",
     "text": [
      "Variance                 0.100000\n",
      "Bias                     0.100000\n",
      "Prior Model MAE          0.654259\n",
      "ABC pre-generator MAE    0.670786\n",
      "ABC GAN MAE              0.486880\n",
      "dtype: float64\n",
      "-------------------------------------------------------------\n"
     ]
    },
    {
     "data": {
      "text/html": [
       "<div>\n",
       "<style scoped>\n",
       "    .dataframe tbody tr th:only-of-type {\n",
       "        vertical-align: middle;\n",
       "    }\n",
       "\n",
       "    .dataframe tbody tr th {\n",
       "        vertical-align: top;\n",
       "    }\n",
       "\n",
       "    .dataframe thead th {\n",
       "        text-align: right;\n",
       "    }\n",
       "</style>\n",
       "<table border=\"1\" class=\"dataframe\">\n",
       "  <thead>\n",
       "    <tr style=\"text-align: right;\">\n",
       "      <th></th>\n",
       "      <th>Variance</th>\n",
       "      <th>Bias</th>\n",
       "      <th>Prior Model MAE</th>\n",
       "      <th>ABC pre-generator MAE</th>\n",
       "      <th>ABC GAN MAE</th>\n",
       "    </tr>\n",
       "  </thead>\n",
       "  <tbody>\n",
       "    <tr>\n",
       "      <th>0</th>\n",
       "      <td>0.1</td>\n",
       "      <td>0.01</td>\n",
       "      <td>0.73821</td>\n",
       "      <td>0.73944</td>\n",
       "      <td>0.78444</td>\n",
       "    </tr>\n",
       "    <tr>\n",
       "      <th>1</th>\n",
       "      <td>0.1</td>\n",
       "      <td>0.01</td>\n",
       "      <td>0.55994</td>\n",
       "      <td>0.50009</td>\n",
       "      <td>0.49875</td>\n",
       "    </tr>\n",
       "    <tr>\n",
       "      <th>2</th>\n",
       "      <td>0.1</td>\n",
       "      <td>0.01</td>\n",
       "      <td>0.49908</td>\n",
       "      <td>0.49338</td>\n",
       "      <td>0.43506</td>\n",
       "    </tr>\n",
       "  </tbody>\n",
       "</table>\n",
       "</div>"
      ],
      "text/plain": [
       "   Variance  Bias  Prior Model MAE  ABC pre-generator MAE  ABC GAN MAE\n",
       "0       0.1  0.01          0.73821                0.73944      0.78444\n",
       "1       0.1  0.01          0.55994                0.50009      0.49875\n",
       "2       0.1  0.01          0.49908                0.49338      0.43506"
      ]
     },
     "metadata": {},
     "output_type": "display_data"
    },
    {
     "name": "stdout",
     "output_type": "stream",
     "text": [
      "Variance                 0.100000\n",
      "Bias                     0.010000\n",
      "Prior Model MAE          0.559938\n",
      "ABC pre-generator MAE    0.500093\n",
      "ABC GAN MAE              0.498748\n",
      "dtype: float64\n",
      "-------------------------------------------------------------\n"
     ]
    },
    {
     "data": {
      "text/html": [
       "<div>\n",
       "<style scoped>\n",
       "    .dataframe tbody tr th:only-of-type {\n",
       "        vertical-align: middle;\n",
       "    }\n",
       "\n",
       "    .dataframe tbody tr th {\n",
       "        vertical-align: top;\n",
       "    }\n",
       "\n",
       "    .dataframe thead th {\n",
       "        text-align: right;\n",
       "    }\n",
       "</style>\n",
       "<table border=\"1\" class=\"dataframe\">\n",
       "  <thead>\n",
       "    <tr style=\"text-align: right;\">\n",
       "      <th></th>\n",
       "      <th>Variance</th>\n",
       "      <th>Bias</th>\n",
       "      <th>Prior Model MAE</th>\n",
       "      <th>ABC pre-generator MAE</th>\n",
       "      <th>ABC GAN MAE</th>\n",
       "    </tr>\n",
       "  </thead>\n",
       "  <tbody>\n",
       "  </tbody>\n",
       "</table>\n",
       "</div>"
      ],
      "text/plain": [
       "Empty DataFrame\n",
       "Columns: [Variance, Bias, Prior Model MAE, ABC pre-generator MAE, ABC GAN MAE]\n",
       "Index: []"
      ]
     },
     "metadata": {},
     "output_type": "display_data"
    },
    {
     "name": "stdout",
     "output_type": "stream",
     "text": [
      "Variance                 NaN\n",
      "Bias                     NaN\n",
      "Prior Model MAE          NaN\n",
      "ABC pre-generator MAE    NaN\n",
      "ABC GAN MAE              NaN\n",
      "dtype: object\n",
      "-------------------------------------------------------------\n"
     ]
    },
    {
     "data": {
      "text/html": [
       "<div>\n",
       "<style scoped>\n",
       "    .dataframe tbody tr th:only-of-type {\n",
       "        vertical-align: middle;\n",
       "    }\n",
       "\n",
       "    .dataframe tbody tr th {\n",
       "        vertical-align: top;\n",
       "    }\n",
       "\n",
       "    .dataframe thead th {\n",
       "        text-align: right;\n",
       "    }\n",
       "</style>\n",
       "<table border=\"1\" class=\"dataframe\">\n",
       "  <thead>\n",
       "    <tr style=\"text-align: right;\">\n",
       "      <th></th>\n",
       "      <th>Variance</th>\n",
       "      <th>Bias</th>\n",
       "      <th>Prior Model MAE</th>\n",
       "      <th>ABC pre-generator MAE</th>\n",
       "      <th>ABC GAN MAE</th>\n",
       "    </tr>\n",
       "  </thead>\n",
       "  <tbody>\n",
       "    <tr>\n",
       "      <th>0</th>\n",
       "      <td>0.01</td>\n",
       "      <td>1</td>\n",
       "      <td>0.58842</td>\n",
       "      <td>1.34499</td>\n",
       "      <td>0.51322</td>\n",
       "    </tr>\n",
       "    <tr>\n",
       "      <th>1</th>\n",
       "      <td>0.01</td>\n",
       "      <td>1</td>\n",
       "      <td>0.54300</td>\n",
       "      <td>0.91558</td>\n",
       "      <td>0.58458</td>\n",
       "    </tr>\n",
       "    <tr>\n",
       "      <th>2</th>\n",
       "      <td>0.01</td>\n",
       "      <td>1</td>\n",
       "      <td>0.74861</td>\n",
       "      <td>1.31701</td>\n",
       "      <td>0.69991</td>\n",
       "    </tr>\n",
       "  </tbody>\n",
       "</table>\n",
       "</div>"
      ],
      "text/plain": [
       "   Variance  Bias  Prior Model MAE  ABC pre-generator MAE  ABC GAN MAE\n",
       "0      0.01     1          0.58842                1.34499      0.51322\n",
       "1      0.01     1          0.54300                0.91558      0.58458\n",
       "2      0.01     1          0.74861                1.31701      0.69991"
      ]
     },
     "metadata": {},
     "output_type": "display_data"
    },
    {
     "name": "stdout",
     "output_type": "stream",
     "text": [
      "Variance                 0.010000\n",
      "Bias                     1.000000\n",
      "Prior Model MAE          0.588425\n",
      "ABC pre-generator MAE    1.317013\n",
      "ABC GAN MAE              0.584583\n",
      "dtype: float64\n",
      "-------------------------------------------------------------\n"
     ]
    },
    {
     "data": {
      "text/html": [
       "<div>\n",
       "<style scoped>\n",
       "    .dataframe tbody tr th:only-of-type {\n",
       "        vertical-align: middle;\n",
       "    }\n",
       "\n",
       "    .dataframe tbody tr th {\n",
       "        vertical-align: top;\n",
       "    }\n",
       "\n",
       "    .dataframe thead th {\n",
       "        text-align: right;\n",
       "    }\n",
       "</style>\n",
       "<table border=\"1\" class=\"dataframe\">\n",
       "  <thead>\n",
       "    <tr style=\"text-align: right;\">\n",
       "      <th></th>\n",
       "      <th>Variance</th>\n",
       "      <th>Bias</th>\n",
       "      <th>Prior Model MAE</th>\n",
       "      <th>ABC pre-generator MAE</th>\n",
       "      <th>ABC GAN MAE</th>\n",
       "    </tr>\n",
       "  </thead>\n",
       "  <tbody>\n",
       "  </tbody>\n",
       "</table>\n",
       "</div>"
      ],
      "text/plain": [
       "Empty DataFrame\n",
       "Columns: [Variance, Bias, Prior Model MAE, ABC pre-generator MAE, ABC GAN MAE]\n",
       "Index: []"
      ]
     },
     "metadata": {},
     "output_type": "display_data"
    },
    {
     "name": "stdout",
     "output_type": "stream",
     "text": [
      "Variance                 NaN\n",
      "Bias                     NaN\n",
      "Prior Model MAE          NaN\n",
      "ABC pre-generator MAE    NaN\n",
      "ABC GAN MAE              NaN\n",
      "dtype: object\n",
      "-------------------------------------------------------------\n"
     ]
    },
    {
     "data": {
      "text/html": [
       "<div>\n",
       "<style scoped>\n",
       "    .dataframe tbody tr th:only-of-type {\n",
       "        vertical-align: middle;\n",
       "    }\n",
       "\n",
       "    .dataframe tbody tr th {\n",
       "        vertical-align: top;\n",
       "    }\n",
       "\n",
       "    .dataframe thead th {\n",
       "        text-align: right;\n",
       "    }\n",
       "</style>\n",
       "<table border=\"1\" class=\"dataframe\">\n",
       "  <thead>\n",
       "    <tr style=\"text-align: right;\">\n",
       "      <th></th>\n",
       "      <th>Variance</th>\n",
       "      <th>Bias</th>\n",
       "      <th>Prior Model MAE</th>\n",
       "      <th>ABC pre-generator MAE</th>\n",
       "      <th>ABC GAN MAE</th>\n",
       "    </tr>\n",
       "  </thead>\n",
       "  <tbody>\n",
       "  </tbody>\n",
       "</table>\n",
       "</div>"
      ],
      "text/plain": [
       "Empty DataFrame\n",
       "Columns: [Variance, Bias, Prior Model MAE, ABC pre-generator MAE, ABC GAN MAE]\n",
       "Index: []"
      ]
     },
     "metadata": {},
     "output_type": "display_data"
    },
    {
     "name": "stdout",
     "output_type": "stream",
     "text": [
      "Variance                 NaN\n",
      "Bias                     NaN\n",
      "Prior Model MAE          NaN\n",
      "ABC pre-generator MAE    NaN\n",
      "ABC GAN MAE              NaN\n",
      "dtype: object\n",
      "-------------------------------------------------------------\n"
     ]
    },
    {
     "data": {
      "text/html": [
       "<div>\n",
       "<style scoped>\n",
       "    .dataframe tbody tr th:only-of-type {\n",
       "        vertical-align: middle;\n",
       "    }\n",
       "\n",
       "    .dataframe tbody tr th {\n",
       "        vertical-align: top;\n",
       "    }\n",
       "\n",
       "    .dataframe thead th {\n",
       "        text-align: right;\n",
       "    }\n",
       "</style>\n",
       "<table border=\"1\" class=\"dataframe\">\n",
       "  <thead>\n",
       "    <tr style=\"text-align: right;\">\n",
       "      <th></th>\n",
       "      <th>Variance</th>\n",
       "      <th>Bias</th>\n",
       "      <th>Prior Model MAE</th>\n",
       "      <th>ABC pre-generator MAE</th>\n",
       "      <th>ABC GAN MAE</th>\n",
       "    </tr>\n",
       "  </thead>\n",
       "  <tbody>\n",
       "  </tbody>\n",
       "</table>\n",
       "</div>"
      ],
      "text/plain": [
       "Empty DataFrame\n",
       "Columns: [Variance, Bias, Prior Model MAE, ABC pre-generator MAE, ABC GAN MAE]\n",
       "Index: []"
      ]
     },
     "metadata": {},
     "output_type": "display_data"
    },
    {
     "name": "stdout",
     "output_type": "stream",
     "text": [
      "Variance                 NaN\n",
      "Bias                     NaN\n",
      "Prior Model MAE          NaN\n",
      "ABC pre-generator MAE    NaN\n",
      "ABC GAN MAE              NaN\n",
      "dtype: object\n",
      "-------------------------------------------------------------\n"
     ]
    }
   ],
   "source": [
    "data = [[] for i in range(12)]\n",
    "for i in range(12):\n",
    "    for j in range(len(abc_pre_generator[i])):\n",
    "        data[i].append([paramVal[i][0], paramVal[i][1],prior_model[i][j],\n",
    "                     abc_pre_generator[i][j],abc_mae_mean[i][j]])\n",
    "    df = pd.DataFrame(data[i], columns = ['Variance','Bias','Prior Model MAE','ABC pre-generator MAE','ABC GAN MAE'])\n",
    "    display(df.round(5))\n",
    "    print(df.median(axis=0))\n",
    "    print(\"-------------------------------------------------------------\")"
   ]
  },
  {
   "cell_type": "code",
   "execution_count": 10,
   "id": "dd9bc0fd",
   "metadata": {
    "execution": {
     "iopub.execute_input": "2022-07-06T08:41:26.012011Z",
     "iopub.status.busy": "2022-07-06T08:41:26.011049Z",
     "iopub.status.idle": "2022-07-06T08:41:26.015430Z",
     "shell.execute_reply": "2022-07-06T08:41:26.014656Z"
    },
    "papermill": {
     "duration": 0.016322,
     "end_time": "2022-07-06T08:41:26.018017",
     "exception": false,
     "start_time": "2022-07-06T08:41:26.001695",
     "status": "completed"
    },
    "tags": []
   },
   "outputs": [],
   "source": [
    "# # Display Stats Summary Tables \n",
    "# data = np.array(data)\n",
    "# catboostData = []\n",
    "# for i in range(9): \n",
    "#     catboostData.append([gan_median,stats,paramVal[i][0], paramVal[i][1],median(data[i][:,3]),median(data[i][:,5]),median(data[i][:,6]),median(data[i][:,4])])\n",
    "# df = pd.DataFrame(catboostData, columns = ['GAN','Stats','Variance','Bias','Prior Model','mGAN','skipGAN','Weight'])\n",
    "# display(df.round(5))"
   ]
  }
 ],
 "metadata": {
  "interpreter": {
   "hash": "10498c76ddd8160350534c6544a2b2fb65f2138dbc70420f7c81a3268f830f23"
  },
  "kernelspec": {
   "display_name": "papermill-tutorial",
   "language": "python",
   "name": "python3"
  },
  "language_info": {
   "codemirror_mode": {
    "name": "ipython",
    "version": 3
   },
   "file_extension": ".py",
   "mimetype": "text/x-python",
   "name": "python",
   "nbconvert_exporter": "python",
   "pygments_lexer": "ipython3",
   "version": "3.8.13"
  },
  "papermill": {
   "default_parameters": {},
   "duration": 15.323667,
   "end_time": "2022-07-06T08:41:26.673276",
   "environment_variables": {},
   "exception": null,
   "input_path": "Analysis.ipynb",
   "output_path": "resultstatabcgantabnet.ipynb",
   "parameters": {},
   "start_time": "2022-07-06T08:41:11.349609",
   "version": "2.3.3"
  }
 },
 "nbformat": 4,
 "nbformat_minor": 5
}