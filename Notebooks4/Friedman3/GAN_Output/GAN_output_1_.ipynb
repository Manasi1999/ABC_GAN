{
 "cells": [
  {
   "cell_type": "markdown",
   "id": "0f2c069c",
   "metadata": {
    "tags": [
     "papermill-error-cell-tag"
    ]
   },
   "source": [
    "<span style=\"color:red; font-family:Helvetica Neue, Helvetica, Arial, sans-serif; font-size:2em;\">An Exception was encountered at '<a href=\"#papermill-error-cell\">In [6]</a>'.</span>"
   ]
  },
  {
   "cell_type": "markdown",
   "id": "622780e6",
   "metadata": {
    "id": "622780e6",
    "papermill": {
     "duration": 0.016979,
     "end_time": "2022-06-22T18:14:13.480700",
     "exception": false,
     "start_time": "2022-06-22T18:14:13.463721",
     "status": "completed"
    },
    "tags": []
   },
   "source": [
    "## Import Libraries "
   ]
  },
  {
   "cell_type": "code",
   "execution_count": 1,
   "id": "a62397e3",
   "metadata": {
    "execution": {
     "iopub.execute_input": "2022-06-22T18:14:13.536791Z",
     "iopub.status.busy": "2022-06-22T18:14:13.526422Z",
     "iopub.status.idle": "2022-06-22T18:14:13.540442Z",
     "shell.execute_reply": "2022-06-22T18:14:13.539633Z"
    },
    "id": "a62397e3",
    "papermill": {
     "duration": 0.047527,
     "end_time": "2022-06-22T18:14:13.540755",
     "exception": false,
     "start_time": "2022-06-22T18:14:13.493228",
     "status": "completed"
    },
    "tags": []
   },
   "outputs": [],
   "source": [
    "import warnings\n",
    "import sys\n",
    "sys.path.insert(0, '../../src')\n",
    "warnings.filterwarnings('ignore')"
   ]
  },
  {
   "cell_type": "code",
   "execution_count": 2,
   "id": "d6a4e155",
   "metadata": {
    "execution": {
     "iopub.execute_input": "2022-06-22T18:14:13.573482Z",
     "iopub.status.busy": "2022-06-22T18:14:13.572599Z",
     "iopub.status.idle": "2022-06-22T18:14:19.552537Z",
     "shell.execute_reply": "2022-06-22T18:14:19.553218Z"
    },
    "id": "d6a4e155",
    "papermill": {
     "duration": 5.997771,
     "end_time": "2022-06-22T18:14:19.553506",
     "exception": false,
     "start_time": "2022-06-22T18:14:13.555735",
     "status": "completed"
    },
    "tags": []
   },
   "outputs": [],
   "source": [
    "import train_test\n",
    "import friedman3Dataset\n",
    "import network\n",
    "import dataset\n",
    "import matplotlib.pyplot as plt\n",
    "import sanityChecks\n",
    "import performanceMetrics\n",
    "import torch \n",
    "from sklearn.model_selection import train_test_split\n",
    "from sklearn.metrics import mean_squared_error,mean_absolute_error \n",
    "import scrapbook as sb\n",
    "from statistics import mean\n",
    "import numpy as np\n",
    "from pytorch_tabnet.tab_model import TabNetClassifier\n",
    "from pytorch_tabnet.tab_model import TabNetRegressor"
   ]
  },
  {
   "cell_type": "markdown",
   "id": "391cdbfd",
   "metadata": {
    "id": "391cdbfd",
    "papermill": {
     "duration": 0.012433,
     "end_time": "2022-06-22T18:14:19.579410",
     "exception": false,
     "start_time": "2022-06-22T18:14:19.566977",
     "status": "completed"
    },
    "tags": []
   },
   "source": [
    "## Dataset"
   ]
  },
  {
   "cell_type": "code",
   "execution_count": 3,
   "id": "0c421a10",
   "metadata": {
    "execution": {
     "iopub.execute_input": "2022-06-22T18:14:19.606976Z",
     "iopub.status.busy": "2022-06-22T18:14:19.606103Z",
     "iopub.status.idle": "2022-06-22T18:14:19.608113Z",
     "shell.execute_reply": "2022-06-22T18:14:19.608971Z"
    },
    "id": "0c421a10",
    "papermill": {
     "duration": 0.01849,
     "end_time": "2022-06-22T18:14:19.609200",
     "exception": false,
     "start_time": "2022-06-22T18:14:19.590710",
     "status": "completed"
    },
    "tags": []
   },
   "outputs": [],
   "source": [
    "#Dataset Parameters \n",
    "n_features = 4\n",
    "n_samples= 100\n",
    "n_target = 1"
   ]
  },
  {
   "cell_type": "code",
   "execution_count": 4,
   "id": "5d6eced4",
   "metadata": {
    "execution": {
     "iopub.execute_input": "2022-06-22T18:14:19.634313Z",
     "iopub.status.busy": "2022-06-22T18:14:19.632993Z",
     "iopub.status.idle": "2022-06-22T18:14:19.646369Z",
     "shell.execute_reply": "2022-06-22T18:14:19.646873Z"
    },
    "id": "5d6eced4",
    "papermill": {
     "duration": 0.028623,
     "end_time": "2022-06-22T18:14:19.647086",
     "exception": false,
     "start_time": "2022-06-22T18:14:19.618463",
     "status": "completed"
    },
    "tags": []
   },
   "outputs": [
    {
     "name": "stdout",
     "output_type": "stream",
     "text": [
      "          X1           X2        X3         X4         Y\n",
      "0  95.170400   980.330919  0.622820   2.544099  1.518420\n",
      "1  18.163251  1627.160060  0.027854   6.656949  1.173577\n",
      "2  81.272163   471.816261  0.208763   8.490477  0.849214\n",
      "3  28.445935   144.592241  0.180652  10.766715  0.688933\n",
      "4  85.328671   500.839044  0.578301   3.921825  1.373944\n"
     ]
    }
   ],
   "source": [
    "X,Y = friedman3Dataset.friedman3_data(n_samples)\n",
    "\n",
    "#Train test split for dataset \n",
    "X_train,X_test,Y_train,Y_test = train_test_split(X,Y,test_size = 0.2)\n",
    "train_data = dataset.CustomDataset(X_train,Y_train)\n",
    "test_data = dataset.CustomDataset(X_test,Y_test)"
   ]
  },
  {
   "cell_type": "markdown",
   "id": "42b2446c",
   "metadata": {
    "id": "42b2446c",
    "papermill": {
     "duration": 0.008477,
     "end_time": "2022-06-22T18:14:19.664326",
     "exception": false,
     "start_time": "2022-06-22T18:14:19.655849",
     "status": "completed"
    },
    "tags": []
   },
   "source": [
    "## Parameters "
   ]
  },
  {
   "cell_type": "code",
   "execution_count": 5,
   "id": "645f85d5",
   "metadata": {
    "execution": {
     "iopub.execute_input": "2022-06-22T18:14:19.690704Z",
     "iopub.status.busy": "2022-06-22T18:14:19.689062Z",
     "iopub.status.idle": "2022-06-22T18:14:19.693323Z",
     "shell.execute_reply": "2022-06-22T18:14:19.694874Z"
    },
    "id": "645f85d5",
    "papermill": {
     "duration": 0.023251,
     "end_time": "2022-06-22T18:14:19.695627",
     "exception": false,
     "start_time": "2022-06-22T18:14:19.672376",
     "status": "completed"
    },
    "tags": [
     "parameters"
    ]
   },
   "outputs": [],
   "source": [
    "n_epochs = 1000\n",
    "batch_size = 32\n",
    "#Select the device \n",
    "device = torch.device('cuda' if torch.cuda.is_available() else 'cpu')"
   ]
  },
  {
   "cell_type": "markdown",
   "id": "c42f28b9",
   "metadata": {
    "id": "c42f28b9",
    "papermill": {
     "duration": 0.011248,
     "end_time": "2022-06-22T18:14:19.717901",
     "exception": false,
     "start_time": "2022-06-22T18:14:19.706653",
     "status": "completed"
    },
    "tags": []
   },
   "source": [
    "## GAN Model"
   ]
  },
  {
   "cell_type": "markdown",
   "id": "110f905d",
   "metadata": {
    "id": "110f905d",
    "papermill": {
     "duration": 0.009205,
     "end_time": "2022-06-22T18:14:19.736861",
     "exception": false,
     "start_time": "2022-06-22T18:14:19.727656",
     "status": "completed"
    },
    "tags": []
   },
   "source": [
    "**Training GAN for n_epochs number of epochs** "
   ]
  },
  {
   "cell_type": "markdown",
   "id": "bc1b0ca7",
   "metadata": {
    "tags": [
     "papermill-error-cell-tag"
    ]
   },
   "source": [
    "<span id=\"papermill-error-cell\" style=\"color:red; font-family:Helvetica Neue, Helvetica, Arial, sans-serif; font-size:2em;\">Execution using papermill encountered an exception here and stopped:</span>"
   ]
  },
  {
   "cell_type": "code",
   "execution_count": 6,
   "id": "ad4645eb",
   "metadata": {
    "execution": {
     "iopub.execute_input": "2022-06-22T18:14:19.758523Z",
     "iopub.status.busy": "2022-06-22T18:14:19.757823Z",
     "iopub.status.idle": "2022-06-22T18:14:20.211736Z",
     "shell.execute_reply": "2022-06-22T18:14:20.210309Z"
    },
    "id": "ad4645eb",
    "papermill": {
     "duration": 0.466536,
     "end_time": "2022-06-22T18:14:20.212078",
     "exception": true,
     "start_time": "2022-06-22T18:14:19.745542",
     "status": "failed"
    },
    "tags": []
   },
   "outputs": [
    {
     "name": "stdout",
     "output_type": "stream",
     "text": [
      "Device used : cpu\n",
      "Device used : cpu\n"
     ]
    },
    {
     "ename": "AttributeError",
     "evalue": "'TabNetRegressor' object has no attribute 'parameters'",
     "output_type": "error",
     "traceback": [
      "\u001b[0;31m---------------------------------------------------------------------------\u001b[0m",
      "\u001b[0;31mAttributeError\u001b[0m                            Traceback (most recent call last)",
      "\u001b[0;32m<ipython-input-6-d51e8bd89a14>\u001b[0m in \u001b[0;36m<module>\u001b[0;34m\u001b[0m\n\u001b[1;32m      3\u001b[0m \u001b[0;34m\u001b[0m\u001b[0m\n\u001b[1;32m      4\u001b[0m \u001b[0mcriterion\u001b[0m \u001b[0;34m=\u001b[0m \u001b[0mtorch\u001b[0m\u001b[0;34m.\u001b[0m\u001b[0mnn\u001b[0m\u001b[0;34m.\u001b[0m\u001b[0mBCELoss\u001b[0m\u001b[0;34m(\u001b[0m\u001b[0;34m)\u001b[0m\u001b[0;34m\u001b[0m\u001b[0;34m\u001b[0m\u001b[0m\n\u001b[0;32m----> 5\u001b[0;31m \u001b[0mgen_opt\u001b[0m \u001b[0;34m=\u001b[0m \u001b[0mtorch\u001b[0m\u001b[0;34m.\u001b[0m\u001b[0moptim\u001b[0m\u001b[0;34m.\u001b[0m\u001b[0mAdam\u001b[0m\u001b[0;34m(\u001b[0m\u001b[0mgenerator\u001b[0m\u001b[0;34m.\u001b[0m\u001b[0mparameters\u001b[0m\u001b[0;34m(\u001b[0m\u001b[0;34m)\u001b[0m\u001b[0;34m,\u001b[0m \u001b[0mlr\u001b[0m\u001b[0;34m=\u001b[0m\u001b[0;36m0.001\u001b[0m\u001b[0;34m,\u001b[0m \u001b[0mbetas\u001b[0m\u001b[0;34m=\u001b[0m\u001b[0;34m(\u001b[0m\u001b[0;36m0.5\u001b[0m\u001b[0;34m,\u001b[0m \u001b[0;36m0.999\u001b[0m\u001b[0;34m)\u001b[0m\u001b[0;34m)\u001b[0m\u001b[0;34m\u001b[0m\u001b[0;34m\u001b[0m\u001b[0m\n\u001b[0m\u001b[1;32m      6\u001b[0m \u001b[0mdisc_opt\u001b[0m \u001b[0;34m=\u001b[0m \u001b[0mtorch\u001b[0m\u001b[0;34m.\u001b[0m\u001b[0moptim\u001b[0m\u001b[0;34m.\u001b[0m\u001b[0mAdam\u001b[0m\u001b[0;34m(\u001b[0m\u001b[0mdiscriminator\u001b[0m\u001b[0;34m.\u001b[0m\u001b[0mparameters\u001b[0m\u001b[0;34m(\u001b[0m\u001b[0;34m)\u001b[0m\u001b[0;34m,\u001b[0m \u001b[0mlr\u001b[0m\u001b[0;34m=\u001b[0m\u001b[0;36m0.001\u001b[0m\u001b[0;34m,\u001b[0m \u001b[0mbetas\u001b[0m\u001b[0;34m=\u001b[0m\u001b[0;34m(\u001b[0m\u001b[0;36m0.5\u001b[0m\u001b[0;34m,\u001b[0m \u001b[0;36m0.999\u001b[0m\u001b[0;34m)\u001b[0m\u001b[0;34m)\u001b[0m\u001b[0;34m\u001b[0m\u001b[0;34m\u001b[0m\u001b[0m\n",
      "\u001b[0;31mAttributeError\u001b[0m: 'TabNetRegressor' object has no attribute 'parameters'"
     ]
    }
   ],
   "source": [
    "generator = TabNetRegressor(n_features+1)\n",
    "discriminator = TabNetClassifier(n_features+1)\n",
    "\n",
    "criterion = torch.nn.BCELoss()\n",
    "gen_opt = torch.optim.Adam(generator.parameters(), lr=0.001, betas=(0.5, 0.999))\n",
    "disc_opt = torch.optim.Adam(discriminator.parameters(), lr=0.001, betas=(0.5, 0.999))"
   ]
  },
  {
   "cell_type": "code",
   "execution_count": null,
   "id": "0b0246ee",
   "metadata": {
    "id": "0b0246ee",
    "papermill": {
     "duration": null,
     "end_time": null,
     "exception": null,
     "start_time": null,
     "status": "pending"
    },
    "tags": []
   },
   "outputs": [],
   "source": [
    "discLossG1,genLossG1 = train_test.training_GAN(discriminator,generator,disc_opt,gen_opt,train_data,batch_size,n_epochs,criterion,device)\n"
   ]
  },
  {
   "cell_type": "markdown",
   "id": "ded18b24",
   "metadata": {
    "id": "ded18b24",
    "papermill": {
     "duration": null,
     "end_time": null,
     "exception": null,
     "start_time": null,
     "status": "pending"
    },
    "tags": []
   },
   "source": [
    "Plot loss function "
   ]
  },
  {
   "cell_type": "code",
   "execution_count": null,
   "id": "84f87f6f",
   "metadata": {
    "papermill": {
     "duration": null,
     "end_time": null,
     "exception": null,
     "start_time": null,
     "status": "pending"
    },
    "tags": []
   },
   "outputs": [],
   "source": [
    "performanceMetrics.plotTrainingLoss2(discLossG1,genLossG1,np.linspace(1,n_epochs,n_epochs).astype(int))"
   ]
  },
  {
   "cell_type": "code",
   "execution_count": null,
   "id": "673b2f62",
   "metadata": {
    "id": "673b2f62",
    "papermill": {
     "duration": null,
     "end_time": null,
     "exception": null,
     "start_time": null,
     "status": "pending"
    },
    "tags": []
   },
   "outputs": [],
   "source": [
    "GAN1_metrics = train_test.test_generator(generator,test_data,device)\n",
    "sb.glue(\"GAN_1 Metrics\",GAN1_metrics)"
   ]
  },
  {
   "cell_type": "code",
   "execution_count": null,
   "id": "eeee3d98",
   "metadata": {
    "id": "eeee3d98",
    "papermill": {
     "duration": null,
     "end_time": null,
     "exception": null,
     "start_time": null,
     "status": "pending"
    },
    "tags": []
   },
   "outputs": [],
   "source": [
    "sanityChecks.discProbVsError(train_data,discriminator,device)\n",
    "sanityChecks.discProbVsError(test_data,discriminator,device)"
   ]
  }
 ],
 "metadata": {
  "colab": {
   "collapsed_sections": [],
   "name": "GAN.ipynb",
   "provenance": []
  },
  "interpreter": {
   "hash": "10498c76ddd8160350534c6544a2b2fb65f2138dbc70420f7c81a3268f830f23"
  },
  "kernelspec": {
   "display_name": "papermill-tut",
   "language": "python",
   "name": "python3"
  },
  "language_info": {
   "codemirror_mode": {
    "name": "ipython",
    "version": 3
   },
   "file_extension": ".py",
   "mimetype": "text/x-python",
   "name": "python",
   "nbconvert_exporter": "python",
   "pygments_lexer": "ipython3",
   "version": "3.8.3"
  },
  "papermill": {
   "default_parameters": {},
   "duration": 10.529934,
   "end_time": "2022-06-22T18:14:21.926292",
   "environment_variables": {},
   "exception": true,
   "input_path": "GAN.ipynb",
   "output_path": "./GAN_Output/GAN_output_1_.ipynb",
   "parameters": {},
   "start_time": "2022-06-22T18:14:11.396358",
   "version": "2.3.3"
  }
 },
 "nbformat": 4,
 "nbformat_minor": 5
}