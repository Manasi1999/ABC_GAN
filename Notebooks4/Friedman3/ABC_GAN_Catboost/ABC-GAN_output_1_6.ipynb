{
 "cells": [
  {
   "cell_type": "markdown",
   "id": "622780e6",
   "metadata": {
    "id": "622780e6",
    "papermill": {
     "duration": 0.00851,
     "end_time": "2022-07-27T08:08:41.245184",
     "exception": false,
     "start_time": "2022-07-27T08:08:41.236674",
     "status": "completed"
    },
    "tags": []
   },
   "source": [
    "## Import Libraries "
   ]
  },
  {
   "cell_type": "code",
   "execution_count": 1,
   "id": "a62397e3",
   "metadata": {
    "execution": {
     "iopub.execute_input": "2022-07-27T08:08:41.267605Z",
     "iopub.status.busy": "2022-07-27T08:08:41.266526Z",
     "iopub.status.idle": "2022-07-27T08:08:41.293139Z",
     "shell.execute_reply": "2022-07-27T08:08:41.280739Z"
    },
    "id": "a62397e3",
    "papermill": {
     "duration": 0.053535,
     "end_time": "2022-07-27T08:08:41.305693",
     "exception": false,
     "start_time": "2022-07-27T08:08:41.252158",
     "status": "completed"
    },
    "tags": []
   },
   "outputs": [],
   "source": [
    "import warnings\n",
    "import sys\n",
    "sys.path.insert(0, '../../src')\n",
    "warnings.filterwarnings('ignore')"
   ]
  },
  {
   "cell_type": "code",
   "execution_count": 2,
   "id": "d6a4e155",
   "metadata": {
    "execution": {
     "iopub.execute_input": "2022-07-27T08:08:41.330766Z",
     "iopub.status.busy": "2022-07-27T08:08:41.328805Z",
     "iopub.status.idle": "2022-07-27T08:08:59.840548Z",
     "shell.execute_reply": "2022-07-27T08:08:59.834474Z"
    },
    "id": "d6a4e155",
    "papermill": {
     "duration": 18.532633,
     "end_time": "2022-07-27T08:08:59.848084",
     "exception": false,
     "start_time": "2022-07-27T08:08:41.315451",
     "status": "completed"
    },
    "tags": []
   },
   "outputs": [],
   "source": [
    "import ABC_train_test2\n",
    "import friedman3Dataset\n",
    "import network\n",
    "import dataset\n",
    "import sanityChecks\n",
    "import torch \n",
    "import scrapbook as sb\n",
    "from statistics import mean \n",
    "import catboost as ctb \n",
    "from sklearn.model_selection import train_test_split\n",
    "from sklearn.metrics import mean_squared_error,mean_absolute_error\n",
    "import numpy as np"
   ]
  },
  {
   "cell_type": "markdown",
   "id": "2fa5b0f7",
   "metadata": {
    "id": "2fa5b0f7",
    "papermill": {
     "duration": 0.008059,
     "end_time": "2022-07-27T08:08:59.865653",
     "exception": false,
     "start_time": "2022-07-27T08:08:59.857594",
     "status": "completed"
    },
    "tags": []
   },
   "source": [
    "## Parameters "
   ]
  },
  {
   "cell_type": "code",
   "execution_count": 3,
   "id": "783186fb",
   "metadata": {
    "execution": {
     "iopub.execute_input": "2022-07-27T08:08:59.923617Z",
     "iopub.status.busy": "2022-07-27T08:08:59.923015Z",
     "iopub.status.idle": "2022-07-27T08:08:59.930271Z",
     "shell.execute_reply": "2022-07-27T08:08:59.928556Z"
    },
    "id": "783186fb",
    "papermill": {
     "duration": 0.07389,
     "end_time": "2022-07-27T08:08:59.948114",
     "exception": false,
     "start_time": "2022-07-27T08:08:59.874224",
     "status": "completed"
    },
    "tags": [
     "parameters"
    ]
   },
   "outputs": [],
   "source": [
    "variance = 1\n",
    "bias = 1 "
   ]
  },
  {
   "cell_type": "code",
   "execution_count": 4,
   "id": "e7abba3e",
   "metadata": {
    "execution": {
     "iopub.execute_input": "2022-07-27T08:08:59.976911Z",
     "iopub.status.busy": "2022-07-27T08:08:59.976313Z",
     "iopub.status.idle": "2022-07-27T08:08:59.984779Z",
     "shell.execute_reply": "2022-07-27T08:08:59.981331Z"
    },
    "papermill": {
     "duration": 0.038945,
     "end_time": "2022-07-27T08:08:59.995129",
     "exception": false,
     "start_time": "2022-07-27T08:08:59.956184",
     "status": "completed"
    },
    "tags": [
     "injected-parameters"
    ]
   },
   "outputs": [],
   "source": [
    "# Parameters\n",
    "variance = 0.01\n",
    "bias = 0.1\n"
   ]
  },
  {
   "cell_type": "markdown",
   "id": "391cdbfd",
   "metadata": {
    "id": "391cdbfd",
    "papermill": {
     "duration": 0.011034,
     "end_time": "2022-07-27T08:09:00.019942",
     "exception": false,
     "start_time": "2022-07-27T08:09:00.008908",
     "status": "completed"
    },
    "tags": []
   },
   "source": [
    "## Dataset \n"
   ]
  },
  {
   "cell_type": "code",
   "execution_count": 5,
   "id": "5b51f161",
   "metadata": {
    "execution": {
     "iopub.execute_input": "2022-07-27T08:09:00.039790Z",
     "iopub.status.busy": "2022-07-27T08:09:00.039002Z",
     "iopub.status.idle": "2022-07-27T08:09:00.044715Z",
     "shell.execute_reply": "2022-07-27T08:09:00.043363Z"
    },
    "id": "5b51f161",
    "papermill": {
     "duration": 0.024468,
     "end_time": "2022-07-27T08:09:00.053218",
     "exception": false,
     "start_time": "2022-07-27T08:09:00.028750",
     "status": "completed"
    },
    "tags": []
   },
   "outputs": [],
   "source": [
    "#Parameters \n",
    "n_features = 4\n",
    "n_samples= 100\n",
    "n_target = 1"
   ]
  },
  {
   "cell_type": "code",
   "execution_count": 6,
   "id": "5d6eced4",
   "metadata": {
    "execution": {
     "iopub.execute_input": "2022-07-27T08:09:00.149330Z",
     "iopub.status.busy": "2022-07-27T08:09:00.148809Z",
     "iopub.status.idle": "2022-07-27T08:09:00.171837Z",
     "shell.execute_reply": "2022-07-27T08:09:00.170038Z"
    },
    "id": "5d6eced4",
    "papermill": {
     "duration": 0.140388,
     "end_time": "2022-07-27T08:09:00.204536",
     "exception": false,
     "start_time": "2022-07-27T08:09:00.064148",
     "status": "completed"
    },
    "tags": []
   },
   "outputs": [
    {
     "name": "stdout",
     "output_type": "stream",
     "text": [
      "          X1           X2        X3        X4         Y\n",
      "0  82.898422  1461.121359  0.580387  7.477366  1.486752\n",
      "1  88.180937   170.705337  0.388363  6.633458  0.603969\n",
      "2  83.184676   849.278864  0.676144  2.987028  1.498936\n",
      "3  42.326184  1321.850194  0.928117  2.550005  1.545627\n",
      "4  57.696028  1345.415355  0.928959  9.193919  1.672414\n"
     ]
    }
   ],
   "source": [
    "X,Y = friedman3Dataset.friedman3_data(n_samples)"
   ]
  },
  {
   "cell_type": "code",
   "execution_count": 7,
   "id": "fe007438",
   "metadata": {
    "execution": {
     "iopub.execute_input": "2022-07-27T08:09:00.226014Z",
     "iopub.status.busy": "2022-07-27T08:09:00.225211Z",
     "iopub.status.idle": "2022-07-27T08:09:00.231217Z",
     "shell.execute_reply": "2022-07-27T08:09:00.230284Z"
    },
    "id": "fe007438",
    "papermill": {
     "duration": 0.03537,
     "end_time": "2022-07-27T08:09:00.249013",
     "exception": false,
     "start_time": "2022-07-27T08:09:00.213643",
     "status": "completed"
    },
    "tags": []
   },
   "outputs": [],
   "source": [
    "#Train test split for dataset \n",
    "X_train,X_test,Y_train,Y_test = train_test_split(X,Y,test_size = 0.2)\n",
    "train_data = dataset.CustomDataset(X_train,Y_train)\n",
    "test_data = dataset.CustomDataset(X_test,Y_test)\n"
   ]
  },
  {
   "cell_type": "markdown",
   "id": "a9a1af34",
   "metadata": {
    "id": "a9a1af34",
    "papermill": {
     "duration": 0.017493,
     "end_time": "2022-07-27T08:09:00.276561",
     "exception": false,
     "start_time": "2022-07-27T08:09:00.259068",
     "status": "completed"
    },
    "tags": []
   },
   "source": [
    "## Training Parameters "
   ]
  },
  {
   "cell_type": "code",
   "execution_count": 8,
   "id": "952b7fc8",
   "metadata": {
    "execution": {
     "iopub.execute_input": "2022-07-27T08:09:00.412674Z",
     "iopub.status.busy": "2022-07-27T08:09:00.412307Z",
     "iopub.status.idle": "2022-07-27T08:09:00.422742Z",
     "shell.execute_reply": "2022-07-27T08:09:00.420847Z"
    },
    "id": "952b7fc8",
    "papermill": {
     "duration": 0.169069,
     "end_time": "2022-07-27T08:09:00.455088",
     "exception": false,
     "start_time": "2022-07-27T08:09:00.286019",
     "status": "completed"
    },
    "tags": []
   },
   "outputs": [],
   "source": [
    "batch_size = 32\n",
    "n_epochs = 1000\n",
    "#Select the device \n",
    "device = torch.device('cuda' if torch.cuda.is_available() else 'cpu')"
   ]
  },
  {
   "cell_type": "markdown",
   "id": "a95e1600",
   "metadata": {
    "id": "a95e1600",
    "papermill": {
     "duration": 0.066442,
     "end_time": "2022-07-27T08:09:00.535166",
     "exception": false,
     "start_time": "2022-07-27T08:09:00.468724",
     "status": "completed"
    },
    "tags": []
   },
   "source": [
    "# ABC Pre-generator Model \n",
    "\n",
    "1. The catboost model is used as a pre-generator model for the ABC-GAN. \n",
    "2. The model is first trained on the entire dataset \n",
    "3. It generats X,Y pairs and we add some Gaussian noise with mean 0 and variance 1 to it which is then feed as input to the generator.\n"
   ]
  },
  {
   "cell_type": "code",
   "execution_count": 9,
   "id": "ff8ce7bd",
   "metadata": {
    "execution": {
     "iopub.execute_input": "2022-07-27T08:09:00.561372Z",
     "iopub.status.busy": "2022-07-27T08:09:00.559558Z",
     "iopub.status.idle": "2022-07-27T08:09:04.285704Z",
     "shell.execute_reply": "2022-07-27T08:09:04.283863Z"
    },
    "id": "ff8ce7bd",
    "papermill": {
     "duration": 3.745548,
     "end_time": "2022-07-27T08:09:04.291288",
     "exception": false,
     "start_time": "2022-07-27T08:09:00.545740",
     "status": "completed"
    },
    "tags": []
   },
   "outputs": [
    {
     "name": "stdout",
     "output_type": "stream",
     "text": [
      "Learning rate set to 0.027471\n",
      "0:\tlearn: 0.9646535\ttotal: 51.4ms\tremaining: 51.4s\n",
      "1:\tlearn: 0.9547122\ttotal: 52.3ms\tremaining: 26.1s\n",
      "2:\tlearn: 0.9459468\ttotal: 53.1ms\tremaining: 17.6s\n",
      "3:\tlearn: 0.9352583\ttotal: 53.8ms\tremaining: 13.4s\n",
      "4:\tlearn: 0.9257435\ttotal: 54.9ms\tremaining: 10.9s\n",
      "5:\tlearn: 0.9165507\ttotal: 55.3ms\tremaining: 9.16s\n",
      "6:\tlearn: 0.9059024\ttotal: 57ms\tremaining: 8.09s\n",
      "7:\tlearn: 0.8975764\ttotal: 59ms\tremaining: 7.32s\n",
      "8:\tlearn: 0.8878523\ttotal: 60ms\tremaining: 6.61s\n",
      "9:\tlearn: 0.8785214\ttotal: 61ms\tremaining: 6.04s\n",
      "10:\tlearn: 0.8684830\ttotal: 62.8ms\tremaining: 5.64s\n",
      "11:\tlearn: 0.8580878\ttotal: 63.3ms\tremaining: 5.21s\n",
      "12:\tlearn: 0.8486663\ttotal: 63.7ms\tremaining: 4.84s\n",
      "13:\tlearn: 0.8383499\ttotal: 64.2ms\tremaining: 4.52s\n",
      "14:\tlearn: 0.8270494\ttotal: 69.8ms\tremaining: 4.58s\n",
      "15:\tlearn: 0.8178875\ttotal: 71.1ms\tremaining: 4.37s\n",
      "16:\tlearn: 0.8101734\ttotal: 71.6ms\tremaining: 4.14s\n",
      "17:\tlearn: 0.8025967\ttotal: 74.4ms\tremaining: 4.06s\n",
      "18:\tlearn: 0.7961534\ttotal: 75ms\tremaining: 3.87s\n",
      "19:\tlearn: 0.7865243\ttotal: 75.5ms\tremaining: 3.7s\n",
      "20:\tlearn: 0.7774109\ttotal: 75.9ms\tremaining: 3.54s\n",
      "21:\tlearn: 0.7683932\ttotal: 77.6ms\tremaining: 3.45s\n",
      "22:\tlearn: 0.7596470\ttotal: 91.6ms\tremaining: 3.89s\n",
      "23:\tlearn: 0.7514994\ttotal: 92.1ms\tremaining: 3.74s\n",
      "24:\tlearn: 0.7437522\ttotal: 92.8ms\tremaining: 3.62s\n",
      "25:\tlearn: 0.7352417\ttotal: 93.2ms\tremaining: 3.49s\n",
      "26:\tlearn: 0.7291250\ttotal: 93.7ms\tremaining: 3.38s\n",
      "27:\tlearn: 0.7228577\ttotal: 94.1ms\tremaining: 3.27s\n",
      "28:\tlearn: 0.7178824\ttotal: 97.8ms\tremaining: 3.27s\n",
      "29:\tlearn: 0.7104163\ttotal: 98.3ms\tremaining: 3.18s\n",
      "30:\tlearn: 0.7045037\ttotal: 99.9ms\tremaining: 3.12s\n",
      "31:\tlearn: 0.6983100\ttotal: 103ms\tremaining: 3.13s\n",
      "32:\tlearn: 0.6915595\ttotal: 105ms\tremaining: 3.08s\n",
      "33:\tlearn: 0.6848014\ttotal: 106ms\tremaining: 3.02s\n",
      "34:\tlearn: 0.6787690\ttotal: 108ms\tremaining: 2.97s\n",
      "35:\tlearn: 0.6737572\ttotal: 109ms\tremaining: 2.9s\n",
      "36:\tlearn: 0.6672954\ttotal: 109ms\tremaining: 2.85s\n",
      "37:\tlearn: 0.6621968\ttotal: 110ms\tremaining: 2.79s\n",
      "38:\tlearn: 0.6559772\ttotal: 111ms\tremaining: 2.74s\n",
      "39:\tlearn: 0.6494486\ttotal: 112ms\tremaining: 2.69s\n",
      "40:\tlearn: 0.6424779\ttotal: 113ms\tremaining: 2.64s\n",
      "41:\tlearn: 0.6360555\ttotal: 113ms\tremaining: 2.59s\n",
      "42:\tlearn: 0.6287094\ttotal: 115ms\tremaining: 2.57s\n",
      "43:\tlearn: 0.6220065\ttotal: 116ms\tremaining: 2.52s\n",
      "44:\tlearn: 0.6171120\ttotal: 117ms\tremaining: 2.48s\n",
      "45:\tlearn: 0.6100629\ttotal: 117ms\tremaining: 2.43s\n",
      "46:\tlearn: 0.6044869\ttotal: 119ms\tremaining: 2.41s\n",
      "47:\tlearn: 0.5985172\ttotal: 121ms\tremaining: 2.41s\n",
      "48:\tlearn: 0.5937305\ttotal: 122ms\tremaining: 2.37s\n",
      "49:\tlearn: 0.5890760\ttotal: 122ms\tremaining: 2.33s\n",
      "50:\tlearn: 0.5842048\ttotal: 123ms\tremaining: 2.29s\n",
      "51:\tlearn: 0.5786589\ttotal: 125ms\tremaining: 2.28s\n",
      "52:\tlearn: 0.5739054\ttotal: 125ms\tremaining: 2.24s\n",
      "53:\tlearn: 0.5687375\ttotal: 126ms\tremaining: 2.21s\n",
      "54:\tlearn: 0.5624793\ttotal: 127ms\tremaining: 2.18s\n",
      "55:\tlearn: 0.5576149\ttotal: 128ms\tremaining: 2.15s\n",
      "56:\tlearn: 0.5533817\ttotal: 129ms\tremaining: 2.13s\n",
      "57:\tlearn: 0.5491467\ttotal: 130ms\tremaining: 2.11s\n",
      "58:\tlearn: 0.5443430\ttotal: 131ms\tremaining: 2.08s\n",
      "59:\tlearn: 0.5389727\ttotal: 133ms\tremaining: 2.08s\n",
      "60:\tlearn: 0.5352925\ttotal: 133ms\tremaining: 2.05s\n",
      "61:\tlearn: 0.5298795\ttotal: 134ms\tremaining: 2.02s\n",
      "62:\tlearn: 0.5253060\ttotal: 135ms\tremaining: 2s\n",
      "63:\tlearn: 0.5201784\ttotal: 135ms\tremaining: 1.97s\n",
      "64:\tlearn: 0.5159966\ttotal: 136ms\tremaining: 1.96s\n",
      "65:\tlearn: 0.5111704\ttotal: 140ms\tremaining: 1.98s\n",
      "66:\tlearn: 0.5076876\ttotal: 140ms\tremaining: 1.96s\n",
      "67:\tlearn: 0.5028198\ttotal: 142ms\tremaining: 1.94s\n",
      "68:\tlearn: 0.4971190\ttotal: 142ms\tremaining: 1.92s\n",
      "69:\tlearn: 0.4924851\ttotal: 143ms\tremaining: 1.89s\n",
      "70:\tlearn: 0.4887674\ttotal: 144ms\tremaining: 1.88s\n"
     ]
    },
    {
     "name": "stdout",
     "output_type": "stream",
     "text": [
      "71:\tlearn: 0.4854074\ttotal: 144ms\tremaining: 1.86s\n",
      "72:\tlearn: 0.4821430\ttotal: 147ms\tremaining: 1.87s\n",
      "73:\tlearn: 0.4781708\ttotal: 148ms\tremaining: 1.85s\n",
      "74:\tlearn: 0.4736475\ttotal: 149ms\tremaining: 1.84s\n",
      "75:\tlearn: 0.4703462\ttotal: 150ms\tremaining: 1.82s\n",
      "76:\tlearn: 0.4661450\ttotal: 153ms\tremaining: 1.84s\n",
      "77:\tlearn: 0.4622556\ttotal: 155ms\tremaining: 1.84s\n",
      "78:\tlearn: 0.4585412\ttotal: 156ms\tremaining: 1.82s\n",
      "79:\tlearn: 0.4541922\ttotal: 156ms\tremaining: 1.8s\n",
      "80:\tlearn: 0.4506628\ttotal: 157ms\tremaining: 1.78s\n",
      "81:\tlearn: 0.4462617\ttotal: 160ms\tremaining: 1.79s\n",
      "82:\tlearn: 0.4426011\ttotal: 161ms\tremaining: 1.77s\n",
      "83:\tlearn: 0.4387632\ttotal: 161ms\tremaining: 1.76s\n",
      "84:\tlearn: 0.4363309\ttotal: 162ms\tremaining: 1.74s\n",
      "85:\tlearn: 0.4338614\ttotal: 163ms\tremaining: 1.73s\n",
      "86:\tlearn: 0.4302767\ttotal: 164ms\tremaining: 1.72s\n",
      "87:\tlearn: 0.4275851\ttotal: 167ms\tremaining: 1.74s\n",
      "88:\tlearn: 0.4251874\ttotal: 169ms\tremaining: 1.73s\n",
      "89:\tlearn: 0.4221194\ttotal: 170ms\tremaining: 1.72s\n",
      "90:\tlearn: 0.4189775\ttotal: 170ms\tremaining: 1.7s\n",
      "91:\tlearn: 0.4161176\ttotal: 171ms\tremaining: 1.69s\n",
      "92:\tlearn: 0.4124380\ttotal: 171ms\tremaining: 1.67s\n",
      "93:\tlearn: 0.4093736\ttotal: 177ms\tremaining: 1.7s\n",
      "94:\tlearn: 0.4069715\ttotal: 177ms\tremaining: 1.69s\n",
      "95:\tlearn: 0.4036769\ttotal: 180ms\tremaining: 1.7s\n",
      "96:\tlearn: 0.4012337\ttotal: 181ms\tremaining: 1.68s\n",
      "97:\tlearn: 0.3986510\ttotal: 181ms\tremaining: 1.67s\n",
      "98:\tlearn: 0.3955361\ttotal: 181ms\tremaining: 1.65s\n",
      "99:\tlearn: 0.3926611\ttotal: 183ms\tremaining: 1.65s\n",
      "100:\tlearn: 0.3896735\ttotal: 185ms\tremaining: 1.65s\n",
      "101:\tlearn: 0.3864384\ttotal: 188ms\tremaining: 1.66s\n",
      "102:\tlearn: 0.3837020\ttotal: 189ms\tremaining: 1.64s\n",
      "103:\tlearn: 0.3812190\ttotal: 189ms\tremaining: 1.63s\n",
      "104:\tlearn: 0.3782391\ttotal: 190ms\tremaining: 1.62s\n",
      "105:\tlearn: 0.3754332\ttotal: 195ms\tremaining: 1.65s\n",
      "106:\tlearn: 0.3729146\ttotal: 196ms\tremaining: 1.63s\n",
      "107:\tlearn: 0.3703354\ttotal: 196ms\tremaining: 1.62s\n",
      "108:\tlearn: 0.3677769\ttotal: 196ms\tremaining: 1.61s\n",
      "109:\tlearn: 0.3650931\ttotal: 201ms\tremaining: 1.63s\n",
      "110:\tlearn: 0.3624001\ttotal: 206ms\tremaining: 1.65s\n",
      "111:\tlearn: 0.3601679\ttotal: 207ms\tremaining: 1.64s\n",
      "112:\tlearn: 0.3580870\ttotal: 209ms\tremaining: 1.64s\n",
      "113:\tlearn: 0.3564229\ttotal: 211ms\tremaining: 1.64s\n",
      "114:\tlearn: 0.3538682\ttotal: 212ms\tremaining: 1.63s\n",
      "115:\tlearn: 0.3514494\ttotal: 213ms\tremaining: 1.62s\n",
      "116:\tlearn: 0.3493413\ttotal: 214ms\tremaining: 1.61s\n",
      "117:\tlearn: 0.3469990\ttotal: 214ms\tremaining: 1.6s\n",
      "118:\tlearn: 0.3452923\ttotal: 216ms\tremaining: 1.59s\n",
      "119:\tlearn: 0.3432599\ttotal: 216ms\tremaining: 1.58s\n",
      "120:\tlearn: 0.3408549\ttotal: 219ms\tremaining: 1.59s\n",
      "121:\tlearn: 0.3389783\ttotal: 220ms\tremaining: 1.58s\n"
     ]
    },
    {
     "name": "stdout",
     "output_type": "stream",
     "text": [
      "122:\tlearn: 0.3370781\ttotal: 222ms\tremaining: 1.58s\n",
      "123:\tlearn: 0.3350248\ttotal: 223ms\tremaining: 1.58s\n",
      "124:\tlearn: 0.3327149\ttotal: 226ms\tremaining: 1.58s\n",
      "125:\tlearn: 0.3301305\ttotal: 228ms\tremaining: 1.58s\n",
      "126:\tlearn: 0.3281299\ttotal: 229ms\tremaining: 1.57s\n",
      "127:\tlearn: 0.3256856\ttotal: 229ms\tremaining: 1.56s\n",
      "128:\tlearn: 0.3239715\ttotal: 230ms\tremaining: 1.55s\n",
      "129:\tlearn: 0.3228322\ttotal: 231ms\tremaining: 1.54s\n",
      "130:\tlearn: 0.3207822\ttotal: 231ms\tremaining: 1.53s\n",
      "131:\tlearn: 0.3185348\ttotal: 232ms\tremaining: 1.52s\n",
      "132:\tlearn: 0.3167557\ttotal: 235ms\tremaining: 1.53s\n",
      "133:\tlearn: 0.3143495\ttotal: 235ms\tremaining: 1.52s\n",
      "134:\tlearn: 0.3123251\ttotal: 235ms\tremaining: 1.51s\n",
      "135:\tlearn: 0.3108504\ttotal: 240ms\tremaining: 1.53s\n",
      "136:\tlearn: 0.3090808\ttotal: 241ms\tremaining: 1.52s\n",
      "137:\tlearn: 0.3071857\ttotal: 241ms\tremaining: 1.51s\n",
      "138:\tlearn: 0.3051262\ttotal: 242ms\tremaining: 1.5s\n",
      "139:\tlearn: 0.3032341\ttotal: 243ms\tremaining: 1.49s\n",
      "140:\tlearn: 0.3013577\ttotal: 244ms\tremaining: 1.49s\n",
      "141:\tlearn: 0.2994570\ttotal: 244ms\tremaining: 1.48s\n",
      "142:\tlearn: 0.2977409\ttotal: 245ms\tremaining: 1.47s\n",
      "143:\tlearn: 0.2961889\ttotal: 245ms\tremaining: 1.46s\n",
      "144:\tlearn: 0.2944853\ttotal: 248ms\tremaining: 1.46s\n",
      "145:\tlearn: 0.2925977\ttotal: 249ms\tremaining: 1.46s\n",
      "146:\tlearn: 0.2911181\ttotal: 250ms\tremaining: 1.45s\n",
      "147:\tlearn: 0.2896338\ttotal: 250ms\tremaining: 1.44s\n",
      "148:\tlearn: 0.2879654\ttotal: 253ms\tremaining: 1.44s\n",
      "149:\tlearn: 0.2867028\ttotal: 254ms\tremaining: 1.44s\n",
      "150:\tlearn: 0.2848371\ttotal: 257ms\tremaining: 1.44s\n",
      "151:\tlearn: 0.2833914\ttotal: 257ms\tremaining: 1.43s\n",
      "152:\tlearn: 0.2821483\ttotal: 257ms\tremaining: 1.43s\n",
      "153:\tlearn: 0.2803487\ttotal: 258ms\tremaining: 1.42s\n",
      "154:\tlearn: 0.2788257\ttotal: 262ms\tremaining: 1.43s\n",
      "155:\tlearn: 0.2776421\ttotal: 263ms\tremaining: 1.43s\n",
      "156:\tlearn: 0.2762586\ttotal: 265ms\tremaining: 1.42s\n",
      "157:\tlearn: 0.2746287\ttotal: 266ms\tremaining: 1.42s\n",
      "158:\tlearn: 0.2731263\ttotal: 267ms\tremaining: 1.41s\n",
      "159:\tlearn: 0.2716724\ttotal: 267ms\tremaining: 1.4s\n",
      "160:\tlearn: 0.2706996\ttotal: 268ms\tremaining: 1.4s\n",
      "161:\tlearn: 0.2687507\ttotal: 268ms\tremaining: 1.39s\n",
      "162:\tlearn: 0.2671175\ttotal: 269ms\tremaining: 1.38s\n",
      "163:\tlearn: 0.2660187\ttotal: 273ms\tremaining: 1.39s\n",
      "164:\tlearn: 0.2644873\ttotal: 277ms\tremaining: 1.4s\n",
      "165:\tlearn: 0.2627094\ttotal: 277ms\tremaining: 1.39s\n",
      "166:\tlearn: 0.2610001\ttotal: 277ms\tremaining: 1.38s\n",
      "167:\tlearn: 0.2596683\ttotal: 278ms\tremaining: 1.38s\n",
      "168:\tlearn: 0.2576370\ttotal: 281ms\tremaining: 1.38s\n",
      "169:\tlearn: 0.2562043\ttotal: 282ms\tremaining: 1.38s\n",
      "170:\tlearn: 0.2545471\ttotal: 283ms\tremaining: 1.37s\n",
      "171:\tlearn: 0.2534224\ttotal: 284ms\tremaining: 1.37s\n",
      "172:\tlearn: 0.2525307\ttotal: 284ms\tremaining: 1.36s\n",
      "173:\tlearn: 0.2514826\ttotal: 285ms\tremaining: 1.35s\n",
      "174:\tlearn: 0.2506736\ttotal: 286ms\tremaining: 1.35s\n",
      "175:\tlearn: 0.2491244\ttotal: 286ms\tremaining: 1.34s\n",
      "176:\tlearn: 0.2478727\ttotal: 288ms\tremaining: 1.34s\n",
      "177:\tlearn: 0.2462984\ttotal: 288ms\tremaining: 1.33s\n",
      "178:\tlearn: 0.2449765\ttotal: 289ms\tremaining: 1.32s\n",
      "179:\tlearn: 0.2440434\ttotal: 289ms\tremaining: 1.32s\n",
      "180:\tlearn: 0.2428457\ttotal: 290ms\tremaining: 1.31s\n",
      "181:\tlearn: 0.2416458\ttotal: 291ms\tremaining: 1.3s\n",
      "182:\tlearn: 0.2403559\ttotal: 291ms\tremaining: 1.3s\n",
      "183:\tlearn: 0.2394109\ttotal: 292ms\tremaining: 1.29s\n",
      "184:\tlearn: 0.2383962\ttotal: 292ms\tremaining: 1.29s\n",
      "185:\tlearn: 0.2379749\ttotal: 292ms\tremaining: 1.28s\n",
      "186:\tlearn: 0.2367096\ttotal: 294ms\tremaining: 1.28s\n",
      "187:\tlearn: 0.2358252\ttotal: 294ms\tremaining: 1.27s\n",
      "188:\tlearn: 0.2348634\ttotal: 295ms\tremaining: 1.26s\n",
      "189:\tlearn: 0.2335282\ttotal: 298ms\tremaining: 1.27s\n",
      "190:\tlearn: 0.2328061\ttotal: 300ms\tremaining: 1.27s\n",
      "191:\tlearn: 0.2317968\ttotal: 301ms\tremaining: 1.26s\n",
      "192:\tlearn: 0.2308086\ttotal: 301ms\tremaining: 1.26s\n",
      "193:\tlearn: 0.2293776\ttotal: 304ms\tremaining: 1.26s\n",
      "194:\tlearn: 0.2282592\ttotal: 304ms\tremaining: 1.26s\n",
      "195:\tlearn: 0.2270950\ttotal: 305ms\tremaining: 1.25s\n",
      "196:\tlearn: 0.2259984\ttotal: 305ms\tremaining: 1.25s\n",
      "197:\tlearn: 0.2251577\ttotal: 306ms\tremaining: 1.24s\n",
      "198:\tlearn: 0.2235022\ttotal: 307ms\tremaining: 1.23s\n",
      "199:\tlearn: 0.2223081\ttotal: 309ms\tremaining: 1.24s\n",
      "200:\tlearn: 0.2208313\ttotal: 310ms\tremaining: 1.23s\n",
      "201:\tlearn: 0.2199755\ttotal: 310ms\tremaining: 1.23s\n",
      "202:\tlearn: 0.2187471\ttotal: 311ms\tremaining: 1.22s\n",
      "203:\tlearn: 0.2179029\ttotal: 314ms\tremaining: 1.22s\n",
      "204:\tlearn: 0.2172325\ttotal: 316ms\tremaining: 1.22s\n",
      "205:\tlearn: 0.2160664\ttotal: 317ms\tremaining: 1.22s\n",
      "206:\tlearn: 0.2148588\ttotal: 317ms\tremaining: 1.22s\n",
      "207:\tlearn: 0.2134386\ttotal: 318ms\tremaining: 1.21s\n",
      "208:\tlearn: 0.2128893\ttotal: 319ms\tremaining: 1.21s\n",
      "209:\tlearn: 0.2120109\ttotal: 319ms\tremaining: 1.2s\n",
      "210:\tlearn: 0.2105710\ttotal: 320ms\tremaining: 1.2s\n",
      "211:\tlearn: 0.2096554\ttotal: 322ms\tremaining: 1.2s\n",
      "212:\tlearn: 0.2083893\ttotal: 323ms\tremaining: 1.19s\n",
      "213:\tlearn: 0.2073269\ttotal: 327ms\tremaining: 1.2s\n",
      "214:\tlearn: 0.2066000\ttotal: 328ms\tremaining: 1.2s\n",
      "215:\tlearn: 0.2057350\ttotal: 328ms\tremaining: 1.19s\n",
      "216:\tlearn: 0.2045931\ttotal: 329ms\tremaining: 1.19s\n",
      "217:\tlearn: 0.2038915\ttotal: 329ms\tremaining: 1.18s\n",
      "218:\tlearn: 0.2029145\ttotal: 330ms\tremaining: 1.18s\n",
      "219:\tlearn: 0.2019933\ttotal: 331ms\tremaining: 1.18s\n",
      "220:\tlearn: 0.2011602\ttotal: 333ms\tremaining: 1.17s\n",
      "221:\tlearn: 0.2002749\ttotal: 334ms\tremaining: 1.17s\n",
      "222:\tlearn: 0.1996157\ttotal: 335ms\tremaining: 1.17s\n",
      "223:\tlearn: 0.1988453\ttotal: 335ms\tremaining: 1.16s\n",
      "224:\tlearn: 0.1979843\ttotal: 336ms\tremaining: 1.16s\n",
      "225:\tlearn: 0.1972076\ttotal: 337ms\tremaining: 1.16s\n",
      "226:\tlearn: 0.1963933\ttotal: 338ms\tremaining: 1.15s\n",
      "227:\tlearn: 0.1952219\ttotal: 339ms\tremaining: 1.15s\n"
     ]
    },
    {
     "name": "stdout",
     "output_type": "stream",
     "text": [
      "228:\tlearn: 0.1941644\ttotal: 405ms\tremaining: 1.36s\n",
      "229:\tlearn: 0.1935012\ttotal: 415ms\tremaining: 1.39s\n",
      "230:\tlearn: 0.1928099\ttotal: 415ms\tremaining: 1.38s\n",
      "231:\tlearn: 0.1917166\ttotal: 416ms\tremaining: 1.38s\n",
      "232:\tlearn: 0.1910452\ttotal: 416ms\tremaining: 1.37s\n",
      "233:\tlearn: 0.1901525\ttotal: 417ms\tremaining: 1.36s\n",
      "234:\tlearn: 0.1893581\ttotal: 417ms\tremaining: 1.36s\n",
      "235:\tlearn: 0.1887916\ttotal: 418ms\tremaining: 1.35s\n",
      "236:\tlearn: 0.1879766\ttotal: 419ms\tremaining: 1.35s\n",
      "237:\tlearn: 0.1871213\ttotal: 419ms\tremaining: 1.34s\n",
      "238:\tlearn: 0.1861957\ttotal: 420ms\tremaining: 1.34s\n",
      "239:\tlearn: 0.1853433\ttotal: 420ms\tremaining: 1.33s\n",
      "240:\tlearn: 0.1847911\ttotal: 421ms\tremaining: 1.32s\n",
      "241:\tlearn: 0.1842697\ttotal: 421ms\tremaining: 1.32s\n",
      "242:\tlearn: 0.1835193\ttotal: 433ms\tremaining: 1.35s\n",
      "243:\tlearn: 0.1828886\ttotal: 434ms\tremaining: 1.34s\n",
      "244:\tlearn: 0.1822338\ttotal: 434ms\tremaining: 1.34s\n",
      "245:\tlearn: 0.1810917\ttotal: 435ms\tremaining: 1.33s\n",
      "246:\tlearn: 0.1806938\ttotal: 435ms\tremaining: 1.33s\n",
      "247:\tlearn: 0.1800129\ttotal: 436ms\tremaining: 1.32s\n",
      "248:\tlearn: 0.1795494\ttotal: 436ms\tremaining: 1.32s\n",
      "249:\tlearn: 0.1789106\ttotal: 437ms\tremaining: 1.31s\n",
      "250:\tlearn: 0.1782390\ttotal: 438ms\tremaining: 1.3s\n",
      "251:\tlearn: 0.1775155\ttotal: 444ms\tremaining: 1.32s\n",
      "252:\tlearn: 0.1767999\ttotal: 444ms\tremaining: 1.31s\n",
      "253:\tlearn: 0.1761754\ttotal: 448ms\tremaining: 1.31s\n",
      "254:\tlearn: 0.1755246\ttotal: 448ms\tremaining: 1.31s\n",
      "255:\tlearn: 0.1747247\ttotal: 449ms\tremaining: 1.3s\n",
      "256:\tlearn: 0.1741374\ttotal: 449ms\tremaining: 1.3s\n",
      "257:\tlearn: 0.1736914\ttotal: 450ms\tremaining: 1.29s\n",
      "258:\tlearn: 0.1734352\ttotal: 450ms\tremaining: 1.29s\n",
      "259:\tlearn: 0.1727911\ttotal: 451ms\tremaining: 1.28s\n",
      "260:\tlearn: 0.1718250\ttotal: 455ms\tremaining: 1.29s\n",
      "261:\tlearn: 0.1709125\ttotal: 456ms\tremaining: 1.28s\n",
      "262:\tlearn: 0.1702526\ttotal: 456ms\tremaining: 1.28s\n",
      "263:\tlearn: 0.1692632\ttotal: 459ms\tremaining: 1.28s\n",
      "264:\tlearn: 0.1686181\ttotal: 461ms\tremaining: 1.28s\n",
      "265:\tlearn: 0.1680180\ttotal: 461ms\tremaining: 1.27s\n",
      "266:\tlearn: 0.1676126\ttotal: 463ms\tremaining: 1.27s\n",
      "267:\tlearn: 0.1670580\ttotal: 464ms\tremaining: 1.27s\n",
      "268:\tlearn: 0.1666401\ttotal: 464ms\tremaining: 1.26s\n",
      "269:\tlearn: 0.1663944\ttotal: 469ms\tremaining: 1.27s\n",
      "270:\tlearn: 0.1658471\ttotal: 470ms\tremaining: 1.26s\n",
      "271:\tlearn: 0.1653811\ttotal: 472ms\tremaining: 1.26s\n",
      "272:\tlearn: 0.1646816\ttotal: 472ms\tremaining: 1.26s\n",
      "273:\tlearn: 0.1639735\ttotal: 473ms\tremaining: 1.25s\n",
      "274:\tlearn: 0.1633077\ttotal: 474ms\tremaining: 1.25s\n",
      "275:\tlearn: 0.1629880\ttotal: 474ms\tremaining: 1.24s\n",
      "276:\tlearn: 0.1622396\ttotal: 475ms\tremaining: 1.24s\n",
      "277:\tlearn: 0.1616044\ttotal: 476ms\tremaining: 1.24s\n",
      "278:\tlearn: 0.1614016\ttotal: 477ms\tremaining: 1.23s\n",
      "279:\tlearn: 0.1606790\ttotal: 478ms\tremaining: 1.23s\n",
      "280:\tlearn: 0.1599521\ttotal: 480ms\tremaining: 1.23s\n",
      "281:\tlearn: 0.1594571\ttotal: 481ms\tremaining: 1.23s\n",
      "282:\tlearn: 0.1588102\ttotal: 483ms\tremaining: 1.22s\n",
      "283:\tlearn: 0.1585411\ttotal: 487ms\tremaining: 1.23s\n",
      "284:\tlearn: 0.1582808\ttotal: 493ms\tremaining: 1.24s\n",
      "285:\tlearn: 0.1576246\ttotal: 494ms\tremaining: 1.23s\n",
      "286:\tlearn: 0.1569662\ttotal: 495ms\tremaining: 1.23s\n",
      "287:\tlearn: 0.1563257\ttotal: 496ms\tremaining: 1.23s\n",
      "288:\tlearn: 0.1561329\ttotal: 496ms\tremaining: 1.22s\n",
      "289:\tlearn: 0.1555842\ttotal: 497ms\tremaining: 1.22s\n",
      "290:\tlearn: 0.1551455\ttotal: 501ms\tremaining: 1.22s\n",
      "291:\tlearn: 0.1549512\ttotal: 503ms\tremaining: 1.22s\n",
      "292:\tlearn: 0.1543474\ttotal: 504ms\tremaining: 1.22s\n",
      "293:\tlearn: 0.1541622\ttotal: 505ms\tremaining: 1.21s\n",
      "294:\tlearn: 0.1535892\ttotal: 505ms\tremaining: 1.21s\n",
      "295:\tlearn: 0.1529811\ttotal: 505ms\tremaining: 1.2s\n"
     ]
    },
    {
     "name": "stdout",
     "output_type": "stream",
     "text": [
      "296:\tlearn: 0.1526229\ttotal: 508ms\tremaining: 1.2s\n",
      "297:\tlearn: 0.1520461\ttotal: 515ms\tremaining: 1.21s\n",
      "298:\tlearn: 0.1514582\ttotal: 630ms\tremaining: 1.48s\n",
      "299:\tlearn: 0.1509318\ttotal: 631ms\tremaining: 1.47s\n",
      "300:\tlearn: 0.1504416\ttotal: 631ms\tremaining: 1.47s\n",
      "301:\tlearn: 0.1499337\ttotal: 632ms\tremaining: 1.46s\n",
      "302:\tlearn: 0.1494446\ttotal: 632ms\tremaining: 1.45s\n",
      "303:\tlearn: 0.1491577\ttotal: 633ms\tremaining: 1.45s\n",
      "304:\tlearn: 0.1489033\ttotal: 633ms\tremaining: 1.44s\n",
      "305:\tlearn: 0.1486091\ttotal: 633ms\tremaining: 1.44s\n",
      "306:\tlearn: 0.1480794\ttotal: 634ms\tremaining: 1.43s\n",
      "307:\tlearn: 0.1476963\ttotal: 634ms\tremaining: 1.43s\n",
      "308:\tlearn: 0.1474212\ttotal: 635ms\tremaining: 1.42s\n",
      "309:\tlearn: 0.1469657\ttotal: 635ms\tremaining: 1.41s\n",
      "310:\tlearn: 0.1464987\ttotal: 636ms\tremaining: 1.41s\n",
      "311:\tlearn: 0.1462291\ttotal: 636ms\tremaining: 1.4s\n",
      "312:\tlearn: 0.1459642\ttotal: 637ms\tremaining: 1.4s\n",
      "313:\tlearn: 0.1457031\ttotal: 637ms\tremaining: 1.39s\n",
      "314:\tlearn: 0.1451990\ttotal: 642ms\tremaining: 1.4s\n",
      "315:\tlearn: 0.1444866\ttotal: 642ms\tremaining: 1.39s\n",
      "316:\tlearn: 0.1441539\ttotal: 643ms\tremaining: 1.38s\n",
      "317:\tlearn: 0.1437088\ttotal: 643ms\tremaining: 1.38s\n",
      "318:\tlearn: 0.1433838\ttotal: 644ms\tremaining: 1.37s\n",
      "319:\tlearn: 0.1429698\ttotal: 644ms\tremaining: 1.37s\n",
      "320:\tlearn: 0.1424877\ttotal: 645ms\tremaining: 1.36s\n",
      "321:\tlearn: 0.1423193\ttotal: 645ms\tremaining: 1.36s\n",
      "322:\tlearn: 0.1416424\ttotal: 647ms\tremaining: 1.35s\n",
      "323:\tlearn: 0.1413946\ttotal: 647ms\tremaining: 1.35s\n",
      "324:\tlearn: 0.1411511\ttotal: 647ms\tremaining: 1.34s\n",
      "325:\tlearn: 0.1408205\ttotal: 648ms\tremaining: 1.34s\n",
      "326:\tlearn: 0.1401692\ttotal: 648ms\tremaining: 1.33s\n",
      "327:\tlearn: 0.1399839\ttotal: 649ms\tremaining: 1.33s\n"
     ]
    },
    {
     "name": "stdout",
     "output_type": "stream",
     "text": [
      "328:\tlearn: 0.1398303\ttotal: 654ms\tremaining: 1.33s\n",
      "329:\tlearn: 0.1396105\ttotal: 655ms\tremaining: 1.33s\n",
      "330:\tlearn: 0.1389826\ttotal: 655ms\tremaining: 1.32s\n",
      "331:\tlearn: 0.1388154\ttotal: 663ms\tremaining: 1.33s\n",
      "332:\tlearn: 0.1386762\ttotal: 663ms\tremaining: 1.33s\n",
      "333:\tlearn: 0.1384562\ttotal: 664ms\tremaining: 1.32s\n",
      "334:\tlearn: 0.1381201\ttotal: 665ms\tremaining: 1.32s\n",
      "335:\tlearn: 0.1378942\ttotal: 665ms\tremaining: 1.31s\n",
      "336:\tlearn: 0.1376150\ttotal: 666ms\tremaining: 1.31s\n",
      "337:\tlearn: 0.1374600\ttotal: 667ms\tremaining: 1.3s\n",
      "338:\tlearn: 0.1370091\ttotal: 668ms\tremaining: 1.3s\n",
      "339:\tlearn: 0.1365677\ttotal: 669ms\tremaining: 1.3s\n",
      "340:\tlearn: 0.1363856\ttotal: 671ms\tremaining: 1.3s\n",
      "341:\tlearn: 0.1357955\ttotal: 672ms\tremaining: 1.29s\n",
      "342:\tlearn: 0.1355271\ttotal: 673ms\tremaining: 1.29s\n",
      "343:\tlearn: 0.1351102\ttotal: 674ms\tremaining: 1.28s\n",
      "344:\tlearn: 0.1349786\ttotal: 675ms\tremaining: 1.28s\n",
      "345:\tlearn: 0.1347679\ttotal: 675ms\tremaining: 1.28s\n",
      "346:\tlearn: 0.1345951\ttotal: 676ms\tremaining: 1.27s\n",
      "347:\tlearn: 0.1343361\ttotal: 680ms\tremaining: 1.27s\n",
      "348:\tlearn: 0.1342116\ttotal: 680ms\tremaining: 1.27s\n",
      "349:\tlearn: 0.1337867\ttotal: 681ms\tremaining: 1.26s\n",
      "350:\tlearn: 0.1336405\ttotal: 681ms\tremaining: 1.26s\n",
      "351:\tlearn: 0.1335067\ttotal: 682ms\tremaining: 1.26s\n",
      "352:\tlearn: 0.1330925\ttotal: 683ms\tremaining: 1.25s\n",
      "353:\tlearn: 0.1329314\ttotal: 683ms\tremaining: 1.25s\n",
      "354:\tlearn: 0.1325655\ttotal: 684ms\tremaining: 1.24s\n",
      "355:\tlearn: 0.1321678\ttotal: 685ms\tremaining: 1.24s\n",
      "356:\tlearn: 0.1320099\ttotal: 685ms\tremaining: 1.23s\n",
      "357:\tlearn: 0.1316550\ttotal: 686ms\tremaining: 1.23s\n",
      "358:\tlearn: 0.1315005\ttotal: 691ms\tremaining: 1.23s\n",
      "359:\tlearn: 0.1313902\ttotal: 692ms\tremaining: 1.23s\n",
      "360:\tlearn: 0.1310434\ttotal: 694ms\tremaining: 1.23s\n",
      "361:\tlearn: 0.1306575\ttotal: 696ms\tremaining: 1.23s\n",
      "362:\tlearn: 0.1300656\ttotal: 697ms\tremaining: 1.22s\n",
      "363:\tlearn: 0.1294877\ttotal: 698ms\tremaining: 1.22s\n",
      "364:\tlearn: 0.1293413\ttotal: 700ms\tremaining: 1.22s\n",
      "365:\tlearn: 0.1291253\ttotal: 701ms\tremaining: 1.21s\n",
      "366:\tlearn: 0.1285652\ttotal: 702ms\tremaining: 1.21s\n",
      "367:\tlearn: 0.1280184\ttotal: 704ms\tremaining: 1.21s\n",
      "368:\tlearn: 0.1278754\ttotal: 707ms\tremaining: 1.21s\n",
      "369:\tlearn: 0.1274903\ttotal: 708ms\tremaining: 1.21s\n",
      "370:\tlearn: 0.1271269\ttotal: 709ms\tremaining: 1.2s\n",
      "371:\tlearn: 0.1266183\ttotal: 709ms\tremaining: 1.2s\n",
      "372:\tlearn: 0.1260912\ttotal: 711ms\tremaining: 1.19s\n",
      "373:\tlearn: 0.1259234\ttotal: 712ms\tremaining: 1.19s\n",
      "374:\tlearn: 0.1257599\ttotal: 713ms\tremaining: 1.19s\n",
      "375:\tlearn: 0.1256261\ttotal: 715ms\tremaining: 1.19s\n",
      "376:\tlearn: 0.1251122\ttotal: 717ms\tremaining: 1.19s\n",
      "377:\tlearn: 0.1249541\ttotal: 719ms\tremaining: 1.18s\n",
      "378:\tlearn: 0.1246187\ttotal: 720ms\tremaining: 1.18s\n",
      "379:\tlearn: 0.1242906\ttotal: 724ms\tremaining: 1.18s\n",
      "380:\tlearn: 0.1241999\ttotal: 726ms\tremaining: 1.18s\n",
      "381:\tlearn: 0.1240476\ttotal: 727ms\tremaining: 1.18s\n",
      "382:\tlearn: 0.1239077\ttotal: 730ms\tremaining: 1.18s\n",
      "383:\tlearn: 0.1236656\ttotal: 731ms\tremaining: 1.17s\n",
      "384:\tlearn: 0.1233100\ttotal: 733ms\tremaining: 1.17s\n",
      "385:\tlearn: 0.1230706\ttotal: 733ms\tremaining: 1.17s\n",
      "386:\tlearn: 0.1227242\ttotal: 734ms\tremaining: 1.16s\n",
      "387:\tlearn: 0.1224873\ttotal: 735ms\tremaining: 1.16s\n",
      "388:\tlearn: 0.1221500\ttotal: 736ms\tremaining: 1.16s\n",
      "389:\tlearn: 0.1220134\ttotal: 739ms\tremaining: 1.16s\n",
      "390:\tlearn: 0.1216871\ttotal: 740ms\tremaining: 1.15s\n",
      "391:\tlearn: 0.1212324\ttotal: 740ms\tremaining: 1.15s\n",
      "392:\tlearn: 0.1207437\ttotal: 741ms\tremaining: 1.14s\n",
      "393:\tlearn: 0.1205121\ttotal: 743ms\tremaining: 1.14s\n",
      "394:\tlearn: 0.1200734\ttotal: 748ms\tremaining: 1.15s\n",
      "395:\tlearn: 0.1198470\ttotal: 752ms\tremaining: 1.15s\n"
     ]
    },
    {
     "name": "stdout",
     "output_type": "stream",
     "text": [
      "396:\tlearn: 0.1191819\ttotal: 854ms\tremaining: 1.3s\n",
      "397:\tlearn: 0.1188641\ttotal: 854ms\tremaining: 1.29s\n",
      "398:\tlearn: 0.1186425\ttotal: 855ms\tremaining: 1.29s\n",
      "399:\tlearn: 0.1182215\ttotal: 858ms\tremaining: 1.29s\n",
      "400:\tlearn: 0.1177448\ttotal: 859ms\tremaining: 1.28s\n",
      "401:\tlearn: 0.1175301\ttotal: 861ms\tremaining: 1.28s\n",
      "402:\tlearn: 0.1171982\ttotal: 862ms\tremaining: 1.28s\n",
      "403:\tlearn: 0.1167319\ttotal: 864ms\tremaining: 1.27s\n",
      "404:\tlearn: 0.1165223\ttotal: 868ms\tremaining: 1.27s\n",
      "405:\tlearn: 0.1163155\ttotal: 870ms\tremaining: 1.27s\n",
      "406:\tlearn: 0.1158611\ttotal: 877ms\tremaining: 1.28s\n",
      "407:\tlearn: 0.1156589\ttotal: 877ms\tremaining: 1.27s\n",
      "408:\tlearn: 0.1150835\ttotal: 878ms\tremaining: 1.27s\n",
      "409:\tlearn: 0.1144568\ttotal: 879ms\tremaining: 1.26s\n",
      "410:\tlearn: 0.1141765\ttotal: 879ms\tremaining: 1.26s\n",
      "411:\tlearn: 0.1138762\ttotal: 880ms\tremaining: 1.25s\n",
      "412:\tlearn: 0.1134934\ttotal: 880ms\tremaining: 1.25s\n",
      "413:\tlearn: 0.1131798\ttotal: 883ms\tremaining: 1.25s\n",
      "414:\tlearn: 0.1125745\ttotal: 885ms\tremaining: 1.25s\n",
      "415:\tlearn: 0.1121450\ttotal: 886ms\tremaining: 1.24s\n",
      "416:\tlearn: 0.1118740\ttotal: 889ms\tremaining: 1.24s\n",
      "417:\tlearn: 0.1115290\ttotal: 892ms\tremaining: 1.24s\n",
      "418:\tlearn: 0.1112650\ttotal: 893ms\tremaining: 1.24s\n",
      "419:\tlearn: 0.1109294\ttotal: 894ms\tremaining: 1.23s\n",
      "420:\tlearn: 0.1106721\ttotal: 895ms\tremaining: 1.23s\n",
      "421:\tlearn: 0.1103408\ttotal: 895ms\tremaining: 1.23s\n",
      "422:\tlearn: 0.1100897\ttotal: 896ms\tremaining: 1.22s\n",
      "423:\tlearn: 0.1097650\ttotal: 898ms\tremaining: 1.22s\n",
      "424:\tlearn: 0.1095202\ttotal: 901ms\tremaining: 1.22s\n",
      "425:\tlearn: 0.1092149\ttotal: 902ms\tremaining: 1.21s\n",
      "426:\tlearn: 0.1089751\ttotal: 902ms\tremaining: 1.21s\n",
      "427:\tlearn: 0.1086739\ttotal: 903ms\tremaining: 1.21s\n",
      "428:\tlearn: 0.1084399\ttotal: 905ms\tremaining: 1.21s\n",
      "429:\tlearn: 0.1080848\ttotal: 908ms\tremaining: 1.2s\n",
      "430:\tlearn: 0.1077663\ttotal: 909ms\tremaining: 1.2s\n",
      "431:\tlearn: 0.1075373\ttotal: 910ms\tremaining: 1.2s\n",
      "432:\tlearn: 0.1072252\ttotal: 914ms\tremaining: 1.2s\n",
      "433:\tlearn: 0.1070020\ttotal: 918ms\tremaining: 1.2s\n",
      "434:\tlearn: 0.1066774\ttotal: 920ms\tremaining: 1.2s\n",
      "435:\tlearn: 0.1063743\ttotal: 922ms\tremaining: 1.19s\n",
      "436:\tlearn: 0.1060489\ttotal: 923ms\tremaining: 1.19s\n",
      "437:\tlearn: 0.1058341\ttotal: 924ms\tremaining: 1.19s\n",
      "438:\tlearn: 0.1055142\ttotal: 929ms\tremaining: 1.19s\n",
      "439:\tlearn: 0.1053044\ttotal: 929ms\tremaining: 1.18s\n",
      "440:\tlearn: 0.1049887\ttotal: 930ms\tremaining: 1.18s\n",
      "441:\tlearn: 0.1046771\ttotal: 931ms\tremaining: 1.18s\n",
      "442:\tlearn: 0.1043486\ttotal: 935ms\tremaining: 1.17s\n",
      "443:\tlearn: 0.1040203\ttotal: 935ms\tremaining: 1.17s\n",
      "444:\tlearn: 0.1037019\ttotal: 936ms\tremaining: 1.17s\n",
      "445:\tlearn: 0.1033929\ttotal: 937ms\tremaining: 1.16s\n",
      "446:\tlearn: 0.1031036\ttotal: 941ms\tremaining: 1.16s\n",
      "447:\tlearn: 0.1028217\ttotal: 942ms\tremaining: 1.16s\n",
      "448:\tlearn: 0.1025468\ttotal: 942ms\tremaining: 1.16s\n",
      "449:\tlearn: 0.1023412\ttotal: 943ms\tremaining: 1.15s\n",
      "450:\tlearn: 0.1018533\ttotal: 943ms\tremaining: 1.15s\n",
      "451:\tlearn: 0.1015865\ttotal: 944ms\tremaining: 1.14s\n",
      "452:\tlearn: 0.1012866\ttotal: 944ms\tremaining: 1.14s\n",
      "453:\tlearn: 0.1008118\ttotal: 945ms\tremaining: 1.14s\n",
      "454:\tlearn: 0.1003474\ttotal: 946ms\tremaining: 1.13s\n",
      "455:\tlearn: 0.1001466\ttotal: 946ms\tremaining: 1.13s\n",
      "456:\tlearn: 0.0999513\ttotal: 947ms\tremaining: 1.12s\n",
      "457:\tlearn: 0.0997612\ttotal: 947ms\tremaining: 1.12s\n",
      "458:\tlearn: 0.0993089\ttotal: 948ms\tremaining: 1.12s\n",
      "459:\tlearn: 0.0991245\ttotal: 949ms\tremaining: 1.11s\n"
     ]
    },
    {
     "name": "stdout",
     "output_type": "stream",
     "text": [
      "460:\tlearn: 0.0989449\ttotal: 949ms\tremaining: 1.11s\n",
      "461:\tlearn: 0.0987702\ttotal: 952ms\tremaining: 1.11s\n",
      "462:\tlearn: 0.0985105\ttotal: 952ms\tremaining: 1.1s\n",
      "463:\tlearn: 0.0982270\ttotal: 953ms\tremaining: 1.1s\n",
      "464:\tlearn: 0.0980581\ttotal: 955ms\tremaining: 1.1s\n",
      "465:\tlearn: 0.0978687\ttotal: 957ms\tremaining: 1.1s\n",
      "466:\tlearn: 0.0974338\ttotal: 958ms\tremaining: 1.09s\n",
      "467:\tlearn: 0.0973095\ttotal: 960ms\tremaining: 1.09s\n",
      "468:\tlearn: 0.0970375\ttotal: 963ms\tremaining: 1.09s\n",
      "469:\tlearn: 0.0966125\ttotal: 963ms\tremaining: 1.09s\n",
      "470:\tlearn: 0.0964518\ttotal: 964ms\tremaining: 1.08s\n",
      "471:\tlearn: 0.0961896\ttotal: 964ms\tremaining: 1.08s\n",
      "472:\tlearn: 0.0959420\ttotal: 965ms\tremaining: 1.07s\n",
      "473:\tlearn: 0.0958382\ttotal: 965ms\tremaining: 1.07s\n",
      "474:\tlearn: 0.0955936\ttotal: 966ms\tremaining: 1.07s\n",
      "475:\tlearn: 0.0951827\ttotal: 966ms\tremaining: 1.06s\n",
      "476:\tlearn: 0.0949426\ttotal: 967ms\tremaining: 1.06s\n",
      "477:\tlearn: 0.0945900\ttotal: 967ms\tremaining: 1.06s\n",
      "478:\tlearn: 0.0943295\ttotal: 968ms\tremaining: 1.05s\n",
      "479:\tlearn: 0.0940823\ttotal: 968ms\tremaining: 1.05s\n",
      "480:\tlearn: 0.0939818\ttotal: 970ms\tremaining: 1.05s\n",
      "481:\tlearn: 0.0938834\ttotal: 970ms\tremaining: 1.04s\n",
      "482:\tlearn: 0.0935452\ttotal: 971ms\tremaining: 1.04s\n",
      "483:\tlearn: 0.0932944\ttotal: 971ms\tremaining: 1.03s\n",
      "484:\tlearn: 0.0930494\ttotal: 972ms\tremaining: 1.03s\n",
      "485:\tlearn: 0.0929544\ttotal: 972ms\tremaining: 1.03s\n",
      "486:\tlearn: 0.0927153\ttotal: 973ms\tremaining: 1.02s\n",
      "487:\tlearn: 0.0926009\ttotal: 975ms\tremaining: 1.02s\n",
      "488:\tlearn: 0.0925087\ttotal: 976ms\tremaining: 1.02s\n",
      "489:\tlearn: 0.0922751\ttotal: 977ms\tremaining: 1.02s\n",
      "490:\tlearn: 0.0918455\ttotal: 979ms\tremaining: 1.01s\n",
      "491:\tlearn: 0.0914742\ttotal: 980ms\tremaining: 1.01s\n",
      "492:\tlearn: 0.0911090\ttotal: 980ms\tremaining: 1.01s\n",
      "493:\tlearn: 0.0907500\ttotal: 982ms\tremaining: 1.01s\n",
      "494:\tlearn: 0.0903047\ttotal: 983ms\tremaining: 1s\n",
      "495:\tlearn: 0.0899540\ttotal: 983ms\tremaining: 999ms\n",
      "496:\tlearn: 0.0895179\ttotal: 1s\tremaining: 1.02s\n"
     ]
    },
    {
     "name": "stdout",
     "output_type": "stream",
     "text": [
      "497:\tlearn: 0.0890478\ttotal: 1.02s\tremaining: 1.03s\n",
      "498:\tlearn: 0.0887078\ttotal: 1.02s\tremaining: 1.02s\n",
      "499:\tlearn: 0.0884550\ttotal: 1.02s\tremaining: 1.02s\n",
      "500:\tlearn: 0.0880196\ttotal: 1.02s\tremaining: 1.02s\n",
      "501:\tlearn: 0.0876038\ttotal: 1.02s\tremaining: 1.02s\n",
      "502:\tlearn: 0.0873589\ttotal: 1.02s\tremaining: 1.01s\n",
      "503:\tlearn: 0.0871200\ttotal: 1.03s\tremaining: 1.01s\n",
      "504:\tlearn: 0.0868749\ttotal: 1.03s\tremaining: 1.01s\n",
      "505:\tlearn: 0.0865294\ttotal: 1.03s\tremaining: 1s\n",
      "506:\tlearn: 0.0861242\ttotal: 1.03s\tremaining: 999ms\n",
      "507:\tlearn: 0.0857856\ttotal: 1.04s\tremaining: 1s\n",
      "508:\tlearn: 0.0854518\ttotal: 1.04s\tremaining: 1s\n",
      "509:\tlearn: 0.0852242\ttotal: 1.04s\tremaining: 1000ms\n",
      "510:\tlearn: 0.0848295\ttotal: 1.04s\tremaining: 1000ms\n",
      "511:\tlearn: 0.0845038\ttotal: 1.04s\tremaining: 997ms\n",
      "512:\tlearn: 0.0841828\ttotal: 1.05s\tremaining: 994ms\n",
      "513:\tlearn: 0.0838664\ttotal: 1.05s\tremaining: 991ms\n",
      "514:\tlearn: 0.0834832\ttotal: 1.05s\tremaining: 989ms\n",
      "515:\tlearn: 0.0831731\ttotal: 1.05s\tremaining: 987ms\n",
      "516:\tlearn: 0.0829032\ttotal: 1.05s\tremaining: 984ms\n",
      "517:\tlearn: 0.0825231\ttotal: 1.05s\tremaining: 981ms\n",
      "518:\tlearn: 0.0821303\ttotal: 1.06s\tremaining: 979ms\n",
      "519:\tlearn: 0.0817574\ttotal: 1.06s\tremaining: 976ms\n",
      "520:\tlearn: 0.0813752\ttotal: 1.06s\tremaining: 973ms\n",
      "521:\tlearn: 0.0810093\ttotal: 1.06s\tremaining: 970ms\n",
      "522:\tlearn: 0.0806373\ttotal: 1.06s\tremaining: 966ms\n",
      "523:\tlearn: 0.0802783\ttotal: 1.06s\tremaining: 963ms\n",
      "524:\tlearn: 0.0799163\ttotal: 1.06s\tremaining: 960ms\n",
      "525:\tlearn: 0.0795641\ttotal: 1.06s\tremaining: 956ms\n",
      "526:\tlearn: 0.0792118\ttotal: 1.06s\tremaining: 953ms\n",
      "527:\tlearn: 0.0788662\ttotal: 1.06s\tremaining: 950ms\n",
      "528:\tlearn: 0.0785443\ttotal: 1.06s\tremaining: 946ms\n",
      "529:\tlearn: 0.0782022\ttotal: 1.06s\tremaining: 943ms\n",
      "530:\tlearn: 0.0779756\ttotal: 1.06s\tremaining: 940ms\n",
      "531:\tlearn: 0.0776607\ttotal: 1.06s\tremaining: 936ms\n",
      "532:\tlearn: 0.0773286\ttotal: 1.07s\tremaining: 934ms\n",
      "533:\tlearn: 0.0770192\ttotal: 1.07s\tremaining: 932ms\n",
      "534:\tlearn: 0.0766958\ttotal: 1.07s\tremaining: 928ms\n",
      "535:\tlearn: 0.0764757\ttotal: 1.07s\tremaining: 930ms\n",
      "536:\tlearn: 0.0761720\ttotal: 1.08s\tremaining: 930ms\n",
      "537:\tlearn: 0.0758571\ttotal: 1.08s\tremaining: 927ms\n",
      "538:\tlearn: 0.0755967\ttotal: 1.08s\tremaining: 925ms\n",
      "539:\tlearn: 0.0752990\ttotal: 1.08s\tremaining: 923ms\n",
      "540:\tlearn: 0.0749922\ttotal: 1.08s\tremaining: 920ms\n",
      "541:\tlearn: 0.0747955\ttotal: 1.08s\tremaining: 917ms\n",
      "542:\tlearn: 0.0746394\ttotal: 1.08s\tremaining: 913ms\n",
      "543:\tlearn: 0.0743135\ttotal: 1.09s\tremaining: 911ms\n",
      "544:\tlearn: 0.0740609\ttotal: 1.09s\tremaining: 908ms\n",
      "545:\tlearn: 0.0736625\ttotal: 1.09s\tremaining: 906ms\n",
      "546:\tlearn: 0.0734290\ttotal: 1.09s\tremaining: 902ms\n",
      "547:\tlearn: 0.0732006\ttotal: 1.09s\tremaining: 899ms\n",
      "548:\tlearn: 0.0728850\ttotal: 1.09s\tremaining: 897ms\n",
      "549:\tlearn: 0.0727200\ttotal: 1.09s\tremaining: 894ms\n",
      "550:\tlearn: 0.0725686\ttotal: 1.09s\tremaining: 892ms\n",
      "551:\tlearn: 0.0722584\ttotal: 1.09s\tremaining: 889ms\n",
      "552:\tlearn: 0.0720988\ttotal: 1.09s\tremaining: 886ms\n",
      "553:\tlearn: 0.0718676\ttotal: 1.1s\tremaining: 883ms\n",
      "554:\tlearn: 0.0716696\ttotal: 1.1s\tremaining: 880ms\n",
      "555:\tlearn: 0.0714497\ttotal: 1.1s\tremaining: 878ms\n",
      "556:\tlearn: 0.0712953\ttotal: 1.12s\tremaining: 889ms\n"
     ]
    },
    {
     "name": "stdout",
     "output_type": "stream",
     "text": [
      "557:\tlearn: 0.0712251\ttotal: 1.14s\tremaining: 902ms\n",
      "558:\tlearn: 0.0708454\ttotal: 1.14s\tremaining: 902ms\n",
      "559:\tlearn: 0.0704742\ttotal: 1.14s\tremaining: 899ms\n",
      "560:\tlearn: 0.0703299\ttotal: 1.15s\tremaining: 896ms\n",
      "561:\tlearn: 0.0699299\ttotal: 1.15s\tremaining: 894ms\n",
      "562:\tlearn: 0.0697887\ttotal: 1.15s\tremaining: 891ms\n",
      "563:\tlearn: 0.0695744\ttotal: 1.15s\tremaining: 888ms\n",
      "564:\tlearn: 0.0694357\ttotal: 1.15s\tremaining: 886ms\n",
      "565:\tlearn: 0.0691635\ttotal: 1.15s\tremaining: 883ms\n",
      "566:\tlearn: 0.0687815\ttotal: 1.15s\tremaining: 880ms\n",
      "567:\tlearn: 0.0686457\ttotal: 1.15s\tremaining: 877ms\n",
      "568:\tlearn: 0.0684365\ttotal: 1.15s\tremaining: 874ms\n",
      "569:\tlearn: 0.0681717\ttotal: 1.15s\tremaining: 871ms\n",
      "570:\tlearn: 0.0680802\ttotal: 1.16s\tremaining: 868ms\n",
      "571:\tlearn: 0.0678742\ttotal: 1.16s\tremaining: 865ms\n",
      "572:\tlearn: 0.0678081\ttotal: 1.16s\tremaining: 862ms\n",
      "573:\tlearn: 0.0676051\ttotal: 1.21s\tremaining: 894ms\n",
      "574:\tlearn: 0.0672899\ttotal: 1.21s\tremaining: 891ms\n",
      "575:\tlearn: 0.0671568\ttotal: 1.21s\tremaining: 888ms\n",
      "576:\tlearn: 0.0668987\ttotal: 1.21s\tremaining: 885ms\n",
      "577:\tlearn: 0.0667006\ttotal: 1.21s\tremaining: 887ms\n",
      "578:\tlearn: 0.0665698\ttotal: 1.22s\tremaining: 884ms\n",
      "579:\tlearn: 0.0664964\ttotal: 1.22s\tremaining: 880ms\n",
      "580:\tlearn: 0.0662122\ttotal: 1.22s\tremaining: 880ms\n",
      "581:\tlearn: 0.0660839\ttotal: 1.22s\tremaining: 877ms\n",
      "582:\tlearn: 0.0658895\ttotal: 1.22s\tremaining: 874ms\n",
      "583:\tlearn: 0.0657974\ttotal: 1.22s\tremaining: 871ms\n",
      "584:\tlearn: 0.0654793\ttotal: 1.22s\tremaining: 868ms\n",
      "585:\tlearn: 0.0651877\ttotal: 1.22s\tremaining: 865ms\n",
      "586:\tlearn: 0.0650632\ttotal: 1.23s\tremaining: 863ms\n",
      "587:\tlearn: 0.0647888\ttotal: 1.23s\tremaining: 860ms\n",
      "588:\tlearn: 0.0646202\ttotal: 1.23s\tremaining: 857ms\n",
      "589:\tlearn: 0.0642604\ttotal: 1.23s\tremaining: 854ms\n",
      "590:\tlearn: 0.0640123\ttotal: 1.23s\tremaining: 851ms\n",
      "591:\tlearn: 0.0637312\ttotal: 1.23s\tremaining: 848ms\n",
      "592:\tlearn: 0.0635634\ttotal: 1.23s\tremaining: 845ms\n",
      "593:\tlearn: 0.0632774\ttotal: 1.23s\tremaining: 842ms\n",
      "594:\tlearn: 0.0629316\ttotal: 1.23s\tremaining: 839ms\n",
      "595:\tlearn: 0.0628098\ttotal: 1.24s\tremaining: 837ms\n",
      "596:\tlearn: 0.0625366\ttotal: 1.24s\tremaining: 834ms\n",
      "597:\tlearn: 0.0623763\ttotal: 1.24s\tremaining: 831ms\n",
      "598:\tlearn: 0.0621061\ttotal: 1.24s\tremaining: 828ms\n",
      "599:\tlearn: 0.0618278\ttotal: 1.24s\tremaining: 827ms\n",
      "600:\tlearn: 0.0617889\ttotal: 1.24s\tremaining: 825ms\n",
      "601:\tlearn: 0.0616034\ttotal: 1.24s\tremaining: 822ms\n",
      "602:\tlearn: 0.0615649\ttotal: 1.26s\tremaining: 830ms\n",
      "603:\tlearn: 0.0611961\ttotal: 1.27s\tremaining: 834ms\n",
      "604:\tlearn: 0.0610806\ttotal: 1.27s\tremaining: 831ms\n",
      "605:\tlearn: 0.0606889\ttotal: 1.28s\tremaining: 830ms\n",
      "606:\tlearn: 0.0606491\ttotal: 1.28s\tremaining: 828ms\n",
      "607:\tlearn: 0.0602673\ttotal: 1.28s\tremaining: 825ms\n",
      "608:\tlearn: 0.0600177\ttotal: 1.28s\tremaining: 823ms\n",
      "609:\tlearn: 0.0599071\ttotal: 1.28s\tremaining: 820ms\n",
      "610:\tlearn: 0.0598680\ttotal: 1.28s\tremaining: 817ms\n"
     ]
    },
    {
     "name": "stdout",
     "output_type": "stream",
     "text": [
      "611:\tlearn: 0.0596226\ttotal: 1.29s\tremaining: 819ms\n",
      "612:\tlearn: 0.0594072\ttotal: 1.29s\tremaining: 816ms\n",
      "613:\tlearn: 0.0590393\ttotal: 1.29s\tremaining: 813ms\n",
      "614:\tlearn: 0.0588102\ttotal: 1.29s\tremaining: 810ms\n",
      "615:\tlearn: 0.0584525\ttotal: 1.29s\tremaining: 807ms\n",
      "616:\tlearn: 0.0584149\ttotal: 1.3s\tremaining: 806ms\n",
      "617:\tlearn: 0.0583082\ttotal: 1.3s\tremaining: 803ms\n",
      "618:\tlearn: 0.0581077\ttotal: 1.3s\tremaining: 800ms\n",
      "619:\tlearn: 0.0579107\ttotal: 1.3s\tremaining: 797ms\n",
      "620:\tlearn: 0.0577169\ttotal: 1.3s\tremaining: 794ms\n",
      "621:\tlearn: 0.0575265\ttotal: 1.3s\tremaining: 791ms\n",
      "622:\tlearn: 0.0574892\ttotal: 1.3s\tremaining: 788ms\n",
      "623:\tlearn: 0.0573020\ttotal: 1.3s\tremaining: 784ms\n",
      "624:\tlearn: 0.0571180\ttotal: 1.3s\tremaining: 781ms\n",
      "625:\tlearn: 0.0569370\ttotal: 1.3s\tremaining: 778ms\n",
      "626:\tlearn: 0.0569001\ttotal: 1.3s\tremaining: 775ms\n",
      "627:\tlearn: 0.0567222\ttotal: 1.3s\tremaining: 772ms\n",
      "628:\tlearn: 0.0564797\ttotal: 1.3s\tremaining: 769ms\n",
      "629:\tlearn: 0.0564433\ttotal: 1.3s\tremaining: 766ms\n",
      "630:\tlearn: 0.0561170\ttotal: 1.3s\tremaining: 763ms\n",
      "631:\tlearn: 0.0557988\ttotal: 1.3s\tremaining: 760ms\n",
      "632:\tlearn: 0.0555270\ttotal: 1.31s\tremaining: 757ms\n",
      "633:\tlearn: 0.0553591\ttotal: 1.31s\tremaining: 755ms\n",
      "634:\tlearn: 0.0553141\ttotal: 1.31s\tremaining: 752ms\n",
      "635:\tlearn: 0.0551489\ttotal: 1.31s\tremaining: 750ms\n",
      "636:\tlearn: 0.0549865\ttotal: 1.31s\tremaining: 747ms\n",
      "637:\tlearn: 0.0549419\ttotal: 1.31s\tremaining: 744ms\n",
      "638:\tlearn: 0.0546779\ttotal: 1.31s\tremaining: 741ms\n",
      "639:\tlearn: 0.0545187\ttotal: 1.31s\tremaining: 738ms\n",
      "640:\tlearn: 0.0542994\ttotal: 1.31s\tremaining: 735ms\n",
      "641:\tlearn: 0.0541456\ttotal: 1.31s\tremaining: 733ms\n",
      "642:\tlearn: 0.0540969\ttotal: 1.32s\tremaining: 731ms\n",
      "643:\tlearn: 0.0539454\ttotal: 1.32s\tremaining: 728ms\n",
      "644:\tlearn: 0.0537956\ttotal: 1.32s\tremaining: 726ms\n",
      "645:\tlearn: 0.0537475\ttotal: 1.32s\tremaining: 723ms\n",
      "646:\tlearn: 0.0534903\ttotal: 1.32s\tremaining: 720ms\n",
      "647:\tlearn: 0.0534431\ttotal: 1.32s\tremaining: 718ms\n"
     ]
    },
    {
     "name": "stdout",
     "output_type": "stream",
     "text": [
      "648:\tlearn: 0.0531904\ttotal: 1.38s\tremaining: 747ms\n",
      "649:\tlearn: 0.0530862\ttotal: 1.38s\tremaining: 744ms\n",
      "650:\tlearn: 0.0530398\ttotal: 1.38s\tremaining: 741ms\n",
      "651:\tlearn: 0.0526955\ttotal: 1.38s\tremaining: 738ms\n",
      "652:\tlearn: 0.0525505\ttotal: 1.38s\tremaining: 736ms\n",
      "653:\tlearn: 0.0524007\ttotal: 1.39s\tremaining: 733ms\n",
      "654:\tlearn: 0.0521829\ttotal: 1.39s\tremaining: 731ms\n",
      "655:\tlearn: 0.0518489\ttotal: 1.39s\tremaining: 729ms\n",
      "656:\tlearn: 0.0517272\ttotal: 1.39s\tremaining: 726ms\n",
      "657:\tlearn: 0.0515892\ttotal: 1.39s\tremaining: 723ms\n",
      "658:\tlearn: 0.0514705\ttotal: 1.39s\tremaining: 720ms\n",
      "659:\tlearn: 0.0513359\ttotal: 1.39s\tremaining: 719ms\n",
      "660:\tlearn: 0.0510111\ttotal: 1.4s\tremaining: 716ms\n",
      "661:\tlearn: 0.0508955\ttotal: 1.4s\tremaining: 714ms\n",
      "662:\tlearn: 0.0506920\ttotal: 1.4s\tremaining: 712ms\n",
      "663:\tlearn: 0.0505295\ttotal: 1.4s\tremaining: 710ms\n",
      "664:\tlearn: 0.0503318\ttotal: 1.4s\tremaining: 708ms\n",
      "665:\tlearn: 0.0502307\ttotal: 1.41s\tremaining: 705ms\n",
      "666:\tlearn: 0.0499905\ttotal: 1.41s\tremaining: 703ms\n",
      "667:\tlearn: 0.0498464\ttotal: 1.41s\tremaining: 701ms\n",
      "668:\tlearn: 0.0498060\ttotal: 1.41s\tremaining: 698ms\n",
      "669:\tlearn: 0.0496510\ttotal: 1.41s\tremaining: 695ms\n",
      "670:\tlearn: 0.0496111\ttotal: 1.41s\tremaining: 693ms\n",
      "671:\tlearn: 0.0493779\ttotal: 1.41s\tremaining: 690ms\n",
      "672:\tlearn: 0.0492374\ttotal: 1.42s\tremaining: 688ms\n",
      "673:\tlearn: 0.0491983\ttotal: 1.42s\tremaining: 685ms\n",
      "674:\tlearn: 0.0490601\ttotal: 1.42s\tremaining: 682ms\n",
      "675:\tlearn: 0.0490288\ttotal: 1.42s\tremaining: 679ms\n",
      "676:\tlearn: 0.0488343\ttotal: 1.42s\tremaining: 677ms\n",
      "677:\tlearn: 0.0487961\ttotal: 1.42s\tremaining: 674ms\n",
      "678:\tlearn: 0.0486987\ttotal: 1.42s\tremaining: 671ms\n",
      "679:\tlearn: 0.0486682\ttotal: 1.42s\tremaining: 668ms\n",
      "680:\tlearn: 0.0483801\ttotal: 1.42s\tremaining: 666ms\n",
      "681:\tlearn: 0.0483428\ttotal: 1.42s\tremaining: 663ms\n",
      "682:\tlearn: 0.0481694\ttotal: 1.42s\tremaining: 661ms\n",
      "683:\tlearn: 0.0481324\ttotal: 1.43s\tremaining: 659ms\n",
      "684:\tlearn: 0.0479850\ttotal: 1.43s\tremaining: 656ms\n",
      "685:\tlearn: 0.0478148\ttotal: 1.43s\tremaining: 654ms\n",
      "686:\tlearn: 0.0477852\ttotal: 1.43s\tremaining: 651ms\n",
      "687:\tlearn: 0.0476420\ttotal: 1.43s\tremaining: 649ms\n",
      "688:\tlearn: 0.0476127\ttotal: 1.43s\tremaining: 646ms\n",
      "689:\tlearn: 0.0474284\ttotal: 1.43s\tremaining: 643ms\n",
      "690:\tlearn: 0.0473997\ttotal: 1.43s\tremaining: 641ms\n",
      "691:\tlearn: 0.0471836\ttotal: 1.43s\tremaining: 638ms\n",
      "692:\tlearn: 0.0469791\ttotal: 1.43s\tremaining: 635ms\n",
      "693:\tlearn: 0.0467073\ttotal: 1.43s\tremaining: 633ms\n",
      "694:\tlearn: 0.0466673\ttotal: 1.44s\tremaining: 630ms\n",
      "695:\tlearn: 0.0465371\ttotal: 1.44s\tremaining: 627ms\n",
      "696:\tlearn: 0.0465020\ttotal: 1.44s\tremaining: 625ms\n",
      "697:\tlearn: 0.0463252\ttotal: 1.44s\tremaining: 623ms\n",
      "698:\tlearn: 0.0462864\ttotal: 1.51s\tremaining: 649ms\n",
      "699:\tlearn: 0.0461495\ttotal: 1.51s\tremaining: 647ms\n"
     ]
    },
    {
     "name": "stdout",
     "output_type": "stream",
     "text": [
      "700:\tlearn: 0.0459904\ttotal: 1.54s\tremaining: 659ms\n",
      "701:\tlearn: 0.0459632\ttotal: 1.54s\tremaining: 656ms\n",
      "702:\tlearn: 0.0459363\ttotal: 1.55s\tremaining: 654ms\n",
      "703:\tlearn: 0.0457759\ttotal: 1.55s\tremaining: 651ms\n",
      "704:\tlearn: 0.0457493\ttotal: 1.55s\tremaining: 648ms\n",
      "705:\tlearn: 0.0455465\ttotal: 1.55s\tremaining: 647ms\n",
      "706:\tlearn: 0.0453499\ttotal: 1.55s\tremaining: 644ms\n",
      "707:\tlearn: 0.0451831\ttotal: 1.55s\tremaining: 641ms\n",
      "708:\tlearn: 0.0451498\ttotal: 1.6s\tremaining: 659ms\n",
      "709:\tlearn: 0.0449860\ttotal: 1.6s\tremaining: 656ms\n",
      "710:\tlearn: 0.0448632\ttotal: 1.61s\tremaining: 653ms\n",
      "711:\tlearn: 0.0448373\ttotal: 1.61s\tremaining: 650ms\n",
      "712:\tlearn: 0.0448117\ttotal: 1.61s\tremaining: 647ms\n",
      "713:\tlearn: 0.0446246\ttotal: 1.61s\tremaining: 644ms\n",
      "714:\tlearn: 0.0445047\ttotal: 1.61s\tremaining: 641ms\n",
      "715:\tlearn: 0.0444794\ttotal: 1.61s\tremaining: 639ms\n",
      "716:\tlearn: 0.0443108\ttotal: 1.61s\tremaining: 636ms\n",
      "717:\tlearn: 0.0442858\ttotal: 1.61s\tremaining: 633ms\n",
      "718:\tlearn: 0.0442542\ttotal: 1.61s\tremaining: 630ms\n",
      "719:\tlearn: 0.0440718\ttotal: 1.61s\tremaining: 627ms\n",
      "720:\tlearn: 0.0439552\ttotal: 1.61s\tremaining: 624ms\n",
      "721:\tlearn: 0.0439308\ttotal: 1.61s\tremaining: 621ms\n",
      "722:\tlearn: 0.0437797\ttotal: 1.61s\tremaining: 619ms\n",
      "723:\tlearn: 0.0437555\ttotal: 1.61s\tremaining: 616ms\n",
      "724:\tlearn: 0.0435500\ttotal: 1.62s\tremaining: 613ms\n",
      "725:\tlearn: 0.0434322\ttotal: 1.62s\tremaining: 610ms\n",
      "726:\tlearn: 0.0432442\ttotal: 1.62s\tremaining: 608ms\n",
      "727:\tlearn: 0.0431288\ttotal: 1.62s\tremaining: 605ms\n",
      "728:\tlearn: 0.0428567\ttotal: 1.62s\tremaining: 602ms\n",
      "729:\tlearn: 0.0427078\ttotal: 1.62s\tremaining: 599ms\n",
      "730:\tlearn: 0.0425962\ttotal: 1.62s\tremaining: 597ms\n",
      "731:\tlearn: 0.0424249\ttotal: 1.62s\tremaining: 594ms\n",
      "732:\tlearn: 0.0423233\ttotal: 1.62s\tremaining: 591ms\n",
      "733:\tlearn: 0.0422405\ttotal: 1.62s\tremaining: 588ms\n",
      "734:\tlearn: 0.0421406\ttotal: 1.62s\tremaining: 585ms\n",
      "735:\tlearn: 0.0420423\ttotal: 1.62s\tremaining: 583ms\n",
      "736:\tlearn: 0.0418537\ttotal: 1.63s\tremaining: 580ms\n",
      "737:\tlearn: 0.0417426\ttotal: 1.63s\tremaining: 577ms\n",
      "738:\tlearn: 0.0416334\ttotal: 1.63s\tremaining: 575ms\n",
      "739:\tlearn: 0.0414509\ttotal: 1.63s\tremaining: 572ms\n",
      "740:\tlearn: 0.0413442\ttotal: 1.63s\tremaining: 569ms\n",
      "741:\tlearn: 0.0412636\ttotal: 1.63s\tremaining: 566ms\n",
      "742:\tlearn: 0.0410867\ttotal: 1.63s\tremaining: 564ms\n",
      "743:\tlearn: 0.0409824\ttotal: 1.63s\tremaining: 562ms\n",
      "744:\tlearn: 0.0407753\ttotal: 1.64s\tremaining: 560ms\n",
      "745:\tlearn: 0.0406732\ttotal: 1.64s\tremaining: 558ms\n",
      "746:\tlearn: 0.0405943\ttotal: 1.64s\tremaining: 555ms\n",
      "747:\tlearn: 0.0404936\ttotal: 1.64s\tremaining: 553ms\n",
      "748:\tlearn: 0.0404158\ttotal: 1.64s\tremaining: 551ms\n",
      "749:\tlearn: 0.0402326\ttotal: 1.65s\tremaining: 548ms\n",
      "750:\tlearn: 0.0401549\ttotal: 1.65s\tremaining: 546ms\n",
      "751:\tlearn: 0.0400559\ttotal: 1.65s\tremaining: 543ms\n",
      "752:\tlearn: 0.0399792\ttotal: 1.65s\tremaining: 540ms\n",
      "753:\tlearn: 0.0399037\ttotal: 1.65s\tremaining: 538ms\n",
      "754:\tlearn: 0.0398057\ttotal: 1.65s\tremaining: 536ms\n",
      "755:\tlearn: 0.0397312\ttotal: 1.65s\tremaining: 533ms\n",
      "756:\tlearn: 0.0396352\ttotal: 1.65s\tremaining: 531ms\n",
      "757:\tlearn: 0.0394786\ttotal: 1.66s\tremaining: 528ms\n",
      "758:\tlearn: 0.0393817\ttotal: 1.66s\tremaining: 526ms\n"
     ]
    },
    {
     "name": "stdout",
     "output_type": "stream",
     "text": [
      "759:\tlearn: 0.0393087\ttotal: 1.66s\tremaining: 524ms\n",
      "760:\tlearn: 0.0392131\ttotal: 1.66s\tremaining: 522ms\n",
      "761:\tlearn: 0.0391410\ttotal: 1.66s\tremaining: 519ms\n",
      "762:\tlearn: 0.0389660\ttotal: 1.66s\tremaining: 516ms\n",
      "763:\tlearn: 0.0388951\ttotal: 1.66s\tremaining: 514ms\n",
      "764:\tlearn: 0.0388010\ttotal: 1.66s\tremaining: 511ms\n",
      "765:\tlearn: 0.0387309\ttotal: 1.66s\tremaining: 508ms\n",
      "766:\tlearn: 0.0386371\ttotal: 1.67s\tremaining: 507ms\n",
      "767:\tlearn: 0.0385447\ttotal: 1.67s\tremaining: 504ms\n",
      "768:\tlearn: 0.0384045\ttotal: 1.67s\tremaining: 502ms\n",
      "769:\tlearn: 0.0383119\ttotal: 1.67s\tremaining: 499ms\n",
      "770:\tlearn: 0.0382434\ttotal: 1.67s\tremaining: 496ms\n",
      "771:\tlearn: 0.0380934\ttotal: 1.67s\tremaining: 494ms\n",
      "772:\tlearn: 0.0380020\ttotal: 1.67s\tremaining: 491ms\n",
      "773:\tlearn: 0.0379346\ttotal: 1.67s\tremaining: 488ms\n",
      "774:\tlearn: 0.0378683\ttotal: 1.67s\tremaining: 486ms\n",
      "775:\tlearn: 0.0377778\ttotal: 1.67s\tremaining: 483ms\n",
      "776:\tlearn: 0.0376318\ttotal: 1.67s\tremaining: 480ms\n",
      "777:\tlearn: 0.0375154\ttotal: 1.67s\tremaining: 478ms\n",
      "778:\tlearn: 0.0374502\ttotal: 1.68s\tremaining: 475ms\n",
      "779:\tlearn: 0.0373252\ttotal: 1.68s\tremaining: 473ms\n",
      "780:\tlearn: 0.0372026\ttotal: 1.68s\tremaining: 470ms\n",
      "781:\tlearn: 0.0370781\ttotal: 1.69s\tremaining: 471ms\n",
      "782:\tlearn: 0.0369867\ttotal: 1.69s\tremaining: 468ms\n",
      "783:\tlearn: 0.0368971\ttotal: 1.69s\tremaining: 466ms\n",
      "784:\tlearn: 0.0367836\ttotal: 1.69s\tremaining: 463ms\n",
      "785:\tlearn: 0.0365614\ttotal: 1.69s\tremaining: 460ms\n",
      "786:\tlearn: 0.0364740\ttotal: 1.69s\tremaining: 458ms\n",
      "787:\tlearn: 0.0363323\ttotal: 1.69s\tremaining: 456ms\n",
      "788:\tlearn: 0.0361164\ttotal: 1.7s\tremaining: 453ms\n",
      "789:\tlearn: 0.0359895\ttotal: 1.7s\tremaining: 451ms\n",
      "790:\tlearn: 0.0358592\ttotal: 1.7s\tremaining: 448ms\n",
      "791:\tlearn: 0.0356497\ttotal: 1.7s\tremaining: 446ms\n",
      "792:\tlearn: 0.0355272\ttotal: 1.7s\tremaining: 443ms\n",
      "793:\tlearn: 0.0354426\ttotal: 1.7s\tremaining: 441ms\n",
      "794:\tlearn: 0.0352394\ttotal: 1.7s\tremaining: 438ms\n",
      "795:\tlearn: 0.0350911\ttotal: 1.7s\tremaining: 436ms\n",
      "796:\tlearn: 0.0350087\ttotal: 1.7s\tremaining: 434ms\n",
      "797:\tlearn: 0.0349577\ttotal: 1.7s\tremaining: 431ms\n",
      "798:\tlearn: 0.0348404\ttotal: 1.7s\tremaining: 429ms\n",
      "799:\tlearn: 0.0347081\ttotal: 1.71s\tremaining: 428ms\n",
      "800:\tlearn: 0.0346278\ttotal: 1.71s\tremaining: 425ms\n",
      "801:\tlearn: 0.0345779\ttotal: 1.71s\tremaining: 423ms\n",
      "802:\tlearn: 0.0344349\ttotal: 1.71s\tremaining: 420ms\n",
      "803:\tlearn: 0.0343562\ttotal: 1.72s\tremaining: 419ms\n",
      "804:\tlearn: 0.0342059\ttotal: 1.72s\tremaining: 417ms\n",
      "805:\tlearn: 0.0341568\ttotal: 1.72s\tremaining: 414ms\n",
      "806:\tlearn: 0.0340593\ttotal: 1.72s\tremaining: 412ms\n",
      "807:\tlearn: 0.0339124\ttotal: 1.72s\tremaining: 409ms\n",
      "808:\tlearn: 0.0338643\ttotal: 1.72s\tremaining: 407ms\n",
      "809:\tlearn: 0.0337846\ttotal: 1.72s\tremaining: 404ms\n",
      "810:\tlearn: 0.0337374\ttotal: 1.72s\tremaining: 402ms\n",
      "811:\tlearn: 0.0336421\ttotal: 1.72s\tremaining: 399ms\n",
      "812:\tlearn: 0.0334986\ttotal: 1.72s\tremaining: 397ms\n",
      "813:\tlearn: 0.0334207\ttotal: 1.72s\tremaining: 394ms\n",
      "814:\tlearn: 0.0333443\ttotal: 1.73s\tremaining: 392ms\n",
      "815:\tlearn: 0.0332139\ttotal: 1.73s\tremaining: 389ms\n",
      "816:\tlearn: 0.0331603\ttotal: 1.73s\tremaining: 387ms\n",
      "817:\tlearn: 0.0330329\ttotal: 1.73s\tremaining: 384ms\n",
      "818:\tlearn: 0.0329803\ttotal: 1.73s\tremaining: 382ms\n",
      "819:\tlearn: 0.0329069\ttotal: 1.73s\tremaining: 379ms\n",
      "820:\tlearn: 0.0327741\ttotal: 1.73s\tremaining: 377ms\n",
      "821:\tlearn: 0.0326452\ttotal: 1.73s\tremaining: 374ms\n",
      "822:\tlearn: 0.0325148\ttotal: 1.73s\tremaining: 372ms\n",
      "823:\tlearn: 0.0323900\ttotal: 1.73s\tremaining: 369ms\n",
      "824:\tlearn: 0.0322689\ttotal: 1.73s\tremaining: 367ms\n",
      "825:\tlearn: 0.0321513\ttotal: 1.73s\tremaining: 365ms\n",
      "826:\tlearn: 0.0320372\ttotal: 1.73s\tremaining: 362ms\n",
      "827:\tlearn: 0.0319110\ttotal: 1.73s\tremaining: 360ms\n",
      "828:\tlearn: 0.0318005\ttotal: 1.73s\tremaining: 357ms\n",
      "829:\tlearn: 0.0316966\ttotal: 1.73s\tremaining: 355ms\n",
      "830:\tlearn: 0.0315899\ttotal: 1.73s\tremaining: 353ms\n",
      "831:\tlearn: 0.0314891\ttotal: 1.74s\tremaining: 351ms\n",
      "832:\tlearn: 0.0313910\ttotal: 1.74s\tremaining: 349ms\n",
      "833:\tlearn: 0.0312884\ttotal: 1.74s\tremaining: 346ms\n",
      "834:\tlearn: 0.0311932\ttotal: 1.74s\tremaining: 344ms\n",
      "835:\tlearn: 0.0311004\ttotal: 1.74s\tremaining: 342ms\n",
      "836:\tlearn: 0.0310100\ttotal: 1.74s\tremaining: 339ms\n",
      "837:\tlearn: 0.0309117\ttotal: 1.74s\tremaining: 337ms\n",
      "838:\tlearn: 0.0308157\ttotal: 1.74s\tremaining: 334ms\n",
      "839:\tlearn: 0.0307297\ttotal: 1.74s\tremaining: 332ms\n",
      "840:\tlearn: 0.0306386\ttotal: 1.74s\tremaining: 330ms\n",
      "841:\tlearn: 0.0305411\ttotal: 1.74s\tremaining: 327ms\n",
      "842:\tlearn: 0.0304498\ttotal: 1.74s\tremaining: 325ms\n",
      "843:\tlearn: 0.0303539\ttotal: 1.75s\tremaining: 323ms\n",
      "844:\tlearn: 0.0302596\ttotal: 1.75s\tremaining: 320ms\n",
      "845:\tlearn: 0.0301719\ttotal: 1.75s\tremaining: 318ms\n",
      "846:\tlearn: 0.0300899\ttotal: 1.75s\tremaining: 315ms\n",
      "847:\tlearn: 0.0299974\ttotal: 1.75s\tremaining: 313ms\n",
      "848:\tlearn: 0.0299121\ttotal: 1.75s\tremaining: 311ms\n",
      "849:\tlearn: 0.0298322\ttotal: 1.75s\tremaining: 309ms\n",
      "850:\tlearn: 0.0297416\ttotal: 1.75s\tremaining: 307ms\n",
      "851:\tlearn: 0.0296524\ttotal: 1.75s\tremaining: 304ms\n",
      "852:\tlearn: 0.0295697\ttotal: 1.75s\tremaining: 302ms\n"
     ]
    },
    {
     "name": "stdout",
     "output_type": "stream",
     "text": [
      "853:\tlearn: 0.0294919\ttotal: 1.76s\tremaining: 301ms\n",
      "854:\tlearn: 0.0294045\ttotal: 1.76s\tremaining: 298ms\n",
      "855:\tlearn: 0.0293241\ttotal: 1.76s\tremaining: 296ms\n",
      "856:\tlearn: 0.0292824\ttotal: 1.76s\tremaining: 294ms\n",
      "857:\tlearn: 0.0291967\ttotal: 1.76s\tremaining: 292ms\n",
      "858:\tlearn: 0.0290918\ttotal: 1.76s\tremaining: 290ms\n",
      "859:\tlearn: 0.0289667\ttotal: 1.76s\tremaining: 287ms\n",
      "860:\tlearn: 0.0288841\ttotal: 1.76s\tremaining: 285ms\n",
      "861:\tlearn: 0.0287497\ttotal: 1.77s\tremaining: 283ms\n",
      "862:\tlearn: 0.0287103\ttotal: 1.77s\tremaining: 281ms\n",
      "863:\tlearn: 0.0285916\ttotal: 1.77s\tremaining: 278ms\n",
      "864:\tlearn: 0.0284617\ttotal: 1.77s\tremaining: 276ms\n",
      "865:\tlearn: 0.0283963\ttotal: 1.77s\tremaining: 274ms\n",
      "866:\tlearn: 0.0283581\ttotal: 1.77s\tremaining: 272ms\n",
      "867:\tlearn: 0.0282737\ttotal: 1.77s\tremaining: 269ms\n",
      "868:\tlearn: 0.0281716\ttotal: 1.77s\tremaining: 267ms\n",
      "869:\tlearn: 0.0280547\ttotal: 1.77s\tremaining: 265ms\n",
      "870:\tlearn: 0.0279564\ttotal: 1.77s\tremaining: 263ms\n",
      "871:\tlearn: 0.0278564\ttotal: 1.77s\tremaining: 261ms\n",
      "872:\tlearn: 0.0278130\ttotal: 1.77s\tremaining: 258ms\n",
      "873:\tlearn: 0.0277007\ttotal: 1.78s\tremaining: 256ms\n",
      "874:\tlearn: 0.0275909\ttotal: 1.78s\tremaining: 254ms\n",
      "875:\tlearn: 0.0275472\ttotal: 1.78s\tremaining: 252ms\n",
      "876:\tlearn: 0.0275044\ttotal: 1.78s\tremaining: 250ms\n",
      "877:\tlearn: 0.0274068\ttotal: 1.78s\tremaining: 248ms\n",
      "878:\tlearn: 0.0273109\ttotal: 1.78s\tremaining: 245ms\n",
      "879:\tlearn: 0.0272098\ttotal: 1.78s\tremaining: 243ms\n",
      "880:\tlearn: 0.0271146\ttotal: 1.78s\tremaining: 241ms\n",
      "881:\tlearn: 0.0270207\ttotal: 1.78s\tremaining: 239ms\n",
      "882:\tlearn: 0.0269285\ttotal: 1.78s\tremaining: 237ms\n",
      "883:\tlearn: 0.0268205\ttotal: 1.79s\tremaining: 235ms\n",
      "884:\tlearn: 0.0267281\ttotal: 1.79s\tremaining: 232ms\n",
      "885:\tlearn: 0.0266378\ttotal: 1.79s\tremaining: 230ms\n",
      "886:\tlearn: 0.0265493\ttotal: 1.79s\tremaining: 228ms\n",
      "887:\tlearn: 0.0264527\ttotal: 1.79s\tremaining: 226ms\n",
      "888:\tlearn: 0.0263800\ttotal: 1.79s\tremaining: 224ms\n",
      "889:\tlearn: 0.0262932\ttotal: 1.79s\tremaining: 222ms\n",
      "890:\tlearn: 0.0262691\ttotal: 1.79s\tremaining: 220ms\n",
      "891:\tlearn: 0.0262456\ttotal: 1.79s\tremaining: 217ms\n",
      "892:\tlearn: 0.0261603\ttotal: 1.8s\tremaining: 215ms\n",
      "893:\tlearn: 0.0261207\ttotal: 1.8s\tremaining: 213ms\n",
      "894:\tlearn: 0.0260316\ttotal: 1.8s\tremaining: 211ms\n",
      "895:\tlearn: 0.0259481\ttotal: 1.8s\tremaining: 209ms\n",
      "896:\tlearn: 0.0259252\ttotal: 1.8s\tremaining: 207ms\n",
      "897:\tlearn: 0.0258872\ttotal: 1.8s\tremaining: 205ms\n",
      "898:\tlearn: 0.0257935\ttotal: 1.8s\tremaining: 202ms\n",
      "899:\tlearn: 0.0257070\ttotal: 1.8s\tremaining: 200ms\n",
      "900:\tlearn: 0.0256251\ttotal: 1.8s\tremaining: 198ms\n",
      "901:\tlearn: 0.0255421\ttotal: 1.8s\tremaining: 196ms\n",
      "902:\tlearn: 0.0255168\ttotal: 1.8s\tremaining: 194ms\n",
      "903:\tlearn: 0.0254326\ttotal: 1.81s\tremaining: 192ms\n",
      "904:\tlearn: 0.0253427\ttotal: 1.81s\tremaining: 190ms\n",
      "905:\tlearn: 0.0252425\ttotal: 1.81s\tremaining: 188ms\n",
      "906:\tlearn: 0.0251407\ttotal: 1.81s\tremaining: 185ms\n",
      "907:\tlearn: 0.0251103\ttotal: 1.81s\tremaining: 183ms\n",
      "908:\tlearn: 0.0250128\ttotal: 1.81s\tremaining: 181ms\n",
      "909:\tlearn: 0.0249138\ttotal: 1.81s\tremaining: 179ms\n",
      "910:\tlearn: 0.0248838\ttotal: 1.81s\tremaining: 177ms\n",
      "911:\tlearn: 0.0247827\ttotal: 1.81s\tremaining: 175ms\n",
      "912:\tlearn: 0.0246809\ttotal: 1.81s\tremaining: 173ms\n",
      "913:\tlearn: 0.0246009\ttotal: 1.81s\tremaining: 171ms\n",
      "914:\tlearn: 0.0245218\ttotal: 1.81s\tremaining: 169ms\n",
      "915:\tlearn: 0.0244663\ttotal: 1.82s\tremaining: 167ms\n",
      "916:\tlearn: 0.0243554\ttotal: 1.82s\tremaining: 164ms\n",
      "917:\tlearn: 0.0242797\ttotal: 1.82s\tremaining: 162ms\n",
      "918:\tlearn: 0.0242263\ttotal: 1.82s\tremaining: 160ms\n",
      "919:\tlearn: 0.0241185\ttotal: 1.82s\tremaining: 158ms\n",
      "920:\tlearn: 0.0240670\ttotal: 1.82s\tremaining: 156ms\n",
      "921:\tlearn: 0.0239797\ttotal: 1.82s\tremaining: 154ms\n",
      "922:\tlearn: 0.0239151\ttotal: 1.82s\tremaining: 152ms\n",
      "923:\tlearn: 0.0237978\ttotal: 1.82s\tremaining: 150ms\n",
      "924:\tlearn: 0.0237435\ttotal: 1.82s\tremaining: 148ms\n",
      "925:\tlearn: 0.0237041\ttotal: 1.83s\tremaining: 146ms\n",
      "926:\tlearn: 0.0236283\ttotal: 1.83s\tremaining: 144ms\n",
      "927:\tlearn: 0.0235536\ttotal: 1.83s\tremaining: 142ms\n",
      "928:\tlearn: 0.0234800\ttotal: 1.83s\tremaining: 140ms\n",
      "929:\tlearn: 0.0234282\ttotal: 1.83s\tremaining: 138ms\n",
      "930:\tlearn: 0.0233774\ttotal: 1.83s\tremaining: 136ms\n",
      "931:\tlearn: 0.0233278\ttotal: 1.83s\tremaining: 134ms\n",
      "932:\tlearn: 0.0232560\ttotal: 1.83s\tremaining: 131ms\n",
      "933:\tlearn: 0.0232079\ttotal: 1.83s\tremaining: 129ms\n",
      "934:\tlearn: 0.0231232\ttotal: 1.83s\tremaining: 128ms\n",
      "935:\tlearn: 0.0230219\ttotal: 1.83s\tremaining: 125ms\n",
      "936:\tlearn: 0.0229358\ttotal: 1.84s\tremaining: 124ms\n",
      "937:\tlearn: 0.0228867\ttotal: 1.84s\tremaining: 122ms\n",
      "938:\tlearn: 0.0228393\ttotal: 1.84s\tremaining: 120ms\n",
      "939:\tlearn: 0.0227411\ttotal: 1.84s\tremaining: 118ms\n",
      "940:\tlearn: 0.0227030\ttotal: 1.85s\tremaining: 116ms\n",
      "941:\tlearn: 0.0226187\ttotal: 1.85s\tremaining: 114ms\n",
      "942:\tlearn: 0.0225872\ttotal: 1.85s\tremaining: 112ms\n",
      "943:\tlearn: 0.0224579\ttotal: 1.85s\tremaining: 110ms\n",
      "944:\tlearn: 0.0224116\ttotal: 1.85s\tremaining: 108ms\n",
      "945:\tlearn: 0.0223590\ttotal: 1.85s\tremaining: 106ms\n",
      "946:\tlearn: 0.0222922\ttotal: 1.86s\tremaining: 104ms\n",
      "947:\tlearn: 0.0222477\ttotal: 1.86s\tremaining: 102ms\n",
      "948:\tlearn: 0.0221970\ttotal: 1.86s\tremaining: 99.9ms\n",
      "949:\tlearn: 0.0221491\ttotal: 1.86s\tremaining: 98.1ms\n",
      "950:\tlearn: 0.0220674\ttotal: 1.86s\tremaining: 96.1ms\n",
      "951:\tlearn: 0.0219878\ttotal: 1.87s\tremaining: 94.2ms\n",
      "952:\tlearn: 0.0219387\ttotal: 1.87s\tremaining: 92.1ms\n",
      "953:\tlearn: 0.0218611\ttotal: 1.87s\tremaining: 90.1ms\n",
      "954:\tlearn: 0.0218272\ttotal: 1.87s\tremaining: 88.1ms\n",
      "955:\tlearn: 0.0217747\ttotal: 1.87s\tremaining: 86.1ms\n",
      "956:\tlearn: 0.0216583\ttotal: 1.87s\tremaining: 84ms\n"
     ]
    },
    {
     "name": "stdout",
     "output_type": "stream",
     "text": [
      "957:\tlearn: 0.0216141\ttotal: 1.88s\tremaining: 82.4ms\n",
      "958:\tlearn: 0.0215129\ttotal: 1.89s\tremaining: 80.9ms\n",
      "959:\tlearn: 0.0214675\ttotal: 1.91s\tremaining: 79.4ms\n",
      "960:\tlearn: 0.0214342\ttotal: 1.91s\tremaining: 77.4ms\n",
      "961:\tlearn: 0.0213715\ttotal: 1.91s\tremaining: 75.3ms\n",
      "962:\tlearn: 0.0212964\ttotal: 1.91s\tremaining: 73.3ms\n",
      "963:\tlearn: 0.0212353\ttotal: 1.91s\tremaining: 71.2ms\n",
      "964:\tlearn: 0.0211621\ttotal: 1.91s\tremaining: 69.3ms\n",
      "965:\tlearn: 0.0210852\ttotal: 1.91s\tremaining: 67.2ms\n",
      "966:\tlearn: 0.0209885\ttotal: 1.91s\tremaining: 65.2ms\n",
      "967:\tlearn: 0.0209304\ttotal: 1.91s\tremaining: 63.2ms\n",
      "968:\tlearn: 0.0208618\ttotal: 1.91s\tremaining: 61.2ms\n",
      "969:\tlearn: 0.0208052\ttotal: 1.91s\tremaining: 59.2ms\n",
      "970:\tlearn: 0.0207594\ttotal: 1.91s\tremaining: 57.2ms\n",
      "971:\tlearn: 0.0207158\ttotal: 1.91s\tremaining: 55.1ms\n",
      "972:\tlearn: 0.0206488\ttotal: 1.91s\tremaining: 53.1ms\n",
      "973:\tlearn: 0.0205977\ttotal: 1.92s\tremaining: 51.1ms\n",
      "974:\tlearn: 0.0205588\ttotal: 1.92s\tremaining: 49.1ms\n",
      "975:\tlearn: 0.0204865\ttotal: 1.92s\tremaining: 47.1ms\n",
      "976:\tlearn: 0.0204347\ttotal: 1.92s\tremaining: 45.1ms\n",
      "977:\tlearn: 0.0203696\ttotal: 1.92s\tremaining: 43.1ms\n",
      "978:\tlearn: 0.0203382\ttotal: 1.92s\tremaining: 41.2ms\n",
      "979:\tlearn: 0.0202740\ttotal: 1.92s\tremaining: 39.2ms\n",
      "980:\tlearn: 0.0202255\ttotal: 1.92s\tremaining: 37.2ms\n",
      "981:\tlearn: 0.0201751\ttotal: 1.92s\tremaining: 35.2ms\n",
      "982:\tlearn: 0.0201446\ttotal: 1.92s\tremaining: 33.2ms\n",
      "983:\tlearn: 0.0200971\ttotal: 1.92s\tremaining: 31.3ms\n",
      "984:\tlearn: 0.0200476\ttotal: 1.92s\tremaining: 29.3ms\n",
      "985:\tlearn: 0.0200093\ttotal: 1.92s\tremaining: 27.3ms\n",
      "986:\tlearn: 0.0199559\ttotal: 1.92s\tremaining: 25.3ms\n"
     ]
    },
    {
     "name": "stdout",
     "output_type": "stream",
     "text": [
      "987:\tlearn: 0.0199187\ttotal: 1.92s\tremaining: 23.4ms\n",
      "988:\tlearn: 0.0198699\ttotal: 1.92s\tremaining: 21.4ms\n",
      "989:\tlearn: 0.0197815\ttotal: 1.94s\tremaining: 19.6ms\n",
      "990:\tlearn: 0.0197443\ttotal: 1.95s\tremaining: 17.7ms\n",
      "991:\tlearn: 0.0197150\ttotal: 1.95s\tremaining: 15.7ms\n",
      "992:\tlearn: 0.0196635\ttotal: 1.95s\tremaining: 13.7ms\n",
      "993:\tlearn: 0.0196272\ttotal: 1.95s\tremaining: 11.8ms\n",
      "994:\tlearn: 0.0195771\ttotal: 1.95s\tremaining: 9.79ms\n",
      "995:\tlearn: 0.0195312\ttotal: 1.95s\tremaining: 7.82ms\n",
      "996:\tlearn: 0.0194889\ttotal: 1.95s\tremaining: 5.86ms\n",
      "997:\tlearn: 0.0194558\ttotal: 1.95s\tremaining: 3.91ms\n",
      "998:\tlearn: 0.0194200\ttotal: 1.95s\tremaining: 1.96ms\n",
      "999:\tlearn: 0.0193847\ttotal: 1.96s\tremaining: 0us\n"
     ]
    },
    {
     "data": {
      "text/plain": [
       "<catboost.core.CatBoostRegressor at 0x7fd8ea86b430>"
      ]
     },
     "execution_count": 9,
     "metadata": {},
     "output_type": "execute_result"
    }
   ],
   "source": [
    "#Train the Model \n",
    "prior_model = ctb.CatBoostRegressor()\n",
    "prior_model.fit(X_train,Y_train)"
   ]
  },
  {
   "cell_type": "code",
   "execution_count": 10,
   "id": "af65dcda",
   "metadata": {
    "execution": {
     "iopub.execute_input": "2022-07-27T08:09:04.330585Z",
     "iopub.status.busy": "2022-07-27T08:09:04.328997Z",
     "iopub.status.idle": "2022-07-27T08:09:04.382158Z",
     "shell.execute_reply": "2022-07-27T08:09:04.379917Z"
    },
    "id": "af65dcda",
    "papermill": {
     "duration": 0.077459,
     "end_time": "2022-07-27T08:09:04.392118",
     "exception": false,
     "start_time": "2022-07-27T08:09:04.314659",
     "status": "completed"
    },
    "tags": []
   },
   "outputs": [
    {
     "data": {
      "application/scrapbook.scrap.json+json": {
       "data": 0.45870648637723893,
       "encoder": "json",
       "name": "Prior Model MSE",
       "version": 1
      }
     },
     "metadata": {
      "scrapbook": {
       "data": true,
       "display": false,
       "name": "Prior Model MSE"
      }
     },
     "output_type": "display_data"
    },
    {
     "data": {
      "application/scrapbook.scrap.json+json": {
       "data": 0.4543546470221133,
       "encoder": "json",
       "name": "ABC Pre-generator MSE",
       "version": 1
      }
     },
     "metadata": {
      "scrapbook": {
       "data": true,
       "display": false,
       "name": "ABC Pre-generator MSE"
      }
     },
     "output_type": "display_data"
    },
    {
     "data": {
      "application/scrapbook.scrap.json+json": {
       "data": 0.4214141180494826,
       "encoder": "json",
       "name": "Prior Model MAE",
       "version": 1
      }
     },
     "metadata": {
      "scrapbook": {
       "data": true,
       "display": false,
       "name": "Prior Model MAE"
      }
     },
     "output_type": "display_data"
    },
    {
     "name": "stdout",
     "output_type": "stream",
     "text": [
      "Prior Model MAE 0.4214141180494826\n"
     ]
    },
    {
     "data": {
      "application/scrapbook.scrap.json+json": {
       "data": 0.3886278321970143,
       "encoder": "json",
       "name": "ABC Pre-generator MAE",
       "version": 1
      }
     },
     "metadata": {
      "scrapbook": {
       "data": true,
       "display": false,
       "name": "ABC Pre-generator MAE"
      }
     },
     "output_type": "display_data"
    },
    {
     "name": "stdout",
     "output_type": "stream",
     "text": [
      "ABC Pre-generator MAE 0.3886278321970143\n"
     ]
    }
   ],
   "source": [
    "y_pred = prior_model.predict(X_test)\n",
    "y_abc = y_pred + np.random.normal(0,variance, y_pred.shape) + bias \n",
    "mse = mean_squared_error(y_pred,Y_test)\n",
    "sb.glue(\"Prior Model MSE\",mse)\n",
    "mse = mean_squared_error(y_abc,Y_test)\n",
    "sb.glue(\"ABC Pre-generator MSE\",mse)\n",
    "mae = mean_absolute_error(y_pred,Y_test)\n",
    "sb.glue(\"Prior Model MAE\",mae)\n",
    "print(\"Prior Model MAE\",mae)\n",
    "mae = mean_absolute_error(y_abc,Y_test)\n",
    "sb.glue(\"ABC Pre-generator MAE\",mae)\n",
    "print(\"ABC Pre-generator MAE\",mae)"
   ]
  },
  {
   "cell_type": "markdown",
   "id": "25609da2",
   "metadata": {
    "papermill": {
     "duration": 0.01212,
     "end_time": "2022-07-27T08:09:04.415058",
     "exception": false,
     "start_time": "2022-07-27T08:09:04.402938",
     "status": "completed"
    },
    "tags": []
   },
   "source": [
    "# mGAN Model"
   ]
  },
  {
   "cell_type": "code",
   "execution_count": 11,
   "id": "dfc3464d",
   "metadata": {
    "execution": {
     "iopub.execute_input": "2022-07-27T08:09:04.446105Z",
     "iopub.status.busy": "2022-07-27T08:09:04.445781Z",
     "iopub.status.idle": "2022-07-27T08:09:04.466428Z",
     "shell.execute_reply": "2022-07-27T08:09:04.464775Z"
    },
    "papermill": {
     "duration": 0.054605,
     "end_time": "2022-07-27T08:09:04.481665",
     "exception": false,
     "start_time": "2022-07-27T08:09:04.427060",
     "status": "completed"
    },
    "tags": []
   },
   "outputs": [],
   "source": [
    "gen = network.Generator(n_features+1).to(device)\n",
    "disc = network.DiscriminatorTabnet(n_features+1).to(device)\n",
    "\n",
    "criterion = torch.nn.BCELoss()\n",
    "gen_opt = torch.optim.Adam(gen.parameters(), lr=0.001, betas=(0.5, 0.999))\n",
    "disc_opt = torch.optim.Adam(disc.parameters(), lr=0.001, betas=(0.5, 0.999))"
   ]
  },
  {
   "cell_type": "code",
   "execution_count": 12,
   "id": "b75fdd85",
   "metadata": {
    "execution": {
     "iopub.execute_input": "2022-07-27T08:09:04.505259Z",
     "iopub.status.busy": "2022-07-27T08:09:04.504954Z",
     "iopub.status.idle": "2022-07-27T08:12:49.666395Z",
     "shell.execute_reply": "2022-07-27T08:12:49.663716Z"
    },
    "papermill": {
     "duration": 225.187673,
     "end_time": "2022-07-27T08:12:49.679831",
     "exception": false,
     "start_time": "2022-07-27T08:09:04.492158",
     "status": "completed"
    },
    "tags": []
   },
   "outputs": [
    {
     "data": {
      "image/png": "[encoded data removed]",
      "text/plain": [
       "<Figure size 432x288 with 1 Axes>"
      ]
     },
     "metadata": {
      "needs_background": "light"
     },
     "output_type": "display_data"
    },
    {
     "data": {
      "image/png": "[encoded data removed]",
      "text/plain": [
       "<Figure size 432x288 with 1 Axes>"
      ]
     },
     "metadata": {
      "needs_background": "light"
     },
     "output_type": "display_data"
    }
   ],
   "source": [
    "#Training the ABC_GAN \n",
    "ABC_train_test2.training_GAN(disc,gen,disc_opt,gen_opt,train_data,batch_size,n_epochs,criterion,prior_model,variance,bias,device)"
   ]
  },
  {
   "cell_type": "code",
   "execution_count": 13,
   "id": "1fa7c368",
   "metadata": {
    "execution": {
     "iopub.execute_input": "2022-07-27T08:12:49.812692Z",
     "iopub.status.busy": "2022-07-27T08:12:49.811677Z",
     "iopub.status.idle": "2022-07-27T08:12:50.271058Z",
     "shell.execute_reply": "2022-07-27T08:12:50.270122Z"
    },
    "papermill": {
     "duration": 0.579562,
     "end_time": "2022-07-27T08:12:50.273799",
     "exception": false,
     "start_time": "2022-07-27T08:12:49.694237",
     "status": "completed"
    },
    "tags": []
   },
   "outputs": [
    {
     "data": {
      "application/scrapbook.scrap.json+json": {
       "data": 1.1560166541396617,
       "encoder": "json",
       "name": "ABC-GAN Model 1 MSE",
       "version": 1
      }
     },
     "metadata": {
      "scrapbook": {
       "data": true,
       "display": false,
       "name": "ABC-GAN Model 1 MSE"
      }
     },
     "output_type": "display_data"
    },
    {
     "data": {
      "application/scrapbook.scrap.json+json": {
       "data": 0.8688968098312616,
       "encoder": "json",
       "name": "ABC-GAN Model 1 MAE",
       "version": 1
      }
     },
     "metadata": {
      "scrapbook": {
       "data": true,
       "display": false,
       "name": "ABC-GAN Model 1 MAE"
      }
     },
     "output_type": "display_data"
    },
    {
     "data": {
      "application/scrapbook.scrap.json+json": {
       "data": 17.37793619662523,
       "encoder": "json",
       "name": "ABC-GAN Model 1 Manhattan Distance",
       "version": 1
      }
     },
     "metadata": {
      "scrapbook": {
       "data": true,
       "display": false,
       "name": "ABC-GAN Model 1 Manhattan Distance"
      }
     },
     "output_type": "display_data"
    },
    {
     "data": {
      "application/scrapbook.scrap.json+json": {
       "data": 4.808360731296377,
       "encoder": "json",
       "name": "ABC-GAN Model 1 Euclidean distance",
       "version": 1
      }
     },
     "metadata": {
      "scrapbook": {
       "data": true,
       "display": false,
       "name": "ABC-GAN Model 1 Euclidean distance"
      }
     },
     "output_type": "display_data"
    },
    {
     "data": {
      "application/scrapbook.scrap.json+json": {
       "data": [
        [
         1.1562731330166798,
         1.156007621503957,
         1.1560084740540315,
         1.1559097918209011,
         1.1561142882030482,
         1.1557106796750154,
         1.1560721355616657,
         1.1561744274634245,
         1.1557098516813555,
         1.1564038989747427,
         1.1561515604865125,
         1.1560707349378676,
         1.1563345360159445,
         1.1557727364424815,
         1.1559638788692268,
         1.1560671129671691,
         1.1556994298040124,
         1.156133025061698,
         1.156039618124254,
         1.1558250286281022,
         1.156065371570206,
         1.156250995036389,
         1.1560665964484935,
         1.155890242580027,
         1.1560498877690777,
         1.1560930800514737,
         1.155804738121877,
         1.1560887448932475,
         1.1558915298861838,
         1.1560721502160891,
         1.1560781375767895,
         1.1562059980684884,
         1.1560783324211121,
         1.1559458259009676,
         1.1561209366969838,
         1.1558613927172035,
         1.1561535767140003,
         1.1562707813220419,
         1.1558538092960144,
         1.155816914066476,
         1.1559583561833024,
         1.1560138440438854,
         1.1564493654596835,
         1.15602448304077,
         1.1561685321136888,
         1.156117964084768,
         1.155950550517287,
         1.155748867320137,
         1.1558937327915315,
         1.156146470188342,
         1.1560681546909577,
         1.1561257015036799,
         1.1560507293940323,
         1.1558275156352085,
         1.1557501499952978,
         1.1559944102478072,
         1.1559635778411832,
         1.1563013228829464,
         1.1559719902176917,
         1.1557263804138758,
         1.156433587720196,
         1.1558349903123277,
         1.156084945307191,
         1.1554962578125896,
         1.156083519846465,
         1.1560609243874398,
         1.1562230113255059,
         1.1560116153358204,
         1.1562396350084998,
         1.1558722890104614,
         1.1559627179330934,
         1.1565402538965437,
         1.1559483076785715,
         1.155727573865637,
         1.1560104462731622,
         1.156057424753611,
         1.155946650552435,
         1.1556009857580543,
         1.1560318527668512,
         1.156146518278224,
         1.1562354828065717,
         1.1561325022536917,
         1.1558625697029477,
         1.1557161093521082,
         1.1561002847150135,
         1.1560700650900575,
         1.1558982979573527,
         1.1560412270890377,
         1.1557776356113154,
         1.1560345662548066,
         1.1563274882580585,
         1.1557765663755601,
         1.1558182037876739,
         1.1561677102561898,
         1.1562715678168005,
         1.1561947573931997,
         1.155727009571784,
         1.156152279566818,
         1.1559382375552718,
         1.1557562415179325
        ],
        [
         0.8691540241241456,
         0.868998784199357,
         0.868844872713089,
         0.8689195644110441,
         0.8690245976671577,
         0.8687381327152253,
         0.868893013522029,
         0.8689513662829995,
         0.8688294298946857,
         0.8690542927011847,
         0.8689163953065873,
         0.8687886716797948,
         0.8691072190180421,
         0.8687257971614599,
         0.868936474993825,
         0.868925235979259,
         0.8686676528304815,
         0.8689323801547288,
         0.8689260179176926,
         0.8687934868037701,
         0.8689484404399991,
         0.8690151235088706,
         0.8688738644123077,
         0.8689204756170511,
         0.8689653158187867,
         0.8689382772892713,
         0.868782815337181,
         0.8688710641115904,
         0.8688157077878713,
         0.8689255895093083,
         0.8690312582999468,
         0.8689024109393358,
         0.8687682043761015,
         0.8688776154071093,
         0.8689681198447943,
         0.8688521955162287,
         0.8689759323373437,
         0.8690552677959203,
         0.8688290894031525,
         0.868822418153286,
         0.8689295433461666,
         0.868931918591261,
         0.8690897548571229,
         0.868896945938468,
         0.8689380839467049,
         0.8689475219696761,
         0.8687950059771538,
         0.8687302364036441,
         0.8688364461064338,
         0.8689739394932985,
         0.8689257279038429,
         0.8689262038096786,
         0.8690336072817445,
         0.868801898881793,
         0.8687523726373911,
         0.8689254768192768,
         0.8688578337430954,
         0.8689399313181638,
         0.8688791306689382,
         0.8688051700592041,
         0.8690691966563463,
         0.8688286263495684,
         0.8688711978495121,
         0.8686560889706015,
         0.8688664324581623,
         0.8688140269368887,
         0.8689920492470264,
         0.8689002808183431,
         0.8689951207488775,
         0.8688024047762155,
         0.8689162714406848,
         0.8690341752022505,
         0.8688155192881822,
         0.8687991263344884,
         0.8688917264342308,
         0.8690001400187611,
         0.8688450321555138,
         0.8687458479776978,
         0.8688237462192774,
         0.8689682058990001,
         0.8689988750964404,
         0.8689472055062651,
         0.8687579063698649,
         0.8687931049615145,
         0.8689941488206386,
         0.8689831290394068,
         0.8688524335622787,
         0.8688406232744456,
         0.8688142277300358,
         0.8689355403184891,
         0.869054963067174,
         0.8688338035717607,
         0.8687969731166959,
         0.8689238853752613,
         0.8690065151080489,
         0.8689661715179682,
         0.8687550995498896,
         0.8690261170268059,
         0.8687594529241324,
         0.8688222456723451
        ],
        [
         17.38308048248291,
         17.37997568398714,
         17.37689745426178,
         17.378391288220882,
         17.380491953343153,
         17.374762654304504,
         17.37786027044058,
         17.37902732565999,
         17.376588597893715,
         17.381085854023695,
         17.378327906131744,
         17.375773433595896,
         17.38214438036084,
         17.3745159432292,
         17.3787294998765,
         17.37850471958518,
         17.37335305660963,
         17.378647603094578,
         17.378520358353853,
         17.3758697360754,
         17.378968808799982,
         17.380302470177412,
         17.377477288246155,
         17.378409512341022,
         17.379306316375732,
         17.378765545785427,
         17.375656306743622,
         17.377421282231808,
         17.376314155757427,
         17.378511790186167,
         17.380625165998936,
         17.378048218786716,
         17.37536408752203,
         17.377552308142185,
         17.379362396895885,
         17.377043910324574,
         17.379518646746874,
         17.381105355918407,
         17.37658178806305,
         17.37644836306572,
         17.378590866923332,
         17.378638371825218,
         17.381795097142458,
         17.37793891876936,
         17.378761678934097,
         17.37895043939352,
         17.375900119543076,
         17.37460472807288,
         17.376728922128677,
         17.37947878986597,
         17.37851455807686,
         17.37852407619357,
         17.38067214563489,
         17.37603797763586,
         17.375047452747822,
         17.378509536385536,
         17.377156674861908,
         17.378798626363277,
         17.377582613378763,
         17.376103401184082,
         17.381383933126926,
         17.376572526991367,
         17.377423956990242,
         17.37312177941203,
         17.377328649163246,
         17.376280538737774,
         17.37984098494053,
         17.378005616366863,
         17.37990241497755,
         17.37604809552431,
         17.378325428813696,
         17.38068350404501,
         17.376310385763645,
         17.375982526689768,
         17.377834528684616,
         17.380002800375223,
         17.376900643110275,
         17.374916959553957,
         17.376474924385548,
         17.379364117980003,
         17.379977501928806,
         17.378944110125303,
         17.3751581273973,
         17.37586209923029,
         17.379882976412773,
         17.379662580788136,
         17.377048671245575,
         17.37681246548891,
         17.376284554600716,
         17.37871080636978,
         17.38109926134348,
         17.376676071435213,
         17.375939462333918,
         17.378477707505226,
         17.38013030216098,
         17.379323430359364,
         17.37510199099779,
         17.380522340536118,
         17.375189058482647,
         17.376444913446903
        ],
        [
         4.808894120308078,
         4.808341962681017,
         4.808343735745255,
         4.80813850012851,
         4.808563794321644,
         4.807724367463292,
         4.808476131918855,
         4.8086888596860256,
         4.807722645247655,
         4.809166037838042,
         4.808641305995931,
         4.808473219095366,
         4.809021804932775,
         4.807853442946199,
         4.808250989433116,
         4.808465686613911,
         4.8077009678307,
         4.8086027597664955,
         4.808408506198811,
         4.807962205816727,
         4.808462065089432,
         4.808848084596537,
         4.808464612427742,
         4.808097841309029,
         4.808429863830973,
         4.80851968915897,
         4.807920003747727,
         4.808510673572947,
         4.80810051867925,
         4.808476162395087,
         4.808488614059077,
         4.808754512487591,
         4.808489019268136,
         4.808213443475585,
         4.808577620662858,
         4.8080378382812325,
         4.8086454989196294,
         4.8088892300032064,
         4.808022065872857,
         4.8079453284463955,
         4.808239503567397,
         4.80835490379794,
         4.809260578217161,
         4.8083770298111395,
         4.8086765998841905,
         4.808571438763842,
         4.808223269602373,
         4.807803796579343,
         4.808105100331172,
         4.808630720253619,
         4.808467853050403,
         4.808587529625887,
         4.808431614142042,
         4.807967378498337,
         4.807806464481069,
         4.808314486902468,
         4.808250363367497,
         4.808952740218906,
         4.808267859047979,
         4.807757024671433,
         4.809227771108779,
         4.8079829249121255,
         4.808502771772501,
         4.807278352274994,
         4.808499807313015,
         4.808452816421182,
         4.808789892115283,
         4.808350268721737,
         4.808824461359553,
         4.808060500889026,
         4.808248574965927,
         4.80944956080536,
         4.808218605010739,
         4.807759507017042,
         4.8083478374035336,
         4.8084455383286,
         4.808215158564423,
         4.807496200223261,
         4.808392356634077,
         4.808630820261053,
         4.808815826805123,
         4.808601672531614,
         4.8080402862350216,
         4.807735661103069,
         4.808534672257263,
         4.808471826037993,
         4.80811459505148,
         4.808411852345923,
         4.8078636328650495,
         4.808397999864002,
         4.809007149626748,
         4.807861408933415,
         4.807948010924565,
         4.8086748907702,
         4.8088908655048535,
         4.808731136990713,
         4.807758333302089,
         4.808642801387556,
         4.808197661401352,
         4.807819134530609
        ]
       ],
       "encoder": "json",
       "name": "ABC_GAN_1 Metrics",
       "version": 1
      }
     },
     "metadata": {
      "scrapbook": {
       "data": true,
       "display": false,
       "name": "ABC_GAN_1 Metrics"
      }
     },
     "output_type": "display_data"
    },
    {
     "name": "stdout",
     "output_type": "stream",
     "text": [
      "MAE\n",
      "0.8688968098312616\n"
     ]
    }
   ],
   "source": [
    "ABC_GAN1_metrics=ABC_train_test2.test_generator(gen,test_data,prior_model,variance,bias,\"1\",device)\n",
    "sb.glue(\"ABC_GAN_1 Metrics\",ABC_GAN1_metrics)\n",
    "\n",
    "print(\"MAE\")\n",
    "print(mean(ABC_GAN1_metrics[1]))"
   ]
  },
  {
   "cell_type": "code",
   "execution_count": 14,
   "id": "eb22ce5c",
   "metadata": {
    "execution": {
     "iopub.execute_input": "2022-07-27T08:12:50.312935Z",
     "iopub.status.busy": "2022-07-27T08:12:50.311892Z",
     "iopub.status.idle": "2022-07-27T08:12:52.128582Z",
     "shell.execute_reply": "2022-07-27T08:12:52.126446Z"
    },
    "papermill": {
     "duration": 1.842954,
     "end_time": "2022-07-27T08:12:52.132051",
     "exception": false,
     "start_time": "2022-07-27T08:12:50.289097",
     "status": "completed"
    },
    "tags": []
   },
   "outputs": [
    {
     "data": {
      "image/png": "[encoded data removed]",
      "text/plain": [
       "<Figure size 432x288 with 1 Axes>"
      ]
     },
     "metadata": {
      "needs_background": "light"
     },
     "output_type": "display_data"
    },
    {
     "data": {
      "image/png": "[encoded data removed]",
      "text/plain": [
       "<Figure size 432x288 with 1 Axes>"
      ]
     },
     "metadata": {
      "needs_background": "light"
     },
     "output_type": "display_data"
    },
    {
     "data": {
      "image/png": "[encoded data removed]",
      "text/plain": [
       "<Figure size 432x288 with 1 Axes>"
      ]
     },
     "metadata": {
      "needs_background": "light"
     },
     "output_type": "display_data"
    },
    {
     "data": {
      "image/png": "[encoded data removed]",
      "text/plain": [
       "<Figure size 432x288 with 1 Axes>"
      ]
     },
     "metadata": {
      "needs_background": "light"
     },
     "output_type": "display_data"
    }
   ],
   "source": [
    "sanityChecks.discProbVsError(train_data,disc,device)\n",
    "sanityChecks.discProbVsError(test_data,disc,device)"
   ]
  },
  {
   "cell_type": "markdown",
   "id": "c248a9f5",
   "metadata": {
    "papermill": {
     "duration": 0.021899,
     "end_time": "2022-07-27T08:12:52.176311",
     "exception": false,
     "start_time": "2022-07-27T08:12:52.154412",
     "status": "completed"
    },
    "tags": []
   },
   "source": [
    "# mGAN Model with TabNet Generator"
   ]
  },
  {
   "cell_type": "code",
   "execution_count": 15,
   "id": "cd2d716b",
   "metadata": {
    "execution": {
     "iopub.execute_input": "2022-07-27T08:12:52.220761Z",
     "iopub.status.busy": "2022-07-27T08:12:52.220175Z",
     "iopub.status.idle": "2022-07-27T08:12:52.259813Z",
     "shell.execute_reply": "2022-07-27T08:12:52.258403Z"
    },
    "papermill": {
     "duration": 0.072028,
     "end_time": "2022-07-27T08:12:52.269522",
     "exception": false,
     "start_time": "2022-07-27T08:12:52.197494",
     "status": "completed"
    },
    "tags": []
   },
   "outputs": [],
   "source": [
    "gen2 = network.GeneratorTabnet(n_features+1).to(device)\n",
    "disc2 = network.DiscriminatorTabnet(n_features+1).to(device)\n",
    "\n",
    "criterion = torch.nn.BCELoss()\n",
    "gen_opt = torch.optim.Adam(gen2.parameters(), lr=0.001, betas=(0.5, 0.999))\n",
    "disc_opt = torch.optim.Adam(disc2.parameters(), lr=0.001, betas=(0.5, 0.999))"
   ]
  },
  {
   "cell_type": "code",
   "execution_count": null,
   "id": "d43a7ddc",
   "metadata": {
    "papermill": {
     "duration": null,
     "end_time": null,
     "exception": false,
     "start_time": "2022-07-27T08:12:52.295908",
     "status": "running"
    },
    "tags": []
   },
   "outputs": [],
   "source": [
    "#Training the ABC_GAN \n",
    "ABC_train_test2.training_GAN(disc2,gen2,disc_opt,gen_opt,train_data,batch_size,n_epochs,criterion,prior_model,variance,bias,device)"
   ]
  },
  {
   "cell_type": "code",
   "execution_count": null,
   "id": "db8a5679",
   "metadata": {
    "papermill": {
     "duration": null,
     "end_time": null,
     "exception": null,
     "start_time": null,
     "status": "pending"
    },
    "tags": []
   },
   "outputs": [],
   "source": [
    "ABC_GAN2_metrics=ABC_train_test2.test_generator(gen2,test_data,prior_model,variance,bias,\"1\",device)\n",
    "sb.glue(\"ABC_GAN_2 Metrics\",ABC_GAN2_metrics)\n",
    "\n",
    "print(\"MAE\")\n",
    "print(mean(ABC_GAN2_metrics[1]))"
   ]
  },
  {
   "cell_type": "code",
   "execution_count": null,
   "id": "58182d6b",
   "metadata": {
    "papermill": {
     "duration": null,
     "end_time": null,
     "exception": null,
     "start_time": null,
     "status": "pending"
    },
    "tags": []
   },
   "outputs": [],
   "source": [
    "sanityChecks.discProbVsError(train_data,disc2,device)\n",
    "sanityChecks.discProbVsError(test_data,disc2,device)"
   ]
  },
  {
   "cell_type": "markdown",
   "id": "130f3a4d",
   "metadata": {
    "id": "130f3a4d",
    "papermill": {
     "duration": null,
     "end_time": null,
     "exception": null,
     "start_time": null,
     "status": "pending"
    },
    "tags": []
   },
   "source": [
    "# skipGAN Model"
   ]
  },
  {
   "cell_type": "code",
   "execution_count": null,
   "id": "4e43dad1",
   "metadata": {
    "id": "4e43dad1",
    "papermill": {
     "duration": null,
     "end_time": null,
     "exception": null,
     "start_time": null,
     "status": "pending"
    },
    "tags": []
   },
   "outputs": [],
   "source": [
    "#Generator\n",
    "gen3 = network.GeneratorWithSkipConnection(n_features+1).to(device)\n",
    "constraints=network.weightConstraint()\n",
    "#Discriminator \n",
    "disc3 = network.DiscriminatorTabnet(n_features+1).to(device)\n",
    "\n",
    "criterion = torch.nn.BCELoss()\n",
    "gen_opt = torch.optim.Adam(gen3.parameters(), lr=0.001, betas=(0.5, 0.999))\n",
    "disc_opt = torch.optim.Adam(disc3.parameters(), lr=0.001, betas=(0.5, 0.999))\n"
   ]
  },
  {
   "cell_type": "code",
   "execution_count": null,
   "id": "26acbc37",
   "metadata": {
    "id": "26acbc37",
    "papermill": {
     "duration": null,
     "end_time": null,
     "exception": null,
     "start_time": null,
     "status": "pending"
    },
    "tags": []
   },
   "outputs": [],
   "source": [
    "ABC_train_test2.training_GAN_skip_connection(disc3,gen3,disc_opt,gen_opt,train_data,batch_size,n_epochs,criterion,prior_model,variance,bias,device)"
   ]
  },
  {
   "cell_type": "code",
   "execution_count": null,
   "id": "c5e0717b",
   "metadata": {
    "id": "c5e0717b",
    "papermill": {
     "duration": null,
     "end_time": null,
     "exception": null,
     "start_time": null,
     "status": "pending"
    },
    "tags": []
   },
   "outputs": [],
   "source": [
    "ABC_GAN3_metrics=ABC_train_test2.test_generator(gen3,test_data,prior_model,variance,bias,\"3\",device)\n",
    "sb.glue(\"ABC_GAN_3 Metrics\",ABC_GAN3_metrics)\n",
    "\n",
    "print(\"MAE\")\n",
    "print(mean(ABC_GAN3_metrics[1]))"
   ]
  },
  {
   "cell_type": "code",
   "execution_count": null,
   "id": "c8e46b48",
   "metadata": {
    "id": "c8e46b48",
    "papermill": {
     "duration": null,
     "end_time": null,
     "exception": null,
     "start_time": null,
     "status": "pending"
    },
    "tags": []
   },
   "outputs": [],
   "source": [
    "sanityChecks.discProbVsError(train_data,disc3,device)\n",
    "sanityChecks.discProbVsError(test_data,disc3,device)"
   ]
  },
  {
   "cell_type": "markdown",
   "id": "0fe58e74",
   "metadata": {
    "id": "130f3a4d",
    "papermill": {
     "duration": null,
     "end_time": null,
     "exception": null,
     "start_time": null,
     "status": "pending"
    },
    "tags": []
   },
   "source": [
    "# skipGAN Model with TabNet Generator"
   ]
  },
  {
   "cell_type": "code",
   "execution_count": null,
   "id": "0d0c482f",
   "metadata": {
    "id": "4e43dad1",
    "papermill": {
     "duration": null,
     "end_time": null,
     "exception": null,
     "start_time": null,
     "status": "pending"
    },
    "tags": []
   },
   "outputs": [],
   "source": [
    "#Generator\n",
    "gen4 = network.GeneratorTabnetskipConnection(n_features+1).to(device)\n",
    "constraints=network.weightConstraint()\n",
    "#Discriminator \n",
    "disc4 = network.DiscriminatorTabnet(n_features+1).to(device)\n",
    "\n",
    "criterion = torch.nn.BCELoss()\n",
    "gen_opt = torch.optim.Adam(gen4.parameters(), lr=0.001, betas=(0.5, 0.999))\n",
    "disc_opt = torch.optim.Adam(disc4.parameters(), lr=0.001, betas=(0.5, 0.999))\n"
   ]
  },
  {
   "cell_type": "code",
   "execution_count": null,
   "id": "2b39d78e",
   "metadata": {
    "id": "26acbc37",
    "papermill": {
     "duration": null,
     "end_time": null,
     "exception": null,
     "start_time": null,
     "status": "pending"
    },
    "tags": []
   },
   "outputs": [],
   "source": [
    "ABC_train_test2.training_GAN_skip_connection(disc4,gen4,disc_opt,gen_opt,train_data,batch_size,n_epochs,criterion,prior_model,variance,bias,device)"
   ]
  },
  {
   "cell_type": "code",
   "execution_count": null,
   "id": "c72596cc",
   "metadata": {
    "id": "c5e0717b",
    "papermill": {
     "duration": null,
     "end_time": null,
     "exception": null,
     "start_time": null,
     "status": "pending"
    },
    "tags": []
   },
   "outputs": [],
   "source": [
    "ABC_GAN4_metrics=ABC_train_test2.test_generator(gen4,test_data,prior_model,variance,bias,\"3\",device)\n",
    "sb.glue(\"ABC_GAN_4 Metrics\",ABC_GAN4_metrics)\n",
    "\n",
    "print(\"MAE\")\n",
    "print(mean(ABC_GAN4_metrics[1]))"
   ]
  },
  {
   "cell_type": "code",
   "execution_count": null,
   "id": "73252781",
   "metadata": {
    "id": "c8e46b48",
    "papermill": {
     "duration": null,
     "end_time": null,
     "exception": null,
     "start_time": null,
     "status": "pending"
    },
    "tags": []
   },
   "outputs": [],
   "source": [
    "sanityChecks.discProbVsError(train_data,disc4,device)\n",
    "sanityChecks.discProbVsError(test_data,disc4,device)"
   ]
  },
  {
   "cell_type": "markdown",
   "id": "a5bd74c3",
   "metadata": {
    "id": "a5bd74c3",
    "papermill": {
     "duration": null,
     "end_time": null,
     "exception": null,
     "start_time": null,
     "status": "pending"
    },
    "tags": []
   },
   "source": [
    "## Skip Connection Model Analysis - ABC-GAN "
   ]
  },
  {
   "cell_type": "markdown",
   "id": "5744a8bf",
   "metadata": {
    "id": "5744a8bf",
    "papermill": {
     "duration": null,
     "end_time": null,
     "exception": null,
     "start_time": null,
     "status": "pending"
    },
    "tags": []
   },
   "source": [
    "### Weight Analysis \n",
    "\n",
    "Study the weights of the skip connection layer\n",
    "\n",
    "Equation of the skip connection is \n",
    "\n",
    "$output = y_{gan} * w + y_{abc} * (1-w)$"
   ]
  },
  {
   "cell_type": "code",
   "execution_count": null,
   "id": "52c31dea",
   "metadata": {
    "id": "52c31dea",
    "papermill": {
     "duration": null,
     "end_time": null,
     "exception": null,
     "start_time": null,
     "status": "pending"
    },
    "tags": []
   },
   "outputs": [],
   "source": [
    "print(\"Weight of the node at skip connection\")\n",
    "for name,param in gen3.named_parameters():\n",
    "    if(name == \"skipNode.weight\"):\n",
    "        print(param)\n",
    "        sb.glue(\"Skip Connection Weight\",param.item())"
   ]
  },
  {
   "cell_type": "markdown",
   "id": "9f7cf3bd",
   "metadata": {
    "id": "a5bd74c3",
    "papermill": {
     "duration": null,
     "end_time": null,
     "exception": null,
     "start_time": null,
     "status": "pending"
    },
    "tags": []
   },
   "source": [
    "## skipGAN Model Analysis (TabNet Generator) "
   ]
  },
  {
   "cell_type": "markdown",
   "id": "d5ce4f0f",
   "metadata": {
    "id": "5744a8bf",
    "papermill": {
     "duration": null,
     "end_time": null,
     "exception": null,
     "start_time": null,
     "status": "pending"
    },
    "tags": []
   },
   "source": [
    "### Weight Analysis \n",
    "\n",
    "Study the weights of the skip connection layer\n",
    "\n",
    "Equation of the skip connection is \n",
    "\n",
    "$output = y_{gan} * w + y_{abc} * (1-w)$"
   ]
  },
  {
   "cell_type": "code",
   "execution_count": null,
   "id": "3563a30f",
   "metadata": {
    "id": "52c31dea",
    "papermill": {
     "duration": null,
     "end_time": null,
     "exception": null,
     "start_time": null,
     "status": "pending"
    },
    "tags": []
   },
   "outputs": [],
   "source": [
    "print(\"Weight of the node at skip connection\")\n",
    "for name,param in gen4.named_parameters():\n",
    "    if(name == \"skipNode.weight\"):\n",
    "        print(param)\n",
    "        sb.glue(\"Skip Connection Weight\",param.item())"
   ]
  }
 ],
 "metadata": {
  "colab": {
   "collapsed_sections": [],
   "name": "ABC_GAN_Model-Catboost_Pre-gen.ipynb",
   "provenance": []
  },
  "interpreter": {
   "hash": "31f2aee4e71d21fbe5cf8b01ff0e069b9275f58929596ceb00d14d90e3e16cd6"
  },
  "kernelspec": {
   "display_name": "Python 3 (ipykernel)",
   "language": "python",
   "name": "python3"
  },
  "language_info": {
   "codemirror_mode": {
    "name": "ipython",
    "version": 3
   },
   "file_extension": ".py",
   "mimetype": "text/x-python",
   "name": "python",
   "nbconvert_exporter": "python",
   "pygments_lexer": "ipython3",
   "version": "3.8.9"
  },
  "papermill": {
   "default_parameters": {},
   "duration": null,
   "end_time": null,
   "environment_variables": {},
   "exception": null,
   "input_path": "ABC_GAN-Catboost.ipynb",
   "output_path": "./ABC_GAN_Catboost/ABC-GAN_output_1_6.ipynb",
   "parameters": {
    "bias": 0.1,
    "variance": 0.01
   },
   "start_time": "2022-07-27T08:08:37.970472",
   "version": "2.3.3"
  }
 },
 "nbformat": 4,
 "nbformat_minor": 5
}